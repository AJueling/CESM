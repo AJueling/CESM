{
 "cells": [
  {
   "cell_type": "code",
   "execution_count": null,
   "metadata": {},
   "outputs": [],
   "source": [
    "import sys\n",
    "sys.path.append(\"..\")\n",
    "import numpy as np\n",
    "import xarray as xr\n",
    "import matplotlib.pyplot as plt\n",
    "import cmocean"
   ]
  },
  {
   "cell_type": "code",
   "execution_count": null,
   "metadata": {},
   "outputs": [],
   "source": [
    "%matplotlib inline\n",
    "%config InlineBackend.print_figure_kwargs={'bbox_inches':None}\n",
    "%load_ext autoreload\n",
    "%autoreload 2\n",
    "%aimport - numpy - matplotlib.pyplot"
   ]
  },
  {
   "cell_type": "code",
   "execution_count": null,
   "metadata": {},
   "outputs": [],
   "source": [
    "from paths import path_samoc, file_ex_ocn_ctrl\n",
    "from regions import WGKP_area, sinking_area\n",
    "from timeseries import IterateOutputCESM\n",
    "from xr_DataArrays import xr_DZ"
   ]
  },
  {
   "cell_type": "code",
   "execution_count": null,
   "metadata": {},
   "outputs": [],
   "source": [
    "DZT = xr_DZ('ocn')"
   ]
  },
  {
   "cell_type": "code",
   "execution_count": null,
   "metadata": {},
   "outputs": [],
   "source": [
    "# %%time\n",
    "# # stacking files into one xr Dataset object\n",
    "# for run in ['rcp']: #['ctrl', 'rcp']:\n",
    "#     for i, (y,m,s) in enumerate(IterateOutputCESM('ocn', run, 'monthly')):\n",
    "#         if i==0:\n",
    "#             start_year = y\n",
    "            \n",
    "#         da = xr.open_dataset(s, decode_times=False).XMXL[0,:,:]/100.\n",
    "#         if m==1:\n",
    "#             print(y)\n",
    "#             da_new = da.copy()\n",
    "#         else:\n",
    "#             da_new = xr.where(da>da_new, da, da_new)\n",
    "            \n",
    "#         if m==12:\n",
    "#             if y==start_year:\n",
    "#                 da_max = da_new.copy()\n",
    "#             else:\n",
    "#                 da_max = xr.concat([da_new, da_max], dim='time')\n",
    "                \n",
    "# #         if y==start_year+2: break\n",
    "#     da_max.to_netcdf(f'{path_samoc}/MXL/XMXL_yrly_{run}.nc')\n",
    "# # 69 min"
   ]
  },
  {
   "cell_type": "code",
   "execution_count": null,
   "metadata": {},
   "outputs": [],
   "source": [
    "ctrl_XMXL = xr.open_dataarray(f'{path_samoc}/MXL/XMXL_yrly_ctrl.nc', decode_times=False)/10\n",
    "rcp_XMXL  = xr.open_dataarray(f'{path_samoc}/MXL/XMXL_yrly_rcp.nc' , decode_times=False)/10"
   ]
  },
  {
   "cell_type": "markdown",
   "metadata": {},
   "source": [
    "# WGKP region\n",
    "[90◦S, 50◦S] × [35◦W, 80◦E]"
   ]
  },
  {
   "cell_type": "code",
   "execution_count": null,
   "metadata": {},
   "outputs": [],
   "source": [
    "ctrl_XMXL_mean = ctrl_XMXL.sel(WGKP_area).where(ctrl_XMXL.sel(WGKP_area)>0).mean(dim='time')\n",
    "rcp_XMXL_mean  = rcp_XMXL.sel( WGKP_area).where(rcp_XMXL.sel( WGKP_area)>0).mean(dim='time')\n",
    "\n",
    "ctrl_XMXL_max = ctrl_XMXL.sel(WGKP_area).where(ctrl_XMXL.sel(WGKP_area)>0).max(dim='time')\n",
    "rcp_XMXL_max  = rcp_XMXL.sel( WGKP_area).where(rcp_XMXL.sel( WGKP_area)>0).max(dim='time')"
   ]
  },
  {
   "cell_type": "code",
   "execution_count": null,
   "metadata": {},
   "outputs": [],
   "source": [
    "f, ax = plt.subplots(3, 2, figsize=(12,12))\n",
    "\n",
    "DZT.sum(dim='z_t').sel(WGKP_area).plot(cmap=cmocean.cm.deep, ax=ax[0,0])\n",
    "\n",
    "(ctrl_XMXL.sel(sinking_area).mean(dim=('nlat', 'nlon'))*(-1e-3)).plot(ax=ax[0,1], c='C0', label='CTRL')\n",
    "(rcp_XMXL.sel( sinking_area).mean(dim=('nlat', 'nlon'))*(-1e-3)).plot(ax=ax[0,1], c='C1', label='RCP')\n",
    "\n",
    "# (ctrl_XMXL.sel(sinking_area).max(dim=('nlat', 'nlon'))*(-1e-3)).plot(ax=ax[0,1], c='C0', ls='--', lw=1)\n",
    "# (rcp_XMXL.sel( sinking_area).max(dim=('nlat', 'nlon'))*(-1e-3)).plot(ax=ax[0,1], c='C1', ls='--', lw=1)\n",
    "\n",
    "(ctrl_XMXL.sel(WGKP_area).max(dim=('nlat', 'nlon'))*(-1e-3)).plot(ax=ax[0,1], c='C0', ls=':', lw=1)\n",
    "(rcp_XMXL.sel( WGKP_area).max(dim=('nlat', 'nlon'))*(-1e-3)).plot(ax=ax[0,1], c='C1', ls=':', lw=1)\n",
    "ax[0,1].set_ylim((-6,0))\n",
    "ax[0,1].legend()\n",
    "\n",
    "ctrl_XMXL_mean.plot(ax=ax[1,0], vmax=1200)\n",
    "rcp_XMXL_mean.plot( ax=ax[1,1], vmax=1200)\n",
    "\n",
    "ctrl_XMXL_max.plot(ax=ax[2,0], vmax=5200)\n",
    "rcp_XMXL_max.plot( ax=ax[2,1], vmax=5200)\n",
    "\n",
    "plt.tight_layout()"
   ]
  },
  {
   "cell_type": "code",
   "execution_count": null,
   "metadata": {},
   "outputs": [],
   "source": []
  }
 ],
 "metadata": {
  "kernelspec": {
   "display_name": "Python 3",
   "language": "python",
   "name": "python3"
  },
  "language_info": {
   "codemirror_mode": {
    "name": "ipython",
    "version": 3
   },
   "file_extension": ".py",
   "mimetype": "text/x-python",
   "name": "python",
   "nbconvert_exporter": "python",
   "pygments_lexer": "ipython3",
   "version": "3.6.6"
  }
 },
 "nbformat": 4,
 "nbformat_minor": 2
}
