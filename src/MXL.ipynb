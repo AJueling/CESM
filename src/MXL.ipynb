{
 "cells": [
  {
   "cell_type": "code",
   "execution_count": null,
   "metadata": {},
   "outputs": [],
   "source": [
    "import sys\n",
    "sys.path.append(\"..\")\n",
    "import numpy as np\n",
    "import xarray as xr\n",
    "import matplotlib.pyplot as plt"
   ]
  },
  {
   "cell_type": "code",
   "execution_count": null,
   "metadata": {},
   "outputs": [],
   "source": [
    "%matplotlib inline\n",
    "%config InlineBackend.print_figure_kwargs={'bbox_inches':None}\n",
    "%load_ext autoreload\n",
    "%autoreload 2\n",
    "%aimport - numpy - matplotlib.pyplot"
   ]
  },
  {
   "cell_type": "code",
   "execution_count": null,
   "metadata": {},
   "outputs": [],
   "source": [
    "from paths import path_samoc, file_ex_ocn_ctrl\n",
    "from timeseries import IterateOutputCESM"
   ]
  },
  {
   "cell_type": "code",
   "execution_count": null,
   "metadata": {},
   "outputs": [],
   "source": [
    "%%time\n",
    "# stacking files into one xr Dataset object\n",
    "for run in ['ctrl', 'rcp']:\n",
    "    for i, (y,m,s) in enumerate(IterateOutputCESM('ocn', run, 'monthly')):\n",
    "        if i==0:\n",
    "            start_year = y\n",
    "            \n",
    "        da = xr.open_dataset(s, decode_times=False).XMXL[0,:,:]\n",
    "        if m==1:\n",
    "            print(y)\n",
    "            da_new = da.copy()\n",
    "        else:\n",
    "            da_new = da.where(da>da_new)\n",
    "            \n",
    "        if m==12:\n",
    "            if y==start_year:\n",
    "                da_max = da_new.copy()\n",
    "            else:\n",
    "                da_max = xr.concat([da_new, da_max], dim='time')\n",
    "                \n",
    "#         if y==start_year+2: break\n",
    "    da_max.to_netcdf(f'{path_samoc}/MXL/XMXL_yrly_{run}.nc')\n",
    "# 8 min"
   ]
  },
  {
   "cell_type": "code",
   "execution_count": null,
   "metadata": {},
   "outputs": [],
   "source": [
    "# 22:34 start"
   ]
  },
  {
   "cell_type": "code",
   "execution_count": null,
   "metadata": {},
   "outputs": [],
   "source": [
    "da_max"
   ]
  },
  {
   "cell_type": "code",
   "execution_count": null,
   "metadata": {},
   "outputs": [],
   "source": []
  },
  {
   "cell_type": "code",
   "execution_count": null,
   "metadata": {},
   "outputs": [],
   "source": []
  },
  {
   "cell_type": "code",
   "execution_count": null,
   "metadata": {},
   "outputs": [],
   "source": [
    "ds = xr.open_dataset(file_ex_ocn_ctrl, decode_times=False)"
   ]
  },
  {
   "cell_type": "code",
   "execution_count": null,
   "metadata": {},
   "outputs": [],
   "source": [
    "np.log(ds.XMXL.where(ds.REGION_MASK>0)).plot(vmin=6, vmax=10)"
   ]
  },
  {
   "cell_type": "code",
   "execution_count": null,
   "metadata": {},
   "outputs": [],
   "source": [
    "ds.XMXL"
   ]
  },
  {
   "cell_type": "code",
   "execution_count": null,
   "metadata": {},
   "outputs": [],
   "source": []
  }
 ],
 "metadata": {
  "kernelspec": {
   "display_name": "Python 3",
   "language": "python",
   "name": "python3"
  },
  "language_info": {
   "codemirror_mode": {
    "name": "ipython",
    "version": 3
   },
   "file_extension": ".py",
   "mimetype": "text/x-python",
   "name": "python",
   "nbconvert_exporter": "python",
   "pygments_lexer": "ipython3",
   "version": "3.6.6"
  }
 },
 "nbformat": 4,
 "nbformat_minor": 2
}
