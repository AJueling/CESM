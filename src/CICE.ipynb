{
 "cells": [
  {
   "cell_type": "code",
   "execution_count": null,
   "metadata": {},
   "outputs": [],
   "source": [
    "import sys\n",
    "sys.path.append(\"..\")\n",
    "import numpy as np\n",
    "import xarray as xr\n",
    "import cmocean\n",
    "import cartopy\n",
    "import cartopy.crs as ccrs\n",
    "import matplotlib.pyplot as plt"
   ]
  },
  {
   "cell_type": "code",
   "execution_count": null,
   "metadata": {},
   "outputs": [],
   "source": [
    "%matplotlib inline\n",
    "%config InlineBackend.print_figure_kwargs={'bbox_inches':None}\n",
    "%load_ext autoreload\n",
    "%autoreload 2\n",
    "%aimport - numpy - matplotlib.pyplot"
   ]
  },
  {
   "cell_type": "code",
   "execution_count": null,
   "metadata": {},
   "outputs": [],
   "source": [
    "from grid import generate_lats_lons\n",
    "from paths import path_results, path_samoc, file_ex_ice_rcp, file_ex_ice_yrly, file_ex_ocn_rcp\n",
    "from plotting import discrete_cmap, view_colormap\n",
    "from timeseries import IterateOutputCESM\n",
    "from xr_DataArrays import xr_AREA"
   ]
  },
  {
   "cell_type": "code",
   "execution_count": null,
   "metadata": {},
   "outputs": [],
   "source": [
    "MASK = xr.open_dataset(file_ex_ocn_rcp, decode_times=False).REGION_MASK"
   ]
  },
  {
   "cell_type": "code",
   "execution_count": null,
   "metadata": {},
   "outputs": [],
   "source": [
    "# %%time\n",
    "# # stacking files into one xr Dataset object\n",
    "# for run in ['ctrl', 'rcp']:\n",
    "#     for i, (y,m,s) in enumerate(IterateOutputCESM('ice', run, 'monthly')):\n",
    "#         if i==0:\n",
    "#             print(i,m,y,s)\n",
    "#             start_year = y\n",
    "#             tarea = xr.open_dataset(s, decode_times=False).tarea[:,:]\n",
    "            \n",
    "#         if m==3:  # March Arctic max, Antarctic min\n",
    "#             da = xr.open_dataset(s, decode_times=False).aice[0,:,:]\n",
    "#             if y==start_year:\n",
    "#                 da1_new = da.copy()\n",
    "#             else:\n",
    "#                 da1_new = xr.concat([da1_new, da], dim='time')\n",
    "                \n",
    "#         elif m==9:  # September Arctic min, Antartis max\n",
    "#             da = xr.open_dataset(s, decode_times=False).aice[0,:,:]\n",
    "#             if y==start_year:\n",
    "#                 da2_new = da.copy()\n",
    "#             else:\n",
    "#                 da2_new = xr.concat([da2_new, da], dim='time')\n",
    "\n",
    "#     da1_new = xr.merge([da1_new, tarea]) \n",
    "#     da2_new = xr.merge([da2_new, tarea]) \n",
    "                \n",
    "#     da1_new.to_netcdf(f'{path_samoc}/CICE/CICE_Mar_{run}.nc')\n",
    "#     da2_new.to_netcdf(f'{path_samoc}/CICE/CICE_Sep_{run}.nc')\n",
    "    \n",
    "# # 8 min"
   ]
  },
  {
   "cell_type": "code",
   "execution_count": null,
   "metadata": {},
   "outputs": [],
   "source": [
    "ctrl_M = xr.open_dataset(f'{path_samoc}/CICE/CICE_Mar_ctrl_.nc', decode_times=False)\n",
    "ctrl_S = xr.open_dataset(f'{path_samoc}/CICE/CICE_Sep_ctrl_.nc', decode_times=False)\n",
    "rcp_M  = xr.open_dataset(f'{path_samoc}/CICE/CICE_Mar_rcp.nc' , decode_times=False)\n",
    "rcp_S  = xr.open_dataset(f'{path_samoc}/CICE/CICE_Sep_rcp.nc' , decode_times=False)"
   ]
  },
  {
   "cell_type": "code",
   "execution_count": null,
   "metadata": {},
   "outputs": [],
   "source": [
    "# %%time\n",
    "# # ca. 3:30 min\n",
    "# ctrl_Arctic_max    = (ctrl_M.tarea*ctrl_M.aice).where(ctrl_M.nj>1200).sum(dim=('ni', 'nj'))\n",
    "# ctrl_Arctic_min    = (ctrl_S.tarea*ctrl_S.aice).where(ctrl_S.nj>1200).sum(dim=('ni', 'nj'))\n",
    "# ctrl_Antarctic_min = (ctrl_M.tarea*ctrl_M.aice).where(ctrl_M.nj<1200).sum(dim=('ni', 'nj'))\n",
    "# ctrl_Antarctic_max = (ctrl_S.tarea*ctrl_S.aice).where(ctrl_S.nj<1200).sum(dim=('ni', 'nj'))\n",
    "\n",
    "# rcp_Arctic_max     = (rcp_M.tarea *rcp_M.aice ).where(rcp_M.nj >1200).sum(dim=('ni', 'nj'))\n",
    "# rcp_Arctic_min     = (rcp_S.tarea *rcp_S.aice ).where(rcp_S.nj >1200).sum(dim=('ni', 'nj'))\n",
    "# rcp_Antarctic_min  = (rcp_M.tarea *rcp_M.aice ).where(rcp_M.nj <1200).sum(dim=('ni', 'nj'))\n",
    "# rcp_Antarctic_max  = (rcp_S.tarea *rcp_S.aice ).where(rcp_S.nj <1200).sum(dim=('ni', 'nj'))\n",
    "\n",
    "# ctrl_aice = xr.merge([{'Arctic_max'   : ctrl_Arctic_max, \n",
    "#                        'Arctic_min'   : ctrl_Arctic_min,\n",
    "#                        'Antarctic_max': ctrl_Antarctic_max, \n",
    "#                        'Antarctic_min': ctrl_Antarctic_min }])\n",
    "# rcp_aice  = xr.merge([{'Arctic_max'   : rcp_Arctic_max, \n",
    "#                        'Arctic_min'   : rcp_Arctic_min,\n",
    "#                        'Antarctic_max': rcp_Antarctic_max, \n",
    "#                        'Antarctic_min': rcp_Antarctic_min }])\n",
    "\n",
    "# ctrl_aice.to_netcdf(f'{path_results}/CICE/CICE_timeseries_ctrl.nc')\n",
    "# rcp_aice.to_netcdf( f'{path_results}/CICE/CICE_timeseries_rcp.nc' )"
   ]
  },
  {
   "cell_type": "code",
   "execution_count": null,
   "metadata": {},
   "outputs": [],
   "source": [
    "ctrl_aice = xr.open_dataset(f'{path_results}/CICE/CICE_timeseries_ctrl.nc', decode_times=False)\n",
    "rcp_aice  = xr.open_dataset(f'{path_results}/CICE/CICE_timeseries_rcp.nc' , decode_times=False)"
   ]
  },
  {
   "cell_type": "code",
   "execution_count": null,
   "metadata": {},
   "outputs": [],
   "source": [
    "f, ax = plt.subplots(1, 2, figsize=(16,5))\n",
    "\n",
    "ax[0].plot(ctrl_aice.time[0::2]/365    , ctrl_aice.Arctic_max.dropna(dim='time')/1e14   , c='C0', lw=2, ls='--', label='Arctic CTRL')\n",
    "ax[0].plot(rcp_aice.time[0::2]/365-1800, rcp_aice.Arctic_max.dropna(dim='time') /1e14   , c='C1', lw=2, ls='--', label='Arctic RCP')\n",
    "ax[0].plot(ctrl_aice.time[0::2]/365    , ctrl_aice.Antarctic_max.dropna(dim='time')/1e14, c='C0', lw=2, ls='-' , label='Antarctic CTRL')\n",
    "ax[0].plot(rcp_aice.time[0::2]/365-1800, rcp_aice.Antarctic_max.dropna(dim='time') /1e14, c='C1', lw=2, ls='-' , label='Antarctic RCP')\n",
    "ax[0].text(.02,.93, 'max extent', ha='left', transform=ax[0].transAxes, fontsize=16)\n",
    "\n",
    "ax[1].axhline(0, c='k', lw=.5)\n",
    "ax[1].plot(ctrl_aice.time[0::2]/365    , ctrl_aice.Arctic_min.dropna(dim='time')/1e14   , c='C0', lw=2, ls='--', label='Arctic CTRL')\n",
    "ax[1].plot(rcp_aice.time[0::2]/365-1800, rcp_aice.Arctic_min.dropna(dim='time') /1e14   , c='C1', lw=2, ls='--', label='Arctic RCP')\n",
    "ax[1].plot(ctrl_aice.time[0::2]/365    , ctrl_aice.Antarctic_min.dropna(dim='time')/1e14, c='C0', lw=2, ls='-' , label='Antarctic CTRL')\n",
    "ax[1].plot(rcp_aice.time[0::2]/365-1800, rcp_aice.Antarctic_min.dropna(dim='time') /1e14, c='C1', lw=2, ls='-' , label='Antarctic RCP')\n",
    "ax[1].text(.02,.93, 'min extent', ha='left', transform=ax[1].transAxes, fontsize=16)\n",
    "ax[1].set_ylim((-.1,3.1))\n",
    "\n",
    "for i in range(2):\n",
    "    ax[i].tick_params(labelsize=14)\n",
    "    ax[i].set_xlabel('time [years]', fontsize=16)\n",
    "    ax[i].set_ylabel('Sea Ice area [10$^6$ km$^2$]', fontsize=16)\n",
    "    ax[i].legend(fontsize=16, ncol=2, frameon=False)\n",
    "\n",
    "plt.tight_layout()\n",
    "plt.savefig(f'{path_results}/CICE/CICE_areas_timeseries')"
   ]
  },
  {
   "cell_type": "markdown",
   "metadata": {},
   "source": [
    "# Polynya area\n",
    "CESM polynya region of Rene: 63.5-66.5 S x 2-11 E"
   ]
  },
  {
   "cell_type": "code",
   "execution_count": null,
   "metadata": {},
   "outputs": [],
   "source": [
    "pa = rcp_S.tarea.where(rcp_S.tarea<1e11)  # polynya sea ice area\n",
    "pa = pa.where(pa.TLAT>-66.5)\n",
    "pa = pa.where(pa.TLAT<-63.5)\n",
    "pa = pa.where(pa.TLON>3    )\n",
    "pa = pa.where(pa.TLON<11   )\n",
    "pa_full = pa.sum(dim=('ni','nj'))"
   ]
  },
  {
   "cell_type": "code",
   "execution_count": null,
   "metadata": {},
   "outputs": [],
   "source": [
    "pa.plot()"
   ]
  },
  {
   "cell_type": "code",
   "execution_count": null,
   "metadata": {},
   "outputs": [],
   "source": [
    "ctrl_polynya_aice = (pa*rcp_S.aice ).sum(dim=('ni','nj'))\n",
    "rcp_polynya_aice  = (pa*ctrl_S.aice).sum(dim=('ni','nj'))"
   ]
  },
  {
   "cell_type": "code",
   "execution_count": null,
   "metadata": {},
   "outputs": [],
   "source": [
    "f = plt.figure(figsize=(8,5))\n",
    "ax = f.add_axes([0.13,0.13,.85,.85])\n",
    "plt.tick_params(labelsize=14)\n",
    "\n",
    "plt.plot(ctrl_polynya_aice/pa_full, lw=2, label='CTRL')\n",
    "plt.plot(rcp_polynya_aice /pa_full, lw=2, label='RCP')\n",
    "plt.ylim((0,100))\n",
    "\n",
    "plt.text(.02,.95, r'[63.5,66.5$^\\circ$S]$\\times$[3,11$^\\circ$E] during max extent', ha='left',transform=ax.transAxes, fontsize=16)\n",
    "plt.xlabel('time [years]', fontsize=16)\n",
    "plt.ylabel('Sea Ice cover [%]', fontsize=16)\n",
    "plt.legend(fontsize=16, ncol=2)\n",
    "plt.savefig(f'{path_results}/CICE/CICE_cover_polynya_region')"
   ]
  },
  {
   "cell_type": "markdown",
   "metadata": {},
   "source": [
    "# Sea ice MXL plot"
   ]
  },
  {
   "cell_type": "code",
   "execution_count": null,
   "metadata": {},
   "outputs": [],
   "source": [
    "aice = xr.open_dataset(file_ex_ice_rcp, decode_times=False).aice[0,:,:]\n",
    "XMXL = xr.open_dataset(file_ex_ocn_rcp, decode_times=False).XMXL[0,:,:]"
   ]
  },
  {
   "cell_type": "code",
   "execution_count": null,
   "metadata": {},
   "outputs": [],
   "source": [
    "lats, lons = generate_lats_lons('ocn')"
   ]
  },
  {
   "cell_type": "code",
   "execution_count": null,
   "metadata": {},
   "outputs": [],
   "source": [
    "ax = plt.subplot(1,1,1, projection=ccrs.Orthographic(central_longitude=0, central_latitude=90))\n",
    "ax.pcolormesh(lons, lats, aice,\n",
    "              cmap=cmocean.cm.ice, vmin=0, vmax=100,\n",
    "              transform=ccrs.PlateCarree() )"
   ]
  },
  {
   "cell_type": "code",
   "execution_count": null,
   "metadata": {},
   "outputs": [],
   "source": [
    "%%time\n",
    "CICE_XMXL_plots(aice, XMXL, lons, lats, MASK, 'rcp', 0)"
   ]
  },
  {
   "cell_type": "code",
   "execution_count": null,
   "metadata": {},
   "outputs": [],
   "source": []
  },
  {
   "cell_type": "code",
   "execution_count": null,
   "metadata": {},
   "outputs": [],
   "source": [
    "view_colormap( cmocean.cm.balance)"
   ]
  },
  {
   "cell_type": "code",
   "execution_count": null,
   "metadata": {},
   "outputs": [],
   "source": [
    "view_colormap(discrete_cmap(7, cmocean.cm.balance))"
   ]
  },
  {
   "cell_type": "code",
   "execution_count": null,
   "metadata": {},
   "outputs": [],
   "source": []
  }
 ],
 "metadata": {
  "kernelspec": {
   "display_name": "Python 3",
   "language": "python",
   "name": "python3"
  },
  "language_info": {
   "codemirror_mode": {
    "name": "ipython",
    "version": 3
   },
   "file_extension": ".py",
   "mimetype": "text/x-python",
   "name": "python",
   "nbconvert_exporter": "python",
   "pygments_lexer": "ipython3",
   "version": "3.6.6"
  }
 },
 "nbformat": 4,
 "nbformat_minor": 2
}
