{
 "cells": [
  {
   "cell_type": "markdown",
   "metadata": {},
   "source": [
    "# Meridonal Overturning Circulation\n",
    "- calculations may be improved by taking partial bottom cells\n",
    "- possibly SSH adds accuracy, but it is centered on the T-grid"
   ]
  },
  {
   "cell_type": "code",
   "execution_count": null,
   "metadata": {},
   "outputs": [],
   "source": [
    "import sys\n",
    "sys.path.append(\"..\")\n",
    "import numpy as np\n",
    "import xarray as xr\n",
    "import matplotlib.pyplot as plt"
   ]
  },
  {
   "cell_type": "code",
   "execution_count": null,
   "metadata": {},
   "outputs": [],
   "source": [
    "%matplotlib inline\n",
    "%config InlineBackend.print_figure_kwargs={'bbox_inches':None}\n",
    "%load_ext autoreload\n",
    "%autoreload 2\n",
    "%aimport - numpy - matplotlib.pyplot"
   ]
  },
  {
   "cell_type": "code",
   "execution_count": null,
   "metadata": {},
   "outputs": [],
   "source": [
    "from MOC import calculate_MOC, AMOC_max, approx_lats\n",
    "from grid import create_tdepth\n",
    "from regions import Atlantic_mask, boolean_mask\n",
    "from paths import file_ex_ocn_ctrl, path_results\n",
    "from timeseries import IterateOutputCESM\n",
    "from xr_DataArrays import xr_DZ, xr_DXU"
   ]
  },
  {
   "cell_type": "code",
   "execution_count": null,
   "metadata": {},
   "outputs": [],
   "source": [
    "# %%time\n",
    "# # ca 20 sec per file\n",
    "# # 50 min for ctrl\n",
    "# DXU  = xr_DXU('ocn')            # [m]\n",
    "# DZU  = xr_DZ('ocn', grid='U')   # [m]\n",
    "# # MASK = Atlantic_mask('ocn')     # Atlantic\n",
    "# MASK = boolean_mask('ocn', 2)   # Pacific\n",
    "# # MASK = boolean_mask('ocn', 0)   # Global OCean\n",
    "\n",
    "# for run in ['ctrl']:#, 'rcp']:\n",
    "#     for i, (y,m,s) in enumerate(IterateOutputCESM(domain='ocn', run=run, tavg='yrly', name='UVEL_VVEL')):\n",
    "#         # ca. 20 sec per year\n",
    "#         print(i, y, s)\n",
    "#         ds = xr.open_dataset(s, decode_times=False)\n",
    "#         MOC = calculate_MOC(ds=ds, DXU=DXU, DZU=DZU, MASK=MASK)\n",
    "#         if i==0:\n",
    "#             MOC_out = MOC.copy()\n",
    "#         else:\n",
    "#             MOC_out = xr.concat([MOC_out, MOC], dim='time')\n",
    "#     #     if y==202: break\n",
    "#     MOC_out.to_netcdf(f'{path_results}/MOC/PMOC_{run}.nc')"
   ]
  },
  {
   "cell_type": "code",
   "execution_count": null,
   "metadata": {},
   "outputs": [],
   "source": [
    "AMOC_ctrl = xr.open_dataarray(f'{path_results}/MOC/AMOC_ctrl.nc', decode_times=False)\n",
    "AMOC_rcp  = xr.open_dataarray(f'{path_results}/MOC/AMOC_rcp.nc' , decode_times=False)\n",
    "PMOC_ctrl = xr.open_dataarray(f'{path_results}/MOC/PMOC_ctrl.nc', decode_times=False)\n",
    "PMOC_rcp  = xr.open_dataarray(f'{path_results}/MOC/PMOC_rcp.nc' , decode_times=False)\n",
    "GMOC_ctrl = xr.open_dataarray(f'{path_results}/MOC/GMOC_ctrl.nc', decode_times=False)\n",
    "GMOC_rcp  = xr.open_dataarray(f'{path_results}/MOC/GMOC_rcp.nc' , decode_times=False)"
   ]
  },
  {
   "cell_type": "code",
   "execution_count": null,
   "metadata": {},
   "outputs": [],
   "source": [
    "AMOC_ctrl.mean(dim='time').plot()"
   ]
  },
  {
   "cell_type": "code",
   "execution_count": null,
   "metadata": {},
   "outputs": [],
   "source": [
    "PMOC_ctrl.mean(dim='time').plot()"
   ]
  },
  {
   "cell_type": "code",
   "execution_count": null,
   "metadata": {},
   "outputs": [],
   "source": [
    "GMOC_ctrl.mean(dim='time').plot()"
   ]
  },
  {
   "cell_type": "code",
   "execution_count": null,
   "metadata": {},
   "outputs": [],
   "source": [
    "AMOC_max(AMOC_rcp).plot()"
   ]
  },
  {
   "cell_type": "code",
   "execution_count": null,
   "metadata": {},
   "outputs": [],
   "source": [
    "tdepth = create_tdepth('ocn')\n",
    "lats = approx_lats('ocn')\n",
    "X, Y = np.meshgrid(lats, -tdepth/1e3)\n",
    "\n",
    "\n",
    "f, ax = plt.subplots(figsize=(8,5))\n",
    "plt.tick_params(labelsize=14)\n",
    "\n",
    "plt.pcolormesh(X, Y, AMOC_ctrl.mean(dim='time')/1e6, vmin=-20, vmax=20, cmap='RdBu_r')\n",
    "plt.text(.05, .9, r'$\\langle$CTRL$\\rangle$', fontsize=16, transform=ax.transAxes)\n",
    "plt.xlabel(r'latitude [$^\\circ$N]', fontsize=16)\n",
    "plt.ylabel('depth [km]', fontsize=16)\n",
    "cbar = plt.colorbar(extend='max')\n",
    "cbar.ax.set_ylabel('AMOC volume transport [Sv]', fontsize=16)\n",
    "plt.tight_layout()\n",
    "plt.savefig(f'{path_results}/MOC/AMOC_depth_lat_ctrl_mean')\n",
    "\n",
    "    \n",
    "f, ax = plt.subplots(figsize=(8,5))\n",
    "plt.tick_params(labelsize=14)\n",
    "plt.pcolormesh(X, Y, (AMOC_rcp.mean(dim='time')-AMOC_ctrl.mean(dim='time'))/1e6, vmin=-2, vmax=2, cmap='RdBu_r')\n",
    "plt.text(.05, .9, r'$\\langle$RCP$\\rangle$-$\\langle$CTRL$\\rangle$', fontsize=16, transform=ax.transAxes)\n",
    "plt.xlabel(r'latitude [$^\\circ$N]', fontsize=16)\n",
    "plt.ylabel('depth [km]', fontsize=16)\n",
    "cbar = plt.colorbar(extend='min')\n",
    "cbar.ax.set_ylabel('AMOC volume transport [Sv]', fontsize=16)\n",
    "plt.tight_layout()\n",
    "plt.savefig(f'{path_results}/MOC/AMOC_depth_lat_rcp-ctrl')"
   ]
  },
  {
   "cell_type": "code",
   "execution_count": null,
   "metadata": {},
   "outputs": [],
   "source": [
    "f, ax = plt.subplots(1, 1, figsize=(8,5))\n",
    "plt.tick_params(labelsize=14)\n",
    "plt.plot(AMOC_ctrl.time/365     , AMOC_max(AMOC_ctrl)/1e6                                     , c='C0', lw=1)\n",
    "plt.plot(AMOC_rcp .time/365-1800, AMOC_max(AMOC_rcp )/1e6                                     , c='C1', lw=1)\n",
    "plt.plot(AMOC_ctrl.time/365     , AMOC_max(AMOC_ctrl).rolling(time=10, center=True).mean()/1e6, c='C0', lw=3, label='CTRL')\n",
    "plt.plot(AMOC_rcp .time/365-1800, AMOC_max(AMOC_rcp ).rolling(time=10, center=True).mean()/1e6, c='C1', lw=3, label='RCP' )\n",
    "\n",
    "plt.text(.98, .98, '26$^\\circ$N, 1000 m', ha='right', va='top', fontsize=16, transform=ax.transAxes, color='grey')\n",
    "plt.xlabel('time [years]', fontsize=16)\n",
    "plt.ylabel('AMOC strength [Sv]', fontsize=16)\n",
    "plt.legend(fontsize=16, frameon=False)\n",
    "plt.tight_layout()\n",
    "plt.savefig(f'{path_results}/MOC/AMOC_timeseries')"
   ]
  },
  {
   "cell_type": "code",
   "execution_count": null,
   "metadata": {},
   "outputs": [],
   "source": []
  }
 ],
 "metadata": {
  "kernelspec": {
   "display_name": "Python 3",
   "language": "python",
   "name": "python3"
  },
  "language_info": {
   "codemirror_mode": {
    "name": "ipython",
    "version": 3
   },
   "file_extension": ".py",
   "mimetype": "text/x-python",
   "name": "python",
   "nbconvert_exporter": "python",
   "pygments_lexer": "ipython3",
   "version": "3.6.6"
  }
 },
 "nbformat": 4,
 "nbformat_minor": 2
}
