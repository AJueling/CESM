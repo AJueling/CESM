{
 "cells": [
  {
   "cell_type": "markdown",
   "metadata": {},
   "source": [
    "# Meridonal Overturning circulation\n",
    "- calculations may be improved by taking partial bottom cells\n",
    "- possibly SSH adds accuracy, but it is centered on the T-grid"
   ]
  },
  {
   "cell_type": "code",
   "execution_count": null,
   "metadata": {},
   "outputs": [],
   "source": [
    "import sys\n",
    "sys.path.append(\"..\")\n",
    "import numpy as np\n",
    "import xarray as xr\n",
    "import matplotlib.pyplot as plt"
   ]
  },
  {
   "cell_type": "code",
   "execution_count": null,
   "metadata": {},
   "outputs": [],
   "source": [
    "%matplotlib inline\n",
    "%config InlineBackend.print_figure_kwargs={'bbox_inches':None}\n",
    "%load_ext autoreload\n",
    "%autoreload 2\n",
    "%aimport - numpy - matplotlib.pyplot"
   ]
  },
  {
   "cell_type": "code",
   "execution_count": null,
   "metadata": {},
   "outputs": [],
   "source": [
    "from MOC import calculate_AMOC, AMOC_max, approx_lats\n",
    "from grid import create_tdepth\n",
    "from paths import file_ex_ocn_ctrl, path_results\n",
    "from timeseries import IterateOutputCESM\n",
    "from xr_DataArrays import xr_DZ, xr_DXU"
   ]
  },
  {
   "cell_type": "code",
   "execution_count": null,
   "metadata": {},
   "outputs": [],
   "source": [
    "tdepth = create_tdepth('ocn')"
   ]
  },
  {
   "cell_type": "code",
   "execution_count": null,
   "metadata": {},
   "outputs": [],
   "source": [
    "ds = xr.open_dataset(file_ex_ocn_ctrl, decode_times=False)"
   ]
  },
  {
   "cell_type": "code",
   "execution_count": null,
   "metadata": {},
   "outputs": [],
   "source": [
    "%%time\n",
    "AMOC = calculate_AMOC(ds)"
   ]
  },
  {
   "cell_type": "code",
   "execution_count": null,
   "metadata": {},
   "outputs": [],
   "source": [
    "f = plt.figure(figsize=(8,5))\n",
    "plt.tick_params(labelsize=14)\n",
    "lats = approx_lats('ocn')\n",
    "X, Y = np.meshgrid(lats, -tdepth/1e3)\n",
    "plt.pcolormesh(X, Y, AMOC/1e4, vmin=-20, vmax=20, cmap='RdBu_r')\n",
    "plt.colorbar()\n",
    "plt.tight_layout()"
   ]
  },
  {
   "cell_type": "code",
   "execution_count": null,
   "metadata": {},
   "outputs": [],
   "source": [
    "AMOC_max(AMOC)"
   ]
  },
  {
   "cell_type": "code",
   "execution_count": null,
   "metadata": {},
   "outputs": [],
   "source": [
    "%%time\n",
    "for i, (y,m,s) in enumerate(IterateOutputCESM(domain='ocn', run='ctrl', tavg='yrly', name='VVEL')):\n",
    "    # ca. 20 per year\n",
    "    print(i, y, s)\n",
    "    ds = xr.open_dataset(s, decode_times=False)\n",
    "    AMOC = calculate_AMOC(ds)\n",
    "    if i==0:\n",
    "        AMOC_out = AMOC.copy()\n",
    "    else:\n",
    "        AMOC_out = xr.concat([AMOC_out, AMOC], dim='time')\n",
    "#     if y==202: break\n",
    "AMOC_out.to_netcdf(f'{path_results}/MOC/AMOC_ctrl.nc')"
   ]
  },
  {
   "cell_type": "code",
   "execution_count": null,
   "metadata": {},
   "outputs": [],
   "source": [
    "f = plt.figure(figsize=(8,5))\n",
    "plt.tick_params(labelsize=14)\n",
    "plt.plot(AMOC_max(AMOC_out).values/1e6, lw=2, label='CTRL')\n",
    "plt.xlabel('time [years]', fontsize=16)\n",
    "plt.ylabel('AMOC (26$^\\circ$N, 1000 m) [Sv]', fontsize=16)\n",
    "plt.legend(fontsize=16, frameon=False)\n",
    "plt.tight_layout()\n",
    "plt.savefig(f'{path_results}/MOC/AMOC_timeseries')"
   ]
  },
  {
   "cell_type": "code",
   "execution_count": null,
   "metadata": {},
   "outputs": [],
   "source": []
  }
 ],
 "metadata": {
  "kernelspec": {
   "display_name": "Python 3",
   "language": "python",
   "name": "python3"
  },
  "language_info": {
   "codemirror_mode": {
    "name": "ipython",
    "version": 3
   },
   "file_extension": ".py",
   "mimetype": "text/x-python",
   "name": "python",
   "nbconvert_exporter": "python",
   "pygments_lexer": "ipython3",
   "version": "3.6.6"
  }
 },
 "nbformat": 4,
 "nbformat_minor": 2
}
