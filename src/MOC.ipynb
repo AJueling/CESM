{
 "cells": [
  {
   "cell_type": "markdown",
   "metadata": {},
   "source": [
    "# Meridonal Overturning circulation\n",
    "- calculations may be improved by taking partial bottom cells\n",
    "- possibly SSH adds accuracy, but it is centered on the T-grid"
   ]
  },
  {
   "cell_type": "code",
   "execution_count": null,
   "metadata": {},
   "outputs": [],
   "source": [
    "import sys\n",
    "sys.path.append(\"..\")\n",
    "import numpy as np\n",
    "import xarray as xr\n",
    "import matplotlib.pyplot as plt"
   ]
  },
  {
   "cell_type": "code",
   "execution_count": null,
   "metadata": {},
   "outputs": [],
   "source": [
    "%matplotlib inline\n",
    "%config InlineBackend.print_figure_kwargs={'bbox_inches':None}\n",
    "%load_ext autoreload\n",
    "%autoreload 2\n",
    "%aimport - numpy - matplotlib.pyplot"
   ]
  },
  {
   "cell_type": "code",
   "execution_count": null,
   "metadata": {},
   "outputs": [],
   "source": [
    "from MOC import calculate_AMOC, AMOC_max, approx_lats\n",
    "from grid import create_tdepth\n",
    "from paths import file_ex_ocn_ctrl, path_results\n",
    "from timeseries import IterateOutputCESM\n",
    "from xr_DataArrays import xr_DZ, xr_DXU"
   ]
  },
  {
   "cell_type": "code",
   "execution_count": null,
   "metadata": {},
   "outputs": [],
   "source": [
    "# %%time\n",
    "# for i, (y,m,s) in enumerate(IterateOutputCESM(domain='ocn', run='rcp', tavg='yrly', name='UVEL_VVEL')):\n",
    "#     # ca. 20 per year\n",
    "#     print(i, y, s)\n",
    "#     ds = xr.open_dataset(s, decode_times=False)\n",
    "#     AMOC = calculate_AMOC(ds)\n",
    "#     if i==0:\n",
    "#         AMOC_out = AMOC.copy()\n",
    "#     else:\n",
    "#         AMOC_out = xr.concat([AMOC_out, AMOC], dim='time')\n",
    "# #     if y==202: break\n",
    "# AMOC_out.to_netcdf(f'{path_results}/MOC/AMOC_rcp.nc')"
   ]
  },
  {
   "cell_type": "code",
   "execution_count": null,
   "metadata": {},
   "outputs": [],
   "source": [
    "AMOC_ctrl = xr.open_dataarray(f'{path_results}/MOC/AMOC_ctrl.nc')\n",
    "AMOC_rcp  = xr.open_dataarray(f'{path_results}/MOC/AMOC_rcp.nc' )"
   ]
  },
  {
   "cell_type": "code",
   "execution_count": null,
   "metadata": {},
   "outputs": [],
   "source": [
    "tdepth = create_tdepth('ocn')\n",
    "lats = approx_lats('ocn')\n",
    "X, Y = np.meshgrid(lats, -tdepth/1e3)\n",
    "\n",
    "\n",
    "f, ax = plt.subplots(figsize=(8,5))\n",
    "plt.tick_params(labelsize=14)\n",
    "\n",
    "plt.pcolormesh(X, Y, AMOC_ctrl.mean(dim='time')/1e6, vmin=-20, vmax=20, cmap='RdBu_r')\n",
    "plt.text(.05, .9, r'$\\langle$CTRL$\\rangle$', fontsize=16, transform=ax.transAxes)\n",
    "plt.xlabel(r'latitude [$^\\circ$N]', fontsize=16)\n",
    "plt.ylabel('depth [km]', fontsize=16)\n",
    "cbar = plt.colorbar(extend='max')\n",
    "cbar.ax.set_ylabel('AMOC volume transport [Sv]', fontsize=16)\n",
    "plt.tight_layout()\n",
    "plt.savefig(f'{path_results}/MOC/AMOC_depth_lat_ctrl_mean')\n",
    "\n",
    "    \n",
    "f, ax = plt.subplots(figsize=(8,5))\n",
    "plt.tick_params(labelsize=14)\n",
    "plt.pcolormesh(X, Y, (AMOC_rcp.mean(dim='time')-AMOC_ctrl.mean(dim='time'))/1e6, vmin=-2, vmax=2, cmap='RdBu_r')\n",
    "plt.text(.05, .9, r'$\\langle$RCP$\\rangle$-$\\langle$CTRL$\\rangle$', fontsize=16, transform=ax.transAxes)\n",
    "plt.xlabel(r'latitude [$^\\circ$N]', fontsize=16)\n",
    "plt.ylabel('depth [km]', fontsize=16)\n",
    "cbar = plt.colorbar(extend='min')\n",
    "cbar.ax.set_ylabel('AMOC volume transport [Sv]', fontsize=16)\n",
    "plt.tight_layout()\n",
    "plt.savefig(f'{path_results}/MOC/AMOC_depth_lat_rcp-ctrl')"
   ]
  },
  {
   "cell_type": "code",
   "execution_count": null,
   "metadata": {},
   "outputs": [],
   "source": [
    "f = plt.figure(figsize=(8,5))\n",
    "plt.tick_params(labelsize=14)\n",
    "plt.plot(AMOC_max(AMOC_ctrl)/1e6, lw=2, label='CTRL')\n",
    "plt.plot(AMOC_max(AMOC_rcp)/1e6, lw=2, label='RCP' )\n",
    "plt.text(.05, .05, '26$^\\circ$N, 1000 m', fontsize=16, transform=ax.transAxes)\n",
    "plt.xlabel('time [years]', fontsize=16)\n",
    "plt.ylabel('AMOC strength [Sv]', fontsize=16)\n",
    "plt.legend(fontsize=16, frameon=False)\n",
    "plt.tight_layout()\n",
    "plt.savefig(f'{path_results}/MOC/AMOC_timeseries')"
   ]
  }
 ],
 "metadata": {
  "kernelspec": {
   "display_name": "Python 3",
   "language": "python",
   "name": "python3"
  },
  "language_info": {
   "codemirror_mode": {
    "name": "ipython",
    "version": 3
   },
   "file_extension": ".py",
   "mimetype": "text/x-python",
   "name": "python",
   "nbconvert_exporter": "python",
   "pygments_lexer": "ipython3",
   "version": "3.6.6"
  }
 },
 "nbformat": 4,
 "nbformat_minor": 2
}
