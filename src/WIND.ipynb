{
 "cells": [
  {
   "cell_type": "code",
   "execution_count": null,
   "metadata": {},
   "outputs": [],
   "source": [
    "import sys\n",
    "sys.path.append(\"..\")"
   ]
  },
  {
   "cell_type": "code",
   "execution_count": null,
   "metadata": {},
   "outputs": [],
   "source": [
    "import numpy as np\n",
    "import xarray as xr\n",
    "import seaborn as sns\n",
    "import matplotlib as mpl\n",
    "import matplotlib.pyplot as plt"
   ]
  },
  {
   "cell_type": "code",
   "execution_count": null,
   "metadata": {},
   "outputs": [],
   "source": [
    "%matplotlib inline\n",
    "%config InlineBackend.print_figure_kwargs={'bbox_inches':None}\n",
    "%load_ext autoreload\n",
    "%autoreload 2"
   ]
  },
  {
   "cell_type": "code",
   "execution_count": null,
   "metadata": {},
   "outputs": [],
   "source": [
    "from maps import map_robinson\n",
    "from paths import file_ex_atm_ctrl, path_results\n",
    "from timeseries import IterateOutputCESM\n",
    "from xr_regression import xr_linear_trends_2D, xr_linear_trend"
   ]
  },
  {
   "cell_type": "code",
   "execution_count": null,
   "metadata": {},
   "outputs": [],
   "source": [
    "# for run in ['ctrl', 'rcp']:\n",
    "#     first_year = IterateOutputCESM(domain='atm', run=run, tavg='yrly').year\n",
    "#     for y, m, file in IterateOutputCESM(domain='atm', run=run, tavg='yrly'):\n",
    "#         ds = xr.open_dataset(file, decode_times=False)\n",
    "#         ds_new = xr.merge([ds.U[-1,:,:], ds.V[-1,:,:]])\n",
    "#         if y==first_year:  ds_out = ds_new\n",
    "#         else:              ds_out = xr.concat([ds_out, ds_new], dim='time')\n",
    "#     ds_out.to_netcdf(path=f'{path_results}/winds/surface_winds_{run}.nc', mode='w')"
   ]
  },
  {
   "cell_type": "code",
   "execution_count": null,
   "metadata": {},
   "outputs": [],
   "source": [
    "winds_ctrl = xr.open_dataset(f'{path_results}/winds/surface_winds_ctrl.nc', decode_times=False)\n",
    "winds_rcp  = xr.open_dataset(f'{path_results}/winds/surface_winds_rcp.nc' , decode_times=False)"
   ]
  },
  {
   "cell_type": "code",
   "execution_count": null,
   "metadata": {},
   "outputs": [],
   "source": [
    "winds_rcp"
   ]
  },
  {
   "cell_type": "code",
   "execution_count": null,
   "metadata": {},
   "outputs": [],
   "source": [
    "label = 'avg. zonal wind velocity [m/s]'\n",
    "minv, maxv = -15,15\n",
    "cmap = 'BrBG'\n",
    "filename = f'{path_results}/winds/zonal_wind_map_ctrl'\n",
    "field = winds_ctrl.U[:,:,:].mean(dim='time')\n",
    "\n",
    "fig = map_robinson(xr_DataArray=field, cmap=cmap, minv=minv, maxv=maxv, label=label, filename=filename)"
   ]
  },
  {
   "cell_type": "code",
   "execution_count": null,
   "metadata": {},
   "outputs": [],
   "source": [
    "label = 'avg. meridional wind velocity [m/s]'\n",
    "minv, maxv = -10,10\n",
    "cmap = 'PRGn'\n",
    "filename = f'{path_results}/winds/meridional_wind_map_ctrl'\n",
    "field = winds_ctrl.V[:,:,:].mean(dim='time')\n",
    "\n",
    "fig = map_robinson(xr_DataArray=field, cmap=cmap, minv=minv, maxv=maxv, label=label, filename=filename)"
   ]
  },
  {
   "cell_type": "markdown",
   "metadata": {},
   "source": [
    "# Trends"
   ]
  },
  {
   "cell_type": "code",
   "execution_count": null,
   "metadata": {},
   "outputs": [],
   "source": [
    "winds_ctrl.U"
   ]
  },
  {
   "cell_type": "code",
   "execution_count": null,
   "metadata": {},
   "outputs": [],
   "source": [
    "# # from xr_regression import atm_field_regression\n",
    "# U_trends_ctrl = xr_linear_trends_2D(winds_ctrl.U, ('lat', 'lon'))\n",
    "# U_trends_ctrl.to_netcdf(path=f'{path_results}/winds/U_trend_ctrl.nc' , mode='w')\n",
    "\n",
    "# V_trends_ctrl = xr_linear_trends_2D(winds_ctrl.V, ('lat', 'lon'))\n",
    "# V_trends_ctrl.to_netcdf(path=f'{path_results}/winds/V_trend_ctrl.nc' , mode='w')\n",
    "\n",
    "# U_trends_rcp  = xr_linear_trends_2D(winds_rcp.U, ('lat', 'lon'))\n",
    "# U_trends_rcp.to_netcdf(path=f'{path_results}/winds/U_trend_rcp.nc' , mode='w')\n",
    "\n",
    "# V_trends_rcp  = xr_linear_trends_2D(winds_rcp.V, ('lat', 'lon'))\n",
    "# V_trends_rcp.to_netcdf(path=f'{path_results}/winds/V_trend_rcp.nc' , mode='w')"
   ]
  },
  {
   "cell_type": "code",
   "execution_count": null,
   "metadata": {},
   "outputs": [],
   "source": [
    "winds_ctrl.U"
   ]
  },
  {
   "cell_type": "code",
   "execution_count": null,
   "metadata": {},
   "outputs": [],
   "source": [
    "U_trends_ctrl = xr.open_dataarray(f'{path_results}/winds/U_trend_ctrl.nc')\n",
    "U_trends_rcp  = xr.open_dataarray(f'{path_results}/winds/U_trend_rcp.nc')"
   ]
  },
  {
   "cell_type": "code",
   "execution_count": null,
   "metadata": {},
   "outputs": [],
   "source": [
    "for i, run in enumerate(['ctrl', 'rcp']):\n",
    "    label = 'zonal wind velocity trend [m/s/century]'\n",
    "    minv, maxv = -2.5, 2.5\n",
    "    cmap = 'RdBu_r'\n",
    "    filename = f'{path_results}/winds/U_trend_map_{run}'\n",
    "    field = [U_trends_ctrl, U_trends_rcp][i]*100*365\n",
    "    fig = map_robinson(xr_DataArray=field, cmap=cmap, minv=minv, maxv=maxv, label=label, filename=filename)"
   ]
  },
  {
   "cell_type": "code",
   "execution_count": null,
   "metadata": {},
   "outputs": [],
   "source": [
    "fig = plt.figure(figsize=(8,5))\n",
    "plt.tick_params(labelsize=14)\n",
    "plt.axvline(0, c='k', lw=.5)\n",
    "plt.plot(100*365*xr_linear_trend(winds_ctrl.U[:,:,:].mean(dim='lon')), winds_ctrl.lat, lw=3, label='CTRL')\n",
    "plt.plot(100*365*xr_linear_trend(winds_rcp.U[:,:,:].mean(dim='lon')) , winds_rcp.lat , lw=3, label='RCP')\n",
    "plt.legend(fontsize=16)\n",
    "plt.yticks(np.arange(-90,91,30))\n",
    "plt.xlabel('mean zonal wind trend [m/s/century]', fontsize=16)\n",
    "plt.ylabel('latitude [deg N]', fontsize=16)\n",
    "plt.tight_layout()\n",
    "plt.savefig(f'{path_results}/winds/U_trends_zonal_avg')"
   ]
  },
  {
   "cell_type": "code",
   "execution_count": null,
   "metadata": {},
   "outputs": [],
   "source": []
  },
  {
   "cell_type": "code",
   "execution_count": null,
   "metadata": {},
   "outputs": [],
   "source": []
  }
 ],
 "metadata": {
  "kernelspec": {
   "display_name": "Python 3",
   "language": "python",
   "name": "python3"
  },
  "language_info": {
   "codemirror_mode": {
    "name": "ipython",
    "version": 3
   },
   "file_extension": ".py",
   "mimetype": "text/x-python",
   "name": "python",
   "nbconvert_exporter": "python",
   "pygments_lexer": "ipython3",
   "version": "3.6.6"
  }
 },
 "nbformat": 4,
 "nbformat_minor": 2
}
