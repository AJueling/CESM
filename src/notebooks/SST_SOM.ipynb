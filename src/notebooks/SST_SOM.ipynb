{
 "cells": [
  {
   "cell_type": "markdown",
   "metadata": {},
   "source": [
    "# Southern Ocean Mode index\n",
    "annual SST anomaly (50S-35S, 0E-50W), here detrended"
   ]
  },
  {
   "cell_type": "code",
   "execution_count": null,
   "metadata": {},
   "outputs": [],
   "source": [
    "import sys\n",
    "sys.path.append(\"..\")\n",
    "import scipy as sp\n",
    "import numpy as np\n",
    "import xarray as xr\n",
    "import seaborn as sns\n",
    "import cmocean\n",
    "import cartopy\n",
    "import cartopy.crs as ccrs\n",
    "import matplotlib as mpl\n",
    "import matplotlib.pyplot as plt\n",
    "import matplotlib.patches as mpatches"
   ]
  },
  {
   "cell_type": "code",
   "execution_count": null,
   "metadata": {},
   "outputs": [],
   "source": [
    "%matplotlib inline\n",
    "%config InlineBackend.print_figure_kwargs={'bbox_inches':None}\n",
    "%load_ext autoreload\n",
    "%autoreload 2\n",
    "%aimport - numpy - scipy - matplotlib.pyplot"
   ]
  },
  {
   "cell_type": "code",
   "execution_count": null,
   "metadata": {},
   "outputs": [],
   "source": [
    "from OHC import t2da, t2ds\n",
    "from SST import SST_index, EOF_SST_analysis\n",
    "from maps import map_robinson, map_eq_earth, rect_polygon\n",
    "from grid import find_array_idx\n",
    "from paths import path_results, path_samoc, file_ex_ocn_ctrl, file_ex_ocn_rect, file_ex_ocn_lpd\n",
    "from regions import bll_SOM\n",
    "from plotting import shifted_color_map, discrete_cmap\n",
    "from timeseries import IterateOutputCESM, lowpass, chebychev\n",
    "from xr_regression import xr_lintrend, xr_linear_trends_2D, xr_linear_trend, ocn_field_regression, lag_linregress_3D, xr_quadtrend"
   ]
  },
  {
   "cell_type": "code",
   "execution_count": null,
   "metadata": {},
   "outputs": [],
   "source": [
    "# %%time\n",
    "# # 2:55\n",
    "# SOM_GMST_ctrl = SST_index('SOM', 'ctrl', detrend_signal='GMST')\n",
    "# SOM_GMST_rcp  = SST_index('SOM', 'rcp' , detrend_signal='GMST')\n",
    "# SOM_GMST_lpi  = SST_index('SOM', 'lpi' , detrend_signal='GMST')\n",
    "# SOM_GMST_lpd  = SST_index('SOM', 'lpd' , detrend_signal='GMST')\n",
    "# SOM_GMST_had  = SST_index('SOM', 'had' , detrend_signal='GMST')\n",
    "\n",
    "# SOM_rgnl_ctrl = SST_index('SOM', 'ctrl', detrend_signal='SOM')\n",
    "# SOM_rgnl_rcp  = SST_index('SOM', 'rcp' , detrend_signal='SOM')\n",
    "# SOM_rgnl_lpi  = SST_index('SOM', 'lpi' , detrend_signal='SOM')\n",
    "# SOM_rgnl_lpd  = SST_index('SOM', 'lpd' , detrend_signal='SOM')\n",
    "# SOM_rgnl_had  = SST_index('SOM', 'had' , detrend_signal='SOM')"
   ]
  },
  {
   "cell_type": "code",
   "execution_count": null,
   "metadata": {},
   "outputs": [],
   "source": [
    "SOM_GMST_ctrl = xr.open_dataarray(f'{path_samoc}/SST/SOM_GMST_dt_raw_ctrl.nc')\n",
    "SOM_GMST_rcp  = xr.open_dataarray(f'{path_samoc}/SST/SOM_GMST_dt_raw_rcp.nc' )\n",
    "SOM_GMST_lpi  = xr.open_dataarray(f'{path_samoc}/SST/SOM_GMST_dt_raw_lpi.nc' )\n",
    "SOM_GMST_lpd  = xr.open_dataarray(f'{path_samoc}/SST/SOM_GMST_dt_raw_lpd.nc' )\n",
    "SOM_GMST_had  = xr.open_dataarray(f'{path_samoc}/SST/SOM_GMST_dt_raw_had.nc' )\n",
    "\n",
    "SOM_rgnl_ctrl = xr.open_dataarray(f'{path_samoc}/SST/SOM_raw_ctrl.nc')\n",
    "SOM_rgnl_rcp  = xr.open_dataarray(f'{path_samoc}/SST/SOM_raw_rcp.nc' )\n",
    "SOM_rgnl_lpi  = xr.open_dataarray(f'{path_samoc}/SST/SOM_raw_lpi.nc' )\n",
    "SOM_rgnl_lpd  = xr.open_dataarray(f'{path_samoc}/SST/SOM_raw_lpd.nc' )\n",
    "SOM_rgnl_had  = xr.open_dataarray(f'{path_samoc}/SST/SOM_SOM_dt_raw_had.nc' )\n",
    "\n",
    "SOM_rgnl_ctrl -= xr_lintrend( SOM_rgnl_ctrl)\n",
    "SOM_rgnl_rcp  -= xr_quadtrend(SOM_rgnl_rcp )\n",
    "SOM_rgnl_lpi  -= xr_lintrend( SOM_rgnl_lpi )\n",
    "SOM_rgnl_lpd  -= xr_lintrend( SOM_rgnl_lpd )\n",
    "\n",
    "lowpass(SOM_rgnl_ctrl, 13).to_netcdf(f'{path_samoc}/SST/SOM_ctrl.nc')\n",
    "lowpass(SOM_rgnl_rcp , 13).to_netcdf(f'{path_samoc}/SST/SOM_rcp.nc' )\n",
    "lowpass(SOM_rgnl_lpi , 13).to_netcdf(f'{path_samoc}/SST/SOM_lpi.nc' )\n",
    "lowpass(SOM_rgnl_lpd , 13).to_netcdf(f'{path_samoc}/SST/SOM_lpd.nc' )\n",
    "lowpass(SOM_rgnl_had , 13).to_netcdf(f'{path_samoc}/SST/SOM_had.nc' )\n",
    "\n",
    "lowpass(SOM_GMST_ctrl, 13).to_netcdf(f'{path_samoc}/SST/SOM_GMST_dt_ctrl.nc')\n",
    "lowpass(SOM_GMST_rcp , 13).to_netcdf(f'{path_samoc}/SST/SOM_GMST_dt_rcp.nc' )\n",
    "lowpass(SOM_GMST_lpi , 13).to_netcdf(f'{path_samoc}/SST/SOM_GMST_dt_lpi.nc' )\n",
    "lowpass(SOM_GMST_lpd , 13).to_netcdf(f'{path_samoc}/SST/SOM_GMST_dt_lpd.nc' )\n",
    "lowpass(SOM_GMST_had , 13).to_netcdf(f'{path_samoc}/SST/SOM_GMST_dt_had.nc' )"
   ]
  },
  {
   "cell_type": "code",
   "execution_count": null,
   "metadata": {},
   "outputs": [],
   "source": [
    "f, ax = plt.subplots(1,1,figsize=(12,5))\n",
    "ax.tick_params(labelsize=14)\n",
    "ax.axhline(0, c='k', lw=.5)\n",
    "\n",
    "L1, = ax.plot(SOM_GMST_ctrl.time/365+1850, lowpass(SOM_GMST_ctrl, 13), c='C0', ls='-', lw=1, label='SST detrended with scaled GMST')\n",
    "ax.plot(      SOM_GMST_rcp .time/365+ 200, lowpass(SOM_GMST_rcp , 13), c='C1', ls='-', lw=1)\n",
    "ax.plot(      SOM_GMST_lpd .time/365+1350, lowpass(SOM_GMST_lpd , 13), c='C2', ls='-', lw=1)\n",
    "ax.plot(      SOM_GMST_lpi .time/365-1600, lowpass(SOM_GMST_lpi , 13), c='C3', ls='-', lw=1)\n",
    "ax.plot(      SOM_GMST_had .time/365+2350, lowpass(SOM_GMST_had , 13), c='C4', ls='-', lw=1)\n",
    "\n",
    "L2, = ax.plot(SOM_rgnl_ctrl.time/365+1850, lowpass(SOM_rgnl_ctrl, 13), c='C0', ls='--', lw=1, label='target region regression')\n",
    "ax.plot(      SOM_rgnl_rcp .time/365+ 200, lowpass(SOM_rgnl_rcp , 13), c='C1', ls='--', lw=1)\n",
    "ax.plot(      SOM_rgnl_lpd .time/365+1350, lowpass(SOM_rgnl_lpd , 13), c='C2', ls='--', lw=1)\n",
    "ax.plot(      SOM_rgnl_lpi .time/365-1600, lowpass(SOM_rgnl_lpi , 13), c='C3', ls='--', lw=1)\n",
    "ax.plot(      SOM_rgnl_had .time/365+2350, lowpass(SOM_rgnl_had , 13), c='C4', ls='--', lw=1)\n",
    "\n",
    "ax.text(1950, .3, 'CTRL'         , fontsize=16, color='C0')\n",
    "ax.text(2200, .3, 'RCP'          , fontsize=16, color='C1')\n",
    "ax.text(1500, .3, 'pres. day low', fontsize=16, color='C2')\n",
    "ax.text(   0, .3, 'pre-ind. low' , fontsize=16, color='C3')\n",
    "ax.text(2320, .3, 'HadISST'      , fontsize=16, color='C4')\n",
    "\n",
    "ax.legend(handles=[L1,L2], loc=8, ncol=3, fontsize=14, frameon=False)\n",
    "\n",
    "ax.set_ylabel('SOM index [K]', fontsize=16)\n",
    "ax.set_xlabel('time [years]', fontsize=16)\n",
    "ax.set_xticks(np.arange(0,2700,200))\n",
    "ax.set_xlim((-50,2550))\n",
    "f.tight_layout()\n",
    "f.savefig(f'{path_results}/SST/SOM_index_overview.png')"
   ]
  },
  {
   "cell_type": "markdown",
   "metadata": {},
   "source": [
    "## spectra\n",
    "- add red noise spectrum as null hypothesis"
   ]
  },
  {
   "cell_type": "markdown",
   "metadata": {},
   "source": [
    "- influence of spectrum type `welch`\n",
    "- "
   ]
  },
  {
   "cell_type": "code",
   "execution_count": null,
   "metadata": {},
   "outputs": [],
   "source": [
    "SOMs = [SOM_ctrl, SOM_rcp, SOM_lpd, SOM_lpi, SOM_had]\n",
    "\n",
    "f, ax = plt.subplots(1, 1, figsize=(8,5), sharey=True)\n",
    "ax.set_ylabel('spectral power', fontsize=16)\n",
    "\n",
    "for i in range (5):\n",
    "    label= ['CTRL', 'RCP', 'LPD', 'LPI', 'Had'][i]\n",
    "    f, Pxx = sp.signal.welch(SOMs[i]-xr_lintrend(SOMs[i]), fs=1)\n",
    "    ax.loglog(1/f, np.sqrt(Pxx), label=label)\n",
    "\n",
    "ax.tick_params(labelsize=14)\n",
    "ax.set_xlabel('period [yr]', fontsize=16)\n",
    "ax.legend(fontsize=14, frameon=False)\n",
    "    \n",
    "plt.tight_layout()"
   ]
  },
  {
   "cell_type": "code",
   "execution_count": null,
   "metadata": {},
   "outputs": [],
   "source": [
    "SOMs = [SOM_ctrl, SOM_rcp, SOM_lpd, SOM_lpi, SOM_had]\n",
    "\n",
    "f, ax = plt.subplots(1, 1, figsize=(8,5), sharey=True)\n",
    "ax.set_ylabel('spectral power', fontsize=16)\n",
    "\n",
    "for i in range (5):\n",
    "    label= ['CTRL', 'RCP', 'LPD', 'LPI', 'Had'][i]\n",
    "    f, Pxx = sp.signal.welch(SOMs[i]-xr_lintrend(SOMs[i]), fs=1)\n",
    "    ax.semilogy(f, np.sqrt(Pxx), c=f'C{i}', label=label)\n",
    "    f, Pxx = sp.signal.welch(SOMs[i]-xr_quadtrend(SOMs[i]), fs=1)\n",
    "    ax.semilogy(f, np.sqrt(Pxx), c=f'C{i}', ls='--')\n",
    "#     f, Pxx = sp.signal.periodogram(SOMs[i]-xr_lintrend(SOMs[i]), fs=1)\n",
    "#     ax.semilogy(f, np.sqrt(Pxx), c=f'C{i}', ls='--', lw=.5)\n",
    "\n",
    "ax.tick_params(labelsize=14)\n",
    "ax.set_xlabel('period [yr]', fontsize=16)\n",
    "ax.legend(fontsize=14, frameon=False)\n",
    "ax.set_ylim(1e-2,1)\n",
    "    \n",
    "plt.tight_layout()"
   ]
  },
  {
   "cell_type": "markdown",
   "metadata": {},
   "source": [
    "## regression plots"
   ]
  },
  {
   "cell_type": "code",
   "execution_count": null,
   "metadata": {},
   "outputs": [],
   "source": [
    "SST_yrly_dt_ctrl = xr.open_dataarray(f'{path_samoc}/SST/SST_yrly_detr_ctrl.nc', decode_times=False)"
   ]
  },
  {
   "cell_type": "code",
   "execution_count": null,
   "metadata": {},
   "outputs": [],
   "source": [
    "len(SST_yrly_dt)"
   ]
  },
  {
   "cell_type": "code",
   "execution_count": null,
   "metadata": {},
   "outputs": [],
   "source": [
    "regr_ctrl = lag_linregress_3D(SOM_cheb13_dt_ctrl, SST_yrly_dt_ctrl)"
   ]
  },
  {
   "cell_type": "code",
   "execution_count": null,
   "metadata": {},
   "outputs": [],
   "source": [
    "from maps import reg"
   ]
  },
  {
   "cell_type": "code",
   "execution_count": null,
   "metadata": {},
   "outputs": [],
   "source": []
  }
 ],
 "metadata": {
  "kernelspec": {
   "display_name": "Python 3",
   "language": "python",
   "name": "python3"
  },
  "language_info": {
   "codemirror_mode": {
    "name": "ipython",
    "version": 3
   },
   "file_extension": ".py",
   "mimetype": "text/x-python",
   "name": "python",
   "nbconvert_exporter": "python",
   "pygments_lexer": "ipython3",
   "version": "3.6.6"
  }
 },
 "nbformat": 4,
 "nbformat_minor": 2
}
