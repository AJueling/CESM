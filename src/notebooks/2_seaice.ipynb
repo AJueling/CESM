{
 "cells": [
  {
   "cell_type": "markdown",
   "metadata": {},
   "source": [
    "# Sea ice seasonal cycle"
   ]
  },
  {
   "cell_type": "code",
   "execution_count": null,
   "metadata": {},
   "outputs": [],
   "source": [
    "import sys\n",
    "import glob\n",
    "import numpy as np\n",
    "import pandas as pd\n",
    "import xarray as xr\n",
    "import cmocean\n",
    "import cartopy\n",
    "import calendar\n",
    "import matplotlib\n",
    "import cartopy.crs as ccrs\n",
    "import matplotlib.pyplot as plt"
   ]
  },
  {
   "cell_type": "code",
   "execution_count": null,
   "metadata": {},
   "outputs": [],
   "source": [
    "sys.path.append(\"..\")\n",
    "%matplotlib inline\n",
    "matplotlib.rc_file('../rc_file')\n",
    "%config InlineBackend.print_figure_kwargs={'bbox_inches':None}\n",
    "%load_ext autoreload\n",
    "%autoreload 2\n",
    "%aimport - numpy - matplotlib.pyplot"
   ]
  },
  {
   "cell_type": "code",
   "execution_count": null,
   "metadata": {},
   "outputs": [],
   "source": [
    "from paths import path_results, path_samoc,path_data\n",
    "from timeseries import IterateOutputCESM\n",
    "from tqdm.autonotebook import tqdm"
   ]
  },
  {
   "cell_type": "code",
   "execution_count": null,
   "metadata": {},
   "outputs": [],
   "source": [
    "# %%time\n",
    "# # stacking files into one xr Dataset object\n",
    "# # lpd: 1min 5s\n",
    "# for j, run in enumerate(['ctrl', 'lpd','rcp','lr1']):\n",
    "#     if j<=1: continue\n",
    "#     (ys, ye) = [(200,230),(500,530),(2090,2100),(2090,2100)][j]\n",
    "#     domain = ['ocn','ocn_low','ocn','ocn_low'][j]\n",
    "#     nequator = [1000,190,1000,190][j]\n",
    "#     fn_a  = f'{path_samoc}/CICE/CICE_Arctic_{run}.nc'\n",
    "#     fn_aa = f'{path_samoc}/CICE/CICE_Antarctic_{run}.nc'\n",
    "#     a, aa = [], []\n",
    "#     print(run)\n",
    "#     for i, (y,m,s) in tqdm(enumerate(IterateOutputCESM('ice', run, 'monthly'))):\n",
    "#         if y<ys or y>ye:  continue\n",
    "#         da = xr.open_dataset(s, decode_times=False)\n",
    "#         a .append((da.aice[0,:,:]*da.tarea.where(da.nj>nequator)).sum())\n",
    "#         aa.append((da.aice[0,:,:]*da.tarea.where(da.nj<nequator)).sum())\n",
    "#     xr.concat(a , dim='time').to_netcdf(fn_a )\n",
    "#     xr.concat(aa, dim='time').to_netcdf(fn_aa)\n",
    "    \n",
    "# # 8 min"
   ]
  },
  {
   "cell_type": "code",
   "execution_count": null,
   "metadata": {},
   "outputs": [],
   "source": [
    "f, ax = plt.subplots(1,2, figsize=(6.4,3), sharey=True, sharex=True)\n",
    "ax[0].set_ylabel(r'sea ice area  [10$^6$ km$^2$]')\n",
    "handles = []\n",
    "for i, region in enumerate(['Arctic','Antarctic']):\n",
    "    ax[i].set_xlabel('time  [month]')\n",
    "    ax[i].text(0.02,.94,['(a','(b'][i]+f') {region}', transform=ax[i].transAxes)\n",
    "    \n",
    "    all_files = glob.glob(f'{path_data}/NSIDC/'+['N','S'][i]+'*.csv')\n",
    "    df = pd.concat((pd.read_csv(f) for f in all_files))\n",
    "    format = '%Y-%m'\n",
    "    df['date'] = pd.to_datetime(df['year'].astype(str)+'-'+df[' mo'].astype(str), format=format)\n",
    "    df = df.set_index(pd.DatetimeIndex(df['date']))\n",
    "    df = df.sort_index()\n",
    "    df = df['   area']['1990-01-01':'2020-12-01']\n",
    "    dm = df.groupby(df.index.month).mean()\n",
    "    for y in df.index.year.unique():\n",
    "        c = plt.get_cmap('YlGnBu_r')((y-1990)/40)\n",
    "        ax[i].plot(np.arange(12), df[str(y)], c=c, ls='-', lw=.3)\n",
    "        if i==0 and y%10==0:\n",
    "            print(i, y)\n",
    "            l, = ax[i].plot([],[], c=c, label=y)\n",
    "            handles.append(l)\n",
    "    lo, = ax[i].plot(np.arange(12), dm, c='k', ls='-' , label='OBS')\n",
    "#     ax[0].legend(handles=handles)\n",
    "    \n",
    "    \n",
    "    ctrl = xr.open_dataarray(f'{path_samoc}/CICE/CICE_{region}_ctrl.nc')\n",
    "    rcp  = xr.open_dataarray(f'{path_samoc}/CICE/CICE_{region}_rcp.nc' )\n",
    "    lpd  = xr.open_dataarray(f'{path_samoc}/CICE/CICE_{region}_lpd.nc' )\n",
    "    lr1  = xr.open_dataarray(f'{path_samoc}/CICE/CICE_{region}_lr1.nc' )\n",
    "    lh, = ax[i].plot(ctrl.groupby('time.month').mean('time').roll(month=-1)/1e14, c='C0', ls='-' , label='HR-CESM')\n",
    "    ax[i].plot(rcp .groupby('time.month').mean('time').roll(month=-1)/1e14, c='C0', ls='--')\n",
    "    ll, = ax[i].plot(lpd .groupby('time.month').mean('time').roll(month=-1)/1e14, c='C1', ls='-' , label='LR-CESM')\n",
    "    ax[i].plot(lr1 .groupby('time.month').mean('time').roll(month=-1)/1e14, c='C1', ls='--')\n",
    "    lc, = ax[i].plot([],[],c='grey', ls='-' , label='CTRL')\n",
    "    lr, = ax[i].plot([],[],c='grey', ls='--', label='RCP')\n",
    "ax[0].set_ylim((0,None))\n",
    "ax[0].set_xlim((0,11))\n",
    "ax[0].set_xticks(np.arange(12))\n",
    "ax[0].set_xticklabels(calendar.month_abbr[i] for i in np.arange(1,13))\n",
    "li = ax[0].axhline(1, c='k', ls=':', lw=.5, label='\"ice-free\"')\n",
    "ax[0].legend(handles=[lo]+handles+[lh,ll,lc,lr,li], ncol=2, loc='upper right', fontsize=7, handlelength=1.7)\n",
    "# ax[1].legend(handles=handles      , loc='center left', fontsize=8, handlelength=1.7)\n",
    "plt.savefig(f'{path_results}/thesis/2_seaice.eps')"
   ]
  },
  {
   "cell_type": "code",
   "execution_count": null,
   "metadata": {},
   "outputs": [],
   "source": []
  }
 ],
 "metadata": {
  "kernelspec": {
   "display_name": "Python 3",
   "language": "python",
   "name": "python3"
  },
  "language_info": {
   "codemirror_mode": {
    "name": "ipython",
    "version": 3
   },
   "file_extension": ".py",
   "mimetype": "text/x-python",
   "name": "python",
   "nbconvert_exporter": "python",
   "pygments_lexer": "ipython3",
   "version": "3.7.6"
  }
 },
 "nbformat": 4,
 "nbformat_minor": 4
}
