{
 "cells": [
  {
   "cell_type": "markdown",
   "metadata": {},
   "source": [
    "# testing MSSA\n",
    "\n",
    "based on the tutorial:\n",
    "\n",
    "_https://www.kaggle.com/jdarcy/introducing-ssa-for-time-series-decomposition#Decomposing-Time-Series-Data-With-Singular-Spectrum-Analysis_\n",
    "\n",
    "and the MSSA package:\n",
    "\n",
    "_https://github.com/kieferk/pymssa_"
   ]
  },
  {
   "cell_type": "code",
   "execution_count": null,
   "metadata": {},
   "outputs": [],
   "source": [
    "import numpy as np\n",
    "import pandas as pd\n",
    "import xarray as xr\n",
    "import matplotlib\n",
    "import matplotlib.pyplot as plt\n",
    "from matplotlib.animation import FuncAnimation\n",
    "\n",
    "from pymssa import MSSA\n",
    "matplotlib.rc_file('../rc_file')\n",
    "%matplotlib widget"
   ]
  },
  {
   "cell_type": "markdown",
   "metadata": {},
   "source": [
    "# get it to work with xarray "
   ]
  },
  {
   "cell_type": "code",
   "execution_count": null,
   "metadata": {},
   "outputs": [],
   "source": [
    "N = 200 # The number of time 'moments' in our toy series\n",
    "t = np.arange(0,N)\n",
    "trend = 0.001 * (t - 100)**2\n",
    "p1, p2 = 20, 30\n",
    "periodic1 = 2 * np.sin(2*np.pi*t/p1)\n",
    "periodic2 = 0.75 * np.sin(2*np.pi*t/p2)\n",
    "\n",
    "np.random.seed(123) # So we generate the same noisy time series every time.\n",
    "noise = 2 * (np.random.rand(N) - 0.5)\n",
    "F = trend + periodic1 + periodic2 + noise\n",
    "\n",
    "# Plot everything\n",
    "plt.plot(t, F, lw=2.5)\n",
    "plt.plot(t, trend, alpha=0.75)\n",
    "plt.plot(t, periodic1, alpha=0.75)\n",
    "plt.plot(t, periodic2, alpha=0.75)\n",
    "plt.plot(t, noise, alpha=0.5)\n",
    "plt.legend([\"Toy Series ($F$)\", \"Trend\", \"Periodic #1\", \"Periodic #2\", \"Noise\"])\n",
    "plt.xlabel(\"$t$\")\n",
    "plt.ylabel(\"$F(t)$\")\n",
    "plt.title(\"The Toy Time Series and its Components\");"
   ]
  },
  {
   "cell_type": "code",
   "execution_count": null,
   "metadata": {},
   "outputs": [],
   "source": [
    "da = xr.DataArray(data=F, coords={'time':np.arange(200)}, dims='time')"
   ]
  },
  {
   "cell_type": "code",
   "execution_count": null,
   "metadata": {},
   "outputs": [],
   "source": [
    "mssa_F = MSSA(n_components=None, window_size=70, verbose=True)\n",
    "mssa_F.fit(da)\n",
    "print(np.shape(mssa_F.components_))"
   ]
  },
  {
   "cell_type": "code",
   "execution_count": null,
   "metadata": {},
   "outputs": [],
   "source": [
    "f, ax = plt.subplots(1,2)\n",
    "\n",
    "for i in range(10):\n",
    "    ax[0].plot(mssa_F.components_[0,:,i])\n",
    "    \n",
    "ax[1].imshow(mssa_F.w_correlation(mssa_F.components_[0, :, :]))"
   ]
  },
  {
   "cell_type": "markdown",
   "metadata": {},
   "source": [
    "## making a test dataset"
   ]
  },
  {
   "cell_type": "code",
   "execution_count": null,
   "metadata": {},
   "outputs": [],
   "source": [
    "N = 11\n",
    "T = 200\n",
    "\n",
    "def construct_rotating_Gaussian(N, T):\n",
    "    def Gaussian_2D(x, y, x0, y0, sigmax, sigmay):\n",
    "        return np.exp(-((x-x0)/sigmax)**2) * np.exp(-((y-y0)/sigmay)**2)\n",
    "\n",
    "    # coordinates\n",
    "    X, Y = np.meshgrid([np.arange(N)/(N-1)*2-1], [np.arange(N)*2/(N-1)-1])\n",
    "    R = np.sqrt(X**2+Y**2)\n",
    "\n",
    "    f, ax = plt.subplots(1,3)\n",
    "    for i, A in enumerate([X, Y, R]):\n",
    "        im = ax[i].imshow(A, cmap=['RdBu', 'RdBu', 'plasma'][i])\n",
    "        plt.colorbar(im, ax=ax[i], orientation='horizontal', fraction=0.25)    \n",
    "    \n",
    "    # rotating Gaussian\n",
    "    A = np.zeros((T, N**2))\n",
    "    for m, t in enumerate(np.linspace(0, 10*np.pi, T)):\n",
    "        x0 = 0.5*np.sin(t)\n",
    "        y0 = 0.5*np.cos(t)\n",
    "        for i, xi in enumerate(X.flatten()):\n",
    "            yi = Y.flatten()[i]\n",
    "            A[m,i] = Gaussian_2D(x=xi, y=yi, x0=x0, y0=y0, sigmax=.5, sigmay=.5)\n",
    "    A = A.reshape((T, N, N))\n",
    "\n",
    "    f, ax = plt.subplots(1, N, figsize=(12,3))\n",
    "    for i in range(N):\n",
    "        ax[i].imshow(A[i*4,:,:])\n",
    "        ax[i].axis('off')\n",
    "    \n",
    "    return A\n",
    "\n",
    "A = construct_rotating_Gaussian(N=N, T=T)"
   ]
  },
  {
   "cell_type": "code",
   "execution_count": null,
   "metadata": {},
   "outputs": [],
   "source": [
    "%%time\n",
    "def animate_function(A, frames):\n",
    "    fig, ax = plt.subplots(1,1)\n",
    "    im = plt.imshow(np.zeros((N,N)), vmin=0, vmax=1)\n",
    "    def animate(i):\n",
    "        im.set_array(A[i,:,:])\n",
    "        return [im]\n",
    "\n",
    "    return FuncAnimation(fig, animate, frames=frames)\n",
    "\n",
    "ani = animate_function(A, frames=int(T/5))"
   ]
  },
  {
   "cell_type": "code",
   "execution_count": null,
   "metadata": {
    "jupyter": {
     "outputs_hidden": true
    }
   },
   "outputs": [],
   "source": [
    "%%time\n",
    "ani"
   ]
  },
  {
   "cell_type": "markdown",
   "metadata": {},
   "source": [
    "## xarray"
   ]
  },
  {
   "cell_type": "code",
   "execution_count": null,
   "metadata": {},
   "outputs": [],
   "source": [
    "def construct_dataarray(A):\n",
    "    assert np.ndim(A)==3\n",
    "    T = len(A[:,0,0])\n",
    "    N = len(A[0,:,0])\n",
    "    coords = {'time':np.arange(T), 'lat':np.arange(N), 'lon':np.arange(N)}\n",
    "    dims = ('time','lat','lon')\n",
    "    da = xr.DataArray(data=A, coords=coords, dims=dims)\n",
    "    # stack lat and lon into a single dimension called allpoints\n",
    "    return da, da.stack(allpoints=['lat', 'lon'])"
   ]
  },
  {
   "cell_type": "code",
   "execution_count": null,
   "metadata": {
    "jupyter": {
     "outputs_hidden": true
    }
   },
   "outputs": [],
   "source": [
    "da, stacked = construct_dataarray(A)\n",
    "da"
   ]
  },
  {
   "cell_type": "code",
   "execution_count": null,
   "metadata": {},
   "outputs": [],
   "source": [
    "%%time\n",
    "# 3:03 mins\n",
    "mssa = MSSA(n_components=None, window_size=70, verbose=True)\n",
    "mssa.fit(stacked)"
   ]
  },
  {
   "cell_type": "code",
   "execution_count": null,
   "metadata": {},
   "outputs": [],
   "source": [
    "np.shape(mssa.components_)"
   ]
  },
  {
   "cell_type": "code",
   "execution_count": null,
   "metadata": {},
   "outputs": [],
   "source": [
    "f, ax = plt.subplots(3,2, figsize=(12,12))\n",
    "for j, k in enumerate([0, 10, 100]):\n",
    "    for i in range(10):\n",
    "        ax[j,0].plot(mssa.components_[k,:,i])\n",
    "        ax[j,1].imshow(mssa.w_correlation(mssa.components_[k, :, :]))"
   ]
  },
  {
   "cell_type": "code",
   "execution_count": null,
   "metadata": {},
   "outputs": [],
   "source": [
    "plt.imshow(mssa.w_correlation(mssa.components_[100, :, :30]))"
   ]
  },
  {
   "cell_type": "code",
   "execution_count": null,
   "metadata": {},
   "outputs": [],
   "source": [
    "# grouping the components by hand\n",
    "ts0_groups = []\n",
    "for i in range(13):\n",
    "    if i==0: ts0_groups.append([0])\n",
    "    ts0_groups.append([2*i+1, 2*i+2])\n",
    "    if i==12: ts0_groups.append(list(np.arange(27, 130)))\n",
    "print(ts0_groups)"
   ]
  },
  {
   "cell_type": "code",
   "execution_count": null,
   "metadata": {},
   "outputs": [],
   "source": [
    "ts0_grouped = mssa.grouped_components_[0]\n",
    "ts0_grouped.shape"
   ]
  },
  {
   "cell_type": "code",
   "execution_count": null,
   "metadata": {},
   "outputs": [],
   "source": [
    "f, ax = plt.subplots(3,2, figsize=(8,8))\n",
    "for j, k in enumerate([0, 10, 100]):\n",
    "    mssa.set_ts_component_groups(k, ts0_groups)\n",
    "    for i in range(15):\n",
    "        ax[j,0].plot(mssa.grouped_components_[k][:,i])\n",
    "        ax[j,1].plot(np.sum(mssa.grouped_components_[k][:,:i], axis=1))\n",
    "    ax[j,1].plot(stacked[:,k])\n",
    "        "
   ]
  },
  {
   "cell_type": "code",
   "execution_count": null,
   "metadata": {},
   "outputs": [],
   "source": [
    "f, ax = plt.subplots(1,2)\n",
    "ax[0].plot(mssa.explained_variance_)\n",
    "ax[1].plot(mssa.explained_variance_ratio_)"
   ]
  },
  {
   "cell_type": "markdown",
   "metadata": {},
   "source": [
    "## (automatic) grouping of components"
   ]
  },
  {
   "cell_type": "code",
   "execution_count": null,
   "metadata": {},
   "outputs": [],
   "source": [
    "N = 7\n",
    "T = 200\n",
    "A = construct_rotating_Gaussian(N=N, T=T)\n",
    "da, stacked = construct_dataarray(A)"
   ]
  },
  {
   "cell_type": "code",
   "execution_count": null,
   "metadata": {
    "jupyter": {
     "outputs_hidden": true
    }
   },
   "outputs": [],
   "source": [
    "ani = animate_function(A, frames=int(T/5))"
   ]
  },
  {
   "cell_type": "code",
   "execution_count": null,
   "metadata": {},
   "outputs": [],
   "source": [
    "ani"
   ]
  },
  {
   "cell_type": "markdown",
   "metadata": {},
   "source": [
    "## recovering of pattern\n",
    "there are three algorithms implements to automatically group the components: `svht`, `parallel_analysis`, `variance_threshold`"
   ]
  },
  {
   "cell_type": "code",
   "execution_count": null,
   "metadata": {},
   "outputs": [],
   "source": [
    "%%time\n",
    "mssa1 = MSSA(n_components='svht',\n",
    "            window_size=70,\n",
    "            verbose=True)\n",
    "mssa1.fit(stacked)\n",
    "print(mssa1.components_.shape)"
   ]
  },
  {
   "cell_type": "code",
   "execution_count": null,
   "metadata": {},
   "outputs": [],
   "source": [
    "%%time\n",
    "mssa2 = MSSA(n_components='variance_threshold',\n",
    "            variance_explained_threshold=0.95,\n",
    "            window_size=None,\n",
    "            verbose=True)\n",
    "mssa2.fit(stacked)\n",
    "print(mssa2.components_.shape)"
   ]
  },
  {
   "cell_type": "code",
   "execution_count": null,
   "metadata": {},
   "outputs": [],
   "source": [
    "%%time\n",
    "mssa3 = MSSA(n_components='parallel_analysis',\n",
    "            pa_percentile_threshold=95,\n",
    "            window_size=70,\n",
    "            verbose=True)\n",
    "mssa3.fit(stacked)\n",
    "print(mssa3.components_.shape)"
   ]
  },
  {
   "cell_type": "code",
   "execution_count": null,
   "metadata": {},
   "outputs": [],
   "source": [
    "def recover_pattern(mssa, stacked):\n",
    "    da = stacked.copy()\n",
    "    da.data = mssa.components_.sum(axis=2).T\n",
    "    return da.unstack()"
   ]
  },
  {
   "cell_type": "code",
   "execution_count": null,
   "metadata": {},
   "outputs": [],
   "source": [
    "stacked"
   ]
  },
  {
   "cell_type": "code",
   "execution_count": null,
   "metadata": {},
   "outputs": [],
   "source": [
    "for m in [mssa1, mssa2, mssa3]:\n",
    "    da = recover_pattern(m, stacked)\n",
    "    n = 10\n",
    "    f, ax = plt.subplots(1, n, figsize=(12,3))\n",
    "    for i in range(n):\n",
    "        ax[i].imshow(da[i*4,:,:])\n",
    "        error = ((da[i*4,:,:]-A[i*4,:,:])**2).values.sum()\n",
    "        ax[i].text(.05, .9, f'{error:2.1e}', transform=ax[i].transAxes, c='w')\n",
    "        ax[i].axis('off')        "
   ]
  },
  {
   "cell_type": "markdown",
   "metadata": {},
   "source": [
    "# testing performance"
   ]
  },
  {
   "cell_type": "code",
   "execution_count": null,
   "metadata": {},
   "outputs": [],
   "source": [
    "from datetime import datetime"
   ]
  },
  {
   "cell_type": "markdown",
   "metadata": {},
   "source": [
    "### sensitivity to `N`"
   ]
  },
  {
   "cell_type": "code",
   "execution_count": null,
   "metadata": {
    "jupyter": {
     "outputs_hidden": true
    }
   },
   "outputs": [],
   "source": [
    "%%time\n",
    "# 11:23 mins\n",
    "T = 200\n",
    "Ns, times = [], []\n",
    "for N in [2, 3, 5, 7, 9, 11, 13]:\n",
    "    A = construct_rotating_Gaussian(N=N, T=T)\n",
    "    da, stacked = construct_dataarray(A)\n",
    "    start = datetime.now()\n",
    "    mssa = MSSA(n_components=None, window_size=70, verbose=False)\n",
    "    mssa.fit(stacked)\n",
    "    Ns.append(N**2)\n",
    "    times.append((datetime.now()-start).total_seconds())\n",
    "    print(N**2, datetime.now()-start)"
   ]
  },
  {
   "cell_type": "code",
   "execution_count": null,
   "metadata": {},
   "outputs": [],
   "source": [
    "fit = np.polyfit(Ns, times, 1)\n",
    "plt.plot(Ns, times)\n",
    "plt.plot(Ns, [fit[0]*n + fit[1] for n in Ns])"
   ]
  },
  {
   "cell_type": "code",
   "execution_count": null,
   "metadata": {},
   "outputs": [],
   "source": []
  }
 ],
 "metadata": {
  "kernelspec": {
   "display_name": "Python 3",
   "language": "python",
   "name": "python3"
  },
  "language_info": {
   "codemirror_mode": {
    "name": "ipython",
    "version": 3
   },
   "file_extension": ".py",
   "mimetype": "text/x-python",
   "name": "python",
   "nbconvert_exporter": "python",
   "pygments_lexer": "ipython3",
   "version": "3.6.7"
  }
 },
 "nbformat": 4,
 "nbformat_minor": 4
}
