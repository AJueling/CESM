{
 "cells": [
  {
   "cell_type": "markdown",
   "metadata": {},
   "source": [
    "# SSA tutorial\n",
    "_https://www.kaggle.com/jdarcy/introducing-ssa-for-time-series-decomposition#Decomposing-Time-Series-Data-With-Singular-Spectrum-Analysis_"
   ]
  },
  {
   "cell_type": "code",
   "execution_count": null,
   "metadata": {},
   "outputs": [],
   "source": [
    "import numpy as np\n",
    "import pandas as pd\n",
    "import xarray as xr\n",
    "import matplotlib\n",
    "import matplotlib.pyplot as plt\n",
    "from matplotlib.animation import FuncAnimation\n",
    "\n",
    "from pymssa import MSSA\n",
    "matplotlib.rc_file('../rc_file')\n",
    "%matplotlib widget"
   ]
  },
  {
   "cell_type": "markdown",
   "metadata": {},
   "source": [
    "# get it to work with xarray "
   ]
  },
  {
   "cell_type": "code",
   "execution_count": null,
   "metadata": {},
   "outputs": [],
   "source": [
    "N = 200 # The number of time 'moments' in our toy series\n",
    "t = np.arange(0,N)\n",
    "trend = 0.001 * (t - 100)**2\n",
    "p1, p2 = 20, 30\n",
    "periodic1 = 2 * np.sin(2*np.pi*t/p1)\n",
    "periodic2 = 0.75 * np.sin(2*np.pi*t/p2)\n",
    "\n",
    "np.random.seed(123) # So we generate the same noisy time series every time.\n",
    "noise = 2 * (np.random.rand(N) - 0.5)\n",
    "F = trend + periodic1 + periodic2 + noise\n",
    "\n",
    "# Plot everything\n",
    "plt.plot(t, F, lw=2.5)\n",
    "plt.plot(t, trend, alpha=0.75)\n",
    "plt.plot(t, periodic1, alpha=0.75)\n",
    "plt.plot(t, periodic2, alpha=0.75)\n",
    "plt.plot(t, noise, alpha=0.5)\n",
    "plt.legend([\"Toy Series ($F$)\", \"Trend\", \"Periodic #1\", \"Periodic #2\", \"Noise\"])\n",
    "plt.xlabel(\"$t$\")\n",
    "plt.ylabel(\"$F(t)$\")\n",
    "plt.title(\"The Toy Time Series and its Components\");"
   ]
  },
  {
   "cell_type": "code",
   "execution_count": null,
   "metadata": {},
   "outputs": [],
   "source": [
    "da = xr.DataArray(data=F, coords={'time':np.arange(200)}, dims='time')"
   ]
  },
  {
   "cell_type": "code",
   "execution_count": null,
   "metadata": {},
   "outputs": [],
   "source": [
    "mssa_F = MSSA(n_components=None, window_size=70, verbose=True)\n",
    "mssa_F.fit(da)\n",
    "print(np.shape(mssa_F.components_))"
   ]
  },
  {
   "cell_type": "code",
   "execution_count": null,
   "metadata": {},
   "outputs": [],
   "source": [
    "f, ax = plt.subplots(1,2)\n",
    "\n",
    "for i in range(10):\n",
    "    ax[0].plot(mssa_F.components_[0,:,i])\n",
    "    \n",
    "ax[1].imshow(mssa_F.w_correlation(mssa.components_[0, :, :]))"
   ]
  },
  {
   "cell_type": "markdown",
   "metadata": {},
   "source": [
    "## making a test dataset"
   ]
  },
  {
   "cell_type": "code",
   "execution_count": null,
   "metadata": {},
   "outputs": [],
   "source": [
    "N = 11\n",
    "A = np.zeros((200,N,N))\n",
    "X, Y = np.meshgrid([np.arange(N)/(N-1)*2-1], [np.arange(N)*2/(N-1)-1])\n",
    "R = np.sqrt(X**2+Y**2)\n",
    "\n",
    "f, ax = plt.subplots(1,3)\n",
    "for i, A in enumerate([X, Y, R]):\n",
    "    im = ax[i].imshow(A, cmap=['RdBu', 'RdBu', 'plasma'][i])\n",
    "    plt.colorbar(im, ax=ax[i], orientation='horizontal', fraction=0.25)    "
   ]
  },
  {
   "cell_type": "code",
   "execution_count": null,
   "metadata": {},
   "outputs": [],
   "source": [
    "def Gaussian_2D(x, y, x0, y0, sigmax, sigmay):\n",
    "    return np.exp(-((x-x0)/sigmax)**2) * np.exp(-((y-y0)/sigmay)**2)\n",
    "T = 200\n",
    "A = np.zeros((T, N**2))\n",
    "\n",
    "for m, t in enumerate(np.linspace(0, 10*np.pi, T)):\n",
    "    x0 = 0.5*np.sin(t)\n",
    "    y0 = 0.5*np.cos(t)\n",
    "    for i, xi in enumerate(X.flatten()):\n",
    "        yi = Y.flatten()[i]\n",
    "        A[m,i] = Gaussian_2D(x=xi, y=yi, x0=x0, y0=y0, sigmax=.5, sigmay=.5)\n",
    "A = A.reshape((T, N, N))"
   ]
  },
  {
   "cell_type": "code",
   "execution_count": null,
   "metadata": {},
   "outputs": [],
   "source": [
    "f, ax = plt.subplots(1, N, figsize=(12,3))\n",
    "for i in range(N):\n",
    "    ax[i].imshow(A[i*4,:,:])"
   ]
  },
  {
   "cell_type": "code",
   "execution_count": null,
   "metadata": {},
   "outputs": [],
   "source": [
    "fig, ax = plt.subplots(1,1)\n",
    "im = plt.imshow(np.zeros((N,N)), vmin=0, vmax=1)\n",
    "\n",
    "def animate(i):\n",
    "    im.set_array(A[i,:,:])\n",
    "    return [im]\n",
    "\n",
    "ani = FuncAnimation(fig, animate, frames=int(T/5))"
   ]
  },
  {
   "cell_type": "code",
   "execution_count": null,
   "metadata": {},
   "outputs": [],
   "source": [
    "ani"
   ]
  },
  {
   "cell_type": "markdown",
   "metadata": {},
   "source": [
    "## xarray"
   ]
  },
  {
   "cell_type": "code",
   "execution_count": null,
   "metadata": {},
   "outputs": [],
   "source": [
    "da = xr.DataArray(data=A,\n",
    "                  coords={'time':np.arange(200),\n",
    "                          'lat':np.arange(11),\n",
    "                          'lon':np.arange(11)},\n",
    "                  dims=('time','lat','lon')\n",
    "                 )"
   ]
  },
  {
   "cell_type": "code",
   "execution_count": null,
   "metadata": {},
   "outputs": [],
   "source": [
    "da"
   ]
  },
  {
   "cell_type": "code",
   "execution_count": null,
   "metadata": {},
   "outputs": [],
   "source": [
    "mssa = MSSA(n_components=None,\n",
    "            window_size=70,\n",
    "            verbose=True)"
   ]
  },
  {
   "cell_type": "code",
   "execution_count": null,
   "metadata": {},
   "outputs": [],
   "source": [
    "# stack lat and lon into a single dimension called allpoints\n",
    "stacked = da.stack(allpoints=['lat', 'lon'])\n",
    "stacked\n",
    "\n",
    "# trend = stacked.groupby('allpoints').apply(xr_linear_trend)\n",
    "#         # unstack back to lat lon coordinates\n",
    "# da_trend = trend.unstack('allpoints')"
   ]
  },
  {
   "cell_type": "code",
   "execution_count": null,
   "metadata": {},
   "outputs": [],
   "source": []
  },
  {
   "cell_type": "code",
   "execution_count": null,
   "metadata": {},
   "outputs": [],
   "source": [
    "%%time\n",
    "mssa.fit(stacked)"
   ]
  },
  {
   "cell_type": "code",
   "execution_count": null,
   "metadata": {},
   "outputs": [],
   "source": [
    "stacked"
   ]
  },
  {
   "cell_type": "code",
   "execution_count": null,
   "metadata": {},
   "outputs": [],
   "source": [
    "np.shape(mssa.components_)"
   ]
  },
  {
   "cell_type": "code",
   "execution_count": null,
   "metadata": {},
   "outputs": [],
   "source": [
    "f, ax = plt.subplots(3,2, figsize=(12,12))\n",
    "for j, k in enumerate([0, 10, 100]):\n",
    "    for i in range(10):\n",
    "        ax[j,0].plot(mssa.components_[k,:,i])\n",
    "        ax[j,1].imshow(mssa.w_correlation(mssa.components_[k, :, :]))"
   ]
  },
  {
   "cell_type": "code",
   "execution_count": null,
   "metadata": {},
   "outputs": [],
   "source": [
    "f, ax = plt.subplots(1,2)\n",
    "ax[0].plot(mssa.explained_variance_)\n",
    "ax[1].plot(mssa.explained_variance_ratio_)"
   ]
  },
  {
   "cell_type": "code",
   "execution_count": null,
   "metadata": {},
   "outputs": [],
   "source": [
    "plt.plot(mssa.component_ranks_[0,:20])"
   ]
  },
  {
   "cell_type": "code",
   "execution_count": null,
   "metadata": {},
   "outputs": [],
   "source": [
    "plt.imshow(mssa.component_ranks_, vmax=30)\n",
    "plt.colorbar()"
   ]
  },
  {
   "cell_type": "markdown",
   "metadata": {},
   "source": [
    "## (automatic) grouping of components"
   ]
  },
  {
   "cell_type": "code",
   "execution_count": null,
   "metadata": {},
   "outputs": [],
   "source": []
  },
  {
   "cell_type": "markdown",
   "metadata": {},
   "source": [
    "## recovering of pattern"
   ]
  },
  {
   "cell_type": "code",
   "execution_count": null,
   "metadata": {},
   "outputs": [],
   "source": []
  },
  {
   "cell_type": "markdown",
   "metadata": {},
   "source": [
    "# testing erformance"
   ]
  },
  {
   "cell_type": "code",
   "execution_count": null,
   "metadata": {},
   "outputs": [],
   "source": []
  },
  {
   "cell_type": "code",
   "execution_count": null,
   "metadata": {},
   "outputs": [],
   "source": []
  }
 ],
 "metadata": {
  "kernelspec": {
   "display_name": "Python 3",
   "language": "python",
   "name": "python3"
  },
  "language_info": {
   "codemirror_mode": {
    "name": "ipython",
    "version": 3
   },
   "file_extension": ".py",
   "mimetype": "text/x-python",
   "name": "python",
   "nbconvert_exporter": "python",
   "pygments_lexer": "ipython3",
   "version": "3.6.7"
  }
 },
 "nbformat": 4,
 "nbformat_minor": 4
}
