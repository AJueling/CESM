{
 "cells": [
  {
   "cell_type": "markdown",
   "metadata": {},
   "source": [
    "# Sea Surface Temperature indices of multidecadal variability"
   ]
  },
  {
   "cell_type": "code",
   "execution_count": null,
   "metadata": {},
   "outputs": [],
   "source": [
    "import os\n",
    "import sys\n",
    "import scipy as sp\n",
    "import numpy as np\n",
    "import xarray as xr\n",
    "import seaborn as sns\n",
    "import cmocean\n",
    "import cartopy\n",
    "import cartopy.crs as ccrs\n",
    "import matplotlib\n",
    "import matplotlib.pyplot as plt\n",
    "import matplotlib.patches as mpatches"
   ]
  },
  {
   "cell_type": "code",
   "execution_count": null,
   "metadata": {},
   "outputs": [],
   "source": [
    "%matplotlib inline\n",
    "%config InlineBackend.print_figure_kwargs={'bbox_inches':None}\n",
    "%load_ext autoreload\n",
    "%autoreload 2\n",
    "%aimport - numpy - scipy - matplotlib.pyplot\n",
    "matplotlib.rc_file('../rc_file')"
   ]
  },
  {
   "cell_type": "code",
   "execution_count": null,
   "metadata": {},
   "outputs": [],
   "source": [
    "sys.path.append(\"..\")\n",
    "from OHC import t2da, t2ds\n",
    "from SST import SST_index, EOF_SST_analysis\n",
    "from maps import map_robinson, map_eq_earth, rect_polygon, make_map\n",
    "from grid import find_array_idx\n",
    "from paths import path_results, path_samoc, file_ex_ocn_ctrl, file_ex_ocn_rect\n",
    "from filters import bandpass, highpass, chebychev\n",
    "from regions import boolean_mask, global_ocean, SST_index_bounds\n",
    "from plotting import shifted_color_map, discrete_cmap\n",
    "from bd_analysis_indices import IndexAnalysis\n",
    "from timeseries import IterateOutputCESM\n",
    "from xr_DataArrays import xr_AREA\n",
    "from xr_regression import xr_lintrend, xr_linear_trends_2D, xr_linear_trend, xr_quadtrend,\\\n",
    "                          ocn_field_regression, lag_linregress_3D"
   ]
  },
  {
   "cell_type": "markdown",
   "metadata": {},
   "source": [
    "## indices from `SST_generation.py`"
   ]
  },
  {
   "cell_type": "code",
   "execution_count": null,
   "metadata": {},
   "outputs": [],
   "source": [
    "ctrl_starts = np.arange(1, 152, 10)\n",
    "lpd_starts = np.arange(154, 415, 10)\n",
    "\n",
    "f, ax = plt.subplots(3, 1, figsize=(10,6))#, sharex=True)\n",
    "for i, run in enumerate(['ctrl', 'lpd', 'had']):\n",
    "    dt = [0, 200, 800][i]\n",
    "    ax[2].set_xlabel('time [year]')\n",
    "    for j, idx in enumerate(['AMO', 'SOM', 'TPI']):\n",
    "        fn = f'{path_samoc}/SST/{idx}_{run}.nc'\n",
    "        da = xr.open_dataarray(fn)\n",
    "        if run=='had':\n",
    "            label = 'two-factor'\n",
    "            c = 'C2'\n",
    "        else:\n",
    "            label = 'scaled quadratic GMSST fit'\n",
    "            c = 'C0'\n",
    "        if i==0: label=None\n",
    "        ax[j].plot(da[7:-7].time/365+dt, da[7:-7],         c=c, label=label)\n",
    "        ax[j].plot(da[:7]  .time/365+dt, da[:7]  , ls=':', c=c)\n",
    "        ax[j].plot(da[-7:] .time/365+dt, da[-7:] , ls=':', c=c)\n",
    "            \n",
    "        if run in ['ctrl', 'lpd']:\n",
    "            for k, t in enumerate([ctrl_starts, lpd_starts][i]):\n",
    "                tslice = (t, t+148)\n",
    "                fns = f'{path_samoc}/SST/{idx}_{run}_{tslice[0]}_{tslice[1]}.nc'\n",
    "                das = xr.open_dataarray(fns)\n",
    "                if i==1 and k==0:  label='segment linear'\n",
    "                else: label=None\n",
    "                ax[j].plot(das[7:-7].time/365+dt, das[7:-7],         c='grey', lw=1, label=label)\n",
    "                ax[j].plot(das[:7]  .time/365+dt, das[:7]  , ls=':', c='grey', lw=1)\n",
    "                ax[j].plot(das[-7:] .time/365+dt, das[-7:] , ls=':', c='grey', lw=1)\n",
    "            \n",
    "            da = xr.open_dataarray(f'{path_samoc}/SST/{idx}_quadratic_pwdt_{run}.nc')\n",
    "            \n",
    "            if i==1: label = 'pointwise quadratic'\n",
    "            ax[j].plot(da[7:-7].time/365+dt, da[7:-7],         c='C1', lw=1.5, label=label)\n",
    "            ax[j].plot(da[:7]  .time/365+dt, da[:7]  , ls=':', c='C1', lw=1.5)\n",
    "            ax[j].plot(da[-7:] .time/365+dt, da[-7:] , ls=':', c='C1', lw=1.5)\n",
    "            \n",
    "        ax[j].set_ylabel(idx)\n",
    "        ax[j].axhline(0, c='k', lw=.5)\n",
    "        if i>0 and j==1:\n",
    "            ax[j].legend(ncol=4)\n",
    "        ax[j].set_xticks(np.arange(0,1000,50))\n",
    "ax[0].text(150, -.35, 'CTRL', ha='center')\n",
    "ax[0].text(500, -.35, 'LPD' , ha='center')\n",
    "ax[0].text(900, -.35, 'HAD' , ha='center')\n",
    "ax[2].set_xlim((-20, 970))\n",
    "plt.savefig(f'{path_results}/SST/SST_indices_different_dt')"
   ]
  },
  {
   "cell_type": "code",
   "execution_count": null,
   "metadata": {},
   "outputs": [],
   "source": [
    "from bb_analysis_timeseries import AnalyzeTimeSeries as ATS"
   ]
  },
  {
   "cell_type": "code",
   "execution_count": null,
   "metadata": {},
   "outputs": [],
   "source": [
    "f, ax = plt.subplots(3, 3, figsize=(10,6), sharex=True, sharey=True, constrained_layout=True)\n",
    "for i, run in enumerate(['ctrl', 'lpd', 'had']):\n",
    "    if run=='had':\n",
    "        dt = 'GMST_tfdt'\n",
    "    else:\n",
    "        dt = 'quadratic_pwdt'\n",
    "    \n",
    "    for j, idx in enumerate(['AMO', 'SOM', 'TPI']):\n",
    "        if idx=='TPI':\n",
    "            da1 = xr.open_dataarray(f'{path_samoc}/SST/{idx}1_{dt}_raw_{run}.nc')\n",
    "            da2 = xr.open_dataarray(f'{path_samoc}/SST/{idx}2_{dt}_raw_{run}.nc')\n",
    "            da3 = xr.open_dataarray(f'{path_samoc}/SST/{idx}3_{dt}_raw_{run}.nc')\n",
    "            da = da2 - (da1+da3)/2\n",
    "        else:\n",
    "            da = xr.open_dataarray(f'{path_samoc}/SST/{idx}_{dt}_raw_{run}.nc')\n",
    "        \n",
    "        ft, fc = 'lowpass', 13\n",
    "        spec = ATS(da).spectrum(filter_type=ft, filter_cutoff=fc)  # spectrum\n",
    "        rnsp = ATS(da).mc_ar1_spectrum(filter_type=ft, filter_cutoff=fc)  # red noise spectrum\n",
    "\n",
    "        ax[j,i].plot(1/rnsp[1,:], rnsp[3,:]   , c='C1',                 label='AR(1) 95% C.I.')\n",
    "        ax[j,i].plot(1/rnsp[1,:], rnsp[0,:]   , c='C1', lw=.5, ls=':' , label='AR(1) median')\n",
    "        ax[j,i].plot(1/spec[1]  , spec[0]     , c='C0',                 label='MT spectrum')\n",
    "        ax[j,i].loglog(1/spec[1], spec[2].T[1], c='C0', lw=.5, ls='--', label='jackknife est.')\n",
    "        \n",
    "        ax[j,0].set_ylabel(idx)\n",
    "        ax[j,0].set_ylim((1e-4, 1e0))\n",
    "        if i==0 and j==0:\n",
    "            ax[j,i].legend(loc=4)\n",
    "        ax[j,i].set_xlim((10,160))\n",
    "        ax[j,i].set_xscale('log')\n",
    "        ax[j,i].set_xticks([10,20,40,80,160])\n",
    "        ax[j,i].get_xaxis().set_major_formatter(matplotlib.ticker.ScalarFormatter())\n",
    "        ax[j,i].set_yscale('log')\n",
    "    \n",
    "    ax[0,i].title.set_text(run.upper())\n",
    "    ax[2,i].set_xlabel('period [years]')\n",
    "plt.savefig(f'{path_results}/SST/SST_indices_spectra')"
   ]
  },
  {
   "cell_type": "markdown",
   "metadata": {},
   "source": [
    "## generating the indices"
   ]
  },
  {
   "cell_type": "code",
   "execution_count": null,
   "metadata": {},
   "outputs": [],
   "source": [
    "from SST_data_generation import DeriveSSTIndices"
   ]
  },
  {
   "cell_type": "code",
   "execution_count": null,
   "metadata": {},
   "outputs": [],
   "source": [
    "%%time\n",
    "# ca. 1:10 min for single ctrl run\n",
    "# only seconds for lpd and had\n",
    "for run in ['had', 'ctrl', 'lpd']:\n",
    "    DeriveSSTIndices.derive_all_SST_avg_indices(run)"
   ]
  },
  {
   "cell_type": "code",
   "execution_count": null,
   "metadata": {},
   "outputs": [],
   "source": [
    "# Filtering\n",
    "# Lowpass filter\n",
    "# cf. Chebychev filter results appended at bottom\n",
    "for run in ['ctrl', 'lpd', 'had']:\n",
    "    DeriveSSTIndices.derive_final_SST_indices(run)"
   ]
  },
  {
   "cell_type": "code",
   "execution_count": null,
   "metadata": {},
   "outputs": [],
   "source": [
    "DeriveSSTIndices.derive_final_SST_indices('lpd')"
   ]
  },
  {
   "cell_type": "code",
   "execution_count": null,
   "metadata": {},
   "outputs": [],
   "source": [
    "f, ax = plt.subplots(3,1, figsize=(8,8))\n",
    "for i, run in enumerate(['had','ctrl', 'lpd']):\n",
    "    for j, idx in enumerate(['AMO', 'SOM', 'TPI']):\n",
    "        if run=='had':\n",
    "            fns = [f'{path_samoc}/SST/{idx}_{run}.nc']\n",
    "        elif run=='ctrl':\n",
    "            fns = [f'{path_samoc}/SST/{idx}_100_248_{run}.nc', f'{path_samoc}/SST/{idx}_151_299_{run}.nc']\n",
    "        elif run=='lpd':\n",
    "            fns = [f'{path_samoc}/SST/{idx}_268_416_{run}.nc', f'{path_samoc}/SST/{idx}_417_565_{run}.nc']\n",
    "        for fn in fns:\n",
    "            da = xr.open_dataarray(fn, decode_times=False)\n",
    "            ax[i].plot(np.arange(149), da.values, c=f'C{i}')"
   ]
  },
  {
   "cell_type": "code",
   "execution_count": null,
   "metadata": {},
   "outputs": [],
   "source": [
    "AMO_GMST_had.plot()"
   ]
  },
  {
   "cell_type": "code",
   "execution_count": null,
   "metadata": {},
   "outputs": [],
   "source": [
    "# SST_yrly_ctrl = xr.open_dataarray(f'{path_samoc}/SST/SST_yrly_ctrl.nc', decode_times=False)\n",
    "# SST_yrly_rcp  = xr.open_dataarray(f'{path_samoc}/SST/SST_yrly_rcp.nc' , decode_times=False)\n",
    "# SST_yrly_lpd  = xr.open_dataarray(f'{path_samoc}/SST/SST_yrly_lpd.nc' , decode_times=False)\n",
    "# SST_yrly_lpi  = xr.open_dataarray(f'{path_samoc}/SST/SST_yrly_lpi.nc' , decode_times=False)\n",
    "# SST_yrly_had  = xr.open_dataarray(f'{path_samoc}/SST/SST_yrly_had.nc' , decode_times=False)"
   ]
  },
  {
   "cell_type": "markdown",
   "metadata": {},
   "source": [
    "## analysisng the indices"
   ]
  },
  {
   "cell_type": "code",
   "execution_count": null,
   "metadata": {},
   "outputs": [],
   "source": [
    "AMO = IndexAnalysis(index='AMO')\n",
    "SOM = IndexAnalysis(index='SOM')\n",
    "TPI = IndexAnalysis(index='TPI')"
   ]
  },
  {
   "cell_type": "code",
   "execution_count": null,
   "metadata": {},
   "outputs": [],
   "source": [
    "%%time\n",
    "for run in ['ctrl', 'lpd', 'had']:\n",
    "    AMO.plot_yrly_regr_maps(run)\n",
    "    SOM.plot_yrly_regr_maps(run)\n",
    "    TPI.plot_yrly_regr_maps(run)\n",
    "    "
   ]
  },
  {
   "cell_type": "code",
   "execution_count": null,
   "metadata": {},
   "outputs": [],
   "source": [
    "%%time\n",
    "# 7:15 for all\n",
    "for Index in [AMO, SOM, TPI]:\n",
    "    Index.make_regression_files()"
   ]
  },
  {
   "cell_type": "code",
   "execution_count": null,
   "metadata": {},
   "outputs": [],
   "source": [
    "f, ax = plt.subplots(3, 3, figsize=(20,20))\n",
    "for j, idx in enumerate(['AMO', 'SOM', 'TPI']):\n",
    "    for i, run in enumerate(['had', 'ctrl', 'lpd']):\n",
    "        da = xr.open_dataset(f'{path_samoc}/SST/{idx}_regr_{run}.nc').slope\n",
    "        da.plot(ax=ax[i,j], vmax=0.5, vmin=-.5, cmap='RdBu_r')\n",
    "plt.tight_layout()"
   ]
  },
  {
   "cell_type": "markdown",
   "metadata": {},
   "source": [
    "# detrend with GMST (Kajtar et al. (2019))"
   ]
  },
  {
   "cell_type": "code",
   "execution_count": null,
   "metadata": {},
   "outputs": [],
   "source": [
    "runs = ['ctrl', 'rcp', 'lpd', 'lpi', 'had']\n",
    "indices = [AMO, TPI, SOM]"
   ]
  },
  {
   "cell_type": "code",
   "execution_count": null,
   "metadata": {},
   "outputs": [],
   "source": [
    "for index in indices:\n",
    "    index.plot_all_indices()"
   ]
  },
  {
   "cell_type": "code",
   "execution_count": null,
   "metadata": {},
   "outputs": [],
   "source": [
    "%%time\n",
    "for index in indices:\n",
    "    index.plot_all_spectra()\n",
    "    index.plot_all_autocorrelations()\n",
    "    for run in runs:\n",
    "        index.plot_spectrum_ar1(run)"
   ]
  },
  {
   "cell_type": "markdown",
   "metadata": {},
   "source": [
    "### Variances"
   ]
  },
  {
   "cell_type": "code",
   "execution_count": null,
   "metadata": {},
   "outputs": [],
   "source": [
    "def plot_variances(filter_type, cutoff):\n",
    "    f = plt.figure(figsize=(5,5))\n",
    "    plt.tick_params(labelsize=14)\n",
    "    \n",
    "    f = bandpass\n",
    "    plt.title(f'{filter_type}: {cutoff[1]}-{cutoff[0]} years', fontsize=14)\n",
    "    fn = f'{path_results}/SST/SST_index_variance_{cutoff[1]}_{cutoff[0]}_years'\n",
    "        \n",
    "    Ms = []\n",
    "    for i, index in enumerate(indices):\n",
    "        for j, run in enumerate(runs):\n",
    "            m = ['D','s','^','v','o'][j]\n",
    "            M = plt.scatter(i, f(index.all_indices[run], cutoff).std(dim='time'), c=f'C{j}', s=80, marker=m, label=run.upper())\n",
    "            if i==0: Ms.append(M)\n",
    "#     plt.legend(fontsize=14, loc=1)\n",
    "    plt.legend(handles=Ms, fontsize=14, loc=9)\n",
    "    plt.xticks(range(3), ['AMO', 'TPI', 'SOM'], fontsize=14)\n",
    "    plt.ylabel('standard deviation [K]', fontsize=14)\n",
    "    plt.tight_layout()\n",
    "    plt.savefig(fn)\n",
    "    \n",
    "plot_variances('bandpass', np.array([30,10]))\n",
    "plot_variances('bandpass', np.array([50,20]))\n",
    "plot_variances('bandpass', np.array([100,30]))"
   ]
  },
  {
   "cell_type": "code",
   "execution_count": null,
   "metadata": {},
   "outputs": [],
   "source": []
  },
  {
   "cell_type": "code",
   "execution_count": null,
   "metadata": {},
   "outputs": [],
   "source": []
  },
  {
   "cell_type": "code",
   "execution_count": null,
   "metadata": {},
   "outputs": [],
   "source": []
  },
  {
   "cell_type": "markdown",
   "metadata": {},
   "source": [
    "### Regression maps "
   ]
  },
  {
   "cell_type": "code",
   "execution_count": null,
   "metadata": {},
   "outputs": [],
   "source": []
  },
  {
   "cell_type": "code",
   "execution_count": null,
   "metadata": {},
   "outputs": [],
   "source": []
  },
  {
   "cell_type": "code",
   "execution_count": null,
   "metadata": {},
   "outputs": [],
   "source": [
    "ds = xr.open_dataset(f'{path_samoc}/SST/AMO_regr_lpd.nc')"
   ]
  },
  {
   "cell_type": "code",
   "execution_count": null,
   "metadata": {},
   "outputs": [],
   "source": [
    "%%time\n",
    "for Index in [AMO, SOM, TPI]:\n",
    "    Index.plot_regression_map('had')\n",
    "    Index.plot_regression_map('ctrl')\n",
    "    Index.plot_regression_map('lpd')"
   ]
  },
  {
   "cell_type": "code",
   "execution_count": null,
   "metadata": {},
   "outputs": [],
   "source": [
    "type(rect_polygon(SST_index_bounds('AMO')))"
   ]
  },
  {
   "cell_type": "code",
   "execution_count": null,
   "metadata": {},
   "outputs": [],
   "source": [
    "# %%time\n",
    "# # 2:55\n",
    "# AMO_GMST_ctrl = SST_index('AMO', 'ctrl', detrend_signal='GMST')\n",
    "# AMO_GMST_rcp  = SST_index('AMO', 'rcp' , detrend_signal='GMST')\n",
    "# AMO_GMST_lpi  = SST_index('AMO', 'lpi' , detrend_signal='GMST')\n",
    "# AMO_GMST_lpd  = SST_index('AMO', 'lpd' , detrend_signal='GMST')\n",
    "# AMO_GMST_had  = SST_index('AMO', 'had' , detrend_signal='GMST')\n",
    "\n",
    "# AMO_rgnl_ctrl = SST_index('AMO', 'ctrl', detrend_signal='AMO')\n",
    "# AMO_rgnl_rcp  = SST_index('AMO', 'rcp' , detrend_signal='AMO')\n",
    "# AMO_rgnl_lpi  = SST_index('AMO', 'lpi' , detrend_signal='AMO')\n",
    "# AMO_rgnl_lpd  = SST_index('AMO', 'lpd' , detrend_signal='AMO')\n",
    "# AMO_rgnl_had  = SST_index('AMO', 'had' , detrend_signal='AMO')"
   ]
  },
  {
   "cell_type": "code",
   "execution_count": null,
   "metadata": {},
   "outputs": [],
   "source": [
    "AMO_GMST_ctrl = xr.open_dataarray(f'{path_samoc}/SST/AMO_GMST_dt_raw_ctrl.nc')\n",
    "AMO_GMST_rcp  = xr.open_dataarray(f'{path_samoc}/SST/AMO_GMST_dt_raw_rcp.nc' )\n",
    "AMO_GMST_lpi  = xr.open_dataarray(f'{path_samoc}/SST/AMO_GMST_dt_raw_lpi.nc' )\n",
    "AMO_GMST_lpd  = xr.open_dataarray(f'{path_samoc}/SST/AMO_GMST_dt_raw_lpd.nc' )\n",
    "AMO_GMST_had  = xr.open_dataarray(f'{path_samoc}/SST/AMO_GMST_dt_raw_had.nc' )\n",
    "\n",
    "AMO_rgnl_ctrl = xr.open_dataarray(f'{path_samoc}/SST/AMO_raw_ctrl.nc')\n",
    "AMO_rgnl_rcp  = xr.open_dataarray(f'{path_samoc}/SST/AMO_raw_rcp.nc' )\n",
    "AMO_rgnl_lpi  = xr.open_dataarray(f'{path_samoc}/SST/AMO_raw_lpi.nc' )\n",
    "AMO_rgnl_lpd  = xr.open_dataarray(f'{path_samoc}/SST/AMO_raw_lpd.nc' )\n",
    "AMO_rgnl_had  = xr.open_dataarray(f'{path_samoc}/SST/AMO_AMO_dt_raw_had.nc' )\n",
    "\n",
    "AMO_rgnl_ctrl -= xr_lintrend(AMO_rgnl_ctrl)\n",
    "AMO_rgnl_rcp  -= xr_quadtrend(AMO_rgnl_rcp )\n",
    "AMO_rgnl_lpi  -= xr_lintrend(AMO_rgnl_lpi )\n",
    "AMO_rgnl_lpd  -= xr_lintrend(AMO_rgnl_lpd )"
   ]
  },
  {
   "cell_type": "code",
   "execution_count": null,
   "metadata": {},
   "outputs": [],
   "source": [
    "AMO_ctrl = lowpass(AMO_rgnl_ctrl, 13) \n",
    "AMO_rcp  = lowpass(AMO_rgnl_rcp , 13) \n",
    "AMO_lpi  = lowpass(AMO_rgnl_lpi , 13) \n",
    "AMO_lpd  = lowpass(AMO_rgnl_lpd , 13) \n",
    "AMO_had  = lowpass(AMO_rgnl_had , 13)\n",
    "\n",
    "AMO_ctrl.to_netcdf(f'{path_samoc}/SST/AMO_ctrl.nc')\n",
    "AMO_rcp .to_netcdf(f'{path_samoc}/SST/AMO_rcp.nc' )\n",
    "AMO_lpi .to_netcdf(f'{path_samoc}/SST/AMO_lpi.nc' )\n",
    "AMO_lpd .to_netcdf(f'{path_samoc}/SST/AMO_lpd.nc' )\n",
    "AMO_had .to_netcdf(f'{path_samoc}/SST/AMO_had.nc' )"
   ]
  },
  {
   "cell_type": "code",
   "execution_count": null,
   "metadata": {},
   "outputs": [],
   "source": [
    "AMO_GMST_dt_ctrl = lowpass(AMO_GMST_ctrl, 13) \n",
    "AMO_GMST_dt_rcp  = lowpass(AMO_GMST_rcp , 13) \n",
    "AMO_GMST_dt_lpi  = lowpass(AMO_GMST_lpi , 13) \n",
    "AMO_GMST_dt_lpd  = lowpass(AMO_GMST_lpd , 13) \n",
    "AMO_GMST_dt_had  = lowpass(AMO_GMST_had , 13)\n",
    "\n",
    "AMO_GMST_dt_ctrl.to_netcdf(f'{path_samoc}/SST/AMO_GMST_dt_ctrl.nc')\n",
    "AMO_GMST_dt_rcp .to_netcdf(f'{path_samoc}/SST/AMO_GMST_dt_rcp.nc' )\n",
    "AMO_GMST_dt_lpi .to_netcdf(f'{path_samoc}/SST/AMO_GMST_dt_lpi.nc' )\n",
    "AMO_GMST_dt_lpd .to_netcdf(f'{path_samoc}/SST/AMO_GMST_dt_lpd.nc' )\n",
    "AMO_GMST_dt_had .to_netcdf(f'{path_samoc}/SST/AMO_GMST_dt_had.nc' )"
   ]
  },
  {
   "cell_type": "code",
   "execution_count": null,
   "metadata": {},
   "outputs": [],
   "source": [
    "AMO_rgnl_rcp.plot()"
   ]
  },
  {
   "cell_type": "code",
   "execution_count": null,
   "metadata": {},
   "outputs": [],
   "source": [
    "GMSTs = [AMO_GMST_ctrl, AMO_GMST_rcp, AMO_GMST_lpi, AMO_GMST_lpd, AMO_GMST_had ]\n",
    "rgnls = [AMO_rgnl_ctrl, AMO_rgnl_rcp, AMO_rgnl_lpi, AMO_rgnl_lpd, AMO_rgnl_had ]\n",
    "\n",
    "f, ax = plt.subplots(5, 1, figsize=(8,12))\n",
    "for i in range(5):\n",
    "    r = np.corrcoef(xr.align(lowpass(GMSTs[i], 13), lowpass(rgnls[i], 13)))[0,1]\n",
    "    run = ['ctrl', 'rcp', 'lpd', 'lpi', 'had'][i]\n",
    "    ax[i].set_ylabel(f'AMO index [K]', fontsize=14)\n",
    "    ax[i].text(.02, .85, run.upper(), transform=ax[i].transAxes, fontsize=16)\n",
    "    ax[i].text(.98, .85, f'r={r:4.2f}', transform=ax[i].transAxes, fontsize=12, horizontalalignment='right')\n",
    "    ax[i].tick_params(labelsize=14)\n",
    "    ax[i].axhline(0, c='k', lw=.5)\n",
    "   \n",
    "    rgnls[i] -= rgnls[i].mean(dim='time')\n",
    "    if i==4:\n",
    "        time_G = GMSTs[i].time/365 + 1870\n",
    "        time_r = rgnls[i].time/365 + 1870\n",
    "    else: \n",
    "        time_G = GMSTs[i].time/365\n",
    "        time_r = rgnls[i].time/365\n",
    "        \n",
    "    ax[i].plot(time_G,         GMSTs[i]     , label=r'raw AMO$_{\\mathrm{GMST}}$', alpha=.3)\n",
    "    ax[i].plot(time_G, lowpass(GMSTs[i], 13), label=r'AMO$_{\\mathrm{GMST}}$')\n",
    "        \n",
    "    ax[i].plot(time_r,         rgnls[i]     , label=r'raw AMO$_{\\mathrm{rgnl}}$', alpha=.3)\n",
    "    ax[i].plot(time_r, lowpass(rgnls[i], 13), label=r'AMO$_{\\mathrm{rgnl}}$')\n",
    "    if i==0:\n",
    "        ax[i].legend(loc=4, ncol=4, fontsize=12)\n",
    "ax[4].set_xlabel('time [years]', fontsize=14)\n",
    "f.align_ylabels()\n",
    "plt.tight_layout()\n",
    "plt.savefig(f'{path_results}/SST/AMO_overview_GMST_rgnl')"
   ]
  },
  {
   "cell_type": "markdown",
   "metadata": {},
   "source": [
    "I decide to use the 13 year lowpass filtered `rgnl` AMO signal, because:\n",
    "1. the whole SST time series is available, because I detrend with SSTs\n",
    "1. it is very similar to the scaled GMST time series"
   ]
  },
  {
   "cell_type": "markdown",
   "metadata": {},
   "source": [
    "# SST indices"
   ]
  },
  {
   "cell_type": "code",
   "execution_count": null,
   "metadata": {},
   "outputs": [],
   "source": [
    "MASK_ocn  = boolean_mask('ocn'     , 0)\n",
    "MASK_low  = boolean_mask('ocn_low' , 0)\n",
    "MASK_rect = boolean_mask('ocn_rect', 0)"
   ]
  },
  {
   "cell_type": "code",
   "execution_count": null,
   "metadata": {},
   "outputs": [],
   "source": [
    "TAREA       = xr_AREA('ocn')\n",
    "AREA_low    = xr_AREA('ocn_low')\n",
    "AREA_rect   = xr_AREA('ocn_rect')"
   ]
  },
  {
   "cell_type": "markdown",
   "metadata": {},
   "source": [
    "# Atlantic Ocean"
   ]
  },
  {
   "cell_type": "markdown",
   "metadata": {},
   "source": [
    "## Atlantic Multidecadal Oscillation\n",
    "from Wikipedia:\n",
    "> Several methods have been proposed to remove the global trend and El Niño-Southern Oscillation (ENSO) influence over the North Atlantic SST. Trenberth and Shea, assuming that the effect of global forcing over the North Atlantic is similar to the global ocean, subtracted the global (60°N-60°S) mean SST from the North Atlantic SST to derive a revised AMO index.[6]\n",
    ">\n",
    "> Ting et al. however argue that the forced SST pattern is not globally uniform; they separated the forced and internally generated variability using signal to noise maximizing EOF analysis.[2]\n",
    ">\n",
    "> Van Oldenborgh et al. derived an AMO index as the SST averaged over the extra-tropical North Atlantic (to remove the influence of ENSO that is greater at tropical latitude) minus the regression on global mean temperature.[7]\n",
    ">\n",
    "> Guan and Nigam removed the non stationary global trend and Pacific natural variability before applying an EOF analysis to the residual North Atlantic SST.[8]\n",
    ">\n",
    "> The linearly detrended index suggests that the North Atlantic SST anomaly at the end of the twentieth century is equally divided between the externally forced component and internally generated variability, and that the current peak is similar to middle twentieth century; by contrast the others methodology suggest that a large portion of the North Atlantic anomaly at the end of the twentieth century is externally forced.[2]\n",
    "\n",
    "We use the method of Trenberth here: averaged SST [0-60 N]x[0-80W] - avg. SST [60S-60N], then ."
   ]
  },
  {
   "cell_type": "code",
   "execution_count": null,
   "metadata": {},
   "outputs": [],
   "source": [
    "# plotting tropics-extratropics and North atlantic maps\n",
    "f,ax = plt.subplots(2,2, figsize=(8,5), sharey='row')\n",
    "for i, domain in enumerate(['ocn', 'ocn_low']):\n",
    "    xr_AREA(domain).where(TexT_mask(domain)).plot(ax=ax[i,0])\n",
    "    xr_AREA(domain).where(AMO_mask(domain)).plot(ax=ax[i,1])\n",
    "plt.tight_layout()"
   ]
  },
  {
   "cell_type": "code",
   "execution_count": null,
   "metadata": {},
   "outputs": [],
   "source": [
    "# without detrending\n",
    "\n",
    "def AMO(run):\n",
    "    if run in ['ctrl', 'rcp']:\n",
    "        domain    = 'ocn'\n",
    "        AREA      = TAREA\n",
    "        MASK      = MASK_ocn\n",
    "    elif run in ['lpi', 'lpd']:\n",
    "        domain    = 'ocn_low'\n",
    "        AREA      = AREA_low\n",
    "        MASK      = MASK_low\n",
    "        \n",
    "    if run =='ctrl':   SST_yrly = SST_yrly_ctrl\n",
    "    elif run =='rcp':  SST_yrly = SST_yrly_rcp\n",
    "    elif run =='lpd':  SST_yrly = SST_yrly_lpd\n",
    "    elif run =='lpi':  SST_yrly = SST_yrly_lpi\n",
    "        \n",
    "    dims = ('nlat', 'nlon')\n",
    "    AREA_AMO  = AREA.where(AMO_mask(domain)).sum()\n",
    "    AREA_TexT = AREA.where(TexT_mask(domain)).sum()\n",
    "    print(AREA_AMO.values, AREA_TexT.values)\n",
    "    \n",
    "    NA   = SST_index(xa_SST=SST_yrly, AREA=AREA, index_loc=None, AREA_index=AREA_AMO , MASK=AMO_mask(domain) , dims=dims)\n",
    "    TexT = SST_index(xa_SST=SST_yrly, AREA=AREA, index_loc=None, AREA_index=AREA_TexT, MASK=TexT_mask(domain), dims=dims)\n",
    "    \n",
    "    AMO  = (NA - TexT) - (NA - TexT).mean()\n",
    "    AMO.to_netcdf(f'{path_results}/SST/AMO_yrly_{run}.nc')\n",
    "\n",
    "    f,ax = plt.subplots(3,1,figsize=(8,5),sharex=True)\n",
    "    ax[0].plot(NA)\n",
    "    ax[1].plot(TexT)\n",
    "    ax[2].plot(AMO)\n",
    "    plt.tight_layout()\n",
    "    return AMO"
   ]
  },
  {
   "cell_type": "code",
   "execution_count": null,
   "metadata": {},
   "outputs": [],
   "source": [
    "# %%time\n",
    "# AMO_ctrl = AMO('ctrl')  # 1:20\n",
    "# AMO_rcp  = AMO('rcp' )  # 40 sec\n",
    "# AMO_lpd  = AMO('lpd' )  # 4 sec\n",
    "# AMO_lpi  = AMO('lpi' )  # 9 sec"
   ]
  },
  {
   "cell_type": "code",
   "execution_count": null,
   "metadata": {},
   "outputs": [],
   "source": [
    "AMO_ctrl = xr.open_dataarray(f'{path_results}/SST/AMO_yrly_ctrl.nc', decode_times=False)\n",
    "AMO_rcp  = xr.open_dataarray(f'{path_results}/SST/AMO_yrly_rcp.nc' , decode_times=False)\n",
    "AMO_lpd  = xr.open_dataarray(f'{path_results}/SST/AMO_yrly_lpd.nc' , decode_times=False)\n",
    "AMO_lpi  = xr.open_dataarray(f'{path_results}/SST/AMO_yrly_lpi.nc' , decode_times=False)"
   ]
  },
  {
   "cell_type": "code",
   "execution_count": null,
   "metadata": {},
   "outputs": [],
   "source": [
    "# comparing filtering methods and timescales\n",
    "plt.figure(figsize=(8,5))\n",
    "plt.axhline(0,c='k', lw=.5)\n",
    "plt.plot(AMO_ctrl)\n",
    "plt.plot(AMO_ctrl.rolling(time=10, center=True).mean())\n",
    "plt.plot(AMO_ctrl.rolling(time=40, center=True).mean())\n",
    "plt.plot(lowpass(AMO_ctrl.values, 40))\n",
    "plt.plot(lowpass(AMO_ctrl.values, 10))"
   ]
  },
  {
   "cell_type": "code",
   "execution_count": null,
   "metadata": {},
   "outputs": [],
   "source": [
    "f, ax = plt.subplots(1,1,figsize=(12,5))\n",
    "ax.tick_params(labelsize=14)\n",
    "ax.axhline(0,c='k', lw=.5)\n",
    "ax.plot([2050]*2, [-.15,.2], c='g', lw=.5)\n",
    "ax.plot([2200]*2, [-.15,.2], c='g', lw=.5)\n",
    "\n",
    "L1, = ax.plot(AMO_ctrl.time/365+1850, AMO_ctrl, c='C0', ls='-', lw=1, label='lowpass 13 yr')\n",
    "ax.plot(      AMO_rcp .time/365+ 200, AMO_rcp , c='C1', ls='-', lw=1)\n",
    "ax.plot(      AMO_lpd .time/365+1350, AMO_lpd , c='C2', ls='-', lw=1)\n",
    "ax.plot(      AMO_lpi .time/365-1600, AMO_lpi , c='C3', ls='-', lw=1)\n",
    "ax.plot(      AMO_had .time/365+2350, AMO_had , c='C4', ls='-', lw=1)\n",
    "\n",
    "L2, = ax.plot(AMO_ctrl.time/365+1850, lowpass(AMO_ctrl, 40), c='C0', ls='--' , lw=1.5, label='low pass 40 yr')\n",
    "ax.plot(      AMO_rcp .time/365+ 200, lowpass(AMO_rcp , 40), c='C1', ls='--' , lw=1.5)\n",
    "ax.plot(      AMO_lpd .time/365+1350, lowpass(AMO_lpd , 40), c='C2', ls='--' , lw=1.5)\n",
    "ax.plot(      AMO_lpi .time/365-1600, lowpass(AMO_lpi , 40), c='C3', ls='--' , lw=1.5)\n",
    "ax.plot(      AMO_had .time/365+2350, lowpass(AMO_had , 40), c='C4', ls='--' , lw=1.5)\n",
    "\n",
    "L3, = ax.plot(AMO_ctrl.time/365+1850, xr_lintrend(AMO_ctrl), c='C0', ls='-.', lw=1.5, label='linear trend')\n",
    "ax.plot(      AMO_rcp .time/365+ 200, xr_lintrend(AMO_rcp ), c='C1', ls='-.', lw=1.5)\n",
    "ax.plot(      AMO_lpd .time/365+1350, xr_lintrend(AMO_lpd ), c='C2', ls='-.', lw=1.5)\n",
    "ax.plot(      AMO_lpi .time/365-1600, xr_lintrend(AMO_lpi ), c='C3', ls='-.', lw=1.5)\n",
    "ax.plot(      AMO_had .time/365+2350, xr_lintrend(AMO_had ), c='C4', ls='-.', lw=1.5)\n",
    "\n",
    "ax.text(1950, .21, 'CTRL'         , fontsize=16, color='C0')\n",
    "ax.text(2200, .21, 'RCP'          , fontsize=16, color='C1')\n",
    "ax.text(1500, .21, 'pres. day low', fontsize=16, color='C2')\n",
    "ax.text(1270, .21, 'pre-ind. low' , fontsize=16, color='C3')\n",
    "ax.text(2350, .21, 'HadISST'      , fontsize=16, color='C4')\n",
    "\n",
    "ax.legend(handles=[L1, L2, L3], loc=8, ncol=3, fontsize=14, frameon=False)\n",
    "ax.set_xlabel('time[years]', fontsize=16)\n",
    "ax.set_ylabel('AMO index [$^\\circ$C]'  , fontsize=16)\n",
    "ax.set_ylim((-.24,.24))\n",
    "ax.set_xticks(np.arange(1200,2400,200))\n",
    "f.tight_layout()\n",
    "# plt.savefig(f'{path_results}/SST/AMO_index_overview')"
   ]
  },
  {
   "cell_type": "code",
   "execution_count": null,
   "metadata": {},
   "outputs": [],
   "source": [
    "f, ax = plt.subplots(1,1,figsize=(12,5))\n",
    "ax.tick_params(labelsize=14)\n",
    "ax.axhline(0,c='k', lw=.5)\n",
    "ax.plot([2050]*2, [-.15,.2], c='g', lw=.5)\n",
    "ax.plot([2200]*2, [-.15,.2], c='g', lw=.5)\n",
    "\n",
    "L1, = ax.plot(AMO_ctrl.time/365+1850, chebychev(AMO_ctrl.values, 13), c='C0', ls='--', lw=1, label='chebychev 13 yr')\n",
    "ax.plot(      AMO_rcp .time/365+ 200, chebychev(AMO_rcp .values, 13), c='C1', ls='--', lw=1)\n",
    "ax.plot(      AMO_lpd .time/365+1350, chebychev(AMO_lpd .values, 13), c='C2', ls='--', lw=1)\n",
    "ax.plot(      AMO_lpi .time/365-1600, chebychev(AMO_lpi .values, 13), c='C3', ls='--', lw=1)\n",
    "\n",
    "L2, = ax.plot(AMO_ctrl.time/365+1850, lowpass(AMO_ctrl.values, 40), c='C0', ls='-' , lw=2, label='low pass 40 yr')\n",
    "ax.plot(      AMO_rcp .time/365+ 200, lowpass(AMO_rcp .values, 40), c='C1', ls='-' , lw=2)\n",
    "ax.plot(      AMO_lpd .time/365+1350, lowpass(AMO_lpd .values, 40), c='C2', ls='-' , lw=2)\n",
    "ax.plot(      AMO_lpi .time/365-1600, lowpass(AMO_lpi .values, 40), c='C3', ls='-' , lw=2)\n",
    "\n",
    "L3, = ax.plot(AMO_ctrl.time/365+1850, xr_lintrend(chebychev(AMO_ctrl,13)), c='C0', lw=1.5, ls='-.', label='linear trend')\n",
    "ax.plot(      AMO_rcp .time/365+ 200, xr_lintrend(chebychev(AMO_rcp ,13)), c='C1', lw=1.5, ls='-.')\n",
    "ax.plot(      AMO_lpd .time/365+1350, xr_lintrend(chebychev(AMO_lpd ,13)), c='C2', ls='-.' , lw=1.5)\n",
    "ax.plot(      AMO_lpi .time/365-1600, xr_lintrend(chebychev(AMO_lpi ,13)), c='C3', ls='-.' , lw=1.5)\n",
    "\n",
    "ax.text(1950, .21, 'CTRL'         , fontsize=16, color='C0')\n",
    "ax.text(2200, .21, 'RCP'          , fontsize=16, color='C1')\n",
    "ax.text(1500, .21, 'pres. day low', fontsize=16, color='C2')\n",
    "ax.text(   0, .21, 'pre-ind. low' , fontsize=16, color='C3')\n",
    "\n",
    "ax.legend(handles=[L1, L2, L3], loc=8, ncol=3, fontsize=14, frameon=False)\n",
    "ax.set_xlabel('time[years]', fontsize=16)\n",
    "ax.set_ylabel('AMO index [$^\\circ$C]'  , fontsize=16)\n",
    "ax.set_ylim((-.17,.24))\n",
    "ax.set_xticks(np.arange(0,2400,200))\n",
    "f.tight_layout()\n",
    "# plt.savefig(f'{path_results}/SST/AMO_index_overview')"
   ]
  },
  {
   "cell_type": "code",
   "execution_count": null,
   "metadata": {},
   "outputs": [],
   "source": [
    "f, ax = plt.subplots(1,1,figsize=(12,5))\n",
    "ax.tick_params(labelsize=14)\n",
    "ax.axhline(0,c='k', lw=.5)\n",
    "ax.axvline(200,c='g', lw=.5)\n",
    "ax.axvline(300,c='g', lw=.5)\n",
    "L1, = ax.plot(AMO_ctrl.time/365     , AMO_ctrl, c='C0', lw=.5, ls=':', label='yrly raw data')\n",
    "ax.plot(AMO_rcp .time/365-1700, AMO_rcp , c='C1', lw=.5, ls=':')\n",
    "# ax.plot(AMO_ctrl.time/365     , AMO_ctrl.rolling(time=15, center=True).mean(), c='C0', ls='-.', lw=1.5, label='15 yr running mean')\n",
    "# ax.plot(AMO_rcp .time/365-1700, AMO_rcp .rolling(time=15, center=True).mean(), c='C1', ls='-.', lw=1.5)\n",
    "L2, = ax.plot(AMO_ctrl.time/365     , lowpass(AMO_ctrl.values, 15), c='C0', lw=1.5, ls='--', label='low pass 15 yr')\n",
    "ax.plot(AMO_rcp .time/365-1700, lowpass(AMO_rcp .values, 15), c='C1', lw=1.5, ls='--')\n",
    "L3, = ax.plot(AMO_ctrl.time/365     , lowpass(AMO_ctrl.values, 40), c='C0', lw=2, label='low pass 40 yr')\n",
    "ax.plot(AMO_rcp .time/365-1700, lowpass(AMO_rcp .values, 40), c='C1', lw=2)\n",
    "L4, = ax.plot(AMO_ctrl.time/365     , xr_lintrend(AMO_ctrl), c='C0', lw=1.5, ls='-.', label='linear trend')\n",
    "ax.plot(AMO_rcp .time/365-1700, xr_lintrend(AMO_rcp ), c='C1', lw=1.5, ls='-.')\n",
    "\n",
    "ax.text(.05, .92, 'CTRL', transform=ax.transAxes, fontsize=16, color='C0')\n",
    "ax.text(.72, .92, 'RCP', transform=ax.transAxes, fontsize=16, color='C1')\n",
    "ax.legend(handles=[L1, L2, L3, L4], loc=3, ncol=4, fontsize=14, frameon=False)\n",
    "ax.set_xlabel('time [years]' , fontsize=16)\n",
    "ax.set_ylabel('AMO index [K]', fontsize=16)\n",
    "plt.tight_layout()\n",
    "plt.savefig(f'{path_results}/SST/AMO_index_ctrl_rcp')"
   ]
  },
  {
   "cell_type": "code",
   "execution_count": null,
   "metadata": {},
   "outputs": [],
   "source": [
    "# filtered and detrended AMO indices\n",
    "AMO_filt_detr_ctrl = chebychev(AMO_ctrl, 13)-xr_lintrend(chebychev(AMO_ctrl,13))\n",
    "AMO_filt_detr_rcp  = chebychev(AMO_rcp , 13)-xr_lintrend(chebychev(AMO_rcp ,13))\n",
    "AMO_filt_detr_lpd  = chebychev(AMO_lpd , 13)-xr_lintrend(chebychev(AMO_lpd ,13))\n",
    "AMO_filt_detr_lpi  = chebychev(AMO_lpi , 13)-xr_lintrend(chebychev(AMO_lpi ,13))\n",
    "AMO_filt_detr_ctrl.to_netcdf(f'{path_results}/SST/AMO_filt_detr_ctrl.nc')\n",
    "AMO_filt_detr_rcp .to_netcdf(f'{path_results}/SST/AMO_filt_detr_rcp.nc' )\n",
    "AMO_filt_detr_lpd .to_netcdf(f'{path_results}/SST/AMO_filt_detr_lpd.nc' )\n",
    "AMO_filt_detr_lpi .to_netcdf(f'{path_results}/SST/AMO_filt_detr_lpi.nc' )"
   ]
  },
  {
   "cell_type": "code",
   "execution_count": null,
   "metadata": {},
   "outputs": [],
   "source": [
    "f, ax = plt.subplots(1,1,figsize=(12,5))\n",
    "ax.tick_params(labelsize=14)\n",
    "ax.axhline(0,c='k', lw=.5)\n",
    "ax.plot([2050]*2, [-.15,.13], c='g', lw=.5)\n",
    "ax.plot([2200]*2, [-.15,.13], c='g', lw=.5)\n",
    "\n",
    "L1, = ax.plot(AMO_ctrl.time/365+1850, AMO_filt_detr_ctrl, c='C0', ls='--', lw=1, label='chebychev 13 yr')\n",
    "ax.plot(AMO_rcp .time/365+ 200,       AMO_filt_detr_rcp , c='C1', ls='--', lw=1)\n",
    "ax.plot(AMO_lpd .time/365+1350,       AMO_filt_detr_lpd , c='C2', ls='--', lw=1)\n",
    "ax.plot(AMO_lpi .time/365-1600,       AMO_filt_detr_lpi , c='C3', ls='--', lw=1)\n",
    "\n",
    "L2, = ax.plot(AMO_ctrl.time/365+1850, lowpass(AMO_ctrl.values, 40)-xr_lintrend(chebychev(AMO_ctrl,13)), c='C0', ls='-' , lw=1.5, label='low pass 40 yr')\n",
    "ax.plot(AMO_rcp .time/365+ 200,       lowpass(AMO_rcp .values, 40)-xr_lintrend(chebychev(AMO_rcp ,13)), c='C1', ls='-' , lw=1.5)\n",
    "ax.plot(AMO_lpd .time/365+1350,       lowpass(AMO_lpd .values, 40)-xr_lintrend(chebychev(AMO_lpd ,13)), c='C2', ls='-' , lw=1.5)\n",
    "ax.plot(AMO_lpi .time/365-1600,       lowpass(AMO_lpi .values, 40)-xr_lintrend(chebychev(AMO_lpi ,13)), c='C3', ls='-' , lw=1.5)\n",
    "\n",
    "ax.text(1950, .15, 'CTRL'         , fontsize=16, color='C0')\n",
    "ax.text(2200, .15, 'RCP'          , fontsize=16, color='C1')\n",
    "ax.text(1500, .15, 'pres. day low', fontsize=16, color='C2')\n",
    "ax.text(   0, .15, 'pre-ind. low' , fontsize=16, color='C3')\n",
    "\n",
    "ax.legend(handles=[L1, L2], loc=8, ncol=3, fontsize=14, frameon=False)\n",
    "ax.set_xlabel('time[years]', fontsize=16)\n",
    "ax.set_ylabel('detrended AMO index [$^\\circ$C]'  , fontsize=16)\n",
    "ax.set_ylim((-.17,.18))\n",
    "ax.set_xticks(np.arange(0,2400,200))\n",
    "f.tight_layout()\n",
    "plt.savefig(f'{path_results}/SST/AMO_detrended_overview')"
   ]
  },
  {
   "cell_type": "markdown",
   "metadata": {},
   "source": [
    "- comparable period to observations (approx 70 years; Trenberth & Shea)\n",
    "- much smaller amplitude though (0.05K vs. 0.2K)"
   ]
  },
  {
   "cell_type": "code",
   "execution_count": null,
   "metadata": {},
   "outputs": [],
   "source": [
    "# periodogram\n",
    "AMOs = [AMO_ctrl, AMO_rcp, AMO_lpd, AMO_lpi]\n",
    "\n",
    "f, ax = plt.subplots(1, 1, figsize=(8,5), sharey=True)\n",
    "ax.set_ylabel('spectral power', fontsize=16)\n",
    "\n",
    "for i in range (4):\n",
    "    label= ['CTRL', 'RCP', 'LPD', 'LPI'][i]\n",
    "    f, Pxx = sp.signal.welch(AMOs[i]-xr_lintrend(AMOs[i]), fs=1)\n",
    "    ax.loglog(1/f, np.sqrt(Pxx), label=label)\n",
    "\n",
    "ax.tick_params(labelsize=14)\n",
    "ax.set_xlabel('period [yr]', fontsize=16)\n",
    "ax.legend(fontsize=14, frameon=False)\n",
    "    \n",
    "plt.tight_layout()\n",
    "# plt.savefig(f'{path_results}/SST/ENSO_spectrum')"
   ]
  },
  {
   "cell_type": "code",
   "execution_count": null,
   "metadata": {},
   "outputs": [],
   "source": [
    "SST_yrly_detr_ctrl = xr.open_dataarray(f'{path_samoc}/SST/SST_yrly_detr_ctrl.nc', decode_times=False)"
   ]
  },
  {
   "cell_type": "code",
   "execution_count": null,
   "metadata": {},
   "outputs": [],
   "source": [
    "SST_yrly_detr_ctrl[:,2000,1000].plot()\n",
    "(10*AMO_filt_detr_ctrl).plot()"
   ]
  },
  {
   "cell_type": "code",
   "execution_count": null,
   "metadata": {},
   "outputs": [],
   "source": [
    "# Chebychev filter\n",
    "# for run in ['ctrl', 'lpd', 'had']:\n",
    "#     DeriveSSTIndices.derive_final_SST_indices(run)"
   ]
  },
  {
   "cell_type": "code",
   "execution_count": null,
   "metadata": {},
   "outputs": [],
   "source": []
  }
 ],
 "metadata": {
  "kernelspec": {
   "display_name": "Python 3",
   "language": "python",
   "name": "python3"
  },
  "language_info": {
   "codemirror_mode": {
    "name": "ipython",
    "version": 3
   },
   "file_extension": ".py",
   "mimetype": "text/x-python",
   "name": "python",
   "nbconvert_exporter": "python",
   "pygments_lexer": "ipython3",
   "version": "3.6.7"
  }
 },
 "nbformat": 4,
 "nbformat_minor": 4
}
