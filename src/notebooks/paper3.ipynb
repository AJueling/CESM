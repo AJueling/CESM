{
 "cells": [
  {
   "cell_type": "code",
   "execution_count": null,
   "metadata": {},
   "outputs": [],
   "source": [
    "import os\n",
    "import sys\n",
    "import numpy as np\n",
    "import xarray as xr\n",
    "import cmocean\n",
    "import matplotlib\n",
    "import matplotlib.pyplot as plt"
   ]
  },
  {
   "cell_type": "code",
   "execution_count": null,
   "metadata": {},
   "outputs": [],
   "source": [
    "%matplotlib inline\n",
    "matplotlib.rc_file('../rc_file')\n",
    "%config InlineBackend.print_figure_kwargs={'bbox_inches':None}\n",
    "%load_ext autoreload\n",
    "%autoreload 2\n",
    "%aimport - numpy - matplotlib.pyplot"
   ]
  },
  {
   "cell_type": "code",
   "execution_count": null,
   "metadata": {},
   "outputs": [],
   "source": [
    "sys.path.append(\"..\")\n",
    "from MOC import calculate_MOC, AMOC_max, approx_lats\n",
    "from grid import create_tdepth, find_array_idx\n",
    "from tqdm import tqdm_notebook\n",
    "from regions import Atlantic_mask, boolean_mask\n",
    "from paths import file_ex_ocn_ctrl, path_results, CESM_filename, file_ex_ocn_lpd, path_data\n",
    "from plotting import discrete_cmap, shifted_color_map\n",
    "from timeseries import IterateOutputCESM, lowpass\n",
    "from xr_DataArrays import xr_DZ, xr_DXU\n",
    "from xr_regression import xr_lintrend, xr_linear_trend"
   ]
  },
  {
   "cell_type": "markdown",
   "metadata": {},
   "source": [
    "# AMOC plot"
   ]
  },
  {
   "cell_type": "code",
   "execution_count": null,
   "metadata": {},
   "outputs": [],
   "source": [
    "AMOC_ctrl = xr.open_dataarray(f'{path_results}/MOC/AMOC_max_ctrl.nc', decode_times=False)\n",
    "AMOC_rcp  = xr.open_dataarray(f'{path_results}/MOC/AMOC_max_rcp.nc' , decode_times=False)\n",
    "AMOC_lpd  = xr.open_dataarray(f'{path_results}/MOC/AMOC_max_lpd.nc' , decode_times=False)\n",
    "AMOC_lr1  = xr.open_dataarray(f'{path_results}/MOC/AMOC_max_lr1.nc' , decode_times=False)"
   ]
  },
  {
   "cell_type": "code",
   "execution_count": null,
   "metadata": {},
   "outputs": [],
   "source": [
    "f, ax = plt.subplots(1, 2, figsize=(6.4,3), sharey=True, constrained_layout=True)\n",
    "ax[0].set_ylabel('AMOC @ 26N, 1000m')\n",
    "for i, AMOC_max in enumerate([AMOC_ctrl, AMOC_rcp]):\n",
    "    c = ['C0', 'C1', 'C3'][i]\n",
    "    ax[0].plot(AMOC_max.time/365-[0,1800,1800][i], AMOC_max, c=c, alpha=.3, lw=.5)\n",
    "    ax[0].plot(AMOC_max.time[60:-60]/365-[0,1800,1800][i], lowpass(AMOC_max,120)[60:-60],\n",
    "               c=c, label=['HIGH CTRL','HIGH RCP'][i])\n",
    "    if i==1:\n",
    "        ax[0].plot(AMOC_max.time/365-1800, xr_lintrend(AMOC_max)+2, c=c, ls='--')\n",
    "ax[0].text(240, 6, f'{xr_linear_trend(AMOC_rcp).values*100*365:3.2f}\\nSv/100yr', color='C1')\n",
    "\n",
    "# RAPID_time = 310+np.arange(0,len(RAPID.time))/12/60\n",
    "# ax[0].plot(RAPID_time, RAPID['moc_mar_hc10'].rolling(time=60, center=True).mean(), c='C6', alpha=.3)\n",
    "# ax[0].plot(RAPID_time, RAPID['moc_mar_hc10'].rolling(time=60*12*10, center=True).mean(), c='C6', label='RAPID')\n",
    "    \n",
    "for i, AMOC_max in enumerate([AMOC_lpd, AMOC_lr1]):\n",
    "    ax[1].plot(AMOC_max.time/365-[0,1500,800,1500][i], AMOC_max, c=f'C{i}', alpha=.3, lw=.5)\n",
    "    ax[1].plot(AMOC_max.time[60:-60]/365-[0,1500,800,1500][i], lowpass(AMOC_max,120)[60:-60],\n",
    "               c=f'C{i}', label=['LOW CTRL','LOW RCP'][i])\n",
    "    if i in [1,2]:\n",
    "        ax[1].plot(AMOC_max.time/365-[0,1500,800,1500][i], xr_lintrend(AMOC_max)+2, c=f'C{i}', ls='--')\n",
    "        ax[1].text([0,540,1100][i], 6, f'{xr_linear_trend(AMOC_max).values*100*365:3.2f}\\nSv/100yr', color=f'C{i}')\n",
    "        \n",
    "for i in range(2):\n",
    "    ax[i].set_ylim((0,29.5))\n",
    "    ax[i].set_title(['HIGH CESM1.04', 'LOW CESM1.12'][i])\n",
    "    ax[i].set_xlabel('time [model years]')\n",
    "    ax[i].legend(frameon=False)\n",
    "ax[0].text(.95,.05, 'monthly data &\\n10 year lowpass', ha='right', transform=ax[0].transAxes, color='grey')\n",
    "\n",
    "ax[0].set_xlim((95,305))\n",
    "ax[1].set_xlim((395,605))\n",
    "plt.savefig(f'{path_results}/paper3/AMOC_low_high_ctrl_rcp')"
   ]
  },
  {
   "cell_type": "code",
   "execution_count": null,
   "metadata": {},
   "outputs": [],
   "source": []
  }
 ],
 "metadata": {
  "kernelspec": {
   "display_name": "Python 3",
   "language": "python",
   "name": "python3"
  },
  "language_info": {
   "codemirror_mode": {
    "name": "ipython",
    "version": 3
   },
   "file_extension": ".py",
   "mimetype": "text/x-python",
   "name": "python",
   "nbconvert_exporter": "python",
   "pygments_lexer": "ipython3",
   "version": "3.6.7"
  }
 },
 "nbformat": 4,
 "nbformat_minor": 4
}
