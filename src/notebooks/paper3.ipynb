{
 "cells": [
  {
   "cell_type": "code",
   "execution_count": null,
   "metadata": {},
   "outputs": [],
   "source": [
    "import os\n",
    "import sys\n",
    "import numpy as np\n",
    "import xarray as xr\n",
    "import cmocean\n",
    "import matplotlib\n",
    "import matplotlib.pyplot as plt"
   ]
  },
  {
   "cell_type": "code",
   "execution_count": null,
   "metadata": {},
   "outputs": [],
   "source": [
    "%matplotlib inline\n",
    "matplotlib.rc_file('../rc_file')\n",
    "%config InlineBackend.print_figure_kwargs={'bbox_inches':None}\n",
    "%load_ext autoreload\n",
    "%autoreload 2\n",
    "%aimport - numpy - matplotlib.pyplot"
   ]
  },
  {
   "cell_type": "code",
   "execution_count": null,
   "metadata": {},
   "outputs": [],
   "source": [
    "sys.path.append(\"..\")\n",
    "from MOC import calculate_MOC, AMOC_max, approx_lats\n",
    "from grid import create_tdepth, find_array_idx\n",
    "from tqdm import notebook\n",
    "from regions import Atlantic_mask, boolean_mask\n",
    "from paths import file_ex_ocn_ctrl, path_results, CESM_filename,\\\n",
    "                  file_ex_ocn_lpd, path_data, path_prace\n",
    "from plotting import discrete_cmap, shifted_color_map\n",
    "from timeseries import IterateOutputCESM, lowpass\n",
    "from xr_DataArrays import xr_DZ, xr_DXU\n",
    "from xr_regression import xr_lintrend, xr_linear_trend"
   ]
  },
  {
   "cell_type": "markdown",
   "metadata": {},
   "source": [
    "# AMOC plot"
   ]
  },
  {
   "cell_type": "code",
   "execution_count": null,
   "metadata": {},
   "outputs": [],
   "source": [
    "AMOC_ctrl = xr.open_dataarray(f'{path_results}/MOC/AMOC_max_ctrl.nc', decode_times=False)\n",
    "AMOC_rcp  = xr.open_dataarray(f'{path_results}/MOC/AMOC_max_rcp.nc' , decode_times=False)\n",
    "AMOC_lpd  = xr.open_dataarray(f'{path_results}/MOC/AMOC_max_lpd.nc' , decode_times=False)\n",
    "AMOC_lr1  = xr.open_dataarray(f'{path_results}/MOC/AMOC_max_lr1.nc' , decode_times=False)"
   ]
  },
  {
   "cell_type": "code",
   "execution_count": null,
   "metadata": {},
   "outputs": [],
   "source": [
    "f, ax = plt.subplots(1, 2, figsize=(6.4,3), sharey=True, constrained_layout=True)\n",
    "ax[0].set_ylabel('AMOC  at  26$\\!^\\circ\\!$N, 1000m')\n",
    "for i, AMOC_max in enumerate([AMOC_ctrl, AMOC_rcp]):\n",
    "    c = ['C0', 'C1', 'C3'][i]\n",
    "    ax[0].plot(AMOC_max.time/365-[0,1800,1800][i], AMOC_max, c=c, alpha=.3, lw=.5)\n",
    "    ax[0].plot(AMOC_max.time[60:-60]/365-[0,1800,1800][i], lowpass(AMOC_max,120)[60:-60],\n",
    "               c=c, label=['HIGH CTRL','HIGH RCP'][i])\n",
    "    if i==1:\n",
    "        ax[0].plot(AMOC_max.time/365-1800, xr_lintrend(AMOC_max)+2, c=c, ls='--')\n",
    "ax[0].text(240, 6, f'{xr_linear_trend(AMOC_rcp).values*100*365:3.2f}\\nSv/100yr', color='C1')\n",
    "\n",
    "# RAPID_time = 310+np.arange(0,len(RAPID.time))/12/60\n",
    "# ax[0].plot(RAPID_time, RAPID['moc_mar_hc10'].rolling(time=60, center=True).mean(), c='C6', alpha=.3)\n",
    "# ax[0].plot(RAPID_time, RAPID['moc_mar_hc10'].rolling(time=60*12*10, center=True).mean(), c='C6', label='RAPID')\n",
    "    \n",
    "for i, AMOC_max in enumerate([AMOC_lpd, AMOC_lr1]):\n",
    "    ax[1].plot(AMOC_max.time/365-[0,1500,800,1500][i], AMOC_max, c=f'C{i}', alpha=.3, lw=.5)\n",
    "    ax[1].plot(AMOC_max.time[60:-60]/365-[0,1500,800,1500][i], lowpass(AMOC_max,120)[60:-60],\n",
    "               c=f'C{i}', label=['LOW CTRL','LOW RCP'][i])\n",
    "    if i in [1,2]:\n",
    "        ax[1].plot(AMOC_max.time/365-[0,1500,800,1500][i], xr_lintrend(AMOC_max)+2, c=f'C{i}', ls='--')\n",
    "        ax[1].text([0,540,1100][i], 6, f'{xr_linear_trend(AMOC_max).values*100*365:3.2f}\\nSv/100yr', color=f'C{i}')\n",
    "        \n",
    "for i in range(2):\n",
    "    ax[i].set_ylim((0,29.5))\n",
    "#     ax[i].set_title(['HIGH CESM1.04', 'LOW CESM1.12'][i])\n",
    "    ax[i].set_xlabel('time [model years]')\n",
    "    ax[i].legend(frameon=False)\n",
    "ax[0].text(.95,.05, 'monthly data &\\n10 year lowpass', ha='right', transform=ax[0].transAxes, color='grey')\n",
    "\n",
    "ax[0].set_xlim((95,305))\n",
    "ax[1].set_xlim((395,605))\n",
    "plt.savefig(f'{path_results}/paper3/AMOC_low_high_ctrl_rcp')"
   ]
  },
  {
   "cell_type": "markdown",
   "metadata": {},
   "source": [
    "## $F_{ov}$ plot"
   ]
  },
  {
   "cell_type": "code",
   "execution_count": null,
   "metadata": {},
   "outputs": [],
   "source": [
    "for i, run in enumerate(['ctrl', 'rcp', 'lpd', 'lr1']):\n",
    "    fn_out = f'{path_prace}/Mov/Mov_monthly_{run}.nc'\n",
    "    if run=='ctrl':  Mov_ctrl = xr.open_dataarray(fn_out, decode_times=False)\n",
    "    if run=='rcp' :  Mov_rcp  = xr.open_dataarray(fn_out, decode_times=False)\n",
    "    if run=='lpd' :  Mov_lpd  = xr.open_dataarray(fn_out, decode_times=False)\n",
    "    if run=='lr1' :  Mov_lr1  = xr.open_dataarray(fn_out, decode_times=False)"
   ]
  },
  {
   "cell_type": "code",
   "execution_count": null,
   "metadata": {},
   "outputs": [],
   "source": [
    "f, ax = plt.subplots(1,2,figsize=(6.4,3), sharey=True, constrained_layout=True)\n",
    "ax[0].set_ylabel(r'$F_{\\!ov}$  at  34$\\!^\\circ\\!$S  [Sv]')\n",
    "for i in range(2):  ax[i].axhline(c='grey', lw=.5)\n",
    "# ax[0].set_xlim(-5,305)\n",
    "for i, Mov in enumerate([Mov_ctrl, Mov_rcp]):\n",
    "    ax[0].plot(Mov.time/365-[0,1800][i], Mov, lw=.5, alpha=.3)\n",
    "    ax[0].plot(Mov.time[30:-30]/365-[0,1800][i], lowpass(Mov,12*5)[30:-30],\n",
    "               c=f'C{i}', label=['HIGH CTRL','HIGH RCP'][i])\n",
    "    if i==1:\n",
    "        ax[0].plot(Mov.time/365-1800, xr_lintrend(Mov)+.05, ls='--', c='C1')\n",
    "        ax[0].text(200, -.2,f'{xr_linear_trend(Mov).values*365*100:.2f} Sv/100yr', color='C1', fontsize=8)\n",
    "\n",
    "\n",
    "for i, Mov in enumerate([Mov_lpd, Mov_lr1]):#, Mov_lr2, Mov_ld]):\n",
    "    ax[1].plot(Mov.time/365-[0,1500][i], Mov, c=f'C{i}', lw=.5, alpha=.3)\n",
    "    ax[1].plot(Mov.time[30:-30]/365-[0,1500][i], lowpass(Mov,12*5)[30:-30],\n",
    "               c=f'C{i}', label=['LOW CTRL', 'LOW RCP'][i])\n",
    "    if i in [1,2]:\n",
    "        ax[1].plot(Mov.time/365-[0,1500][i], xr_lintrend(Mov)+.05, ls='--', c=f'C{i}')\n",
    "        ax[1].text([500,620][i-1], .02,f'{xr_linear_trend(Mov).values*365*100:.2f}\\nSv/100yr', color=f'C{i}', fontsize=8)\n",
    "for i in range(2):\n",
    "#     ax[i].set_title(['HIGH CESM1.04', 'LOW CESM1.12'][i])\n",
    "    ax[i].legend(frameon=False, loc=2)\n",
    "    ax[i].set_xlabel('time [model years]')\n",
    "ax[1].errorbar(x=200, y=-.165, fmt='none', yerr=.115, capsize=3, c='k')\n",
    "ax[1].text(220,-.165, 'range of observations\\n[Weijer et al. (2019)]', va='center', fontsize=8)\n",
    "plt.tight_layout()\n",
    "plt.savefig(f'{path_results}/Mov/Fov_34S_HIGH_LOW')"
   ]
  },
  {
   "cell_type": "code",
   "execution_count": null,
   "metadata": {},
   "outputs": [],
   "source": [
    "for i, run in enumerate(['ctrl', 'rcp', 'lpd', 'lr1']):\n",
    "    fn_out = f'{path_prace}/Mov/FW_SALT_fluxes_{run}.nc'\n",
    "    if run=='ctrl':  Mov_ctrl = xr.open_dataset(fn_out, decode_times=False)\n",
    "    if run=='rcp' :  Mov_rcp  = xr.open_dataset(fn_out, decode_times=False)\n",
    "    if run=='lpd' :  Mov_lpd  = xr.open_dataset(fn_out, decode_times=False)\n",
    "    if run=='lr1' :  Mov_lr1  = xr.open_dataset(fn_out, decode_times=False)"
   ]
  },
  {
   "cell_type": "code",
   "execution_count": null,
   "metadata": {},
   "outputs": [],
   "source": [
    "f, ax = plt.subplots(1,2, figsize=(6.4,3), sharey=True)\n",
    "ov, az, deg = r'$_{\\!ov}$', r'$_{\\!az}$', r'$\\!^\\circ\\!$'\n",
    "ax[0].set_ylabel(f'F{ov} / F{az}  at  34{deg}S  [Sv]')\n",
    "for i in range(2):  ax[i].axhline(0, c='k', lw=.5)\n",
    "ax[0].plot(Mov_ctrl.Fov.time/365/24 , Mov_ctrl.Fov.isel(nlat_u=810).rolling(time=11, center=True).mean(), c='C0', label=f'F{ov} CTRL')\n",
    "ax[0].plot(Mov_rcp .Fov.time/365+200, Mov_rcp.Fov.isel(nlat_u=810) .rolling(time=11, center=True).mean(), c='C1', label=f'F{ov} RCP')\n",
    "ax[0].plot(Mov_ctrl.Faz.time/365/24 , Mov_ctrl.Faz.isel(nlat_u=810).rolling(time=11, center=True).mean(), c='C0', label=f'F{az} CTRL', lw=.7)\n",
    "ax[0].plot(Mov_rcp .Faz.time/365+200, Mov_rcp.Faz.isel(nlat_u=810) .rolling(time=11, center=True).mean(), c='C1', label=f'F{az} RCP', lw=.7)\n",
    "ax[0].legend(ncol=2, fontsize=8, frameon=False)\n",
    "\n",
    "ax[1].plot(Mov_lpd.Fov.time/365+154, Mov_lpd.Fov.isel(nlat_u=85).rolling(time=11, center=True).mean(), c='C0')\n",
    "ax[1].plot(Mov_lr1.Fov.time/365+500, Mov_lr1.Fov.isel(nlat_u=85).rolling(time=11, center=True).mean(), c='C1')\n",
    "ax[1].plot(Mov_lpd.Faz.time/365+154, Mov_lpd.Faz.isel(nlat_u=85).rolling(time=11, center=True).mean(), c='C0', lw=.7)\n",
    "ax[1].plot(Mov_lr1.Faz.time/365+500, Mov_lr1.Faz.isel(nlat_u=85).rolling(time=11, center=True).mean(), c='C1', lw=.7)\n",
    "\n",
    "for i in range(2):  ax[i].set_xlabel('time [model years]')\n",
    "ax[1].errorbar(x=200, y=-.165, fmt='none', yerr=.115, capsize=3, c='k')\n",
    "ax[1].text(220,-.165, 'Fov observation range\\n[Weijer et al. (2019)]', va='center', fontsize=8)"
   ]
  },
  {
   "cell_type": "code",
   "execution_count": null,
   "metadata": {},
   "outputs": [],
   "source": [
    "(Fov_lpd.isel(time=slice(-100,-1))-Fov_lpd.isel(time=slice(-100,-1)).mean('time')).plot()"
   ]
  },
  {
   "cell_type": "code",
   "execution_count": null,
   "metadata": {},
   "outputs": [],
   "source": [
    "f, ax = plt.subplots(1,2,figsize=(6.4,3), sharey=True, constrained_layout=True)\n",
    "ax[0].set_ylabel(r'$F_{\\!ov}$  at  34$\\!^\\circ\\!$S  [Sv]')\n",
    "for i in range(2):  ax[i].axhline(c='grey', lw=.5)\n",
    "# ax[0].set_xlim(-5,305)\n",
    "for i, Mov in enumerate([Mov_ctrl, Mov_rcp]):\n",
    "    ax[0].plot(Mov.time/365-[0,1800][i], Mov, lw=.5, alpha=.3)\n",
    "    ax[0].plot(Mov.time[30:-30]/365-[0,1800][i], lowpass(Mov,12*5)[30:-30],\n",
    "               c=f'C{i}', label=['HIGH CTRL','HIGH RCP'][i])\n",
    "    if i==1:\n",
    "        ax[0].plot(Mov.time/365-1800, xr_lintrend(Mov)+.05, ls='--', c='C1')\n",
    "        ax[0].text(200, -.2,f'{xr_linear_trend(Mov).values*365*100:.2f} Sv/100yr', color='C1', fontsize=8)\n",
    "\n",
    "\n",
    "for i, Mov in enumerate([Mov_lpd, Mov_lr1]):#, Mov_lr2, Mov_ld]):\n",
    "    ax[1].plot(Mov.time/365-[0,1500][i], Mov, c=f'C{i}', lw=.5, alpha=.3)\n",
    "    ax[1].plot(Mov.time[30:-30]/365-[0,1500][i], lowpass(Mov,12*5)[30:-30],\n",
    "               c=f'C{i}', label=['LOW CTRL', 'LOW RCP'][i])\n",
    "    if i in [1,2]:\n",
    "        ax[1].plot(Mov.time/365-[0,1500][i], xr_lintrend(Mov)+.05, ls='--', c=f'C{i}')\n",
    "        ax[1].text([500,620][i-1], .02,f'{xr_linear_trend(Mov).values*365*100:.2f}\\nSv/100yr', color=f'C{i}', fontsize=8)\n",
    "for i in range(2):\n",
    "#     ax[i].set_title(['HIGH CESM1.04', 'LOW CESM1.12'][i])\n",
    "    ax[i].legend(frameon=False, loc=2)\n",
    "    ax[i].set_xlabel('time [model years]')\n",
    "ax[1].errorbar(x=200, y=-.165, fmt='none', yerr=.115, capsize=3, c='k')\n",
    "ax[1].text(220,-.165, 'range of observations\\n[Weijer et al. (2019)]', va='center', fontsize=8)\n",
    "plt.tight_layout()\n",
    "plt.savefig(f'{path_results}/Mov/Fov_34S_HIGH_LOW')"
   ]
  },
  {
   "cell_type": "code",
   "execution_count": null,
   "metadata": {},
   "outputs": [],
   "source": []
  }
 ],
 "metadata": {
  "kernelspec": {
   "display_name": "Python 3",
   "language": "python",
   "name": "python3"
  },
  "language_info": {
   "codemirror_mode": {
    "name": "ipython",
    "version": 3
   },
   "file_extension": ".py",
   "mimetype": "text/x-python",
   "name": "python",
   "nbconvert_exporter": "python",
   "pygments_lexer": "ipython3",
   "version": "3.7.6"
  }
 },
 "nbformat": 4,
 "nbformat_minor": 4
}
