{
 "cells": [
  {
   "cell_type": "markdown",
   "metadata": {},
   "source": [
    "# SST modes vs. GMST regression\n",
    "\n",
    "1. regress modes of SST variability against GMST variability"
   ]
  },
  {
   "cell_type": "code",
   "execution_count": null,
   "metadata": {},
   "outputs": [],
   "source": [
    "import sys\n",
    "import scipy as sp\n",
    "import numpy as np\n",
    "import xarray as xr\n",
    "import pandas as pd\n",
    "import statsmodels.api as sm\n",
    "import matplotlib\n",
    "import matplotlib.pyplot as plt"
   ]
  },
  {
   "cell_type": "code",
   "execution_count": null,
   "metadata": {},
   "outputs": [],
   "source": [
    "%matplotlib inline\n",
    "%config InlineBackend.print_figure_kwargs={'bbox_inches':None}\n",
    "matplotlib.rc_file('../rc_file_paper')\n",
    "%load_ext autoreload\n",
    "%autoreload 2\n",
    "%aimport - numpy - scipy - matplotlib.pyplot"
   ]
  },
  {
   "cell_type": "code",
   "execution_count": null,
   "metadata": {},
   "outputs": [],
   "source": [
    "sys.path.append(\"..\")\n",
    "from paths import path_prace, path_results\n",
    "from filters import lowpass\n",
    "from itertools import combinations\n",
    "from xr_regression import xr_quadtrend\n",
    "from bb_analysis_timeseries import AnalyzeTimeSeries as ATS"
   ]
  },
  {
   "cell_type": "markdown",
   "metadata": {},
   "source": [
    "## time series into dataframe"
   ]
  },
  {
   "cell_type": "code",
   "execution_count": null,
   "metadata": {},
   "outputs": [],
   "source": [
    "# GMST\n",
    "gmst_had  = xr.open_dataarray(f'{path_prace}/GMST/GMST_dt_yrly_had.nc', decode_times=False)\n",
    "gmst_had  = gmst_had.isel({'time':slice(9,158)})\n",
    "gmst_ctrl = xr.open_dataset(f'{path_prace}/GMST/GMST_ctrl.nc').GMST.isel({'time':slice(50,300)})\n",
    "gmst_ctrl['time'] = (gmst_ctrl.time/365).astype(dtype=int)\n",
    "gmst_ctrl -= xr_quadtrend(gmst_ctrl)\n",
    "gmst_lpd  = xr.open_dataset(f'{path_prace}/GMST/GMST_lpd.nc').GMST.isel({'time':slice(0,250)})\n",
    "gmst_lpd['time'] = (gmst_lpd.time/365).astype(dtype=int)\n",
    "gmst_lpd -= xr_quadtrend(gmst_lpd)\n",
    "\n",
    "# OHC\n",
    "ctrl_qd = xr.open_dataset(f'{path_prace}/OHC/OHC_integrals_ctrl_qd.nc', decode_times=False)\n",
    "lpd_qd  = xr.open_dataset(f'{path_prace}/OHC/OHC_integrals_lpd_qd.nc' , decode_times=False)\n",
    "\n",
    "TOA_ctrl = xr.open_dataarray(f'{path_prace}/TOA/TOM_ctrl.nc', decode_times=False).isel(time=slice(50,300))\n",
    "TOA_lpd  = xr.open_dataarray(f'{path_prace}/TOA/TOM_lpd.nc' , decode_times=False).isel(time=slice(0,250))\n",
    "\n",
    "SHF_ctrl = xr.open_dataset(f'{path_prace}/OHC/SHF_ctrl.nc', decode_times=False).isel(time=slice(50,300))\n",
    "SHF_lpd  = xr.open_dataset(f'{path_prace}/OHC/SHF_lpd.nc' , decode_times=False).isel(time=slice(0,250))"
   ]
  },
  {
   "cell_type": "code",
   "execution_count": null,
   "metadata": {},
   "outputs": [],
   "source": [
    "f, ax = plt.subplots(1, 3, figsize=(9,3), sharey='row', sharex='col', gridspec_kw={\"width_ratios\":[149, 250, 250]})\n",
    "for i in range(3):\n",
    "    ax[i].axhline(0, c='grey', lw=.5)\n",
    "gmst_had .plot(ax=ax[0])\n",
    "gmst_ctrl[:-1].plot(ax=ax[1])\n",
    "gmst_lpd .plot(ax=ax[2])\n",
    "\n",
    "lowpass(gmst_had ,13).plot(ax=ax[0])\n",
    "lowpass(gmst_ctrl[:-1],13).plot(ax=ax[1])\n",
    "lowpass(gmst_lpd ,13).plot(ax=ax[2])"
   ]
  },
  {
   "cell_type": "code",
   "execution_count": null,
   "metadata": {},
   "outputs": [],
   "source": [
    "# TOA\n",
    "plt.figure(figsize=(8,5))\n",
    "for i, ts in enumerate([TOA_ctrl, TOA_lpd]):\n",
    "    (spec, freq, jackknife) = ATS(ts).spectrum()\n",
    "    plt.plot(freq, spec, label=['HIGH', 'LOW'][i], ls=['-', '--'][i])\n",
    "    plt.legend(fontsize=6)\n",
    "plt.ylabel('TOA spectral power')\n",
    "# plt.semilogx()\n",
    "plt.loglog()"
   ]
  },
  {
   "cell_type": "code",
   "execution_count": null,
   "metadata": {},
   "outputs": [],
   "source": [
    "# GMST\n",
    "plt.figure(figsize=(8,5))\n",
    "for i in np.arange(0,101,10):\n",
    "    (spec, freq, jackknife) = ATS(gmst_ctrl.isel({'time':slice(i,149+i)})).spectrum()\n",
    "    plt.plot(freq, spec, c='C1', lw=.5, ls='--', alpha=.5)\n",
    "    (spec, freq, jackknife) = ATS(gmst_lpd.isel({'time':slice(i,149+i)})).spectrum()\n",
    "    plt.plot(freq, spec, c='C2', lw=.5, ls='--', alpha=.5)\n",
    "\n",
    "for i, ts in enumerate([gmst_had, gmst_ctrl, gmst_lpd]):\n",
    "    (spec, freq, jackknife) = ATS(ts).spectrum()\n",
    "    plt.plot(freq, spec, label=['HIST', 'HIGH', 'LOW'][i])\n",
    "    plt.legend()\n",
    "    \n",
    "plt.ylabel('GMST spectral power')\n",
    "# plt.semilogx()\n",
    "plt.loglog()\n",
    "\n",
    "# \\Delta GMST\n",
    "plt.figure(figsize=(8,5))\n",
    "for i in np.arange(0,101,10):\n",
    "    ts1 = gmst_ctrl.isel({'time':slice(i,149+i)})\n",
    "    ts2 = gmst_lpd .isel({'time':slice(i,149+i)})\n",
    "    for j, ts in enumerate([ts1, ts2]):\n",
    "        ts_ = (ts-ts.shift(time=1)).dropna(dim='time')\n",
    "        (spec, freq, jackknife) = ATS(ts_).spectrum()\n",
    "        plt.plot(freq, spec, c=f'C{j+1}', lw=.5, ls='--', alpha=.5)\n",
    "\n",
    "for i, ts in enumerate([gmst_had, gmst_ctrl, gmst_lpd]):\n",
    "    (spec, freq, jackknife) = ATS((ts-ts.shift(time=1)).dropna(dim='time')).spectrum()\n",
    "    plt.plot(freq, spec, label=['HIST', 'HIGH', 'LOW'][i])\n",
    "    plt.legend()\n",
    "    \n",
    "plt.ylabel(r'$\\Delta$GMST spectral power')\n",
    "# plt.semilogx()\n",
    "plt.loglog()"
   ]
  },
  {
   "cell_type": "code",
   "execution_count": null,
   "metadata": {},
   "outputs": [],
   "source": [
    "plt.figure(figsize=(8,5))\n",
    "for i, ts in enumerate([ctrl_qd, lpd_qd]):\n",
    "    for j, basin in enumerate(['Atlantic', 'Pacific', 'Southern', 'Global']):\n",
    "        (spec, freq, jackknife) = ATS(ts[f'OHC_{basin}_Ocean']).spectrum()\n",
    "        plt.plot(freq, spec, label=[f'HIGH {basin}', f'LOW {basin}'][i], ls=['-', '--'][i], c=f'C{j}', alpha=[.5,.5,.5,1][j])\n",
    "        plt.legend(fontsize=6)\n",
    "plt.ylabel('OHC spectral power')\n",
    "plt.loglog()\n",
    "# plt.semilogx()"
   ]
  },
  {
   "cell_type": "code",
   "execution_count": null,
   "metadata": {},
   "outputs": [],
   "source": [
    "plt.figure(figsize=(8,5))\n",
    "for i, ts in enumerate([ctrl_qd, lpd_qd]):\n",
    "    for j, basin in enumerate(['Atlantic', 'Pacific', 'Southern', 'Global']):\n",
    "        ts_ = (ts[f'OHC_{basin}_Ocean'] - ts[f'OHC_{basin}_Ocean'].shift(time=1)).dropna(dim='time')\n",
    "        (spec, freq, jackknife) = ATS(ts_).spectrum()\n",
    "        plt.plot(freq, spec, label=[f'HIGH {basin}', f'LOW {basin}'][i], ls=['-', '--'][i], c=f'C{j}', alpha=[.5,.5,.5,1][j])\n",
    "        plt.legend(fontsize=6)\n",
    "plt.ylabel(r'$\\Delta$ OHC spectral power')\n",
    "plt.loglog()\n",
    "# plt.semilogx()"
   ]
  },
  {
   "cell_type": "code",
   "execution_count": null,
   "metadata": {},
   "outputs": [],
   "source": [
    "plt.figure(figsize=(8,5))\n",
    "for i, ts in enumerate([SHF_ctrl, SHF_lpd]):\n",
    "    for j, basin in enumerate(['Atlantic', 'Pacific', 'Southern', 'Global']):\n",
    "        ts_ = ts[f'{basin}_Ocean'] - xr_quadtrend(ts[f'{basin}_Ocean'])\n",
    "        (spec, freq, jackknife) = ATS(ts_).spectrum()\n",
    "        plt.plot(freq, spec, label=[f'HIGH {basin}', f'LOW {basin}'][i], ls=['-', '--'][i], c=f'C{j}', alpha=[.5,.5,.5,1][j])\n",
    "plt.legend(fontsize=6)\n",
    "plt.ylabel('SHF spectral power')\n",
    "# plt.semilogx()\n",
    "plt.loglog()"
   ]
  },
  {
   "cell_type": "code",
   "execution_count": null,
   "metadata": {},
   "outputs": [],
   "source": []
  }
 ],
 "metadata": {
  "kernelspec": {
   "display_name": "Python 3",
   "language": "python",
   "name": "python3"
  },
  "language_info": {
   "codemirror_mode": {
    "name": "ipython",
    "version": 3
   },
   "file_extension": ".py",
   "mimetype": "text/x-python",
   "name": "python",
   "nbconvert_exporter": "python",
   "pygments_lexer": "ipython3",
   "version": "3.6.7"
  }
 },
 "nbformat": 4,
 "nbformat_minor": 4
}
