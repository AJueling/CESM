{
 "cells": [
  {
   "cell_type": "markdown",
   "metadata": {},
   "source": [
    "# 2. SSH variability in CESM\n",
    "\n",
    "$$ std(SSH) = \\sqrt(SSH2 - SSH^2) $$"
   ]
  },
  {
   "cell_type": "code",
   "execution_count": null,
   "metadata": {},
   "outputs": [],
   "source": [
    "import os\n",
    "import sys\n",
    "import string\n",
    "import cmocean\n",
    "import dask\n",
    "import xesmf as xe\n",
    "import numpy as np\n",
    "import cartopy\n",
    "import xarray as xr\n",
    "import matplotlib\n",
    "import cartopy.crs as ccrs\n",
    "import scipy.stats as stats\n",
    "import matplotlib.pyplot as plt"
   ]
  },
  {
   "cell_type": "code",
   "execution_count": null,
   "metadata": {},
   "outputs": [],
   "source": [
    "sys.path.append(\"..\")\n",
    "%matplotlib inline\n",
    "matplotlib.rc_file('../rc_file')\n",
    "# matplotlib.rc_file('../rc_file')\n",
    "%config InlineBackend.print_figure_kwargs={'bbox_inches':None}\n",
    "%load_ext autoreload\n",
    "%autoreload 2\n",
    "%aimport - numpy - scipy - matplotlib.pyplot"
   ]
  },
  {
   "cell_type": "code",
   "execution_count": null,
   "metadata": {},
   "outputs": [],
   "source": [
    "from paths import path_results, file_ex_ocn_ctrl, file_ex_ocn_lpd, path_prace, path_ctrl, file_RMASK_ocn"
   ]
  },
  {
   "cell_type": "code",
   "execution_count": null,
   "metadata": {},
   "outputs": [],
   "source": [
    "RMASK_ocn = xr.open_dataarray(file_RMASK_ocn)"
   ]
  },
  {
   "cell_type": "code",
   "execution_count": null,
   "metadata": {},
   "outputs": [],
   "source": [
    "RMASK_ocn.where(RMASK_ocn!=-1).plot()"
   ]
  },
  {
   "cell_type": "code",
   "execution_count": null,
   "metadata": {},
   "outputs": [],
   "source": [
    "# daily ctrl data\n",
    "# ctrl_SSH = xr.open_mfdataset(f'{path_ctrl}/OUTPUT/ocn/hist/daily/spinup_pd_maxcores_f05_t12.pop.hm.0204-*.nc', concat_dim='time', decode_times=False, combine='nested').SSH"
   ]
  },
  {
   "cell_type": "code",
   "execution_count": null,
   "metadata": {},
   "outputs": [],
   "source": [
    "cesm_dict = dict(concat_dim='time', decode_times=False, combine='nested')\n",
    "obs_dict = dict(combine='nested', concat_dim='Time', chunks={'Latitude':96, 'Longitude':270, 'Time':73})\n",
    "ctrl = xr.open_mfdataset(file_ex_ocn_ctrl[:-5]+'*.nc', **cesm_dict).mean('time')\n",
    "lpd = xr.open_mfdataset(file_ex_ocn_lpd[:-5]+'*.nc', **cesm_dict).mean('time')\n",
    "obs = xr.open_mfdataset(f'{path_prace}/SSH/ssh_grids_v1812_*.nc', **obs_dict)"
   ]
  },
  {
   "cell_type": "code",
   "execution_count": null,
   "metadata": {},
   "outputs": [],
   "source": [
    "# ctrl_var = ctrl.SSH2-ctrl.SSH**2\n",
    "# ctrl_var = xr.where(ctrl_var<0,0,ctrl_var)   # np.absolute(ctrl_var)\n",
    "ctrl_std = np.sqrt(np.abs(ctrl.SSH2-ctrl.SSH**2))\n",
    "ctrl_std = ctrl_std.where(RMASK_ocn!=-1)\n",
    "lpd_std = np.sqrt(lpd.SSH2-lpd.SSH**2)\n",
    "obs_std = np.sqrt((obs.SLA**2).mean('Time')-obs.SLA.mean('Time')**2)"
   ]
  },
  {
   "cell_type": "code",
   "execution_count": null,
   "metadata": {},
   "outputs": [],
   "source": [
    "ctrl_std.plot()"
   ]
  },
  {
   "cell_type": "code",
   "execution_count": null,
   "metadata": {},
   "outputs": [],
   "source": [
    "f = plt.figure(figsize=(6.4,3.8))\n",
    "axo = f.add_axes([.01 ,.49,.485,.49], projection=ccrs.PlateCarree(central_longitude=-60))\n",
    "axh = f.add_axes([.01 ,0,.485,.49], projection=ccrs.PlateCarree(central_longitude=-60))\n",
    "axl = f.add_axes([.505,0,.485,.49], projection=ccrs.PlateCarree(central_longitude=-60))\n",
    "# axc = f.add_axes([.51,.9,.475,.04])\n",
    "axc = f.add_axes([.515,.735,.465,.04])\n",
    "# axc = f.add_axes([.51,.655,.475,.04])\n",
    "\n",
    "\n",
    "kw = dict(vmin=0.1, vmax=.4, cmap='viridis', transform=ccrs.PlateCarree())\n",
    "axo.pcolormesh(obs_std.Longitude, obs_std.Latitude, obs_std.T, **kw)\n",
    "axh.pcolormesh(ctrl.TLONG, ctrl.TLAT, ctrl_std/100, **kw)\n",
    "# axo.pcolormesh(lpd.TLONG, lpd.TLAT, lpd_std/100, **kw)\n",
    "# axh.pcolormesh(lpd.TLONG, lpd.TLAT, lpd_std/100, **kw)\n",
    "im = axl.pcolormesh(lpd.TLONG, lpd.TLAT, lpd_std/100, **kw)\n",
    "plt.colorbar(im, cax=axc, orientation='horizontal', label='std(SSH)  [m]')\n",
    "for i, ax in enumerate([axo, axh, axl]):\n",
    "    ax.add_feature(cartopy.feature.LAND, zorder=2, edgecolor='black', facecolor='grey', linewidth=.5)\n",
    "    ax.text(.01,.91, '('+['a','b','c'][i]+')', transform=ax.transAxes, color='k',\\\n",
    "            bbox=dict(ec='None', fc='w', alpha=0.5, pad=0.0))\n",
    "    gl = ax.gridlines(crs=ccrs.PlateCarree(), draw_labels=False, linewidth=.5)\n",
    "    gl.ylocator = matplotlib.ticker.FixedLocator([-90, -60, -30, 0, 30, 60, 90])\n",
    "    ax.set_global()\n",
    "    ax.set_title(['OBS','HR-CESM','LR-CESM'][i])"
   ]
  },
  {
   "cell_type": "code",
   "execution_count": null,
   "metadata": {},
   "outputs": [],
   "source": [
    "f = plt.figure(figsize=(6.4,3.8))\n",
    "axo = f.add_axes([.01 ,.49,.485,.49], projection=ccrs.PlateCarree(central_longitude=-60))\n",
    "axh = f.add_axes([.01 ,  0,.485,.49], projection=ccrs.PlateCarree(central_longitude=-60))\n",
    "axl = f.add_axes([.505,  0,.485,.49], projection=ccrs.PlateCarree(central_longitude=-60))\n",
    "# axc = f.add_axes([.51,.9,.475,.04])\n",
    "axc = f.add_axes([.515,.735,.465,.04])\n",
    "# axc = f.add_axes([.51,.655,.475,.04])\n",
    "\n",
    "\n",
    "kw = dict(vmin=.2, vmax=1.7, cmap='viridis', transform=ccrs.PlateCarree())\n",
    "axo.pcolormesh(obs_std.Longitude, obs_std.Latitude, np.log10(obs_std.T*100), **kw)\n",
    "axh.pcolormesh(ctrl.TLONG, ctrl.TLAT, np.log10(ctrl_std), **kw)\n",
    "im = axl.pcolormesh(lpd.TLONG, lpd.TLAT, np.log10(lpd_std), **kw)\n",
    "plt.colorbar(im, cax=axc, orientation='horizontal', label=r'log$_{10}$std(SSH)  [m]')\n",
    "for i, ax in enumerate([axo, axh, axl]):\n",
    "    ax.add_feature(cartopy.feature.LAND, zorder=2, edgecolor='black', facecolor='grey', linewidth=.5)\n",
    "    ax.text(.01,.91, '('+['a','b','c'][i]+')', transform=ax.transAxes, color='k',\\\n",
    "            bbox=dict(ec='None', fc='w', alpha=0.5, pad=0.0))\n",
    "    gl = ax.gridlines(crs=ccrs.PlateCarree(), draw_labels=False, linewidth=.5)\n",
    "    gl.ylocator = matplotlib.ticker.FixedLocator([-90, -60, -30, 0, 30, 60, 90])\n",
    "    ax.set_global()\n",
    "    ax.set_title(['OBS','HR-CESM','LR-CESM'][i])\n"
   ]
  },
  {
   "cell_type": "code",
   "execution_count": null,
   "metadata": {},
   "outputs": [],
   "source": [
    "f = plt.figure(figsize=(6.4,3.8))\n",
    "axo = f.add_axes([.01 ,.49,.485,.49], projection=ccrs.PlateCarree(central_longitude=-60))\n",
    "axh = f.add_axes([.01 ,  0,.485,.49], projection=ccrs.PlateCarree(central_longitude=-60))\n",
    "axl = f.add_axes([.505,  0,.485,.49], projection=ccrs.PlateCarree(central_longitude=-60))\n",
    "# axc = f.add_axes([.51,.9,.475,.04])\n",
    "axc = f.add_axes([.515,.735,.465,.04])\n",
    "# axc = f.add_axes([.51,.655,.475,.04])\n",
    "\n",
    "\n",
    "kw = dict(norm=matplotlib.colors.LogNorm(vmin=1, vmax=100), cmap='viridis', transform=ccrs.PlateCarree())\n",
    "axo.pcolormesh(obs_std.Longitude, obs_std.Latitude, obs_std.T*100, **kw)\n",
    "axh.pcolormesh(ctrl.TLONG, ctrl.TLAT, ctrl_std, **kw)\n",
    "im = axl.pcolormesh(lpd.TLONG, lpd.TLAT, lpd_std, **kw)\n",
    "cbar = plt.colorbar(im, cax=axc, orientation='horizontal', label='std(SSH)  [cm]')\n",
    "cbar.ax.get_xaxis().set_ticks([1,3,10,30,100])\n",
    "cbar.ax.get_xaxis().set_ticklabels([1,3,10,30,100])\n",
    "for i, ax in enumerate([axo, axh, axl]):\n",
    "    ax.add_feature(cartopy.feature.LAND, zorder=2, edgecolor='black', facecolor='grey', linewidth=.5)\n",
    "    ax.text(.01,.91, '('+['a','b','c'][i]+')', transform=ax.transAxes, color='k',\\\n",
    "            bbox=dict(ec='None', fc='w', alpha=0.5, pad=0.0))\n",
    "    gl = ax.gridlines(crs=ccrs.PlateCarree(), draw_labels=False, linewidth=.5)\n",
    "    gl.ylocator = matplotlib.ticker.FixedLocator([-90, -60, -30, 0, 30, 60, 90])\n",
    "    ax.set_global()\n",
    "    ax.set_title(['OBS','HR-CESM','LR-CESM'][i])\n"
   ]
  },
  {
   "cell_type": "code",
   "execution_count": null,
   "metadata": {},
   "outputs": [],
   "source": [
    "f = plt.figure(figsize=(6.4,3.8))\n",
    "axo = f.add_axes([.01 ,.49,.485,.49], projection=ccrs.PlateCarree(central_longitude=-60))\n",
    "axh = f.add_axes([.01 ,  0,.485,.49], projection=ccrs.PlateCarree(central_longitude=-60))\n",
    "axl = f.add_axes([.505,  0,.485,.49], projection=ccrs.PlateCarree(central_longitude=-60))\n",
    "# axc = f.add_axes([.51,.9,.475,.04])\n",
    "axc = f.add_axes([.515,.735,.465,.04])\n",
    "# axc = f.add_axes([.51,.655,.475,.04])\n",
    "\n",
    "ticks = [2**x for x in range(1,7)]\n",
    "kw = dict(norm=matplotlib.colors.LogNorm(vmin=2, vmax=64), cmap='viridis', transform=ccrs.PlateCarree())\n",
    "axo.pcolormesh(obs_std.Longitude, obs_std.Latitude, obs_std.T*100, **kw)\n",
    "axh.pcolormesh(ctrl.TLONG, ctrl.TLAT, ctrl_std, **kw)\n",
    "im = axl.pcolormesh(lpd.TLONG, lpd.TLAT, lpd_std, **kw)\n",
    "cbar = plt.colorbar(im, cax=axc, orientation='horizontal', label='std(SSH)  [cm]')\n",
    "cbar.ax.minorticks_off()\n",
    "cbar.ax.get_xaxis().set_ticks(ticks)\n",
    "cbar.ax.get_xaxis().set_ticklabels(ticks)\n",
    "for i, ax in enumerate([axo, axh, axl]):\n",
    "    ax.add_feature(cartopy.feature.LAND, zorder=2, edgecolor='black', facecolor='grey', linewidth=.5)\n",
    "    ax.text(.01,.91, '('+['a','b','c'][i]+')', transform=ax.transAxes, color='k',\\\n",
    "            bbox=dict(ec='None', fc='w', alpha=0.5, pad=0.0))\n",
    "    gl = ax.gridlines(crs=ccrs.PlateCarree(), draw_labels=False, linewidth=.5)\n",
    "    gl.ylocator = matplotlib.ticker.FixedLocator([-90, -60, -30, 0, 30, 60, 90])\n",
    "    ax.set_global()\n",
    "    ax.set_title(['OBS','HR-CESM','LR-CESM'][i])"
   ]
  },
  {
   "cell_type": "code",
   "execution_count": null,
   "metadata": {},
   "outputs": [],
   "source": [
    "from obs_cesm_maps import bias_maps\n",
    "from maps import add_cyclic_POP\n",
    "kw = dict(lat='Latitude', lon='Longitude', label='std(SSH)  [cm]', cmap='viridis', vmin=2, vmax=64, log=True, ticks = [2**x for x in range(1,7)])\n",
    "bias_maps(do=obs_std.T*100, dh=ctrl_std, dl=add_cyclic_POP(lpd_std), kw1=kw, kw2=None, fn=f'{path_results}/FW-paper/SupplFig4')"
   ]
  },
  {
   "cell_type": "code",
   "execution_count": null,
   "metadata": {},
   "outputs": [],
   "source": []
  }
 ],
 "metadata": {
  "kernelspec": {
   "display_name": "Python 3.7.6 64-bit ('CESM': conda)",
   "language": "python",
   "name": "python37664bitcesmcondab4c0ec31b2cd418e8914b78c2fca0775"
  },
  "language_info": {
   "codemirror_mode": {
    "name": "ipython",
    "version": 3
   },
   "file_extension": ".py",
   "mimetype": "text/x-python",
   "name": "python",
   "nbconvert_exporter": "python",
   "pygments_lexer": "ipython3",
   "version": "3.7.6"
  }
 },
 "nbformat": 4,
 "nbformat_minor": 4
}
