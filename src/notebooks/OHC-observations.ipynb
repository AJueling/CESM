{
 "cells": [
  {
   "cell_type": "markdown",
   "metadata": {},
   "source": [
    "# Ocean Heat Content"
   ]
  },
  {
   "cell_type": "markdown",
   "metadata": {},
   "source": [
    "$OHC = \\Delta T \\times c_p \\times \\rho \\times V$\n",
    "\n",
    "unit conversion to SI\n",
    "- $c_p$: erg/g/K = 1e-7J / 1e-3kg / K = 1e-4 J/kg/K $\\rightarrow$ 3996 J/kg/K\n",
    "- $\\rho$: g/cm^3 = 1e3 kg/m^3"
   ]
  },
  {
   "cell_type": "code",
   "execution_count": null,
   "metadata": {},
   "outputs": [],
   "source": [
    "import sys\n",
    "sys.path.append(\"..\")\n",
    "import scipy as sp\n",
    "import numpy as np\n",
    "import xarray as xr\n",
    "import seaborn as sns\n",
    "import cmocean\n",
    "import cartopy\n",
    "import cartopy.crs as ccrs\n",
    "import matplotlib.pyplot as plt\n",
    "import matplotlib.patches as mpatches\n",
    "from matplotlib.collections import PatchCollection"
   ]
  },
  {
   "cell_type": "code",
   "execution_count": null,
   "metadata": {},
   "outputs": [],
   "source": [
    "%matplotlib inline\n",
    "%config InlineBackend.print_figure_kwargs={'bbox_inches':None}\n",
    "%load_ext autoreload\n",
    "%autoreload 2\n",
    "%aimport - numpy - scipy - matplotlib.pyplot"
   ]
  },
  {
   "cell_type": "code",
   "execution_count": null,
   "metadata": {},
   "outputs": [],
   "source": [
    "from OHC import OHC_integrals, trend_global_levels\n",
    "from maps import map_robinson\n",
    "from grid import create_dz_mean, create_tdepth\n",
    "from paths import CESM_filename, path_samoc, file_ex_ocn_ctrl, file_ex_ocn_rcp, path_results\n",
    "from regions import boolean_mask, regions_dict\n",
    "from constants import cp_sw, spy\n",
    "from OHC_plots import plot_global_integrals, plot_global_integrals_detr, plot_global_integrals_diff, plot_levels_trend\n",
    "from OHC_plots import Hovmoeller_global_depth, Hovmoeller_basins_depth\n",
    "from timeseries import IterateOutputCESM\n",
    "from xr_integrate import  xr_vol_int\n",
    "from xr_DataArrays import create_xr_DataArray, xr_DZ, xr_AREA, xr_HTN, xr_LATS\n",
    "from xr_regression import xr_linear_trend, xr_linear_trends_2D, zonal_trend, zonal_levels_trend, ocn_field_regression"
   ]
  },
  {
   "cell_type": "markdown",
   "metadata": {},
   "source": [
    "# Observations"
   ]
  },
  {
   "cell_type": "markdown",
   "metadata": {},
   "source": [
    "# http://www.realclimate.org/index.php/archives/2018/11/the-long-story-of-constraining-ocean-heat-content/\n",
    "![realclimate blog post](http://www.realclimate.org/images//oh_uptake2.png)"
   ]
  },
  {
   "cell_type": "code",
   "execution_count": null,
   "metadata": {},
   "outputs": [],
   "source": [
    "years = [[1955, 1997], [1983, 1997], [1998, 2013] ]\n",
    "rates = [[3-.7,+3+.7], [7-1.7,7+1.7], [9.8-1.6, 9.8+1.6]]\n",
    "rect = []\n",
    "\n",
    "\n",
    "f, ax = plt.subplots(1,1,figsize=(8,5))\n",
    "for i, ys in enumerate(years):\n",
    "    rect.append(mpatches.Rectangle((ys[0], rates[i][0]), ys[1]-ys[0], rates[i][1]-rates[i][0]))\n",
    "pc = PatchCollection(rect, facecolor='C0', alpha=.5)\n",
    "ax.add_collection(pc)\n",
    "ax.plot(years[0], rates[0])\n",
    "ax.set_ylegend()\n",
    "ax.legend()\n",
    "plt.show()"
   ]
  }
 ],
 "metadata": {
  "kernelspec": {
   "display_name": "Python 3",
   "language": "python",
   "name": "python3"
  },
  "language_info": {
   "codemirror_mode": {
    "name": "ipython",
    "version": 3
   },
   "file_extension": ".py",
   "mimetype": "text/x-python",
   "name": "python",
   "nbconvert_exporter": "python",
   "pygments_lexer": "ipython3",
   "version": "3.6.6"
  }
 },
 "nbformat": 4,
 "nbformat_minor": 2
}
