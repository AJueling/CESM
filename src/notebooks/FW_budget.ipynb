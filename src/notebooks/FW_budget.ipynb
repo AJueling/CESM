{
 "cells": [
  {
   "cell_type": "markdown",
   "metadata": {},
   "source": [
    "# Freshwater/Salt Fluxes\n",
    "\n",
    "\n",
    "\n",
    "1. divergence\n",
    "2. surface fluxes\n"
   ]
  },
  {
   "cell_type": "code",
   "execution_count": null,
   "metadata": {},
   "outputs": [],
   "source": [
    "import os\n",
    "import sys\n",
    "sys.path.append(\"..\")\n",
    "import numpy as np\n",
    "import pickle\n",
    "import xarray as xr\n",
    "import cmocean\n",
    "import cartopy\n",
    "import warnings  \n",
    "import cartopy.crs as ccrs\n",
    "import matplotlib\n",
    "import matplotlib.pyplot as plt"
   ]
  },
  {
   "cell_type": "code",
   "execution_count": null,
   "metadata": {},
   "outputs": [],
   "source": [
    "%matplotlib inline\n",
    "matplotlib.rc_file('../rc_file')\n",
    "%config InlineBackend.print_figure_kwargs={'bbox_inches':None}\n",
    "%load_ext autoreload\n",
    "%autoreload 2"
   ]
  },
  {
   "cell_type": "code",
   "execution_count": null,
   "metadata": {},
   "outputs": [],
   "source": [
    "from tqdm import notebook\n",
    "from paths import file_ex_ocn_ctrl, file_ex_ocn_lpd\n",
    "from paths import path_results, path_prace, file_RMASK_ocn, file_RMASK_ocn_low\n",
    "from FW_plots import FW_region_plot, FW_summary_plot\n",
    "from FW_budget import load_obj, lat_bands\n",
    "from constants import rho_sw\n",
    "from timeseries import IterateOutputCESM\n",
    "from FW_transport import calc_section_transport, sections_high, sections_low\n",
    "from xr_DataArrays import xr_AREA, xr_DZ\n",
    "from xr_regression import ocn_field_regression, xr_linear_trend\n",
    "warnings.filterwarnings('ignore')"
   ]
  },
  {
   "cell_type": "code",
   "execution_count": null,
   "metadata": {},
   "outputs": [],
   "source": [
    "dsh = xr.open_dataset(file_ex_ocn_ctrl, decode_times=False)\n",
    "dsl = xr.open_dataset(file_ex_ocn_lpd , decode_times=False)"
   ]
  },
  {
   "cell_type": "code",
   "execution_count": null,
   "metadata": {},
   "outputs": [],
   "source": [
    "do = xr.open_dataset(file_ex_ocn_ctrl, decode_times=False)\n",
    "RMASK_ocn = xr.open_dataset(file_ex_ocn_ctrl, decode_times=False).REGION_MASK\n",
    "RMASK_low = xr.open_dataset(file_RMASK_ocn_low, decode_times=False).REGION_MASK\n",
    "Atl_MASK_ocn = xr.DataArray(np.in1d(RMASK_ocn, [6,8,9,10,11]).reshape(RMASK_ocn.shape),\n",
    "                            dims=RMASK_ocn.dims, coords=RMASK_ocn.coords)\n",
    "Atl_MASK_low = xr.DataArray(np.in1d(RMASK_low, [6,8,9,10,11]).reshape(RMASK_low.shape),\n",
    "                            dims=RMASK_low.dims, coords=RMASK_low.coords)\n",
    "AREA_ocn = xr_AREA(domain='ocn')\n",
    "AREA_low = xr_AREA(domain='ocn_low')"
   ]
  },
  {
   "cell_type": "markdown",
   "metadata": {},
   "source": [
    "## surface flux integrals"
   ]
  },
  {
   "cell_type": "markdown",
   "metadata": {},
   "source": [
    "## time derivative of content: $\\partial_t$ FW/SALT"
   ]
  },
  {
   "cell_type": "code",
   "execution_count": null,
   "metadata": {},
   "outputs": [],
   "source": [
    "Atl_MASK_ocn.plot()"
   ]
  },
  {
   "cell_type": "code",
   "execution_count": null,
   "metadata": {},
   "outputs": [],
   "source": [
    "Atl_MASK_low.plot()"
   ]
  },
  {
   "cell_type": "code",
   "execution_count": null,
   "metadata": {},
   "outputs": [],
   "source": [
    "f, ax = plt.subplots(1, 2, figsize=(6.4,3), sharey=True)\n",
    "for i, run in notebook.tqdm(enumerate(['lpd', 'lr1', 'ctrl', 'rcp'])):\n",
    "#     if i>1:  continue\n",
    "    if run in ['ctrl', 'rcp']:  # HIGH\n",
    "        ax_= ax[1]\n",
    "        AREA = xr_AREA('ocn')\n",
    "        MASK = Atl_MASK_ocn\n",
    "    elif run in ['lpd', 'lr1']:  # LOW\n",
    "        ax_= ax[0]\n",
    "        AREA = xr_AREA('ocn_low')\n",
    "        MASK = Atl_MASK_low\n",
    "    da = xr.open_dataarray(f'{path_prace}/SALT/SALT_dz_0-1000m_{run}.nc') \\\n",
    "       + xr.open_dataarray(f'{path_prace}/SALT/SALT_dz_below_1000m_{run}.nc')\n",
    "    for j, (latS, latN) in notebook.tqdm(enumerate(lat_bands)):\n",
    "        MASK_ = MASK.where(MASK.TLAT<latN).where(MASK.TLAT>latS)\n",
    "        salt = (da*AREA).where(MASK_==1).sum(dim=['nlat','nlon'])  # m^2\n",
    "        ax_.plot(np.arange(101), salt-salt.mean(),label=latS, ls=['-','--'][i%2])\n",
    "        print(f'{run:4}', f'{latS:4}', f'{latN:4}', f'{salt.mean().values:4.1e}')\n",
    "for i in range(2):  ax[i].legend()"
   ]
  },
  {
   "cell_type": "code",
   "execution_count": null,
   "metadata": {},
   "outputs": [],
   "source": [
    "# d/dt SALT\n",
    "for i, run in enumerate(['lpd', 'lr1', 'ctrl', 'rcp']):\n",
    "    if i in [0,1]: continue\n",
    "    ts, te = [500,2000,200,2000][i],[530,2101,230,2101][i]\n",
    "    if run in ['ctrl', 'rcp']:  # HIGH\n",
    "        AREA, DZT = xr_AREA('ocn'),xr_DZ('ocn')\n",
    "        MASK = Atl_MASK_ocn\n",
    "    elif run in ['lpd', 'lr1']:  # LOW\n",
    "        AREA, DZT = xr_AREA('ocn_low'), xr_DZ('ocn_low')\n",
    "        MASK = Atl_MASK_low\n",
    "        \n",
    "    for j, (latS, latN) in enumerate(lat_bands):\n",
    "        if j<3: continue\n",
    "        MASK_ = MASK.where(MASK.TLAT<latN).where(MASK.TLAT>latS)\n",
    "        vol = (DZT*AREA).where(MASK_).sum()  # m^3\n",
    "        print(latS, latN, vol)\n",
    "        for y in notebook.tqdm(np.arange(ts, te)):\n",
    "            SALT = xr.open_dataset(f'{path_prace}/{run}/ocn_yrly_SALT_{y:04d}.nc', decode_times=False).SALT\n",
    "            S = (SALT*AREA*DZT).where(MASK_).sum()/vol\n",
    "            F = ((SALT-35.)*AREA*DZT).where(MASK_).sum()/vol\n",
    "            if y==ts:  S_, F_ = S.copy(), F.copy()\n",
    "            else:      S_, F_ = xr.concat([S_, S], dim='time'), xr.concat([F_, F], dim='time')\n",
    "        d[f'SALT_{latS}N_{latN}N'] = S_\n",
    "        d[f'FW_{latS}N_{latN}N']   = F_\n",
    "    fn = f'{path_results}/SFWF/Atlantic_SALT_integrals_{run}'\n",
    "    save_obj(d, fn)"
   ]
  },
  {
   "cell_type": "code",
   "execution_count": null,
   "metadata": {},
   "outputs": [],
   "source": [
    "dlr1 = load_obj(f'{path_results}/SFWF/Atlantic_SALT_integrals_lr1')"
   ]
  },
  {
   "cell_type": "code",
   "execution_count": null,
   "metadata": {
    "jupyter": {
     "outputs_hidden": true
    }
   },
   "outputs": [],
   "source": [
    "dlr1"
   ]
  },
  {
   "cell_type": "code",
   "execution_count": null,
   "metadata": {},
   "outputs": [],
   "source": [
    "f, ax = plt.subplots(2,2, figsize=(6.4,5), sharex=True)\n",
    "for i, lats in enumerate(lat_bands[1:]):\n",
    "    \n",
    "    ax[0,0].plot(dlr1[f'FW_{lats[0]}N_{lats[1]}N'], c=f'C{i}', label=str(lats))\n",
    "    ax[1,0].plot(dlr1[f'FW_{lats[0]}N_{lats[1]}N']-dlr1[f'FW_{lats[0]}N_{lats[1]}N'].mean(), c=f'C{i}')\n",
    "    ax[0,1].plot(dlr1[f'SALT_{lats[0]}N_{lats[1]}N'], c=f'C{i}')\n",
    "    ax[1,1].plot(dlr1[f'SALT_{lats[0]}N_{lats[1]}N']-dlr1[f'SALT_{lats[0]}N_{lats[1]}N'].mean(), c=f'C{i}')\n",
    "\n",
    "ax[0,0].legend()"
   ]
  },
  {
   "cell_type": "markdown",
   "metadata": {},
   "source": [
    "## box plot"
   ]
  },
  {
   "cell_type": "code",
   "execution_count": null,
   "metadata": {},
   "outputs": [],
   "source": [
    "FW_summary_plot('FW')\n",
    "FW_summary_plot('SALT')"
   ]
  },
  {
   "cell_type": "code",
   "execution_count": null,
   "metadata": {},
   "outputs": [],
   "source": [
    "FW_region_plot('FW')\n",
    "FW_region_plot('SALT')"
   ]
  },
  {
   "cell_type": "code",
   "execution_count": null,
   "metadata": {},
   "outputs": [],
   "source": []
  }
 ],
 "metadata": {
  "kernelspec": {
   "display_name": "Python 3",
   "language": "python",
   "name": "python3"
  },
  "language_info": {
   "codemirror_mode": {
    "name": "ipython",
    "version": 3
   },
   "file_extension": ".py",
   "mimetype": "text/x-python",
   "name": "python",
   "nbconvert_exporter": "python",
   "pygments_lexer": "ipython3",
   "version": "3.7.6"
  }
 },
 "nbformat": 4,
 "nbformat_minor": 4
}
