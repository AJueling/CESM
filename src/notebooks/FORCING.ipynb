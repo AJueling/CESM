{
 "cells": [
  {
   "cell_type": "markdown",
   "metadata": {},
   "source": [
    "# Radiative Forcing of different model simulations\n",
    "\n",
    "https://agupubs.onlinelibrary.wiley.com/doi/full/10.1002/2016GL071930\n",
    "\n",
    "paths of namelist files:\n",
    "\n",
    "CTRL: `/projects/0/prace_imau/prace_2013081679/cesm1_0_4/spinup_pd_maxcores_f05_t12/run/atm_in`\n",
    "\n",
    "LPD: `/projects/0/acc/cesm/cesm1_1_2/spinup_B_2000_cam5_f09_g16/run/atm_in`\n",
    "\n",
    "\"present day\"/\"year 2000\" CO<sub>2</sub> value: 367 ppm"
   ]
  },
  {
   "cell_type": "code",
   "execution_count": null,
   "metadata": {},
   "outputs": [],
   "source": [
    "import sys\n",
    "sys.path.append(\"..\")\n",
    "import scipy as sp\n",
    "import numpy as np\n",
    "import xarray as xr\n",
    "import cmocean\n",
    "import matplotlib.pyplot as plt"
   ]
  },
  {
   "cell_type": "code",
   "execution_count": null,
   "metadata": {},
   "outputs": [],
   "source": [
    "%matplotlib inline\n",
    "%config InlineBackend.print_figure_kwargs={'bbox_inches':None}\n",
    "%load_ext autoreload\n",
    "%autoreload 2"
   ]
  },
  {
   "cell_type": "code",
   "execution_count": null,
   "metadata": {},
   "outputs": [],
   "source": [
    "from paths import path_results"
   ]
  },
  {
   "cell_type": "code",
   "execution_count": null,
   "metadata": {},
   "outputs": [],
   "source": [
    "def radiative_forcing(C, N, M):\n",
    "    \"\"\"\n",
    "    C .. CO2 conc. [ppm]\n",
    "    M .. CH4 conc. [ppb]\n",
    "    N .. N2O conc. [ppb]\n",
    "    \"\"\"\n",
    "    a1 = -2.4e-7\n",
    "    b1 =  7.2e-4\n",
    "    c1 = -2.1e-4\n",
    "    a2 = -8.0e-6\n",
    "    b2 =  4.2e-6\n",
    "    c2 = -4.9e-6\n",
    "    a3 = -1.3e-6\n",
    "    b3 = -8.2e-6\n",
    "    \n",
    "    C0 = 278.  # [ppm]\n",
    "    M0 = 722.  # [ppb]\n",
    "    N0 = 270.  # [ppb]\n",
    "    \n",
    "    Cbar = (C+C0)/2  # [ppm]\n",
    "    Mbar = (M+M0)/2  # [ppb]\n",
    "    Nbar = (N+N0)/2  # [ppb]\n",
    "    \n",
    "    CO2_forcing = (a1*(C-C0)**2 + b1*abs(C-C0) + c1*Nbar + 5.36) * np.log(C/C0)\n",
    "    N2O_forcing = (a2*Cbar + b2*Nbar + c2*Mbar + 0.177) * (np.sqrt(N) - np.sqrt(N0))\n",
    "    CH4_forcing = (a3*Mbar + b3*Nbar + 0.043) * (np.sqrt(M) - np.sqrt(M0))\n",
    "\n",
    "    return (CO2_forcing, N2O_forcing, CH4_forcing)\n",
    "\n",
    "\n",
    "def forcings(ds):\n",
    "    ds['CO2_forc'] = ds['CO2'].copy()\n",
    "    ds['CH4_forc'] = ds['CO2'].copy()\n",
    "    ds['N2O_forc'] = ds['CO2'].copy()\n",
    "    for t in range(len(ds.time)):\n",
    "        (CO2, N2O, CH4) = radiative_forcing(C=ds.CO2[t], N=ds.N2O[t], M=ds.CH4[t])\n",
    "        ds['CO2_forc'][t] = CO2\n",
    "        ds['CH4_forc'][t] = CH4\n",
    "        ds['N2O_forc'][t] = N2O\n",
    "    return ds"
   ]
  },
  {
   "cell_type": "code",
   "execution_count": null,
   "metadata": {},
   "outputs": [],
   "source": [
    "def onepercent(CO20):\n",
    "    A = np.array([CO20]*140)\n",
    "    for t in np.arange(1,140):\n",
    "        A[t] = A[t-1]*1.01\n",
    "    return A\n",
    "\n",
    "A = onepercent(278.)\n",
    "B = onepercent(369.)"
   ]
  },
  {
   "cell_type": "code",
   "execution_count": null,
   "metadata": {},
   "outputs": [],
   "source": [
    "plt.plot(A)\n",
    "plt.plot(B)\n"
   ]
  },
  {
   "cell_type": "markdown",
   "metadata": {},
   "source": [
    "## RCP8.5 GHG forcings"
   ]
  },
  {
   "cell_type": "code",
   "execution_count": null,
   "metadata": {},
   "outputs": [],
   "source": [
    "rcp85 = '/projects/0/prace_imau/prace_2013081679/cesm1_0_4/inputdata/atm/cam/ggas/make_new_ghg/ghg_rcp85_1765-2500_c100203.nc'"
   ]
  },
  {
   "cell_type": "code",
   "execution_count": null,
   "metadata": {},
   "outputs": [],
   "source": [
    "ds = xr.open_dataset(rcp85, decode_times=False)"
   ]
  },
  {
   "cell_type": "code",
   "execution_count": null,
   "metadata": {},
   "outputs": [],
   "source": [
    "ds = forcings(ds)"
   ]
  },
  {
   "cell_type": "code",
   "execution_count": null,
   "metadata": {},
   "outputs": [],
   "source": [
    "ds"
   ]
  },
  {
   "cell_type": "code",
   "execution_count": null,
   "metadata": {},
   "outputs": [],
   "source": [
    "f, ax = plt.subplots(2, 3, figsize=(12,5), sharex='col')\n",
    "\n",
    "# plt.plot(ds.time/365+1765, ds.CH4)\n",
    "for i in range(2):\n",
    "    for j in range(3):\n",
    "        ax[1,j].set_xlabel('year', fontsize=14)\n",
    "        ax[1,j].set_xlim((1850,2120))\n",
    "        ax[i,j].tick_params(labelsize=14)\n",
    "        ax[i,j].axvline(2000, c='k', lw=.5, ls=':')\n",
    "        ax[i,j].axvline(2100, c='k', lw=.5, ls=':')\n",
    "\n",
    "\n",
    "ax[0,0].set_ylabel('CO2 [ppmv]', fontsize=14)\n",
    "ax[0,0].plot(ds.time/365+1765, ds.CO2)\n",
    "ax[0,0].axhline(ds.CO2.sel({'time':(2000-1765)*365}, method='nearest'), ls=':')\n",
    "ax[0,0].axhline(ds.CO2.sel({'time':(1765-1765)*365}, method='nearest'), ls='--')\n",
    "ax[0,0].plot(np.arange(2000,2000+140), A, c='r')\n",
    "ax[0,0].plot(np.arange(2000,2000+140), B, c='r', ls='--')\n",
    "\n",
    "ax[0,0].scatter(2018,410)\n",
    "ax[0,1].set_ylabel('CH4 [ppbv]', fontsize=14)\n",
    "ax[0,1].plot(ds.time/365+1765, ds.CH4)\n",
    "ax[0,1].axhline(ds.CH4.sel({'time':(2000-1765)*365}, method='nearest'), ls=':')\n",
    "ax[0,1].axhline(ds.CH4.sel({'time':(1765-1765)*365}, method='nearest'), ls='--')\n",
    "ax[0,1].scatter(2018,1850)\n",
    "ax[0,2].set_ylabel('N20 [ppbv]', fontsize=14)\n",
    "ax[0,2].plot(ds.time/365+1765, ds.N2O)\n",
    "ax[0,2].axhline(ds.N2O.sel({'time':(2000-1765)*365}, method='nearest'), ls=':')\n",
    "ax[0,2].axhline(ds.N2O.sel({'time':(1765-1765)*365}, method='nearest'), ls='--')\n",
    "ax[0,2].scatter(2018,333)\n",
    "\n",
    "\n",
    "ax[1,0].set_ylabel('CO2 forcing [W/m^2]', fontsize=14)\n",
    "ax[1,0].plot(ds.time/365+1765, ds.CO2_forc)\n",
    "ax[1,0].axhline(ds.CO2_forc.sel({'time':(2000-1765)*365}, method='nearest'), ls=':')\n",
    "ax[1,0].axhline(ds.CO2_forc.sel({'time':(1765-1765)*365}, method='nearest'), ls='--')\n",
    "ax[1,1].set_ylabel('CH4 forcing [W/m^2]', fontsize=14)\n",
    "ax[1,1].plot(ds.time/365+1765, ds.CH4_forc)\n",
    "ax[1,1].axhline(ds.CH4_forc.sel({'time':(2000-1765)*365}, method='nearest'), ls=':')\n",
    "ax[1,1].axhline(ds.CH4_forc.sel({'time':(1765-1765)*365}, method='nearest'), ls='--')\n",
    "ax[1,2].set_ylabel('N20 forcing [W/m^2]', fontsize=14)\n",
    "ax[1,2].plot(ds.time/365+1765, ds.N2O_forc)\n",
    "ax[1,2].axhline(ds.N2O_forc.sel({'time':(2000-1765)*365}, method='nearest'), ls=':')\n",
    "ax[1,2].axhline(ds.N2O_forc.sel({'time':(1765-1765)*365}, method='nearest'), ls='--')\n",
    "\n",
    "ax[0,0].set_ylim((250,1000))\n",
    "ax[1,0].set_ylim((-.5,9))\n",
    "f.align_ylabels()\n",
    "f.tight_layout()\n",
    "f.savefig(f'{path_results}/FORCING/RCP85_forcing')"
   ]
  },
  {
   "cell_type": "code",
   "execution_count": null,
   "metadata": {},
   "outputs": [],
   "source": []
  }
 ],
 "metadata": {
  "kernelspec": {
   "display_name": "Python 3",
   "language": "python",
   "name": "python3"
  },
  "language_info": {
   "codemirror_mode": {
    "name": "ipython",
    "version": 3
   },
   "file_extension": ".py",
   "mimetype": "text/x-python",
   "name": "python",
   "nbconvert_exporter": "python",
   "pygments_lexer": "ipython3",
   "version": "3.6.6"
  }
 },
 "nbformat": 4,
 "nbformat_minor": 4
}
