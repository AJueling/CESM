{
 "cells": [
  {
   "cell_type": "markdown",
   "metadata": {},
   "source": [
    "# Top of the Atmosphere radiative imbalance\n",
    "- FSNTOA: Net solar flux at top of atmosphere [W/m2]\n",
    "- FSNT:   Net solar flux at top of model [W/m2]; positive down\n",
    "- FLNT:   Net longwave flux at top of model [W/m2]; positive up"
   ]
  },
  {
   "cell_type": "code",
   "execution_count": null,
   "metadata": {},
   "outputs": [],
   "source": [
    "import os\n",
    "import sys\n",
    "sys.path.append(\"..\")\n",
    "import numpy as np\n",
    "import xarray as xr\n",
    "import matplotlib.pyplot as plt"
   ]
  },
  {
   "cell_type": "code",
   "execution_count": null,
   "metadata": {},
   "outputs": [],
   "source": [
    "%matplotlib inline\n",
    "%config InlineBackend.print_figure_kwargs={'bbox_inches':None}\n",
    "%load_ext autoreload\n",
    "%autoreload 2\n",
    "%aimport - numpy - matplotlib.pyplot"
   ]
  },
  {
   "cell_type": "code",
   "execution_count": null,
   "metadata": {},
   "outputs": [],
   "source": [
    "from paths import path_results, path_samoc, file_ex_atm_rcp, file_ex_atm_lpd, file_ex_atm_lpi\n",
    "from constants import spy\n",
    "from timeseries import IterateOutputCESM\n",
    "from xr_DataArrays import xr_AREA"
   ]
  },
  {
   "cell_type": "code",
   "execution_count": null,
   "metadata": {},
   "outputs": [],
   "source": [
    "from paths import CESM_filename"
   ]
  },
  {
   "cell_type": "code",
   "execution_count": null,
   "metadata": {},
   "outputs": [],
   "source": [
    "from constants import A_earth\n",
    "from xr_regression import xr_quadtrend, xr_lintrend"
   ]
  },
  {
   "cell_type": "code",
   "execution_count": null,
   "metadata": {},
   "outputs": [],
   "source": [
    "ds_rcp = xr.open_dataset(file_ex_atm_rcp, decode_times=False)\n",
    "ds_lpd = xr.open_dataset(file_ex_atm_lpd, decode_times=False)\n",
    "ds_lpi = xr.open_dataset(file_ex_atm_lpi, decode_times=False)\n",
    "dss = [ds_rcp, ds_lpd, ds_lpi]"
   ]
  },
  {
   "cell_type": "code",
   "execution_count": null,
   "metadata": {},
   "outputs": [],
   "source": [
    "f, ax = plt.subplots(3, 3, figsize=(16,16), sharey=True)\n",
    "for i, ds in enumerate(dss):\n",
    "    ds.FSNT.plot(ax=ax[i,0])\n",
    "    ds.FLNT.plot(ax=ax[i,1])\n",
    "    (ds.FSNT-ds.FLNT).plot(ax=ax[i,2])\n",
    "plt.tight_layout()"
   ]
  },
  {
   "cell_type": "code",
   "execution_count": null,
   "metadata": {},
   "outputs": [],
   "source": [
    "%%time\n",
    "# Flux Total Net Top of the model\n",
    "# positive downward\n",
    "def TOM_integral(run):\n",
    "    \"\"\" top of the model annual global radiative imbalance \"\"\"\n",
    "    len_data = len(IterateOutputCESM(domain='atm', run=run, tavg='yrly', name='FSNT_FLNT'))\n",
    "    if run in ['ctrl', 'rcp']:  atm_domain = 'atm'\n",
    "    elif run=='lpd':            atm_domain = 'atm_f09'\n",
    "    elif run=='lpi':            atm_domain = 'atm_f19'\n",
    "    AREA = xr_AREA(atm_domain)\n",
    "    FTNT = np.zeros((len_data))\n",
    "    times = np.arange(len_data)\n",
    "    for i, (y,m,s) in enumerate(IterateOutputCESM(domain='atm', run=run, tavg='yrly', name='FSNT_FLNT')):\n",
    "        print(y)\n",
    "        ds = xr.open_dataset(s, decode_times=False)\n",
    "        FTNT[i] = ((ds.FSNT-ds.FLNT)*AREA).sum(dim=('lat', 'lon'))\n",
    "    da = xr.DataArray(data=FTNT, coords={'time': times}, dims=('time'))\n",
    "    da.to_netcdf(f'{path_samoc}/TOA/TOM_{run}.nc')\n",
    "    return da\n",
    "\n",
    "# FTNT_ctrl = TOM_integral('ctrl')\n",
    "# FTNT_rcp  = TOM_integral('rcp')\n",
    "# FTNT_lpd  = TOM_integral('lpd')\n",
    "# FTNT_lpi  = TOM_integral('lpi')"
   ]
  },
  {
   "cell_type": "code",
   "execution_count": null,
   "metadata": {},
   "outputs": [],
   "source": [
    "FTNT_ctrl = xr.open_dataarray(f'{path_samoc}/TOA/TOM_ctrl.nc', decode_times=False)\n",
    "FTNT_rcp  = xr.open_dataarray(f'{path_samoc}/TOA/TOM_rcp.nc' , decode_times=False)\n",
    "FTNT_lpd  = xr.open_dataarray(f'{path_samoc}/TOA/TOM_lpd.nc' , decode_times=False)\n",
    "FTNT_lpi  = xr.open_dataarray(f'{path_samoc}/TOA/TOM_lpi.nc' , decode_times=False)"
   ]
  },
  {
   "cell_type": "code",
   "execution_count": null,
   "metadata": {},
   "outputs": [],
   "source": [
    "FTNT_dt_ctrl = ((FTNT_ctrl-xr_lintrend(FTNT_ctrl))/A_earth)\n",
    "FTNT_dt_rcp  = ((FTNT_rcp -xr_quadtrend(FTNT_rcp))/A_earth)\n",
    "FTNT_dt_lpd  = ((FTNT_lpd -xr_lintrend( FTNT_lpd))/A_earth)\n",
    "FTNT_dt_lpi  = ((FTNT_lpi -xr_lintrend( FTNT_lpi))/A_earth)"
   ]
  },
  {
   "cell_type": "code",
   "execution_count": null,
   "metadata": {},
   "outputs": [],
   "source": [
    "f, ax = plt.subplots(1, 2, figsize=(12,5))\n",
    "for i in range(2):\n",
    "    ax[i].axhline(0, c='k', lw=.5)\n",
    "(FTNT_ctrl/A_earth).plot(ax=ax[0])\n",
    "(FTNT_rcp /A_earth).plot(ax=ax[0])\n",
    "(FTNT_lpd /A_earth).plot(ax=ax[0])\n",
    "(FTNT_lpi /A_earth).plot(ax=ax[0])\n",
    "\n",
    "(FTNT_dt_ctrl).plot(ax=ax[1])\n",
    "(FTNT_dt_rcp ).plot(ax=ax[1])\n",
    "(FTNT_dt_lpd ).plot(ax=ax[1])\n",
    "(FTNT_dt_lpi ).plot(ax=ax[1])\n",
    "\n"
   ]
  },
  {
   "cell_type": "code",
   "execution_count": null,
   "metadata": {},
   "outputs": [],
   "source": [
    "print(FTNT_dt_ctrl.std().values)\n",
    "print(FTNT_dt_rcp .std().values)\n",
    "print(FTNT_dt_lpd .std().values)\n",
    "print(FTNT_dt_lpi .std().values)"
   ]
  },
  {
   "cell_type": "code",
   "execution_count": null,
   "metadata": {},
   "outputs": [],
   "source": [
    "plt.hist(FTNT_dt_ctrl, alpha=.3, density=True)\n",
    "plt.hist(FTNT_dt_rcp , alpha=.3, density=True)\n",
    "plt.hist(FTNT_dt_lpd , alpha=.3, density=True)\n",
    "plt.hist(FTNT_dt_lpi , alpha=.3, density=True)"
   ]
  },
  {
   "cell_type": "code",
   "execution_count": null,
   "metadata": {},
   "outputs": [],
   "source": [
    "f = plt.figure(figsize=(8,5))\n",
    "plt.tick_params(labelsize=14)\n",
    "plt.axhline(0, c='k', lw=.5)\n",
    "plt.plot(FTNT_ctrl.time+100, FTNT_ctrl*spy/1e21, lw=2, label='CTRL')\n",
    "plt.plot(FTNT_rcp .time+200, FTNT_rcp *spy/1e21, lw=2, label='RCP')\n",
    "plt.xlabel('time [years]', fontsize=16)\n",
    "plt.ylabel('TOM radiative imbalance [ZJ yr$^{-1}$]', fontsize=16)\n",
    "plt.legend(loc=2, fontsize=16, frameon=False)\n",
    "plt.tight_layout()\n",
    "plt.savefig(f'{path_results}/TOA/TOA_global_timeseries')"
   ]
  },
  {
   "cell_type": "code",
   "execution_count": null,
   "metadata": {},
   "outputs": [],
   "source": [
    "# linear detrending\n",
    "ctrl_lf = np.polyfit(FTNT_ctrl.time, FTNT_ctrl, 1)\n",
    "rcp_lf  = np.polyfit(FTNT_rcp.time , FTNT_rcp , 1)\n",
    "ctrl_TOA_lin_detr = FTNT_ctrl-(ctrl_lf[1] + ctrl_lf[0]*FTNT_ctrl.time)\n",
    "rcp_TOA_lin_detr  = FTNT_rcp -(rcp_lf[1]  + rcp_lf[0] *FTNT_rcp.time )"
   ]
  },
  {
   "cell_type": "code",
   "execution_count": null,
   "metadata": {},
   "outputs": [],
   "source": [
    "f = plt.figure(figsize=(8,5))\n",
    "plt.tick_params(labelsize=14)\n",
    "plt.axhline(0, c='k', lw=.5)\n",
    "plt.plot(ctrl_TOA_lin_detr.time+100, (ctrl_TOA_lin_detr)*spy/1e21, lw=.5, c=f'C{0}')\n",
    "plt.plot(rcp_TOA_lin_detr .time+200, (rcp_TOA_lin_detr )*spy/1e21, lw=.5, c=f'C{1}')\n",
    "plt.plot(ctrl_TOA_lin_detr.time+100, (ctrl_TOA_lin_detr.rolling({'time': 5}, center=True).mean())*spy/1e21, lw=2.5, c=f'C{0}', label='CTRL')\n",
    "plt.plot(rcp_TOA_lin_detr .time+200, (rcp_TOA_lin_detr .rolling({'time': 5}, center=True).mean())*spy/1e21, lw=2.5, c=f'C{1}', label='RCP')\n",
    "plt.xlabel('time [years]', fontsize=16)\n",
    "plt.ylabel('detr. TOM rad. imbalance [ZJ yr$^{-1}$]', fontsize=16)\n",
    "plt.legend(loc=2, fontsize=16, frameon=False)\n",
    "plt.tight_layout()\n",
    "plt.savefig(f'{path_results}/TOA/TOA_global_timeseries_detr_smoothed')"
   ]
  },
  {
   "cell_type": "code",
   "execution_count": null,
   "metadata": {},
   "outputs": [],
   "source": []
  },
  {
   "cell_type": "code",
   "execution_count": null,
   "metadata": {},
   "outputs": [],
   "source": []
  }
 ],
 "metadata": {
  "kernelspec": {
   "display_name": "Python 3",
   "language": "python",
   "name": "python3"
  },
  "language_info": {
   "codemirror_mode": {
    "name": "ipython",
    "version": 3
   },
   "file_extension": ".py",
   "mimetype": "text/x-python",
   "name": "python",
   "nbconvert_exporter": "python",
   "pygments_lexer": "ipython3",
   "version": "3.6.6"
  }
 },
 "nbformat": 4,
 "nbformat_minor": 2
}
