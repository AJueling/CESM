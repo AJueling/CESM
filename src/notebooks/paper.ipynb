{
 "cells": [
  {
   "cell_type": "code",
   "execution_count": null,
   "metadata": {},
   "outputs": [],
   "source": [
    "import os\n",
    "import sys\n",
    "sys.path.append(\"..\")\n",
    "import numpy as np\n",
    "import xarray as xr\n",
    "import seaborn as sns\n",
    "import cartopy\n",
    "import cartopy.crs as ccrs\n",
    "import datetime\n",
    "import matplotlib as mpl\n",
    "import matplotlib.pyplot as plt"
   ]
  },
  {
   "cell_type": "code",
   "execution_count": null,
   "metadata": {},
   "outputs": [],
   "source": [
    "%matplotlib inline\n",
    "%config InlineBackend.print_figure_kwargs={'bbox_inches':None}\n",
    "%load_ext autoreload\n",
    "%autoreload 2"
   ]
  },
  {
   "cell_type": "code",
   "execution_count": null,
   "metadata": {},
   "outputs": [],
   "source": [
    "from maps import map_robinson, map_eq_earth\n",
    "from GMST import GMST_timeseries, GMST_regression, atm_heat_content, GMST_GISTEMP\n",
    "from paths import path_results, path_samoc, path_data\n",
    "from plotting import shifted_color_map, discrete_cmap\n",
    "from constants import abs_zero, cp_air\n",
    "from timeseries import IterateOutputCESM\n",
    "from xr_integrate import xr_surf_mean, xr_zonal_mean\n",
    "from xr_DataArrays import xr_AREA"
   ]
  },
  {
   "cell_type": "code",
   "execution_count": null,
   "metadata": {},
   "outputs": [],
   "source": [
    "from OHC import replace_OHC_year\n",
    "from filters import bandpass\n",
    "from xr_regression import xr_lintrend, xr_quadtrend"
   ]
  },
  {
   "cell_type": "code",
   "execution_count": null,
   "metadata": {},
   "outputs": [],
   "source": [
    "gmst_ctrl = xr.open_dataarray(f'{path_samoc}/GMST/GMST_yrly_ctrl.nc')\n",
    "gmst_lpd  = xr.open_dataarray(f'{path_samoc}/GMST/GMST_yrly_lpd.nc' )"
   ]
  },
  {
   "cell_type": "code",
   "execution_count": null,
   "metadata": {},
   "outputs": [],
   "source": [
    "ctrl   = xr.open_dataset(f'{path_samoc}/OHC/OHC_integrals_Global_Ocean_ctrl.nc',\n",
    "                         decode_times=False)\n",
    "ctrl   = replace_OHC_year(ctrl  , 205)\n",
    "lpd    = xr.open_dataset(f'{path_samoc}/OHC/OHC_integrals_Global_Ocean_lpd.nc',\n",
    "                         decode_times=False)"
   ]
  },
  {
   "cell_type": "code",
   "execution_count": null,
   "metadata": {},
   "outputs": [],
   "source": [
    "ctrl.OHC_global.plot()"
   ]
  },
  {
   "cell_type": "code",
   "execution_count": null,
   "metadata": {},
   "outputs": [],
   "source": [
    "def variances(ts):\n",
    "    for i, band in enumerate([(20,5), (40,10), (80,20)]):\n",
    "        print(band, bandpass(ts-xr_quadtrend(ts), np.array(band)).std().values)\n",
    "    print('')\n",
    "    return\n",
    "variances(ctrl.OHC_global)\n",
    "variances(lpd .OHC_global)\n",
    "\n",
    "variances(gmst_ctrl)\n",
    "variances(gmst_lpd)\n"
   ]
  },
  {
   "cell_type": "code",
   "execution_count": null,
   "metadata": {},
   "outputs": [],
   "source": []
  },
  {
   "cell_type": "code",
   "execution_count": null,
   "metadata": {},
   "outputs": [],
   "source": [
    "def std_bandpass(tseries):\n",
    "    if type(tseries)==xr.core.dataarray.DataArray:\n",
    "        tseries = tseries-xr_quadtrend(tseries)\n",
    "        tseries = tseries.values\n",
    "    a = np.std(bandpass(tseries, np.array([20,5])))\n",
    "    b = np.std(bandpass(tseries, np.array([100,20])))\n",
    "    return a, b\n",
    "\n",
    "\n",
    "\n",
    "f, ax = plt.subplots(2,2,figsize=(14,7),sharex='col', sharey=True)\n",
    "for i in range(2):\n",
    "    for j in range(2):\n",
    "        ax[i,j].tick_params(labelsize=20)\n",
    "\n",
    "        ax[i,j].spines['right'].set_visible(False)\n",
    "        ax[i,j].spines['top'].set_visible(False)\n",
    "    \n",
    "    ax[i,0].set_yticks([2.75, 2, 1])\n",
    "    ax[i,0].set_yticklabels(['obs', 'high\\nres.', 'low\\nres.'], fontsize=20)\n",
    "\n",
    "ax[1,0].set_xlabel('GMST variance [K]', fontsize=30)\n",
    "\n",
    "had1, had2 = std_bandpass(had_cmip5)\n",
    "ctrl1, ctrl2 = std_bandpass(gmst_ctrl[-149:])\n",
    "ctrl3, ctrl4 = std_bandpass(gmst_ctrl[:149])\n",
    "lpd1, lpd2 = std_bandpass(gmst_lpd[-149:])\n",
    "lpd3, lpd4 = std_bandpass(gmst_lpd[-2*149:-149])\n",
    "\n",
    "ax[0,0].set_ylabel('decadal', fontsize=30)\n",
    "ax[0,0].barh(2.75, had1 , 0.42, color='C1')\n",
    "ax[0,0].barh(2.25, ctrl1, 0.42, color='C0')\n",
    "ax[0,0].barh(1.75, ctrl3, 0.42, color='C0')\n",
    "ax[0,0].barh(1.25, lpd1 , 0.42, color='C2')\n",
    "ax[0,0].barh(0.75, lpd3 , 0.42, color='C2')\n",
    "\n",
    "\n",
    "ax[1,0].barh(2.75, had2 , 0.42, color='C1')\n",
    "ax[1,0].barh(2.25, ctrl2, 0.42, color='C0')\n",
    "ax[1,0].barh(1.75, ctrl4, 0.42, color='C0')\n",
    "ax[1,0].barh(1.25, lpd2,  0.42, color='C2')\n",
    "ax[1,0].barh(0.75, lpd4,  0.42, color='C2')\n",
    "ax[1,0].set_ylabel('multidecadal', fontsize=30)\n",
    "\n",
    "ax[1,1].set_xlabel('global OHC variance [ZJ]', fontsize=30)\n",
    "\n",
    "ctrl1, ctrl2 = std_bandpass(ctrl.OHC_global[-149:])\n",
    "ctrl3, ctrl4 = std_bandpass(ctrl.OHC_global[:149])\n",
    "lpd1, lpd2 = std_bandpass(lpd.OHC_global[-149:])\n",
    "lpd3, lpd4 = std_bandpass(lpd.OHC_global[-2*149:-149])\n",
    "\n",
    "ax[0,1].barh(2.25, ctrl1/1e21, 0.42, color='C0')\n",
    "ax[0,1].barh(1.75, ctrl3/1e21, 0.42, color='C0')\n",
    "ax[0,1].barh(1.25, lpd1 /1e21, 0.42, color='C2')\n",
    "ax[0,1].barh(0.75, lpd3 /1e21, 0.42, color='C2')\n",
    "\n",
    "ax[1,1].barh(2.25, ctrl2/1e21, 0.42, color='C0')\n",
    "ax[1,1].barh(1.75, ctrl4/1e21, 0.42, color='C0')\n",
    "ax[1,1].barh(1.25, lpd2 /1e21, 0.42, color='C2')\n",
    "ax[1,1].barh(0.75, lpd4 /1e21, 0.42, color='C2')\n",
    "\n",
    "print('test')\n",
    "plt.tight_layout()\n",
    "plt.savefig(f'{path_results}/poster/std_GMST_OHC', dpi=600)"
   ]
  }
 ],
 "metadata": {
  "kernelspec": {
   "display_name": "Python 3",
   "language": "python",
   "name": "python3"
  },
  "language_info": {
   "codemirror_mode": {
    "name": "ipython",
    "version": 3
   },
   "file_extension": ".py",
   "mimetype": "text/x-python",
   "name": "python",
   "nbconvert_exporter": "python",
   "pygments_lexer": "ipython3",
   "version": "3.6.6"
  }
 },
 "nbformat": 4,
 "nbformat_minor": 2
}
