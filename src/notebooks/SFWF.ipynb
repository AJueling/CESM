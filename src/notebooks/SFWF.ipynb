{
 "cells": [
  {
   "cell_type": "markdown",
   "metadata": {},
   "source": [
    "# Surface Freshwater Flux / Virtual Salt Flux: E - P - R\n",
    "\n",
    "## observational datasets\n",
    "- precip: Legates, ERAI\n",
    "- total water flux: Large-Yeager, WHOI"
   ]
  },
  {
   "cell_type": "code",
   "execution_count": null,
   "metadata": {},
   "outputs": [],
   "source": [
    "import os\n",
    "import sys\n",
    "import time\n",
    "sys.path.append(\"..\")\n",
    "import numpy as np\n",
    "import xarray as xr\n",
    "import cmocean\n",
    "import cartopy\n",
    "import cartopy.crs as ccrs\n",
    "import matplotlib\n",
    "import matplotlib.pyplot as plt"
   ]
  },
  {
   "cell_type": "code",
   "execution_count": null,
   "metadata": {},
   "outputs": [],
   "source": [
    "%matplotlib inline\n",
    "matplotlib.rc_file('../rc_file')\n",
    "%config InlineBackend.print_figure_kwargs={'bbox_inches':None}\n",
    "%load_ext autoreload\n",
    "%autoreload 2"
   ]
  },
  {
   "cell_type": "code",
   "execution_count": null,
   "metadata": {},
   "outputs": [],
   "source": [
    "from tqdm import notebook\n",
    "from paths import path_results, path_prace, file_RMASK_ocn, file_RMASK_ocn_low, file_ex_ocn_ctrl, file_ex_ocn_lpd\n",
    "from timeseries import IterateOutputCESM\n",
    "from xr_DataArrays import xr_AREA\n",
    "from xr_regression import ocn_field_regression"
   ]
  },
  {
   "cell_type": "code",
   "execution_count": null,
   "metadata": {},
   "outputs": [],
   "source": [
    "dh = xr.open_dataset(file_ex_ocn_ctrl, decode_times=False)\n",
    "dl = xr.open_dataset(file_ex_ocn_lpd , decode_times=False)\n",
    "RMASK_ocn = dh.REGION_MASK\n",
    "RMASK_ocn_low = dl.REGION_MASK"
   ]
  },
  {
   "cell_type": "code",
   "execution_count": null,
   "metadata": {},
   "outputs": [],
   "source": [
    "dh = xr.open_dataset(file_ex_ocn_ctrl, decode_times=False)\n",
    "RMASK_ocn = xr.open_dataset(file_ex_ocn_ctrl, decode_times=False).REGION_MASK\n",
    "RMASK_low = xr.open_dataset(file_RMASK_ocn_low, decode_times=False).REGION_MASK\n",
    "Atl_MASK_ocn = xr.DataArray(np.in1d(RMASK_ocn, [6,7,8,9,12]).reshape(RMASK_ocn.shape),\n",
    "                            dims=RMASK_ocn.dims, coords=RMASK_ocn.coords)\n",
    "Atl_MASK_low = xr.DataArray(np.in1d(RMASK_low, [6,7,8,9,12]).reshape(RMASK_low.shape),\n",
    "                            dims=RMASK_low.dims, coords=RMASK_low.coords)\n",
    "AREA_ocn = xr_AREA(dhmain='ocn')\n",
    "AREA_low = xr_AREA(dhmain='ocn_low')"
   ]
  },
  {
   "cell_type": "code",
   "execution_count": null,
   "metadata": {},
   "outputs": [],
   "source": [
    "f, ax = plt.subplots(4,2, figsize=(12,15))\n",
    "for i, d in enumerate([dh, dl]):\n",
    "    maxv = 5e-4\n",
    "    kw = dict(add_colorbar=False, vmax=maxv)\n",
    "    d.SFWF.plot(ax=ax[0,i], **kw)\n",
    "    if i ==0:  Sum = d.PREC_F + d.EVAP_F + d.MELT_F + d.ROFF_F\n",
    "    if i ==1:  Sum = d.PREC_F + d.EVAP_F + d.MELT_F + d.ROFF_F + d.IOFF_F\n",
    "    Sum.plot(ax=ax[1,i], **kw)\n",
    "    d.SALT_F.plot(ax=ax[2,i], **kw)\n",
    "    \n",
    "    kw = dict(add_colorbar=False, vmax=1e-5)\n",
    "    (d.SFWF-Sum-d.SALT_F*d.sflux_factor/d.salinity_factor).plot(ax=ax[3,i], **kw)\n",
    "    \n"
   ]
  },
  {
   "cell_type": "markdown",
   "metadata": {},
   "source": [
    "the difference visible in the HIGH on the left is the IOFF_F ice runoff which is not included in the model output, while on the right it is the restoring FW flux, mainly to move freshwater between closed off Baltic/Black/Red Seas and the ocean. Not sure what happens in the Caspian Sea and the Kara(?) Sea"
   ]
  },
  {
   "cell_type": "code",
   "execution_count": null,
   "metadata": {},
   "outputs": [],
   "source": [
    "dh.ROFF_F.where(dh.REGION_MASK>0).plot(vmin=0, vmax=1e-4)\n",
    "plt.xlim((300,1000))\n",
    "plt.ylim((1700,2400))"
   ]
  },
  {
   "cell_type": "code",
   "execution_count": null,
   "metadata": {},
   "outputs": [],
   "source": [
    "1/35"
   ]
  },
  {
   "cell_type": "code",
   "execution_count": null,
   "metadata": {},
   "outputs": [],
   "source": [
    "from FW_budget import make_SFWF_surface_int_dict"
   ]
  },
  {
   "cell_type": "code",
   "execution_count": null,
   "metadata": {},
   "outputs": [],
   "source": [
    "make_SFWF_surface_int_dict()"
   ]
  },
  {
   "cell_type": "code",
   "execution_count": null,
   "metadata": {},
   "outputs": [],
   "source": [
    "make_SFWF_trends('lr1')"
   ]
  },
  {
   "cell_type": "code",
   "execution_count": null,
   "metadata": {},
   "outputs": [],
   "source": [
    "make_SFWF_trends('rcp')"
   ]
  },
  {
   "cell_type": "code",
   "execution_count": null,
   "metadata": {},
   "outputs": [],
   "source": [
    "for q in IterateOutputCESM(domain='ocn', run='rcp', tavg='yrly', name='SFWF'):\n",
    "    print(q)"
   ]
  },
  {
   "cell_type": "code",
   "execution_count": null,
   "metadata": {},
   "outputs": [],
   "source": [
    "xr.open_dataarray(f'{path_prace}/lpd/SFWF_lpd_mean_500-529.nc').plot()\n"
   ]
  },
  {
   "cell_type": "code",
   "execution_count": null,
   "metadata": {},
   "outputs": [],
   "source": [
    "Et_rcp = xr.open_dataarray(f'{path_prace}/rcp/EVAP_F_yrly_trend_rcp.nc')"
   ]
  },
  {
   "cell_type": "code",
   "execution_count": null,
   "metadata": {},
   "outputs": [],
   "source": [
    "Et_rcp"
   ]
  },
  {
   "cell_type": "code",
   "execution_count": null,
   "metadata": {},
   "outputs": [],
   "source": [
    "(d.SFWF-Sum-d.SALT_F*d.sflux_factor/d.salinity_factor).plot()\n",
    "plt.xlim((30,120))\n",
    "plt.ylim((200,384))\n"
   ]
  },
  {
   "cell_type": "code",
   "execution_count": null,
   "metadata": {},
   "outputs": [],
   "source": [
    "dh.salinity_factor"
   ]
  },
  {
   "cell_type": "code",
   "execution_count": null,
   "metadata": {},
   "outputs": [],
   "source": [
    "dh.SFWF"
   ]
  },
  {
   "cell_type": "code",
   "execution_count": null,
   "metadata": {},
   "outputs": [],
   "source": [
    "ds_ctrl = xr.open_dataset(f'{path_prace}/ctrl/EVAP_F_PREC_F_ROFF_F_ctrl_mean_200-230.nc')\n",
    "EVAP_mean_ctrl = ds_ctrl.EVAP_F\n",
    "PREC_mean_ctrl = ds_ctrl.PREC_F\n",
    "ROFF_mean_ctrl = ds_ctrl.ROFF_F\n",
    "\n",
    "ds_lpd = xr.open_dataset(f'{path_prace}/lpd/EVAP_F_PREC_F_ROFF_F_lpd_mean_500-530.nc')\n",
    "EVAP_mean_lpd  = ds_lpd.EVAP_F\n",
    "PREC_mean_lpd  = ds_lpd.PREC_F\n",
    "ROFF_mean_lpd  = ds_lpd.ROFF_F"
   ]
  },
  {
   "cell_type": "code",
   "execution_count": null,
   "metadata": {},
   "outputs": [],
   "source": [
    "# total freshwater flux 34S-60N\n",
    "for i, run in enumerate(['ctrl', 'lpd']):\n",
    "    (Em, Pm, Rm) = [(EVAP_mean_ctrl, PREC_mean_ctrl, ROFF_mean_ctrl),\n",
    "                    (EVAP_mean_lpd , PREC_mean_lpd , ROFF_mean_lpd)][i]\n",
    "    AREA = [AREA_ocn, AREA_low][i]\n",
    "    MASK = [Atl_MASK_ocn, Atl_MASK_low][i].where(Em.TLAT>-35).where(Em.TLAT<60)\n",
    "    plt.figure()\n",
    "    MASK.plot()\n",
    "    print((AREA*(Em+Pm+Rm)).where(MASK).sum()/1e6/1e3)"
   ]
  },
  {
   "cell_type": "code",
   "execution_count": null,
   "metadata": {},
   "outputs": [],
   "source": [
    "EVAP_trend_rcp = xr.open_dataarray(f'{path_prace}/rcp/EVAP_yrly_trend.nc')\n",
    "PREC_trend_rcp = xr.open_dataarray(f'{path_prace}/rcp/PREC_yrly_trend.nc')\n",
    "ROFF_trend_rcp = xr.open_dataarray(f'{path_prace}/rcp/ROFF_yrly_trend.nc')\n",
    "\n",
    "EVAP_trend_lr1 = xr.open_dataarray(f'{path_prace}/lr1/EVAP_yrly_trend.nc')\n",
    "PREC_trend_lr1 = xr.open_dataarray(f'{path_prace}/lr1/PREC_yrly_trend.nc')\n",
    "ROFF_trend_lr1 = xr.open_dataarray(f'{path_prace}/lr1/ROFF_yrly_trend.nc')"
   ]
  },
  {
   "cell_type": "code",
   "execution_count": null,
   "metadata": {},
   "outputs": [],
   "source": [
    "for k, run in enumerate(['rcp','lr1']):\n",
    "    (PREC_mean, EVAP_mean, ROFF_mean) = [(PREC_mean_ctrl, EVAP_mean_ctrl, ROFF_mean_ctrl),\\\n",
    "                                         (PREC_mean_lpd , EVAP_mean_lpd , ROFF_mean_lpd )][k]\n",
    "    (PREC_trend, EVAP_trend, ROFF_trend) = [(PREC_trend_rcp, EVAP_trend_rcp, ROFF_trend_rcp),\\\n",
    "                                            (PREC_trend_lr1, EVAP_trend_lr1, ROFF_trend_lr1)][k]\n",
    "    RMASK = [RMASK_ocn, RMASK_ocn_low][k]\n",
    "    f = plt.figure(figsize=(6.4,12), constrained_layout=False)\n",
    "    for i, q1 in enumerate(['Precipitation', 'Evaporation', 'P+R+E']):\n",
    "        mean = [PREC_mean, EVAP_mean, PREC_mean+EVAP_mean+ROFF_mean][i]\n",
    "        trend = [PREC_trend, EVAP_trend, PREC_trend+EVAP_trend+ROFF_trend][i]\n",
    "        mean_min, mean_max = [0,-7.5,-7.5][i], [7.5,0,7.5][i]\n",
    "        trend_min, trend_max = -2.5, 2.5\n",
    "        mean_cmap, trend_cmap = ['viridis', 'viridis_r', 'cmo.tarn'][i], ['cmo.balance', 'cmo.balance_r', 'cmo.balance'][i]\n",
    "        ax = f.add_subplot(3, 5, 1+i*5)\n",
    "        ax.axis('off')\n",
    "        ax.set_position([.04,.01+(2-i)*.32,.02,.3])\n",
    "        ax.text(.5, .5, q1, transform=ax.transAxes, rotation='vertical', va='center', ha='right', fontsize=20)\n",
    "        for j, q2 in tqdm_notebook(enumerate(['mean', 'trend'])):\n",
    "            xa = [mean.where(RMASK>0)*24*3600, trend.where(RMASK>0)*24*3600*365*100][j]\n",
    "            ax = f.add_subplot(3, 3, 3*i+2+j, projection=ccrs.LambertAzimuthalEqualArea(central_longitude=-30, central_latitude=20))\n",
    "            minv, maxv, cmap = [mean_min, trend_min][j], [mean_max, trend_max][j], [mean_cmap, trend_cmap][j]\n",
    "            if i==0:  ax.text(.5, 1.05, ['mean [mm/day]', 'trend [mm/day/100y]'][j], transform=ax.transAxes, fontsize=16, ha='center')\n",
    "            ax.set_position([.05+j*.46,.01+(2-i)*.32,.45,.3])\n",
    "            ax.set_extent((-6e6, 3.5e6, -8.5e6, 1e7), crs=ccrs.LambertAzimuthalEqualArea())\n",
    "            cax, kw = matplotlib.colorbar.make_axes(ax,location='right',pad=0.01,shrink=0.9)\n",
    "            im = ax.pcolormesh(xa.ULONG, xa.ULAT, xa, cmap=cmap,  # kg/m2/s to mm/d\n",
    "    #         im = ax.contourf(xa.ULONG, xa.ULAT, xa, cmap=cmap, levels=14,  # kg/m2/s to mm/d\n",
    "                               vmin=minv, vmax=maxv, transform=ccrs.PlateCarree())\n",
    "            cbar = f.colorbar(im, cax=cax, extend='both', **kw)\n",
    "            cbar.ax.tick_params(labelsize=10)\n",
    "\n",
    "            ax.add_feature(cartopy.feature.LAND, zorder=2, edgecolor='black', facecolor='grey')\n",
    "            if i==2:\n",
    "                rivers = cartopy.feature.NaturalEarthFeature(\n",
    "                            category='physical', name='rivers_lake_centerlines',\n",
    "                            scale='50m', facecolor='none', edgecolor='lightgrey')\n",
    "                ax.add_feature(rivers, linewidth=.3, zorder=3)\n",
    "                ax.add_feature(cartopy.feature.RIVERS, zorder=4)\n",
    "            gl = ax.gridlines(crs=ccrs.PlateCarree(), draw_labels=False)\n",
    "            gl.ylocator = matplotlib.ticker.FixedLocator([-90, -60, -30, 0, 30, 60, 90])\n",
    "    plt.savefig(f'{path_results}/SFWF/SFWF_map_{run}')"
   ]
  },
  {
   "cell_type": "code",
   "execution_count": null,
   "metadata": {},
   "outputs": [],
   "source": []
  }
 ],
 "metadata": {
  "kernelspec": {
   "display_name": "Python 3",
   "language": "python",
   "name": "python3"
  },
  "language_info": {
   "codemirror_mode": {
    "name": "ipython",
    "version": 3
   },
   "file_extension": ".py",
   "mimetype": "text/x-python",
   "name": "python",
   "nbconvert_exporter": "python",
   "pygments_lexer": "ipython3",
   "version": "3.7.6"
  }
 },
 "nbformat": 4,
 "nbformat_minor": 4
}
