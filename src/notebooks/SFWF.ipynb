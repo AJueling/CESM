{
 "cells": [
  {
   "cell_type": "markdown",
   "metadata": {},
   "source": [
    "# Surface Freshwater Flux / Virtual Salt Flux: E - P - R"
   ]
  },
  {
   "cell_type": "code",
   "execution_count": null,
   "metadata": {},
   "outputs": [],
   "source": [
    "import os\n",
    "import sys\n",
    "sys.path.append(\"..\")\n",
    "import xarray as xr\n",
    "import cmocean\n",
    "import cartopy\n",
    "import cartopy.crs as ccrs\n",
    "import matplotlib\n",
    "import matplotlib.pyplot as plt"
   ]
  },
  {
   "cell_type": "code",
   "execution_count": null,
   "metadata": {},
   "outputs": [],
   "source": [
    "%matplotlib inline\n",
    "matplotlib.rc_file('../rc_file')\n",
    "%config InlineBackend.print_figure_kwargs={'bbox_inches':None}\n",
    "%load_ext autoreload\n",
    "%autoreload 2"
   ]
  },
  {
   "cell_type": "code",
   "execution_count": null,
   "metadata": {},
   "outputs": [],
   "source": [
    "from tqdm import tqdm_notebook\n",
    "from paths import path_results, path_prace, file_RMASK_ocn, file_RMASK_ocn_low, file_ex_ocn_ctrl\n",
    "from timeseries import IterateOutputCESM\n",
    "from xr_regression import ocn_field_regression"
   ]
  },
  {
   "cell_type": "code",
   "execution_count": null,
   "metadata": {},
   "outputs": [],
   "source": [
    "do = xr.open_dataset(file_ex_ocn_ctrl, decode_times=False)\n",
    "RMASK_ocn = do.REGION_MASK\n",
    "# RMASK_ocn_low = xr.open_dataset(file_RMASK_ocn_low)"
   ]
  },
  {
   "cell_type": "code",
   "execution_count": null,
   "metadata": {},
   "outputs": [],
   "source": [
    "# for i, (y,m,f) in tqdm_notebook(enumerate(IterateOutputCESM(domain='ocn', run='rcp', tavg='yrly', name='EVAP_F_PREC_F_ROFF_F'))):\n",
    "#     ds = xr.open_dataset(f, decode_times=False)\n",
    "#     if i==0:  EVAP, PREC, ROFF = [], [], []\n",
    "#     EVAP.append(ds.EVAP_F)\n",
    "#     PREC.append(ds.PREC_F)\n",
    "#     ROFF.append(ds.ROFF_F)\n",
    "# xr.concat(EVAP, dim='time').to_netcdf(f'{path_prace}/rcp/EVAP_yrly.nc')\n",
    "# xr.concat(PREC, dim='time').to_netcdf(f'{path_prace}/rcp/PREC_yrly.nc')\n",
    "# xr.concat(ROFF, dim='time').to_netcdf(f'{path_prace}/rcp/ROFF_yrly.nc')\n",
    "EVAP = xr.open_dataarray(f'{path_prace}/rcp/EVAP_yrly.nc', decode_times=False)\n",
    "PREC = xr.open_dataarray(f'{path_prace}/rcp/PREC_yrly.nc', decode_times=False)\n",
    "ROFF = xr.open_dataarray(f'{path_prace}/rcp/ROFF_yrly.nc', decode_times=False)"
   ]
  },
  {
   "cell_type": "code",
   "execution_count": null,
   "metadata": {},
   "outputs": [],
   "source": [
    "%%time\n",
    "EVAP_mean = EVAP.isel(time=slice(0,30)).mean(dim='time')\n",
    "PREC_mean = PREC.isel(time=slice(0,30)).mean(dim='time')\n",
    "ROFF_mean = ROFF.isel(time=slice(0,30)).mean(dim='time')"
   ]
  },
  {
   "cell_type": "code",
   "execution_count": null,
   "metadata": {},
   "outputs": [],
   "source": [
    "%%time\n",
    "EVAP_trend = ocn_field_regression(xa=EVAP, run='rcp')\n",
    "PREC_trend = ocn_field_regression(xa=PREC, run='rcp')\n",
    "ROFF_trend = ocn_field_regression(xa=ROFF, run='rcp')\n",
    "EVAP_trend[0].to_netcdf(f'{path_prace}/rcp/EVAP_yrly_trend.nc')\n",
    "PREC_trend[0].to_netcdf(f'{path_prace}/rcp/PREC_yrly_trend.nc')\n",
    "ROFF_trend[0].to_netcdf(f'{path_prace}/rcp/ROFF_yrly_trend.nc')"
   ]
  },
  {
   "cell_type": "code",
   "execution_count": null,
   "metadata": {},
   "outputs": [],
   "source": []
  },
  {
   "cell_type": "code",
   "execution_count": null,
   "metadata": {},
   "outputs": [],
   "source": [
    "lats, lons = PREC.t_lat, PREC.t_lon\n",
    "lons, lats = np.meshgrid(lons, lats)"
   ]
  },
  {
   "cell_type": "code",
   "execution_count": null,
   "metadata": {},
   "outputs": [],
   "source": [
    "f = plt.figure(figsize=(6.4,12), constrained_layout=False)\n",
    "for i, q1 in enumerate(['Precipitation', 'Evaporation', 'P+R+E']):\n",
    "    mean = [PREC_mean, EVAP_mean, PREC_mean+EVAP_mean+ROFF_mean][i]\n",
    "    trend = [PREC_trend[0], EVAP_trend[0], PREC_trend[0]+EVAP_trend[0]+ROFF_trend[0]][i]\n",
    "    mean_min, mean_max = [0,-7.5,-7.5][i], [7.5,0,7.5][i]\n",
    "    trend_min, trend_max = -2.5, 2.5\n",
    "    mean_cmap, trend_cmap = ['viridis', 'viridis_r', 'RdBu_r'][i], ['cmo.balance', 'cmo.balance_r', 'cmo.balance'][i]\n",
    "    ax = f.add_subplot(3, 5, 1+i*5)\n",
    "    ax.axis('off')\n",
    "    ax.set_position([.04,.01+(2-i)*.32,.02,.3])\n",
    "    ax.text(.5, .5, q1, transform=ax.transAxes, rotation='vertical', va='center', ha='right', fontsize=20)\n",
    "    for j, q2 in tqdm_notebook(enumerate(['mean', 'trend'])):\n",
    "        xa = [mean.where(RMASK_ocn>0)*24*3600, trend.where(RMASK_ocn>0)*24*3600*365*100][j]\n",
    "        ax = f.add_subplot(3, 3, 3*i+2+j, projection=ccrs.LambertAzimuthalEqualArea(central_longitude=-30, central_latitude=20))\n",
    "        minv, maxv, cmap = [mean_min, trend_min][j], [mean_max, trend_max][j], [mean_cmap, trend_cmap][j]\n",
    "        if i==0:  ax.text(.5, 1.05, ['mean [mm/day]', 'trend [mm/day/100y]'][j], transform=ax.transAxes, fontsize=16, ha='center')\n",
    "        ax.set_position([.05+j*.46,.01+(2-i)*.32,.45,.3])\n",
    "        ax.set_extent((-6e6, 3.5e6, -8.5e6, 1e7), crs=ccrs.LambertAzimuthalEqualArea())\n",
    "        cax, kw = matplotlib.colorbar.make_axes(ax,location='right',pad=0.01,shrink=0.9)\n",
    "        im = ax.pcolormesh(PREC.ULONG, PREC.ULAT, xa, cmap=cmap,  # kg/m2/s to mm/d\n",
    "                           vmin=minv, vmax=maxv, transform=ccrs.PlateCarree())\n",
    "        cbar = f.colorbar(im, cax=cax, extend='both', **kw)\n",
    "        cbar.ax.tick_params(labelsize=10)\n",
    "\n",
    "        ax.add_feature(cartopy.feature.LAND, zorder=2, edgecolor='black', facecolor='grey')\n",
    "        gl = ax.gridlines(crs=ccrs.PlateCarree(), draw_labels=False)\n",
    "        gl.ylocator = matplotlib.ticker.FixedLocator([-90, -60, -30, 0, 30, 60, 90])\n",
    "plt.savefig(f'{path_results}/SFWF/SFWF_map_rcp')"
   ]
  },
  {
   "cell_type": "markdown",
   "metadata": {},
   "source": [
    "### time series: Arctic runoff"
   ]
  },
  {
   "cell_type": "code",
   "execution_count": null,
   "metadata": {},
   "outputs": [],
   "source": []
  }
 ],
 "metadata": {
  "kernelspec": {
   "display_name": "Python 3",
   "language": "python",
   "name": "python3"
  },
  "language_info": {
   "codemirror_mode": {
    "name": "ipython",
    "version": 3
   },
   "file_extension": ".py",
   "mimetype": "text/x-python",
   "name": "python",
   "nbconvert_exporter": "python",
   "pygments_lexer": "ipython3",
   "version": "3.6.7"
  }
 },
 "nbformat": 4,
 "nbformat_minor": 4
}
