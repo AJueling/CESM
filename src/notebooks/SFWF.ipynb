{
 "cells": [
  {
   "cell_type": "markdown",
   "metadata": {},
   "source": [
    "# Surface Freshwater Flux / Virtual Salt Flux: E - P - R\n",
    "\n",
    "## observational datasets\n",
    "- precip: Legates, ERAI\n",
    "- total water flux: Large-Yeager, WHOI"
   ]
  },
  {
   "cell_type": "code",
   "execution_count": null,
   "metadata": {},
   "outputs": [],
   "source": [
    "import os\n",
    "import sys\n",
    "sys.path.append(\"..\")\n",
    "import numpy as np\n",
    "import xarray as xr\n",
    "import cmocean\n",
    "import cartopy\n",
    "import cartopy.crs as ccrs\n",
    "import matplotlib\n",
    "import matplotlib.pyplot as plt"
   ]
  },
  {
   "cell_type": "code",
   "execution_count": null,
   "metadata": {},
   "outputs": [],
   "source": [
    "%matplotlib inline\n",
    "matplotlib.rc_file('../rc_file')\n",
    "%config InlineBackend.print_figure_kwargs={'bbox_inches':None}\n",
    "%load_ext autoreload\n",
    "%autoreload 2"
   ]
  },
  {
   "cell_type": "code",
   "execution_count": null,
   "metadata": {},
   "outputs": [],
   "source": [
    "from tqdm import tqdm_notebook\n",
    "from paths import path_results, path_prace, file_RMASK_ocn, file_RMASK_ocn_low, file_ex_ocn_ctrl\n",
    "from timeseries import IterateOutputCESM\n",
    "from xr_regression import ocn_field_regression"
   ]
  },
  {
   "cell_type": "code",
   "execution_count": null,
   "metadata": {},
   "outputs": [],
   "source": [
    "do = xr.open_dataset(file_ex_ocn_ctrl, decode_times=False)\n",
    "RMASK_ocn = do.REGION_MASK\n",
    "RMASK_ocn_low = xr.open_dataset(file_RMASK_ocn_low).REGION_MASK"
   ]
  },
  {
   "cell_type": "code",
   "execution_count": null,
   "metadata": {},
   "outputs": [],
   "source": [
    "%%time\n",
    "# # ctrl: 2min 14s, lpd: 3 sec\n",
    "# run='lpd'\n",
    "# if run=='ctrl':  yy = 200\n",
    "# elif run=='lpd':  yy = 500\n",
    "# xr.concat([xr.open_dataset(f'{path_prace}/{run}/ocn_yrly_EVAP_F_PREC_F_ROFF_F_0{y}.nc') for y in np.arange(yy,yy+30)],\n",
    "#           dim='time').mean(dim='time').to_netcdf(f'{path_prace}/{run}/EVAP_PREC_ROFF_{run}_mean_{yy}-{yy+30}.nc')\n",
    "EVAP_mean_ctrl = xr.open_dataset(f'{path_prace}/ctrl/EVAP_PREC_ROFF_ctrl_mean_200-230.nc').EVAP_F\n",
    "PREC_mean_ctrl = xr.open_dataset(f'{path_prace}/ctrl/EVAP_PREC_ROFF_ctrl_mean_200-230.nc').PREC_F\n",
    "ROFF_mean_ctrl = xr.open_dataset(f'{path_prace}/ctrl/EVAP_PREC_ROFF_ctrl_mean_200-230.nc').ROFF_F\n",
    "\n",
    "EVAP_mean_lpd  = xr.open_dataset(f'{path_prace}/lpd/EVAP_PREC_ROFF_lpd_mean_500-530.nc').EVAP_F\n",
    "PREC_mean_lpd  = xr.open_dataset(f'{path_prace}/lpd/EVAP_PREC_ROFF_lpd_mean_500-530.nc').PREC_F\n",
    "ROFF_mean_lpd  = xr.open_dataset(f'{path_prace}/lpd/EVAP_PREC_ROFF_lpd_mean_500-530.nc').ROFF_F"
   ]
  },
  {
   "cell_type": "code",
   "execution_count": null,
   "metadata": {},
   "outputs": [],
   "source": [
    "%%time\n",
    "# concat: lr1: 11 sec\n",
    "# trend: lr1: 3 sec\n",
    "# run = 'lr1'\n",
    "# for i, (y,m,f) in tqdm_notebook(enumerate(IterateOutputCESM(domain='ocn', run=run, tavg='yrly', name='EVAP_F_PREC_F_ROFF_F'))):\n",
    "#     ds = xr.open_dataset(f, decode_times=False)\n",
    "#     if i==0:  EVAP, PREC, ROFF = [], [], []\n",
    "#     EVAP.append(ds.EVAP_F)\n",
    "#     PREC.append(ds.PREC_F)\n",
    "#     ROFF.append(ds.ROFF_F)\n",
    "# xr.concat(EVAP, dim='time').to_netcdf(f'{path_prace}/{run}/EVAP_yrly.nc')\n",
    "# xr.concat(PREC, dim='time').to_netcdf(f'{path_prace}/{run}/PREC_yrly.nc')\n",
    "# xr.concat(ROFF, dim='time').to_netcdf(f'{path_prace}/{run}/ROFF_yrly.nc')\n",
    "# EVAP = xr.open_dataarray(f'{path_prace}/{run}/EVAP_yrly.nc', decode_times=False)\n",
    "# PREC = xr.open_dataarray(f'{path_prace}/{run}/PREC_yrly.nc', decode_times=False)\n",
    "# ROFF = xr.open_dataarray(f'{path_prace}/{run}/ROFF_yrly.nc', decode_times=False)\n",
    "\n",
    "# EVAP_trend = ocn_field_regression(xa=EVAP, run=run)\n",
    "# PREC_trend = ocn_field_regression(xa=PREC, run=run)\n",
    "# ROFF_trend = ocn_field_regression(xa=ROFF, run=run)\n",
    "# EVAP_trend[0].to_netcdf(f'{path_prace}/{run}/EVAP_yrly_trend.nc')\n",
    "# PREC_trend[0].to_netcdf(f'{path_prace}/{run}/PREC_yrly_trend.nc')\n",
    "# ROFF_trend[0].to_netcdf(f'{path_prace}/{run}/ROFF_yrly_trend.nc')\n",
    "EVAP_trend_rcp = xr.open_dataarray(f'{path_prace}/rcp/EVAP_yrly_trend.nc')\n",
    "PREC_trend_rcp = xr.open_dataarray(f'{path_prace}/rcp/PREC_yrly_trend.nc')\n",
    "ROFF_trend_rcp = xr.open_dataarray(f'{path_prace}/rcp/ROFF_yrly_trend.nc')\n",
    "\n",
    "EVAP_trend_lr1 = xr.open_dataarray(f'{path_prace}/lr1/EVAP_yrly_trend.nc')\n",
    "PREC_trend_lr1 = xr.open_dataarray(f'{path_prace}/lr1/PREC_yrly_trend.nc')\n",
    "ROFF_trend_lr1 = xr.open_dataarray(f'{path_prace}/lr1/ROFF_yrly_trend.nc')"
   ]
  },
  {
   "cell_type": "code",
   "execution_count": null,
   "metadata": {},
   "outputs": [],
   "source": [
    "for k, run in enumerate(['rcp','lr1']):\n",
    "    (PREC_mean, EVAP_mean, ROFF_mean) = [(PREC_mean_ctrl, EVAP_mean_ctrl, ROFF_mean_ctrl),\\\n",
    "                                         (PREC_mean_lpd , EVAP_mean_lpd , ROFF_mean_lpd )][k]\n",
    "    (PREC_trend, EVAP_trend, ROFF_trend) = [(PREC_trend_rcp, EVAP_trend_rcp, ROFF_trend_rcp),\\\n",
    "                                            (PREC_trend_lr1, EVAP_trend_lr1, ROFF_trend_lr1)][k]\n",
    "    RMASK = [RMASK_ocn, RMASK_ocn_low][k]\n",
    "    f = plt.figure(figsize=(6.4,12), constrained_layout=False)\n",
    "    for i, q1 in enumerate(['Precipitation', 'Evaporation', 'P+R+E']):\n",
    "        mean = [PREC_mean, EVAP_mean, PREC_mean+EVAP_mean+ROFF_mean][i]\n",
    "        trend = [PREC_trend, EVAP_trend, PREC_trend+EVAP_trend+ROFF_trend][i]\n",
    "        mean_min, mean_max = [0,-7.5,-7.5][i], [7.5,0,7.5][i]\n",
    "        trend_min, trend_max = -2.5, 2.5\n",
    "        mean_cmap, trend_cmap = ['viridis', 'viridis_r', 'cmo.tarn'][i], ['cmo.balance', 'cmo.balance_r', 'cmo.balance'][i]\n",
    "        ax = f.add_subplot(3, 5, 1+i*5)\n",
    "        ax.axis('off')\n",
    "        ax.set_position([.04,.01+(2-i)*.32,.02,.3])\n",
    "        ax.text(.5, .5, q1, transform=ax.transAxes, rotation='vertical', va='center', ha='right', fontsize=20)\n",
    "        for j, q2 in tqdm_notebook(enumerate(['mean', 'trend'])):\n",
    "            xa = [mean.where(RMASK>0)*24*3600, trend.where(RMASK>0)*24*3600*365*100][j]\n",
    "            ax = f.add_subplot(3, 3, 3*i+2+j, projection=ccrs.LambertAzimuthalEqualArea(central_longitude=-30, central_latitude=20))\n",
    "            minv, maxv, cmap = [mean_min, trend_min][j], [mean_max, trend_max][j], [mean_cmap, trend_cmap][j]\n",
    "            if i==0:  ax.text(.5, 1.05, ['mean [mm/day]', 'trend [mm/day/100y]'][j], transform=ax.transAxes, fontsize=16, ha='center')\n",
    "            ax.set_position([.05+j*.46,.01+(2-i)*.32,.45,.3])\n",
    "            ax.set_extent((-6e6, 3.5e6, -8.5e6, 1e7), crs=ccrs.LambertAzimuthalEqualArea())\n",
    "            cax, kw = matplotlib.colorbar.make_axes(ax,location='right',pad=0.01,shrink=0.9)\n",
    "            im = ax.pcolormesh(xa.ULONG, xa.ULAT, xa, cmap=cmap,  # kg/m2/s to mm/d\n",
    "    #         im = ax.contourf(xa.ULONG, xa.ULAT, xa, cmap=cmap, levels=14,  # kg/m2/s to mm/d\n",
    "                               vmin=minv, vmax=maxv, transform=ccrs.PlateCarree())\n",
    "            cbar = f.colorbar(im, cax=cax, extend='both', **kw)\n",
    "            cbar.ax.tick_params(labelsize=10)\n",
    "\n",
    "            ax.add_feature(cartopy.feature.LAND, zorder=2, edgecolor='black', facecolor='grey')\n",
    "            if i==2:\n",
    "                rivers = cartopy.feature.NaturalEarthFeature(\n",
    "                            category='physical', name='rivers_lake_centerlines',\n",
    "                            scale='50m', facecolor='none', edgecolor='lightgrey')\n",
    "                ax.add_feature(rivers, linewidth=.3, zorder=3)\n",
    "                ax.add_feature(cartopy.feature.RIVERS, zorder=4)\n",
    "            gl = ax.gridlines(crs=ccrs.PlateCarree(), draw_labels=False)\n",
    "            gl.ylocator = matplotlib.ticker.FixedLocator([-90, -60, -30, 0, 30, 60, 90])\n",
    "    plt.savefig(f'{path_results}/SFWF/SFWF_map_{run}')"
   ]
  },
  {
   "cell_type": "code",
   "execution_count": null,
   "metadata": {},
   "outputs": [],
   "source": []
  }
 ],
 "metadata": {
  "kernelspec": {
   "display_name": "Python 3",
   "language": "python",
   "name": "python3"
  },
  "language_info": {
   "codemirror_mode": {
    "name": "ipython",
    "version": 3
   },
   "file_extension": ".py",
   "mimetype": "text/x-python",
   "name": "python",
   "nbconvert_exporter": "python",
   "pygments_lexer": "ipython3",
   "version": "3.6.7"
  }
 },
 "nbformat": 4,
 "nbformat_minor": 4
}
