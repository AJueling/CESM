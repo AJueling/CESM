{
 "cells": [
  {
   "cell_type": "markdown",
   "metadata": {},
   "source": [
    "# SST detrending\n",
    "This notebook visualizes results from `SST_generation.py`."
   ]
  },
  {
   "cell_type": "code",
   "execution_count": null,
   "metadata": {},
   "outputs": [],
   "source": [
    "import os\n",
    "import sys\n",
    "sys.path.append(\"..\")\n",
    "import numpy as np\n",
    "import xarray as xr\n",
    "import matplotlib\n",
    "import matplotlib.pyplot as plt"
   ]
  },
  {
   "cell_type": "code",
   "execution_count": null,
   "metadata": {},
   "outputs": [],
   "source": [
    "%matplotlib inline\n",
    "%load_ext autoreload\n",
    "%autoreload 2\n",
    "%aimport - numpy - scipy - matplotlib.pyplot\n",
    "matplotlib.rc_file('../rc_file')"
   ]
  },
  {
   "cell_type": "code",
   "execution_count": null,
   "metadata": {},
   "outputs": [],
   "source": [
    "from paths import path_samoc, path_results, file_ex_ocn_ctrl\n",
    "from timeseries import IterateOutputCESM\n",
    "from ab_derivation_SST import DeriveSST as DS\n",
    "from bc_analysis_fields import AnalyzeField as AF\n",
    "from bd_analysis_indices import AnalyzeIndex as AI\n",
    "from xr_regression import xr_quadtrend"
   ]
  },
  {
   "cell_type": "markdown",
   "metadata": {},
   "source": [
    "## How to detrend?"
   ]
  },
  {
   "cell_type": "markdown",
   "metadata": {},
   "source": [
    "### Quadratic pointwise detrending\n",
    "what detrending starting year to choose?"
   ]
  },
  {
   "cell_type": "code",
   "execution_count": null,
   "metadata": {},
   "outputs": [],
   "source": [
    "da = xr.open_dataarray(f'{path_samoc}/SST/SST_yrly_ctrl.nc', decode_times=False)\n",
    "# dt = xr.open_dataarray(f'{path_samoc}/SST/SST_GMST_sqdt_yrly_ctrl.nc', decode_times=False)\n",
    "for lat in [400, 1700, 1800, 1900]:\n",
    "    plt.figure()\n",
    "    da.sel({'nlon':800, 'nlat':lat}).plot()\n",
    "#     dt.sel({'nlon':800, 'nlat':lat}).plot()\n",
    "    xr_quadtrend(da.sel({'nlon':800, 'nlat':lat})[150:]+1.5).plot()\n",
    "    xr_quadtrend(da.sel({'nlon':800, 'nlat':lat})[100:]+1).plot()\n",
    "    xr_quadtrend(da.sel({'nlon':800, 'nlat':lat})[40:]+.5).plot()\n",
    "    xr_quadtrend(da.sel({'nlon':800, 'nlat':lat})).plot()\n"
   ]
  },
  {
   "cell_type": "code",
   "execution_count": null,
   "metadata": {},
   "outputs": [],
   "source": [
    "da = xr.open_dataarray(f'{path_samoc}/SST/SST_yrly_lpd.nc', decode_times=False)\n",
    "\n",
    "for lat in [50, 250, 300, 350]:\n",
    "    plt.figure()\n",
    "    da.sel({'nlon':0, 'nlat':lat}).plot()\n",
    "#     dt.sel({'nlon':800, 'nlat':lat}).plot()\n",
    "    xr_quadtrend(da.sel({'nlon':0, 'nlat':lat})[150:]+1.5).plot()\n",
    "    xr_quadtrend(da.sel({'nlon':0, 'nlat':lat})[100:]+1).plot()\n",
    "    xr_quadtrend(da.sel({'nlon':0, 'nlat':lat})[40:]+.5).plot()\n",
    "    xr_quadtrend(da.sel({'nlon':0, 'nlat':lat})).plot()\n"
   ]
  },
  {
   "cell_type": "markdown",
   "metadata": {},
   "source": [
    "### scaled GMSST detrending"
   ]
  },
  {
   "cell_type": "code",
   "execution_count": null,
   "metadata": {},
   "outputs": [],
   "source": [
    "# %%time\n",
    "# 1:32 min for both\n",
    "for run in ['ctrl', 'lpd']:\n",
    "    try:\n",
    "        fn = f'{path_samoc}/SST/GMSST_yrly_{run}.nc'\n",
    "        assert os.path.exists(fn)\n",
    "        print(f'file exists: {fn}')\n",
    "    except:\n",
    "        DS().generate_yrly_global_mean_SST(run=run)"
   ]
  },
  {
   "cell_type": "code",
   "execution_count": null,
   "metadata": {},
   "outputs": [],
   "source": [
    "for i, run in enumerate(['ctrl', 'lpd']):\n",
    "    da = xr.open_dataarray(f'{path_samoc}/SST/GMSST_yrly_{run}.nc')\n",
    "    plt.plot(da.time/365, da- i/2, lw=.5)\n",
    "    if run=='ctrl':  x = da[40:]\n",
    "    else:            x = da    \n",
    "    pf = np.polynomial.polynomial.polyfit(x.time, x, 2)\n",
    "    plt.plot(x.time/365, pf[2]*x.time**2 + pf[1]*x.time + pf[0] - i/2)\n",
    "#     plt.axvline(40, c='grey', lw=.5)\n",
    "    plt.ylabel('global mean SST [$^\\circ$C]')\n",
    "    plt.xlabel('time [years]')"
   ]
  },
  {
   "cell_type": "markdown",
   "metadata": {},
   "source": [
    "## GMST detrending"
   ]
  },
  {
   "cell_type": "markdown",
   "metadata": {},
   "source": [
    "### GMST time series"
   ]
  },
  {
   "cell_type": "code",
   "execution_count": null,
   "metadata": {},
   "outputs": [],
   "source": [
    "gmst_ctrl = xr.open_dataset(f'{path_samoc}/GMST/GMST_yrly_ctrl.nc')\n",
    "gmst_rcp  = xr.open_dataset(f'{path_samoc}/GMST/GMST_yrly_rcp.nc' )\n",
    "gmst_lpd  = xr.open_dataset(f'{path_samoc}/GMST/GMST_yrly_lpd.nc' )\n",
    "gmst_lpi  = xr.open_dataset(f'{path_samoc}/GMST/GMST_yrly_lpi.nc' )\n",
    "gmsts = [gmst_ctrl, gmst_rcp, gmst_lpd, gmst_lpi]"
   ]
  },
  {
   "cell_type": "code",
   "execution_count": null,
   "metadata": {},
   "outputs": [],
   "source": [
    "for i, beta in enumerate(betas):\n",
    "    (depth, lat, lon) = dll_dims_names(domain=domains[i])\n",
    "    plt.figure(figsize=(8,5))\n",
    "    plt.tick_params(labelsize=14)\n",
    "    plt.xlabel('time [years]', fontsize=16)\n",
    "    plt.ylabel('forced GMST reponse', fontsize=16)\n",
    "    if i<4:\n",
    "        gmst = gmsts[i]\n",
    "        plt.plot(gmst.time/365, gmst.GMST-gmst.GMST.mean())\n",
    "        time = beta.time/365\n",
    "    else:\n",
    "        time = beta.time/365+1861\n",
    "    plt.plot(time, beta.forcing, c='C1')\n",
    "    plt.tight_layout()\n",
    "    plt.savefig(f'{path_results}/GMST/GMST_forced_signal_{runs[i]}')"
   ]
  },
  {
   "cell_type": "markdown",
   "metadata": {},
   "source": [
    "### std of detrended SST field"
   ]
  },
  {
   "cell_type": "code",
   "execution_count": null,
   "metadata": {},
   "outputs": [],
   "source": [
    "SST_dt_yrly_ctrl = xr.open_dataarray(f'{path_samoc}/SST/SST_yrly_detr_ctrl.nc', decode_times=False)\n",
    "SST_dt_yrly_rcp  = xr.open_dataarray(f'{path_samoc}/SST/SST_yrly_detr_rcp.nc' , decode_times=False)\n",
    "SST_dt_yrly_lpd  = xr.open_dataarray(f'{path_samoc}/SST/SST_yrly_detr_lpd.nc' , decode_times=False)\n",
    "SST_dt_yrly_lpi  = xr.open_dataarray(f'{path_samoc}/SST/SST_yrly_detr_lpi.nc' , decode_times=False)\n",
    "SSTs_ac = [SST_dt_yrly_ctrl, SST_dt_yrly_rcp, SST_dt_yrly_lpd, SST_dt_yrly_lpi, SST_GMST_dt_yrly_had]"
   ]
  },
  {
   "cell_type": "code",
   "execution_count": null,
   "metadata": {},
   "outputs": [],
   "source": [
    "%%time\n",
    "for i, SST_ac in enumerate(SSTs_ac):\n",
    "    #     if i!=2: continue\n",
    "    run = runs[i]\n",
    "    fn = f'{path_samoc}/SST/SST_std_{run}.nc'\n",
    "    fa = FieldAnalysis(SST_ac[-100:])\n",
    "#     xa = fa.make_standard_deviation_map(fn=fn)\n",
    "    xa = xr.open_dataarray(fn)\n",
    "    \n",
    "    fn = f'{path_results}/SST/SST_std_map_{run}'\n",
    "    domain = map_domains[i]\n",
    "    label = 'standard deviation of SST [K]'\n",
    "    cmap = 'viridis'\n",
    "    txt1 = f'{run.upper()}\\ndetr.'\n",
    "    txt2 = 'last 100\\n years'\n",
    "    make_map(xa=xa, domain=domain, proj='rob', cmap=cmap, minv=0, maxv=1,\n",
    "             label=label, filename=fn, text1=txt1, text2=txt2)"
   ]
  },
  {
   "cell_type": "markdown",
   "metadata": {},
   "source": [
    "### scaling factors"
   ]
  },
  {
   "cell_type": "code",
   "execution_count": null,
   "metadata": {},
   "outputs": [],
   "source": [
    "beta_ctrl = xr.open_dataset(f'{path_samoc}/SST/SST_beta_GMST_yrly_ctrl.nc', decode_times=False)\n",
    "beta_rcp  = xr.open_dataset(f'{path_samoc}/SST/SST_beta_GMST_yrly_rcp.nc' , decode_times=False)\n",
    "beta_lpd  = xr.open_dataset(f'{path_samoc}/SST/SST_beta_GMST_yrly_lpd.nc' , decode_times=False)\n",
    "beta_lpi  = xr.open_dataset(f'{path_samoc}/SST/SST_beta_GMST_yrly_lpi.nc' , decode_times=False)\n",
    "beta_had  = xr.open_dataset(f'{path_samoc}/SST/SST_beta_GMST_yrly_had.nc' , decode_times=False)\n",
    "betas = [beta_ctrl, beta_rcp, beta_lpd, beta_lpi, beta_had]"
   ]
  },
  {
   "cell_type": "code",
   "execution_count": null,
   "metadata": {},
   "outputs": [],
   "source": [
    "for i, beta in enumerate(betas):\n",
    "#     if i!=2: continue\n",
    "    fn = f'{path_results}/SST/SST_GMST_beta_{runs[i]}'\n",
    "    domain = map_domains[i]\n",
    "    label = 'scaling SST(GMST)'\n",
    "    cmap = cmocean.cm.curl\n",
    "    xa = beta.slope.where(masks[i])\n",
    "    make_map(xa=xa, domain=domain, proj='rob', cmap=cmap, minv=-2, maxv=2,\n",
    "             label=label, filename=fn, text1=None, text2=None, rects=None, sig=None, clon=200)"
   ]
  },
  {
   "cell_type": "markdown",
   "metadata": {},
   "source": [
    "### SST autocorrelation"
   ]
  },
  {
   "cell_type": "code",
   "execution_count": null,
   "metadata": {},
   "outputs": [],
   "source": [
    "%%time\n",
    "for i, SST_ac in enumerate(SSTs_ac):\n",
    "    #     if i!=2: continue\n",
    "    run = runs[i]\n",
    "    fn = f'{path_samoc}/SST/SST_autocorrelation_{run}.nc'\n",
    "    fa = FieldAnalysis(SST_ac[-100:])\n",
    "    xa = fa.make_autocorrelation_map(fn=fn)\n",
    "    \n",
    "    fn = f'{path_results}/SST/SST_autocorrelation_map_{run}'\n",
    "    domain = map_domains[i]\n",
    "    label = 'autocorrelation of SST'\n",
    "    cmap = cmocean.cm.curl\n",
    "    txt1 = f'{run.upper()}\\ndetr.'\n",
    "    txt2 = '100 years'\n",
    "    make_map(xa=xa, domain=domain, proj='rob', cmap=cmap, minv=-1, maxv=1,\n",
    "             label=label, filename=fn, text1=txt1, text2=txt2)"
   ]
  }
 ],
 "metadata": {
  "kernelspec": {
   "display_name": "Python 3",
   "language": "python",
   "name": "python3"
  },
  "language_info": {
   "codemirror_mode": {
    "name": "ipython",
    "version": 3
   },
   "file_extension": ".py",
   "mimetype": "text/x-python",
   "name": "python",
   "nbconvert_exporter": "python",
   "pygments_lexer": "ipython3",
   "version": "3.6.6"
  }
 },
 "nbformat": 4,
 "nbformat_minor": 4
}
