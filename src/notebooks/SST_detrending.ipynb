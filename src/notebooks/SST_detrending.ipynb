{
 "cells": [
  {
   "cell_type": "markdown",
   "metadata": {},
   "source": [
    "# SST detrending\n",
    "This notebook visualizes results from `SST_generation.py`."
   ]
  },
  {
   "cell_type": "code",
   "execution_count": null,
   "metadata": {},
   "outputs": [],
   "source": [
    "import os\n",
    "import sys\n",
    "sys.path.append(\"..\")\n",
    "import numpy as np\n",
    "import xarray as xr\n",
    "import matplotlib\n",
    "import matplotlib.pyplot as plt"
   ]
  },
  {
   "cell_type": "code",
   "execution_count": null,
   "metadata": {},
   "outputs": [],
   "source": [
    "%matplotlib inline\n",
    "%load_ext autoreload\n",
    "%autoreload 2\n",
    "%aimport - numpy - scipy - matplotlib.pyplot\n",
    "matplotlib.rc_file('../rc_file')"
   ]
  },
  {
   "cell_type": "code",
   "execution_count": null,
   "metadata": {},
   "outputs": [],
   "source": [
    "from paths import path_samoc, path_results, file_ex_ocn_ctrl\n",
    "from timeseries import IterateOutputCESM\n",
    "from ab_derivation_SST import DeriveSST as DS\n",
    "from bc_analysis_fields import AnalyzeField as AF\n",
    "from bd_analysis_indices import AnalyzeIndex as AI\n",
    "from xr_regression import xr_quadtrend"
   ]
  },
  {
   "cell_type": "markdown",
   "metadata": {},
   "source": [
    "## How to detrend?"
   ]
  },
  {
   "cell_type": "markdown",
   "metadata": {},
   "source": [
    "### Quadratic pointwise detrending\n",
    "what detrending starting year to choose?"
   ]
  },
  {
   "cell_type": "code",
   "execution_count": null,
   "metadata": {},
   "outputs": [],
   "source": [
    "da = xr.open_dataarray(f'{path_samoc}/SST/SST_yrly_ctrl.nc', decode_times=False)\n",
    "# dt = xr.open_dataarray(f'{path_samoc}/SST/SST_GMST_sqdt_yrly_ctrl.nc', decode_times=False)\n",
    "for lat in [400, 1700, 1800, 1900]:\n",
    "    plt.figure()\n",
    "    da.sel({'nlon':800, 'nlat':lat}).plot()\n",
    "#     dt.sel({'nlon':800, 'nlat':lat}).plot()\n",
    "    xr_quadtrend(da.sel({'nlon':800, 'nlat':lat})[150:]+1.5).plot()\n",
    "    xr_quadtrend(da.sel({'nlon':800, 'nlat':lat})[100:]+1).plot()\n",
    "    xr_quadtrend(da.sel({'nlon':800, 'nlat':lat})[40:]+.5).plot()\n",
    "    xr_quadtrend(da.sel({'nlon':800, 'nlat':lat})).plot()\n"
   ]
  },
  {
   "cell_type": "code",
   "execution_count": null,
   "metadata": {},
   "outputs": [],
   "source": [
    "da = xr.open_dataarray(f'{path_samoc}/SST/SST_yrly_lpd.nc', decode_times=False)\n",
    "\n",
    "for lat in [50, 250, 300, 350]:\n",
    "    plt.figure()\n",
    "    da.sel({'nlon':0, 'nlat':lat}).plot()\n",
    "#     dt.sel({'nlon':800, 'nlat':lat}).plot()\n",
    "    xr_quadtrend(da.sel({'nlon':0, 'nlat':lat})[150:]+1.5).plot()\n",
    "    xr_quadtrend(da.sel({'nlon':0, 'nlat':lat})[100:]+1).plot()\n",
    "    xr_quadtrend(da.sel({'nlon':0, 'nlat':lat})[40:]+.5).plot()\n",
    "    xr_quadtrend(da.sel({'nlon':0, 'nlat':lat})).plot()\n"
   ]
  },
  {
   "cell_type": "markdown",
   "metadata": {},
   "source": [
    "### scaled GMSST detrending"
   ]
  },
  {
   "cell_type": "code",
   "execution_count": null,
   "metadata": {},
   "outputs": [],
   "source": [
    "# %%time\n",
    "# 1:32 min for both\n",
    "for run in ['ctrl', 'lpd']:\n",
    "    try:\n",
    "        fn = f'{path_samoc}/SST/GMSST_yrly_{run}.nc'\n",
    "        assert os.path.exists(fn)\n",
    "        print(f'file exists: {fn}')\n",
    "    except:\n",
    "        DS().generate_yrly_global_mean_SST(run=run)"
   ]
  },
  {
   "cell_type": "code",
   "execution_count": null,
   "metadata": {},
   "outputs": [],
   "source": [
    "for i, run in enumerate(['ctrl', 'lpd']):\n",
    "    da = xr.open_dataarray(f'{path_samoc}/SST/GMSST_yrly_{run}.nc')\n",
    "    plt.plot(da.time/365, da- i/2, lw=.5)\n",
    "    if run=='ctrl':  x = da[40:]\n",
    "    else:            x = da    \n",
    "    pf = np.polynomial.polynomial.polyfit(x.time, x, 2)\n",
    "    plt.plot(x.time/365, pf[2]*x.time**2 + pf[1]*x.time + pf[0] - i/2)\n",
    "#     plt.axvline(40, c='grey', lw=.5)\n",
    "    plt.ylabel('global mean SST [$^\\circ$C]')\n",
    "    plt.xlabel('time [years]')"
   ]
  }
 ],
 "metadata": {
  "kernelspec": {
   "display_name": "Python 3",
   "language": "python",
   "name": "python3"
  },
  "language_info": {
   "codemirror_mode": {
    "name": "ipython",
    "version": 3
   },
   "file_extension": ".py",
   "mimetype": "text/x-python",
   "name": "python",
   "nbconvert_exporter": "python",
   "pygments_lexer": "ipython3",
   "version": "3.6.6"
  }
 },
 "nbformat": 4,
 "nbformat_minor": 4
}
