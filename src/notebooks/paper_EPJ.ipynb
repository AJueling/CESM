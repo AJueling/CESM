{
 "cells": [
  {
   "cell_type": "markdown",
   "metadata": {},
   "source": [
    "# Figures for EPJ paper"
   ]
  },
  {
   "cell_type": "code",
   "execution_count": null,
   "metadata": {},
   "outputs": [],
   "source": [
    "import os\n",
    "import sys\n",
    "import numpy as np\n",
    "import xarray as xr\n",
    "import cmocean\n",
    "import cartopy\n",
    "import cartopy.crs as ccrs\n",
    "import matplotlib\n",
    "import matplotlib.pyplot as plt\n"
   ]
  },
  {
   "cell_type": "code",
   "execution_count": null,
   "metadata": {},
   "outputs": [],
   "source": [
    "%matplotlib inline\n",
    "matplotlib.rc_file('../rc_file')\n",
    "%config InlineBackend.print_figure_kwargs={'bbox_inches':None}\n",
    "%load_ext autoreload\n",
    "%autoreload 2\n",
    "%aimport - numpy - matplotlib.pyplot"
   ]
  },
  {
   "cell_type": "code",
   "execution_count": null,
   "metadata": {},
   "outputs": [],
   "source": [
    "sys.path.append(\"..\")\n",
    "from maps import rect_polygon\n",
    "from paths import path_results, path_prace, path_data\n",
    "from regions import SST_index_bounds\n",
    "from filters import lowpass"
   ]
  },
  {
   "cell_type": "markdown",
   "metadata": {},
   "source": [
    "## 1. making SMV regression plot\n",
    "\n",
    "adjusted `SST_index_generation.py`, then executed `python SST_index_generation.py had SMV`"
   ]
  },
  {
   "cell_type": "markdown",
   "metadata": {},
   "source": [
    "## 2. redoing regression plots for AMV, PMV"
   ]
  },
  {
   "cell_type": "code",
   "execution_count": null,
   "metadata": {},
   "outputs": [],
   "source": [
    "lats, lons = xa.latitude, xa.longitude; lons, lats = np.meshgrid(lons, lats)\n",
    "for i, idx in enumerate(['AMO', 'PMV', 'SMV']):\n",
    "#     if i>0:  continue\n",
    "    maxv = .22\n",
    "    clon = [-60,220,-60][i]\n",
    "#     ext = ['max', 'both', 'max'][i]\n",
    "    if idx in ['AMO', 'SMV']:\n",
    "        std = lowpass(xr.open_dataarray(f'{path_prace}/SST/{idx}_ds_dt_raw_{run}.nc'), 12*13).std().values\n",
    "        xa = xr.open_dataset(f'{path_prace}/SST/{idx}_regr_{run}.nc')\n",
    "    else:\n",
    "        std = lowpass(xr.open_dataset(f'{path_prace}/SST/PMV_EOF_20N_{run}.nc').pcs.isel(mode=0), 12*13).std().values\n",
    "        xa = xr.open_dataset(f'{path_prace}/SST/PMV_20N_regr_{run}.nc')\n",
    "    print(std)\n",
    "    rect = rect_polygon(SST_index_bounds(idx))\n",
    "    \n",
    "    f = plt.figure(figsize=(6.4,4))\n",
    "    f.text(.007, .94, 'b)', fontsize=14)\n",
    "    ax = f.add_subplot(211, projection=ccrs.Robinson(central_longitude=clon))\n",
    "    ax.set_global()\n",
    "    ax.set_position([.01,.19,.98,.8])\n",
    "    im = ax.pcolormesh(lons, lats, xa.slope*std, cmap='cmo.balance',\n",
    "#     im = ax.pcolormesh(lons, lats, xa.slope, cmap='cmo.balance',\n",
    "                           vmin=-maxv, vmax=maxv, transform=ccrs.PlateCarree())\n",
    "    plt.tricontour(lons.flatten(), lats.flatten(), xa.pval.where(np.isnan(xa.pval.values)==False, .5).values.flatten(),\n",
    "                       levels=[.01,.99], colors='purple', linestyles='dashed', transform=ccrs.PlateCarree())\n",
    "\n",
    "    ax.add_feature(cartopy.feature.LAND, zorder=2, edgecolor='black', facecolor='grey')\n",
    "    gl = ax.gridlines(crs=ccrs.PlateCarree(), draw_labels=False)\n",
    "    gl.ylocator = matplotlib.ticker.FixedLocator([-90, -60, -30, 0, 30, 60, 90])\n",
    "\n",
    "    ax.add_patch(matplotlib.patches.Polygon(xy=rect,\n",
    "                                  facecolor='none', edgecolor='k',\n",
    "                                  linewidth=1, zorder=3,\n",
    "                                  transform=ccrs.PlateCarree(), ), )\n",
    "\n",
    "    cax = f.add_subplot(212)\n",
    "    cax.set_position([.23,.12,.54,.05])\n",
    "    label = f'HadISST regression on {[\"AMV\",\"PMV\",\"SMV\"][i]} index [K/std]'\n",
    "    cbar = plt.colorbar(im, cax=cax, label=label, shrink=.9, pad=.0, orientation='horizontal', extend='both', ticks=ticks)\n",
    "    plt.savefig(f'{path_results}/EPJ/{[\"AMV\",\"PMV\",\"SMV\"][i]}_regression_map', dpi=300)\n"
   ]
  },
  {
   "cell_type": "code",
   "execution_count": null,
   "metadata": {},
   "outputs": [],
   "source": [
    "for i, idx in enumerate(['AMO', 'PMV', 'SMV']):\n",
    "    time = np.arange(1870+1/24, 2019, 1/12)\n",
    "    f = plt.figure(figsize=(6.4,2.5), constrained_layout=True)\n",
    "    f.text(.007, .91, 'a)', fontsize=14)\n",
    "    plt.axhline(0, c='r', ls=':', lw=.5)\n",
    "    if idx in ['AMO', 'SOM', 'TPI', 'SMV']:\n",
    "        index = xr.open_dataarray(f'{path_prace}/SST/{idx}_ds_dt_raw_{run}{ts}.nc',\n",
    "                                  decode_times=False)\n",
    "    elif idx=='PMV':\n",
    "        index = xr.open_dataset(f'{path_prace}/SST/PMV_EOF_20N_{run}{ts}.nc',\n",
    "                                decode_times=False).pcs.isel(mode=0).squeeze()\n",
    "#     plt.plot(time, index, c='green', lw=.5)\n",
    "    plt.plot(time, index.rolling(time=12).mean(), c='grey', lw=.5)\n",
    "    plt.plot(time[7*12:-7*12], lowpass(index,12*13)[7*12:-7*12])\n",
    "    plt.ylabel(['AMV  [K]', 'PMV  [std]', 'SMV  [K]'][i])\n",
    "    plt.xlabel('time [year C.E.]')\n",
    "    plt.savefig(f'{path_results}/EPJ/{[\"AMV\",\"PMV\",\"SMV\"][i]}_timeseries.eps')"
   ]
  },
  {
   "cell_type": "markdown",
   "metadata": {},
   "source": [
    "## 3. GMST detrending, filtering, and HadISST regression on GMST"
   ]
  },
  {
   "cell_type": "code",
   "execution_count": null,
   "metadata": {},
   "outputs": [],
   "source": [
    "# ds = xr.open_dataset(f'{path_data}/HadCRUT/HadCRUT.4.6.0.0.median.nc')\n",
    "# spatially expliit HadCRUT data contains many missing values"
   ]
  },
  {
   "cell_type": "code",
   "execution_count": null,
   "metadata": {},
   "outputs": [],
   "source": [
    "hadcrut = xr.open_dataarray(f'{path_data}/HadCRUT/ihad4_krig_v2_0-360E_-90-90N_n_mean1_anom_30.nc', decode_times=False) # first year 1851\n",
    "GMST_had = xr.open_dataarray(f'{path_prace}/GMST/GMST_dt_yrly_had.nc')\n",
    "CMIP5all = xr.open_dataarray(f'{path_prace}/GMST/CMIP5_all.nc', decode_times=False)\n",
    "CMIP5nat = xr.open_dataarray(f'{path_prace}/GMST/CMIP5_natural.nc', decode_times=False)\n",
    "CMIP5ant = xr.open_dataarray(f'{path_prace}/GMST/CMIP5_anthro.nc', decode_times=False)"
   ]
  },
  {
   "cell_type": "code",
   "execution_count": null,
   "metadata": {},
   "outputs": [],
   "source": [
    "time = np.arange(1870,2019)\n",
    "time_ = time[7:-7]\n",
    "f, ax = plt.subplots(2,1, figsize=(6,4.5), sharex=True, constrained_layout=True)\n",
    "f.text(.007, .96, 'a)', fontsize=14)\n",
    "f.text(.007, .5, 'b)', fontsize=14)\n",
    "ax[0].plot(time, hadcrut[20:], label='HadCRUT4')\n",
    "# ax[0].plot(time, CMIP5all)\n",
    "ax[0].plot(time, CMIP5nat-.5, ls='--', label='CMIP5 natural')\n",
    "ax[0].plot(time, CMIP5ant+.5, ls='--', label='CMIP5 anthropogenic')\n",
    "ax[0].set_ylabel('GMST anomaly [K]')\n",
    "ax[0].legend(frameon=False)\n",
    "\n",
    "ax[1].axhline(0, c='r', ls=':', lw=.5)\n",
    "ax[1].plot(time, GMST_had[9:], lw=.5, c='grey')\n",
    "ax[1].plot(time_, lowpass(GMST_had,13)[16:-7])\n",
    "ax[1].set_ylabel('detrended GMST [K]')\n",
    "ax[1].set_xlabel('time [year C.E.]')\n",
    "\n",
    "plt.savefig(f'{path_results}/EPJ/GMST_timeseries.eps')"
   ]
  },
  {
   "cell_type": "code",
   "execution_count": null,
   "metadata": {},
   "outputs": [],
   "source": [
    "SST_had = xr.open_dataarray(f'{path_prace}/SST/SST_yrly_tfdt_had.nc')"
   ]
  },
  {
   "cell_type": "code",
   "execution_count": null,
   "metadata": {},
   "outputs": [],
   "source": [
    "SST_had"
   ]
  },
  {
   "cell_type": "code",
   "execution_count": null,
   "metadata": {},
   "outputs": [],
   "source": [
    "GMST_had[9:].assign_coords(time=SST_had.time)"
   ]
  },
  {
   "cell_type": "code",
   "execution_count": null,
   "metadata": {},
   "outputs": [],
   "source": [
    "from bd_analysis_indices import AnalyzeIndex as AI"
   ]
  },
  {
   "cell_type": "code",
   "execution_count": null,
   "metadata": {},
   "outputs": [],
   "source": [
    "fn = f'{path_prace}/SST/GMST_yrly_tfdt_regr_had.nc'\n",
    "ac = xr.open_dataarray(f'{path_prace}/SST/SST_yrly_autocorrelation_had.nc')\n",
    "AI().calculate_regression(SST_dt=SST_had, index=GMST_had[9:].assign_coords(time=SST_had.time), tavg='yrly', fn_out=fn, autocorr=ac)"
   ]
  },
  {
   "cell_type": "code",
   "execution_count": null,
   "metadata": {},
   "outputs": [],
   "source": [
    "had_regr = xr.open_dataset(fn)"
   ]
  },
  {
   "cell_type": "code",
   "execution_count": null,
   "metadata": {},
   "outputs": [],
   "source": [
    "had_regr.slope.plot()"
   ]
  },
  {
   "cell_type": "code",
   "execution_count": null,
   "metadata": {},
   "outputs": [],
   "source": [
    "had_regr.pval.plot()"
   ]
  },
  {
   "cell_type": "code",
   "execution_count": null,
   "metadata": {},
   "outputs": [],
   "source": [
    "maxv = .22\n",
    "xa = xr.open_dataset(f'{path_prace}/SST/GMST_yrly_tfdt_regr_had.nc')\n",
    "std = lowpass(GMST_had, 13).std().values\n",
    "print(std)\n",
    "\n",
    "f = plt.figure(figsize=(6.4,4))\n",
    "f.text(.007, .94, 'c)', fontsize=14)\n",
    "ax = f.add_subplot(211, projection=ccrs.Robinson(central_longitude=200))\n",
    "ax.set_global()\n",
    "ax.set_position([.01,.19,.98,.8])\n",
    "im = ax.pcolormesh(lons, lats, xa.slope*std, cmap='cmo.balance',\n",
    "                       vmin=-maxv, vmax=maxv, transform=ccrs.PlateCarree())\n",
    "plt.tricontour(lons.flatten(), lats.flatten(), xa.pval.where(np.isnan(xa.pval.values)==False, .5).values.flatten(),\n",
    "                   levels=[.01,.99], colors='purple', linestyles='dashed', transform=ccrs.PlateCarree())\n",
    "\n",
    "ax.add_feature(cartopy.feature.LAND, zorder=2, edgecolor='black', facecolor='grey')\n",
    "gl = ax.gridlines(crs=ccrs.PlateCarree(), draw_labels=False)\n",
    "gl.ylocator = matplotlib.ticker.FixedLocator([-90, -60, -30, 0, 30, 60, 90])\n",
    "\n",
    "cax = f.add_subplot(212)\n",
    "cax.set_position([.23,.12,.54,.05])\n",
    "label = f'HadISST regression on detrended & filtered GMST [K/std]'\n",
    "cbar = plt.colorbar(im, cax=cax, label=label, shrink=.9, pad=.0, orientation='horizontal', extend='both', ticks=ticks)\n",
    "plt.savefig(f'{path_results}/EPJ/GMST_regression_map', dpi=300)"
   ]
  },
  {
   "cell_type": "code",
   "execution_count": null,
   "metadata": {},
   "outputs": [],
   "source": []
  }
 ],
 "metadata": {
  "kernelspec": {
   "display_name": "Python 3",
   "language": "python",
   "name": "python3"
  },
  "language_info": {
   "codemirror_mode": {
    "name": "ipython",
    "version": 3
   },
   "file_extension": ".py",
   "mimetype": "text/x-python",
   "name": "python",
   "nbconvert_exporter": "python",
   "pygments_lexer": "ipython3",
   "version": "3.6.7"
  }
 },
 "nbformat": 4,
 "nbformat_minor": 4
}
