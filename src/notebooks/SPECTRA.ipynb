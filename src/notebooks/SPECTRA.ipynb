{
 "cells": [
  {
   "cell_type": "markdown",
   "metadata": {},
   "source": [
    "# Estimating Spectra\n",
    "\n",
    "trying different estimators for spectra"
   ]
  },
  {
   "cell_type": "code",
   "execution_count": null,
   "metadata": {},
   "outputs": [],
   "source": [
    "import os\n",
    "import sys\n",
    "sys.path.append(\"..\")\n",
    "import scipy as sp\n",
    "import numpy as np\n",
    "import mtspec\n",
    "import xarray as xr\n",
    "import matplotlib\n",
    "import matplotlib.pyplot as plt"
   ]
  },
  {
   "cell_type": "code",
   "execution_count": null,
   "metadata": {},
   "outputs": [],
   "source": [
    "%matplotlib inline\n",
    "%config InlineBackend.print_figure_kwargs={'bbox_inches':None}\n",
    "matplotlib.rc_file('../rc_file_paper')\n",
    "%load_ext autoreload\n",
    "%autoreload 2\n",
    "%aimport - numpy - scipy - matplotlib.pyplot"
   ]
  },
  {
   "cell_type": "code",
   "execution_count": null,
   "metadata": {},
   "outputs": [],
   "source": [
    "sys.path.append(\"..\")\n",
    "from paths import path_samoc, path_results\n",
    "import statsmodels.tsa as tsa\n",
    "from statsmodels.tsa.arima_process import ArmaProcess"
   ]
  },
  {
   "cell_type": "markdown",
   "metadata": {},
   "source": [
    "## Why is the periodogram is a bad estimator?\n",
    "1. not robust: more data points do not lead to a decrease in the estimate variance\n",
    "1. spectral leakage: intensitiesare contaminated with variance from far aways frequencies. Can be solved with tapers.\n",
    "\n",
    "I will use three time series with known spectra to illustrate the problems and compare different spectral estimators.\n",
    "1. `A` white noise time series: theoretical power spectrum $\\Gamma(\\omega) = \\mathrm{var}(A)$\n",
    "1. `B` AR(2) process ($\\alpha_1=0.3, \\alpha_2=0.3$)\n",
    "1. `C` AR(2) process ($\\alpha_1=0.9, \\alpha_2=-0.8$)\n",
    "\n",
    "The theoretical power spectrum of an AR(2) process is\n",
    "$$\\Gamma(\\omega) = \\frac{\\sigma_Z^2}{1+\\alpha_1^2+\\alpha_2^2-2 g(\\omega)}$$\n",
    "with  $ g ( \\omega ) = \\alpha_1 (1 - \\alpha_2) \\cos(2 \\pi \\omega) + \\alpha_2 \\cos(4 \\pi \\omega)$ (p. 224 von Storch and Zwiers)\n",
    "\n",
    "\n",
    "Ghil et al. (2000): \n",
    "> For instrumental climate records, with a typical length of a few hundred points, the choice p ⫽ 2 and K ⫽ 3 offers a good compromise between the required frequency resolution for resolving distinct cli- mate signals (e.g., ENSO and decadal-scale variability) and the benefit of multiple spectral degrees of freedom, i.e., of reduced variance [e.g., Mann and Park, 1993]."
   ]
  },
  {
   "cell_type": "code",
   "execution_count": null,
   "metadata": {},
   "outputs": [],
   "source": [
    "def periodogram(ts, d=1.):\n",
    "    \"\"\" naive absolute squared Fourier components \n",
    "    \n",
    "    input:\n",
    "    ts .. time series\n",
    "    d  .. sampling period\n",
    "    \"\"\"\n",
    "    freq = np.fft.rfftfreq(len(ts))\n",
    "    Pxx = 2*np.abs(np.fft.rfft(ts))**2/len(ts)\n",
    "    return freq, Pxx\n",
    "\n",
    "def Welch(ts, d=1, window='hann'):\n",
    "    \"\"\" Welch spectrum \"\"\"\n",
    "    return sp.signal.welch(ts, window=window)\n",
    "\n",
    "def mtspectrum(ts, d=1., tb=4, nt=4):\n",
    "    \"\"\" multi-taper spectrum \n",
    "    \n",
    "    input:\n",
    "    ts .. time series\n",
    "    d  .. sampling period\n",
    "    tb .. time bounds (bandwidth)\n",
    "    nt .. number of tapers\n",
    "    \"\"\"\n",
    "    spec, freq, jackknife, _, _ = mtspec.mtspec(\n",
    "                data=ts, delta=d, time_bandwidth=tb,\n",
    "                number_of_tapers=nt, statistics=True)\n",
    "    return freq, spec"
   ]
  },
  {
   "cell_type": "code",
   "execution_count": null,
   "metadata": {},
   "outputs": [],
   "source": [
    "def AR2_process(a1, a2, N):\n",
    "    \"\"\" generates AR(2) time series of length N \"\"\"\n",
    "    return ArmaProcess(np.array([1, -a1, -a2]), np.array([1])).generate_sample(nsample=N)\n",
    "\n",
    "def AR2_spectrum(sz, a1, a2, omega):\n",
    "    \"\"\" theoretical AR(2) spectrum \n",
    "    \n",
    "    input:\n",
    "    sz     .. standard deviation\n",
    "    a1, a2 .. AR(2) coefficients\n",
    "    omega  .. frequency at which to evaluate expression\n",
    "    \"\"\"\n",
    "    # multiplied here by an extra factor of 2, so that we can integrate over [0,0.5] and not over [-0.5.0.5]\n",
    "    return 2*sz**2/(1+a1**2+a2**2-2*(a1*(1-a2)*np.cos(2*np.pi*omega)+a2*np.cos(4*np.pi*omega)))\n",
    "\n",
    "N = 240\n",
    "A = np.random.rand((N))-.5\n",
    "A /= np.std(A)\n",
    "b = 0.3\n",
    "B_ = AR2_process(b, b, N)\n",
    "B_ /= np.std(B_)\n",
    "B = B_ + 10*np.sin(2*np.pi*.3162*np.arange((N))+.5763)\n",
    "# B /= np.std(B)\n",
    "c1, c2 = .9, -.8\n",
    "C = AR2_process(c1, c2, N)\n",
    "C /= np.std(C)"
   ]
  },
  {
   "cell_type": "code",
   "execution_count": null,
   "metadata": {},
   "outputs": [],
   "source": [
    "f, ax = plt.subplots(5,3,figsize=(12,12), constrained_layout=True)\n",
    "for i, ts in enumerate([A,B,C]):\n",
    "    ax[0,i].axhline(0, c='grey', lw=.5)\n",
    "    ax[0,i].plot(np.arange(N), ts)\n",
    "    \n",
    "    for j, ts_ in enumerate([ts[:120], ts]):\n",
    "        ts_ -= np.mean(ts_)\n",
    "        ax[j+1,i].plot([0,0],[0,1], c='w', label=f'var(x)={np.var(ts_):7.3f}')\n",
    "        for k in [0,2]:\n",
    "            freq = np.linspace(0,.5,len(ts_))\n",
    "            if i==0:  \n",
    "                ax[j+1+k,i].axhline(2*np.var(ts_), c='r', label=f'theor. {np.var(ts_):7.3f}')\n",
    "                # multiplied here by an extra factor of 2, so that we can integrate over [0,0.5] and not over [-0.5.0.5]\n",
    "            if i==1:\n",
    "                spec = AR2_spectrum(sz=1, a1=b , a2=b , omega=freq)\n",
    "                ax[j+1+k,i].plot(freq, spec, c='r', label=f'theor. {np.sum((freq[1]-freq[0])*spec):7.3f}')\n",
    "                ax[j+1+k,i].axvline(.3162, c='r')\n",
    "            \n",
    "            if i==2:\n",
    "                spec = AR2_spectrum(sz=1 , a1=c1, a2=c2, omega=freq)\n",
    "                ax[j+1+k,i].plot(freq, 10*np.log10(spec), c='r', label=f'theor. {np.sum((freq[1]-freq[0])*spec):7.3f}')\n",
    "                ax[j+1+k,i].axhline(0, c='r')\n",
    "            \n",
    "        freq, Pxx = periodogram(ts_)\n",
    "        for k in [0,2]:\n",
    "            if i<2:  ax[j+1+k,i].bar(freq[1:], Pxx[1:], width=.001, label=f'periodogram {np.sum((freq[1]-freq[0])*Pxx):7.3f}')\n",
    "            else  :  ax[j+1+k,i].bar(freq[1:], 10*np.log10(Pxx[1:]), width=.003, label=f'periodogram {np.sum((freq[1]-freq[0])*Pxx):7.3f}')\n",
    "        \n",
    "        \n",
    "        for window in ['hann', 'boxcar', 'bartlett']:\n",
    "            f, Pxx = sp.signal.welch(ts, window=window, nperseg=60)#, average='median')\n",
    "            if i<2:  ax[j+1,i].scatter(f[1:], Pxx[1:], label=f'Welch {window} {np.sum((f[1]-f[0])*Pxx):7.3f}')\n",
    "            else  :  ax[j+1,i].scatter(f[1:], 10*np.log10(Pxx[1:]), label=f'Welch {window} {np.sum((f[1]-f[0])*Pxx):7.3f}')\n",
    "        \n",
    "        \n",
    "        \n",
    "        freq, spec = mtspectrum(ts_)\n",
    "        if i<2:  ax[j+3,i].scatter(freq[1:], spec[1:], label=f'MT spec {np.sum((freq[1]-freq[0])*spec):7.3f}')\n",
    "        else  :  ax[j+3,i].scatter(freq[1:], 10*np.log10(spec[1:]), label=f'MT spec {np.sum((freq[1]-freq[0])*spec):7.3f}')\n",
    "        \n",
    "        for k in [0,2]:\n",
    "            if i==0: ax[j+1+k,i].set_ylim((0,8))\n",
    "            if i==1: ax[j+1+k,i].set_ylim((0,20))\n",
    "#         if i==2: ax[j+1,i].set_yscale('log', basey=10)\n",
    "        ax[j+1,i].legend(fontsize=8)\n",
    "        ax[j+3,i].legend(fontsize=8)\n",
    "        \n",
    "for i in range(3):\n",
    "    ax[0,i].set_title(['white noise', r'AR(2) (0.3,0.3) + $10 \\sin(2 \\pi 0.3162 t + 0.5763)$','AR(2) (0.9,-0.8)'][i])\n",
    "    ax[i,0].set_ylabel([r'time series $x(t)$\\namplitude', 'n=120\\npower spectral density','n=240\\npower spectral density'][i])"
   ]
  },
  {
   "cell_type": "markdown",
   "metadata": {},
   "source": [
    "## index time series"
   ]
  },
  {
   "cell_type": "code",
   "execution_count": null,
   "metadata": {},
   "outputs": [],
   "source": [
    "# das = []\n",
    "# for idx in ['AMO', 'TPI', 'SOM']:\n",
    "#     for run in ['had', 'ctrl', 'lpd']:\n",
    "#         if run=='ctrl':   ts, Nt = '_51_301', 250*12\n",
    "#         elif run=='lpd':  ts, Nt = '_154_404', 250*12\n",
    "#         elif run=='had':  ts, Nt = '', 149*12\n",
    "#         fn = f'{path_samoc}/SST/{idx}_ds_dt_raw_{run}{ts}.nc'\n",
    "#         print(os.path.exists(fn))\n",
    "#         da = xr.open_dataarray(fn, decode_times=False).assign_coords(time=np.arange(Nt))\n",
    "#         da.name = f'{idx}_{run}'\n",
    "#         das.append(da)"
   ]
  },
  {
   "cell_type": "code",
   "execution_count": null,
   "metadata": {},
   "outputs": [],
   "source": [
    "ds = xr.open_dataset(f'{path_results}/all_timeseries.nc')"
   ]
  },
  {
   "cell_type": "code",
   "execution_count": null,
   "metadata": {},
   "outputs": [],
   "source": [
    "fig, ax = plt.subplots(4,3,figsize=(12,15),constrained_layout=True, sharey='row')\n",
    "for i, idx in enumerate(['AMO', 'TPI', 'SOM']):\n",
    "    for j, run in enumerate(['had', 'ctrl', 'lpd']):\n",
    "        c = f'C{i}'\n",
    "        key = f'{idx}_{run}'\n",
    "        x = ds[key].dropna(dim='time')\n",
    "        f = np.linspace(0,0.5,len(x))\n",
    "        std_ = ds[key].std().values\n",
    "        AM = ARMA(endog=x.values, order=(1,0)).fit()\n",
    "        ac, std = AM.arparams[0], np.sqrt(AM.sigma2)\n",
    "        ax[0,j].plot(ds.time, ds[key]-i, label=fr'{idx} $\\sigma_x=${std_:.2f} $\\sigma_\\epsilon=${std:.2f}', c=c)\n",
    "        ax[0,j].axhline(-i, c=c, lw=.5)\n",
    "        \n",
    "        for k in range(3):  ax[k+1,j].plot(f[1:], AR2_spectrum(sz=std, a1=ac, a2=0, omega=f)[1:]*10**(-[3,1.5,2][k]*i), c=c, ls='-.')\n",
    "        \n",
    "        f, Pxx = periodogram(x)\n",
    "        ax[1,j].plot(f[1:], Pxx[1:]*10**(-3*i), c=c, alpha=.5, label=fr'{idx}')#' $\\rho_1$={ac:.3f}')\n",
    "        mc = mc_ar1_spectrum(x.values, spectrum=periodogram)\n",
    "        ax[1,j].plot(mc['freq'][1:], mc['median'][1:]*10**(-3*i), c=c, ls='-' , label='median')\n",
    "        ax[1,j].plot(mc['freq'][1:], mc['5']     [1:]*10**(-3*i), c=c, ls='--', label='5%')\n",
    "        ax[1,j].plot(mc['freq'][1:], mc['1']     [1:]*10**(-3*i), c=c, ls=':' , label='1%')\n",
    "        ax[1,j].plot(mc['freq'][1:], mc['95']    [1:]*10**(-3*i), c=c, ls='--', label='95%')\n",
    "        ax[1,j].plot(mc['freq'][1:], mc['99']    [1:]*10**(-3*i), c=c, ls=':' , label='99%')\n",
    "        \n",
    "        f, Pxx = Welch(x)\n",
    "        ax[2,j].plot(f[1:], Pxx[1:]*10**(-1.5*i), c=c, alpha=.5, label=fr'{idx} $\\rho_1$={ac:.3f}')\n",
    "#         mc = mc_ar1_spectrum(x.values, spectrum=Welch)\n",
    "#         ax[1,j].plot(mc['freq'][1:], mc['median'][1:]*10**(-1.5*i), c=c, alpha=.5, label='median')\n",
    "#         ax[1,j].plot(mc['freq'][1:], mc['95'][1:]*10**(-1.5*i), c=c, alpha=.5, label='95%')\n",
    "#         ax[1,j].plot(mc['freq'][1:], mc['99'][1:]*10**(-1.5*i), c=c, alpha=.5, label='99%')\n",
    "        \n",
    "        f, Pxx = mtspectrum(x)\n",
    "        ax[3,j].plot(f[1:], Pxx[1:]*10**(-2*i), c=c, alpha=.5, label=fr'{idx} $\\rho_1$={ac:.3f}')\n",
    "        mc = mc_ar1_spectrum(x.values, spectrum=mtspectrum)\n",
    "        ax[3,j].plot(mc['freq'][1:], mc['median'][1:]*10**(-2*i), c=c, ls='-' , label='median')\n",
    "        ax[3,j].plot(mc['freq'][1:], mc['5']     [1:]*10**(-2*i), c=c, ls='--', label='5%')\n",
    "        ax[3,j].plot(mc['freq'][1:], mc['1']     [1:]*10**(-2*i), c=c, ls=':' , label='1%')\n",
    "        ax[3,j].plot(mc['freq'][1:], mc['95']    [1:]*10**(-2*i), c=c, ls='--', label='95%')\n",
    "        ax[3,j].plot(mc['freq'][1:], mc['99']    [1:]*10**(-2*i), c=c, ls=':' , label='99%')\n",
    "        \n",
    "for i in range(3):\n",
    "    ax[0,i].set_title(['HIST', 'HIGH', 'LOW'][i])\n",
    "    ax[0,i].set_xlabel(r'time [month]')\n",
    "    ax[-1,i].set_xlabel(r'frequency [month$^{-1}$]')\n",
    "    ax[1,i].set_ylim((1e-12, 1e2))\n",
    "    ax[0,i].legend(fontsize=8)\n",
    "    ax[1,i].legend(fontsize=7, ncol=3)\n",
    "    for j in range(3):\n",
    "        ax[j+1,i].set_xlim((3e-4, 6e-1))\n",
    "        ax[j+1,i].set_xscale('log', basex=10)\n",
    "        ax[j+1,i].set_yscale('log', basey=10)\n",
    "\n",
    "for i in range(4):  ax[i,0].set_ylabel(['time series', 'periodogram', 'Welch', 'Multi-taper'][i])\n",
    "plt.savefig(f'{path_results}/spectra/indices, spectra')"
   ]
  },
  {
   "cell_type": "markdown",
   "metadata": {},
   "source": [
    "## Fitting AR(1) spectra: theoretical vs. MC spectral estimates"
   ]
  },
  {
   "cell_type": "code",
   "execution_count": null,
   "metadata": {},
   "outputs": [],
   "source": [
    "from statsmodels.tsa.arima_model import ARMA\n",
    "\n",
    "def mc_ar1_ARMA(phi, std, n, N=1000):\n",
    "    \"\"\" Monte-Carlo AR(1) processes\n",
    "    \n",
    "    input:\n",
    "    phi .. (estimated) lag-1 autocorrelation\n",
    "    std .. (estimated) standard deviation of noise\n",
    "    n   .. length of original time series\n",
    "    N   .. number of MC simulations \n",
    "    \"\"\"\n",
    "    AR_object = ArmaProcess(np.array([1, -phi]), np.array([1]), nobs=n)\n",
    "    mc = AR_object.generate_sample(nsample=(N,n), scale=std, axis=1, burnin=1000)\n",
    "    return mc\n",
    "\n",
    "def mc_ar1_spectrum(x, spectrum, N=1000, filter_type=None, filter_cutoff=None):\n",
    "    \"\"\" calculates the Monte-Carlo spectrum and the 95% confidence interval\n",
    "    \n",
    "    input:\n",
    "    x             .. time series\n",
    "    spectrum      .. spectral density estimation function\n",
    "    N             .. number of MC simulations\n",
    "    filter_type   ..\n",
    "    filter_cutoff ..\n",
    "    \n",
    "    output:\n",
    "    mc_spectrum   .. \n",
    "    \"\"\"\n",
    "    AM = ARMA(endog=x, order=(1,0)).fit()\n",
    "    phi, std = AM.arparams[0], np.sqrt(AM.sigma2)\n",
    "    mc = mc_ar1_ARMA(phi=phi, std=std, n=len(x), N=N)\n",
    "    mc_spectra = np.zeros((N, int(len(mc[0,:])/2)+1))\n",
    "    for i in range(N):  freq, mc_spectra[i,:] = spectrum(mc[i,:])\n",
    "    mc_spectrum = {}\n",
    "    mc_spectrum['median'] = np.median(mc_spectra, axis=0)\n",
    "    mc_spectrum['freq'] = freq\n",
    "    for p in [1,2.5,5,95,97.5,99]:\n",
    "        mc_spectrum[str(p)] = np.percentile(mc_spectra, p, axis=0)\n",
    "    return mc_spectrum"
   ]
  },
  {
   "cell_type": "markdown",
   "metadata": {},
   "source": [
    "## testing AR(1) spectral density estimates: theoretical vs. Monte-Carlo"
   ]
  },
  {
   "cell_type": "code",
   "execution_count": null,
   "metadata": {},
   "outputs": [],
   "source": [
    "# long AR(1) processes and their MC spectra\n",
    "f, ax = plt.subplots(3,1, figsize=(8,12))\n",
    "for i, std in enumerate([.1, .5, .9]):\n",
    "    n, phi = 10000, 0.5\n",
    "    x = ArmaProcess(np.array([1, -phi]), np.array([1])).generate_sample(nsample=n, scale=std, burnin=1000)\n",
    "\n",
    "    f, Pxx = mtspectrum(x)\n",
    "    ax[i].plot(f, Pxx, alpha=.5)\n",
    "    Pxx_th = AR2_spectrum(sz=std, a1=ac, a2=0, omega=f)\n",
    "    ax[i].plot(f[1:], Pxx_th[1:], c='C3')\n",
    "\n",
    "    mc_ = mc_ar1_spectrum(std=std, phi=phi, n=n, spectrum=mtspectrum)\n",
    "    ax[i].plot(mc_[1,1:], mc_[0,1:], c='C1')\n",
    "    ax[i].plot(mc_[1,1:], mc_[2,1:], c='C1')\n",
    "    ax[i].plot(mc_[1,1:], mc_[3,1:], c='C1')\n",
    "\n",
    "    AM = ARMA(endog=x, order=(1,0)).fit()\n",
    "    ac, std = AM.arparams[0], np.sqrt(AM.sigma2)\n",
    "    mc = mc_ar1_spectrum(std=std, phi=ac, n=len(x), spectrum=mtspectrum)\n",
    "    ax[i].plot(mc[1,1:], mc[0,1:], c='C2', ls=':' , alpha=.8)\n",
    "    ax[i].plot(mc[1,1:], mc[2,1:], c='C2', ls='--', alpha=.8)\n",
    "    ax[i].plot(mc[1,1:], mc[3,1:], c='C2', ls='--', alpha=.8)\n",
    "    ax[i].plot(mc[1,1:], mc[4,1:], c='C2', ls='--', alpha=.8)\n",
    "    ax[i].plot(mc[1,1:], mc[5,1:], c='C2', ls='--', alpha=.8)\n",
    "\n",
    "    ax[i].plot(f[1:], AR2_spectrum(sz=std, a1=ac, a2=0, omega=f)[1:], c='C3')\n",
    "\n",
    "    ax[i].set_yscale('log', basey=10)\n",
    "\n",
    "    print(f'{np.var(x):7.3f}, {np.sum((f[1]-f[0])*Pxx):7.3f}, {np.sum((f[1]-f[0])*Pxx_th):7.3f}, {np.sum((mc_[1,1]-mc_[1,0])*mc_[0,:]):7.3f}, {np.sum((mc[1,1]-mc[1,0])*mc[0,:]):7.3f}')"
   ]
  },
  {
   "cell_type": "code",
   "execution_count": null,
   "metadata": {},
   "outputs": [],
   "source": [
    "# Yule Walker\n",
    "n, phi, std = 1000, 0.5, .1\n",
    "print(f'{phi:7.3f}, {std:7.3f}')\n",
    "x = ArmaProcess(np.array([1, -phi]), np.array([1])).generate_sample(nsample=n, scale=std, burnin=1000)\n",
    "print(f'{np.corrcoef(x[:-1], x[1:])[1,0]:7.3f}, {std:7.3f}')\n",
    "# max likelihood estimation of parameters\n",
    "AM = ARMA(endog=x, order=(1,0)).fit()\n",
    "print(f'{AM.arparams[0]:7.3f}, {np.sqrt(AM.sigma2):7.3f}')\n"
   ]
  },
  {
   "cell_type": "code",
   "execution_count": null,
   "metadata": {},
   "outputs": [],
   "source": [
    "fig, ax = plt.subplots(2,3,figsize=(12,6),constrained_layout=True, sharey='row')\n",
    "for i, idx in enumerate(['AMO', 'TPI', 'SOM']):\n",
    "    for j, run in enumerate(['had', 'ctrl', 'lpd']):\n",
    "        c = f'C{i}'\n",
    "        key = f'{idx}_{run}'\n",
    "        AM = tsa.arima_model.ARMA(endog=ds[key].dropna(dim='time').values, order=(1,0)).fit()\n",
    "        ac, std = AM.arparams[0], np.sqrt(AM.sigma2)\n",
    "#         std = ds[key].std().values\n",
    "#         ac = np.corrcoef(ds[key].dropna(dim='time').values[1:], ds[key].dropna(dim='time').shift(time=1).dropna(dim='time').values)[1,0]\n",
    "        ax[0,j].plot(ds.time, ds[key]+i, label=fr'{idx} $\\sigma=${std:.2f}', c=c)\n",
    "        \n",
    "        f, Pxx = mtspectrum(ds[key].dropna(dim='time').values)\n",
    "        ax[1,j].plot(f[1:], Pxx[1:]*10**(2*i), c=c, alpha=.5, label=fr'{idx} $\\rho_1$={ac:.3f}')\n",
    "        ax[1,j].plot(f[1:], AR2_spectrum(sz=std, a1=ac, a2=0, omega=f)[1:]*10**(2*i), c=c)\n",
    "        \n",
    "        mc = mc_ar1_spectrum(std=std, phi=ac, n=len(ds[key].dropna(dim='time')), spectrum=mtspectrum)\n",
    "        ax[1,j].plot(mc[1,1:], mc[0,1:]*10**(2*i), c=c, ls='-')\n",
    "        ax[1,j].plot(mc[1,1:], mc[2,1:]*10**(2*i), c=c, ls='--')\n",
    "        ax[1,j].plot(mc[1,1:], mc[3,1:]*10**(2*i), c=c, ls='--')\n",
    "        ax[1,j].plot(mc[1,1:], mc[4,1:]*10**(2*i), c=c, ls=':')\n",
    "        ax[1,j].plot(mc[1,1:], mc[5,1:]*10**(2*i), c=c, ls=':')\n",
    "        \n",
    "\n",
    "for i in range(3):\n",
    "    ax[0,i].set_title(['HIST', 'HIGH', 'LOW'][i])\n",
    "    ax[0,i].legend(fontsize=10)\n",
    "    ax[1,i].legend(fontsize=10)\n",
    "#     for j in range(3):\n",
    "    ax[1,i].set_xlim((3e-4, 6e-1))\n",
    "    ax[1,i].set_xscale('log', basex=10)\n",
    "    ax[1,i].set_yscale('log', basey=10)\n",
    "\n",
    "for i in range(2):  ax[i,0].set_ylabel(['time series', 'Multi-taper'][i])"
   ]
  },
  {
   "cell_type": "code",
   "execution_count": null,
   "metadata": {},
   "outputs": [],
   "source": [
    "ac = .9\n",
    "print(f'X_t       {0/(1-ac):6.3f}      {1/(1-ac**2):7.4f}')\n",
    "for n in [10,100,1000,10000,100000,1000000]:\n",
    "    a = ArmaProcess(np.array([1, -ac]), np.array([1])).generate_sample(nsample=n, burnin=1000)\n",
    "    \n",
    "    print(f'{n:7d}:  {np.mean(a):6.3f}      {np.var(a):7.4f}')\n",
    "    "
   ]
  },
  {
   "cell_type": "code",
   "execution_count": null,
   "metadata": {},
   "outputs": [],
   "source": []
  },
  {
   "cell_type": "markdown",
   "metadata": {},
   "source": [
    "## testing $\\int \\hat{S}(f) \\, \\mathrm{d}f = \\mathrm{var}(x(t))$"
   ]
  },
  {
   "cell_type": "code",
   "execution_count": null,
   "metadata": {},
   "outputs": [],
   "source": [
    "def int_Sf(f, Pxx):\n",
    "    df = f[1]-f[0]\n",
    "    return np.sum(df*Pxx)\n",
    "\n",
    "print('\\033[1midx run   var.  perio Welch MTM   theor  MCper MCmtm    \\033[0m')\n",
    "for i, idx in enumerate(['AMO', 'TPI', 'SOM']):\n",
    "    for j, run in enumerate(['had', 'ctrl', 'lpd']):\n",
    "        c = f'C{i}'\n",
    "        key = f'{idx}_{run}'\n",
    "#         ac = np.corrcoef(ds[key].dropna(dim='time').values[1:], ds[key].dropna(dim='time').shift(time=1).dropna(dim='time').values)[1,0]\n",
    "        x = ds[key].dropna(dim='time')\n",
    "        var = ds[key].var().values\n",
    "        AM = tsa.arima_model.ARMA(endog=ds[key].dropna(dim='time').values, order=(1,0)).fit()\n",
    "        ac, std = AM.arparams[0], np.sqrt(AM.sigma2)\n",
    "        f = np.linspace(0,.5,len(x))\n",
    "        p = int_Sf(*periodogram(x))\n",
    "        w = int_Sf(*Welch(x))\n",
    "        m = int_Sf(*mtspectrum(x))\n",
    "        t = int_Sf(f, AR2_spectrum(sz=std, a1=ac, a2=0, omega=f))\n",
    "        c = int_Sf(f, mc_ar1_spectrum(x.values, spectrum=periodogram)['median'])\n",
    "        d = int_Sf(f, mc_ar1_spectrum(x.values, spectrum=mtspectrum)['median'])\n",
    "        print(f'{idx} {run:4} {var:.3f}  {p:.3f} {w:.3f} {m:.3f} {t:.3f}  {c:.3f} {d:.3f}    {var/c:7.3f} {var/d:7.3f}    {c/var:7.3f} {d/var:7.3f}')\n",
    "    print()"
   ]
  },
  {
   "cell_type": "markdown",
   "metadata": {},
   "source": [
    "- the equality holds for the periodogram, the Welch method (with some small error), and the multi-taper method\n",
    "- theoretical and Monte-Carlo median spectra do not work correctly though!"
   ]
  },
  {
   "cell_type": "code",
   "execution_count": null,
   "metadata": {},
   "outputs": [],
   "source": [
    "# theoretical vs. Monte-Carlo\n",
    "n = 1000\n",
    "f = np.linspace(0,.5,n)\n",
    "df = f[1]-f[0]\n",
    "fig, ax = plt.subplots(3,3, figsize=(8,5), sharey=True, sharex=True, constrained_layout=True)\n",
    "for i, std in enumerate([0.1,.5,1]):\n",
    "    for j, ac in enumerate([.1,.5,.9]):\n",
    "        ax[i,j].plot([0,0],[0,1], c='w', label=fr'var$(X_t) = {std**2/(1-ac**2):.4f}$')\n",
    "\n",
    "        spec = AR2_spectrum(sz=std, a1=ac, a2=0, omega=f)\n",
    "        ax[i,j].plot(f, spec, label=fr'theor. $\\int S = {np.sum(df*spec):.4f}$')\n",
    "        \n",
    "        mc_spec = mc_ar1_spectrum(phi=ac, std=std, n=n, spectrum=periodogram)\n",
    "        ax[i,j].plot(mc_spec[1,:], mc_spec[0,:], c='C1', label=fr'median  $\\int S = {np.sum(df*mc_spec[0,:]):.4f}$')\n",
    "        ax[i,j].plot(mc_spec[1,:], mc_spec[2,:], c='C1', ls='--')  # 5%\n",
    "        ax[i,j].plot(mc_spec[1,:], mc_spec[3,:], c='C1', ls='--')  # 95%\n",
    "        \n",
    "        \n",
    "        ax[i,j].set_xscale('log', basex=10)\n",
    "        ax[i,j].set_yscale('log', basey=10)\n",
    "        ax[i,j].set_ylim((1e-4, 1e3))\n",
    "        \n",
    "        if i==0:  ax[i,j].set_title(fr'$\\rho_1=${ac}', fontsize=16)\n",
    "        if j==0:  ax[i,j].set_ylabel(fr'$\\sigma=${std}', fontsize=16)\n",
    "        ax[i,j].legend(fontsize=8)"
   ]
  },
  {
   "cell_type": "code",
   "execution_count": null,
   "metadata": {},
   "outputs": [],
   "source": []
  },
  {
   "cell_type": "code",
   "execution_count": null,
   "metadata": {},
   "outputs": [],
   "source": []
  },
  {
   "cell_type": "code",
   "execution_count": null,
   "metadata": {},
   "outputs": [],
   "source": []
  },
  {
   "cell_type": "code",
   "execution_count": null,
   "metadata": {},
   "outputs": [],
   "source": []
  },
  {
   "cell_type": "code",
   "execution_count": null,
   "metadata": {},
   "outputs": [],
   "source": [
    "A = xr.DataArray(data=np.sin(np.arange(1000)) + .4*np.random.rand((1000)), dims='time', coords={'time':np.arange(1000)})"
   ]
  },
  {
   "cell_type": "code",
   "execution_count": null,
   "metadata": {},
   "outputs": [],
   "source": [
    "plt.plot(A)"
   ]
  },
  {
   "cell_type": "code",
   "execution_count": null,
   "metadata": {},
   "outputs": [],
   "source": [
    "from bb_analysis_timeseries import AnalyzeTimeSeries as ATS"
   ]
  },
  {
   "cell_type": "code",
   "execution_count": null,
   "metadata": {},
   "outputs": [],
   "source": [
    "(spec, freq, jackknife) = ATS(A).spectrum()"
   ]
  },
  {
   "cell_type": "code",
   "execution_count": null,
   "metadata": {},
   "outputs": [],
   "source": [
    "print(f'{freq[1]:e}')"
   ]
  },
  {
   "cell_type": "code",
   "execution_count": null,
   "metadata": {},
   "outputs": [],
   "source": [
    "spec"
   ]
  },
  {
   "cell_type": "code",
   "execution_count": null,
   "metadata": {},
   "outputs": [],
   "source": [
    "plt.scatter(freq, spec)\n",
    "plt.axvline(1/2/np.pi)\n",
    "# plt.loglog()"
   ]
  },
  {
   "cell_type": "code",
   "execution_count": null,
   "metadata": {},
   "outputs": [],
   "source": [
    "from mtspec import mtspec\n",
    "from mtspec.util import _load_mtdata\n",
    "\n",
    "data = _load_mtdata('v22_174_series.dat.gz')\n",
    "\n",
    "# Calculate the spectral estimation.\n",
    "spec, freq, jackknife, _, _ = mtspec(\n",
    "    data=data, delta=4930.0, time_bandwidth=3.5,\n",
    "    number_of_tapers=5, nfft=312, statistics=True)\n",
    "\n",
    "fig = plt.figure()\n",
    "ax1 = fig.add_subplot(2, 1, 1)\n",
    "# Plot in thousands of years.\n",
    "ax1.plot(np.arange(len(data)) * 4.930, data, color='black')\n",
    "ax1.set_xlim(0, 800)\n",
    "ax1.set_ylim(-1.0, 1.0)\n",
    "ax1.set_xlabel(\"Time [1000 years]\")\n",
    "ax1.set_ylabel(\"Change in $\\delta^{18}O$\")\n",
    "\n",
    "ax2 = fig.add_subplot(2, 1, 2)\n",
    "ax2.set_yscale('log')\n",
    "# Convert frequency to Ma.\n",
    "freq *= 1E6\n",
    "ax2.plot(freq, spec, color='black')\n",
    "ax2.fill_between(freq, jackknife[:, 0], jackknife[:, 1],\n",
    "                 color=\"red\", alpha=0.3)\n",
    "ax2.set_xlim(freq[0], freq[-1])\n",
    "ax2.set_ylim(0.1E1, 1E5)\n",
    "ax2.set_xlabel(\"Frequency [c Ma$^{-1}]$\")\n",
    "ax2.set_ylabel(\"Power Spectral Density ($\\delta^{18}O/ca^{-1}$)\")\n",
    "\n",
    "plt.tight_layout()\n"
   ]
  },
  {
   "cell_type": "code",
   "execution_count": null,
   "metadata": {},
   "outputs": [],
   "source": [
    "len(data)"
   ]
  },
  {
   "cell_type": "code",
   "execution_count": null,
   "metadata": {},
   "outputs": [],
   "source": [
    "len(spec)"
   ]
  },
  {
   "cell_type": "code",
   "execution_count": null,
   "metadata": {},
   "outputs": [],
   "source": []
  },
  {
   "cell_type": "code",
   "execution_count": null,
   "metadata": {},
   "outputs": [],
   "source": [
    "from paths import path_samoc"
   ]
  },
  {
   "cell_type": "code",
   "execution_count": null,
   "metadata": {},
   "outputs": [],
   "source": [
    "AMO_ctrl = xr.open_dataarray(f'{path_samoc}/SST/AMO_ctrl.nc', decode_times=False)\n",
    "AMO_rcp  = xr.open_dataarray(f'{path_samoc}/SST/AMO_rcp.nc' , decode_times=False)\n",
    "AMO_lpi  = xr.open_dataarray(f'{path_samoc}/SST/AMO_lpi.nc' , decode_times=False)\n",
    "AMO_lpd  = xr.open_dataarray(f'{path_samoc}/SST/AMO_lpd.nc' , decode_times=False)\n",
    "AMO_had  = xr.open_dataarray(f'{path_samoc}/SST/AMO_had.nc' , decode_times=False)\n",
    "AMOs = [AMO_ctrl, AMO_rcp, AMO_lpi, AMO_lpd, AMO_had]"
   ]
  },
  {
   "cell_type": "code",
   "execution_count": null,
   "metadata": {},
   "outputs": [],
   "source": [
    "spec, freq, jackknife, _, _ = mtspec(\n",
    "    data=AMO_ctrl.values, delta=1., time_bandwidth=2,\n",
    "    number_of_tapers=8, statistics=True)\n",
    "print(spec)\n",
    "print(freq)"
   ]
  },
  {
   "cell_type": "code",
   "execution_count": null,
   "metadata": {},
   "outputs": [],
   "source": [
    "# Calculate the spectral estimation.\n",
    "spec, freq, jackknife, _, _ = mtspec(\n",
    "    data=AMO_ctrl.values, delta=1., time_bandwidth=3.5,\n",
    "    number_of_tapers=5, statistics=True)\n",
    "\n",
    "fig = plt.figure()\n",
    "ax1 = fig.add_subplot(2, 1, 1)\n",
    "# Plot in thousands of years.\n",
    "ax1.plot(np.arange(len(AMO_ctrl.values)), AMO_ctrl.values, color='black')\n",
    "\n",
    "ax1.set_xlabel(\"Time [1000 years]\")\n",
    "ax1.set_ylabel(\"Change in $\\delta^{18}O$\")\n",
    "\n",
    "ax2 = fig.add_subplot(2, 1, 2)\n",
    "ax2.set_yscale('log')\n",
    "# Convert frequency to Ma.\n",
    "freq *= 1E6\n",
    "ax2.plot(freq, spec, color='black')\n",
    "ax2.fill_between(freq, jackknife[:, 0], jackknife[:, 1],\n",
    "                 color=\"red\", alpha=0.3)\n",
    "ax2.set_xlim(freq[0], freq[-1])\n",
    "ax2.set_xlabel(\"Frequency [c Ma$^{-1}]$\")\n",
    "ax2.set_ylabel(\"Power Spectral Density ($\\delta^{18}O/ca^{-1}$)\")\n",
    "\n",
    "plt.tight_layout()\n"
   ]
  },
  {
   "cell_type": "code",
   "execution_count": null,
   "metadata": {},
   "outputs": [],
   "source": [
    "# Calculate the spectral estimation.\n",
    "fig, ax = plt.subplots(1, 1, figsize=(8,5))\n",
    "ax.tick_params(labelsize=14)\n",
    "for i in range(5):\n",
    "    run = ['ctrl', 'rcp', 'lpd', 'lpi', 'had'][i]\n",
    "    spec, freq, jackknife, _, _ = mtspec(\n",
    "        data=AMOs[i].values, delta=1., time_bandwidth=4,\n",
    "        number_of_tapers=5, statistics=True)\n",
    "\n",
    "    ax.set_yscale('log')\n",
    "    ax.set_xscale('log')\n",
    "\n",
    "    ax.plot(1/freq, spec, color=f'C{i}', label=run.upper())\n",
    "    ax.fill_between(1/freq, jackknife[:, 0], jackknife[:, 1], color=f'C{i}', alpha=0.1)\n",
    "\n",
    "ax.legend(fontsize=14, loc=4, frameon=False)\n",
    "ax.set_ylim((1E-6, 1E1))\n",
    "ax.set_xlim((5, 2e3))\n",
    "ax.set_xlabel('Period [yr]', fontsize=14)\n",
    "ax.set_ylabel('Power Spectral Density', fontsize=14)\n",
    "\n",
    "plt.tight_layout()\n"
   ]
  },
  {
   "cell_type": "code",
   "execution_count": null,
   "metadata": {},
   "outputs": [],
   "source": [
    "np.shape(jackknife)"
   ]
  },
  {
   "cell_type": "code",
   "execution_count": null,
   "metadata": {},
   "outputs": [],
   "source": [
    "(AMO_ctrl.time-31)/365"
   ]
  },
  {
   "cell_type": "code",
   "execution_count": null,
   "metadata": {},
   "outputs": [],
   "source": [
    "((AMO_ctrl.shift(shifts={'time':1})-AMO_ctrl).time-31)/365"
   ]
  },
  {
   "cell_type": "code",
   "execution_count": null,
   "metadata": {},
   "outputs": [],
   "source": [
    "type(AMO_ctrl)"
   ]
  },
  {
   "cell_type": "code",
   "execution_count": null,
   "metadata": {},
   "outputs": [],
   "source": [
    "from pandas.tools.plotting import autocorrelation_plot"
   ]
  },
  {
   "cell_type": "code",
   "execution_count": null,
   "metadata": {},
   "outputs": [],
   "source": [
    "autocorrelation_plot(AMO_ctrl)\n",
    "autocorrelation_plot(AMO_ctrl)"
   ]
  },
  {
   "cell_type": "code",
   "execution_count": null,
   "metadata": {},
   "outputs": [],
   "source": [
    "from statsmodels.tsa.ar_model import AR"
   ]
  },
  {
   "cell_type": "code",
   "execution_count": null,
   "metadata": {},
   "outputs": [],
   "source": [
    "import xarray as xr\n"
   ]
  },
  {
   "cell_type": "code",
   "execution_count": null,
   "metadata": {},
   "outputs": [],
   "source": [
    "ds = xr.open_dataset(f'{path_samoc}/SST/AMO_regr_had.nc')"
   ]
  },
  {
   "cell_type": "code",
   "execution_count": null,
   "metadata": {},
   "outputs": [],
   "source": [
    "ds.slope.plot(vmax=.1)"
   ]
  },
  {
   "cell_type": "code",
   "execution_count": null,
   "metadata": {},
   "outputs": [],
   "source": [
    "ds.pval.where(ds.pval<0.001).plot()\n",
    "ds.pval.where(ds.pval>.999).plot()"
   ]
  },
  {
   "cell_type": "code",
   "execution_count": null,
   "metadata": {},
   "outputs": [],
   "source": []
  }
 ],
 "metadata": {
  "kernelspec": {
   "display_name": "Python 3",
   "language": "python",
   "name": "python3"
  },
  "language_info": {
   "codemirror_mode": {
    "name": "ipython",
    "version": 3
   },
   "file_extension": ".py",
   "mimetype": "text/x-python",
   "name": "python",
   "nbconvert_exporter": "python",
   "pygments_lexer": "ipython3",
   "version": "3.6.7"
  }
 },
 "nbformat": 4,
 "nbformat_minor": 4
}
