{
 "cells": [
  {
   "cell_type": "markdown",
   "metadata": {},
   "source": [
    "# CESM 1.12 and 1.04 OHC"
   ]
  },
  {
   "cell_type": "code",
   "execution_count": null,
   "metadata": {},
   "outputs": [],
   "source": [
    "import os\n",
    "import sys\n",
    "import string\n",
    "import cmocean\n",
    "import xesmf as xe\n",
    "import numpy as np\n",
    "import xarray as xr\n",
    "import matplotlib\n",
    "import cartopy.crs as ccrs\n",
    "import scipy.stats as stats\n",
    "import matplotlib.pyplot as plt"
   ]
  },
  {
   "cell_type": "code",
   "execution_count": null,
   "metadata": {},
   "outputs": [],
   "source": [
    "sys.path.append(\"..\")\n",
    "%matplotlib inline\n",
    "matplotlib.rc_file('../rc_file')\n",
    "# matplotlib.rc_file('../rc_file')\n",
    "%config InlineBackend.print_figure_kwargs={'bbox_inches':None}\n",
    "%load_ext autoreload\n",
    "%autoreload 2\n",
    "%aimport - numpy - scipy - matplotlib.pyplot"
   ]
  },
  {
   "cell_type": "code",
   "execution_count": null,
   "metadata": {
    "tags": []
   },
   "outputs": [],
   "source": [
    "from tqdm import notebook\n",
    "from paths import path_results, path_data, path_prace, path_lc1, path_lpd\n",
    "from paths import CESM_filename, file_ex_ocn_lc1, file_ex_ocn_ctrl\n",
    "from filters import lowpass, highpass, bandpass\n",
    "from regions import boolean_mask\n",
    "from constants import spy\n",
    "from OHC_plots import plot_global_integrals, plot_global_integrals_diff, plot_global_integrals_detr\n",
    "from xr_regression import xr_quadtrend, ocn_field_regression, xr_linear_trend\n",
    "from ac_derivation_OHC import DeriveOHC as DO\n",
    "from ab_derivation_SST import DeriveSST as DS\n",
    "from bb_analysis_timeseries import AnalyzeTimeSeries as ATS"
   ]
  },
  {
   "cell_type": "code",
   "execution_count": null,
   "metadata": {
    "tags": []
   },
   "outputs": [],
   "source": [
    "# %%time\n",
    "# DO().generate_OHC_files(run='hq', year=2040, pwqd=False)\n",
    "# DO().combine_yrly_OHC_integral_files(run='hq')"
   ]
  },
  {
   "cell_type": "code",
   "execution_count": null,
   "metadata": {},
   "outputs": [],
   "source": [
    "OHC_ctrl = xr.open_dataset(f'{path_prace}/OHC/OHC_integrals_ctrl.nc', decode_times=False)\n",
    "OHC_rcp  = xr.open_dataset(f'{path_prace}/OHC/OHC_integrals_rcp.nc' , decode_times=False)\n",
    "OHC_lpd  = xr.open_dataset(f'{path_prace}/OHC/OHC_integrals_lpd.nc' , decode_times=False)\n",
    "OHC_lc1  = xr.open_dataset(f'{path_prace}/OHC/OHC_integrals_lc1.nc' , decode_times=False)\n",
    "OHC_lr1  = xr.open_dataset(f'{path_prace}/OHC/OHC_integrals_lr1.nc' , decode_times=False)\n",
    "OHC_hq   = xr.open_dataset(f'{path_prace}/OHC/OHC_integrals_hq.nc'  , decode_times=False).isel(time=np.delete(np.arange(0,50), 39))\n",
    "OHC_lq   = xr.open_dataset(f'{path_prace}/OHC/OHC_integrals_lq.nc'  , decode_times=False)"
   ]
  },
  {
   "cell_type": "code",
   "execution_count": null,
   "metadata": {},
   "outputs": [],
   "source": [
    "da_2400x3600 = OHC_hq.OHC_vertical_0_100m.isel(time=0).rename({'TLAT':'lat','TLONG':'lon'})\n",
    "da_320x384 = OHC_lq.OHC_vertical_0_100m.isel(time=0).rename({'TLAT':'lat','TLONG':'lon'})\n",
    "regridder = xe.Regridder(da_2400x3600, da_320x384, 'bilinear', periodic=True, reuse_weights=True)"
   ]
  },
  {
   "cell_type": "code",
   "execution_count": null,
   "metadata": {},
   "outputs": [],
   "source": [
    "dsh = xr.open_dataset(file_ex_ocn_ctrl, decode_times=False)\n",
    "dsl = xr.open_dataset(file_ex_ocn_lc1, decode_times=False)"
   ]
  },
  {
   "cell_type": "markdown",
   "metadata": {},
   "source": [
    "## 1. $\\Delta$OHC timeseries"
   ]
  },
  {
   "cell_type": "code",
   "execution_count": null,
   "metadata": {},
   "outputs": [],
   "source": [
    "plt.scatter(np.arange(49), OHC_hq.time/365)"
   ]
  },
  {
   "cell_type": "code",
   "execution_count": null,
   "metadata": {},
   "outputs": [],
   "source": [
    "OHC_rcp.time[99]/365"
   ]
  },
  {
   "cell_type": "code",
   "execution_count": null,
   "metadata": {},
   "outputs": [],
   "source": [
    "OHC_lr1.time/365"
   ]
  },
  {
   "cell_type": "code",
   "execution_count": null,
   "metadata": {},
   "outputs": [],
   "source": [
    "1316-1065"
   ]
  },
  {
   "cell_type": "code",
   "execution_count": null,
   "metadata": {},
   "outputs": [],
   "source": [
    "plt.plot(range(len(OHC_lpd.time)), OHC_lpd.time)\n",
    "plt.xlim((1060,1080))"
   ]
  },
  {
   "cell_type": "code",
   "execution_count": null,
   "metadata": {},
   "outputs": [],
   "source": [
    "plt.plot(OHC_ctrl.time/365     , OHC_ctrl.OHC_Global_Ocean)\n",
    "plt.plot(OHC_rcp .time/365-1800, OHC_rcp .OHC_Global_Ocean)\n",
    "plt.plot(OHC_lpd .time[:-250]/365, OHC_lpd.OHC_Global_Ocean[:-250])\n",
    "plt.plot(OHC_lc1 .time/365+1000, OHC_lc1 .OHC_Global_Ocean)\n",
    "plt.plot(OHC_lr1 .time/365-1500, OHC_lr1 .OHC_Global_Ocean)\n",
    "plt.plot(OHC_hq  .time/365-1800, OHC_hq  .OHC_Global_Ocean)\n",
    "plt.plot(OHC_lq  .time/365- 800, OHC_lq  .OHC_Global_Ocean)\n",
    "plt.ylim((1.9e25,3.1e25))"
   ]
  },
  {
   "cell_type": "code",
   "execution_count": null,
   "metadata": {},
   "outputs": [],
   "source": [
    "f, ax = plt.subplots(1,2, figsize=(6.4,3), sharey=True, gridspec_kw={'width_ratios':[105,55]})\n",
    "L1, = ax[0].plot([0,1],[0,1], ls='-' , c='grey', label='HR-CESM')\n",
    "L2, = ax[0].plot([0,1],[0,1], ls='--', c='grey', label='LR-CESM')\n",
    "l1, = ax[0].plot(OHC_rcp .time/365, (OHC_rcp.OHC_Global_Ocean-OHC_rcp  .OHC_Global_Ocean  [0])/2e24, c='k' , ls='-', label=r'Global $\\times 1/2$')\n",
    "l2, = ax[0].plot(OHC_rcp .time/365, (OHC_rcp.OHC_Atlantic_Ocean-OHC_rcp.OHC_Atlantic_Ocean[0])/1e24, c='C0', ls='-', label='Atlantic')\n",
    "l3, = ax[0].plot(OHC_rcp .time/365, (OHC_rcp.OHC_Pacific_Ocean-OHC_rcp .OHC_Pacific_Ocean [0])/1e24, c='C1', ls='-', label='Pacific')\n",
    "l4, = ax[0].plot(OHC_rcp .time/365, (OHC_rcp.OHC_Southern_Ocean-OHC_rcp.OHC_Southern_Ocean[0])/1e24, c='C3', ls='-', label='Southern')\n",
    "ax[0].plot(OHC_lr1 .time/365, (OHC_lr1.OHC_Global_Ocean-OHC_lr1  .OHC_Global_Ocean  [0])/2e24, c='k' , ls='--')\n",
    "ax[0].plot(OHC_lr1 .time/365, (OHC_lr1.OHC_Atlantic_Ocean-OHC_lr1.OHC_Atlantic_Ocean[0])/1e24, c='C0', ls='--')\n",
    "ax[0].plot(OHC_lr1 .time/365, (OHC_lr1.OHC_Pacific_Ocean-OHC_lr1 .OHC_Pacific_Ocean [0])/1e24, c='C1', ls='--')\n",
    "ax[0].plot(OHC_lr1 .time/365, (OHC_lr1.OHC_Southern_Ocean-OHC_lr1.OHC_Southern_Ocean[0])/1e24, c='C3', ls='--')\n",
    "\n",
    "ax[1].plot(OHC_hq .time/365, (OHC_hq.OHC_Global_Ocean-OHC_hq  .OHC_Global_Ocean  [0])/2e24, c='k' , ls='-')\n",
    "ax[1].plot(OHC_hq .time/365, (OHC_hq.OHC_Atlantic_Ocean-OHC_hq.OHC_Atlantic_Ocean[0])/1e24, c='C0', ls='-')\n",
    "ax[1].plot(OHC_hq .time/365, (OHC_hq.OHC_Pacific_Ocean-OHC_hq .OHC_Pacific_Ocean [0])/1e24, c='C1', ls='-')\n",
    "ax[1].plot(OHC_hq .time/365, (OHC_hq.OHC_Southern_Ocean-OHC_hq.OHC_Southern_Ocean[0])/1e24, c='C3', ls='-')\n",
    "ax[1].plot(OHC_lq .time/365, (OHC_lq.OHC_Global_Ocean-OHC_lq  .OHC_Global_Ocean  [0])/2e24, c='k' , ls='--')\n",
    "ax[1].plot(OHC_lq .time/365, (OHC_lq.OHC_Atlantic_Ocean-OHC_lq.OHC_Atlantic_Ocean[0])/1e24, c='C0', ls='--')\n",
    "ax[1].plot(OHC_lq .time/365, (OHC_lq.OHC_Pacific_Ocean-OHC_lq .OHC_Pacific_Ocean [0])/1e24, c='C1', ls='--')\n",
    "ax[1].plot(OHC_lq .time/365, (OHC_lq.OHC_Southern_Ocean-OHC_lq.OHC_Southern_Ocean[0])/1e24, c='C3', ls='--')\n",
    "\n",
    "leg1 = ax[0].legend(handles=[l1,l2,l3,l4], loc='upper center', fontsize=8)\n",
    "ax[0].legend(handles=[L1,L2], loc='upper right', fontsize=8)\n",
    "# ax[0].legend(handles=[l1,l2,l3,l4,L1,L2], loc='upper right', fontsize=8, ncol=3)\n",
    "ax[0].add_artist(leg1)\n",
    "ax[0].set_title('RCP')\n",
    "ax[1].set_title(r'4$\\times$CO$_2$')\n",
    "ax[0].text(0.01, .93, '(a)', transform=ax[0].transAxes)\n",
    "ax[1].text(0.02, .93, '(b)', transform=ax[1].transAxes)\n",
    "ax[0].set_xticks(np.arange(2000,2101,25))\n",
    "ax[1].set_xticks(np.arange(2000,2051,25))\n",
    "ax[0].set_xlim((1997.5,2102.5))\n",
    "ax[1].set_xlim((1997.5,2052.5))\n",
    "for i in range(2):\n",
    "    ax[i].set_xlabel('time [model years]')\n",
    "ax[0].set_ylabel('OHC anomaly [YJ]')\n",
    "ax[1].set_ylim((-.05,1.3))\n",
    "plt.tight_layout()\n",
    "# plt.savefig(f'{path_results}/ECS/OHC_basin_RCP_4xCO2')\n",
    "\n",
    "plt.savefig(f'{path_results}/thesis/63_OHC_basins')\n",
    "plt.savefig(f'{path_results}/thesis/63_OHC_basins.eps')"
   ]
  },
  {
   "cell_type": "markdown",
   "metadata": {},
   "source": [
    "### > add heat flux time series through 100 m, 700 m, and 2000 m."
   ]
  },
  {
   "cell_type": "markdown",
   "metadata": {},
   "source": [
    "integrated heat flux map"
   ]
  },
  {
   "cell_type": "markdown",
   "metadata": {},
   "source": [
    "## 2. $\\Delta$OHC with depth"
   ]
  },
  {
   "cell_type": "code",
   "execution_count": null,
   "metadata": {},
   "outputs": [],
   "source": [
    "f, axs = plt.subplots(1,2, sharey=True, figsize=(6.4,3))\n",
    "for i, OHC in enumerate([OHC_rcp, OHC_hq, OHC_lr1, OHC_lq]):\n",
    "    dz = [dsh.dz,dsl.dz][int(i/2)]/1e2  # [m]\n",
    "    if i<2:\n",
    "        axs[i].axvline(0, c='k', lw=.5)\n",
    "        axs[i].axhline(-100, c='k', lw=.5)\n",
    "        axs[i].axhline(-700, c='k', lw=.5)\n",
    "        axs[i].set_title(['RCP',r'4$\\times$CO$_2$'][i])\n",
    "        axs[i].plot([],[],c='grey',ls='-', label='HR-CESM')\n",
    "        axs[i].plot([],[],c='grey',ls='--',label='LR-CESM')\n",
    "        axs[i].set_xlabel('$\\Delta$OHC [ZJ/m]')\n",
    "    k = i%2\n",
    "    k_ = int(i/2)+1\n",
    "    print(k)\n",
    "#     ax = axs[k_-1]\n",
    "    ax = axs[k]\n",
    "    ls = ['-','-','--','--'][i]\n",
    "    t = [-1,-1,-2,50][i]\n",
    "    for j, ocean in enumerate(['Global', 'Atlantic', 'Pacific', 'Southern']):\n",
    "        f = [.5,1,1,1][j]\n",
    "        c = ['k','C0','C1','C3'][j]\n",
    "        dOHC = f*(OHC[f'OHC_levels_{ocean}_Ocean'].isel(time=t) -\\\n",
    "                  OHC[f'OHC_levels_{ocean}_Ocean'].isel(time=0))/1e21# * dz\n",
    "        if j==0:  label = r'Global $\\times 1/2$'\n",
    "        else:     label = ocean\n",
    "        ax.plot(dOHC, -OHC.z_t/1e2, c=c, ls=ls, lw=1, label=label)\n",
    "#         ax.plot(f*(OHC[f'OHC_levels_{ocean}_Ocean'].isel(time=slice(15*k_,20*k_)).mean('time')/dz-OHC[f'OHC_levels_{ocean}_Ocean'].isel(time=0)/dz), -OHC.z_t/1e2, c=c, ls=ls, lw=.5)\n",
    "    print((OHC[f'OHC_levels_Global_Ocean'].isel(time=slice(45*k_,50*k_)).mean('time')-OHC[f'OHC_levels_Global_Ocean'].isel(time=0)).sum().values)\n",
    "#     if i==0:\n",
    "#         ax.legend()\n",
    "axs[0].set_ylabel('Depth [m]')\n",
    "for i  in range(2):\n",
    "    axs[i].set_xlim((0,None))\n",
    "axs[0].text(0.01, .93, '(a)', transform=axs[0].transAxes)\n",
    "axs[1].text(0.02, .93, '(b)', transform=axs[1].transAxes)\n",
    "plt.ylim((-1000,0.01))\n",
    "plt.tight_layout()\n",
    "plt.savefig(f'{path_results}/thesis/63_OHC_depth.eps')"
   ]
  },
  {
   "cell_type": "markdown",
   "metadata": {},
   "source": [
    "## 3. $\\Delta$OHC maps"
   ]
  },
  {
   "cell_type": "code",
   "execution_count": null,
   "metadata": {},
   "outputs": [],
   "source": [
    "%%time\n",
    "OHC_ctrl_0_100m  = regridder(OHC_rcp.OHC_vertical_0_100m .isel(time=0))\n",
    "OHC_ctrl_0_700m  = regridder(OHC_rcp.OHC_vertical_0_700m .isel(time=0))\n",
    "OHC_ctrl_0_6000m = regridder(OHC_rcp.OHC_vertical_0_6000m.isel(time=0))\n",
    "\n",
    "OHC_lpd_0_100m   = OHC_lr1.OHC_vertical_0_100m .isel(time=0)\n",
    "OHC_lpd_0_700m   = OHC_lr1.OHC_vertical_0_700m .isel(time=0)\n",
    "OHC_lpd_0_6000m  = OHC_lr1.OHC_vertical_0_6000m.isel(time=0)\n",
    "\n",
    "OHC_lq_0_100m    = 1.5*OHC_lq.OHC_vertical_0_100m .isel(time=0)-0.5*OHC_lq.OHC_vertical_0_100m .isel(time=1)\n",
    "OHC_lq_0_700m    = 1.5*OHC_lq.OHC_vertical_0_700m .isel(time=0)-0.5*OHC_lq.OHC_vertical_0_700m .isel(time=1)\n",
    "OHC_lq_0_6000m   = 1.5*OHC_lq.OHC_vertical_0_6000m.isel(time=0)-0.5*OHC_lq.OHC_vertical_0_6000m.isel(time=1)"
   ]
  },
  {
   "cell_type": "code",
   "execution_count": null,
   "metadata": {},
   "outputs": [],
   "source": [
    "X, Y = OHC_lq.TLONG, OHC_lq.TLAT\n",
    "alphabet = 'abcdefghi'\n",
    "\n",
    "def map_array_geometry(m,n=3):\n",
    "    \"\"\" calculates the fraction of the \"\"\"\n",
    "    width = 8                 # fixed width for now, assuming 3 maps\n",
    "    height = .22+m*1.32+.6    # .22 for title, m rows of 1.32 maps, and colorbars\n",
    "    y1 = 1-(.22+1.32)/height  # base height of top-most row of maps\n",
    "    dy = 1.32/height          # height of maps\n",
    "    yc = .42/height           # position of colorbar\n",
    "    dc = .13/height           # height of horizontal colorbar\n",
    "    return width, height, y1, dy, yc, dc\n",
    "\n",
    "def comparison_maps(xa_list, kw1, kw2, label1=None, label2=None, fn=None):\n",
    "    \"\"\" makes 2x3 maps comparing HIGH/LOW RCP/4xCO2 runs\"\"\"\n",
    "    width, height, y1, dy, yc, dc = map_array_geometry(m=3)\n",
    "\n",
    "    f = plt.figure(figsize=(width,height))\n",
    "    for i, run in enumerate(['HR-CESM','LR-CESM',r'HR-CESM $-$ LR-CESM']):\n",
    "        for j, depth in enumerate([r'0-100 m  ($\\times 5$)', '100-700 m', 'below 700 m']):\n",
    "            xa = xa_list[j][i]\n",
    "            ax = f.add_axes([.025+i*.325,y1-j*dy,.32,dy], projection=ccrs.PlateCarree())\n",
    "            if j==0:  ax.set_title(run)\n",
    "            if i==0:  ax.text(-.07,.5, depth, transform=ax.transAxes, rotation=90, va='center')\n",
    "            if i<2:  kw = kw1\n",
    "            else:    kw = kw2\n",
    "\n",
    "            im = ax.pcolormesh(X, Y, xa, **kw)\n",
    "            ax.coastlines(lw=.5)\n",
    "            ax.text(.01,.9, '('+alphabet[i+j*3]+')', transform=ax.transAxes)\n",
    "            if i==0 and j==0:\n",
    "                cax = f.add_axes([.025,yc,.645,dc])\n",
    "                plt.colorbar(im, cax=cax, orientation='horizontal', label=label1)\n",
    "            if i==2 and j==0:\n",
    "                cax = f.add_axes([.675,yc,.32,dc])\n",
    "                plt.colorbar(im, cax=cax, orientation='horizontal', label=label2, ticks=np.arange(-6,7,3))\n",
    "            if fn is not None:\n",
    "                plt.savefig(fn)\n",
    "    return"
   ]
  },
  {
   "cell_type": "code",
   "execution_count": null,
   "metadata": {},
   "outputs": [],
   "source": [
    "kw1 = {'vmin':-15, 'vmax':15, 'cmap':'cmo.balance'}\n",
    "kw2 = {'vmin':-7.5, 'vmax':7.5, 'cmap':'cmo.curl'}\n",
    "label = r'$\\Delta$OHC  [GJ m$^{-2}$]'"
   ]
  },
  {
   "cell_type": "code",
   "execution_count": null,
   "metadata": {},
   "outputs": [],
   "source": [
    "%%time\n",
    "dOHC_hq_100  = regridder(OHC_hq.OHC_vertical_0_100m .isel(time=-1)) - OHC_ctrl_0_100m\n",
    "dOHC_hq_700  = regridder(OHC_hq.OHC_vertical_0_700m .isel(time=-1)) - OHC_ctrl_0_700m\n",
    "dOHC_hq_6000 = regridder(OHC_hq.OHC_vertical_0_6000m.isel(time=-1)) - OHC_ctrl_0_6000m\n",
    "dOHC_lq_100  = OHC_lq.OHC_vertical_0_100m .isel(time=50) - OHC_lq_0_100m\n",
    "dOHC_lq_700  = OHC_lq.OHC_vertical_0_700m .isel(time=50) - OHC_lq_0_700m\n",
    "dOHC_lq_6000 = OHC_lq.OHC_vertical_0_6000m.isel(time=50) - OHC_lq_0_6000m"
   ]
  },
  {
   "cell_type": "code",
   "execution_count": null,
   "metadata": {},
   "outputs": [],
   "source": [
    "%%time\n",
    "h1, l1 =  dOHC_hq_100*5            /1e9,  dOHC_lq_100*5            /1e9\n",
    "h2, l2 = (dOHC_hq_700 -dOHC_hq_100)/1e9, (dOHC_lq_700 -dOHC_lq_100)/1e9\n",
    "h3, l3 = (dOHC_hq_6000-dOHC_hq_700)/1e9, (dOHC_lq_6000-dOHC_lq_700)/1e9\n",
    "xa_list = [[h1, l1, h1-l1],\n",
    "           [h2, l2, h2-l2],\n",
    "           [h3, l3, h3-l3],]\n",
    "fn = f'{path_results}/thesis/63_OHC_maps_4xCO2'\n",
    "comparison_maps(xa_list, kw1, kw2, label1=label, label2=label, fn=fn)"
   ]
  },
  {
   "cell_type": "code",
   "execution_count": null,
   "metadata": {},
   "outputs": [],
   "source": [
    "%%time\n",
    "dOHC_rcp_100  = regridder(OHC_rcp.OHC_vertical_0_100m .isel(time=-1)) - OHC_ctrl_0_100m\n",
    "dOHC_rcp_700  = regridder(OHC_rcp.OHC_vertical_0_700m .isel(time=-1)) - OHC_ctrl_0_700m\n",
    "dOHC_rcp_6000 = regridder(OHC_rcp.OHC_vertical_0_6000m.isel(time=-1)) - OHC_ctrl_0_6000m\n",
    "dOHC_lr1_100  = OHC_lr1.OHC_vertical_0_100m .isel(time=-2) - OHC_lpd_0_100m\n",
    "dOHC_lr1_700  = OHC_lr1.OHC_vertical_0_700m .isel(time=-2) - OHC_lpd_0_700m\n",
    "dOHC_lr1_6000 = OHC_lr1.OHC_vertical_0_6000m.isel(time=-2) - OHC_lpd_0_6000m"
   ]
  },
  {
   "cell_type": "code",
   "execution_count": null,
   "metadata": {},
   "outputs": [],
   "source": [
    "%%time\n",
    "h1, l1 =  dOHC_rcp_100*5             /1e9,  dOHC_lr1_100*5             /1e9\n",
    "h2, l2 = (dOHC_rcp_700 -dOHC_rcp_100)/1e9, (dOHC_lr1_700 -dOHC_lr1_100)/1e9\n",
    "h3, l3 = (dOHC_rcp_6000-dOHC_rcp_700)/1e9, (dOHC_lr1_6000-dOHC_lr1_700)/1e9\n",
    "xa_list = [[h1, l1, h1-l1],\n",
    "           [h2, l2, h2-l2],\n",
    "           [h3, l3, h3-l3],]\n",
    "\n",
    "fn = f'{path_results}/thesis/63_OHC_maps_rcp'\n",
    "comparison_maps(xa_list, kw1, kw2, label1=label, label2=label, fn=fn)"
   ]
  },
  {
   "cell_type": "markdown",
   "metadata": {},
   "source": [
    "## 3. OHC changes with depth"
   ]
  },
  {
   "cell_type": "code",
   "execution_count": null,
   "metadata": {},
   "outputs": [],
   "source": [
    "OHC_hq"
   ]
  },
  {
   "cell_type": "code",
   "execution_count": null,
   "metadata": {},
   "outputs": [],
   "source": []
  },
  {
   "cell_type": "code",
   "execution_count": null,
   "metadata": {},
   "outputs": [],
   "source": []
  },
  {
   "cell_type": "code",
   "execution_count": null,
   "metadata": {},
   "outputs": [],
   "source": []
  },
  {
   "cell_type": "code",
   "execution_count": null,
   "metadata": {},
   "outputs": [],
   "source": []
  },
  {
   "cell_type": "code",
   "execution_count": null,
   "metadata": {},
   "outputs": [],
   "source": [
    "def map_array_geometry(m,n=3):\n",
    "    \"\"\" calculates the fraction of the \"\"\"\n",
    "    width = 8                 # fixed width for now, assuming 3 maps\n",
    "    dx = .29                   # width of image [fraction]\n",
    "    dy_ = dx*width/1.9        # height of maps [in], aspect ratio is 1:2, but choose smaller value to create vertical space\n",
    "    print(dy_)\n",
    "    height = .22 + m*dy_      # .22 for title, m rows of 1.32 maps [in]\n",
    "    dy = dy_/height           # height of maps [fraction]\n",
    "    y1 = 1-(.22+dy_)/height   # base height of top-most row of maps\n",
    "    xc = (width-.65)/width    # x-position of colorbar\n",
    "    dc = .13/width            # width of vertical colorbar\n",
    "    return width, height, y1, dx, dy, xc, dc\n",
    "\n",
    "letters = 'abcdefghi'\n",
    "width, height, y1, dx, dy, xc, dc = map_array_geometry(m=3, n=3)\n",
    "print(width, height, y1, dx, dy, xc, dc)\n",
    "\n",
    "f = plt.figure(figsize=(width,height))\n",
    "for i in range(3):  # columns\n",
    "    for j in range(m):  # rows\n",
    "        print(i, j, .025+i*(dx+.005),y1-j*dy,dx,dy)\n",
    "        ax = f.add_axes([.025+i*(dx+.005),y1-j*dy,dx,dy], projection=ccrs.PlateCarree())\n",
    "        ax.coastlines(lw=.5)\n",
    "        ax.text(.01,.9, '('+letters[i+j*3]+')', transform=ax.transAxes)\n",
    "        if j==0:\n",
    "            ax.set_title('HIGH')\n",
    "        if i==0:\n",
    "            ax.text(-.065,.5, 'RCP', transform=ax.transAxes, rotation=90, va='center')\n",
    "        if i==2 and j==2:\n",
    "            cax = f.add_axes([xc+.005,y1-j*dy,dc,dy])\n",
    "            cax = f.add_axes([xc+.005,y1-j*dy,dc,dy])\n",
    "plt.colorbar(im, cax=cax, orientation='vertical', label='something something')"
   ]
  },
  {
   "cell_type": "code",
   "execution_count": null,
   "metadata": {},
   "outputs": [],
   "source": [
    "def comparison_maps(xa_list, kw1, kw2, label1=None, label2=None, fn=None):\n",
    "    \"\"\" makes 2x3 maps comparing HIGH/LOW RCP/4xCO2 runs\"\"\"\n",
    "    width, height, y1, dy, yc, dc = map_array_geometry(m=2)\n",
    "\n",
    "    f = plt.figure(figsize=(width,height))\n",
    "    for i, run in enumerate(['HIGH','LOW','HIGH-LOW']):\n",
    "        for j, scenario in enumerate(['RCP', '4xCO2']):\n",
    "            xa = xa_list[j][i]\n",
    "            ax = f.add_axes([.025+i*.325,y1-j*dy,.32,dy], projection=ccrs.PlateCarree())\n",
    "            if j==0:  ax.set_title(run)\n",
    "            if i==0:  ax.text(-.07,.5, scenario, transform=ax.transAxes, rotation=90, va='center')\n",
    "            # ax.set_ylabel(scenario)\n",
    "            if i<2:  kw = kw1\n",
    "            else:    kw = kw2\n",
    "\n",
    "            im = ax.pcolormesh(X, Y, xa, **kw)\n",
    "            ax.coastlines(lw=.5)\n",
    "            ax.text(.01,.9, '('+letters[i+j*3]+')', transform=ax.transAxes)#,  weight='bold')# backgroundcolor='lightgrey',)\n",
    "            # if i==0 and j==0:\n",
    "            #     cax = f.add_axes([.025,yc,.645,dc])\n",
    "            #     plt.colorbar(im, cax=cax, orientation='horizontal', label=label1)\n",
    "            # if i==2 and j==0:\n",
    "            #     cax = f.add_axes([.675,yc,.32,dc])\n",
    "            #     plt.colorbar(im, cax=cax, orientation='horizontal', label=label2)\n",
    "            # if fn is not None:\n",
    "                plt.savefig(fn)\n",
    "    return"
   ]
  },
  {
   "cell_type": "code",
   "execution_count": null,
   "metadata": {
    "jupyter": {
     "outputs_hidden": true
    }
   },
   "outputs": [],
   "source": [
    "OHC_rcp"
   ]
  },
  {
   "cell_type": "code",
   "execution_count": null,
   "metadata": {},
   "outputs": [],
   "source": [
    "(ocn_field_regression(OHC_lq.OHC_vertical_0_6000m, run='lpd')[0]*365*100).plot()"
   ]
  },
  {
   "cell_type": "code",
   "execution_count": null,
   "metadata": {},
   "outputs": [],
   "source": []
  }
 ],
 "metadata": {
  "kernelspec": {
   "display_name": "Python 3",
   "language": "python",
   "name": "python3"
  },
  "language_info": {
   "codemirror_mode": {
    "name": "ipython",
    "version": 3
   },
   "file_extension": ".py",
   "mimetype": "text/x-python",
   "name": "python",
   "nbconvert_exporter": "python",
   "pygments_lexer": "ipython3",
   "version": "3.7.6"
  }
 },
 "nbformat": 4,
 "nbformat_minor": 4
}
