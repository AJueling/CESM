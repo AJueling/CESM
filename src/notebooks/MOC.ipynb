{
 "cells": [
  {
   "cell_type": "markdown",
   "metadata": {},
   "source": [
    "# Meridonal Overturning Circulation\n",
    "- calculations may be improved by taking partial bottom cells into account\n",
    "- possibly SSH adds accuracy, but it is centered on the T-grid"
   ]
  },
  {
   "cell_type": "code",
   "execution_count": null,
   "metadata": {},
   "outputs": [],
   "source": [
    "import sys\n",
    "sys.path.append(\"..\")\n",
    "import numpy as np\n",
    "import xarray as xr\n",
    "import cmocean\n",
    "import matplotlib.pyplot as plt"
   ]
  },
  {
   "cell_type": "code",
   "execution_count": null,
   "metadata": {},
   "outputs": [],
   "source": [
    "%matplotlib inline\n",
    "%config InlineBackend.print_figure_kwargs={'bbox_inches':None}\n",
    "%load_ext autoreload\n",
    "%autoreload 2\n",
    "%aimport - numpy - matplotlib.pyplot"
   ]
  },
  {
   "cell_type": "code",
   "execution_count": null,
   "metadata": {},
   "outputs": [],
   "source": [
    "from MOC import calculate_MOC, AMOC_max, approx_lats\n",
    "from grid import create_tdepth\n",
    "from regions import Atlantic_mask, boolean_mask\n",
    "from paths import file_ex_ocn_ctrl, path_results\n",
    "from plotting import discrete_cmap, shifted_color_map\n",
    "from timeseries import IterateOutputCESM, lowpass"
   ]
  },
  {
   "cell_type": "code",
   "execution_count": null,
   "metadata": {},
   "outputs": [],
   "source": []
  },
  {
   "cell_type": "code",
   "execution_count": null,
   "metadata": {},
   "outputs": [],
   "source": [
    "AMOC_ctrl = xr.open_dataarray(f'{path_results}/MOC/AMOC_ctrl.nc', decode_times=False)\n",
    "AMOC_rcp  = xr.open_dataarray(f'{path_results}/MOC/AMOC_rcp.nc' , decode_times=False)\n",
    "PMOC_ctrl = xr.open_dataarray(f'{path_results}/MOC/PMOC_ctrl.nc', decode_times=False)\n",
    "PMOC_rcp  = xr.open_dataarray(f'{path_results}/MOC/PMOC_rcp.nc' , decode_times=False)\n",
    "GMOC_ctrl = xr.open_dataarray(f'{path_results}/MOC/GMOC_ctrl.nc', decode_times=False)\n",
    "GMOC_rcp  = xr.open_dataarray(f'{path_results}/MOC/GMOC_rcp.nc' , decode_times=False)"
   ]
  },
  {
   "cell_type": "code",
   "execution_count": null,
   "metadata": {},
   "outputs": [],
   "source": [
    "print(len(AMOC_ctrl.time), len(PMOC_ctrl.time), len(GMOC_ctrl.time))\n",
    "print(len(AMOC_rcp .time), len(PMOC_rcp .time), len(GMOC_rcp .time))"
   ]
  },
  {
   "cell_type": "code",
   "execution_count": null,
   "metadata": {},
   "outputs": [],
   "source": [
    "tdepth = create_tdepth('ocn')\n",
    "lats = approx_lats('ocn')\n",
    "X, Y = np.meshgrid(lats, -tdepth/1e3)"
   ]
  },
  {
   "cell_type": "code",
   "execution_count": null,
   "metadata": {},
   "outputs": [],
   "source": [
    "cm_mean = discrete_cmap(16, 'RdBu_r')#cmocean.cm.balance)\n",
    "cm_anom = discrete_cmap(12, shifted_color_map(cmocean.cm.balance, start=0., midpoint=0.5, stop=.75, name='shrunk'))"
   ]
  },
  {
   "cell_type": "code",
   "execution_count": null,
   "metadata": {},
   "outputs": [],
   "source": [
    "AMOC_ctrl"
   ]
  },
  {
   "cell_type": "code",
   "execution_count": null,
   "metadata": {},
   "outputs": [],
   "source": [
    "approx_lats('ocn').plot()"
   ]
  },
  {
   "cell_type": "code",
   "execution_count": null,
   "metadata": {},
   "outputs": [],
   "source": [
    "AMOC_ctrl.sel({'z_t':1e5}, method='nearest').mean(dim='time')"
   ]
  },
  {
   "cell_type": "code",
   "execution_count": null,
   "metadata": {},
   "outputs": [],
   "source": [
    "np.argmax(AMOC_ctrl.sel({'z_t':1e5}, method='nearest').mean(dim='time'))"
   ]
  },
  {
   "cell_type": "code",
   "execution_count": null,
   "metadata": {},
   "outputs": [],
   "source": [
    "approx_lats('ocn')[1561]"
   ]
  },
  {
   "cell_type": "code",
   "execution_count": null,
   "metadata": {},
   "outputs": [],
   "source": [
    "plt.figure(figsize=(8,5))\n",
    "plt.plot(approx_lats('ocn'), AMOC_ctrl.sel({'z_t':1e5}, method='nearest').mean(dim='time')/1e6);\n",
    "plt.scatter(approx_lats('ocn')[1561], AMOC_ctrl.sel({'z_t':1e5}, method='nearest').mean(dim='time')[1561]/1e6, c='r');\n",
    "plt.axvline(26)\n",
    "plt.axhline(0)\n",
    "plt.tight_layout()"
   ]
  },
  {
   "cell_type": "code",
   "execution_count": null,
   "metadata": {},
   "outputs": [],
   "source": [
    "# AMOC\n",
    "\n",
    "f, ax = plt.subplots(figsize=(8,5))\n",
    "plt.tick_params(labelsize=14)\n",
    "plt.pcolormesh(X, Y, AMOC_ctrl.mean(dim='time')/1e6, vmin=-20, vmax=20, cmap=cm_mean)\n",
    "plt.text(.06, .9, 'AMOC', fontsize=16, transform=ax.transAxes)\n",
    "plt.text(.05, .82, r'$\\langle$CTRL$\\rangle$', fontsize=16, transform=ax.transAxes)\n",
    "plt.xlabel(r'latitude [$^\\circ$N]', fontsize=16)\n",
    "plt.ylabel('depth [km]', fontsize=16)\n",
    "cbar = plt.colorbar(extend='max')\n",
    "cbar.ax.set_ylabel('volume transport [Sv]', fontsize=16)\n",
    "plt.tight_layout()\n",
    "plt.savefig(f'{path_results}/MOC/AMOC_depth_lat_ctrl_mean')\n",
    "\n",
    "    \n",
    "f, ax = plt.subplots(figsize=(8,5))\n",
    "plt.tick_params(labelsize=14)\n",
    "plt.pcolormesh(X, Y, (AMOC_rcp.mean(dim='time')-AMOC_ctrl.mean(dim='time'))/1e6, vmin=-4, vmax=2, cmap=cm_anom)\n",
    "plt.text(.06, .9, 'AMOC', fontsize=16, transform=ax.transAxes)\n",
    "plt.text(.05, .82, r'$\\langle$RCP$\\rangle$-$\\langle$CTRL$\\rangle$', fontsize=16, transform=ax.transAxes)\n",
    "plt.xlabel(r'latitude [$^\\circ$N]', fontsize=16)\n",
    "plt.ylabel('depth [km]', fontsize=16)\n",
    "cbar = plt.colorbar(extend='min')\n",
    "cbar.ax.set_ylabel('volume transport [Sv]', fontsize=16)\n",
    "plt.tight_layout()\n",
    "plt.savefig(f'{path_results}/MOC/AMOC_depth_lat_rcp-ctrl')"
   ]
  },
  {
   "cell_type": "code",
   "execution_count": null,
   "metadata": {},
   "outputs": [],
   "source": [
    "# PMOC\n",
    "\n",
    "f, ax = plt.subplots(figsize=(8,5))\n",
    "plt.tick_params(labelsize=14)\n",
    "plt.pcolormesh(X, Y, PMOC_ctrl.mean(dim='time')/1e6, vmin=-20, vmax=20, cmap=cm_mean)\n",
    "plt.text(.06, .9, 'PMOC', fontsize=16, transform=ax.transAxes)\n",
    "plt.text(.05, .82, r'$\\langle$CTRL$\\rangle$', fontsize=16, transform=ax.transAxes)\n",
    "plt.xlabel(r'latitude [$^\\circ$N]', fontsize=16)\n",
    "plt.ylabel('depth [km]', fontsize=16)\n",
    "cbar = plt.colorbar(extend='max')\n",
    "cbar.ax.set_ylabel('volume transport [Sv]', fontsize=16)\n",
    "plt.tight_layout()\n",
    "plt.savefig(f'{path_results}/MOC/PMOC_depth_lat_ctrl_mean')\n",
    "\n",
    "    \n",
    "f, ax = plt.subplots(figsize=(8,5))\n",
    "plt.tick_params(labelsize=14)\n",
    "plt.pcolormesh(X, Y, (PMOC_rcp.mean(dim='time')-PMOC_ctrl.mean(dim='time'))/1e6, vmin=-4, vmax=2, cmap=cm_anom)\n",
    "plt.text(.06, .9, 'PMOC', fontsize=16, transform=ax.transAxes)\n",
    "plt.text(.05, .82, r'$\\langle$RCP$\\rangle$-$\\langle$CTRL$\\rangle$', fontsize=16, transform=ax.transAxes)\n",
    "plt.xlabel(r'latitude [$^\\circ$N]', fontsize=16)\n",
    "plt.ylabel('depth [km]', fontsize=16)\n",
    "cbar = plt.colorbar(extend='min')\n",
    "cbar.ax.set_ylabel('volume transport [Sv]', fontsize=16)\n",
    "plt.tight_layout()\n",
    "plt.savefig(f'{path_results}/MOC/PMOC_depth_lat_rcp-ctrl')"
   ]
  },
  {
   "cell_type": "code",
   "execution_count": null,
   "metadata": {},
   "outputs": [],
   "source": [
    "# GMOC\n",
    "\n",
    "f, ax = plt.subplots(figsize=(8,5))\n",
    "plt.tick_params(labelsize=14)\n",
    "plt.pcolormesh(X, Y, GMOC_ctrl.mean(dim='time')/1e6, vmin=-20, vmax=20, cmap=cm_mean)\n",
    "plt.text(.06, .9, 'GMOC', fontsize=16, transform=ax.transAxes)\n",
    "plt.text(.05, .82, r'$\\langle$CTRL$\\rangle$', fontsize=16, transform=ax.transAxes)\n",
    "plt.xlabel(r'latitude [$^\\circ$N]', fontsize=16)\n",
    "plt.ylabel('depth [km]', fontsize=16)\n",
    "cbar = plt.colorbar(extend='max')\n",
    "cbar.ax.set_ylabel('volume transport [Sv]', fontsize=16)\n",
    "plt.tight_layout()\n",
    "plt.savefig(f'{path_results}/MOC/GMOC_depth_lat_ctrl_mean')\n",
    "\n",
    "    \n",
    "f, ax = plt.subplots(figsize=(8,5))\n",
    "plt.tick_params(labelsize=14)\n",
    "plt.pcolormesh(X, Y, (GMOC_rcp.mean(dim='time')-GMOC_ctrl.mean(dim='time'))/1e6, vmin=-4, vmax=2, cmap=cm_anom)\n",
    "plt.text(.06, .9, 'GMOC', fontsize=16, transform=ax.transAxes)\n",
    "plt.text(.05, .82, r'$\\langle$RCP$\\rangle$-$\\langle$CTRL$\\rangle$', fontsize=16, transform=ax.transAxes)\n",
    "plt.xlabel(r'latitude [$^\\circ$N]', fontsize=16)\n",
    "plt.ylabel('depth [km]', fontsize=16)\n",
    "cbar = plt.colorbar(extend='min')\n",
    "cbar.ax.set_ylabel('volume transport [Sv]', fontsize=16)\n",
    "plt.tight_layout()\n",
    "plt.savefig(f'{path_results}/MOC/GMOC_depth_lat_rcp-ctrl')"
   ]
  },
  {
   "cell_type": "code",
   "execution_count": null,
   "metadata": {},
   "outputs": [],
   "source": [
    "f, ax = plt.subplots(1, 1, figsize=(8,5))\n",
    "plt.tick_params(labelsize=14)\n",
    "plt.plot(AMOC_ctrl.time/365     , AMOC_max(AMOC_ctrl)/1e6             , c='C0', lw=1)\n",
    "plt.plot(AMOC_rcp .time/365-1800, AMOC_max(AMOC_rcp )/1e6             , c='C1', lw=1)\n",
    "plt.plot(AMOC_ctrl.time/365     , lowpass(AMOC_max(AMOC_ctrl), 10)/1e6, c='C0', lw=3, label='CTRL')\n",
    "plt.plot(AMOC_rcp .time/365-1800, lowpass(AMOC_max(AMOC_rcp ), 10)/1e6, c='C1', lw=3, label='RCP' )\n",
    "\n",
    "plt.text(.98, .98, '26$^\\circ$N, 1000 m', ha='right', va='top', fontsize=16, transform=ax.transAxes, color='grey')\n",
    "plt.text(.6, .02, 'yearly data & 10 yr lowpass filtered', ha='center', va='bottom', fontsize=14, transform=ax.transAxes, color='grey')\n",
    "plt.xlabel('time [years]', fontsize=16)\n",
    "plt.ylabel('AMOC strength [Sv]', fontsize=16)\n",
    "plt.legend(fontsize=16, frameon=False, loc=3)\n",
    "plt.tight_layout()\n",
    "plt.savefig(f'{path_results}/MOC/AMOC_timeseries')"
   ]
  },
  {
   "cell_type": "markdown",
   "metadata": {},
   "source": [
    "### low resolution\n",
    "`coord(dim)`\n",
    "\n",
    "`transport_regions(transport_reg)`: 0 = Global, 1 = Atlantic\n",
    "\n",
    "`moc_components(moc_comp)` 0 = \"Eulerian Mean\",  1 = \"Eddy-Induced (bolus)\", 2 = \"Submeso\" ;\n",
    "  \n",
    "transport_components =\n",
    "  \"Total\",\n",
    "  \"Eulerian-Mean Advection\",\n",
    "  \"Eddy-Induced Advection (bolus) + Diffusion\",\n",
    "  \"Eddy-Induced (bolus) Advection\",\n",
    "  \"Submeso Advection\" ;"
   ]
  },
  {
   "cell_type": "code",
   "execution_count": null,
   "metadata": {},
   "outputs": [],
   "source": [
    "from paths import CESM_filename"
   ]
  },
  {
   "cell_type": "code",
   "execution_count": null,
   "metadata": {},
   "outputs": [],
   "source": []
  },
  {
   "cell_type": "code",
   "execution_count": null,
   "metadata": {},
   "outputs": [],
   "source": [
    "print(file_ex_ocn_lpd)"
   ]
  },
  {
   "cell_type": "code",
   "execution_count": null,
   "metadata": {},
   "outputs": [],
   "source": [
    "%%time\n",
    "AMOC = xr.open_mfdataset(CESM_filename(run='lpi', domain='ocn_low', y=0, m=13), decode_times=False)\\\n",
    "                        .MOC.sel({'moc_z':1e5, 'lat_aux_grid':26})[:,1,1]\n",
    "GMOC = xr.open_mfdataset(CESM_filename(run='lpd', domain='ocn_low', y=0, m=13), decode_times=False)\\\n",
    "                        .MOC.sel({'moc_z':1e5, 'lat_aux_grid':26})[:,0,1]"
   ]
  },
  {
   "cell_type": "code",
   "execution_count": null,
   "metadata": {},
   "outputs": [],
   "source": [
    "AMOC.plot()"
   ]
  },
  {
   "cell_type": "code",
   "execution_count": null,
   "metadata": {},
   "outputs": [],
   "source": [
    "ds.MOC"
   ]
  },
  {
   "cell_type": "code",
   "execution_count": null,
   "metadata": {},
   "outputs": [],
   "source": [
    "ds.MOC.moc_comp"
   ]
  },
  {
   "cell_type": "code",
   "execution_count": null,
   "metadata": {},
   "outputs": [],
   "source": [
    "for i in range(2):\n",
    "    f, ax = plt.subplots(1,3, figsize=(15,5), sharey=True)\n",
    "    for j in range(3):\n",
    "        ds.MOC.sel({'time':0}, method='nearest')[i,j,:,:].plot(ax=ax[j])\n",
    "    plt.tight_layout()"
   ]
  },
  {
   "cell_type": "code",
   "execution_count": null,
   "metadata": {},
   "outputs": [],
   "source": [
    "ds.MOC.sel({'time':0, 'moc_z':1e5, 'lat_aux_grid':26}, method='nearest')[1,0]"
   ]
  },
  {
   "cell_type": "code",
   "execution_count": null,
   "metadata": {},
   "outputs": [],
   "source": [
    "print(max(ds.MOC.sel({'time':0, 'moc_z':1e5}, method='nearest')[1,0,:]))\n",
    "ds.MOC.sel({'time':0, 'moc_z':1e5}, method='nearest')[1,0,:].plot();"
   ]
  },
  {
   "cell_type": "code",
   "execution_count": null,
   "metadata": {},
   "outputs": [],
   "source": [
    "np.argmax(ds.MOC.sel({'time':0, 'moc_z':1e5}, method='nearest')[1,0,:])"
   ]
  },
  {
   "cell_type": "code",
   "execution_count": null,
   "metadata": {},
   "outputs": [],
   "source": [
    "ds.MOC.lat_aux_grid[290]"
   ]
  },
  {
   "cell_type": "code",
   "execution_count": null,
   "metadata": {},
   "outputs": [],
   "source": [
    "ds.MOC.sel({'time':0}, method='nearest')[0,1,:,:].plot()"
   ]
  },
  {
   "cell_type": "code",
   "execution_count": null,
   "metadata": {},
   "outputs": [],
   "source": [
    "ds.MOC.coords"
   ]
  },
  {
   "cell_type": "code",
   "execution_count": null,
   "metadata": {},
   "outputs": [],
   "source": [
    "ds.MOC.dims"
   ]
  },
  {
   "cell_type": "code",
   "execution_count": null,
   "metadata": {},
   "outputs": [],
   "source": [
    "for i, (y,m,s) in enumerate(IterateOutputCESM(domain='ocn', run=run, tavg='yrly', name='UVEL_VVEL')):"
   ]
  },
  {
   "cell_type": "markdown",
   "metadata": {},
   "source": [
    "# Stability Criterion: Freshwater Flux at 35$^\\circ$S"
   ]
  },
  {
   "cell_type": "code",
   "execution_count": null,
   "metadata": {},
   "outputs": [],
   "source": []
  }
 ],
 "metadata": {
  "kernelspec": {
   "display_name": "Python 3",
   "language": "python",
   "name": "python3"
  },
  "language_info": {
   "codemirror_mode": {
    "name": "ipython",
    "version": 3
   },
   "file_extension": ".py",
   "mimetype": "text/x-python",
   "name": "python",
   "nbconvert_exporter": "python",
   "pygments_lexer": "ipython3",
   "version": "3.6.7"
  }
 },
 "nbformat": 4,
 "nbformat_minor": 4
}
