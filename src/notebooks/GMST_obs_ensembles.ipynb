{
 "cells": [
  {
   "cell_type": "markdown",
   "metadata": {},
   "source": [
    "# GMST datasets, ensembles, detrending"
   ]
  },
  {
   "cell_type": "code",
   "execution_count": null,
   "metadata": {},
   "outputs": [],
   "source": [
    "import os\n",
    "import sys\n",
    "sys.path.append(\"..\")\n",
    "import numpy as np\n",
    "import xarray as xr\n",
    "import seaborn as sns\n",
    "import cartopy\n",
    "import cartopy.crs as ccrs\n",
    "import datetime\n",
    "import matplotlib as mpl\n",
    "import matplotlib.pyplot as plt\n",
    "import statsmodels.api as sm"
   ]
  },
  {
   "cell_type": "code",
   "execution_count": null,
   "metadata": {},
   "outputs": [],
   "source": [
    "%matplotlib inline\n",
    "%config InlineBackend.print_figure_kwargs={'bbox_inches':None}\n",
    "%load_ext autoreload\n",
    "%autoreload 2"
   ]
  },
  {
   "cell_type": "code",
   "execution_count": null,
   "metadata": {},
   "outputs": [],
   "source": [
    "from maps import map_robinson, map_eq_earth\n",
    "from GMST import GMST_timeseries, GMST_regression, atm_heat_content, GMST_GISTEMP\n",
    "from paths import path_results, path_samoc, path_data\n",
    "from plotting import shifted_color_map, discrete_cmap\n",
    "from constants import abs_zero, cp_air\n",
    "from timeseries import IterateOutputCESM\n",
    "from xr_integrate import xr_surf_mean, xr_zonal_mean\n",
    "from xr_DataArrays import xr_AREA"
   ]
  },
  {
   "cell_type": "markdown",
   "metadata": {},
   "source": [
    "# Observations & ensemble results\n",
    "- observations: HadCRUT4 & GISTEMP (`GISTEMP = GMST_GISTEMP()`)\n",
    "- ensembles: MPI ESM GE, CMIP5"
   ]
  },
  {
   "cell_type": "code",
   "execution_count": null,
   "metadata": {},
   "outputs": [],
   "source": [
    "hadcrut = xr.open_dataarray(f'{path_data}/HadCRUT/ihad4_krig_v2_0-360E_-90-90N_n_mean1_anom_30.nc', decode_times=False)\n",
    "gistemp = xr.open_dataarray(f'{path_data}/GISTEMP/igiss_temp_250_0-360E_-90-90N_n_mean1_anom_30.nc', decode_times=False)\n",
    "kajtar  = xr.open_dataarray(f'{path_data}/CMIP5/Kajtaretal_gmst.mmm.historical+rcp85.nc', decode_times=False)\n",
    "cmip5   = xr.open_dataarray(f'{path_data}/CMIP5/KNMI_CMIP5_GMST_yrly.nc', decode_times=False)  # first year 1861\n",
    "cmip5m  = xr.open_dataarray(f'{path_data}/CMIP5/KNMI_CMIP5_GMST_monthly.nc', decode_times=False)  # int months since Jan 1861\n",
    "cmip5a  = xr.open_dataarray(f'{path_data}/CMIP5/KNMI_CMIP5_historicalNat_1861_2018.nc', decode_times=False)  # first year 1861\n",
    "tpi1    = xr.open_dataarray(f'{path_data}/CMIP5/KNMI_CMIP5_TPI1_yrly.nc', decode_times=False)\n",
    "tpi2    = xr.open_dataarray(f'{path_data}/CMIP5/KNMI_CMIP5_TPI2_yrly.nc', decode_times=False)\n",
    "tpi3    = xr.open_dataarray(f'{path_data}/CMIP5/KNMI_CMIP5_TPI3_yrly.nc', decode_times=False)\n",
    "amo     = xr.open_dataarray(f'{path_data}/CMIP5/KNMI_CMIP5_AMO_yrly.nc', decode_times=False)\n",
    "som     = xr.open_dataarray(f'{path_data}/CMIP5/KNMI_CMIP5_SOM_yrly.nc', decode_times=False)\n",
    "sst     = xr.open_dataarray(f'{path_data}/CMIP5/KNMI_CMIP5_global_SST_yrly.nc', decode_times=False)\n",
    "tpi     = tpi2 - (tpi1+tpi3)/2"
   ]
  },
  {
   "cell_type": "code",
   "execution_count": null,
   "metadata": {},
   "outputs": [],
   "source": [
    "cmip5b = cmip5a.copy()\n",
    "cmip5b_m = cmip5b[-8:-3].mean()\n",
    "cmip5b.values[-3:]  = cmip5b_m\n",
    "cmip5c = xr.concat([cmip5b, xr.DataArray(6*[cmip5b_m],\n",
    "                                         coords=[np.arange(152,158)],\n",
    "                                         dims=['time'])],\n",
    "                   dim='time')\n",
    "\n",
    "cmip5_natural = cmip5c[9:]-cmip5c[9:].mean()\n",
    "cmip5_anthro  = (cmip5[9:158]-cmip5c[9:]) - (cmip5[9:158]-cmip5c[9:]).mean()\n",
    "cmip5_all     = cmip5[9:158]-cmip5[9:158].mean()\n",
    "\n",
    "cmip5_natural.to_netcdf(f'{path_samoc}/GMST/CMIP5_natural.nc')\n",
    "cmip5_anthro .to_netcdf(f'{path_samoc}/GMST/CMIP5_anthro.nc')\n",
    "cmip5_all    .to_netcdf(f'{path_samoc}/GMST/CMIP5_all.nc')\n",
    "\n",
    "plt.figure(figsize=(8,5))\n",
    "plt.tick_params(labelsize=14)\n",
    "plt.plot(np.arange(1870,2019), cmip5_anthro +.5, label=r'MMM$_{anthro.}$ = MMM$_{all}$ - MMM$_{natural}$')\n",
    "plt.plot(np.arange(1870,2019), cmip5_natural, label=r'MMM$_{natural}$')\n",
    "plt.plot(np.arange(1870,2019), cmip5_all    +1, label=r'MMM$_{all}$')\n",
    "plt.legend(fontsize=14, frameon=False)\n",
    "plt.xlabel('time [years C.E.]', fontsize=14)\n",
    "plt.ylabel('MMM temperature anomaly [K]'  , fontsize=14)\n",
    "plt.tight_layout()\n",
    "plt.savefig(f'{path_results}/GMST/CMIP5_MMM', dpi=150)"
   ]
  },
  {
   "cell_type": "code",
   "execution_count": null,
   "metadata": {},
   "outputs": [],
   "source": [
    "cmip5m.time/12"
   ]
  },
  {
   "cell_type": "code",
   "execution_count": null,
   "metadata": {},
   "outputs": [],
   "source": [
    "hadcrut.to_netcdf(f'{path_samoc}/GMST/GMST_yrly_had.nc')"
   ]
  },
  {
   "cell_type": "code",
   "execution_count": null,
   "metadata": {},
   "outputs": [],
   "source": [
    "np.corrcoef(kajtar, cmip5[19:157])[0,1]"
   ]
  },
  {
   "cell_type": "code",
   "execution_count": null,
   "metadata": {},
   "outputs": [],
   "source": [
    "cmip5_1980_2010 = cmip5[119:149].mean()\n",
    "cmip5_1950_1980 = cmip5[89:119].mean()"
   ]
  },
  {
   "cell_type": "code",
   "execution_count": null,
   "metadata": {},
   "outputs": [],
   "source": [
    "# MPI ESM GE\n",
    "def add_member_dim(ds):\n",
    "    ds = ds.squeeze()\n",
    "    ds = ds.drop(['lat', 'lon', 'time_bnds'])\n",
    "    member = ds.attrs['history'][-26:-23]\n",
    "    ds['member'] = member\n",
    "    ds = ds.expand_dims('member')\n",
    "    ds = ds.set_coords('member', member)\n",
    "    return ds\n",
    "\n",
    "ds = xr.open_mfdataset(f'{path_data}/hedemannetal/rawdata/tsurf_gm_yy_1850_2015_lkm*.nc',\n",
    "                       preprocess=add_member_dim,\n",
    "                       concat_dim=None)\n",
    "\n",
    "ds['tsurf_mean'] = ds.tsurf.mean(dim='member')\n",
    "mpige = ds['tsurf_mean']-273.15\n",
    "ds.to_netcdf(f'{path_samoc}/GMST/GMST_MPI_GE.nc')"
   ]
  },
  {
   "cell_type": "code",
   "execution_count": null,
   "metadata": {},
   "outputs": [],
   "source": [
    "plt.figure(figsize=(8,5))\n",
    "plt.tick_params(labelsize=14)\n",
    "plt.xlabel('time [year C.E.]', fontsize=16)\n",
    "plt.ylabel('GMST [$^\\circ$C]', fontsize=16)\n",
    "for i in range(100):\n",
    "    L1, =plt.plot(np.arange(1850,2016), ds.tsurf[i,:]-273.15,\n",
    "             alpha=.2, lw=.5, c='C3', label='MPI ESM ensemble members')\n",
    "L3, = plt.plot(np.arange(1850,2016), mpige, lw=2, label='MPI ESM GE mean')\n",
    "L4, = plt.plot(np.arange(1850,2019), hadcrut+cmip5_1950_1980, label='HadCRUT')\n",
    "L5, = plt.plot(np.arange(1880,2019), gistemp+cmip5_1950_1980, label='GISTEMP')\n",
    "L2, = plt.plot(np.arange(1861,2019), cmip5[:158], lw=2, label='CMIP5 single member ensemble mean')\n",
    "L6, = plt.plot(np.arange(1880,2018), kajtar, label='CMIP5 (Kajtar et al.)')\n",
    "leg1 = plt.legend(handles=[L2, L6, L1, L3], fontsize=14, frameon=False, loc=2)\n",
    "plt.legend(handles=[L4, L5], fontsize=14, frameon=False, loc=4)\n",
    "plt.gca().add_artist(leg1)\n",
    "plt.tight_layout()\n",
    "plt.savefig(f'{path_results}/GMST/GMST_tseries_MPIGE_CMIP5_HadCRUT_GISTEMP')"
   ]
  },
  {
   "cell_type": "code",
   "execution_count": null,
   "metadata": {},
   "outputs": [],
   "source": [
    "plt.figure(figsize=(8,5))\n",
    "plt.tick_params(labelsize=14)\n",
    "plt.xlabel('time [year C.E.]', fontsize=16)\n",
    "plt.ylabel('CMIP5 MMEM anomalies [K]', fontsize=16)\n",
    "plt.axhline(0, c='k', lw=.5)\n",
    "plt.plot(np.arange(1861,2019), cmip5[:158] - cmip5[119:149].mean(), lw=1.5, label='GMST')\n",
    "plt.plot(np.arange(1861,2019), sst  [:158] - sst  [119:149].mean(), lw=1.5, label='global SST')\n",
    "plt.plot(np.arange(1861,2019), amo  [:158] - amo  [119:149].mean(), lw=1.5, label='AMO')\n",
    "plt.plot(np.arange(1861,2019), som  [:158] - som  [119:149].mean(), lw=1.5, label='SOM')\n",
    "plt.plot(np.arange(1861,2019), tpi  [:158] - tpi  [119:149].mean(), lw=1, ls='--', label='TPI')\n",
    "plt.legend(fontsize=14, frameon=False, ncol=3)\n",
    "plt.tight_layout()\n",
    "plt.savefig(f'{path_results}/GMST/CMIP5_MMEMs')"
   ]
  },
  {
   "cell_type": "code",
   "execution_count": null,
   "metadata": {},
   "outputs": [],
   "source": [
    "def corr(x,y):\n",
    "    return np.corrcoef(x, y)[0,1]\n",
    "\n",
    "plt.figure(figsize=(8,5))\n",
    "plt.tick_params(labelsize=14)\n",
    "plt.xlabel('CMIP5 MMEM GMST anomalies [K]', fontsize=16)\n",
    "plt.ylabel('CMIP5 MMEM anomalies [K]', fontsize=16)\n",
    "plt.xlim((-1,.7))\n",
    "plt.ylim((-1.2,.8))\n",
    "plt.plot([-1,.7], [- .7, 1], c='C0', lw=.5, label='1:1 line')\n",
    "plt.plot([-1,.7], [-1  ,.7], c='C1', lw=.5, label='1:1 line')\n",
    "plt.plot([-1,.7], [-1.3,.4], c='C2', lw=.5, label='1:1 line')\n",
    "x = cmip5[:158] - cmip5[119:149].mean()\n",
    "y = sst  [:158] - sst  [119:149].mean()\n",
    "r = corr(x, y)\n",
    "plt.scatter(x, y+.3, label=f'global SST (r={r:5.3f})')\n",
    "y = amo  [:158] - amo  [119:149].mean()\n",
    "r = corr(x, y)\n",
    "plt.scatter(x, y   , label=f'AMO (r={r:5.3f})')\n",
    "y = som  [:158] - som  [119:149].mean()\n",
    "r = corr(x, y)\n",
    "plt.scatter(x, y-.3, label=f'SOM (r={r:5.3f})')\n",
    "plt.legend(fontsize=14, frameon=False, ncol=2)\n",
    "plt.tight_layout()\n",
    "plt.savefig(f'{path_results}/GMST/GMST_CMIP5_SST_AMO_SOM_corr')"
   ]
  },
  {
   "cell_type": "code",
   "execution_count": null,
   "metadata": {},
   "outputs": [],
   "source": [
    "plt.figure(figsize=(8,5))\n",
    "plt.tick_params(labelsize=14)\n",
    "plt.xlabel('CMIP5 ensemble mean anomaly [K]', fontsize=16)\n",
    "plt.ylabel('MPI ESM GE mean anomaly [K]', fontsize=16)\n",
    "plt.xlim((-1,.7))\n",
    "plt.ylim((-1,.7))\n",
    "plt.plot([-1,1], [-1,1], c='k', lw=.5, label='1:1 line')\n",
    "mpige_1980_2010 = mpige.sel(time=slice('1980', '2010')).mean()\n",
    "plt.scatter(cmip5[:155]-cmip5_1980_2010       , (mpige-mpige_1980_2010).sel(time=slice('1861', '2015')), alpha=.5, label='KNMI MMEM')\n",
    "plt.scatter(kajtar[:-2]-kajtar[100:130].mean(), (mpige-mpige_1980_2010).sel(time=slice('1880', '2015')), alpha=.5, label='Kajtar et al. (2019)')\n",
    "\n",
    "plt.legend(fontsize=14)\n",
    "plt.tight_layout()\n",
    "plt.savefig(f'{path_results}/GMST/GMST_MPIGE_CMIP5_corr')"
   ]
  },
  {
   "cell_type": "code",
   "execution_count": null,
   "metadata": {},
   "outputs": [],
   "source": [
    "had_mpige = hadcrut[:-3].values-mpige.values\n",
    "had_cmip5 = hadcrut[11:].values-cmip5[:158].values\n",
    "gis_mpige = gistemp[:-3].values-mpige[30:].values\n",
    "gis_cmip5 = gistemp.values-cmip5[19:158].values"
   ]
  },
  {
   "cell_type": "code",
   "execution_count": null,
   "metadata": {},
   "outputs": [],
   "source": [
    "plt.figure(figsize=(8,5))\n",
    "plt.tick_params(labelsize=14)\n",
    "plt.xlabel('time [years C.E.]', fontsize=16)\n",
    "plt.ylabel('internal variability [K]', fontsize=16)\n",
    "plt.axhline(0, c='k', lw=.5)\n",
    "plt.plot(np.arange(1850,2016), had_mpige-had_mpige.mean(), label='HadCRUT$-$MPIGE')\n",
    "plt.plot(np.arange(1861,2019), had_cmip5-had_cmip5.mean(), label='HadCRUT$-$CMIP5' )\n",
    "plt.plot(np.arange(1880,2016), gis_mpige-gis_mpige.mean(), label='GISTEMP$-$MPIGE')\n",
    "plt.plot(np.arange(1880,2019), gis_cmip5-gis_cmip5.mean(), label='GISTEMP$-$CMIP5' )\n",
    "plt.legend(fontsize=14, frameon=False, loc=1, ncol=2)\n",
    "plt.tight_layout()\n",
    "plt.savefig(f'{path_results}/GMST/GMST_obs-forcing')"
   ]
  },
  {
   "cell_type": "code",
   "execution_count": null,
   "metadata": {},
   "outputs": [],
   "source": [
    "def scaled_detrended_gmst(obs, mmem):\n",
    "    assert len(obs)==len(mmem)\n",
    "\n",
    "    X = mmem - np.mean(mmem)\n",
    "    Y = obs - np.mean(obs)\n",
    "    plt.plot(X)\n",
    "    plt.plot(Y)\n",
    "    model = sm.OLS(Y, X).fit()\n",
    "#         print(index, '\\n', model.summary())\n",
    "    print(f'{len(obs)}, R^2: {model.rsquared:4.2e} params: {model.params}\\n')\n",
    "    a = model.params[0]\n",
    "    return Y-a*X, a"
   ]
  },
  {
   "cell_type": "code",
   "execution_count": null,
   "metadata": {},
   "outputs": [],
   "source": [
    "had_mpige, a_hm = scaled_detrended_gmst(hadcrut[:-3].values, mpige.values        )\n",
    "had_cmip5, a_hc = scaled_detrended_gmst(hadcrut[11:].values, cmip5[:158].values  )\n",
    "gis_mpige, a_gm = scaled_detrended_gmst(gistemp[:-3].values, mpige[30:].values   )\n",
    "gis_cmip5, a_gc = scaled_detrended_gmst(gistemp.values     , cmip5[19:158].values)"
   ]
  },
  {
   "cell_type": "code",
   "execution_count": null,
   "metadata": {},
   "outputs": [],
   "source": [
    "plt.figure(figsize=(8,5))\n",
    "plt.tick_params(labelsize=14)\n",
    "plt.xlabel('time [years C.E.]', fontsize=16)\n",
    "plt.ylabel('GMST $-$ GMST$_{forced}$ [K]', fontsize=16)\n",
    "plt.axhline(0, c='k', lw=.5)\n",
    "plt.plot(np.arange(1850,2016), had_mpige, label=f'HadCRUT-{a_hm:4.2f}*MPIGE')\n",
    "plt.plot(np.arange(1861,2019), had_cmip5, label=f'HadCRUT-{a_hc:4.2f}*CMIP5' )\n",
    "plt.plot(np.arange(1880,2016), gis_mpige, label=f'GISTEMP-{a_gm:4.2f}*MPIGE')\n",
    "plt.plot(np.arange(1880,2019), gis_cmip5, label=f'GISTEMP-{a_gc:4.2f}*CMIP5' )\n",
    "plt.ylim((-.3,.43))\n",
    "plt.legend(fontsize=14, frameon=False, loc=9, ncol=2)\n",
    "plt.tight_layout()\n",
    "plt.savefig(f'{path_results}/GMST/GMST_obs-scaled_forcing')"
   ]
  },
  {
   "cell_type": "markdown",
   "metadata": {},
   "source": [
    "### making the `GMST_yrly_had.nc` file"
   ]
  },
  {
   "cell_type": "code",
   "execution_count": null,
   "metadata": {},
   "outputs": [],
   "source": [
    "xr.DataArray(data=had_cmip5,\n",
    "             coords={'time':np.arange(1861, 2019)},\n",
    "             dims=['time']\n",
    "            ).to_netcdf(f'{path_samoc}/GMST/GMST_dt_yrly_had.nc')"
   ]
  },
  {
   "cell_type": "code",
   "execution_count": null,
   "metadata": {},
   "outputs": [],
   "source": [
    "(gmst_ctrl-gmst_wt_ctrl.lin_fit ).to_netcdf(f'{path_samoc}/GMST/GMST_dt_yrly_ctrl.nc')\n",
    "(gmst_rcp -gmst_wt_rcp .quad_fit).to_netcdf(f'{path_samoc}/GMST/GMST_dt_yrly_rcp.nc' )\n",
    "(gmst_lpd -gmst_wt_lpd .lin_fit ).to_netcdf(f'{path_samoc}/GMST/GMST_dt_yrly_lpd.nc' )\n",
    "(gmst_lpi -gmst_wt_lpi .lin_fit ).to_netcdf(f'{path_samoc}/GMST/GMST_dt_yrly_lpi.nc' )"
   ]
  },
  {
   "cell_type": "code",
   "execution_count": null,
   "metadata": {},
   "outputs": [],
   "source": [
    "plt.figure(figsize=(8,5))\n",
    "plt.tick_params(labelsize=14)\n",
    "# plt.xlabel('time [years C.E.]', fontsize=16)\n",
    "plt.ylabel('internal variability [K]', fontsize=16)\n",
    "plt.axhline(0, c='k', lw=.5)\n",
    "bins = np.arange(-.45,.5,.05)\n",
    "plt.axvline(0, c='k', lw=.5)\n",
    "plt.hist(had_mpige-had_mpige.mean(), bins=bins, alpha=.2, label='HadCRUT$-$MPIGE')\n",
    "plt.hist(had_cmip5-had_cmip5.mean(), bins=bins, alpha=.2, label='HadCRUT$-$CMIP5' )\n",
    "plt.hist(gis_mpige-gis_mpige.mean(), bins=bins, alpha=.2, label='GISTEMP$-$MPIGE')\n",
    "plt.hist(gis_cmip5-gis_cmip5.mean(), bins=bins, alpha=.2, label='GISTEMP$-$CMIP5' )\n",
    "plt.legend(fontsize=14, frameon=False, loc=2, ncol=1)\n",
    "plt.tight_layout()"
   ]
  },
  {
   "cell_type": "markdown",
   "metadata": {},
   "source": [
    "## two-factor detrending"
   ]
  },
  {
   "cell_type": "code",
   "execution_count": null,
   "metadata": {},
   "outputs": [],
   "source": []
  }
 ],
 "metadata": {
  "kernelspec": {
   "display_name": "Python 3",
   "language": "python",
   "name": "python3"
  },
  "language_info": {
   "codemirror_mode": {
    "name": "ipython",
    "version": 3
   },
   "file_extension": ".py",
   "mimetype": "text/x-python",
   "name": "python",
   "nbconvert_exporter": "python",
   "pygments_lexer": "ipython3",
   "version": "3.6.6"
  }
 },
 "nbformat": 4,
 "nbformat_minor": 4
}
