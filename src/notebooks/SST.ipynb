{
 "cells": [
  {
   "cell_type": "markdown",
   "metadata": {},
   "source": [
    "# Sea Surface Temperature"
   ]
  },
  {
   "cell_type": "code",
   "execution_count": null,
   "metadata": {},
   "outputs": [],
   "source": [
    "import sys\n",
    "sys.path.append(\"..\")\n",
    "import scipy as sp\n",
    "import numpy as np\n",
    "import xarray as xr\n",
    "import seaborn as sns\n",
    "import cmocean\n",
    "import cartopy\n",
    "import cartopy.crs as ccrs\n",
    "import matplotlib as mpl\n",
    "import matplotlib.pyplot as plt"
   ]
  },
  {
   "cell_type": "code",
   "execution_count": null,
   "metadata": {},
   "outputs": [],
   "source": [
    "%matplotlib inline\n",
    "%config InlineBackend.figure_format = 'retina'\n",
    "%config InlineBackend.print_figure_kwargs={'bbox_inches':None}\n",
    "%load_ext autoreload\n",
    "%autoreload 2\n",
    "%aimport - numpy - scipy - matplotlib.pyplot"
   ]
  },
  {
   "cell_type": "code",
   "execution_count": null,
   "metadata": {},
   "outputs": [],
   "source": [
    "from OHC import t2da, t2ds\n",
    "from SST import SST_index, EOF_SST_analysis\n",
    "from maps import map_robinson, map_eq_earth, rect_polygon, make_map\n",
    "from grid import find_array_idx\n",
    "from paths import path_results, path_samoc, file_ex_ocn_ctrl, file_ex_ocn_rect, file_ex_ocn_lpd\n",
    "from regions import boolean_mask, global_ocean, gl_ocean_rect, SST_index_bounds, boolean_mask\n",
    "from plotting import shifted_color_map, discrete_cmap\n",
    "from timeseries import IterateOutputCESM\n",
    "from xr_DataArrays import xr_AREA, dll_dims_names\n",
    "from xr_regression import xr_linear_trends_2D, xr_linear_trend, ocn_field_regression, xr_lintrend, xr_quadtrend"
   ]
  },
  {
   "cell_type": "code",
   "execution_count": null,
   "metadata": {},
   "outputs": [],
   "source": [
    "runs = ['ctrl', 'rcp', 'lpd', 'lpi', 'had']\n",
    "domains = ['ocn', 'ocn', 'ocn_low', 'ocn_low', 'ocn_had']\n",
    "map_domains = ['ocn_T', 'ocn_T', 'ocn_T', 'ocn_T', 'ocn_had']"
   ]
  },
  {
   "cell_type": "code",
   "execution_count": null,
   "metadata": {},
   "outputs": [],
   "source": [
    "MASK_ocn = boolean_mask(domain='ocn', mask_nr=0, rounded=True)\n",
    "MASK_low = boolean_mask(domain='ocn_low', mask_nr=0, rounded=True)\n",
    "MASK_had = boolean_mask(domain='ocn_had', mask_nr=0, rounded=True)\n",
    "AREA_ocn = xr_AREA(domain='ocn'    )\n",
    "AREA_low = xr_AREA(domain='ocn_low')\n",
    "AREA_had = xr_AREA(domain='ocn_had')\n",
    "masks = [MASK_ocn, MASK_ocn, MASK_low, MASK_low, MASK_had]"
   ]
  },
  {
   "cell_type": "markdown",
   "metadata": {},
   "source": [
    "# 1. SST: Mean, Trends, Biases, Time Series"
   ]
  },
  {
   "cell_type": "code",
   "execution_count": null,
   "metadata": {},
   "outputs": [],
   "source": [
    "SST_yrly_ctrl = xr.open_dataarray(f'{path_samoc}/SST/SST_yrly_ctrl.nc', decode_times=False)\n",
    "SST_yrly_rcp  = xr.open_dataarray(f'{path_samoc}/SST/SST_yrly_rcp.nc' , decode_times=False)\n",
    "SST_yrly_lpd  = xr.open_dataarray(f'{path_samoc}/SST/SST_yrly_lpd.nc' , decode_times=False)\n",
    "SST_yrly_lpi  = xr.open_dataarray(f'{path_samoc}/SST/SST_yrly_lpi.nc' , decode_times=False)\n",
    "SST_yrly_had  = xr.open_dataarray(f'{path_samoc}/SST/SST_yrly_had.nc' , decode_times=False)"
   ]
  },
  {
   "cell_type": "markdown",
   "metadata": {},
   "source": [
    "When the yrly SST data of the CTRL run is created, some monthly file around year 200 are not saved on January 31, but rather Jan 15 or 16, so the time coordinate is not equally spaced. I fixed this manually by loading the dataset and performing `SST_yrly_ctrl = SST_yrly_ctrl.assign_coords(time=np.arange(100,300)*365+31)` and then saving this file."
   ]
  },
  {
   "cell_type": "code",
   "execution_count": null,
   "metadata": {},
   "outputs": [],
   "source": [
    "# SST_yrly_ctrl = SST_yrly_ctrl.assign_coords(time=np.arange(100,300)*365+31)\n",
    "# SST_yrly_ctrl.to_netcdf(f'{path_samoc}/SST/SST_yrly_ctrl2.nc')"
   ]
  },
  {
   "cell_type": "markdown",
   "metadata": {},
   "source": [
    "## 1.1 Mean"
   ]
  },
  {
   "cell_type": "code",
   "execution_count": null,
   "metadata": {},
   "outputs": [],
   "source": [
    "%%time\n",
    "SST_mean_ctrl = SST_yrly_ctrl[-50:].where(MASK_ocn).mean(dim='time')\n",
    "SST_mean_rcp  = SST_yrly_rcp [-50:].where(MASK_ocn).mean(dim='time')\n",
    "SST_mean_lpd  = SST_yrly_lpd [-50:].where(MASK_low).mean(dim='time')\n",
    "SST_mean_lpi  = SST_yrly_lpi [-50:].where(MASK_low).mean(dim='time')\n",
    "SST_mean_had  = SST_yrly_had [-50:].where(MASK_had).mean(dim='time')"
   ]
  },
  {
   "cell_type": "code",
   "execution_count": null,
   "metadata": {},
   "outputs": [],
   "source": [
    "fn  = f'{path_results}/SST/SST_mean_had'\n",
    "cm  = discrete_cmap(17, cmocean.cm.thermal)\n",
    "txt1 = 'HadISST'\n",
    "txt2 = '1969-2018\\nmean'\n",
    "f, ax = make_map(xa=SST_mean_had, domain='ocn_had', proj='rob', cmap=cm, minv=-2, maxv=32,\n",
    "                 label='SST [$^\\circ$C]', filename=fn, text1=txt1, text2=txt2, clon=200)"
   ]
  },
  {
   "cell_type": "markdown",
   "metadata": {},
   "source": [
    "## 1.2 Timeseries of global mean SST"
   ]
  },
  {
   "cell_type": "code",
   "execution_count": null,
   "metadata": {},
   "outputs": [],
   "source": [
    "# calculating global mean\n",
    "# SST_global_mean_ctrl = (SST_yrly_ctrl*AREA_ocn).where(MASK_ocn).sum(axis=(1,2))/(AREA_ocn.where(MASK_ocn).sum())\n",
    "# SST_global_mean_rcp  = (SST_yrly_rcp *AREA_ocn).where(MASK_ocn).sum(axis=(1,2))/(AREA_ocn.where(MASK_ocn).sum())\n",
    "# SST_global_mean_lpd  = (SST_yrly_lpd *AREA_low).where(MASK_low).sum(axis=(1,2))/(AREA_low.where(MASK_low).sum())\n",
    "# SST_global_mean_lpi  = (SST_yrly_lpi *AREA_low).where(MASK_low).sum(axis=(1,2))/(AREA_low.where(MASK_low).sum())\n",
    "# SST_global_mean_had  = (SST_yrly_had *AREA_had).where(MASK_had).sum(axis=(1,2))/(AREA_had.where(MASK_had).sum())"
   ]
  },
  {
   "cell_type": "code",
   "execution_count": null,
   "metadata": {},
   "outputs": [],
   "source": [
    "# writing global mean to netcdf\n",
    "# SST_global_mean_ctrl.to_netcdf(f'{path_samoc}/SST/SST_global_mean_timeseries_ctrl.nc')\n",
    "# SST_global_mean_rcp .to_netcdf(f'{path_samoc}/SST/SST_global_mean_timeseries_rcp.nc')\n",
    "# SST_global_mean_lpd .to_netcdf(f'{path_samoc}/SST/SST_global_mean_timeseries_lpd.nc')\n",
    "# SST_global_mean_lpi .to_netcdf(f'{path_samoc}/SST/SST_global_mean_timeseries_lpi.nc')\n",
    "# SST_global_mean_had .to_netcdf(f'{path_samoc}/SST/SST_global_mean_timeseries_had.nc')"
   ]
  },
  {
   "cell_type": "code",
   "execution_count": null,
   "metadata": {},
   "outputs": [],
   "source": [
    "# loading GMSST from previously saved netcdf\n",
    "SST_ctrl = xr.open_dataarray(f'{path_samoc}/SST/SST_global_mean_timeseries_ctrl.nc')\n",
    "SST_rcp  = xr.open_dataarray(f'{path_samoc}/SST/SST_global_mean_timeseries_rcp.nc')\n",
    "SST_lpd  = xr.open_dataarray(f'{path_samoc}/SST/SST_global_mean_timeseries_lpd.nc')\n",
    "SST_lpi  = xr.open_dataarray(f'{path_samoc}/SST/SST_global_mean_timeseries_lpi.nc')\n",
    "SST_had  = xr.open_dataarray(f'{path_samoc}/SST/SST_global_mean_timeseries_had.nc')"
   ]
  },
  {
   "cell_type": "code",
   "execution_count": null,
   "metadata": {},
   "outputs": [],
   "source": [
    "f, ax = plt.subplots(1,1,figsize=(12,5), sharex=True)\n",
    "ax.tick_params(labelsize=14)\n",
    "# ax.axhline(0,c='k', lw=.5)\n",
    "\n",
    "time_had = np.arange(2350,2519)\n",
    "\n",
    "ax.axhline(0, c='k', lw=.5)\n",
    "ax.plot(SST_ctrl.time/365+1850, SST_ctrl-SST_ctrl.mean(), c='C0')\n",
    "ax.plot(SST_rcp.time/365 + 200, (SST_rcp-SST_rcp .mean())/3, c='C1')\n",
    "ax.plot(SST_lpd.time/365 +1350, SST_lpd -SST_lpd .mean(), c='C2')\n",
    "ax.plot(SST_lpi.time/365 -1600, SST_lpi -SST_lpi .mean(), c='C3')\n",
    "ax.plot(np.arange(2370,2519)  , SST_had -SST_had .mean(), c='C4')\n",
    "\n",
    "\n",
    "ax.text(1950, .45, 'CTRL'         , fontsize=16, color='C0')\n",
    "ax.text(2150, .45, 'RCP'          , fontsize=16, color='C1')\n",
    "ax.text(2150, .38, r'$\\times\\frac{1}{3}$' , fontsize=20, color='C1')\n",
    "ax.text(1500, .45, 'pres. day low', fontsize=16, color='C2')\n",
    "ax.text(   0, .45, 'pre-ind. low' , fontsize=16, color='C3')\n",
    "ax.text(2320, .45, 'HadISST'      , fontsize=16, color='C4')\n",
    "\n",
    "# ax.legend(handles=[L1, L2, L3], loc=8, ncol=3, fontsize=14, frameon=False)\n",
    "ax.set_xlabel('time [years]', fontsize=16)\n",
    "ax.set_ylabel('GMSST [$^\\circ$C]', fontsize=16)\n",
    "\n",
    "ax.set_xticks(np.arange(0,2800,200))\n",
    "ax.set_xlim((-50,2550))\n",
    "f.align_ylabels()\n",
    "f.tight_layout()\n",
    "# plt.savefig(f'{path_results}/SST/SST_global_mean_timeseries')"
   ]
  },
  {
   "cell_type": "markdown",
   "metadata": {},
   "source": [
    "## 1.2: Trend at each point"
   ]
  },
  {
   "cell_type": "code",
   "execution_count": null,
   "metadata": {},
   "outputs": [],
   "source": [
    "%%time\n",
    "# 2 min\n",
    "SST_trend_ctrl, SST_trend_interc_ctrl = ocn_field_regression(SST_yrly_ctrl, run='ctrl')\n",
    "SST_trend_rcp , SST_trend_interc_rcp  = ocn_field_regression(SST_yrly_rcp , run='rcp' )\n",
    "SST_trend_lpd , SST_trend_interc_lpd  = ocn_field_regression(SST_yrly_lpd , run='lpd' )\n",
    "SST_trend_lpi , SST_trend_interc_lpi  = ocn_field_regression(SST_yrly_lpi , run='lpi' )"
   ]
  },
  {
   "cell_type": "code",
   "execution_count": null,
   "metadata": {},
   "outputs": [],
   "source": [
    "# example point\n",
    "SST_yrly_lpd[:,100,100].plot()\n",
    "(SST_trend_lpd[100,100]*SST_yrly_lpd.time + SST_trend_interc_lpd[100,100]).plot()"
   ]
  },
  {
   "cell_type": "code",
   "execution_count": null,
   "metadata": {},
   "outputs": [],
   "source": [
    "cmap  = discrete_cmap(12, shifted_color_map(cmocean.cm.balance, start=1/3, midpoint=.5, stop=5/6, name='shrunk'))\n",
    "\n",
    "xa    = SST_trend_ctrl*100*365\n",
    "fn    = f'{path_results}/SST/SST_trend_ctrl'\n",
    "label = '100-299 SST trend [K/century]'\n",
    "txt1  = f'CTRL'\n",
    "f, ax = make_map(xa=xa, domain='ocn_T', cmap=cmap, minv=-2, maxv=4,\n",
    "                 label=label, filename=fn, text1=txt1)\n",
    "\n",
    "xa    = SST_trend_rcp*100*365\n",
    "fn    = f'{path_results}/SST/SST_trend_rcp'\n",
    "label = '2000-2099 SST trend [K/century]'\n",
    "txt1  = f'RCP'\n",
    "f, ax = make_map(xa=xa, domain='ocn_T', cmap=cmap, minv=-2, maxv=4,\n",
    "                 label=label, filename=fn, text1=txt1)"
   ]
  },
  {
   "cell_type": "markdown",
   "metadata": {},
   "source": [
    "## 1.3 Mean Bias"
   ]
  },
  {
   "cell_type": "code",
   "execution_count": null,
   "metadata": {},
   "outputs": [],
   "source": [
    "SSTs = [SST_yrly_ctrl, SST_yrly_rcp, SST_yrly_lpd, SST_yrly_lpi, SST_yrly_had]"
   ]
  },
  {
   "cell_type": "code",
   "execution_count": null,
   "metadata": {},
   "outputs": [],
   "source": [
    "%%time\n",
    "for i, SST_ac in enumerate(SSTs):\n",
    "    #     if i!=2: continue\n",
    "    run = runs[i]\n",
    "    fn = f'{path_samoc}/SST/SST_autocorrelation_{run}.nc'\n",
    "    fa = FieldAnalysis(SST_ac[-100:])\n",
    "    xa = fa.make_autocorrelation_map(fn=fn)\n",
    "    \n",
    "    fn = f'{path_results}/SST/SST_autocorrelation_map_{run}'\n",
    "    domain = map_domains[i]\n",
    "    label = 'autocorrelation of SST'\n",
    "    cmap = cmocean.cm.curl\n",
    "    txt1 = f'{run.upper()}\\ndetr.'\n",
    "    txt2 = '100 years'\n",
    "    make_map(xa=xa, domain=domain, proj='rob', cmap=cmap, minv=-1, maxv=1,\n",
    "             label=label, filename=fn, text1=txt1, text2=txt2)"
   ]
  },
  {
   "cell_type": "markdown",
   "metadata": {},
   "source": [
    "# Ocean basins and SST index regions"
   ]
  },
  {
   "cell_type": "markdown",
   "metadata": {},
   "source": [
    "## Global mean vs. 60S-60N time series"
   ]
  },
  {
   "cell_type": "code",
   "execution_count": null,
   "metadata": {},
   "outputs": [],
   "source": [
    "# SST_gm_ctrl      = xr.open_dataarray(f'{path_results}/SST_global_mean_monthly_ctrl.nc'     , decode_times=False)\n",
    "# SST_gm_rcp       = xr.open_dataarray(f'{path_results}/SST_global_mean_monthly_rcp.nc'      , decode_times=False)\n",
    "SST_gm_ctrl = xr.open_dataarray(f'{path_results}/SST_global_mean_monthly_rect_ctrl.nc' , decode_times=False)\n",
    "SST_gm_rcp  = xr.open_dataarray(f'{path_results}/SST_global_mean_monthly_rect_rcp.nc'  , decode_times=False)\n",
    "SST_gm_lpd  = xr.open_dataarray(f'{path_results}/SST_global_mean_monthly_lpd.nc'       , decode_times=False)\n",
    "SST_gm_lpi  = xr.open_dataarray(f'{path_results}/SST_global_mean_monthly_lpi.nc'       , decode_times=False)\n",
    "\n",
    "SST_xm_ctrl = xr.open_dataarray(f'{path_results}/SST_60S_60N_mean_monthly_rect_ctrl.nc', decode_times=False)\n",
    "SST_xm_rcp  = xr.open_dataarray(f'{path_results}/SST_60S_60N_mean_monthly_rect_rcp.nc' , decode_times=False)\n",
    "SST_xm_lpd  = xr.open_dataarray(f'{path_results}/SST_60S_60N_mean_monthly_lpd.nc'      , decode_times=False)\n",
    "SST_xm_lpi  = xr.open_dataarray(f'{path_results}/SST_60S_60N_mean_monthly_lpi.nc'      , decode_times=False)\n",
    "SST_xm_had  = xr.open_dataarray(f'{path_results}/SST_60S_60N_mean_monthly_had.nc'      , decode_times=False)"
   ]
  },
  {
   "cell_type": "code",
   "execution_count": null,
   "metadata": {},
   "outputs": [],
   "source": [
    "# deseasonalize\n",
    "SST_gm_ds_ctrl = deseasonalize(SST_gm_ctrl)\n",
    "SST_gm_ds_rcp  = deseasonalize(SST_gm_rcp )\n",
    "SST_gm_ds_lpd  = deseasonalize(SST_gm_lpd )\n",
    "SST_gm_ds_lpi  = deseasonalize(SST_gm_lpi )\n",
    "SST_xm_ds_ctrl = deseasonalize(SST_xm_ctrl)\n",
    "SST_xm_ds_rcp  = deseasonalize(SST_xm_rcp )\n",
    "SST_xm_ds_lpd  = deseasonalize(SST_xm_lpd )\n",
    "SST_xm_ds_lpi  = deseasonalize(SST_xm_lpi )\n",
    "SST_xm_ds_had  = deseasonalize(SST_xm_had )"
   ]
  },
  {
   "cell_type": "code",
   "execution_count": null,
   "metadata": {},
   "outputs": [],
   "source": [
    "plt.figure(figsize=(8,5))\n",
    "plt.tick_params(labelsize=14)\n",
    "plt.plot([-1.5,2], [-1  ,2.5], c='k', lw=.5)\n",
    "plt.plot([-1.5,2], [-1.5,2  ], c='k', lw=.5)\n",
    "plt.plot([-1.5,2], [-0.5,3  ], c='k', lw=.5)\n",
    "plt.plot([-1.5,2], [-2  ,1.5], c='k', lw=.5)\n",
    "plt.xlim((-1,1.5))\n",
    "plt.ylim((-1,1.5))\n",
    "plt.scatter(SST_xm_ds_ctrl-SST_xm_ds_ctrl.mean(dim='time'), SST_gm_ds_ctrl-SST_gm_ds_ctrl.mean(dim='time')+.5, alpha=.1)\n",
    "plt.scatter(SST_xm_ds_rcp -SST_xm_ds_rcp .mean(dim='time'), SST_gm_ds_rcp -SST_gm_ds_rcp .mean(dim='time')   , alpha=.1)\n",
    "plt.scatter(SST_xm_ds_lpd -SST_xm_ds_lpd .mean(dim='time'), SST_gm_ds_lpd -SST_gm_ds_lpd .mean(dim='time')+1 , alpha=.1)\n",
    "plt.scatter(SST_xm_ds_lpi -SST_xm_ds_lpi .mean(dim='time'), SST_gm_ds_lpi -SST_gm_ds_lpi .mean(dim='time')-.5, alpha=.1)\n",
    "plt.scatter(SST_xm_ds_had -SST_xm_ds_had .mean(dim='time'), [-.9]*len(SST_xm_ds_had), alpha=.1)\n",
    "plt.ylabel('global mean SST' , fontsize=14)\n",
    "plt.xlabel('60S-60N mean SST', fontsize=14)\n",
    "plt.tight_layout()"
   ]
  },
  {
   "cell_type": "code",
   "execution_count": null,
   "metadata": {},
   "outputs": [],
   "source": [
    "plt.figure(figsize=(8,5))\n",
    "plt.tick_params(labelsize=14)\n",
    "plt.plot([-1.5,2], [-1  ,2.5], c='k', lw=.5)\n",
    "plt.plot([-1.5,2], [-1.5,2  ], c='k', lw=.5)\n",
    "plt.plot([-1.5,2], [-0.5,3  ], c='k', lw=.5)\n",
    "plt.plot([-1.5,2], [-2  ,1.5], c='k', lw=.5)\n",
    "plt.xlim((-.3,.3))\n",
    "plt.ylim((-1.3,1.4))\n",
    "plt.scatter(SST_xm_ds_ctrl-xr_quadtrend(SST_xm_ds_ctrl), SST_gm_ds_ctrl-xr_quadtrend(SST_gm_ds_ctrl)+.5, alpha=.1)\n",
    "plt.scatter(SST_xm_ds_rcp -xr_quadtrend(SST_xm_ds_rcp ), SST_gm_ds_rcp -xr_quadtrend(SST_gm_ds_rcp )   , alpha=.1)\n",
    "plt.scatter(SST_xm_ds_lpd -xr_quadtrend(SST_xm_ds_lpd ), SST_gm_ds_lpd -xr_quadtrend(SST_gm_ds_lpd )+1 , alpha=.1)\n",
    "plt.scatter(SST_xm_ds_lpi -xr_quadtrend(SST_xm_ds_lpi ), SST_gm_ds_lpi -xr_quadtrend(SST_gm_ds_lpi )-.5, alpha=.1)\n",
    "plt.scatter(SST_xm_ds_had -xr_quadtrend(SST_xm_ds_had ), [-1]*len(SST_xm_ds_had), alpha=.1)\n",
    "\n",
    "plt.scatter(SST_xm_ds_lpd[-200*12:] -xr_quadtrend(SST_xm_ds_lpd[-200*12:] ),\n",
    "            SST_gm_ds_lpd[-200*12:] -xr_quadtrend(SST_gm_ds_lpd[-200*12:] )+1.1 , alpha=.1)\n",
    "plt.scatter(SST_xm_ds_lpi[-200*12:] -xr_quadtrend(SST_xm_ds_lpi[-200*12:] ),\n",
    "            SST_gm_ds_lpi[-200*12:] -xr_quadtrend(SST_gm_ds_lpi[-200*12:] )-.6, alpha=.1)\n",
    "plt.scatter(SST_xm_ds_had[-100*12:] -xr_quadtrend(SST_xm_ds_had[-100*12:] ),\n",
    "            [-1.1]*(100*12), alpha=.1)\n",
    "plt.ylabel('global mean SST' , fontsize=14)\n",
    "plt.xlabel('60S-60N mean SST', fontsize=14)\n",
    "plt.tight_layout()"
   ]
  },
  {
   "cell_type": "code",
   "execution_count": null,
   "metadata": {},
   "outputs": [],
   "source": [
    "# lowpass deseasonalizing\n",
    "f, ax = plt.subplots(1, 2, figsize=(12,5))\n",
    "for i in range(2):\n",
    "    ax[i].tick_params(labelsize=14)\n",
    "\n",
    "ax[0].plot(SST_xm_ctrl.time[:120]/12   , SST_xm_ctrl   [:120])\n",
    "ax[0].plot(SST_xm_ctrl.time[:120]/12   , SST_xm_ds_ctrl[:120])\n",
    "ax[0].plot(SST_xm_rcp .time[:120]/12+11, SST_xm_rcp    [:120])\n",
    "ax[0].plot(SST_xm_rcp .time[:120]/12+11, SST_xm_ds_rcp [:120])\n",
    "ax[0].plot(SST_xm_rcp .time[:120]/12+11, SST_xm_ds_rcp [:120])\n",
    "\n",
    "ax[1].plot(SST_xm_ctrl.time/12    , SST_xm_ctrl   )\n",
    "ax[1].plot(SST_xm_ctrl.time/12    , SST_xm_ds_ctrl)\n",
    "ax[1].plot(SST_xm_rcp .time/12+220, SST_xm_rcp    )\n",
    "ax[1].plot(SST_xm_rcp .time/12+220, SST_xm_ds_rcp )\n",
    "ax[1].plot(SST_xm_had .time/365   , SST_xm_had    )\n",
    "ax[1].plot(SST_xm_had .time/365   , SST_xm_ds_had )\n",
    "plt.tight_layout()\n",
    "plt.savefig(f'{path_results}/SST/SST_deseasonalizing_global_mean')"
   ]
  },
  {
   "cell_type": "code",
   "execution_count": null,
   "metadata": {},
   "outputs": [],
   "source": [
    "plt.figure(figsize=(12,5))\n",
    "plt.tick_params(labelsize=14)\n",
    "\n",
    "plt.plot(SST_gm_ctrl.time/12 +1950, SST_gm_ctrl   , c='C0', lw=.3, alpha=.5)\n",
    "plt.plot(SST_gm_rcp .time/12 +2200, SST_gm_rcp    , c='C1', lw=.3, alpha=.5)\n",
    "plt.plot(SST_gm_lpd .time/365+1350, SST_gm_lpd    , c='C2', lw=.3, alpha=.5)\n",
    "plt.plot(SST_gm_lpi .time/365-1600, SST_gm_lpi    , c='C3', lw=.3, alpha=.5)\n",
    "plt.plot(SST_gm_ctrl.time/12 +1950, SST_gm_ds_ctrl, c='C0')\n",
    "plt.plot(SST_gm_rcp .time/12 +2200, SST_gm_ds_rcp , c='C1')\n",
    "plt.plot(SST_gm_lpd .time/365+1350, SST_gm_ds_lpd , c='C2')\n",
    "plt.plot(SST_gm_lpi .time/365-1600, SST_gm_ds_lpi , c='C3')\n",
    "\n",
    "plt.plot(SST_xm_ctrl.time/12 +1950, SST_xm_ctrl   , c='C0', lw=.3, alpha=.5)\n",
    "plt.plot(SST_xm_rcp .time/12 +2200, SST_xm_rcp    , c='C1', lw=.3, alpha=.5)\n",
    "plt.plot(SST_xm_lpd .time/365+1350, SST_xm_lpd    , c='C2', lw=.3, alpha=.5)\n",
    "plt.plot(SST_xm_lpi .time/365-1600, SST_xm_lpi    , c='C3', lw=.3, alpha=.5)\n",
    "plt.plot(SST_xm_had .time/365+2350, SST_xm_had    , c='C4', lw=.3, alpha=.5)\n",
    "plt.plot(SST_xm_ctrl.time/12 +1950, SST_xm_ds_ctrl, c='C0')\n",
    "plt.plot(SST_xm_rcp .time/12 +2200, SST_xm_ds_rcp , c='C1')\n",
    "plt.plot(SST_xm_lpd .time/365+1350, SST_xm_ds_lpd , c='C2')\n",
    "plt.plot(SST_xm_lpi .time/365-1600, SST_xm_ds_lpi , c='C3')\n",
    "plt.plot(SST_xm_had .time/365+2350, SST_xm_ds_had , c='C4')\n",
    "\n",
    "plt.ylabel('global / 60S-60N mean SST [$^\\circ$C]', fontsize=16)\n",
    "plt.xlabel('time [years]', fontsize=16)\n",
    "\n",
    "plt.tight_layout()"
   ]
  },
  {
   "cell_type": "code",
   "execution_count": null,
   "metadata": {},
   "outputs": [],
   "source": []
  }
 ],
 "metadata": {
  "kernelspec": {
   "display_name": "Python 3",
   "language": "python",
   "name": "python3"
  },
  "language_info": {
   "codemirror_mode": {
    "name": "ipython",
    "version": 3
   },
   "file_extension": ".py",
   "mimetype": "text/x-python",
   "name": "python",
   "nbconvert_exporter": "python",
   "pygments_lexer": "ipython3",
   "version": "3.6.6"
  }
 },
 "nbformat": 4,
 "nbformat_minor": 4
}
