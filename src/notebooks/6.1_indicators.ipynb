{
 "cells": [
  {
   "cell_type": "markdown",
   "metadata": {},
   "source": [
    "# Thesis Chapter 6.1: Climate indicators"
   ]
  },
  {
   "cell_type": "code",
   "execution_count": null,
   "metadata": {},
   "outputs": [],
   "source": [
    "import os\n",
    "import sys\n",
    "import numpy as np\n",
    "import xarray as xr\n",
    "import cmocean\n",
    "import cartopy\n",
    "import scipy.stats as stats\n",
    "import cartopy.crs as ccrs\n",
    "import datetime\n",
    "import matplotlib\n",
    "import matplotlib.pyplot as plt"
   ]
  },
  {
   "cell_type": "code",
   "execution_count": null,
   "metadata": {},
   "outputs": [],
   "source": [
    "%matplotlib inline\n",
    "matplotlib.rc_file('../rc_file')\n",
    "%config InlineBackend.print_figure_kwargs={'bbox_inches':None}\n",
    "%load_ext autoreload\n",
    "%autoreload 2"
   ]
  },
  {
   "cell_type": "code",
   "execution_count": null,
   "metadata": {
    "tags": []
   },
   "outputs": [],
   "source": [
    "sys.path.append(\"..\")\n",
    "from tqdm import notebook\n",
    "from paths import path_results, path_prace, CESM_filename, file_ex_atm_lpd\n",
    "from filters import lowpass\n",
    "from constants import spy\n",
    "from xr_regression import xr_linear_trend, xr_lintrend\n",
    "from constants import R_earth\n",
    "A_Earth = 4*np.pi*R_earth**2"
   ]
  },
  {
   "cell_type": "code",
   "execution_count": null,
   "metadata": {},
   "outputs": [],
   "source": [
    "GMST_h200  = xr.open_dataarray(f'{path_results}/GMST/GMST_monthly_ctrl.nc', decode_times=False).sel(time=slice(200*365,230*365)).mean()\n",
    "GMST_l500  = xr.open_dataarray(f'{path_results}/GMST/GMST_monthly_lpd.nc' , decode_times=False).isel(time=slice(0,30*12)).mean()\n",
    "GMST_l1200 = xr.open_dataarray(f'{path_results}/GMST/GMST_monthly_lpd.nc' , decode_times=False).isel(time=slice(690*12,720*12)).mean()"
   ]
  },
  {
   "cell_type": "code",
   "execution_count": null,
   "metadata": {},
   "outputs": [],
   "source": [
    "S_Earth = (4*np.pi*R_earth**2)"
   ]
  },
  {
   "cell_type": "code",
   "execution_count": null,
   "metadata": {},
   "outputs": [],
   "source": [
    "TOAx4 = xr.open_dataarray('../../data/CMIP5/netTOA_CESM104_abrupt4x_5900.nc')\n",
    "mocx4 = xr.open_dataarray('../../data/CMIP5/AMOC_ann_CESM104_abrupt4x_5900.nc', decode_times=False)\n",
    "co2x4 = xr.open_dataarray('../../data/CMIP5/tas_CESM104_abrupt4x_5900.nc')\n",
    "cmipc = xr.open_dataarray('../../data/CMIP5/tas_CESM104_control_1000.nc')\n",
    "co2x4 -= cmipc.mean()"
   ]
  },
  {
   "cell_type": "code",
   "execution_count": null,
   "metadata": {
    "tags": []
   },
   "outputs": [],
   "source": [
    "f, ax = plt.subplots(4,2, figsize=(6.4,6), sharex='col', sharey='row', gridspec_kw={'width_ratios':[2,1]}, constrained_layout=True)\n",
    "letters = 'abcdefgh'\n",
    "ylabels = [r'TOA  [W/m$^2$]', 'GMST  [K]', r'$\\int_{2000}^t$TOA d$t^\\prime$  [YJ]', 'AMOC  [Sv]']\n",
    "\n",
    "ax[0,0].set_title('RCP')\n",
    "ax[0,1].set_title(r'4$\\times$CO$_2$')\n",
    "\n",
    "for i in range(4):\n",
    "    ax[i,0].text(-.1, .5, ylabels[i], rotation=90, va='center', ha='center', transform=ax[i,0].transAxes)\n",
    "    for j in range(2):\n",
    "        ax[i,j].axvspan([2090,2040][j], [2100,2050][j], color='lightgrey')\n",
    "        ax[i,j].axhline(0, c='k', lw=.5)\n",
    "\n",
    "for i, run in enumerate(['rcp', 'lr1', 'hq', 'lq']):\n",
    "    ye = [2100, 2101, 2051, 2091][i]\n",
    "    j = int(i/2)\n",
    "    c = f'C{int(i%2)}'\n",
    "    gmst_offset = [GMST_h200, GMST_l500, GMST_h200, GMST_l1200][i]\n",
    "    TOA = xr.open_dataarray(f'{path_prace}/TOA/TOM_{run}.nc', decode_times=False)\n",
    "    GMST = xr.open_dataarray(f'{path_results}/GMST/GMST_monthly_{run}.nc', decode_times=False)\n",
    "    AMOC = xr.open_dataarray(f'{path_results}/MOC/AMOC_max_{run}.nc', decode_times=False)\n",
    "\n",
    "    ax[0,j].plot(np.arange(2000,ye), TOA/S_Earth, label=['HR-CESM','LR-CESM','',''][i])\n",
    "    if j==0:  ax[0,0].legend(fontsize=8, ncol=2, loc='upper center')\n",
    "    ax[1,j].plot(GMST.time/365+2000, GMST.rolling(time=12).mean()-gmst_offset )\n",
    "    ax[2,j].plot(np.arange(2000,ye), TOA.cumsum('time')*spy/1e24)\n",
    "    ax[2,j].set_ylim(-.2,2.9)\n",
    "    ax[3,j].plot(AMOC.time/365, AMOC.rolling(time=12).mean())\n",
    "\n",
    "for i in range(4):\n",
    "    for j in range(2):\n",
    "        ax[i,j].text(.01*(j+1),.87, '('+letters[2*i+j]+')', transform=ax[i,j].transAxes)\n",
    "\n",
    "# for i, run in enumerate(['ctrl', 'lc1']):\n",
    "ax[0,1].plot(TOAx4.year+2000, TOAx4, c='k', ls='--', lw=1, label='LongRunMIP')\n",
    "ax[0,1].legend(fontsize=8, loc='upper center')\n",
    "ax[1,1].plot(co2x4.year+2000, co2x4, c='k', ls='--', lw=1)\n",
    "ax[2,1].plot(TOAx4.year+2000, TOAx4.cumsum('year')*S_Earth*spy/1e24, c='k', ls='--', lw=1)\n",
    "ax[3,1].plot(mocx4.time+2000, mocx4, c='k', ls='--', lw=1)\n",
    "\n",
    "\n",
    "for i in range(2):\n",
    "    ax[3,i].set_xticks(np.arange(2000,2101,25))\n",
    "    ax[3,i].set_xlim([(1997,2103),(1997,2053)][i])\n",
    "    ax[3,i].set_xlabel('time  [model year]')\n",
    "\n",
    "f.align_ylabels()\n",
    "\n",
    "# plt.savefig(f'{path_results}/thesis/61_climate_response')\n",
    "plt.savefig(f'{path_results}/thesis/61_climate_response.eps')"
   ]
  },
  {
   "cell_type": "code",
   "execution_count": null,
   "metadata": {},
   "outputs": [],
   "source": []
  }
 ],
 "metadata": {
  "kernelspec": {
   "display_name": "Python 3",
   "language": "python",
   "name": "python3"
  },
  "language_info": {
   "codemirror_mode": {
    "name": "ipython",
    "version": 3
   },
   "file_extension": ".py",
   "mimetype": "text/x-python",
   "name": "python",
   "nbconvert_exporter": "python",
   "pygments_lexer": "ipython3",
   "version": "3.7.6"
  }
 },
 "nbformat": 4,
 "nbformat_minor": 4
}
