{
 "cells": [
  {
   "cell_type": "markdown",
   "metadata": {},
   "source": [
    "# map of the first baroclinic Rossby Radius of Deformation\n",
    "\n",
    "integrate $N^2$ and compute that from vertical PD gradient (centered difference of neutral density is best)\n",
    "\n",
    "$$ \\lambda_1 = \\frac{1}{|f|\\pi} \\int^{0}_{-H} N(z') dz'$$\n",
    "\n",
    "from Chelton et al. (1998) Eq. (2.4)."
   ]
  },
  {
   "cell_type": "code",
   "execution_count": null,
   "metadata": {},
   "outputs": [],
   "source": [
    "import os\n",
    "import sys\n",
    "import numpy as np\n",
    "import xesmf as xe\n",
    "import xarray as xr\n",
    "import cmocean\n",
    "import cartopy\n",
    "import cartopy.crs as ccrs\n",
    "import matplotlib\n",
    "import matplotlib.pyplot as plt"
   ]
  },
  {
   "cell_type": "code",
   "execution_count": null,
   "metadata": {
    "tags": []
   },
   "outputs": [],
   "source": [
    "sys.path.append(\"..\")\n",
    "%matplotlib inline\n",
    "matplotlib.rc_file('../rc_file')\n",
    "%config InlineBackend.print_figure_kwargs={'bbox_inches':None}\n",
    "%load_ext autoreload\n",
    "%autoreload 2"
   ]
  },
  {
   "cell_type": "code",
   "execution_count": null,
   "metadata": {
    "tags": []
   },
   "outputs": [],
   "source": [
    "from grid import generate_lats_lons\n",
    "from maps import add_cyclic_rectangular\n",
    "from paths import path_results, path_prace, file_ex_ocn_ctrl, file_ex_ocn_lpd, file_RMASK_ocn, file_ex_ocn_rect, file_HadISST, file_ex_atm_lpd, file_ex_atm_ctrl\n",
    "from timeseries import IterateOutputCESM\n",
    "from xr_DataArrays import xr_DZ"
   ]
  },
  {
   "cell_type": "code",
   "execution_count": null,
   "metadata": {},
   "outputs": [],
   "source": [
    "dsl = xr.open_dataset(file_ex_ocn_lpd, decode_times=False)\n",
    "dsh = xr.open_dataset(file_ex_ocn_ctrl, decode_times=False)\n",
    "dal = xr.open_dataset(file_ex_atm_lpd, decode_times=False)\n",
    "dah = xr.open_dataset(file_ex_atm_ctrl, decode_times=False)"
   ]
  },
  {
   "cell_type": "markdown",
   "metadata": {},
   "source": [
    "## Bathymetry"
   ]
  },
  {
   "cell_type": "code",
   "execution_count": null,
   "metadata": {},
   "outputs": [],
   "source": [
    "DZ_ocn = xr_DZ('ocn')\n",
    "DZ_low = xr_DZ('ocn_low')\n",
    "hl = add_cyclic_rectangular((dal.PHIS/9.81).squeeze())\n",
    "hh = add_cyclic_rectangular((dah.PHIS/9.81).squeeze())"
   ]
  },
  {
   "cell_type": "code",
   "execution_count": null,
   "metadata": {},
   "outputs": [],
   "source": [
    "# plt.figure(figsize=(9, 9))\n",
    "# ax = plt.axes(projection=cartopy.crs.TransverseMercator(-5))\n",
    "# ax.set_extent ((-25, 15, 33,60), cartopy.crs.PlateCarree())\n",
    "# hh.plot(ax=ax, vmin=0, vmax=6000, cmap='terrain', transform=ccrs.PlateCarree())\n",
    "# ax.coastlines(resolution='110m')\n",
    "# ax.gridlines()"
   ]
  },
  {
   "cell_type": "code",
   "execution_count": null,
   "metadata": {},
   "outputs": [],
   "source": [
    "%%time\n",
    "kw = dict(vmin=-6000, vmax=6000, transform=ccrs.PlateCarree(), cmap=plt.get_cmap('cmo.topo'))  #,24\n",
    "f = plt.figure(figsize=(6.4,7))\n",
    "\n",
    "print('axis 1')\n",
    "ax = f.add_axes([.01,.5,.98,.45], projection=ccrs.PlateCarree())\n",
    "ax.set_title('(a) HR-CESM model bathymetry & topography')\n",
    "ax.pcolormesh(hh.lon, hh.lat, hh, **kw)\n",
    "im = ax.pcolormesh(dsh.TLONG, dsh.TLAT, -DZ_ocn.sum('z_t').where(dsh.REGION_MASK>0), **kw)\n",
    "ax.coastlines(resolution='110m')\n",
    "ax.gridlines()\n",
    "\n",
    "# colorbar\n",
    "ax = f.add_axes([.1,.46,.8,.025])\n",
    "plt.colorbar(im, cax=ax, ticks=np.arange(-6000,6001,1500) ,format='%g', orientation='horizontal', label=r'bathymetry & topography [m]')\n",
    "\n",
    "print('axis 2')\n",
    "# ax = f.add_axes([.01,0,.48,.38], projection=ccrs.TransverseMercator(-5))  # nice, but super slow\n",
    "ax = f.add_axes([.01,0,.48,.38], projection=ccrs.PlateCarree(-5))\n",
    "ax.set_title('(b) HR-CESM Western Europe')\n",
    "ax.set_extent ((-25, 15, 33,60), crs=ccrs.PlateCarree())\n",
    "ax.pcolormesh(hh.lon, hh.lat, hh, **kw)\n",
    "ax.pcolormesh(dsh.TLONG, dsh.TLAT, -DZ_ocn.sum('z_t').where(dsh.REGION_MASK>0), **kw)\n",
    "ax.coastlines(resolution='50m')\n",
    "ax.gridlines()\n",
    "\n",
    "print('axis 3')\n",
    "# ax = f.add_axes([.51,0,.48,.38], projection=ccrs.TransverseMercator(-5))\n",
    "ax = f.add_axes([.51,0,.48,.38], projection=ccrs.PlateCarree(-5))\n",
    "ax.set_title('(c) LR-CESM Western Europe')\n",
    "ax.set_extent ((-25, 15, 33,60), crs=ccrs.PlateCarree())\n",
    "ax.pcolormesh(hl.lon, hl.lat, hl, **kw)\n",
    "ax.pcolormesh(dsl.TLONG, dsl.TLAT, -DZ_low.sum('z_t').where(dsl.REGION_MASK>0), **kw)\n",
    "ax.coastlines(resolution='50m')\n",
    "ax.gridlines()\n",
    "\n",
    "plt.savefig(f'{path_results}/thesis/2_topo', dpi=600)"
   ]
  },
  {
   "cell_type": "code",
   "execution_count": null,
   "metadata": {},
   "outputs": [],
   "source": [
    "%%time\n",
    "kw = dict(vmin=-6000, vmax=6000, transform=ccrs.PlateCarree(), cmap=plt.get_cmap('cmo.topo',24))\n",
    "f = plt.figure(figsize=(6.4,7))\n",
    "\n",
    "print('axis 1')\n",
    "ax = f.add_axes([.01,.5,.98,.45], projection=ccrs.PlateCarree())\n",
    "ax.set_title('(a) HR-CESM model bathymetry & topography')\n",
    "ax.pcolormesh(hh.lon, hh.lat, hh, **kw)\n",
    "im = ax.pcolormesh(dsh.TLONG, dsh.TLAT, -DZ_ocn.sum('z_t').where(dsh.REGION_MASK>0), **kw)\n",
    "ax.coastlines(resolution='110m')\n",
    "ax.gridlines()\n",
    "\n",
    "# colorbar\n",
    "ax = f.add_axes([.1,.46,.8,.025])\n",
    "plt.colorbar(im, ax=ax, ticks=np.arange(-6000,6001,1500) ,format='%g', orientation='horizontal', label=r'bathymetry & topography [m]')\n",
    "\n",
    "print('axis 2')\n",
    "ax = f.add_axes([.01,0,.48,.38], projection=ccrs.TransverseMercator(-5))  # nice, but super slow\n",
    "# ax = f.add_axes([.01,0,.48,.38], projection=ccrs.PlateCarree(-5))\n",
    "ax.set_title('(b) HR-CESM Western Europe')\n",
    "ax.set_extent ((-25, 15, 33,60), crs=ccrs.PlateCarree())\n",
    "ax.pcolormesh(hh.lon, hh.lat, hh, **kw)\n",
    "ax.pcolormesh(dsh.TLONG, dsh.TLAT, -DZ_ocn.sum('z_t').where(dsh.REGION_MASK>0), **kw)\n",
    "ax.coastlines(resolution='50m')\n",
    "ax.gridlines()\n",
    "\n",
    "print('axis 3')\n",
    "ax = f.add_axes([.51,0,.48,.38], projection=ccrs.TransverseMercator(-5))\n",
    "# ax = f.add_axes([.51,0,.48,.38], projection=ccrs.PlateCarree(-5))\n",
    "ax.set_title('(c) LR-CESM Western Europe')\n",
    "ax.set_extent ((-25, 15, 33,60), crs=ccrs.PlateCarree())\n",
    "ax.pcolormesh(hl.lon, hl.lat, hl, **kw)\n",
    "ax.pcolormesh(dsl.TLONG, dsl.TLAT, -DZ_low.sum('z_t').where(dsl.REGION_MASK>0), **kw)\n",
    "ax.coastlines(resolution='50m')\n",
    "ax.gridlines()\n",
    "\n",
    "plt.savefig(f'{path_results}/thesis/2_topo2', dpi=600)"
   ]
  },
  {
   "cell_type": "markdown",
   "metadata": {},
   "source": [
    "## Rossby radius and resolution"
   ]
  },
  {
   "cell_type": "code",
   "execution_count": null,
   "metadata": {},
   "outputs": [],
   "source": [
    "# dsl.z_t.shift(z_t=1) # plus 1\n",
    "PD_ctrl = xr.open_dataset(f'{path_prace}/ctrl/ocn_yrly_TEMP_PD_0200.nc').PD\n",
    "PD_lpd = xr.open_dataset(f'{path_prace}/lpd/ocn_yrly_TEMP_PD_0500.nc').PD"
   ]
  },
  {
   "cell_type": "code",
   "execution_count": null,
   "metadata": {},
   "outputs": [],
   "source": [
    "def l1(ds, PD=None):\n",
    "    \"\"\" first baroclinic Rossby radius in [m] \"\"\"\n",
    "    if PD is not None:\n",
    "        PD = ds.PD\n",
    "    f = 2*2*np.pi/(24*3600)*np.sin(ds.TLAT*np.pi/180)\n",
    "    dz = (ds.z_t.shift(z_t=-1)-ds.z_t.shift(z_t=1))\n",
    "    dz[0], dz[-1] = ds.z_t[1]-ds.z_t[0], ds.z_t[-1]-ds.z_t[-2]\n",
    "    drhodz = 1e5*((PD.shift(z_t=1)-PD.shift(z_t=-1))/dz).squeeze()    \n",
    "    drhodz[0,:,:] = 1e5*((PD[0,0,:,:]-PD[0,1,:,:])/dz[0]).values\n",
    "    drhodz[-1,:,:] = 1e5*((PD[0,-2,:,:]-PD[0,-1,:,:])/dz[-1]).values\n",
    "    drhodz = xr.where(np.isnan(drhodz),0,drhodz)\n",
    "    N = np.sqrt(-9.81/1023*drhodz)\n",
    "    return 1/np.pi/np.abs(f)*(N*ds.dz/1e2).sum('z_t')\n",
    "\n",
    "Ldl = l1(dsl, PD=PD_lpd)\n",
    "Ldh = l1(dsh, PD=PD_ctrl)"
   ]
  },
  {
   "cell_type": "code",
   "execution_count": null,
   "metadata": {},
   "outputs": [],
   "source": [
    "def eff_grid_size(ds):\n",
    "    return np.sqrt((ds.DXT**2+ds.DYT**2)/2)*1e-5"
   ]
  },
  {
   "cell_type": "code",
   "execution_count": null,
   "metadata": {},
   "outputs": [],
   "source": [
    "# regridding for better plotting results\n",
    "RMASK_ocn = xr.open_dataarray(file_RMASK_ocn, decode_times=False).rename({'TLAT':'lat','TLONG':'lon'})\n",
    "# replace NaNs in continents with values from original grid file\n",
    "lats,lons = generate_lats_lons('ocn')\n",
    "RMASK_ocn['lat'].values = lats\n",
    "RMASK_ocn['lon'].values = lons\n",
    "\n",
    "ds_out = xe.util.grid_global(.4, .4)\n",
    "regridder = xe.Regridder(RMASK_ocn, ds_out, 'bilinear', reuse_weights=True, periodic=True)"
   ]
  },
  {
   "cell_type": "code",
   "execution_count": null,
   "metadata": {},
   "outputs": [],
   "source": [
    "Ldr = regridder(Ldh)\n",
    "mask = xr.where(regridder(RMASK_ocn)>0,1,0)*(xr.where(Ldr.lat<5,0,1)+xr.where(Ldr.lat>-5,0,1))\n",
    "mask2 = (xr.where(Ldl.TLAT<5,0,1)+xr.where(Ldl.TLAT>-5,0,1))\n",
    "El = eff_grid_size(dsl)\n",
    "Er = regridder(eff_grid_size(dsh))"
   ]
  },
  {
   "cell_type": "code",
   "execution_count": null,
   "metadata": {},
   "outputs": [],
   "source": [
    "print(f'mean grid size: HR {Er.mean().values:.2f} km;   LR {El.mean().values:.2f} km')\n",
    "print(f'median grid size: HR {Er.median().values:.2f} km;   LR {El.median().values:.2f} km')"
   ]
  },
  {
   "cell_type": "code",
   "execution_count": null,
   "metadata": {},
   "outputs": [],
   "source": [
    "f = plt.figure(figsize=(6.4, 8), constrained_layout=False)\n",
    "proj = ccrs.EckertI(central_longitude=210)\n",
    "kw = dict(transform=ccrs.PlateCarree(), shading='auto', norm=matplotlib.colors.LogNorm(vmin=2, vmax=200), cmap=plt.get_cmap('Spectral_r',30)) # 'twilight_shifted', 'BrBG_r'\n",
    "kw2 = dict(transform=ccrs.PlateCarree(), shading='auto', norm=matplotlib.colors.LogNorm(vmin=0.1, vmax=10), cmap=plt.get_cmap('RdYlGn',15)) # 'twilight_shifted'\n",
    "\n",
    "def axplot(ax, title):\n",
    "    ax.add_feature(cartopy.feature.LAND, zorder=2, facecolor='grey')\n",
    "    ax.coastlines(resolution='110m', lw=.5)\n",
    "    ax.gridlines(lw=.5)\n",
    "    ax.set_global()\n",
    "    ax.set_title(title)\n",
    "    return\n",
    "\n",
    "ax = f.add_axes([0,.5,1,1/2], projection=proj)\n",
    "ax.pcolormesh(Ldr.lon, Ldr.lat, Ldr.where(mask)/1e3, **kw)\n",
    "axplot(ax, r'(a) 1st baroclinic Rossby radius $L_D$')\n",
    "\n",
    "\n",
    "ax = f.add_axes([0,.265,.5,1/4], projection=proj)\n",
    "ax.pcolormesh(Er.lon, Er.lat, Er, **kw)\n",
    "axplot(ax, r'(b) HR-CESM $\\tilde{\\Delta}$  ')\n",
    "\n",
    "ax = f.add_axes([.5,.265,.5,1/4], projection=proj)\n",
    "im = ax.pcolormesh(dsl.TLONG, dsl.TLAT, El, **kw)\n",
    "axplot(ax, r'  (c) LR-CESM $\\tilde{\\Delta}$')\n",
    "\n",
    "ax = f.add_axes([.375,.52,.25,.015])\n",
    "cb = plt.colorbar(im, cax=ax, ticks=[2,5,10,20,50,100,200], format='%.0f', orientation='horizontal', label=r'$L_D$, $\\tilde{\\Delta}$  [km]')\n",
    "cb.ax.minorticks_off()\n",
    "\n",
    "\n",
    "\n",
    "ax = f.add_axes([0,0,.5,1/4], projection=proj)\n",
    "ax.pcolormesh(Er.lon, Er.lat, (Ldr/Er/1e3).where(mask), **kw2)\n",
    "axplot(ax, '(d) HR-CESM ratio  ')\n",
    "\n",
    "ax = f.add_axes([.5,0,.5,1/4], projection=proj)\n",
    "im = ax.pcolormesh(dsl.TLONG, dsl.TLAT, (Ldl/El/1e3).where(mask2), **kw2)\n",
    "axplot(ax, '  (e) LR-CESM ratio')\n",
    "\n",
    "\n",
    "ax = f.add_axes([.375,.255,.25,.015])\n",
    "formatter = matplotlib.ticker.LogFormatter(10, labelOnlyBase=False)\n",
    "xticks = [1/10,1/5,1/2,1,2,5,10]\n",
    "cb = plt.colorbar(im, cax=ax,ticks=xticks,format='%g', orientation='horizontal', label=r'$L_D/\\tilde{\\Delta}$')\n",
    "cb.ax.minorticks_off()\n",
    "plt.savefig(f'{path_results}/thesis/2_grid', dpi=600)"
   ]
  },
  {
   "cell_type": "code",
   "execution_count": null,
   "metadata": {},
   "outputs": [],
   "source": []
  }
 ],
 "metadata": {
  "kernelspec": {
   "display_name": "Python 3",
   "language": "python",
   "name": "python3"
  },
  "language_info": {
   "codemirror_mode": {
    "name": "ipython",
    "version": 3
   },
   "file_extension": ".py",
   "mimetype": "text/x-python",
   "name": "python",
   "nbconvert_exporter": "python",
   "pygments_lexer": "ipython3",
   "version": "3.7.6"
  }
 },
 "nbformat": 4,
 "nbformat_minor": 4
}
