{
 "cells": [
  {
   "cell_type": "markdown",
   "metadata": {},
   "source": [
    "# Ocean Heat Content - regrid\n",
    "To ease the computational load, I regridded the yearly averaged temperature and potential density files from the original curvilinear 0.1 degree grid to the a rectangular 0.4 degree grid.\n",
    "\n",
    "This notebook compared the OHC behaviour of the `ctrl` and `lpd` runs."
   ]
  },
  {
   "cell_type": "code",
   "execution_count": null,
   "metadata": {},
   "outputs": [],
   "source": [
    "import os\n",
    "import sys\n",
    "sys.path.append(\"..\")\n",
    "import numpy as np\n",
    "import xarray as xr\n",
    "import matplotlib\n",
    "import matplotlib.pyplot as plt"
   ]
  },
  {
   "cell_type": "code",
   "execution_count": null,
   "metadata": {},
   "outputs": [],
   "source": [
    "%matplotlib inline\n",
    "%config InlineBackend.print_figure_kwargs={'bbox_inches':None}\n",
    "%load_ext autoreload\n",
    "%autoreload 2\n",
    "%aimport - numpy - scipy - matplotlib.pyplot\n",
    "matplotlib.rc_file('../rc_file')"
   ]
  },
  {
   "cell_type": "code",
   "execution_count": null,
   "metadata": {},
   "outputs": [],
   "source": [
    "from paths import path_samoc, path_results\n",
    "from scipy.optimize import curve_fit\n",
    "from xr_regression import xr_quadtrend"
   ]
  },
  {
   "cell_type": "code",
   "execution_count": null,
   "metadata": {},
   "outputs": [],
   "source": [
    "ctrl = xr.open_dataset(f'{path_samoc}/OHC/OHC_integrals_ctrl.nc')\n",
    "lpd  = xr.open_dataset(f'{path_samoc}/OHC/OHC_integrals_lpd.nc' )\n",
    "spinup = 50  # how many years to ignore due to spinup effects: data from year 51 of ctrl run\n",
    "\n",
    "f, ax = plt.subplots(1, 2 , figsize=(8,3), sharey=True, gridspec_kw={\"width_ratios\":[len(ctrl.time), len(lpd.time)]})\n",
    "for i in range(2):\n",
    "    ax[i].axhline(0, c='grey', lw=.5)\n",
    "    ax[i].set_xlabel('time [model years]')\n",
    "    \n",
    "for i, ocean in enumerate(['Global', 'Atlantic', 'Pacific', 'Southern']):\n",
    "    key = f'OHC_{ocean}_Ocean'\n",
    "    c = ['k' ,'C0','C1','C3'][i]\n",
    "    ax[0].plot(ctrl.time/365, (ctrl[key]-ctrl[key][0])/1e21, c=c)\n",
    "    ax[1].plot(lpd .time/365, (lpd[key]-lpd[key][0]  )/1e21, c=c , ls='--', label=f'{ocean} Ocean')\n",
    "\n",
    "ax[0].set_ylabel('OHC anomaly [ZJ]')\n",
    "    \n",
    "ax[0].axvspan(0, spinup, alpha=0.3, color='grey')\n",
    "ax[1].axvspan(lpd.time[0+300-spinup]/365, lpd.time[-1]/365, alpha=0.3, color='grey', label='discarded data')\n",
    "\n",
    "ax[1].legend(frameon=False)\n",
    "\n",
    "ctrl = ctrl.isel(time=np.arange(50,300))\n",
    "ctrl = ctrl.assign_coords(time=ctrl.time.values/365)\n",
    "lpd  = lpd .isel(time=np.arange(0,300-spinup))\n",
    "lpd  = lpd .assign_coords(time=lpd .time.values/365)\n",
    "plt.savefig(f'{path_results}/OHC/OHC_anomalies_ctrl_lpd')"
   ]
  },
  {
   "cell_type": "markdown",
   "metadata": {},
   "source": [
    "grey shaded areas indicated discarded data"
   ]
  },
  {
   "cell_type": "markdown",
   "metadata": {},
   "source": [
    "## equilibration time"
   ]
  },
  {
   "cell_type": "code",
   "execution_count": null,
   "metadata": {},
   "outputs": [],
   "source": [
    "def adjustment_time(da, plot=True):\n",
    "    def exp_decay(x, a, b):\n",
    "        return a*np.exp(-x/b)\n",
    "    \n",
    "    Delta_da = (da - da.shift(time=1))\n",
    "    popt, pcov = curve_fit(exp_decay, Delta_da.time[1:], Delta_da.values[1:], p0=(Delta_da.values[1], 1000.))\n",
    "    tau = popt[1]\n",
    "\n",
    "    if plot==True:\n",
    "        cax = plt.gca()\n",
    "        cax.axhline(0, c='k', lw=.5)\n",
    "        cax.plot(Delta_da.time[1:], Delta_da.values[1:]/1e21)\n",
    "        cax.plot(Delta_da.time[1:], exp_decay(Delta_da.time[1:], *popt)/1e21, 'r-', label=\"Fitted Curve\")\n",
    "        tau_symbol = r'$\\tau$'\n",
    "        cax.text(.1, .85, f'{tau_symbol} = {tau:3.0f} years', transform=cax.transAxes, fontsize=16)\n",
    "        cax.set_ylim((-10,20))\n",
    "    return tau"
   ]
  },
  {
   "cell_type": "code",
   "execution_count": null,
   "metadata": {},
   "outputs": [],
   "source": [
    "# time series: depth-lat-lon integrated OHC\n",
    "fig = plt.figure(figsize=(8,8))\n",
    "ax = []\n",
    "for i, ocean in enumerate(['Global', 'Atlantic', 'Pacific', 'Southern']):\n",
    "    ax1 = fig.add_subplot(4,2,2*i+1)\n",
    "    ax.append(ax1)\n",
    "    Delta = r'$\\Delta$'\n",
    "    ax1.set_ylabel(f'{Delta}OHC {ocean} [ZJ]')\n",
    "    adjustment_time(ctrl[f'OHC_{ocean}_Ocean'])\n",
    "    \n",
    "    ax2 = fig.add_subplot(4,2,2*i+2)\n",
    "    ax2.set_yticklabels([])\n",
    "    ax.append(ax2)\n",
    "    adjustment_time(lpd [f'OHC_{ocean}_Ocean'])\n",
    "for i in range(3):\n",
    "    j = 2*i\n",
    "    ax[-1].get_shared_x_axes().join(ax[-1], ax[j+2])\n",
    "    ax[-2].get_shared_x_axes().join(ax[-2], ax[j+3])\n",
    "    ax[j].set_xticklabels([])\n",
    "    ax[j+1].set_xticklabels([])\n",
    "for i in range(2):\n",
    "    ax[-i-1].set_xlabel('model years')\n",
    "\n",
    "plt.subplots_adjust(bottom=0.06, left=.08, right=0.99, top=0.99, wspace=.1, hspace=.1)\n",
    "# plt.savefig(f'{path_results}/OHC/OHC_equilibration_full')  # comment out time selection above\n",
    "plt.savefig(f'{path_results}/OHC/OHC_equilibration_select')\n"
   ]
  },
  {
   "cell_type": "code",
   "execution_count": null,
   "metadata": {},
   "outputs": [],
   "source": [
    "# z-profiles: lat-lon integrated OHC\n"
   ]
  },
  {
   "cell_type": "markdown",
   "metadata": {},
   "source": [
    "## Latitudinal patterns"
   ]
  },
  {
   "cell_type": "code",
   "execution_count": null,
   "metadata": {},
   "outputs": [],
   "source": [
    "lpd_lat = lpd.TLAT.mean(axis=1)"
   ]
  },
  {
   "cell_type": "code",
   "execution_count": null,
   "metadata": {},
   "outputs": [],
   "source": [
    "f, ax = plt.subplots(1, 2 , figsize=(8,3))\n",
    "for i, ocean in enumerate(['Global', 'Atlantic', 'Pacific', 'Southern']):\n",
    "    key = f'OHC_zonal_{ocean}_Ocean'\n",
    "    c = ['k' ,'C0','C1','C3'][i]\n",
    "# mean\n",
    "    ax[0].plot(ctrl.t_lat, ctrl[key].mean(dim='time')    , c=c , label=ocean)\n",
    "    ax[0].plot(lpd_lat   , lpd [key].mean(dim='time')/100, c=c , ls='--')\n",
    "\n",
    "# std of quad. detrended\n",
    "    ax[1].plot(ctrl.t_lat, (ctrl[key]-xr_quadtrend(ctrl[key])).std(dim='time'), c=c)\n",
    "    ax[1].plot(lpd_lat   , (lpd[key] -xr_quadtrend(lpd[key] )).std(dim='time')/100, c=c , ls='--')\n",
    "ax[0].legend(frameon=False)\n",
    "\n",
    "plt.savefig(f'{path_results}/OHC/OHC_zonal_mean_std_ctrl_lpd')"
   ]
  },
  {
   "cell_type": "code",
   "execution_count": null,
   "metadata": {},
   "outputs": [],
   "source": [
    "extents = [(-78,90), (-40,80), (-40,70), (-40,30)]\n",
    "height_ratios = [a[1]-a[0] for a in extents]\n",
    "f, ax = plt.subplots(4, 3 , figsize=(8,10), sharex='col', gridspec_kw={\"width_ratios\":[1,1, 0.05], \"height_ratios\":height_ratios})\n",
    "cY, cX = np.meshgrid(ctrl.t_lat, ctrl.time)\n",
    "lY, lX = np.meshgrid(lpd.TLAT.mean(axis=1), lpd.time)\n",
    "vex, ims = [3e16, 2e16, 2e16, 1e16], []\n",
    "for i, ocean in enumerate(['Global', 'Atlantic', 'Pacific', 'Indian']):\n",
    "    kwargs = {'cmap':'RdBu', 'vmin':-vex[i], 'vmax':vex[i]}\n",
    "    key = f'OHC_zonal_{ocean}_Ocean'\n",
    "    im = ax[i,0].pcolormesh(cX, cY, ctrl[key] -xr_quadtrend(ctrl[key]), **kwargs)\n",
    "    ims.append(im)\n",
    "    ax[i,1].pcolormesh(lX, lY, (lpd[key]-xr_quadtrend(lpd[key]))/100, **kwargs)\n",
    "    for j in range(2):  \n",
    "        ax[i,j].axhline(0, c='grey', lw=.5, ls='--')\n",
    "        ax[i,j].set_yticks(np.arange(-60,100,30))\n",
    "        ax[i,j].set_ylim(extents[i])\n",
    "    if i==0:\n",
    "        ax[0,0].text(.05, .2, 'Southern Ocean', c='g', transform=ax[0,0].transAxes)\n",
    "        for j in range(2):\n",
    "            ax[0,j].axhline(-31.5, c='g', lw=.8)\n",
    "            ax[0,j].text(.5, 1.02, ['CTRL', 'LPD'][j], transform=ax[0,j].transAxes)\n",
    "            ax[-1,j].set_xlabel('time [model years]')\n",
    "    ax[i,0].text(.05, .9, ocean, c='g', transform=ax[i,0].transAxes)\n",
    "    ax[i,0].set_ylabel('latitude')\n",
    "    ax[i,0].get_shared_y_axes().join(ax[i,0], ax[i,1])\n",
    "    cb = f.colorbar(ims[i], cax=ax[i,2], ticks=np.arange(-3e16,4e16,1e16))\n",
    "    cb.outline.set_visible(False)\n",
    "plt.savefig(f'{path_results}/OHC/OHC_zonal_Hovmoeller_ctrl_lpd')"
   ]
  },
  {
   "cell_type": "markdown",
   "metadata": {},
   "source": []
  },
  {
   "cell_type": "code",
   "execution_count": null,
   "metadata": {},
   "outputs": [],
   "source": []
  }
 ],
 "metadata": {
  "kernelspec": {
   "display_name": "Python 3",
   "language": "python",
   "name": "python3"
  },
  "language_info": {
   "codemirror_mode": {
    "name": "ipython",
    "version": 3
   },
   "file_extension": ".py",
   "mimetype": "text/x-python",
   "name": "python",
   "nbconvert_exporter": "python",
   "pygments_lexer": "ipython3",
   "version": "3.6.7"
  }
 },
 "nbformat": 4,
 "nbformat_minor": 4
}
