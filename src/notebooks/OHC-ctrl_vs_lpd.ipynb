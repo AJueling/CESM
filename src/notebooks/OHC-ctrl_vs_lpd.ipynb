{
 "cells": [
  {
   "cell_type": "markdown",
   "metadata": {},
   "source": [
    "# Ocean Heat Content - regrid\n",
    "To ease the computational load, I regridded the yearly averaged temperature and potential density files from the original curvilinear 0.1 degree grid to the a rectangular 0.4 degree grid.\n",
    "\n",
    "This notebook compared the OHC behaviour of the `ctrl` and `lpd` runs."
   ]
  },
  {
   "cell_type": "code",
   "execution_count": null,
   "metadata": {},
   "outputs": [],
   "source": [
    "import os\n",
    "import sys\n",
    "sys.path.append(\"..\")\n",
    "import numpy as np\n",
    "import xarray as xr\n",
    "import matplotlib\n",
    "import matplotlib.pyplot as plt"
   ]
  },
  {
   "cell_type": "code",
   "execution_count": null,
   "metadata": {},
   "outputs": [],
   "source": [
    "%matplotlib inline\n",
    "%config InlineBackend.print_figure_kwargs={'bbox_inches':None}\n",
    "%load_ext autoreload\n",
    "%autoreload 2\n",
    "%aimport - numpy - scipy - matplotlib.pyplot\n",
    "matplotlib.rc_file('../rc_file')"
   ]
  },
  {
   "cell_type": "code",
   "execution_count": null,
   "metadata": {},
   "outputs": [],
   "source": [
    "from paths import path_samoc\n",
    "from xr_regression import xr_quadtrend"
   ]
  },
  {
   "cell_type": "code",
   "execution_count": null,
   "metadata": {},
   "outputs": [],
   "source": [
    "ctrl = xr.open_dataset(f'{path_samoc}/OHC/OHC_integrals_ctrl.nc')\n",
    "lpd  = xr.open_dataset(f'{path_samoc}/OHC/OHC_integrals_lpd.nc' )\n",
    "spinup = 50  # how many years to ignore due to spinup effects: data from year 51 of ctrl run\n",
    "\n",
    "f, ax = plt.subplots(1, 2 , figsize=(8,3), sharey=True)\n",
    "for i in range(2):  ax[i].axhline(0, c='grey', lw=.5)\n",
    "    \n",
    "for i, ocean in enumerate(['Global', 'Atlantic', 'Pacific', 'Southern']):\n",
    "    key = f'OHC_{ocean}_Ocean'\n",
    "    c = ['k' ,'C0','C1','C3'][i]\n",
    "    ax[0].plot(ctrl.time/365, ctrl[key]-ctrl[key][0], c=c, label=ocean)\n",
    "    ax[1].plot(lpd .time/365, lpd[key]-lpd[key][0], c=c , ls='--')\n",
    "\n",
    "ax[0].axvspan(0, spinup, alpha=0.3, color='grey')\n",
    "ax[1].axvspan(lpd.time[0+300-spinup]/365, lpd.time[-1]/365, alpha=0.3, color='grey')\n",
    "\n",
    "ax[0].legend(frameon=False)\n",
    "\n",
    "ctrl = ctrl.isel(time=np.arange(50,300))\n",
    "ctrl = ctrl.assign_coords(time=ctrl.time.values/365)\n",
    "lpd  = lpd .isel(time=np.arange(0,300-spinup))\n",
    "lpd  = lpd .assign_coords(time=lpd .time.values/365)"
   ]
  },
  {
   "cell_type": "markdown",
   "metadata": {},
   "source": [
    "grey shaded areas indicated discarded data"
   ]
  },
  {
   "cell_type": "code",
   "execution_count": null,
   "metadata": {},
   "outputs": [],
   "source": [
    "# adjustment time"
   ]
  },
  {
   "cell_type": "code",
   "execution_count": null,
   "metadata": {},
   "outputs": [],
   "source": [
    "lpd_lat = lpd.TLAT.mean(axis=1)"
   ]
  },
  {
   "cell_type": "code",
   "execution_count": null,
   "metadata": {},
   "outputs": [],
   "source": [
    "f, ax = plt.subplots(1, 2 , figsize=(8,3))\n",
    "for i, ocean in enumerate(['Global', 'Atlantic', 'Pacific', 'Southern']):\n",
    "    key = f'OHC_zonal_{ocean}_Ocean'\n",
    "    c = ['k' ,'C0','C1','C3'][i]\n",
    "# mean\n",
    "    ax[0].plot(ctrl.t_lat, ctrl[key][:].mean(dim='time')    , c=c , label=ocean)\n",
    "    ax[0].plot(lpd_lat   , lpd [key][:].mean(dim='time')/100, c=c , ls='--')\n",
    "\n",
    "# std of quad. detrended\n",
    "    ax[1].plot(ctrl.t_lat, (ctrl[key][:]-xr_quadtrend(ctrl[key][:])).std(dim='time'), c=c)\n",
    "    ax[1].plot(lpd_lat   , (lpd[key] [:]-xr_quadtrend(lpd[key] [:])).std(dim='time')/100, c=c , ls='--')\n",
    "ax[0].legend(frameon=False)\n",
    "    "
   ]
  },
  {
   "cell_type": "code",
   "execution_count": null,
   "metadata": {},
   "outputs": [],
   "source": [
    "f, ax = plt.subplots(4, 2 , figsize=(8,12), sharey='row', sharex='col')\n",
    "cY, cX = np.meshgrid(ctrl.t_lat, ctrl.time)\n",
    "lY, lX = np.meshgrid(lpd.TLAT.mean(axis=1), lpd.time)\n",
    "for i, ocean in enumerate(['Global', 'Atlantic', 'Pacific', 'Indian']):\n",
    "    vex = [3e16, 2e16, 2e16, 1e16][i]\n",
    "    kwargs = {'cmap':'RdBu', 'vmin':-vex, 'vmax':vex}\n",
    "    key = f'OHC_zonal_{ocean}_Ocean'\n",
    "    im = ax[i,0].pcolormesh(cX, cY, ctrl[key] -xr_quadtrend(ctrl[key]), **kwargs)\n",
    "    ax[i,1].pcolormesh(lX, lY, (lpd[key]-xr_quadtrend(lpd[key]))/100, **kwargs)\n",
    "    for j in range(2):  ax[i,j].axhline(0, c='grey', lw=.5, ls='--')\n",
    "    ax[i,0].text(.05, .9, ocean, transform=ax[i,0].transAxes)\n",
    "    ax[i,0].set_ylabel('latitude')\n",
    "    ax[i,0].set_yticks(np.arange(-60,100,30))\n",
    "    if i==0:  ax[i,0].set_ylim((-78,90))\n",
    "    else:     ax[i,0].set_ylim((-40,90))\n",
    "ax[0,0].text(.05, .2, 'Southern Ocean', transform=ax[0,0].transAxes)\n",
    "for i in range(2):\n",
    "    ax[0,i].axhline(-31.5, c='k')\n",
    "    ax[-1,i].set_xlabel('time [model years]')\n",
    "# ax[0].colorbar()"
   ]
  },
  {
   "cell_type": "markdown",
   "metadata": {},
   "source": [
    "Qualitative difference especially in Pacific around 30N with signals propagating South.\n",
    "The Atlantic behaviour is qualitatively similar with southwar propagating anomalies in both simulations.\n",
    "The Southern Ocean shows hints of the SOM in the ctrl run."
   ]
  },
  {
   "cell_type": "code",
   "execution_count": null,
   "metadata": {},
   "outputs": [],
   "source": []
  }
 ],
 "metadata": {
  "kernelspec": {
   "display_name": "Python 3",
   "language": "python",
   "name": "python3"
  },
  "language_info": {
   "codemirror_mode": {
    "name": "ipython",
    "version": 3
   },
   "file_extension": ".py",
   "mimetype": "text/x-python",
   "name": "python",
   "nbconvert_exporter": "python",
   "pygments_lexer": "ipython3",
   "version": "3.6.7"
  }
 },
 "nbformat": 4,
 "nbformat_minor": 4
}
