{
 "cells": [
  {
   "cell_type": "markdown",
   "metadata": {},
   "source": [
    "# Ocean Heat Content - high vs. low resolution\n",
    "To ease the computational load, I regridded the yearly averaged temperature and potential density files from the original curvilinear 0.1 degree grid to the a rectangular 0.4 degree grid.\n",
    "\n",
    "This notebook compared the OHC behaviour of the `ctrl` and `lpd` runs."
   ]
  },
  {
   "cell_type": "code",
   "execution_count": null,
   "metadata": {},
   "outputs": [],
   "source": [
    "import os\n",
    "import sys\n",
    "sys.path.append(\"..\")\n",
    "import numpy as np\n",
    "import xarray as xr\n",
    "import cmocean\n",
    "import matplotlib\n",
    "import matplotlib.pyplot as plt\n",
    "import cartopy\n",
    "import cartopy.crs as ccrs\n",
    "\n",
    "from tqdm import tqdm\n",
    "from dask.distributed import Client, LocalCluster\n",
    "from scipy.optimize import curve_fit"
   ]
  },
  {
   "cell_type": "code",
   "execution_count": null,
   "metadata": {},
   "outputs": [],
   "source": [
    "%matplotlib inline\n",
    "%config InlineBackend.print_figure_kwargs={'bbox_inches':None}\n",
    "%load_ext autoreload\n",
    "%autoreload 2\n",
    "%aimport - numpy - scipy - matplotlib.pyplot\n",
    "matplotlib.rc_file('../rc_file')"
   ]
  },
  {
   "cell_type": "code",
   "execution_count": null,
   "metadata": {},
   "outputs": [],
   "source": [
    "from paths import path_samoc, path_results\n",
    "from xr_regression import xr_quadtrend\n",
    "from regions import boolean_mask\n",
    "from grid import create_dz_mean"
   ]
  },
  {
   "cell_type": "code",
   "execution_count": null,
   "metadata": {},
   "outputs": [],
   "source": [
    "cluster = LocalCluster(n_workers=2)\n",
    "client = Client(cluster)"
   ]
  },
  {
   "cell_type": "code",
   "execution_count": null,
   "metadata": {},
   "outputs": [],
   "source": [
    "client"
   ]
  },
  {
   "cell_type": "markdown",
   "metadata": {},
   "source": [
    "need to execute:\n",
    "`ssh -N -L 8787:127.0.0.1:8787 dijkbio@int2-bb.cartesius.surfsara.nl`"
   ]
  },
  {
   "cell_type": "code",
   "execution_count": null,
   "metadata": {},
   "outputs": [],
   "source": [
    "ctrl = xr.open_dataset(f'{path_samoc}/OHC/OHC_integrals_ctrl.nc')\n",
    "ctrl = ctrl.assign_coords(time=ctrl.time.values/365)\n",
    "lpd  = xr.open_dataset(f'{path_samoc}/OHC/OHC_integrals_lpd.nc' )\n",
    "lpd  = lpd .assign_coords(time=lpd .time.values/365)\n",
    "\n",
    "ctrl_qd = xr.open_dataset(f'{path_samoc}/OHC/OHC_integrals_ctrl_qd.nc', decode_times=False)\n",
    "lpd_qd  = xr.open_dataset(f'{path_samoc}/OHC/OHC_integrals_lpd_qd.nc' , decode_times=False)\n",
    "\n",
    "spinup = 50  # how many years to ignore due to spinup effects: data from year 51 of ctrl run\n",
    "\n",
    "def plot_global_OHC(ctrl, lpd, fn=None, offset=True):\n",
    "    f, ax = plt.subplots(1, 2 , figsize=(8,3), sharey=True,\n",
    "                         gridspec_kw={\"width_ratios\":[len(ctrl.time), len(lpd.time)]})\n",
    "    for i in range(2):\n",
    "        ax[i].axhline(0, c='grey', lw=.5)\n",
    "        ax[i].set_xlabel('time [model years]')\n",
    "\n",
    "    for i, ocean in enumerate(['Global', 'Atlantic', 'Pacific', 'Southern']):\n",
    "        key = f'OHC_{ocean}_Ocean'\n",
    "        c = ['k' ,'C0','C1','C3'][i]\n",
    "        for j, da in enumerate([ctrl, lpd]):\n",
    "            if offset==True:  x = (da[key]-da[key][0])/1e21\n",
    "            else:             x = da[key]/1e21\n",
    "            ax[j].plot(x.time, x, c=c ,label=f'{ocean} Ocean')\n",
    "\n",
    "#     ax[0].set_ylim((-250, (np.max(lpd.OHC_Global_Ocean-lpd.OHC_Global_Ocean[0])/1e21)))\n",
    "    ax[0].set_ylabel('OHC anomaly [ZJ]')\n",
    "    if fn is not None:\n",
    "        ax[0].axvspan(0, spinup, alpha=0.3, color='grey')\n",
    "        ax[1].axvspan(lpd.time[0+300-spinup], lpd.time[-1], alpha=0.3, color='grey', label='discarded data')\n",
    "    ax[1].legend(frameon=False)\n",
    "    if fn is not None:  plt.savefig(fn)\n",
    "    return\n",
    "\n",
    "plot_global_OHC(ctrl, lpd, fn=f'{path_results}/OHC/OHC_anomalies_ctrl_lpd')\n",
    "\n",
    "ctrl = ctrl.isel(time=np.arange(50,300))\n",
    "lpd  = lpd .isel(time=np.arange(0,300-spinup))\n",
    "\n",
    "plot_global_OHC(ctrl, lpd)\n",
    "plot_global_OHC(ctrl_qd, lpd_qd, offset=False)"
   ]
  },
  {
   "cell_type": "markdown",
   "metadata": {},
   "source": [
    "## equilibration time"
   ]
  },
  {
   "cell_type": "code",
   "execution_count": null,
   "metadata": {},
   "outputs": [],
   "source": [
    "def exp_decay(x, a, b):\n",
    "    return a*np.exp(-x/b)\n",
    "\n",
    "def exp_fit(da_fit):\n",
    "    initial_guess = (da_fit.values[0], 1000.)\n",
    "    return curve_fit(exp_decay, da_fit.time, da_fit.values, p0=initial_guess)[0]\n",
    "   \n",
    "def adjustment_time(da):\n",
    "    Delta_da = (da - da.shift(time=1))[1:]\n",
    "    if len(da.coords)==1:  # 1D time series\n",
    "        popt = exp_fit(Delta_da)  # array of size ((2))\n",
    "    else:\n",
    "        stacked = False\n",
    "        if len(da.coords)>2:  # need to be stacked\n",
    "            stacked = True\n",
    "            Delta_da = Delta_da.stack(stacked_coord=list(da.coords.keys())[1:])\n",
    "            print(Delta_da)\n",
    "        assert len(Delta_da.coords)==2\n",
    "        coord = list(Delta_da.coords)[1]\n",
    "        A = np.zeros((len(Delta_da[coord]), 2))\n",
    "        for i, c in tqdm(enumerate(Delta_da[coord])):\n",
    "            if np.any(np.isnan(c)):  continue  # skipping nans\n",
    "            A[i,:] = exp_fit(Delta_da[:,i])\n",
    "        D = Delta_da.isel({'time':0}).drop('time')  # skeleton DataArray with correct dimensions\n",
    "        popt0 = D.copy(data=A[:,0])\n",
    "        popt1 = D.copy(data=A[:,1])\n",
    "        if stacked==True:  # unstacking\n",
    "            popt0 = popt0.unstack()\n",
    "            popt1 = popt1.unstack()\n",
    "        popt0.name, popt1.name= 'popt0','popt1'\n",
    "        popt = xr.merge([popt0, popt1])\n",
    "    return popt"
   ]
  },
  {
   "cell_type": "code",
   "execution_count": null,
   "metadata": {},
   "outputs": [],
   "source": [
    "# time series: depth-lat-lon integrated OHC\n",
    "def plot_adjustment_timeseries(da):\n",
    "    Delta_da = (da - da.shift(time=1))\n",
    "    popt = adjustment_time(da)\n",
    "    cax = plt.gca()\n",
    "    cax.axhline(0, c='k', lw=.5)\n",
    "    cax.plot(Delta_da.time[1:], Delta_da.values[1:]/1e21)\n",
    "    cax.plot(Delta_da.time[1:], exp_decay(Delta_da.time[1:], *popt)/1e21, 'r-', label=\"Fitted Curve\")\n",
    "    tau_symbol = r'$\\tau$'\n",
    "    cax.text(.1, .85, f'{tau_symbol} = {popt[1]:3.0f} years', transform=cax.transAxes, fontsize=16)\n",
    "    cax.set_ylim((-10,20))\n",
    "    return\n",
    "\n",
    "fig = plt.figure(figsize=(8,8))\n",
    "ax = []\n",
    "for i, ocean in enumerate(['Global', 'Atlantic', 'Pacific', 'Southern']):\n",
    "    Delta = r'$\\Delta$'\n",
    "\n",
    "    ax1 = fig.add_subplot(4,2,2*i+1)\n",
    "    ax.append(ax1)\n",
    "    ax1.set_ylabel(f'{Delta}OHC {ocean} [ZJ]')\n",
    "    plot_adjustment_timeseries(ctrl[f'OHC_{ocean}_Ocean'])\n",
    "    \n",
    "    ax2 = fig.add_subplot(4,2,2*i+2)\n",
    "    ax2.set_yticklabels([])\n",
    "    ax.append(ax2)\n",
    "    plot_adjustment_timeseries(lpd[f'OHC_{ocean}_Ocean'])\n",
    "    \n",
    "for i in range(3):\n",
    "    j = 2*i\n",
    "    ax[-1].get_shared_x_axes().join(ax[-1], ax[j+2])\n",
    "    ax[-2].get_shared_x_axes().join(ax[-2], ax[j+3])\n",
    "    ax[j].set_xticklabels([])\n",
    "    ax[j+1].set_xticklabels([])\n",
    "    if i<2:  ax[-i-1].set_xlabel('model years')\n",
    "\n",
    "plt.subplots_adjust(bottom=0.06, left=.08, right=0.99, top=0.99, wspace=.1, hspace=.1)\n",
    "# plt.savefig(f'{path_results}/OHC/OHC_equilibration_full')  # comment out time selection above\n",
    "# plt.savefig(f'{path_results}/OHC/OHC_equilibration_select')\n"
   ]
  },
  {
   "cell_type": "markdown",
   "metadata": {},
   "source": [
    "## depth warming patterns"
   ]
  },
  {
   "cell_type": "code",
   "execution_count": null,
   "metadata": {},
   "outputs": [],
   "source": [
    "# from mpl_toolkits.axes_grid1 import make_axes_locatable\n",
    "# def colorbar(mappable):\n",
    "#     ax = mappable.axes\n",
    "#     fig = ax.figure\n",
    "#     divider = make_axes_locatable(ax)\n",
    "#     cax = divider.append_axes(\"right\", size=\"5%\", pad=0.2)\n",
    "#     return fig.colorbar(mappable, cax=cax)#, orientation='horizontal')\n",
    "\n",
    "def plot_vertical_Hovmoeller(ctrl, lpd, ylim, fn, offset=True):\n",
    "    oceans = ['Global', 'Atlantic', 'Pacific', 'Southern', 'Indian', 'Mediterranean']\n",
    "    das = [ctrl, lpd]\n",
    "    f, ax = plt.subplots(len(oceans),2, figsize=(8,12), sharey=True, sharex='col')\n",
    "    for j, ocean in enumerate(oceans):\n",
    "        if j<5:  name = f'{ocean}_Ocean'\n",
    "        else:    name = ocean\n",
    "        da1 = das[0][f'OHC_levels_{name}']\n",
    "        da2 = das[1][f'OHC_levels_{name}']\n",
    "        maxv = np.max([(da1-da1.isel(time=slice(0,30)).mean(dim='time')).max(), \n",
    "                       (da2-da2.isel(time=slice(0,30)).mean(dim='time')).max()])/1e21/1.2\n",
    "        for i in range(2):\n",
    "            da = das[i][f'OHC_levels_{name}']\n",
    "            X, Y = np.meshgrid(da.time, -da.coords[['depth_t', 'z_t'][i]]/[1, 1e2][i])\n",
    "            if offset==True: x = (da-da.isel(time=slice(0,30)).mean(dim='time')).T/1e21\n",
    "            else:            x = da.T/1e21\n",
    "            im = ax[j,i].pcolormesh(X, Y, x, vmin=-maxv, vmax=maxv, cmap=cmocean.cm.balance)\n",
    "#             if i==1:  colorbar(im)\n",
    "            if i==1:  f.colorbar(im, ax=ax[j,i], orientation='vertical', fraction=.1, label='[ZJ/m]')\n",
    "        ax[j,0].set_ylabel(ocean)\n",
    "        ax[j,0].set_ylim(ylim)\n",
    "    for i in range(2):\n",
    "        ax[0,i].text(.5,1.05,['CTRL', 'LPD'][i], transform=ax[0,i].transAxes)\n",
    "        ax[-1,i].set_xlabel('time [model years]')\n",
    "    plt.savefig(fn)\n",
    "    return\n",
    "\n",
    "        \n",
    "for i, [c, l] in enumerate([[ctrl, lpd], [ctrl_qd, lpd_qd]]):\n",
    "    for j, ylim in enumerate([(-6000,0), (-1000,0)]):\n",
    "        ext = ['','_qd'][i]\n",
    "        fn = f'{path_results}/OHC/OHC_vertical_Hovmoeller_0-{-ylim[0]}m_ctrl_lpd{ext}'\n",
    "        print(fn)\n",
    "        plot_vertical_Hovmoeller(c, l, ylim, fn, offset=[True, False][i])"
   ]
  },
  {
   "cell_type": "markdown",
   "metadata": {},
   "source": [
    "## Latitudinal patterns"
   ]
  },
  {
   "cell_type": "code",
   "execution_count": null,
   "metadata": {},
   "outputs": [],
   "source": [
    "lpd_lat = lpd.TLAT.mean(axis=1)"
   ]
  },
  {
   "cell_type": "code",
   "execution_count": null,
   "metadata": {},
   "outputs": [],
   "source": [
    "f, ax = plt.subplots(1, 2 , figsize=(8,3))\n",
    "for i, ocean in enumerate(['Global', 'Atlantic', 'Pacific', 'Southern']):\n",
    "    key = f'OHC_zonal_{ocean}_Ocean'\n",
    "    c = ['k' ,'C0','C1','C3'][i]\n",
    "# mean\n",
    "    ax[0].plot(ctrl.t_lat, ctrl[key].mean(dim='time')    , c=c , label=ocean)\n",
    "    ax[0].plot(lpd_lat   , lpd [key].mean(dim='time')/100, c=c , ls='--')\n",
    "\n",
    "# std of quad. detrended\n",
    "    ax[1].plot(ctrl.t_lat, (ctrl[key]-xr_quadtrend(ctrl[key])).std(dim='time'), c=c)\n",
    "    ax[1].plot(lpd_lat   , (lpd[key] -xr_quadtrend(lpd[key] )).std(dim='time')/100, c=c , ls='--')\n",
    "ax[0].legend(frameon=False)\n",
    "\n",
    "plt.savefig(f'{path_results}/OHC/OHC_zonal_mean_std_ctrl_lpd')"
   ]
  },
  {
   "cell_type": "code",
   "execution_count": null,
   "metadata": {},
   "outputs": [],
   "source": [
    "# testing whether latitude binning influences the std\n",
    "test = ctrl[f'OHC_zonal_Global_Ocean'].coarsen(dim={'t_lat':5}, boundary='trim').mean()\n",
    "plt.plot(ctrl.t_lat, (ctrl[f'OHC_zonal_Global_Ocean']-xr_quadtrend(ctrl[f'OHC_zonal_Global_Ocean'])).std(dim='time'), c=c)\n",
    "plt.plot(test.t_lat, (test-xr_quadtrend(test)).std(dim='time'), c=c)"
   ]
  },
  {
   "cell_type": "code",
   "execution_count": null,
   "metadata": {},
   "outputs": [],
   "source": [
    "extents = [(-78,90), (-40,80), (-40,70), (-40,30)]\n",
    "height_ratios = [a[1]-a[0] for a in extents]\n",
    "f, ax = plt.subplots(4, 3 , figsize=(8,10), sharex='col', gridspec_kw={\"width_ratios\":[1,1, 0.05], \"height_ratios\":height_ratios})\n",
    "cY, cX = np.meshgrid(ctrl.t_lat, ctrl.time)\n",
    "lY, lX = np.meshgrid(lpd.TLAT.mean(axis=1), lpd.time)\n",
    "vex, ims = [3e16, 2e16, 2e16, 1e16], []\n",
    "for i, ocean in enumerate(['Global', 'Atlantic', 'Pacific', 'Indian']):\n",
    "    kwargs = {'cmap':'RdBu', 'vmin':-vex[i], 'vmax':vex[i]}\n",
    "    key = f'OHC_zonal_{ocean}_Ocean'\n",
    "    im = ax[i,0].pcolormesh(cX, cY, ctrl[key] -xr_quadtrend(ctrl[key]), **kwargs)\n",
    "    ims.append(im)\n",
    "    ax[i,1].pcolormesh(lX, lY, (lpd[key]-xr_quadtrend(lpd[key]))/100, **kwargs)\n",
    "    for j in range(2):  \n",
    "        ax[i,j].axhline(0, c='grey', lw=.5, ls='--')\n",
    "        ax[i,j].set_yticks(np.arange(-60,100,30))\n",
    "        ax[i,j].set_ylim(extents[i])\n",
    "    if i==0:\n",
    "        ax[0,0].text(.05, .2, 'Southern Ocean', c='g', transform=ax[0,0].transAxes)\n",
    "        for j in range(2):\n",
    "            ax[0,j].axhline(-31.5, c='g', lw=.8)\n",
    "            ax[0,j].text(.5, 1.02, ['CTRL', 'LPD'][j], transform=ax[0,j].transAxes, ha='center')\n",
    "            ax[-1,j].set_xlabel('time [model years]')\n",
    "    ax[i,0].text(.05, .9, ocean, c='g', transform=ax[i,0].transAxes)\n",
    "    ax[i,0].set_ylabel('latitude')\n",
    "    ax[i,0].get_shared_y_axes().join(ax[i,0], ax[i,1])\n",
    "    cb = f.colorbar(ims[i], cax=ax[i,2], ticks=np.arange(-3e16,4e16,1e16))\n",
    "    cb.outline.set_visible(False)\n",
    "plt.savefig(f'{path_results}/OHC/OHC_zonal_Hovmoeller_ctrl_lpd')"
   ]
  },
  {
   "cell_type": "markdown",
   "metadata": {},
   "source": [
    "### change in depth-latitude space"
   ]
  },
  {
   "cell_type": "code",
   "execution_count": null,
   "metadata": {},
   "outputs": [],
   "source": [
    "ctrl_qd[f'OHC_zonal_levels_{ocean}_Ocean'].isel(time=0).plot()"
   ]
  },
  {
   "cell_type": "code",
   "execution_count": null,
   "metadata": {},
   "outputs": [],
   "source": [
    "def plot_vertical_latitude_change(ctrl, lpd, ylim=(-6000,0), y=None, fn=None):\n",
    "    oceans = ['Global', 'Atlantic', 'Pacific', 'Indian']\n",
    "    das = [ctrl, lpd]\n",
    "    f, ax = plt.subplots(len(oceans),2, figsize=(8,10), sharey=True, sharex='col')\n",
    "    for i, ds in enumerate([ctrl, lpd]):\n",
    "        X, Y = np.meshgrid([ctrl.t_lat,lpd_lat][i], -ds.coords[['depth_t', 'z_t'][i]]/[1, 1e2][i])\n",
    "        \n",
    "        \n",
    "        for j, ocean in enumerate(oceans):\n",
    "            if j==0:\n",
    "                ax[0,i].text(.5, 1.02, ['CTRL', 'LPD'][j], transform=ax[0,i].transAxes, ha='center')\n",
    "                ax[-1,i].set_xlabel('time [model years]')\n",
    "                ax[0,i].axvline(-31.5, c='g', lw=.8)\n",
    "                \n",
    "            if i==0:\n",
    "                ax[j,0].set_ylabel(f'{ocean}')\n",
    "                \n",
    "                \n",
    "            da = ds[f'OHC_zonal_levels_{ocean}_Ocean']\n",
    "            \n",
    "            if y is None:\n",
    "                maxv = 8e13\n",
    "                x = (da.isel(time=slice(-31,-1)).mean(dim='time') -\\\n",
    "                     da.isel(time=slice(0,30)).mean(dim='time'))*[1,1e-2][i]\n",
    "            else:\n",
    "                assert type(y)==int and y>=0 and y<len(da.time)\n",
    "                maxv = 2e13\n",
    "                x = da.isel(time=y)*[1,1e-2][i]\n",
    "                \n",
    "            im = ax[j,i].pcolormesh(X, Y, x,\n",
    "                                    vmin=-maxv, vmax=maxv,\n",
    "                                    cmap=cmocean.cm.balance)\n",
    "            if i==1:\n",
    "                f.colorbar(im, ax=ax[j,i], orientation='vertical', fraction=.1, label=r'[J/m$^{2}$]')\n",
    "            ax[j,i].set_ylim(ylim)\n",
    "            if y is not None: ax[0,0].text(300, 100, f'year {y:3.0f}')\n",
    "            if fn is not None:  plt.savefig(fn)\n",
    "\n",
    "fn  = f'{path_results}/OHC_vertical_latitude_difference_ctrl_lpd'\n",
    "# plot_vertical_latitude_change(ctrl, lpd, fn=fn)\n",
    "for i in range(250):\n",
    "    fn  = f'{path_results}/OHC_vertical_latitude_anomaly_ctrl_lpd_{i:04d}'\n",
    "    plot_vertical_latitude_change(ctrl_qd, lpd_qd, y=i, fn=fn)"
   ]
  },
  {
   "cell_type": "markdown",
   "metadata": {},
   "source": [
    "## depth integrated patterns"
   ]
  },
  {
   "cell_type": "code",
   "execution_count": null,
   "metadata": {},
   "outputs": [],
   "source": [
    "maxv = []\n",
    "for j, depths in enumerate([(0,6000), (0,100), (0,700), (700,2000)]):\n",
    "    key = f'OHC_vertical_{depths[0]}_{depths[1]}m'\n",
    "    maxv.append(np.max([np.abs(ctrl_qd[key]).max(), np.abs(lpd_qd[key]).max()])/3)\n",
    "print(maxv)"
   ]
  },
  {
   "cell_type": "code",
   "execution_count": null,
   "metadata": {},
   "outputs": [],
   "source": [
    "%%time\n",
    "for y in range(1):\n",
    "    f, ax = plt.subplots(4, 3 , figsize=(10,10),\n",
    "                         gridspec_kw={\"width_ratios\":[1,1, 0.05]}, \n",
    "                         subplot_kw=dict(projection=ccrs.EqualEarth(central_longitude=300)))\n",
    "    for i, ds in enumerate([ctrl_qd, lpd_qd]):\n",
    "        name = ['CTRL', 'LPD'][i]\n",
    "        MASK = boolean_mask(['ocn_rect', 'ocn_low'][i], mask_nr=0)\n",
    "        if i==0:   X, Y = np.meshgrid(ds.t_lon, ds.t_lat)\n",
    "        else:      X, Y = ds.TLONG, ds.TLAT\n",
    "        for j, depths in enumerate([(0,6000), (0,100), (0,700), (700,2000)]):\n",
    "            key = f'OHC_vertical_{depths[0]}_{depths[1]}m'\n",
    "            im = ax[j,i].pcolormesh(X, Y, ds[key][y,:,:].where(MASK),\n",
    "                                    transform=ccrs.PlateCarree(),\n",
    "                                    vmin=-maxv[j], vmax=maxv[j],\n",
    "                                    cmap=cmocean.cm.balance)\n",
    "            ax[j,i].add_feature(cartopy.feature.LAND,\n",
    "                                zorder=2, edgecolor='black', facecolor='w')\n",
    "            if j==0:\n",
    "                year = f'{ds.time.values[y]:3.0f}'\n",
    "                ax[0,i].text(.5, 1.1, f'{name} (year {year})',\n",
    "                             transform=ax[0,i].transAxes, ha='center')\n",
    "            ax[j,i].text(.5, 1.02, ['full depth (0-6000m)', 'surface (0-100m)',\n",
    "                                    'upper ocean (0-700m)', 'lower ocean (700-2000m)'][j],\n",
    "                         transform=ax[j,i].transAxes, ha='center')\n",
    "            if i==1:\n",
    "                cb = f.colorbar(im, ax=ax[j,2], orientation='vertical', label=r'OHC [J/m$^{2}$]')#, ticks=np.arange(-3e16,4e16,1e16))\n",
    "                cb.outline.set_visible(False)\n",
    "#                 ax[j,0].set_ylabel(['full depth (0-6000m)', 'surface (0-100m)',\n",
    "#                                     'upper ocean (0-700m)', 'lower ocean (700-2000m)'][j])"
   ]
  },
  {
   "cell_type": "code",
   "execution_count": null,
   "metadata": {},
   "outputs": [],
   "source": []
  }
 ],
 "metadata": {
  "kernelspec": {
   "display_name": "Python 3",
   "language": "python",
   "name": "python3"
  },
  "language_info": {
   "codemirror_mode": {
    "name": "ipython",
    "version": 3
   },
   "file_extension": ".py",
   "mimetype": "text/x-python",
   "name": "python",
   "nbconvert_exporter": "python",
   "pygments_lexer": "ipython3",
   "version": "3.6.7"
  }
 },
 "nbformat": 4,
 "nbformat_minor": 4
}
