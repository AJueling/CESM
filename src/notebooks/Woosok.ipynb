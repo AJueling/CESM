{
 "cells": [
  {
   "cell_type": "markdown",
   "metadata": {},
   "source": [
    "# collaboration with Woosok Moon"
   ]
  },
  {
   "cell_type": "code",
   "execution_count": null,
   "metadata": {},
   "outputs": [],
   "source": [
    "import os\n",
    "import sys\n",
    "import numpy as np\n",
    "import xesmf as xe\n",
    "import xarray as xr\n",
    "import pandas as pd\n",
    "import cmocean\n",
    "import cartopy\n",
    "import cartopy.crs as ccrs\n",
    "import matplotlib as mpl\n",
    "import matplotlib\n",
    "import matplotlib.pyplot as plt"
   ]
  },
  {
   "cell_type": "code",
   "execution_count": null,
   "metadata": {},
   "outputs": [],
   "source": [
    "%matplotlib inline\n",
    "%config InlineBackend.print_figure_kwargs={'bbox_inches':None}\n",
    "matplotlib.rc_file('../rc_file')\n",
    "%load_ext autoreload\n",
    "%autoreload 2\n",
    "%aimport - numpy - scipy - matplotlib.pyplot"
   ]
  },
  {
   "cell_type": "code",
   "execution_count": null,
   "metadata": {},
   "outputs": [],
   "source": [
    "sys.path.append(\"..\")\n",
    "from tqdm import tqdm_notebook\n",
    "from maps import rect_polygon\n",
    "from paths import path_results, path_prace, path_data\n",
    "from filters import lowpass\n",
    "from regions import SST_index_bounds, mask_box_in_region\n",
    "from xr_DataArrays import xr_AREA\n",
    "from ab_derivation_SST import DeriveSST as DS"
   ]
  },
  {
   "cell_type": "markdown",
   "metadata": {},
   "source": [
    "# PDO vs SO index time series in observations, high, and low resolution CESM"
   ]
  },
  {
   "cell_type": "code",
   "execution_count": null,
   "metadata": {},
   "outputs": [],
   "source": [
    "ax = plt.axes(projection=ccrs.PlateCarree(central_longitude=275))\n",
    "ax.stock_img()\n",
    "for i, bounds in enumerate([SST_index_bounds('PDO'), (-30,80,-80,-50)]):\n",
    "    ax.add_patch(mpl.patches.Polygon(xy=rect_polygon(bounds),\n",
    "                                  facecolor='none', edgecolor=f'C{i}',\n",
    "                                  linewidth=2, zorder=2,\n",
    "                                  transform=ccrs.PlateCarree(), ), )\n",
    "plt.title('PDO and SOi regions')\n",
    "plt.tight_layout()"
   ]
  },
  {
   "cell_type": "markdown",
   "metadata": {},
   "source": [
    "### PDO time series"
   ]
  },
  {
   "cell_type": "code",
   "execution_count": null,
   "metadata": {},
   "outputs": [],
   "source": [
    "dateparse = lambda x: pd.datetime.strptime(x, '%Y%m')\n",
    "PDO = pd.read_csv(f'{path_data}/PDO/PDO_NCDC_NOAA.csv', skiprows=1, index_col=0, date_parser=dateparse).to_xarray().to_array().rename({'Date':'time'}).squeeze()\n",
    "PDO['time'] = PDO.time.dt.year.astype(np.float64)+(PDO.time.dt.month/12-1/24).astype(np.float64)"
   ]
  },
  {
   "cell_type": "code",
   "execution_count": null,
   "metadata": {},
   "outputs": [],
   "source": [
    "PC1_had  = -xr.open_dataset(f'{path_prace}/SST/PMV_EOF_20N_had.nc', decode_times=False).pcs.sel(mode=0)\n",
    "PC1_ctrl = xr.open_dataset(f'{path_prace}/SST/PMV_EOF_20N_ctrl_51_301.nc', decode_times=False).pcs\n",
    "PC1_lpd  = xr.open_dataset(f'{path_prace}/SST/PMV_EOF_20N_lpd_154_404.nc', decode_times=False).pcs.sel(mode=0)"
   ]
  },
  {
   "cell_type": "code",
   "execution_count": null,
   "metadata": {},
   "outputs": [],
   "source": [
    "plt.plot(PDO.time, PDO)\n",
    "plt.plot(PC1_had.time/365+1870, PC1_had)"
   ]
  },
  {
   "cell_type": "markdown",
   "metadata": {},
   "source": [
    "### SO index time series\n",
    "30W-80E, 50-80S"
   ]
  },
  {
   "cell_type": "code",
   "execution_count": null,
   "metadata": {},
   "outputs": [],
   "source": [
    "fn = f'{path_results}/Woosok/PDO_SOi_timeseries.nc'\n",
    "if os.path.exists(fn):\n",
    "    ds = xr.open_dataset(fn)\n",
    "else:\n",
    "    SST_ctrl = xr.open_dataarray(f'{path_prace}/SST/SST_monthly_ds_dt_ctrl_51_301.nc', decode_times=False)\n",
    "    SST_ctrl = DS().shift_ocn_rect(SST_ctrl)\n",
    "    SST_lpd  = xr.open_dataarray(f'{path_prace}/SST/SST_monthly_ds_dt_lpd_154_404.nc', decode_times=False)\n",
    "    SST_had  = xr.open_dataarray(f'{path_prace}/SST/SST_monthly_ds_dt_had.nc'        , decode_times=False)\n",
    "\n",
    "    AREA_rect = xr_AREA(domain='ocn_rect')\n",
    "    AREA_low  = xr_AREA(domain='ocn_low')\n",
    "    AREA_had  = xr_AREA(domain='ocn_had')\n",
    "\n",
    "    SOi_MASK_had  = mask_box_in_region(domain='ocn_had' , mask_nr=1, bounding_lats=(-80,-50), bounding_lons=(0,80))\n",
    "    SOi_MASK_rect = mask_box_in_region(domain='ocn_rect', mask_nr=1, bounding_lats=(-80,-50), bounding_lons=(0,80))\n",
    "    SOi_MASK_low  = mask_box_in_region(domain='ocn_low' , mask_nr=1, bounding_lats=(-80,-50), bounding_lons=(0,80))\n",
    "\n",
    "    # had\n",
    "    AREA_had_SO = AREA_had.where(SOi_MASK_had).sum(dim=['latitude','longitude'])\n",
    "    print(AREA_had_SO.values)\n",
    "    SOi_had = (AREA_had*SST_had).where(SOi_MASK_had).sum(dim=['latitude','longitude'])/AREA_had_SO\n",
    "    SOi_had /= SOi_had.std(dim='time')\n",
    "\n",
    "    # lpd\n",
    "    AREA_low_SO = AREA_low.where(SOi_MASK_low).sum(dim=['nlat','nlon'])\n",
    "    print(AREA_low_SO.values)\n",
    "    SOi_lpd = (AREA_low*SST_lpd).where(SOi_MASK_low).sum(dim=['nlat','nlon'])/AREA_low_SO\n",
    "    SOi_lpd /= SOi_lpd.std(dim='time')\n",
    "\n",
    "    # ctrl\n",
    "    AREA_rect_SO = AREA_rect.where(SOi_MASK_rect).sum(dim=['t_lat','t_lon'])\n",
    "    print(AREA_rect_SO.values)\n",
    "    SOi_ctrl = (AREA_rect*SST_ctrl).where(SOi_MASK_rect).sum(dim=['t_lat','t_lon'])/AREA_rect_SO\n",
    "    SOi_ctrl /= SOi_ctrl.std(dim='time')\n",
    "\n",
    "    ds = xr.Dataset()\n",
    "    ds['CESM_high_PDO'] = PC1_ctrl.squeeze().assign_coords(time=np.arange(3000))\n",
    "    ds['CESM_high_SOi'] = SOi_ctrl.squeeze().assign_coords(time=np.arange(3000))\n",
    "    ds['CESM_low_PDO']  = PC1_lpd .squeeze().assign_coords(time=np.arange(3000))\n",
    "    ds['CESM_low_SOi']  = SOi_lpd .squeeze().assign_coords(time=np.arange(3000))\n",
    "    ds['HadISST_PDO']   = PC1_had .assign_coords(time=np.arange(1788))\n",
    "    ds['HadISST_SOi']   = SOi_had .assign_coords(time=np.arange(1788))\n",
    "    ds.to_netcdf(fn)"
   ]
  },
  {
   "cell_type": "code",
   "execution_count": null,
   "metadata": {},
   "outputs": [],
   "source": [
    "f, ax = plt.subplots(3,1, figsize=(10,7))\n",
    "for i, run in enumerate(['had', 'ctrl', 'lpd']):\n",
    "    key = ['HadISST', 'CESM_high', 'CESM_low'][i]\n",
    "    offset = [1870,51,154][i]\n",
    "    tss = [ds[f'{key}_PDO'].dropna(dim='time'), ds[f'{key}_SOi'].dropna(dim='time')]\n",
    "    print(len(tss[0]), len(tss[1]))\n",
    "    cor_f = np.corrcoef(lowpass(tss[0], 13*12)[7*12:-7*12].values.flatten(), lowpass(tss[1], 13*12)[7*12:-7*12].values.flatten())[0,1]\n",
    "    cor   = np.corrcoef(tss[0].values.flatten(), tss[1].values.flatten())[0,1]\n",
    "    for j, ts in enumerate(tss):\n",
    "        ax[i].plot(ts.time/12+offset, ts, lw=.5, alpha=.5, c=f'C{j}')\n",
    "        ax[i].plot(ts.time[7*12:-7*12]/12+offset, lowpass(ts, 13*12)[7*12:-7*12], c=f'C{j}', label=['PDO', 'SOi'][j])\n",
    "    ax[i].plot([0,1],[0,1], c='darkgrey', lw=.5, alpha=.5, label=f'unfiltered corr={cor:.2f}')\n",
    "    ax[i].plot([0,1],[0,1], c='darkgrey', label=f'13 year lowpass corr={cor_f:.2f}')\n",
    "    ax[i].legend(loc=2, ncol=2)\n",
    "    ax[i].set_xlim([(1845,2105),(45,305),(150,410)][i])\n",
    "    ax[i].set_ylim((-4,4))\n",
    "    \n",
    "ax[0].set_ylabel('two-factor detrended HadISST')\n",
    "ax[0].set_xlabel('time [years C.E.]')\n",
    "ax[1].set_ylabel('high res. CESM')\n",
    "ax[2].set_ylabel('low res. CESM')\n",
    "for i in np.arange(1,3):  ax[i].set_xlabel('time [model years]')\n",
    "plt.tight_layout()\n",
    "plt.savefig(f'{path_results}/Woosok/PDO_SOi_overview')"
   ]
  },
  {
   "cell_type": "markdown",
   "metadata": {},
   "source": [
    "### SST anomalies in the three defined by Woosok"
   ]
  },
  {
   "cell_type": "markdown",
   "metadata": {},
   "source": [
    "![title](../../results/Woosok/Woosok_SST_lat_lon.png)"
   ]
  },
  {
   "cell_type": "code",
   "execution_count": null,
   "metadata": {},
   "outputs": [],
   "source": [
    "SST_had_orig = xr.open_dataarray(f'{path_prace}/SST/SST_monthly_had.nc')\n",
    "SST_had = xr.open_dataarray(f'{path_prace}/SST/SST_monthly_ds_dt_had.nc')"
   ]
  },
  {
   "cell_type": "code",
   "execution_count": null,
   "metadata": {},
   "outputs": [],
   "source": [
    "f = plt.figure(figsize=(12,4.2))\n",
    "lats, lons = SST_had.latitude, SST_had.longitude\n",
    "lons, lats = np.meshgrid(lons, lats)\n",
    "for i, period in enumerate([(1958,1976),(1977,2000),(2001,2018)]):\n",
    "    SST_anomaly = SST_had.sel(time=slice(f'{period[0]}-01-01',f'{period[1]}-12-31')).mean(dim='time')\n",
    "    ax = f.add_subplot(1, 4, i+1, projection=ccrs.Orthographic(central_latitude=-90, central_longitude=180))\n",
    "    ax.text(.5, 1.05, f'{period[0]}-{period[1]}', transform=ax.transAxes, fontsize=16, ha='center')\n",
    "    ax.set_position([.01+i*.315,.01,.31,.9])\n",
    "    im = ax.pcolormesh(lons, lats, SST_anomaly, cmap='cmo.balance',\n",
    "                       vmin=-.4, vmax=.4, transform=ccrs.PlateCarree())\n",
    "    ax.coastlines(resolution='110m')\n",
    "    ax.gridlines()\n",
    "    ax.add_patch(mpl.patches.Polygon(xy=rect_polygon((-30,80,-80,-50)),\n",
    "                                  facecolor='none', edgecolor=f'C1',\n",
    "                                  linewidth=2, zorder=2,\n",
    "                                  transform=ccrs.PlateCarree(), ), )\n",
    "    \n",
    "ax = f.add_subplot(1, 4, 4)\n",
    "ax.set_position([.955,.1,.01,.75])\n",
    "cbar = plt.colorbar(im, cax=ax, shrink=.9, pad=.0, orientation='vertical', extend='both')\n",
    "# cbar.ax.set_yticklabels(np.arange(-.4,.5,.1), fontsize=12)"
   ]
  },
  {
   "cell_type": "code",
   "execution_count": null,
   "metadata": {},
   "outputs": [],
   "source": [
    "latS, latN, lonW, lonE = -80, -50, -30, 80\n",
    "SOI_orig = SST_had_orig.sel(longitude=slice(lonW,lonE)).sel(latitude=slice(latN,latS)).mean(dim=('latitude', 'longitude'))\n",
    "SOI_orig_anomaly = SOI_orig - SOI_orig.sel(time=slice(pd.datetime(year=1958, month=1, day=1),pd.datetime(year=2018, month=12, day=31))).mean(dim='time')\n",
    "\n",
    "plt.title('effect of two-factor detrending on SOi')\n",
    "plt.axhline(0, lw=.5, c='k')\n",
    "SST_had.sel(longitude=slice(lonW,lonE)).sel(latitude=slice(latN,latS)).mean(dim=('latitude', 'longitude')).plot(alpha=.3)\n",
    "lowpass(SST_had.sel(longitude=slice(lonW,lonE)).sel(latitude=slice(latN,latS)).mean(dim=('latitude', 'longitude')),13).plot(c='C0')\n",
    "lowpass(SOI_orig_anomaly,13).plot()\n",
    "plt.gca().axvspan(pd.datetime(year=1958, month=1, day=1),pd.datetime(year=1976, month=12, day=31), alpha=0.5, color='g')\n",
    "plt.gca().axvspan(pd.datetime(year=1977, month=1, day=1),pd.datetime(year=2000, month=12, day=31), alpha=0.5, color='red')\n",
    "plt.gca().axvspan(pd.datetime(year=2001, month=1, day=1),pd.datetime(year=2018, month=12, day=31), alpha=0.5, color='g')"
   ]
  },
  {
   "cell_type": "markdown",
   "metadata": {},
   "source": [
    "## identifying time periods"
   ]
  },
  {
   "cell_type": "markdown",
   "metadata": {},
   "source": [
    "![title](../../results/Woosok/Woosok_phases.png)\n",
    "\n",
    "SOi (solid), PDO (dashed)"
   ]
  },
  {
   "cell_type": "code",
   "execution_count": null,
   "metadata": {},
   "outputs": [],
   "source": []
  },
  {
   "cell_type": "code",
   "execution_count": null,
   "metadata": {},
   "outputs": [],
   "source": [
    "PDO = pd.read_csv(f'{path_data}/PDO/PDO_NCDC_NOAA.csv', skiprows=1, index_col=0, date_parser=dateparse).to_xarray().to_array().rename({'Date':'time'}).squeeze()\n",
    "# PDO['time'] = PDO.time.dt.year.astype(np.float64)+(PDO.time.dt.month/12-1/24).astype(np.float64)"
   ]
  },
  {
   "cell_type": "code",
   "execution_count": null,
   "metadata": {},
   "outputs": [],
   "source": [
    "PDO.time"
   ]
  },
  {
   "cell_type": "code",
   "execution_count": null,
   "metadata": {},
   "outputs": [],
   "source": [
    "f, ax = plt.subplots(1,1, figsize=(8,2), constrained_layout=True)\n",
    "ax.axhline(0, lw=.5, c='k')\n",
    "ax.axvline(1958)\n",
    "ax.axvline(1980)\n",
    "ax.axvline(2009)\n",
    "key = 'HadISST'\n",
    "offset = [1870,51,154][i]\n",
    "tss = [-ds[f'{key}_PDO'].dropna(dim='time'), ds[f'{key}_SOi'].dropna(dim='time')]\n",
    "for j, ts in enumerate(tss):\n",
    "    ax.plot(ts.time[7*12:-7*12]/12+offset, lowpass(ts, 10*12)[7*12:-7*12], c=f'C{j}', label=['PDO detrended', 'SOi detrended'][j], ls=['--','-.'][j])\n",
    "ax.set_xlim([(1957.5,2018)][i])\n",
    "ax.plot(PDO.time.dt.year+PDO.time.dt.month/12, lowpass(PDO,10*12), ls=':', c='C0', label='PDO original')\n",
    "ax.plot(SST_had_orig.time.dt.year+SST_had_orig.time.dt.month/12, lowpass(SOI_orig_anomaly,10*12)*10, ls='-', c='C1', label=r'SOi original ($\\times$10)')\n",
    "ax.legend(ncol=2)\n",
    "ax.set_ylabel('SO & PDO')\n",
    "ax.set_xlabel('time [years C.E.]')\n",
    "plt.ylim((-2,2))"
   ]
  },
  {
   "cell_type": "markdown",
   "metadata": {},
   "source": [
    "- it is not clear how the data was detrended in Woosok's case, this is very important for the SOi (cf first crossover point)\n",
    "- PDO: similat between detrended & original & Woosok's"
   ]
  },
  {
   "cell_type": "markdown",
   "metadata": {},
   "source": [
    "### lead-lag  analysis between signals"
   ]
  },
  {
   "cell_type": "code",
   "execution_count": null,
   "metadata": {},
   "outputs": [],
   "source": []
  },
  {
   "cell_type": "markdown",
   "metadata": {},
   "source": [
    "### identifying times in the model"
   ]
  },
  {
   "cell_type": "code",
   "execution_count": null,
   "metadata": {},
   "outputs": [],
   "source": []
  },
  {
   "cell_type": "markdown",
   "metadata": {},
   "source": [
    "### OHC anomalies"
   ]
  },
  {
   "cell_type": "code",
   "execution_count": null,
   "metadata": {},
   "outputs": [],
   "source": []
  }
 ],
 "metadata": {
  "kernelspec": {
   "display_name": "Python 3",
   "language": "python",
   "name": "python3"
  },
  "language_info": {
   "codemirror_mode": {
    "name": "ipython",
    "version": 3
   },
   "file_extension": ".py",
   "mimetype": "text/x-python",
   "name": "python",
   "nbconvert_exporter": "python",
   "pygments_lexer": "ipython3",
   "version": "3.6.7"
  }
 },
 "nbformat": 4,
 "nbformat_minor": 4
}
