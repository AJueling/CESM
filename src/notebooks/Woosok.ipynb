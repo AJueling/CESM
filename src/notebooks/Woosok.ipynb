{
 "cells": [
  {
   "cell_type": "markdown",
   "metadata": {},
   "source": [
    "# collaboration with Woosok Moon\n",
    "- why would the climate show 1/f noise characteristics?\n",
    "    - self-organized criticality can lead to 1/f noise\n",
    "    - several AR(1) processes can add to a locally 1/f spectrum\n",
    "- What is the connection between the tropical Pacific and the Southern Ocean?\n",
    "    - heat function\n",
    "    \n",
    "\n",
    "## data used by Woosok and colleagues\n",
    "> OBS Data : NOAA ERSSTv5 (1958-2018), which consists of SODA2.1.6 (0.5 * 0.5) spanning from 1958 to 2008 and GODAS (1.0 * 0.333) from 2009 to 2018.\n",
    "> Model Data : Large Ensemble Community Project (1800 year simulation with full-coupled models, 1*1 degree.)\n",
    "\n",
    "## Overview\n",
    "\n",
    "1. creating PDO and SOi time series\n",
    "2. spectra of time series\n",
    "3. \"observed\" SST anomalies in 3 periods\n",
    "4. SOi time series from observsations\n",
    "5. started with regression plots\n",
    "\n",
    "## To Do\n",
    "- zonal wind (stress) analysis (South polar plot)\n",
    "- surface pressure (South polar plot)\n",
    "- meridional surface velocity ((sub-) tropical Eastern Pacific + (sub-) tropical Atlantic)\n",
    "- ocean heat content zonally/ vertically integrated\n",
    "\n",
    "- ask Park about detrending"
   ]
  },
  {
   "cell_type": "code",
   "execution_count": null,
   "metadata": {},
   "outputs": [],
   "source": [
    "import os\n",
    "import sys\n",
    "import numpy as np\n",
    "import xesmf as xe\n",
    "import cftime\n",
    "import xarray as xr\n",
    "import pandas as pd\n",
    "import cmocean\n",
    "import cartopy\n",
    "import cartopy.crs as ccrs\n",
    "import matplotlib as mpl\n",
    "import matplotlib\n",
    "import matplotlib.pyplot as plt"
   ]
  },
  {
   "cell_type": "code",
   "execution_count": null,
   "metadata": {},
   "outputs": [],
   "source": [
    "%matplotlib inline\n",
    "%config InlineBackend.print_figure_kwargs={'bbox_inches':None}\n",
    "matplotlib.rc_file('../rc_file')\n",
    "%load_ext autoreload\n",
    "%autoreload 2\n",
    "%aimport - numpy - scipy - matplotlib.pyplot"
   ]
  },
  {
   "cell_type": "code",
   "execution_count": null,
   "metadata": {},
   "outputs": [],
   "source": [
    "sys.path.append(\"..\")\n",
    "from tqdm import tqdm_notebook\n",
    "from maps import rect_polygon\n",
    "from paths import path_results, path_prace, path_data\n",
    "from filters import lowpass\n",
    "from regions import SST_index_bounds, mask_box_in_region\n",
    "from xr_regression import xr_lintrend, xr_linear_trends_2D, datetime_to_float\n",
    "from xr_DataArrays import xr_AREA\n",
    "from ab_derivation_SST import DeriveSST as DS\n",
    "from bb_analysis_timeseries import AnalyzeTimeSeries as ATS\n",
    "from ba_analysis_dataarrays import AnalyzeDataArray as ADA"
   ]
  },
  {
   "cell_type": "markdown",
   "metadata": {},
   "source": [
    "# PDO vs SO index time series in observations, high, and low resolution CESM"
   ]
  },
  {
   "cell_type": "code",
   "execution_count": null,
   "metadata": {},
   "outputs": [],
   "source": [
    "ax = plt.axes(projection=ccrs.PlateCarree(central_longitude=275))\n",
    "ax.stock_img()\n",
    "for i, bounds in enumerate([SST_index_bounds('PDO'), (-30,80,-80,-50)]):\n",
    "    ax.add_patch(mpl.patches.Polygon(xy=rect_polygon(bounds),\n",
    "                                  facecolor='none', edgecolor=f'C{i}',\n",
    "                                  linewidth=2, zorder=2,\n",
    "                                  transform=ccrs.PlateCarree(), ), )\n",
    "plt.title('PDO and SOi regions')\n",
    "plt.tight_layout()"
   ]
  },
  {
   "cell_type": "markdown",
   "metadata": {},
   "source": [
    "### PDO time series"
   ]
  },
  {
   "cell_type": "code",
   "execution_count": null,
   "metadata": {},
   "outputs": [],
   "source": [
    "dateparse = lambda x: pd.datetime.strptime(x, '%Y%m')\n",
    "PDO = pd.read_csv(f'{path_data}/PDO/PDO_NCDC_NOAA.csv', skiprows=1, index_col=0, date_parser=dateparse).to_xarray().to_array().rename({'Date':'time'}).squeeze()\n",
    "PDO['time'] = PDO.time.dt.year.astype(np.float64)+(PDO.time.dt.month/12-1/24).astype(np.float64)"
   ]
  },
  {
   "cell_type": "code",
   "execution_count": null,
   "metadata": {},
   "outputs": [],
   "source": [
    "PC1_had  = -xr.open_dataset(f'{path_prace}/SST/PMV_EOF_20N_had.nc', decode_times=False).pcs.sel(mode=0)\n",
    "PC1_ctrl = xr.open_dataset(f'{path_prace}/SST/PMV_EOF_20N_ctrl_51_301.nc', decode_times=False).pcs\n",
    "PC1_lpd  = xr.open_dataset(f'{path_prace}/SST/PMV_EOF_20N_lpd_154_404.nc', decode_times=False).pcs.sel(mode=0)"
   ]
  },
  {
   "cell_type": "markdown",
   "metadata": {},
   "source": [
    "### SO index time series\n",
    "30W-80E, 50-80S"
   ]
  },
  {
   "cell_type": "code",
   "execution_count": null,
   "metadata": {},
   "outputs": [],
   "source": [
    "fn = f'{path_results}/Woosok/PDO_SOi_timeseries.nc'\n",
    "if os.path.exists(fn):\n",
    "    ds = xr.open_dataset(fn)\n",
    "else:\n",
    "    SST_ctrl = xr.open_dataarray(f'{path_prace}/SST/SST_monthly_ds_dt_ctrl_51_301.nc', decode_times=False)\n",
    "    SST_ctrl = DS().shift_ocn_rect(SST_ctrl)\n",
    "    SST_lpd  = xr.open_dataarray(f'{path_prace}/SST/SST_monthly_ds_dt_lpd_154_404.nc', decode_times=False)\n",
    "    SST_had  = xr.open_dataarray(f'{path_prace}/SST/SST_monthly_ds_dt_had.nc'        , decode_times=False)\n",
    "\n",
    "    AREA_rect = xr_AREA(domain='ocn_rect')\n",
    "    AREA_low  = xr_AREA(domain='ocn_low')\n",
    "    AREA_had  = xr_AREA(domain='ocn_had')\n",
    "\n",
    "    SOi_MASK_had  = mask_box_in_region(domain='ocn_had' , mask_nr=1, bounding_lats=(-80,-50), bounding_lons=(0,80))\n",
    "    SOi_MASK_rect = mask_box_in_region(domain='ocn_rect', mask_nr=1, bounding_lats=(-80,-50), bounding_lons=(0,80))\n",
    "    SOi_MASK_low  = mask_box_in_region(domain='ocn_low' , mask_nr=1, bounding_lats=(-80,-50), bounding_lons=(0,80))\n",
    "\n",
    "    # had\n",
    "    AREA_had_SO = AREA_had.where(SOi_MASK_had).sum(dim=['latitude','longitude'])\n",
    "    print(AREA_had_SO.values)\n",
    "    SOi_had = (AREA_had*SST_had).where(SOi_MASK_had).sum(dim=['latitude','longitude'])/AREA_had_SO\n",
    "    SOi_had /= SOi_had.std(dim='time')\n",
    "\n",
    "    # lpd\n",
    "    AREA_low_SO = AREA_low.where(SOi_MASK_low).sum(dim=['nlat','nlon'])\n",
    "    print(AREA_low_SO.values)\n",
    "    SOi_lpd = (AREA_low*SST_lpd).where(SOi_MASK_low).sum(dim=['nlat','nlon'])/AREA_low_SO\n",
    "    SOi_lpd /= SOi_lpd.std(dim='time')\n",
    "\n",
    "    # ctrl\n",
    "    AREA_rect_SO = AREA_rect.where(SOi_MASK_rect).sum(dim=['t_lat','t_lon'])\n",
    "    print(AREA_rect_SO.values)\n",
    "    SOi_ctrl = (AREA_rect*SST_ctrl).where(SOi_MASK_rect).sum(dim=['t_lat','t_lon'])/AREA_rect_SO\n",
    "    SOi_ctrl /= SOi_ctrl.std(dim='time')\n",
    "\n",
    "    ds = xr.Dataset()\n",
    "    ds['CESM_high_PDO'] = PC1_ctrl.squeeze().assign_coords(time=np.arange(3000))\n",
    "    ds['CESM_high_SOi'] = SOi_ctrl.squeeze().assign_coords(time=np.arange(3000))\n",
    "    ds['CESM_low_PDO']  = PC1_lpd .squeeze().assign_coords(time=np.arange(3000))\n",
    "    ds['CESM_low_SOi']  = SOi_lpd .squeeze().assign_coords(time=np.arange(3000))\n",
    "    ds['HadISST_PDO']   = PC1_had .assign_coords(time=np.arange(1788))\n",
    "    ds['HadISST_SOi']   = SOi_had .assign_coords(time=np.arange(1788))\n",
    "    ds.to_netcdf(fn)"
   ]
  },
  {
   "cell_type": "code",
   "execution_count": null,
   "metadata": {},
   "outputs": [],
   "source": [
    "f, ax = plt.subplots(3,1, figsize=(10,7))\n",
    "for i, run in enumerate(['had', 'ctrl', 'lpd']):\n",
    "    ax[i].axhline(0, lw=.5, c='k')\n",
    "    key = ['HadISST', 'CESM_high', 'CESM_low'][i]\n",
    "    offset = [1870,51,154][i]\n",
    "    tss = [ds[f'{key}_PDO'].dropna(dim='time'), ds[f'{key}_SOi'].dropna(dim='time')]\n",
    "    cor_f = np.corrcoef(lowpass(tss[0], 13*12)[7*12:-7*12].values.flatten(), lowpass(tss[1], 13*12)[7*12:-7*12].values.flatten())[0,1]\n",
    "    cor   = np.corrcoef(tss[0].values.flatten(), tss[1].values.flatten())[0,1]\n",
    "    for j, ts in enumerate(tss):\n",
    "        ax[i].plot(ts.time/12+offset, ts, lw=.5, alpha=.5, c=f'C{j}')\n",
    "        ax[i].plot(ts.time[7*12:-7*12]/12+offset, lowpass(ts, 13*12)[7*12:-7*12], c=f'C{j}', label=['PDO', 'SOi'][j])\n",
    "    ax[i].plot([0,1],[0,1], c='darkgrey', lw=.5, alpha=.5, label=f'unfiltered corr={cor:.2f}')\n",
    "    ax[i].plot([0,1],[0,1], c='darkgrey', label=f'13 year lowpass corr={cor_f:.2f}')\n",
    "    ax[i].legend(loc=2, ncol=2)\n",
    "    ax[i].set_xlim([(1845,2105),(45,305),(150,410)][i])\n",
    "    ax[i].set_ylim((-3.4,3.4))\n",
    "    \n",
    "ax[0].set_ylabel('two-factor detrended HadISST')\n",
    "ax[0].set_xlabel('time [years C.E.]')\n",
    "ax[1].set_ylabel('high res. CESM')\n",
    "ax[2].set_ylabel('low res. CESM')\n",
    "for i in np.arange(1,3):  ax[i].set_xlabel('time [model years]')\n",
    "plt.tight_layout()\n",
    "plt.savefig(f'{path_results}/Woosok/PDO_SOi_overview')"
   ]
  },
  {
   "cell_type": "markdown",
   "metadata": {},
   "source": [
    "## MF-TWDFA\n",
    "left: \"observational PDO indices (blue) and a CESM model-constructed one (red)\";\n",
    "right: spectra of time series from high and low resolution simulations\n",
    "<p float=\"left\">\n",
    "    <img src=\"../../results/Woosok/Moon_spectrum.png\" width=\"300\"/>\n",
    "    <img src=\"../../results/Woosok/CESM_spectra.png\" width=\"300\"/>\n",
    "</p>"
   ]
  },
  {
   "cell_type": "markdown",
   "metadata": {},
   "source": [
    "### spectral density estimation"
   ]
  },
  {
   "cell_type": "code",
   "execution_count": null,
   "metadata": {},
   "outputs": [],
   "source": [
    "f, ax = plt.subplots(2,2, figsize=(8,5), constrained_layout=True, sharey='row', sharex=True)\n",
    "for i, run in enumerate(['had', 'ctrl', 'lpd']):\n",
    "#     ax[].axhline(0, lw=.5, c='k')\n",
    "    key = ['HadISST', 'CESM_high', 'CESM_low'][i]\n",
    "    for j, idx in enumerate(['PDO', 'SOi']):\n",
    "        ts = ds[f'{key}_{idx}'].dropna(dim='time')\n",
    "        freq, Pxx = ATS(ts).periodogram()\n",
    "        ax[0,j].loglog(freq, Pxx*10**i, label=f'{idx} {key}', alpha=.6)\n",
    "        freq, Pxx = ATS(ts).mtspectrum()\n",
    "        ax[1,j].loglog(freq, Pxx*10**i, label=f'{idx} {key}')\n",
    "ax[0,0].set_ylim((1e-4,1e5))\n",
    "for i in range(2):\n",
    "    ax[i,0].set_ylabel(['periodogram', 'multi-taper spectra'][i])\n",
    "    ax[0,i].set_title(['PDO', 'SOi'][i])\n",
    "    ax[1,i].set_xlabel(r'frequency [month$^{-1}$]')\n",
    "    for j in range(2):\n",
    "        ax[i,j].legend()"
   ]
  },
  {
   "cell_type": "markdown",
   "metadata": {},
   "source": [
    "Should 1/f noise not manifest itself in a periodogram/spectral density estimate as a negatively sloped straight line?\n",
    "Then why do the spectra resemble red noise with a flat and a sloped part?"
   ]
  },
  {
   "cell_type": "markdown",
   "metadata": {},
   "source": [
    "## SST anomalies in the three periods defined by Woosok"
   ]
  },
  {
   "cell_type": "markdown",
   "metadata": {},
   "source": [
    "![title](../../results/Woosok/Woosok_SST_lat_lon.png)"
   ]
  },
  {
   "cell_type": "code",
   "execution_count": null,
   "metadata": {},
   "outputs": [],
   "source": [
    "SST_had_orig = xr.open_dataarray(f'{path_prace}/SST/SST_monthly_had.nc')\n",
    "SST_ersst = xr.open_dataset(f'{path_data}/ersst/ersst.v5.1854-2007.nc').sst#, decode_times=False).sst.assign_coords(time=pd.date_range(start='1854-01-01', end='2010-02-27', freq='M'))\n",
    "SST_had = xr.open_dataarray(f'{path_prace}/SST/SST_monthly_ds_dt_had.nc')"
   ]
  },
  {
   "cell_type": "markdown",
   "metadata": {},
   "source": [
    "### HadISST minus mean SST 1958-2018"
   ]
  },
  {
   "cell_type": "code",
   "execution_count": null,
   "metadata": {},
   "outputs": [],
   "source": [
    "SST_had_orig_anom = SST_had_orig.sel(time=slice(f'1958-01-01',f'2018-12-31')) - SST_had_orig.sel(time=slice(f'1958-01-01',f'2018-12-31')).mean(dim='time')\n",
    "SST_ersst_anom    = SST_ersst.sel(time=slice(cftime.Datetime360Day(year=1958, month=1, day=1),cftime.Datetime360Day(year=2018, month=12, day=30))) -\\\n",
    "                    SST_ersst.sel(time=slice(cftime.Datetime360Day(year=1958, month=1, day=1),cftime.Datetime360Day(year=2018, month=12, day=30))).mean(dim='time')"
   ]
  },
  {
   "cell_type": "code",
   "execution_count": null,
   "metadata": {},
   "outputs": [],
   "source": [
    "%%time\n",
    "# hadisst: 2min 36s, ersst: 32s\n",
    "for i, dataset in tqdm_notebook(enumerate(['HadISST', 'ERSST'])):\n",
    "    fn = f'{path_prace}/SST/{dataset}_lin_detr_58-18.nc'\n",
    "    if os.path.exists(fn):\n",
    "        print(f'{fn} exists')\n",
    "        if i==0:\n",
    "            SST_lin_detr_had   = xr.open_dataarray(fn)\n",
    "            SST_lin_detr_had.time.values = SST_had_orig_anom.time.values\n",
    "        if i==1:\n",
    "            SST_lin_detr_ersst = xr.open_dataarray(fn)\n",
    "            SST_lin_detr_ersst.time.values = SST_ersst_anom.time.values\n",
    "    else:\n",
    "        da = [SST_had_orig, SST_ersst][i]\n",
    "        da = da.sel(time=slice(f'1958-01-01',f'2018-12-30'))\n",
    "        dim_names = [('latitude', 'longitude'), ('lat', 'lon')][i]\n",
    "        lin_trend = xr_linear_trends_2D(da, dim_names=dim_names, with_nans=True)\n",
    "        da, time_ = datetime_to_float(da)\n",
    "        SST_detr = da.copy(data=da.values - (da.time*lin_trend.squeeze()).values)\n",
    "        SST_detr -= SST_detr.mean(dim='time')\n",
    "        SST_detr.time.values = time_        \n",
    "        SST_detr.to_netcdf(fn)"
   ]
  },
  {
   "cell_type": "code",
   "execution_count": null,
   "metadata": {},
   "outputs": [],
   "source": [
    "for i, SST in enumerate([SST_had_orig_anom, SST_ersst_anom, SST_lin_detr_had , SST_lin_detr_ersst, SST_had]):  #\n",
    "    f = plt.figure(figsize=(12,4.2))\n",
    "    if i in [0,2,4]:  lats, lons = SST.latitude, SST.longitude\n",
    "    if i in [1,3]:    lats, lons = SST.lat, SST.lon\n",
    "    lons, lats = np.meshgrid(lons, lats)\n",
    "    for j, period in enumerate([(1958,1976),(1977,2000),(2001,2018)]):\n",
    "        if i in [0,2,4]:  SST_anomaly = SST.sel(time=slice(f'{period[0]}-01-01',f'{period[1]}-12-31')).mean(dim='time')\n",
    "        if i in [1,3]:    SST_anomaly = SST.sel(time=slice(cftime.Datetime360Day(year=period[0], month=1, day=1),cftime.Datetime360Day(year=period[1], month=12, day=30))).mean(dim='time')\n",
    "        ax = f.add_subplot(1, 4, j+1, projection=ccrs.Orthographic(central_latitude=-90, central_longitude=180))\n",
    "        ax.text(.5, 1.05, f'{period[0]}-{period[1]}', transform=ax.transAxes, fontsize=16, ha='center')\n",
    "        ax.set_position([.03+j*.305,.01,.30,.9])\n",
    "        im = ax.pcolormesh(lons, lats, SST_anomaly, cmap='cmo.balance',\n",
    "                           vmin=-.4, vmax=.4, transform=ccrs.PlateCarree())\n",
    "        ax.coastlines(resolution='110m')\n",
    "        ax.gridlines()\n",
    "        ax.add_patch(mpl.patches.Polygon(xy=rect_polygon((-30,80,-80,-50)),\n",
    "                                      facecolor='none', edgecolor=f'C1',\n",
    "                                      linewidth=2, zorder=2,\n",
    "                                      transform=ccrs.PlateCarree(), ), )\n",
    "    ax = f.add_subplot(1, 4, 4)\n",
    "    ax.set_position([.947,.1,.017,.75])\n",
    "    cbar = plt.colorbar(im, cax=ax, shrink=.9, pad=.0, orientation='vertical', extend='both')\n",
    "    f.text(0.007,0.5, ['HadISST - mean(\\'58-\\'18)', 'ERSST - mean(\\'58-\\'18)',\\\n",
    "                       'HadISST - lintrend(\\'58-\\'18)', 'ERSST - lintrend(\\'58-\\'18?)',\\\n",
    "                       'HadISST two-factor detrended'][i], rotation=90, fontsize=16,va='center')\n",
    "# cbar.ax.set_yticklabels(np.arange(-.4,.5,.1), fontsize=12)"
   ]
  },
  {
   "cell_type": "markdown",
   "metadata": {},
   "source": [
    "- need to update boundary\n",
    "- anomaly pattern depends on detrending\n",
    "- third row most like Woosok's image (also same dataset)"
   ]
  },
  {
   "cell_type": "markdown",
   "metadata": {},
   "source": [
    "### SOi time series"
   ]
  },
  {
   "cell_type": "code",
   "execution_count": null,
   "metadata": {},
   "outputs": [],
   "source": [
    "# \n",
    "latS, latN, lonW, lonE = -80, -50, -30, 80\n",
    "SOi_had = SST_had.sel(longitude=slice(lonW,lonE)).sel(latitude=slice(latN,latS)).mean(dim=('latitude', 'longitude'))\n",
    "SOi_had_orig = SST_had_orig.sel(longitude=slice(lonW,lonE)).sel(latitude=slice(latN,latS)).mean(dim=('latitude', 'longitude'))\n",
    "SOi_had_orig_anomaly = SOi_had_orig - SOi_had_orig.sel(time=slice(pd.datetime(year=1958, month=1, day=1),pd.datetime(year=2018, month=12, day=31))).mean(dim='time')\n",
    "SOi_ersst = SST_ersst.sel(lon=slice(lonE,360+lonW)).sel(lat=slice(latS, latN)).mean(dim=('lat', 'lon'))\n",
    "SOi_ersst_anomaly = SOi_ersst - SOi_ersst.sel(time=slice(cftime.Datetime360Day(year=1954, month=1, day=1),cftime.Datetime360Day(year=2011, month=2, day=27))).mean(dim='time')"
   ]
  },
  {
   "cell_type": "code",
   "execution_count": null,
   "metadata": {
    "jupyter": {
     "source_hidden": true
    }
   },
   "outputs": [],
   "source": [
    "f, ax = plt.subplots(3, 1, figsize=(8,5), constrained_layout=True)\n",
    "for i in range(3):  ax[i].axhline(0, lw=.5, c='k')\n",
    "ax[1].set_title('')\n",
    "ax[0].set_ylabel('ERSST')\n",
    "ax[0].plot(SOi_ersst_anomaly.time, SOi_ersst_anomaly, alpha=0.3)\n",
    "ax[0].plot(SOi_ersst_anomaly.time[5*12:-5*12], lowpass(SOi_ersst_anomaly,12*5)[5*12:-5*12])\n",
    "ax[0].set_xlim((cftime.Datetime360Day(year=1850, month=1, day=1), cftime.Datetime360Day(year=2020, month=1, day=1)))\n",
    "\n",
    "ax[1].set_ylabel('HadISST')\n",
    "ax[1].plot(SOi_had_orig_anomaly.time, SOi_had_orig_anomaly, alpha=.3)\n",
    "ax[1].plot(SOi_had_orig_anomaly.time[5*12:-5*12], lowpass(SOi_had_orig_anomaly,12*5)[5*12:-5*12])\n",
    "ax[1].set_xlim(pd.datetime(year=1850, month=1, day=1),pd.datetime(year=2020, month=1, day=1))\n",
    "\n",
    "ax[2].set_ylabel('HadISST\\ntwo-factor detrended')\n",
    "ax[2].plot(SOi_had.time, SOi_had, alpha=.3)\n",
    "ax[2].plot(SOi_had.time[5*12:-5*12], lowpass(SOi_had,12*5)[5*12:-5*12])\n",
    "ax[2].set_xlim(pd.datetime(year=1850, month=1, day=1),pd.datetime(year=2020, month=1, day=1))\n",
    "\n",
    "# plt.gca().axvspan(pd.datetime(year=1958, month=1, day=1),pd.datetime(year=1976, month=12, day=31), alpha=0.5, color='g')\n",
    "# plt.gca().axvspan(pd.datetime(year=1977, month=1, day=1),pd.datetime(year=2000, month=12, day=31), alpha=0.5, color='red')\n",
    "# plt.gca().axvspan(pd.datetime(year=2001, month=1, day=1),pd.datetime(year=2018, month=12, day=31), alpha=0.5, color='g')"
   ]
  },
  {
   "cell_type": "markdown",
   "metadata": {},
   "source": [
    "with 5 year lowpass filter\n",
    "\n",
    "- It is not clear to me is the sudden warming in 1940 is real."
   ]
  },
  {
   "cell_type": "markdown",
   "metadata": {},
   "source": [
    "#### detrending only from 1958 onwards"
   ]
  },
  {
   "cell_type": "code",
   "execution_count": null,
   "metadata": {
    "jupyter": {
     "source_hidden": true
    }
   },
   "outputs": [],
   "source": [
    "PDO = pd.read_csv(f'{path_data}/PDO/PDO_NCDC_NOAA.csv', skiprows=1, index_col=0, date_parser=dateparse).to_xarray().to_array().rename({'Date':'time'}).squeeze()"
   ]
  },
  {
   "cell_type": "code",
   "execution_count": null,
   "metadata": {
    "jupyter": {
     "source_hidden": true
    }
   },
   "outputs": [],
   "source": [
    "f, ax = plt.subplots(1,2, figsize=(8,3), constrained_layout=True, sharey=True)\n",
    "for i, SOi_anomaly in enumerate([SOi_had_orig_anomaly, SOi_ersst_anomaly]):\n",
    "    last60y = SOi_anomaly.isel(time=slice(-60*12,-1))\n",
    "    last60y.plot(ax=ax[i], lw=.5, c=f'C0', alpha=.3)\n",
    "    lowpass(last60y,12*5)[12*5:-12*5].plot(ax=ax[i], c=f'C0')\n",
    "    (last60y-xr_lintrend(last60y)).plot(ax=ax[i], c=f'C1', lw=.5, alpha=.3)\n",
    "    lowpass(last60y-xr_lintrend(last60y), 12*5)[12*5:-12*5].plot(ax=ax[i], c=f'C1')\n",
    "    ax[i].axhline(0, lw=.5, c='k')\n",
    "    xr_lintrend(last60y).plot(ax=ax[i])\n",
    "    ax[i].set_ylabel(['SOi',''][i])"
   ]
  },
  {
   "cell_type": "markdown",
   "metadata": {},
   "source": [
    "## identifying time periods"
   ]
  },
  {
   "cell_type": "markdown",
   "metadata": {},
   "source": [
    "![title](../../results/Woosok/Woosok_phases.png)\n",
    "\n",
    "SOi (solid), PDO (dashed)"
   ]
  },
  {
   "cell_type": "markdown",
   "metadata": {},
   "source": [
    "#### SOi index region trende\n",
    "- there is almost no trend in the HadISST dataset from 1958\n",
    "- noticable trend in ERSST from 1949\n",
    "- what is the smoothing used originally?"
   ]
  },
  {
   "cell_type": "code",
   "execution_count": null,
   "metadata": {
    "jupyter": {
     "source_hidden": true
    }
   },
   "outputs": [],
   "source": [
    "f, ax = plt.subplots(2,1, figsize=(8,5), constrained_layout=True)\n",
    "for i in range(2):\n",
    "    ax[i].axhline(0, lw=.5, c='k')\n",
    "    ax[i].axvline(1958, lw=.5, c='grey')\n",
    "    ax[i].axvline(1980, lw=.5, c='grey')\n",
    "    ax[i].axvline(2009, lw=.5, c='grey')\n",
    "key = 'HadISST'\n",
    "for j, ts in enumerate([-ds[f'{key}_PDO'].dropna(dim='time'), ds[f'{key}_SOi'].dropna(dim='time')]):\n",
    "    ax[j].plot(ts.time[7*12:-7*12]/12+1870, lowpass(ts, 10*12)[7*12:-7*12], label=['PDO two-factor detrended', 'SOi two-factor detrended'][j])\n",
    "ax[0].set_xlim((1957.5,2018))\n",
    "ax[0].plot(PDO.time.dt.year+PDO.time.dt.month/12, lowpass(PDO,10*12), label='PDO from NOAA')\n",
    "ax[1].plot(SST_had_orig.time.dt.year+SST_had_orig.time.dt.month/12, lowpass(SOi_had_orig_anomaly,10*12)*10, label=r'SOi original ($\\times$10)')\n",
    "ax[1].plot(SST_had_orig.time.dt.year.isel(time=slice(-60*12,-1))+SST_had_orig.time.dt.month.isel(time=slice(-60*12,-1))/12,\\\n",
    "#         SOi_had_orig_anomaly[-60*12:]-xr_lintrend(SOi_had_orig_anomaly[-60*12:])*10,\\\n",
    "        lowpass(SOi_had_orig_anomaly.isel(time=slice(-60*12,-1))-xr_lintrend(SOi_had_orig_anomaly.isel(time=slice(-60*12,-1))),10*12)*10,\\\n",
    "        label=r'SOi original lin detrended ($\\times$10)')\n",
    "last60y = SOi_ersst_anomaly.isel(time=slice(-60*12,-1))\n",
    "ax[1].plot(last60y.time.dt.year[12*5:-12*5]+last60y.time.dt.month[12*5:-12*5]/12, lowpass(last60y-xr_lintrend(last60y), 12*5)[12*5:-12*5]*5, label=r'ERSST-lintrend ($\\times$5)')\n",
    "for i in range(2):\n",
    "    ax[i].legend(ncol=2, fontsize=8)\n",
    "    ax[i].set_ylabel(['PDO','SOi'][i])\n",
    "    ax[i].set_ylim((-2,2))\n",
    "    ax[i].set_xlim((1958,2018))\n",
    "ax[1].set_xlabel('time [years C.E.]')\n"
   ]
  },
  {
   "cell_type": "markdown",
   "metadata": {},
   "source": [
    "- it is not clear how the data was detrended in Woosok's case, this is very important for the SOi (cf first crossover point)\n",
    "- PDO: similat between detrended & original & Woosok's"
   ]
  },
  {
   "cell_type": "markdown",
   "metadata": {},
   "source": [
    "### lead-lag  analysis between signals\n",
    "left and middle:  cold and warm observations; \n",
    "right: warm CESM "
   ]
  },
  {
   "cell_type": "markdown",
   "metadata": {},
   "source": [
    "<p float=\"left\">\n",
    "    <img src=\"../../results/Woosok/SST_obs_cold.png\" width=\"300\"/>\n",
    "    <img src=\"../../results/Woosok/SST_obs_warm.png\" width=\"300\"/>\n",
    "    <img src=\"../../results/Woosok/SST_CESM_warm.png\" width=\"300\"/>\n",
    "</p>"
   ]
  },
  {
   "cell_type": "markdown",
   "metadata": {},
   "source": [
    "#### remarks by Woosok:\n",
    "- model amplitude much smaller than in obs.\n",
    "- model does not show Atlantic negative signal\n",
    "\n",
    "my own remarks\n",
    "- hard to compare with different time lags...\n",
    "- how is the negative generated? as a composite of points A&C?"
   ]
  },
  {
   "cell_type": "code",
   "execution_count": null,
   "metadata": {
    "jupyter": {
     "source_hidden": true
    }
   },
   "outputs": [],
   "source": [
    "SST_ctrl = xr.open_dataarray(f'{path_prace}/SST/SST_monthly_ds_dt_ctrl_51_301.nc', decode_times=False)\n",
    "SST_ctrl = DS().shift_ocn_rect(SST_ctrl)\n",
    "SST_lpd  = xr.open_dataarray(f'{path_prace}/SST/SST_monthly_ds_dt_lpd_154_404.nc', decode_times=False)"
   ]
  },
  {
   "cell_type": "code",
   "execution_count": null,
   "metadata": {
    "jupyter": {
     "source_hidden": true
    }
   },
   "outputs": [],
   "source": [
    "SOi = lowpass(ds['CESM_high_SOi'], 12*10)"
   ]
  },
  {
   "cell_type": "code",
   "execution_count": null,
   "metadata": {
    "jupyter": {
     "source_hidden": true
    }
   },
   "outputs": [],
   "source": [
    "SOi.time.values = SST_ctrl.time.values"
   ]
  },
  {
   "cell_type": "code",
   "execution_count": null,
   "metadata": {
    "jupyter": {
     "source_hidden": true
    }
   },
   "outputs": [],
   "source": [
    "%%time\n",
    "# 8 min 57s\n",
    "lagged_SST = {}\n",
    "for lagx in [0,5,10,15,20]:\n",
    "    lagged_SST[f'SOi_SST_lag{lagx}'] = ADA().lag_linregress(x=SOi, y=SST_ctrl, lagx=lagx*12, lagy=0)"
   ]
  },
  {
   "cell_type": "code",
   "execution_count": null,
   "metadata": {
    "jupyter": {
     "source_hidden": true
    }
   },
   "outputs": [],
   "source": [
    "theta = np.linspace(0, 2*np.pi, 100)\n",
    "center, radius = [0.5, 0.5], 0.5\n",
    "verts = np.vstack([np.sin(theta), np.cos(theta)]).T\n",
    "circle = matplotlib.path.Path(verts * radius + center)"
   ]
  },
  {
   "cell_type": "code",
   "execution_count": null,
   "metadata": {
    "jupyter": {
     "source_hidden": true
    }
   },
   "outputs": [],
   "source": [
    "lats, lons = SST_ctrl.t_lat, SST_ctrl.t_lon; lons, lats = np.meshgrid(lons, lats)\n",
    "maxv, ticks = .5, np.arange(-.5,.51,.25)\n",
    "f = plt.figure(figsize=(4, 10.5), constrained_layout=True)\n",
    "for i, lagx in enumerate([0,5,10,15,20]):\n",
    "    for j in range(2):\n",
    "        ax = f.add_subplot(5, 2, j+i*2+1, projection=ccrs.LambertAzimuthalEqualArea(central_latitude=-90))#, central_longitude=-179.9))\n",
    "        ax.set_position([.01+j*.5,.05+i*.19,.48,.19])\n",
    "        ax.set_boundary(circle, transform=ax.transAxes)\n",
    "        ax.set_extent([-180, 180, -90, -[50,0][j]], ccrs.PlateCarree())\n",
    "        im = ax.pcolormesh(lons, lats, lagged_SST[f'SOi_SST_lag{lagx}'].cor, cmap='cmo.balance',\n",
    "                           vmin=-maxv, vmax=maxv, transform=ccrs.PlateCarree())\n",
    "        if j==0:  ax.text(.01,.95, f'-{lagx} yrs', transform=ax.transAxes)\n",
    "        ax.coastlines(resolution='110m')\n",
    "        gl = ax.gridlines(crs=ccrs.PlateCarree(), draw_labels=False)\n",
    "        gl.xlocator = matplotlib.ticker.FixedLocator(np.arange(-180,181,60))\n",
    "        gl.ylocator = matplotlib.ticker.FixedLocator(np.arange(-90,91,30))\n",
    "        \n",
    "ax = f.add_axes([.05,.025,.9,.015])\n",
    "cbar = plt.colorbar(im, cax=ax, shrink=.9, pad=.0, orientation='horizontal', extend='both', ticks=ticks, label='correlation')\n",
    "cbar.ax.set_yticklabels(ticks, fontsize=12)"
   ]
  },
  {
   "cell_type": "markdown",
   "metadata": {},
   "source": [
    "- at 0 lag tha patter is quite similar\n",
    "- at 20 year lag, the observsations do not show positive Amundsen/Bellingshausen Sea correlation\n",
    "- some hints of wavenumber 3, at 20 years lag wavenumber 1"
   ]
  },
  {
   "cell_type": "code",
   "execution_count": null,
   "metadata": {},
   "outputs": [],
   "source": [
    "t = np.linspace(0,10,100)\n",
    "X = xr.DataArray(data=np.sin(t), coords={'time':t}, dims='time')\n",
    "Y = xr.DataArray(data=np.cos(t), coords={'time':t}, dims='time')\n",
    "X.plot()\n",
    "Y.plot()\n",
    "plt.figure()\n",
    "for lagx in np.arange(-20,20):\n",
    "    plt.scatter(lagx, ADA().lag_linregress(x=X, y=Y, lagx=lagx, lagy=0).cor.values)"
   ]
  },
  {
   "cell_type": "markdown",
   "metadata": {},
   "source": [
    "### identifying times in the model"
   ]
  },
  {
   "cell_type": "code",
   "execution_count": null,
   "metadata": {},
   "outputs": [],
   "source": []
  },
  {
   "cell_type": "markdown",
   "metadata": {},
   "source": [
    "### OHC anomalies"
   ]
  },
  {
   "cell_type": "markdown",
   "metadata": {},
   "source": [
    "- still needs to be done"
   ]
  },
  {
   "cell_type": "markdown",
   "metadata": {},
   "source": [
    "### sea level pressure"
   ]
  },
  {
   "cell_type": "markdown",
   "metadata": {},
   "source": [
    "<img src=\"../../results/Woosok/P_surface.png\" width=\"600\"/>"
   ]
  },
  {
   "cell_type": "code",
   "execution_count": null,
   "metadata": {
    "jupyter": {
     "source_hidden": true
    }
   },
   "outputs": [],
   "source": [
    "# %%time\n",
    "# from paths import path_prace_prace\n",
    "# # ca. 12min for single dataset loading and concatenation\n",
    "# Vs = []\n",
    "# Us = []\n",
    "# Ps = []\n",
    "# for i, (y,m,fn) in enumerate(IterateOutputCESM(domain='atm', run='ctrl', tavg='monthly')):\n",
    "#     if y>50:\n",
    "#         if m==1: print(y)\n",
    "# #         Vs.append(xr.open_dataset(fn, decode_times=False).V[0,-1,:,:])\n",
    "# #         Us.append(xr.open_dataset(fn, decode_times=False).U[0,-1,:,:])\n",
    "#         Ps.append(xr.open_dataset(fn, decode_times=False).PS[0,:,:])\n",
    "# ds = xr.concat(Ps, dim='time', coords='minimal')\n",
    "# ds.to_netcdf(f'{path_prace}/Woosok/PS_monthly.nc')"
   ]
  },
  {
   "cell_type": "code",
   "execution_count": null,
   "metadata": {
    "jupyter": {
     "source_hidden": true
    }
   },
   "outputs": [],
   "source": [
    "PS = xr.open_dataarray(f'{path_prace}/Woosok/PS_monthly.nc', decode_times=False).isel(time=slice(0,3000))\n",
    "PS_regr = ADA().lag_linregress(x=SOi, y=PS, lagx=0, lagy=0)"
   ]
  },
  {
   "cell_type": "code",
   "execution_count": null,
   "metadata": {
    "jupyter": {
     "source_hidden": true
    }
   },
   "outputs": [],
   "source": [
    "lats, lons = PS.lat, PS.lon; lons, lats = np.meshgrid(lons, lats)"
   ]
  },
  {
   "cell_type": "code",
   "execution_count": null,
   "metadata": {
    "jupyter": {
     "source_hidden": true
    }
   },
   "outputs": [],
   "source": [
    "f = plt.figure(figsize=(4.3, 2), constrained_layout=True)\n",
    "f.suptitle(r'P$_{surface}$')\n",
    "for i in range(2):\n",
    "    ax = f.add_subplot(1, 3, i+1, projection=ccrs.LambertAzimuthalEqualArea(central_latitude=-90))#, central_longitude=-179.9))\n",
    "    ax.set_position([.005+i*.47,.01,.47,.98])\n",
    "    ax.set_boundary(circle, transform=ax.transAxes)\n",
    "    ax.set_extent([-180, 180, -90, -30], ccrs.PlateCarree())\n",
    "    if i==0:\n",
    "        ax.pcolormesh(lons, lats, PS.mean(dim='time'), cmap='cmo.dense',\n",
    "                       vmin=6e4, vmax=1.1e5, transform=ccrs.PlateCarree())\n",
    "        ax.text(.05,.95, 'mean', transform=ax.transAxes)\n",
    "    if i==1: \n",
    "        im = ax.pcolormesh(lons, lats, PS_regr.cor, cmap='cmo.balance',\n",
    "                           vmin=-.1, vmax=.1, transform=ccrs.PlateCarree())\n",
    "        ax.text(.15,.95, 'corr.', transform=ax.transAxes)\n",
    "\n",
    "    ax.coastlines(resolution='110m')\n",
    "    gl = ax.gridlines(crs=ccrs.PlateCarree(), draw_labels=False)\n",
    "    gl.xlocator = matplotlib.ticker.FixedLocator(np.arange(-180,181,60))\n",
    "    gl.ylocator = matplotlib.ticker.FixedLocator(np.arange(-90,91,30))\n",
    "\n",
    "ax = f.add_axes([.96,.05,.02,.9])\n",
    "cbar = plt.colorbar(im, cax=ax, shrink=.9, pad=.0, orientation='vertical', extend='both', ticks=ticks, label='correlation')\n",
    "cbar.ax.set_yticklabels(ticks, fontsize=12)"
   ]
  },
  {
   "cell_type": "markdown",
   "metadata": {},
   "source": [
    "- compare to middle panel\n",
    "- different pattern around Antarctic coast negative in obs., positive in CESM\n",
    "- similar negative pattern in mid-latitude Pacific and South of Australia"
   ]
  },
  {
   "cell_type": "markdown",
   "metadata": {},
   "source": [
    "### surface winds\n",
    "left: zonal wind, right: meridional wind\n",
    "<p float=\"center\">\n",
    "    <img src=\"../../results/Woosok/Vwind.png\" width=\"450\"/>\n",
    "    <img src=\"../../results/Woosok/Uwind.png\" width=\"450\"/>\n",
    "</p>\n",
    "<named exactly wrong here>"
   ]
  },
  {
   "cell_type": "code",
   "execution_count": null,
   "metadata": {
    "jupyter": {
     "source_hidden": true
    }
   },
   "outputs": [],
   "source": [
    "U = xr.open_dataarray(f'{path_prace}/Woosok/U_monthly.nc', decode_times=False).isel(time=slice(0,3000))\n",
    "V = xr.open_dataarray(f'{path_prace}/Woosok/V_monthly.nc', decode_times=False).isel(time=slice(0,3000))"
   ]
  },
  {
   "cell_type": "code",
   "execution_count": null,
   "metadata": {
    "jupyter": {
     "outputs_hidden": true,
     "source_hidden": true
    }
   },
   "outputs": [],
   "source": [
    "%%time\n",
    "# 48.5 s\n",
    "U_regr = ADA().lag_linregress(x=SOi, y=U, lagx=0, lagy=0)\n",
    "V_regr = ADA().lag_linregress(x=SOi, y=V, lagx=0, lagy=0)"
   ]
  },
  {
   "cell_type": "code",
   "execution_count": null,
   "metadata": {
    "jupyter": {
     "source_hidden": true
    }
   },
   "outputs": [],
   "source": [
    "\n",
    "for k, regr in enumerate([U_regr, V_regr]):\n",
    "    for j, quant in enumerate(['cor']):#, 'cov']):\n",
    "        f = plt.figure(figsize=(4.3, 2), constrained_layout=True)\n",
    "        f.suptitle(['U ', 'V '][k])\n",
    "        for i in range(2):\n",
    "            ax = f.add_subplot(1, 3, i+1, projection=ccrs.LambertAzimuthalEqualArea(central_latitude=-90))#, central_longitude=-179.9))\n",
    "            ax.set_position([.005+i*.47,.01,.47,.98])\n",
    "            ax.set_boundary(circle, transform=ax.transAxes)\n",
    "            ax.set_extent([-180, 180, -90, -30], ccrs.PlateCarree())\n",
    "            if i==0:\n",
    "                ax.pcolormesh(lons, lats, [U,V][k].mean(dim='time'), cmap='cmo.curl',\n",
    "                               vmin=-15, vmax=15, transform=ccrs.PlateCarree())\n",
    "                ax.text(.05,.95, 'mean', transform=ax.transAxes)\n",
    "            if i==1: \n",
    "                im = ax.pcolormesh(lons, lats, regr[quant], cmap='cmo.balance',\n",
    "                                   vmin=-.1, vmax=.1, transform=ccrs.PlateCarree())\n",
    "                ax.text(.15,.95, quant, transform=ax.transAxes)\n",
    "\n",
    "            ax.coastlines(resolution='110m')\n",
    "            gl = ax.gridlines(crs=ccrs.PlateCarree(), draw_labels=False)\n",
    "            gl.xlocator = matplotlib.ticker.FixedLocator(np.arange(-180,181,60))\n",
    "            gl.ylocator = matplotlib.ticker.FixedLocator(np.arange(-90,91,30))\n",
    "\n",
    "\n",
    "        ax = f.add_axes([.96,.05,.02,.9])\n",
    "        cbar = plt.colorbar(im, cax=ax, shrink=.9, pad=.0, orientation='vertical', extend='both', ticks=ticks, label='correlation')\n",
    "        cbar.ax.set_yticklabels(ticks, fontsize=12)"
   ]
  },
  {
   "cell_type": "markdown",
   "metadata": {},
   "source": [
    "left subplots is mean of winds\n",
    "\n",
    "right subplots need to be compared to warm phase (middle image)\n",
    "\n",
    "- zonal wind U: negative correlations in CESM, around Antarctica, but positive in \"observations\"\n",
    "- meridional wind V: wavenumber 3 visible in correct locations"
   ]
  },
  {
   "cell_type": "markdown",
   "metadata": {},
   "source": [
    "### surface meridional Ekman transport \n",
    "<img src=\"../../results/Woosok/VVEL_Pacific.png\" width=\"550\"/>\n",
    "<img src=\"../../results/Woosok/VVEL_Atlantic.png\" width=\"550\"/>"
   ]
  },
  {
   "cell_type": "code",
   "execution_count": null,
   "metadata": {},
   "outputs": [],
   "source": []
  },
  {
   "cell_type": "markdown",
   "metadata": {},
   "source": [
    "- wavenumber 3 pattern in  zonal wind (found in _Wang & Dommenget (2015)_)"
   ]
  },
  {
   "cell_type": "markdown",
   "metadata": {},
   "source": [
    "## References:\n",
    "_Wang & Dommenget (2015)_: The leading modes of decadal SST variability in the Southern Ocean in CMIP5 simulations"
   ]
  },
  {
   "cell_type": "code",
   "execution_count": null,
   "metadata": {},
   "outputs": [],
   "source": []
  }
 ],
 "metadata": {
  "kernelspec": {
   "display_name": "Python 3",
   "language": "python",
   "name": "python3"
  },
  "language_info": {
   "codemirror_mode": {
    "name": "ipython",
    "version": 3
   },
   "file_extension": ".py",
   "mimetype": "text/x-python",
   "name": "python",
   "nbconvert_exporter": "python",
   "pygments_lexer": "ipython3",
   "version": "3.6.7"
  }
 },
 "nbformat": 4,
 "nbformat_minor": 4
}
