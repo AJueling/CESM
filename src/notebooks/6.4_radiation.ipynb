{
 "cells": [
  {
   "cell_type": "markdown",
   "metadata": {},
   "source": [
    "# Climate Sensitivity atmospheric plots of the HIGH and LOW CESM runs\n",
    "\n",
    "## Baatsen _et al._ (2018) Fig. 14\n",
    "\n",
    "a. climate response map $[^\\circ C / W m^{-2}]$ (winter season only)\n",
    "\n",
    "b. climate response zonal mean $[^\\circ C / W m^{-2}]$ (annual, DJF, JJA)\n",
    "\n",
    "c. map of change in net LW flux $[W m^{-2}]$ + SW fluxes\n",
    "\n",
    "d. zonal mean TOM fluxes $[W m^{-2}]$ \n",
    "\n",
    "1. SW total     `FSNT`    = \"Net solar flux at top of model\" or \n",
    "                `FSNTOA`  = \"Net solar flux at top of atmosphere\"\n",
    "2. SW clearsky  `FSNTC`   = \"Clearsky net solar flux at top of model\" or \n",
    "                `FSNTOAC` = \"Clearsky net solar flux at top of atmosphere\"\n",
    "3. LW total     `FLNT`    = \"Net longwave flux at top of model\"\n",
    "4. LW clearsky  `FLNTC` = \"Clearsky net longwave flux at top of model\"\n",
    "\n",
    "e. (occurance deep convection $[\\%]$ `FREQZM` = \"Fractional occurance of ZM convection\")\n",
    "\n",
    "f. zonal mean cloud cover $[\\%]$\n",
    "\n",
    "1. low `CLDLOW`\n",
    "2. medium `CLDMED`\n",
    "3. high `CLDHGH`\n",
    "4. total `CLDTOT` = \"Vertically-integrated total cloud\"\n",
    "\n",
    "## other quantities\n",
    "- heat transport:  total = atm. + ocean\n",
    "- `PRECT` = \"Total (convective and large-scale) precipitation rate (liq + ice)\"\n",
    "\n",
    "## comparisons: HIGH vs. LOW\n",
    "1. (2090-2100 RCP) - (200-230 CTRL)\n",
    "2. (2040-2050 4xCO2) - (200-230 CTRL)"
   ]
  },
  {
   "cell_type": "code",
   "execution_count": null,
   "metadata": {},
   "outputs": [],
   "source": [
    "import os\n",
    "import sys\n",
    "import numpy as np\n",
    "import string\n",
    "import xarray as xr\n",
    "import cmocean\n",
    "import cartopy\n",
    "import scipy.stats as stats\n",
    "import cartopy.crs as ccrs\n",
    "import datetime\n",
    "import matplotlib as mpl\n",
    "import matplotlib.pyplot as plt"
   ]
  },
  {
   "cell_type": "code",
   "execution_count": null,
   "metadata": {},
   "outputs": [],
   "source": [
    "%matplotlib inline\n",
    "mpl.rc_file('../rc_file')\n",
    "%config InlineBackend.print_figure_kwargs={'bbox_inches':None}\n",
    "%load_ext autoreload\n",
    "%autoreload 2"
   ]
  },
  {
   "cell_type": "code",
   "execution_count": null,
   "metadata": {
    "tags": []
   },
   "outputs": [],
   "source": [
    "sys.path.append(\"..\")\n",
    "from tqdm.notebook import tqdm\n",
    "from paths import path_results, path_prace, CESM_filename, file_ex_atm_lpd\n",
    "from filters import lowpass\n",
    "from constants import spy\n",
    "from xr_DataArrays import xr_AREA\n",
    "from xr_regression import xr_linear_trend, xr_lintrend"
   ]
  },
  {
   "cell_type": "markdown",
   "metadata": {},
   "source": [
    "created yearly files in timeseries.ipynb with relevant \n",
    "```\n",
    "fieldlist = [['CLDLOW','CLDMED','CLDHGH','CLDTOT'],['FSNT','FSNTC','FLNT','FLNTC'],['FREQZM','PRECT']]\n",
    "for fields in tqdm(fieldlist):\n",
    "    for i, run in tqdm(enumerate(['ctrl','lpd','hq','lq','rcp','lr1'])):\n",
    "        ys = [200,500,2041,2041,2091,2091][i]\n",
    "        ye = [230,530,2051,2051,2101,2101][i]\n",
    "        DeriveField(run).yrly_avg_nc(domain='atm', fields=fields, years=np.arange(ys,ye))\n",
    "```\n",
    "for lpd it created all files form 154 to 501, so we use np.arange(470,500) as avearging period and delete the other files"
   ]
  },
  {
   "cell_type": "code",
   "execution_count": null,
   "metadata": {
    "tags": []
   },
   "outputs": [],
   "source": [
    "# timeseries created files for all years, deleted unnecessary files\n",
    "# for q in ['CLDLOW_CLDMED_CLDHGH_CLDTOT', 'FSNT_FSNTC_FLNT_FLNTC', 'FREQZM_PRECT']:\n",
    "#     for y in tqdm(np.arange(154, 502)):\n",
    "#         if y not in np.arange(470,500):\n",
    "#             fn_in = f'{path_prace}/lpd/atm_yrly_{q}_{y:04d}.nc'\n",
    "#             if os.path.exists(fn_in):\n",
    "#                 os.remove(fn_in)"
   ]
  },
  {
   "cell_type": "code",
   "execution_count": null,
   "metadata": {
    "tags": []
   },
   "outputs": [],
   "source": [
    "for q in ['CLDLOW_CLDMED_CLDHGH_CLDTOT', 'FSNT_FSNTC_FLNT_FLNTC', 'FREQZM_PRECT']:\n",
    "    for i, run in tqdm(enumerate(['ctrl','lpd','hq','lq','rcp','lr1'])):\n",
    "        # if i==1:  continue\n",
    "        ys = [200,470,2041,2041,2091,2091][i]\n",
    "        ye = [230,500,2051,2051,2101,2101][i]\n",
    "        fn_in = f'{path_prace}/{run}/atm_yrly_{q}_*.nc'\n",
    "        fn_out = f'{path_prace}/ECS/atm_{run}_{q}_avg_{ys}_{ye}.nc'\n",
    "        if os.path.exists(fn_out):  continue\n",
    "        xr.open_mfdataset(fn_in, concat_dim='time').mean('time').to_netcdf(fn_out)"
   ]
  },
  {
   "cell_type": "code",
   "execution_count": null,
   "metadata": {},
   "outputs": [],
   "source": [
    "f, ax = plt.subplots(1, 3, figsize=(6.4,3), sharey=True)\n",
    "ax[0].set_ylabel('latitude  [$^\\circ$N]')\n",
    "ax[1].axvline(0, c='k', lw=.5)\n",
    "for i in range(3):\n",
    "    ax[i].axhline(0, c='k',lw=.5)\n",
    "    ax[i].text(.01,.94,f'({string.ascii_lowercase[i]})', transform=ax[i].transAxes)\n",
    "    # ax[i].set_title(['clouds','radiation'][i])\n",
    "    # ax[i].axvline(0, lw=.5, c='k')\n",
    "for i, sim in enumerate(['HIGH', 'LOW']):\n",
    "    ls = ['-','--'][i]\n",
    "    area = xr_AREA(['atm', 'atm_f09'][i])\n",
    "    (ctrl, rcp, quad) = [('ctrl', 'rcp', 'hq'), ('lpd', 'lr1', 'lq')][i]\n",
    "    ysc = [200,470][i]\n",
    "    for q, Q in enumerate(['CLDLOW_CLDMED_CLDHGH_CLDTOT','FSNT_FSNTC_FLNT_FLNTC']):\n",
    "        dsc = xr.open_dataset(f'{path_prace}/ECS/atm_{ctrl}_{Q}_avg_{ysc}_{ysc+30}.nc')\n",
    "        dsr = xr.open_dataset(f'{path_prace}/ECS/atm_{rcp}_{Q}_avg_2091_2101.nc')\n",
    "        dsq = xr.open_dataset(f'{path_prace}/ECS/atm_{quad}_{Q}_avg_2041_2051.nc')\n",
    "        if q==0:  # clouds\n",
    "            for t, T in enumerate(['CLDLOW','CLDMED','CLDHGH','CLDTOT']):\n",
    "                label = [['low', 'medium', 'high', 'total'][t], None][i]\n",
    "                c = f'C{t}'\n",
    "                ax[2].plot(dsc[T].mean('lon')*100, dsc.lat, c=c, ls=ls, label=label)\n",
    "        if q==1:  # radiation\n",
    "            for t, T in enumerate(['FSNT','FSNTC','FLNT','FLNTC']):\n",
    "                label = [['SW net', 'SW clearsky', 'LW net', 'LW clearsky'][t], None][i]\n",
    "                c = f'C{t}'\n",
    "                ax[0].plot(dsc[T].mean('lon'), dsc.lat, c=c, ls=ls, label=label)\n",
    "            ax[1].plot(((dsc['FSNT']-dsc['FLNT'])*area).sum('lon').cumsum('lat')/1e15, dsc.lat, c='k', ls=ls, label='total heat flux')\n",
    "for i in range(3):\n",
    "    ax[i].legend(fontsize=7)\n",
    "ax[2].set_xlim((0,100))\n",
    "ax[0].set_xlabel(r'radiation  [W/m$^2$]')\n",
    "ax[1].set_xlabel('heat transport  [PW]')\n",
    "ax[2].set_xlabel('cloud fraction  [%]')\n",
    "# ax[0].set_xlim((0,89))\n",
    "ax[0].set_ylim((-90,90))\n",
    "ax[0].set_yticks(np.arange(-90,91,30))\n",
    "plt.savefig(f'{path_results}/ECS/cloud_radiation_mean')"
   ]
  },
  {
   "cell_type": "code",
   "execution_count": null,
   "metadata": {},
   "outputs": [],
   "source": [
    "f, ax = plt.subplots(1,4, figsize=(6.4,3), sharey=True)\n",
    "# for i in range(3):\n",
    "#     ax[0,i].set_title(['CTRL', 'RCP 2091-2100 - CTRL', '4xCO2 2041-2050 - CTRL'][i])\n",
    "#     ax[i,0].set_ylabel(['clouds','radiation'][i]+'\\nlatitude')\n",
    "#     for j in range(2):  ax[i,j+1].axvline(0, lw=.5, c='k')\n",
    "for i in range(4):\n",
    "    ax[i].axhline(0, c='k',lw=.5)\n",
    "    ax[i].axvline(0, c='k',lw=.5)\n",
    "    ax[i].text(.01,.94,f'({string.ascii_lowercase[i]})', transform=ax[i].transAxes)\n",
    "\n",
    "for i, sim in enumerate(['HIGH', 'LOW']):\n",
    "    ls = ['-','--'][i]\n",
    "    (ctrl, rcp, quad) = [('ctrl', 'rcp', 'hq'), ('lpd', 'lr1', 'lq')][i]\n",
    "    ysc = [200,470][i]\n",
    "    Q = 'CLDLOW_CLDMED_CLDHGH_CLDTOT'\n",
    "    dsc = xr.open_dataset(f'{path_prace}/ECS/atm_{ctrl}_{Q}_avg_{ysc}_{ysc+30}.nc')\n",
    "    dsr = xr.open_dataset(f'{path_prace}/ECS/atm_{rcp}_{Q}_avg_2091_2101.nc')\n",
    "    dsq = xr.open_dataset(f'{path_prace}/ECS/atm_{quad}_{Q}_avg_2041_2051.nc')\n",
    "    for t, T in enumerate(['CLDLOW','CLDMED','CLDHGH','CLDTOT']):\n",
    "        if i==0:  ax[t].set_title(['low clouds', 'medium clouds', 'high clouds', 'total clouds'][t])\n",
    "        c = f'C{t}'\n",
    "        control = dsc[T].mean('lon')\n",
    "        ax[t].plot((dsr[T].mean('lon')-control)*100, dsc.lat, c=c, ls=ls, lw=0.7)\n",
    "        ax[t].plot((dsq[T].mean('lon')-control)*100, dsc.lat, c=c, ls=ls, lw=1.5)\n",
    "        if i==0:  ax[t].set_xlabel('change  [%]')\n",
    "ax[0].set_ylim((-90,90))\n",
    "ax[0].set_yticks(np.arange(-90,91,30))\n",
    "ax[0].set_ylabel(r'latitude  [$^\\circ$N]')\n",
    "plt.savefig(f'{path_results}/ECS/ECS_cloud_change')"
   ]
  },
  {
   "cell_type": "code",
   "execution_count": null,
   "metadata": {},
   "outputs": [],
   "source": [
    "f, ax = plt.subplots(3,3, figsize=(6.4,6.4), sharey=True)\n",
    "for i in range(3):\n",
    "    ax[i,0].set_ylabel(['SW radiation in', 'LW radiation out', 'total radiation in'][i]+'\\nlatitude  [$^\\circ$N]')\n",
    "    ax[0,i].set_title(['clearsky', 'with clouds', 'cloud effect'][i])\n",
    "    ax[2,i].set_xlabel(r'radiation change [W/m$^2$]')\n",
    "    for j in range(3):\n",
    "        ax[i,j].text(.01,.92,f'({string.ascii_lowercase[3*i+j]})', transform=ax[i,j].transAxes)\n",
    "        ax[i,j].axvline(0, c='k',lw=.5)\n",
    "        ax[i,j].axhline(0, c='k',lw=.5)\n",
    "\n",
    "for i, sim in enumerate(['HIGH', 'LOW']):\n",
    "    ls = ['-','--'][i]\n",
    "    (ctrl, rcp, quad) = [('ctrl', 'rcp', 'hq'), ('lpd', 'lr1', 'lq')][i]\n",
    "    ysc = [200,470][i]\n",
    "    Q = 'FSNT_FSNTC_FLNT_FLNTC'\n",
    "    dsc = xr.open_dataset(f'{path_prace}/ECS/atm_{ctrl}_{Q}_avg_{ysc}_{ysc+30}.nc')\n",
    "    dsr = xr.open_dataset(f'{path_prace}/ECS/atm_{rcp}_{Q}_avg_2091_2101.nc')\n",
    "    dsq = xr.open_dataset(f'{path_prace}/ECS/atm_{quad}_{Q}_avg_2041_2051.nc')\n",
    "    for ds in [dsc, dsr, dsq]:\n",
    "        ds['TOM']  = ds['FSNT']  - ds['FLNT']   # top of model radiative imbalance\n",
    "        ds['TOMC'] = ds['FSNTC'] - ds['FLNTC']  # top of model clearsky radiative imbalance\n",
    "    for k, ds_ in enumerate([dsr, dsq]):\n",
    "        kwargs = {'c':['C1','C3'][k], 'ls':['-','--'][i], 'lw':.8, 'label':['HIGH ','LOW '][i]+['RCP','4xCO2'][k]}\n",
    "        for t, T in enumerate(['FSNTC','FSNT','FLNTC','FLNT']):\n",
    "            ax[int(t/2),t%2].plot(ds_[T].mean('lon')-dsc[T].mean('lon'), dsc.lat, **kwargs)\n",
    "        for j in range(2):\n",
    "            # cloud effects\n",
    "            (nt, ntc) = [('FSNT', 'FSNTC'),('FLNT', 'FLNTC')][j]\n",
    "            ax[j,2].plot((ds_[nt]-dsc[nt]-(ds_[ntc]-dsc[ntc])).mean('lon'), dsc.lat, **kwargs)\n",
    "            # total radiation\n",
    "            T = ['TOMC','TOM'][j]\n",
    "            ax[2,j].plot(ds_[T].mean('lon')-dsc[T].mean('lon'), dsc.lat, **kwargs)\n",
    "        ax[2,2].plot((ds_['TOM']-dsc['TOM']-(ds_['TOMC']-dsc['TOMC'])).mean('lon'), dsc.lat, **kwargs)\n",
    "for i in range(3):\n",
    "    ax[i,0].set_ylim((-90,90))\n",
    "    ax[i,0].set_yticks(np.arange(-90,91,30))\n",
    "ax[1,0].legend(fontsize=7)\n",
    "plt.savefig(f'{path_results}/ECS/ECS_clouds_clearsky_radiation_lat')"
   ]
  },
  {
   "cell_type": "markdown",
   "metadata": {},
   "source": [
    "- net LW clearsky: Planck response, polar amplification due to enhanced warming, tropical tropopause response and stratopsheric cooling result in less outgoing radiation\n",
    "- net LW with cloud effects\n",
    "- SW clearsky: albedo changes on surface\n",
    "### common features:\n",
    "- RCP response less strong than 4xCO2\n",
    "- total cloud cover reduces in low- and mid-latitudes\n",
    "- low clouds decrease everywhere, except Arctic"
   ]
  },
  {
   "cell_type": "code",
   "execution_count": null,
   "metadata": {
    "tags": []
   },
   "outputs": [],
   "source": [
    "f, ax = plt.subplots(3,3, figsize=(10,10), sharey=True)\n",
    "for i in range(3):\n",
    "    ax[0,i].set_title(['CTRL', 'RCP 2091-2100 - CTRL', '4xCO2 2041-2050 - CTRL'][i])\n",
    "    ax[i,0].set_ylabel(['clouds','radiation', 'precip'][i]+'\\nlatitude')\n",
    "    for j in range(2):  ax[i,j+1].axvline(0, lw=.5, c='k')\n",
    "for i, sim in enumerate(['HIGH', 'LOW']):\n",
    "    ls = ['-','--'][i]\n",
    "    (ctrl, rcp, quad) = [('ctrl', 'rcp', 'hq'), ('lpd', 'lr1', 'lq')][i]\n",
    "    ysc = [200,470][i]\n",
    "    for q, Q in enumerate(['CLDLOW_CLDMED_CLDHGH_CLDTOT',\n",
    "                           'FSNT_FSNTC_FLNT_FLNTC', 'FREQZM_PRECT']):\n",
    "        dsc = xr.open_dataset(f'{path_prace}/ECS/atm_{ctrl}_{Q}_avg_{ysc}_{ysc+30}.nc')\n",
    "        dsr = xr.open_dataset(f'{path_prace}/ECS/atm_{rcp}_{Q}_avg_2091_2101.nc')\n",
    "        dsq = xr.open_dataset(f'{path_prace}/ECS/atm_{quad}_{Q}_avg_2041_2051.nc')\n",
    "        if q==0:  # clouds\n",
    "            for t, T in enumerate(['CLDLOW','CLDMED','CLDHGH','CLDTOT']):\n",
    "                label = [['low clouds', 'medium clouds', 'high clouds', 'total clouds'][t], None][i]\n",
    "                c = f'C{t}'\n",
    "                control = dsc[T].mean('lon')\n",
    "                ax[0,0].plot(control*100                   , dsc.lat, c=c, ls=ls, label=label)\n",
    "                ax[0,1].plot((dsr[T].mean('lon')-control)*100, dsc.lat, c=c, ls=ls)\n",
    "                ax[0,2].plot((dsq[T].mean('lon')-control)*100, dsc.lat, c=c, ls=ls)\n",
    "        if q==1:  # radiation\n",
    "            for t, T in enumerate(['FSNT','FSNTC','FLNT','FLNTC']):\n",
    "                label = [['net SW', 'net SW clearsky', 'net LW', 'net LW clearsky'][t], None][i]\n",
    "                c = f'C{t}'\n",
    "                control = dsc[T].mean('lon')\n",
    "                ax[1,0].plot(control                   , dsc.lat, c=c, ls=ls, label=label)\n",
    "                ax[1,1].plot(dsr[T].mean('lon')-control, dsc.lat, c=c, ls=ls)\n",
    "                ax[1,2].plot(dsq[T].mean('lon')-control, dsc.lat, c=c, ls=ls)\n",
    "        if q==2:  # convection and precip\n",
    "            T = 'PRECT'\n",
    "            control = dsc[T].mean('lon')\n",
    "            ax[2,0].plot(control                   , dsc.lat, ls=ls, label=['precipitation', None][i])\n",
    "            ax[2,1].plot(dsr[T].mean('lon')-control, dsc.lat, ls=ls)\n",
    "            ax[2,2].plot(dsq[T].mean('lon')-control, dsc.lat, ls=ls)\n",
    "for i in range(3):\n",
    "    ax[i,0].legend(fontsize=8)\n",
    "    ax[i,0].set_ylim((-90,90))\n",
    "    ax[i,0].set_yticks(np.arange(-90,91,30))\n"
   ]
  },
  {
   "cell_type": "code",
   "execution_count": null,
   "metadata": {},
   "outputs": [],
   "source": [
    "ds = xr.open_mfdataset(fn_in, concat_dim='time').mean('time')\n",
    "ds"
   ]
  },
  {
   "cell_type": "code",
   "execution_count": null,
   "metadata": {},
   "outputs": [],
   "source": [
    "for q in ['CLDLOW','CLDMED','CLDHGH','CLDTOT']:\n",
    "    ds[q].mean('lon').plot(label=q)\n",
    "plt.legend()"
   ]
  },
  {
   "cell_type": "code",
   "execution_count": null,
   "metadata": {},
   "outputs": [],
   "source": [
    "((ds.FSNT-ds.FSNTOA)/ds.FSNT).plot()"
   ]
  },
  {
   "cell_type": "code",
   "execution_count": null,
   "metadata": {},
   "outputs": [],
   "source": []
  }
 ],
 "metadata": {
  "kernelspec": {
   "display_name": "Python 3",
   "language": "python",
   "name": "python3"
  },
  "language_info": {
   "codemirror_mode": {
    "name": "ipython",
    "version": 3
   },
   "file_extension": ".py",
   "mimetype": "text/x-python",
   "name": "python",
   "nbconvert_exporter": "python",
   "pygments_lexer": "ipython3",
   "version": "3.7.6-final"
  }
 },
 "nbformat": 4,
 "nbformat_minor": 4
}
