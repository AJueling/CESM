{
 "cells": [
  {
   "cell_type": "markdown",
   "metadata": {},
   "source": [
    "# Regridding scalar fields from 0.1 to 04 degrees (`ocn` to `ocn_rect`)\n",
    "This notebook regrids scalar data from the high resolution grid of 0.1 degrees to the low resolution rectangular grid at 0.4 degrees.\n",
    "We use the xESMF `conservative` option."
   ]
  },
  {
   "cell_type": "code",
   "execution_count": null,
   "metadata": {},
   "outputs": [],
   "source": [
    "import os\n",
    "import sys\n",
    "sys.path.append(\"..\")\n",
    "from shutil import copyfile\n",
    "import numpy as np\n",
    "import xesmf as xe\n",
    "import xarray as xr\n",
    "import matplotlib\n",
    "import matplotlib.pyplot as plt"
   ]
  },
  {
   "cell_type": "code",
   "execution_count": null,
   "metadata": {},
   "outputs": [],
   "source": [
    "%config InlineBackend.print_figure_kwargs={'bbox_inches':None}\n",
    "%matplotlib inline\n",
    "%load_ext autoreload\n",
    "%autoreload 2\n",
    "matplotlib.rc_file('../rc_file')"
   ]
  },
  {
   "cell_type": "code",
   "execution_count": null,
   "metadata": {},
   "outputs": [],
   "source": [
    "from paths import path_samoc, file_ex_ocn_ctrl, file_ex_ocn_rect\n",
    "from grid import generate_lats_lons"
   ]
  },
  {
   "cell_type": "code",
   "execution_count": null,
   "metadata": {},
   "outputs": [],
   "source": [
    "ds      = xr.open_dataset('/projects/0/samoc/andre/CESM/ctrl/ocn_yrly_TEMP_PD_0001.nc')\n",
    "ds_ocn  = xr.open_dataset(file_ex_ocn_ctrl, decode_times=False)\n",
    "ds_rect = xr.open_dataset(file_ex_ocn_rect, decode_times=False)"
   ]
  },
  {
   "cell_type": "markdown",
   "metadata": {},
   "source": [
    "# using `nccurv2ncrect.sc` from Michael\n",
    "`src/regrid/regrid_yrly_TEMP_PD.py`"
   ]
  },
  {
   "cell_type": "code",
   "execution_count": null,
   "metadata": {},
   "outputs": [],
   "source": [
    "ds1.TEMP[0,:,:].plot(vmin=0,vmax=30)"
   ]
  },
  {
   "cell_type": "code",
   "execution_count": null,
   "metadata": {},
   "outputs": [],
   "source": [
    "ds2 = xr.open_dataset(f'{path_samoc}/ctrl_rect/TEMP_new_test.interp900x602.nc')"
   ]
  },
  {
   "cell_type": "code",
   "execution_count": null,
   "metadata": {},
   "outputs": [],
   "source": [
    "ds2.TEMP[0,:,:].plot(vmin=0,vmax=30)"
   ]
  },
  {
   "cell_type": "code",
   "execution_count": null,
   "metadata": {},
   "outputs": [],
   "source": [
    "plt.figure()\n",
    "for t in np.arange(1,301):\n",
    "    fn = f'{path_samoc}/ctrl_rect/TEMP_PD_yrly_{t:04d}.interp900x602.nc'\n",
    "    try:\n",
    "        assert os.path.exists(fn)\n",
    "        da = xr.open_dataset(fn, decode_times=False).TEMP[0,:,:]\n",
    "        plt.scatter(t, da.mean())\n",
    "    except:\n",
    "        pass"
   ]
  },
  {
   "cell_type": "markdown",
   "metadata": {},
   "source": [
    "## xESMF (does not work)"
   ]
  },
  {
   "cell_type": "code",
   "execution_count": null,
   "metadata": {},
   "outputs": [],
   "source": [
    "ds_rect.coords"
   ]
  },
  {
   "cell_type": "markdown",
   "metadata": {},
   "source": [
    "need to copy `t_lon`, `t_lat`, and `depth_t` coordinates to new file, retain time coordinate"
   ]
  },
  {
   "cell_type": "markdown",
   "metadata": {},
   "source": [
    "### renaming coordinates"
   ]
  },
  {
   "cell_type": "code",
   "execution_count": null,
   "metadata": {},
   "outputs": [],
   "source": [
    "ds      = ds     .rename({'TLAT' : 'lat', 'TLONG': 'lon'})\n",
    "ds_rect = ds_rect.rename({'t_lat': 'lat', 't_lon': 'lon'})"
   ]
  },
  {
   "cell_type": "markdown",
   "metadata": {},
   "source": [
    "### filling in the lat/lon values into missing continents & create bounding lats/lons"
   ]
  },
  {
   "cell_type": "code",
   "execution_count": null,
   "metadata": {},
   "outputs": [],
   "source": [
    "lats,lons = generate_lats_lons('ocn')\n",
    "ds['lat'].values = lats\n",
    "ds['lon'].values = lons"
   ]
  },
  {
   "cell_type": "code",
   "execution_count": null,
   "metadata": {},
   "outputs": [],
   "source": [
    "ds.lon.values"
   ]
  },
  {
   "cell_type": "code",
   "execution_count": null,
   "metadata": {},
   "outputs": [],
   "source": [
    "def add_bounding_lat_lon(ds):\n",
    "    \"\"\" adding lon_b and lat_b to \"\"\"\n",
    "    \n",
    "    # rectangular grid\n",
    "    if np.ndim(ds.lat)==1 and np.ndim(ds.lon)==1:\n",
    "        lon_b = ds.lon.values-0.2\n",
    "        lon_b = np.append(lon_b, 359.8)\n",
    "\n",
    "        lats = ds.lat.values\n",
    "        lat_b = (lats[:-1]+lats[1:])/2\n",
    "        lat_S = np.array([lats[0] - (lats[1]-lats[0])/2])\n",
    "        lat_N = np.array([89.99])\n",
    "        lat_b = np.concatenate([lat_S, lat_b, lat_N])\n",
    "        \n",
    "        ds.expand_dims(['nlon_b', 'nlat_b'])\n",
    "        ds['lon_b'] = ('nlon_b', lon_b)\n",
    "        ds['lat_b'] = ('nlat_b', lat_b)\n",
    "        \n",
    "    # rectilinear grid\n",
    "    elif np.ndim(ds.lat)==2 and np.ndim(ds.lon)==2:\n",
    "        lons = ds.lon.values\n",
    "        lon_S = np.array((lons[0,:],))\n",
    "        print(np.shape(lons), np.shape(lon_S))\n",
    "        lons = np.concatenate([lon_S, lons], axis=0)\n",
    "        \n",
    "        \n",
    "        lon_b = (lons[:,1:]+lons[:,:-1])/2\n",
    "        lon_W = np.array((lons[:, 0] - (lons[:,1]-lons[:,0])/2,)).T\n",
    "        lon_E = np.array((lons[:,-1] - (lons[:,-1]-lons[:,-2])/2,)).T\n",
    "        lon_b = np.concatenate([lon_W, lon_b, lon_E], axis=1)\n",
    "        \n",
    "        lats = ds.lat.values\n",
    "        lat_W = np.array((lats[:,0],)).T\n",
    "        print(np.shape(lats), np.shape(lat_W))\n",
    "        lats = np.concatenate([lat_W, lats], axis=1)\n",
    "        \n",
    "        lat_b = (lats[1:,:]+lats[:-1,:])/2\n",
    "        lat_S = np.array((lats[ 0,:] - (lats[ 1,:]-lats[ 0,:])/2,))\n",
    "        lat_N = np.array((lats[-1,:] - (lats[-1,:]-lats[-2,:])/2,))\n",
    "        print(np.shape(lats), np.shape(lat_S), np.shape(lat_N))\n",
    "        lat_b = np.concatenate([lat_S, lat_b, lat_N], axis=0)\n",
    "        \n",
    "#         plt.plot(lat_b[100,:])\n",
    "#         plt.figure()\n",
    "#         plt.plot(lon_b[:,100])\n",
    "        \n",
    "        ds.expand_dims(['nlon_b', 'nlat_b'])\n",
    "\n",
    "        ds['lon_b'] = (['nlat_b', 'nlon_b'], lon_b)\n",
    "        ds['lat_b'] = (['nlat_b', 'nlon_b'], lat_b)\n",
    "\n",
    "#     ds = ds.assign_coords(lon_b=ds.lon_b)\n",
    "#     ds = ds.assign_coords(lat_b=ds.lat_b)\n",
    "    \n",
    "    return ds\n",
    "\n",
    "ds_rect = add_bounding_lat_lon(ds_rect)\n",
    "ds = add_bounding_lat_lon(ds)"
   ]
  },
  {
   "cell_type": "code",
   "execution_count": null,
   "metadata": {},
   "outputs": [],
   "source": [
    "ds.lat_b.plot()"
   ]
  },
  {
   "cell_type": "code",
   "execution_count": null,
   "metadata": {},
   "outputs": [],
   "source": [
    "ds.lon_b.plot()"
   ]
  },
  {
   "cell_type": "markdown",
   "metadata": {},
   "source": [
    "The problem for the 'conservative' option appears to be the non-monotonic lon of the grid, as exemplified by the failure of pcolormesh to handle the input."
   ]
  },
  {
   "cell_type": "code",
   "execution_count": null,
   "metadata": {},
   "outputs": [],
   "source": [
    "plt.pcolormesh(ds.lon_b[1:,1:], ds.lat_b[1:,1:], ds.TEMP[0,:,:])"
   ]
  },
  {
   "cell_type": "code",
   "execution_count": null,
   "metadata": {},
   "outputs": [],
   "source": [
    "np.any(ds.lat_b>90.)"
   ]
  },
  {
   "cell_type": "markdown",
   "metadata": {},
   "source": [
    "### creating regridder object"
   ]
  },
  {
   "cell_type": "code",
   "execution_count": null,
   "metadata": {},
   "outputs": [],
   "source": [
    "%%time\n",
    "# 40 sec\n",
    "regridder_rect = xe.Regridder(ds, ds_rect, 'conservative', reuse_weights=True)#, periodic=True)"
   ]
  },
  {
   "cell_type": "markdown",
   "metadata": {},
   "source": [
    "### regridding"
   ]
  },
  {
   "cell_type": "code",
   "execution_count": null,
   "metadata": {},
   "outputs": [],
   "source": [
    "da_rect = regridder_rect(ds).astype('int64').rename({'lat': 't_lat', 'lon': 't_lon'})"
   ]
  },
  {
   "cell_type": "markdown",
   "metadata": {},
   "source": [
    "## Testing whether OHC is the same"
   ]
  },
  {
   "cell_type": "code",
   "execution_count": null,
   "metadata": {},
   "outputs": [],
   "source": []
  }
 ],
 "metadata": {
  "kernelspec": {
   "display_name": "Python 3",
   "language": "python",
   "name": "python3"
  },
  "language_info": {
   "codemirror_mode": {
    "name": "ipython",
    "version": 3
   },
   "file_extension": ".py",
   "mimetype": "text/x-python",
   "name": "python",
   "nbconvert_exporter": "python",
   "pygments_lexer": "ipython3",
   "version": "3.6.7"
  }
 },
 "nbformat": 4,
 "nbformat_minor": 4
}
