{
 "cells": [
  {
   "cell_type": "markdown",
   "metadata": {},
   "source": [
    "# OSNAP mooring array"
   ]
  },
  {
   "cell_type": "code",
   "execution_count": null,
   "metadata": {},
   "outputs": [],
   "source": [
    "import sys\n",
    "sys.path.append(\"..\")\n",
    "import numpy as np\n",
    "import xarray as xr\n",
    "import cmocean\n",
    "import cartopy\n",
    "import cartopy.crs as ccrs\n",
    "import matplotlib as mpl\n",
    "import matplotlib.pyplot as plt"
   ]
  },
  {
   "cell_type": "code",
   "execution_count": null,
   "metadata": {},
   "outputs": [],
   "source": [
    "%matplotlib inline\n",
    "%config InlineBackend.print_figure_kwargs={'bbox_inches':None}\n",
    "%load_ext autoreload\n",
    "%autoreload 2\n",
    "%aimport - numpy - matplotlib.pyplot"
   ]
  },
  {
   "cell_type": "code",
   "execution_count": null,
   "metadata": {},
   "outputs": [],
   "source": [
    "from paths import file_ex_ocn_ctrl, path_results\n",
    "from xr_DataArrays import xr_DZ"
   ]
  },
  {
   "cell_type": "code",
   "execution_count": null,
   "metadata": {},
   "outputs": [],
   "source": [
    "ds = xr.open_dataset(file_ex_ocn_ctrl, decode_times=False)"
   ]
  },
  {
   "cell_type": "code",
   "execution_count": null,
   "metadata": {},
   "outputs": [],
   "source": [
    "NLAT = ds.TLAT.copy()\n",
    "X, Y = np.meshgrid(np.arange(3600), np.arange(2400))\n",
    "NLAT.values = Y"
   ]
  },
  {
   "cell_type": "code",
   "execution_count": null,
   "metadata": {},
   "outputs": [],
   "source": [
    "DZT = xr_DZ('ocn')"
   ]
  },
  {
   "cell_type": "code",
   "execution_count": null,
   "metadata": {},
   "outputs": [],
   "source": [
    "fig = plt.figure(figsize=(12,4))\n",
    "ax = plt.axes((.05,.15,.9,.83),projection=ccrs.PlateCarree())\n",
    "ax.set_extent([-65, -5, 50, 62], crs=ccrs.PlateCarree())\n",
    "\n",
    "cax, kw = mpl.colorbar.make_axes(ax,location='bottom',pad=0.1,shrink=0.8)\n",
    "\n",
    "im1 = ax.contour(ds.TLONG[:,200:1050],\n",
    "                ds.TLAT[:,200:1050],\n",
    "                NLAT[:,200:1050].where(ds.REGION_MASK[:,200:1050]>0),\n",
    "                np.linspace(1700,1960,11),\n",
    "                linewidths=1,\n",
    "                colors='r',\n",
    "                vmin=1700, vmax=1900,\n",
    "                transform=ccrs.PlateCarree() )\n",
    "\n",
    "im2 = ax.pcolormesh(ds.TLONG,\n",
    "                    ds.TLAT,\n",
    "                    DZT.sum(dim='z_t').where(ds.REGION_MASK>0),\n",
    "                    cmap=cmocean.cm.deep,\n",
    "                    vmin=0, vmax=4500,\n",
    "                    transform=ccrs.PlateCarree() )\n",
    "\n",
    "ax.coastlines(resolution='50m')\n",
    "ax.gridlines(draw_labels=True)\n",
    "\n",
    "cbar = fig.colorbar(im2, cax=cax, extend='max', **kw)\n",
    "cbar.ax.tick_params(labelsize=14)\n",
    "label = cbar.set_label('depth [m]', size=16)\n",
    "\n",
    "plt.savefig(f'{path_results}/OSNAP/OSNAP_domain')"
   ]
  },
  {
   "cell_type": "code",
   "execution_count": null,
   "metadata": {},
   "outputs": [],
   "source": []
  }
 ],
 "metadata": {
  "kernelspec": {
   "display_name": "Python 3",
   "language": "python",
   "name": "python3"
  },
  "language_info": {
   "codemirror_mode": {
    "name": "ipython",
    "version": 3
   },
   "file_extension": ".py",
   "mimetype": "text/x-python",
   "name": "python",
   "nbconvert_exporter": "python",
   "pygments_lexer": "ipython3",
   "version": "3.6.7"
  }
 },
 "nbformat": 4,
 "nbformat_minor": 4
}
