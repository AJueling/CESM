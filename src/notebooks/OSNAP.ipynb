{
 "cells": [
  {
   "cell_type": "markdown",
   "metadata": {},
   "source": [
    "# OSNAP mooring array"
   ]
  },
  {
   "cell_type": "code",
   "execution_count": null,
   "metadata": {},
   "outputs": [],
   "source": [
    "import sys\n",
    "sys.path.append(\"..\")\n",
    "import numpy as np\n",
    "import xarray as xr\n",
    "import cmocean\n",
    "import cartopy\n",
    "import cartopy.crs as ccrs\n",
    "import matplotlib as mpl\n",
    "import matplotlib.pyplot as plt"
   ]
  },
  {
   "cell_type": "code",
   "execution_count": null,
   "metadata": {},
   "outputs": [],
   "source": [
    "%matplotlib inline\n",
    "%config InlineBackend.print_figure_kwargs={'bbox_inches':None}\n",
    "%load_ext autoreload\n",
    "%autoreload 2\n",
    "%aimport - numpy - matplotlib.pyplot"
   ]
  },
  {
   "cell_type": "code",
   "execution_count": null,
   "metadata": {},
   "outputs": [],
   "source": [
    "from tqdm import tqdm_notebook\n",
    "from paths import file_ex_ocn_ctrl, path_results\n",
    "from regions import OSNAP\n",
    "from xr_DataArrays import xr_DZ"
   ]
  },
  {
   "cell_type": "code",
   "execution_count": null,
   "metadata": {},
   "outputs": [],
   "source": [
    "ds = xr.open_dataset(file_ex_ocn_ctrl, decode_times=False)"
   ]
  },
  {
   "cell_type": "markdown",
   "metadata": {},
   "source": [
    "## mapping the domain"
   ]
  },
  {
   "cell_type": "code",
   "execution_count": null,
   "metadata": {},
   "outputs": [],
   "source": [
    "NLAT = ds.TLAT.copy()\n",
    "X, Y = np.meshgrid(np.arange(3600), np.arange(2400))\n",
    "NLAT.values = Y"
   ]
  },
  {
   "cell_type": "code",
   "execution_count": null,
   "metadata": {},
   "outputs": [],
   "source": [
    "DZT = xr_DZ('ocn')"
   ]
  },
  {
   "cell_type": "code",
   "execution_count": null,
   "metadata": {},
   "outputs": [],
   "source": [
    "fig = plt.figure(figsize=(12,4))\n",
    "ax = plt.axes((.05,.15,.9,.83),projection=ccrs.PlateCarree())\n",
    "ax.set_extent([-65, -5, 50, 65], crs=ccrs.PlateCarree())\n",
    "\n",
    "cax, kw = mpl.colorbar.make_axes(ax,location='bottom',pad=0.1,shrink=0.8)\n",
    "\n",
    "ax.contour(ds.TLONG[:,200:1050], ds.TLAT[:,200:1050], NLAT[:,200:1050].where(ds.REGION_MASK[:,200:1050]>0),\n",
    "           np.linspace(1700,1960,11), linewidths=1, colors='r', vmin=1700, vmax=1900,\n",
    "           transform=ccrs.PlateCarree() )\n",
    "\n",
    "im = ax.pcolormesh(ds.TLONG, ds.TLAT, DZT.sum(dim='z_t').where(ds.REGION_MASK>0),\n",
    "                   cmap=cmocean.cm.deep, vmin=0, vmax=4500,\n",
    "                   transform=ccrs.PlateCarree() )\n",
    "\n",
    "for mooring in OSNAP:\n",
    "    ax.scatter(OSNAP[mooring][0], OSNAP[mooring][1],\n",
    "               color='r', transform=ccrs.PlateCarree())\n",
    "\n",
    "ax.coastlines(resolution='50m')\n",
    "ax.gridlines(draw_labels=True)\n",
    "\n",
    "cbar = fig.colorbar(im, cax=cax, extend='max', **kw)\n",
    "cbar.ax.tick_params(labelsize=14)\n",
    "label = cbar.set_label('depth [m]', size=16)\n",
    "\n",
    "plt.savefig(f'{path_results}/OSNAP/OSNAP_domain')"
   ]
  },
  {
   "cell_type": "markdown",
   "metadata": {},
   "source": [
    "## selecting data from files"
   ]
  },
  {
   "cell_type": "code",
   "execution_count": null,
   "metadata": {},
   "outputs": [],
   "source": [
    "OSNAP"
   ]
  },
  {
   "cell_type": "code",
   "execution_count": null,
   "metadata": {},
   "outputs": [],
   "source": [
    "# def find_nlon_nlat(lon, lat):\n",
    "#     A = np.where((ds.TLAT.values>lat-.05) & (ds.TLAT.values<lat+.05) & (ds.TLONG.values>lon-.05) & (ds.TLONG.values<lon+.05))\n",
    "#     print(A)\n",
    "#     nlon, nlat = A[0][0], A[1][0]\n",
    "#     return nlon, nlat\n"
   ]
  },
  {
   "cell_type": "code",
   "execution_count": null,
   "metadata": {},
   "outputs": [],
   "source": [
    "from grid import find_indices_near_coordinate"
   ]
  },
  {
   "cell_type": "code",
   "execution_count": null,
   "metadata": {},
   "outputs": [],
   "source": [
    "for key in tqdm_notebook(OSNAP):\n",
    "    print(find_indices_near_coordinate(ds, lat=OSNAP[key][1], lon=OSNAP[key][0]+360.))"
   ]
  },
  {
   "cell_type": "code",
   "execution_count": null,
   "metadata": {},
   "outputs": [],
   "source": []
  },
  {
   "cell_type": "code",
   "execution_count": null,
   "metadata": {},
   "outputs": [],
   "source": []
  },
  {
   "cell_type": "code",
   "execution_count": null,
   "metadata": {},
   "outputs": [],
   "source": []
  },
  {
   "cell_type": "code",
   "execution_count": null,
   "metadata": {},
   "outputs": [],
   "source": []
  },
  {
   "cell_type": "code",
   "execution_count": null,
   "metadata": {},
   "outputs": [],
   "source": [
    "from paths import CESM_filename"
   ]
  },
  {
   "cell_type": "code",
   "execution_count": null,
   "metadata": {},
   "outputs": [],
   "source": [
    "CESM_filename(domain='ocn', run='ctrl', m=1, y=1)"
   ]
  },
  {
   "cell_type": "code",
   "execution_count": null,
   "metadata": {},
   "outputs": [],
   "source": [
    "ds = xr.open_dataset('/projects/0/prace_imau/prace_2013081679/cesm1_0_4/spinup_pd_maxcores_f05_t12/OUTPUT/ocn/hist/monthly/spinup_pd_maxcores_f05_t12.pop.h.0001-01.nc', decode_times=False)"
   ]
  },
  {
   "cell_type": "code",
   "execution_count": null,
   "metadata": {},
   "outputs": [],
   "source": [
    "ds.ANGLE.plot()"
   ]
  },
  {
   "cell_type": "code",
   "execution_count": null,
   "metadata": {},
   "outputs": [],
   "source": [
    "plt.figure(figsize=(20,20))\n",
    "ds.TLAT.where((ds.TLAT.values>58.95) & (ds.TLAT.values<59.05) & (ds.TLONG.values>360-33.05) & (ds.TLONG.values<360-32.95)).plot()"
   ]
  },
  {
   "cell_type": "code",
   "execution_count": null,
   "metadata": {},
   "outputs": [],
   "source": []
  }
 ],
 "metadata": {
  "kernelspec": {
   "display_name": "Python 3",
   "language": "python",
   "name": "python3"
  },
  "language_info": {
   "codemirror_mode": {
    "name": "ipython",
    "version": 3
   },
   "file_extension": ".py",
   "mimetype": "text/x-python",
   "name": "python",
   "nbconvert_exporter": "python",
   "pygments_lexer": "ipython3",
   "version": "3.6.7"
  }
 },
 "nbformat": 4,
 "nbformat_minor": 4
}
