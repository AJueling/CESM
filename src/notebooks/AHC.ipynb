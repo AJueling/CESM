{
 "cells": [
  {
   "cell_type": "markdown",
   "metadata": {},
   "source": [
    "# Atmospheric Heat Content (AHC)\n",
    "$$ \\mathrm{AHC} = \\frac{1}{g} \\int \\int \\int_{0}^{1000hPa} T(p, x, y) dp dx dy$$"
   ]
  },
  {
   "cell_type": "code",
   "execution_count": null,
   "metadata": {},
   "outputs": [],
   "source": [
    "import os\n",
    "import sys\n",
    "sys.path.append(\"..\")\n",
    "import numpy as np\n",
    "import xarray as xr\n",
    "import seaborn as sns\n",
    "import cartopy\n",
    "import cartopy.crs as ccrs\n",
    "import datetime\n",
    "import matplotlib as mpl\n",
    "import matplotlib.pyplot as plt\n",
    "import statsmodels.api as sm\n"
   ]
  },
  {
   "cell_type": "code",
   "execution_count": null,
   "metadata": {},
   "outputs": [],
   "source": [
    "%matplotlib inline\n",
    "%config InlineBackend.print_figure_kwargs={'bbox_inches':None}\n",
    "%load_ext autoreload\n",
    "%autoreload 2"
   ]
  },
  {
   "cell_type": "code",
   "execution_count": null,
   "metadata": {},
   "outputs": [],
   "source": [
    "from maps import map_robinson, map_eq_earth\n",
    "from GMST import GMST_timeseries, GMST_regression, atm_heat_content, GMST_GISTEMP\n",
    "from paths import path_results, path_samoc, path_data\n",
    "from plotting import shifted_color_map, discrete_cmap\n",
    "from constants import abs_zero, cp_air\n",
    "from timeseries import IterateOutputCESM\n",
    "from xr_integrate import xr_surf_mean, xr_zonal_mean\n",
    "from xr_DataArrays import xr_AREA"
   ]
  },
  {
   "cell_type": "code",
   "execution_count": null,
   "metadata": {},
   "outputs": [],
   "source": [
    "ds = xr.open_dataset(file_ex_atm_ctrl)\n",
    "dp = (ds.ilev-ds.ilev.shift(ilev=1)).dropna(dim='ilev')\n",
    "dp = dp.drop(['ilev'])\n",
    "dp = dp.rename({'ilev':'lev'})\n",
    "dp = dp.assign_coords(lev=ds.lev)"
   ]
  },
  {
   "cell_type": "code",
   "execution_count": null,
   "metadata": {},
   "outputs": [],
   "source": [
    "%%time\n",
    "# 100 sec\n",
    "for run in ['ctrl', 'rcp']:\n",
    "    print(run)\n",
    "    for i, (y,m,s) in enumerate(IterateOutputCESM(domain='atm', run=run, tavg='yrly', name='T_T850_U_V')):\n",
    "        ds = xr.open_dataset(s, decode_times=False)\n",
    "        da = atm_heat_content(ds, dp, AREA)    \n",
    "        if i==0:\n",
    "            da_new = da\n",
    "        else: \n",
    "            da_new = xr.concat([da_new, da], dim='time')\n",
    "    da_new.to_netcdf(f'{path_results}/GMST/AHC_yrly_{run}.nc')"
   ]
  },
  {
   "cell_type": "code",
   "execution_count": null,
   "metadata": {},
   "outputs": [],
   "source": [
    "AHC_ctrl  = xr.open_dataarray(f'{path_results}/GMST/AHC_yrly_ctrl.nc', decode_times=False)\n",
    "AHC_rcp   = xr.open_dataarray(f'{path_results}/GMST/AHC_yrly_rcp.nc' , decode_times=False)\n",
    "dAHC_ctrl = (AHC_ctrl - AHC_ctrl.shift(time=1)).dropna(dim='time')\n",
    "dAHC_rcp  = (AHC_rcp  - AHC_rcp .shift(time=1)).dropna(dim='time')"
   ]
  },
  {
   "cell_type": "code",
   "execution_count": null,
   "metadata": {},
   "outputs": [],
   "source": [
    "AHC_ctrl[101].time/365"
   ]
  },
  {
   "cell_type": "code",
   "execution_count": null,
   "metadata": {},
   "outputs": [],
   "source": [
    "AHC_0 = AHC_ctrl[101]\n",
    "\n",
    "f = plt.figure(figsize=(8,5))\n",
    "plt.tick_params(labelsize=14)\n",
    "\n",
    "plt.axhline(0, c='k', lw=.5)\n",
    "plt.axvline(200, c='g', lw=.5)\n",
    "plt.plot(AHC_ctrl.time/365    , (AHC_ctrl-AHC_0)/1e21)\n",
    "plt.plot(AHC_rcp .time/365+200, (AHC_rcp -AHC_0)/1e21)\n",
    "plt.ylabel('AHC anomaly [ZJ]', fontsize=16)\n",
    "plt.xlabel('time [years]', fontsize=16)\n",
    "plt.tight_layout()\n",
    "\n",
    "f = plt.figure(figsize=(8,5))\n",
    "plt.tick_params(labelsize=14)\n",
    "\n",
    "plt.axhline(0, c='k', lw=.5)\n",
    "plt.axvline(200, c='g', lw=.5)\n",
    "plt.plot(dAHC_ctrl.time/365    , dAHC_ctrl/1e21)\n",
    "plt.plot(dAHC_rcp .time/365+300, dAHC_rcp /1e21)\n",
    "plt.ylabel('$\\Delta$AHC [ZJ/yr]', fontsize=16)\n",
    "plt.xlabel('time [years]', fontsize=16)\n",
    "plt.tight_layout()\n",
    "plt.savefig(f'{path_results}/GMST/dAHC')"
   ]
  },
  {
   "cell_type": "code",
   "execution_count": null,
   "metadata": {},
   "outputs": [],
   "source": [
    "dGMST_ctrl = (gmst_ctrl.GMST - gmst_ctrl.GMST.shift(time=1)).dropna(dim='time')\n",
    "dGMST_rcp  = (gmst_rcp .GMST - gmst_rcp .GMST.shift(time=1)).dropna(dim='time')"
   ]
  },
  {
   "cell_type": "code",
   "execution_count": null,
   "metadata": {},
   "outputs": [],
   "source": [
    "plt.axhline(0, c='k', lw=.5)\n",
    "plt.axvline(0, c='k', lw=.5)\n",
    "plt.scatter(dGMST_ctrl-dGMST_ctrl.mean(), dAHC_ctrl-dAHC_ctrl.mean())\n",
    "plt.scatter(dGMST_rcp -dGMST_rcp .mean(), dAHC_rcp -dAHC_rcp .mean())"
   ]
  },
  {
   "cell_type": "markdown",
   "metadata": {},
   "source": [
    "as expected, positive correlation between $\\Delta$AHC and $\\Delta$GMST"
   ]
  },
  {
   "cell_type": "code",
   "execution_count": null,
   "metadata": {},
   "outputs": [],
   "source": []
  }
 ],
 "metadata": {
  "kernelspec": {
   "display_name": "Python 3",
   "language": "python",
   "name": "python3"
  },
  "language_info": {
   "codemirror_mode": {
    "name": "ipython",
    "version": 3
   },
   "file_extension": ".py",
   "mimetype": "text/x-python",
   "name": "python",
   "nbconvert_exporter": "python",
   "pygments_lexer": "ipython3",
   "version": "3.6.6"
  }
 },
 "nbformat": 4,
 "nbformat_minor": 2
}
