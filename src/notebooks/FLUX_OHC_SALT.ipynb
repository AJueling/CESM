{
 "cells": [
  {
   "cell_type": "markdown",
   "metadata": {},
   "source": [
    "# Heat and salinity fluxes between basins"
   ]
  },
  {
   "cell_type": "code",
   "execution_count": null,
   "metadata": {},
   "outputs": [],
   "source": [
    "import os\n",
    "import sys\n",
    "from tqdm import tqdm\n",
    "import numpy as np\n",
    "import xarray as xr\n",
    "import cmocean\n",
    "import cartopy\n",
    "import cartopy.crs as ccrs\n",
    "import matplotlib\n",
    "import matplotlib.pyplot as plt"
   ]
  },
  {
   "cell_type": "code",
   "execution_count": null,
   "metadata": {},
   "outputs": [],
   "source": [
    "%matplotlib inline\n",
    "%config InlineBackend.print_figure_kwargs={'bbox_inches':None}\n",
    "matplotlib.rc_file('../rc_file')\n",
    "%load_ext autoreload\n",
    "%autoreload 2\n",
    "%aimport - numpy - scipy - matplotlib.pyplot"
   ]
  },
  {
   "cell_type": "code",
   "execution_count": null,
   "metadata": {},
   "outputs": [],
   "source": [
    "sys.path.append(\"..\")\n",
    "from paths import path_results, path_samoc, path_prace, file_ex_ocn_ctrl\n",
    "from regions import boolean_mask, Atlantic_mask, regions_dict\n",
    "from constants import rho_sw, cp_sw\n",
    "from timeseries import IterateOutputCESM\n",
    "from xr_DataArrays import xr_AREA, xr_DZ, dll_dims_names\n",
    "from xr_regression import xr_quadtrend"
   ]
  },
  {
   "cell_type": "code",
   "execution_count": null,
   "metadata": {},
   "outputs": [],
   "source": [
    "ds = xr.open_dataset(file_ex_ocn_ctrl, decode_times=False)"
   ]
  },
  {
   "cell_type": "code",
   "execution_count": null,
   "metadata": {},
   "outputs": [],
   "source": [
    "ds.VNS"
   ]
  },
  {
   "cell_type": "code",
   "execution_count": null,
   "metadata": {},
   "outputs": [],
   "source": [
    "def advection_cells(from_basin_mask, to_basin_mask):\n",
    "    \"\"\" arrays with which east-/northward advection need to be multiplied \n",
    "    adv_E:   1   if to_basin to the East of from_basin\n",
    "            -1   if to_basin to the West of from_basin\n",
    "           nan   elsewhere\n",
    "    adv_N:   1   if to_basin to the North of from_basin\n",
    "            -1   if to_basin to the South of from_basin\n",
    "           nan   elsewhere\n",
    "           \n",
    "    \"\"\"\n",
    "    assert np.shape(from_basin_mask)==np.shape(to_basin_mask)\n",
    "    assert from_basin_mask.dims==to_basin_mask.dims\n",
    "    (lat, lon) = from_basin_mask.dims\n",
    "    m0, m1 = from_basin_mask, to_basin_mask\n",
    "    adv_E = (m0*m1.roll(shifts={lon:-1}, roll_coords=lon) - m0*m1.roll(shifts={lon:1}, roll_coords=lon)).fillna(0)\n",
    "    adv_N = (m0*m1.shift(shifts={lat:1}) - m0*m1.shift(shifts={lat:-1})).fillna(0)\n",
    "    if np.all(np.isnan(adv_E)) and np.all(np.isnan(adv_N)):\n",
    "        print('warning, no neighbouring cells!')\n",
    "    return adv_E, adv_N\n",
    "\n",
    "def transport_into(domain, basin, VN_adv, UE_adv):\n",
    "    \"\"\" computes fluxes \"\"\"\n",
    "    assert domain in ['ocn', 'ocn_low']\n",
    "    assert VN_adv.units==UE_adv.units\n",
    "    if VN_adv.units=='degC/s':\n",
    "        conversion = rho_sw*cp_sw\n",
    "        unit = 'W'\n",
    "    elif VN_adv.units=='gram/kilogram/s':\n",
    "        conversion = rho_sw*1e-3\n",
    "        unit = 'kg/s'\n",
    "    else:\n",
    "        raise ValueError('units need to be in \"degC/s\" or \"gram/kilogram/s\"')\n",
    "    \n",
    "    if basin=='Atlantic':\n",
    "        basin_nr = 6\n",
    "        neighbours = [1,8,9]\n",
    "    elif basin=='Pacific':\n",
    "        basin_nr = 2\n",
    "        neighbours = [1,3,10]\n",
    "    elif basin=='Southern':\n",
    "        basin_nr = 1\n",
    "        neighbours = [2,3,6]\n",
    "    else:\n",
    "        raise ValueError('basin needs to be \"Atlantic\", \"Pacific\", or \"Southern\"')\n",
    "        \n",
    "    dims = [dim for dim in dll_dims_names(domain=domain)]\n",
    "    DZ = xr_DZ(domain=domain)\n",
    "    AREA = xr_AREA(domain=domain)\n",
    "    basin_mask = boolean_mask(domain=domain, mask_nr=basin_nr)\n",
    "    \n",
    "    for i, n in tqdm(enumerate(neighbours)):\n",
    "#         if i>0: continue\n",
    "        neighbour_mask = boolean_mask(domain=domain, mask_nr=n)\n",
    "        adv_E, adv_N = advection_cells(from_basin_mask=neighbour_mask, to_basin_mask=basin_mask)\n",
    "        transport = ((adv_E*UE_adv + adv_N*VN_adv)*AREA*DZ).sum(dim=dims)\n",
    "        transport.name = f'{regions_dict[n]}'\n",
    "        transport.attrs['units'] = unit\n",
    "        if i==0: temp=transport\n",
    "        else: temp = xr.merge([temp, transport])\n",
    "    \n",
    "    return temp"
   ]
  },
  {
   "cell_type": "code",
   "execution_count": null,
   "metadata": {},
   "outputs": [],
   "source": [
    "dat = transport_into(domain='ocn', basin='Atlantic', VN_adv=ds.VNS, UE_adv=ds.UES)"
   ]
  },
  {
   "cell_type": "code",
   "execution_count": null,
   "metadata": {},
   "outputs": [],
   "source": [
    "dat"
   ]
  },
  {
   "cell_type": "code",
   "execution_count": null,
   "metadata": {},
   "outputs": [],
   "source": [
    "m0 = Atlantic_mask(domain='ocn')  # Atlantic\n",
    "m1 = boolean_mask(domain='ocn', mask_nr=10)"
   ]
  },
  {
   "cell_type": "code",
   "execution_count": null,
   "metadata": {},
   "outputs": [],
   "source": [
    "(m0*2+m1).plot()\n",
    "plt.ylim((2000,2400))\n",
    "plt.xlim((500,1500))"
   ]
  },
  {
   "cell_type": "code",
   "execution_count": null,
   "metadata": {},
   "outputs": [],
   "source": [
    "m0.TLAT.where(adv_N).plot()\n",
    "m0.TLONG.where(adv_E).plot()\n",
    "plt.ylim((2100,2300))\n",
    "plt.xlim((500,1200))"
   ]
  },
  {
   "cell_type": "code",
   "execution_count": null,
   "metadata": {},
   "outputs": [],
   "source": [
    "f, axs = plt.subplots(1, 2, sharey=True)\n",
    "for i, ax in enumerate(axs):\n",
    "    [adv_N, adv_E][i].plot(ax=ax)\n",
    "    ax.set_ylim((2215,2225))\n",
    "    ax.set_xlim((925,1025))"
   ]
  },
  {
   "cell_type": "code",
   "execution_count": null,
   "metadata": {},
   "outputs": [],
   "source": [
    "ds"
   ]
  },
  {
   "cell_type": "code",
   "execution_count": null,
   "metadata": {},
   "outputs": [],
   "source": []
  }
 ],
 "metadata": {
  "kernelspec": {
   "display_name": "Python 3",
   "language": "python",
   "name": "python3"
  },
  "language_info": {
   "codemirror_mode": {
    "name": "ipython",
    "version": 3
   },
   "file_extension": ".py",
   "mimetype": "text/x-python",
   "name": "python",
   "nbconvert_exporter": "python",
   "pygments_lexer": "ipython3",
   "version": "3.6.7"
  }
 },
 "nbformat": 4,
 "nbformat_minor": 4
}
