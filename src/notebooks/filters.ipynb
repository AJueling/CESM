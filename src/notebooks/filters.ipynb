{
 "cells": [
  {
   "cell_type": "markdown",
   "metadata": {},
   "source": [
    "# Comparing filters and smoothers"
   ]
  },
  {
   "cell_type": "code",
   "execution_count": null,
   "metadata": {},
   "outputs": [],
   "source": [
    "# import pickle\n",
    "import os\n",
    "import sys\n",
    "sys.path.append(\"..\")\n",
    "import scipy as sp\n",
    "import numpy as np\n",
    "import xarray as xr\n",
    "import statsmodels.api as sm\n",
    "import scipy.signal as signal\n",
    "import matplotlib.pyplot as plt"
   ]
  },
  {
   "cell_type": "code",
   "execution_count": null,
   "metadata": {},
   "outputs": [],
   "source": [
    "%matplotlib inline\n",
    "%config InlineBackend.print_figure_kwargs={'bbox_inches':None}\n",
    "%load_ext autoreload\n",
    "%autoreload 2\n",
    "%aimport - numpy - scipy - matplotlib.pyplot"
   ]
  },
  {
   "cell_type": "code",
   "execution_count": null,
   "metadata": {},
   "outputs": [],
   "source": [
    "from paths import path_samoc, path_results\n",
    "from filters import lowpass, chebychev, notch, highpass"
   ]
  },
  {
   "cell_type": "markdown",
   "metadata": {},
   "source": [
    "## filter response"
   ]
  },
  {
   "cell_type": "code",
   "execution_count": null,
   "metadata": {},
   "outputs": [],
   "source": [
    "plt.figure(figsize=(8,5))\n",
    "\n",
    "b, a = sp.signal.cheby1(4, 1, 100, 'low', analog=True)\n",
    "w, h = sp.signal.freqs(b, a)\n",
    "plt.plot(w, 20 * np.log10(abs(h)), label='chebychev')\n",
    "plt.xscale('log')\n",
    "plt.title(' frequency response (rp=5)')\n",
    "plt.xlabel('Frequency [radians / second]')\n",
    "plt.ylabel('Amplitude [dB]')\n",
    "plt.margins(0, 0.1)\n",
    "plt.grid(which='both', axis='both')\n",
    "\n",
    "b, a = sp.signal.butter(4, 100, 'low', analog=True)\n",
    "w, h = sp.signal.freqs(b, a)\n",
    "plt.plot(w, 20 * np.log10(abs(h)), label='butterworth')\n",
    "plt.xscale('log')\n",
    "plt.title('Butterworth/Chebychev filter frequency response')\n",
    "plt.xlabel('Frequency [radians / second]')\n",
    "plt.ylabel('Amplitude [dB]')\n",
    "plt.margins(0, 0.1)\n",
    "plt.grid(which='both', axis='both')\n",
    "\n",
    "b, a = sp.signal.butter(4, 100, 'high', analog=True)\n",
    "w, h = sp.signal.freqs(b, a)\n",
    "plt.plot(w, 20 * np.log10(abs(h)), label='butterworth')\n",
    "plt.xscale('log')\n",
    "plt.title('Butterworth/Chebychev filter frequency response')\n",
    "plt.xlabel('Frequency [radians / second]')\n",
    "plt.ylabel('Amplitude [dB]')\n",
    "plt.margins(0, 0.1)\n",
    "plt.grid(which='both', axis='both')\n",
    "\n",
    "plt.axhline(0, c='k', lw=.5) # rp\n",
    "plt.axvline(100, color='r', lw=.5, label='cutoff frequency')\n",
    "\n",
    "plt.xlim(20,500)\n",
    "plt.ylim(-50,10)\n",
    "plt.legend()\n",
    "plt.tight_layout()"
   ]
  },
  {
   "cell_type": "markdown",
   "metadata": {},
   "source": [
    "### notch filter"
   ]
  },
  {
   "cell_type": "code",
   "execution_count": null,
   "metadata": {},
   "outputs": [],
   "source": [
    "test = [np.sin(i*np.pi/12) for i in range(240)]\n",
    "noise = .5*np.random.rand((len(test)))\n",
    "trend = np.arange(0,1,1/len(test))\n",
    "test2 = test+noise\n",
    "test3 = test+noise+trend"
   ]
  },
  {
   "cell_type": "code",
   "execution_count": null,
   "metadata": {},
   "outputs": [],
   "source": [
    "plt.figure(figsize=(12,5))\n",
    "plt.axhline(0, c='k', lw=.5)\n",
    "plt.plot(test, label='sin(t)')\n",
    "plt.plot(trend, label='trend')\n",
    "plt.plot(noise, label='noise')\n",
    "plt.plot(noise+trend, label='noise+trend')\n",
    "plt.plot(test2, label='sin(t)+noise')\n",
    "plt.plot(test3, label='sin(t)+noise+trend')\n",
    "# plt.plot(notch(test,12))\n",
    "plt.plot(notch(test2,12), label='notch(sin+noise)')\n",
    "plt.plot(notch(test3,12), label='notch(sin+noise+trend)')\n",
    "plt.legend()"
   ]
  },
  {
   "cell_type": "markdown",
   "metadata": {},
   "source": [
    "deseasonalizing example: see SST_PDO.ipynb"
   ]
  },
  {
   "cell_type": "markdown",
   "metadata": {},
   "source": [
    "## LOWESS smoothing\n",
    "(https://www.statsmodels.org/dev/generated/statsmodels.nonparametric.smoothers_lowess.lowess.html)\n",
    "statsmodels notes:\n",
    "Suppose the input data has N points. The algorithm works by estimating the smooth y_i by taking the frac*N closest points to (x_i,y_i) based on their x values and estimating y_i using a weighted linear regression. The weight for (x_j,y_j) is tricube function applied to abs(x_i-x_j).\n",
    "\n",
    "Stolpe et al. (2017): \"To suppress high-frequency variability, we smooth\n",
    "our results by applying local regressions using locally weighted scatterplot smoothing (LOESS) with a second- order polynomial (Cleveland 1979). Each regression is calculated using 23 years of data.\""
   ]
  },
  {
   "cell_type": "code",
   "execution_count": null,
   "metadata": {},
   "outputs": [],
   "source": [
    "lowess = sm.nonparametric.lowess"
   ]
  },
  {
   "cell_type": "code",
   "execution_count": null,
   "metadata": {},
   "outputs": [],
   "source": [
    "x = np.random.uniform(low = -2*np.pi, high = 2*np.pi, size=500)\n",
    "y = np.sin(x) + np.random.normal(size=len(x))\n",
    "z = lowess(y, x)\n",
    "w = lowess(y, x, frac=1./10)\n",
    "\n",
    "plt.scatter(x, y)\n",
    "plt.plot(z[:,0], z[:,1], c='r', lw=3)\n",
    "plt.plot(w[:,0], w[:,1], c='orange', lw=3)"
   ]
  },
  {
   "cell_type": "markdown",
   "metadata": {},
   "source": [
    "## comparing LOWESS, Butterworth, and Chebychev"
   ]
  },
  {
   "cell_type": "code",
   "execution_count": null,
   "metadata": {},
   "outputs": [],
   "source": [
    "n = 200\n",
    "t = np.arange(0,200)\n",
    "periods = [8,16,24,32,64,128,256]\n",
    "f, ax = plt.subplots(len(periods),1, sharex=True, figsize=(8,12))\n",
    "for i, p in enumerate(periods):\n",
    "    y = np.sin(2*np.pi*t/p)\n",
    "    ylp = lowpass(y[25:-25], 13)\n",
    "    yhp = highpass(y[25:-25], 100)\n",
    "    ycb = chebychev(y[25:-25], 13)\n",
    "    z = lowess(y[25:-25], t[25:-25], frac=1/6.)  # approx 23\n",
    "    \n",
    "    ax[i].text(-5, .8, f'period={p}')\n",
    "    ax[i].plot(t, y)\n",
    "    ax[i].plot(t[25:-25], ylp, label='lowpass')\n",
    "    ax[i].plot(t[25:-25], yhp, label='highpass')\n",
    "    ax[i].plot(t[25:-25], ycb, label='chebychev')\n",
    "    ax[i].plot(z[:,0], z[:,1], label='LOWESS')\n",
    "    ax[i].fill([25,32,32,25],[-1,-1,1,1], alpha=.2)\n",
    "ax[i].legend()\n",
    "plt.tight_layout()"
   ]
  },
  {
   "cell_type": "markdown",
   "metadata": {},
   "source": [
    "# High pass filter"
   ]
  },
  {
   "cell_type": "code",
   "execution_count": null,
   "metadata": {},
   "outputs": [],
   "source": []
  },
  {
   "cell_type": "markdown",
   "metadata": {},
   "source": [
    "# Lanczos filter"
   ]
  },
  {
   "cell_type": "code",
   "execution_count": null,
   "metadata": {},
   "outputs": [],
   "source": [
    "da = xr.DataArray(data=np.random.rand((100000)), dims='time', coords={'time':np.arange(100000)})\n",
    "Lda = Lanczos(da)\n",
    "lda = lowpass(da, 120)\n",
    "\n",
    "f, ax = plt.subplots(1,2, figsize=(12,4))\n",
    "ax[0].plot(da)\n",
    "ax[0].plot(Lda)\n",
    "ax[0].plot(lda)\n",
    "\n",
    "ATS(da).plot_spectrum(ax=ax[1])\n",
    "ATS(Lda).plot_spectrum(ax=ax[1])\n",
    "ATS(lda).plot_spectrum(ax=ax[1])\n",
    "ax[1].axvline(1/120)"
   ]
  }
 ],
 "metadata": {
  "kernelspec": {
   "display_name": "Python 3",
   "language": "python",
   "name": "python3"
  },
  "language_info": {
   "codemirror_mode": {
    "name": "ipython",
    "version": 3
   },
   "file_extension": ".py",
   "mimetype": "text/x-python",
   "name": "python",
   "nbconvert_exporter": "python",
   "pygments_lexer": "ipython3",
   "version": "3.6.7"
  }
 },
 "nbformat": 4,
 "nbformat_minor": 4
}
