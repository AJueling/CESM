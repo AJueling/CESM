{
 "cells": [
  {
   "cell_type": "markdown",
   "metadata": {},
   "source": [
    "# SST regression maps"
   ]
  },
  {
   "cell_type": "code",
   "execution_count": null,
   "metadata": {},
   "outputs": [],
   "source": [
    "import sys\n",
    "sys.path.append(\"..\")\n",
    "import scipy as sp\n",
    "import numpy as np\n",
    "import xarray as xr\n",
    "import seaborn as sns\n",
    "import cmocean\n",
    "import cartopy\n",
    "import cartopy.crs as ccrs\n",
    "import matplotlib as mpl\n",
    "import matplotlib.pyplot as plt\n",
    "import matplotlib.patches as mpatches"
   ]
  },
  {
   "cell_type": "code",
   "execution_count": null,
   "metadata": {},
   "outputs": [],
   "source": [
    "%matplotlib inline\n",
    "%config InlineBackend.print_figure_kwargs={'bbox_inches':None}\n",
    "%load_ext autoreload\n",
    "%autoreload 2\n",
    "%aimport - numpy - scipy - matplotlib.pyplot"
   ]
  },
  {
   "cell_type": "code",
   "execution_count": null,
   "metadata": {},
   "outputs": [],
   "source": [
    "from OHC import t2da, t2ds\n",
    "from SST import SST_index, EOF_SST_analysis\n",
    "from maps import map_robinson, map_eq_earth, rect_polygon, make_map, regr_map\n",
    "from grid import find_array_idx\n",
    "from paths import path_results, path_samoc, file_ex_ocn_ctrl, file_ex_ocn_rect\n",
    "from plotting import shifted_color_map, discrete_cmap\n",
    "from timeseries import IterateOutputCESM, lowpass, chebychev\n",
    "from xr_DataArrays import xr_AREA\n",
    "from xr_regression import xr_lintrend, xr_linear_trends_2D, xr_linear_trend,\\\n",
    "                          ocn_field_regression, lag_linregress_3D\n",
    "from regression_maps import SST_regr_standard, SST_regr_lpd, SST_regr_lpi"
   ]
  },
  {
   "cell_type": "code",
   "execution_count": null,
   "metadata": {},
   "outputs": [],
   "source": [
    "from xr_DataArrays import depth_lat_lon_names"
   ]
  },
  {
   "cell_type": "code",
   "execution_count": null,
   "metadata": {},
   "outputs": [],
   "source": [
    "from derive_files import MakeDerivedFiles"
   ]
  },
  {
   "cell_type": "code",
   "execution_count": null,
   "metadata": {},
   "outputs": [],
   "source": [
    "lpd = MakeDerivedFiles('lpd')"
   ]
  },
  {
   "cell_type": "code",
   "execution_count": null,
   "metadata": {},
   "outputs": [],
   "source": [
    "from paths import path_samoc"
   ]
  },
  {
   "cell_type": "code",
   "execution_count": null,
   "metadata": {},
   "outputs": [],
   "source": [
    "from xr_regression import autocorrelation_3D"
   ]
  },
  {
   "cell_type": "code",
   "execution_count": null,
   "metadata": {},
   "outputs": [],
   "source": [
    "SST = xr.open_dataarray(f'{path_samoc}/SST/SST_GMST_dt_yrly_had.nc', decode_times=False)"
   ]
  },
  {
   "cell_type": "code",
   "execution_count": null,
   "metadata": {},
   "outputs": [],
   "source": [
    "SST.sel(longitude=-160, latitude=0, method='nearest').plot()"
   ]
  },
  {
   "cell_type": "code",
   "execution_count": null,
   "metadata": {},
   "outputs": [],
   "source": [
    "def autocorrelation_3D(x):\n",
    "    \"\"\" autocorrelation \n",
    "    can deal with NaNs in time dimension, e.g. in HadISST\n",
    "    \"\"\"    \n",
    "    x, y = x[1:], x.shift(time=1)[1:]\n",
    "    y = xr.where(np.isnan(x), np.nan, y)\n",
    "    x = xr.where(np.isnan(y), np.nan, x)\n",
    "\n",
    "    n     = xr.where(np.isnan(x), 0, 1).sum(axis=0)\n",
    "    xmean = x.mean(axis=0, skipna=True)\n",
    "    ymean = y.mean(axis=0, skipna=True)\n",
    "    xstd  = x.std( axis=0, skipna=True)\n",
    "    ystd  = y.std( axis=0, skipna=True)\n",
    "    \n",
    "    x -= xmean\n",
    "    y -= ymean\n",
    "    \n",
    "    cov      = np.divide(np.nansum(np.multiply(x,y), axis=0), n)\n",
    "    cor      = cov/(xstd*ystd)\n",
    "    cor.name = 'autocorrelation'\n",
    "    \n",
    "    return cor"
   ]
  },
  {
   "cell_type": "code",
   "execution_count": null,
   "metadata": {},
   "outputs": [],
   "source": [
    "%%time\n",
    "ds = autocorrelation_3D(SST)\n"
   ]
  },
  {
   "cell_type": "code",
   "execution_count": null,
   "metadata": {},
   "outputs": [],
   "source": [
    "ds.plot(vmin=0)"
   ]
  },
  {
   "cell_type": "code",
   "execution_count": null,
   "metadata": {},
   "outputs": [],
   "source": []
  },
  {
   "cell_type": "code",
   "execution_count": null,
   "metadata": {},
   "outputs": [],
   "source": []
  },
  {
   "cell_type": "code",
   "execution_count": null,
   "metadata": {},
   "outputs": [],
   "source": [
    "np.isnan(x.shift(time=1).values[0])"
   ]
  },
  {
   "cell_type": "code",
   "execution_count": null,
   "metadata": {},
   "outputs": [],
   "source": [
    "xr.where(np.isnan(x.shift(time=1)), 5, x)"
   ]
  },
  {
   "cell_type": "code",
   "execution_count": null,
   "metadata": {},
   "outputs": [],
   "source": [
    "x[1:]"
   ]
  },
  {
   "cell_type": "code",
   "execution_count": null,
   "metadata": {},
   "outputs": [],
   "source": [
    "x.shift(time=1)[1:]"
   ]
  },
  {
   "cell_type": "code",
   "execution_count": null,
   "metadata": {},
   "outputs": [],
   "source": []
  },
  {
   "cell_type": "code",
   "execution_count": null,
   "metadata": {},
   "outputs": [],
   "source": [
    "%%time\n",
    "lpd.make_autocorrelation_map()"
   ]
  },
  {
   "cell_type": "code",
   "execution_count": null,
   "metadata": {},
   "outputs": [],
   "source": [
    "%%time\n",
    "had.make_SST_autocorrelation_map()"
   ]
  },
  {
   "cell_type": "code",
   "execution_count": null,
   "metadata": {},
   "outputs": [],
   "source": [
    "da = xr.open_dataarray(f'{path_samoc}/SST/SST_autocorrelation_had.nc')"
   ]
  },
  {
   "cell_type": "code",
   "execution_count": null,
   "metadata": {},
   "outputs": [],
   "source": [
    "da.plot()"
   ]
  },
  {
   "cell_type": "code",
   "execution_count": null,
   "metadata": {},
   "outputs": [],
   "source": [
    "from timeseries import TimeSeriesSynthesis"
   ]
  },
  {
   "cell_type": "code",
   "execution_count": null,
   "metadata": {},
   "outputs": [],
   "source": [
    "tss = TimeSeriesSynthesis()"
   ]
  },
  {
   "cell_type": "code",
   "execution_count": null,
   "metadata": {},
   "outputs": [],
   "source": [
    "tss.ctrl['GMST'].plot()\n",
    "tss.ctrl['AMO'].plot()\n",
    "tss.ctrl['SOM'].plot()\n"
   ]
  },
  {
   "cell_type": "code",
   "execution_count": null,
   "metadata": {},
   "outputs": [],
   "source": [
    "A['name'] = 'ss'"
   ]
  },
  {
   "cell_type": "code",
   "execution_count": null,
   "metadata": {},
   "outputs": [],
   "source": [
    "A"
   ]
  },
  {
   "cell_type": "code",
   "execution_count": null,
   "metadata": {},
   "outputs": [],
   "source": [
    "SST_yrly_ctrl = xr.open_dataarray(f'{path_samoc}/SST/SST_GMST_dt_yrly_ctrl.nc', decode_times=False)\n",
    "SST_yrly_rcp  = xr.open_dataarray(f'{path_samoc}/SST/SST_GMST_dt_yrly_rcp.nc' , decode_times=False)\n",
    "SST_yrly_lpd  = xr.open_dataarray(f'{path_samoc}/SST/SST_GMST_dt_yrly_lpd.nc' , decode_times=False)\n",
    "SST_yrly_lpi  = xr.open_dataarray(f'{path_samoc}/SST/SST_GMST_dt_yrly_lpi.nc' , decode_times=False)\n",
    "SST_yrly_had  = xr.open_dataarray(f'{path_samoc}/SST/SST_GMST_dt_yrly_had.nc' , decode_times=False)"
   ]
  },
  {
   "cell_type": "code",
   "execution_count": null,
   "metadata": {},
   "outputs": [],
   "source": [
    "SST_yrly_lpd"
   ]
  },
  {
   "cell_type": "code",
   "execution_count": null,
   "metadata": {},
   "outputs": [],
   "source": [
    "def autocorrelation(x):\n",
    "    return xr.DataArray(np.corrcoef(x[1:], x[:-1])[0,1])\n",
    "\n",
    "def autocorrelation_map(field):\n",
    "    \"\"\" autocorrelation along axis 0 \"\"\"\n",
    "    ac_field = xr.apply_ufunc(autocorrelation, field, input_core_dims=[['time']])\n",
    "    \n",
    "    return ac_field\n",
    "\n",
    "def xr_autocorrelation_2D(da, dim_names, with_nans=False):\n",
    "    \"\"\" calculate linear trend of 2D field in time\n",
    "    \n",
    "    input:\n",
    "    da        .. 3D xr DataArray with (dim_names) dimensions\n",
    "    dim_names .. tuple of 2 strings: e.g. lat, lon dimension names\n",
    "    \n",
    "    output:\n",
    "    da_trend  .. slope of linear regression\n",
    "    \"\"\"\n",
    "    (dim1, dim2) = dim_names\n",
    "    # stack lat and lon into a single dimension called allpoints\n",
    "    stacked = da.stack(allpoints=[dim1, dim2])\n",
    "    # apply the function over allpoints to calculate the trend at each point\n",
    "    if with_nans==False:\n",
    "        trend = stacked.groupby('allpoints').apply(autocorrelation)\n",
    "        # unstack back to lat lon coordinates\n",
    "        da_ac = trend.unstack('allpoints')\n",
    "    if with_nans==True:\n",
    "        trend = stacked.groupby('allpoints').apply(xr_linear_trend_with_nans)\n",
    "        # unstack back to lat lon coordinates\n",
    "        da_ac = trend.unstack('allpoints')\n",
    "    da_ac = da_trend.rename({'allpoints_level_0':dim1, 'allpoints_level_1':dim2})\n",
    "    return da_ac"
   ]
  },
  {
   "cell_type": "code",
   "execution_count": null,
   "metadata": {},
   "outputs": [],
   "source": [
    "SST_yrly_had[:,100,150].plot()\n",
    "print(autocorrelation(SST_yrly_had[:,100,150]))"
   ]
  },
  {
   "cell_type": "code",
   "execution_count": null,
   "metadata": {},
   "outputs": [],
   "source": [
    "%%time\n",
    "# latlon       = (depth_lat_lon_names('ocn')[1:])\n",
    "# SST_map_ctrl = xr_autocorrelation_2D(SST_yrly_ctrl, latlon)\n",
    "# SST_map_ctrl.to_netcdf(f'{path_samoc}/SST/SST_autocorrelation_ctrl.nc')\n",
    "# SST_map_rcp  = xr_autocorrelation_2D(SST_yrly_rcp , latlon)\n",
    "# SST_map_rcp .to_netcdf(f'{path_samoc}/SST/SST_autocorrelation_rcp.nc' )\n",
    "\n",
    "# latlon       = (depth_lat_lon_names('ocn_low')[1:])\n",
    "# SST_map_lpd  = xr_autocorrelation_2D(SST_yrly_lpd , latlon)\n",
    "# SST_map_lpd .to_netcdf(f'{path_samoc}/SST/SST_autocorrelation_lpd.nc' )\n",
    "# SST_map_lpi  = xr_autocorrelation_2D(SST_yrly_lpi , latlon)\n",
    "# SST_map_lpi .to_netcdf(f'{path_samoc}/SST/SST_autocorrelation_lpi.nc' )\n",
    "\n",
    "latlon       = (depth_lat_lon_names('ocn_had')[1:])\n",
    "SST_map_had  = xr_autocorrelation_2D(SST_yrly_had , latlon)\n",
    "SST_map_had .to_netcdf(f'{path_samoc}/SST/SST_autocorrelation_had.nc' )"
   ]
  },
  {
   "cell_type": "code",
   "execution_count": null,
   "metadata": {},
   "outputs": [],
   "source": [
    "SST_map_had"
   ]
  },
  {
   "cell_type": "code",
   "execution_count": null,
   "metadata": {},
   "outputs": [],
   "source": [
    "np.all(SST_map_had.values==np.nan)"
   ]
  },
  {
   "cell_type": "code",
   "execution_count": null,
   "metadata": {},
   "outputs": [],
   "source": [
    "SST_map_had[100:130, 100:130].values"
   ]
  },
  {
   "cell_type": "code",
   "execution_count": null,
   "metadata": {},
   "outputs": [],
   "source": [
    "SST_map_had.plot()"
   ]
  },
  {
   "cell_type": "code",
   "execution_count": null,
   "metadata": {},
   "outputs": [],
   "source": []
  },
  {
   "cell_type": "code",
   "execution_count": null,
   "metadata": {},
   "outputs": [],
   "source": []
  },
  {
   "cell_type": "code",
   "execution_count": null,
   "metadata": {},
   "outputs": [],
   "source": []
  },
  {
   "cell_type": "code",
   "execution_count": null,
   "metadata": {},
   "outputs": [],
   "source": []
  },
  {
   "cell_type": "code",
   "execution_count": null,
   "metadata": {},
   "outputs": [],
   "source": [
    "def regr_map_standard(run, index):\n",
    "    assert run in ['ctrl','rcp','lpd', 'lpi']\n",
    "    assert index in ['SOM', 'AMO', 'TPI']\n",
    "    SST_regr_standard(index)\n",
    "    ds = xr.open_dataset(f'{path_results}/SST/{index}_regr_{run}.nc', decode_times=False)\n",
    "    regr_map(ds=ds, index=index, run=run)\n",
    "    return\n",
    "\n",
    "\n",
    "def regr_map_diff_times(run, index):\n",
    "    assert run in ['lpd', 'lpi']\n",
    "    assert index in ['SOM','AMO', 'TPI']\n",
    "    if run=='lpd':\n",
    "        times = ['200_1', '200_2', '412']\n",
    "        SST_regr_lpd(index)\n",
    "    elif run=='lpi':\n",
    "        times = ['800_1', '800_2', '1480']\n",
    "        SST_regr_lpi(index)\n",
    "    for i in range(3):\n",
    "        ds = xr.open_dataset(f'{path_results}/SST/{index}_regr_{run}_{times[i]}.nc', decode_times=False)\n",
    "        regr_map(ds=ds, index=index, run=run, fn=times[i])\n",
    "    return"
   ]
  },
  {
   "cell_type": "code",
   "execution_count": null,
   "metadata": {},
   "outputs": [],
   "source": [
    "for index in ['SOM']:#, 'AMO', 'TPI']:\n",
    "    print(index)\n",
    "    for run in ['ctrl', 'rcp', 'lpd', 'lpi']:\n",
    "        print(run)\n",
    "        regr_map_standard(run, index)\n",
    "        if run in ['lpd', 'lpi']:\n",
    "            regr_map_diff_times(run, index)"
   ]
  },
  {
   "cell_type": "code",
   "execution_count": null,
   "metadata": {},
   "outputs": [],
   "source": [
    "for index in ['SOM']:#, 'AMO', 'TPI']:\n",
    "    print(index)\n",
    "    for run in ['lpi']:#['ctrl', 'rcp', 'lpd', 'lpi']:\n",
    "        print(run)\n",
    "        regr_map_standard(run, index)\n",
    "        if run in ['lpd', 'lpi']:\n",
    "            regr_map_diff_times(run, index)"
   ]
  },
  {
   "cell_type": "code",
   "execution_count": null,
   "metadata": {},
   "outputs": [],
   "source": [
    "for index in ['SOM']:#'AMO', 'TPI']:\n",
    "    print(index)\n",
    "    for run in ['lpd']:#['ctrl', 'rcp', 'lpd', 'lpi']:\n",
    "        print(run)\n",
    "        regr_map_standard(run, index)\n",
    "        if run in ['lpd', 'lpi']:\n",
    "            regr_map_diff_times(run, index)"
   ]
  },
  {
   "cell_type": "code",
   "execution_count": null,
   "metadata": {},
   "outputs": [],
   "source": []
  }
 ],
 "metadata": {
  "kernelspec": {
   "display_name": "Python 3",
   "language": "python",
   "name": "python3"
  },
  "language_info": {
   "codemirror_mode": {
    "name": "ipython",
    "version": 3
   },
   "file_extension": ".py",
   "mimetype": "text/x-python",
   "name": "python",
   "nbconvert_exporter": "python",
   "pygments_lexer": "ipython3",
   "version": "3.6.6"
  }
 },
 "nbformat": 4,
 "nbformat_minor": 2
}
