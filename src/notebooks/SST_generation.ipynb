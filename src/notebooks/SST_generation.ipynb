{
 "cells": [
  {
   "cell_type": "markdown",
   "metadata": {},
   "source": [
    "This notebook visualizes results from `SST_generation.py` and `SST_regression.py`."
   ]
  },
  {
   "cell_type": "code",
   "execution_count": null,
   "metadata": {},
   "outputs": [],
   "source": [
    "import os\n",
    "import sys\n",
    "sys.path.append(\"..\")\n",
    "import numpy as np\n",
    "import xarray as xr\n",
    "import matplotlib\n",
    "import matplotlib.pyplot as plt"
   ]
  },
  {
   "cell_type": "code",
   "execution_count": null,
   "metadata": {},
   "outputs": [],
   "source": [
    "%matplotlib inline\n",
    "%load_ext autoreload\n",
    "%autoreload 2\n",
    "%aimport - numpy - scipy - matplotlib.pyplot\n",
    "matplotlib.rc_file('../rc_file')"
   ]
  },
  {
   "cell_type": "code",
   "execution_count": null,
   "metadata": {},
   "outputs": [],
   "source": [
    "from paths import path_samoc, path_results, file_ex_ocn_ctrl\n",
    "from timeseries import IterateOutputCESM\n",
    "from ab_derivation_SST import DeriveSST as DS\n",
    "from bc_analysis_fields import AnalyzeField as AF\n",
    "from bd_analysis_indices import AnalyzeIndex as AI\n",
    "from xr_regression import xr_quadtrend"
   ]
  },
  {
   "cell_type": "markdown",
   "metadata": {},
   "source": [
    "## 1. generating full SST fields\n",
    "### annual: from yearly TEMP_PD averaged data"
   ]
  },
  {
   "cell_type": "code",
   "execution_count": null,
   "metadata": {},
   "outputs": [],
   "source": [
    "for run in ['ctrl', 'lpd']:\n",
    "    plt.figure()\n",
    "    da = xr.open_dataarray(f'{path_samoc}/SST/SST_yrly_{run}.nc', decode_times=False)\n",
    "    da[0,:,:].plot(vmin=-1.8, vmax=30)"
   ]
  },
  {
   "cell_type": "markdown",
   "metadata": {},
   "source": [
    "## 2. detrending/deseasonalizing"
   ]
  },
  {
   "cell_type": "markdown",
   "metadata": {},
   "source": [
    "### Quadratic pointwise detrending\n",
    "what detrending starting year to choose?"
   ]
  },
  {
   "cell_type": "code",
   "execution_count": null,
   "metadata": {},
   "outputs": [],
   "source": [
    "da = xr.open_dataarray(f'{path_samoc}/SST/SST_yrly_ctrl.nc', decode_times=False)\n",
    "# dt = xr.open_dataarray(f'{path_samoc}/SST/SST_GMST_sqdt_yrly_ctrl.nc', decode_times=False)\n",
    "for lat in [400, 1700, 1800, 1900]:\n",
    "    plt.figure()\n",
    "    da.sel({'nlon':800, 'nlat':lat}).plot()\n",
    "#     dt.sel({'nlon':800, 'nlat':lat}).plot()\n",
    "    xr_quadtrend(da.sel({'nlon':800, 'nlat':lat})[150:]+1.5).plot()\n",
    "    xr_quadtrend(da.sel({'nlon':800, 'nlat':lat})[100:]+1).plot()\n",
    "    xr_quadtrend(da.sel({'nlon':800, 'nlat':lat})[40:]+.5).plot()\n",
    "    xr_quadtrend(da.sel({'nlon':800, 'nlat':lat})).plot()\n"
   ]
  },
  {
   "cell_type": "code",
   "execution_count": null,
   "metadata": {
    "jupyter": {
     "outputs_hidden": true
    }
   },
   "outputs": [],
   "source": [
    "da = xr.open_dataarray(f'{path_samoc}/SST/SST_yrly_lpd.nc', decode_times=False)\n",
    "\n",
    "for lat in [50, 250, 300, 350]:\n",
    "    plt.figure()\n",
    "    da.sel({'nlon':0, 'nlat':lat}).plot()\n",
    "#     dt.sel({'nlon':800, 'nlat':lat}).plot()\n",
    "    xr_quadtrend(da.sel({'nlon':0, 'nlat':lat})[150:]+1.5).plot()\n",
    "    xr_quadtrend(da.sel({'nlon':0, 'nlat':lat})[100:]+1).plot()\n",
    "    xr_quadtrend(da.sel({'nlon':0, 'nlat':lat})[40:]+.5).plot()\n",
    "    xr_quadtrend(da.sel({'nlon':0, 'nlat':lat})).plot()\n"
   ]
  },
  {
   "cell_type": "markdown",
   "metadata": {},
   "source": [
    "### scaled GMSST detrending"
   ]
  },
  {
   "cell_type": "code",
   "execution_count": null,
   "metadata": {},
   "outputs": [],
   "source": [
    "# %%time\n",
    "# 1:32 min for both\n",
    "for run in ['ctrl', 'lpd']:\n",
    "    try:\n",
    "        fn = f'{path_samoc}/SST/GMSST_yrly_{run}.nc'\n",
    "        assert os.path.exists(fn)\n",
    "        print(f'file exists: {fn}')\n",
    "    except:\n",
    "        DS().generate_yrly_global_mean_SST(run=run)"
   ]
  },
  {
   "cell_type": "code",
   "execution_count": null,
   "metadata": {},
   "outputs": [],
   "source": [
    "for i, run in enumerate(['ctrl', 'lpd']):\n",
    "    da = xr.open_dataarray(f'{path_samoc}/SST/GMSST_yrly_{run}.nc')\n",
    "    plt.plot(da.time/365, da- i/2, lw=.5)\n",
    "    if run=='ctrl':  x = da[40:]\n",
    "    else:            x = da    \n",
    "    pf = np.polynomial.polynomial.polyfit(x.time, x, 2)\n",
    "    plt.plot(x.time/365, pf[2]*x.time**2 + pf[1]*x.time + pf[0] - i/2)\n",
    "#     plt.axvline(40, c='grey', lw=.5)\n",
    "    plt.ylabel('global mean SST [$^\\circ$C]')\n",
    "    plt.xlabel('time [years]')"
   ]
  },
  {
   "cell_type": "markdown",
   "metadata": {},
   "source": [
    "## 3. derive raw SST indices"
   ]
  },
  {
   "cell_type": "markdown",
   "metadata": {},
   "source": [
    "## 4. filter SST indices"
   ]
  },
  {
   "cell_type": "code",
   "execution_count": null,
   "metadata": {},
   "outputs": [],
   "source": [
    "f, ax = plt.subplots(3, 1, figsize=(10,6))#, sharex=True)\n",
    "for i, run in enumerate(['ctrl', 'lpd', 'had']):\n",
    "    dt = [0, 200, 800][i]\n",
    "    ax[2].set_xlabel('time [year]')\n",
    "    for j, idx in enumerate(['AMO', 'SOM', 'TPI']):\n",
    "        fn = f'{path_samoc}/SST/{idx}_{run}.nc'\n",
    "        da = xr.open_dataarray(fn)\n",
    "        if run=='had':\n",
    "            label = 'two-factor'\n",
    "            c = 'C2'\n",
    "        else:\n",
    "            label = 'scaled quadratic GMSST fit'\n",
    "            c = 'C0'\n",
    "        if i==0: label=None\n",
    "        ax[j].plot(da[7:-7].time/365+dt, da[7:-7],         c=c, label=label)\n",
    "        ax[j].plot(da[:7]  .time/365+dt, da[:7]  , ls=':', c=c)\n",
    "        ax[j].plot(da[-7:] .time/365+dt, da[-7:] , ls=':', c=c)\n",
    "            \n",
    "        if run in ['ctrl', 'lpd']:\n",
    "            for k, t in enumerate([ctrl_starts, lpd_starts][i]):\n",
    "                tslice = (t, t+148)\n",
    "                fns = f'{path_samoc}/SST/{idx}_{run}_{tslice[0]}_{tslice[1]}.nc'\n",
    "                das = xr.open_dataarray(fns)\n",
    "                if i==1 and k==0:  label='segment linear'\n",
    "                else: label=None\n",
    "                ax[j].plot(das[7:-7].time/365+dt, das[7:-7],         c='grey', lw=1, label=label)\n",
    "                ax[j].plot(das[:7]  .time/365+dt, das[:7]  , ls=':', c='grey', lw=1)\n",
    "                ax[j].plot(das[-7:] .time/365+dt, das[-7:] , ls=':', c='grey', lw=1)\n",
    "            \n",
    "            da = xr.open_dataarray(f'{path_samoc}/SST/{idx}_quadratic_pwdt_{run}.nc')\n",
    "            \n",
    "            if i==1: label = 'pointwise quadratic'\n",
    "            ax[j].plot(da[7:-7].time/365+dt, da[7:-7],         c='C1', lw=1.5, label=label)\n",
    "            ax[j].plot(da[:7]  .time/365+dt, da[:7]  , ls=':', c='C1', lw=1.5)\n",
    "            ax[j].plot(da[-7:] .time/365+dt, da[-7:] , ls=':', c='C1', lw=1.5)\n",
    "            \n",
    "        ax[j].set_ylabel(idx)\n",
    "        ax[j].axhline(0, c='k', lw=.5)\n",
    "        if i>0 and j==1:\n",
    "            ax[j].legend(ncol=4)\n",
    "        ax[j].set_xticks(np.arange(0,1000,50))\n",
    "ax[0].text(150, -.35, 'CTRL', ha='center')\n",
    "ax[0].text(500, -.35, 'LPD' , ha='center')\n",
    "ax[0].text(900, -.35, 'HAD' , ha='center')\n",
    "ax[2].set_xlim((-20, 970))\n",
    "plt.savefig(f'{path_results}/SST/SST_indices_different_dt')"
   ]
  },
  {
   "cell_type": "markdown",
   "metadata": {},
   "source": [
    "spectra, mean map and correlation to obs, std of maps, correlations of maps with their mean"
   ]
  },
  {
   "cell_type": "code",
   "execution_count": null,
   "metadata": {},
   "outputs": [],
   "source": [
    "from bb_analysis_timeseries import AnalyzeTimeSeries as ATS"
   ]
  },
  {
   "cell_type": "code",
   "execution_count": null,
   "metadata": {},
   "outputs": [],
   "source": [
    "spec[2].T[1]"
   ]
  },
  {
   "cell_type": "code",
   "execution_count": null,
   "metadata": {},
   "outputs": [],
   "source": [
    "for i, run in enumerate(['ctrl', 'lpd', 'had']):\n",
    "    for j, idx in enumerate(['AMO', 'SOM', 'TPI']):\n",
    "        fn = f'{path_samoc}/SST/{idx}_quadratic_pwdt_raw_{run}.nc'\n",
    "        da = xr.open_dataarray(fn)\n",
    "        spec = ATS(da).spectrum(filter_type='lowpass', filter_cutoff=13)\n",
    "        plt.figure()\n",
    "        plt.loglog(1/spec[1], spec[0])\n",
    "        plt.loglog(1/spec[1], spec[2].T[1])"
   ]
  },
  {
   "cell_type": "markdown",
   "metadata": {},
   "source": [
    "## Regression patterns"
   ]
  },
  {
   "cell_type": "code",
   "execution_count": null,
   "metadata": {},
   "outputs": [],
   "source": [
    "from maps import regr_map"
   ]
  },
  {
   "cell_type": "code",
   "execution_count": null,
   "metadata": {},
   "outputs": [],
   "source": [
    "for idx in ['AMO', 'SOM', 'TPI']:\n",
    "    ds = xr.open_dataset(f'{path_samoc}/SST/{idx}_regr_had.nc')\n",
    "    regr_map(ds=ds, index=idx, run='had')"
   ]
  },
  {
   "cell_type": "markdown",
   "metadata": {},
   "source": [
    "### mean pattern for ctrl and lpd"
   ]
  },
  {
   "cell_type": "code",
   "execution_count": null,
   "metadata": {},
   "outputs": [],
   "source": [
    "if run=='ctrl':   starts = np.arange(50, 151, 5)\n",
    "elif run=='lpd':  starts = np.arange(154, 415, 10)"
   ]
  },
  {
   "cell_type": "code",
   "execution_count": null,
   "metadata": {},
   "outputs": [],
   "source": [
    "for j, run in enumerate(['ctrl', 'lpd']):\n",
    "    if run=='ctrl':   starts = np.arange(50, 151, 5)\n",
    "    elif run=='lpd':  starts = np.arange(154, 415, 10)\n",
    "        \n",
    "    for k, t in enumerate(starts):\n",
    "        tslice = (t, t+148)"
   ]
  },
  {
   "cell_type": "markdown",
   "metadata": {},
   "source": [
    "### pattern correlation"
   ]
  },
  {
   "cell_type": "code",
   "execution_count": null,
   "metadata": {},
   "outputs": [],
   "source": [
    "f, ax = plt.subplots(1, 2, figsize=(8,3), sharey=True, constrained_layout=True)\n",
    "for i, idx in enumerate(['AMO', 'SOM', 'TPI']):\n",
    "    for j, run in enumerate(['ctrl', 'lpd']):  # , \n",
    "        fn = f'{path_samoc}/SST/{idx}_spatial_correlations_{run}.nc'\n",
    "        da = xr.open_dataarray(fn)\n",
    "        da.plot(label=idx, ax=ax[j])\n",
    "        ax[j].set_xlabel('starting year of segment')\n",
    "        ax[j].text(da.time[0], .7, run.upper())\n",
    "        ax[j].tick_params()\n",
    "        ax[j].axhline(0, c='k', lw=.3)\n",
    "\n",
    "ax[0].legend(ncol=3, loc=8)\n",
    "ax[0].set_ylabel('spatial correlation coefficient')\n",
    "# plt.savefig(f'{path_results}/SST/spatial_correlation(t)_ctrl_lpd')"
   ]
  },
  {
   "cell_type": "markdown",
   "metadata": {},
   "source": [
    "# Stationarity"
   ]
  },
  {
   "cell_type": "code",
   "execution_count": null,
   "metadata": {},
   "outputs": [],
   "source": []
  }
 ],
 "metadata": {
  "kernelspec": {
   "display_name": "Python 3",
   "language": "python",
   "name": "python3"
  },
  "language_info": {
   "codemirror_mode": {
    "name": "ipython",
    "version": 3
   },
   "file_extension": ".py",
   "mimetype": "text/x-python",
   "name": "python",
   "nbconvert_exporter": "python",
   "pygments_lexer": "ipython3",
   "version": "3.6.6"
  }
 },
 "nbformat": 4,
 "nbformat_minor": 4
}
