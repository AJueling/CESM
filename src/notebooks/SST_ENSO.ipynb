{
 "cells": [
  {
   "cell_type": "markdown",
   "metadata": {},
   "source": [
    "# Sea Surface Temperature"
   ]
  },
  {
   "cell_type": "code",
   "execution_count": null,
   "metadata": {},
   "outputs": [],
   "source": [
    "import sys\n",
    "sys.path.append(\"..\")\n",
    "import scipy as sp\n",
    "import numpy as np\n",
    "import xarray as xr\n",
    "import seaborn as sns\n",
    "import cmocean\n",
    "import cartopy\n",
    "import scipy.stats as stats\n",
    "import cartopy.crs as ccrs\n",
    "import matplotlib as mpl\n",
    "import matplotlib.lines as mlines\n",
    "import matplotlib.pyplot as plt\n",
    "import matplotlib.patches as mpatches"
   ]
  },
  {
   "cell_type": "code",
   "execution_count": null,
   "metadata": {},
   "outputs": [],
   "source": [
    "%matplotlib inline\n",
    "%config InlineBackend.print_figure_kwargs={'bbox_inches':None}\n",
    "%load_ext autoreload\n",
    "%autoreload 2\n",
    "%aimport - numpy - scipy - matplotlib.pyplot"
   ]
  },
  {
   "cell_type": "code",
   "execution_count": null,
   "metadata": {},
   "outputs": [],
   "source": [
    "from OHC import t2da, t2ds\n",
    "from SST import SST_index, EOF_SST_analysis\n",
    "from maps import map_robinson, map_eq_earth\n",
    "from grid import find_array_idx\n",
    "from paths import path_results, path_samoc, file_ex_ocn_ctrl, file_ex_ocn_rect\n",
    "from regions import boolean_mask, SOM_area, Nino12, Nino34, global_ocean,\\\n",
    "                    gl_ocean_rect, NPacific_mask_rect,\\\n",
    "                    Nino12_low, Nino34_low\n",
    "from plotting import shifted_color_map, discrete_cmap\n",
    "from timeseries import IterateOutputCESM, lowpass\n",
    "from xr_DataArrays import xr_AREA\n",
    "from xr_regression import xr_linear_trends_2D, xr_linear_trend, ocn_field_regression"
   ]
  },
  {
   "cell_type": "markdown",
   "metadata": {},
   "source": [
    "# SST indices"
   ]
  },
  {
   "cell_type": "code",
   "execution_count": null,
   "metadata": {},
   "outputs": [],
   "source": [
    "MASK_ocn  = boolean_mask('ocn'     , 0)\n",
    "MASK_low  = boolean_mask('ocn_low' , 0)\n",
    "MASK_rect = boolean_mask('ocn_rect', 0)"
   ]
  },
  {
   "cell_type": "code",
   "execution_count": null,
   "metadata": {},
   "outputs": [],
   "source": [
    "TAREA       = xr_AREA('ocn')\n",
    "AREA_low    = xr_AREA('ocn_low')\n",
    "AREA_rect   = xr_AREA('ocn_rect')"
   ]
  },
  {
   "cell_type": "code",
   "execution_count": null,
   "metadata": {},
   "outputs": [],
   "source": [
    "AREA_low.plot()"
   ]
  },
  {
   "cell_type": "code",
   "execution_count": null,
   "metadata": {},
   "outputs": [],
   "source": [
    "global_area = TAREA.where(MASK_ocn).sel(global_ocean).sum()\n",
    "print(f'{global_area.item():e}')\n",
    "global_area2 = AREA_rect.where(MASK_rect).sel(gl_ocean_rect).sum()\n",
    "print(f'{global_area2.item():e}')"
   ]
  },
  {
   "cell_type": "markdown",
   "metadata": {},
   "source": [
    "## ENSO"
   ]
  },
  {
   "cell_type": "code",
   "execution_count": null,
   "metadata": {},
   "outputs": [],
   "source": [
    "# %%time\n",
    "# #5-10 sec per year\n",
    "# Nino12_AREA = TAREA.sel(Nino12).sum(dim=('nlat','nlon'))\n",
    "# Nino34_AREA = TAREA.sel(Nino34).sum(dim=('nlat','nlon'))\n",
    "# for run in ['ctrl', 'rcp']:\n",
    "#     for i, (y,m,s) in enumerate(IterateOutputCESM(domain='ocn', run=run, tavg='monthly')):\n",
    "#         if m==1: print(y)\n",
    "#         SST = xr.open_dataset(s, decode_times=False).TEMP[0,0,:,:]\n",
    "#         N12 = SST_index(xa_SST=SST, AREA=TAREA, index_loc=Nino12, AREA_index=Nino12_AREA, MASK=MASK_ocn, dims=('nlat', 'nlon'))\n",
    "#         N34 = SST_index(xa_SST=SST, AREA=TAREA, index_loc=Nino34, AREA_index=Nino34_AREA, MASK=MASK_ocn, dims=('nlat', 'nlon'))\n",
    "#         if i==0:\n",
    "#             N12_new = N12\n",
    "#             N34_new = N34\n",
    "#         else:\n",
    "#             N12_new = xr.concat([N12_new, N12], dim='time')\n",
    "#             N34_new = xr.concat([N34_new, N34], dim='time')\n",
    "#     N12_new.to_netcdf(path=f'{path_samoc}/SST/Nino12_raw_{run}.nc')\n",
    "#     N34_new.to_netcdf(path=f'{path_samoc}/SST/Nino34_raw_{run}.nc')"
   ]
  },
  {
   "cell_type": "code",
   "execution_count": null,
   "metadata": {},
   "outputs": [],
   "source": [
    "# %%time\n",
    "# # 1:04 hrs for both lpi, lpd\n",
    "# Nino12_low_AREA = AREA_low.sel(Nino12_low).sum(dim=('nlat','nlon'))\n",
    "# Nino34_low_AREA = AREA_low.sel(Nino34_low).sum(dim=('nlat','nlon'))\n",
    "# for run in ['lpi', 'lpd']:# ['ctrl', 'rcp']:\n",
    "#     for i, (y,m,s) in enumerate(IterateOutputCESM(domain='ocn', run=run, tavg='monthly')):\n",
    "#         if m==1: print(y)\n",
    "#         SST = xr.open_dataset(s, decode_times=False).TEMP[0,0,:,:]\n",
    "#         N12 = SST_index(xa_SST=SST, AREA=AREA_low, index_loc=Nino12_low, AREA_index=Nino12_low_AREA, MASK=MASK_low, dims=('nlat', 'nlon'))\n",
    "#         N34 = SST_index(xa_SST=SST, AREA=AREA_low, index_loc=Nino34_low, AREA_index=Nino34_low_AREA, MASK=MASK_low, dims=('nlat', 'nlon'))\n",
    "#         if i==0:\n",
    "#             N12_new = N12\n",
    "#             N34_new = N34\n",
    "#         else:\n",
    "#             N12_new = xr.concat([N12_new, N12], dim='time')\n",
    "#             N34_new = xr.concat([N34_new, N34], dim='time')\n",
    "#     N12_new.to_netcdf(path=f'{path_samoc}/SST/Nino12_raw_{run}.nc')\n",
    "#     N34_new.to_netcdf(path=f'{path_samoc}/SST/Nino34_raw_{run}.nc')"
   ]
  },
  {
   "cell_type": "code",
   "execution_count": null,
   "metadata": {},
   "outputs": [],
   "source": [
    "N12_ctrl = xr.open_dataarray(f'{path_samoc}/SST/Nino12_raw_ctrl.nc', decode_times=False)\n",
    "N34_ctrl = xr.open_dataarray(f'{path_samoc}/SST/Nino34_raw_ctrl.nc', decode_times=False)\n",
    "N12_rcp  = xr.open_dataarray(f'{path_samoc}/SST/Nino12_raw_rcp.nc' , decode_times=False)\n",
    "N34_rcp  = xr.open_dataarray(f'{path_samoc}/SST/Nino34_raw_rcp.nc' , decode_times=False)\n",
    "N12_lpd  = xr.open_dataarray(f'{path_samoc}/SST/Nino12_raw_lpd.nc' , decode_times=False)\n",
    "N34_lpd  = xr.open_dataarray(f'{path_samoc}/SST/Nino34_raw_lpd.nc' , decode_times=False)\n",
    "N12_lpi  = xr.open_dataarray(f'{path_samoc}/SST/Nino12_raw_lpi.nc' , decode_times=False)\n",
    "N34_lpi  = xr.open_dataarray(f'{path_samoc}/SST/Nino34_raw_lpi.nc' , decode_times=False)"
   ]
  },
  {
   "cell_type": "code",
   "execution_count": null,
   "metadata": {},
   "outputs": [],
   "source": [
    "# linear trend\n",
    "def linear_fit(ts):\n",
    "    lp = np.polyfit(ts.time, ts.values, 1)\n",
    "    lf = lp[0]*ts.time + lp[1]\n",
    "    return lf\n",
    "\n",
    "N12_lf_ctrl = linear_fit(N12_ctrl)\n",
    "N34_lf_ctrl = linear_fit(N34_ctrl)\n",
    "N12_lf_rcp  = linear_fit(N12_rcp)\n",
    "N34_lf_rcp  = linear_fit(N34_rcp)\n",
    "N12_lf_lpd  = linear_fit(N12_lpd)\n",
    "N34_lf_lpd  = linear_fit(N34_lpd)\n",
    "N12_lf_lpi  = linear_fit(N12_lpi)\n",
    "N34_lf_lpi  = linear_fit(N34_lpi)"
   ]
  },
  {
   "cell_type": "code",
   "execution_count": null,
   "metadata": {},
   "outputs": [],
   "source": [
    "f, ax = plt.subplots(1,1,figsize=(12,5))\n",
    "ax.tick_params(labelsize=14)\n",
    "# ax.axhline(0,c='k', lw=.5)\n",
    "\n",
    "ax.plot(N34_ctrl.time/365+1900, N34_ctrl, c='C0', ls=':', lw=.15)\n",
    "ax.plot(N34_rcp .time/365+ 200, N34_rcp , c='C1', ls=':', lw=.15)\n",
    "ax.plot(N34_lpd .time/365+1400, N34_lpd , c='C2', ls=':', lw=.15)\n",
    "ax.plot(N34_lpi .time/365-1600, N34_lpi , c='C3', ls=':', lw=.15)\n",
    "\n",
    "ax.plot(N12_ctrl.time/365+1900, N12_ctrl, c='C0', ls=':', lw=.15)\n",
    "ax.plot(N12_rcp .time/365+ 200, N12_rcp , c='C1', ls=':', lw=.15)\n",
    "ax.plot(N12_lpd .time/365+1400, N12_lpd , c='C2', ls=':', lw=.15)\n",
    "ax.plot(N12_lpi .time/365-1600, N12_lpi , c='C3', ls=':', lw=.15)\n",
    "\n",
    "ax.plot(N34_ctrl.time/365+1900, N34_lf_ctrl, c='C0', ls='--', lw=2)\n",
    "ax.plot(N34_rcp .time/365+ 200, N34_lf_rcp , c='C1', ls='--', lw=2)\n",
    "ax.plot(N34_lpd .time/365+1400, N34_lf_lpd , c='C2', ls='--', lw=2)\n",
    "ax.plot(N34_lpi .time/365-1600, N34_lf_lpi , c='C3', ls='--', lw=2)\n",
    "\n",
    "ax.plot(N12_ctrl.time/365+1900, N12_lf_ctrl, c='C0', ls='--', lw=2)\n",
    "ax.plot(N12_rcp .time/365+ 200, N12_lf_rcp , c='C1', ls='--', lw=2)\n",
    "ax.plot(N12_lpd .time/365+1400, N12_lf_lpd , c='C2', ls='--', lw=2)\n",
    "ax.plot(N12_lpi .time/365-1600, N12_lf_lpi , c='C3', ls='--', lw=2)\n",
    "\n",
    "# ax.plot(N34_ctrl.time/365+1900, lowpass(N34_ctrl.values, 40), c='C0', ls='-' , lw=2)\n",
    "# ax.plot(N34_rcp .time/365+ 200, lowpass(N34_rcp .values, 40), c='C1', ls='-' , lw=2)\n",
    "# ax.plot(N34_lpd .time/365+1400, lowpass(N34_lpd .values, 40), c='C2', ls='-' , lw=2)\n",
    "# ax.plot(N34_lpi .time/365-1600, lowpass(N34_lpi .values, 40), c='C3', ls='-' , lw=2)\n",
    "\n",
    "# ax.plot(N12_ctrl.time/365+1900, lowpass(N12_ctrl.values, 100), c='C0', ls='-' , lw=2)\n",
    "# ax.plot(N12_rcp .time/365+ 200, lowpass(N12_rcp .values, 100), c='C1', ls='-' , lw=2)\n",
    "# ax.plot(N12_lpd .time/365+1400, lowpass(N12_lpd .values, 100), c='C2', ls='-' , lw=2)\n",
    "# ax.plot(N12_lpi .time/365-1600, lowpass(N12_lpi .values, 100), c='C3', ls='-' , lw=2)\n",
    "\n",
    "ax.text(   0, 30.5, 'pre-ind. low' , fontsize=16, color='C3')\n",
    "ax.text(1550, 30.5, 'pres. day low', fontsize=16, color='C2')\n",
    "ax.text(2000, 30.5, 'CTRL'         , fontsize=16, color='C0')\n",
    "ax.text(2200, 30.5, 'RCP'          , fontsize=16, color='C1')\n",
    "\n",
    "ax.set_xlabel('time[years]', fontsize=16)\n",
    "ax.set_ylabel('N12 / N34 index [$^\\circ$C]'  , fontsize=16)\n",
    "f.tight_layout()\n",
    "plt.savefig(f'{path_results}/SST/ENSO_raw')"
   ]
  },
  {
   "cell_type": "code",
   "execution_count": null,
   "metadata": {},
   "outputs": [],
   "source": [
    "plt.figure(figsize=(12,5))\n",
    "plt.tick_params(labelsize=14)\n",
    "\n",
    "plt.plot(N12_ctrl.time/365, N12_ctrl, c='C0', ls='-' ,  alpha=.5, label='CTRL Nino12')\n",
    "plt.plot(N12_ctrl.time/365, N12_lf_ctrl   , c='C0', ls='--', lw=2 )\n",
    "plt.plot(N34_ctrl.time/365, N34_ctrl, c='C0', ls='-' ,  alpha=.5, label='CTRL Nino34')\n",
    "plt.plot(N12_ctrl.time/365, N34_lf_ctrl   , c='C0', ls='--', lw=2 )\n",
    "plt.axvline(200, c='g', lw=.5)\n",
    "plt.plot(N12_rcp.time/365-1700, N12_rcp, c='C1', ls='-' , alpha=.5, label='RCP Nino12')\n",
    "plt.plot(N12_rcp.time/365-1700, N12_lf_rcp   , c='C1', ls='--', lw=2 )\n",
    "plt.plot(N34_rcp.time/365-1700, N34_rcp, c='C1', ls='-' , alpha=.5, label='RCP Nino34')\n",
    "plt.plot(N34_rcp.time/365-1700, N34_lf_rcp   , c='C1', ls='--', lw=2 )\n",
    "plt.ylabel('monthly temperature [$^\\circ$C]', fontsize=16)\n",
    "plt.xlabel('time [years]', fontsize=16)\n",
    "plt.tight_layout()\n",
    "# plt.legend(handles=[L2, L1, L4, L3], ncol=2, fontsize=14, loc=9, frameon=False)\n",
    "# plt.savefig(f'{path_results}/SST/ENSO_raw')"
   ]
  },
  {
   "cell_type": "code",
   "execution_count": null,
   "metadata": {},
   "outputs": [],
   "source": [
    "def seasonal_mean_std(ts):\n",
    "    mean = np.empty((12))\n",
    "    std  = np.empty((12))\n",
    "    for i in range(12):\n",
    "        mean[i] = (ts - linear_fit(ts) )[i::12].mean()\n",
    "        std[i]  = (ts - linear_fit(ts) )[i::12].std()\n",
    "    return mean, std\n",
    "\n",
    "# seasonal cycle\n",
    "N12_mean_ctrl, N12_std_ctrl = seasonal_mean_std(N12_ctrl)\n",
    "N34_mean_ctrl, N34_std_ctrl = seasonal_mean_std(N34_ctrl)\n",
    "N12_mean_rcp , N12_std_rcp  = seasonal_mean_std(N12_rcp)\n",
    "N34_mean_rcp , N34_std_rcp  = seasonal_mean_std(N34_rcp)\n",
    "N12_mean_lpd , N12_std_lpd  = seasonal_mean_std(N12_lpd)\n",
    "N34_mean_lpd , N34_std_lpd  = seasonal_mean_std(N34_lpd)\n",
    "N12_mean_lpi , N12_std_lpi  = seasonal_mean_std(N12_lpi)\n",
    "N34_mean_lpi , N34_std_lpi  = seasonal_mean_std(N34_lpi)"
   ]
  },
  {
   "cell_type": "code",
   "execution_count": null,
   "metadata": {},
   "outputs": [],
   "source": [
    "f, ax = plt.subplots(1, 2, figsize=(12,5), sharey=True)\n",
    "RD = mlines.Line2D([], [], color='C3', marker='D', linestyle='None', markersize=5, label='LPI')\n",
    "GD = mlines.Line2D([], [], color='C2', marker='D', linestyle='None', markersize=5, label='LPD')\n",
    "BD = mlines.Line2D([], [], color='C0', marker='o', linestyle='None', markersize=5, label='CTRL')\n",
    "YD = mlines.Line2D([], [], color='C1', marker='o', linestyle='None', markersize=5, label='RCP')\n",
    "\n",
    "for i in range(2):\n",
    "    ax[i].tick_params(labelsize=14)\n",
    "    ax[i].set_xlabel('month', fontsize=16)\n",
    "    ax[i].set_xticks(np.arange(1,13))\n",
    "    ax[i].axhline(0, c='k', lw=.5)\n",
    "    ax[i].legend(handles=[RD, GD, BD, YD], ncol=2, fontsize=14, frameon=False)\n",
    "\n",
    "for i in range(12):\n",
    "    ax[0].scatter([i+1.1], N12_mean_ctrl[i], c='C0', label='N12 CTRL')\n",
    "    ax[0].scatter([i+1.3], N12_mean_rcp [i], c='C1', label='N12 RCP')\n",
    "    ax[0].scatter([i+0.9], N12_mean_lpd [i], c='C2', marker='D', label='N12 LPD')\n",
    "    ax[0].scatter([i+0.7], N12_mean_lpi [i], c='C3', marker='D', label='N12 LPI')\n",
    "\n",
    "    ax[0].plot(2* [i+1.1], [N12_mean_ctrl[i]-N12_std_ctrl[i], N12_mean_ctrl[i]+N12_std_ctrl[i]], c='C0')\n",
    "    ax[0].plot(2* [i+1.3], [N12_mean_rcp [i]-N12_std_rcp[i] , N12_mean_rcp[i] +N12_std_rcp[i]], c='C1')\n",
    "    ax[0].plot(2* [i+0.9], [N12_mean_lpd [i]-N12_std_lpd[i] , N12_mean_lpd[i] +N12_std_lpd[i]], c='C2')\n",
    "    ax[0].plot(2* [i+0.7], [N12_mean_lpi [i]-N12_std_lpi[i] , N12_mean_lpi[i] +N12_std_lpi[i]], c='C3')\n",
    "\n",
    "    ax[1].scatter([i+1.1], N34_mean_ctrl[i], c='C0', label='N34 CTRL')\n",
    "    ax[1].scatter([i+1.3], N34_mean_rcp [i], c='C1', label='N34 RCP')\n",
    "    ax[1].scatter([i+0.9], N34_mean_lpd [i], c='C2', marker='D',label='N34 LPD')\n",
    "    ax[1].scatter([i+0.7], N34_mean_lpi [i], c='C3', marker='D',label='N34 LPI')\n",
    "\n",
    "    ax[1].plot(2* [i+1.1], [N34_mean_ctrl[i]-N34_std_ctrl[i], N34_mean_ctrl[i]+N34_std_ctrl[i]], c='C0')\n",
    "    ax[1].plot(2* [i+1.3], [N34_mean_rcp [i]-N34_std_rcp[i] , N34_mean_rcp[i] +N34_std_rcp[i] ], c='C1')\n",
    "    ax[1].plot(2* [i+0.9], [N34_mean_lpd [i]-N34_std_lpd[i] , N34_mean_lpd[i] +N34_std_lpd[i] ], c='C2')\n",
    "    ax[1].plot(2* [i+0.7], [N34_mean_lpi [i]-N34_std_lpi[i] , N34_mean_lpi[i] +N34_std_lpi[i] ], c='C3')\n",
    "\n",
    "ax[0].text(.5,2.7,'N12', fontsize=16)\n",
    "ax[1].text(.5,2.7,'N34', fontsize=16)\n",
    "    \n",
    "ax[0].set_ylabel('temperature anomaly [K]', fontsize=16)\n",
    "plt.tight_layout()\n",
    "plt.savefig(f'{path_results}/SST/ENSO_seasonal_cycle')"
   ]
  },
  {
   "cell_type": "markdown",
   "metadata": {},
   "source": [
    "Claudia suggested to remove the seasonal signal (averages of all the Januaries, Februaries, ...). First I will remove a linear trend from both the CTRL and RCP indices."
   ]
  },
  {
   "cell_type": "code",
   "execution_count": null,
   "metadata": {},
   "outputs": [],
   "source": [
    "# detrend, deseasonalize\n",
    "def detrend_deseason(ts):\n",
    "    dtds = ts - linear_fit(ts)\n",
    "    seas = seasonal_mean_std(ts)[0]\n",
    "    for i in range(12):\n",
    "        dtds[i::12] = dtds[i::12] - seas[i]\n",
    "    return dtds"
   ]
  },
  {
   "cell_type": "code",
   "execution_count": null,
   "metadata": {},
   "outputs": [],
   "source": [
    "detrend_deseason(N12_ctrl).to_netcdf(f'{path_results}/SST/Nino12_ctrl.nc')\n",
    "detrend_deseason(N12_rcp ).to_netcdf(f'{path_results}/SST/Nino12_rcp.nc' )\n",
    "detrend_deseason(N12_lpd ).to_netcdf(f'{path_results}/SST/Nino12_lpd.nc' )\n",
    "detrend_deseason(N12_lpi ).to_netcdf(f'{path_results}/SST/Nino12_lpi.nc' )\n",
    "\n",
    "detrend_deseason(N34_ctrl).to_netcdf(f'{path_results}/SST/Nino34_ctrl.nc')\n",
    "detrend_deseason(N34_rcp ).to_netcdf(f'{path_results}/SST/Nino34_rcp.nc' )\n",
    "detrend_deseason(N34_lpd ).to_netcdf(f'{path_results}/SST/Nino34_lpd.nc' )\n",
    "detrend_deseason(N34_lpi ).to_netcdf(f'{path_results}/SST/Nino34_lpi.nc' )"
   ]
  },
  {
   "cell_type": "code",
   "execution_count": null,
   "metadata": {},
   "outputs": [],
   "source": [
    "N12_dtds_ctrl = xr.open_dataarray(f'{path_results}/SST/Nino12_ctrl.nc', decode_times=False)\n",
    "N12_dtds_rcp  = xr.open_dataarray(f'{path_results}/SST/Nino12_rcp.nc' , decode_times=False)\n",
    "N12_dtds_lpd  = xr.open_dataarray(f'{path_results}/SST/Nino12_lpd.nc' , decode_times=False)\n",
    "N12_dtds_lpi  = xr.open_dataarray(f'{path_results}/SST/Nino12_lpi.nc' , decode_times=False)\n",
    "\n",
    "N34_dtds_ctrl = xr.open_dataarray(f'{path_results}/SST/Nino34_ctrl.nc', decode_times=False)\n",
    "N34_dtds_rcp  = xr.open_dataarray(f'{path_results}/SST/Nino34_rcp.nc' , decode_times=False)\n",
    "N34_dtds_lpd  = xr.open_dataarray(f'{path_results}/SST/Nino34_lpd.nc' , decode_times=False)\n",
    "N34_dtds_lpi  = xr.open_dataarray(f'{path_results}/SST/Nino34_lpi.nc' , decode_times=False)"
   ]
  },
  {
   "cell_type": "code",
   "execution_count": null,
   "metadata": {},
   "outputs": [],
   "source": [
    "x = np.arange(-3.5,4.25,.05)\n",
    "N12s = [N12_ctrl, N12_rcp, N12_lpd, N12_lpi]\n",
    "N34s = [N34_ctrl, N34_rcp, N34_lpd, N34_lpi]\n",
    "\n",
    "f, ax = plt.subplots(1, 2, figsize=(12,5), sharey=True)\n",
    "ax[0].set_ylabel('probability density', fontsize=16)\n",
    "ax[0].text(-3.5, .7, 'Nino12', fontsize=16)\n",
    "ax[1].text(-3.5, .7, 'Nino34', fontsize=16)\n",
    "\n",
    "for i in range (4):\n",
    "    label= ['CTRL', 'RCP', 'LPD', 'LPI'][i]\n",
    "    density = stats.gaussian_kde(N12s[i])\n",
    "    ax[0].plot(x, density(x), label=label)\n",
    "    density = stats.gaussian_kde(N34s[i])\n",
    "    ax[1].plot(x, density(x), label=label)\n",
    "\n",
    "for i in range(2):\n",
    "    ax[i].axhline(0, c='k', lw=.5)\n",
    "    ax[i].axvline(0, c='k', lw=.5)\n",
    "    ax[i].tick_params(labelsize=14)\n",
    "    ax[i].set_xlabel('index anomaly [K]', fontsize=16)\n",
    "    ax[i].legend(fontsize=14, frameon=False)\n",
    "    \n",
    "plt.tight_layout()\n",
    "plt.savefig(f'{path_results}/SST/ENSO_kde')"
   ]
  },
  {
   "cell_type": "code",
   "execution_count": null,
   "metadata": {},
   "outputs": [],
   "source": [
    "f, ax = plt.subplots(2, 1, figsize=(12,8), sharex=True)\n",
    "for i in range(2):\n",
    "    ax[i].tick_params(labelsize=14)\n",
    "\n",
    "ax[0].axhline(0, c='k', lw=.5)\n",
    "ax[0].axvline(200, c='g', lw=.5)\n",
    "ax[0].axvline(300, c='g', lw=.5)\n",
    "ax[0].plot(N12_dtds_ctrl.time/365    , N12_dtds_ctrl.rolling(time=6  , center=True).mean(), c='C0')\n",
    "ax[0].plot(N12_dtds_ctrl.time/365    , N12_dtds_ctrl.rolling(time=240, center=True).std() , c='C0', ls=':', lw=2)\n",
    "ax[0].plot(N12_dtds_rcp.time/365-1700, N12_dtds_rcp .rolling(time=6  , center=True).mean(), c='C1')\n",
    "ax[0].plot(N12_dtds_rcp.time/365-1700, N12_dtds_rcp .rolling(time=240, center=True).std() , c='C1', ls=':', lw=2)\n",
    "\n",
    "ax[1].axhline(0, c='k', lw=.5)\n",
    "ax[1].axvline(200, c='g', lw=.5)\n",
    "ax[1].axvline(300, c='g', lw=.5)\n",
    "ax[1].plot(N34_dtds_ctrl.time/365    , N34_dtds_ctrl.rolling(time=6  , center=True).mean(), c='C0')\n",
    "ax[1].plot(N34_dtds_ctrl.time/365    , N34_dtds_ctrl.rolling(time=240, center=True).std() , c='C0', ls=':', lw=2)\n",
    "ax[1].plot(N34_dtds_rcp.time/365-1700, N34_dtds_rcp .rolling(time=6  , center=True).mean(), c='C1')\n",
    "ax[1].plot(N34_dtds_rcp.time/365-1700, N34_dtds_rcp .rolling(time=240, center=True).std() , c='C1', ls=':', lw=2)\n",
    "ax[1].set_xticks(np.arange(100,400,20))\n",
    "\n",
    "ax[1].set_xlabel('time [years]'     , fontsize=16)\n",
    "ax[0].set_ylabel('Nino1+2 index [K]', fontsize=16)\n",
    "ax[1].set_ylabel('Nino3.4 index [K]', fontsize=16)\n",
    "plt.tight_layout()\n",
    "plt.savefig(f'{path_results}/SST/ENSO_indices_rstd')"
   ]
  },
  {
   "cell_type": "code",
   "execution_count": null,
   "metadata": {},
   "outputs": [],
   "source": [
    "# FFT\n",
    "f, t, Sxx = sp.signal.spectrogram(N34_lpi, fs=12)\n",
    "plt.pcolormesh(t, f, Sxx)\n",
    "plt.ylim((0,.6))"
   ]
  },
  {
   "cell_type": "code",
   "execution_count": null,
   "metadata": {},
   "outputs": [],
   "source": [
    "N12s = [N12_dtds_ctrl, N12_dtds_rcp, N12_dtds_lpd, N12_dtds_lpi]\n",
    "N34s = [N34_dtds_ctrl, N34_dtds_rcp, N34_dtds_lpd, N34_dtds_lpi]\n",
    "\n",
    "f, ax = plt.subplots(1, 2, figsize=(12,5), sharey=True)\n",
    "ax[0].set_ylabel('spectral power', fontsize=16)\n",
    "\n",
    "for i in range (4):\n",
    "    label= ['CTRL', 'RCP', 'LPD', 'LPI'][i]\n",
    "    f, Pxx = sp.signal.welch(N12s[i], fs=12)\n",
    "    ax[0].semilogy(1/f, np.sqrt(Pxx), label=label)\n",
    "    f, Pxx = sp.signal.welch(N34s[i], fs=12)\n",
    "    ax[1].semilogy(1/f, np.sqrt(Pxx), label=label)\n",
    "\n",
    "for i in range(2):\n",
    "    ax[i].tick_params(labelsize=14)\n",
    "    ax[i].set_xlabel('period [yr]', fontsize=16)\n",
    "    ax[i].legend(fontsize=14, frameon=False)\n",
    "    \n",
    "plt.tight_layout()\n",
    "plt.savefig(f'{path_results}/SST/ENSO_spectrum')"
   ]
  },
  {
   "cell_type": "code",
   "execution_count": null,
   "metadata": {},
   "outputs": [],
   "source": [
    "# correlation between indices\n",
    "plt.figure()\n",
    "plt.axhline(0, c='k', lw=.5)\n",
    "plt.axvline(0, c='k', lw=.5)\n",
    "plt.scatter(N12_detr_des_ctrl, N34_detr_des_ctrl)\n",
    "plt.scatter(N12_detr_des_rcp , N34_detr_des_rcp )\n",
    "\n",
    "# lagged correlation\n",
    "plt.figure()\n",
    "plt.axhline(0, c='k', lw=.5)\n",
    "plt.axvline(0, c='k', lw=.5)\n",
    "for l in np.arange(-15,16,1):\n",
    "    if l<0:\n",
    "        plt.scatter(l, np.corrcoef(N12_detr_des_ctrl[:l], N34_detr_des_ctrl.shift(time=l).dropna(dim='time'))[0,1], c='C0')\n",
    "        plt.scatter(l, np.corrcoef(N12_detr_des_rcp [:l], N34_detr_des_rcp .shift(time=l).dropna(dim='time'))[0,1], c='C1', marker='D')\n",
    "    else:\n",
    "        plt.scatter(l, np.corrcoef(N12_detr_des_ctrl[l:], N34_detr_des_ctrl.shift(time=l).dropna(dim='time'))[0,1], c='C0')\n",
    "        plt.scatter(l, np.corrcoef(N12_detr_des_rcp [l:], N34_detr_des_rcp .shift(time=l).dropna(dim='time'))[0,1], c='C1', marker='D')"
   ]
  }
 ],
 "metadata": {
  "kernelspec": {
   "display_name": "Python 3",
   "language": "python",
   "name": "python3"
  },
  "language_info": {
   "codemirror_mode": {
    "name": "ipython",
    "version": 3
   },
   "file_extension": ".py",
   "mimetype": "text/x-python",
   "name": "python",
   "nbconvert_exporter": "python",
   "pygments_lexer": "ipython3",
   "version": "3.6.6"
  }
 },
 "nbformat": 4,
 "nbformat_minor": 2
}
