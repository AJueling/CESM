{
 "cells": [
  {
   "cell_type": "markdown",
   "metadata": {},
   "source": [
    "# Evaluating the Climate sensitivity of HR- and LR-CESM"
   ]
  },
  {
   "cell_type": "code",
   "execution_count": null,
   "metadata": {},
   "outputs": [],
   "source": [
    "import os\n",
    "import sys\n",
    "import numpy as np\n",
    "import xarray as xr\n",
    "import cmocean\n",
    "import cartopy\n",
    "import scipy.stats as stats\n",
    "import cartopy.crs as ccrs\n",
    "import datetime\n",
    "import matplotlib as mpl\n",
    "import matplotlib.pyplot as plt"
   ]
  },
  {
   "cell_type": "code",
   "execution_count": null,
   "metadata": {},
   "outputs": [],
   "source": [
    "%matplotlib inline\n",
    "mpl.rc_file('../rc_file')\n",
    "%config InlineBackend.print_figure_kwargs={'bbox_inches':None}\n",
    "%load_ext autoreload\n",
    "%autoreload 2"
   ]
  },
  {
   "cell_type": "code",
   "execution_count": null,
   "metadata": {
    "tags": []
   },
   "outputs": [],
   "source": [
    "sys.path.append(\"..\")\n",
    "from tqdm import notebook\n",
    "from paths import path_results, path_prace, CESM_filename, file_ex_atm_lpd\n",
    "from filters import lowpass\n",
    "from constants import spy\n",
    "from xr_regression import xr_linear_trend, xr_lintrend\n",
    "from constants import R_earth\n",
    "A_Earth = 4*np.pi*R_earth**2"
   ]
  },
  {
   "cell_type": "code",
   "execution_count": null,
   "metadata": {
    "jupyter": {
     "outputs_hidden": true
    }
   },
   "outputs": [],
   "source": [
    "ds = xr.open_dataset(file_ex_atm_lpd, decode_times=False)\n",
    "ds"
   ]
  },
  {
   "cell_type": "code",
   "execution_count": null,
   "metadata": {},
   "outputs": [],
   "source": []
  },
  {
   "cell_type": "code",
   "execution_count": null,
   "metadata": {},
   "outputs": [],
   "source": [
    "# made in GMST.ipynb\n",
    "gmst_ctrl = xr.open_dataarray(f'{path_results}/GMST/GMST_monthly_ctrl.nc', decode_times=False)\n",
    "gmst_rcp  = xr.open_dataarray(f'{path_results}/GMST/GMST_monthly_rcp.nc' , decode_times=False)\n",
    "gmst_hq   = xr.open_dataarray(f'{path_results}/GMST/GMST_monthly_hq.nc'  , decode_times=False)\n",
    "gmst_lpd  = xr.open_dataarray(f'{path_results}/GMST/GMST_monthly_lpd.nc' , decode_times=False)\n",
    "gmst_lr1  = xr.open_dataarray(f'{path_results}/GMST/GMST_monthly_lr1.nc' , decode_times=False)\n",
    "gmst_lq   = xr.open_dataarray(f'{path_results}/GMST/GMST_monthly_lq.nc'  , decode_times=False)\n",
    "gmst_ld   = xr.open_dataarray(f'{path_results}/GMST/GMST_monthly_ld.nc'  , decode_times=False)\n"
   ]
  },
  {
   "cell_type": "code",
   "execution_count": null,
   "metadata": {},
   "outputs": [],
   "source": [
    "GMST_h200  = xr.open_dataarray(f'{path_results}/GMST/GMST_monthly_ctrl.nc', decode_times=False).sel(time=slice(200*365,230*365)).mean()\n",
    "GMST_l500  = xr.open_dataarray(f'{path_results}/GMST/GMST_monthly_lpd.nc' , decode_times=False).isel(time=slice(0,30*12)).mean()\n",
    "GMST_l1200 = xr.open_dataarray(f'{path_results}/GMST/GMST_monthly_lpd.nc' , decode_times=False).isel(time=slice(690*12,720*12)).mean()"
   ]
  },
  {
   "cell_type": "code",
   "execution_count": null,
   "metadata": {},
   "outputs": [],
   "source": [
    "# from `TOA.ipynb`\n",
    "FTNT_rcp  = xr.open_dataarray(f'{path_prace}/TOA/TOM_rcp.nc', decode_times=False)\n",
    "FTNT_lr1  = xr.open_dataarray(f'{path_prace}/TOA/TOM_lr1.nc', decode_times=False)\n",
    "FTNT_hq   = xr.open_dataarray(f'{path_prace}/TOA/TOM_hq.nc' , decode_times=False)\n",
    "FTNT_lq   = xr.open_dataarray(f'{path_prace}/TOA/TOM_lq.nc' , decode_times=False)\n",
    "FTNT_ld   = xr.open_dataarray(f'{path_prace}/TOA/TOM_ld.nc' , decode_times=False)"
   ]
  },
  {
   "cell_type": "markdown",
   "metadata": {},
   "source": [
    "## CESM response plot"
   ]
  },
  {
   "cell_type": "markdown",
   "metadata": {},
   "source": [
    "## CESM ECS/TCR ; Gregory plot"
   ]
  },
  {
   "cell_type": "code",
   "execution_count": null,
   "metadata": {},
   "outputs": [],
   "source": [
    "# transient climate sensitivity around year 2078\n",
    "print((gmst_rcp.isel(time=slice(12*67,12*87)).mean('time')-GMST_h200).values)\n",
    "print((gmst_lr1.isel(time=slice(12*67,12*87)).mean('time')-GMST_l500).values)\n"
   ]
  },
  {
   "cell_type": "code",
   "execution_count": null,
   "metadata": {
    "tags": []
   },
   "outputs": [],
   "source": [
    "lam, Delta, sq, p20 = r'$\\lambda$', r'$\\Delta$', r'$^2$', r'$_{20+}$'\n",
    "f, ax = plt.subplots(1, 2, figsize=(6.4,3), sharey=True, constrained_layout=True)\n",
    "ax[0].set_title(r'HR-CESM 4$\\times$CO$_2$')\n",
    "ax[0].set_xlabel(f'{Delta}GMST [K]')\n",
    "ax[0].set_ylabel(f'TOA [W/m{sq}]')\n",
    "ax[1].set_title(r'LR-CESM 4$\\times$CO$_2$')\n",
    "ax[1].set_xlabel(f'{Delta}GMST [K]')\n",
    "for i in range(3):\n",
    "    ax_ = [ax[0], ax[1], ax[1]][i]\n",
    "    (c1,c2) = [('C0','C1'),('C2','C3'),('C0','C1')][i]\n",
    "    GMST = [gmst_hq, gmst_ld, gmst_lq][i].rolling(time=12).mean()[11::12]-[GMST_h200, GMST_l500, GMST_l1200][i]\n",
    "    TOA = [FTNT_hq, FTNT_ld, FTNT_lq][i]/A_Earth\n",
    "    ax_.axhline(0, c='k', lw=.5)\n",
    "    ax_.scatter(GMST, TOA, s=5)\n",
    "    m, b = np.polyfit(GMST, TOA, 1)\n",
    "    ax_.plot([0, -b/m], [b,0], c=c1, lw=.8)\n",
    "#     ax_.text(.2,.9, f'{lam} = {-m:3.2f} W/m{sq}/K', transform=ax_.transAxes, c=c1)\n",
    "    ax_.text(.5,[.8,.55,.8][i]+.1, f'ECS = {-b/m/[2,1,2][i]:3.2f} K', transform=ax_.transAxes, c=c1)\n",
    "    print(f'{lam} = {-m:3.2f} W/m{sq}/K        ECS = {-b/m/[2,1,2][i]:3.2f} degC')\n",
    "    \n",
    "    m, b = np.polyfit(GMST[20:], TOA[20:], 1)\n",
    "    ax_.plot([0, -b/m], [b,0], c=c2, lw=.8)\n",
    "#     ax_.text(0.05,.25, f'only year 20+', transform=ax_.transAxes, c=c2)\n",
    "#     ax_.text(0.05,.15, f'{lam} = {-m:3.2f} W/m{sq}/K', transform=ax_.transAxes, c=c2)\n",
    "    ax_.text(0.5,[.7,.45,.7][i]+.1, f'ECS{p20} = {-b/m/[2,1,2][i]:3.2f} K', transform=ax_.transAxes, c=c2)\n",
    "    print(f'{lam}_20 = {-m:3.2f} W/m{sq}/K     ECS_20 = {-b/m/[2,1,2][i]:3.2f} degC')\n",
    "    print('')\n",
    "    ax_.set_xlim((0,-b/m+.5))\n",
    "    ax_.set_ylim((0,9))\n",
    "    plt.savefig(f'{path_results}/ECS/Gregory_plots')\n",
    "    plt.savefig(f'{path_results}/thesis/62_Gregory_plots.eps')"
   ]
  },
  {
   "cell_type": "code",
   "execution_count": null,
   "metadata": {},
   "outputs": [],
   "source": [
    "plt.figure(figsize=(6.4,2))\n",
    "x = .7\n",
    "plt.text(x,  0, 'IPCC AR5'                , va='center')\n",
    "plt.text(x, -1, 'Sherwood et al. (2020)'  , va='center')\n",
    "plt.text(x, -2, 'Meehl et al. (2011)'     , va='center')\n",
    "plt.text(x, -3, r'LR-CESM 4$\\times$CO$_2$', va='center')\n",
    "plt.text(x, -4, r'HR-CESM 4$\\times$CO$_2$', va='center')\n",
    "plt.text(.5,-3, 'CESM', rotation=90, va='center')\n",
    "plt.plot([x-1,5],[-1.5,-1.5], c='grey', lw=.5, clip_on = False)\n",
    "plt.scatter(3, 0)\n",
    "plt.errorbar(3, 0, xerr=1.5)\n",
    "plt.errorbar(3.25, -1, xerr=1.3/2)\n",
    "plt.scatter(4.1, -2)\n",
    "plt.scatter(3.5, -3)\n",
    "plt.scatter(3.5, -4)\n",
    "plt.yticks([])\n",
    "plt.xlabel('ECS estimates  [K]')\n",
    "plt.xlim((1.4,4.6))\n",
    "plt.ylim((-4.5,.5))\n",
    "plt.gca().spines['right'].set_visible(False)\n",
    "plt.gca().spines['left'].set_visible(False)\n",
    "plt.gca().xaxis.set_label_position('top')\n",
    "plt.gca().tick_params(axis=\"x\", bottom=True, top=True, labelbottom=False, labeltop=True)\n",
    "# plt.gca().spines['top'].set_visible(False)"
   ]
  },
  {
   "cell_type": "markdown",
   "metadata": {},
   "source": [
    "### surface temperature trend\n",
    "originally in `GMST.ipynb`"
   ]
  },
  {
   "cell_type": "code",
   "execution_count": null,
   "metadata": {},
   "outputs": [],
   "source": [
    "%%time\n",
    "kw = {'combine':'nested', 'concat_dim':'time', 'decode_times':False}\n",
    "T_rcp = xr.open_mfdataset(f'{path_prace}/rcp/atm_yrly_T_T850_U_V_2*.nc', **kw)['T'][:100,-1,:,:]\n",
    "T_lr1 = xr.open_mfdataset(f'{path_prace}/lr1/atm_yrly_T_T850_U_V_2*.nc', **kw)['T'][:100,-1,:,:]\n",
    "T_hq  = xr.open_mfdataset(f'{path_prace}/hq/atm_yrly_T_T850_U_V_2*.nc' , **kw)['T'][:,-1,:,:]\n",
    "T_lq  = xr.open_mfdataset(f'{path_prace}/lq/atm_yrly_T_T850_U_V_2*.nc' , **kw)['T'][:51,-1,:,:]\n",
    "\n",
    "T_rcp_diff = T_rcp.isel(time=slice(-11,-1)).mean('time')-T_rcp.isel(time=slice(0,10)).mean('time')\n",
    "T_lr1_diff = T_lr1.isel(time=slice(-11,-1)).mean('time')-T_lr1.isel(time=slice(0,10)).mean('time')\n",
    "T_hq_diff  = T_hq .isel(time=slice(-11,-1)).mean('time')-T_hq .isel(time=slice(0,10)).mean('time')\n",
    "T_lq_diff  = T_lq .isel(time=slice(-11,-1)).mean('time')-T_lq .isel(time=slice(0,10)).mean('time')\n",
    "\n",
    "T_rcp_trend = (xr_2D_trends(T_rcp)*100*365)\n",
    "T_lr1_trend = (xr_2D_trends(T_lr1)*100*365)\n",
    "T_hq_trend  = (xr_2D_trends(T_hq )*100*365)\n",
    "T_lq_trend  = (xr_2D_trends(T_lq )*100*365)"
   ]
  },
  {
   "cell_type": "code",
   "execution_count": null,
   "metadata": {},
   "outputs": [],
   "source": [
    "from xr_regression import xr_2D_trends\n",
    "import xesmf as xe"
   ]
  },
  {
   "cell_type": "code",
   "execution_count": null,
   "metadata": {},
   "outputs": [],
   "source": [
    "regridder = xe.Regridder(T_rcp, T_lr1, 'bilinear')"
   ]
  },
  {
   "cell_type": "markdown",
   "metadata": {},
   "source": [
    "#### maps of SAT trends / difference"
   ]
  },
  {
   "cell_type": "code",
   "execution_count": null,
   "metadata": {},
   "outputs": [],
   "source": [
    "(regridder(T_rcp_diff) - T_lr1_diff).plot()"
   ]
  },
  {
   "cell_type": "code",
   "execution_count": null,
   "metadata": {},
   "outputs": [],
   "source": [
    "X1, Y1 = np.meshgrid(T_rcp.lon, T_rcp.lat)\n",
    "X2, Y2 = np.meshgrid(T_lr1.lon, T_lr1.lat)"
   ]
  },
  {
   "cell_type": "code",
   "execution_count": null,
   "metadata": {},
   "outputs": [],
   "source": [
    "def comparison_maps(xa_list, kw1, kw2, label1=None, label2=None):\n",
    "    \"\"\" makse 3x2 maps comparing HIGH/LOW RCP/4xCO2 runs\"\"\"\n",
    "    f = plt.figure(figsize=(6.4,5.5))\n",
    "    for i in range(3):\n",
    "        for j in range(2):\n",
    "            xa = xa_list[j][i]\n",
    "            ax = f.add_axes([.04+.48*j, .68-i*.28, .47,.27], projection=ccrs.PlateCarree())\n",
    "            if j==0:  ax.text(-.07,.5, ['HIGH','LOW','HIGH-LOW'][i], transform=ax.transAxes, rotation=90, va='center')\n",
    "            if i==0:  ax.set_title(['RCP', '4xCO2'][j])\n",
    "\n",
    "            if i<2:  kw = kw1\n",
    "            else:    kw = kw2\n",
    "\n",
    "            if i==0: X, Y = X1, Y1\n",
    "            else:    X, Y = X2, Y2\n",
    "            im = ax.pcolormesh(X, Y, xa, **kw)\n",
    "            ax.coastlines()\n",
    "            \n",
    "            if j==0 and i>0:\n",
    "                ax = f.add_axes([.08+.48*(i-1), .08, .39,.02])\n",
    "                plt.colorbar(im, cax=ax, orientation='horizontal', label=[0,label1, label2][i])\n",
    "    return\n",
    "\n",
    "xa_list = [[T_rcp_diff, T_lr1_diff, regridder(T_rcp_diff) - T_lr1_diff],\n",
    "           [T_hq_diff, T_lq_diff, regridder(T_hq_diff) - T_lq_diff]]\n",
    "kw1 = {'vmin':-12, 'vmax':12, 'cmap':'cmo.balance'}\n",
    "kw2 = {'vmin':-5, 'vmax':5, 'cmap':'cmo.curl'}\n",
    "label = 'temperature difference [K]'\n",
    "comparison_maps(xa_list, kw1, kw2, label, label)\n",
    "\n",
    "xa_list = [[T_rcp_trend, T_lr1_trend, regridder(T_rcp_trend) - T_lr1_trend],\n",
    "           [T_hq_trend, T_lq_trend, regridder(T_hq_trend) - T_lq_trend]]\n",
    "kw1 = {'vmin':-15, 'vmax':15, 'cmap':'cmo.balance'}\n",
    "kw2 = {'vmin':-5, 'vmax':5, 'cmap':'cmo.curl'}\n",
    "label = 'temperature trend [K/100yr]'\n",
    "comparison_maps(xa_list, kw1, kw2, label, label)"
   ]
  },
  {
   "cell_type": "markdown",
   "metadata": {},
   "source": [
    "AMOC collapses in `lq`?"
   ]
  },
  {
   "cell_type": "code",
   "execution_count": null,
   "metadata": {},
   "outputs": [],
   "source": [
    "%%time\n",
    "(xr_2D_trends(xr.open_mfdataset(f'{path_prace}/lq/atm_yrly_T_T850_U_V_2*.nc', **kw)['T'][:,-1,:,:])*100*365).plot(label='SAT trend [K/100yr]')\n",
    "plt.title('SAT trend low res quadrupling')"
   ]
  },
  {
   "cell_type": "markdown",
   "metadata": {},
   "source": [
    "### AMOC"
   ]
  },
  {
   "cell_type": "code",
   "execution_count": null,
   "metadata": {},
   "outputs": [],
   "source": []
  },
  {
   "cell_type": "code",
   "execution_count": null,
   "metadata": {},
   "outputs": [],
   "source": [
    "AMOC_rcp = xr.open_dataarray(f'{path_results}/MOC/AMOC_max_rcp.nc', decode_times=False)\n",
    "AMOC_lr1 = xr.open_dataarray(f'{path_results}/MOC/AMOC_max_lr1.nc', decode_times=False)\n",
    "AMOC_hq  = xr.open_dataarray(f'{path_results}/MOC/AMOC_max_hq.nc' , decode_times=False)\n",
    "AMOC_lq  = xr.open_dataarray(f'{path_results}/MOC/AMOC_max_lq.nc' , decode_times=False)\n",
    "plt.figure(figsize=(6.4,4))\n",
    "plt.plot(AMOC_rcp.time/365, AMOC_rcp.rolling(time=12).mean(), label='HIGH RCP')\n",
    "plt.plot(AMOC_lr1.time/365, AMOC_lr1.rolling(time=12).mean(), label='LOW RCP')\n",
    "plt.plot(AMOC_hq .time/365, AMOC_hq .rolling(time=12).mean(), label='HIGH 4xCO2')\n",
    "plt.plot(AMOC_lq .time/365, AMOC_lq .rolling(time=12).mean(), label='LOW 4xCO2')\n",
    "plt.ylabel('AMOC [Sv]')\n",
    "plt.xticks(np.arange(2000,2101,10))\n",
    "plt.xlabel('time [years]')\n",
    "plt.legend()\n",
    "plt.text(.01,.01, '12 month running mean', c='grey', transform=plt.gca().transAxes)"
   ]
  },
  {
   "cell_type": "markdown",
   "metadata": {},
   "source": [
    "#### meridional SAT trend"
   ]
  },
  {
   "cell_type": "code",
   "execution_count": null,
   "metadata": {},
   "outputs": [],
   "source": [
    "T_rcp_low = regridder(T_rcp).assign_coords({'time':T_lr1.time})\n",
    "T_hq_low  = regridder(T_hq) .assign_coords({'time':T_lq .time})\n",
    "T_rcp_zm = (T_rcp.mean('lon')-T_rcp.isel(time=slice(0,10)).mean(['lon','time'])).T\n",
    "T_lr1_zm = (T_lr1.mean('lon')-T_lr1.isel(time=slice(0,10)).mean(['lon','time'])).T\n",
    "T_hq_zm  = (T_hq .mean('lon')-T_hq .isel(time=slice(0,10)).mean(['lon','time'])).T\n",
    "T_lq_zm  = (T_lq .mean('lon')-T_lq .isel(time=slice(0,10)).mean(['lon','time'])).T\n",
    "T_rdiff_zm = ((T_rcp_low-T_lr1).mean('lon')-(T_rcp_low-T_lr1).isel(time=slice(0,10)).mean(['lon','time'])).T\n",
    "T_qdiff_zm = ((T_hq_low -T_lq ).mean('lon')-(T_hq_low -T_lq ).isel(time=slice(0,10)).mean(['lon','time'])).T"
   ]
  },
  {
   "cell_type": "code",
   "execution_count": null,
   "metadata": {},
   "outputs": [],
   "source": [
    "%%time\n",
    "#21.1 s\n",
    "f, ax = plt.subplots(3, 2, figsize=(6.4,6), sharex='col', sharey=True,\n",
    "                     gridspec_kw={'width_ratios':[2,1]}, constrained_layout=True)\n",
    "kw1 = {'vmin':-8, 'vmax':8, 'cmap':'cmo.balance'}\n",
    "kw2 = {'vmin':-5, 'vmax':5, 'cmap':'cmo.curl'}\n",
    "X1, Y1 = np.meshgrid(T_rcp.time/365+2000, T_rcp.lat)\n",
    "X2, Y2 = np.meshgrid(T_lr1.time/365+2000, T_lr1.lat)\n",
    "X3, Y3 = np.meshgrid(T_hq .time/365+2000, T_hq .lat)\n",
    "X4, Y4 = np.meshgrid(T_lq .time/365+2000, T_lq .lat)\n",
    "\n",
    "ax[0,0].pcolormesh(X1, Y1, T_rcp_zm  , **kw1)\n",
    "ax[0,1].pcolormesh(X3, Y3, T_hq_zm   , **kw1)\n",
    "ax[1,0].pcolormesh(X2, Y2, T_lr1_zm  , **kw1)\n",
    "ax[1,1].pcolormesh(X4, Y4, T_lq_zm   , **kw1)\n",
    "ax[2,0].pcolormesh(X2, Y2, T_rdiff_zm, **kw2)\n",
    "ax[2,1].pcolormesh(X4, Y4, T_qdiff_zm, **kw2)\n",
    "ax[0,0].set_ylabel('HIGH')\n",
    "ax[1,0].set_ylabel('LOW')\n",
    "ax[2,0].set_ylabel('HIGH - LOW')\n",
    "ax[0,0].set_title('RCP')\n",
    "ax[0,1].set_title('4xCO2')\n",
    "ax[2,0].set_xlim(2000,2100)\n",
    "ax[2,1].set_xlim(2000,2050)\n"
   ]
  },
  {
   "cell_type": "code",
   "execution_count": null,
   "metadata": {},
   "outputs": [],
   "source": [
    "plt.plot(T_rcp.lat, xr_linear_trend(T_rcp.mean('lon'))*365*100, ls='-' , c='C0', label='HHIGH RCP'  )\n",
    "plt.plot(T_lr1.lat, xr_linear_trend(T_lr1.mean('lon'))*365*100, ls='--', c='C0', label='LOW RCP'   )\n",
    "plt.plot(T_hq .lat, xr_linear_trend(T_hq .mean('lon'))*365*100, ls='-' , c='C1', label='HIGH 4xCO2')\n",
    "plt.plot(T_lq .lat, xr_linear_trend(T_lq .mean('lon'))*365*100, ls='--', c='C1', label='LOW 4xCO2' )\n",
    "plt.legend(ncol=2)\n",
    "plt.ylabel('linear trends [K/100yr]')\n",
    "plt.xlabel('latitude')"
   ]
  },
  {
   "cell_type": "code",
   "execution_count": null,
   "metadata": {},
   "outputs": [],
   "source": [
    "plt.plot(T_rcp.lat, (T_rcp.isel(time=slice(-11,-1)).mean('time')-T_rcp.isel(time=slice(0,10)).mean('time')).mean('lon'), ls='-' , c='C0', label='HIGH RCP'  )\n",
    "plt.plot(T_lr1.lat, (T_lr1.isel(time=slice(-11,-1)).mean('time')-T_lr1.isel(time=slice(0,10)).mean('time')).mean('lon'), ls='--', c='C0', label='LOW RCP'   )\n",
    "plt.plot(T_hq .lat, (T_hq .isel(time=slice(-11,-1)).mean('time')-T_hq .isel(time=slice(0,10)).mean('time')).mean('lon'), ls='-' , c='C1', label='HIGH 4xCO2')\n",
    "plt.plot(T_lq .lat, (T_lq .isel(time=slice(-11,-1)).mean('time')-T_lq .isel(time=slice(0,10)).mean('time')).mean('lon'), ls='--', c='C1', label='LOW 4xCO2' )\n",
    "plt.legend(ncol=2)\n",
    "plt.ylabel('(last decade)-(first decade) [K]')\n",
    "plt.xlabel('latitude')"
   ]
  },
  {
   "cell_type": "markdown",
   "metadata": {},
   "source": [
    "The LOW 4xCO2 Arctic warms dramatically despite near AMOC collapse (much steeper gradient), that could mean, atmospheric heat flux much greater, or local feedbacks much stronger."
   ]
  },
  {
   "cell_type": "markdown",
   "metadata": {},
   "source": [
    "## mean, trend, variability"
   ]
  },
  {
   "cell_type": "markdown",
   "metadata": {},
   "source": [
    "## OHC patterns see `CESM_104_vs_112_OHC.ipynb`"
   ]
  },
  {
   "cell_type": "code",
   "execution_count": null,
   "metadata": {},
   "outputs": [],
   "source": []
  },
  {
   "cell_type": "code",
   "execution_count": null,
   "metadata": {},
   "outputs": [],
   "source": []
  },
  {
   "cell_type": "code",
   "execution_count": null,
   "metadata": {},
   "outputs": [],
   "source": []
  },
  {
   "cell_type": "code",
   "execution_count": null,
   "metadata": {},
   "outputs": [],
   "source": [
    "# # data to Robbin\n",
    "# a = (gmst_rcp.rolling(time=12, center=True).mean()[6:12*100+6:12]).assign_coords(time=np.arange(2000,2100))\n",
    "# b = (gmst_lr1.rolling(time=12, center=True).mean()[6:12*100+6:12]).assign_coords(time=np.arange(2000,2100))\n",
    "# c = (gmst_hq .rolling(time=12, center=True).mean()[6:12*50 +6:12]).assign_coords(time=np.arange(2000,2050))\n",
    "# d = (gmst_lq .rolling(time=12, center=True).mean()[6:12*50 +6:12]).assign_coords(time=np.arange(2000,2050))\n",
    "# e = FTNT_rcp[:100].assign_coords(time=np.arange(2000,2100))\n",
    "# f = FTNT_lr1[:100].assign_coords(time=np.arange(2000,2100))\n",
    "# g = FTNT_hq [:50 ].assign_coords(time=np.arange(2000,2050))\n",
    "# h = FTNT_lq [:50 ].assign_coords(time=np.arange(2000,2050))\n",
    "\n",
    "# a.name = 'GMST HIGH RCP'\n",
    "# b.name = 'GMST LOW RCP'\n",
    "# c.name = 'GMST HIGH 4xCO2'\n",
    "# d.name = 'GMST LOW 4xCO2'\n",
    "# e.name = 'TOA HIGH RCP'\n",
    "# f.name = 'TOA LOW RCP'\n",
    "# g.name = 'TOA HIGH 4xCO2'\n",
    "# h.name = 'TOA LOW 4xCO2'\n",
    "\n",
    "# dsl = [a, b, c, d, e, f, g, h]\n",
    "\n",
    "# xr.merge(dsl).to_netcdf(f'{path_results}/data_GMST_TOA_CESM.nc')\n",
    "# ds = xr.open_dataset(f'{path_results}/data_GMST_TOA_CESM.nc', decode_times=False)"
   ]
  },
  {
   "cell_type": "code",
   "execution_count": null,
   "metadata": {},
   "outputs": [],
   "source": [
    "f = plt.figure(figsize=(6.4,6))"
   ]
  },
  {
   "cell_type": "code",
   "execution_count": null,
   "metadata": {},
   "outputs": [],
   "source": []
  }
 ],
 "metadata": {
  "kernelspec": {
   "display_name": "Python 3",
   "language": "python",
   "name": "python3"
  },
  "language_info": {
   "codemirror_mode": {
    "name": "ipython",
    "version": 3
   },
   "file_extension": ".py",
   "mimetype": "text/x-python",
   "name": "python",
   "nbconvert_exporter": "python",
   "pygments_lexer": "ipython3",
   "version": "3.7.6"
  }
 },
 "nbformat": 4,
 "nbformat_minor": 4
}
