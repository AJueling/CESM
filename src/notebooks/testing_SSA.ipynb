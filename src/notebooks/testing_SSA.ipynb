{
 "cells": [
  {
   "cell_type": "markdown",
   "metadata": {},
   "source": [
    "# SSA tutorial\n",
    "_https://www.kaggle.com/jdarcy/introducing-ssa-for-time-series-decomposition#Decomposing-Time-Series-Data-With-Singular-Spectrum-Analysis_"
   ]
  },
  {
   "cell_type": "code",
   "execution_count": null,
   "metadata": {},
   "outputs": [],
   "source": [
    "import numpy as np\n",
    "from numpy import pi\n",
    "import matplotlib.pyplot as plt\n",
    "import pandas as pd\n",
    "\n",
    "# Fiddle with figure settings here:\n",
    "plt.rcParams['figure.figsize'] = (10,8)\n",
    "plt.rcParams['font.size'] = 14\n",
    "plt.rcParams['image.cmap'] = 'plasma'\n",
    "plt.rcParams['axes.linewidth'] = 2\n",
    "# Set the default colour cycle (in case someone changes it...)\n",
    "from cycler import cycler\n",
    "cols = plt.get_cmap('tab10').colors\n",
    "plt.rcParams['axes.prop_cycle'] = cycler(color=cols)"
   ]
  },
  {
   "cell_type": "code",
   "execution_count": null,
   "metadata": {},
   "outputs": [],
   "source": [
    "N = 200 # The number of time 'moments' in our toy series\n",
    "t = np.arange(0,N)\n",
    "trend = 0.001 * (t - 100)**2\n",
    "p1, p2 = 20, 30\n",
    "periodic1 = 2 * np.sin(2*pi*t/p1)\n",
    "periodic2 = 0.75 * np.sin(2*pi*t/p2)\n",
    "\n",
    "np.random.seed(123) # So we generate the same noisy time series every time.\n",
    "noise = 2 * (np.random.rand(N) - 0.5)\n",
    "F = trend + periodic1 + periodic2 + noise\n",
    "\n",
    "# Plot everything\n",
    "plt.plot(t, F, lw=2.5)\n",
    "plt.plot(t, trend, alpha=0.75)\n",
    "plt.plot(t, periodic1, alpha=0.75)\n",
    "plt.plot(t, periodic2, alpha=0.75)\n",
    "plt.plot(t, noise, alpha=0.5)\n",
    "plt.legend([\"Toy Series ($F$)\", \"Trend\", \"Periodic #1\", \"Periodic #2\", \"Noise\"])\n",
    "plt.xlabel(\"$t$\")\n",
    "plt.ylabel(\"$F(t)$\")\n",
    "plt.title(\"The Toy Time Series and its Components\");\n"
   ]
  },
  {
   "cell_type": "code",
   "execution_count": null,
   "metadata": {},
   "outputs": [],
   "source": [
    "L = 70 # The window length.\n",
    "K = N - L + 1 # The number of columns in the trajectory matrix.\n",
    "# Create the trajectory matrix by pulling the relevant subseries of F, and stacking them as columns.\n",
    "X = np.column_stack([F[i:i+L] for i in range(0,K)])\n",
    "# Note: the i+L above gives us up to i+L-1, as numpy array upper bounds are exclusive. \n",
    "\n",
    "ax = plt.matshow(X)\n",
    "plt.xlabel(\"$L$-Lagged Vectors\")\n",
    "plt.ylabel(\"$K$-Lagged Vectors\")\n",
    "plt.colorbar(ax.colorbar, fraction=0.025)\n",
    "ax.colorbar.set_label(\"$F(t)$\")\n",
    "plt.title(\"The Trajectory Matrix for the Toy Time Series\");"
   ]
  },
  {
   "cell_type": "code",
   "execution_count": null,
   "metadata": {},
   "outputs": [],
   "source": [
    "d = np.linalg.matrix_rank(X) # The intrinsic dimensionality of the trajectory space.\n",
    "\n",
    "# For those interested in how to code up an SVD calculation, Numerical Recipes in Fortran 77\n",
    "# has you covered: http://www.aip.de/groups/soe/local/numres/bookfpdf/f2-6.pdf\n",
    "# Thankfully, we'll leave the actual SVD calculation to NumPy.\n",
    "U, Sigma, V = np.linalg.svd(X)\n",
    "V = V.T # Note: the SVD routine returns V^T, not V, so I'll tranpose it back here. This may seem pointless, \n",
    "# but I'll treat the Python representation of V consistently with the mathematical notation in this notebook.\n",
    "\n",
    "# Calculate the elementary matrices of X, storing them in a multidimensional NumPy array.\n",
    "# This requires calculating sigma_i * U_i * (V_i)^T for each i, or sigma_i * outer_product(U_i, V_i). \n",
    "# Note that Sigma is a 1D array of singular values, instead of the full L x K diagonal matrix.\n",
    "X_elem = np.array( [Sigma[i] * np.outer(U[:,i], V[:,i]) for i in range(0,d)] )\n",
    "\n",
    "# Quick sanity check: the sum of all elementary matrices in X_elm should be equal to X, to within a \n",
    "# *very small* tolerance:\n",
    "if not np.allclose(X, X_elem.sum(axis=0), atol=1e-10):\n",
    "    print(\"WARNING: The sum of X's elementary matrices is not equal to X!\")"
   ]
  },
  {
   "cell_type": "code",
   "execution_count": null,
   "metadata": {},
   "outputs": [],
   "source": [
    "def plot_2d(m, title=\"\"):\n",
    "    plt.imshow(m)\n",
    "    plt.xticks([])\n",
    "    plt.yticks([])\n",
    "    plt.title(title)\n",
    "\n",
    "n = min(12, d) # In case d is less than 12 for the toy series. Say, if we were to exclude the noise component...\n",
    "for i in range(n):\n",
    "    plt.subplot(4,4,i+1)\n",
    "    title = \"$\\mathbf{X}_{\" + str(i) + \"}$\"\n",
    "    plot_2d(X_elem[i], title)\n",
    "plt.tight_layout()"
   ]
  },
  {
   "cell_type": "code",
   "execution_count": null,
   "metadata": {},
   "outputs": [],
   "source": [
    "sigma_sumsq = (Sigma**2).sum()\n",
    "fig, ax = plt.subplots(1, 2, figsize=(14,5))\n",
    "ax[0].plot(Sigma**2 / sigma_sumsq * 100, lw=2.5)\n",
    "ax[0].set_xlim(0,11)\n",
    "ax[0].set_title(\"Relative Contribution of $\\mathbf{X}_i$ to Trajectory Matrix\")\n",
    "ax[0].set_xlabel(\"$i$\")\n",
    "ax[0].set_ylabel(\"Contribution (%)\")\n",
    "ax[1].plot((Sigma**2).cumsum() / sigma_sumsq * 100, lw=2.5)\n",
    "ax[1].set_xlim(0,11)\n",
    "ax[1].set_title(\"Cumulative Contribution of $\\mathbf{X}_i$ to Trajectory Matrix\")\n",
    "ax[1].set_xlabel(\"$i$\")\n",
    "ax[1].set_ylabel(\"Contribution (%)\");"
   ]
  },
  {
   "cell_type": "code",
   "execution_count": null,
   "metadata": {},
   "outputs": [],
   "source": [
    "def Hankelise(X):\n",
    "    \"\"\"\n",
    "    Hankelises the matrix X, returning H(X).\n",
    "    \"\"\"\n",
    "    L, K = X.shape\n",
    "    transpose = False\n",
    "    if L > K:\n",
    "        # The Hankelisation below only works for matrices where L < K.\n",
    "        # To Hankelise a L > K matrix, first swap L and K and tranpose X.\n",
    "        # Set flag for HX to be transposed before returning. \n",
    "        X = X.T\n",
    "        L, K = K, L\n",
    "        transpose = True\n",
    "\n",
    "    HX = np.zeros((L,K))\n",
    "    \n",
    "    # I know this isn't very efficient...\n",
    "    for m in range(L):\n",
    "        for n in range(K):\n",
    "            s = m+n\n",
    "            if 0 <= s <= L-1:\n",
    "                for l in range(0,s+1):\n",
    "                    HX[m,n] += 1/(s+1)*X[l, s-l]    \n",
    "            elif L <= s <= K-1:\n",
    "                for l in range(0,L-1):\n",
    "                    HX[m,n] += 1/(L-1)*X[l, s-l]\n",
    "            elif K <= s <= K+L-2:\n",
    "                for l in range(s-K+1,L):\n",
    "                    HX[m,n] += 1/(K+L-s-1)*X[l, s-l]\n",
    "    if transpose:\n",
    "        return HX.T\n",
    "    else:\n",
    "        return HX"
   ]
  },
  {
   "cell_type": "code",
   "execution_count": null,
   "metadata": {},
   "outputs": [],
   "source": [
    "n = min(d, 12)\n",
    "for j in range(0,n):\n",
    "    plt.subplot(4,4,j+1)\n",
    "    title = r\"$\\tilde{\\mathbf{X}}_{\" + str(j) + \"}$\"\n",
    "    plot_2d(Hankelise(X_elem[j]), title)\n",
    "plt.tight_layout() "
   ]
  },
  {
   "cell_type": "code",
   "execution_count": null,
   "metadata": {},
   "outputs": [],
   "source": [
    "def X_to_TS(X_i):\n",
    "    \"\"\"Averages the anti-diagonals of the given elementary matrix, X_i, and returns a time series.\"\"\"\n",
    "    # Reverse the column ordering of X_i\n",
    "    X_rev = X_i[::-1]\n",
    "    # Full credit to Mark Tolonen at https://stackoverflow.com/a/6313414 for this one:\n",
    "    return np.array([X_rev.diagonal(i).mean() for i in range(-X_i.shape[0]+1, X_i.shape[1])])"
   ]
  },
  {
   "cell_type": "code",
   "execution_count": null,
   "metadata": {},
   "outputs": [],
   "source": [
    "n = min(12,d) # In case of noiseless time series with d < 12.\n",
    "\n",
    "# Fiddle with colour cycle - need more colours!\n",
    "fig = plt.subplot()\n",
    "color_cycle = cycler(color=plt.get_cmap('tab20').colors)\n",
    "fig.axes.set_prop_cycle(color_cycle)\n",
    "\n",
    "# Convert elementary matrices straight to a time series - no need to construct any Hankel matrices.\n",
    "for i in range(n):\n",
    "    F_i = X_to_TS(X_elem[i])\n",
    "    fig.axes.plot(t, F_i, lw=2)\n",
    "\n",
    "fig.axes.plot(t, F, alpha=1, lw=1)\n",
    "fig.set_xlabel(\"$t$\")\n",
    "fig.set_ylabel(r\"$\\tilde{F}_i(t)$\")\n",
    "legend = [r\"$\\tilde{F}_{%s}$\" %i for i in range(n)] + [\"$F$\"]\n",
    "fig.set_title(\"The First 12 Components of the Toy Time Series\")\n",
    "fig.legend(legend, loc=(1.05,0.1));"
   ]
  },
  {
   "cell_type": "code",
   "execution_count": null,
   "metadata": {},
   "outputs": [],
   "source": [
    "# Assemble the grouped components of the time series.\n",
    "F_trend = X_to_TS(X_elem[[0,1,6]].sum(axis=0))\n",
    "F_periodic1 = X_to_TS(X_elem[[2,3]].sum(axis=0))\n",
    "F_periodic2 = X_to_TS(X_elem[[4,5]].sum(axis=0))\n",
    "F_noise = X_to_TS(X_elem[7:].sum(axis=0))\n",
    "\n",
    "# Plot the toy time series and its separated components on a single plot.\n",
    "plt.plot(t,F, lw=1)\n",
    "plt.plot(t, F_trend)\n",
    "plt.plot(t, F_periodic1)\n",
    "plt.plot(t, F_periodic2)\n",
    "plt.plot(t, F_noise, alpha=0.5)\n",
    "plt.xlabel(\"$t$\")\n",
    "plt.ylabel(r\"$\\tilde{F}^{(j)}$\")\n",
    "groups = [\"trend\", \"periodic 1\", \"periodic 2\", \"noise\"]\n",
    "legend = [\"$F$\"] + [r\"$\\tilde{F}^{(\\mathrm{%s})}$\"%group for group in groups]\n",
    "plt.legend(legend)\n",
    "plt.title(\"Grouped Time Series Components\")\n",
    "plt.show()\n",
    "\n",
    "# A list of tuples so we can create the next plot with a loop.\n",
    "components = [(\"Trend\", trend, F_trend), \n",
    "              (\"Periodic 1\", periodic1, F_periodic1),\n",
    "              (\"Periodic 2\", periodic2, F_periodic2),\n",
    "              (\"Noise\", noise, F_noise)]\n",
    "\n",
    "# Plot the separated components and original components together.\n",
    "fig = plt.figure()\n",
    "n=1\n",
    "for name, orig_comp, ssa_comp in components:\n",
    "    ax = fig.add_subplot(2,2,n)\n",
    "    ax.plot(t, orig_comp, linestyle=\"--\", lw=2.5, alpha=0.7)\n",
    "    ax.plot(t, ssa_comp)\n",
    "    ax.set_title(name, fontsize=16)\n",
    "    ax.set_xticks([])\n",
    "    n += 1\n",
    "\n",
    "fig.tight_layout()"
   ]
  },
  {
   "cell_type": "code",
   "execution_count": null,
   "metadata": {},
   "outputs": [],
   "source": [
    "# Get the weights w first, as they'll be reused a lot.\n",
    "# Note: list(np.arange(L)+1) returns the sequence 1 to L (first line in definition of w), \n",
    "# [L]*(K-L-1) repeats L K-L-1 times (second line in w definition)\n",
    "# list(np.arange(L)+1)[::-1] reverses the first list (equivalent to the third line)\n",
    "# Add all the lists together and we have our array of weights.\n",
    "w = np.array(list(np.arange(L)+1) + [L]*(K-L-1) + list(np.arange(L)+1)[::-1])\n",
    "\n",
    "# Get all the components of the toy series, store them as columns in F_elem array.\n",
    "F_elem = np.array([X_to_TS(X_elem[i]) for i in range(d)])\n",
    "\n",
    "# Calculate the individual weighted norms, ||F_i||_w, first, then take inverse square-root so we don't have to later.\n",
    "F_wnorms = np.array([w.dot(F_elem[i]**2) for i in range(d)])\n",
    "F_wnorms = F_wnorms**-0.5\n",
    "\n",
    "# Calculate the w-corr matrix. The diagonal elements are equal to 1, so we can start with an identity matrix\n",
    "# and iterate over all pairs of i's and j's (i != j), noting that Wij = Wji.\n",
    "Wcorr = np.identity(d)\n",
    "for i in range(d):\n",
    "    for j in range(i+1,d):\n",
    "        Wcorr[i,j] = abs(w.dot(F_elem[i]*F_elem[j]) * F_wnorms[i] * F_wnorms[j])\n",
    "        Wcorr[j,i] = Wcorr[i,j]"
   ]
  },
  {
   "cell_type": "code",
   "execution_count": null,
   "metadata": {},
   "outputs": [],
   "source": [
    "ax = plt.imshow(Wcorr)\n",
    "plt.xlabel(r\"$\\tilde{F}_i$\")\n",
    "plt.ylabel(r\"$\\tilde{F}_j$\")\n",
    "plt.colorbar(ax.colorbar, fraction=0.045)\n",
    "ax.colorbar.set_label(\"$W_{ij}$\")\n",
    "plt.clim(0,1)\n",
    "plt.title(\"The W-Correlation Matrix for the Toy Time Series\");"
   ]
  },
  {
   "cell_type": "code",
   "execution_count": null,
   "metadata": {},
   "outputs": [],
   "source": [
    "ax = plt.imshow(Wcorr)\n",
    "plt.xlabel(r\"$\\tilde{F}_i$\")\n",
    "plt.ylabel(r\"$\\tilde{F}_j$\")\n",
    "plt.colorbar(ax.colorbar, fraction=0.045)\n",
    "ax.colorbar.set_label(\"$W_{ij}$\")\n",
    "plt.xlim(-0.5,6.5)\n",
    "plt.ylim(6.5,-0.5)\n",
    "plt.clim(0,1)\n",
    "plt.title(r\"W-Correlation for Components 0–6\");"
   ]
  },
  {
   "cell_type": "code",
   "execution_count": null,
   "metadata": {},
   "outputs": [],
   "source": [
    "class SSA(object):\n",
    "    \n",
    "    __supported_types = (pd.Series, np.ndarray, list)\n",
    "    \n",
    "    def __init__(self, tseries, L, save_mem=True):\n",
    "        \"\"\"\n",
    "        Decomposes the given time series with a singular-spectrum analysis. Assumes the values of the time series are\n",
    "        recorded at equal intervals.\n",
    "        \n",
    "        Parameters\n",
    "        ----------\n",
    "        tseries : The original time series, in the form of a Pandas Series, NumPy array or list. \n",
    "        L : The window length. Must be an integer 2 <= L <= N/2, where N is the length of the time series.\n",
    "        save_mem : Conserve memory by not retaining the elementary matrices. Recommended for long time series with\n",
    "            thousands of values. Defaults to True.\n",
    "        \n",
    "        Note: Even if an NumPy array or list is used for the initial time series, all time series returned will be\n",
    "        in the form of a Pandas Series or DataFrame object.\n",
    "        \"\"\"\n",
    "        \n",
    "        # Tedious type-checking for the initial time series\n",
    "        if not isinstance(tseries, self.__supported_types):\n",
    "            raise TypeError(\"Unsupported time series object. Try Pandas Series, NumPy array or list.\")\n",
    "        \n",
    "        # Checks to save us from ourselves\n",
    "        self.N = len(tseries)\n",
    "        if not 2 <= L <= self.N/2:\n",
    "            raise ValueError(\"The window length must be in the interval [2, N/2].\")\n",
    "        \n",
    "        self.L = L\n",
    "        self.orig_TS = pd.Series(tseries)\n",
    "        self.K = self.N - self.L + 1\n",
    "        \n",
    "        # Embed the time series in a trajectory matrix\n",
    "        self.X = np.array([self.orig_TS.values[i:L+i] for i in range(0, self.K)]).T\n",
    "        \n",
    "        # Decompose the trajectory matrix\n",
    "        self.U, self.Sigma, VT = np.linalg.svd(self.X)\n",
    "        self.d = np.linalg.matrix_rank(self.X)\n",
    "        \n",
    "        self.TS_comps = np.zeros((self.N, self.d))\n",
    "        \n",
    "        if not save_mem:\n",
    "            # Construct and save all the elementary matrices\n",
    "            self.X_elem = np.array([ self.Sigma[i]*np.outer(self.U[:,i], VT[i,:]) for i in range(self.d) ])\n",
    "\n",
    "            # Diagonally average the elementary matrices, store them as columns in array.           \n",
    "            for i in range(self.d):\n",
    "                X_rev = self.X_elem[i, ::-1]\n",
    "                self.TS_comps[:,i] = [X_rev.diagonal(j).mean() for j in range(-X_rev.shape[0]+1, X_rev.shape[1])]\n",
    "            \n",
    "            self.V = VT.T\n",
    "        else:\n",
    "            # Reconstruct the elementary matrices without storing them\n",
    "            for i in range(self.d):\n",
    "                X_elem = self.Sigma[i]*np.outer(self.U[:,i], VT[i,:])\n",
    "                X_rev = X_elem[::-1]\n",
    "                self.TS_comps[:,i] = [X_rev.diagonal(j).mean() for j in range(-X_rev.shape[0]+1, X_rev.shape[1])]\n",
    "            \n",
    "            self.X_elem = \"Re-run with save_mem=False to retain the elementary matrices.\"\n",
    "            \n",
    "            # The V array may also be very large under these circumstances, so we won't keep it.\n",
    "            self.V = \"Re-run with save_mem=False to retain the V matrix.\"\n",
    "        \n",
    "        # Calculate the w-correlation matrix.\n",
    "        self.calc_wcorr()\n",
    "            \n",
    "    def components_to_df(self, n=0):\n",
    "        \"\"\"\n",
    "        Returns all the time series components in a single Pandas DataFrame object.\n",
    "        \"\"\"\n",
    "        if n > 0:\n",
    "            n = min(n, self.d)\n",
    "        else:\n",
    "            n = self.d\n",
    "        \n",
    "        # Create list of columns - call them F0, F1, F2, ...\n",
    "        cols = [\"F{}\".format(i) for i in range(n)]\n",
    "        return pd.DataFrame(self.TS_comps[:, :n], columns=cols, index=self.orig_TS.index)\n",
    "            \n",
    "    \n",
    "    def reconstruct(self, indices):\n",
    "        \"\"\"\n",
    "        Reconstructs the time series from its elementary components, using the given indices. Returns a Pandas Series\n",
    "        object with the reconstructed time series.\n",
    "        \n",
    "        Parameters\n",
    "        ----------\n",
    "        indices: An integer, list of integers or slice(n,m) object, representing the elementary components to sum.\n",
    "        \"\"\"\n",
    "        if isinstance(indices, int): indices = [indices]\n",
    "        \n",
    "        ts_vals = self.TS_comps[:,indices].sum(axis=1)\n",
    "        return pd.Series(ts_vals, index=self.orig_TS.index)\n",
    "    \n",
    "    def calc_wcorr(self):\n",
    "        \"\"\"\n",
    "        Calculates the w-correlation matrix for the time series.\n",
    "        \"\"\"\n",
    "             \n",
    "        # Calculate the weights\n",
    "        w = np.array(list(np.arange(self.L)+1) + [self.L]*(self.K-self.L-1) + list(np.arange(self.L)+1)[::-1])\n",
    "        \n",
    "        def w_inner(F_i, F_j):\n",
    "            return w.dot(F_i*F_j)\n",
    "        \n",
    "        # Calculated weighted norms, ||F_i||_w, then invert.\n",
    "        F_wnorms = np.array([w_inner(self.TS_comps[:,i], self.TS_comps[:,i]) for i in range(self.d)])\n",
    "        F_wnorms = F_wnorms**-0.5\n",
    "        \n",
    "        # Calculate Wcorr.\n",
    "        self.Wcorr = np.identity(self.d)\n",
    "        for i in range(self.d):\n",
    "            for j in range(i+1,self.d):\n",
    "                self.Wcorr[i,j] = abs(w_inner(self.TS_comps[:,i], self.TS_comps[:,j]) * F_wnorms[i] * F_wnorms[j])\n",
    "                self.Wcorr[j,i] = self.Wcorr[i,j]\n",
    "    \n",
    "    def plot_wcorr(self, min=None, max=None):\n",
    "        \"\"\"\n",
    "        Plots the w-correlation matrix for the decomposed time series.\n",
    "        \"\"\"\n",
    "        if min is None:\n",
    "            min = 0\n",
    "        if max is None:\n",
    "            max = self.d\n",
    "        \n",
    "        if self.Wcorr is None:\n",
    "            self.calc_wcorr()\n",
    "        \n",
    "        ax = plt.imshow(self.Wcorr)\n",
    "        plt.xlabel(r\"$\\tilde{F}_i$\")\n",
    "        plt.ylabel(r\"$\\tilde{F}_j$\")\n",
    "        plt.colorbar(ax.colorbar, fraction=0.045)\n",
    "        ax.colorbar.set_label(\"$W_{i,j}$\")\n",
    "        plt.clim(0,1)\n",
    "        \n",
    "        # For plotting purposes:\n",
    "        if max == self.d:\n",
    "            max_rnge = self.d-1\n",
    "        else:\n",
    "            max_rnge = max\n",
    "        \n",
    "        plt.xlim(min-0.5, max_rnge+0.5)\n",
    "        plt.ylim(max_rnge+0.5, min-0.5)\n",
    "        \n",
    "\n"
   ]
  },
  {
   "cell_type": "code",
   "execution_count": null,
   "metadata": {},
   "outputs": [],
   "source": [
    "F_ssa_L2 = SSA(F, 2)\n",
    "F_ssa_L2.components_to_df().plot()\n",
    "F_ssa_L2.orig_TS.plot(alpha=0.4)\n",
    "plt.xlabel(\"$t$\")\n",
    "plt.ylabel(r\"$\\tilde{F}_i(t)$\")\n",
    "plt.title(r\"$L=2$ for the Toy Time Series\");"
   ]
  },
  {
   "cell_type": "markdown",
   "metadata": {},
   "source": [
    "# pyMSSA"
   ]
  },
  {
   "cell_type": "code",
   "execution_count": null,
   "metadata": {},
   "outputs": [],
   "source": [
    "from pymssa import MSSA"
   ]
  },
  {
   "cell_type": "code",
   "execution_count": null,
   "metadata": {},
   "outputs": [],
   "source": [
    "mssa = MSSA(n_components=None,\n",
    "            window_size=70,\n",
    "            verbose=True)"
   ]
  },
  {
   "cell_type": "code",
   "execution_count": null,
   "metadata": {},
   "outputs": [],
   "source": [
    "F"
   ]
  },
  {
   "cell_type": "code",
   "execution_count": null,
   "metadata": {},
   "outputs": [],
   "source": [
    "mssa.fit(F)"
   ]
  },
  {
   "cell_type": "code",
   "execution_count": null,
   "metadata": {},
   "outputs": [],
   "source": [
    "np.shape(mssa.components_)"
   ]
  },
  {
   "cell_type": "code",
   "execution_count": null,
   "metadata": {},
   "outputs": [],
   "source": [
    "for i in range(10):\n",
    "    plt.plot(mssa.components_[0,:,i])"
   ]
  },
  {
   "cell_type": "code",
   "execution_count": null,
   "metadata": {},
   "outputs": [],
   "source": [
    "mssa.w_correlation"
   ]
  },
  {
   "cell_type": "code",
   "execution_count": null,
   "metadata": {},
   "outputs": [],
   "source": [
    "total_comps = mssa.components_[0, :, :]"
   ]
  },
  {
   "cell_type": "code",
   "execution_count": null,
   "metadata": {},
   "outputs": [],
   "source": [
    "total_wcorr = mssa.w_correlation(total_comps)"
   ]
  },
  {
   "cell_type": "code",
   "execution_count": null,
   "metadata": {},
   "outputs": [],
   "source": [
    "plt.imshow(total_wcorr)"
   ]
  },
  {
   "cell_type": "markdown",
   "metadata": {},
   "source": [
    "# get it to work with xarray "
   ]
  },
  {
   "cell_type": "code",
   "execution_count": null,
   "metadata": {},
   "outputs": [],
   "source": [
    "import xarray as xr"
   ]
  },
  {
   "cell_type": "code",
   "execution_count": null,
   "metadata": {},
   "outputs": [],
   "source": [
    "da = xr.DataArray(data=F, coords={'time':np.arange(200)}, dims='time')"
   ]
  },
  {
   "cell_type": "code",
   "execution_count": null,
   "metadata": {},
   "outputs": [],
   "source": [
    "da.plot()"
   ]
  },
  {
   "cell_type": "code",
   "execution_count": null,
   "metadata": {},
   "outputs": [],
   "source": [
    "mssa2 = MSSA()"
   ]
  },
  {
   "cell_type": "code",
   "execution_count": null,
   "metadata": {},
   "outputs": [],
   "source": [
    "mssa2.fit(da)"
   ]
  },
  {
   "cell_type": "code",
   "execution_count": null,
   "metadata": {},
   "outputs": [],
   "source": [
    "np.shape(mssa2.components_)"
   ]
  },
  {
   "cell_type": "code",
   "execution_count": null,
   "metadata": {},
   "outputs": [],
   "source": [
    "for i in range(7):\n",
    "    plt.plot(mssa2.components_[0,:,i])"
   ]
  },
  {
   "cell_type": "code",
   "execution_count": null,
   "metadata": {},
   "outputs": [],
   "source": []
  },
  {
   "cell_type": "code",
   "execution_count": null,
   "metadata": {},
   "outputs": [],
   "source": [
    "da2 = xr.DataArray(data=,\n",
    "                   coords={'time':np.arange(200),\n",
    "                           'lat':np.arange(11),\n",
    "                           'lon':np.arange(11)},\n",
    "                   dims=('time','latitude')"
   ]
  },
  {
   "cell_type": "code",
   "execution_count": null,
   "metadata": {},
   "outputs": [],
   "source": [
    "A = np.zeros((200,11,11))\n",
    "X, Y = np.meshgrid([np.arange(11)-5], [np.arange(11)-5])\n",
    "for t in range(200):\n",
    "    A[t,:,:] = np.meshgrid([np.arange(11)-5], np.arange(11)-5])\n",
    "    "
   ]
  },
  {
   "cell_type": "code",
   "execution_count": null,
   "metadata": {},
   "outputs": [],
   "source": []
  },
  {
   "cell_type": "code",
   "execution_count": null,
   "metadata": {},
   "outputs": [],
   "source": [
    "plt.imshow(X)\n",
    "plt.figure()\n",
    "plt.imshow(Y)\n",
    "plt.figure()\n",
    "plt.imshow(np.sqrt(X**2+Y**2))\n",
    "\n"
   ]
  },
  {
   "cell_type": "markdown",
   "metadata": {},
   "source": [
    "# performance"
   ]
  },
  {
   "cell_type": "code",
   "execution_count": null,
   "metadata": {},
   "outputs": [],
   "source": []
  },
  {
   "cell_type": "code",
   "execution_count": null,
   "metadata": {},
   "outputs": [],
   "source": []
  }
 ],
 "metadata": {
  "kernelspec": {
   "display_name": "Python 3",
   "language": "python",
   "name": "python3"
  },
  "language_info": {
   "codemirror_mode": {
    "name": "ipython",
    "version": 3
   },
   "file_extension": ".py",
   "mimetype": "text/x-python",
   "name": "python",
   "nbconvert_exporter": "python",
   "pygments_lexer": "ipython3",
   "version": "3.6.6"
  }
 },
 "nbformat": 4,
 "nbformat_minor": 4
}
