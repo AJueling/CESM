{
 "cells": [
  {
   "cell_type": "code",
   "execution_count": null,
   "metadata": {},
   "outputs": [],
   "source": [
    "import os\n",
    "import sys\n",
    "import scipy as sp\n",
    "import numpy as np\n",
    "import pandas as pd\n",
    "import xarray as xr\n",
    "import cmocean\n",
    "import cartopy\n",
    "import cartopy.crs as ccrs\n",
    "import matplotlib\n",
    "import statsmodels.api as sm\n",
    "import matplotlib.pyplot as plt"
   ]
  },
  {
   "cell_type": "code",
   "execution_count": null,
   "metadata": {},
   "outputs": [],
   "source": [
    "%matplotlib inline\n",
    "%config InlineBackend.print_figure_kwargs={'bbox_inches':None}\n",
    "matplotlib.rc_file('../rc_file')\n",
    "%load_ext autoreload\n",
    "%autoreload 2\n",
    "%aimport - numpy - scipy - matplotlib.pyplot"
   ]
  },
  {
   "cell_type": "code",
   "execution_count": null,
   "metadata": {},
   "outputs": [],
   "source": [
    "sys.path.append(\"..\")\n",
    "from tqdm import tqdm, tqdm_notebook\n",
    "from maps import rect_polygon\n",
    "from paths import path_data, path_results, path_prace, file_HadISST\n",
    "from paths import file_ex_ocn_ctrl, file_ex_ocn_lpd\n",
    "from paths import file_RMASK_ocn, file_RMASK_ocn_rect\n",
    "from filters import lowpass\n",
    "from regions import AMO_mask, boolean_mask\n",
    "from timeseries import IterateOutputCESM\n",
    "from xr_DataArrays import xr_AREA\n",
    "from xr_regression import xr_quadtrend, xr_lintrend\n",
    "from SST_index_generation import times_ctrl, times_lpd, times_had\n",
    "from bb_analysis_timeseries import AnalyzeTimeSeries as ATS\n",
    "from matplotlib.ticker import NullFormatter\n",
    "from bd_analysis_indices import AnalyzeIndex as AI"
   ]
  },
  {
   "cell_type": "markdown",
   "metadata": {},
   "source": [
    "## random time series for illustration"
   ]
  },
  {
   "cell_type": "code",
   "execution_count": null,
   "metadata": {},
   "outputs": [],
   "source": [
    "N=70\n",
    "t = np.arange(N)\n",
    "a = np.random.rand(N)\n",
    "plt.figure(figsize=(2,.8), constrained_layout=True)\n",
    "plt.plot(t,a)\n",
    "plt.axis('off')\n",
    "plt.savefig(f'{path_results}/BBOS19/white_noise', transparent=True)\n",
    "plt.figure(figsize=(2,.8), constrained_layout=True)\n",
    "plt.plot(t,lowpass(xr.DataArray(dims='time', coords={'time':t}, data=a),10))\n",
    "plt.axis('off')\n",
    "plt.savefig(f'{path_results}/BBOS19/red_noise', transparent=True)"
   ]
  },
  {
   "cell_type": "markdown",
   "metadata": {},
   "source": [
    "## Detrending with the CMIP ensemble "
   ]
  },
  {
   "cell_type": "code",
   "execution_count": null,
   "metadata": {},
   "outputs": [],
   "source": [
    "def read_cmip5_ens_txt(fn, n_ens, last_year):\n",
    "    if last_year==2018: hn = 11\n",
    "    elif last_year==2005: hn =12\n",
    "    aa = pd.read_csv(fn, header=hn, delim_whitespace=True, skip_blank_lines=True).rename(columns={'#':'year'}).set_index('year').drop(['member', '0'], axis=1)\n",
    "#     print(aa)\n",
    "    df = pd.DataFrame(index=np.arange(1870,last_year+1))\n",
    "    dt = last_year+1-1870\n",
    "    for i in range(n_ens):\n",
    "        df[i] = aa['ensemble'][i*(dt+1):i*(dt+1)+dt].values.astype(np.float64)\n",
    "    return df\n",
    "\n",
    "cmip5_nat_ens_fn = f'{path_data}/CMIP5/iglobal_tas_Amon_ens_historicalNat_+++_1870 2005_mean1_anom_a.txt'\n",
    "cmip5_hist_ens_fn = f'{path_data}/CMIP5/iglobal_tas_Amon_ens_rcp85_+++_1870 2018_mean1_anom_a.txt'\n",
    "\n",
    "cmip5_nat_ens  = read_cmip5_ens_txt(cmip5_nat_ens_fn , n_ens=67, last_year=2005)\n",
    "cmip5_hist_ens = read_cmip5_ens_txt(cmip5_hist_ens_fn, n_ens=81, last_year=2018)"
   ]
  },
  {
   "cell_type": "code",
   "execution_count": null,
   "metadata": {},
   "outputs": [],
   "source": [
    "# GMST\n",
    "hadcrut = xr.open_dataarray(f'{path_data}/HadCRUT/ihad4_krig_v2_0-360E_-90-90N_n_mean1_anom_30.nc', decode_times=False)\n",
    "gmst_had  = xr.open_dataarray(f'{path_prace}/GMST/GMST_dt_yrly_had.nc', decode_times=False)\n",
    "gmst_had  = gmst_had.isel({'time':slice(9,158)})\n",
    "gmst_ctrl = xr.open_dataset(f'{path_prace}/GMST/GMST_ctrl.nc').GMST.isel({'time':slice(50,300)})\n",
    "gmst_ctrl['time'] = (gmst_ctrl.time/365).astype(dtype=int)\n",
    "gmst_ctrl_dt = gmst_ctrl - xr_quadtrend(gmst_ctrl)\n",
    "gmst_lpd  = xr.open_dataset(f'{path_prace}/GMST/GMST_lpd.nc').GMST.isel({'time':slice(0,250)})\n",
    "gmst_lpd['time'] = (gmst_lpd.time/365).astype(dtype=int)\n",
    "gmst_lpd_dt = gmst_lpd - xr_quadtrend(gmst_lpd)\n",
    "\n",
    "cmip5_natural = xr.open_dataarray(f'{path_prace}/GMST/CMIP5_natural.nc', decode_times=False)\n",
    "cmip5_anthro  = xr.open_dataarray(f'{path_prace}/GMST/CMIP5_anthro.nc' , decode_times=False)\n",
    "cmip5_all     = xr.open_dataarray(f'{path_prace}/GMST/CMIP5_all.nc'    , decode_times=False)"
   ]
  },
  {
   "cell_type": "code",
   "execution_count": null,
   "metadata": {},
   "outputs": [],
   "source": [
    "cc='g'\n",
    "for i in range(7):\n",
    "    plt.figure(figsize=(6,6))\n",
    "    ax = plt.gca()\n",
    "    ax.spines['right'].set_visible(False)\n",
    "    ax.spines['top'].set_visible(False)\n",
    "    for label in ax.get_xticklabels():   label.set_color(cc)\n",
    "    for label in ax.get_yticklabels():   label.set_color(cc)\n",
    "    ax.spines['left'].set_color(cc)\n",
    "    ax.set_ylim(-.49,3.2)\n",
    "    ax.spines['left'].set_bounds(-.3, 3.2)\n",
    "    ax.spines['bottom'].set_bounds(1870, 2020)\n",
    "    ax.spines['bottom'].set_color(cc)\n",
    "    ax.tick_params(labelsize=14, color=cc)\n",
    "    plt.plot([1870,2020],[10,10], c='k')\n",
    "\n",
    "    if i>0 and i<4:  plt.plot(hadcrut.time[20:]+1850, hadcrut[20:]+2.4, c='C0')\n",
    "\n",
    "    if i>1 and i<6:  plt.plot(cmip5_hist_ens.index, cmip5_hist_ens-cmip5_hist_ens.loc[1950:1980].mean(axis=0)+1.6, c='orange', lw=.3, alpha=.15)\n",
    "    if i>2:  plt.plot(np.arange(1870,2019), cmip5_all    +1.6, c='orange')\n",
    "\n",
    "    if i>3 and i<6:  plt.plot(cmip5_nat_ens.index, cmip5_nat_ens-cmip5_nat_ens.loc[1950:1980].mean(axis=0)+.8    , c='g'     , lw=.3, alpha=.15)\n",
    "    if i>4: plt.plot(np.arange(1870,2019), cmip5_natural+ .8, c='g')\n",
    "\n",
    "    if i>5: \n",
    "        ax.text(1945, 1.1, '-', color=cc, fontsize=14, ha='center')\n",
    "        ax.text(1945,  .3, '=' , color=cc, fontsize=14, ha='center')\n",
    "        plt.plot(np.arange(1870,2019), cmip5_anthro    , c='r')\n",
    "    plt.xticks(np.arange(1870,2030,30))\n",
    "    plt.xlabel('time [years C.E.]'      , fontsize=14, color=cc)\n",
    "    plt.ylabel('temperature anomaly [K]', fontsize=14, color=cc)\n",
    "    plt.tight_layout()\n",
    "#     plt.savefig(f'{path_results}/BBOS19/detrending/detr_{i}', dpi=150, transparent=True)"
   ]
  },
  {
   "cell_type": "markdown",
   "metadata": {},
   "source": [
    "## AMO signal"
   ]
  },
  {
   "cell_type": "code",
   "execution_count": null,
   "metadata": {},
   "outputs": [],
   "source": [
    "AREA_low = xr_AREA(domain='ocn_low')\n",
    "AREA_rect = xr_AREA(domain='ocn_rect')\n",
    "AREA_had = xr_AREA(domain='ocn_had')\n",
    "Atl_MASK_ctrl = boolean_mask(domain='ocn_rect', mask_nr=6).sel(t_lat=slice(0,60))\n",
    "Atl_MASK_had = boolean_mask(domain='ocn_had', mask_nr=6).sel(latitude=slice(60,0))"
   ]
  },
  {
   "cell_type": "code",
   "execution_count": null,
   "metadata": {},
   "outputs": [],
   "source": [
    "# raw AMO signal\n",
    "had_raw = xr.open_dataarray(f'{path_prace}/SST/SST_yrly_had.nc', decode_times=False)\n",
    "AMO_yrly_raw_had  = (had_raw*AREA_had).where(Atl_MASK_had).sum(dim=['latitude', 'longitude'])/AREA_had.where(Atl_MASK_had).sum(dim=['latitude', 'longitude'])\n",
    "ctrl_raw = xr.open_dataarray(f'{path_prace}/SST/SST_yrly_rect_ctrl.nc', decode_times=False)[50:,:,:]\n",
    "AMO_yrly_raw_ctrl = (ctrl_raw*AREA_rect).where(Atl_MASK_ctrl).sum(dim=['t_lat', 't_lon'])/AREA_rect.where(Atl_MASK_ctrl).sum(dim=['t_lat', 't_lon'])"
   ]
  },
  {
   "cell_type": "code",
   "execution_count": null,
   "metadata": {},
   "outputs": [],
   "source": [
    "# %%time\n",
    "# AMO_monthly_had  = (had*AREA_had).where(Atl_MASK_had).sum(dim=['latitude', 'longitude'])/AREA_had.where(Atl_MASK_had).sum(dim=['latitude', 'longitude'])\n",
    "# AMO_monthly_ctrl = (ctrl*AREA_rect).where(Atl_MASK_ctrl).sum(dim=['t_lat', 't_lon'])/AREA_rect.where(Atl_MASK_ctrl).sum(dim=['t_lat', 't_lon'])\n",
    "# AMO_monthly_lpd  = (lpd*AREA_low).where(AMO_mask(domain='ocn_low')).sum(dim=['nlon','nlat'])/AREA_low.where(AMO_mask(domain='ocn_low')).sum(dim=['nlon','nlat'])\n",
    "# AMO_monthly_had .to_netcdf(f'{path_prace}/SST/AMO_ds_dt_monthly_had.nc')\n",
    "# AMO_monthly_ctrl.to_netcdf(f'{path_prace}/SST/AMO_ds_dt_monthly_ctrl_51_301.nc')\n",
    "# AMO_monthly_lpd .to_netcdf(f'{path_prace}/SST/AMO_ds_dt_monthly_lpd_154_404.nc')\n",
    "AMO_monthly_had  = xr.open_dataarray(f'{path_prace}/SST/AMO_ds_dt_monthly_had.nc', decode_times=False)\n",
    "AMO_monthly_ctrl = xr.open_dataarray(f'{path_prace}/SST/AMO_ds_dt_monthly_ctrl_51_301.nc', decode_times=False)\n",
    "AMO_monthly_lpd  = xr.open_dataarray(f'{path_prace}/SST/AMO_ds_dt_monthly_lpd_154_404.nc', decode_times=False)"
   ]
  },
  {
   "cell_type": "code",
   "execution_count": null,
   "metadata": {},
   "outputs": [],
   "source": [
    "cc='w'\n",
    "for i in range(4):\n",
    "    plt.figure(figsize=(5.5,2.5))\n",
    "    ax = plt.gca()\n",
    "    ax.set_position([1/5.5,.22,4.5/5.5-.01,.77])\n",
    "    ax.tick_params(labelsize=14, color=cc)\n",
    "    if i<2:\n",
    "        ax.set_ylim(21.4,22.7)\n",
    "        ax.set_yticks([21.5,22,22.5])\n",
    "        ax.plot(AMO_yrly_raw_had.time/365+1870, AMO_yrly_raw_had)\n",
    "        ax.spines['left'].set_bounds(21.5, 22.5)\n",
    "    if i==1:\n",
    "        ax.plot(np.arange(1870,2019), cmip5_natural+ 22.5, c='g')\n",
    "        ax.plot(np.arange(1870,2019), cmip5_anthro +21.8, c='r')\n",
    "    if i==2:\n",
    "        ax.axhline(0, c='lightgrey', lw=.5)\n",
    "        ax.set_ylim(-.33,.4)\n",
    "        ax.set_yticks([-.3,0, .3])\n",
    "        ax.spines['left'].set_bounds(-.3,.3)\n",
    "    if i==2:\n",
    "        ax.plot(np.arange(1870,2019), AMO_monthly_had.groupby_bins(group='time', bins=np.arange(0,150*365,365)).mean())\n",
    "    if i==3:\n",
    "        ax.plot(np.arange(1870,2019), AMO_monthly_had.groupby_bins(group='time', bins=np.arange(0,150*365,365)).mean(), lw=.5)\n",
    "        y = lowpass(AMO_monthly_had.groupby_bins(group='time', bins=np.arange(0,150*365,365)).mean(), 13)\n",
    "        ax.plot(np.arange(1870,2019), y, c='C0')\n",
    "        ax.fill_between(np.arange(1870,2019), 0, y, where=y>0, alpha=.3)\n",
    "        ax.fill_between(np.arange(1870,2019), 0, y, where=y<0, alpha=.3, color='C3')\n",
    "        \n",
    "    for label in ax.get_xticklabels():   label.set_color(cc)\n",
    "    for label in ax.get_yticklabels():   label.set_color(cc)\n",
    "    ax.spines['right'].set_visible(False)\n",
    "    ax.spines['top'].set_visible(False)\n",
    "    ax.spines['bottom'].set_bounds(1870, 2020)\n",
    "    ax.spines['left'].set_color(cc)\n",
    "    ax.spines['bottom'].set_color(cc)\n",
    "    ax.set_xlim(1865, 2030)\n",
    "    ax.set_xticks(np.arange(1870,2030,30))\n",
    "    ax.set_ylabel('AMO index [K]', fontsize=14, color=cc)\n",
    "    ax.set_xlabel('time [years C.E.]', fontsize=14, color=cc)\n",
    "    plt.savefig(f'{path_results}/BBOS19/detrending/AMO_had_{i}', transparent=True)\n",
    "\n",
    "\n",
    "    plt.figure(figsize=(8.5,2.5))\n",
    "    ax = plt.gca()\n",
    "    ax.set_position([1/8.5,.22,7.5/8.5-.01,.77])\n",
    "    ax.tick_params(labelsize=14, color=cc)\n",
    "    if i<2:  \n",
    "        ax.set_ylim(21.9,23.1)\n",
    "        ax.set_yticks([22,22.5, 23])\n",
    "        plt.plot(AMO_yrly_raw_ctrl.time, AMO_yrly_raw_ctrl)\n",
    "        ax.spines['left'].set_bounds(22, 23)\n",
    "    if i==1:\n",
    "        ax.plot(AMO_yrly_raw_ctrl.time, xr_quadtrend(AMO_yrly_raw_ctrl), c='yellow')\n",
    "    if i>1:\n",
    "        ax.axhline(0, c='lightgrey', lw=.5)\n",
    "        ax.set_ylim(-.3,.35)\n",
    "        ax.set_yticks([-.25,0, .25])\n",
    "        ax.spines['left'].set_bounds(-.25,.25)\n",
    "    if i==2:\n",
    "        ax.plot(AMO_yrly_raw_ctrl.time, AMO_yrly_raw_ctrl - xr_quadtrend(AMO_yrly_raw_ctrl))\n",
    "    if i==3:\n",
    "        ax.plot(AMO_yrly_raw_ctrl.time, AMO_yrly_raw_ctrl - xr_quadtrend(AMO_yrly_raw_ctrl), lw=.5)\n",
    "        y = lowpass(AMO_yrly_raw_ctrl - xr_quadtrend(AMO_yrly_raw_ctrl), 13)\n",
    "        ax.plot(AMO_yrly_raw_ctrl.time, y, c='C0')\n",
    "        ax.fill_between(AMO_yrly_raw_ctrl.time, 0, y, where=y>0, alpha=.3)\n",
    "        ax.fill_between(AMO_yrly_raw_ctrl.time, 0, y, where=y<0, alpha=.3, color='C3')\n",
    "    for label in ax.get_xticklabels():   label.set_color(cc)\n",
    "    for label in ax.get_yticklabels():   label.set_color(cc)\n",
    "    ax.spines['right'].set_visible(False)\n",
    "    ax.spines['top'].set_visible(False)\n",
    "    ax.spines['bottom'].set_bounds(50, 300)\n",
    "    ax.spines['left'].set_color(cc)\n",
    "    ax.spines['bottom'].set_color(cc)\n",
    "    ax.set_xlim(45,305)\n",
    "    ax.set_ylabel('AMO index [K]', fontsize=14, color=cc)\n",
    "    ax.set_xlabel('time [model years]', fontsize=14, color=cc)\n",
    "    plt.savefig(f'{path_results}/BBOS19/detrending/AMO_ctrl_{i}', transparent=True)\n"
   ]
  },
  {
   "cell_type": "code",
   "execution_count": null,
   "metadata": {},
   "outputs": [],
   "source": [
    "cc='w'\n",
    "for i in range(3):\n",
    "    plt.figure(figsize=(5.5,2.5))\n",
    "    ax = plt.gca()\n",
    "    ax.set_position([1/5.5,.22,4.5/5.5-.01,.77])\n",
    "    ax.tick_params(labelsize=14, color=cc)\n",
    "    if i<1:\n",
    "        ax.set_ylim(21.4,22.7)\n",
    "        ax.set_yticks([21.5,22,22.5])\n",
    "        ax.plot(AMO_yrly_raw_had.time/365+1870, AMO_yrly_raw_had)\n",
    "        ax.plot(AMO_yrly_raw_had.time/365+1870, xr_lintrend(AMO_yrly_raw_had))\n",
    "        ax.spines['left'].set_bounds(21.5, 22.5)\n",
    "    if i>0:\n",
    "        ax.axhline(0, c='lightgrey', lw=.5)\n",
    "        ax.set_ylim(-.33,.4)\n",
    "        ax.set_yticks([-.3,0, .3])\n",
    "        if i==1:\n",
    "            ax.plot(np.arange(1870,2019), AMO_yrly_raw_had-xr_lintrend(AMO_yrly_raw_had))\n",
    "        if i==2:\n",
    "            \n",
    "            ax.plot(np.arange(1870,2019), AMO_yrly_raw_had-xr_lintrend(AMO_yrly_raw_had), lw=.5)\n",
    "            y = lowpass(AMO_yrly_raw_had-xr_lintrend(AMO_yrly_raw_had), 13)\n",
    "            ax.plot(np.arange(1870,2019), y, c='C0')\n",
    "            ax.fill_between(np.arange(1870,2019), 0, y, where=y>0, alpha=.4)\n",
    "            ax.fill_between(np.arange(1870,2019), 0, y, where=y<0, color='C3', alpha=.4)\n",
    "        ax.spines['left'].set_bounds(-.3,.3)\n",
    "    for label in ax.get_xticklabels():   label.set_color(cc)\n",
    "    for label in ax.get_yticklabels():   label.set_color(cc)\n",
    "    ax.spines['right'].set_visible(False)\n",
    "    ax.spines['top'].set_visible(False)\n",
    "    ax.spines['bottom'].set_bounds(1870, 2020)\n",
    "    ax.spines['left'].set_color(cc)\n",
    "    ax.spines['bottom'].set_color(cc)\n",
    "    ax.set_xlim(1865, 2030)\n",
    "    ax.set_xticks(np.arange(1870,2030,30))\n",
    "    ax.set_ylabel('AMO index [K]', fontsize=14, color=cc)\n",
    "    ax.set_xlabel('time [years C.E.]', fontsize=14, color=cc)\n",
    "    plt.savefig(f'{path_results}/BBOS19/detrending/AMO_had_lin_{i}', transparent=True)"
   ]
  },
  {
   "cell_type": "code",
   "execution_count": null,
   "metadata": {},
   "outputs": [],
   "source": [
    "had  = xr.open_dataarray(f'{path_prace}/SST/SST_monthly_ds_dt_had.nc', decode_times=False)\n",
    "ctrl = xr.open_dataarray(f'{path_prace}/SST/SST_monthly_ds_dt_ctrl_51_301.nc', decode_times=False)\n",
    "lpd  = xr.open_dataarray(f'{path_prace}/SST/SST_monthly_ds_dt_lpd_154_404.nc', decode_times=False)"
   ]
  },
  {
   "cell_type": "code",
   "execution_count": null,
   "metadata": {},
   "outputs": [],
   "source": [
    "cc='g'\n",
    "f, ax = plt.subplots(1, 3, figsize=(12,2.3), sharey=True, constrained_layout=True, gridspec_kw={'width_ratios':[1.5,2.5,2.5]})\n",
    "for i in range(3):\n",
    "    ax[i].spines['left'].set_color(cc)\n",
    "    ax[i].spines['bottom'].set_color(cc)\n",
    "    ax[i].spines['right'].set_visible(False)\n",
    "    ax[i].spines['left'].set_bounds(-.2,.2)\n",
    "    ax[i].spines['top'].set_visible(False)\n",
    "    ax[i].set_ylim(-.22,.22)\n",
    "    ax[i].axhline(0, c='lightgrey', lw=.5)\n",
    "    ax[i].tick_params(labelsize=14, color=cc)\n",
    "    ax[i].set_xticks(np.arange([1900,50,150][i],[2020,301,401][i], 50))\n",
    "    ax[i].set_xticklabels(np.arange([1900,50,150][i],[2020,301,401][i], 50), color=cc)\n",
    "    ax[i].spines['bottom'].set_bounds([1870,50,150][i],[2020, 300, 400][i])\n",
    "ax[0].plot(AMO_monthly_had.time/365+1870, lowpass(AMO_monthly_had , 12*13))\n",
    "ax[1].plot(AMO_monthly_ctrl.time        , lowpass(AMO_monthly_ctrl, 12*13))\n",
    "ax[2].plot(AMO_monthly_lpd.time/365     , lowpass(AMO_monthly_lpd , 12*13))\n",
    "ax[1].set_xlabel('time [years]', fontsize=14, c=cc)\n",
    "ax[0].set_ylabel('AMO index [K]', fontsize=14, c=cc)\n",
    "ax[0].set_yticks(np.arange(-.2,.3,.1))\n",
    "ax[0].set_yticklabels(np.arange(-2,3,1)/10, color=cc)\n",
    "# plt.savefig(f'{path_results}/BBOS19/AMO_time_series', transparent=True)"
   ]
  },
  {
   "cell_type": "code",
   "execution_count": null,
   "metadata": {},
   "outputs": [],
   "source": [
    "%%time\n",
    "AMO_spectra = {}\n",
    "for i, run in enumerate(['had', 'ctrl', 'lpd']):\n",
    "    ts = [AMO_monthly_had, AMO_monthly_ctrl, AMO_monthly_lpd][i]\n",
    "    AMO_spectra[f'spec_{run}'] = ATS(lowpass(ts,13*12)[7*12:-7*12]).spectrum()\n",
    "    AMO_spectra[f'redn_{run}'] = ATS(ts).mc_ar1_spectrum(filter_type='lowpass', filter_cutoff=13*12)"
   ]
  },
  {
   "cell_type": "code",
   "execution_count": null,
   "metadata": {},
   "outputs": [],
   "source": [
    "cc='w'\n",
    "f, ax = plt.subplots(1, 3, figsize=(12,2.3), sharey=True)\n",
    "for i, run in enumerate(['had', 'ctrl', 'lpd']):\n",
    "    ax[i].set_position([.06+i*.31,.25,.3,.73])\n",
    "    ax[i].spines['left'].set_color(cc)\n",
    "    ax[i].spines['bottom'].set_color(cc)\n",
    "    ax[i].spines['right'].set_visible(False)\n",
    "    ax[i].spines['left'].set_bounds(5e-2,5)\n",
    "    ax[i].spines['top'].set_visible(False)\n",
    "    ax[i].tick_params(labelsize=14, color=cc)\n",
    "    ax[i].set_xscale('log', basex=2)\n",
    "    ax[i].set_yscale('log', basey=2)\n",
    "    \n",
    "    (spec, freq, jackknife) = AMO_spectra[f'spec_{run}']\n",
    "    AR_spectrum = AMO_spectra[f'redn_{run}']\n",
    "    ax[i].fill_between(AR_spectrum[1,:]*12, AR_spectrum[2,:], AR_spectrum[3,:], fc=f'C3', alpha=.3, ec=None)\n",
    "    ax[i].plot(freq*12, spec)\n",
    "    ax[i].set_xlim(1/150,1/13)\n",
    "    ax[i].set_ylim(bottom=4e-2, top=5.2)\n",
    "    ax[i].set_xticks([1/2**n for n in np.arange(4, 8)])\n",
    "    ax[i].set_yticks([2**float(n) for n in np.arange(-4,3,2)])\n",
    "    ax[i].set_xticklabels([f'1/{2**n}' for n in np.arange(4, 8)])\n",
    "    ax[i].set_yticklabels([r'$\\dfrac{1}{16}$', r'$\\dfrac{1}{4}$', '1', '4'])\n",
    "    for label in ax[i].get_xticklabels():   label.set_color(cc)\n",
    "    for label in ax[i].get_yticklabels():   label.set_color(cc)\n",
    "\n",
    "ax[1].set_xlabel(r'frequency [1/years]', c=cc, fontsize=14)\n",
    "ax[0].set_ylabel('AMO spectral power    '  , c=cc, fontsize=14)\n",
    "plt.savefig(f'{path_results}/BBOS19/AMO_spectra', transparent=True)"
   ]
  },
  {
   "cell_type": "markdown",
   "metadata": {},
   "source": [
    "## AMO regression pattern"
   ]
  },
  {
   "cell_type": "code",
   "execution_count": null,
   "metadata": {},
   "outputs": [],
   "source": [
    "# for i, run in enumerate(tqdm(['had', 'ctrl', 'lpd'])):\n",
    "#     if i<2:  continue\n",
    "#     if run=='had' :  ts = ''\n",
    "#     if run=='ctrl':  ts = '_51_301'\n",
    "#     if run=='lpd' :  ts = '_154_404'\n",
    "#     autocorr = xr.open_dataarray(f'{path_prace}/SST/SST_monthly_autocorrelation_{run}{ts}.nc', decode_times=False)\n",
    "#     SST_dt = xr.open_dataarray(f'{path_prace}/SST/SST_monthly_ds_dt_{run}{ts}.nc', decode_times=False)\n",
    "#     index = xr.open_dataarray(f'{path_prace}/SST/AMO_ds_dt_monthly_{run}{ts}.nc', decode_times=False)\n",
    "#     fn_out = f'{path_prace}/SST/AMO_monthly_regr_{run}{ts}.nc'\n",
    "#     AI().calculate_regression(SST_dt=SST_dt, index=index, tavg='monthly', fn_out=fn_out, autocorr=autocorr)\n",
    "regr_had  = xr.open_dataset(f'{path_prace}/SST/AMO_monthly_regr_had.nc')\n",
    "regr_ctrl = xr.open_dataset(f'{path_prace}/SST/AMO_monthly_regr_ctrl_51_301.nc')\n",
    "regr_lpd  = xr.open_dataset(f'{path_prace}/SST/AMO_monthly_regr_lpd_154_404.nc')"
   ]
  },
  {
   "cell_type": "code",
   "execution_count": null,
   "metadata": {},
   "outputs": [],
   "source": [
    "f = plt.figure(figsize=(15,2.7), constrained_layout=False)\n",
    "for i, run in enumerate(['had', 'ctrl', 'lpd']):\n",
    "    regr = [regr_had, regr_ctrl, regr_lpd][i]\n",
    "    ax = f.add_subplot(1, 4, i+1, projection=ccrs.Robinson(central_longitude=-60))\n",
    "    ax.set_position([.01+i*.31,.015,.3,.955])\n",
    "    xa = regr.slope\n",
    "    if run=='had':\n",
    "        lats = xa.latitude\n",
    "        lons = xa.longitude\n",
    "        lons, lats = np.meshgrid(lons, lats)\n",
    "    elif run=='ctrl':\n",
    "        lats = xa.t_lat\n",
    "        lons = xa.t_lon\n",
    "        lons, lats = np.meshgrid(lons, lats)\n",
    "    elif run=='lpd':\n",
    "        lats = xa.TLAT\n",
    "        lons = xa.TLONG\n",
    "\n",
    "\n",
    "    im = ax.pcolormesh(lons, lats, xa.values, cmap='RdBu_r',\n",
    "                       vmin=-.4, vmax=.4,\n",
    "                       transform=ccrs.PlateCarree())\n",
    "    ax.add_feature(cartopy.feature.LAND, zorder=2, edgecolor='black', facecolor='grey')\n",
    "    \n",
    "    gl = ax.gridlines(crs=ccrs.PlateCarree(), draw_labels=False)\n",
    "    gl.ylocator = matplotlib.ticker.FixedLocator([-90, -60, -30, 0, 30, 60, 90])\n",
    "    gl.xlocator = matplotlib.ticker.FixedLocator([-180, -120, -60, 0, 60, 120, 180])\n",
    "    \n",
    "    if i==2:\n",
    "        ax = f.add_subplot(1, 4, 4)\n",
    "        ax.set_position([.94,.1,.02,.8])\n",
    "        cbar = plt.colorbar(im, cax=ax, fraction=.1, shrink=.8, pad=.05, orientation='vertical', ticks=[-.3, 0, .3])\n",
    "        cbar.ax.set_yticklabels([-.3,0,.3], fontsize=14, color=cc)\n",
    "\n",
    "#     f.align_xlabels()\n",
    "#     plt.tight_layout()\n",
    "plt.savefig(f'{path_results}/BBOS19/regression_maps', transparent=True)"
   ]
  },
  {
   "cell_type": "code",
   "execution_count": null,
   "metadata": {
    "jupyter": {
     "outputs_hidden": true
    }
   },
   "outputs": [],
   "source": [
    "regr_had.pval.where(regr_had.pval<.01).plot()"
   ]
  },
  {
   "cell_type": "code",
   "execution_count": null,
   "metadata": {
    "jupyter": {
     "outputs_hidden": true
    }
   },
   "outputs": [],
   "source": [
    "regr_ctrl.pval.where(regr_ctrl.pval<.01).plot()"
   ]
  },
  {
   "cell_type": "code",
   "execution_count": null,
   "metadata": {
    "jupyter": {
     "outputs_hidden": true
    }
   },
   "outputs": [],
   "source": [
    "regr_lpd.pval.where(regr_lpd.pval>.99).plot()"
   ]
  },
  {
   "cell_type": "code",
   "execution_count": null,
   "metadata": {},
   "outputs": [],
   "source": [
    "xr.open_dataset(file_HadISST)"
   ]
  },
  {
   "cell_type": "markdown",
   "metadata": {},
   "source": [
    "## video: globe focused on North Atlantic with AMO time series"
   ]
  },
  {
   "cell_type": "code",
   "execution_count": null,
   "metadata": {},
   "outputs": [],
   "source": [
    "MASK_AMO_had = boolean_mask(domain='ocn_had', mask_nr=6) + boolean_mask(domain='ocn_had', mask_nr=8)\n",
    "MASK_AMO_had = MASK_AMO_had.where(MASK_AMO_had_anti.latitude<60, 0)\n",
    "MASK_AMO_had = MASK_AMO_had.where(MASK_AMO_had_anti.latitude>0, 0)\n",
    "MASK_AMO_had_anti = -MASK_AMO_had+1"
   ]
  },
  {
   "cell_type": "code",
   "execution_count": null,
   "metadata": {},
   "outputs": [],
   "source": [
    "da = xr.open_dataset(file_HadISST, decode_times=False).sst\n",
    "da = da.groupby_bins(group='time', bins=np.arange(0,150*365,365)).mean(dim='time')"
   ]
  },
  {
   "cell_type": "code",
   "execution_count": null,
   "metadata": {
    "jupyter": {
     "outputs_hidden": true
    }
   },
   "outputs": [],
   "source": [
    "# 2:15\n",
    "# `ffmpeg -framerate 12 -start_number 1870 -i SST_AMO_area_%03d.png -r 8 -vcodec png SST_AMO.mov`\n",
    "for i in tqdm(range(len(AMO_yrly_raw_had.time))):\n",
    "    fig = plt.figure(figsize=(7,7))\n",
    "\n",
    "    ax = fig.add_subplot(211, projection=ccrs.NearsidePerspective(central_longitude=-40.0, central_latitude=40.0))\n",
    "    ax.set_position([1/7,1.9/7,5/7,5/7])\n",
    "\n",
    "    lats = da.latitude\n",
    "    lons = da.longitude\n",
    "    lons, lats = np.meshgrid(lons, lats)\n",
    "\n",
    "    ax.pcolormesh(lons, lats, da[i,:,:].where(da[i,:,:]>-3), cmap='Spectral_r',\n",
    "                  vmin=-1, vmax=28, zorder=1,\n",
    "                  transform=ccrs.PlateCarree())\n",
    "    ax.pcolormesh(lons, lats, MASK_AMO_had_anti, cmap='Greys',\n",
    "                  vmin=0, vmax=1, zorder=2, alpha=.15, edgecolors=None,\n",
    "                  transform=ccrs.PlateCarree())\n",
    "    ax.add_feature(cartopy.feature.LAND, zorder=3, edgecolor='black', facecolor='grey')\n",
    "\n",
    "    gl = ax.gridlines(crs=ccrs.PlateCarree(), draw_labels=False)\n",
    "    gl.ylocator = matplotlib.ticker.FixedLocator([-90, -60, -30, 0, 30, 60, 90])\n",
    "    gl.xlocator = matplotlib.ticker.FixedLocator([-180, -120, -60, 0, 60, 120, 180])\n",
    "\n",
    "    ax = fig.add_subplot(221)\n",
    "    ax.patch.set_alpha(0.0)\n",
    "    ax.set_position([.12,.05,.86,1.8/7])\n",
    "    for label in ax.get_xticklabels():   label.set_color('w')\n",
    "    for label in ax.get_yticklabels():   label.set_color('w')\n",
    "    ax.spines['left'].set_color('w')\n",
    "    ax.spines['bottom'].set_color('w')\n",
    "    ax.tick_params(labelsize=13, color='w')\n",
    "    plt.plot(AMO_yrly_raw_had.time[:i+1]/365+1870, AMO_yrly_raw_had[:i+1], zorder=0)\n",
    "    ax.set_ylabel(r'$\\langle$SST$\\rangle$ [$^\\circ$C]', fontsize=16, color='w')\n",
    "    \n",
    "    ax.set_xlim((1865,2023))\n",
    "    ax.set_ylim((21.45,22.7))\n",
    "    ax.spines['right'].set_visible(False)\n",
    "    ax.spines['top'].set_visible(False)\n",
    "\n",
    "    # plt.tight_layout()\n",
    "    plt.savefig(f'{path_results}/BBOS19/SST_AMO_video/SST_AMO_area_{int(AMO_yrly_raw_had.time[i]/365+1870)}', transparent=True)\n",
    "    plt.close()\n",
    "#     plt.ioff()\n"
   ]
  },
  {
   "cell_type": "markdown",
   "metadata": {},
   "source": [
    "## video: comparing SST with different resolution POP to observations"
   ]
  },
  {
   "cell_type": "code",
   "execution_count": null,
   "metadata": {},
   "outputs": [],
   "source": [
    "# NOAA High Resolution SST data provided by the NOAA/OAR/ESRL PSD, Boulder, Colorado, USA\n",
    "# from their Web site at https://www.esrl.noaa.gov/psd/\n",
    "\n",
    "NOAA_daily = xr.open_dataarray(f'{path_prace}/NOAA_SST/sst.day.mean.2018.nc')\n",
    "ctrl_daily = xr.open_mfdataset('/projects/0/prace_imau/prace_2013081679/cesm1_0_4/spinup_pd_maxcores_f05_t12/OUTPUT/ocn/hist/daily/spinup_pd_maxcores_f05_t12.pop.h.nday1.0300*.nc',\n",
    "                               combine='nested', concat_dim='time').SST\n",
    "lpd_daily  = xr.open_mfdataset('/projects/0/acc/cesm/cesm1_1_2/spinup_B_2000_cam5_f09_g16/OUTPUT/ocn/hist/daily/spinup_B_2000_cam5_f09_g16.pop.h.nday1.0500-*.nc',\n",
    "                               combine='nested', concat_dim='time').SST"
   ]
  },
  {
   "cell_type": "code",
   "execution_count": null,
   "metadata": {},
   "outputs": [],
   "source": [
    "t = np.roll(np.linspace(0,1,365), 80)\n",
    "y = 70*np.sin(2*np.pi*t)+15\n",
    "y2 = 50*np.sin(2*np.pi*t)-10\n",
    "\n",
    "x = 360*t-220\n",
    "x2 = 360*t-150\n",
    "\n",
    "ax = plt.axes(projection=ccrs.PlateCarree())\n",
    "ax.stock_img()\n",
    "# ax = plt.axes(projection=proj)\n",
    "plt.scatter(x[0], y[0], transform=ccrs.PlateCarree())\n",
    "plt.scatter(x[180], y[180], transform=ccrs.PlateCarree())\n",
    "plt.plot(x, y, transform=ccrs.PlateCarree())\n",
    "plt.plot(x2, y2, transform=ccrs.PlateCarree())"
   ]
  },
  {
   "cell_type": "code",
   "execution_count": null,
   "metadata": {
    "jupyter": {
     "outputs_hidden": true
    }
   },
   "outputs": [],
   "source": [
    "daterange = pd.date_range('2018-01-01', '2018-12-31')\n",
    "MASK_ctrl = boolean_mask(domain='ocn', mask_nr=0)\n",
    "for j in tqdm_notebook(range(len(daterange))):\n",
    "    fn = f'{path_results}/BBOS19/resolution_video/SST_obs_high_low_{j}.png'\n",
    "    try:\n",
    "        assert os.path.exists(fn)\n",
    "        print(j)\n",
    "        if j>270: assert 1==0\n",
    "    except:\n",
    "        fig = plt.figure(figsize=(15, 5))\n",
    "        proj = ccrs.NearsidePerspective(central_longitude=x[j], central_latitude=y[j], satellite_height=3578580)\n",
    "        for i, run in enumerate(['had', 'ctrl', 'lpd']):\n",
    "            da = [NOAA_daily, ctrl_daily, lpd_daily][i]\n",
    "            if i==0: lons, lats = np.meshgrid(da.lon, da.lat)\n",
    "            if i>0:  lats, lons = da.TLAT, da.TLONG\n",
    "\n",
    "            if i==1:  da_ = da.isel(time=j).where(MASK_ctrl)\n",
    "            else:     da_ = da.isel(time=j)\n",
    "            ax = fig.add_subplot(3, 1, i+1, projection=proj)\n",
    "            ax.add_feature(cartopy.feature.LAND, zorder=2, edgecolor='black', facecolor='grey')\n",
    "            ax.set_position([.01+i/3,.015,.32,.955])\n",
    "            im = ax.pcolormesh(lons, lats, da_.values,\n",
    "                                cmap='Spectral_r', vmin=-1.8, vmax=31,\n",
    "                                transform=ccrs.PlateCarree(),\n",
    "                                )\n",
    "            gl = ax.gridlines(crs=ccrs.PlateCarree(), draw_labels=False)\n",
    "            gl.n_steps = 90\n",
    "            gl.ylocator = matplotlib.ticker.FixedLocator(np.arange(-90,100,30))\n",
    "            gl.xlocator = matplotlib.ticker.FixedLocator(np.arange(0,370,30))\n",
    "        fig.text(.02, .92, daterange[j].strftime('%b %d'), fontsize=14, color='lightgrey')\n",
    "        fig.text(.02, .88, daterange[j].strftime('%Y')   , fontsize=14, color='lightgrey')\n",
    "        plt.savefig(fn, transparent=True)\n",
    "        plt.close()"
   ]
  },
  {
   "cell_type": "markdown",
   "metadata": {},
   "source": [
    "## volume integrated OHC variability"
   ]
  },
  {
   "cell_type": "code",
   "execution_count": null,
   "metadata": {},
   "outputs": [],
   "source": [
    "ctrl_qd = xr.open_dataset(f'{path_prace}/OHC/OHC_integrals_ctrl_qd.nc', decode_times=False)\n",
    "lpd_qd  = xr.open_dataset(f'{path_prace}/OHC/OHC_integrals_lpd_qd.nc' , decode_times=False)"
   ]
  },
  {
   "cell_type": "code",
   "execution_count": null,
   "metadata": {},
   "outputs": [],
   "source": [
    "cc='g'\n",
    "# cc='w'\n",
    "f, ax = plt.subplots(1,2, figsize=(10,3), sharey=True, constrained_layout=True)\n",
    "for i, qd in enumerate([ctrl_qd, lpd_qd]):\n",
    "#     ax[i].set_position([.06+i*.31,.25,.3,.73])\n",
    "    ax[i].spines['left'].set_color(cc)\n",
    "    ax[i].spines['bottom'].set_color(cc)\n",
    "    ax[i].spines['right'].set_visible(False)\n",
    "    ax[i].spines['left'].set_bounds(-27,27)\n",
    "    ax[i].spines['bottom'].set_bounds([50,150][i], [300, 400][i])\n",
    "    ax[i].spines['top'].set_visible(False)\n",
    "    ax[i].tick_params(labelsize=14, color=cc)\n",
    "    ax[i].axhline(0, color='lightgrey')\n",
    "    ax[i].set_xlim([45,149][i], [305, 409][i])\n",
    "    for label in ax[i].get_xticklabels():   label.set_color(cc)\n",
    "    for label in ax[i].get_yticklabels():   label.set_color(cc)\n",
    "    ax[i].plot(qd.time, lowpass(qd.OHC_Global_Ocean  /1e21,13), label='Global')\n",
    "    ax[i].plot(qd.time, lowpass(qd.OHC_Atlantic_Ocean/1e21,13), label='Atlantic')\n",
    "    ax[i].set_xlabel('time [model years]', fontsize=14, color=cc)\n",
    "ax[0].set_ylabel('heat anomaly [ZJ]', fontsize=14, color=cc)\n",
    "leg = ax[1].legend(ncol=2, fontsize=14, frameon=False, loc=8)\n",
    "for line, text in zip(leg.get_lines(), leg.get_texts()):  text.set_color(line.get_color())\n",
    "# plt.savefig(f'{path_results}/BBOS19/OHC_anomalies', transparent=True)"
   ]
  },
  {
   "cell_type": "markdown",
   "metadata": {},
   "source": [
    "## lead-lag regression"
   ]
  },
  {
   "cell_type": "code",
   "execution_count": null,
   "metadata": {},
   "outputs": [],
   "source": [
    "def merge_time_series(run):\n",
    "    \"\"\"creats a pandas dataframe of the GMST, index, and OHC time series\"\"\"\n",
    "    \n",
    "    # GMST\n",
    "    if run=='had':\n",
    "        gmst = xr.open_dataarray(f'{path_prace}/GMST/GMST_dt_yrly_had.nc', decode_times=False)\n",
    "        gmst.name = 'GMST'\n",
    "        gmst  = gmst.isel({'time':slice(9,158)})\n",
    "    else:\n",
    "        gmst = xr.open_dataset(f'{path_prace}/GMST/GMST_{run}.nc', decode_times=False).GMST\n",
    "        gmst['time'] = (gmst.time/365).astype(dtype=int)\n",
    "        if run=='ctrl':   gmst  = gmst.isel({'time':slice(50,300)})\n",
    "        elif run=='lpd':  gmst  = gmst.isel({'time':slice(0,250)})\n",
    "        gmst = gmst - xr_quadtrend(gmst)\n",
    "    \n",
    "    # indices\n",
    "    if run=='had'   :  ts = ''\n",
    "    elif run=='ctrl':  ts = '_51_301'\n",
    "    elif run=='lpd' :  ts = '_154_404'\n",
    "    da_temp = xr.open_dataarray(f'{path_prace}/SST/AMO_dt_raw_{run}{ts}.nc')\n",
    "    da_temp.name = 'AMO'\n",
    "    da_temp['time'] = (da_temp.time/365).astype(dtype=int)\n",
    "    if run=='had':  da_temp['time'] = da_temp['time'] + 1870\n",
    "    \n",
    "#     da_temp = xr.merge([gmst, lowpass(da_temp,13)])\n",
    "    da_temp = xr.merge([lowpass(gmst,13), lowpass(da_temp,13)])\n",
    "    \n",
    "    return da_temp.isel({'time':slice(7,-7)}).to_dataframe()\n",
    "\n",
    "time_series_had  = merge_time_series(run='had')\n",
    "time_series_ctrl = merge_time_series(run='ctrl')\n",
    "time_series_lpd  = merge_time_series(run='lpd')"
   ]
  },
  {
   "cell_type": "code",
   "execution_count": null,
   "metadata": {},
   "outputs": [],
   "source": [
    "def lagged_correlation_plot(ax, X, Y, kwargs={}):\n",
    "    Dt = np.arange(-25,26)\n",
    "    A = []\n",
    "    for dt in Dt:\n",
    "        A.append(X.corr(Y.shift(dt)))\n",
    "        if dt==0:  print(X.corr(Y.shift(dt)))\n",
    "    return ax.plot(Dt, A, **kwargs)\n",
    "\n",
    "f, ax = plt.subplots(1, 3, figsize=(12,3), sharey=True, sharex=True,\n",
    "                     constrained_layout=True)\n",
    "\n",
    "cc='g'\n",
    "kwarg = {'label':'AMO'}\n",
    "for i, run in enumerate(['had','ctrl','lpd']):\n",
    "    ts = [time_series_had , time_series_ctrl, time_series_lpd ][i]\n",
    "    lagged_correlation_plot(ax=ax[i], X=ts.GMST, Y=ts['AMO'], kwargs=kwarg)\n",
    "    ax[i].spines['left'].set_color(cc)\n",
    "    ax[i].spines['bottom'].set_color(cc)\n",
    "    ax[i].spines['left'].set_bounds(-1,1)\n",
    "    ax[i].set_ylim(-1.05,1.05)\n",
    "    ax[i].spines['bottom'].set_bounds(-25,25)\n",
    "    for label in ax[i].get_xticklabels():   label.set_color(cc)\n",
    "    for label in ax[i].get_yticklabels():   label.set_color(cc)\n",
    "    ax[i].tick_params(labelsize=14, color=cc)\n",
    "    ax[i].axhline(0, c='lightgrey', lw=.5)\n",
    "    ax[i].axvline(0, c='lightgrey', lw=.5)\n",
    "    ax[i].spines['right'].set_visible(False)\n",
    "    ax[i].spines['top'].set_visible(False)\n",
    "    ax[i].text(12.5,.9,'AMO leads', fontsize=14, ha='center', color=cc)\n",
    "    ax[i].text(-12.5,.9,'GMST leads', fontsize=14, ha='center', color=cc)\n",
    "    ax[i].set_yticks([-1,0,1])\n",
    "    ax[i].set_xlabel('lag [years]', fontsize=14, color=cc)\n",
    "ax[0].set_ylabel('correlation', fontsize=14, color=cc)\n",
    "# plt.savefig(f'{path_results}/BBOS19/AMO_GMST_lead_lag', transparent=True)"
   ]
  },
  {
   "cell_type": "code",
   "execution_count": null,
   "metadata": {},
   "outputs": [],
   "source": [
    "time_series_lpd.plot()"
   ]
  },
  {
   "cell_type": "markdown",
   "metadata": {},
   "source": [
    "## OHC Hovmoeller"
   ]
  },
  {
   "cell_type": "code",
   "execution_count": null,
   "metadata": {},
   "outputs": [],
   "source": [
    "ctrl_qd['OHC_levels_Global_Ocean']"
   ]
  },
  {
   "cell_type": "code",
   "execution_count": null,
   "metadata": {},
   "outputs": [],
   "source": [
    "oceans = ['Global', 'Atlantic', 'Pacific', 'Southern']\n",
    "das = [ctrl_qd, lpd_qd]\n",
    "maxv = .06\n",
    "\n",
    "fig = plt.figure(figsize=(12,5), constrained_layout=True)\n",
    "gs0 = matplotlib.gridspec.GridSpec(1, 2, left=.1, right=.98, bottom=.22, top=.98, wspace=.05, hspace=.045)\n",
    "\n",
    "\n",
    "# if offset==True: x = (da-da.isel(time=slice(0,30)).mean(dim='time')).T/1e21\n",
    "\n",
    "name = f'Global_Ocean'    \n",
    "cc='w'\n",
    "for j, da in enumerate(range(2)):\n",
    "    da = lowpass(das[j][f'OHC_levels_{name}'],10)\n",
    "    x = da.T/1e21\n",
    "#         X, Y = np.meshgrid(da.time, -da.coords[['depth_t', 'z_t'][j]]/[1, 1e2][j])\n",
    "    X, Y = np.meshgrid(da.time, da.coords[['depth_t', 'z_t'][j]]/[1, 1e2][j])\n",
    "\n",
    "    gs00 = matplotlib.gridspec.GridSpecFromSubplotSpec(2, 1, subplot_spec=gs0[j], hspace=0)\n",
    "    ax_top = fig.add_subplot(gs00[0])\n",
    "    ax_top.set_ylim((-1500,0))\n",
    "    ax_top.set_xticks([])\n",
    "    ax_top.set_yticks([-1500, -1000, -500, 0])\n",
    "\n",
    "    ax_bot = fig.add_subplot(gs00[1])\n",
    "    ax_bot.set_ylim((-6000,-1500))\n",
    "    ax_bot.set_yticks([-6000,-4500,-3000])\n",
    "\n",
    "    for k, ax in enumerate([ax_top, ax_bot]):\n",
    "        im = ax.pcolormesh(X, -Y, x, vmin=-maxv, vmax=maxv, cmap=cmocean.cm.balance)\n",
    "        ax.tick_params(labelsize=14, color=cc)\n",
    "        for label in ax.get_xticklabels():   label.set_color(cc)\n",
    "        for label in ax.get_yticklabels():   label.set_color(cc)\n",
    "\n",
    "    if j==0:\n",
    "        ax_bot.set_ylabel(f'Global Ocean depth [m]', horizontalalignment = 'left', fontsize=14, color=cc)\n",
    "\n",
    "    if j==1:\n",
    "        ax_top.set_yticks([])\n",
    "        ax_bot.set_yticks([])\n",
    "\n",
    "    if i==0:\n",
    "        ax_top.text(.5,1.05,['HIGH', 'LOW'][j], transform=ax_top.transAxes)\n",
    "    if i==len(oceans)-1:\n",
    "        ax_bot.set_xlabel('time [model years]', fontsize=14)\n",
    "    else:\n",
    "        ax_bot.set_xticks([])\n",
    "\n",
    "\n",
    "cax = fig.add_axes([0.1, 0.11, 0.88, 0.04])\n",
    "cbar = fig.colorbar(im, cax=cax, orientation='horizontal', extend='both')\n",
    "cbar.set_label('OHC anomaly [ZJ/m]', color=cc, fontsize=14)\n",
    "cbar.ax.xaxis.set_tick_params(color=cc)\n",
    "plt.setp(plt.getp(cbar.ax.axes, 'xticklabels'), color=cc, fontsize=14)\n",
    "plt.savefig(f'{path_results}/BBOS19/OHC_vertical_Hovmoeller_0-6km_ctrl_lpd_qd', transparent=True)\n"
   ]
  },
  {
   "cell_type": "code",
   "execution_count": null,
   "metadata": {},
   "outputs": [],
   "source": []
  }
 ],
 "metadata": {
  "kernelspec": {
   "display_name": "Python 3",
   "language": "python",
   "name": "python3"
  },
  "language_info": {
   "codemirror_mode": {
    "name": "ipython",
    "version": 3
   },
   "file_extension": ".py",
   "mimetype": "text/x-python",
   "name": "python",
   "nbconvert_exporter": "python",
   "pygments_lexer": "ipython3",
   "version": "3.6.7"
  }
 },
 "nbformat": 4,
 "nbformat_minor": 4
}
