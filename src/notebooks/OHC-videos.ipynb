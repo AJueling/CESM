{
 "cells": [
  {
   "cell_type": "markdown",
   "metadata": {},
   "source": [
    "# Ocean Heat Content: videos"
   ]
  },
  {
   "cell_type": "markdown",
   "metadata": {},
   "source": [
    "$OHC = \\Delta T \\times c_p \\times \\rho \\times V$\n",
    "\n",
    "unit conversion to SI\n",
    "- $c_p$: erg/g/K = 1e-7J / 1e-3kg / K = 1e-4 J/kg/K $\\rightarrow$ 3996 J/kg/K\n",
    "- $\\rho$: g/cm^3 = 1e3 kg/m^3"
   ]
  },
  {
   "cell_type": "code",
   "execution_count": null,
   "metadata": {},
   "outputs": [],
   "source": [
    "import os\n",
    "import sys\n",
    "sys.path.append(\"..\")\n",
    "import scipy as sp\n",
    "import numpy as np\n",
    "import xarray as xr\n",
    "import seaborn as sns\n",
    "import cmocean\n",
    "import cartopy\n",
    "import cartopy.crs as ccrs\n",
    "import matplotlib as mpl\n",
    "import matplotlib.pyplot as plt\n",
    "import matplotlib.patches as mpatches"
   ]
  },
  {
   "cell_type": "code",
   "execution_count": null,
   "metadata": {},
   "outputs": [],
   "source": [
    "%matplotlib inline\n",
    "%config InlineBackend.print_figure_kwargs={'bbox_inches':None}\n",
    "%load_ext autoreload\n",
    "%autoreload 2\n",
    "%aimport - numpy - scipy - matplotlib.pyplot"
   ]
  },
  {
   "cell_type": "code",
   "execution_count": null,
   "metadata": {},
   "outputs": [],
   "source": [
    "from OHC import OHC_integrals, trend_global_levels\n",
    "from maps import map_robinson, map_eq_earth\n",
    "from grid import create_dz_mean\n",
    "from paths import CESM_filename, path_samoc, file_ex_ocn_ctrl, file_ex_ocn_rcp, path_results\n",
    "from regions import boolean_mask, regions_dict\n",
    "from plotting import discrete_cmap, shifted_color_map\n",
    "from constants import cp_sw, km, spy\n",
    "from timeseries import IterateOutputCESM\n",
    "from xr_integrate import  xr_vol_int\n",
    "from xr_regression import xr_linear_trend, xr_linear_trends_2D, ocn_field_regression\n",
    "from xr_DataArrays import create_xr_DataArray, xr_DZ, xr_AREA, xr_HTN, xr_LATS"
   ]
  },
  {
   "cell_type": "code",
   "execution_count": null,
   "metadata": {},
   "outputs": [],
   "source": [
    "# MASK = xr.open_dataset(file_ex_ocn_ctrl, decode_times=False).REGION_MASK"
   ]
  },
  {
   "cell_type": "markdown",
   "metadata": {},
   "source": [
    "# fixing OHC.py output"
   ]
  },
  {
   "cell_type": "code",
   "execution_count": null,
   "metadata": {},
   "outputs": [],
   "source": [
    "# xr.set_options(file_cache_maxsize=16)"
   ]
  },
  {
   "cell_type": "code",
   "execution_count": null,
   "metadata": {},
   "outputs": [],
   "source": [
    "# # copying OHc files, removing unnecessary coords that are not perfectly aligned across years\n",
    "# for run in ['ctrl', 'rcp']:\n",
    "#     for mask_nr in range(13):\n",
    "#         for y in range(2100):\n",
    "#             file_out = f'{path_samoc}/OHC/OHC_integrals_{regions_dict[mask_nr]}_{run}_{y}.nc'\n",
    "#             file_new = f'{path_samoc}/OHC/OHC_integrals_{regions_dict[mask_nr]}_{run}_new_{y}.nc'\n",
    "#             if os.path.exists(file_out)==True and os.path.exists(file_new)==False:\n",
    "#                 print(run, mask_nr, y)\n",
    "#                 ds = xr.open_dataset(file_out, decode_times=False)\n",
    "#                 if 'ULONG' in ds.coords and 'ULAT' in ds.coords:\n",
    "#                     ds = ds.drop(['ULONG', 'ULAT'])\n",
    "#                 ds.to_netcdf(file_new)"
   ]
  },
  {
   "cell_type": "code",
   "execution_count": null,
   "metadata": {},
   "outputs": [],
   "source": [
    "# %%time\n",
    "# # 1:30 minutes for ctrl, 35 sec for rcp\n",
    "# for run in ['ctrl', 'rcp']:\n",
    "#     for mask_nr in np.arange(1,13):\n",
    "#         print(run, mask_nr)\n",
    "#         combined = xr.open_mfdataset(f'{path_samoc}/OHC/OHC_integrals_{regions_dict[mask_nr]}_{run}_new_*.nc',\n",
    "#                                      concat_dim='time', coords='minimal')\n",
    "#         combined.to_netcdf(f'{path_samoc}/OHC/OHC_integrals_{regions_dict[mask_nr]}_{run}.nc')"
   ]
  },
  {
   "cell_type": "markdown",
   "metadata": {},
   "source": [
    "# Loading data"
   ]
  },
  {
   "cell_type": "code",
   "execution_count": null,
   "metadata": {},
   "outputs": [],
   "source": [
    "ctrl   = xr.open_dataset(f'{path_samoc}/OHC/OHC_integrals_Global_Ocean_ctrl.nc'  , decode_times=False)\n",
    "ctrl_A = xr.open_dataset(f'{path_samoc}/OHC/OHC_integrals_Atlantic_Ocean_ctrl.nc', decode_times=False)\n",
    "ctrl_P = xr.open_dataset(f'{path_samoc}/OHC/OHC_integrals_Pacific_Ocean_ctrl.nc' , decode_times=False)\n",
    "ctrl_I = xr.open_dataset(f'{path_samoc}/OHC/OHC_integrals_Indian_Ocean_ctrl.nc'  , decode_times=False)\n",
    "ctrl_M = xr.open_dataset(f'{path_samoc}/OHC/OHC_integrals_Mediterranean_ctrl.nc' , decode_times=False)\n",
    "ctrl_S = xr.open_dataset(f'{path_samoc}/OHC/OHC_integrals_Southern_Ocean_ctrl.nc', decode_times=False)\n",
    "ctrl_N = xr.open_dataset(f'{path_samoc}/OHC/OHC_integrals_Arctic_Ocean_ctrl.nc'  , decode_times=False)\n",
    "\n",
    "# something is still wrong in CTRL year 205\n",
    "for ds in [ctrl, ctrl_A, ctrl_P, ctrl_I, ctrl_S, ctrl_M, ctrl_N]:\n",
    "    for field in ['OHC_global', 'OHC_global_levels', 'OHC_zonal', 'OHC_zonal_levels']:\n",
    "        ds[field][105] = (ds[field].sel({'time':204*365}) +\n",
    "                                           ds[field].sel({'time':206*365}) )/2\n",
    "\n",
    "rcp    = xr.open_dataset(f'{path_samoc}/OHC/OHC_integrals_Global_Ocean_rcp.nc'   , decode_times=False)\n",
    "rcp_A  = xr.open_dataset(f'{path_samoc}/OHC/OHC_integrals_Atlantic_Ocean_rcp.nc' , decode_times=False)\n",
    "rcp_P  = xr.open_dataset(f'{path_samoc}/OHC/OHC_integrals_Pacific_Ocean_rcp.nc'  , decode_times=False)\n",
    "rcp_I  = xr.open_dataset(f'{path_samoc}/OHC/OHC_integrals_Indian_Ocean_rcp.nc'   , decode_times=False)\n",
    "rcp_M  = xr.open_dataset(f'{path_samoc}/OHC/OHC_integrals_Mediterranean_rcp.nc'  , decode_times=False)\n",
    "rcp_S  = xr.open_dataset(f'{path_samoc}/OHC/OHC_integrals_Southern_Ocean_rcp.nc' , decode_times=False)\n",
    "rcp_N  = xr.open_dataset(f'{path_samoc}/OHC/OHC_integrals_Arctic_Ocean_rcp.nc'   , decode_times=False)"
   ]
  },
  {
   "cell_type": "code",
   "execution_count": null,
   "metadata": {},
   "outputs": [],
   "source": [
    "ctrl"
   ]
  },
  {
   "cell_type": "code",
   "execution_count": null,
   "metadata": {},
   "outputs": [],
   "source": [
    "# long term, files calculated in OHC.ipynb\n",
    "OHC_vert_trend_c1  = xr.open_dataarray(f'{path_samoc}/OHC/OHC_trend_vert_int_c1.nc' , decode_times=False)\n",
    "OHC_vert_trend_c2  = xr.open_dataarray(f'{path_samoc}/OHC/OHC_trend_vert_int_c2.nc' , decode_times=False)\n",
    "OHC_vert_trend_rcp = xr.open_dataarray(f'{path_samoc}/OHC/OHC_trend_vert_int_rcp.nc', decode_times=False)\n",
    "\n",
    "OHC_vert_trend_c1  = xr.open_dataarray(f'{path_samoc}/OHC/OHC_trend_vert_int_a_c1.nc' , decode_times=False)\n",
    "OHC_vert_trend_c2  = xr.open_dataarray(f'{path_samoc}/OHC/OHC_trend_vert_int_a_c2.nc' , decode_times=False)\n",
    "OHC_vert_trend_rcp = xr.open_dataarray(f'{path_samoc}/OHC/OHC_trend_vert_int_a_rcp.nc', decode_times=False)\n",
    "\n",
    "OHC_vert_trend_c1  = xr.open_dataarray(f'{path_samoc}/OHC/OHC_trend_vert_int_b_c1.nc' , decode_times=False)\n",
    "OHC_vert_trend_c2  = xr.open_dataarray(f'{path_samoc}/OHC/OHC_trend_vert_int_b_c2.nc' , decode_times=False)\n",
    "OHC_vert_trend_rcp = xr.open_dataarray(f'{path_samoc}/OHC/OHC_trend_vert_int_b_rcp.nc', decode_times=False)"
   ]
  },
  {
   "cell_type": "code",
   "execution_count": null,
   "metadata": {},
   "outputs": [],
   "source": [
    "# decadal trend\n",
    "OHC_vert_trend_rcp_decadal = ocn_field_regression(rcp .OHC_vertical[30:40,:,:]   )/spy"
   ]
  },
  {
   "cell_type": "code",
   "execution_count": null,
   "metadata": {},
   "outputs": [],
   "source": [
    "xr.open_dataarray(f'{path_samoc}/OHC/OHC_trend_vert_int_c2.nc', decode_times=False).plot()"
   ]
  },
  {
   "cell_type": "code",
   "execution_count": null,
   "metadata": {},
   "outputs": [],
   "source": [
    "# combining picures\n",
    "from PIL import Image\n",
    "names = ['full_depth', 'above_100m', 'below_100m']\n",
    "names2 = ['full\\ndepth', 'above\\n100m', 'below\\n100m']\n",
    "width  = 800\n",
    "height = 500"
   ]
  },
  {
   "cell_type": "code",
   "execution_count": null,
   "metadata": {},
   "outputs": [],
   "source": [
    "domain = 'ocn_T'\n",
    "for run in ['ctrl', 'rcp']:\n",
    "    if run=='ctrl':\n",
    "        text1 = '<CTRL2>'\n",
    "        OHC_vt   = xr.open_dataarray(f'{path_samoc}/OHC/OHC_trend_vert_int_c2.nc'    , decode_times=False)\n",
    "        OHC_vt_a = xr.open_dataarray(f'{path_samoc}/OHC/OHC_trend_vert_int_a_c2.nc'  , decode_times=False)\n",
    "        OHC_vt_b = xr.open_dataarray(f'{path_samoc}/OHC/OHC_trend_vert_int_b_c2.nc'  , decode_times=False)\n",
    "\n",
    "    elif run=='rcp':\n",
    "        text1 = '<RCP>'\n",
    "        OHC_vt   = xr.open_dataarray(f'{path_samoc}/OHC/OHC_trend_vert_int_rcp.nc'   , decode_times=False)\n",
    "        OHC_vt_a = xr.open_dataarray(f'{path_samoc}/OHC/OHC_trend_vert_int_a_rcp.nc' , decode_times=False)\n",
    "        OHC_vt_b = xr.open_dataarray(f'{path_samoc}/OHC/OHC_trend_vert_int_b_rcp.nc' , decode_times=False)\n",
    "\n",
    "    vert_trends = [OHC_vt, OHC_vt_a, OHC_vt_b]\n",
    "    \n",
    "    for i, name in enumerate(names):  # rows: full depth, top 100m, below 100m\n",
    "        text2 = names2[i]\n",
    "        fn = f'{path_results}/OHC/OHC-video/OHC_trend_vert_int_{name}_ref_map_{run}.png'\n",
    "        xa = vert_trends[j]#.mean(dim='time')\n",
    "        if i in [0,2]:  \n",
    "            minv  = -3\n",
    "            maxv  = 9\n",
    "            nc    = 12\n",
    "        elif i==1:  \n",
    "            minv  = -2\n",
    "            maxv  = 6\n",
    "            nc    = 8\n",
    "\n",
    "        label = r'linear OHC trend [W/m$^2$]'\n",
    "        cmap  = discrete_cmap(nc, shifted_color_map(cmocean.cm.balance, \n",
    "                                                        start=.33, midpoint=0.5,\n",
    "                                                        stop=1., name='shrunk'))\n",
    "        f, ax = map_eq_earth(xa=xa, domain=domain, cmap=cmap, minv=minv, maxv=maxv,\n",
    "                                 label=label, filename=fn, text1=text1, text2=text2)"
   ]
  },
  {
   "cell_type": "code",
   "execution_count": null,
   "metadata": {},
   "outputs": [],
   "source": [
    "%%time\n",
    "\n",
    "for run in ['ctrl', 'rcp']:\n",
    "    if run=='ctrl':\n",
    "        nt = 160\n",
    "    elif run=='rcp':\n",
    "        nt = 69\n",
    "    for t in np.arange(1,nt+1):\n",
    "        new_im = Image.new('RGB', (3*width, 3*height))\n",
    "        print(t)\n",
    "        for i, name in enumerate(names):  # rows: full depth, top 100m, below 100m\n",
    "            for j in range(3):  # columns\n",
    "                if j==0:    # reference field\n",
    "                    fn = f'{path_results}/OHC/OHC-video/OHC_trend_vert_int_{name}_ref_map_{run}.png'\n",
    "                elif j==1:  # field(t),\n",
    "                    fn = f'{path_results}/OHC/OHC-video/OHC_trend_vert_int_{name}_map_{run}_{t}.png'\n",
    "                elif j==2:  # anomaly(t)\n",
    "                    fn = f'{path_results}/OHC/OHC-video/OHC_trend_vert_int_{name}_anom_map_{run}_{t}.png'\n",
    "                assert os.path.exists(fn)\n",
    "                im = Image.open(fn)\n",
    "                new_im.paste(im, (j*width,i*height))\n",
    "\n",
    "        new_im.save(f'{path_results}/OHC/OHC-video/OHC_trend_vert_int_maps_{run}_{t}.png', format='png', author='Andre Jueling')"
   ]
  },
  {
   "cell_type": "code",
   "execution_count": null,
   "metadata": {},
   "outputs": [],
   "source": [
    "new_im"
   ]
  },
  {
   "cell_type": "code",
   "execution_count": null,
   "metadata": {},
   "outputs": [],
   "source": [
    "Image.open(f'{path_results}/OHC/OHC-video/OHC_trend_vert_int_{name}_ref_map_{run}.png').size"
   ]
  },
  {
   "cell_type": "code",
   "execution_count": null,
   "metadata": {},
   "outputs": [],
   "source": [
    "! module load ffmpeg"
   ]
  },
  {
   "cell_type": "code",
   "execution_count": null,
   "metadata": {},
   "outputs": [],
   "source": [
    "! cp ../../../LEC/doc/video_command.txt ../../doc/"
   ]
  },
  {
   "cell_type": "markdown",
   "metadata": {},
   "source": [
    "`module load ffmpeg`\n",
    "`ffmpeg -framerate 12 -start_number 1 -i HC_trend_vert_int_maps_ctrl%d.png -r 12 -qscale:v 0 OHC_trend_vert_int_maps_ctrl.avi`"
   ]
  },
  {
   "cell_type": "markdown",
   "metadata": {},
   "source": [
    "## running mean of $\\Delta$OHC"
   ]
  },
  {
   "cell_type": "code",
   "execution_count": null,
   "metadata": {},
   "outputs": [],
   "source": [
    "# # files are written out with ../run/run_OHC_vert_diff_mean.py script\n",
    "# OHC_vert_diff_mean_ctrl = xr.open_dataarray(f'{path_samoc}/OHC/OHC_vert_diff_mean_ctrl.nc')\n",
    "# OHC_vert_diff_mean_rcp  = xr.open_dataarray(f'{path_samoc}/OHC/OHC_vert_diff_mean_rcp.nc' )\n",
    "# OHC_vert_diff_rm_ctrl   = xr.open_dataarray(f'{path_samoc}/OHC/OHC_vert_diff_rm_ctrl.nc'  )\n",
    "# OHC_vert_diff_rm_rcp    = xr.open_dataarray(f'{path_samoc}/OHC/OHC_vert_diff_rm_rcp.nc'   )"
   ]
  },
  {
   "cell_type": "code",
   "execution_count": null,
   "metadata": {},
   "outputs": [],
   "source": [
    "dOHC_vert_mean_ctrl.plot(cmap=cmocean.cm.balance)"
   ]
  },
  {
   "cell_type": "code",
   "execution_count": null,
   "metadata": {},
   "outputs": [],
   "source": [
    "dOHC_vert_ctrl[1].plot(vmin=-5e9,vmax=5e9, cmap=cmocean.cm.balance)"
   ]
  },
  {
   "cell_type": "code",
   "execution_count": null,
   "metadata": {},
   "outputs": [],
   "source": [
    "dOHC_vert_ctrl"
   ]
  },
  {
   "cell_type": "code",
   "execution_count": null,
   "metadata": {},
   "outputs": [],
   "source": [
    "for i in range(800):\n",
    "    fn =f'{path_results}/CICE/CICE_XMXL_video/CICE_XMXL_ctrl_no_{i:04d}.png'\n",
    "    if os.path.exists(fn)==False:\n",
    "        print(fn, os.path.exists(fn))\n",
    "        plt.scatter(i,i)\n",
    "#         os.rename(fn, f'{fn}.png')"
   ]
  },
  {
   "cell_type": "code",
   "execution_count": null,
   "metadata": {},
   "outputs": [],
   "source": [
    "os.path.exists(f'{path_results}/CICE/CICE_XMXL_video/CICE_XMXL_rcp_no_0013.png')"
   ]
  },
  {
   "cell_type": "code",
   "execution_count": null,
   "metadata": {},
   "outputs": [],
   "source": [
    "from CICE import "
   ]
  },
  {
   "cell_type": "code",
   "execution_count": null,
   "metadata": {},
   "outputs": [],
   "source": [
    "(ctrl.OHC_vertical.max(dim='time')-ctrl.OHC_vertical.min(dim='time')).plot()"
   ]
  },
  {
   "cell_type": "code",
   "execution_count": null,
   "metadata": {},
   "outputs": [],
   "source": [
    "plt.figure(figsize=(12,8))\n",
    "(rcp.OHC_vertical.max(dim='time')-rcp.OHC_vertical.min(dim='time')).plot()"
   ]
  },
  {
   "cell_type": "code",
   "execution_count": null,
   "metadata": {},
   "outputs": [],
   "source": [
    "plt.figure(figsize=(12,8))\n",
    "((rcp.OHC_vertical.max(dim='time')-rcp.OHC_vertical.min(dim='time'))-\n",
    " (ctrl.OHC_vertical.max(dim='time')-ctrl.OHC_vertical.min(dim='time'))).plot(vmin=-5e9,vmax=5e9,cmap=cmocean.cm.balance)"
   ]
  },
  {
   "cell_type": "code",
   "execution_count": null,
   "metadata": {},
   "outputs": [],
   "source": [
    "plt.figure(figsize=(12,8))\n",
    "((rcp.OHC_vertical.max(dim='time'))-\n",
    " (ctrl.OHC_vertical.max(dim='time'))).plot(vmin=-5e9,vmax=5e9,cmap=cmocean.cm.balance)"
   ]
  },
  {
   "cell_type": "code",
   "execution_count": null,
   "metadata": {},
   "outputs": [],
   "source": [
    "plt.figure(figsize=(12,8))\n",
    "(rcp.OHC_vertical.min(dim='time')-\n",
    " ctrl.OHC_vertical.min(dim='time')).plot(vmin=-5e9,vmax=5e9,cmap=cmocean.cm.balance)"
   ]
  },
  {
   "cell_type": "code",
   "execution_count": null,
   "metadata": {},
   "outputs": [],
   "source": [
    "maxv=1.5e10\n",
    "f, ax = plt.subplots(1,2,figsize=(12,5))\n",
    "(ctrl.OHC_vertical.max(dim='time')-ctrl.OHC_vertical.mean(dim='time')).plot(ax=ax[0], vmin=0,vmax=maxv, cmap=cmocean.cm.amp)\n",
    "(ctrl.OHC_vertical.min(dim='time')-ctrl.OHC_vertical.mean(dim='time')).plot(ax=ax[1], vmin=-maxv,vmax=0, cmap=cmocean.cm.tempo_r)"
   ]
  },
  {
   "cell_type": "code",
   "execution_count": null,
   "metadata": {},
   "outputs": [],
   "source": [
    "maxv=1.2e10\n",
    "f, ax = plt.subplots(1,2,figsize=(12,5))\n",
    "(rcp.OHC_vertical.max(dim='time')-rcp.OHC_vertical.mean(dim='time')).plot(ax=ax[0], vmin=0,vmax=maxv, cmap=cmocean.cm.amp)\n",
    "(rcp.OHC_vertical.min(dim='time')-rcp.OHC_vertical.mean(dim='time')).plot(ax=ax[1], vmin=-maxv,vmax=0, cmap=cmocean.cm.tempo_r)"
   ]
  },
  {
   "cell_type": "code",
   "execution_count": null,
   "metadata": {},
   "outputs": [],
   "source": [
    "(rcp.time/365).plot()"
   ]
  },
  {
   "cell_type": "code",
   "execution_count": null,
   "metadata": {},
   "outputs": [],
   "source": [
    "plt.figure(figsize=(12,4))\n",
    "for y in np.arange(2000,2064):\n",
    "    plt.scatter(y+2, rcp.OHC_global.sel({'time':slice(365*y,365*(y+5))}).mean(dim='time').item() )\n",
    "plt.plot(rcp.time/365, rcp.OHC_global.rolling(time=5, center=True).mean().values )"
   ]
  },
  {
   "cell_type": "code",
   "execution_count": null,
   "metadata": {},
   "outputs": [],
   "source": [
    "OHC_vert = (rcp.OHC_vertical.max(dim='time')-rcp.OHC_vertical.min(dim='time'))-(ctrl.OHC_vertical.max(dim='time')-ctrl.OHC_vertical.min(dim='time'))\n",
    "OHC_vert = OHC_vert.where(ds.REGION_MASK>0)"
   ]
  },
  {
   "cell_type": "code",
   "execution_count": null,
   "metadata": {},
   "outputs": [],
   "source": [
    "map_robinson(OHC_vert, 'ocn_U', cmocean.cm.balance, -maxv, maxv, 'OHC [J/m^2]')"
   ]
  },
  {
   "cell_type": "code",
   "execution_count": null,
   "metadata": {},
   "outputs": [],
   "source": [
    "%%time\n",
    "OHC_vert_trend = xr_linear_trends_2D(ctrl.OHC_vertical, ('nlat', 'nlon'))"
   ]
  },
  {
   "cell_type": "code",
   "execution_count": null,
   "metadata": {},
   "outputs": [],
   "source": [
    "OHC_vert_trend.plot()"
   ]
  },
  {
   "cell_type": "code",
   "execution_count": null,
   "metadata": {},
   "outputs": [],
   "source": []
  }
 ],
 "metadata": {
  "kernelspec": {
   "display_name": "Python 3",
   "language": "python",
   "name": "python3"
  },
  "language_info": {
   "codemirror_mode": {
    "name": "ipython",
    "version": 3
   },
   "file_extension": ".py",
   "mimetype": "text/x-python",
   "name": "python",
   "nbconvert_exporter": "python",
   "pygments_lexer": "ipython3",
   "version": "3.6.6"
  }
 },
 "nbformat": 4,
 "nbformat_minor": 2
}
