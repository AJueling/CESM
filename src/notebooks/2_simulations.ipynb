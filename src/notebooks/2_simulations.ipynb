{
 "cells": [
  {
   "cell_type": "markdown",
   "metadata": {},
   "source": [
    "# Figures for chapter 2 of my PhD thesis"
   ]
  },
  {
   "cell_type": "code",
   "execution_count": null,
   "metadata": {},
   "outputs": [],
   "source": [
    "import os\n",
    "import sys\n",
    "import numpy as np\n",
    "import scipy.stats as stats\n",
    "import pandas as pd\n",
    "import xarray as xr\n",
    "import cartopy\n",
    "import cartopy.crs as ccrs\n",
    "import datetime\n",
    "import calendar\n",
    "import matplotlib as mpl\n",
    "import matplotlib.pyplot as plt"
   ]
  },
  {
   "cell_type": "code",
   "execution_count": null,
   "metadata": {},
   "outputs": [],
   "source": [
    "%matplotlib inline\n",
    "mpl.rc_file('../rc_file')\n",
    "%config InlineBackend.print_figure_kwargs={'bbox_inches':None}\n",
    "%load_ext autoreload\n",
    "%autoreload 2"
   ]
  },
  {
   "cell_type": "code",
   "execution_count": null,
   "metadata": {
    "tags": []
   },
   "outputs": [],
   "source": [
    "sys.path.append(\"..\")\n",
    "from tqdm import notebook\n",
    "from paths import path_results, path_prace, CESM_filename\n",
    "from filters import lowpass\n",
    "from xr_regression import xr_linear_trend, xr_lintrend\n",
    "from constants import R_earth\n",
    "A_Earth = 4*np.pi*R_earth**2"
   ]
  },
  {
   "cell_type": "markdown",
   "metadata": {},
   "source": [
    "## Hallberg map\n",
    "map showing the ratio of grid spacing vs. Rossby deformation radius\n",
    "\n",
    "maybe combine with SSH variability"
   ]
  },
  {
   "cell_type": "markdown",
   "metadata": {},
   "source": [
    "## overview of simulations\n",
    "GMST time series of HIGH: ctrl, rcp, hq, LOW: lpd, lc1, lq"
   ]
  },
  {
   "cell_type": "code",
   "execution_count": null,
   "metadata": {},
   "outputs": [],
   "source": [
    "# made in GMST.ipynb\n",
    "gmst_ctrl = xr.open_dataarray(f'{path_results}/GMST/GMST_monthly_ctrl.nc', decode_times=False)\n",
    "gmst_rcp  = xr.open_dataarray(f'{path_results}/GMST/GMST_monthly_rcp.nc' , decode_times=False)\n",
    "gmst_hq   = xr.open_dataarray(f'{path_results}/GMST/GMST_monthly_hq.nc'  , decode_times=False)\n",
    "gmst_lpd  = xr.open_dataarray(f'{path_results}/GMST/GMST_monthly_lpd.nc' , decode_times=False)\n",
    "gmst_lc1  = xr.open_dataarray(f'{path_results}/GMST/GMST_monthly_lc1.nc' , decode_times=False)\n",
    "gmst_lpi  = xr.open_dataarray(f'{path_results}/GMST/GMST_monthly_lpi.nc' , decode_times=False)\n",
    "gmst_lr1  = xr.open_dataarray(f'{path_results}/GMST/GMST_monthly_lr1.nc' , decode_times=False)\n",
    "gmst_ld   = xr.open_dataarray(f'{path_results}/GMST/GMST_monthly_ld.nc'  , decode_times=False)\n",
    "gmst_lq   = xr.open_dataarray(f'{path_results}/GMST/GMST_monthly_lq.nc'  , decode_times=False)\n",
    "\n",
    "gmst_lpd_  = xr.open_dataset(f'{path_prace}/GMST/GMST_yrly_lpd.nc' , decode_times=False).GMST"
   ]
  },
  {
   "cell_type": "code",
   "execution_count": null,
   "metadata": {},
   "outputs": [],
   "source": [
    "GMST_h200  = gmst_ctrl.sel(time=slice(200*365,230*365)).mean()\n",
    "GMST_l500  = gmst_lpd.isel(time=slice(0,30*12)).mean()\n",
    "GMST_l1200 = gmst_lpd.isel(time=slice(690*12,720*12)).mean()"
   ]
  },
  {
   "cell_type": "code",
   "execution_count": null,
   "metadata": {},
   "outputs": [],
   "source": [
    "# CMIP5 CESM1-CAM5contributions\n",
    "header = ['year']+[calendar.month_abbr[m] for m in range(1,13)]\n",
    "kw = dict(skiprows=5, names=header, delim_whitespace=True, index_col=0)\n",
    "rcp85 = pd.read_csv('../../data/CMIP5/global_tas_Amon_CESM1-CAM5_rcp85_ave.dat', **kw).mean(axis=1)\n",
    "rcp60 = pd.read_csv('../../data/CMIP5/global_tas_Amon_CESM1-CAM5_rcp60_ave.dat', **kw).mean(axis=1)\n",
    "\n",
    "co2x4 = xr.open_dataarray('../../data/CMIP5/tas_CESM104_abrupt4x_5900.nc')\n",
    "cmipc = xr.open_dataarray('../../data/CMIP5/tas_CESM104_control_1000.nc')\n",
    "rcp85 -= rcp85[2000]\n",
    "rcp60 -= rcp60[2000]\n",
    "co2x4 -= cmipc.mean()"
   ]
  },
  {
   "cell_type": "code",
   "execution_count": null,
   "metadata": {},
   "outputs": [],
   "source": [
    "f = plt.figure(figsize=(6.4,4))\n",
    "ax1 = f.add_axes([.1,.75,.4,.23])\n",
    "ax2 = f.add_axes([.1,.45,.4,.23])\n",
    "ax3 = f.add_axes([.1,.15,.4,.23])\n",
    "for i, ax in enumerate([ax1, ax2, ax3]):\n",
    "    ax.plot(gmst_ctrl.time[11:]/365     , lowpass(gmst_ctrl.rolling(time=12).mean().dropna('time')-273.15,60), lw=1 , c='navy', label='CTRL' )\n",
    "    ax.plot(gmst_hq  .time[11:]/365+200 , lowpass(gmst_hq  .rolling(time=12).mean().dropna('time')-273.15,60), label='4xCO2', c='C3')\n",
    "    ax.plot(gmst_rcp .time[11:]/365+200 , lowpass(gmst_rcp .rolling(time=12).mean().dropna('time')-273.15,60), label='RCP'  , c='C1')\n",
    "    ax.plot(gmst_lpd_.time/365     , lowpass(gmst_lpd_                                                   , 5), lw=.7, c='deepskyblue', label='CTRL 1.1.2')\n",
    "    ax.plot(gmst_lpd .time[11:]/365     , lowpass(gmst_lpd .rolling(time=12).mean().dropna('time')-273.15,60), lw=.7, c='deepskyblue', label='CTRL 1.1.2')\n",
    "    ax.plot(gmst_lc1 .time[11:]/365+1000, lowpass(gmst_lc1 .rolling(time=12).mean().dropna('time')-273.15,60), lw=.7, c='royalblue', label='CTRL 1.0.4')\n",
    "    ax.plot(gmst_lr1 .time[11:]/365+ 500, lowpass(gmst_lr1 .rolling(time=12).mean().dropna('time')-273.15,60), lw=.7, label='RCP'  , c='C1')\n",
    "    ax.plot(gmst_lq  .time[11:]/365+1200, lowpass(gmst_lq  .rolling(time=12).mean().dropna('time')-273.15,60), lw=.7, label='4xCO2', c='C3')\n",
    "    ax.plot(gmst_ld  .time[11:]/365+ 500, lowpass(gmst_ld  .rolling(time=12).mean().dropna('time')-273.15,60), lw=.7, label='2xCO2', c='C2')\n",
    "    ax.set_xlim((-20+i*400,(i+1)*400+20))\n",
    "    ax.set_ylim([(13.3,15.3),(14.8,15.8),(15.1,16.1)][i])\n",
    "\n",
    "ax1.scatter(200 , GMST_h200 -273.15+.1, s=70, c='C3', zorder=4, marker=7)\n",
    "ax1.scatter(200 , GMST_h200 -273.15-.2, s=70, c='C1', zorder=4, marker=6)\n",
    "ax2.scatter(500 , GMST_l500 -273.15-.1, s=30, c='C1', zorder=4, marker=6, facecolor='none')\n",
    "ax2.scatter(500 , GMST_l500 -273.15+.1, s=30, c='C2', zorder=4, marker=7, facecolor='none')\n",
    "ax3.scatter(1200, GMST_l1200-273.15   , s=30, c='C3', zorder=4, marker=7, facecolor='none')\n",
    "\n",
    "ax1.text(  50,13.8, 'HR-CESM 1.04', c='navy')\n",
    "ax2.text( 610,15.4, 'LR-CESM 1.12', c='deepskyblue')\n",
    "ax3.text(1010,15.7, 'LR-CESM 1.04', c='royalblue')\n",
    "\n",
    "for i, ax in enumerate([ax1,ax2,ax3]):\n",
    "    ax.text(0.02,.82, '('+['a','b','c'][i]+')', transform=ax.transAxes)\n",
    "ax3.set_xlabel('time [model years]')\n",
    "ax2.set_ylabel(r'GMST [$^\\circ\\!$C]')\n",
    "\n",
    "# forced scenarios\n",
    "ax = f.add_axes([.59,.15,.4,.83])\n",
    "\n",
    "header = ['year']+[calendar.month_abbr[m] for m in range(1,13)]\n",
    "kw = dict(skiprows=5, names=header, delim_whitespace=True, index_col=0)\n",
    "df0 = pd.read_csv('../../data/CMIP5/global_tas_Amon_CESM1-CAM5_rcp85_ave.dat', **kw)\n",
    "df = df0.mean(axis=1)\n",
    "ax.plot(rcp85.index    , rcp85, c='lightgrey', ls='--', lw=1)\n",
    "ax.plot(rcp60.index    , rcp60, c='grey'     , ls='--', lw=1)\n",
    "\n",
    "ax.plot(gmst_rcp .time/365+2000, gmst_rcp .rolling(time=12).mean()-GMST_h200, label='RCP'  , c='C1')\n",
    "# ax.plot(gmst_rcp .time/365+2000, xr_lintrend(gmst_rcp-GMST_h200), ls='--', c='C1')\n",
    "ax.plot(gmst_hq  .time/365+2000, gmst_hq  .rolling(time=12).mean()-GMST_h200, label='4xCO2', c='C3')\n",
    "ax.plot(gmst_lr1 .time/365+2000, gmst_lr1 .rolling(time=12).mean()-GMST_l500, lw=.7, label='RCP'  , c='C1')\n",
    "# ax.plot(gmst_lr1 .time/365+2000, xr_lintrend(gmst_lr1-GMST_l500)            , lw=.7, ls='--', c='C1')\n",
    "ax.plot(gmst_lq  .time/365+2000, gmst_lq  .rolling(time=12).mean()-GMST_l1200, lw=.7, label='4xCO2', c='C3')\n",
    "ax.plot(gmst_ld  .time/365+2000, gmst_ld  .rolling(time=12).mean()-GMST_l1200, lw=.7, label='2xCO2', c='C2')\n",
    "ax.text(2040,   4, r'4$\\times$CO$_2$', c='C3'      , ha='center')\n",
    "ax.text(2040, 2.2, r'2$\\times$CO$_2$', c='C2'      , ha='center')\n",
    "ax.text(2040,   0, 'RCP'             , c='C1'      , ha='center')\n",
    "ax.text(2095, 4.4, 'RCP8.5'          , c='darkgrey', ha='right')\n",
    "ax.text(2095, 3.0, 'RCP6.0'          , c='grey'    , ha='right')\n",
    "lh, = ax.plot([],[],c='k',                 label='HR-CESM')\n",
    "ll, = ax.plot([],[],c='k', lw=.7,          label='LR-CESM')\n",
    "lc, = ax.plot([],[],c='k', lw=.7, ls='--', label='CMIP5')\n",
    "ax.legend(handles=[lh,ll,lc], loc='lower right', handlelength=1.5, fontsize=8)\n",
    "ax.set_xlim((1995,2105))\n",
    "ax.set_ylim((-.3,5.2))\n",
    "ax.text(0.02,.95,'(d)', transform=ax.transAxes)\n",
    "ax.set_xlabel('time [model years]')\n",
    "ax.set_ylabel(r'GMST response [K]')\n",
    "plt.savefig(f'{path_results}/thesis/2_sim_overview.eps')\n",
    "plt.savefig(f'{path_results}/ECS/simulations_overview')\n"
   ]
  },
  {
   "cell_type": "markdown",
   "metadata": {},
   "source": [
    "### RCP vs RCP8.5"
   ]
  },
  {
   "cell_type": "code",
   "execution_count": null,
   "metadata": {},
   "outputs": [],
   "source": [
    "header = ['year']+[calendar.month_abbr[m] for m in range(1,13)]\n",
    "kw = dict(skiprows=5, names=header, delim_whitespace=True, index_col=0)\n",
    "df0 = pd.read_csv('../../data/CMIP5/global_tas_Amon_CESM1-CAM5_rcp85_ave.dat', **kw)\n",
    "df1 = pd.read_csv('../../data/CMIP5/global_tas_Amon_CESM1-CAM5_rcp85_r1i1p1.dat', **kw)\n",
    "df2 = pd.read_csv('../../data/CMIP5/global_tas_Amon_CESM1-CAM5_rcp85_r2i1p1.dat', **kw)"
   ]
  },
  {
   "cell_type": "code",
   "execution_count": null,
   "metadata": {},
   "outputs": [],
   "source": [
    "plt.plot(gmst_lr1 .time/365+2000, gmst_lr1 .rolling(time=12).mean()-GMST_l500, lw=.7, label='RCP'  , c='C1')\n",
    "print((gmst_lr1[-12*5:].mean()-GMST_l500).values)\n",
    "for df in [df0, df1, df2]:\n",
    "    df = df.mean(axis=1)\n",
    "    df = df-df[2000]\n",
    "    df.plot()\n",
    "    print(df[-5:].mean())"
   ]
  },
  {
   "cell_type": "code",
   "execution_count": null,
   "metadata": {},
   "outputs": [],
   "source": [
    "df0"
   ]
  },
  {
   "cell_type": "code",
   "execution_count": null,
   "metadata": {},
   "outputs": [],
   "source": [
    "df0.index"
   ]
  },
  {
   "cell_type": "code",
   "execution_count": null,
   "metadata": {},
   "outputs": [],
   "source": []
  }
 ],
 "metadata": {
  "kernelspec": {
   "display_name": "Python 3",
   "language": "python",
   "name": "python3"
  },
  "language_info": {
   "codemirror_mode": {
    "name": "ipython",
    "version": 3
   },
   "file_extension": ".py",
   "mimetype": "text/x-python",
   "name": "python",
   "nbconvert_exporter": "python",
   "pygments_lexer": "ipython3",
   "version": "3.7.6"
  }
 },
 "nbformat": 4,
 "nbformat_minor": 4
}
