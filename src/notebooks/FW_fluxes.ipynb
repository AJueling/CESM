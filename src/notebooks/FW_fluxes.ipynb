{
 "cells": [
  {
   "cell_type": "markdown",
   "metadata": {},
   "source": [
    "# Stability of the AMOC"
   ]
  },
  {
   "cell_type": "markdown",
   "metadata": {},
   "source": [
    "## $M_{ov}$ calculation\n",
    "\n",
    "The fundamental idea behind the $M_{ov}$ parameter is the effect of a MOC shutdown has on the salinity in the North Atlantic and hence NADW formation.\n",
    "If the overturning circulation imports freshwater to the Atlantic, a MOC shutdown will increase salinity which counteracts the shutdown.\n",
    "Vice versa, a freshwater export due to the MOC will lead to freshening of the North Atlantic in case of a shutdown and hence a strengthening of the shut down state.\n",
    "\n",
    "The Atlantic freshwater budget in steady state is\n",
    "\n",
    "$$\\left[E - P - R \\right] = M_{ov} + M_{az} + M_{dif} + M_{BS}$$\n",
    "\n",
    "with evaporation $E$, precipitation $P$, runoff $R$, as well as freshwater transport terms due to the overturning circulation $M_{ov}$, the azonal gyre circulation $M_{az}$, diffusion $M_{dif}$, and exchange via the Bering Strait $M_{BS}$.\n",
    "\n",
    "\n",
    "The overturning freswater transport term $M_{ov}$ is given differently in different publications:\n",
    "\n",
    "_de Vries et al. (2005)_:\n",
    "\n",
    "$$M_{ov} = - \\frac{1}{S_0} \\int \\bar{v}(z) \\left[ \\langle S(z) \\rangle - S_0 \\right] \\,\\mathrm{d}z$$\n",
    "\n",
    "where $\\bar{v}(z) = \\int v(x,z) \\,\\mathrm{d}x$ is the zonal integral and $\\langle S \\rangle (z) = \\int S(x,z) \\,\\mathrm{d}x \\, \\big/ \\int \\mathrm{d}x$ is the zonal mean, such that\n",
    "\n",
    "\\begin{align}\n",
    "M_{ov} & = - \\frac{1}{S_0} \\int \\left[ \\int v(x,z) \\,\\mathrm{d}x \\right] \\left[ \\frac{\\int S(x,z) \\,\\mathrm{d}x}{\\int \\mathrm{d}x} - S_0 \\right] \\,\\mathrm{d}z \\\\\n",
    " & = - \\frac{1}{S_0} \\int \\left[ \\int v(x,z) \\,\\mathrm{d}x \\right] \\left[ \\frac{\\int S(x,z) \\,\\mathrm{d}x}{\\int \\mathrm{d}x} \\right] \\,\\mathrm{d}z + \\int \\int v(x,z) \\, \\mathrm{d}x \\mathrm{d}z  \\tag{1}\n",
    "\\end{align}\n",
    "\n",
    "_Mecking et al. (2017)_:\n",
    "\n",
    "$$M_{ov} = - \\frac{1}{S_0} \\int \\int v^*(z) \\langle S(z) \\rangle \\, \\mathrm{d}x \\mathrm{d}z$$\n",
    "\n",
    "where $v^*(z) = \\langle v \\rangle (z) - \\bar{v} = \\int v(x,z) \\,\\mathrm{d}x \\, \\big/ \\int \\mathrm{d}x - \\int \\int v(x,z) \\,\\mathrm{d}x \\mathrm{d}z \\, \\big/ \\int \\int \\mathrm{d}x \\mathrm{d}z$ such that\n",
    "\n",
    "\\begin{align}\n",
    "M_{ov} & = - \\frac{1}{S_0} \\int \\int \\left[ \\frac{\\int v(x,z) \\,\\mathrm{d}x}{ \\int \\mathrm{d}x} - \\frac{\\int \\int v(x,z) \\,\\mathrm{d}x \\mathrm{d}z}{\\int \\int \\mathrm{d}x \\mathrm{d}z} \\right] \\left[ \\frac{\\int S(x,z) \\,\\mathrm{d}x}{\\int \\mathrm{d}x}\\right] \\, \\mathrm{d}x \\mathrm{d}z \\\\\n",
    " & = - \\frac{1}{S_0} \\int \\left[ \\int v(x,z) \\,\\mathrm{d}x - \\frac{\\int \\int v(x,z) \\,\\mathrm{d}x \\mathrm{d}z}{\\int \\mathrm{d}z} \\right] \\left[ \\frac{\\int S(x,z) \\,\\mathrm{d}x}{\\int \\mathrm{d}x}\\right] \\, \\mathrm{d}z  \\\\\n",
    " & = - \\frac{1}{S_0} \\int \\left[ \\int v(x,z) \\,\\mathrm{d}x \\right] \\left[ \\frac{\\int S(x,z) \\,\\mathrm{d}x}{\\int \\mathrm{d}x}\\right] \\, \\mathrm{d}z  + \\frac{1}{S_0} \\int  \\left[ \\frac{\\int \\int v(x,z) \\,\\mathrm{d}x \\mathrm{d}z}{\\int \\mathrm{d}z} \\right] \\left[ \\frac{\\int S(x,z) \\,\\mathrm{d}x}{\\int \\mathrm{d}x}\\right] \\, \\mathrm{d}z \\\\\n",
    "  & = - \\frac{1}{S_0} \\int \\left[ \\int v(x,z) \\,\\mathrm{d}x \\right] \\left[ \\frac{\\int S(x,z) \\,\\mathrm{d}x}{\\int \\mathrm{d}x}\\right] \\, \\mathrm{d}z  + \\frac{1}{S_0} \\int \\left[ \\frac{ \\int \\int v(x,z) \\,\\mathrm{d}x \\mathrm{d}z  \\times   \\int S(x,z) \\,\\mathrm{d}x }{\\int \\int \\mathrm{d}x \\mathrm{d}z } \\right] \\, \\mathrm{d}z \\\\\n",
    "  & = - \\frac{1}{S_0} \\int \\left[ \\int v(x,z) \\,\\mathrm{d}x \\right] \\left[ \\frac{\\int S(x,z) \\,\\mathrm{d}x}{\\int \\mathrm{d}x}\\right] \\, \\mathrm{d}z  + \\left[ \\frac{1}{S_0} \\frac{  \\int \\int S(x,z) \\,\\mathrm{d}x \\mathrm{d}z}{\\int \\int \\mathrm{d}x \\mathrm{d}z } \\right] \\int \\int v(x,z) \\,\\mathrm{d}x \\mathrm{d}z  \\tag{2}\n",
    "\\end{align}\n",
    "\n",
    "Equations (2) and (1) are equal if the reference salinity is equal to the section average: $S_0 = \\int \\int S(x,z) \\,\\mathrm{d}x \\mathrm{d}z \\, \\big/ \\int \\int \\mathrm{d}x \\mathrm{d}z $"
   ]
  },
  {
   "cell_type": "code",
   "execution_count": null,
   "metadata": {},
   "outputs": [],
   "source": [
    "import os\n",
    "import sys\n",
    "import cmocean\n",
    "import numpy as np\n",
    "import xarray as xr\n",
    "import warnings\n",
    "import matplotlib\n",
    "import matplotlib.pyplot as plt"
   ]
  },
  {
   "cell_type": "code",
   "execution_count": null,
   "metadata": {},
   "outputs": [],
   "source": [
    "sys.path.append(\"..\")\n",
    "%matplotlib inline\n",
    "matplotlib.rc_file('../rc_file')\n",
    "%config InlineBackend.print_figure_kwargs={'bbox_inches':None}\n",
    "%load_ext autoreload\n",
    "%autoreload 2\n",
    "%aimport - numpy - scipy - matplotlib.pyplot"
   ]
  },
  {
   "cell_type": "code",
   "execution_count": null,
   "metadata": {},
   "outputs": [],
   "source": [
    "from MOC import approx_lats\n",
    "from tqdm import notebook\n",
    "from paths import file_ex_ocn_ctrl, file_ex_ocn_rcp, file_ex_ocn_lpd, path_prace, path_results, file_RMASK_ocn, file_RMASK_ocn_low\n",
    "from filters import lowpass\n",
    "from FW_plots import FW_merid_fluxes_plot\n",
    "from constants import rho_sw  # [kg/m^3]\n",
    "from timeseries import IterateOutputCESM\n",
    "from FW_transport import FW_SALT_flux_dataset\n",
    "from xr_regression import xr_lintrend, xr_linear_trend, xr_2D_trends\n",
    "from xr_DataArrays import xr_DZ\n",
    "warnings.filterwarnings('ignore')"
   ]
  },
  {
   "cell_type": "code",
   "execution_count": null,
   "metadata": {},
   "outputs": [],
   "source": [
    "FW_merid_fluxes_plot()"
   ]
  },
  {
   "cell_type": "code",
   "execution_count": null,
   "metadata": {},
   "outputs": [],
   "source": [
    "# # test whether all necessary yrly avg. files exist\n",
    "# for run in notebook.tqdm(['ctrl', 'rcp', 'lpd', 'lr1']):\n",
    "#     if run=='ctrl':  yy = np.arange(1,301)\n",
    "#     elif run=='lpd':  yy = np.arange(154,601)\n",
    "#     elif run in ['rcp', 'lr1']:  yy = np.arange(2000,2101)\n",
    "#     for q in ['SALT','VNS','UVEL_VVEL']:\n",
    "#         N, n = 0, 0\n",
    "#         for y in yy:\n",
    "#             fn = f'{path_prace}/{run}/ocn_yrly_{q}_{y:04d}.nc'\n",
    "#             if os.path.exists(fn)==True:\n",
    "#                 n+=1\n",
    "#             N+=1\n",
    "#         print(f'{run:4} {q:9}: {n/N*100}%')\n",
    "#     print('')"
   ]
  },
  {
   "cell_type": "code",
   "execution_count": null,
   "metadata": {},
   "outputs": [],
   "source": [
    "# # test whether all annual flux files exist\n",
    "# # if not they can be created by calling `FW_transport.py {run} {first year} {last year}`\n",
    "# # this takes temporarily up to 90GB of RAM, can be batched with `run/run_FW_transport.sh`\n",
    "# for run in ['ctrl', 'rcp', 'lpd', 'lr1']:\n",
    "#     if run=='ctrl':  yy = np.arange(1,301)\n",
    "#     elif run=='lpd':  yy = np.arange(154,601)\n",
    "#     elif run in ['rcp', 'lr1']:  yy = np.arange(2000,2101)\n",
    "#     N, n = 0, 0\n",
    "#     for y in yy:\n",
    "#         fn = f'{path_prace}/Mov/FW_SALT_fluxes_{run}_{y:04d}.nc'\n",
    "#         if os.path.exists(fn)==True:\n",
    "#             n+=1\n",
    "#         N+=1\n",
    "#     print(f'{run:4}: {n/N*100}%')"
   ]
  },
  {
   "cell_type": "code",
   "execution_count": null,
   "metadata": {},
   "outputs": [],
   "source": [
    "# combining annual data into single datasets or loading them\n",
    "ds_ctrl = FW_SALT_flux_dataset(run='ctrl')\n",
    "# ds_rcp  = FW_SALT_flux_dataset(run='rcp' )\n",
    "# ds_lpd  = FW_SALT_flux_dataset(run='lpd' )\n",
    "# ds_lr1  = FW_SALT_flux_dataset(run='lr1' )"
   ]
  },
  {
   "cell_type": "markdown",
   "metadata": {},
   "source": [
    "- 34S first sensible lat: HIGH nlat_u=810,  LOW nlat_u=85\n",
    "`ds_ctrl.St.isel(nlat_u=slice(2105,2110)).isel(time=0).plot()`\n",
    "- 60N last sensible latitude: HIGH nlat_u: 2109,  LOW nlat_u=348\n",
    "`ds_lpd.Sov.isel(nlat_u=slice(340,350)).isel(time=0).plot()`"
   ]
  },
  {
   "cell_type": "code",
   "execution_count": null,
   "metadata": {},
   "outputs": [],
   "source": [
    "dsh = xr.open_dataset(file_ex_ocn_ctrl, decode_times=False)\n",
    "dsl = xr.open_dataset(file_ex_ocn_lpd , decode_times=False)"
   ]
  },
  {
   "cell_type": "code",
   "execution_count": null,
   "metadata": {},
   "outputs": [],
   "source": [
    "ds_ocn = xr.open_dataset(file_ex_ocn_ctrl, decode_times=False)\n",
    "ds_low = xr.open_dataset(file_ex_ocn_lpd, decode_times=False)\n",
    "RMASK_ocn = xr.open_dataarray(file_RMASK_ocn)\n",
    "RMASK_low = xr.open_dataarray(file_RMASK_ocn_low)\n",
    "Atl_MASK_ocn = xr.DataArray(np.in1d(RMASK_ocn, [6,8,9]).reshape(RMASK_ocn.shape),\n",
    "                            dims=RMASK_ocn.dims, coords=RMASK_ocn.coords)\n",
    "Atl_MASK_low = xr.DataArray(np.in1d(RMASK_low, [6,8,9]).reshape(RMASK_low.shape),\n",
    "                            dims=RMASK_low.dims, coords=RMASK_low.coords)"
   ]
  },
  {
   "cell_type": "markdown",
   "metadata": {},
   "source": [
    "### evolution of $F_{ov,34S}$"
   ]
  },
  {
   "cell_type": "code",
   "execution_count": null,
   "metadata": {},
   "outputs": [],
   "source": [
    "for i, run in enumerate(['ctrl', 'rcp', 'lpd', 'lr1']):\n",
    "    fn_out = f'{path_prace}/Mov/FW_SALT_fluxes_{run}.nc'\n",
    "    if run=='ctrl':  Mov_ctrl = xr.open_dataset(fn_out, decode_times=False)\n",
    "    if run=='rcp' :  Mov_rcp  = xr.open_dataset(fn_out, decode_times=False)\n",
    "    if run=='lpd' :  Mov_lpd  = xr.open_dataset(fn_out, decode_times=False)\n",
    "    if run=='lr1' :  Mov_lr1  = xr.open_dataset(fn_out, decode_times=False)"
   ]
  },
  {
   "cell_type": "code",
   "execution_count": null,
   "metadata": {},
   "outputs": [],
   "source": [
    "def rmean(da):\n",
    "    return da.rolling(time=11, center=True).mean()\n",
    "    \n",
    "Fov_ctrl, Fov_rcp = Mov_ctrl.Fov.isel(nlat_u=810), Mov_rcp.Fov.isel(nlat_u=810)\n",
    "Faz_ctrl, Faz_rcp = Mov_ctrl.Faz.isel(nlat_u=810), Mov_rcp.Faz.isel(nlat_u=810)\n",
    "Fov_lpd, Fov_lr1 = Mov_lpd.Fov.isel(nlat_u=85), Mov_lr1.Fov.isel(nlat_u=85)\n",
    "Faz_lpd, Faz_lr1 = Mov_lpd.Faz.isel(nlat_u=85), Mov_lr1.Faz.isel(nlat_u=85)\n",
    "\n",
    "Fov_N_ctrl, Fov_N_rcp = Mov_ctrl.Fov.isel(nlat_u=1867), Mov_rcp.Fov.isel(nlat_u=1867)\n",
    "Faz_N_ctrl, Faz_N_rcp = Mov_ctrl.Faz.isel(nlat_u=1867), Mov_rcp.Faz.isel(nlat_u=1867)\n",
    "Fov_N_lpd , Fov_N_lr1 = Mov_lpd.Fov.isel(nlat_u=348), Mov_lr1.Fov.isel(nlat_u=348)\n",
    "Faz_N_lpd , Faz_N_lr1 = Mov_lpd.Faz.isel(nlat_u=348), Mov_lr1.Faz.isel(nlat_u=348)\n",
    "    \n",
    "f, ax = plt.subplots(1,2, figsize=(6.4,3), sharey=True)\n",
    "ov, az, deg = r'$_{\\!ov}$', r'$_{\\!az}$', r'$\\!^\\circ\\!$'\n",
    "ax[0].set_ylabel(f'F{ov} / F{az}  at  34{deg}S  [Sv]')\n",
    "for i in range(2):  ax[i].axhline(0, c='k', lw=.5)\n",
    "# ax[0].plot(Mov_ctrl.Fov.time/365/24 , Fov_ctrl, c='C0', alpha=.5)\n",
    "# ax[0].plot(Mov_rcp .Fov.time/365+200, Fov_rcp , c='C1', alpha=.5)\n",
    "# ax[0].plot(Mov_ctrl.Faz.time/365/24 , Faz_ctrl, c='C0', alpha=.5, lw=.7)\n",
    "# ax[0].plot(Mov_rcp .Faz.time/365+200, Faz_rcp , c='C1', alpha=.5, lw=.7)\n",
    "ax[0].plot(Mov_ctrl.Fov.time/365/24 , rmean(Fov_ctrl), c='C0', label=f'F{ov} CTRL')\n",
    "ax[0].plot(Mov_rcp .Fov.time/365+200, rmean(Fov_rcp ), c='C1', label=f'F{ov} RCP')\n",
    "ax[0].plot(Mov_ctrl.Faz.time/365/24 , rmean(Faz_ctrl), c='C0', label=f'F{az} CTRL', lw=.7)\n",
    "ax[0].plot(Mov_rcp .Faz.time/365+200, rmean(Faz_rcp ), c='C1', label=f'F{az} RCP', lw=.7)\n",
    "ax[0].plot(Mov_ctrl.Fov.time/365/24 , rmean(Fov_ctrl-Fov_N_ctrl), c='C0', lw=.7, ls='--', label=r'$\\Sigma$')\n",
    "ax[0].plot(Mov_rcp .Fov.time/365+200, rmean(Fov_rcp -Fov_N_rcp ), c='C1', lw=.7, ls='--', label=r'$\\Sigma$')\n",
    "ax[0].legend(ncol=3, fontsize=8, frameon=False)\n",
    "\n",
    "# ax[1].plot(Mov_lpd.Fov.time/365+154, Fov_lpd, c='C0', alpha=.5)\n",
    "# ax[1].plot(Mov_lr1.Fov.time/365+500, Fov_lr1, c='C1', alpha=.5)\n",
    "# ax[1].plot(Mov_lpd.Faz.time/365+154, Faz_lpd, c='C0', alpha=.5, lw=.7)\n",
    "# ax[1].plot(Mov_lr1.Faz.time/365+500, Faz_lr1, c='C1', alpha=.5, lw=.7)\n",
    "ax[1].plot(Mov_lpd.Fov.time/365+154, rmean(Fov_lpd), c='C0')\n",
    "ax[1].plot(Mov_lr1.Fov.time/365+500, rmean(Fov_lr1), c='C1')\n",
    "ax[1].plot(Mov_lpd.Faz.time/365+154, rmean(Faz_lpd), c='C0', lw=.7)\n",
    "ax[1].plot(Mov_lr1.Faz.time/365+500, rmean(Faz_lr1), c='C1', lw=.7)\n",
    "\n",
    "ax[1].plot(Mov_lpd.Fov.time/365+154, rmean(Fov_lpd-Fov_N_lpd), lw=.7, ls='--', c='C0')\n",
    "ax[1].plot(Mov_lr1.Fov.time/365+500, rmean(Fov_lr1-Fov_N_lr1), lw=.7, ls='--', c='C1')\n",
    "\n",
    "ax[0].plot(Fov_rcp.time/365+200, xr_lintrend(Fov_rcp)+.02, ls='-', c=f'C{i}')\n",
    "ax[1].plot(Fov_lr1.time/365+500, xr_lintrend(Fov_lr1)+.02, ls='-', c=f'C{i}')\n",
    "ax[0].text(200, .12,f'{xr_linear_trend(Fov_rcp).values*365*100:.2f} Sv/100yr', color=f'C{i}', fontsize=8)\n",
    "ax[1].text(450, .15,f'{xr_linear_trend(Fov_lr1).values*365*100:.2f} Sv/100yr', color=f'C{i}', fontsize=8)\n",
    "\n",
    "for i in range(2):  ax[i].set_xlabel('time [model years]')\n",
    "ax[1].errorbar(x=200, y=-.165, fmt='none', yerr=.115, capsize=3, c='k')\n",
    "ax[1].text(220,-.165, f'observed F{ov} range\\n[Weijer et al. (2019)]', va='center', fontsize=8)\n",
    "plt.savefig(f'{path_results}/Mov/Fov_34S_HIGH_LOW')"
   ]
  },
  {
   "cell_type": "markdown",
   "metadata": {},
   "source": [
    "### ov + az + eddy = total"
   ]
  },
  {
   "cell_type": "code",
   "execution_count": null,
   "metadata": {},
   "outputs": [],
   "source": [
    "f, ax = plt.subplots(1,2, figsize=(8,3), sharex='col', sharey='row')\n",
    "ov, az, eddy, tot = r'$_{ov}$', r'$_{az}$', r'$_{eddy}$', r'$_{tot}$'\n",
    "for i, res in enumerate(['HIGH','LOW']):\n",
    "    ctl = ['ctrl', 'lpd'][i]\n",
    "    rcp = ['rcp', 'lr1'][i]\n",
    "    yrs = [slice(200,203), slice(500-154,530-154)][i]\n",
    "    ax[i].set_title(res)\n",
    "    ax[0].set_ylabel('northward Salt transport [kg/s]')\n",
    "    ax[i].axhline(0, c='k')\n",
    "    ax[i].axvline(0, c='k')\n",
    "    ax[i].set_xlim((-34.5,60))\n",
    "    ax[i].set_xticks([-34.5,-10,0,10,45,60])\n",
    "    ax[i].grid()\n",
    "    lats = [approx_lats('ocn'), dsl.TLAT.where(Atl_MASK_low).mean(dim='nlon', skipna=True)][i]\n",
    "    dso = xr.open_dataset(f'{path_prace}/Mov/FW_SALT_fluxes_{ctl}.nc', decode_times=False).isel(time=yrs)\n",
    "    dst = xr.open_dataset(f'{path_prace}/Mov/FW_SALT_fluxes_{rcp}.nc', decode_times=False)\n",
    "    ax[i].plot(lats, dso.Se .mean('time')                 , c='C2', label=f'S{eddy}')\n",
    "    ax[i].plot(lats, (dso.Sov+dso.Saz).mean('time'), c='C4', label=f'S{ov}+S{az}', zorder=4)\n",
    "    ax[i].plot(lats, (dso.Sov+dso.Saz+dso.Se).mean('time'), c='C5', label=f'S{ov}+S{az}+S{eddy}', zorder=4)\n",
    "    ax[i].plot(lats, dso.St.mean('time'), c='C3', label=f'S{tot}')\n",
    "    ax[i].set_ylim((-8e7,1e7))\n",
    "    ax[i].legend()"
   ]
  },
  {
   "cell_type": "markdown",
   "metadata": {},
   "source": [
    "### Salt bias corrected meridional FW/SALT fluxes."
   ]
  },
  {
   "cell_type": "code",
   "execution_count": null,
   "metadata": {},
   "outputs": [],
   "source": [
    "# SALT_mean_low  = xr.open_dataarray(f'{path_prace}/EN4/EN4_mean_salinity_low.nc')\n",
    "# SALT_mean_high = xr.open_dataarray(f'{path_prace}/EN4/EN4_mean_salinity_high.nc')"
   ]
  },
  {
   "cell_type": "code",
   "execution_count": null,
   "metadata": {},
   "outputs": [],
   "source": []
  },
  {
   "cell_type": "markdown",
   "metadata": {},
   "source": [
    "### How well can we approximate the FW eddy term with averaging monthly fields to a yearly field?"
   ]
  },
  {
   "cell_type": "code",
   "execution_count": null,
   "metadata": {},
   "outputs": [],
   "source": [
    "for run in ['ctrl', 'lpd']:\n",
    "    SALT_VNS_UES = xr.open_dataset(f'{path_prace}/{run}/ocn_yrly_SALT_VNS_UES_0200.nc', decode_times=False)\n",
    "    UVEL_VVEL = xr.open_dataset(f'{path_prace}/{run}/ocn_yrly_UVEL_VVEL_0200.nc', decode_times=False)\n",
    "    ds = xr.merge([SALT_VNS_UES, UVEL_VVEL])\n",
    "    "
   ]
  },
  {
   "cell_type": "markdown",
   "metadata": {},
   "source": [
    "### other views of the data"
   ]
  },
  {
   "cell_type": "code",
   "execution_count": null,
   "metadata": {},
   "outputs": [],
   "source": [
    "f, ax = plt.subplots(2,1, figsize=(6.4,5), sharex='col', sharey='row')\n",
    "ov, az, eddy, tot = r'$_{ov}$', r'$_{az}$', r'$_{eddy}$', r'$_{tot}$'\n",
    "for i, res in enumerate(['HIGH','LOW']):\n",
    "    ctl = ['ctrl', 'lpd'][i]\n",
    "    rcp = ['rcp', 'lr1'][i]\n",
    "    lst = ['-', '--'][i]\n",
    "    yrs = [slice(200,203), slice(500-154,530-154)][i]\n",
    "#     ax[0,].set_title(res)\n",
    "    ax[i].set_ylabel(['northward FW transport [Sv]','northward Salt transport [kg/s]'][i])\n",
    "    ax[i].axhline(0, c='k')\n",
    "    ax[i].axvline(0, c='k')\n",
    "    ax[i].grid()\n",
    "#     lats = [approx_lats('ocn'), dsl.TLAT.where(Atl_MASK_low).mean(dim='nlon', skipna=True)][i]\n",
    "    lats = [dsh.TLAT.where(Atl_MASK_ocn).mean(dim='nlon', skipna=True), dsl.TLAT.where(Atl_MASK_low).mean(dim='nlon', skipna=True)][i]\n",
    "#     lats = [dsh.nlat, dsl.nlat][i]\n",
    "    dso = xr.open_dataset(f'{path_prace}/Mov/FW_SALT_fluxes_{ctl}.nc', decode_times=False).isel(time=yrs)\n",
    "#     dsc = xr.open_dataset(f'{path_prace}/{ctl}/FW_SALT_fluxes_bias_corrected_{ctl}.nc', decode_times=False)\n",
    "    dst = xr.open_dataset(f'{path_prace}/Mov/FW_SALT_fluxes_{rcp}.nc', decode_times=False)\n",
    "\n",
    "    # original\n",
    "    ax[0].plot(lats, dso.Fov.mean('time')          , c='C0', ls=lst, label=f'F{ov}')\n",
    "    ax[0].plot(lats, dso.Faz.mean('time')          , c='C1', ls=lst, label=f'F{az}')\n",
    "    ax[0].plot(lats, (dso.Fov+dso.Faz).mean('time'), c='C3', ls=lst, label=f'F{ov}+F{az}')\n",
    "    ax[1].plot(lats, dso.Sov.mean('time')          , c='C0', ls=lst, label=f'S{ov}')\n",
    "    ax[1].plot(lats, dso.Saz.mean('time')          , c='C1', ls=lst, label=f'S{az}')\n",
    "    ax[1].plot(lats, dso.Se .mean('time')          , c='C2', ls=lst, label=f'S{eddy}')\n",
    "    ax[1].plot(lats, (dso.Sov+dso.Saz).mean('time'), c='C4', ls=lst, label=f'S{ov}+S{az}', zorder=4)\n",
    "    ax[1].plot(lats, dso.St.mean('time')           , c='C3', ls=lst, label=f'S{tot}')\n",
    "    \n",
    "#     if i==1:\n",
    "#     for t in range(5):\n",
    "#         s = slice(t*20,(t+1)*20)\n",
    "#         ax[0,i].plot(lats, dst.Fov                 .isel(time=s).mean('time'), c='C0', alpha=.9-t*.15)\n",
    "#         ax[0,i].plot(lats, dst.Faz                 .isel(time=s).mean('time'), c='C1', alpha=.9-t*.15)\n",
    "#         ax[0,i].plot(lats, (dst.Fov+dst.Faz)       .isel(time=s).mean('time'), c='C3', alpha=.9-t*.15)\n",
    "#         ax[1,i].plot(lats, dst.Sov                 .isel(time=s).mean('time'), c='C0', alpha=.9-t*.15)\n",
    "#         ax[1,i].plot(lats, dst.Saz                 .isel(time=s).mean('time'), c='C1', alpha=.9-t*.15)\n",
    "#         ax[1,i].plot(lats, dst.Se                  .isel(time=s).mean('time'), c='C2', alpha=.9-t*.15)\n",
    "# #         ax[1,i].plot(lats, (dst.Sov+dst.Saz+dst.Se).isel(time=s).mean('time'), c='C3', alpha=.9-t*.15)\n",
    "#         ax[1,i].plot(lats, (dst.St).isel(time=s).mean('time'), c='C3', alpha=.9-t*.15)\n",
    "    \n",
    "#     ax[1,i].set_ylim((-1.5e8,1.5e8))\n",
    "    ax[1].set_xlabel(r'latitude [$^\\circ$N]')\n",
    "    ax[1].set_ylim((-8e7,2e7))\n",
    "    if i==0:\n",
    "        for j in range(2):\n",
    "            ax[j].legend(ncol=5, fontsize=7)\n",
    "#         ax[j].add_artist(l1)\n",
    "\n",
    "# plt.savefig(f'{path_results}/Mov/Mov_lat_ctrl_lpd')"
   ]
  },
  {
   "cell_type": "code",
   "execution_count": null,
   "metadata": {},
   "outputs": [],
   "source": [
    "f, ax = plt.subplots(2,2, figsize=(12,8), sharex='col', sharey='row')\n",
    "ov, az, eddy, tot = r'$_{ov}$', r'$_{az}$', r'$_{eddy}$', r'$_{tot}$'\n",
    "for i, res in enumerate(['HIGH','LOW']):\n",
    "    ctl = ['ctrl', 'lpd'][i]\n",
    "    rcp = ['rcp', 'lr1'][i]\n",
    "    yrs = [slice(200,203), slice(500-154,530-154)][i]\n",
    "    ax[0,i].set_title(res)\n",
    "    ax[i,0].set_ylabel(['northward FW transport [Sv]','northward Salt transport [kg/s]'][i])\n",
    "    for j in range(2):\n",
    "        ax[i,j].axhline(0, c='k')\n",
    "        ax[i,j].axvline(0, c='k')\n",
    "#         ax[i,j].set_xlim((-34.5,70))\n",
    "#         ax[i,j].set_xticks([-34.5,-20,0,20,40,60])\n",
    "        ax[i,j].grid()\n",
    "#     lats = [approx_lats('ocn'), dsl.TLAT.where(Atl_MASK_low).mean(dim='nlon', skipna=True)][i]\n",
    "    lats = [dsh.TLAT.where(Atl_MASK_ocn).mean(dim='nlon', skipna=True), dsl.TLAT.where(Atl_MASK_low).mean(dim='nlon', skipna=True)][i]\n",
    "#     lats = [dsh.nlat, dsl.nlat][i]\n",
    "    dso = xr.open_dataset(f'{path_prace}/Mov/FW_SALT_fluxes_{ctl}.nc', decode_times=False).isel(time=yrs)\n",
    "#     dsc = xr.open_dataset(f'{path_prace}/{ctl}/FW_SALT_fluxes_bias_corrected_{ctl}.nc', decode_times=False)\n",
    "    dst = xr.open_dataset(f'{path_prace}/Mov/FW_SALT_fluxes_{rcp}.nc')\n",
    "    \n",
    "    # original\n",
    "    ax[0,i].plot(lats, dso.Fov.mean('time')                 , c='C0', label=f'F{ov}')\n",
    "    ax[0,i].plot(lats, dso.Faz.mean('time')                 , c='C1', label=f'F{az}')\n",
    "    ax[0,i].plot(lats, (dso.Fov+dso.Faz).mean('time')       , c='C3', label=f'F{ov}+F{az}')\n",
    "    ax[1,i].plot(lats, dso.Sov.mean('time')                 , c='C0', label=f'S{ov}')\n",
    "    ax[1,i].plot(lats, dso.Saz.mean('time')                 , c='C1', label=f'S{az}')\n",
    "    ax[1,i].plot(lats, dso.Se .mean('time')                 , c='C2', label=f'S{eddy}')\n",
    "    ax[1,i].plot(lats, (dso.Sov+dso.Saz).mean('time'), c='C4', label=f'S{ov}+S{az}', zorder=4)\n",
    "    ax[1,i].plot(lats, dso.St.mean('time'), c='C3', label=f'S{tot}')\n",
    "    \n",
    "    # bias corrected\n",
    "    # VNS is not bias corrected, so this term does not make sense\n",
    "#     ax[0,i].plot(lats, dsc.Fov.mean('time')          , c='C0', ls='--', label=f'F{ov} corr.')\n",
    "#     ax[0,i].plot(lats, dsc.Faz.mean('time')          , c='C1', ls='--', label=f'F{az} corr.')\n",
    "#     ax[0,i].plot(lats, (dsc.Fov+dsc.Faz).mean('time'), c='C3', ls='--', label=f'F{ov}+F{az} corr.')\n",
    "#     ax[1,i].plot(lats, dsc.Sov.mean('time')          , c='C0', ls='--', label=f'S{ov} corr.')\n",
    "#     ax[1,i].plot(lats, dsc.Saz.mean('time')          , c='C1', ls='--', label=f'S{az} corr.')\n",
    "#     ax[1,i].plot(lats, (dsc.Sov+dsc.Saz).mean('time'), c='C3', ls='--', label=f'S{ov}+S{az} corr.')\n",
    "    \n",
    "#     if i==1:\n",
    "    for t in range(5):\n",
    "        s = slice(t*20,(t+1)*20)\n",
    "        ax[0,i].plot(lats, dst.Fov                 .isel(time=s).mean('time'), c='C0', alpha=.9-t*.15)\n",
    "        ax[0,i].plot(lats, dst.Faz                 .isel(time=s).mean('time'), c='C1', alpha=.9-t*.15)\n",
    "        ax[0,i].plot(lats, (dst.Fov+dst.Faz)       .isel(time=s).mean('time'), c='C3', alpha=.9-t*.15)\n",
    "        ax[1,i].plot(lats, dst.Sov                 .isel(time=s).mean('time'), c='C0', alpha=.9-t*.15)\n",
    "        ax[1,i].plot(lats, dst.Saz                 .isel(time=s).mean('time'), c='C1', alpha=.9-t*.15)\n",
    "        ax[1,i].plot(lats, dst.Se                  .isel(time=s).mean('time'), c='C2', alpha=.9-t*.15)\n",
    "#         ax[1,i].plot(lats, (dst.Sov+dst.Saz+dst.Se).isel(time=s).mean('time'), c='C3', alpha=.9-t*.15)\n",
    "        ax[1,i].plot(lats, (dst.St).isel(time=s).mean('time'), c='C3', alpha=.9-t*.15)\n",
    "    \n",
    "#     ax[1,i].set_ylim((-1.5e8,1.5e8))\n",
    "    ax[1,i].set_xlabel(r'latitude [$^\\circ$N]')\n",
    "    ax[1,i].set_ylim((-11e7,5e7))\n",
    "    for j in range(2):\n",
    "        l1 = ax[j,i].legend(ncol=2)\n",
    "        ax[j,i].add_artist(l1)\n",
    "        \n",
    "    \n",
    "    # legends CTRL + RCP\n",
    "    l, = ax[0,i].plot([],[], c='k', label=f'CTRL {[200,500][i]}-{[200,500][i]+29}')\n",
    "    fading = [l]\n",
    "    for t in range(5):\n",
    "        l, = ax[0,i].plot([],[], c='k', alpha=.9-t*.15, label=f'RCP {2000+20*t}-{2019+20*t}')\n",
    "        fading.append(l)\n",
    "    ax[0,i].legend(handles=fading, fontsize=8, loc=3)\n",
    "    \n",
    "# plt.savefig(f'{path_results}/Mov/Mov_lat_ctrl_lpd')"
   ]
  },
  {
   "cell_type": "code",
   "execution_count": null,
   "metadata": {},
   "outputs": [],
   "source": [
    "f, ax = plt.subplots(1,6, figsize=(6.4,5), sharex='col', sharey='row')\n",
    "ov, az, eddy, tot = r'$_{ov}$', r'$_{az}$', r'$_{eddy}$', r'$_{tot}$'\n",
    "for i in range(6):\n",
    "    ax[i].axhline(0, c='k')\n",
    "    ax[i].axvline(0, c='k')\n",
    "    ax[i].grid()\n",
    "    \n",
    "for i, res in enumerate(['HIGH','LOW']):\n",
    "    ctl = ['ctrl', 'lpd'][i]\n",
    "    rcp = ['rcp', 'lr1'][i]\n",
    "    lst = ['-', '--'][i]\n",
    "    yrs = [slice(200,203), slice(500-154,530-154)][i]\n",
    "#     ax[0,].set_title(res)\n",
    "#     ax[2*i].set_xlabel(['northward FW transport [Sv]','northward Salt transport [kg/s]'][i])\n",
    "    \n",
    "#     lats = [approx_lats('ocn'), dsl.TLAT.where(Atl_MASK_low).mean(dim='nlon', skipna=True)][i]\n",
    "    lats = [dsh.TLAT.where(Atl_MASK_ocn).mean(dim='nlon', skipna=True), dsl.TLAT.where(Atl_MASK_low).mean(dim='nlon', skipna=True)][i]\n",
    "#     lats = [dsh.nlat, dsl.nlat][i]\n",
    "    dso = xr.open_dataset(f'{path_prace}/Mov/FW_SALT_fluxes_{ctl}.nc', decode_times=False).isel(time=yrs)\n",
    "#     dsc = xr.open_dataset(f'{path_prace}/{ctl}/FW_SALT_fluxes_bias_corrected_{ctl}.nc', decode_times=False)\n",
    "    dst = xr.open_dataset(f'{path_prace}/Mov/FW_SALT_fluxes_{rcp}.nc', decode_times=False)\n",
    "\n",
    "    # original\n",
    "    ax[0].plot(dso.Fov.mean('time')          , lats, c='C0', ls=lst, label=f'F{ov}')\n",
    "    Fov_trend = dso.Fov.mean('time') + xr_linear_trend(dst.Fov).rename({'dim_0':'nlat_u'})*100*365\n",
    "    ax[0].plot(Fov_trend, lats, c='C0', ls=lst, lw=.8)\n",
    "    ax[1].plot(dso.Faz.mean('time')          , lats, c='C1', ls=lst, label=f'F{az}')\n",
    "    ax[2].plot((dso.Fov+dso.Faz).mean('time'), lats, c='C3', ls=lst, label=f'F{ov}+F{az}')\n",
    "    ax[3].plot(dso.Sov.mean('time')          , lats, c='C0', ls=lst, label=f'S{ov}')\n",
    "    ax[4].plot(dso.Saz.mean('time')          , lats, c='C1', ls=lst, label=f'S{az}')\n",
    "    ax[5].plot(dso.Se .mean('time')          , lats, c='C2', ls=lst, label=f'S{eddy}')\n",
    "    ax[5].plot((dso.Sov+dso.Saz).mean('time'), lats, c='C4', ls=lst, label=f'S{ov}+S{az}', zorder=4)\n",
    "    ax[5].plot(dso.St.mean('time')           , lats, c='C3', ls=lst, label=f'S{tot}')\n",
    "\n",
    "    ax[0].set_ylabel(r'latitude [$\\!^\\circ\\!$N]')\n",
    "\n",
    "for i in np.arange(3,6):\n",
    "    ax[i].set_xlim((-8e7,2e7))\n",
    "#     if i==0:\n",
    "#         for j in range(2):\n",
    "#             ax[j].legend(ncol=5, fontsize=7)\n",
    "#         ax[j].add_artist(l1)\n",
    "\n",
    "# plt.savefig(f'{path_results}/Mov/Mov_lat_ctrl_lpd')"
   ]
  },
  {
   "cell_type": "markdown",
   "metadata": {},
   "source": [
    "## Salinity bias\n",
    "_Mecking et al. (2017)_ point out that the CMIP5 $M_{ov}$ values are influenced by salinity biases, so it is of interest to quantify these in the CESM simulations."
   ]
  },
  {
   "cell_type": "code",
   "execution_count": null,
   "metadata": {},
   "outputs": [],
   "source": []
  }
 ],
 "metadata": {
  "kernelspec": {
   "display_name": "Python 3",
   "language": "python",
   "name": "python3"
  },
  "language_info": {
   "codemirror_mode": {
    "name": "ipython",
    "version": 3
   },
   "file_extension": ".py",
   "mimetype": "text/x-python",
   "name": "python",
   "nbconvert_exporter": "python",
   "pygments_lexer": "ipython3",
   "version": "3.7.6"
  }
 },
 "nbformat": 4,
 "nbformat_minor": 4
}
