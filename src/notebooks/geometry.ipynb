{
 "cells": [
  {
   "cell_type": "code",
   "execution_count": null,
   "metadata": {},
   "outputs": [],
   "source": [
    "import sys\n",
    "import scipy as sp\n",
    "import numpy as np\n",
    "import xarray as xr\n",
    "# import seaborn as sns\n",
    "import cartopy\n",
    "import cartopy.crs as ccrs\n",
    "import matplotlib\n",
    "import matplotlib.pyplot as plt\n",
    "import matplotlib.patches as mpatches"
   ]
  },
  {
   "cell_type": "code",
   "execution_count": null,
   "metadata": {},
   "outputs": [],
   "source": [
    "%matplotlib inline\n",
    "%config InlineBackend.print_figure_kwargs={'bbox_inches':None}\n",
    "%load_ext autoreload\n",
    "%autoreload 2\n",
    "%aimport - numpy - scipy - matplotlib.pyplot"
   ]
  },
  {
   "cell_type": "code",
   "execution_count": null,
   "metadata": {},
   "outputs": [],
   "source": [
    "sys.path.append(\"..\")\n",
    "from grid import generate_lats_lons\n",
    "from paths import path_samoc, grid_file, file_ex_ocn_ctrl, file_ex_ocn_rect, file_ex_ocn_lpd\n",
    "from paths import path_ocn_ctrl, path_ocn_rcp, path_results\n",
    "from paths import file_RMASK_ocn, file_RMASK_ocn_rect, file_RMASK_ocn_low\n",
    "from constants import imt, jmt, km\n",
    "from xr_DataArrays import xr_DZ, xr_AREA"
   ]
  },
  {
   "cell_type": "code",
   "execution_count": null,
   "metadata": {},
   "outputs": [],
   "source": [
    "# make file with only geometry data from file_ex_ocn\n",
    "# xr.open_dataset(file_ex_ocn_ctrl, decode_times=False)[['z_t', 'z_w', 'z_w_bot', 'z_w_top', 'ULAT', 'ULONG', 'TLAT', 'TLONG', 'KMT', 'KMU', 'UAREA', 'TAREA',\\\n",
    "#     'HU', 'HT', 'DXU', 'DXT', 'DYU', 'DYT', 'HTN', 'HTE', 'HUS', 'HUW', 'ANGLE', 'ANGLET']].to_netcdf(f'{path_results}/geometry/POP_t12_geometry.nc')"
   ]
  },
  {
   "cell_type": "markdown",
   "metadata": {},
   "source": [
    "## make region mask xr dataarrays"
   ]
  },
  {
   "cell_type": "code",
   "execution_count": null,
   "metadata": {},
   "outputs": [],
   "source": [
    "RMASK_ocn = xr.open_dataset(file_ex_ocn_ctrl, decode_times=False).REGION_MASK\n",
    "RMASK_ocn = RMASK_ocn.drop(['ULONG', 'ULAT'])\n",
    "RMASK_ocn.to_netcdf(file_RMASK_ocn)"
   ]
  },
  {
   "cell_type": "code",
   "execution_count": null,
   "metadata": {},
   "outputs": [],
   "source": [
    "RMASK_ocn_low = xr.open_dataset(file_ex_ocn_lpd, decode_times=False).REGION_MASK\n",
    "RMASK_ocn_low = RMASK_ocn_low.drop(['ULONG', 'ULAT'])\n",
    "# RMASK_ocn_low.to_netcdf(file_RMASK_ocn_low)"
   ]
  },
  {
   "cell_type": "code",
   "execution_count": null,
   "metadata": {},
   "outputs": [],
   "source": [
    "RMASK_ocn_low.shape"
   ]
  },
  {
   "cell_type": "markdown",
   "metadata": {},
   "source": [
    "RMASK_ocn_rect is generated in `regrid.ipynb`"
   ]
  },
  {
   "cell_type": "markdown",
   "metadata": {},
   "source": [
    "## latitudes/longitudes from binary file"
   ]
  },
  {
   "cell_type": "code",
   "execution_count": null,
   "metadata": {},
   "outputs": [],
   "source": [
    "lats,lons  = generate_lats_lons('ocn')\n",
    "f, ax = plt.subplots(2, 2, sharey='row', constrained_layout=True)\n",
    "ax[0,0].imshow(lats, origin='lowerleft')\n",
    "ax[0,1].imshow(lons, origin='lowerleft')\n",
    "ax[1,0].imshow(RMASK_ocn_low.TLAT, origin='lowerleft')\n",
    "ax[1,1].imshow(RMASK_ocn_low.TLONG, origin='lowerleft')"
   ]
  },
  {
   "cell_type": "code",
   "execution_count": null,
   "metadata": {},
   "outputs": [],
   "source": [
    "# from which latitude is the dipole grid x-direction not along parallels anymore \n",
    "plt.axhline(0)\n",
    "10*RMASK_ocn_low.TLAT.std(dim='nlon').plot()\n",
    "RMASK_ocn_low.TLAT.mean(dim='nlon').plot()\n",
    "plt.ylim(-10,10)"
   ]
  },
  {
   "cell_type": "markdown",
   "metadata": {},
   "source": [
    "## DZT/DZU\n",
    "create DZT/DZU file with `xr_DZ` function, if file exists, read it"
   ]
  },
  {
   "cell_type": "code",
   "execution_count": null,
   "metadata": {},
   "outputs": [],
   "source": [
    "DZT_ocn = xr_DZ('ocn', grid='T')"
   ]
  },
  {
   "cell_type": "code",
   "execution_count": null,
   "metadata": {},
   "outputs": [],
   "source": [
    "dsh = xr.open_dataset(file_ex_ocn_ctrl, decode_times=False)\n",
    "dsl = xr.open_dataset(file_ex_ocn_lpd, decode_times=False)\n"
   ]
  },
  {
   "cell_type": "code",
   "execution_count": null,
   "metadata": {},
   "outputs": [],
   "source": [
    "DZT_ocn.sum('z_t').plot()"
   ]
  },
  {
   "cell_type": "code",
   "execution_count": null,
   "metadata": {},
   "outputs": [],
   "source": [
    "(dsh.HU/1e2-DZT_ocn.sum('z_t')).plot()"
   ]
  },
  {
   "cell_type": "code",
   "execution_count": null,
   "metadata": {},
   "outputs": [],
   "source": [
    "DZT = xr_DZ('ocn')\n",
    "TAREA = xr_AREA('ocn')\n",
    "print(f'The volument of the ocean is {((TAREA*DZT).sum().item()/1e9):.2e} km^3.')\n",
    "print(f'The surface of the ocean is {(TAREA.sum()/1e6).item():.2e} km^2.')"
   ]
  },
  {
   "cell_type": "code",
   "execution_count": null,
   "metadata": {},
   "outputs": [],
   "source": [
    "plt.imshow(DZT[:,1000,:], aspect='auto')\n",
    "plt.colorbar()"
   ]
  },
  {
   "cell_type": "code",
   "execution_count": null,
   "metadata": {},
   "outputs": [],
   "source": [
    "plt.imshow(TAREA, cmap='viridis', origin='lowerleft')\n",
    "plt.colorbar()\n",
    "plt.tight_layout()"
   ]
  },
  {
   "cell_type": "code",
   "execution_count": null,
   "metadata": {},
   "outputs": [],
   "source": [
    "plt.figure(figsize=(5.915, 3))\n",
    "ax = plt.axes(projection=ccrs.EqualEarth())\n",
    "ax.coastlines(resolution='110m')\n",
    "ax.gridlines()"
   ]
  },
  {
   "cell_type": "code",
   "execution_count": null,
   "metadata": {},
   "outputs": [],
   "source": [
    "plt.figure(figsize=(5.915, 3))\n",
    "ax = plt.axes(projection=ccrs.Robinson())\n",
    "ax.coastlines(resolution='110m')\n",
    "ax.gridlines()"
   ]
  },
  {
   "cell_type": "code",
   "execution_count": null,
   "metadata": {},
   "outputs": [],
   "source": [
    "plt.figure(figsize=(5.915, 3))\n",
    "ax = plt.axes(projection=ccrs.SouthPolarStereo())\n",
    "ax.coastlines(resolution='110m')\n",
    "ax.gridlines()"
   ]
  },
  {
   "cell_type": "code",
   "execution_count": null,
   "metadata": {},
   "outputs": [],
   "source": [
    "plt.figure(figsize=(5.915, 3))\n",
    "ax = plt.axes(projection=ccrs.LambertAzimuthalEqualArea(central_latitude=-90))\n",
    "ax.coastlines(resolution='110m')\n",
    "ax.gridlines()"
   ]
  },
  {
   "cell_type": "code",
   "execution_count": null,
   "metadata": {},
   "outputs": [],
   "source": [
    "plt.figure(figsize=(5.915, 3))\n",
    "ax = plt.axes(projection=ccrs.Orthographic(central_latitude=-90))\n",
    "ax.coastlines(resolution='110m')\n",
    "ax.gridlines()"
   ]
  },
  {
   "cell_type": "code",
   "execution_count": null,
   "metadata": {},
   "outputs": [],
   "source": [
    "plt.figure(figsize=(5.915, 3))\n",
    "ax = plt.axes(projection=ccrs.NearsidePerspective(central_latitude=-90, central_longitude=180))\n",
    "ax.coastlines(resolution='110m')\n",
    "ax.gridlines()"
   ]
  },
  {
   "cell_type": "code",
   "execution_count": null,
   "metadata": {},
   "outputs": [],
   "source": [
    "plt.figure(figsize=(5.915, 3))\n",
    "ax = plt.axes(projection=ccrs.NearsidePerspective(satellite_height=1e7, central_latitude=-90))\n",
    "ax.coastlines(resolution='110m')\n",
    "ax.gridlines()"
   ]
  },
  {
   "cell_type": "markdown",
   "metadata": {},
   "source": [
    "### Atlantic + Arctic"
   ]
  },
  {
   "cell_type": "code",
   "execution_count": null,
   "metadata": {},
   "outputs": [],
   "source": [
    "plt.figure(figsize=(5.915, 3))\n",
    "ax = plt.axes(projection=ccrs.NearsidePerspective(central_latitude=60, central_longitude=-40))\n",
    "ax.coastlines(resolution='110m')\n",
    "ax.gridlines()"
   ]
  },
  {
   "cell_type": "code",
   "execution_count": null,
   "metadata": {},
   "outputs": [],
   "source": [
    "plt.figure(figsize=(4,6))\n",
    "ax = plt.axes(projection=ccrs.LambertAzimuthalEqualArea(central_longitude=-30, central_latitude=20))\n",
    "ax.set_position((-.48,-.48,2,2))\n",
    "ax.coastlines(resolution='110m')\n",
    "ax.gridlines()"
   ]
  },
  {
   "cell_type": "code",
   "execution_count": null,
   "metadata": {},
   "outputs": [],
   "source": [
    "# plt.figure(figsize=(3, 3))\n",
    "# ax = plt.axes(projection=ccrs.Stereographic())\n",
    "# ax.coastlines(resolution='110m')\n",
    "# ax.gridlines()\n",
    "\n",
    "# plt.figure(figsize=(6, 3))\n",
    "# ax = plt.axes(projection=ccrs.TransverseMercator(central_longitude=-30.0, central_latitude=20.0))\n",
    "# ax.coastlines(resolution='110m')\n",
    "# ax.gridlines()"
   ]
  },
  {
   "cell_type": "code",
   "execution_count": null,
   "metadata": {},
   "outputs": [],
   "source": [
    "plt.figure(figsize=(5,5), constrained_layout=True)\n",
    "ax = plt.axes(projection=ccrs.LambertAzimuthalEqualArea(central_longitude=-45, central_latitude=20))\n",
    "ax.plot([-55, 20], [-34, -34], color='blue', transform=ccrs.PlateCarree())\n",
    "ax.set_extent((-5e6, 1.5e6, 0, 1e7), crs=ccrs.LambertAzimuthalEqualArea())\n",
    "ax.coastlines(resolution='110m')\n",
    "gl = ax.gridlines(crs=ccrs.PlateCarree(), draw_labels=False)\n",
    "gl.xlocator = matplotlib.ticker.FixedLocator(np.arange(-180,181,45))\n",
    "gl.ylocator = matplotlib.ticker.FixedLocator([-90, -60, -30, 0, 30, 60, 90])\n",
    "\n"
   ]
  },
  {
   "cell_type": "code",
   "execution_count": null,
   "metadata": {},
   "outputs": [],
   "source": [
    "plt.figure(figsize=(4,6.5), constrained_layout=True)\n",
    "ax = plt.axes(projection=ccrs.LambertAzimuthalEqualArea(central_longitude=-30, central_latitude=20))\n",
    "\n",
    "rivers = cartopy.feature.NaturalEarthFeature(\n",
    "    category='physical', name='rivers_lake_centerlines',\n",
    "    scale='50m', facecolor='none', edgecolor='blue')\n",
    "\n",
    "ax.add_feature(rivers, linewidth=1)\n",
    "\n",
    "ax.plot([-55, 20], [ 70,  70], color='blue', transform=ccrs.PlateCarree())\n",
    "ax.plot([-60,- 2], [ 45,  45], color='blue', transform=ccrs.PlateCarree())\n",
    "ax.plot([-78,-15], [ 26,  26], color='blue', transform=ccrs.PlateCarree())\n",
    "ax.plot([-65,-15], [ 10,  10], color='blue', transform=ccrs.PlateCarree())\n",
    "ax.plot([-35, 15], [-10, -10], color='blue', transform=ccrs.PlateCarree())\n",
    "ax.plot([-55, 20], [-34, -34], color='blue', transform=ccrs.PlateCarree())\n",
    "ax.plot([ 20, 20], [-34, -70], color='blue', transform=ccrs.PlateCarree())\n",
    "ax.plot([-68,-68], [-55, -68], color='blue', transform=ccrs.PlateCarree())\n",
    "ax.plot([-167,-170],[68,  68], color='blue', transform=ccrs.PlateCarree())\n",
    "ax.set_extent((-6e6, 3.5e6, -8.5e6, 1e7), crs=ccrs.LambertAzimuthalEqualArea())\n",
    "ax.coastlines(resolution='110m')\n",
    "gl = ax.gridlines(crs=ccrs.PlateCarree(), draw_labels=False)\n",
    "gl.xlocator = matplotlib.ticker.FixedLocator(np.arange(-180,181,30))\n",
    "gl.ylocator = matplotlib.ticker.FixedLocator([-90, -60, -30, 0, 30, 60, 90])\n",
    "cax, kw = matplotlib.colorbar.make_axes(ax,location='bottom',pad=0.01,shrink=0.9)\n"
   ]
  },
  {
   "cell_type": "code",
   "execution_count": null,
   "metadata": {},
   "outputs": [],
   "source": [
    "from maps import make_map"
   ]
  },
  {
   "cell_type": "code",
   "execution_count": null,
   "metadata": {},
   "outputs": [],
   "source": [
    "ds = xr.open_dataset(file_ex_ocn_ctrl, decode_times=False)"
   ]
  },
  {
   "cell_type": "code",
   "execution_count": null,
   "metadata": {},
   "outputs": [],
   "source": [
    "make_map(xa=np.log10(ds.KE[0,0,:,:].where(ds.REGION_MASK>0)), domain='ocn_T',\n",
    "         proj='aa', cmap='magma', minv=1.5, maxv=4, label=r'log_10 of KE [cm$^2$ s$^{-2}$]')\n",
    "#         proj='aa', cmap='Spectral_r', minv=-1.8, maxv=30, label=r'SST [$^\\circ$C]')"
   ]
  },
  {
   "cell_type": "code",
   "execution_count": null,
   "metadata": {},
   "outputs": [],
   "source": [
    "from xr_DataArrays import xr_DZ"
   ]
  },
  {
   "cell_type": "code",
   "execution_count": null,
   "metadata": {},
   "outputs": [],
   "source": [
    "DZT = xr_DZ(domain='ocn')"
   ]
  },
  {
   "cell_type": "code",
   "execution_count": null,
   "metadata": {},
   "outputs": [],
   "source": [
    "DZT"
   ]
  },
  {
   "cell_type": "code",
   "execution_count": null,
   "metadata": {},
   "outputs": [],
   "source": [
    "DZT['TLAT'] = ds.TLAT\n",
    "DZT['TLONG'] = ds.TLONG\n"
   ]
  },
  {
   "cell_type": "code",
   "execution_count": null,
   "metadata": {},
   "outputs": [],
   "source": [
    "DZT.sum(dim='z_t').plot()"
   ]
  },
  {
   "cell_type": "code",
   "execution_count": null,
   "metadata": {},
   "outputs": [],
   "source": [
    "make_map(xa=DZT.sum(dim='z_t').where(DZT[0,:,:]>0)/1e3, domain='ocn_T',\n",
    "         proj='aa', cmap='cmo.deep', minv=0, maxv=6, label=r'depth [km]')\n",
    "#         proj='aa', cmap='Spectral_r', minv=-1.8, maxv=30, label=r'SST [$^\\circ$C]')"
   ]
  },
  {
   "cell_type": "code",
   "execution_count": null,
   "metadata": {},
   "outputs": [],
   "source": [
    "from analysis.paths import file_ex_ocn_hires"
   ]
  },
  {
   "cell_type": "code",
   "execution_count": null,
   "metadata": {},
   "outputs": [],
   "source": [
    "C = xr.open_dataset(file_ex_ocn_hires, decode_times=False)"
   ]
  },
  {
   "cell_type": "code",
   "execution_count": null,
   "metadata": {},
   "outputs": [],
   "source": [
    "plt.imshow(C.KMT, origin='lowerleft')\n",
    "plt.colorbar()\n",
    "plt.tight_layout()"
   ]
  },
  {
   "cell_type": "code",
   "execution_count": null,
   "metadata": {},
   "outputs": [],
   "source": [
    "from read_binary import read_binary_2D_double\n",
    "from paths import file_geometry\n",
    "pbc = read_binary_2D_double(file_geometry, 3600, 2400, 1)  # [lon, lat]\n",
    "plt.imshow(pbc[500:1000, :500].T, origin='lowerleft')\n",
    "plt.colorbar()"
   ]
  },
  {
   "cell_type": "code",
   "execution_count": null,
   "metadata": {},
   "outputs": [],
   "source": [
    "DZT = generate_xr_DZ('ocn')\n",
    "DZT_int = DZT.sum(dim='z_t')"
   ]
  },
  {
   "cell_type": "code",
   "execution_count": null,
   "metadata": {},
   "outputs": [],
   "source": [
    "DZT_int.plot()\n",
    "plt.figure()\n",
    "DZT_int[:500, 500:1000].plot()"
   ]
  },
  {
   "cell_type": "markdown",
   "metadata": {},
   "source": [
    "# Regions"
   ]
  },
  {
   "cell_type": "code",
   "execution_count": null,
   "metadata": {},
   "outputs": [],
   "source": [
    "from paths import file_RMASK_ocn, file_RMASK_ocn_low, file_RMASK_ocn_rect"
   ]
  },
  {
   "cell_type": "code",
   "execution_count": null,
   "metadata": {},
   "outputs": [],
   "source": [
    "for i in range(3):\n",
    "    plt.figure()\n",
    "    RMASK = xr.open_dataarray([file_RMASK_ocn, file_RMASK_ocn_low, file_RMASK_ocn_rect][i])\n",
    "    plt.imshow(RMASK, cmap='tab20', origin='lowerleft', vmin=-1.1, vmax=18)\n",
    "    plt.colorbar()\n",
    "    plt.tight_layout()"
   ]
  },
  {
   "cell_type": "code",
   "execution_count": null,
   "metadata": {},
   "outputs": [],
   "source": [
    "RMASK_ocn.TLAT.where(RMASK_ocn==1).plot()\n",
    "RMASK_ocn.TLAT.where(RMASK_ocn==3).plot()\n",
    "plt.ylim(800,850)"
   ]
  },
  {
   "cell_type": "code",
   "execution_count": null,
   "metadata": {},
   "outputs": [],
   "source": [
    "RMASK_ocn.TLAT[810,1200]"
   ]
  },
  {
   "cell_type": "code",
   "execution_count": null,
   "metadata": {},
   "outputs": [],
   "source": [
    "np.unique(C.REGION_MASK.values)"
   ]
  },
  {
   "cell_type": "code",
   "execution_count": null,
   "metadata": {},
   "outputs": [],
   "source": [
    "from regions import regions\n",
    "print(regions)"
   ]
  },
  {
   "cell_type": "code",
   "execution_count": null,
   "metadata": {},
   "outputs": [],
   "source": [
    "%%time\n",
    "for i, key in enumerate(regions):\n",
    "    surf = xr_surf_int(D[0,:,:], TAREA.where(C.REGION_MASK==key)     )/1e6\n",
    "    vol  = xr_vol_int( D       , TAREA.where(C.REGION_MASK==key), DZT)/1e9\n",
    "    print(f'{i:2} {key:4} {regions[key]:16}: {surf:10.2e} km^2, {vol:10.2e} km^3')"
   ]
  },
  {
   "cell_type": "code",
   "execution_count": null,
   "metadata": {},
   "outputs": [],
   "source": []
  }
 ],
 "metadata": {
  "kernelspec": {
   "display_name": "Python 3",
   "language": "python",
   "name": "python3"
  },
  "language_info": {
   "codemirror_mode": {
    "name": "ipython",
    "version": 3
   },
   "file_extension": ".py",
   "mimetype": "text/x-python",
   "name": "python",
   "nbconvert_exporter": "python",
   "pygments_lexer": "ipython3",
   "version": "3.7.6"
  }
 },
 "nbformat": 4,
 "nbformat_minor": 4
}
