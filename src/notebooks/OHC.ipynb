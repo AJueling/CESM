{
 "cells": [
  {
   "cell_type": "markdown",
   "metadata": {},
   "source": [
    "# Ocean Heat Content"
   ]
  },
  {
   "cell_type": "markdown",
   "metadata": {},
   "source": [
    "$OHC = \\Delta T \\times c_p \\times \\rho \\times V$\n",
    "\n",
    "unit conversion to SI\n",
    "- $c_p$: erg/g/K = 1e-7J / 1e-3kg / K = 1e-4 J/kg/K $\\rightarrow$ 3996 J/kg/K\n",
    "- $\\rho$: g/cm^3 = 1e3 kg/m^3"
   ]
  },
  {
   "cell_type": "code",
   "execution_count": null,
   "metadata": {},
   "outputs": [],
   "source": [
    "import os\n",
    "import sys\n",
    "sys.path.append(\"..\")\n",
    "import scipy as sp\n",
    "import numpy as np\n",
    "import xarray as xr\n",
    "import seaborn as sns\n",
    "import cmocean\n",
    "import cartopy\n",
    "import cartopy.crs as ccrs\n",
    "import matplotlib as mpl\n",
    "import matplotlib.pyplot as plt\n",
    "import matplotlib.patches as mpatches\n",
    "from matplotlib.collections import PatchCollection"
   ]
  },
  {
   "cell_type": "code",
   "execution_count": null,
   "metadata": {},
   "outputs": [],
   "source": [
    "%matplotlib inline\n",
    "%config InlineBackend.print_figure_kwargs={'bbox_inches':None}\n",
    "%load_ext autoreload\n",
    "%autoreload 2\n",
    "%aimport - numpy - scipy - matplotlib.pyplot"
   ]
  },
  {
   "cell_type": "code",
   "execution_count": null,
   "metadata": {},
   "outputs": [],
   "source": [
    "from OHC import OHC_integrals, trend_global_levels, replace_OHC_year\n",
    "from maps import map_robinson, map_eq_earth\n",
    "from grid import create_dz_mean, create_tdepth\n",
    "from paths import CESM_filename, path_samoc, file_ex_ocn_ctrl, file_ex_ocn_rcp, path_results\n",
    "from regions import boolean_mask, regions_dict\n",
    "from plotting import discrete_cmap, shifted_color_map\n",
    "from constants import cp_sw, spy, km, spd, Jpy_to_Wpsm\n",
    "from OHC_plots import plot_global_integrals, plot_global_integrals_detr, plot_global_integrals_diff, plot_levels_trend\n",
    "from OHC_plots import Hovmoeller_global_depth, Hovmoeller_basins_depth\n",
    "from timeseries import IterateOutputCESM, ncfile_list, lowpass, chebychev\n",
    "from xr_integrate import  xr_vol_int\n",
    "from xr_DataArrays import create_xr_DataArray, xr_DZ, xr_AREA, xr_HTN, xr_LATS\n",
    "from xr_regression import xr_linear_trend, xr_linear_trends_2D, zonal_trend, zonal_levels_trend,\\\n",
    "                          ocn_field_regression, xr_lintrend, xr_quadtrend"
   ]
  },
  {
   "cell_type": "markdown",
   "metadata": {},
   "source": [
    "# CESM\n",
    "OHC integrals are calculated via the following function in approx. 10 min per year `OHC_integrals(domain='ocn', run='ctrl')`"
   ]
  },
  {
   "cell_type": "code",
   "execution_count": null,
   "metadata": {},
   "outputs": [],
   "source": [
    "dz_mean = create_dz_mean(domain='ocn')\n",
    "tdepth = create_tdepth('ocn')"
   ]
  },
  {
   "cell_type": "code",
   "execution_count": null,
   "metadata": {},
   "outputs": [],
   "source": [
    "MASK = xr.open_dataset(file_ex_ocn_ctrl, decode_times=False).REGION_MASK\n",
    "MASK.plot(vmin=0);"
   ]
  },
  {
   "cell_type": "code",
   "execution_count": null,
   "metadata": {},
   "outputs": [],
   "source": [
    "ctrl   = xr.open_dataset(f'{path_samoc}/OHC/OHC_integrals_Global_Ocean_ctrl.nc'  , decode_times=False)\n",
    "ctrl_A = xr.open_dataset(f'{path_samoc}/OHC/OHC_integrals_Atlantic_Ocean_ctrl.nc', decode_times=False)\n",
    "ctrl_P = xr.open_dataset(f'{path_samoc}/OHC/OHC_integrals_Pacific_Ocean_ctrl.nc' , decode_times=False)\n",
    "ctrl_I = xr.open_dataset(f'{path_samoc}/OHC/OHC_integrals_Indian_Ocean_ctrl.nc'  , decode_times=False)\n",
    "ctrl_M = xr.open_dataset(f'{path_samoc}/OHC/OHC_integrals_Mediterranean_ctrl.nc' , decode_times=False)\n",
    "ctrl_S = xr.open_dataset(f'{path_samoc}/OHC/OHC_integrals_Southern_Ocean_ctrl.nc', decode_times=False)\n",
    "ctrl_N = xr.open_dataset(f'{path_samoc}/OHC/OHC_integrals_Arctic_Ocean_ctrl.nc'  , decode_times=False)\n",
    "\n",
    "# something is still wrong in CTRL year 205\n",
    "ctrl   = replace_OHC_year(ctrl  , 205)\n",
    "ctrl_A = replace_OHC_year(ctrl_A, 205)\n",
    "ctrl_P = replace_OHC_year(ctrl_P, 205)\n",
    "ctrl_I = replace_OHC_year(ctrl_I, 205)\n",
    "ctrl_M = replace_OHC_year(ctrl_M, 205)\n",
    "ctrl_S = replace_OHC_year(ctrl_S, 205)\n",
    "ctrl_N = replace_OHC_year(ctrl_N, 205)\n",
    "\n",
    "rcp    = xr.open_dataset(f'{path_samoc}/OHC/OHC_integrals_Global_Ocean_rcp.nc'   , decode_times=False)\n",
    "rcp_A  = xr.open_dataset(f'{path_samoc}/OHC/OHC_integrals_Atlantic_Ocean_rcp.nc' , decode_times=False)\n",
    "rcp_P  = xr.open_dataset(f'{path_samoc}/OHC/OHC_integrals_Pacific_Ocean_rcp.nc'  , decode_times=False)\n",
    "rcp_I  = xr.open_dataset(f'{path_samoc}/OHC/OHC_integrals_Indian_Ocean_rcp.nc'   , decode_times=False)\n",
    "rcp_M  = xr.open_dataset(f'{path_samoc}/OHC/OHC_integrals_Mediterranean_rcp.nc'  , decode_times=False)\n",
    "rcp_S  = xr.open_dataset(f'{path_samoc}/OHC/OHC_integrals_Southern_Ocean_rcp.nc' , decode_times=False)\n",
    "rcp_N  = xr.open_dataset(f'{path_samoc}/OHC/OHC_integrals_Arctic_Ocean_rcp.nc'   , decode_times=False)\n",
    "\n",
    "lpd    = xr.open_dataset(f'{path_samoc}/OHC/OHC_integrals_Global_Ocean_lpd.nc'   , decode_times=False)\n",
    "lpd_A  = xr.open_dataset(f'{path_samoc}/OHC/OHC_integrals_Atlantic_Ocean_lpd.nc' , decode_times=False)\n",
    "lpd_P  = xr.open_dataset(f'{path_samoc}/OHC/OHC_integrals_Pacific_Ocean_lpd.nc'  , decode_times=False)\n",
    "lpd_I  = xr.open_dataset(f'{path_samoc}/OHC/OHC_integrals_Indian_Ocean_lpd.nc'   , decode_times=False)\n",
    "lpd_M  = xr.open_dataset(f'{path_samoc}/OHC/OHC_integrals_Mediterranean_lpd.nc'  , decode_times=False)\n",
    "lpd_S  = xr.open_dataset(f'{path_samoc}/OHC/OHC_integrals_Southern_Ocean_lpd.nc' , decode_times=False)\n",
    "lpd_N  = xr.open_dataset(f'{path_samoc}/OHC/OHC_integrals_Arctic_Ocean_lpd.nc'   , decode_times=False)\n",
    "\n",
    "lpi    = xr.open_dataset(f'{path_samoc}/OHC/OHC_integrals_Global_Ocean_lpi.nc'   , decode_times=False)\n",
    "lpi_A  = xr.open_dataset(f'{path_samoc}/OHC/OHC_integrals_Atlantic_Ocean_lpi.nc' , decode_times=False)\n",
    "lpi_P  = xr.open_dataset(f'{path_samoc}/OHC/OHC_integrals_Pacific_Ocean_lpi.nc'  , decode_times=False)\n",
    "lpi_I  = xr.open_dataset(f'{path_samoc}/OHC/OHC_integrals_Indian_Ocean_lpi.nc'   , decode_times=False)\n",
    "lpi_M  = xr.open_dataset(f'{path_samoc}/OHC/OHC_integrals_Mediterranean_lpi.nc'  , decode_times=False)\n",
    "lpi_S  = xr.open_dataset(f'{path_samoc}/OHC/OHC_integrals_Southern_Ocean_lpi.nc' , decode_times=False)\n",
    "lpi_N  = xr.open_dataset(f'{path_samoc}/OHC/OHC_integrals_Arctic_Ocean_lpi.nc'   , decode_times=False)"
   ]
  },
  {
   "cell_type": "code",
   "execution_count": null,
   "metadata": {},
   "outputs": [],
   "source": [
    "print(len(ctrl.time), len(rcp.time))"
   ]
  },
  {
   "cell_type": "markdown",
   "metadata": {},
   "source": [
    "## global integral"
   ]
  },
  {
   "cell_type": "code",
   "execution_count": null,
   "metadata": {},
   "outputs": [],
   "source": [
    "OHC_global_init = ctrl.OHC_global[100].item()"
   ]
  },
  {
   "cell_type": "code",
   "execution_count": null,
   "metadata": {},
   "outputs": [],
   "source": [
    "f, ax = plt.subplots(3, 1, figsize=(12,10), sharex=True)\n",
    "for i in range(3):\n",
    "    ax[i].axhline(0, c='k', lw=.5)\n",
    "    ax[i].tick_params(labelsize=14)\n",
    "    \n",
    "ax[0].set_ylabel('adjusting OHC [J]', fontsize=14)\n",
    "\n",
    "ax[0].plot(ctrl.time/365 + 1850, ctrl.OHC_global - ctrl.OHC_global[-200])\n",
    "ax[0].plot(rcp .time/365 +  200, rcp .OHC_global - rcp .OHC_global[0]   )\n",
    "ax[0].plot(lpd .time/365 + 1350, lpd .OHC_global - lpd .OHC_global[-200])\n",
    "ax[0].plot(lpi .time/365 - 1600, lpi .OHC_global - lpi .OHC_global[-200])\n",
    "\n",
    "ax[1].set_ylabel('quad. detrended OHC [ZJ]', fontsize=14)\n",
    "ax[1].plot(ctrl.time/365 + 1850, (ctrl.OHC_global - xr_quadtrend(ctrl.OHC_global))/1e21, lw=.5)\n",
    "ax[1].plot(rcp .time/365 +  200, (rcp .OHC_global - xr_quadtrend(rcp .OHC_global))/1e21, lw=.5)\n",
    "ax[1].plot(lpd .time/365 + 1350, (lpd .OHC_global - xr_quadtrend(lpd .OHC_global))/1e21, lw=.5)\n",
    "ax[1].plot(lpi .time/365 - 1600, (lpi .OHC_global - xr_quadtrend(lpi .OHC_global))/1e21, lw=.5)\n",
    "\n",
    "ax[1].plot(ctrl.time/365 + 1850, lowpass(ctrl.OHC_global - xr_quadtrend(ctrl.OHC_global), 13)/1e21, c='C0')\n",
    "ax[1].plot(rcp .time/365 +  200, lowpass(rcp .OHC_global - xr_quadtrend(rcp .OHC_global), 13)/1e21, c='C1')\n",
    "ax[1].plot(lpd .time/365 + 1350, lowpass(lpd .OHC_global - xr_quadtrend(lpd .OHC_global), 13)/1e21, c='C2')\n",
    "ax[1].plot(lpi .time/365 - 1600, lowpass(lpi .OHC_global - xr_quadtrend(lpi .OHC_global), 13)/1e21, c='C3')\n",
    "ax[1].text(1800, -50, '13 year lowpass filter', fontsize=14)\n",
    "\n",
    "ax[2].set_ylabel(r'$\\Delta$OHC [W m$^{-2}$]', fontsize=14)\n",
    "ax[2].plot(ctrl.time/365 + 1850, (ctrl.OHC_global - ctrl.OHC_global.shift(time=1))*Jpy_to_Wpsm, lw=.5, alpha=.5)\n",
    "ax[2].plot(rcp .time/365 +  200, (rcp .OHC_global - rcp .OHC_global.shift(time=1))*Jpy_to_Wpsm-1, lw=.5, alpha=.5)\n",
    "ax[2].plot(lpd .time/365 + 1350, (lpd .OHC_global - lpd .OHC_global.shift(time=1))*Jpy_to_Wpsm, lw=.5, alpha=.5)\n",
    "ax[2].plot(lpi .time/365 - 1600, (lpi .OHC_global - lpi .OHC_global.shift(time=1))*Jpy_to_Wpsm, lw=.5, alpha=.5)\n",
    "\n",
    "ax[2].plot(ctrl.time[:-1]/365 + 1850, lowpass((ctrl.OHC_global - ctrl.OHC_global.shift(time=1)).dropna(dim='time'), 13)*Jpy_to_Wpsm, c='C0')\n",
    "ax[2].plot(rcp .time[:-1]/365 +  200, lowpass((rcp .OHC_global - rcp .OHC_global.shift(time=1)).dropna(dim='time'), 13)*Jpy_to_Wpsm-1, c='C1')\n",
    "ax[2].plot(lpd .time[:-1]/365 + 1350, lowpass((lpd .OHC_global - lpd .OHC_global.shift(time=1)).dropna(dim='time'), 13)*Jpy_to_Wpsm, c='C2')\n",
    "ax[2].plot(lpi .time[:-1]/365 - 1600, lowpass((lpi .OHC_global - lpi .OHC_global.shift(time=1)).dropna(dim='time'), 13)*Jpy_to_Wpsm, c='C3')\n",
    "ax[2].text(2180, 1, 'offset\\nby -1', fontsize=14)\n",
    "\n",
    "ax[2].set_xticks(np.arange(0,2400,200))\n",
    "ax[2].set_xlim((-50, 2350))\n",
    "ax[2].set_xlabel('time [years]', fontsize=14)\n",
    "f.align_ylabels()\n",
    "f.tight_layout()\n",
    "f.subplots_adjust(left=0.08)\n",
    "plt.savefig(f'{path_results}/OHC/OHC_global_all_runs')"
   ]
  },
  {
   "cell_type": "code",
   "execution_count": null,
   "metadata": {},
   "outputs": [],
   "source": [
    "f = plt.figure(figsize=(8,5))\n",
    "ax = f.add_axes([0.13,0.13,.85,.85])\n",
    "plt.tick_params(labelsize=14)\n",
    "plt.axhline(0, c='k', lw=.5)\n",
    "plt.plot(ctrl.time/365     ,(ctrl.OHC_global-xr_quadtrend(ctrl.OHC_global))/1e21, lw=2, label='CTRL quad. detrended')\n",
    "plt.plot(rcp .time/365-1800,(rcp .OHC_global-xr_quadtrend(rcp .OHC_global))/1e21, lw=2, label='RCP quad. detrended')\n",
    "plt.plot(ctrl.time/365     ,(ctrl.OHC_global-ctrl.OHC_global.shift(time=1))/1e21, ls=':', lw=2, c=f'C{0}', label='$\\Delta$OHC CTRL')\n",
    "plt.plot(rcp .time/365-1800,(rcp .OHC_global-rcp .OHC_global.shift(time=1))/1e21, ls=':', lw=2, c=f'C{1}', label='$\\Delta$OHC RCP')\n",
    "# plt.ylim((-25,25))\n",
    "plt.xlabel('time [years]', fontsize=16)\n",
    "plt.ylabel('detrended OHC, OHC change [ZJ]', fontsize=16)\n",
    "plt.legend(loc=4, fontsize=16, frameon=False, ncol=2)\n",
    "plt.tight_layout()\n",
    "plt.savefig(f'{path_results}/OHC/OHC_global_timeseries_detrended')"
   ]
  },
  {
   "cell_type": "code",
   "execution_count": null,
   "metadata": {},
   "outputs": [],
   "source": [
    "# detrended rcp timeseries to find location of hiatus\n",
    "dss = [ctrl, ctrl_A, ctrl_P, ctrl_I, ctrl_S]\n",
    "plot_global_integrals(     dss, 'ctrl')\n",
    "plot_global_integrals_diff(dss, 'ctrl')\n",
    "plot_global_integrals_detr(dss, 'ctrl')\n",
    "\n",
    "dss = [rcp, rcp_A, rcp_P, rcp_I, rcp_S]\n",
    "plot_global_integrals(     dss, 'rcp')\n",
    "plot_global_integrals_diff(dss, 'rcp')\n",
    "plot_global_integrals_detr(dss, 'rcp')\n",
    "\n",
    "dss = [lpd, lpd_A, lpd_P, lpd_I, lpd_S]\n",
    "plot_global_integrals(     dss, 'lpd')\n",
    "plot_global_integrals_diff(dss, 'lpd')\n",
    "plot_global_integrals_detr(dss, 'lpd')\n",
    "\n",
    "dss = [lpi, lpi_A, lpi_P, lpi_I, lpi_S]\n",
    "plot_global_integrals(     dss, 'lpi')\n",
    "plot_global_integrals_diff(dss, 'lpi')\n",
    "plot_global_integrals_detr(dss, 'lpi')"
   ]
  },
  {
   "cell_type": "code",
   "execution_count": null,
   "metadata": {},
   "outputs": [],
   "source": [
    "from synthesis import TimeSeriesSynthesis"
   ]
  },
  {
   "cell_type": "code",
   "execution_count": null,
   "metadata": {},
   "outputs": [],
   "source": [
    "TSS = TimeSeriesSynthesis()\n",
    "dss = [(ctrl.OHC_global - xr_quadtrend(ctrl.OHC_global))/1e21, \n",
    "       (rcp .OHC_global - xr_quadtrend(rcp .OHC_global))/1e21, \n",
    "       (lpd .OHC_global - xr_quadtrend(lpd .OHC_global))/1e21, \n",
    "       (lpi .OHC_global - xr_quadtrend(lpi .OHC_global))/1e21]\n",
    "\n",
    "dss2 = [ctrl.OHC_global/1e21, \n",
    "        rcp .OHC_global/1e21, \n",
    "        lpd .OHC_global/1e21, \n",
    "        lpi .OHC_global/1e21]\n",
    "\n",
    "TSS.plot_all_spectra(dss)"
   ]
  },
  {
   "cell_type": "code",
   "execution_count": null,
   "metadata": {},
   "outputs": [],
   "source": [
    "TSS.print_all_autocorrelations(timeseries=dss)"
   ]
  },
  {
   "cell_type": "code",
   "execution_count": null,
   "metadata": {},
   "outputs": [],
   "source": [
    "TSS.print_pairwise_homoscedasticity(fields=tuple(dss))"
   ]
  },
  {
   "cell_type": "markdown",
   "metadata": {},
   "source": [
    "## Levels"
   ]
  },
  {
   "cell_type": "code",
   "execution_count": null,
   "metadata": {},
   "outputs": [],
   "source": [
    "ctrl_levels_trend_G = trend_global_levels(ctrl)\n",
    "ctrl_levels_trend_A = trend_global_levels(ctrl_A)\n",
    "ctrl_levels_trend_P = trend_global_levels(ctrl_P)\n",
    "ctrl_levels_trend_I = trend_global_levels(ctrl_I)\n",
    "ctrl_levels_trend_S = trend_global_levels(ctrl_S)\n",
    "ctrl_levels_trend_M = trend_global_levels(ctrl_M)\n",
    "\n",
    "rcp_levels_trend_G  = trend_global_levels(rcp)\n",
    "rcp_levels_trend_A  = trend_global_levels(rcp_A)\n",
    "rcp_levels_trend_P  = trend_global_levels(rcp_P)\n",
    "rcp_levels_trend_I  = trend_global_levels(rcp_I)\n",
    "rcp_levels_trend_S  = trend_global_levels(rcp_S)\n",
    "rcp_levels_trend_M  = trend_global_levels(rcp_M)"
   ]
  },
  {
   "cell_type": "code",
   "execution_count": null,
   "metadata": {},
   "outputs": [],
   "source": [
    "f = plt.figure(figsize=(8,5))\n",
    "ax = f.add_axes([0.10,0.13,.88,.85])\n",
    "plt.tick_params(labelsize=14)\n",
    "plt.axvline(0, c='k', lw=.5)\n",
    "plt.plot(ctrl_levels_trend_G, -tdepth/1e3, lw=3, label='CTRL')\n",
    "plt.plot(rcp_levels_trend_G , -tdepth/1e3, lw=3, label='RCP')\n",
    "plt.xlabel('OHC trend [J/m/yr]', fontsize=16)\n",
    "plt.ylabel('depth [km]', fontsize=16)\n",
    "plt.legend(fontsize=16)\n",
    "plt.tight_layout()\n",
    "plt.savefig(f'{path_results}/OHC/OHC_trend_depth')"
   ]
  },
  {
   "cell_type": "code",
   "execution_count": null,
   "metadata": {},
   "outputs": [],
   "source": [
    "das = [ctrl_levels_trend_G,\n",
    "       ctrl_levels_trend_A,\n",
    "       ctrl_levels_trend_P,\n",
    "       ctrl_levels_trend_I,\n",
    "       ctrl_levels_trend_S,\n",
    "       ctrl_levels_trend_M,\n",
    "      ]\n",
    "plot_levels_trend(das=das, run='ctrl')\n",
    "\n",
    "das = [rcp_levels_trend_G,\n",
    "       rcp_levels_trend_A,\n",
    "       rcp_levels_trend_P,\n",
    "       rcp_levels_trend_I,\n",
    "       rcp_levels_trend_S,\n",
    "       rcp_levels_trend_M,\n",
    "      ]\n",
    "plot_levels_trend(das=das, run='rcp')\n",
    "\n",
    "das = [rcp_levels_trend_G-ctrl_levels_trend_G,\n",
    "       rcp_levels_trend_A-ctrl_levels_trend_A,\n",
    "       rcp_levels_trend_P-ctrl_levels_trend_P,\n",
    "       rcp_levels_trend_I-ctrl_levels_trend_I,\n",
    "       rcp_levels_trend_S-ctrl_levels_trend_S,\n",
    "       rcp_levels_trend_M-ctrl_levels_trend_M,\n",
    "      ]\n",
    "plot_levels_trend(das=das, run='rcp-ctrl')"
   ]
  },
  {
   "cell_type": "code",
   "execution_count": null,
   "metadata": {},
   "outputs": [],
   "source": [
    "Hovmoeller_global_depth(ctrl, detrend='lin' , fn=f'{path_results}/OHC/OHC_Hovmoeller_depth_global_ctrl')\n",
    "Hovmoeller_global_depth(rcp , detrend='lin' , fn=None)\n",
    "Hovmoeller_global_depth(rcp , detrend='quad', fn=f'{path_results}/OHC/OHC_Hovmoeller_depth_global_rcp')"
   ]
  },
  {
   "cell_type": "code",
   "execution_count": null,
   "metadata": {},
   "outputs": [],
   "source": [
    "dss_ctrl = [ctrl_S, ctrl_A, ctrl_P, ctrl_I]\n",
    "dss_rcp  = [rcp_S, rcp_A, rcp_P, rcp_I]\n",
    "Hovmoeller_basins_depth(dss_ctrl, detrend='lin' , fn=f'{path_results}/OHC/OHC_Hovmoeller_depth_basins_ctrl')\n",
    "Hovmoeller_basins_depth(dss_rcp , detrend='lin' , fn=None) \n",
    "Hovmoeller_basins_depth(dss_rcp , detrend='quad', fn=f'{path_results}/OHC/OHC_Hovmoeller_depth_basins_rcp' )"
   ]
  },
  {
   "cell_type": "markdown",
   "metadata": {},
   "source": [
    "## spatial trends of vertically integrated OHC"
   ]
  },
  {
   "cell_type": "code",
   "execution_count": null,
   "metadata": {},
   "outputs": [],
   "source": [
    "%%time\n",
    "# 7 min for all 9, ignoring intercept values\n",
    "OHC_vert_trend_c1 , interc = ocn_field_regression(xa=ctrl.OHC_vertical[:101,:,:], run='ctrl') \n",
    "OHC_vert_trend_c2 , interc = ocn_field_regression(xa=ctrl.OHC_vertical[101:,:,:], run='ctrl') \n",
    "OHC_vert_trend_rcp, interc = ocn_field_regression(xa=rcp .OHC_vertical[:,:,:]   , run='rcp' )\n",
    "\n",
    "(OHC_vert_trend_c1 /spd).to_netcdf(f'{path_samoc}/OHC/OHC_trend_vert_int_c1.nc' )\n",
    "(OHC_vert_trend_c2 /spd).to_netcdf(f'{path_samoc}/OHC/OHC_trend_vert_int_c2.nc' )\n",
    "(OHC_vert_trend_rcp/spd).to_netcdf(f'{path_samoc}/OHC/OHC_trend_vert_int_rcp.nc')\n",
    "\n",
    "OHC_vert_trend_c1 , interc = ocn_field_regression(xa=ctrl.OHC_vertical_above_100m[:101,:,:], run='ctrl') \n",
    "OHC_vert_trend_c2 , interc = ocn_field_regression(xa=ctrl.OHC_vertical_above_100m[101:,:,:], run='ctrl') \n",
    "OHC_vert_trend_rcp, interc = ocn_field_regression(xa=rcp .OHC_vertical_above_100m[:,:,:]   , run='rcp' )\n",
    "\n",
    "(OHC_vert_trend_c1 /spd).to_netcdf(f'{path_samoc}/OHC/OHC_trend_vert_int_a_c1.nc' )\n",
    "(OHC_vert_trend_c2 /spd).to_netcdf(f'{path_samoc}/OHC/OHC_trend_vert_int_a_c2.nc' )\n",
    "(OHC_vert_trend_rcp/spd).to_netcdf(f'{path_samoc}/OHC/OHC_trend_vert_int_a_rcp.nc')\n",
    "\n",
    "OHC_vert_trend_c1 , interc = ocn_field_regression(xa=ctrl.OHC_vertical_below_100m[:101,:,:], run='ctrl') \n",
    "OHC_vert_trend_c2 , interc = ocn_field_regression(xa=ctrl.OHC_vertical_below_100m[101:,:,:], run='ctrl') \n",
    "OHC_vert_trend_rcp, interc = ocn_field_regression(xa=rcp .OHC_vertical_below_100m[:,:,:]   , run='rcp' )\n",
    "\n",
    "(OHC_vert_trend_c1 /spd).to_netcdf(f'{path_samoc}/OHC/OHC_trend_vert_int_b_c1.nc' )\n",
    "(OHC_vert_trend_c2 /spd).to_netcdf(f'{path_samoc}/OHC/OHC_trend_vert_int_b_c2.nc' )\n",
    "(OHC_vert_trend_rcp/spd).to_netcdf(f'{path_samoc}/OHC/OHC_trend_vert_int_b_rcp.nc')"
   ]
  },
  {
   "cell_type": "code",
   "execution_count": null,
   "metadata": {},
   "outputs": [],
   "source": [
    "OHC_vert_trend_c1  = xr.open_dataarray(f'{path_samoc}/OHC/OHC_trend_vert_int_c1.nc' , decode_times=False)\n",
    "OHC_vert_trend_c2  = xr.open_dataarray(f'{path_samoc}/OHC/OHC_trend_vert_int_c2.nc' , decode_times=False)\n",
    "OHC_vert_trend_rcp = xr.open_dataarray(f'{path_samoc}/OHC/OHC_trend_vert_int_rcp.nc', decode_times=False)\n",
    "\n",
    "OHC_vert_trend_c1  = xr.open_dataarray(f'{path_samoc}/OHC/OHC_trend_vert_int_a_c1.nc' , decode_times=False)\n",
    "OHC_vert_trend_c2  = xr.open_dataarray(f'{path_samoc}/OHC/OHC_trend_vert_int_a_c2.nc' , decode_times=False)\n",
    "OHC_vert_trend_rcp = xr.open_dataarray(f'{path_samoc}/OHC/OHC_trend_vert_int_a_rcp.nc', decode_times=False)\n",
    "\n",
    "OHC_vert_trend_c1  = xr.open_dataarray(f'{path_samoc}/OHC/OHC_trend_vert_int_b_c1.nc' , decode_times=False)\n",
    "OHC_vert_trend_c2  = xr.open_dataarray(f'{path_samoc}/OHC/OHC_trend_vert_int_b_c2.nc' , decode_times=False)\n",
    "OHC_vert_trend_rcp = xr.open_dataarray(f'{path_samoc}/OHC/OHC_trend_vert_int_b_rcp.nc', decode_times=False)"
   ]
  },
  {
   "cell_type": "code",
   "execution_count": null,
   "metadata": {},
   "outputs": [],
   "source": [
    "label  = r'OHC trend [W/m$^2$]'\n",
    "domain = 'ocn_T'\n",
    "minv   = -2\n",
    "maxv   = 6\n",
    "cmap   = discrete_cmap(16, shifted_color_map(mpl.cm.RdBu_r, start=.33, midpoint=0.5, stop=1., name='shrunk'))\n",
    "\n",
    "fn = f'{path_results}/OHC/OHC_trend_vert_int_map_c1'\n",
    "text1 = 'C1'\n",
    "xa = OHC_vert_trend_c1\n",
    "f, ax = map_eq_earth(xa=xa, domain=domain, cmap=cmap, minv=minv, maxv=maxv, label=label, filename=fn, text1=text1)\n",
    "\n",
    "fn = f'{path_results}/OHC/OHC_trend_vert_int_map_c2'\n",
    "text1 = 'C2'\n",
    "xa = OHC_vert_trend_c2\n",
    "f, ax = map_eq_earth(xa=xa, domain=domain, cmap=cmap, minv=minv, maxv=maxv, label=label, filename=fn, text1=text1)\n",
    "\n",
    "fn = f'{path_results}/OHC/OHC_trend_vert_int_map_rcp'\n",
    "text1 = 'RCP'\n",
    "xa = OHC_vert_trend_rcp\n",
    "f, ax = map_eq_earth(xa=xa, domain=domain, cmap=cmap, minv=minv, maxv=maxv, label=label, filename=fn, text1=text1)\n",
    "\n",
    "fn = f'{path_results}/OHC/OHC_trend_vert_int_map_rcp-c2'\n",
    "text1 = 'RCP-C2'\n",
    "xa = OHC_vert_trend_rcp-OHC_vert_trend_c2\n",
    "f, ax = map_eq_earth(xa=xa, domain=domain, cmap=cmap, minv=minv, maxv=maxv, label=label, filename=fn, text1=text1)"
   ]
  },
  {
   "cell_type": "markdown",
   "metadata": {},
   "source": [
    "## zonal integrals"
   ]
  },
  {
   "cell_type": "code",
   "execution_count": null,
   "metadata": {},
   "outputs": [],
   "source": [
    "lats = ctrl.TLAT_bins\n",
    "\n",
    "f = plt.figure(figsize=(8,5))\n",
    "ax = f.add_axes([0.13,0.13,.84,.82])\n",
    "plt.tick_params(labelsize=14)\n",
    "plt.axhline(0, c='k', lw=.5)\n",
    "\n",
    "y1 = ctrl_S.OHC_zonal.mean(dim='time').values\n",
    "y2 = 0\n",
    "S  = plt.fill_between(lats, y1, y2, color='C3', alpha=.5, label='Southern')\n",
    "\n",
    "y1 = (np.nan_to_num(ctrl_S.OHC_zonal)+ctrl_A.OHC_zonal).mean(dim='time').values\n",
    "y2 = np.nan_to_num(ctrl_S.OHC_zonal.mean(dim='time').values)\n",
    "A  = plt.fill_between(lats, y1, y2, color='C0', alpha=.5, label='Atlantic')\n",
    "\n",
    "y1 = (np.nan_to_num(ctrl_S.OHC_zonal)+ctrl_A.OHC_zonal+ctrl_P.OHC_zonal).mean(dim='time').values\n",
    "y2 = (np.nan_to_num(ctrl_S.OHC_zonal)+ctrl_A.OHC_zonal                 ).mean(dim='time').values\n",
    "P  = plt.fill_between(lats, y1, y2, color='C1', alpha=.5, label='Pacific')\n",
    "\n",
    "y1 = (np.nan_to_num(ctrl_S.OHC_zonal)+ctrl_A.OHC_zonal+ctrl_P.OHC_zonal+ctrl_I.OHC_zonal).mean(dim='time').values\n",
    "y2 = (np.nan_to_num(ctrl_S.OHC_zonal)+ctrl_A.OHC_zonal+ctrl_P.OHC_zonal                 ).mean(dim='time').values\n",
    "I  = plt.fill_between(lats, y1, y2, color='C2', alpha=.5, label='Indian')\n",
    "\n",
    "y1 = (ctrl_A.OHC_zonal+ctrl_P.OHC_zonal+ctrl_M.OHC_zonal).mean(dim='time').values\n",
    "y2 = (ctrl_A.OHC_zonal+ctrl_P.OHC_zonal                 ).mean(dim='time').values\n",
    "M  = plt.fill_between(lats, y1, y2, color='C4', alpha=.5, label='Mediterranean')\n",
    "\n",
    "G, = plt.plot(lats , ctrl.OHC_zonal.mean(dim='time').values, c='k', lw=3, label='global integral')\n",
    "\n",
    "plt.text(.98,.9, f'CTRL mean', ha='right', transform=ax.transAxes, fontsize=16)\n",
    "\n",
    "plt.xticks(np.arange(-90,91,30))\n",
    "plt.xlim((-92,92))\n",
    "plt.ylim((0,2.6e18))\n",
    "plt.xlabel('latitude', fontsize=16)\n",
    "plt.ylabel('zonal OHC integral [J/m]', fontsize=16)\n",
    "plt.legend(handles=[G, M, S, A, P, I], fontsize=16, loc=2, frameon=False)\n",
    "plt.tight_layout()\n",
    "plt.savefig(f'{path_results}/OHC/OHC_zonal_mean')"
   ]
  },
  {
   "cell_type": "code",
   "execution_count": null,
   "metadata": {},
   "outputs": [],
   "source": [
    "ctrl_zonal_trend_G = zonal_trend(ctrl)\n",
    "ctrl_zonal_trend_A = zonal_trend(ctrl_A)\n",
    "ctrl_zonal_trend_P = zonal_trend(ctrl_P)\n",
    "ctrl_zonal_trend_I = zonal_trend(ctrl_I)\n",
    "ctrl_zonal_trend_M = zonal_trend(ctrl_M)\n",
    "ctrl_zonal_trend_S = zonal_trend(ctrl_S)\n",
    "\n",
    "rcp_zonal_trend_G  = zonal_trend(rcp)\n",
    "rcp_zonal_trend_A  = zonal_trend(rcp_A)\n",
    "rcp_zonal_trend_P  = zonal_trend(rcp_P)\n",
    "rcp_zonal_trend_I  = zonal_trend(rcp_I)\n",
    "rcp_zonal_trend_M  = zonal_trend(rcp_M)\n",
    "rcp_zonal_trend_S  = zonal_trend(rcp_S)"
   ]
  },
  {
   "cell_type": "code",
   "execution_count": null,
   "metadata": {},
   "outputs": [],
   "source": [
    "f = plt.figure(figsize=(8,5))\n",
    "plt.tick_params(labelsize=14)\n",
    "plt.axhline(0, c='k', lw=.5)\n",
    "plt.plot(ctrl_zonal_trend_G.TLAT_bins, ctrl_zonal_trend_G, c='k' , lw=3  , ls='--', label='CTRL global')\n",
    "plt.plot(ctrl_zonal_trend_A.TLAT_bins, ctrl_zonal_trend_A, c='C0', lw=1.5, ls='--', label='CTRL Atlantic')\n",
    "plt.plot(ctrl_zonal_trend_P.TLAT_bins, ctrl_zonal_trend_P, c='C1', lw=1.5, ls='--', label='CTRL Pacific')\n",
    "plt.plot(ctrl_zonal_trend_I.TLAT_bins, ctrl_zonal_trend_I, c='C2', lw=1.5, ls='--', label='CTRL Indian')\n",
    "plt.plot(ctrl_zonal_trend_S.TLAT_bins, ctrl_zonal_trend_S, c='C3', lw=1.5, ls='--', label='CTRL Southern')\n",
    "plt.plot(ctrl_zonal_trend_M.TLAT_bins, ctrl_zonal_trend_M, c='C4', lw=1.5, ls='--', label='CTRL Mediterr.')\n",
    "\n",
    "plt.plot(rcp_zonal_trend_G.TLAT_bins , rcp_zonal_trend_G , c='k' , lw=3  , ls='-' , label='RCP global')\n",
    "plt.plot(rcp_zonal_trend_A.TLAT_bins , rcp_zonal_trend_A , c='C0', lw=1.5, ls='-' , label='RCP Atlantic')\n",
    "plt.plot(rcp_zonal_trend_P.TLAT_bins , rcp_zonal_trend_P , c='C1', lw=1.5, ls='-' , label='RCP Pacific')\n",
    "plt.plot(rcp_zonal_trend_I.TLAT_bins , rcp_zonal_trend_I , c='C2', lw=1.5, ls='-' , label='RCP Indian')\n",
    "plt.plot(rcp_zonal_trend_S.TLAT_bins , rcp_zonal_trend_S , c='C3', lw=1.5, ls='-' , label='RCP Southern')\n",
    "plt.plot(rcp_zonal_trend_M.TLAT_bins , rcp_zonal_trend_M , c='C4', lw=1.5, ls='-' , label='RCP Mediterr.')\n",
    "plt.xticks(np.arange(-90,91,30))\n",
    "plt.xlim((-92,92))\n",
    "plt.xlabel('latitude', fontsize=16)\n",
    "plt.ylabel('zonal OHC linear trend [J/m/yr]', fontsize=16)\n",
    "plt.legend(fontsize=12, ncol=2, frameon=False)\n",
    "plt.tight_layout()\n",
    "plt.savefig(f'{path_results}/OHC/OHC_zonal_trend')"
   ]
  },
  {
   "cell_type": "markdown",
   "metadata": {},
   "source": [
    "## latitude - depth"
   ]
  },
  {
   "cell_type": "code",
   "execution_count": null,
   "metadata": {},
   "outputs": [],
   "source": [
    "ctrl_zonal_levels_trend_G = zonal_levels_trend(ctrl)\n",
    "ctrl_zonal_levels_trend_A = zonal_levels_trend(ctrl_A)\n",
    "ctrl_zonal_levels_trend_P = zonal_levels_trend(ctrl_P)\n",
    "ctrl_zonal_levels_trend_I = zonal_levels_trend(ctrl_I)\n",
    "ctrl_zonal_levels_trend_M = zonal_levels_trend(ctrl_M)\n",
    "ctrl_zonal_levels_trend_S = zonal_levels_trend(ctrl_S)\n",
    "\n",
    "rcp_zonal_levels_trend_G  = zonal_levels_trend(rcp)\n",
    "rcp_zonal_levels_trend_A  = zonal_levels_trend(rcp_A)\n",
    "rcp_zonal_levels_trend_P  = zonal_levels_trend(rcp_P)\n",
    "rcp_zonal_levels_trend_I  = zonal_levels_trend(rcp_I)\n",
    "rcp_zonal_levels_trend_M  = zonal_levels_trend(rcp_M)\n",
    "rcp_zonal_levels_trend_S  = zonal_levels_trend(rcp_S)"
   ]
  },
  {
   "cell_type": "code",
   "execution_count": null,
   "metadata": {},
   "outputs": [],
   "source": [
    "rcp_zonal_levels_trend_I.plot()"
   ]
  },
  {
   "cell_type": "code",
   "execution_count": null,
   "metadata": {},
   "outputs": [],
   "source": [
    "f = plt.figure(figsize=(8,5))\n",
    "plt.tick_params(labelsize=14)\n",
    "X_ctrl, Y_ctrl = np.meshgrid(ctrl.TLAT_bins[11:], -tdepth/1e3)\n",
    "maxv = 7e11\n",
    "plt.pcolormesh(X_ctrl, Y_ctrl, ctrl_zonal_levels_trend_G.T, cmap=cmocean.cm.balance, vmin=-maxv, vmax=maxv)\n",
    "plt.xticks(np.arange(-90,91,30))\n",
    "plt.xlim((-92,92))\n",
    "plt.xlabel('latitude', fontsize=16)\n",
    "plt.ylabel('depth [km]', fontsize=16)\n",
    "plt.colorbar()\n",
    "plt.tight_layout()\n",
    "plt.savefig(f'{path_results}/OHC/OHC_zonal_levels_trend_ctrl')"
   ]
  },
  {
   "cell_type": "code",
   "execution_count": null,
   "metadata": {},
   "outputs": [],
   "source": [
    "f = plt.figure(figsize=(8,5))\n",
    "plt.tick_params(labelsize=14)\n",
    "X_rcp, Y_rcp = np.meshgrid(rcp.TLAT_bins[11:], -tdepth/1e3)\n",
    "maxv = 7e11\n",
    "plt.pcolormesh(X_rcp, Y_rcp, rcp_zonal_levels_trend_G.T, cmap=cmocean.cm.balance, vmin=-maxv, vmax=maxv)\n",
    "plt.xticks(np.arange(-90,91,30))\n",
    "plt.xlim((-92,92))\n",
    "plt.xlabel('latitude', fontsize=16)\n",
    "plt.ylabel('depth [km]', fontsize=16)\n",
    "plt.colorbar(extend='max')\n",
    "plt.tight_layout()\n",
    "plt.savefig(f'{path_results}/OHC/OHC_zonal_levels_trend_rcp')"
   ]
  },
  {
   "cell_type": "code",
   "execution_count": null,
   "metadata": {},
   "outputs": [],
   "source": [
    "f = plt.figure(figsize=(8,5))\n",
    "plt.tick_params(labelsize=14)\n",
    "X_rcp, Y_rcp = np.meshgrid(rcp.TLAT_bins[11:], -tdepth/1e3)\n",
    "maxv = 10e11\n",
    "plt.pcolormesh(X_rcp, Y_rcp, (rcp_zonal_levels_trend_G-ctrl_zonal_levels_trend_G).T, cmap=cmocean.cm.balance, vmin=-maxv, vmax=maxv)\n",
    "plt.xticks(np.arange(-90,91,30))\n",
    "plt.xlim((-92,92))\n",
    "plt.xlabel('latitude', fontsize=16)\n",
    "plt.ylabel('depth [km]', fontsize=16)\n",
    "plt.colorbar(extend='max')\n",
    "plt.tight_layout()\n",
    "plt.savefig(f'{path_results}/OHC/OHC_zonal_levels_trend_rcp-ctrl')"
   ]
  },
  {
   "cell_type": "code",
   "execution_count": null,
   "metadata": {},
   "outputs": [],
   "source": []
  },
  {
   "cell_type": "code",
   "execution_count": null,
   "metadata": {},
   "outputs": [],
   "source": [
    "rcp_P.OHC_zonal_levels.mean(dim='time').plot()"
   ]
  },
  {
   "cell_type": "code",
   "execution_count": null,
   "metadata": {},
   "outputs": [],
   "source": [
    "P_lat_0_100   = rcp_P.OHC_zonal_levels.sel({'z_t':slice(0,1e5)}).sum(dim='z_t')\n",
    "P_lat_100_300 = rcp_P.OHC_zonal_levels.sel({'z_t':slice(1e5,3e5)}).sum(dim='z_t')"
   ]
  },
  {
   "cell_type": "code",
   "execution_count": null,
   "metadata": {},
   "outputs": [],
   "source": [
    "rcp_times"
   ]
  },
  {
   "cell_type": "code",
   "execution_count": null,
   "metadata": {},
   "outputs": [],
   "source": [
    "plt.plot(np.polyfit(rcp_times, P_lat_0_100, 1)[0])\n",
    "plt.plot(np.polyfit(rcp_times, P_lat_100_300, 1)[0])"
   ]
  },
  {
   "cell_type": "code",
   "execution_count": null,
   "metadata": {},
   "outputs": [],
   "source": [
    "P_lat_0_100_mean_trend   = np.polyfit(rcp_times, P_lat_0_100, 1)[0]\n",
    "P_lat_100_300_mean_trend = np.polyfit(rcp_times, P_lat_100_300, 1)[0]\n",
    "P_lat_0_100_mean_trend   = np.mean(P_lat_0_100_mean_trend[np.nonzero(P_lat_0_100_mean_trend)])\n",
    "P_lat_100_300_mean_trend = np.mean(P_lat_100_300_mean_trend[np.nonzero(P_lat_100_300_mean_trend)])\n",
    "print(f'{P_lat_0_100_mean_trend:.2e}, {P_lat_100_300_mean_trend:.2e}')"
   ]
  },
  {
   "cell_type": "code",
   "execution_count": null,
   "metadata": {},
   "outputs": [],
   "source": [
    "P_lat_0_100_detr   = (P_lat_0_100   - P_lat_0_100.sel(  {'time':slice(730000,735000)}).mean(dim='time')).where(P_lat_0_100!=0)\n",
    "P_lat_100_300_detr = (P_lat_100_300 - P_lat_100_300.sel({'time':slice(730000,735000)}).mean(dim='time')).where(P_lat_100_300!=0)\n",
    "for t in range(len(rcp_times)):\n",
    "    P_lat_0_100_detr[t,:]   =  P_lat_0_100_detr[t,:]   - P_lat_0_100_mean_trend*t\n",
    "    P_lat_100_300_detr[t,:] =  P_lat_100_300_detr[t,:] - P_lat_100_300_mean_trend*t"
   ]
  },
  {
   "cell_type": "code",
   "execution_count": null,
   "metadata": {},
   "outputs": [],
   "source": [
    "X, Y = np.meshgrid(rcp_times, P_lat_100_300_detr.TLAT_bins)\n",
    "\n",
    "f, ax = plt.subplots(2,1,figsize=(8,8), sharex=True)\n",
    "\n",
    "ax[0].pcolormesh(X, Y, P_lat_0_100_detr.T  , cmap=cmocean.cm.balance)\n",
    "ax[1].pcolormesh(X, Y, P_lat_100_300_detr.T, cmap=cmocean.cm.balance)\n",
    "\n",
    "ax[1].set_xlabel('time [years]', fontsize=16)\n",
    "ax[0].text(.02, .9, '0-100 m'  , transform=ax[0].transAxes, fontsize=16)\n",
    "ax[1].text(.02, .9, '100-300 m', transform=ax[1].transAxes, fontsize=16)\n",
    "for i in range(2):\n",
    "    ax[i].tick_params(labelsize=14)\n",
    "    ax[i].set_ylim((-40,70))\n",
    "    ax[i].set_ylabel('latitude', fontsize=16)\n",
    "plt.tight_layout()\n",
    "plt.savefig(f'{path_results}/OHC/OHC_Hovmoeller_lat_Pacific_rcp')"
   ]
  },
  {
   "cell_type": "code",
   "execution_count": null,
   "metadata": {},
   "outputs": [],
   "source": [
    "P_lat_0_100.sel({'TLAT_bins':-5}, method='nearest').plot()\n"
   ]
  },
  {
   "cell_type": "code",
   "execution_count": null,
   "metadata": {},
   "outputs": [],
   "source": [
    "P_lat_100_300.sel({'TLAT_bins':-5}, method='nearest').plot()"
   ]
  },
  {
   "cell_type": "code",
   "execution_count": null,
   "metadata": {},
   "outputs": [],
   "source": [
    "P_lat_100_300.z_t"
   ]
  },
  {
   "cell_type": "code",
   "execution_count": null,
   "metadata": {},
   "outputs": [],
   "source": []
  },
  {
   "cell_type": "code",
   "execution_count": null,
   "metadata": {},
   "outputs": [],
   "source": []
  },
  {
   "cell_type": "code",
   "execution_count": null,
   "metadata": {},
   "outputs": [],
   "source": []
  },
  {
   "cell_type": "code",
   "execution_count": null,
   "metadata": {},
   "outputs": [],
   "source": []
  },
  {
   "cell_type": "code",
   "execution_count": null,
   "metadata": {},
   "outputs": [],
   "source": []
  },
  {
   "cell_type": "code",
   "execution_count": null,
   "metadata": {},
   "outputs": [],
   "source": []
  },
  {
   "cell_type": "code",
   "execution_count": null,
   "metadata": {},
   "outputs": [],
   "source": []
  },
  {
   "cell_type": "code",
   "execution_count": null,
   "metadata": {},
   "outputs": [],
   "source": []
  },
  {
   "cell_type": "code",
   "execution_count": null,
   "metadata": {},
   "outputs": [],
   "source": [
    "# hiatus\n",
    "X_rcp, Y_rcp = np.meshgrid(rcp.TLAT_bins, -tdepth[:20]/1e3)\n",
    "maxv=8e13\n",
    "plt.pcolormesh(X_rcp, Y_rcp, (rcp.OHC_zonal_levels[28,:20,:]-rcp.OHC_zonal_levels[20,:20,:]), cmap='RdBu_r', vmin=-maxv, vmax=maxv)\n",
    "plt.colorbar()\n",
    "plt.tight_layout()"
   ]
  },
  {
   "cell_type": "code",
   "execution_count": null,
   "metadata": {},
   "outputs": [],
   "source": []
  }
 ],
 "metadata": {
  "kernelspec": {
   "display_name": "Python 3",
   "language": "python",
   "name": "python3"
  },
  "language_info": {
   "codemirror_mode": {
    "name": "ipython",
    "version": 3
   },
   "file_extension": ".py",
   "mimetype": "text/x-python",
   "name": "python",
   "nbconvert_exporter": "python",
   "pygments_lexer": "ipython3",
   "version": "3.6.6"
  }
 },
 "nbformat": 4,
 "nbformat_minor": 2
}
