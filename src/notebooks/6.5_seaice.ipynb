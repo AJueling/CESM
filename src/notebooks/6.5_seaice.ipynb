{
 "cells": [
  {
   "cell_type": "markdown",
   "metadata": {},
   "source": [
    "# Thesis Chapter 6.5: Sea Ice Response"
   ]
  },
  {
   "cell_type": "code",
   "execution_count": null,
   "metadata": {},
   "outputs": [],
   "source": [
    "import os\n",
    "import sys\n",
    "import numpy as np\n",
    "import xarray as xr\n",
    "import cmocean\n",
    "import cartopy\n",
    "import scipy.stats as stats\n",
    "import cartopy.crs as ccrs\n",
    "import datetime\n",
    "import matplotlib\n",
    "import matplotlib.pyplot as plt"
   ]
  },
  {
   "cell_type": "code",
   "execution_count": null,
   "metadata": {},
   "outputs": [],
   "source": [
    "%matplotlib inline\n",
    "mstplotlib.rc_file('../rc_file')\n",
    "%config InlineBackend.print_figure_kwargs={'bbox_inches':None}\n",
    "%load_ext autoreload\n",
    "%autoreload 2"
   ]
  },
  {
   "cell_type": "code",
   "execution_count": null,
   "metadata": {
    "tags": []
   },
   "outputs": [],
   "source": [
    "sys.path.append(\"..\")\n",
    "from tqdm import notebook\n",
    "from paths import path_results, path_prace, CESM_filename, file_ex_atm_lpd\n",
    "from filters import lowpass\n",
    "from constants import spy\n",
    "from xr_regression import xr_linear_trend, xr_lintrend\n",
    "from constants import R_earth\n",
    "A_Earth = 4*np.pi*R_earth**2"
   ]
  },
  {
   "cell_type": "code",
   "execution_count": null,
   "metadata": {
    "tags": []
   },
   "outputs": [],
   "source": [
    "f, ax = plt.subplots(4,2, figsize=(6.4,5), sharex='col', sharey='row', gridspec_kw={'width_ratios':[2,1]}, constrained_layout=True)\n",
    "ax[0,0].set_title('RCP')\n",
    "ax[0,1].set_title(r'$4\\times\\mathrm{CO}_2$')\n",
    "unit = r'[10$^6$ km$^2$]'\n",
    "for i in range(4):\n",
    "    ax[i,0].set_ylabel([f'Arctic max\\n{unit}',\n",
    "                        f'Antarctic max\\n{unit}',\n",
    "                        f'Arctic min\\n{unit}',\n",
    "                        f'Antarctic min\\n{unit}'][i])\n",
    "    for j in range(2):\n",
    "        ax[i,j].axhline(0, c='k', lw=.5)\n",
    "\n",
    "for i, run in enumerate(['rcp', 'lr1', 'hq', 'lq']):\n",
    "    j = int(i/2)\n",
    "    c = f'C{int(i%2)}'\n",
    "    if j==0:  ax[0,0].legend(fontsize=8)\n",
    "    \n",
    "    CICE_AM  = xr.open_dataarray(f'{path_prace}/CICE/CICE_Arctic_Mar_{run}.nc'   , decode_times=False)\n",
    "    CICE_AAM = xr.open_dataarray(f'{path_prace}/CICE/CICE_Antarctic_Mar_{run}.nc', decode_times=False)\n",
    "    CICE_AS  = xr.open_dataarray(f'{path_prace}/CICE/CICE_Arctic_Sep_{run}.nc'   , decode_times=False)\n",
    "    CICE_AAS = xr.open_dataarray(f'{path_prace}/CICE/CICE_Antarctic_Sep_{run}.nc', decode_times=False)\n",
    "    ax[0,j].plot(CICE_AM .time/365, CICE_AM /1e14, c=c)\n",
    "    ax[1,j].plot(CICE_AAS.time/365, CICE_AAS/1e14, c=c)\n",
    "    ax[2,j].plot(CICE_AS .time/365, CICE_AS /1e14, c=c)\n",
    "    ax[3,j].plot(CICE_AAM.time/365, CICE_AAM/1e14, c=c)\n",
    "    # if i==0 and j==0:  ax[4,j].legend(fontsize=8, ncol=2)\n",
    "\n",
    "for i in range(2):\n",
    "    ax[3,i].set_xticks(np.arange(2000,2101,25))\n",
    "    ax[3,i].set_xlim([(1997,2103),(1997,2053)][i])\n",
    "    ax[3,i].set_xlabel('time [model year]')\n",
    "\n",
    "f.align_ylabels()\n",
    "\n",
    "# plt.savefig(f'{path_results}/ECS/CESM_response_RCP_4xCO2')\n",
    "# plt.savefig(f'{path_results}/ECS/CESM_response_RCP_4xCO2.eps')\n"
   ]
  },
  {
   "cell_type": "code",
   "execution_count": null,
   "metadata": {},
   "outputs": [],
   "source": []
  }
 ],
 "metadata": {
  "kernelspec": {
   "display_name": "Python 3",
   "language": "python",
   "name": "python3"
  },
  "language_info": {
   "codemirror_mode": {
    "name": "ipython",
    "version": 3
   },
   "file_extension": ".py",
   "mimetype": "text/x-python",
   "name": "python",
   "nbconvert_exporter": "python",
   "pygments_lexer": "ipython3",
   "version": "3.7.6-final"
  }
 },
 "nbformat": 4,
 "nbformat_minor": 4
}
