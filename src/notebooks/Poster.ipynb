{
 "cells": [
  {
   "cell_type": "markdown",
   "metadata": {},
   "source": [
    "Images for the poster at the Nederlands Aardwetenschapplijk Congress, Utrecht, 14.3.19."
   ]
  },
  {
   "cell_type": "code",
   "execution_count": null,
   "metadata": {},
   "outputs": [],
   "source": [
    "import os\n",
    "import sys\n",
    "sys.path.append(\"..\")\n",
    "import numpy as np\n",
    "import xarray as xr\n",
    "import seaborn as sns\n",
    "import cartopy\n",
    "import cartopy.crs as ccrs\n",
    "import datetime\n",
    "import matplotlib as mpl\n",
    "import matplotlib.pyplot as plt"
   ]
  },
  {
   "cell_type": "code",
   "execution_count": null,
   "metadata": {},
   "outputs": [],
   "source": [
    "%matplotlib inline\n",
    "%config InlineBackend.print_figure_kwargs={'bbox_inches':None}\n",
    "%load_ext autoreload\n",
    "%autoreload 2"
   ]
  },
  {
   "cell_type": "code",
   "execution_count": null,
   "metadata": {},
   "outputs": [],
   "source": [
    "from maps import map_robinson, map_eq_earth\n",
    "from GMST import GMST_timeseries, GMST_regression, atm_heat_content, GMST_GISTEMP\n",
    "from paths import path_results, path_samoc, path_data\n",
    "from plotting import shifted_color_map, discrete_cmap\n",
    "from constants import abs_zero, cp_air\n",
    "from timeseries import IterateOutputCESM\n",
    "from xr_integrate import xr_surf_mean, xr_zonal_mean\n",
    "from xr_DataArrays import xr_AREA"
   ]
  },
  {
   "cell_type": "code",
   "execution_count": null,
   "metadata": {},
   "outputs": [],
   "source": [
    "from statsmodels.tsa.arima_process import ArmaProcess\n",
    "import mtspec\n",
    "import matplotlib.ticker as mticker\n",
    "from filters import lowpass\n",
    "from regions import SST_index_bounds\n",
    "import matplotlib.patches as mpatches"
   ]
  },
  {
   "cell_type": "code",
   "execution_count": null,
   "metadata": {},
   "outputs": [],
   "source": [
    "hadcrut = xr.open_dataarray(f'{path_data}/HadCRUT/ihad4_krig_v2_0-360E_-90-90N_n_mean1_anom_30.nc', decode_times=False)\n",
    "mpige = xr.open_dataset(f'{path_samoc}/GMST/GMST_MPI_GE.nc')\n",
    "cmip5   = xr.open_dataarray(f'{path_data}/CMIP5/KNMI_CMIP5_GMST_yrly.nc', decode_times=False)  # first year 1861\n",
    "mpige_1950_1980 = mpige.tsurf_mean[100:130].mean(dim='time')-273.15\n",
    "cmip5_1950_1980 = cmip5[89:119].mean()\n",
    "cmip5_1980_2010 = cmip5[119:149].mean()"
   ]
  },
  {
   "cell_type": "code",
   "execution_count": null,
   "metadata": {},
   "outputs": [],
   "source": [
    "f, ax = plt.subplots(1, 1, figsize=(8,5))\n",
    "plt.tick_params(labelsize=20)\n",
    "# plt.xlabel('time [year C.E.]', fontsize=20)\n",
    "plt.ylabel('GMST anomaly [$^\\circ$C]', fontsize=20)\n",
    "ax.spines['right'].set_visible(False)\n",
    "ax.spines['top'].set_visible(False)\n",
    "for i in range(100):\n",
    "    L1, =plt.plot(np.arange(1850,2016), mpige.tsurf[i,:]-273.15-mpige_1950_1980,\n",
    "             alpha=.2, lw=.5, c='grey', label='ensemble members')\n",
    "# L2, = plt.plot(np.arange(1861,2019), cmip5[:158], lw=2, label='CMIP5 single member ensemble mean')\n",
    "\n",
    "L3, = plt.plot(np.arange(1850,2016), mpige.tsurf_mean-273.15-mpige_1950_1980, lw=2, label='ensemble mean: forced signal')\n",
    "L4, = plt.plot(np.arange(1850,2019), hadcrut, lw=2, label='observations: HadCRUT')\n",
    "leg1 = plt.legend(handles=[L1, L3, L4], fontsize=20, frameon=False, loc=2)\n",
    "plt.gca().add_artist(leg1)\n",
    "plt.tight_layout()\n",
    "plt.savefig(f'{path_results}/poster/GMST', dpi=600)"
   ]
  },
  {
   "cell_type": "markdown",
   "metadata": {},
   "source": [
    "## Variance plots"
   ]
  },
  {
   "cell_type": "markdown",
   "metadata": {},
   "source": [
    "### GMST"
   ]
  },
  {
   "cell_type": "code",
   "execution_count": null,
   "metadata": {},
   "outputs": [],
   "source": [
    "import statsmodels.api as sm"
   ]
  },
  {
   "cell_type": "code",
   "execution_count": null,
   "metadata": {},
   "outputs": [],
   "source": [
    "had_cmip5 = hadcrut[11:].values-cmip5[:158].values\n",
    "# plt.plot(np.arange(1861,2019), had_cmip5, label=f'HadCRUT-CMIP5' )\n",
    "\n",
    "def scaled_detrended_gmst(obs, mmem):\n",
    "    assert len(obs)==len(mmem)\n",
    "\n",
    "    X = mmem - np.mean(mmem)\n",
    "    Y = obs - np.mean(obs)\n",
    "#     plt.plot(X)\n",
    "#     plt.plot(Y)\n",
    "    model = sm.OLS(Y, X).fit()\n",
    "    print(f'{len(obs)}, R^2: {model.rsquared:4.2e} params: {model.params}\\n')\n",
    "    a = model.params[0]\n",
    "    return Y-a*X, a\n",
    "\n",
    "had_cmip5, a_hc = scaled_detrended_gmst(hadcrut[11:].values, cmip5[:158].values  )\n",
    "\n",
    "plt.plot(np.arange(1861,2019), had_cmip5, label=f'HadCRUT-{a_hc}*CMIP5' )\n",
    "plt.legend()"
   ]
  },
  {
   "cell_type": "code",
   "execution_count": null,
   "metadata": {},
   "outputs": [],
   "source": [
    "from OHC import replace_OHC_year\n",
    "from filters import bandpass\n",
    "from xr_regression import xr_lintrend, xr_quadtrend"
   ]
  },
  {
   "cell_type": "code",
   "execution_count": null,
   "metadata": {},
   "outputs": [],
   "source": [
    "gmst_ctrl = xr.open_dataarray(f'{path_samoc}/GMST/GMST_yrly_ctrl.nc')\n",
    "gmst_lpd  = xr.open_dataarray(f'{path_samoc}/GMST/GMST_yrly_lpd.nc' )"
   ]
  },
  {
   "cell_type": "code",
   "execution_count": null,
   "metadata": {},
   "outputs": [],
   "source": [
    "ctrl   = xr.open_dataset(f'{path_samoc}/OHC/OHC_integrals_Global_Ocean_ctrl.nc'  , decode_times=False)\n",
    "ctrl   = replace_OHC_year(ctrl  , 205)\n",
    "lpd    = xr.open_dataset(f'{path_samoc}/OHC/OHC_integrals_Global_Ocean_lpd.nc'   , decode_times=False)"
   ]
  },
  {
   "cell_type": "code",
   "execution_count": null,
   "metadata": {},
   "outputs": [],
   "source": [
    "def std_bandpass(tseries):\n",
    "    if type(tseries)==xr.core.dataarray.DataArray:\n",
    "        tseries = tseries-xr_quadtrend(tseries)\n",
    "        tseries = tseries.values\n",
    "    a = np.std(bandpass(tseries, np.array([20,5])))\n",
    "    b = np.std(bandpass(tseries, np.array([100,20])))\n",
    "    return a, b\n",
    "\n",
    "\n",
    "\n",
    "f, ax = plt.subplots(2,2,figsize=(14,7),sharex='col', sharey=True)\n",
    "for i in range(2):\n",
    "    for j in range(2):\n",
    "        ax[i,j].tick_params(labelsize=20)\n",
    "\n",
    "        ax[i,j].spines['right'].set_visible(False)\n",
    "        ax[i,j].spines['top'].set_visible(False)\n",
    "    \n",
    "    ax[i,0].set_yticks([2.75, 2, 1])\n",
    "    ax[i,0].set_yticklabels(['obs', 'high\\nres.', 'low\\nres.'], fontsize=20)\n",
    "\n",
    "ax[1,0].set_xlabel('GMST variance [K]', fontsize=30)\n",
    "\n",
    "had1, had2 = std_bandpass(had_cmip5)\n",
    "ctrl1, ctrl2 = std_bandpass(gmst_ctrl[-149:])\n",
    "ctrl3, ctrl4 = std_bandpass(gmst_ctrl[:149])\n",
    "lpd1, lpd2 = std_bandpass(gmst_lpd[-149:])\n",
    "lpd3, lpd4 = std_bandpass(gmst_lpd[-2*149:-149])\n",
    "\n",
    "ax[0,0].set_ylabel('decadal', fontsize=30)\n",
    "ax[0,0].barh(2.75, had1 , 0.42, color='C1')\n",
    "ax[0,0].barh(2.25, ctrl1, 0.42, color='C0')\n",
    "ax[0,0].barh(1.75, ctrl3, 0.42, color='C0')\n",
    "ax[0,0].barh(1.25, lpd1 , 0.42, color='C2')\n",
    "ax[0,0].barh(0.75, lpd3 , 0.42, color='C2')\n",
    "\n",
    "\n",
    "ax[1,0].barh(2.75, had2 , 0.42, color='C1')\n",
    "ax[1,0].barh(2.25, ctrl2, 0.42, color='C0')\n",
    "ax[1,0].barh(1.75, ctrl4, 0.42, color='C0')\n",
    "ax[1,0].barh(1.25, lpd2,  0.42, color='C2')\n",
    "ax[1,0].barh(0.75, lpd4,  0.42, color='C2')\n",
    "ax[1,0].set_ylabel('multidecadal', fontsize=30)\n",
    "\n",
    "ax[1,1].set_xlabel('global OHC variance [ZJ]', fontsize=30)\n",
    "\n",
    "ctrl1, ctrl2 = std_bandpass(ctrl.OHC_global[-149:])\n",
    "ctrl3, ctrl4 = std_bandpass(ctrl.OHC_global[:149])\n",
    "lpd1, lpd2 = std_bandpass(lpd.OHC_global[-149:])\n",
    "lpd3, lpd4 = std_bandpass(lpd.OHC_global[-2*149:-149])\n",
    "\n",
    "ax[0,1].barh(2.25, ctrl1/1e21, 0.42, color='C0')\n",
    "ax[0,1].barh(1.75, ctrl3/1e21, 0.42, color='C0')\n",
    "ax[0,1].barh(1.25, lpd1 /1e21, 0.42, color='C2')\n",
    "ax[0,1].barh(0.75, lpd3 /1e21, 0.42, color='C2')\n",
    "\n",
    "ax[1,1].barh(2.25, ctrl2/1e21, 0.42, color='C0')\n",
    "ax[1,1].barh(1.75, ctrl4/1e21, 0.42, color='C0')\n",
    "ax[1,1].barh(1.25, lpd2 /1e21, 0.42, color='C2')\n",
    "ax[1,1].barh(0.75, lpd4 /1e21, 0.42, color='C2')\n",
    "\n",
    "print('test')\n",
    "plt.tight_layout()\n",
    "plt.savefig(f'{path_results}/poster/std_GMST_OHC', dpi=600)"
   ]
  },
  {
   "cell_type": "markdown",
   "metadata": {},
   "source": [
    "### modes"
   ]
  },
  {
   "cell_type": "code",
   "execution_count": null,
   "metadata": {},
   "outputs": [],
   "source": [
    "AMO_ctrl1 = xr.open_dataarray(f'{path_samoc}/SST/AMO_GMST_dt_raw_151_299_ctrl.nc')\n",
    "AMO_ctrl2 = xr.open_dataarray(f'{path_samoc}/SST/AMO_GMST_dt_raw_100_248_ctrl.nc')\n",
    "AMO_lpd1  = xr.open_dataarray(f'{path_samoc}/SST/AMO_GMST_dt_raw_268_416_lpd.nc' )\n",
    "AMO_lpd2  = xr.open_dataarray(f'{path_samoc}/SST/AMO_GMST_dt_raw_417_565_lpd.nc' )\n",
    "AMO_had   = xr.open_dataarray(f'{path_samoc}/SST/AMO_GMST_dt_raw_had.nc' )\n",
    "\n",
    "SOM_ctrl1 = xr.open_dataarray(f'{path_samoc}/SST/SOM_GMST_dt_raw_151_299_ctrl.nc')\n",
    "SOM_ctrl2 = xr.open_dataarray(f'{path_samoc}/SST/SOM_GMST_dt_raw_100_248_ctrl.nc')\n",
    "SOM_lpd1  = xr.open_dataarray(f'{path_samoc}/SST/SOM_GMST_dt_raw_268_416_lpd.nc' )\n",
    "SOM_lpd2  = xr.open_dataarray(f'{path_samoc}/SST/SOM_GMST_dt_raw_417_565_lpd.nc' )\n",
    "SOM_had   = xr.open_dataarray(f'{path_samoc}/SST/SOM_GMST_dt_raw_had.nc' )\n",
    "\n",
    "TPI_ctrl1 = xr.open_dataarray(f'{path_samoc}/SST/TPI_151_299_ctrl.nc')\n",
    "TPI_ctrl2 = xr.open_dataarray(f'{path_samoc}/SST/TPI_100_248_ctrl.nc')\n",
    "TPI_lpd1  = xr.open_dataarray(f'{path_samoc}/SST/TPI_268_416_lpd.nc' )\n",
    "TPI_lpd2  = xr.open_dataarray(f'{path_samoc}/SST/TPI_417_565_lpd.nc' )\n",
    "TPI_had   = xr.open_dataarray(f'{path_samoc}/SST/TPI_had.nc' )"
   ]
  },
  {
   "cell_type": "code",
   "execution_count": null,
   "metadata": {},
   "outputs": [],
   "source": [
    "plt.figure(figsize=(7,7))\n",
    "\n",
    "plt.bar(.7  , AMO_had  .std(), 0.12, color='C1')\n",
    "plt.bar(.85 , AMO_ctrl1.std(), 0.12, color='C0')\n",
    "plt.bar(1   , AMO_ctrl2.std(), 0.12, color='C0')\n",
    "plt.bar(1.15, AMO_lpd1 .std(), 0.12, color='C2')\n",
    "plt.bar(1.3 , AMO_lpd2 .std(), 0.12, color='C2')\n",
    "\n",
    "plt.bar(1.7 , SOM_had  .std(), 0.12, color='C1')\n",
    "plt.bar(1.85, SOM_ctrl1.std(), 0.12, color='C0')\n",
    "plt.bar(2   , SOM_ctrl2.std(), 0.12, color='C0')\n",
    "plt.bar(2.15, SOM_lpd1 .std(), 0.12, color='C2')\n",
    "plt.bar(2.3 , SOM_lpd2 .std(), 0.12, color='C2')\n",
    "\n",
    "plt.bar(2.7 , TPI_had  .std(), 0.12, color='C1')\n",
    "plt.bar(2.85, TPI_ctrl1.std(), 0.12, color='C0')\n",
    "plt.bar(3   , TPI_ctrl2.std(), 0.12, color='C0')\n",
    "plt.bar(3.15, TPI_lpd1 .std(), 0.12, color='C2')\n",
    "plt.bar(3.3 , TPI_lpd2 .std(), 0.12, color='C2')\n",
    "\n",
    "plt.tight_layout()"
   ]
  },
  {
   "cell_type": "code",
   "execution_count": null,
   "metadata": {},
   "outputs": [],
   "source": [
    "AMO_had.plot()\n",
    "bandpass(AMO_had  , np.array([70,20])).plot()\n",
    "AMO_ctrl1.plot()\n",
    "bandpass(AMO_ctrl1, np.array([70,20])).plot()\n",
    "AMO_lpd1.plot()\n",
    "bandpass(AMO_lpd1, np.array([70,20])).plot()"
   ]
  },
  {
   "cell_type": "code",
   "execution_count": null,
   "metadata": {},
   "outputs": [],
   "source": [
    "plt.figure(figsize=(7,7))\n",
    "\n",
    "plt.bar(.7  , bandpass(AMO_had  , np.array([70,20])).std(), 0.12, color='C1')\n",
    "plt.bar(.85 , bandpass(AMO_ctrl1, np.array([70,20])).std(), 0.12, color='C0')\n",
    "plt.bar(1   , bandpass(AMO_ctrl2, np.array([70,20])).std(), 0.12, color='C0')\n",
    "plt.bar(1.15, bandpass(AMO_lpd1 , np.array([70,20])).std(), 0.12, color='C2')\n",
    "plt.bar(1.3 , bandpass(AMO_lpd2 , np.array([70,20])).std(), 0.12, color='C2')\n",
    "plt.bar(1.7 , bandpass(SOM_had  , np.array([70,20])).std(), 0.12, color='C1')\n",
    "plt.bar(1.85, bandpass(SOM_ctrl1, np.array([70,20])).std(), 0.12, color='C0')\n",
    "plt.bar(2   , bandpass(SOM_ctrl2, np.array([70,20])).std(), 0.12, color='C0')\n",
    "plt.bar(2.15, bandpass(SOM_lpd1 , np.array([70,20])).std(), 0.12, color='C2')\n",
    "plt.bar(2.3 , bandpass(SOM_lpd2 , np.array([70,20])).std(), 0.12, color='C2')\n",
    "plt.bar(2.7 , bandpass(TPI_had  , np.array([70,20])).std(), 0.12, color='C1')\n",
    "plt.bar(2.85, bandpass(TPI_ctrl1, np.array([70,20])).std(), 0.12, color='C0')\n",
    "plt.bar(3   , bandpass(TPI_ctrl2, np.array([70,20])).std(), 0.12, color='C0')\n",
    "plt.bar(3.15, bandpass(TPI_lpd1 , np.array([70,20])).std(), 0.12, color='C2')\n",
    "plt.bar(3.3 , bandpass(TPI_lpd2 , np.array([70,20])).std(), 0.12, color='C2')\n",
    "\n",
    "plt.tight_layout()"
   ]
  },
  {
   "cell_type": "code",
   "execution_count": null,
   "metadata": {},
   "outputs": [],
   "source": []
  },
  {
   "cell_type": "code",
   "execution_count": null,
   "metadata": {},
   "outputs": [],
   "source": []
  },
  {
   "cell_type": "markdown",
   "metadata": {},
   "source": [
    "## Spectra"
   ]
  },
  {
   "cell_type": "code",
   "execution_count": null,
   "metadata": {},
   "outputs": [],
   "source": [
    "AMO_ctrl = xr.open_dataarray(f'{path_samoc}/SST/AMO_raw_ctrl.nc')\n",
    "\n",
    "TPI1_ctrl = xr.open_dataarray(f'{path_samoc}/SST/TPI1_GMST_dt_raw_ctrl.nc')\n",
    "TPI1_lpd  = xr.open_dataarray(f'{path_samoc}/SST/TPI1_dt_raw_lpd.nc' )\n",
    "TPI1_had  = xr.open_dataarray(f'{path_samoc}/SST/TPI1_dt_raw_had.nc' )\n",
    "\n",
    "TPI2_ctrl = xr.open_dataarray(f'{path_samoc}/SST/TPI2_GMST_dt_raw_ctrl.nc')\n",
    "TPI2_lpd  = xr.open_dataarray(f'{path_samoc}/SST/TPI2_dt_raw_lpd.nc' )\n",
    "TPI2_had  = xr.open_dataarray(f'{path_samoc}/SST/TPI2_dt_raw_had.nc' )\n",
    "\n",
    "TPI3_ctrl = xr.open_dataarray(f'{path_samoc}/SST/TPI3_GMST_dt_raw_ctrl.nc')\n",
    "TPI3_lpd  = xr.open_dataarray(f'{path_samoc}/SST/TPI3_dt_raw_lpd.nc' )\n",
    "TPI3_had  = xr.open_dataarray(f'{path_samoc}/SST/TPI3_dt_raw_had.nc' )"
   ]
  },
  {
   "cell_type": "code",
   "execution_count": null,
   "metadata": {},
   "outputs": [],
   "source": [
    "AMO_ctrl.plot()\n",
    "# AMO_lpd .plot()\n",
    "# AMO_had .plot()"
   ]
  },
  {
   "cell_type": "code",
   "execution_count": null,
   "metadata": {},
   "outputs": [],
   "source": [
    "ds = xr.open_dataarray(f'{path_samoc}/SST/TPI3_GMST_dt_raw_ctrl.nc')"
   ]
  },
  {
   "cell_type": "code",
   "execution_count": null,
   "metadata": {},
   "outputs": [],
   "source": [
    "ds.plot()"
   ]
  },
  {
   "cell_type": "code",
   "execution_count": null,
   "metadata": {},
   "outputs": [],
   "source": [
    "TPI_ctrl.plot()"
   ]
  },
  {
   "cell_type": "code",
   "execution_count": null,
   "metadata": {},
   "outputs": [],
   "source": [
    "TPI3_ctrl[:149].plot()"
   ]
  },
  {
   "cell_type": "code",
   "execution_count": null,
   "metadata": {},
   "outputs": [],
   "source": [
    "(TPI2_ctrl-(TPI1_ctrl+TPI3_ctrl)/2).plot()\n",
    "TPI_ctrl.plot()"
   ]
  },
  {
   "cell_type": "code",
   "execution_count": null,
   "metadata": {},
   "outputs": [],
   "source": [
    "SOM_ctrl.plot()\n",
    "xr_lintrend(SOM_ctrl).plot()\n",
    "(SOM_ctrl-xr_lintrend(SOM_ctrl)).plot()\n",
    "# SOM_lpd .plot()\n",
    "# SOM_had .plot()"
   ]
  },
  {
   "cell_type": "code",
   "execution_count": null,
   "metadata": {},
   "outputs": [],
   "source": [
    "def autocorrelation(ts, n=1):\n",
    "    \"\"\" calculates the first n lag autocorrelation coefficient \"\"\"\n",
    "    n += 1  # zeroth element is lag-0 autocorrelation = 1\n",
    "    acs = np.ones((n))\n",
    "    for i in np.arange(1,n):\n",
    "        acs[i] = np.corrcoef(ts[:-i]-ts[:-i].mean(), ts[i:]-ts[i:].mean())[0,1]\n",
    "    return acs"
   ]
  },
  {
   "cell_type": "code",
   "execution_count": null,
   "metadata": {},
   "outputs": [],
   "source": [
    "def spectrum(data, filter_type=None, filter_cutoff=None):\n",
    "    \"\"\" multitaper spectrum \"\"\"\n",
    "#     assert type(data)==np.ndarray\n",
    "    if filter_type is not None:\n",
    "        assert filter_type in ['lowpass', 'chebychev']\n",
    "        assert type(filter_cutoff)==int\n",
    "        assert filter_cutoff>1\n",
    "        if filter_type=='lowpass':\n",
    "            data = lowpass(data, filter_cutoff)\n",
    "        elif filter_type=='chebychev':\n",
    "            data = chebychev(data, filter_cutoff)\n",
    "\n",
    "#     fit = np.polyfit(np.arange(len(data)), data, 1)\n",
    "#     for t in range(149):\n",
    "#         data[t] -= fit[0]*t + fit[1]\n",
    "            \n",
    "    spec, freq, jackknife, _, _ = mtspec.mtspec(\n",
    "            data=data, delta=1., time_bandwidth=4,\n",
    "            number_of_tapers=5, statistics=True)\n",
    "    return (spec, freq, jackknife)"
   ]
  },
  {
   "cell_type": "code",
   "execution_count": null,
   "metadata": {},
   "outputs": [],
   "source": [
    "def mc_ar1(ts, n=1000):\n",
    "    \"\"\" Monte-Carlo AR(1) processes \"\"\"\n",
    "    phi = autocorrelation(ts)[1]\n",
    "    AR_object = ArmaProcess(np.array([1, -phi]), np.array([1]))\n",
    "    mc = np.zeros((n, len(ts)))\n",
    "    for i in range(n):\n",
    "        mc[i,:] = AR_object.generate_sample(nsample=len(ts))\n",
    "        mc[i,:] *= np.std(ts)/np.std(mc[i,:])\n",
    "    return mc"
   ]
  },
  {
   "cell_type": "code",
   "execution_count": null,
   "metadata": {},
   "outputs": [],
   "source": [
    "def mc_ar1_spectrum(ts, n=1000, filter_type=None, filter_cutoff=None):\n",
    "    \"\"\" calculates the MC avg spectrum and the 95% confidence interval \"\"\"\n",
    "    mc = mc_ar1(ts)\n",
    "    if filter_type is not None:\n",
    "        assert filter_type in ['lowpass', 'chebychev']\n",
    "        assert type(filter_cutoff)==int\n",
    "        assert filter_cutoff>1\n",
    "        if filter_type=='lowpass':\n",
    "            mc = lowpass(mc.T, filter_cutoff).T\n",
    "        elif filter_type=='chebychev':\n",
    "            mc = chebychev(mc.T, filter_cutoff).T\n",
    "\n",
    "    mc_spectra = np.zeros((n, int(len(ts)/2)+1))\n",
    "    for i in range(n):\n",
    "        (mc_spectra[i,:], freq, jk) = spectrum(data=mc[i,:])\n",
    "    mc_spectrum = np.zeros((4, int(len(ts)/2)+1))\n",
    "    mc_spectrum[0,:] = np.median(mc_spectra, axis=0)\n",
    "    mc_spectrum[1,:] = freq\n",
    "    mc_spectrum[2,:] = np.percentile(mc_spectra,  5, axis=0)\n",
    "    mc_spectrum[3,:] = np.percentile(mc_spectra, 95, axis=0)\n",
    "    return mc_spectrum"
   ]
  },
  {
   "cell_type": "code",
   "execution_count": null,
   "metadata": {},
   "outputs": [],
   "source": [
    "from xr_regression import xr_lintrend"
   ]
  },
  {
   "cell_type": "code",
   "execution_count": null,
   "metadata": {},
   "outputs": [],
   "source": [
    "def plot_spectrum_ar1(ts, index, text, text2, obs=False):\n",
    "    \"\"\" plots spectrum of single time series + AR(1) spectrum\n",
    "    AR(1) spectrum includes uncertainties from MC simulation\n",
    "    for the filtered SST indices, the AR(1) process is first fitted to the annual data\n",
    "    \"\"\"\n",
    "    ts = ts[-149:]\n",
    "    ts -= xr_lintrend(ts)\n",
    "    ts = ts.values\n",
    " \n",
    "    ft, fc = 'lowpass', 13\n",
    "    ts_spectrum = spectrum(ts, filter_type=ft, filter_cutoff=fc)\n",
    "    mc_spectrum = mc_ar1_spectrum(ts, filter_type=ft, filter_cutoff=fc)\n",
    "\n",
    "    if obs==True:    fig, ax = plt.subplots(1, 1, figsize=(8,4))\n",
    "    if obs==False:   fig, ax = plt.subplots(1, 1, figsize=(6.5,4))\n",
    "    ax.spines['right'].set_visible(False)\n",
    "    ax.spines['top'].set_visible(False)\n",
    "#     ax.get_xaxis().get_major_formatter().labelOnlyBase = False\n",
    "    ax.tick_params(labelsize=20)\n",
    "    ax.set_yscale('log')     \n",
    "    ax.set_xscale('log')     \n",
    "    L2 = ax.fill_between(1/mc_spectrum[1,:], mc_spectrum[2,:],  mc_spectrum[3,:],\n",
    "                    color='C1', alpha=.3, label='5-95% C.I.')\n",
    "    L1, = ax.plot(1/mc_spectrum[1,:], mc_spectrum[0,:], c='C1', label=f'red noise')     \n",
    "    L4 = ax.fill_between(1/ts_spectrum[1], ts_spectrum[2][:, 0], ts_spectrum[2][:, 1],\n",
    "                   color='C0', alpha=0.3, label=f'jackknife estimator')\n",
    "    L3, = ax.plot(1/ts_spectrum[1], ts_spectrum[0], c='C0', label=f'{index} spectrum')\n",
    "    ax.legend(handles=[L3, L4, L1, L2], fontsize=20, frameon=False, loc=4)\n",
    "    ymax = 2\n",
    "    ax.set_ylim((1E-6, ymax))\n",
    "    ax.set_xlim((6, 150))\n",
    "    ax.set_xticks([6, 8,10, 20, 40, 60, 80, 100, 150])\n",
    "    ax.get_xaxis().set_major_formatter(mpl.ticker.ScalarFormatter())\n",
    "    ax.text(7, .2, f'{index}: {text}', fontsize=30)\n",
    "    ax.set_xlabel(r'Period [years]', fontsize=20)\n",
    "    if obs==True: ax.set_ylabel(f'Spectral Power', fontsize=30)\n",
    "    if obs==False: ax.set_yticks([])\n",
    "    plt.tight_layout()\n",
    "    plt.savefig(f'{path_results}/poster/{index}_spectrum_{text2}', dpi=800)"
   ]
  },
  {
   "cell_type": "code",
   "execution_count": null,
   "metadata": {},
   "outputs": [],
   "source": [
    "texts = ['obs.', 'high res.', 'high res.', 'low res.', 'low res.']\n",
    "texts2 = ['had', '151_299_ctrl', '100_248_ctrl', '268_416_lpd', '417_565_lpd']\n",
    "obs = [True, False, False, False, False]"
   ]
  },
  {
   "cell_type": "code",
   "execution_count": null,
   "metadata": {},
   "outputs": [],
   "source": [
    "for i, ts in enumerate([AMO_had, AMO_ctrl1, AMO_ctrl2, AMO_lpd1, AMO_lpd2]):\n",
    "    plot_spectrum_ar1(ts, 'AMO', texts[i], texts2[i], obs[i])"
   ]
  },
  {
   "cell_type": "code",
   "execution_count": null,
   "metadata": {},
   "outputs": [],
   "source": [
    "for i, ts in enumerate([SOM_had, SOM_ctrl1, SOM_ctrl2, SOM_lpd1, SOM_lpd2]):\n",
    "    plot_spectrum_ar1(ts, 'SOM', texts[i], texts2[i], obs[i])"
   ]
  },
  {
   "cell_type": "code",
   "execution_count": null,
   "metadata": {},
   "outputs": [],
   "source": [
    "for i, ts in enumerate([TPI_had, TPI_ctrl1, TPI_ctrl2, TPI_lpd1, TPI_lpd2]):\n",
    "    plot_spectrum_ar1(ts, 'TPI', texts[i], texts2[i], obs[i])"
   ]
  },
  {
   "cell_type": "code",
   "execution_count": null,
   "metadata": {},
   "outputs": [],
   "source": [
    "def plot_spectrum_ar1_TPI(tpi1, tpi2, tpi3, index):\n",
    "    \"\"\" plots spectrum of single time series + AR(1) spectrum\n",
    "    AR(1) spectrum includes uncertainties from MC simulation\n",
    "    for the filtered SST indices, the AR(1) process is first fitted to the annual data\n",
    "    \"\"\"\n",
    "    n=1000\n",
    "    tpi = tpi2[-149:] - (tpi1[-149:]+tpi3[-149:])/2\n",
    "    tpi -= xr_lintrend(tpi)\n",
    "\n",
    "    mc = np.zeros((3, 1000, 149))\n",
    "    for i, ts in enumerate([tpi1, tpi2, tpi3]):\n",
    "        mc[i,:,:] = mc_ar1(ts.values[-149:])\n",
    "    \n",
    "    mc_tpi = mc[1,:,:] - (mc[0,:,:]+mc[2,:,:])/2\n",
    "    for i in range(n):\n",
    "        fit = np.polyfit(np.arange(149), mc_tpi[i,:], 1)\n",
    "        for t in range(149):\n",
    "            mc_tpi[i,t] -= fit[0]*t + fit[1]\n",
    "        mc_tpi[i,:] *= np.std(tpi.values)/np.std(mc_tpi[i,:])\n",
    "    mc = lowpass(mc_tpi.T, 13).T\n",
    "    mc_spectra = np.zeros((n, int(149/2)+1))\n",
    "    for i in range(n):\n",
    "        (mc_spectra[i,:], freq, jk) = spectrum(data=mc[i,:])\n",
    "    mc_spectrum = np.zeros((4, int(149/2)+1))\n",
    "    mc_spectrum[0,:] = np.median(mc_spectra, axis=0)\n",
    "    mc_spectrum[1,:] = freq\n",
    "    mc_spectrum[2,:] = np.percentile(mc_spectra,  5, axis=0)\n",
    "    mc_spectrum[3,:] = np.percentile(mc_spectra, 95, axis=0)\n",
    "    \n",
    "    ts_spectrum = spectrum(tpi.values, filter_type='lowpass', filter_cutoff=13)\n",
    "\n",
    "    fig, ax = plt.subplots(1, 1, figsize=(8,5))\n",
    "    ax.tick_params(labelsize=14)\n",
    "    ax.set_yscale('log')     \n",
    "    ax.set_xscale('log')     \n",
    "    L2 = ax.fill_between(1/mc_spectrum[1,:], mc_spectrum[2,:],  mc_spectrum[3,:],\n",
    "                    color='C1', alpha=.3, label='5-95% C.I.')\n",
    "    L1, = ax.plot(1/mc_spectrum[1,:], mc_spectrum[0,:], c='C1', label=f'MC AR(1)')     \n",
    "    L4 = ax.fill_between(1/ts_spectrum[1], ts_spectrum[2][:, 0], ts_spectrum[2][:, 1],\n",
    "                   color='C0', alpha=0.3, label=f'jackknife estimator')\n",
    "    L3, = ax.plot(1/ts_spectrum[1], ts_spectrum[0], c='C0', label=f'{index} spectrum')\n",
    "    leg1 = plt.legend(handles=[L1, L2], fontsize=14, frameon=False, loc=3)\n",
    "    ax.legend(handles=[L3,L4], fontsize=14, frameon=False, loc=1)\n",
    "    ax.add_artist(leg1)\n",
    "    ymax = 1e1\n",
    "    if any([mc_spectrum[3,:].max()>ymax, ts_spectrum[2][:, 1].max()>ymax]):\n",
    "        ymax = max([mc_spectrum[3,:].max(), ts_spectrum[2][:, 1].max()])\n",
    "    ax.set_ylim((1E-6, ymax))\n",
    "#     ax.set_xlim((0, 0.1))\n",
    "    ax.set_xlim((6, 200))\n",
    "#     ax.set_xticks([8,10, 20, 40, 60, 80, 100, 200], labels=[8,10, 20, 40, 60, 80, 100, 200])\n",
    "#     ax.set_xlabel(r'Frequency [yr$^{-1}$]', fontsize=14)\n",
    "    ax.set_xlabel(r'Period [yr]', fontsize=14)\n",
    "    ax.set_ylabel(f'{index} Power Spectral Density', fontsize=14)\n",
    "    plt.tight_layout()\n",
    "#     plt.savefig(f'{path_results}/SST/{self.index}_AR1_spectrum_{run}')"
   ]
  },
  {
   "cell_type": "code",
   "execution_count": null,
   "metadata": {},
   "outputs": [],
   "source": [
    "plot_spectrum_ar1_TPI(TPI1_had , TPI2_had , TPI3_had , 'TPI')\n",
    "plot_spectrum_ar1_TPI(TPI1_ctrl, TPI2_ctrl, TPI3_ctrl, 'TPI')\n",
    "plot_spectrum_ar1_TPI(TPI1_lpd , TPI2_lpd , TPI3_lpd , 'TPI')"
   ]
  },
  {
   "cell_type": "markdown",
   "metadata": {},
   "source": [
    "## Maps"
   ]
  },
  {
   "cell_type": "code",
   "execution_count": null,
   "metadata": {},
   "outputs": [],
   "source": [
    "from maps import rect_polygon"
   ]
  },
  {
   "cell_type": "code",
   "execution_count": null,
   "metadata": {},
   "outputs": [],
   "source": [
    "def make_map(xa, domain, proj, cmap, minv, maxv, label, filename=None, text1=None, text2=None, rects=None, sig=None, clon=0):\n",
    "    \"\"\" global map (Robinson or Equal Earth projection) of xa \n",
    "    optional: significance shading, polygons, text, central longitude, file output \n",
    "    \"\"\"\n",
    "    assert type(xa)==xr.core.dataarray.DataArray\n",
    "    assert domain in ['atm', 'ocn_T', 'ocn_U', 'ocn_rect', 'ocn_low', 'ocn_had']\n",
    "    assert proj in ['ee', 'rob']\n",
    "    \n",
    "    fig = plt.figure(figsize=(8,5))\n",
    "    if proj=='ee':\n",
    "        ax  = fig.add_subplot(1, 1, 1, projection=ccrs.EqualEarth(central_longitude=clon))\n",
    "    elif proj=='rob':\n",
    "        ax  = fig.add_subplot(1, 1, 1, projection=ccrs.Robinson(central_longitude=clon))\n",
    "    ax.set_position([.02,.05,.96,.93])\n",
    "    cax, kw = mpl.colorbar.make_axes(ax,location='bottom',pad=0.03,shrink=0.8)\n",
    "    \n",
    "    print(domain)\n",
    "    if domain in ['atm']:#, 'ocn_low']:\n",
    "        lats = xa.lat\n",
    "        lons = xa.lon\n",
    "    elif domain in ['ocn_T', 'ocn_low']:\n",
    "        lats = xa.TLAT\n",
    "        lons = xa.TLONG\n",
    "    elif domain=='ocn_U':\n",
    "        lats = xa.ULAT\n",
    "        lons = xa.ULONG\n",
    "    elif domain=='ocn_rect':\n",
    "        lats = xa.t_lat\n",
    "        lons = xa.t_lon\n",
    "    elif domain=='ocn_had':\n",
    "        lats = xa.latitude\n",
    "        lons = xa.longitude\n",
    "        lons, lats = np.meshgrid(lons, lats)\n",
    "    \n",
    "    im = ax.pcolormesh(lons, lats, xa.values,\n",
    "                       cmap=cmap, vmin=minv, vmax=maxv,\n",
    "                       transform=ccrs.PlateCarree(),\n",
    "                      )\n",
    "\n",
    "    # significance outline\n",
    "    if type(sig)==xr.core.dataarray.DataArray:\n",
    "        if domain=='ocn_had':  flons, flats = lons.flatten(), lats.flatten()\n",
    "        else:  flons, flats = lons.values.flatten(), lats.values.flatten()\n",
    "#         flons, flats = lons.values.flatten(), lats.values.flatten()\n",
    "        ax.tricontour(flons, flats, sig.values.flatten(), levels=[.5],\n",
    "                      linestyles='dashed', linewidths=1.5, #cmap='gray',\n",
    "                      transform=ccrs.PlateCarree(),\n",
    "                     )\n",
    "    \n",
    "    # coastlines/land\n",
    "    if domain=='atm':\n",
    "        ax.coastlines()\n",
    "    elif domain in ['ocn_T', 'ocn_U', 'ocn_had', 'ocn_low']:\n",
    "        ax.add_feature(cartopy.feature.LAND,\n",
    "                       zorder=2, edgecolor='black', facecolor='w')\n",
    "        \n",
    "    # text\n",
    "    if text1!=None:\n",
    "        ax.text(0, 1, text1, ha='left' , va='top', transform=ax.transAxes, fontsize=16, color='k')\n",
    "    if text2!=None:\n",
    "        ax.text(1, 1, text2, ha='right', va='top', transform=ax.transAxes, fontsize=16, color='k')\n",
    "    \n",
    "    # SST index polygons\n",
    "    if type(rects)==np.ndarray:\n",
    "        rects = [rects]\n",
    "    elif type(rects)==list:\n",
    "        for rect in rects:\n",
    "            assert type(rect)==np.ndarray\n",
    "            ax.add_patch(mpatches.Polygon(xy=rect,\n",
    "                                          facecolor='none', edgecolor='k',\n",
    "                                          linewidth=2, zorder=2,\n",
    "                                          transform=ccrs.PlateCarree(),\n",
    "                                         ),\n",
    "                        )\n",
    "            \n",
    "    # grid\n",
    "    gl = ax.gridlines(crs=ccrs.PlateCarree(), draw_labels=False)\n",
    "    gl.ylocator = mticker.FixedLocator([-90, -60, -30, 0, 30, 60, 90])\n",
    "    gl.xlocator = mticker.FixedLocator([-180, -120, -60, 0, 60, 120, 180])\n",
    "    \n",
    "    # colorbar\n",
    "    cbar = fig.colorbar(im, cax=cax, extend='both', **kw)\n",
    "    cbar.ax.tick_params(labelsize=14, color='k')\n",
    "    label = cbar.set_label(label, size=16, color='k')\n",
    "    \n",
    "    # output\n",
    "    if filename!=None: plt.savefig(filename, dpi=800, transparent=True)\n",
    "    return fig, ax\n"
   ]
  },
  {
   "cell_type": "code",
   "execution_count": null,
   "metadata": {},
   "outputs": [],
   "source": [
    "from regions import boolean_mask, SST_index_bounds\n",
    "import cmocean"
   ]
  },
  {
   "cell_type": "code",
   "execution_count": null,
   "metadata": {},
   "outputs": [],
   "source": [
    "def regr_map(ds, index, run, fn=None):\n",
    "    \"\"\" map of regression slope with 95% significance countours and SST index polygons \"\"\"\n",
    "    if run in ['ctrl', 'rcp']:   domain = 'ocn'\n",
    "    elif run in ['lpd', 'lpi']:  domain = 'ocn_low'\n",
    "    elif run=='had':             domain = 'ocn_had'\n",
    "    MASK = boolean_mask(domain=domain, mask_nr=0)\n",
    "    \n",
    "    xa = ds.slope.where(MASK)\n",
    "    if domain in ['ocn', 'ocn_low']:\n",
    "        xa = xa.assign_coords(TLONG=ds.TLONG)\n",
    "    \n",
    "    if index in ['AMO', 'SOM']:\n",
    "        rects = [rect_polygon(SST_index_bounds(index))]\n",
    "        clon = 300\n",
    "        nv = .4\n",
    "        print(rects)\n",
    "    elif index in ['PDO', 'IPO']:\n",
    "        rects = [rect_polygon(SST_index_bounds(index))]\n",
    "        clon = 200\n",
    "        print(rects)\n",
    "        nv = .4\n",
    "    elif index=='TPI':\n",
    "        rects = [rect_polygon(SST_index_bounds('TPI1')),\n",
    "                 rect_polygon(SST_index_bounds('TPI2')),\n",
    "                 rect_polygon(SST_index_bounds('TPI3')),\n",
    "                ]\n",
    "        clon = 200\n",
    "        nv = .4\n",
    "    \n",
    "    print(run, np.max(ds.slope.values))\n",
    "    \n",
    "    # choose two-tailed 95% significance level\n",
    "    # as boolean map\n",
    "    sig = ds.pval#.where(MASK)\n",
    "#     tail1 = np.where(sig<0.025, 1, 0)\n",
    "    tail1 = np.where(sig<0.005, 1, 0)\n",
    "#     tail2 = np.where(sig>0.975, 1, 0)\n",
    "    tail2 = np.where(sig>99.5, 1, 0)\n",
    "    sig.values = tail1 + tail2\n",
    "#     if run in ['ctrl', 'rcp', 'had']:   sig = sig.where(MASK)\n",
    "    \n",
    "    proj = 'rob'\n",
    "    cm = discrete_cmap(16, cmocean.cm.balance)    \n",
    "    label ='regression slope [K/std]'\n",
    "    text2 = f'SST({index})\\nregr.'\n",
    "    if run=='had':  text1 = f'obs.'\n",
    "    if run=='ctrl': text1 = f'high res.'\n",
    "    if run=='lpd':  text1 = f'low res.'\n",
    "    if fn==None:  filename = f'{path_results}/poster/{index}_regr_map_{run}.png'\n",
    "    else:         filename = f'{path_results}/poster/{index}_regr_map_{run}_{fn}.png'\n",
    "    if run in ['ctrl', 'rcp']:   domain = 'ocn_T'\n",
    "        \n",
    "    f, ax = make_map(xa=xa, domain=domain, proj=proj, cmap=cm, minv=-nv, maxv=nv,\n",
    "                     label=label, filename=filename, text1=text1, text2=text2,\n",
    "                     rects=rects, sig=sig, clon=clon)"
   ]
  },
  {
   "cell_type": "code",
   "execution_count": null,
   "metadata": {},
   "outputs": [],
   "source": [
    "SST_index_bounds('AMO')"
   ]
  },
  {
   "cell_type": "code",
   "execution_count": null,
   "metadata": {},
   "outputs": [],
   "source": [
    "SST_index_bounds('SOM')"
   ]
  },
  {
   "cell_type": "code",
   "execution_count": null,
   "metadata": {},
   "outputs": [],
   "source": [
    "SST_index_bounds('TPI3')"
   ]
  },
  {
   "cell_type": "code",
   "execution_count": null,
   "metadata": {},
   "outputs": [],
   "source": [
    "tslices = ['', '_151_299', '_268_416']\n",
    "for i, run in enumerate(['had', 'ctrl', 'lpd']):\n",
    "    for index in ['AMO', 'SOM', 'TPI']:\n",
    "        fn = f'{path_samoc}/SST/{index}_regr{tslices[i]}_{run}.nc'\n",
    "        ds = xr.open_dataset(fn)\n",
    "        regr_map(ds=ds, index=index, run=run, fn=tslices[i])"
   ]
  },
  {
   "cell_type": "code",
   "execution_count": null,
   "metadata": {},
   "outputs": [],
   "source": []
  },
  {
   "cell_type": "code",
   "execution_count": null,
   "metadata": {},
   "outputs": [],
   "source": []
  },
  {
   "cell_type": "code",
   "execution_count": null,
   "metadata": {},
   "outputs": [],
   "source": []
  },
  {
   "cell_type": "markdown",
   "metadata": {},
   "source": [
    "### variability map"
   ]
  },
  {
   "cell_type": "code",
   "execution_count": null,
   "metadata": {},
   "outputs": [],
   "source": [
    "rects = [rect_polygon(SST_index_bounds('SOM')), rect_polygon(SST_index_bounds('AMO'))]"
   ]
  },
  {
   "cell_type": "code",
   "execution_count": null,
   "metadata": {},
   "outputs": [],
   "source": [
    "fn = f'{path_samoc}/SST/SST_std_had.nc'\n",
    "# fa = FieldAnalysis(SST_GMST_dt_yrly_had[-100:])\n",
    "#     xa = fa.make_standard_deviation_map(fn=fn)\n",
    "xa = xr.open_dataarray(fn)\n",
    "\n",
    "fn = f'{path_results}/NAC_Poster/SST_std_map_obs'\n",
    "label = 'standard deviation of detrended SST [K]'\n",
    "cmap = 'viridis'\n",
    "txt1 = f'HadISST'\n",
    "txt2 = '1919-2018'\n",
    "make_map(xa=xa, domain='ocn_had', proj='rob', cmap=cmap, minv=0, maxv=.7, rects=rects,\n",
    "         clon=300, label=label, filename=fn, text1=txt1, text2=txt2)"
   ]
  },
  {
   "cell_type": "code",
   "execution_count": null,
   "metadata": {},
   "outputs": [],
   "source": [
    "def std_bandpass(tseries):\n",
    "    if type(tseries)==xr.core.dataarray.DataArray:\n",
    "        tseries = tseries-xr_quadtrend(tseries)\n",
    "        tseries = tseries.values\n",
    "    a = np.std(bandpass(tseries, np.array([20,5])))\n",
    "    b = np.std(bandpass(tseries, np.array([100,20])))\n",
    "    return a, b\n",
    "\n",
    "\n",
    "\n",
    "f, ax = plt.subplots(2,2,figsize=(14,7),sharex='col', sharey=True)\n",
    "for i in range(2):\n",
    "    for j in range(2):\n",
    "        ax[i,j].tick_params(labelsize=20)\n",
    "\n",
    "        ax[i,j].spines['right'].set_visible(False)\n",
    "        ax[i,j].spines['top'].set_visible(False)\n",
    "    \n",
    "    ax[i,0].set_yticks([2.75, 2, 1])\n",
    "    ax[i,0].set_yticklabels(['obs', 'high\\nres.', 'low\\nres.'], fontsize=20)\n",
    "\n",
    "ax[1,0].set_xlabel('GMST variance [K]', fontsize=30)\n",
    "\n",
    "had1, had2 = std_bandpass(had_cmip5)\n",
    "ctrl1, ctrl2 = std_bandpass(gmst_ctrl[-149:])\n",
    "ctrl3, ctrl4 = std_bandpass(gmst_ctrl[:149])\n",
    "lpd1, lpd2 = std_bandpass(gmst_lpd[-149:])\n",
    "lpd3, lpd4 = std_bandpass(gmst_lpd[-2*149:-149])\n",
    "\n",
    "ax[0,0].set_ylabel('decadal', fontsize=30)\n",
    "ax[0,0].barh(2.75, had1 , 0.42, color='C1')\n",
    "ax[0,0].barh(2.25, ctrl1, 0.42, color='C0')\n",
    "ax[0,0].barh(1.75, ctrl3, 0.42, color='C0')\n",
    "ax[0,0].barh(1.25, lpd1 , 0.42, color='C2')\n",
    "ax[0,0].barh(0.75, lpd3 , 0.42, color='C2')\n",
    "\n",
    "\n",
    "ax[1,0].barh(2.75, had2 , 0.42, color='C1')\n",
    "ax[1,0].barh(2.25, ctrl2, 0.42, color='C0')\n",
    "ax[1,0].barh(1.75, ctrl4, 0.42, color='C0')\n",
    "ax[1,0].barh(1.25, lpd2,  0.42, color='C2')\n",
    "ax[1,0].barh(0.75, lpd4,  0.42, color='C2')\n",
    "ax[1,0].set_ylabel('multidecadal', fontsize=30)\n",
    "\n",
    "ax[1,1].set_xlabel('global OHC variance [ZJ]', fontsize=30)\n",
    "\n",
    "ctrl1, ctrl2 = std_bandpass(ctrl.OHC_global[-149:])\n",
    "ctrl3, ctrl4 = std_bandpass(ctrl.OHC_global[:149])\n",
    "lpd1, lpd2 = std_bandpass(lpd.OHC_global[-149:])\n",
    "lpd3, lpd4 = std_bandpass(lpd.OHC_global[-2*149:-149])\n",
    "\n",
    "ax[0,1].barh(2.25, ctrl1/1e21, 0.42, color='C0')\n",
    "ax[0,1].barh(1.75, ctrl3/1e21, 0.42, color='C0')\n",
    "ax[0,1].barh(1.25, lpd1 /1e21, 0.42, color='C2')\n",
    "ax[0,1].barh(0.75, lpd3 /1e21, 0.42, color='C2')\n",
    "\n",
    "ax[1,1].barh(2.25, ctrl2/1e21, 0.42, color='C0')\n",
    "ax[1,1].barh(1.75, ctrl4/1e21, 0.42, color='C0')\n",
    "ax[1,1].barh(1.25, lpd2 /1e21, 0.42, color='C2')\n",
    "ax[1,1].barh(0.75, lpd4 /1e21, 0.42, color='C2')\n",
    "\n",
    "print('test')\n",
    "plt.tight_layout()\n",
    "plt.savefig(f'{path_results}/poster/std_GMST_OHC', dpi=600)"
   ]
  },
  {
   "cell_type": "code",
   "execution_count": null,
   "metadata": {},
   "outputs": [],
   "source": [
    "def variances(ts):\n",
    "    for i, band in enumerate([(20,5), (40,10), (80,20)]):\n",
    "        print(band, bandpass(ts-xr_quadtrend(ts), np.array(band)).std().values)\n",
    "    print('')\n",
    "    return\n",
    "variances(ctrl.OHC_global)\n",
    "variances(lpd .OHC_global)\n",
    "\n",
    "variances(gmst_ctrl)\n",
    "variances(gmst_lpd)\n"
   ]
  }
 ],
 "metadata": {
  "kernelspec": {
   "display_name": "Python 3",
   "language": "python",
   "name": "python3"
  },
  "language_info": {
   "codemirror_mode": {
    "name": "ipython",
    "version": 3
   },
   "file_extension": ".py",
   "mimetype": "text/x-python",
   "name": "python",
   "nbconvert_exporter": "python",
   "pygments_lexer": "ipython3",
   "version": "3.6.7"
  }
 },
 "nbformat": 4,
 "nbformat_minor": 4
}
