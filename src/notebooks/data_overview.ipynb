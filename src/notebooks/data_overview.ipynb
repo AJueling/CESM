{
 "cells": [
  {
   "cell_type": "markdown",
   "metadata": {},
   "source": [
    "# 1. high resolution runs\n",
    "- CESM 1.04\n",
    "- grid data is stored, dimensions nlat/nlon are natural numbers, but coords U/T_LONG/LAT are in degrees, depths stored in centimeter\n",
    "- grid data is also stored in binary files\n",
    "\n",
    "### CTRL: control run\n",
    "- there are differently sized files:\n",
    "    - 19GB 024-199 (many files before 100-01 are not available)\n",
    "    - 21GB 200-226\n",
    "    - 30GB 227-268\n",
    "\n",
    "### RCP: rcp CO2 run\n",
    "- all files are 30 GB\n",
    "\n",
    "### POP: ocean only run\n",
    "\n",
    "### interpolated, rect output data\n",
    "- grid: u/t_lon/lat store position in degrees, depth_t/w_dep store deth in meters\n",
    "- no further geometric data (such as TAREA or so)\n",
    "\n",
    "# 2 . low resolution runs\n",
    "- ocn: 60 vertical levels to 5500 m; nlat: 384, nlon: 320\n",
    "- atm: different grids!\n",
    "\n",
    "### LPD: present day control run\n",
    "`/projects/0/acc/cesm/cesm1_1_2/spinup_B_2000_cam5_f09_g16/OUTPUT`\n",
    "- CESM 1.12\n",
    "- 1.02-566.10; several files in the beginning (up to year 153) missing\n",
    "- atm: lat: 192[-90.,-89.057592,-88.115183,...,90.], lon: 288 [0.,1.25,2.5, ...,356.25,357.5,358.75]\n",
    "\n",
    "### LPI: pre industrial run\n",
    "`/projects/0/acc/cesm/cesm1_0_5/b.PI_1pic_f19g16_NESSC_control/OUTPUT`\n",
    "- CESM 1.05\n",
    "- ocn: years 1600-2025; before year 1600 data is saved only one year every 50 years\n",
    "- atm: lat: 96, lev: 26, lon: 144\n",
    "    - monthly files:\n",
    "        - `atm/hist/` 2876.02-3024.12\n",
    "        - `atm/hist/monthly/` 2900-2970.12\n",
    "    - yearly files:\n",
    "        - `atm/hist/yearly/` 1550-1600, 1850-1900, 2900-2950, and their averages"
   ]
  },
  {
   "cell_type": "code",
   "execution_count": null,
   "metadata": {},
   "outputs": [],
   "source": [
    "import os\n",
    "import sys\n",
    "sys.path.append(\"..\")\n",
    "import scipy as sp\n",
    "import numpy as np\n",
    "import xarray as xr\n",
    "import seaborn as sns\n",
    "import cartopy\n",
    "import cartopy.crs as ccrs\n",
    "import matplotlib.pyplot as plt\n",
    "import matplotlib.patches as mpatches"
   ]
  },
  {
   "cell_type": "code",
   "execution_count": null,
   "metadata": {},
   "outputs": [],
   "source": [
    "%matplotlib inline\n",
    "%config InlineBackend.print_figure_kwargs={'bbox_inches':None}\n",
    "%load_ext autoreload\n",
    "%autoreload 2\n",
    "%aimport - numpy - scipy - matplotlib.pyplot"
   ]
  },
  {
   "cell_type": "code",
   "execution_count": null,
   "metadata": {},
   "outputs": [],
   "source": [
    "from grid import generate_lats_lons, shift_field\n",
    "from paths import file_ex_ocn_ctrl, file_ex_atm_ctrl, file_ex_ocn_rect, file_ex_ocn_rcp\n",
    "from paths import file_ex_ocn_lpd, file_ex_ocn_lpi, path_CESM\n",
    "from paths import CESM_filename\n",
    "from timeseries import IterateOutputCESM\n",
    "from read_binary import read_binary_2D"
   ]
  },
  {
   "cell_type": "code",
   "execution_count": null,
   "metadata": {},
   "outputs": [],
   "source": [
    "ds = xr.open_dataset(file_ex_ocn_ctrl, decode_times=False)"
   ]
  },
  {
   "cell_type": "code",
   "execution_count": null,
   "metadata": {},
   "outputs": [],
   "source": [
    "file_ex_ocn_ctrl"
   ]
  },
  {
   "cell_type": "code",
   "execution_count": null,
   "metadata": {},
   "outputs": [],
   "source": [
    "ds"
   ]
  },
  {
   "cell_type": "code",
   "execution_count": null,
   "metadata": {},
   "outputs": [],
   "source": [
    "ds.UVEL[0,0,:,:].mean(dim='nlat').plot()"
   ]
  },
  {
   "cell_type": "code",
   "execution_count": null,
   "metadata": {},
   "outputs": [],
   "source": []
  },
  {
   "cell_type": "code",
   "execution_count": null,
   "metadata": {},
   "outputs": [],
   "source": []
  },
  {
   "cell_type": "code",
   "execution_count": null,
   "metadata": {},
   "outputs": [],
   "source": []
  },
  {
   "cell_type": "code",
   "execution_count": null,
   "metadata": {},
   "outputs": [],
   "source": [
    "for y, m, f in IterateOutputCESM(domain='ocn', run='ctrl', tavg='monthly'):\n",
    "    if os.path.exists(f)==False:\n",
    "        print(y,m)"
   ]
  },
  {
   "cell_type": "code",
   "execution_count": null,
   "metadata": {},
   "outputs": [],
   "source": [
    "# trying out daily data\n",
    "for run in ['ctrl', 'rcp']:\n",
    "    print(f'\\n{run}\\n')\n",
    "    if run=='ctrl':  y = 250\n",
    "    if run=='rcp': y = 2000\n",
    "    for domain in ['ocn']:\n",
    "        if domain=='ocn':\n",
    "            for name in ['SST', 'SSH']:\n",
    "                print(f'{name}')\n",
    "                if name=='SST':  d = 31\n",
    "                if name=='SSH':  d =  1\n",
    "                fn = CESM_filename(domain=domain, run=run, y=y, m=1, d=d, name=name)\n",
    "                print(fn)\n",
    "        else:\n",
    "            d=1\n",
    "            fn = CESM_filename(domain=domain, run=run, y=y, m=1, d=d, name=name)\n",
    "            print(fn)"
   ]
  },
  {
   "cell_type": "code",
   "execution_count": null,
   "metadata": {},
   "outputs": [],
   "source": [
    "for y,m,s in IterateOutputCESM(domain='ocn_rect', run='pop', tavg='monthly'):\n",
    "    print(y,m,s)"
   ]
  },
  {
   "cell_type": "code",
   "execution_count": null,
   "metadata": {},
   "outputs": [],
   "source": [
    "len(IterateOutputCESM(domain='ocn', run='lpd', tavg='monthly'))/12\n"
   ]
  },
  {
   "cell_type": "code",
   "execution_count": null,
   "metadata": {},
   "outputs": [],
   "source": [
    "# missing files in LPD run\n",
    "for y in np.arange(1,567):\n",
    "#     for m in np.arange(1,13):\n",
    "    if os.path.exists(CESM_filename(domain='atm', run='lpd', y=y, m=0))==False:\n",
    "        print(y,m)"
   ]
  },
  {
   "cell_type": "code",
   "execution_count": null,
   "metadata": {},
   "outputs": [],
   "source": [
    "file_ex_ocn_lpd"
   ]
  },
  {
   "cell_type": "code",
   "execution_count": null,
   "metadata": {},
   "outputs": [],
   "source": [
    "ds1 = xr.open_dataset(file_ex_ocn_lpd, decode_times=False)\n",
    "ds2 = xr.open_dataset(file_ex_ocn_lpi, decode_times=False)"
   ]
  },
  {
   "cell_type": "code",
   "execution_count": null,
   "metadata": {},
   "outputs": [],
   "source": [
    "f, ax = plt.subplots(2,2)\n",
    "ds1.TLAT .plot(ax=ax[0,0])\n",
    "ds1.TLONG.plot(ax=ax[1,0])\n",
    "ds2.TLAT .plot(ax=ax[0,1])\n",
    "ds2.TLONG.plot(ax=ax[1,1])\n",
    "plt.tight_layout()"
   ]
  },
  {
   "cell_type": "code",
   "execution_count": null,
   "metadata": {},
   "outputs": [],
   "source": [
    "ds2.dz.plot()"
   ]
  },
  {
   "cell_type": "code",
   "execution_count": null,
   "metadata": {},
   "outputs": [],
   "source": []
  },
  {
   "cell_type": "code",
   "execution_count": null,
   "metadata": {},
   "outputs": [],
   "source": []
  },
  {
   "cell_type": "code",
   "execution_count": null,
   "metadata": {},
   "outputs": [],
   "source": []
  },
  {
   "cell_type": "code",
   "execution_count": null,
   "metadata": {},
   "outputs": [],
   "source": []
  },
  {
   "cell_type": "code",
   "execution_count": null,
   "metadata": {},
   "outputs": [],
   "source": []
  },
  {
   "cell_type": "markdown",
   "metadata": {},
   "source": [
    "# low resolution files"
   ]
  },
  {
   "cell_type": "code",
   "execution_count": null,
   "metadata": {},
   "outputs": [],
   "source": [
    "ds = xr.open_dataset(file_ex_ocn_rect, decode_times=False)"
   ]
  },
  {
   "cell_type": "code",
   "execution_count": null,
   "metadata": {},
   "outputs": [],
   "source": [
    "ds"
   ]
  },
  {
   "cell_type": "code",
   "execution_count": null,
   "metadata": {},
   "outputs": [],
   "source": [
    "plt.imshow(ds.PD[0,:,:].values)\n",
    "plt.colorbar()"
   ]
  },
  {
   "cell_type": "code",
   "execution_count": null,
   "metadata": {},
   "outputs": [],
   "source": [
    "ds.TEMP[0,:,:].where(ds.PD[0,:,:]!=np.nan).plot()"
   ]
  },
  {
   "cell_type": "code",
   "execution_count": null,
   "metadata": {},
   "outputs": [],
   "source": [
    "ds.PD[0,1,1].values"
   ]
  },
  {
   "cell_type": "code",
   "execution_count": null,
   "metadata": {},
   "outputs": [],
   "source": [
    "ds.depth_t[0]"
   ]
  },
  {
   "cell_type": "code",
   "execution_count": null,
   "metadata": {},
   "outputs": [],
   "source": [
    "from xr_DataArrays import generate_xr_AREA, generate_xr_DZ"
   ]
  },
  {
   "cell_type": "code",
   "execution_count": null,
   "metadata": {},
   "outputs": [],
   "source": [
    "generate_xr_DZ('ocn_lowres')[0,:,:].plot()"
   ]
  },
  {
   "cell_type": "markdown",
   "metadata": {},
   "source": [
    "# high resolution files"
   ]
  },
  {
   "cell_type": "code",
   "execution_count": null,
   "metadata": {},
   "outputs": [],
   "source": [
    "# xa0 = xr.open_dataset(file_ex_ohc_hires, decode_times=False)\n",
    "# xa1 = xr.open_dataset(file_ex_ocn_ctrl, decode_times=False)\n",
    "# xa2 = xr.open_dataset(file_ex_ocn_rcp, decode_times=False)\n",
    "# print(f'ohc file: {len(xa0.variables):3}\\n{list(xa0.variables)}')\n",
    "# print(f'ctrl file: {len(xa1.variables):3}\\n{list(xa1.variables)}')\n",
    "# print(f'rcp file: {len(xa2.variables):3}\\n{list(xa2.variables)}')"
   ]
  },
  {
   "cell_type": "code",
   "execution_count": null,
   "metadata": {},
   "outputs": [],
   "source": [
    "# nc_file = f'{path_CESM}/rcp8.5_co2_f05_t12/OUTPUT/ocn/hist/daily/rcp8.5_co2_f05_t12.pop.hm.2021-01-22.nc'\n",
    "# xdata   = xr.open_dataset(nc_file, decode_times=False)"
   ]
  },
  {
   "cell_type": "code",
   "execution_count": null,
   "metadata": {},
   "outputs": [],
   "source": [
    "xdata = xr.open_dataset(file_ex_ocn_ctrl, decode_times=False)"
   ]
  },
  {
   "cell_type": "code",
   "execution_count": null,
   "metadata": {},
   "outputs": [],
   "source": [
    "xdata"
   ]
  },
  {
   "cell_type": "code",
   "execution_count": null,
   "metadata": {},
   "outputs": [],
   "source": [
    "f, ax = plt.subplots(1,3,figsize=(15,5), sharey=True)\n",
    "ax[0].imshow(xdata.TEMP[0,0,:,:], cmap='viridis')\n",
    "ax[1].imshow(xdata.coords['TLAT'])\n",
    "ax[2].imshow(xdata.coords['TLONG'])\n",
    "plt.tight_layout()"
   ]
  },
  {
   "cell_type": "code",
   "execution_count": null,
   "metadata": {},
   "outputs": [],
   "source": [
    "# does not work with matplotlib 3.0.0, due to '_hold' bug\n",
    "# use 'CS' conda environment"
   ]
  },
  {
   "cell_type": "code",
   "execution_count": null,
   "metadata": {},
   "outputs": [],
   "source": [
    "# from paths import file_ex_ocn_ctrl\n",
    "\n",
    "# def all_water_mask():\n",
    "#     \"\"\" creates a tuple of two np.arrays containing all coordinates with water \"\"\"\n",
    "#     ds = xr.open_dataset(file_ex_ocn_ctrl, decode_times=False)\n",
    "    \n",
    "# #     A = np.append(np[0], np.where(xdata.REGION_MASK>0)[0])\n",
    "# #     B = np.append(np.where(xdata.REGION_MASK<-1)[1], np.where(xdata.REGION_MASK>0)[1])    \n",
    "# #     assert len(A)==len(B)\n",
    "    \n",
    "#     MASK = ds.TAREA[:,:]\n",
    "#     plt.figure()\n",
    "#     plt.imshow(MASK)\n",
    "#     MASK[:,:] = True\n",
    "#     plt.figure()\n",
    "#     plt.imshow(MASK)\n",
    "#     plt.colorbar()\n",
    "#     temp_MASK = MASK.where(ds.REGION_MASK<-1)\n",
    "# #     MASK.where(ds.REGION_MASK >0) = True\n",
    "#     plt.figure()\n",
    "#     plt.imshow(temp_MASK)\n",
    "#     plt.colorbar()\n",
    "        \n",
    "#     return MASK\n"
   ]
  },
  {
   "cell_type": "code",
   "execution_count": null,
   "metadata": {},
   "outputs": [],
   "source": [
    "all_water_mask()"
   ]
  },
  {
   "cell_type": "code",
   "execution_count": null,
   "metadata": {},
   "outputs": [],
   "source": []
  },
  {
   "cell_type": "code",
   "execution_count": null,
   "metadata": {},
   "outputs": [],
   "source": [
    "plt.imshow(TEMP)\n",
    "plt.colorbar()"
   ]
  },
  {
   "cell_type": "code",
   "execution_count": null,
   "metadata": {},
   "outputs": [],
   "source": [
    "print(TEMP[2000,2000].item())\n",
    "print(TEMP[0,2000].item())"
   ]
  },
  {
   "cell_type": "code",
   "execution_count": null,
   "metadata": {},
   "outputs": [],
   "source": [
    "f = plt.figure(figsize=(12,8))\n",
    "ax = plt.axes(projection=ccrs.PlateCarree())\n",
    "xdata.PD[0,0,:,:].where(xdata.REGION_MASK>0).plot.pcolormesh(ax=ax, transform=ccrs.PlateCarree(), x='TLONG', y='TLAT', add_colorbar=False)\n",
    "plt.tight_layout()"
   ]
  },
  {
   "cell_type": "code",
   "execution_count": null,
   "metadata": {},
   "outputs": [],
   "source": [
    "def map_geography(ax):\n",
    "    \"\"\"adds land, WGKP ploygon, lat/lon labels\"\"\"\n",
    "    xticks = np.linspace(-180,180,7,endpoint=True)\n",
    "    yticks = np.linspace(-90,90,7)\n",
    "    ax.add_feature(cartopy.feature.LAND, zorder=1, facecolor='lightgray')\n",
    "    gl = ax.gridlines(xlocs=xticks, ylocs=yticks)\n",
    "    gl.n_steps = 500"
   ]
  },
  {
   "cell_type": "code",
   "execution_count": null,
   "metadata": {},
   "outputs": [],
   "source": [
    "# from binary file\n",
    "grid_file  = f'{path_CESM}/inputdata/ocn/pop/tx0.1v2/grid/horiz_grid_200709.ieeer8'\n",
    "imt,jmt,km = 3600, 2400, 42\n",
    "lats, lons, shift = generate_lats_lons(grid_file)\n",
    "lats,lons  = generate_lats_lons_CESM(grid_file)"
   ]
  },
  {
   "cell_type": "code",
   "execution_count": null,
   "metadata": {},
   "outputs": [],
   "source": [
    "TEMP = shift_field(xdata.TEMP[0,0,:,:].T, shift)\n",
    "lats_shifted = shift_field(lats, shift)\n",
    "lons_shifted = shift_field(lons, shift)"
   ]
  },
  {
   "cell_type": "code",
   "execution_count": null,
   "metadata": {},
   "outputs": [],
   "source": [
    "f, ax = plt.subplots(1,3)\n",
    "ax[0].imshow(lats_shifted)\n",
    "ax[1].imshow(lons_shifted)\n",
    "ax[2].imshow(TEMP)"
   ]
  },
  {
   "cell_type": "code",
   "execution_count": null,
   "metadata": {},
   "outputs": [],
   "source": [
    "fig = plt.figure(figsize=(10,10))\n",
    "# ax  = fig.add_subplot(1, 1, 1, projection=ccrs.PlateCarree())\n",
    "# ax  = fig.add_subplot(1, 1, 1, projection=ccrs.Mollweide())\n",
    "\n",
    "# ax  = fig.add_subplot(1, 1, 1, projection=ccrs.AzimuthalEquidistant())\n",
    "ax  = fig.add_subplot(1, 1, 1, projection=ccrs.Orthographic(central_latitude=-90))\n",
    "# ax  = fig.add_subplot(1, 1, 1, projection=ccrs.AlbersEqualArea(central_longitude=0.0, central_latitude=0.0, false_easting=0.0, false_northing=0.0, standard_parallels=(20.0, 50.0), globe=None))\n",
    "ax.set_position([.02,.02,.96,.96])\n",
    "ax.pcolormesh(xdata.TLONG,\n",
    "              xdata.TLAT,\n",
    "              xdata.TEMP[0,0,:,:].where(xdata.REGION_MASK>0),\n",
    "              cmap='rainbow',\n",
    "              vmin=-1.8, vmax=27,\n",
    "              transform=ccrs.PlateCarree() )\n",
    "map_geography(ax)\n",
    "# fig.savefig('../../results/first_map', transparent=True, dpi=300)"
   ]
  },
  {
   "cell_type": "code",
   "execution_count": null,
   "metadata": {},
   "outputs": [],
   "source": [
    "fig = plt.figure(figsize=(10,10))\n",
    "# ax  = fig.add_subplot(1, 1, 1, projection=ccrs.PlateCarree())\n",
    "# ax  = fig.add_subplot(1, 1, 1, projection=ccrs.Mollweide())\n",
    "\n",
    "ax  = fig.add_subplot(1, 1, 1, projection=ccrs.AzimuthalEquidistant())\n",
    "# ax  = fig.add_subplot(1, 1, 1, projection=ccrs.AlbersEqualArea(central_longitude=0.0, central_latitude=0.0, false_easting=0.0, false_northing=0.0, standard_parallels=(20.0, 50.0), globe=None))\n",
    "ax.set_position([.02,.02,.96,.96])\n",
    "ax.pcolormesh(lons_shifted.T,\n",
    "              lats_shifted.T,\n",
    "              TEMP.T,\n",
    "              cmap='rainbow',\n",
    "              vmin=-1.8, vmax=27,\n",
    "              transform=ccrs.PlateCarree() )\n",
    "map_geography(ax)\n",
    "# fig.savefig('../../results/first_map', transparent=True, dpi=300)"
   ]
  },
  {
   "cell_type": "markdown",
   "metadata": {},
   "source": [
    "# Atmosphere"
   ]
  },
  {
   "cell_type": "code",
   "execution_count": null,
   "metadata": {},
   "outputs": [],
   "source": []
  },
  {
   "cell_type": "code",
   "execution_count": null,
   "metadata": {},
   "outputs": [],
   "source": [
    "xdata = xr.open_dataset(file_ex_atm_ctrl, decode_times=False)"
   ]
  },
  {
   "cell_type": "code",
   "execution_count": null,
   "metadata": {},
   "outputs": [],
   "source": [
    "xdata"
   ]
  },
  {
   "cell_type": "code",
   "execution_count": null,
   "metadata": {},
   "outputs": [],
   "source": [
    "plt.imshow(xdata['T'][0,-1,:,:])\n",
    "plt.colorbar()"
   ]
  },
  {
   "cell_type": "code",
   "execution_count": null,
   "metadata": {},
   "outputs": [],
   "source": [
    "plt.plot(xdata['T'][0,:,300,200])"
   ]
  },
  {
   "cell_type": "code",
   "execution_count": null,
   "metadata": {},
   "outputs": [],
   "source": [
    "xdata['T850'][0,:,:].mean()"
   ]
  },
  {
   "cell_type": "code",
   "execution_count": null,
   "metadata": {},
   "outputs": [],
   "source": [
    "plt.imshow(xdata['T850'][0,:,:])\n",
    "plt.colorbar()"
   ]
  },
  {
   "cell_type": "code",
   "execution_count": null,
   "metadata": {},
   "outputs": [],
   "source": [
    "f, ax = plt.subplots(1, 2, figsize=(12,4))\n",
    "ax[0].imshow(xdata.OCNFRAC[0,:,:], cmap='viridis', origin='lowerleft')\n",
    "ax[1].imshow(xdata.ICEFRAC[0,:,:], cmap='viridis', origin='lowerleft')\n",
    "plt.tight_layout()\n",
    "# plt.colorbar()"
   ]
  },
  {
   "cell_type": "code",
   "execution_count": null,
   "metadata": {},
   "outputs": [],
   "source": [
    "from xr_DataArrays import generate_xr_AREA"
   ]
  },
  {
   "cell_type": "code",
   "execution_count": null,
   "metadata": {},
   "outputs": [],
   "source": [
    "AREA = generate_xr_AREA('atm')"
   ]
  },
  {
   "cell_type": "code",
   "execution_count": null,
   "metadata": {},
   "outputs": [],
   "source": [
    "np.isclose(3.2,3.2,rtol=1e-1)"
   ]
  },
  {
   "cell_type": "code",
   "execution_count": null,
   "metadata": {},
   "outputs": [],
   "source": [
    "plt.plot(AREA[:,0])"
   ]
  },
  {
   "cell_type": "code",
   "execution_count": null,
   "metadata": {},
   "outputs": [],
   "source": [
    "plt.imshow(AREA)\n",
    "plt.colorbar()"
   ]
  },
  {
   "cell_type": "code",
   "execution_count": null,
   "metadata": {},
   "outputs": [],
   "source": [
    "xdata.lat[0].item()"
   ]
  },
  {
   "cell_type": "code",
   "execution_count": null,
   "metadata": {},
   "outputs": [],
   "source": [
    "plt.plot(xdata.lat[1:].values-xdata.lat[:-1].values)"
   ]
  },
  {
   "cell_type": "code",
   "execution_count": null,
   "metadata": {},
   "outputs": [],
   "source": [
    "xdata.T850"
   ]
  },
  {
   "cell_type": "code",
   "execution_count": null,
   "metadata": {},
   "outputs": [],
   "source": [
    "from xr_integrate import xr_zonal_int, xr_zonal_mean\n",
    "xa = xdata.T850[0,:,:]\n",
    "dx = 2\n",
    "# lat_name = ('lat','lon')\n",
    "T850_lat_mean = xr_zonal_mean(xa, AREA, dx, 'lat')\n",
    "\n",
    "# plot the result\n",
    "plt.plot(T850_lat_mean.coords['lat_bins'], T850_lat_mean)\n",
    "\n",
    "dx = 5\n",
    "# lat_name = ('lat','lon')\n",
    "T850_lat_mean = xr_zonal_mean(xa, AREA, dx, 'lat')\n",
    "\n",
    "# plot the result\n",
    "plt.plot(T850_lat_mean.coords['lat_bins'], T850_lat_mean)"
   ]
  },
  {
   "cell_type": "code",
   "execution_count": null,
   "metadata": {},
   "outputs": [],
   "source": [
    "from xr_integrate import xr_vol_int, xr_zonal_int, xr_int_along_axis\n",
    "from xr_integrate import xr_vol_mean, xr_surf_int, xr_surf_mean"
   ]
  },
  {
   "cell_type": "code",
   "execution_count": null,
   "metadata": {},
   "outputs": [],
   "source": [
    "z = np.array([0,1])\n",
    "y = np.array([0,1,2])\n",
    "x = np.array([0,1,2,3])\n",
    "\n",
    "A = xr.DataArray(data=np.ones((2,3,4)),\n",
    "                              coords={'z': z, 'y': y, 'x': x},\n",
    "                              dims=('z', 'y', 'x') )\n",
    "B = xr.DataArray(data=np.ones((3,4)),\n",
    "                              coords={'y': y, 'x': x},\n",
    "                              dims=('y', 'x') )\n",
    "print(np.all(A[0,:,:]==B[:,:]))"
   ]
  },
  {
   "cell_type": "code",
   "execution_count": null,
   "metadata": {},
   "outputs": [],
   "source": [
    "xr_vol_int(A, B, A, levels=True, zonal=True )"
   ]
  },
  {
   "cell_type": "code",
   "execution_count": null,
   "metadata": {},
   "outputs": [],
   "source": [
    "'lat' in xdata['T'][0,:,:,:]"
   ]
  },
  {
   "cell_type": "code",
   "execution_count": null,
   "metadata": {},
   "outputs": [],
   "source": [
    "A[0,:,:].item"
   ]
  },
  {
   "cell_type": "code",
   "execution_count": null,
   "metadata": {},
   "outputs": [],
   "source": [
    "xr_surf_mean(B, B)"
   ]
  },
  {
   "cell_type": "code",
   "execution_count": null,
   "metadata": {},
   "outputs": [],
   "source": []
  },
  {
   "cell_type": "code",
   "execution_count": null,
   "metadata": {},
   "outputs": [],
   "source": []
  }
 ],
 "metadata": {
  "kernelspec": {
   "display_name": "Python 3",
   "language": "python",
   "name": "python3"
  },
  "language_info": {
   "codemirror_mode": {
    "name": "ipython",
    "version": 3
   },
   "file_extension": ".py",
   "mimetype": "text/x-python",
   "name": "python",
   "nbconvert_exporter": "python",
   "pygments_lexer": "ipython3",
   "version": "3.6.7"
  }
 },
 "nbformat": 4,
 "nbformat_minor": 4
}
