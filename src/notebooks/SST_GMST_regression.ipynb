{
 "cells": [
  {
   "cell_type": "markdown",
   "metadata": {},
   "source": [
    "# SST modes vs. GMST regression\n",
    "\n",
    "1. regress modes of SST variability against GMST variability"
   ]
  },
  {
   "cell_type": "code",
   "execution_count": null,
   "metadata": {},
   "outputs": [],
   "source": [
    "import sys\n",
    "sys.path.append(\"..\")\n",
    "import scipy as sp\n",
    "import numpy as np\n",
    "import xarray as xr\n",
    "import pandas as pd\n",
    "import statsmodels.api as sm\n",
    "import matplotlib.pyplot as plt"
   ]
  },
  {
   "cell_type": "code",
   "execution_count": null,
   "metadata": {},
   "outputs": [],
   "source": [
    "%matplotlib inline\n",
    "%config InlineBackend.print_figure_kwargs={'bbox_inches':None}\n",
    "%load_ext autoreload\n",
    "%autoreload 2\n",
    "%aimport - numpy - scipy - matplotlib.pyplot"
   ]
  },
  {
   "cell_type": "code",
   "execution_count": null,
   "metadata": {},
   "outputs": [],
   "source": [
    "from paths import path_samoc\n",
    "from filters import lowpass\n",
    "from SST_analysis import SST_index_analysis"
   ]
  },
  {
   "cell_type": "code",
   "execution_count": null,
   "metadata": {},
   "outputs": [],
   "source": [
    "ds1 = xr.open_dataarray(f'{path_samoc}/SST/AMO_had.nc', decode_times=False)\n",
    "ds1.name = 'AMO'\n",
    "df1 = ds1.to_dataframe()"
   ]
  },
  {
   "cell_type": "code",
   "execution_count": null,
   "metadata": {},
   "outputs": [],
   "source": [
    "ds2 = xr.open_dataarray(f'{path_samoc}/SST/TPI_had.nc', decode_times=False)\n",
    "ds2.name ='TPI'\n",
    "df2 = ds2.to_dataframe()"
   ]
  },
  {
   "cell_type": "code",
   "execution_count": null,
   "metadata": {},
   "outputs": [],
   "source": [
    "ds3 = xr.open_dataarray(f'{path_samoc}/SST/SOM_had.nc', decode_times=False)\n",
    "ds3.name = 'SOM'\n",
    "df3 = ds3.to_dataframe()"
   ]
  },
  {
   "cell_type": "code",
   "execution_count": null,
   "metadata": {},
   "outputs": [],
   "source": [
    "ds4 = xr.open_dataset(f'{path_samoc}/GMST/GMST_yrly_had.nc', decode_times=False)\n",
    "ds4['GMST'] = lowpass(ds4['GMST']-ds4['lin_fit'], 13)\n",
    "df4 = ds4['GMST'].to_dataframe()"
   ]
  },
  {
   "cell_type": "code",
   "execution_count": null,
   "metadata": {},
   "outputs": [],
   "source": [
    "df1.plot()\n",
    "df2.plot()\n",
    "df3.plot()\n",
    "df4.plot()"
   ]
  },
  {
   "cell_type": "code",
   "execution_count": null,
   "metadata": {},
   "outputs": [],
   "source": [
    "dfs = [df1, df2, df3, df4]\n",
    "for i, df in enumerate(dfs):\n",
    "    plt.plot(df.index+10000*i)"
   ]
  },
  {
   "cell_type": "code",
   "execution_count": null,
   "metadata": {},
   "outputs": [],
   "source": [
    "df4.index = df4.index+31"
   ]
  },
  {
   "cell_type": "code",
   "execution_count": null,
   "metadata": {},
   "outputs": [],
   "source": [
    "df = df1.join([df2, df3, df4])"
   ]
  },
  {
   "cell_type": "code",
   "execution_count": null,
   "metadata": {},
   "outputs": [],
   "source": [
    "df.plot()"
   ]
  },
  {
   "cell_type": "code",
   "execution_count": null,
   "metadata": {},
   "outputs": [],
   "source": [
    "df.head()"
   ]
  },
  {
   "cell_type": "code",
   "execution_count": null,
   "metadata": {},
   "outputs": [],
   "source": [
    "np.all(df.GMST.index==df.AMO.index)"
   ]
  },
  {
   "cell_type": "code",
   "execution_count": null,
   "metadata": {},
   "outputs": [],
   "source": [
    "plt.plot(df.AMO.index)\n",
    "plt.plot(df.SOM.index)\n",
    "plt.plot(df.AMO.values)\n",
    "plt.plot(df.SOM.values)"
   ]
  },
  {
   "cell_type": "code",
   "execution_count": null,
   "metadata": {},
   "outputs": [],
   "source": [
    "plt.scatter(df.GMST, df.AMO)\n",
    "plt.scatter(df.GMST, df.TPI)\n",
    "plt.scatter(df.GMST, df.SOM)"
   ]
  },
  {
   "cell_type": "code",
   "execution_count": null,
   "metadata": {},
   "outputs": [],
   "source": [
    "from itertools import combinations "
   ]
  },
  {
   "cell_type": "code",
   "execution_count": null,
   "metadata": {},
   "outputs": [],
   "source": [
    "pd.plotting.scatter_matrix(df, figsize=(10, 10), diagonal='kde');"
   ]
  },
  {
   "cell_type": "code",
   "execution_count": null,
   "metadata": {},
   "outputs": [],
   "source": [
    "for n in np.arange(1,4):\n",
    "    for index in combinations(['AMO', 'TPI', 'SOM'], n):\n",
    "        X = sm.add_constant(df.dropna(axis=0)[list(index)])\n",
    "        y = df.dropna(axis=0).GMST.dropna()\n",
    "        model = sm.OLS(y, X).fit()\n",
    "#         print(index, '\\n', model.summary())\n",
    "        print(f'{index}    R^2: {model.rsquared:4.2e} \\n params:\\n{model.params}\\n')"
   ]
  },
  {
   "cell_type": "code",
   "execution_count": null,
   "metadata": {},
   "outputs": [],
   "source": []
  }
 ],
 "metadata": {
  "kernelspec": {
   "display_name": "Python 3",
   "language": "python",
   "name": "python3"
  },
  "language_info": {
   "codemirror_mode": {
    "name": "ipython",
    "version": 3
   },
   "file_extension": ".py",
   "mimetype": "text/x-python",
   "name": "python",
   "nbconvert_exporter": "python",
   "pygments_lexer": "ipython3",
   "version": "3.6.6"
  }
 },
 "nbformat": 4,
 "nbformat_minor": 2
}
