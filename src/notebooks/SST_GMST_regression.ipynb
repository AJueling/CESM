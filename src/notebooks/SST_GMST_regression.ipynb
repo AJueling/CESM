{
 "cells": [
  {
   "cell_type": "markdown",
   "metadata": {},
   "source": [
    "# SST modes vs. GMST regression\n",
    "\n",
    "1. regress modes of SST variability against GMST variability"
   ]
  },
  {
   "cell_type": "code",
   "execution_count": null,
   "metadata": {},
   "outputs": [],
   "source": [
    "import sys\n",
    "sys.path.append(\"..\")\n",
    "import scipy as sp\n",
    "import numpy as np\n",
    "import xarray as xr\n",
    "import pandas as pd\n",
    "import statsmodels.api as sm\n",
    "import matplotlib\n",
    "import matplotlib.pyplot as plt"
   ]
  },
  {
   "cell_type": "code",
   "execution_count": null,
   "metadata": {},
   "outputs": [],
   "source": [
    "%matplotlib inline\n",
    "%config InlineBackend.print_figure_kwargs={'bbox_inches':None}\n",
    "matplotlib.rc_file('../rc_file_paper')\n",
    "%load_ext autoreload\n",
    "%autoreload 2\n",
    "%aimport - numpy - scipy - matplotlib.pyplot"
   ]
  },
  {
   "cell_type": "code",
   "execution_count": null,
   "metadata": {},
   "outputs": [],
   "source": [
    "from paths import path_samoc\n",
    "from filters import lowpass"
   ]
  },
  {
   "cell_type": "markdown",
   "metadata": {},
   "source": [
    "## time series into dataframe"
   ]
  },
  {
   "cell_type": "code",
   "execution_count": null,
   "metadata": {},
   "outputs": [],
   "source": [
    "# GMST\n",
    "gmst_had  = xr.open_dataarray(f'{path_samoc}/GMST/GMST_dt_yrly_had.nc', decode_times=False)\n",
    "gmst_had  = gmst_had.isel({'time':slice(9,158)})\n",
    "gmst_ctrl = xr.open_dataarray(f'{path_samoc}/GMST/GMST_dt_yrly_ctrl.nc')\n",
    "gmst_ctrl['time'] = (gmst_ctrl.time/365).astype(dtype=int)\n",
    "gmst_lpd  = xr.open_dataarray(f'{path_samoc}/GMST/GMST_dt_yrly_lpd.nc')\n",
    "gmst_lpd['time'] = (gmst_lpd.time/365).astype(dtype=int)"
   ]
  },
  {
   "cell_type": "code",
   "execution_count": null,
   "metadata": {},
   "outputs": [],
   "source": [
    "# indices\n"
   ]
  },
  {
   "cell_type": "code",
   "execution_count": null,
   "metadata": {},
   "outputs": [],
   "source": [
    "# OHC\n",
    "ctrl_qd = xr.open_dataset(f'{path_samoc}/OHC/OHC_integrals_ctrl_qd.nc', decode_times=False)\n",
    "lpd_qd  = xr.open_dataset(f'{path_samoc}/OHC/OHC_integrals_lpd_qd.nc' , decode_times=False)"
   ]
  },
  {
   "cell_type": "code",
   "execution_count": null,
   "metadata": {},
   "outputs": [],
   "source": [
    "ctrl_qd"
   ]
  },
  {
   "cell_type": "code",
   "execution_count": null,
   "metadata": {},
   "outputs": [],
   "source": [
    "def merge_time_series(run):\n",
    "    \"\"\"creats a pandas dataframe of the GMST, index, and OHC time series\"\"\"\n",
    "    \n",
    "    # GMST\n",
    "    gmst = xr.open_dataarray(f'{path_samoc}/GMST/GMST_dt_yrly_{run}.nc', decode_times=False)\n",
    "    gmst.name = 'GMST'\n",
    "    if run=='had':  gmst  = gmst.isel({'time':slice(9,158)})\n",
    "    else:           gmst['time'] = (gmst.time/365).astype(dtype=int)\n",
    "    if run=='lpd':  gmst  = gmst.isel({'time':slice(0,250)})\n",
    "    \n",
    "    # indices\n",
    "    if run=='had':  dt = ''\n",
    "    else:           dt = '_quadratic_pwdt'\n",
    "    for i, index in enumerate(['AMO', 'TPI', 'SOM']):\n",
    "        da = xr.open_dataarray(f'{path_samoc}/SST/{index}{dt}_{run}.nc')\n",
    "        da.name = index\n",
    "        if i==0: da_temp = da\n",
    "        else: da_temp = xr.merge([da_temp,da])\n",
    "    da_temp['time'] = (da_temp.time/365).astype(dtype=int)\n",
    "    if run=='had':  da_temp['time'] = da_temp.time + 1870\n",
    "    if run=='ctrl': da_temp = da_temp.isel({'time':slice(1,251)})\n",
    "    if run=='lpd':  da_temp = da_temp.isel({'time':slice(0,250)})\n",
    "    \n",
    "    da_temp = xr.merge([lowpass(gmst,13), da_temp])\n",
    "    \n",
    "    # OHC\n",
    "    if run in ['ctrl', 'lpd']:\n",
    "        qd = xr.open_dataset(f'{path_samoc}/OHC/OHC_integrals_{run}_qd.nc', decode_times=False)\n",
    "        qd['time'] = qd.time.astype(dtype=int)\n",
    "        OHC_G = lowpass(qd.OHC_Global_Ocean,13)\n",
    "        OHC_A = lowpass(qd.OHC_Atlantic_Ocean,13)\n",
    "        OHC_P = lowpass(qd.OHC_Pacific_Ocean,13)\n",
    "        OHC_S = lowpass(qd.OHC_Southern_Ocean,13)\n",
    "        da_temp = xr.merge([da_temp, OHC_G, OHC_A, OHC_P, OHC_S])\n",
    "    \n",
    "    return da_temp.isel({'time':slice(7,-7)}).to_dataframe()\n",
    "\n",
    "time_series_had  = merge_time_series(run='had')\n",
    "time_series_ctrl = merge_time_series(run='ctrl')\n",
    "time_series_lpd  = merge_time_series(run='lpd')"
   ]
  },
  {
   "cell_type": "code",
   "execution_count": null,
   "metadata": {},
   "outputs": [],
   "source": [
    "time_series_had.plot()"
   ]
  },
  {
   "cell_type": "code",
   "execution_count": null,
   "metadata": {},
   "outputs": [],
   "source": [
    "time_series_ctrl.plot()"
   ]
  },
  {
   "cell_type": "code",
   "execution_count": null,
   "metadata": {},
   "outputs": [],
   "source": [
    "time_series_lpd.GMST.plot()"
   ]
  },
  {
   "cell_type": "markdown",
   "metadata": {},
   "source": [
    "### plot overview"
   ]
  },
  {
   "cell_type": "code",
   "execution_count": null,
   "metadata": {},
   "outputs": [],
   "source": [
    "f, ax = plt.subplots(3, 3, figsize=(9,5), sharey='row', sharex='col', gridspec_kw={\"width_ratios\":[149, 250, 250]})\n",
    "\n",
    "handles = []\n",
    "for j, run in enumerate(['had','ctrl','lpd']):\n",
    "    for i in range(3):\n",
    "        if (j==0 and i==2) is False:  ax[i,j].axhline(0, c='grey', lw=.5)\n",
    "    if j==0:\n",
    "        print('test')\n",
    "        da0 = xr.open_dataarray(f'{path_samoc}/GMST/GMST_dt_yrly_had.nc', decode_times=False)\n",
    "        ax[0,0].plot(da0.time, da0, lw=.3)\n",
    "        ax[0,0].plot(da0.time, lowpass(da0,5))\n",
    "        ax[0,0].plot(da0.time, lowpass(da0,13))\n",
    "        for k, index in enumerate(['AMO', 'TPI', 'SOM']):\n",
    "            ds1 = xr.open_dataarray(f'{path_samoc}/SST/{index}_had.nc', decode_times=False)\n",
    "            ax[1,0].plot(ds1.time/365+1870, ds1)\n",
    "        ax[1,j].set_xlabel('time [years C.E.]')\n",
    "        ax[2,j].set_xlim((1866, 2023))\n",
    "        ax[2,j].axis('off')\n",
    "    else:\n",
    "    # GMST\n",
    "        da0 = xr.open_dataarray(f'{path_samoc}/GMST/GMST_dt_yrly_{run}.nc')\n",
    "        ax[0,j].plot(da0.time/365, da0.values, lw=.3)\n",
    "        ax[0,j].plot(da0.time/365, lowpass(da0.values,5))\n",
    "        ax[0,j].plot(da0.time/365, lowpass(da0.values,13))\n",
    "\n",
    "        # indices\n",
    "        for k, index in enumerate(['AMO', 'TPI', 'SOM']):\n",
    "            da1 = xr.open_dataarray(f'{path_samoc}/SST/{index}_quadratic_pwdt_{run}.nc')\n",
    "            l, = ax[1,j].plot(da1.time[7:-7]/365, da1.values[7:-7], label=index)\n",
    "            if j==2:  handles.append(l)\n",
    "\n",
    "        # OHC\n",
    "        for i, ocean in enumerate(['Global', 'Atlantic', 'Pacific', 'Southern']):\n",
    "            key = f'OHC_{ocean}_Ocean'\n",
    "            c = ['k' ,'C0','C1','C2'][i]\n",
    "            x = [ctrl_qd, lpd_qd][j-1][key]/1e21\n",
    "            ax[2,j].plot(x.time, lowpass(x,13), c=c ,label=f'{ocean}')\n",
    "\n",
    "        ax[2,j].set_xlabel('time [model years]')\n",
    "    ax[0,j].text(.05,.85, ['HIST', 'HIGH', 'LOW'][j], transform=ax[0,j].transAxes)\n",
    "\n",
    "ax[2,2].set_xlim((150,408))\n",
    "ax[0,0].set_ylabel('GMST [degC]')\n",
    "ax[1,0].set_ylabel('indices [degC]')\n",
    "ax[2,0].set_ylabel('OHC [ZJ]')\n",
    "ax[1,2].legend(handles=handles, fontsize=8, ncol=3, frameon=False)\n",
    "ax[2,2].legend(fontsize=8, ncol=2, frameon=False)\n",
    "\n",
    "f.align_ylabels()"
   ]
  },
  {
   "cell_type": "code",
   "execution_count": null,
   "metadata": {},
   "outputs": [],
   "source": [
    "pd.plotting.scatter_matrix(time_series_had, figsize=(10, 10), diagonal='kde');"
   ]
  },
  {
   "cell_type": "code",
   "execution_count": null,
   "metadata": {},
   "outputs": [],
   "source": [
    "pd.plotting.scatter_matrix(time_series_ctrl, figsize=(10, 10), diagonal='kde');"
   ]
  },
  {
   "cell_type": "code",
   "execution_count": null,
   "metadata": {},
   "outputs": [],
   "source": [
    "pd.plotting.scatter_matrix(time_series_lpd, figsize=(10, 10), diagonal='kde');"
   ]
  },
  {
   "cell_type": "markdown",
   "metadata": {},
   "source": [
    "## indices vs OHC"
   ]
  },
  {
   "cell_type": "code",
   "execution_count": null,
   "metadata": {},
   "outputs": [],
   "source": [
    "ts['GMST'].corr(ts['GMST'].shift(1))"
   ]
  },
  {
   "cell_type": "code",
   "execution_count": null,
   "metadata": {},
   "outputs": [],
   "source": [
    "def lagged_correlation_plot(ax, X, Y, kwargs={}):\n",
    "    Dt = np.arange(-20,21)\n",
    "    A = []\n",
    "    for dt in Dt:\n",
    "        A.append(X.corr(Y.shift(dt)))\n",
    "    return ax.plot(Dt, A, **kwargs)\n",
    "\n",
    "f, ax = plt.subplots(3, 3, figsize=(6.4,6), sharey=True, sharex=True,\n",
    "                     gridspec_kw={\"wspace\":0.03, \"hspace\":0.05})\n",
    "\n",
    "for j, run in enumerate(['had','ctrl','lpd']):\n",
    "    ts = [time_series_had , time_series_ctrl, time_series_lpd ][j]\n",
    "    ax[2,j].set_xlabel('lag [years]')\n",
    "    for i in range(3):\n",
    "        if j==0 and i in [1,2]:\n",
    "            ax[i,j].spines['right'].set_visible(False)\n",
    "            ax[i,j].spines['top'].set_visible(False)\n",
    "        else:\n",
    "            ax[i,j].axhline(0, c='grey', lw=.5)\n",
    "            ax[i,j].axvline(0, c='grey', lw=.5)\n",
    "        ax[i,j].set_yticks([-1,0,1])\n",
    "        ax[i,j].set_xlim((-20,20))\n",
    "        ax[i,j].set_ylim((-1.1,1.1))\n",
    "    \n",
    "    for i, index in enumerate(['AMO', 'TPI', 'SOM']):\n",
    "        kwarg = {'label':index}\n",
    "        lagged_correlation_plot(ax=ax[0,j], X=ts.GMST, Y=ts[index], kwargs=kwarg)\n",
    "        ax[0,j].legend(frameon=False, fontsize=8)\n",
    "    ax[0,j].text(10,.85,'index leads', fontsize=8, ha='center')\n",
    "    ax[0,j].text(-10,.85,'GMST leads', fontsize=8, ha='center')\n",
    "    \n",
    "    if run in ['ctrl', 'lpd']:\n",
    "        for i, ocean in enumerate(['Atlantic', 'Pacific', 'Southern']):\n",
    "            kwarg = {'label':ocean}\n",
    "            key = f'OHC_{ocean}_Ocean'\n",
    "            lagged_correlation_plot(ax=ax[1,j], X=ts[key], Y=ts.GMST, kwargs=kwarg)\n",
    "#             kwarg['label'] = r'$\\Delta$'+f' {ocean}'\n",
    "            kwarg['ls'] = '--'\n",
    "            lagged_correlation_plot(ax=ax[1,j], X=ts[key]-ts[key].shift(1), Y=ts.GMST-ts.GMST.shift(1), kwargs=kwarg)\n",
    "            ax[1,j].legend(frameon=False, fontsize=8, loc=3, ncol=2, handlelength=.8)\n",
    "            \n",
    "            kwarg['ls'] = '-'\n",
    "            index = ['AMO', 'TPI', 'SOM'][i]\n",
    "            lagged_correlation_plot(ax=ax[2,j], X=ts[index], Y=ts[key], kwargs=kwarg)\n",
    "            kwarg['ls'] = '--'\n",
    "            lagged_correlation_plot(ax=ax[2,j], X=ts[index], Y=ts[key]-ts[key].shift(1), kwargs=kwarg)\n",
    "            ax[2,j].legend(frameon=False, fontsize=8, loc=3, ncol=2, handlelength=.8)\n",
    "            \n",
    "        ax[1,j].text(10,.85,'GMST leads', fontsize=8, ha='center')\n",
    "        ax[1,j].text(-10,.85,'OHC leads', fontsize=8, ha='center')\n",
    "\n",
    "        ax[2,j].text(10,.85,'OHC leads', fontsize=8, ha='center')\n",
    "        ax[2,j].text(-10,.85,'index leads', fontsize=8, ha='center')\n",
    "#         ax[j,0].axis('off')\n",
    "        \n",
    "ax[0,0].set_ylabel('GMST vs. indices')\n",
    "ax[1,0].set_ylabel('OHC vs. GMST')\n",
    "ax[2,0].set_ylabel('indices vs. OHC')"
   ]
  },
  {
   "cell_type": "code",
   "execution_count": null,
   "metadata": {},
   "outputs": [],
   "source": [
    "ts.AMO.shift(0).plot()\n",
    "(ts.AMO-ts.AMO.shift(1)).plot()\n",
    "# ts.AMO.shift(10).plot()"
   ]
  },
  {
   "cell_type": "code",
   "execution_count": null,
   "metadata": {},
   "outputs": [],
   "source": [
    "ts.GMST.corr(ts.AMO.shift(10))"
   ]
  },
  {
   "cell_type": "markdown",
   "metadata": {},
   "source": [
    "## indices vs GMST"
   ]
  },
  {
   "cell_type": "code",
   "execution_count": null,
   "metadata": {},
   "outputs": [],
   "source": []
  },
  {
   "cell_type": "markdown",
   "metadata": {},
   "source": [
    "## OHC vs GMST"
   ]
  },
  {
   "cell_type": "code",
   "execution_count": null,
   "metadata": {},
   "outputs": [],
   "source": []
  },
  {
   "cell_type": "code",
   "execution_count": null,
   "metadata": {},
   "outputs": [],
   "source": [
    "ds1 = xr.open_dataarray(f'{path_samoc}/SST/AMO_had.nc', decode_times=False)\n",
    "ds1.name = 'AMO'\n",
    "df1 = ds1.to_dataframe()"
   ]
  },
  {
   "cell_type": "code",
   "execution_count": null,
   "metadata": {},
   "outputs": [],
   "source": [
    "ds2 = xr.open_dataarray(f'{path_samoc}/SST/TPI_had.nc', decode_times=False)\n",
    "ds2.name ='TPI'\n",
    "df2 = ds2.to_dataframe()"
   ]
  },
  {
   "cell_type": "code",
   "execution_count": null,
   "metadata": {},
   "outputs": [],
   "source": [
    "ds3 = xr.open_dataarray(f'{path_samoc}/SST/SOM_had.nc', decode_times=False)\n",
    "ds3.name = 'SOM'\n",
    "df3 = ds3.to_dataframe()"
   ]
  },
  {
   "cell_type": "code",
   "execution_count": null,
   "metadata": {},
   "outputs": [],
   "source": [
    "\n",
    "ds4['GMST'] = lowpass(ds4['GMST']-ds4['lin_fit'], 13)\n",
    "df4 = ds4['GMST'].to_dataframe()"
   ]
  },
  {
   "cell_type": "code",
   "execution_count": null,
   "metadata": {},
   "outputs": [],
   "source": [
    "dfs = [df1, df2, df3, df4]\n",
    "for i, df in enumerate(dfs):\n",
    "    plt.plot(df.index+10000*i)"
   ]
  },
  {
   "cell_type": "code",
   "execution_count": null,
   "metadata": {},
   "outputs": [],
   "source": [
    "df4.index = df4.index+31"
   ]
  },
  {
   "cell_type": "code",
   "execution_count": null,
   "metadata": {},
   "outputs": [],
   "source": [
    "df = df1.join([df2, df3, df4])"
   ]
  },
  {
   "cell_type": "code",
   "execution_count": null,
   "metadata": {},
   "outputs": [],
   "source": [
    "df.plot()"
   ]
  },
  {
   "cell_type": "code",
   "execution_count": null,
   "metadata": {},
   "outputs": [],
   "source": [
    "df.head()"
   ]
  },
  {
   "cell_type": "code",
   "execution_count": null,
   "metadata": {},
   "outputs": [],
   "source": [
    "np.all(df.GMST.index==df.AMO.index)"
   ]
  },
  {
   "cell_type": "code",
   "execution_count": null,
   "metadata": {},
   "outputs": [],
   "source": [
    "plt.plot(df.AMO.index)\n",
    "plt.plot(df.SOM.index)\n",
    "plt.plot(df.AMO.values)\n",
    "plt.plot(df.SOM.values)"
   ]
  },
  {
   "cell_type": "code",
   "execution_count": null,
   "metadata": {},
   "outputs": [],
   "source": [
    "plt.scatter(df.GMST, df.AMO)\n",
    "plt.scatter(df.GMST, df.TPI)\n",
    "plt.scatter(df.GMST, df.SOM)"
   ]
  },
  {
   "cell_type": "code",
   "execution_count": null,
   "metadata": {},
   "outputs": [],
   "source": [
    "pd.plotting.scatter_matrix(df, figsize=(10, 10), diagonal='kde');"
   ]
  },
  {
   "cell_type": "code",
   "execution_count": null,
   "metadata": {},
   "outputs": [],
   "source": [
    "from itertools import combinations "
   ]
  },
  {
   "cell_type": "code",
   "execution_count": null,
   "metadata": {},
   "outputs": [],
   "source": [
    "for n in np.arange(1,4):\n",
    "    for index in combinations(['AMO', 'TPI', 'SOM'], n):\n",
    "        X = sm.add_constant(df.dropna(axis=0)[list(index)])\n",
    "        y = df.dropna(axis=0).GMST.dropna()\n",
    "        model = sm.OLS(y, X).fit()\n",
    "#         print(index, '\\n', model.summary())\n",
    "        print(f'{index}    R^2: {model.rsquared:4.2e} \\n params:\\n{model.params}\\n')"
   ]
  },
  {
   "cell_type": "code",
   "execution_count": null,
   "metadata": {},
   "outputs": [],
   "source": []
  }
 ],
 "metadata": {
  "kernelspec": {
   "display_name": "Python 3",
   "language": "python",
   "name": "python3"
  },
  "language_info": {
   "codemirror_mode": {
    "name": "ipython",
    "version": 3
   },
   "file_extension": ".py",
   "mimetype": "text/x-python",
   "name": "python",
   "nbconvert_exporter": "python",
   "pygments_lexer": "ipython3",
   "version": "3.6.7"
  }
 },
 "nbformat": 4,
 "nbformat_minor": 4
}
