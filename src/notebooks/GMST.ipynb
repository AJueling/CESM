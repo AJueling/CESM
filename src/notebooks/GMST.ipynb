{
 "cells": [
  {
   "cell_type": "markdown",
   "metadata": {},
   "source": [
    "# GMST of CESM runs"
   ]
  },
  {
   "cell_type": "code",
   "execution_count": null,
   "metadata": {},
   "outputs": [],
   "source": [
    "import os\n",
    "import sys\n",
    "sys.path.append(\"..\")\n",
    "import numpy as np\n",
    "import scipy.stats as stats\n",
    "import xarray as xr\n",
    "import seaborn as sns\n",
    "import cartopy\n",
    "import cartopy.crs as ccrs\n",
    "import datetime\n",
    "import matplotlib as mpl\n",
    "import matplotlib.pyplot as plt"
   ]
  },
  {
   "cell_type": "code",
   "execution_count": null,
   "metadata": {},
   "outputs": [],
   "source": [
    "%matplotlib inline\n",
    "%config InlineBackend.print_figure_kwargs={'bbox_inches':None}\n",
    "%load_ext autoreload\n",
    "%autoreload 2"
   ]
  },
  {
   "cell_type": "code",
   "execution_count": null,
   "metadata": {},
   "outputs": [],
   "source": [
    "from maps import map_robinson, map_eq_earth\n",
    "from GMST import GMST_timeseries, GMST_regression, atm_heat_content, GMST_GISTEMP\n",
    "from paths import path_results, path_samoc, path_data\n",
    "# from analysis import TimeSeriesAnalysis\n",
    "from plotting import shifted_color_map, discrete_cmap\n",
    "from constants import abs_zero, cp_air\n",
    "from timeseries import IterateOutputCESM\n",
    "from xr_integrate import xr_surf_mean, xr_zonal_mean\n",
    "from xr_DataArrays import xr_AREA"
   ]
  },
  {
   "cell_type": "code",
   "execution_count": null,
   "metadata": {},
   "outputs": [],
   "source": [
    "gmst_ctrl.GMST[:-1].plot()"
   ]
  },
  {
   "cell_type": "code",
   "execution_count": null,
   "metadata": {},
   "outputs": [],
   "source": [
    "test = gmst_ctrl.GMST.isel({'time':slice(50,300)})"
   ]
  },
  {
   "cell_type": "code",
   "execution_count": null,
   "metadata": {},
   "outputs": [],
   "source": [
    "test.time/365"
   ]
  },
  {
   "cell_type": "code",
   "execution_count": null,
   "metadata": {},
   "outputs": [],
   "source": [
    "plt.plot(test.time/365, test)"
   ]
  },
  {
   "cell_type": "code",
   "execution_count": null,
   "metadata": {
    "jupyter": {
     "outputs_hidden": true
    }
   },
   "outputs": [],
   "source": [
    "%%time\n",
    "# # ca. 30 sec per run\n",
    "gmst_ctrl = GMST_timeseries('ctrl')\n",
    "# gmst_rcp  = GMST_timeseries('rcp')\n",
    "# gmst_lpd  = GMST_timeseries('lpd')\n",
    "# gmst_lpd  = GMST_timeseries('lpi')"
   ]
  },
  {
   "cell_type": "code",
   "execution_count": null,
   "metadata": {},
   "outputs": [],
   "source": [
    "gmst_wt_ctrl = xr.open_dataset(f'{path_samoc}/GMST/GMST_with_trends_yrly_ctrl.nc')\n",
    "gmst_wt_rcp  = xr.open_dataset(f'{path_samoc}/GMST/GMST_with_trends_yrly_rcp.nc' )\n",
    "gmst_wt_lpd  = xr.open_dataset(f'{path_samoc}/GMST/GMST_with_trends_yrly_lpd.nc' )\n",
    "gmst_wt_lpi  = xr.open_dataset(f'{path_samoc}/GMST/GMST_with_trends_yrly_lpi.nc' )"
   ]
  },
  {
   "cell_type": "code",
   "execution_count": null,
   "metadata": {},
   "outputs": [],
   "source": [
    "gmst_wt_ctrl.GMST.plot()\n",
    "(gmst_wt_lpd.GMST-.5).plot()\n"
   ]
  },
  {
   "cell_type": "code",
   "execution_count": null,
   "metadata": {},
   "outputs": [],
   "source": [
    "from xr_regression import xr_quadtrend\n",
    "from  filters import lowpass"
   ]
  },
  {
   "cell_type": "code",
   "execution_count": null,
   "metadata": {},
   "outputs": [],
   "source": [
    "(gmst_wt_ctrl.GMST-xr_quadtrend(gmst_wt_ctrl.GMST)).plot()\n",
    "(gmst_wt_lpd.GMST[:200]-xr_quadtrend(gmst_wt_lpd.GMST[:200])-.5).plot()\n"
   ]
  },
  {
   "cell_type": "code",
   "execution_count": null,
   "metadata": {},
   "outputs": [],
   "source": [
    "lowpass((gmst_wt_ctrl.GMST-xr_quadtrend(gmst_wt_ctrl.GMST)), 10).plot()\n",
    "lowpass((gmst_wt_lpd.GMST[:200]-xr_quadtrend(gmst_wt_lpd.GMST[:200])), 10).plot()\n"
   ]
  },
  {
   "cell_type": "code",
   "execution_count": null,
   "metadata": {},
   "outputs": [],
   "source": []
  },
  {
   "cell_type": "code",
   "execution_count": null,
   "metadata": {},
   "outputs": [],
   "source": []
  },
  {
   "cell_type": "code",
   "execution_count": null,
   "metadata": {},
   "outputs": [],
   "source": [
    "# gmst_wt_ctrl.GMST.to_netcdf(f'{path_samoc}/GMST/GMST_yrly_ctrl.nc')\n",
    "# gmst_wt_rcp .GMST.to_netcdf(f'{path_samoc}/GMST/GMST_yrly_rcp.nc' )\n",
    "# gmst_wt_lpd .GMST.to_netcdf(f'{path_samoc}/GMST/GMST_yrly_lpd.nc' )\n",
    "# gmst_wt_lpi .GMST.to_netcdf(f'{path_samoc}/GMST/GMST_yrly_lpi.nc' )"
   ]
  },
  {
   "cell_type": "code",
   "execution_count": null,
   "metadata": {},
   "outputs": [],
   "source": [
    "gmst_ctrl = xr.open_dataarray(f'{path_samoc}/GMST/GMST_yrly_ctrl.nc')\n",
    "gmst_rcp  = xr.open_dataarray(f'{path_samoc}/GMST/GMST_yrly_rcp.nc' )\n",
    "gmst_lpd  = xr.open_dataarray(f'{path_samoc}/GMST/GMST_yrly_lpd.nc' )\n",
    "gmst_lpi  = xr.open_dataarray(f'{path_samoc}/GMST/GMST_yrly_lpi.nc' )\n",
    "gmst_had  = xr.open_dataarray(f'{path_samoc}/GMST/GMST_yrly_had.nc' , decode_times=False)"
   ]
  },
  {
   "cell_type": "code",
   "execution_count": null,
   "metadata": {},
   "outputs": [],
   "source": [
    "(gmst_ctrl-gmst_wt_ctrl.quad_fit).to_netcdf(f'{path_samoc}/GMST/GMST_dt_yrly_ctrl.nc')\n",
    "(gmst_rcp -gmst_wt_rcp .quad_fit).to_netcdf(f'{path_samoc}/GMST/GMST_dt_yrly_rcp.nc' )\n",
    "(gmst_lpd -gmst_wt_lpd .lin_fit ).to_netcdf(f'{path_samoc}/GMST/GMST_dt_yrly_lpd.nc' )\n",
    "(gmst_lpi -gmst_wt_lpi .lin_fit ).to_netcdf(f'{path_samoc}/GMST/GMST_dt_yrly_lpi.nc' )"
   ]
  },
  {
   "cell_type": "code",
   "execution_count": null,
   "metadata": {},
   "outputs": [],
   "source": [
    "gmst_dt_ctrl = xr.open_dataarray(f'{path_samoc}/GMST/GMST_dt_yrly_ctrl.nc')\n",
    "gmst_dt_rcp  = xr.open_dataarray(f'{path_samoc}/GMST/GMST_dt_yrly_rcp.nc' )\n",
    "gmst_dt_lpd  = xr.open_dataarray(f'{path_samoc}/GMST/GMST_dt_yrly_lpd.nc' )\n",
    "gmst_dt_lpi  = xr.open_dataarray(f'{path_samoc}/GMST/GMST_dt_yrly_lpi.nc' )\n",
    "gmst_dt_had  = xr.open_dataarray(f'{path_samoc}/GMST/GMST_dt_yrly_had.nc' )"
   ]
  },
  {
   "cell_type": "code",
   "execution_count": null,
   "metadata": {},
   "outputs": [],
   "source": [
    "fig = plt.figure(figsize=(8,5))\n",
    "plt.tick_params(labelsize=14)\n",
    "plt.plot(gmst_ctrl.time/365    , gmst_ctrl.values, lw=2, label='CTRL')\n",
    "plt.plot(gmst_rcp.time/365-1800, gmst_rcp.values,  lw=2, label='RCP')\n",
    "plt.xlabel('time [years]', fontsize=16)\n",
    "plt.ylabel('GMST [$^\\circ$C]', fontsize=16)\n",
    "plt.legend(fontsize=16)\n",
    "plt.tight_layout()\n",
    "plt.savefig(f'{path_results}/GMST/GMST_rcp_ctrl')"
   ]
  },
  {
   "cell_type": "code",
   "execution_count": null,
   "metadata": {},
   "outputs": [],
   "source": [
    "N_ctrl = len(gmst_ctrl.coords['time'])\n",
    "N_rcp  = len(gmst_rcp.coords['time'])\n",
    "print(N_ctrl, N_rcp)\n",
    "\n",
    "fig = plt.figure(figsize=(8,5))\n",
    "plt.tick_params(labelsize=14)\n",
    "for i in range(N_rcp):\n",
    "    plt.plot(gmst_wt_rcp.coords['lat'], \n",
    "             gmst_wt_rcp.T_zonal[i,:]-gmst_wt_ctrl.T_zonal[:,:].mean(dim='time'), \n",
    "             color=plt.cm.rainbow(i/N_rcp), alpha=.4, lw=.5,\n",
    "             label='')\n",
    "for i in range(N_rcp):\n",
    "    if (i-5)%10==0:\n",
    "        plt.plot(gmst_wt_rcp.coords['lat'], \n",
    "                 gmst_wt_rcp.T_zonal[i-5:i+5,:].mean(dim='time')-gmst_wt_ctrl.T_zonal[:,:].mean(dim='time'), \n",
    "                 color=plt.cm.rainbow(i/N_rcp), alpha=1, lw=2.5, ls='--',\n",
    "                 label=f'decade {int((i-5)/10)+1}')\n",
    "plt.axhline(0, c='k', lw=.5)\n",
    "plt.legend(ncol=3, frameon=False, fontsize=16)\n",
    "plt.ylabel('zonally averaged temp. RCP - CTRL [K]', fontsize=16)\n",
    "plt.xlabel('Latitude', fontsize=16)\n",
    "plt.xticks(np.arange(-90,91,30))\n",
    "plt.tight_layout()\n",
    "plt.savefig(f'{path_results}/GMST/T_zonal_rcp-ctrl')"
   ]
  },
  {
   "cell_type": "markdown",
   "metadata": {},
   "source": [
    "## low resolution runs"
   ]
  },
  {
   "cell_type": "code",
   "execution_count": null,
   "metadata": {},
   "outputs": [],
   "source": [
    "hadcrut = xr.open_dataarray(f'{path_data}/HadCRUT/ihad4_krig_v2_0-360E_-90-90N_n_mean1_anom_30.nc', decode_times=False)"
   ]
  },
  {
   "cell_type": "code",
   "execution_count": null,
   "metadata": {},
   "outputs": [],
   "source": [
    "ctrl = TimeSeriesAnalysis(gmst_dt_ctrl)\n",
    "rcp  = TimeSeriesAnalysis(gmst_dt_rcp )\n",
    "lpd  = TimeSeriesAnalysis(gmst_dt_lpd )\n",
    "lpi  = TimeSeriesAnalysis(gmst_dt_lpi )\n",
    "had  = TimeSeriesAnalysis(gmst_dt_had )"
   ]
  },
  {
   "cell_type": "code",
   "execution_count": null,
   "metadata": {},
   "outputs": [],
   "source": [
    "f, ax = plt.subplots(5,1,figsize=(12,12), sharex=True)\n",
    "for i in range(5):\n",
    "    ax[i].tick_params(labelsize=14)\n",
    "    ax[i].axhline(0, c='k', lw=.5)\n",
    "# ax.axhline(0,c='k', lw=.5)\n",
    "\n",
    "time_had = np.arange(2350,2519)\n",
    "\n",
    "ax[0].plot(gmst_ctrl.time/365+1850, gmst_ctrl-gmst_ctrl.mean(), c='C0')\n",
    "ax[0].plot(gmst_rcp .time/365+ 200, (gmst_rcp-gmst_rcp .mean())/3, c='C1')\n",
    "ax[0].plot(gmst_lpd .time/365+1350, gmst_lpd -gmst_lpd .mean(), c='C2')\n",
    "ax[0].plot(gmst_lpi .time/365-1600, gmst_lpi -gmst_lpi .mean(), c='C3')\n",
    "ax[0].plot(np.arange(2350,2519)   , hadcrut  -hadcrut  .mean(), c='C4')\n",
    "\n",
    "ax[1].plot(gmst_ctrl.time/365+1850, gmst_dt_ctrl, c='C0')\n",
    "ax[1].plot(gmst_rcp .time/365+ 200, gmst_dt_rcp , c='C1')\n",
    "ax[1].plot(gmst_lpd .time/365+1350, gmst_dt_lpd , c='C2')\n",
    "ax[1].plot(gmst_lpi .time/365-1600, gmst_dt_lpi , c='C3')\n",
    "ax[1].plot(gmst_had.time[11:]+2350, gmst_dt_had , c='C4')\n",
    "\n",
    "for i, window in enumerate([5,10,15]):\n",
    "    ax[i+2].plot(gmst_ctrl.time/365+1850, ctrl.rolling_trends(window), c='C0')\n",
    "    ax[i+2].plot(gmst_rcp .time/365+ 200, rcp .rolling_trends(window), c='C1')\n",
    "    ax[i+2].plot(gmst_lpd .time/365+1350, lpd .rolling_trends(window), c='C2')\n",
    "    ax[i+2].plot(gmst_lpi .time/365-1600, lpi .rolling_trends(window), c='C3')\n",
    "    ax[i+2].plot(gmst_had.time[11:]+2350, had .rolling_trends(window), c='C4')\n",
    "    ax[i+2].set_ylabel('trend [$^\\circ$C/yr]', fontsize=16)\n",
    "\n",
    "ax[0].text(1950, .75, 'CTRL'         , fontsize=16, color='C0')\n",
    "ax[0].text(2200, .75, 'RCP'          , fontsize=16, color='C1')\n",
    "ax[0].text(2200, .5, r'$\\times\\frac{1}{3}$' , fontsize=20, color='C1')\n",
    "ax[0].text(1500, .75, 'pres. day low', fontsize=16, color='C2')\n",
    "ax[0].text(1280, .75, 'pre-ind. low' , fontsize=16, color='C3')\n",
    "ax[0].text(2320, .75, 'HadISST'      , fontsize=16, color='C4')\n",
    "\n",
    "# ax.legend(handles=[L1, L2, L3], loc=8, ncol=3, fontsize=14, frameon=False)\n",
    "ax[-1].set_xlabel('time [years]', fontsize=16)\n",
    "ax[0].set_ylabel('GMST [$^\\circ$C]', fontsize=16)\n",
    "ax[1].set_ylabel('detrended [$^\\circ$C]', fontsize=16)\n",
    "\n",
    "ax[-1].set_xticks(np.arange(1200,2800,200))\n",
    "ax[-1].set_xlim((1230,2550))\n",
    "f.align_ylabels()\n",
    "f.tight_layout()\n",
    "plt.savefig(f'{path_results}/GMST/GMST_with_trends_timeseries')"
   ]
  },
  {
   "cell_type": "code",
   "execution_count": null,
   "metadata": {},
   "outputs": [],
   "source": [
    "mpi_ge = xr.open_dataset(f'{path_samoc}/GMST/GMST_MPI_GE.nc')"
   ]
  },
  {
   "cell_type": "code",
   "execution_count": null,
   "metadata": {},
   "outputs": [],
   "source": [
    "mpi_ge"
   ]
  },
  {
   "cell_type": "code",
   "execution_count": null,
   "metadata": {},
   "outputs": [],
   "source": [
    "mpi_ge_dt = mpi_ge-mpi_ge.tsurf_mean\n",
    "mpi_ge_dt_stacked = mpi_ge_dt.tsurf.stack(z=('member','time'))"
   ]
  },
  {
   "cell_type": "code",
   "execution_count": null,
   "metadata": {},
   "outputs": [],
   "source": [
    "A = {5:[], 10:[], 15:[]}\n",
    "for window in [5, 10, 15]:\n",
    "    for label, arr_window in mpi_ge_dt.tsurf.rolling({'time':window}, center=True):\n",
    "        for i in range(100):\n",
    "             if len(arr_window[i,:])>1:\n",
    "                A[window].append(np.polyfit(np.arange(len(arr_window[i,:])), arr_window[i,:], 1)[0])"
   ]
  },
  {
   "cell_type": "code",
   "execution_count": null,
   "metadata": {},
   "outputs": [],
   "source": [
    "def plot_kde(ax, x, A, label, c, ls='-', lw=1):\n",
    "    ax.plot(x, stats.gaussian_kde(A)(x), label=label, c=c, ls=ls, lw=lw)\n",
    "    \n",
    "def plot_kde_diff(ax, x, A, B, label, c, ls='-', lw=1):\n",
    "    ax.plot(x, stats.gaussian_kde(A)(x)-stats.gaussian_kde(B)(x), label=label, c=c, ls=ls, lw=lw)\n",
    "\n",
    "gmst_dts = [gmst_dt_ctrl, gmst_dt_rcp, gmst_dt_lpd, gmst_dt_lpi, gmst_dt_had]\n",
    "TSAs = [ctrl, rcp, lpd, lpi, had]\n",
    "labels = ['CTRL', 'RCP', 'LPD', 'LPI', 'HAD']\n",
    "\n",
    "f, ax = plt.subplots(2,4, figsize=(12,8))\n",
    "x1=np.linspace(-.35 ,.35 ,30)\n",
    "x2=np.linspace(-.15,.15,30)\n",
    "x3=np.linspace(-.05,.05,30)\n",
    "x4=np.linspace(-.03,.03,30)\n",
    "\n",
    "for i in range(5):\n",
    "    if i==4:  lw=2\n",
    "    else:  lw=1\n",
    "    if i<4:\n",
    "        for j in range(2):\n",
    "            ax[j,i].tick_params(labelsize=14, labelleft=False)\n",
    "            ax[j,i].axhline(0, c='k', lw=.5)\n",
    "            ax[j,i].axvline(0, c='k', lw=.5)\n",
    "        \n",
    "    if i in [0,2,3]:\n",
    "        plot_kde(ax[0,0], x1, gmst_dts[i][-150:], None, f'C{i}', ls='--', lw=.8)\n",
    "        plot_kde_diff(ax[1,0], x1, gmst_dts[i][-150:], gmst_dts[4], None, f'C{i}', ls='--', lw=.8)\n",
    "        for j, window in enumerate([5,10,15]):\n",
    "                plot_kde(ax[0,j+1], [x2, x3, x4][j], TSAs[i].rolling_trends(window)[-150:].dropna(dim='time'), None, f'C{i}', ls='--', lw=.8)\n",
    "                plot_kde_diff(ax[1,j+1], [x2, x3, x4][j], TSAs[i].rolling_trends(window)[-150:].dropna(dim='time'),\n",
    "                                                          TSAs[4].rolling_trends(window).dropna(dim='time'), None, f'C{i}', ls='--', lw=.8)\n",
    "        \n",
    "    plot_kde(ax[0,0], x1, gmst_dts[i], labels[i], f'C{i}', lw=lw)\n",
    "    plot_kde_diff(ax[1,0], x1, gmst_dts[i], gmst_dts[4], labels[i], f'C{i}', lw=lw)\n",
    "    for j, window in enumerate([5,10,15]):\n",
    "        plot_kde(ax[0,j+1], [x2, x3, x4][j], TSAs[i].rolling_trends(window).dropna(dim='time'), labels[i], f'C{i}', lw=lw)\n",
    "        plot_kde_diff(ax[1,j+1], [x2, x3, x4][j], TSAs[i].rolling_trends(window).dropna(dim='time'),\n",
    "                                                  TSAs[4].rolling_trends(window).dropna(dim='time'), labels[i], f'C{i}', lw=lw)\n",
    "        \n",
    "plot_kde(ax[0,0], x1, mpi_ge_dt_stacked, 'MPIGE', c='C5')\n",
    "plot_kde_diff(ax[1,0], x1, mpi_ge_dt_stacked, gmst_dts[4], 'MPIGE', c='C5')\n",
    "for i, window in enumerate([5,10,15]):\n",
    "    trends = [x for x in A[window] if np.isnan(x)==False]\n",
    "    plot_kde(ax[0,i+1], [x2, x3, x4][i], trends, '', c='C5')\n",
    "    plot_kde_diff(ax[1,i+1], [x2, x3, x4][i], trends, TSAs[4].rolling_trends(window).dropna(dim='time'), '', c='C5')\n",
    "    \n",
    "ax[0,0].legend()\n",
    "ax[0,0].set_ylabel('relative abundance'        , fontsize=16)\n",
    "ax[1,0].set_ylabel('difference to HAD'         , fontsize=16)\n",
    "ax[1,0].set_xlabel('detr. GMST [$^\\circ$C]'    , fontsize=16)\n",
    "ax[1,1].set_xlabel('5 yr trend [$^\\circ$C/yr]' , fontsize=16)\n",
    "ax[1,2].set_xlabel('10 yr trend [$^\\circ$C/yr]', fontsize=16)\n",
    "ax[1,3].set_xlabel('15 yr trend [$^\\circ$C/yr]', fontsize=16)\n",
    "plt.tight_layout()\n",
    "plt.savefig(f'{path_results}/GMST/GMST_trends_kde', dpi=600)"
   ]
  },
  {
   "cell_type": "code",
   "execution_count": null,
   "metadata": {},
   "outputs": [],
   "source": [
    "spectrum_ctrl = ctrl.spectrum()\n",
    "spectrum_rcp  = rcp .spectrum()\n",
    "spectrum_lpd  = lpd .spectrum()\n",
    "spectrum_lpi  = lpi .spectrum()\n",
    "spectrum_had  = had .spectrum()\n",
    "spectra = [spectrum_ctrl, spectrum_rcp , spectrum_lpd , spectrum_lpi , spectrum_had]"
   ]
  },
  {
   "cell_type": "code",
   "execution_count": null,
   "metadata": {},
   "outputs": [],
   "source": [
    "f, ax = plt.subplots(1,1, figsize=(8,5))\n",
    "ax.set_yscale('log')\n",
    "for spectrum in spectra:\n",
    "    ax.plot(spectrum[1], spectrum[0])"
   ]
  },
  {
   "cell_type": "code",
   "execution_count": null,
   "metadata": {},
   "outputs": [],
   "source": [
    "for gmst in [I_ctrl, I_rcp, I_lpd, I_lpi, I_had]:\n",
    "    gmst.plot_all_spectra()\n",
    "    gmst.plot_all_autocorrelations()\n",
    "#     for run in runs:\n",
    "#         gmst.plot_spectrum_ar1(run)"
   ]
  },
  {
   "cell_type": "markdown",
   "metadata": {},
   "source": [
    "# linear trend maps"
   ]
  },
  {
   "cell_type": "code",
   "execution_count": null,
   "metadata": {},
   "outputs": [],
   "source": [
    "# %%time\n",
    "# # ca 10:30 min\n",
    "# trends_ctrl = GMST_regression('ctrl')\n",
    "# trends_ctrl.to_netcdf(path=f'{path_results}/GMST/trend_ctrl.nc' , mode='w')\n",
    "# trends_rcp  = GMST_regression('rcp')\n",
    "# trends_rcp.to_netcdf(path=f'{path_results}/GMST/trend_rcp.nc' , mode='w')"
   ]
  },
  {
   "cell_type": "code",
   "execution_count": null,
   "metadata": {},
   "outputs": [],
   "source": [
    "trends_ctrl = xr.open_dataarray(f'{path_results}/GMST/trend_ctrl.nc')\n",
    "trends_rcp  = xr.open_dataarray(f'{path_results}/GMST/trend_rcp.nc' )"
   ]
  },
  {
   "cell_type": "code",
   "execution_count": null,
   "metadata": {},
   "outputs": [],
   "source": [
    "times = ['100-299', '2000-2099']\n",
    "for i, trends in enumerate([trends_ctrl, trends_rcp]):\n",
    "    run = ['ctrl', 'rcp'][i]\n",
    "    label = f'{times[i]} air surface temperature trend [K/century]'\n",
    "    minv, maxv = -2, 6\n",
    "    cmap = shifted_color_map(mpl.cm.RdBu_r, start=.33, midpoint=0.5, stop=1., name='shrunk')\n",
    "    cmap = discrete_cmap(16, cmap)\n",
    "    filename = f'{path_results}/GMST/T_trend_map_{run}'\n",
    "    map_eq_earth(xa=trends, domain='atm', cmap=cmap, minv=minv, maxv=maxv, label=label, filename=filename)"
   ]
  },
  {
   "cell_type": "code",
   "execution_count": null,
   "metadata": {},
   "outputs": [],
   "source": []
  }
 ],
 "metadata": {
  "kernelspec": {
   "display_name": "Python 3",
   "language": "python",
   "name": "python3"
  },
  "language_info": {
   "codemirror_mode": {
    "name": "ipython",
    "version": 3
   },
   "file_extension": ".py",
   "mimetype": "text/x-python",
   "name": "python",
   "nbconvert_exporter": "python",
   "pygments_lexer": "ipython3",
   "version": "3.6.7"
  }
 },
 "nbformat": 4,
 "nbformat_minor": 4
}
