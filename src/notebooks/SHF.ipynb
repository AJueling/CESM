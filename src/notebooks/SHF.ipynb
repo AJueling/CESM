{
 "cells": [
  {
   "cell_type": "markdown",
   "metadata": {},
   "source": [
    "# Surface Heat Flux into the ocean"
   ]
  },
  {
   "cell_type": "code",
   "execution_count": null,
   "metadata": {},
   "outputs": [],
   "source": [
    "import sys\n",
    "import scipy as sp\n",
    "import numpy as np\n",
    "import xarray as xr\n",
    "import cartopy\n",
    "import cartopy.crs as ccrs\n",
    "import matplotlib\n",
    "import matplotlib.pyplot as plt"
   ]
  },
  {
   "cell_type": "code",
   "execution_count": null,
   "metadata": {},
   "outputs": [],
   "source": [
    "%matplotlib inline\n",
    "%config InlineBackend.print_figure_kwargs={'bbox_inches':None}\n",
    "matplotlib.rc_file('../rc_file')\n",
    "%load_ext autoreload\n",
    "%autoreload 2\n",
    "%aimport - numpy - scipy - matplotlib.pyplot"
   ]
  },
  {
   "cell_type": "code",
   "execution_count": null,
   "metadata": {},
   "outputs": [],
   "source": [
    "sys.path.append(\"..\")\n",
    "from tqdm import tqdm\n",
    "from maps import map_robinson\n",
    "from paths import path_results, path_prace, file_ex_ocn_ctrl, file_ex_atm_ctrl\n",
    "from filters import lowpass\n",
    "from regions import regions_dict, boolean_mask\n",
    "from constants import spy, latent_heat_vapor\n",
    "from timeseries import IterateOutputCESM\n",
    "from xr_regression import xr_linear_trends_2D, xr_quadtrend\n",
    "from xr_DataArrays import xr_AREA\n",
    "from bb_analysis_timeseries import AnalyzeTimeSeries as ATS"
   ]
  },
  {
   "cell_type": "markdown",
   "metadata": {},
   "source": [
    "## ocean variable `SHF`: _total surface heat flux including SW_"
   ]
  },
  {
   "cell_type": "code",
   "execution_count": null,
   "metadata": {},
   "outputs": [],
   "source": [
    "# AnalyzeBudget().surface_heat_flux(run)"
   ]
  },
  {
   "cell_type": "code",
   "execution_count": null,
   "metadata": {},
   "outputs": [],
   "source": [
    "# OHC data\n",
    "ctrl = xr.open_dataset(f'{path_prace}/OHC/OHC_integrals_ctrl.nc').isel(time=np.arange(50,300))\n",
    "lpd  = xr.open_dataset(f'{path_prace}/OHC/OHC_integrals_lpd.nc' ).isel(time=np.arange(0,250))\n",
    "\n",
    "ctrl_qd = xr.open_dataset(f'{path_prace}/OHC/OHC_integrals_ctrl_qd.nc', decode_times=False)\n",
    "lpd_qd  = xr.open_dataset(f'{path_prace}/OHC/OHC_integrals_lpd_qd.nc' , decode_times=False)\n",
    "\n",
    "# top of atmosphere imbalance\n",
    "TOA_ctrl = xr.open_dataarray(f'{path_prace}/TOA/TOM_ctrl.nc', decode_times=False).isel(time=slice(50,300))\n",
    "TOA_lpd  = xr.open_dataarray(f'{path_prace}/TOA/TOM_lpd.nc' , decode_times=False).isel(time=slice(0,250))\n",
    "\n",
    "# SHF\n",
    "SHF_ctrl = xr.open_dataset(f'{path_prace}/OHC/SHF_ctrl.nc', decode_times=False).isel(time=slice(50,300))\n",
    "SHF_lpd  = xr.open_dataset(f'{path_prace}/OHC/SHF_lpd.nc' , decode_times=False).isel(time=slice(0,250))"
   ]
  },
  {
   "cell_type": "code",
   "execution_count": null,
   "metadata": {},
   "outputs": [],
   "source": [
    "from paths import file_RMASK_ocn, file_ex_ocn_ctrl \n",
    "MASK = xr.open_dataarray(file_RMASK_ocn)"
   ]
  },
  {
   "cell_type": "code",
   "execution_count": null,
   "metadata": {},
   "outputs": [],
   "source": [
    "AREA = xr.open_dataset(file_ex_ocn_ctrl, decode_times=False).TAREA\n",
    "da = xr.open_dataarray(f'{path_prace}/ctrl/ocn_yrly_SHF_0050.nc')"
   ]
  },
  {
   "cell_type": "code",
   "execution_count": null,
   "metadata": {},
   "outputs": [],
   "source": [
    "da.plot()"
   ]
  },
  {
   "cell_type": "code",
   "execution_count": null,
   "metadata": {},
   "outputs": [],
   "source": [
    "AREA.plot()"
   ]
  },
  {
   "cell_type": "code",
   "execution_count": null,
   "metadata": {},
   "outputs": [],
   "source": [
    "(AREA*da).plot()"
   ]
  },
  {
   "cell_type": "code",
   "execution_count": null,
   "metadata": {},
   "outputs": [],
   "source": [
    "from constants import spy\n",
    "print((AREA*da).sum(dim=['nlat', 'nlon'])*spy/1e4)\n",
    "print((AREA*da.where(MASK>0)).sum(dim=['nlat', 'nlon'])*spy/1e4)"
   ]
  },
  {
   "cell_type": "code",
   "execution_count": null,
   "metadata": {},
   "outputs": [],
   "source": []
  },
  {
   "cell_type": "code",
   "execution_count": null,
   "metadata": {
    "jupyter": {
     "outputs_hidden": true
    }
   },
   "outputs": [],
   "source": [
    "ATS(SHF_ctrl).mc_ar1_spectrum(filter_type='lowpass', filter_cutoff=13)"
   ]
  },
  {
   "cell_type": "code",
   "execution_count": null,
   "metadata": {},
   "outputs": [],
   "source": [
    "f, ax = plt.subplots(2, 2, figsize=(8,5), sharey='row', constrained_layout=True)\n",
    "for i, SHF in enumerate([SHF_ctrl, SHF_lpd]):\n",
    "    for j in range(2):\n",
    "        ax[j,i].axhline(0, c='k')\n",
    "        ax[j,i].tick_params(labelsize=12)\n",
    "    for j, ocean in enumerate(['Global', 'Atlantic', 'Pacific', 'Southern']):\n",
    "        if j==0: c = 'k'\n",
    "        else: f'C{j-1}'\n",
    "        SHF_ = SHF[f'{ocean}_Ocean']\n",
    "        ax[0,i].plot(SHF.time/365, SHF_, label=ocean  , c=c, lw=.5)\n",
    "        ax[0,i].plot(SHF.time[7:-7]/365, lowpass(SHF_, 13)[7:-7], c=c', lw=1)\n",
    "        ax[1,i].plot(SHF.time[7:-7]/365, lowpass(SHF_-xr_quadtrend(SHF_), 13)[7:-7], c=c, lw=1)\n",
    "    ax[1,i].set_xlabel('time [model years]', fontsize=14)\n",
    "ax[0,0].legend(ncol=2, fontsize=10)\n",
    "ax[0,0].set_ylabel('SHF [ZJ/yr]', fontsize=12)\n",
    "ax[1,0].set_ylabel('SHF anomaly [ZJ/yr]', fontsize=12)\n",
    "ax[1,0].set_ylim(-2e21,2e21)\n",
    "plt.savefig(f'{path_results}/Battisti/SHF_time_series')"
   ]
  },
  {
   "cell_type": "code",
   "execution_count": null,
   "metadata": {},
   "outputs": [],
   "source": [
    "f, ax = plt.subplots(1,1, constrained_layout=True)\n",
    "for i, SHF in enumerate([SHF_ctrl, SHF_lpd]):\n",
    "    for j, ocean in enumerate(['Global', 'Atlantic', 'Pacific', 'Southern']):\n",
    "        SHF_ = SHF[f'{ocean}_Ocean']\n",
    "        spec = ATS(SHF_-xr_quadtrend(SHF_)).spectrum()\n",
    "        ax.set_xscale('log')\n",
    "        ax.set_yscale('log')\n",
    "        ax.plot(spec[1], spec[0], c=f'C{j}', lw=1, ls=['-', '--'][i], label=ocean)\n",
    "    if i==0:  ax.legend()"
   ]
  },
  {
   "cell_type": "code",
   "execution_count": null,
   "metadata": {},
   "outputs": [],
   "source": [
    "f, ax = plt.subplots(1, 2, sharey=True, figsize=(10, 5), constrained_layout=True)\n",
    "for i, run in enumerate(['ctrl', 'lpd']):\n",
    "    da_SHF = [SHF_ctrl, SHF_lpd][i]['Global_Ocean']\n",
    "    da_OHC = [ctrl, lpd][i]['OHC_Global_Ocean']\n",
    "    da_TOA = [TOA_ctrl, TOA_lpd][i]\n",
    "    ax[i].axhline(0, c='grey', lw=.5)\n",
    "    ax[i].plot(da_SHF.time/365, da_SHF/1e21                        , c='C0', label='SHF')\n",
    "    ax[i].plot(da_SHF.time[7:-7]/365, lowpass(da_SHF,13)[7:-7]/1e21, c='C0')\n",
    "    ax[i].plot(da_TOA.time+[0,154][i], da_TOA*spy/1e21             , c='C1', label='TOA')\n",
    "    ax[i].plot(da_TOA.time[7:-7]+[0,154][i], lowpass(da_TOA, 13)[7:-7]*spy/1e21, c='C1')\n",
    "    ax[i].set_xlabel('time [model years]')\n",
    "    ax[i].text(.05,.9, ['HIGH', 'LOW'][i], transform=ax[i].transAxes)\n",
    "    ax[i].tick_params(labeltop=False, labelright=True)\n",
    "ax[0].legend(loc=3)"
   ]
  },
  {
   "cell_type": "code",
   "execution_count": null,
   "metadata": {},
   "outputs": [],
   "source": [
    "f, ax = plt.subplots(1, 2, sharey=True, figsize=(12, 5))\n",
    "for i, run in enumerate(['ctrl', 'lpd']):\n",
    "    da_SHF = [SHF_ctrl, SHF_lpd][i]['Global_Ocean']\n",
    "    da_OHC = [ctrl, lpd][i]['OHC_Global_Ocean']\n",
    "    da_TOA = [TOA_ctrl, TOA_lpd][i]\n",
    "    ax[i].axhline(0, c='grey', lw=.5)\n",
    "    ax[i].plot(da_OHC.time/365, da_TOA.values*spy/1e21 - (da_OHC-da_OHC.shift(time=1)).values/1e21, label=r'TOA-$\\Delta$OHC')\n",
    "    ax[i].axhline(np.nanmean(da_TOA.values*spy/1e21 - (da_OHC-da_OHC.shift(time=1)).values/1e21), lw=2, c='C0')\n",
    "    ax[i].plot(da_TOA.time+[0,154][i], da_TOA.values*spy/1e21 - da_SHF.values/1e21, label='TOA-SHF')\n",
    "    ax[i].axhline(np.mean((da_TOA.values*spy/1e21 - da_SHF.values/1e21)), lw=2, c='C1')\n",
    "    ax[i].set_ylim((-7,7))\n",
    "    ax[i].set_xlabel('time [model years]')\n",
    "    ax[i].text(.05,.9, ['HIGH', 'LOW'][i], transform=ax[i].transAxes)\n",
    "ax[0].legend(loc=3)"
   ]
  },
  {
   "cell_type": "code",
   "execution_count": null,
   "metadata": {},
   "outputs": [],
   "source": [
    "f, ax = plt.subplots(1, 2, sharey=True, figsize=(12, 5))\n",
    "for i, run in enumerate(['ctrl', 'lpd']):\n",
    "    da_SHF = [SHF_ctrl, SHF_lpd][i]['Global_Ocean']\n",
    "    da_OHC = [ctrl, lpd][i]['OHC_Global_Ocean']\n",
    "    da_TOA = [TOA_ctrl, TOA_lpd][i]\n",
    "    ax[i].axhline(0, c='grey', lw=.5)\n",
    "#     ax[i].plot(da_OHC.time/365, da_TOA.values*spy/1e21 - (da_OHC-da_OHC.shift(time=1)).values/1e21, label=r'TOA-$\\Delta$OHC')\n",
    "#     ax[i].axhline(np.nanmean(da_TOA.values*spy/1e21 - (da_OHC-da_OHC.shift(time=1)).values/1e21), lw=2, c='C0')\n",
    "    ax[i].plot(da_TOA.time[7:-7]+[0,154][i], lowpass(da_TOA,13).values[7:-7]*spy/1e21 - lowpass(da_SHF,13)[7:-7].values/1e21 - np.mean((da_TOA.values*spy/1e21 - da_SHF.values/1e21)), label='TOA-SHF')\n",
    "    ax[i].plot(da_TOA.time+[0,154][i], da_TOA.values*spy/1e21 - da_SHF.values/1e21 - np.mean((da_TOA.values*spy/1e21 - da_SHF.values/1e21)), lw=.5, alpha=.5)\n",
    "#     ax[i].axhline(np.mean((da_TOA.values*spy/1e21 - da_SHF.values/1e21)), lw=2, c='C1')\n",
    "    ax[i].set_ylim((-7,7))\n",
    "    ax[i].set_xlabel('time [model years]')\n",
    "    ax[i].text(.05,.9, ['HIGH', 'LOW'][i], transform=ax[i].transAxes)\n",
    "ax[0].legend(loc=3)"
   ]
  },
  {
   "cell_type": "code",
   "execution_count": null,
   "metadata": {},
   "outputs": [],
   "source": [
    "f, ax = plt.subplots(1, 2, sharey=True, figsize=(12, 5))\n",
    "for i, run in enumerate(['ctrl', 'lpd']):\n",
    "    da_SHF = [SHF_ctrl, SHF_lpd][i]['Global_Ocean']\n",
    "    da_OHC = [ctrl, lpd][i]['OHC_Global_Ocean']\n",
    "    da_TOA = [TOA_ctrl, TOA_lpd][i]\n",
    "    ax[i].axhline(0, c='grey', lw=.5)\n",
    "    ax[i].axvline(0, c='grey', lw=.5)\n",
    "    ax[i].plot([-10,15],[-10,15])\n",
    "    ax[i].scatter(da_SHF/1e21, (da_OHC-da_OHC.shift(time=1))/1e21, label='SHF-OHC')\n",
    "    ax[i].scatter(da_SHF/1e21, da_TOA*spy/1e21    , label='SHF-TOA')\n",
    "#     ax[i].plot(da_OHC.time/365, , label=r'$\\Delta$OHC')\n",
    "    ax[i].set_xlabel('SHF [ZJ/yr]')\n",
    "    ax[i].text(.05,.9, ['HIGH', 'LOW'][i], transform=ax[i].transAxes)\n",
    "ax[0].legend(loc=3)"
   ]
  },
  {
   "cell_type": "code",
   "execution_count": null,
   "metadata": {},
   "outputs": [],
   "source": [
    "f, ax = plt.subplots(1, 2, sharey=True, figsize=(12, 5))\n",
    "for i, run in enumerate(['ctrl', 'lpd']):\n",
    "    da_SHF = [SHF_ctrl, SHF_lpd][i]['Global_Ocean']\n",
    "    da_OHC = [ctrl, lpd][i]['OHC_Global_Ocean']\n",
    "    da_TOA = [TOA_ctrl, TOA_lpd][i]\n",
    "    ax[i].axhline(0, c='grey', lw=.5)\n",
    "    ax[i].axvline(0, c='grey', lw=.5)\n",
    "    ax[i].plot([-1,10],[-1,10])\n",
    "    ax[i].scatter(lowpass(da_SHF[1:]/1e21, 13)[7:-7], lowpass((da_OHC-da_OHC.shift(time=1)).dropna(dim='time')/1e21,13)[7:-7], label='SHF-OHC')\n",
    "    ax[i].scatter(lowpass(da_SHF/1e21    , 13)[7:-7], lowpass(da_TOA*spy/1e21, 13)[7:-7], label='SHF-TOA')\n",
    "#     ax[i].plot(da_OHC.time/365, , label=r'$\\Delta$OHC')\n",
    "    ax[i].set_xlabel('SHF [ZJ/yr]')\n",
    "    ax[i].set_ylabel('$\\Delta$OHC / TOA [ZJ/yr]')\n",
    "    ax[i].text(.05,.9, ['HIGH', 'LOW'][i], transform=ax[i].transAxes)\n",
    "ax[0].legend(loc=3)"
   ]
  },
  {
   "cell_type": "code",
   "execution_count": null,
   "metadata": {},
   "outputs": [],
   "source": [
    "for i, run in enumerate(['ctrl', 'lpd']):\n",
    "    da_SHF = [SHF_ctrl, SHF_lpd][i]['Global_Ocean']\n",
    "    da_TOA = [TOA_ctrl, TOA_lpd][i]\n",
    "    print(np.corrcoef(lowpass(da_TOA*spy/1e21,13)[7:-7], lowpass(da_SHF/1e21    , 13)[7:-7]))"
   ]
  },
  {
   "cell_type": "markdown",
   "metadata": {},
   "source": [
    "SHF is too small by 2 ZJ/year, this is likely because of water bodies other than ocean taking up heat"
   ]
  },
  {
   "cell_type": "markdown",
   "metadata": {},
   "source": [
    "# atmospheric fluxes"
   ]
  },
  {
   "cell_type": "code",
   "execution_count": null,
   "metadata": {},
   "outputs": [],
   "source": [
    "ds = xr.open_dataset(file_ex_atm_ctrl, decode_times=False)"
   ]
  },
  {
   "cell_type": "code",
   "execution_count": null,
   "metadata": {},
   "outputs": [],
   "source": [
    "ds.SRFRAD.plot()"
   ]
  },
  {
   "cell_type": "code",
   "execution_count": null,
   "metadata": {},
   "outputs": [],
   "source": [
    "ds.FLNS.plot()"
   ]
  },
  {
   "cell_type": "code",
   "execution_count": null,
   "metadata": {},
   "outputs": [],
   "source": [
    "FSDS\n",
    "  Downwelling solar flux at surface\n",
    "FSDSC\n",
    "  Clearsky downwelling solar flux at surface\n",
    "FSNS\n",
    "  Net solar flux at surface\n",
    "FSNSC\n",
    "  Clearsky net solar flux at surface"
   ]
  },
  {
   "cell_type": "code",
   "execution_count": null,
   "metadata": {},
   "outputs": [],
   "source": [
    "ds.FSNS.plot()"
   ]
  },
  {
   "cell_type": "code",
   "execution_count": null,
   "metadata": {},
   "outputs": [],
   "source": [
    "(ds.FSNS-ds.FLNS-ds.SRFRAD).plot()"
   ]
  },
  {
   "cell_type": "code",
   "execution_count": null,
   "metadata": {},
   "outputs": [],
   "source": [
    "ds['T'].mean(dim=('lat','lon')).plot()"
   ]
  },
  {
   "cell_type": "code",
   "execution_count": null,
   "metadata": {},
   "outputs": [],
   "source": []
  },
  {
   "cell_type": "code",
   "execution_count": null,
   "metadata": {},
   "outputs": [],
   "source": [
    "MASK = xr.open_dataset(file_ex_ocn_ctrl, decode_times=False).REGION_MASK"
   ]
  },
  {
   "cell_type": "code",
   "execution_count": null,
   "metadata": {},
   "outputs": [],
   "source": [
    "ds = xr.open_dataset('/projects/0/samoc/andre/CESM/ctrl/ocn_yrly_SHF_0200.nc', decode_times=False)"
   ]
  },
  {
   "cell_type": "code",
   "execution_count": null,
   "metadata": {},
   "outputs": [],
   "source": [
    "np.any(ds.SHF.where(MASK>0)>1000)"
   ]
  },
  {
   "cell_type": "code",
   "execution_count": null,
   "metadata": {},
   "outputs": [],
   "source": [
    "TAREA = xr_AREA('ocn')"
   ]
  },
  {
   "cell_type": "code",
   "execution_count": null,
   "metadata": {},
   "outputs": [],
   "source": [
    "TAREA.plot()"
   ]
  },
  {
   "cell_type": "code",
   "execution_count": null,
   "metadata": {},
   "outputs": [],
   "source": [
    "(ds.SHF*TAREA).where(MASK>0).plot()"
   ]
  },
  {
   "cell_type": "code",
   "execution_count": null,
   "metadata": {},
   "outputs": [],
   "source": [
    "SHF_total = (ds.SHF*TAREA).where(MASK>0).sum(dim=('nlat', 'nlon'))*spy"
   ]
  },
  {
   "cell_type": "code",
   "execution_count": null,
   "metadata": {},
   "outputs": [],
   "source": [
    "SHF_total"
   ]
  },
  {
   "cell_type": "code",
   "execution_count": null,
   "metadata": {},
   "outputs": [],
   "source": [
    "ds_a = xr.open_dataset(file_ex_atm_ctrl, decode_times=False)"
   ]
  },
  {
   "cell_type": "code",
   "execution_count": null,
   "metadata": {},
   "outputs": [],
   "source": [
    "'long_name' in ds_a['T'].attrs"
   ]
  },
  {
   "cell_type": "code",
   "execution_count": null,
   "metadata": {},
   "outputs": [],
   "source": [
    "for var in ds_a.variables:\n",
    "    print(var)\n",
    "    if 'long_name' in ds_a[var].attrs:\n",
    "        print(f'  {ds_a[var].long_name}')"
   ]
  },
  {
   "cell_type": "code",
   "execution_count": null,
   "metadata": {},
   "outputs": [],
   "source": [
    "ds_m = xr.open_dataset(file_ex_ocn_ctrl, decode_times=False)"
   ]
  },
  {
   "cell_type": "code",
   "execution_count": null,
   "metadata": {},
   "outputs": [],
   "source": [
    "ds_m"
   ]
  },
  {
   "cell_type": "code",
   "execution_count": null,
   "metadata": {},
   "outputs": [],
   "source": [
    "ds_m.MELTH_F.where(MASK>0).plot(vmin=-300)"
   ]
  },
  {
   "cell_type": "code",
   "execution_count": null,
   "metadata": {},
   "outputs": [],
   "source": [
    "latent_heat = (ds_m.EVAP_F[0]*latent_heat_vapor).where(MASK>0)\n",
    "sens_heat   = ds_m.SENH_F[0].where(MASK>0)\n",
    "lw_net      = (ds_m.LWUP_F[0]-ds_m.LWDN_F[0]).where(MASK>0)\n",
    "melt_heat   = ds_m.MELTH_F.where(MASK>0)"
   ]
  },
  {
   "cell_type": "code",
   "execution_count": null,
   "metadata": {},
   "outputs": [],
   "source": [
    "latent_heat.plot()"
   ]
  },
  {
   "cell_type": "code",
   "execution_count": null,
   "metadata": {},
   "outputs": [],
   "source": [
    "sens_heat.plot()"
   ]
  },
  {
   "cell_type": "code",
   "execution_count": null,
   "metadata": {},
   "outputs": [],
   "source": [
    "lw_net.plot()"
   ]
  },
  {
   "cell_type": "code",
   "execution_count": null,
   "metadata": {},
   "outputs": [],
   "source": [
    "(latent_heat+sens_heat+lw_net+melt_heat).plot()"
   ]
  },
  {
   "cell_type": "code",
   "execution_count": null,
   "metadata": {},
   "outputs": [],
   "source": [
    "ds_m.SHF.plot()\n",
    "plt.title('SHF')\n",
    "plt.savefig(f'{path_results}/SHF/ex_SHF')"
   ]
  },
  {
   "cell_type": "code",
   "execution_count": null,
   "metadata": {},
   "outputs": [],
   "source": [
    "sw_net = (ds_m.SHF-(latent_heat+sens_heat+lw_net+melt_heat))"
   ]
  },
  {
   "cell_type": "code",
   "execution_count": null,
   "metadata": {},
   "outputs": [],
   "source": [
    "sw_net.plot(vmin=0)\n",
    "plt.title('SW = SHF - LATENT - SENS - LWnet - MELT')\n",
    "plt.savefig(f'{path_results}/SHF/ex_SW')"
   ]
  },
  {
   "cell_type": "code",
   "execution_count": null,
   "metadata": {},
   "outputs": [],
   "source": [
    "sw_net.where(sw_net<0).plot(vmin=0)"
   ]
  },
  {
   "cell_type": "code",
   "execution_count": null,
   "metadata": {},
   "outputs": [],
   "source": []
  },
  {
   "cell_type": "code",
   "execution_count": null,
   "metadata": {},
   "outputs": [],
   "source": []
  },
  {
   "cell_type": "code",
   "execution_count": null,
   "metadata": {},
   "outputs": [],
   "source": []
  },
  {
   "cell_type": "code",
   "execution_count": null,
   "metadata": {},
   "outputs": [],
   "source": [
    "# example\n",
    "file_ex = next(IterateOutputCESM('ocn_rect', 'ctrl', 'yrly', name='SHF'))[2]\n",
    "ds = xr.open_dataset(file_ex, decode_times=False)\n",
    "ds.SHF.plot()"
   ]
  },
  {
   "cell_type": "code",
   "execution_count": null,
   "metadata": {},
   "outputs": [],
   "source": []
  },
  {
   "cell_type": "code",
   "execution_count": null,
   "metadata": {},
   "outputs": [],
   "source": []
  },
  {
   "cell_type": "code",
   "execution_count": null,
   "metadata": {},
   "outputs": [],
   "source": [
    "# stacking files into one xr Dataset object\n",
    "for run in ['ctrl', 'rcp']:\n",
    "    for i, (y,m,s) in enumerate(IterateOutputCESM('ocn_rect', run, 'yrly', name='SHF')):\n",
    "        ds = xr.open_dataset(s, decode_times=False)\n",
    "        if i==0:\n",
    "            ds_new = ds.copy()\n",
    "        else:\n",
    "            ds_new = xr.concat([ds_new, ds], dim='time')\n",
    "    ds_new.to_netcdf(f'{path_results}/SHF/SHF_yrly_{run}.nc')"
   ]
  },
  {
   "cell_type": "code",
   "execution_count": null,
   "metadata": {},
   "outputs": [],
   "source": [
    "SHF_ctrl = xr.open_dataset(f'{path_results}/SHF/SHF_yrly_ctrl.nc', decode_times=False)\n",
    "SHF_rcp  = xr.open_dataset(f'{path_results}/SHF/SHF_yrly_rcp.nc' , decode_times=False)"
   ]
  },
  {
   "cell_type": "code",
   "execution_count": null,
   "metadata": {},
   "outputs": [],
   "source": [
    "SHF_ctrl"
   ]
  },
  {
   "cell_type": "markdown",
   "metadata": {},
   "source": [
    "# Global time series"
   ]
  },
  {
   "cell_type": "code",
   "execution_count": null,
   "metadata": {},
   "outputs": [],
   "source": [
    "from xr_DataArrays import xr_AREA"
   ]
  },
  {
   "cell_type": "code",
   "execution_count": null,
   "metadata": {},
   "outputs": [],
   "source": [
    "AREA = xr_AREA('ocn_rect')"
   ]
  },
  {
   "cell_type": "code",
   "execution_count": null,
   "metadata": {},
   "outputs": [],
   "source": [
    "# surface integral\n",
    "sec_per_year = 3600*24*365\n",
    "\n",
    "SHF_imbal_ctrl = sec_per_year*(AREA.where(SHF_ctrl.SHF<500)*SHF_ctrl.SHF).sum(dim=['lat', 'lon'])  # [J/year]\n",
    "SHF_imbal_rcp  = sec_per_year*(AREA.where(SHF_rcp.SHF <500)*SHF_rcp.SHF ).sum(dim=['lat', 'lon'])"
   ]
  },
  {
   "cell_type": "code",
   "execution_count": null,
   "metadata": {},
   "outputs": [],
   "source": [
    "fig = plt.figure(figsize=(8,5))\n",
    "plt.tick_params(labelsize=14)\n",
    "plt.plot(SHF_imbal_ctrl/1e21, lw=2, label='CTRL')\n",
    "plt.plot(SHF_imbal_rcp /1e21, lw=2, label='RCP')\n",
    "plt.legend(ncol=3, frameon=False, fontsize=16)\n",
    "plt.ylabel('SHF imbalance [ZJ/year]', fontsize=16)\n",
    "plt.xlabel('time [years]', fontsize=16)\n",
    "plt.tight_layout()\n",
    "plt.savefig(f'{path_results}/SHF/SHF_integrated_imbalance')"
   ]
  },
  {
   "cell_type": "code",
   "execution_count": null,
   "metadata": {},
   "outputs": [],
   "source": [
    "plt.plot(SHF_ctrl.lat[1:]-SHF_ctrl.lat[:-1])\n",
    "len()\n",
    "plt.figure()\n",
    "plt.plot(AREA[:,0])"
   ]
  },
  {
   "cell_type": "markdown",
   "metadata": {},
   "source": [
    "# trends"
   ]
  },
  {
   "cell_type": "code",
   "execution_count": null,
   "metadata": {},
   "outputs": [],
   "source": [
    "SHF_trend_ctrl = xr_linear_trends_2D(SHF_ctrl.SHF[:,:10,:10], ('lat', 'lon'))\n",
    "# produces LinAlg error"
   ]
  },
  {
   "cell_type": "code",
   "execution_count": null,
   "metadata": {},
   "outputs": [],
   "source": [
    "SHF_ctrl"
   ]
  },
  {
   "cell_type": "code",
   "execution_count": null,
   "metadata": {},
   "outputs": [],
   "source": [
    "label = 'Surface heat flux [W/m$^2$]'\n",
    "minv, maxv = -250, 250\n",
    "cmap = 'RdBu_r'\n",
    "filename = f'{path_results}/SHF/SHF_ctrl_mean'\n",
    "\n",
    "f = map_robinson(xr_DataArray=SHF_ctrl.SHF[:,:,:].mean(dim='time'),\n",
    "             cmap=cmap, minv=minv, maxv=maxv, label=label, filename=filename)"
   ]
  },
  {
   "cell_type": "code",
   "execution_count": null,
   "metadata": {},
   "outputs": [],
   "source": [
    "SHF_ctrl_diff = SHF_ctrl.SHF[-30:,:,:].mean(dim='time')-SHF_ctrl.SHF[:30,:,:].mean(dim='time')\n",
    "\n",
    "label = 'Surface heat flux [W/m$^2$]'\n",
    "minv, maxv = -25, 25\n",
    "cmap = 'RdBu_r'\n",
    "filename = f'{path_results}/SHF/SHF_ctrl_last_minus_first_30yrs'\n",
    "\n",
    "f = map_robinson(xr_DataArray=SHF_ctrl_diff,\n",
    "             cmap=cmap, minv=minv, maxv=maxv, label=label, filename=filename)"
   ]
  },
  {
   "cell_type": "code",
   "execution_count": null,
   "metadata": {},
   "outputs": [],
   "source": [
    "SHF_rcp_ctrl = SHF_rcp.SHF[-10:,:,:].mean(dim='time')-SHF_ctrl.SHF[:,:,:].mean(dim='time')\n",
    "\n",
    "label = 'Surface heat flux [W/m$^2$]'\n",
    "minv, maxv = -50, 50\n",
    "cmap = 'RdBu_r'\n",
    "filename = f'{path_results}/SHF/SHF_rcp_last_10_minus_ctrl_avg'\n",
    "\n",
    "f = map_robinson(xr_DataArray=SHF_rcp_ctrl,\n",
    "             cmap=cmap, minv=minv, maxv=maxv, label=label, filename=filename)"
   ]
  },
  {
   "cell_type": "code",
   "execution_count": null,
   "metadata": {},
   "outputs": [],
   "source": []
  },
  {
   "cell_type": "markdown",
   "metadata": {},
   "source": [
    "# Why is the SHF negative"
   ]
  },
  {
   "cell_type": "code",
   "execution_count": null,
   "metadata": {},
   "outputs": [],
   "source": [
    "SHF_rcp.SHF[0,:,:].sum()"
   ]
  },
  {
   "cell_type": "code",
   "execution_count": null,
   "metadata": {},
   "outputs": [],
   "source": [
    "SHF_rcp.SHF[0,:,:].plot()"
   ]
  },
  {
   "cell_type": "code",
   "execution_count": null,
   "metadata": {},
   "outputs": [],
   "source": [
    "from paths import file_ex_ocn_ctrl, file_ex_ocn_rect"
   ]
  },
  {
   "cell_type": "code",
   "execution_count": null,
   "metadata": {},
   "outputs": [],
   "source": [
    "ds_hr = xr.open_dataset(file_ex_ocn_ctrl, decode_times=False)\n",
    "ds_lr = xr.open_dataset(file_ex_ocn_rect, decode_times=False)"
   ]
  },
  {
   "cell_type": "code",
   "execution_count": null,
   "metadata": {},
   "outputs": [],
   "source": [
    "ds_hr"
   ]
  },
  {
   "cell_type": "code",
   "execution_count": null,
   "metadata": {},
   "outputs": [],
   "source": [
    "(ds_hr.SHF*ds_hr.TAREA).sum(dim=('nlat','nlon'))"
   ]
  },
  {
   "cell_type": "code",
   "execution_count": null,
   "metadata": {},
   "outputs": [],
   "source": [
    "ds_hr.SHF.plot()"
   ]
  },
  {
   "cell_type": "code",
   "execution_count": null,
   "metadata": {},
   "outputs": [],
   "source": [
    "ds_lr.SHF.plot()"
   ]
  },
  {
   "cell_type": "code",
   "execution_count": null,
   "metadata": {},
   "outputs": [],
   "source": [
    "ds_hr.PD"
   ]
  },
  {
   "cell_type": "code",
   "execution_count": null,
   "metadata": {},
   "outputs": [],
   "source": []
  }
 ],
 "metadata": {
  "kernelspec": {
   "display_name": "Python 3",
   "language": "python",
   "name": "python3"
  },
  "language_info": {
   "codemirror_mode": {
    "name": "ipython",
    "version": 3
   },
   "file_extension": ".py",
   "mimetype": "text/x-python",
   "name": "python",
   "nbconvert_exporter": "python",
   "pygments_lexer": "ipython3",
   "version": "3.6.7"
  }
 },
 "nbformat": 4,
 "nbformat_minor": 4
}
