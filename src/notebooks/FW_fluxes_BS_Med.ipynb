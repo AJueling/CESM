{
 "cells": [
  {
   "cell_type": "markdown",
   "metadata": {},
   "source": [
    "# Freshwater/Salt Fluxes through Bering Strait and the Strait of Gibraltar\n",
    "Med salt flux can be checked with net SFWF virtual salt flux"
   ]
  },
  {
   "cell_type": "code",
   "execution_count": null,
   "metadata": {},
   "outputs": [],
   "source": [
    "import os\n",
    "import sys\n",
    "sys.path.append(\"..\")\n",
    "import numpy as np\n",
    "import pickle\n",
    "import xarray as xr\n",
    "import cmocean\n",
    "import cartopy\n",
    "import warnings  \n",
    "import cartopy.crs as ccrs\n",
    "import matplotlib\n",
    "import matplotlib.pyplot as plt"
   ]
  },
  {
   "cell_type": "code",
   "execution_count": null,
   "metadata": {},
   "outputs": [],
   "source": [
    "%matplotlib inline\n",
    "matplotlib.rc_file('../rc_file')\n",
    "%config InlineBackend.print_figure_kwargs={'bbox_inches':None}\n",
    "%load_ext autoreload\n",
    "%autoreload 2"
   ]
  },
  {
   "cell_type": "code",
   "execution_count": null,
   "metadata": {},
   "outputs": [],
   "source": [
    "from tqdm import notebook\n",
    "from paths import file_ex_ocn_ctrl, file_ex_ocn_lpd\n",
    "from paths import path_results, path_prace, file_RMASK_ocn, file_RMASK_ocn_low\n",
    "from FW_plots import FW_region_plot, FW_summary_plot\n",
    "from FW_budget import load_obj, lat_bands\n",
    "from constants import rho_sw\n",
    "from timeseries import IterateOutputCESM\n",
    "from FW_transport import calc_section_transport, sections_high, sections_low\n",
    "from xr_DataArrays import xr_AREA, xr_DZ\n",
    "from xr_regression import ocn_field_regression, xr_linear_trend\n",
    "warnings.filterwarnings('ignore')"
   ]
  },
  {
   "cell_type": "code",
   "execution_count": null,
   "metadata": {},
   "outputs": [],
   "source": [
    "dsh = xr.open_dataset(file_ex_ocn_ctrl, decode_times=False)\n",
    "dsl = xr.open_dataset(file_ex_ocn_lpd , decode_times=False)"
   ]
  },
  {
   "cell_type": "markdown",
   "metadata": {},
   "source": [
    "### time series of SALT/volume/FW fluxes "
   ]
  },
  {
   "cell_type": "code",
   "execution_count": null,
   "metadata": {},
   "outputs": [],
   "source": [
    "ds_ctrl = xr.open_mfdataset(f'{path_prace}/Mov/FW_Med_Bering_ctrl_*.nc', concat_dim='time', decode_times=False)\n",
    "ds_rcp  = xr.open_mfdataset(f'{path_prace}/Mov/FW_Med_Bering_rcp_*.nc' , concat_dim='time', decode_times=False)\n",
    "ds_lpd  = xr.open_mfdataset(f'{path_prace}/Mov/FW_Med_Bering_lpd_*.nc' , concat_dim='time', decode_times=False)\n",
    "ds_lr1  = xr.open_mfdataset(f'{path_prace}/Mov/FW_Med_Bering_lr1_*.nc' , concat_dim='time', decode_times=False)"
   ]
  },
  {
   "cell_type": "code",
   "execution_count": null,
   "metadata": {},
   "outputs": [],
   "source": [
    "# into the Arctic Ocean a a volume flux of 0.8~Sv\n",
    "# Mediterranean is a net evaporative basin with a net volume inflow of $\\SI{0.038(7)}{Sv}$\n",
    "# assuming outflow of 0.8 Sv of 38.4 psu and inflow of 36.2 psu = -1.76 kt/s\n",
    "pm = '+/-'\n",
    "f, ax = plt.subplots(2, 3, figsize=(8,5))\n",
    "ax[0,0].scatter(1995, 26, c='k')\n",
    "ax[0,0].errorbar(1995, 26, yerr=3, c='k')\n",
    "ax[0,1].scatter(1995, 0.8, c='k')\n",
    "ax[0,1].errorbar(1995, 0.8, yerr=0.1, c='k')\n",
    "\n",
    "ax[1,0].scatter(1995, -8e5*(38.4-36.2)/1e6, c='k')\n",
    "ax[1,1].scatter(1995, 0.038, c='k')\n",
    "ax[1,1].errorbar(1995, 0.038, yerr=0.007, c='k')\n",
    "for i in range(3):  ax[0,i].set_title(['salt [kt/s]', 'volume [Sv]', 'freshwater [Sv]'][i])\n",
    "print('run            Bering Strait      Gibraltar')\n",
    "for j, ds in enumerate([ds_ctrl, ds_rcp, ds_lpd, ds_lr1]):\n",
    "    run = ['HIGH ctrl', 'HIGH rcp', 'LOW  ctrl', 'LOW  rcp'][j]\n",
    "    time = ds.time.values/365\n",
    "    if j==0: time += 1800\n",
    "    if j==2: time += 1500\n",
    "    for i, sec in enumerate(['BS', 'Med']):\n",
    "        if j==0: ax[i,0].set_ylabel(['Bering Strait', 'Strait of Gibraltar'][i])\n",
    "        ax[i,0].plot(time, ds[f'S_{sec}']/1e6, lw=.5, label=f'{run.upper()}')\n",
    "        ax[i,1].plot(time, ds[f'V_{sec}']/1e6, lw=.5, label=f'{run.upper()}')\n",
    "        ax[i,2].plot(time, ds[f'F_{sec}']/1e6, lw=.5, label=f'{run.upper()}')\n",
    "    for q in ['S', 'V', 'F']:\n",
    "        mBS  = ds[f'{q}_BS'].mean().values/1e6\n",
    "        sBS  = ds[f'{q}_BS'].std().values/1e6\n",
    "        mMed = ds[f'{q}_Med'].mean().values/1e6\n",
    "        sMed = ds[f'{q}_Med'].std().values/1e6\n",
    "        print(f'{run:10} {q}   {mBS:6.3f} {pm} {sBS:5.3f}   {mMed:7.4f} {pm} {sMed:6.4f}')\n",
    "ax[1,1].legend(fontsize=8)\n",
    "f.align_ylabels()\n",
    "plt.savefig(f'{path_results}/Mov/BS_Med_fluxes')"
   ]
  },
  {
   "cell_type": "code",
   "execution_count": null,
   "metadata": {},
   "outputs": [],
   "source": [
    "from xr_regression import xr_linear_trend, xr_lintrend"
   ]
  },
  {
   "cell_type": "code",
   "execution_count": null,
   "metadata": {},
   "outputs": [],
   "source": [
    "??xr_linear_trend\n",
    "??xr_lintrend"
   ]
  },
  {
   "cell_type": "markdown",
   "metadata": {},
   "source": [
    "### geometry of sections"
   ]
  },
  {
   "cell_type": "code",
   "execution_count": null,
   "metadata": {},
   "outputs": [],
   "source": [
    "f, ax = plt.subplots(2,2, figsize=(12,10))\n",
    "for i, sim in enumerate(['HIGH', 'LOW']):\n",
    "    ds = [dsh, dsl][i]\n",
    "    DZ = xr_DZ(['ocn','ocn_low'][i])\n",
    "    d = [sections_high, sections_low][i]\n",
    "    \n",
    "    ds.UES.isel(d['Med']).plot(ax=ax[0,i])\n",
    "    ax[0,i].set_ylim((0,1e5))\n",
    "    ax[0,i].set_title(f'{sim} Med     {(ds.UES*DZ*ds.TAREA).isel(d[\"Med\"]).sum().values/1e4:4.2e} kg/s')\n",
    "    \n",
    "    ds.VNS.isel(d['Bering']).plot(ax=ax[1,i])\n",
    "    ax[1,i].set_ylim((0,6e3))\n",
    "    ax[1,i].set_title(f'{sim} Bering  {(ds.VNS*DZ*ds.TAREA).isel(d[\"Bering\"]).sum().values/1e4:4.2e} kg/s')"
   ]
  },
  {
   "cell_type": "code",
   "execution_count": null,
   "metadata": {},
   "outputs": [],
   "source": [
    "plt.figure(figsize=(4, 3))\n",
    "ax = plt.axes(projection=ccrs.NearsidePerspective(satellite_height=1e6, central_latitude=65, central_longitude=190, globe=None))\n",
    "ax.coastlines(resolution='110m')\n",
    "plt.pcolormesh(dsl.TLONG, dsl.TLAT, dsl.SSH.squeeze(), transform=ccrs.PlateCarree(), cmap='cmo.balance', vmin=-100, vmax=100)\n",
    "ax.gridlines()\n",
    "plt.colorbar()"
   ]
  },
  {
   "cell_type": "code",
   "execution_count": null,
   "metadata": {},
   "outputs": [],
   "source": [
    "plt.figure(figsize=(4, 3))\n",
    "ax = plt.axes(projection=ccrs.Orthographic(central_latitude=65, central_longitude=190))\n",
    "ax.set_extent((170,210,51,75), crs = ccrs.PlateCarree())\n",
    "ax.coastlines(resolution='110m')\n",
    "plt.pcolormesh(dsl.TLONG, dsl.TLAT, dsl.SSH.squeeze(), transform=ccrs.PlateCarree(), cmap='cmo.balance', vmin=-100, vmax=100)\n",
    "ax.gridlines()\n",
    "plt.colorbar()"
   ]
  },
  {
   "cell_type": "code",
   "execution_count": null,
   "metadata": {},
   "outputs": [],
   "source": [
    "def plot_nlat_nlon_boxes(section, ds, ax=None):\n",
    "    \"\"\" draw boundaries around sections \"\"\"\n",
    "    assert type(section)==dict\n",
    "    for q in ['TLONG', 'TLAT', 'ULONG', 'ULAT']:\n",
    "        assert q in ds\n",
    "    if ax==None:  ax = plt.gca()\n",
    "    if type(section['nlon'])==int and type(section['nlat'])==slice:  # meridional section\n",
    "        nlon = section['nlon']\n",
    "        nlat1 = section['nlat'].start\n",
    "        nlat2 = section['nlat'].stop\n",
    "        \n",
    "        lats1 = ds.ULAT .isel(nlon=nlon-1).isel(nlat=slice(nlat1-1,nlat2)).values\n",
    "        lons1 = ds.ULONG.isel(nlon=nlon-1).isel(nlat=slice(nlat1-1,nlat2)).values\n",
    "        lats2 = ds.ULAT .isel(nlon=nlon).isel(nlat=slice(nlat1-1,nlat2)).values\n",
    "        lons2 = ds.ULONG.isel(nlon=nlon).isel(nlat=slice(nlat1-1,nlat2)).values\n",
    "        ax.plot(lons1, lats1, transform=ccrs.PlateCarree(), c='C1')\n",
    "        ax.plot(lons2, lats2, transform=ccrs.PlateCarree(), c='C1')\n",
    "        \n",
    "        lats1 = ds.TLAT .isel(nlon=nlon).isel(nlat=slice(nlat1,nlat2+1)).values\n",
    "        lons1 = ds.TLONG.isel(nlon=nlon).isel(nlat=slice(nlat1,nlat2+1)).values\n",
    "        lats2 = ds.TLAT .isel(nlon=nlon+1).isel(nlat=slice(nlat1,nlat2+1)).values\n",
    "        lons2 = ds.TLONG.isel(nlon=nlon+1).isel(nlat=slice(nlat1,nlat2+1)).values\n",
    "        ax.plot(lons1, lats1, transform=ccrs.PlateCarree(), c='C2')\n",
    "        ax.plot(lons2, lats2, transform=ccrs.PlateCarree(), c='C2')\n",
    "    \n",
    "    elif type(section['nlon'])==slice and type(section['nlat'])==int:  # zonal section\n",
    "        nlon = section['nlon']\n",
    "        nlat1 = section['nlat'].start\n",
    "        nlat2 = section['nlat'].stop\n",
    "        \n",
    "        lats1 = ds.ULAT .isel(nlon=nlon-1).isel(nlat=slice(nlat1-1,nlat2)).values\n",
    "        lons1 = ds.ULONG.isel(nlon=nlon-1).isel(nlat=slice(nlat1-1,nlat2)).values\n",
    "        lats2 = ds.ULAT .isel(nlon=nlon).isel(nlat=slice(nlat1-1,nlat2)).values\n",
    "        lons2 = ds.ULONG.isel(nlon=nlon).isel(nlat=slice(nlat1-1,nlat2)).values\n",
    "        ax.plot(lons1, lats1, transform=ccrs.PlateCarree(), c='C1')\n",
    "        ax.plot(lons2, lats2, transform=ccrs.PlateCarree(), c='C1')\n",
    "        \n",
    "        lats1 = ds.TLAT .isel(nlon=nlon).isel(nlat=slice(nlat1,nlat2+1)).values\n",
    "        lons1 = ds.TLONG.isel(nlon=nlon).isel(nlat=slice(nlat1,nlat2+1)).values\n",
    "        lats2 = ds.TLAT .isel(nlon=nlon+1).isel(nlat=slice(nlat1,nlat2+1)).values\n",
    "        lons2 = ds.TLONG.isel(nlon=nlon+1).isel(nlat=slice(nlat1,nlat2+1)).values\n",
    "        ax.plot(lons1, lats1, transform=ccrs.PlateCarree(), c='C2')\n",
    "        ax.plot(lons2, lats2, transform=ccrs.PlateCarree(), c='C2')\n",
    "        print('')\n",
    "    else:\n",
    "        print('not the right section type')\n",
    "    return"
   ]
  },
  {
   "cell_type": "code",
   "execution_count": null,
   "metadata": {},
   "outputs": [],
   "source": [
    "f = plt.figure(figsize=(8, 5))\n",
    "\n",
    "for i, sim in enumerate(['HIGH', 'LOW']):\n",
    "    ds = [dsh, dsl][i]\n",
    "    d = [sections_high, sections_low][i]\n",
    "    ax = f.add_subplot(1, 2, i+1, projection=ccrs.PlateCarree())\n",
    "    ax.set_extent((-10,5,32,40), crs=ccrs.PlateCarree())\n",
    "    ax.set_position([.03+i*.5,.1,.44,.8])\n",
    "\n",
    "    ax.coastlines(resolution='50m')\n",
    "    ax.pcolormesh(ds.TLONG, ds.TLAT, ds.SSH.where(ds.REGION_MASK>0).squeeze(), transform=ccrs.PlateCarree(), cmap='cmo.balance', vmin=-100, vmax=100)\n",
    "    ax.gridlines()\n",
    "    plot_nlat_nlon_boxes(d['Med'], ds, ax=ax)"
   ]
  },
  {
   "cell_type": "code",
   "execution_count": null,
   "metadata": {},
   "outputs": [],
   "source": [
    "f = plt.figure(figsize=(8, 5))\n",
    "\n",
    "for i, sim in enumerate(['HIGH', 'LOW']):\n",
    "#     if i==1: continue\n",
    "    ds = [dsh, dsl][i]\n",
    "    ax = f.add_subplot(1, 2, i+1, projection=ccrs.PlateCarree())\n",
    "    ax.set_extent((-7,-5,35.5,36.5), crs=ccrs.PlateCarree())\n",
    "    ax.set_position([.03+i*.5,.1,.44,.8])\n",
    "\n",
    "    ax.coastlines(resolution='50m')\n",
    "    ax.pcolormesh(ds.ULONG, ds.ULAT, ds.VVEL.isel(z_t=0).where(ds.REGION_MASK>0).squeeze(), transform=ccrs.PlateCarree(), cmap='cmo.balance', vmin=-100, vmax=100)\n",
    "    ax.gridlines()\n",
    "    if i==0:\n",
    "        plot_nlat_nlon_boxes(hdict['Med'], dsh, ax=ax)\n",
    "        plot_nlat_nlon_boxes({'nlon':1042, 'nlat':slice(1555,1559)}, dsh, ax=ax)\n",
    "    if i==1:\n",
    "        plot_nlat_nlon_boxes(ldict['Med'], dsl, ax=ax)\n",
    "        ax.scatter(lons, lats, transform=ccrs.PlateCarree(), c='k')\n",
    "        plot_nlat_nlon_boxes({'nlon':32, 'nlat':slice(290,295)}, dsl, ax=ax)"
   ]
  },
  {
   "cell_type": "code",
   "execution_count": null,
   "metadata": {},
   "outputs": [],
   "source": [
    "dsh.SSH"
   ]
  },
  {
   "cell_type": "code",
   "execution_count": null,
   "metadata": {},
   "outputs": [],
   "source": [
    "plt.figure(figsize=(4, 3))\n",
    "ax = plt.axes(projection=ccrs.Orthographic(central_latitude=35, central_longitude=-5))\n",
    "ax.set_extent((-10,5,32,40), crs = ccrs.PlateCarree())\n",
    "ax.coastlines(resolution='50m')\n",
    "# plt.pcolormesh(dsl.TLONG, dsl.TLAT, dsl.SSH.squeeze(), transform=ccrs.PlateCarree(), cmap='cmo.balance', vmin=-100, vmax=100)\n",
    "plt.pcolormesh(dsh.TLONG, dsh.TLAT, dsh.SSH.squeeze(), transform=ccrs.PlateCarree(), cmap='cmo.balance', vmin=-100, vmax=100)\n",
    "ax.gridlines()\n",
    "plt.colorbar()\n",
    "plot_nlat_nlon_boxes(ldict['Med'], dsl, ax=ax)"
   ]
  },
  {
   "cell_type": "code",
   "execution_count": null,
   "metadata": {},
   "outputs": [],
   "source": [
    "plt.figure(figsize=(4, 3))\n",
    "ax = plt.axes(projection=ccrs.Orthographic(central_latitude=35, central_longitude=-5))\n",
    "ax.set_extent((-10,3,32,40), crs = ccrs.PlateCarree())\n",
    "ax.coastlines(resolution='110m')\n",
    "plt.pcolormesh(dsl.TLONG, dsl.TLAT, dsl.VVEL.isel(z_t=0).squeeze(), transform=ccrs.PlateCarree(), cmap='cmo.balance', vmin=-10, vmax=10)\n",
    "ax.gridlines()\n",
    "plt.colorbar()"
   ]
  },
  {
   "cell_type": "code",
   "execution_count": null,
   "metadata": {},
   "outputs": [],
   "source": [
    "plt.figure(figsize=(4, 3))\n",
    "ax = plt.axes(projection=ccrs.NearsidePerspective(satellite_height=1e6, central_latitude=65, central_longitude=190))\n",
    "ax.coastlines(resolution='110m')\n",
    "plt.pcolormesh(dsl.TLONG, dsl.TLAT, dsl.SSH.squeeze(), transform=ccrs.PlateCarree(), cmap='cmo.balance')\n",
    "ax.gridlines()\n",
    "plt.colorbar()"
   ]
  },
  {
   "cell_type": "code",
   "execution_count": null,
   "metadata": {},
   "outputs": [],
   "source": [
    "plt.figure(figsize=(4, 3))\n",
    "ax = plt.axes(projection=ccrs.NearsidePerspective(satellite_height=1e6, central_latitude=65, central_longitude=190))\n",
    "ax.coastlines(resolution='110m')\n",
    "plt.pcolormesh(dsl.TLONG, dsl.TLAT, dsl.SSH.squeeze(), transform=ccrs.PlateCarree(), cmap='cmo.balance')\n",
    "ax.gridlines()\n",
    "plt.colorbar()\n",
    "plt.figure(figsize=(4, 3))\n",
    "ax = plt.axes(projection=ccrs.NearsidePerspective(satellite_height=1e6, central_latitude=65, central_longitude=190))\n",
    "ax.coastlines(resolution='110m')\n",
    "plt.pcolormesh(dsh.TLONG, dsh.TLAT, dsh.SSH.squeeze(), transform=ccrs.PlateCarree(), cmap='cmo.balance')\n",
    "ax.gridlines()\n",
    "plt.colorbar()"
   ]
  },
  {
   "cell_type": "code",
   "execution_count": null,
   "metadata": {},
   "outputs": [],
   "source": [
    "proj = ccrs.PlateCarree(central_longitude=190)\n",
    "plt.figure(figsize=(4, 3))\n",
    "ax = plt.axes(projection=proj)\n",
    "ax.set_extent(())\n",
    "ax.coastlines(resolution='110m')\n",
    "plt.pcolormesh(dsl.TLONG, dsl.TLAT, dsl.SSH.squeeze(), transform=ccrs.PlateCarree(), cmap='cmo.balance')\n",
    "ax.gridlines()\n",
    "plt.colorbar()\n",
    "plt.figure(figsize=(4, 3))\n",
    "ax = plt.axes(projection=proj)\n",
    "ax.coastlines(resolution='110m')\n",
    "plt.pcolormesh(dsh.TLONG, dsh.TLAT, dsh.SSH.squeeze(), transform=ccrs.PlateCarree(), cmap='cmo.balance')\n",
    "ax.gridlines()\n",
    "plt.colorbar()"
   ]
  },
  {
   "cell_type": "code",
   "execution_count": null,
   "metadata": {},
   "outputs": [],
   "source": [
    "f'{(3e4*3600*24*365)/2.5e12:e} m/yr'"
   ]
  },
  {
   "cell_type": "code",
   "execution_count": null,
   "metadata": {},
   "outputs": [],
   "source": [
    "da_UES  = xr.open_dataset(f'{path_prace}/ctrl/ocn_yrly_UES_0202.nc' , decode_times=False)"
   ]
  },
  {
   "cell_type": "code",
   "execution_count": null,
   "metadata": {},
   "outputs": [],
   "source": [
    "da_UES"
   ]
  },
  {
   "cell_type": "code",
   "execution_count": null,
   "metadata": {},
   "outputs": [],
   "source": [
    "ds_ = ds.isel({'nlon': slice(191, 203, None), 'nlat': slice(335,337), 'z_t':0})"
   ]
  },
  {
   "cell_type": "code",
   "execution_count": null,
   "metadata": {},
   "outputs": [],
   "source": [
    "ds_.SALT.values.flatten()"
   ]
  },
  {
   "cell_type": "code",
   "execution_count": null,
   "metadata": {},
   "outputs": [],
   "source": [
    "ds_.TLAT.values"
   ]
  },
  {
   "cell_type": "code",
   "execution_count": null,
   "metadata": {},
   "outputs": [],
   "source": [
    "im1 = plt.scatter(x=ds_.TLONG.values.flatten(), y=ds_.TLAT.values.flatten(), c=ds_.SALT.values.flatten(), cmap='cmo.haline')\n",
    "im2 = plt.scatter(x=ds_.ULONG.values.flatten(), y=ds_.ULAT.values.flatten(), c=ds_.VVEL.values.flatten(), cmap='RdBu_r', marker='s', vmin=-40,vmax=40)\n",
    "plt.colorbar()"
   ]
  }
 ],
 "metadata": {
  "kernelspec": {
   "display_name": "Python 3",
   "language": "python",
   "name": "python3"
  },
  "language_info": {
   "codemirror_mode": {
    "name": "ipython",
    "version": 3
   },
   "file_extension": ".py",
   "mimetype": "text/x-python",
   "name": "python",
   "nbconvert_exporter": "python",
   "pygments_lexer": "ipython3",
   "version": "3.7.6"
  }
 },
 "nbformat": 4,
 "nbformat_minor": 4
}
