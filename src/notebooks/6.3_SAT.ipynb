{
 "cells": [
  {
   "cell_type": "markdown",
   "metadata": {},
   "source": [
    "# Thesis Chapter 6.3: Surface Air Temperature Response"
   ]
  },
  {
   "cell_type": "code",
   "execution_count": null,
   "metadata": {},
   "outputs": [],
   "source": [
    "import os\n",
    "import sys\n",
    "import numpy as np\n",
    "import xesmf as xe\n",
    "import xarray as xr\n",
    "import cmocean\n",
    "import cartopy\n",
    "import scipy.stats as stats\n",
    "import cartopy.crs as ccrs\n",
    "import datetime\n",
    "import matplotlib as mpl\n",
    "import matplotlib.pyplot as plt"
   ]
  },
  {
   "cell_type": "code",
   "execution_count": null,
   "metadata": {},
   "outputs": [],
   "source": [
    "%matplotlib inline\n",
    "mpl.rc_file('../rc_file')\n",
    "%config InlineBackend.print_figure_kwargs={'bbox_inches':None}\n",
    "%load_ext autoreload\n",
    "%autoreload 2"
   ]
  },
  {
   "cell_type": "code",
   "execution_count": null,
   "metadata": {
    "tags": []
   },
   "outputs": [],
   "source": [
    "sys.path.append(\"..\")\n",
    "from tqdm import notebook\n",
    "from paths import path_results, path_prace, CESM_filename, file_ex_atm_lpd\n",
    "from filters import lowpass\n",
    "from constants import spy\n",
    "from constants import R_earth\n",
    "from xr_regression import xr_linear_trend, xr_lintrend, xr_2D_trends\n",
    "A_Earth = 4*np.pi*R_earth**2"
   ]
  },
  {
   "cell_type": "markdown",
   "metadata": {},
   "source": [
    "### surface temperature trend\n",
    "originally in `GMST.ipynb`"
   ]
  },
  {
   "cell_type": "code",
   "execution_count": null,
   "metadata": {},
   "outputs": [],
   "source": [
    "%%time\n",
    "kw = {'combine':'nested', 'concat_dim':'time', 'decode_times':False}\n",
    "T_ctrl = xr.open_mfdataset(f'{path_prace}/ctrl/atm_yrly_T_0*.nc', **kw)['T'][:,-1,:,:].mean('time')  # 200-230\n",
    "T_lpd5 = xr.open_mfdataset(f'{path_prace}/lpd/atm_yrly_T_05*.nc', **kw)['T'][:,-1,:,:].mean('time')  # 500-530\n",
    "T_lpd1 = xr.open_mfdataset(f'{path_prace}/lpd/atm_yrly_T_1*.nc' , **kw)['T'][:,-1,:,:].mean('time')  # 1190-1220\n",
    "T_rcp  = xr.open_mfdataset(f'{path_prace}/rcp/atm_yrly_T_T850_U_V_2*.nc', **kw)['T'][:100,-1,:,:]\n",
    "T_lr1  = xr.open_mfdataset(f'{path_prace}/lr1/atm_yrly_T_T850_U_V_2*.nc', **kw)['T'][:100,-1,:,:]\n",
    "T_hq   = xr.open_mfdataset(f'{path_prace}/hq/atm_yrly_T_T850_U_V_2*.nc' , **kw)['T'][:,-1,:,:]\n",
    "T_lq   = xr.open_mfdataset(f'{path_prace}/lq/atm_yrly_T_T850_U_V_2*.nc' , **kw)['T'][:51,-1,:,:]\n",
    "\n"
   ]
  },
  {
   "cell_type": "code",
   "execution_count": null,
   "metadata": {},
   "outputs": [],
   "source": [
    "regridder = xe.Regridder(T_rcp, T_lr1, 'bilinear', reuse_weights=True)"
   ]
  },
  {
   "cell_type": "markdown",
   "metadata": {},
   "source": [
    "AMOC collapses in `lq`?"
   ]
  },
  {
   "cell_type": "code",
   "execution_count": null,
   "metadata": {},
   "outputs": [],
   "source": [
    "%%time\n",
    "(xr_2D_trends(xr.open_mfdataset(f'{path_prace}/lq/atm_yrly_T_T850_U_V_2*.nc', **kw)['T'][:,-1,:,:])*100*365).plot(label='SAT trend [K/100yr]')\n",
    "plt.title('SAT trend low res quadrupling')"
   ]
  },
  {
   "cell_type": "markdown",
   "metadata": {},
   "source": [
    "#### meridional SAT trend"
   ]
  },
  {
   "cell_type": "code",
   "execution_count": null,
   "metadata": {},
   "outputs": [],
   "source": [
    "T_rcp_low = regridder(T_rcp).assign_coords({'time':T_lr1.time})\n",
    "T_hq_low  = regridder(T_hq) .assign_coords({'time':T_lq .time})\n",
    "T_rcp_zm = (T_rcp.mean('lon')-T_ctrl.mean('lon'))\n",
    "T_lr1_zm = (T_lr1.mean('lon')-T_lpd5.mean('lon'))\n",
    "T_hq_zm  = (T_hq .mean('lon')-T_ctrl.mean('lon'))\n",
    "T_lq_zm  = (T_lq .mean('lon')-T_lpd1.mean('lon'))\n",
    "T_rdiff_zm = ((T_rcp_low-T_lr1).mean('lon')-(T_rcp_low-T_lr1).isel(time=slice(0,10)).mean(['lon','time']))\n",
    "T_qdiff_zm = ((T_hq_low -T_lq ).mean('lon')-(T_hq_low -T_lq ).isel(time=slice(0,10)).mean(['lon','time']))"
   ]
  },
  {
   "cell_type": "code",
   "execution_count": null,
   "metadata": {},
   "outputs": [],
   "source": [
    "X1, Y1 = np.meshgrid(T_rcp.lat, T_rcp.time/365+2000)\n",
    "X2, Y2 = np.meshgrid(T_lr1.lat, T_lr1.time/365+2000)\n",
    "X3, Y3 = np.meshgrid(T_hq .lat, T_hq .time/365+2000)\n",
    "X4, Y4 = np.meshgrid(T_lq .lat, T_lq .time/365+2000)"
   ]
  },
  {
   "cell_type": "code",
   "execution_count": null,
   "metadata": {},
   "outputs": [],
   "source": [
    "letters = 'abcdefg'\n",
    "for i in range(3):\n",
    "    print(letters[2*i], letters[2*i+1])"
   ]
  },
  {
   "cell_type": "code",
   "execution_count": null,
   "metadata": {},
   "outputs": [],
   "source": [
    "x, y, z = np.random.random((3, 30))\n",
    "z = z * 20 + 0.1\n",
    "fig, ax = plt.subplots()\n",
    "cax = ax.scatter(x, y, c=z, s=100, cmap=plt.get_cmap('cmo.curl',20), vmin=0.1, vmax=z.max())\n",
    "fig.colorbar(cax, extend='min')\n",
    "\n",
    "plt.show()"
   ]
  },
  {
   "cell_type": "code",
   "execution_count": null,
   "metadata": {},
   "outputs": [],
   "source": [
    "%%time\n",
    "kw1 = {'vmin':-16, 'vmax':16, 'cmap':'cmo.balance'}  # plt.get_cmap('cmo.balance',32)}\n",
    "kw2 = {'vmin':-5, 'vmax':5, 'cmap':'cmo.curl'}       # plt.get_cmap('cmo.curl',20)}\n",
    "\n",
    "f = plt.figure(figsize=(6.4,8))\n",
    "\n",
    "ascii\n",
    "# Hovmoeller diagrams\n",
    "for i in range(3):\n",
    "    # ax_rcp = f.add_axes([.11,.75-i*.23,.58,.21])\n",
    "    ax_rcp = f.add_axes([.12+i*.3,.6,.27,.36])\n",
    "    ax_rcp.set_title(['HIGH', 'LOW', 'HIGH-LOW'][i])\n",
    "    (X, Y, kw) = [(X1,Y1,kw1),(X2,Y2,kw1),(X2,Y2,kw2)][i]\n",
    "    q = [T_rcp_zm, T_lr1_zm, T_rdiff_zm][i]\n",
    "    im = ax_rcp.pcolormesh(X, Y, q, **kw)\n",
    "    ax_rcp.set_yticks(np.arange(2000,2101,25))\n",
    "    if i==0:   ax_rcp.set_yticklabels(np.arange(2000,2101,25))\n",
    "    else:      ax_rcp.set_yticklabels([])\n",
    "    ax_rcp.set_xticklabels([])\n",
    "    ax_rcp.text(.01, .95, '('+letters[2*i]+')', transform=ax_rcp.transAxes)\n",
    "\n",
    "    ax_q = f.add_axes([.12+i*.3,.4,.27,.18])\n",
    "    ax_q.set_xlabel('latitude')\n",
    "    (X, Y, kw) = [(X3,Y3,kw1),(X4,Y4,kw1),(X4,Y4,kw2)][i]\n",
    "    q = [T_hq_zm, T_lq_zm, T_qdiff_zm][i]\n",
    "    ax_q.pcolormesh(X, Y, q, **kw)\n",
    "    ax_q.set_xticks(np.arange(-90,91,30))\n",
    "    ax_q.set_yticks(np.arange(2000,2051,25))\n",
    "    if i==0:   ax_q.set_yticklabels(np.arange(2000,2051,25))\n",
    "    else:      ax_q.set_yticklabels([])\n",
    "    ax_q.text(.01, .9, '('+letters[2*i+1]+')', transform=ax_q.transAxes)\n",
    "\n",
    "    for j, ax in enumerate([ax_rcp,ax_q]):\n",
    "        if i==0:\n",
    "            ax.set_ylabel(['RCP',r'$4\\times\\mathrm{CO}_2$'][j]+'\\n[model year]')\n",
    "    \n",
    "    if i==0:\n",
    "        cax = f.add_axes([.12,.32,.57,.02])\n",
    "        label = r'$\\Delta$SAT$=$SAT$-$SAT$_{\\langle CTRL \\rangle}$  [K]'\n",
    "        cbar = plt.colorbar(im, cax=cax, orientation='horizontal', label=label, ticks=np.arange(-16,17,4))\n",
    "    if i==2:\n",
    "        cax = f.add_axes([.72,.32,.27,.02])\n",
    "        label = r'$\\Delta$SAT$_{\\mathrm{HIGH}}$$-\\Delta$SAT$_{\\mathrm{LOW}}$  [K]'\n",
    "        cbar = plt.colorbar(im, cax=cax, orientation='horizontal', label=label, ticks=np.arange(-4,5,2))\n",
    "\n",
    "# last decade - CTRL\n",
    "ax = f.add_axes([.25,.05,.57,.20])\n",
    "ax.set_xticks(np.arange(-90,91,30))\n",
    "ax.set_xlabel('latitude')\n",
    "ax.set_ylabel(r'$\\Delta$SAT$_{\\langle\\mathrm{last\\,decade}\\rangle}$  [K]')\n",
    "\n",
    "kw = {'time':slice(-11,-1)}\n",
    "ax.plot(T_rcp.lat, T_rcp_zm.isel(**kw).mean('time'), ls='-' , c='C0', label='HIGH RCP'  )\n",
    "ax.plot(T_lr1.lat, T_lr1_zm.isel(**kw).mean('time'), ls='--', c='C0', label='LOW RCP'   )\n",
    "ax.plot(T_hq .lat, T_hq_zm .isel(**kw).mean('time'), ls='-' , c='C1', label='HIGH 4xCO2')\n",
    "ax.plot(T_lq .lat, T_lq_zm .isel(**kw).mean('time'), ls='--', c='C1', label='LOW 4xCO2' )\n",
    "ax.set_yticks(np.arange(2,17,2))\n",
    "ax.legend(ncol=2, fontsize=8, loc=9)\n",
    "ax.text(.01, .9, '(g)', transform=ax.transAxes)\n",
    "\n",
    "plt.savefig(f'{path_results}/thesis/63_SAT_zonal')"
   ]
  },
  {
   "cell_type": "code",
   "execution_count": null,
   "metadata": {},
   "outputs": [],
   "source": []
  },
  {
   "cell_type": "code",
   "execution_count": null,
   "metadata": {},
   "outputs": [],
   "source": []
  },
  {
   "cell_type": "code",
   "execution_count": null,
   "metadata": {},
   "outputs": [],
   "source": [
    "%%time\n",
    "#21.1 s\n",
    "f, ax = plt.subplots(3, 2, figsize=(6.4,6), sharex='col', sharey=True,\n",
    "                     gridspec_kw={'width_ratios':[2,1]}, constrained_layout=True)\n",
    "kw1 = {'vmin':-15, 'vmax':15, 'cmap':'cmo.balance'}\n",
    "kw2 = {'vmin':-5, 'vmax':5, 'cmap':'cmo.curl'}\n",
    "X1, Y1 = np.meshgrid(T_rcp.time/365+2000, T_rcp.lat)\n",
    "X2, Y2 = np.meshgrid(T_lr1.time/365+2000, T_lr1.lat)\n",
    "X3, Y3 = np.meshgrid(T_hq .time/365+2000, T_hq .lat)\n",
    "X4, Y4 = np.meshgrid(T_lq .time/365+2000, T_lq .lat)\n",
    "\n",
    "ax[0,0].pcolormesh(X1, Y1, T_rcp_zm  , **kw1)\n",
    "ax[0,1].pcolormesh(X3, Y3, T_hq_zm   , **kw1)\n",
    "ax[1,0].pcolormesh(X2, Y2, T_lr1_zm  , **kw1)\n",
    "ax[1,1].pcolormesh(X4, Y4, T_lq_zm   , **kw1)\n",
    "ax[2,0].pcolormesh(X2, Y2, T_rdiff_zm, **kw2)\n",
    "ax[2,1].pcolormesh(X4, Y4, T_qdiff_zm, **kw2)\n",
    "ax[0,0].set_ylabel('HIGH')\n",
    "ax[1,0].set_ylabel('LOW')\n",
    "ax[2,0].set_ylabel('HIGH - LOW')\n",
    "ax[0,0].set_title('RCP')\n",
    "ax[0,1].set_title('4xCO2')\n",
    "ax[2,0].set_xlim(2000,2100)\n",
    "ax[2,1].set_xlim(2000,2050)\n",
    "for i in range(3):\n",
    "    ax[i,0].set_yticks(np.arange(-90,91,30))\n"
   ]
  },
  {
   "cell_type": "code",
   "execution_count": null,
   "metadata": {},
   "outputs": [],
   "source": [
    "plt.plot(T_rcp.lat, xr_linear_trend(T_rcp.mean('lon'))*365*100, ls='-' , c='C0', label='HIGH RCP'  )\n",
    "plt.plot(T_lr1.lat, xr_linear_trend(T_lr1.mean('lon'))*365*100, ls='--', c='C0', label='LOW RCP'   )\n",
    "plt.plot(T_hq .lat, xr_linear_trend(T_hq .mean('lon'))*365*100, ls='-' , c='C1', label='HIGH 4xCO2')\n",
    "plt.plot(T_lq .lat, xr_linear_trend(T_lq .mean('lon'))*365*100, ls='--', c='C1', label='LOW 4xCO2' )\n",
    "plt.legend(ncol=2)\n",
    "plt.ylabel('linear trends [K/100yr]')\n",
    "plt.xlabel('latitude')"
   ]
  },
  {
   "cell_type": "code",
   "execution_count": null,
   "metadata": {},
   "outputs": [],
   "source": [
    "plt.plot(T_rcp.lat, (T_rcp.isel(time=slice(-11,-1)).mean('time')-T_ctrl.mean('lon'), ls='-' , c='C0', label='HIGH RCP'  )\n",
    "plt.plot(T_lr1.lat, (T_lr1.isel(time=slice(-11,-1)).mean('time')-T_lpd5.mean('lon'), ls='--', c='C0', label='LOW RCP'   )\n",
    "plt.plot(T_hq .lat, (T_hq .isel(time=slice(-11,-1)).mean('time')-T_ctrl.mean('lon'), ls='-' , c='C1', label='HIGH 4xCO2')\n",
    "plt.plot(T_lq .lat, (T_lq .isel(time=slice(-11,-1)).mean('time')-T_lpd1.mean('lon'), ls='--', c='C1', label='LOW 4xCO2' )\n",
    "plt.legend(ncol=2)\n",
    "plt.ylabel('(last decade)-CTRL [K]')\n",
    "plt.xlabel('latitude')"
   ]
  },
  {
   "cell_type": "markdown",
   "metadata": {},
   "source": [
    "The LOW 4xCO2 Arctic warms dramatically despite near AMOC collapse (much steeper gradient), that could mean, atmospheric heat flux much greater, or local feedbacks much stronger."
   ]
  },
  {
   "cell_type": "markdown",
   "metadata": {},
   "source": [
    "## maps of SAT trends / difference"
   ]
  },
  {
   "cell_type": "code",
   "execution_count": null,
   "metadata": {},
   "outputs": [],
   "source": [
    "T_rcp_diff = regridder(T_rcp.isel(time=slice(-11,-1)).mean('time')-T_ctrl)\n",
    "T_lr1_diff = T_lr1.isel(time=slice(-11,-1)).mean('time')-T_lpd5\n",
    "T_hq_diff  = regridder(T_hq .isel(time=slice(-11,-1)).mean('time')-T_ctrl)\n",
    "T_lq_diff  = T_lq .isel(time=slice(-11,-1)).mean('time')-T_lpd1\n",
    "\n",
    "T_rcp_trend = (xr_2D_trends(T_rcp)*100*365)\n",
    "T_lr1_trend = (xr_2D_trends(T_lr1)*100*365)\n",
    "T_hq_trend  = (xr_2D_trends(T_hq )*100*365)\n",
    "T_lq_trend  = (xr_2D_trends(T_lq )*100*365)"
   ]
  },
  {
   "cell_type": "code",
   "execution_count": null,
   "metadata": {},
   "outputs": [],
   "source": [
    "letters = 'abcdef'\n",
    "f = plt.figure(figsize=(8,3.2))\n",
    "for i in range(3):\n",
    "    for j in range(2):\n",
    "        ax = f.add_axes([.03+i*.32,.55-j*.42,.31,.4], projection=ccrs.PlateCarree())\n",
    "        ax.coastlines(lw=.5)\n",
    "        ax.text(.01,.9, '('+letters[i+j*3]+')', transform=ax.transAxes)\n",
    "\n",
    "        # ax.set_xticks([])\n",
    "        # ax.set_yticks([])\n",
    "        if j==0:\n",
    "            ax.set_title('something')\n",
    "        if i==0:\n",
    "            ax.set_ylabel('something')\n",
    "        if i==0 and j==0:\n",
    "            print('now')\n",
    "            cax = f.add_axes([.03,.06,.63,.04])\n",
    "            cax = f.add_axes([.67,.06,.31,.04])"
   ]
  },
  {
   "cell_type": "code",
   "execution_count": null,
   "metadata": {},
   "outputs": [],
   "source": [
    "%%time\n",
    "X, Y = np.meshgrid(T_lr1.lon, T_lr1.lat)\n",
    "\n",
    "def comparison_maps(xa_list, kw1, kw2, label1=None, label2=None, fn=None):\n",
    "    \"\"\" makes 2x3 maps comparing HIGH/LOW RCP/4xCO2 runs\"\"\"\n",
    "    f = plt.figure(figsize=(8,3.2))\n",
    "    for i, run in enumerate(['HIGH','LOW','HIGH-LOW']):\n",
    "        for j, scenario in enumerate(['RCP', '4xCO2']):\n",
    "            if i!=1 and j is not in [1,2]:  continue\n",
    "            xa = xa_list[j][i]\n",
    "            ax = f.add_axes([.03+i*.32,.55-j*.42,.31,.4], projection=ccrs.PlateCarree())\n",
    "            if j==0:  ax.set_title(run)\n",
    "            if i==0:  ax.text(-.1,.5, scenario, transform=ax.transAxes, va='center')\n",
    "            # ax.set_ylabel(scenario)\n",
    "            if i<2:  kw = kw1\n",
    "            else:    kw = kw2\n",
    "\n",
    "            im = ax.pcolormesh(X, Y, xa, **kw)\n",
    "            ax.coastlines(lw=.5)\n",
    "            ax.text(.01,.9, '('+letters[i+j*3]+')', transform=ax.transAxes)\n",
    "            if i==0 and j==0:\n",
    "                cax = f.add_axes([.03,.06,.63,.04])\n",
    "                plt.colorbar(im, cax=cax, orientation='horizontal', label=label1)\n",
    "            if i==0 and j==0:\n",
    "                cax = f.add_axes([.67,.06,.31,.04])\n",
    "                plt.colorbar(im, cax=cax, orientation='horizontal', label=label2)\n",
    "            if fn is not None:\n",
    "                plt.savefig(fn)\n",
    "    return\n",
    "\n",
    "# comparison_maps()\n",
    "\n",
    "xa_list = [[T_rcp_diff, T_lr1_diff, T_rcp_diff - T_lr1_diff],\n",
    "           [T_hq_diff , T_lq_diff , T_hq_diff  - T_lq_diff ]]\n",
    "kw1 = {'vmin':-16, 'vmax':16, 'cmap':'cmo.balance'}\n",
    "kw2 = {'vmin':-5, 'vmax':5, 'cmap':'cmo.curl'}\n",
    "label = 'temperature difference [K]'\n",
    "fn = f'{path_results}/thesis/63_dSAT_maps'\n",
    "comparison_maps(xa_list, kw1, kw2, labal1=label, label2=label, fn=fn)\n",
    "\n",
    "# xa_list = [[T_rcp_trend, T_lr1_trend, regridder(T_rcp_trend) - T_lr1_trend],\n",
    "#            [T_hq_trend, T_lq_trend, regridder(T_hq_trend) - T_lq_trend]]\n",
    "# kw1 = {'vmin':-15, 'vmax':15, 'cmap':'cmo.balance'}\n",
    "# kw2 = {'vmin':-5, 'vmax':5, 'cmap':'cmo.curl'}\n",
    "# label = 'temperature trend [K/100yr]'\n",
    "# comparison_maps(xa_list, kw1, kw2, label, label)\n",
    "# plt.savefig(f'{path_results}/thesis/63_trendSAT_maps')\n"
   ]
  },
  {
   "cell_type": "code",
   "execution_count": null,
   "metadata": {},
   "outputs": [],
   "source": []
  }
 ],
 "metadata": {
  "kernelspec": {
   "display_name": "Python 3",
   "language": "python",
   "name": "python3"
  },
  "language_info": {
   "codemirror_mode": {
    "name": "ipython",
    "version": 3
   },
   "file_extension": ".py",
   "mimetype": "text/x-python",
   "name": "python",
   "nbconvert_exporter": "python",
   "pygments_lexer": "ipython3",
   "version": "3.7.6-final"
  }
 },
 "nbformat": 4,
 "nbformat_minor": 4
}
