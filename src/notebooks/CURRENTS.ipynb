{
 "cells": [
  {
   "cell_type": "code",
   "execution_count": null,
   "metadata": {},
   "outputs": [],
   "source": [
    "import sys\n",
    "sys.path.append(\"..\")"
   ]
  },
  {
   "cell_type": "code",
   "execution_count": null,
   "metadata": {},
   "outputs": [],
   "source": [
    "import numpy as np\n",
    "import xarray as xr\n",
    "import cartopy\n",
    "import cartopy.crs as ccrs\n",
    "import seaborn as sns\n",
    "import matplotlib as mpl\n",
    "\n",
    "import matplotlib.pyplot as plt"
   ]
  },
  {
   "cell_type": "code",
   "execution_count": null,
   "metadata": {},
   "outputs": [],
   "source": [
    "%matplotlib inline\n",
    "%config InlineBackend.print_figure_kwargs={'bbox_inches':None}\n",
    "%load_ext autoreload\n",
    "%autoreload 2"
   ]
  },
  {
   "cell_type": "code",
   "execution_count": null,
   "metadata": {},
   "outputs": [],
   "source": [
    "from paths import file_ex_ocn_ctrl, path_results\n",
    "from timeseries import IterateOutputCESM\n",
    "from xr_regression import xr_linear_trend"
   ]
  },
  {
   "cell_type": "code",
   "execution_count": null,
   "metadata": {},
   "outputs": [],
   "source": [
    "ds = xr.open_dataset(file_ex_ocn_ctrl, decode_times=False)"
   ]
  },
  {
   "cell_type": "code",
   "execution_count": null,
   "metadata": {},
   "outputs": [],
   "source": [
    "from maps import map_ocn_robinson"
   ]
  },
  {
   "cell_type": "code",
   "execution_count": null,
   "metadata": {},
   "outputs": [],
   "source": [
    "ds.UVEL[0,0,:,:]"
   ]
  },
  {
   "cell_type": "code",
   "execution_count": null,
   "metadata": {},
   "outputs": [],
   "source": [
    "da = ds.UVEL[0,0,:,:].where(ds.REGION_MASK>0)\n",
    "cmap = 'RdBu'\n",
    "minv, maxv = -50, 50\n",
    "label= 'zonal velocity component [cm/s]'\n",
    "filename = f'{path_results}/CURRENTS/UVEL_global_map'\n",
    "map_ocn_robinson(da, cmap=cmap, minv=minv, maxv=maxv, label=label, filename=filename)"
   ]
  },
  {
   "cell_type": "code",
   "execution_count": null,
   "metadata": {},
   "outputs": [],
   "source": [
    "fig = plt.figure(figsize=(8,5))\n",
    "ax  = fig.add_subplot(1, 2, 1, projection=ccrs.PlateCarree())\n",
    "ax.set_position([.02,.05,.66,.88])\n",
    "cax, kw = mpl.colorbar.make_axes(ax,location='bottom',pad=0.03,shrink=0.8)\n",
    "im = ax.pcolormesh(ds.TLONG[550:800,1700:1900],\n",
    "                   ds.TLAT[550:800,1700:1900],\n",
    "                   ds.UVEL[0,0,550:800,1700:1900],\n",
    "                   cmap='RdBu',\n",
    "                   vmin=-50, vmax=50,\n",
    "                   transform=ccrs.PlateCarree() )\n",
    "ax.coastlines()\n",
    "ax.plot([70,70],[-48,-38], c='g', lw=3)\n",
    "gl = ax.gridlines(crs=ccrs.PlateCarree(), draw_labels=True,\n",
    "                  linewidth=2, color='gray', alpha=0.5, linestyle='--')\n",
    "gl.xlabels_bottom = False\n",
    "gl.ylabels_right = False\n",
    "gl.xlabel_style = {'size': 14}\n",
    "gl.ylabel_style = {'size': 14}\n",
    "# gl.xlabel_style = {'color': 'red', 'weight': 'bold'}\n",
    "\n",
    "cbar = fig.colorbar(im, cax=cax, extend='both', **kw)\n",
    "cbar.ax.tick_params(labelsize=14)\n",
    "label = cbar.set_label('zonal velocity [cm/s]', size=16)\n",
    "\n",
    "ax2 = fig.add_subplot(1, 2, 2)\n",
    "ax2.set_position([.68,.21,.3,.72])\n",
    "ax2.tick_params(labelsize=14)\n",
    "ax2.set_xlabel('UVEL @ transect', fontsize=16)\n",
    "ax2.axvline(0, c='k', lw=.5)\n",
    "ax2.plot(ds.UVEL[0,0,630:770,1800], ds.TLAT[630:770,1800], label='snapshot')\n",
    "ax2.plot(jet_ctrl[:,:].mean(dim='time'), jet_ctrl.TLAT, lw=3, label='mean')\n",
    "ax2.legend()\n",
    "ax2.set_xticks(np.arange(-25,76,25))\n",
    "\n",
    "plt.savefig(f'{path_results}/CURRENTS/UVEL_Kerguelen_detail')"
   ]
  },
  {
   "cell_type": "code",
   "execution_count": null,
   "metadata": {},
   "outputs": [],
   "source": []
  },
  {
   "cell_type": "markdown",
   "metadata": {},
   "source": [
    "## Hovmoeller diagram"
   ]
  },
  {
   "cell_type": "code",
   "execution_count": null,
   "metadata": {},
   "outputs": [],
   "source": [
    "# %%time\n",
    "# for run in ['ctrl', 'rcp']:\n",
    "#     for y, m, file in IterateOutputCESM(domain='ocn', run=run, tavg='monthly'):\n",
    "#         ds = xr.open_dataset(file, decode_times=False)\n",
    "#         if m==1 and y==IterateOutputCESM(domain='ocn', run=run, tavg='monthly').year:\n",
    "#             ds_new = ds.UVEL[0,0,630:770,1800]\n",
    "#         else:\n",
    "#             ds_new = xr.concat([ds_new, ds.UVEL[0,0,630:770,1800]], dim='time')\n",
    "#     ds_new.to_netcdf(path=f'{path_results}/currents/Kerguelen_jet_{run}.nc', mode='w')"
   ]
  },
  {
   "cell_type": "code",
   "execution_count": null,
   "metadata": {},
   "outputs": [],
   "source": [
    "jet_ctrl = xr.open_dataarray(f'{path_results}/CURRENTS/Kerguelen_jet_ctrl.nc', decode_times=False)\n",
    "jet_rcp  = xr.open_dataarray(f'{path_results}/CURRENTS/Kerguelen_jet_rcp.nc' , decode_times=False)"
   ]
  },
  {
   "cell_type": "code",
   "execution_count": null,
   "metadata": {},
   "outputs": [],
   "source": [
    "jet_ctrl"
   ]
  },
  {
   "cell_type": "code",
   "execution_count": null,
   "metadata": {},
   "outputs": [],
   "source": [
    "jet_rcp.rolling(time=12, center=True).mean().plot()"
   ]
  },
  {
   "cell_type": "code",
   "execution_count": null,
   "metadata": {},
   "outputs": [],
   "source": [
    "jet_ctrl_mean = jet_ctrl.rolling(time=120, center=True).mean()\n",
    "jet_rcp_mean  = jet_rcp.rolling( time=120, center=True).mean()"
   ]
  },
  {
   "cell_type": "code",
   "execution_count": null,
   "metadata": {},
   "outputs": [],
   "source": [
    "f, ax = plt.subplots(1, 2, figsize=(8,5), sharey=True)\n",
    "\n",
    "ax[0].set_position([.1,.13,.4,.85])\n",
    "ax[1].set_position([.55,.13,.4,.85])\n",
    "\n",
    "\n",
    "cax, kw = mpl.colorbar.make_axes(ax[1],location='right',pad=0.03,shrink=0.9)\n",
    "\n",
    "im = ax[0].pcolormesh(jet_ctrl_mean.time/365,\n",
    "                 jet_ctrl_mean.ULAT,\n",
    "                 jet_ctrl_mean.values.T)\n",
    "ax[1].pcolormesh(jet_rcp_mean.time/365,\n",
    "                 jet_rcp_mean.ULAT,\n",
    "                 jet_rcp_mean.values.T)\n",
    "\n",
    "cbar = fig.colorbar(im, cax=cax, extend='both', **kw)\n",
    "cbar.ax.tick_params(labelsize=14)\n",
    "label = cbar.set_label('zonal velocity [cm/s]', size=16)\n",
    "\n",
    "ax[0].set_ylabel('latitude', fontsize=16)\n",
    "for i in range(2):\n",
    "    ax[i].tick_params(labelsize=14)\n",
    "    ax[i].set_xlabel('time [model years]', fontsize=16)\n",
    "# plt.tight_layout()\n",
    "plt.savefig(f'{path_results}/CURRENTS/Kerguelen_jet_Hovmoeller')"
   ]
  },
  {
   "cell_type": "code",
   "execution_count": null,
   "metadata": {},
   "outputs": [],
   "source": [
    "from xr_regression import xr_linear_trend"
   ]
  },
  {
   "cell_type": "code",
   "execution_count": null,
   "metadata": {},
   "outputs": [],
   "source": [
    "jet_ctrl"
   ]
  },
  {
   "cell_type": "code",
   "execution_count": null,
   "metadata": {},
   "outputs": [],
   "source": [
    "jet_trend_rcp = xr_linear_trend(jet_rcp)"
   ]
  },
  {
   "cell_type": "code",
   "execution_count": null,
   "metadata": {},
   "outputs": [],
   "source": [
    "# for t in range(len(jet_ctrl.time)):\n",
    "#     plt.plot(jet_ctrl[t,:], jet_ctrl.TLAT, c='k', alpha=.5)\n",
    "# plt.plot(jet_ctrl[:,:].mean(dim='time'), jet_ctrl.TLAT, lw=3)\n",
    "fig = plt.figure(figsize=(8,5))\n",
    "\n"
   ]
  },
  {
   "cell_type": "markdown",
   "metadata": {},
   "source": [
    "# Trends"
   ]
  },
  {
   "cell_type": "code",
   "execution_count": null,
   "metadata": {},
   "outputs": [],
   "source": [
    "f, ax = plt.subplots(1, 2, figsize=(8,5))\n",
    "\n",
    "ax[0].tick_params(labelsize=14)\n",
    "ax[0].plot(jet_ctrl[:,:].mean(dim='time'), jet_ctrl.TLAT, lw=2, label='CTRL')\n",
    "ax[0].plot(jet_rcp[:,:].mean(dim='time') , jet_rcp.TLAT , lw=2, label='RCP')\n",
    "# ax[0].plot(jet_rcp[0:120,:].mean(dim='time')  , jet_rcp.TLAT, lw=3, ls='--')\n",
    "# ax[0].plot(jet_rcp[-121:-1,:].mean(dim='time'), jet_rcp.TLAT, lw=3, ls='--')\n",
    "ax[0].set_ylabel('latitude [deg N]', fontsize=16)\n",
    "ax[0].set_xlabel('mean UVEL [cm/s]')\n",
    "ax[0].legend(fontsize=16)\n",
    "\n",
    "ax[1].tick_params(labelsize=14)\n",
    "ax[1].axvline(0, c='k', lw=.5)\n",
    "ax[1].plot(100*365*xr_linear_trend(jet_ctrl), jet_ctrl.TLAT, lw=2, label='CTRL')\n",
    "ax[1].plot(100*365*xr_linear_trend(jet_rcp) , jet_rcp.TLAT , lw=2, label='RCP')\n",
    "ax[1].set_xlabel('UVEL trend [cm/s/century]', fontsize=16)\n",
    "\n",
    "plt.tight_layout()\n",
    "plt.savefig(f'{path_results}/CURRENTS/Kerguelen_jet_UVEL_trends')"
   ]
  },
  {
   "cell_type": "code",
   "execution_count": null,
   "metadata": {},
   "outputs": [],
   "source": []
  }
 ],
 "metadata": {
  "kernelspec": {
   "display_name": "Python 3",
   "language": "python",
   "name": "python3"
  },
  "language_info": {
   "codemirror_mode": {
    "name": "ipython",
    "version": 3
   },
   "file_extension": ".py",
   "mimetype": "text/x-python",
   "name": "python",
   "nbconvert_exporter": "python",
   "pygments_lexer": "ipython3",
   "version": "3.6.6"
  }
 },
 "nbformat": 4,
 "nbformat_minor": 2
}
