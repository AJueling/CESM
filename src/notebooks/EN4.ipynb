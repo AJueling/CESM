{
 "cells": [
  {
   "cell_type": "markdown",
   "metadata": {},
   "source": [
    "# Exploring and regridding the EN4 Salinity dataset\n",
    "downloaded 11.2.2020 from https://www.metoffice.gov.uk/hadobs/en4/download-en4-2-1.html\n",
    "via download.txt, then unzipped, downloaded 2020.12 manually"
   ]
  },
  {
   "cell_type": "code",
   "execution_count": null,
   "metadata": {},
   "outputs": [],
   "source": [
    "import sys\n",
    "import dask\n",
    "import xesmf as xe\n",
    "import numpy as np\n",
    "import xarray as xr\n",
    "import cartopy.crs as ccrs\n",
    "import matplotlib\n",
    "import matplotlib.pyplot as plt"
   ]
  },
  {
   "cell_type": "code",
   "execution_count": null,
   "metadata": {},
   "outputs": [],
   "source": [
    "%matplotlib inline\n",
    "matplotlib.rc_file('../rc_file')\n",
    "%config InlineBackend.print_figure_kwargs={'bbox_inches':None}\n",
    "%load_ext autoreload\n",
    "%autoreload 2"
   ]
  },
  {
   "cell_type": "code",
   "execution_count": null,
   "metadata": {},
   "outputs": [],
   "source": [
    "# %%time\n",
    "# %cd /projects/0/prace_imau/prace_2013081679/andre/EN4\n",
    "# !pwd\n",
    "# !wget -i download.txt\n",
    "# for y in np.arange(1990,2020):\n",
    "#     !unzip EN.4.2.1.analyses.g10.{y}.zip\n",
    "#     !rm EN.4.2.1.analyses.g10.{y}.zip"
   ]
  },
  {
   "cell_type": "code",
   "execution_count": null,
   "metadata": {},
   "outputs": [],
   "source": [
    "sys.path.append('..')\n",
    "from paths import path_prace, file_ex_ocn_ctrl, file_ex_ocn_lpd"
   ]
  },
  {
   "cell_type": "code",
   "execution_count": null,
   "metadata": {},
   "outputs": [],
   "source": [
    "do = xr.open_dataset(file_ex_ocn_ctrl, decode_times=False)\n",
    "dl = xr.open_dataset(file_ex_ocn_lpd, decode_times=False)"
   ]
  },
  {
   "cell_type": "code",
   "execution_count": null,
   "metadata": {},
   "outputs": [],
   "source": [
    "# da = xr.open_mfdataset(f'{path_prace}/EN4/EN.4.2.1.f.analysis.g10.*.nc', chunks={'depth':42})\n",
    "# da_mean = da.mean(dim='time').compute()\n",
    "# da_mean.to_netcdf(f'{path_prace}/EN4/EN4_mean.nc')\n",
    "da_mean = xr.open_dataset(f'{path_prace}/EN4/EN4_mean.nc')"
   ]
  },
  {
   "cell_type": "code",
   "execution_count": null,
   "metadata": {},
   "outputs": [],
   "source": [
    "X, Y = np.meshgrid(da_mean.lon, da_mean.lat)\n",
    "plt.contourf(X, Y, da_mean.salinity.isel(depth=0), vmin=30, vmax=40, levels=40)\n",
    "plt.colorbar()\n",
    "plt.title(r'EN4 surface salinity')\n",
    "plt.xlabel(r'longitude [$^\\circ$E]')\n",
    "plt.ylabel(r'latitude [$^\\circ$N]')"
   ]
  },
  {
   "cell_type": "code",
   "execution_count": null,
   "metadata": {},
   "outputs": [],
   "source": [
    "X, Y = np.meshgrid(da_mean.lat, -da_mean.depth/1e3)\n",
    "im = plt.contourf(X, Y, da_mean.salinity.sel(lon=330), vmin=34, vmax=37.5, levels=28)\n",
    "plt.colorbar(im)\n",
    "plt.title(r'EN4 transect 30$^\\circ$W')\n",
    "plt.xlabel(r'latitude [$^\\circ$N]')\n",
    "plt.ylabel('depth [km]')"
   ]
  },
  {
   "cell_type": "code",
   "execution_count": null,
   "metadata": {},
   "outputs": [],
   "source": [
    "X, Y = np.meshgrid(da_mean.lon, -da_mean.depth/1e3)\n",
    "plt.contourf(X, Y, da_mean.salinity.sel(lat=-34), vmin=34, vmax=37.5, levels=28)\n",
    "plt.colorbar()\n",
    "plt.title(r'EN4 transect 34$^\\circ$S')\n",
    "plt.xlabel(r'latitude [$^\\circ$E]')\n",
    "plt.ylabel('depth [km]')"
   ]
  },
  {
   "cell_type": "code",
   "execution_count": null,
   "metadata": {},
   "outputs": [],
   "source": [
    "plt.title('depths')\n",
    "plt.plot(np.arange(42), da_mean.depth)\n",
    "plt.plot(np.arange(42), do.z_t/1e2)"
   ]
  },
  {
   "cell_type": "markdown",
   "metadata": {},
   "source": [
    "### interpolating to high and low res CESM ocean grids\n",
    "1. rectangular 1x1 grid of EN4 to high res grid\n",
    "2. interpolate along depth to high and low res depth coordinates"
   ]
  },
  {
   "cell_type": "code",
   "execution_count": null,
   "metadata": {},
   "outputs": [],
   "source": [
    "da_mean"
   ]
  },
  {
   "cell_type": "code",
   "execution_count": null,
   "metadata": {},
   "outputs": [],
   "source": []
  },
  {
   "cell_type": "code",
   "execution_count": null,
   "metadata": {},
   "outputs": [],
   "source": [
    "# adding lat/lon bounds\n",
    "da_mean = da_mean.assign_coords({'lon':da.lon-.5})\n",
    "da_mean = da_mean.assign_coords({'lat':da.lat+.5})\n",
    "da_mean = da_mean.assign_coords({'lon_b':np.arange(0,361)})\n",
    "da_mean = da_mean.assign_coords({'lat_b':np.arange(-83,91)})"
   ]
  },
  {
   "cell_type": "markdown",
   "metadata": {},
   "source": [
    "### horizontal interpolation"
   ]
  },
  {
   "cell_type": "code",
   "execution_count": null,
   "metadata": {},
   "outputs": [],
   "source": [
    "%%time\n",
    "# 1x1 to high; 3min 52s\n",
    "regridder_high = xe.Regridder(da_mean.salinity, do.SALT.rename({'TLAT':'lat','TLONG':'lon'}), 'bilinear', periodic=True)\n",
    "# 1x1 to low; 3.84 s\n",
    "regridder_low = xe.Regridder(da_mean.salinity, dl.SALT.rename({'TLAT':'lat','TLONG':'lon'}), 'bilinear', periodic=True)"
   ]
  },
  {
   "cell_type": "code",
   "execution_count": null,
   "metadata": {},
   "outputs": [],
   "source": [
    "%%time\n",
    "# high: 26.6 s\n",
    "# low 21.3 s\n",
    "da_mean_salt_high = regridder_high(da_mean.salinity).rename({'lat':'TLAT', 'lon':'TLONG'})\n",
    "da_mean_salt_low  = regridder_low (da_mean.salinity).rename({'lat':'TLAT', 'lon':'TLONG'})"
   ]
  },
  {
   "cell_type": "code",
   "execution_count": null,
   "metadata": {},
   "outputs": [],
   "source": [
    "%%time\n",
    "# high: 26.6 s\n",
    "# low 21.3 s\n",
    "da_mean_temp_high = regridder_high(da_mean.temperature).rename({'lat':'TLAT', 'lon':'TLONG'})\n",
    "da_mean_temp_low  = regridder_low (da_mean.temperature).rename({'lat':'TLAT', 'lon':'TLONG'})"
   ]
  },
  {
   "cell_type": "markdown",
   "metadata": {},
   "source": [
    "### vertical interpolation"
   ]
  },
  {
   "cell_type": "code",
   "execution_count": null,
   "metadata": {},
   "outputs": [],
   "source": [
    "%%time\n",
    "# 16.9 s\n",
    "salinity_high = da_mean_salt_high.interp(depth=do.z_t/1e2)\n",
    "salinity_low  = da_mean_salt_low .interp(depth=dl.z_t/1e2)\n",
    "salinity_high.values[0,:,:] = da_mean_salt_high.isel(depth=0).values\n",
    "salinity_low .values[0,:,:] = da_mean_salt_low .isel(depth=0).values\n",
    "salinity_high.values[-3,:,:] = da_mean_salt_high.isel(depth=-1).values\n",
    "salinity_low .values[-1,:,:] = da_mean_salt_low .isel(depth=-1).values"
   ]
  },
  {
   "cell_type": "code",
   "execution_count": null,
   "metadata": {},
   "outputs": [],
   "source": [
    "%%time\n",
    "# 16.9 s\n",
    "temp_high = da_mean_temp_high.interp(depth=do.z_t/1e2)\n",
    "temp_low  = da_mean_temp_low .interp(depth=dl.z_t/1e2)\n",
    "temp_high.values[0,:,:]  = da_mean_temp_high.isel(depth=0).values\n",
    "temp_low .values[0,:,:]  = da_mean_temp_low .isel(depth=0).values\n",
    "temp_high.values[-3,:,:] = da_mean_temp_high.isel(depth=-1).values\n",
    "temp_low .values[-1,:,:] = da_mean_temp_low .isel(depth=-1).values"
   ]
  },
  {
   "cell_type": "code",
   "execution_count": null,
   "metadata": {},
   "outputs": [],
   "source": [
    "salinity_high.to_netcdf(f'{path_prace}/EN4/EN4_mean_salinity_high.nc')\n",
    "salinity_low .to_netcdf(f'{path_prace}/EN4/EN4_mean_salinity_low.nc' )"
   ]
  },
  {
   "cell_type": "code",
   "execution_count": null,
   "metadata": {},
   "outputs": [],
   "source": [
    "(temp_high-273.15).to_netcdf(f'{path_prace}/EN4/EN4_mean_temperature_high.nc')\n",
    "(temp_low -273.15).to_netcdf(f'{path_prace}/EN4/EN4_mean_temperature_low.nc' )"
   ]
  },
  {
   "cell_type": "markdown",
   "metadata": {},
   "source": [
    "### inspecting fields"
   ]
  },
  {
   "cell_type": "code",
   "execution_count": null,
   "metadata": {},
   "outputs": [],
   "source": [
    "da_mean_temp_low.isel(depth=0).plot()"
   ]
  },
  {
   "cell_type": "code",
   "execution_count": null,
   "metadata": {},
   "outputs": [],
   "source": [
    "da_mean_salt_low.isel(depth=0).plot()"
   ]
  },
  {
   "cell_type": "code",
   "execution_count": null,
   "metadata": {},
   "outputs": [],
   "source": [
    "da_mean_salt_high.isel(depth=0).plot()"
   ]
  },
  {
   "cell_type": "code",
   "execution_count": null,
   "metadata": {},
   "outputs": [],
   "source": [
    "f = plt.figure()\n",
    "ax = f.add_subplot(111, projection=ccrs.PlateCarree(central_longitude=0))\n",
    "ax.pcolormesh(dl.TLONG, dl.TLAT, da_mean_salt_low.where(dl.REGION_MASK>0).isel(depth=0),\n",
    "               transform=ccrs.PlateCarree(), vmin=33, vmax=38)"
   ]
  },
  {
   "cell_type": "code",
   "execution_count": null,
   "metadata": {},
   "outputs": [],
   "source": [
    "f = plt.figure()\n",
    "ax = f.add_subplot(111, projection=ccrs.PlateCarree(central_longitude=0))\n",
    "ax.pcolormesh(do.TLONG, do.TLAT, da_mean_salt_high.where(do.REGION_MASK>0).isel(depth=0),\n",
    "               transform=ccrs.PlateCarree(), vmin=33, vmax=38)"
   ]
  },
  {
   "cell_type": "code",
   "execution_count": null,
   "metadata": {},
   "outputs": [],
   "source": [
    "plt.figure(figsize=(12,1))\n",
    "plt.scatter(da_mean.depth, [0]*42, marker='|')\n",
    "plt.scatter(dl.z_t/1e2   , [1]*60, marker='|')\n",
    "plt.scatter(do.z_t/1e2   , [2]*42, marker='|')\n",
    "plt.xlim(-10,6000)\n",
    "# plt.xlim(-1,6)"
   ]
  },
  {
   "cell_type": "markdown",
   "metadata": {},
   "source": [
    "### comparing a vertical profile"
   ]
  },
  {
   "cell_type": "code",
   "execution_count": null,
   "metadata": {},
   "outputs": [],
   "source": [
    "profile = da_mean.salinity.sel({'lat':30, 'lon':330}, method='nearest')\n",
    "profile_high = profile.interp(depth=do.z_t/1e2)\n",
    "profile_low = profile.interp(depth=dl.z_t/1e2)"
   ]
  },
  {
   "cell_type": "code",
   "execution_count": null,
   "metadata": {},
   "outputs": [],
   "source": [
    "plt.scatter(profile, -profile.depth/1e3, marker='x', s=10)\n",
    "plt.scatter(profile_high+.1, -profile_high.depth/1e3, marker='x', s=10)\n",
    "plt.scatter(profile_low+.2, -profile_low.depth/1e3, marker='x', s=10)\n",
    "\n",
    "plt.scatter(salinity_high.sel(nlon=800, nlat=1500)+.3, -salinity_high.z_t/1e5)\n",
    "# plt.scatter(salinity_low.sel(nlon=800, nlat=1500)+.3, -salinity_low.z_t/1e5)\n",
    "# plt.scatter(da_mean.salinity.sel({'lat':30, 'lon':330}, method='nearest'), -da_mean.depth/1e3, marker='x', s=10)"
   ]
  }
 ],
 "metadata": {
  "kernelspec": {
   "display_name": "Python 3",
   "language": "python",
   "name": "python3"
  },
  "language_info": {
   "codemirror_mode": {
    "name": "ipython",
    "version": 3
   },
   "file_extension": ".py",
   "mimetype": "text/x-python",
   "name": "python",
   "nbconvert_exporter": "python",
   "pygments_lexer": "ipython3",
   "version": "3.6.7"
  }
 },
 "nbformat": 4,
 "nbformat_minor": 4
}
