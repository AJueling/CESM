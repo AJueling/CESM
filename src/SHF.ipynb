{
 "cells": [
  {
   "cell_type": "code",
   "execution_count": null,
   "metadata": {},
   "outputs": [],
   "source": [
    "! which python"
   ]
  },
  {
   "cell_type": "code",
   "execution_count": null,
   "metadata": {},
   "outputs": [],
   "source": [
    "# import pickle\n",
    "import sys\n",
    "sys.path.append(\"..\")\n",
    "import scipy as sp\n",
    "import numpy as np\n",
    "import xarray as xr\n",
    "import seaborn as sns\n",
    "import cartopy\n",
    "import cartopy.crs as ccrs\n",
    "import matplotlib.pyplot as plt\n",
    "import matplotlib.patches as mpatches"
   ]
  },
  {
   "cell_type": "code",
   "execution_count": null,
   "metadata": {},
   "outputs": [],
   "source": [
    "%matplotlib inline\n",
    "%config InlineBackend.print_figure_kwargs={'bbox_inches':None}\n",
    "%load_ext autoreload\n",
    "%autoreload 2\n",
    "%aimport - numpy - scipy - matplotlib.pyplot"
   ]
  },
  {
   "cell_type": "code",
   "execution_count": null,
   "metadata": {},
   "outputs": [],
   "source": [
    "from timeseries import IterateOutputCESM\n",
    "from paths import path_results\n",
    "from xr_regression import xr_linear_trends_2D\n",
    "from maps import map_robinson"
   ]
  },
  {
   "cell_type": "code",
   "execution_count": null,
   "metadata": {},
   "outputs": [],
   "source": [
    "# example\n",
    "file_ex = next(IterateOutputCESM('ocn_rect', 'ctrl', 'yrly', name='SHF'))[2]\n",
    "ds = xr.open_dataset(file_ex, decode_times=False)\n",
    "ds.SHF.plot()"
   ]
  },
  {
   "cell_type": "code",
   "execution_count": null,
   "metadata": {},
   "outputs": [],
   "source": [
    "# stacking files into one xr Dataset object\n",
    "for run in ['ctrl', 'rcp']:\n",
    "    for i, (y,m,s) in enumerate(IterateOutputCESM('ocn_rect', run, 'yrly', name='SHF')):\n",
    "        ds = xr.open_dataset(s, decode_times=False)\n",
    "        if i==0:\n",
    "            ds_new = ds.copy()\n",
    "        else:\n",
    "            ds_new = xr.concat([ds_new, ds], dim='time')\n",
    "    ds_new.to_netcdf(f'{path_results}/SHF/SHF_yrly_{run}.nc')"
   ]
  },
  {
   "cell_type": "code",
   "execution_count": null,
   "metadata": {},
   "outputs": [],
   "source": [
    "SHF_ctrl = xr.open_dataset(f'{path_results}/SHF/SHF_yrly_ctrl.nc', decode_times=False)\n",
    "SHF_rcp  = xr.open_dataset(f'{path_results}/SHF/SHF_yrly_rcp.nc' , decode_times=False)"
   ]
  },
  {
   "cell_type": "code",
   "execution_count": null,
   "metadata": {},
   "outputs": [],
   "source": [
    "SHF_ctrl"
   ]
  },
  {
   "cell_type": "code",
   "execution_count": null,
   "metadata": {},
   "outputs": [],
   "source": [
    "SHF_ctrl.SHF[0,0,0]<0"
   ]
  },
  {
   "cell_type": "markdown",
   "metadata": {},
   "source": [
    "# Global time series"
   ]
  },
  {
   "cell_type": "code",
   "execution_count": null,
   "metadata": {},
   "outputs": [],
   "source": [
    "from xr_DataArrays import generate_xr_AREA"
   ]
  },
  {
   "cell_type": "code",
   "execution_count": null,
   "metadata": {},
   "outputs": [],
   "source": [
    "AREA = generate_xr_AREA('ocn_rect')"
   ]
  },
  {
   "cell_type": "code",
   "execution_count": null,
   "metadata": {},
   "outputs": [],
   "source": [
    "AREA.plot()"
   ]
  },
  {
   "cell_type": "code",
   "execution_count": null,
   "metadata": {},
   "outputs": [],
   "source": [
    "# surface integral\n",
    "sec_per_year = 3600*24*365\n",
    "\n",
    "SHF_imbal_ctrl = sec_per_year*(AREA.where(SHF_ctrl.SHF<500)*SHF_ctrl.SHF).sum(dim=['lat', 'lon'])  # [J/year]\n",
    "SHF_imbal_rcp  = sec_per_year*(AREA.where(SHF_rcp.SHF <500)*SHF_rcp.SHF ).sum(dim=['lat', 'lon'])"
   ]
  },
  {
   "cell_type": "code",
   "execution_count": null,
   "metadata": {},
   "outputs": [],
   "source": [
    "fig = plt.figure(figsize=(8,5))\n",
    "plt.tick_params(labelsize=14)\n",
    "plt.plot(SHF_imbal_ctrl/1e21, lw=2, label='CTRL')\n",
    "plt.plot(SHF_imbal_rcp /1e21, lw=2, label='RCP')\n",
    "plt.legend(ncol=3, frameon=False, fontsize=16)\n",
    "plt.ylabel('SHF imbalance [ZJ/year]', fontsize=16)\n",
    "plt.xlabel('time [years]', fontsize=16)\n",
    "plt.tight_layout()\n",
    "plt.savefig(f'{path_results}/SHF/SHF_integrated_imbalance')"
   ]
  },
  {
   "cell_type": "code",
   "execution_count": null,
   "metadata": {},
   "outputs": [],
   "source": [
    "plt.plot(SHF_ctrl.lat[1:]-SHF_ctrl.lat[:-1])\n",
    "len()\n",
    "plt.figure()\n",
    "plt.plot(AREA[:,0])"
   ]
  },
  {
   "cell_type": "markdown",
   "metadata": {},
   "source": [
    "# trends"
   ]
  },
  {
   "cell_type": "code",
   "execution_count": null,
   "metadata": {},
   "outputs": [],
   "source": [
    "SHF_trend_ctrl = xr_linear_trends_2D(SHF_ctrl.SHF[:,:10,:10], ('lat', 'lon'))\n",
    "# produces LinAlg error"
   ]
  },
  {
   "cell_type": "code",
   "execution_count": null,
   "metadata": {},
   "outputs": [],
   "source": [
    "SHF_ctrl"
   ]
  },
  {
   "cell_type": "code",
   "execution_count": null,
   "metadata": {},
   "outputs": [],
   "source": [
    "label = 'Surface heat flux [W/m$^2$]'\n",
    "minv, maxv = -250, 250\n",
    "cmap = 'RdBu_r'\n",
    "filename = f'{path_results}/SHF/SHF_ctrl_mean'\n",
    "\n",
    "f = map_robinson(xr_DataArray=SHF_ctrl.SHF[:,:,:].mean(dim='time'),\n",
    "             cmap=cmap, minv=minv, maxv=maxv, label=label, filename=filename)"
   ]
  },
  {
   "cell_type": "code",
   "execution_count": null,
   "metadata": {},
   "outputs": [],
   "source": [
    "SHF_ctrl_diff = SHF_ctrl.SHF[-30:,:,:].mean(dim='time')-SHF_ctrl.SHF[:30,:,:].mean(dim='time')\n",
    "\n",
    "label = 'Surface heat flux [W/m$^2$]'\n",
    "minv, maxv = -25, 25\n",
    "cmap = 'RdBu_r'\n",
    "filename = f'{path_results}/SHF/SHF_ctrl_last_minus_first_30yrs'\n",
    "\n",
    "f = map_robinson(xr_DataArray=SHF_ctrl_diff,\n",
    "             cmap=cmap, minv=minv, maxv=maxv, label=label, filename=filename)"
   ]
  },
  {
   "cell_type": "code",
   "execution_count": null,
   "metadata": {},
   "outputs": [],
   "source": [
    "SHF_rcp_ctrl = SHF_rcp.SHF[-10:,:,:].mean(dim='time')-SHF_ctrl.SHF[:,:,:].mean(dim='time')\n",
    "\n",
    "label = 'Surface heat flux [W/m$^2$]'\n",
    "minv, maxv = -50, 50\n",
    "cmap = 'RdBu_r'\n",
    "filename = f'{path_results}/SHF/SHF_rcp_last_10_minus_ctrl_avg'\n",
    "\n",
    "f = map_robinson(xr_DataArray=SHF_rcp_ctrl,\n",
    "             cmap=cmap, minv=minv, maxv=maxv, label=label, filename=filename)"
   ]
  },
  {
   "cell_type": "code",
   "execution_count": null,
   "metadata": {},
   "outputs": [],
   "source": []
  },
  {
   "cell_type": "markdown",
   "metadata": {},
   "source": [
    "# Why is the SHF negative"
   ]
  },
  {
   "cell_type": "code",
   "execution_count": null,
   "metadata": {},
   "outputs": [],
   "source": [
    "SHF_rcp.SHF[0,:,:].sum()"
   ]
  },
  {
   "cell_type": "code",
   "execution_count": null,
   "metadata": {},
   "outputs": [],
   "source": [
    "SHF_rcp.SHF[0,:,:].plot()"
   ]
  },
  {
   "cell_type": "code",
   "execution_count": null,
   "metadata": {},
   "outputs": [],
   "source": [
    "from paths import file_ex_ocn_ctrl, file_ex_ocn_rect"
   ]
  },
  {
   "cell_type": "code",
   "execution_count": null,
   "metadata": {},
   "outputs": [],
   "source": [
    "ds_hr = xr.open_dataset(file_ex_ocn_ctrl, decode_times=False)\n",
    "ds_lr = xr.open_dataset(file_ex_ocn_rect, decode_times=False)"
   ]
  },
  {
   "cell_type": "code",
   "execution_count": null,
   "metadata": {},
   "outputs": [],
   "source": [
    "ds_hr"
   ]
  },
  {
   "cell_type": "code",
   "execution_count": null,
   "metadata": {},
   "outputs": [],
   "source": [
    "(ds_hr.SHF*ds_hr.TAREA).sum(dim=('nlat','nlon'))"
   ]
  },
  {
   "cell_type": "code",
   "execution_count": null,
   "metadata": {},
   "outputs": [],
   "source": [
    "ds_hr.SHF.plot()"
   ]
  },
  {
   "cell_type": "code",
   "execution_count": null,
   "metadata": {},
   "outputs": [],
   "source": [
    "ds_lr.SHF.plot()"
   ]
  },
  {
   "cell_type": "code",
   "execution_count": null,
   "metadata": {},
   "outputs": [],
   "source": [
    "ds_hr.PD"
   ]
  },
  {
   "cell_type": "code",
   "execution_count": null,
   "metadata": {},
   "outputs": [],
   "source": []
  }
 ],
 "metadata": {
  "kernelspec": {
   "display_name": "Python 3",
   "language": "python",
   "name": "python3"
  },
  "language_info": {
   "codemirror_mode": {
    "name": "ipython",
    "version": 3
   },
   "file_extension": ".py",
   "mimetype": "text/x-python",
   "name": "python",
   "nbconvert_exporter": "python",
   "pygments_lexer": "ipython3",
   "version": "3.6.6"
  }
 },
 "nbformat": 4,
 "nbformat_minor": 2
}
