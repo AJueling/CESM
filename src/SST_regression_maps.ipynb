{
 "cells": [
  {
   "cell_type": "markdown",
   "metadata": {},
   "source": [
    "# SST regression maps"
   ]
  },
  {
   "cell_type": "code",
   "execution_count": null,
   "metadata": {},
   "outputs": [],
   "source": [
    "import sys\n",
    "sys.path.append(\"..\")\n",
    "import scipy as sp\n",
    "import numpy as np\n",
    "import xarray as xr\n",
    "import seaborn as sns\n",
    "import cmocean\n",
    "import cartopy\n",
    "import cartopy.crs as ccrs\n",
    "import matplotlib as mpl\n",
    "import matplotlib.pyplot as plt\n",
    "import matplotlib.patches as mpatches"
   ]
  },
  {
   "cell_type": "code",
   "execution_count": null,
   "metadata": {},
   "outputs": [],
   "source": [
    "%matplotlib inline\n",
    "%config InlineBackend.print_figure_kwargs={'bbox_inches':None}\n",
    "%load_ext autoreload\n",
    "%autoreload 2\n",
    "%aimport - numpy - scipy - matplotlib.pyplot"
   ]
  },
  {
   "cell_type": "code",
   "execution_count": null,
   "metadata": {},
   "outputs": [],
   "source": [
    "from OHC import t2da, t2ds\n",
    "from SST import SST_index, EOF_SST_analysis\n",
    "from maps import map_robinson, map_eq_earth, rect_polygon, make_map, regr_map\n",
    "from grid import find_array_idx\n",
    "from paths import path_results, path_samoc, file_ex_ocn_ctrl, file_ex_ocn_rect\n",
    "from regions import boolean_mask, SOM_area, Nino12, Nino34, global_ocean,\\\n",
    "                    gl_ocean_rect, NPacific_mask_rect,\\\n",
    "                    Nino12_low, Nino34_low, TexT_mask, AMO_mask, SST_index_bounds\n",
    "from plotting import shifted_color_map, discrete_cmap\n",
    "from timeseries import IterateOutputCESM, lowpass, chebychev\n",
    "from xr_DataArrays import xr_AREA\n",
    "from xr_regression import xr_lintrend, xr_linear_trends_2D, xr_linear_trend,\\\n",
    "                          ocn_field_regression, lag_linregress_3D\n",
    "from regression_maps import SST_regr_standard, SST_regr_lpd, SST_regr_lpi\n"
   ]
  },
  {
   "cell_type": "code",
   "execution_count": null,
   "metadata": {},
   "outputs": [],
   "source": [
    "def regr_map_standard(run, index):\n",
    "    assert run in ['ctrl','rcp','lpd', 'lpi']\n",
    "    assert index in ['SOM', 'AMO', 'TPI']\n",
    "    SST_regr_standard(index)\n",
    "    ds = xr.open_dataset(f'{path_results}/SST/{index}_regr_{run}.nc', decode_times=False)\n",
    "    regr_map(ds=ds, index=index, run=run)\n",
    "    return\n",
    "\n",
    "\n",
    "def regr_map_diff_times(run, index):\n",
    "    assert run in ['lpd', 'lpi']\n",
    "    assert index in ['SOM','AMO', 'TPI']\n",
    "    if run=='lpd':\n",
    "        times = ['200_1', '200_2', '412']\n",
    "        SST_regr_lpd(index)\n",
    "    elif run=='lpi':\n",
    "        times = ['800_1', '800_2', '1480']\n",
    "        SST_regr_lpi(index)\n",
    "    for i in range(3):\n",
    "        ds = xr.open_dataset(f'{path_results}/SST/{index}_regr_{run}_{times[i]}.nc', decode_times=False)\n",
    "        regr_map(ds=ds, index=index, run=run, fn=times[i])\n",
    "    return"
   ]
  },
  {
   "cell_type": "code",
   "execution_count": null,
   "metadata": {},
   "outputs": [],
   "source": [
    "for index in ['SOM']:#, 'AMO', 'TPI']:\n",
    "    print(index)\n",
    "    for run in ['ctrl']:#, 'rcp']:\n",
    "        print(run)\n",
    "        regr_map_standard(run, index)\n",
    "        if run in ['lpd', 'lpi']:\n",
    "            regr_map_diff_times(run, index)"
   ]
  },
  {
   "cell_type": "code",
   "execution_count": null,
   "metadata": {},
   "outputs": [],
   "source": [
    "for index in ['SOM']:#, 'AMO', 'TPI']:\n",
    "    print(index)\n",
    "    for run in ['lpi']:#['ctrl', 'rcp', 'lpd', 'lpi']:\n",
    "        print(run)\n",
    "        regr_map_standard(run, index)\n",
    "        if run in ['lpd', 'lpi']:\n",
    "            regr_map_diff_times(run, index)"
   ]
  },
  {
   "cell_type": "code",
   "execution_count": null,
   "metadata": {},
   "outputs": [],
   "source": [
    "for index in ['SOM']:#'AMO', 'TPI']:\n",
    "    print(index)\n",
    "    for run in ['lpd']:#['ctrl', 'rcp', 'lpd', 'lpi']:\n",
    "        print(run)\n",
    "        regr_map_standard(run, index)\n",
    "        if run in ['lpd', 'lpi']:\n",
    "            regr_map_diff_times(run, index)"
   ]
  },
  {
   "cell_type": "code",
   "execution_count": null,
   "metadata": {},
   "outputs": [],
   "source": []
  }
 ],
 "metadata": {
  "kernelspec": {
   "display_name": "Python 3",
   "language": "python",
   "name": "python3"
  },
  "language_info": {
   "codemirror_mode": {
    "name": "ipython",
    "version": 3
   },
   "file_extension": ".py",
   "mimetype": "text/x-python",
   "name": "python",
   "nbconvert_exporter": "python",
   "pygments_lexer": "ipython3",
   "version": "3.6.6"
  }
 },
 "nbformat": 4,
 "nbformat_minor": 2
}
