{
 "cells": [
  {
   "cell_type": "code",
   "execution_count": null,
   "metadata": {},
   "outputs": [],
   "source": [
    "%matplotlib inline\n",
    "import matplotlib.pyplot as plt\n",
    "import cartopy.crs as ccrs\n",
    "import numpy as np\n",
    "import xarray as xr\n",
    "import xesmf as xe"
   ]
  },
  {
   "cell_type": "code",
   "execution_count": null,
   "metadata": {},
   "outputs": [],
   "source": [
    "%config InlineBackend.print_figure_kwargs={'bbox_inches':None}\n",
    "%load_ext autoreload\n",
    "%autoreload 2"
   ]
  },
  {
   "cell_type": "markdown",
   "metadata": {},
   "source": [
    "# xESMF tutorial non-linear grid notebook\n",
    "https://github.com/JiaweiZhuang/xESMF/blob/master/doc/Curvilinear_grid.ipynb"
   ]
  },
  {
   "cell_type": "code",
   "execution_count": null,
   "metadata": {},
   "outputs": [],
   "source": [
    "ds = xr.tutorial.open_dataset('rasm')#.load()\n",
    "ds"
   ]
  },
  {
   "cell_type": "code",
   "execution_count": null,
   "metadata": {},
   "outputs": [],
   "source": [
    "dr = ds['Tair']\n",
    "dr"
   ]
  },
  {
   "cell_type": "code",
   "execution_count": null,
   "metadata": {},
   "outputs": [],
   "source": [
    "plt.figure(figsize=(12,2));\n",
    "ax = plt.axes(projection=ccrs.PlateCarree());\n",
    "dr[0].plot.pcolormesh(ax=ax, x='xc', y='yc');\n",
    "ax.coastlines();"
   ]
  },
  {
   "cell_type": "code",
   "execution_count": null,
   "metadata": {},
   "outputs": [],
   "source": [
    "plt.scatter(ds['xc'], ds['yc'], s=0.01)  # plot grid locations\n",
    "plt.ylim([-90, 90])\n",
    "plt.xlabel('lon')\n",
    "plt.ylabel('lat')"
   ]
  },
  {
   "cell_type": "code",
   "execution_count": null,
   "metadata": {},
   "outputs": [],
   "source": [
    "ds = ds.rename({'xc': 'lon', 'yc': 'lat'})\n",
    "ds"
   ]
  },
  {
   "cell_type": "code",
   "execution_count": null,
   "metadata": {},
   "outputs": [],
   "source": [
    "ds_out = xe.util.grid_global(5, 4)\n",
    "ds_out  # contains lat/lon values of cell centers and boundaries."
   ]
  },
  {
   "cell_type": "code",
   "execution_count": null,
   "metadata": {},
   "outputs": [],
   "source": [
    "regridder = xe.Regridder(ds, ds_out, 'bilinear')\n",
    "dr_out = regridder(dr)"
   ]
  },
  {
   "cell_type": "code",
   "execution_count": null,
   "metadata": {},
   "outputs": [],
   "source": [
    "dr_out"
   ]
  },
  {
   "cell_type": "code",
   "execution_count": null,
   "metadata": {},
   "outputs": [],
   "source": [
    "plt.figure(figsize=(12,4));\n",
    "ax = plt.axes(projection=ccrs.PlateCarree())\n",
    "dr_out[0].plot.pcolormesh(ax=ax, x='lon', y='lat');\n",
    "ax.coastlines();"
   ]
  },
  {
   "cell_type": "code",
   "execution_count": null,
   "metadata": {},
   "outputs": [],
   "source": [
    "regridder.clean_weight_file()  # clean-up"
   ]
  },
  {
   "cell_type": "markdown",
   "metadata": {},
   "source": [
    "## CESM grids: `ocn` to `ocn_rect`"
   ]
  },
  {
   "cell_type": "code",
   "execution_count": null,
   "metadata": {},
   "outputs": [],
   "source": [
    "import sys\n",
    "sys.path.append(\"..\")"
   ]
  },
  {
   "cell_type": "code",
   "execution_count": null,
   "metadata": {},
   "outputs": [],
   "source": [
    "from grid import generate_lats_lons\n",
    "from paths import file_ex_ocn_rect, file_HadISST, file_RMASK_ocn, file_RMASK_ocn_rect, file_RMASK_ocn_had"
   ]
  },
  {
   "cell_type": "code",
   "execution_count": null,
   "metadata": {},
   "outputs": [],
   "source": [
    "RMASK_ocn = xr.open_dataarray(file_RMASK_ocn, decode_times=False)\n",
    "ds_rect   = xr.open_dataset(file_ex_ocn_rect, decode_times=False)\n",
    "ds_had    = xr.open_dataset(file_HadISST    , decode_times=False)"
   ]
  },
  {
   "cell_type": "code",
   "execution_count": null,
   "metadata": {},
   "outputs": [],
   "source": [
    "RMASK_ocn = RMASK_ocn.rename({'TLAT'    : 'lat', 'TLONG'    : 'lon'})\n",
    "ds_rect   = ds_rect  .rename({'t_lat'   : 'lat', 't_lon'    : 'lon'})\n",
    "ds_had    = ds_had   .rename({'latitude': 'lat', 'longitude': 'lon'})"
   ]
  },
  {
   "cell_type": "code",
   "execution_count": null,
   "metadata": {},
   "outputs": [],
   "source": [
    "# replace NaNs in continents with values from original grid file\n",
    "lats,lons = generate_lats_lons('ocn')\n",
    "RMASK_ocn['lat'].values = lats\n",
    "RMASK_ocn['lon'].values = lons"
   ]
  },
  {
   "cell_type": "code",
   "execution_count": null,
   "metadata": {},
   "outputs": [],
   "source": [
    "%%time\n",
    "# 40 sec\n",
    "regridder_rect = xe.Regridder(RMASK_ocn, ds_rect, 'nearest_s2d', reuse_weights=True, periodic=True)\n",
    "regridder_had  = xe.Regridder(RMASK_ocn, ds_had , 'nearest_s2d', reuse_weights=True, periodic=True)"
   ]
  },
  {
   "cell_type": "markdown",
   "metadata": {},
   "source": [
    "### REGION_MASK"
   ]
  },
  {
   "cell_type": "code",
   "execution_count": null,
   "metadata": {},
   "outputs": [],
   "source": [
    "da_rect = regridder_rect(RMASK_ocn).astype('int64').rename({'lat': 't_lat'   , 'lon': 't_lon'    })\n",
    "da_had  = regridder_had (RMASK_ocn).astype('int64').rename({'lat': 'latitude', 'lon': 'longitude'})"
   ]
  },
  {
   "cell_type": "code",
   "execution_count": null,
   "metadata": {},
   "outputs": [],
   "source": [
    "f, ax = plt.subplots(1, 3, figsize=(12,4))\n",
    "RMASK_ocn.where(RMASK_ocn>0).plot(vmin=0, ax=ax[0])\n",
    "da_rect  .where(da_rect  >0).plot(vmin=0, ax=ax[1])\n",
    "da_had   .where(da_had   >0).plot(vmin=0, ax=ax[2])\n",
    "plt.tight_layout()"
   ]
  },
  {
   "cell_type": "code",
   "execution_count": null,
   "metadata": {},
   "outputs": [],
   "source": [
    "da_rect.to_netcdf(f'{file_RMASK_ocn_rect}')\n",
    "da_had .to_netcdf(f'{file_RMASK_ocn_had}' )"
   ]
  }
 ],
 "metadata": {
  "kernelspec": {
   "display_name": "Python 3",
   "language": "python",
   "name": "python3"
  },
  "language_info": {
   "codemirror_mode": {
    "name": "ipython",
    "version": 3
   },
   "file_extension": ".py",
   "mimetype": "text/x-python",
   "name": "python",
   "nbconvert_exporter": "python",
   "pygments_lexer": "ipython3",
   "version": "3.6.6"
  }
 },
 "nbformat": 4,
 "nbformat_minor": 2
}
