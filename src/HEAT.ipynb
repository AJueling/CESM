{
 "cells": [
  {
   "cell_type": "markdown",
   "metadata": {},
   "source": [
    "# Heat Budget\n",
    "\n",
    "Hedemann et al. (2016): the 100 m OHC should correlate very well with GMST\n",
    "\n",
    "the heat budget of that layer can then be traced to (TAO + atm. uptake) and (deep ocean OHC uptake)."
   ]
  },
  {
   "cell_type": "code",
   "execution_count": null,
   "metadata": {},
   "outputs": [],
   "source": [
    "import sys\n",
    "sys.path.append(\"..\")\n",
    "import numpy as np\n",
    "import xarray as xr\n",
    "import matplotlib.pyplot as plt"
   ]
  },
  {
   "cell_type": "code",
   "execution_count": null,
   "metadata": {},
   "outputs": [],
   "source": [
    "%matplotlib inline\n",
    "%config InlineBackend.print_figure_kwargs={'bbox_inches':None}\n",
    "%load_ext autoreload\n",
    "%autoreload 2\n",
    "%aimport - numpy - matplotlib.pyplot"
   ]
  },
  {
   "cell_type": "code",
   "execution_count": null,
   "metadata": {},
   "outputs": [],
   "source": [
    "from paths import path_samoc, path_results\n",
    "from constants import spy, A_earth, Jpy_to_Wpsm"
   ]
  },
  {
   "cell_type": "code",
   "execution_count": null,
   "metadata": {},
   "outputs": [],
   "source": [
    "from paths import file_ex_ocn_ctrl\n",
    "from constants import cp_sw"
   ]
  },
  {
   "cell_type": "code",
   "execution_count": null,
   "metadata": {},
   "outputs": [],
   "source": [
    "# top of atmosphere (really, top of model) radiative imbalance in [W]\n",
    "toa_ctrl = xr.open_dataarray(f'{path_results}/TOA/TOM_ctrl.nc')\n",
    "toa_rcp  = xr.open_dataarray(f'{path_results}/TOA/TOM_rcp.nc' )"
   ]
  },
  {
   "cell_type": "code",
   "execution_count": null,
   "metadata": {},
   "outputs": [],
   "source": [
    "gmst_ctrl = xr.open_dataset(f'{path_results}/GMST/GMST_ctrl.nc')\n",
    "gmst_rcp  = xr.open_dataset(f'{path_results}/GMST/GMST_rcp.nc' )"
   ]
  },
  {
   "cell_type": "code",
   "execution_count": null,
   "metadata": {},
   "outputs": [],
   "source": []
  },
  {
   "cell_type": "code",
   "execution_count": null,
   "metadata": {},
   "outputs": [],
   "source": [
    "ctrl   = xr.open_dataset(f'{path_samoc}/OHC/OHC_integrals_ctrl_Global_Ocean.nc'  , decode_times=False)\n",
    "ctrl_A = xr.open_dataset(f'{path_samoc}/OHC/OHC_integrals_ctrl_Atlantic_Ocean.nc', decode_times=False)\n",
    "ctrl_P = xr.open_dataset(f'{path_samoc}/OHC/OHC_integrals_ctrl_Pacific_Ocean.nc' , decode_times=False)\n",
    "ctrl_I = xr.open_dataset(f'{path_samoc}/OHC/OHC_integrals_ctrl_Indian_Ocean.nc'  , decode_times=False)\n",
    "ctrl_M = xr.open_dataset(f'{path_samoc}/OHC/OHC_integrals_ctrl_Mediterranean.nc' , decode_times=False)\n",
    "ctrl_S = xr.open_dataset(f'{path_samoc}/OHC/OHC_integrals_ctrl_Southern_Ocean.nc', decode_times=False)\n",
    "rcp    = xr.open_dataset(f'{path_samoc}/OHC/OHC_integrals_rcp_Global_Ocean.nc'   , decode_times=False)\n",
    "rcp_A  = xr.open_dataset(f'{path_samoc}/OHC/OHC_integrals_rcp_Atlantic_Ocean.nc' , decode_times=False)\n",
    "rcp_P  = xr.open_dataset(f'{path_samoc}/OHC/OHC_integrals_rcp_Pacific_Ocean.nc'  , decode_times=False)\n",
    "rcp_I  = xr.open_dataset(f'{path_samoc}/OHC/OHC_integrals_rcp_Indian_Ocean.nc'   , decode_times=False)\n",
    "rcp_M  = xr.open_dataset(f'{path_samoc}/OHC/OHC_integrals_rcp_Mediterranean.nc'  , decode_times=False)\n",
    "rcp_S  = xr.open_dataset(f'{path_samoc}/OHC/OHC_integrals_rcp_Southern_Ocean.nc' , decode_times=False)"
   ]
  },
  {
   "cell_type": "code",
   "execution_count": null,
   "metadata": {},
   "outputs": [],
   "source": [
    "# something is still wrong in CTRL year 205\n",
    "for ds in [ctrl, ctrl_A, ctrl_P, ctrl_I, ctrl_S]:\n",
    "    for field in ['OHC_global', 'OHC_global_levels', 'OHC_zonal', 'OHC_zonal_levels']:\n",
    "        ds[field][105] = (ds[field].sel({'time':204*365}) +\n",
    "                                           ds[field].sel({'time':206*365}) )/2"
   ]
  },
  {
   "cell_type": "code",
   "execution_count": null,
   "metadata": {},
   "outputs": [],
   "source": [
    "OHC_upper_100m_ctrl = ctrl.OHC_global_levels.isel(z_t=slice(0, 9)).sum(dim=('z_t'))\n",
    "OHC_upper_100m_rcp  = rcp .OHC_global_levels.isel(z_t=slice(0, 9)).sum(dim=('z_t'))\n",
    "OHC_below_100m_ctrl = ctrl.OHC_global_levels.isel(z_t=slice(9,42)).sum(dim=('z_t'))\n",
    "OHC_below_100m_rcp  = rcp .OHC_global_levels.isel(z_t=slice(9,42)).sum(dim=('z_t'))"
   ]
  },
  {
   "cell_type": "code",
   "execution_count": null,
   "metadata": {},
   "outputs": [],
   "source": [
    "f,ax = plt.subplots(1,2,figsize=(12,5))\n",
    "(OHC_upper_100m_ctrl-OHC_upper_100m_ctrl.mean(dim='time')).plot(ax=ax[0])\n",
    "(OHC_below_100m_ctrl-OHC_below_100m_ctrl.mean(dim='time')).plot(ax=ax[0])\n",
    "(OHC_upper_100m_rcp -OHC_upper_100m_rcp.mean( dim='time')).plot(ax=ax[1])\n",
    "(OHC_below_100m_rcp -OHC_below_100m_rcp.mean( dim='time')).plot(ax=ax[1])\n",
    "plt.tight_layout()"
   ]
  },
  {
   "cell_type": "code",
   "execution_count": null,
   "metadata": {},
   "outputs": [],
   "source": [
    "# differencing: chosen b/c physical interpretation as year-on-year heat difference\n",
    "# (and fitting linear/quad./exp. model does not seem obvious in rcp)\n",
    "\n",
    "OHC_upper_100m_diff_ctrl = (OHC_upper_100m_ctrl-OHC_upper_100m_ctrl.shift(time=1)).dropna(dim='time')\n",
    "OHC_upper_100m_diff_rcp  = (OHC_upper_100m_rcp -OHC_upper_100m_rcp.shift(time=1) ).dropna(dim='time')\n",
    "OHC_below_100m_diff_ctrl = (OHC_below_100m_ctrl-OHC_below_100m_ctrl.shift(time=1)).dropna(dim='time')\n",
    "OHC_below_100m_diff_rcp  = (OHC_below_100m_rcp -OHC_below_100m_rcp.shift(time=1) ).dropna(dim='time')\n",
    "\n",
    "# check autocorrelation\n",
    "def auto_corr(da):\n",
    "    return np.corrcoef(da[1:], da.shift(time=1).dropna(dim='time'))[0,1]\n",
    "print(auto_corr(OHC_upper_100m_diff_ctrl), auto_corr(OHC_upper_100m_diff_rcp),\n",
    "      auto_corr(OHC_below_100m_diff_ctrl), auto_corr(OHC_below_100m_diff_rcp) )\n",
    "# autocorrelation low, yearly data appears like independent data points\n",
    "\n",
    "# linearly detrend the data\n",
    "def lin_detr_ts(da):\n",
    "    fit_par = np.polyfit(da.time, da.values, 1)\n",
    "    detr = da - fit_par[0]*da.time - fit_par[1]\n",
    "    return detr\n",
    "\n",
    "OHC_upper_100m_diff_detr_ctrl = lin_detr_ts(OHC_upper_100m_diff_ctrl)\n",
    "OHC_upper_100m_diff_detr_rcp  = lin_detr_ts(OHC_upper_100m_diff_rcp )\n",
    "OHC_below_100m_diff_detr_ctrl = lin_detr_ts(OHC_below_100m_diff_ctrl)\n",
    "OHC_below_100m_diff_detr_rcp  = lin_detr_ts(OHC_below_100m_diff_rcp )\n",
    "\n",
    "toa_detr_ctrl = lin_detr_ts(toa_ctrl)\n",
    "toa_detr_rcp  = lin_detr_ts(toa_rcp )\n",
    "\n",
    "print(auto_corr(OHC_upper_100m_diff_detr_ctrl), auto_corr(OHC_upper_100m_diff_detr_rcp),\n",
    "      auto_corr(OHC_below_100m_diff_detr_ctrl), auto_corr(OHC_below_100m_diff_detr_rcp) )\n",
    "# barely any trend in ctrl: autocorr is still low\n",
    "# in rcp trend correction lowers autocorr"
   ]
  },
  {
   "cell_type": "code",
   "execution_count": null,
   "metadata": {},
   "outputs": [],
   "source": [
    "ctrl_A.time/365"
   ]
  },
  {
   "cell_type": "code",
   "execution_count": null,
   "metadata": {},
   "outputs": [],
   "source": [
    "toa_ctrl"
   ]
  },
  {
   "cell_type": "code",
   "execution_count": null,
   "metadata": {},
   "outputs": [],
   "source": [
    "f,ax = plt.subplots(2,2,figsize=(12,8), sharey='row', sharex='col')\n",
    "ax[0,0].axhline(0, c='k', lw=.5)\n",
    "ax[0,0].plot(ctrl.time[1:]/365, OHC_upper_100m_diff_ctrl/1e21, lw=.5, label='$\\Delta$OHC upper 100 m')\n",
    "ax[0,0].plot(ctrl.time[1:]/365, OHC_below_100m_diff_ctrl/1e21, lw=.5, label='$\\Delta$OHC below 100 m')\n",
    "ax[0,0].plot(ctrl.time/365, toa_ctrl*spy            /1e21, lw=.5, label='TOA imbalance'          )\n",
    "\n",
    "ax[1,0].axhline(0, c='k', lw=.5)\n",
    "ax[1,0].plot(ctrl.time/365, OHC_upper_100m_diff_detr_ctrl/1e21, lw=.5, label='$\\Delta$OHC upper 100 m')\n",
    "ax[1,0].plot(ctrl.time/365, OHC_below_100m_diff_detr_ctrl/1e21, lw=.5, label='$\\Delta$OHC below 100 m')\n",
    "ax[1,0].plot(ctrl.time/365, toa_detr_ctrl*spy            /1e21, lw=.5, label='TOA imbalance'          )\n",
    "\n",
    "ax[0,0].text(.02,.92, 'CTRL', transform=ax[0,0].transAxes, fontsize=16)\n",
    "ax[0,0].legend(fontsize=16, frameon=False)\n",
    "\n",
    "ax[0,1].axhline(0, c='k', lw=.5)\n",
    "ax[0,1].plot(rcp.time/365, OHC_upper_100m_diff_rcp/1e21, lw=.5, label='$\\Delta$OHC upper 100 m')\n",
    "ax[0,1].plot(rcp.time/365, OHC_below_100m_diff_rcp/1e21, lw=.5, label='$\\Delta$OHC below 100 m')\n",
    "ax[0,1].plot(rcp.time/365, toa_rcp *spy           /1e21, lw=.5, label='TOA imbalance')\n",
    "ax[0,1].text(.02,.92, 'RCP', transform=ax[0,1].transAxes, fontsize=16)\n",
    "# ax[0,1].legend(fontsize=16, frameon=False)\n",
    "\n",
    "ax[1,1].axhline(0, c='k', lw=.5)\n",
    "ax[1,1].plot(rcp.time/365, OHC_upper_100m_diff_detr_rcp/1e21, lw=.5, label='$\\Delta$OHC upper 100 m')\n",
    "ax[1,1].plot(rcp.time/365, OHC_below_100m_diff_detr_rcp/1e21, lw=.5, label='$\\Delta$OHC below 100 m')\n",
    "ax[1,1].plot(rcp.time/365, toa_detr_rcp *spy           /1e21, lw=.5, label='TOA imbalance')\n",
    "\n",
    "for i in range(2):\n",
    "    ax[i,0].set_ylabel('heat difference [ZJ/year]', fontsize=16)\n",
    "    ax[1,i].set_xlabel('time [years]', fontsize=16)\n",
    "\n",
    "\n",
    "plt.tight_layout()"
   ]
  },
  {
   "cell_type": "markdown",
   "metadata": {},
   "source": [
    "we can remove linear trend as that is an artifact of the different heat capacities"
   ]
  },
  {
   "cell_type": "code",
   "execution_count": null,
   "metadata": {},
   "outputs": [],
   "source": [
    "OHC_below_100m_diff_detr_ctrl"
   ]
  },
  {
   "cell_type": "code",
   "execution_count": null,
   "metadata": {},
   "outputs": [],
   "source": [
    "toa_detr_ctrl"
   ]
  },
  {
   "cell_type": "code",
   "execution_count": null,
   "metadata": {},
   "outputs": [],
   "source": [
    "# Hedemann plot\n",
    "plt.figure(figsize=(8,5))\n",
    "\n",
    "plt.axhline(0, c='k', lw=.5)\n",
    "plt.axvline(0, c='k', lw=.5)\n",
    "plt.plot([-2,0], [-2,0], c='k', lw=.5, ls='--')\n",
    "plt.plot([-2,2], [2,-2], c='k', lw=.5, ls='-')\n",
    "plt.plot([-2,2], [2-.082,-2-.082], c='k', lw=.5, ls=':')\n",
    "plt.scatter(OHC_below_100m_diff_detr_ctrl.rolling({'time':15},center=True).mean()*Jpy_to_Wpsm,\n",
    "            toa_detr_ctrl[1:]            .rolling({'time':15},center=True).mean()/A_earth, c='C0')\n",
    "plt.scatter(OHC_below_100m_diff_detr_rcp .rolling({'time':15},center=True).mean()*Jpy_to_Wpsm,\n",
    "            toa_detr_rcp[1:-14]          .rolling({'time':15},center=True).mean()/A_earth, c='C1')\n",
    "plt.ylim((-.4,.4))\n",
    "plt.xlim((-.6,.6))\n",
    "plt.xlabel('detrended ocean component [W m$^{-2}$]', fontsize=16)\n",
    "plt.ylabel('TOA component [W m$^{-2}$]', fontsize=16)\n",
    "plt.tight_layout()"
   ]
  },
  {
   "cell_type": "markdown",
   "metadata": {},
   "source": [
    "what does \"as 15-year ensemble anomalies\" mean?\n",
    "\n",
    "yearly anomalies to the 15 year mean or 15 yr averaged anamalies"
   ]
  },
  {
   "cell_type": "code",
   "execution_count": null,
   "metadata": {},
   "outputs": [],
   "source": [
    "# differencing: chosen b/c physical interpretation as year-on-year heat difference\n",
    "# (and fitting linear/quad./exp. model does not seem obvious in rcp)\n",
    "\n",
    "f,ax = plt.subplots(1,2,figsize=(12,5), sharey=True)\n",
    "ax[0].axhline(0, c='k', lw=.5)\n",
    "# ax[0].plot(OHC_upper_100m_diff_ctrl/1e21, label='upper 100 m')\n",
    "# ax[0].plot(OHC_below_100m_diff_ctrl/1e21, label='below 100 m')\n",
    "# ax[0].plot(toa_diff_ctrl*spy       /1e21, label='TOA imbalance')\n",
    "ax[0].plot(OHC_upper_100m_diff_ctrl.rolling({'time':5},center=True).mean()/1e21, label=f'$\\Delta$OHC upper 100 m')\n",
    "ax[0].plot(OHC_below_100m_diff_ctrl.rolling({'time':5},center=True).mean()/1e21, label=f'$\\Delta$OHC below 100 m')\n",
    "ax[0].plot(toa_ctrl.rolling({'time':5},center=True).mean()*spy            /1e21, label='TOA rad. imbalance')\n",
    "\n",
    "# ax[0].text(.02,.93, f'corr. {corr_diff_ctrl:.3f}', transform=ax[0].transAxes, fontsize=16)\n",
    "ax[0].text(.02,.02, 'CTRL 5 year running mean', transform=ax[0].transAxes, fontsize=16)\n",
    "ax[0].legend(fontsize=16, frameon=False)\n",
    "\n",
    "ax[1].axhline(0, c='k', lw=.5)\n",
    "# ax[1].plot(OHC_upper_100m_diff_rcp/1e21, label='upper 100 m')\n",
    "# ax[1].plot(OHC_below_100m_diff_rcp/1e21, label='below 100 m')\n",
    "# ax[1].plot(toa_diff_rcp *spy      /1e21, label='TOA imbalance')\n",
    "ax[1].plot(OHC_upper_100m_diff_rcp.rolling({'time':5},center=True).mean()/1e21, label=f'$\\Delta$OHC upper 100 m')\n",
    "ax[1].plot(OHC_below_100m_diff_rcp.rolling({'time':5},center=True).mean()/1e21, label=f'$\\Delta$OHC below 100 m')\n",
    "ax[1].plot(toa_rcp.rolling({'time':5},center=True).mean() *spy           /1e21, label='TOA rad. imbalance')\n",
    "\n",
    "# ax[1].text(.02,.93, f'corr. {corr_diff_rcp:.3f}', transform=ax[1].transAxes, fontsize=16)\n",
    "ax[1].text(.02,.02, 'RCP 5 year running mean', transform=ax[1].transAxes, fontsize=16)\n",
    "\n",
    "\n",
    "ax[0].set_ylabel('heat difference [ZJ/year]', fontsize=16)\n",
    "ax[1].legend(fontsize=16, frameon=False)\n",
    "plt.tight_layout()\n",
    "\n"
   ]
  },
  {
   "cell_type": "markdown",
   "metadata": {},
   "source": [
    "clearly, a lot of the exchange between the upper 100m and the ocean below is responsible for the variability of the OHC in the surface layer"
   ]
  },
  {
   "cell_type": "code",
   "execution_count": null,
   "metadata": {},
   "outputs": [],
   "source": [
    "plt.plot(((OHC_100m_ctrl-OHC_100m_ctrl.mean(dim='time'))/OHC_100m_ctrl.std(dim='time')))\n",
    "plt.plot(((gmst_ctrl.GMST-gmst_ctrl.GMST.mean(dim='year'))/gmst_ctrl.GMST.std(dim='year')))\n",
    "np.corrcoef(OHC_100m_ctrl, gmst_ctrl.GMST)"
   ]
  },
  {
   "cell_type": "code",
   "execution_count": null,
   "metadata": {},
   "outputs": [],
   "source": [
    "np.corrcoef(OHC_100m_rcp, gmst_rcp.GMST[:67])"
   ]
  },
  {
   "cell_type": "code",
   "execution_count": null,
   "metadata": {},
   "outputs": [],
   "source": [
    "np.corrcoeff(OHC_100m_ctrl, gmst_ctrl)"
   ]
  },
  {
   "cell_type": "code",
   "execution_count": null,
   "metadata": {},
   "outputs": [],
   "source": [
    "for i, z in enumerate(ctrl.OHC_zonal_levels.z_t.values):\n",
    "    print(i,z)"
   ]
  },
  {
   "cell_type": "code",
   "execution_count": null,
   "metadata": {},
   "outputs": [],
   "source": []
  }
 ],
 "metadata": {
  "kernelspec": {
   "display_name": "Python 3",
   "language": "python",
   "name": "python3"
  },
  "language_info": {
   "codemirror_mode": {
    "name": "ipython",
    "version": 3
   },
   "file_extension": ".py",
   "mimetype": "text/x-python",
   "name": "python",
   "nbconvert_exporter": "python",
   "pygments_lexer": "ipython3",
   "version": "3.6.6"
  }
 },
 "nbformat": 4,
 "nbformat_minor": 2
}
