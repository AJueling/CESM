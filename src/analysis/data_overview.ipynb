{
 "cells": [
  {
   "cell_type": "markdown",
   "metadata": {},
   "source": [
    "# Exploring CESM output\n",
    "\n",
    "## full, high res output data:\n",
    "- for the crtl run there are differently sized files:\n",
    "    - 19GB 024-199 (many files before 100-01 are not available)\n",
    "    - 21GB 200-226\n",
    "    - 30GB 227-268\n",
    "- for the rcp run, all files are 30 GB\n",
    "- in all ctrl files grid data is stored, dimensions nlat/nlon are natural numbers, but coords U/T_LONG/LAT are in degrees, depths stored in centimeter\n",
    "- also all other grid data (e.g. TAREA [cm^2]) is stored in files\n",
    "- grid data is also stored in binary files\n",
    "\n",
    "## interpolated, rect output data\n",
    "- grid: u/t_lon/lat store position in degrees, depth_t/w_dep store deth in meters\n",
    "- no further geometric data (such as TAREA or so)"
   ]
  },
  {
   "cell_type": "code",
   "execution_count": null,
   "metadata": {},
   "outputs": [],
   "source": [
    "# import pickle\n",
    "import sys\n",
    "sys.path.append(\"..\")\n",
    "import scipy as sp\n",
    "import numpy as np\n",
    "import xarray as xr\n",
    "import seaborn as sns\n",
    "import cartopy\n",
    "import cartopy.crs as ccrs\n",
    "import matplotlib.pyplot as plt\n",
    "import matplotlib.patches as mpatches"
   ]
  },
  {
   "cell_type": "code",
   "execution_count": null,
   "metadata": {},
   "outputs": [],
   "source": [
    "%matplotlib inline\n",
    "%config InlineBackend.print_figure_kwargs={'bbox_inches':None}\n",
    "%load_ext autoreload\n",
    "%autoreload 2\n",
    "%aimport - numpy - scipy - matplotlib.pyplot"
   ]
  },
  {
   "cell_type": "code",
   "execution_count": null,
   "metadata": {},
   "outputs": [],
   "source": [
    "# plt.style.use('dark_background')\n",
    "sns.set()\n",
    "sns.set_palette(\"tab10\")\n",
    "sns.set_context(\"notebook\", font_scale=1)"
   ]
  },
  {
   "cell_type": "code",
   "execution_count": null,
   "metadata": {},
   "outputs": [],
   "source": [
    "from paths import path_CESM\n",
    "from paths import path_ocn_ctrl, path_ocn_ctrl_rect\n",
    "from paths import path_ocn_rcp,  path_ocn_rcp_rect"
   ]
  },
  {
   "cell_type": "code",
   "execution_count": null,
   "metadata": {},
   "outputs": [],
   "source": [
    "from read_binary import read_binary_2D"
   ]
  },
  {
   "cell_type": "code",
   "execution_count": null,
   "metadata": {},
   "outputs": [],
   "source": [
    "from grid import generate_lats_lons, shift_field"
   ]
  },
  {
   "cell_type": "markdown",
   "metadata": {},
   "source": [
    "# high resolution files"
   ]
  },
  {
   "cell_type": "code",
   "execution_count": null,
   "metadata": {},
   "outputs": [],
   "source": [
    "# nc_file = f'{path_CESM}/rcp8.5_co2_f05_t12/OUTPUT/ocn/hist/daily/rcp8.5_co2_f05_t12.pop.hm.2021-01-22.nc'\n",
    "# xdata   = xr.open_dataset(nc_file, decode_times=False)"
   ]
  },
  {
   "cell_type": "code",
   "execution_count": null,
   "metadata": {},
   "outputs": [],
   "source": [
    "nc_file = f'{path_ocn_rcp}/rcp8.5_co2_f05_t12.pop.h.2000-01.nc'\n",
    "xdata = xr.open_dataset(nc_file, decode_times=False)"
   ]
  },
  {
   "cell_type": "code",
   "execution_count": null,
   "metadata": {},
   "outputs": [],
   "source": [
    "xdata"
   ]
  },
  {
   "cell_type": "code",
   "execution_count": null,
   "metadata": {},
   "outputs": [],
   "source": [
    "xdata.coords['TLAT'][:,:]"
   ]
  },
  {
   "cell_type": "code",
   "execution_count": null,
   "metadata": {},
   "outputs": [],
   "source": [
    "f, ax = plt.subplots(1,3,figsize=(15,5), sharey=True)\n",
    "ax[0].imshow(xdata.TEMP[0,0,:,:], cmap='viridis')\n",
    "ax[1].imshow(xdata.coords['TLAT'])\n",
    "ax[2].imshow(xdata.coords['TLONG'])\n",
    "plt.tight_layout()"
   ]
  },
  {
   "cell_type": "code",
   "execution_count": null,
   "metadata": {},
   "outputs": [],
   "source": [
    "# does not work with matplotlib 3.0.0, due to '_hold' bug\n",
    "# use 'CS' conda environment"
   ]
  },
  {
   "cell_type": "code",
   "execution_count": null,
   "metadata": {},
   "outputs": [],
   "source": [
    "plt.figure(figsize=(7,2));\n",
    "ax = plt.axes(projection=ccrs.PlateCarree());\n",
    "xdata.TEMP[0,0,:,:].plot.pcolormesh(ax=ax, transform=ccrs.PlateCarree(),x='TLONG', y='TLAT', add_colorbar=False)\n",
    "ax.coastlines();"
   ]
  },
  {
   "cell_type": "code",
   "execution_count": null,
   "metadata": {},
   "outputs": [],
   "source": [
    "def map_geography(ax):\n",
    "    \"\"\"adds land, WGKP ploygon, lat/lon labels\"\"\"\n",
    "    xticks = np.linspace(-180,180,7,endpoint=True)\n",
    "    yticks = np.linspace(-90,90,7)\n",
    "    ax.add_feature(cartopy.feature.LAND, zorder=1, facecolor='lightgray')\n",
    "    gl = ax.gridlines(xlocs=xticks, ylocs=yticks)\n",
    "    gl.n_steps = 500"
   ]
  },
  {
   "cell_type": "code",
   "execution_count": null,
   "metadata": {},
   "outputs": [],
   "source": [
    "TEMP = shift_field(xdata.TEMP[0,0,:,:].T,shift)"
   ]
  },
  {
   "cell_type": "code",
   "execution_count": null,
   "metadata": {},
   "outputs": [],
   "source": [
    "fig = plt.figure(figsize=(10,10))\n",
    "ax  = fig.add_subplot(1, 1, 1, projection=ccrs.Orthographic(central_latitude=-90))\n",
    "ax.set_position([.02,.02,.96,.96])\n",
    "ax.pcolormesh(lons.T, lats.T, TEMP.T,\n",
    "              cmap='rainbow',\n",
    "              vmin=-1.8, vmax=27,\n",
    "              transform=ccrs.PlateCarree() )\n",
    "map_geography(ax)\n",
    "fig.savefig('../../results/first_map', transparent=True, dpi=300)"
   ]
  }
 ],
 "metadata": {
  "kernelspec": {
   "display_name": "Python 3",
   "language": "python",
   "name": "python3"
  },
  "language_info": {
   "codemirror_mode": {
    "name": "ipython",
    "version": 3
   },
   "file_extension": ".py",
   "mimetype": "text/x-python",
   "name": "python",
   "nbconvert_exporter": "python",
   "pygments_lexer": "ipython3",
   "version": "3.6.6"
  }
 },
 "nbformat": 4,
 "nbformat_minor": 2
}
