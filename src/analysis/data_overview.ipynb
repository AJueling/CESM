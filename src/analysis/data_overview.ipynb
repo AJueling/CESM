{
 "cells": [
  {
   "cell_type": "markdown",
   "metadata": {},
   "source": [
    "# Exploring CESM output\n",
    "\n",
    "## full, high res output data:\n",
    "- grid data is not stored, nlat/nlon are natural numbers, depths stored in centimeter\n",
    "- grid data is stored in binary files\n",
    "\n",
    "## interpolated, rect output data\n",
    "- grid: u/t_lon/lat store position in degrees, depth_t/w_dep store deth in meters"
   ]
  },
  {
   "cell_type": "code",
   "execution_count": null,
   "metadata": {},
   "outputs": [],
   "source": [
    "# import pickle\n",
    "import sys\n",
    "sys.path.append(\"..\")\n",
    "import scipy as sp\n",
    "import numpy as np\n",
    "import xarray as xr\n",
    "import seaborn as sns\n",
    "import cartopy\n",
    "import cartopy.crs as ccrs\n",
    "import matplotlib.pyplot as plt\n",
    "import matplotlib.patches as mpatches"
   ]
  },
  {
   "cell_type": "code",
   "execution_count": null,
   "metadata": {},
   "outputs": [],
   "source": [
    "%matplotlib inline\n",
    "%config InlineBackend.print_figure_kwargs={'bbox_inches':None}\n",
    "%load_ext autoreload\n",
    "%autoreload 2\n",
    "%aimport - numpy - scipy - matplotlib.pyplot"
   ]
  },
  {
   "cell_type": "code",
   "execution_count": null,
   "metadata": {},
   "outputs": [],
   "source": [
    "# plt.style.use('dark_background')\n",
    "sns.set()\n",
    "sns.set_palette(\"tab10\")\n",
    "sns.set_context(\"notebook\", font_scale=1)"
   ]
  },
  {
   "cell_type": "code",
   "execution_count": null,
   "metadata": {},
   "outputs": [],
   "source": [
    "from paths import path_CESM\n",
    "from paths import path_ocn_ctrl, path_ocn_ctrl_rect\n",
    "from paths import path_ocn_rcp,  path_ocn_rcp_rect"
   ]
  },
  {
   "cell_type": "code",
   "execution_count": null,
   "metadata": {},
   "outputs": [],
   "source": [
    "nc_file = f'{path_ocn_rcp}/rcp8.5_co2_f05_t12.pop.h.2000-01.nc'\n",
    "xdata = xr.open_dataset(nc_file, decode_times=False)"
   ]
  },
  {
   "cell_type": "code",
   "execution_count": null,
   "metadata": {},
   "outputs": [],
   "source": [
    "xdata.coords['t_lon']"
   ]
  },
  {
   "cell_type": "code",
   "execution_count": null,
   "metadata": {},
   "outputs": [],
   "source": [
    "xdata['TEMP']"
   ]
  },
  {
   "cell_type": "code",
   "execution_count": null,
   "metadata": {},
   "outputs": [],
   "source": [
    "xdata['TEMP'][0,:,:]"
   ]
  },
  {
   "cell_type": "markdown",
   "metadata": {},
   "source": [
    "## map of daily file"
   ]
  },
  {
   "cell_type": "code",
   "execution_count": null,
   "metadata": {},
   "outputs": [],
   "source": [
    "nc_file = f'{path_CESM}/rcp8.5_co2_f05_t12/OUTPUT/ocn/hist/daily/rcp8.5_co2_f05_t12.pop.hm.2021-01-22.nc'\n",
    "xdata = xr.open_dataset(nc_file, decode_times=False)"
   ]
  },
  {
   "cell_type": "code",
   "execution_count": null,
   "metadata": {},
   "outputs": [],
   "source": [
    "from read_binary import read_binary_2D"
   ]
  },
  {
   "cell_type": "code",
   "execution_count": null,
   "metadata": {},
   "outputs": [],
   "source": [
    "from grid import generate_lats_lons, shift_field"
   ]
  },
  {
   "cell_type": "code",
   "execution_count": null,
   "metadata": {},
   "outputs": [],
   "source": [
    "grid_file = f'{path_CESM}/inputdata/ocn/pop/tx0.1v2/grid/horiz_grid_200709.ieeer8'\n",
    "\n",
    "imt,jmt,km        = 3600, 2400, 42\n",
    "# grid_file       = '../../input/grid.3600x2400.fob.da'\n",
    "lats,lons,shift   = generate_lats_lons(grid_file)"
   ]
  },
  {
   "cell_type": "code",
   "execution_count": null,
   "metadata": {},
   "outputs": [],
   "source": [
    "f, ax = plt.subplots(1,3,figsize=(15,5), sharey=True)\n",
    "ax[0].imshow(TEMP.T, cmap='viridis')\n",
    "ax[1].imshow(lats.T)\n",
    "ax[2].imshow(lons.T)\n",
    "plt.tight_layout()"
   ]
  },
  {
   "cell_type": "code",
   "execution_count": null,
   "metadata": {},
   "outputs": [],
   "source": [
    "def map_geography(ax):\n",
    "    \"\"\"adds land, WGKP ploygon, lat/lon labels\"\"\"\n",
    "    xticks = np.linspace(-180,180,7,endpoint=True)\n",
    "    yticks = np.linspace(-90,90,7)\n",
    "    ax.add_feature(cartopy.feature.LAND, zorder=1, facecolor='lightgray')\n",
    "    gl = ax.gridlines(xlocs=xticks, ylocs=yticks)\n",
    "    gl.n_steps = 500"
   ]
  },
  {
   "cell_type": "code",
   "execution_count": null,
   "metadata": {},
   "outputs": [],
   "source": [
    "TEMP = shift_field(xdata.TEMP[0,0,:,:].T,shift)"
   ]
  },
  {
   "cell_type": "code",
   "execution_count": null,
   "metadata": {},
   "outputs": [],
   "source": [
    "fig = plt.figure(figsize=(10,10))\n",
    "ax  = fig.add_subplot(1, 1, 1, projection=ccrs.Orthographic(central_latitude=-90))\n",
    "ax.set_position([.02,.02,.96,.96])\n",
    "ax.pcolormesh(lons.T, lats.T, TEMP.T,\n",
    "              cmap='rainbow',\n",
    "              vmin=-1.8, vmax=27,\n",
    "              transform=ccrs.PlateCarree() )\n",
    "map_geography(ax)\n",
    "fig.savefig('../../results/first_map', transparent=True, dpi=300)"
   ]
  },
  {
   "cell_type": "code",
   "execution_count": null,
   "metadata": {},
   "outputs": [],
   "source": []
  },
  {
   "cell_type": "code",
   "execution_count": null,
   "metadata": {},
   "outputs": [],
   "source": [
    "xdata"
   ]
  },
  {
   "cell_type": "code",
   "execution_count": null,
   "metadata": {},
   "outputs": [],
   "source": [
    "def sample_data(shape=(73, 145)):\n",
    "    \"\"\"Return ``lons``, ``lats`` and ``data`` of some fake data.\"\"\"\n",
    "    nlats, nlons = shape\n",
    "    lats = np.linspace(-np.pi / 2, np.pi / 2, nlats)\n",
    "    lons = np.linspace(0, 2 * np.pi, nlons)\n",
    "    lons, lats = np.meshgrid(lons, lats)\n",
    "    wave = 0.75 * (np.sin(2 * lats) ** 8) * np.cos(4 * lons)\n",
    "    mean = 0.5 * np.cos(2 * lats) * ((np.sin(2 * lats)) ** 2 + 2)\n",
    "\n",
    "    lats = np.rad2deg(lats)\n",
    "    lons = np.rad2deg(lons)\n",
    "    data = wave + mean\n",
    "\n",
    "    return lons, lats, data\n",
    "\n",
    "fig = plt.figure(figsize=(10, 5))\n",
    "ax = fig.add_subplot(1, 1, 1, projection=ccrs.Mollweide())\n",
    "\n",
    "lons, lats, data = sample_data()\n",
    "\n",
    "ax.contourf(lons, lats, data,\n",
    "            transform=ccrs.PlateCarree(),\n",
    "            cmap='nipy_spectral')\n",
    "ax.coastlines()\n",
    "ax.set_global()\n",
    "plt.show()"
   ]
  }
 ],
 "metadata": {
  "kernelspec": {
   "display_name": "Python 3",
   "language": "python",
   "name": "python3"
  },
  "language_info": {
   "codemirror_mode": {
    "name": "ipython",
    "version": 3
   },
   "file_extension": ".py",
   "mimetype": "text/x-python",
   "name": "python",
   "nbconvert_exporter": "python",
   "pygments_lexer": "ipython3",
   "version": "3.6.6"
  }
 },
 "nbformat": 4,
 "nbformat_minor": 2
}
