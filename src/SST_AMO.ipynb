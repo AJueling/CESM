{
 "cells": [
  {
   "cell_type": "markdown",
   "metadata": {},
   "source": [
    "# Sea Surface Temperature"
   ]
  },
  {
   "cell_type": "code",
   "execution_count": null,
   "metadata": {},
   "outputs": [],
   "source": [
    "import sys\n",
    "sys.path.append(\"..\")\n",
    "import scipy as sp\n",
    "import numpy as np\n",
    "import xarray as xr\n",
    "import seaborn as sns\n",
    "import cmocean\n",
    "import cartopy\n",
    "import cartopy.crs as ccrs\n",
    "import matplotlib as mpl\n",
    "import matplotlib.pyplot as plt\n",
    "import matplotlib.patches as mpatches"
   ]
  },
  {
   "cell_type": "code",
   "execution_count": null,
   "metadata": {},
   "outputs": [],
   "source": [
    "%matplotlib inline\n",
    "%config InlineBackend.print_figure_kwargs={'bbox_inches':None}\n",
    "%load_ext autoreload\n",
    "%autoreload 2\n",
    "%aimport - numpy - scipy - matplotlib.pyplot"
   ]
  },
  {
   "cell_type": "code",
   "execution_count": null,
   "metadata": {},
   "outputs": [],
   "source": [
    "from OHC import t2da, t2ds\n",
    "from SST import SST_index, EOF_SST_analysis\n",
    "from maps import map_robinson, map_eq_earth, rect_polygon, make_map\n",
    "from grid import find_array_idx\n",
    "from paths import path_results, path_samoc, file_ex_ocn_ctrl, file_ex_ocn_rect\n",
    "from regions import boolean_mask, SOM_area, Nino12, Nino34, global_ocean,\\\n",
    "                    gl_ocean_rect, NPacific_mask_rect,\\\n",
    "                    Nino12_low, Nino34_low, TexT_mask, AMO_mask, SST_index_bounds\n",
    "from plotting import shifted_color_map, discrete_cmap\n",
    "from timeseries import IterateOutputCESM, lowpass, chebychev\n",
    "from xr_DataArrays import xr_AREA\n",
    "from xr_regression import xr_lintrend, xr_linear_trends_2D, xr_linear_trend,\\\n",
    "                          ocn_field_regression, lag_linregress_3D"
   ]
  },
  {
   "cell_type": "code",
   "execution_count": null,
   "metadata": {},
   "outputs": [],
   "source": [
    "SST_yrly_ctrl = xr.open_dataarray(f'{path_samoc}/SST/SST_yrly_ctrl.nc')\n",
    "SST_yrly_rcp  = xr.open_dataarray(f'{path_samoc}/SST/SST_yrly_rcp.nc' )\n",
    "SST_yrly_lpd  = xr.open_dataarray(f'{path_samoc}/SST/SST_yrly_lpd.nc' )\n",
    "SST_yrly_lpi  = xr.open_dataarray(f'{path_samoc}/SST/SST_yrly_lpi.nc' )"
   ]
  },
  {
   "cell_type": "markdown",
   "metadata": {},
   "source": [
    "# SST indices"
   ]
  },
  {
   "cell_type": "code",
   "execution_count": null,
   "metadata": {},
   "outputs": [],
   "source": [
    "MASK_ocn  = boolean_mask('ocn'     , 0)\n",
    "MASK_low  = boolean_mask('ocn_low' , 0)\n",
    "MASK_rect = boolean_mask('ocn_rect', 0)"
   ]
  },
  {
   "cell_type": "code",
   "execution_count": null,
   "metadata": {},
   "outputs": [],
   "source": [
    "TAREA       = xr_AREA('ocn')\n",
    "AREA_low    = xr_AREA('ocn_low')\n",
    "AREA_rect   = xr_AREA('ocn_rect')"
   ]
  },
  {
   "cell_type": "markdown",
   "metadata": {},
   "source": [
    "# Atlantic Ocean"
   ]
  },
  {
   "cell_type": "markdown",
   "metadata": {},
   "source": [
    "## Atlantic Multidecadal Oscillation\n",
    "from Wikipedia:\n",
    "> Several methods have been proposed to remove the global trend and El Niño-Southern Oscillation (ENSO) influence over the North Atlantic SST. Trenberth and Shea, assuming that the effect of global forcing over the North Atlantic is similar to the global ocean, subtracted the global (60°N-60°S) mean SST from the North Atlantic SST to derive a revised AMO index.[6]\n",
    ">\n",
    "> Ting et al. however argue that the forced SST pattern is not globally uniform; they separated the forced and internally generated variability using signal to noise maximizing EOF analysis.[2]\n",
    ">\n",
    "> Van Oldenborgh et al. derived an AMO index as the SST averaged over the extra-tropical North Atlantic (to remove the influence of ENSO that is greater at tropical latitude) minus the regression on global mean temperature.[7]\n",
    ">\n",
    "> Guan and Nigam removed the non stationary global trend and Pacific natural variability before applying an EOF analysis to the residual North Atlantic SST.[8]\n",
    ">\n",
    "> The linearly detrended index suggests that the North Atlantic SST anomaly at the end of the twentieth century is equally divided between the externally forced component and internally generated variability, and that the current peak is similar to middle twentieth century; by contrast the others methodology suggest that a large portion of the North Atlantic anomaly at the end of the twentieth century is externally forced.[2]\n",
    "\n",
    "We use the method of Trenberth here: averaged SST [0-60 N]x[0-80W] - avg. SST [60S-60N], then ."
   ]
  },
  {
   "cell_type": "code",
   "execution_count": null,
   "metadata": {},
   "outputs": [],
   "source": [
    "# plotting tropics-extratropics and North atlantic maps\n",
    "f,ax = plt.subplots(2,2, figsize=(8,5), sharey='row')\n",
    "for i, domain in enumerate(['ocn', 'ocn_low']):\n",
    "    xr_AREA(domain).where(TexT_mask(domain)).plot(ax=ax[i,0])\n",
    "    xr_AREA(domain).where(AMO_mask(domain)).plot(ax=ax[i,1])\n",
    "plt.tight_layout()"
   ]
  },
  {
   "cell_type": "code",
   "execution_count": null,
   "metadata": {},
   "outputs": [],
   "source": [
    "def AMO(run):\n",
    "    if run in ['ctrl', 'rcp']:\n",
    "        domain    = 'ocn'\n",
    "        AREA      = TAREA\n",
    "        MASK      = MASK_ocn\n",
    "    elif run in ['lpi', 'lpd']:\n",
    "        domain    = 'ocn_low'\n",
    "        AREA      = AREA_low\n",
    "        MASK      = MASK_low\n",
    "        \n",
    "    if run =='ctrl':   SST_yrly = SST_yrly_ctrl\n",
    "    elif run =='rcp':  SST_yrly = SST_yrly_rcp\n",
    "    elif run =='lpd':  SST_yrly = SST_yrly_lpd\n",
    "    elif run =='lpi':  SST_yrly = SST_yrly_lpi\n",
    "        \n",
    "    dims = ('nlat', 'nlon')\n",
    "    AREA_AMO  = AREA.where(AMO_mask(domain)).sum()\n",
    "    AREA_TexT = AREA.where(TexT_mask(domain)).sum()\n",
    "    print(AREA_AMO.values, AREA_TexT.values)\n",
    "    \n",
    "    NA   = SST_index(xa_SST=SST_yrly, AREA=AREA, index_loc=None, AREA_index=AREA_AMO , MASK=AMO_mask(domain) , dims=dims)\n",
    "    TexT = SST_index(xa_SST=SST_yrly, AREA=AREA, index_loc=None, AREA_index=AREA_TexT, MASK=TexT_mask(domain), dims=dims)\n",
    "    \n",
    "    AMO  = (NA - TexT) - (NA - TexT).mean()\n",
    "    AMO.to_netcdf(f'{path_results}/SST/AMO_yrly_{run}.nc')\n",
    "\n",
    "    f,ax = plt.subplots(3,1,figsize=(8,5),sharex=True)\n",
    "    ax[0].plot(NA)\n",
    "    ax[1].plot(TexT)\n",
    "    ax[2].plot(AMO)\n",
    "    plt.tight_layout()\n",
    "    return AMO"
   ]
  },
  {
   "cell_type": "code",
   "execution_count": null,
   "metadata": {},
   "outputs": [],
   "source": [
    "# %%time\n",
    "# AMO_ctrl = AMO('ctrl')  # 1:20\n",
    "# AMO_rcp  = AMO('rcp' )  # 40 sec\n",
    "# AMO_lpd  = AMO('lpd' )  # 4 sec\n",
    "# AMO_lpi  = AMO('lpi' )  # 9 sec"
   ]
  },
  {
   "cell_type": "code",
   "execution_count": null,
   "metadata": {},
   "outputs": [],
   "source": [
    "AMO_ctrl = xr.open_dataarray(f'{path_results}/SST/AMO_yrly_ctrl.nc', decode_times=False)\n",
    "AMO_rcp  = xr.open_dataarray(f'{path_results}/SST/AMO_yrly_rcp.nc' , decode_times=False)\n",
    "AMO_lpd  = xr.open_dataarray(f'{path_results}/SST/AMO_yrly_lpd.nc' , decode_times=False)\n",
    "AMO_lpi  = xr.open_dataarray(f'{path_results}/SST/AMO_yrly_lpi.nc' , decode_times=False)"
   ]
  },
  {
   "cell_type": "code",
   "execution_count": null,
   "metadata": {},
   "outputs": [],
   "source": [
    "# comparing filtering methods and timescales\n",
    "plt.figure(figsize=(8,5))\n",
    "plt.axhline(0,c='k', lw=.5)\n",
    "plt.plot(AMO_ctrl)\n",
    "plt.plot(AMO_ctrl.rolling(time=10, center=True).mean())\n",
    "plt.plot(AMO_ctrl.rolling(time=40, center=True).mean())\n",
    "plt.plot(lowpass(AMO_ctrl.values, 40))\n",
    "plt.plot(lowpass(AMO_ctrl.values, 10))"
   ]
  },
  {
   "cell_type": "code",
   "execution_count": null,
   "metadata": {},
   "outputs": [],
   "source": [
    "f, ax = plt.subplots(1,1,figsize=(12,5))\n",
    "ax.tick_params(labelsize=14)\n",
    "ax.axhline(0,c='k', lw=.5)\n",
    "ax.plot([2050]*2, [-.15,.2], c='g', lw=.5)\n",
    "ax.plot([2200]*2, [-.15,.2], c='g', lw=.5)\n",
    "\n",
    "L1, = ax.plot(AMO_ctrl.time/365+1850, chebychev(AMO_ctrl.values, 13), c='C0', ls='--', lw=1, label='chebychev 13 yr')\n",
    "ax.plot(      AMO_rcp .time/365+ 200, chebychev(AMO_rcp .values, 13), c='C1', ls='--', lw=1)\n",
    "ax.plot(      AMO_lpd .time/365+1350, chebychev(AMO_lpd .values, 13), c='C2', ls='--', lw=1)\n",
    "ax.plot(      AMO_lpi .time/365-1600, chebychev(AMO_lpi .values, 13), c='C3', ls='--', lw=1)\n",
    "\n",
    "L2, = ax.plot(AMO_ctrl.time/365+1850, lowpass(AMO_ctrl.values, 40), c='C0', ls='-' , lw=2, label='low pass 40 yr')\n",
    "ax.plot(      AMO_rcp .time/365+ 200, lowpass(AMO_rcp .values, 40), c='C1', ls='-' , lw=2)\n",
    "ax.plot(      AMO_lpd .time/365+1350, lowpass(AMO_lpd .values, 40), c='C2', ls='-' , lw=2)\n",
    "ax.plot(      AMO_lpi .time/365-1600, lowpass(AMO_lpi .values, 40), c='C3', ls='-' , lw=2)\n",
    "\n",
    "L3, = ax.plot(AMO_ctrl.time/365+1850, xr_lintrend(chebychev(AMO_ctrl,13)), c='C0', lw=1.5, ls='-.', label='linear trend')\n",
    "ax.plot(      AMO_rcp .time/365+ 200, xr_lintrend(chebychev(AMO_rcp ,13)), c='C1', lw=1.5, ls='-.')\n",
    "ax.plot(      AMO_lpd .time/365+1350, xr_lintrend(chebychev(AMO_lpd ,13)), c='C2', ls='-.' , lw=1.5)\n",
    "ax.plot(      AMO_lpi .time/365-1600, xr_lintrend(chebychev(AMO_lpi ,13)), c='C3', ls='-.' , lw=1.5)\n",
    "\n",
    "ax.text(1950, .21, 'CTRL'         , fontsize=16, color='C0')\n",
    "ax.text(2200, .21, 'RCP'          , fontsize=16, color='C1')\n",
    "ax.text(1500, .21, 'pres. day low', fontsize=16, color='C2')\n",
    "ax.text(   0, .21, 'pre-ind. low' , fontsize=16, color='C3')\n",
    "\n",
    "ax.legend(handles=[L1, L2, L3], loc=8, ncol=3, fontsize=14, frameon=False)\n",
    "ax.set_xlabel('time[years]', fontsize=16)\n",
    "ax.set_ylabel('AMO index [$^\\circ$C]'  , fontsize=16)\n",
    "ax.set_ylim((-.17,.24))\n",
    "ax.set_xticks(np.arange(0,2400,200))\n",
    "f.tight_layout()\n",
    "plt.savefig(f'{path_results}/SST/AMO_index_overview')"
   ]
  },
  {
   "cell_type": "code",
   "execution_count": null,
   "metadata": {},
   "outputs": [],
   "source": [
    "f, ax = plt.subplots(1,1,figsize=(12,5))\n",
    "ax.tick_params(labelsize=14)\n",
    "ax.axhline(0,c='k', lw=.5)\n",
    "ax.axvline(200,c='g', lw=.5)\n",
    "ax.axvline(300,c='g', lw=.5)\n",
    "L1, = ax.plot(AMO_ctrl.time/365     , AMO_ctrl, c='C0', lw=.5, ls=':', label='yrly raw data')\n",
    "ax.plot(AMO_rcp .time/365-1700, AMO_rcp , c='C1', lw=.5, ls=':')\n",
    "# ax.plot(AMO_ctrl.time/365     , AMO_ctrl.rolling(time=15, center=True).mean(), c='C0', ls='-.', lw=1.5, label='15 yr running mean')\n",
    "# ax.plot(AMO_rcp .time/365-1700, AMO_rcp .rolling(time=15, center=True).mean(), c='C1', ls='-.', lw=1.5)\n",
    "L2, = ax.plot(AMO_ctrl.time/365     , lowpass(AMO_ctrl.values, 15), c='C0', lw=1.5, ls='--', label='low pass 15 yr')\n",
    "ax.plot(AMO_rcp .time/365-1700, lowpass(AMO_rcp .values, 15), c='C1', lw=1.5, ls='--')\n",
    "L3, = ax.plot(AMO_ctrl.time/365     , lowpass(AMO_ctrl.values, 40), c='C0', lw=2, label='low pass 40 yr')\n",
    "ax.plot(AMO_rcp .time/365-1700, lowpass(AMO_rcp .values, 40), c='C1', lw=2)\n",
    "L4, = ax.plot(AMO_ctrl.time/365     , xr_lintrend(AMO_ctrl), c='C0', lw=1.5, ls='-.', label='linear trend')\n",
    "ax.plot(AMO_rcp .time/365-1700, xr_lintrend(AMO_rcp ), c='C1', lw=1.5, ls='-.')\n",
    "\n",
    "ax.text(.05, .92, 'CTRL', transform=ax.transAxes, fontsize=16, color='C0')\n",
    "ax.text(.72, .92, 'RCP', transform=ax.transAxes, fontsize=16, color='C1')\n",
    "ax.legend(handles=[L1, L2, L3, L4], loc=3, ncol=4, fontsize=14, frameon=False)\n",
    "ax.set_xlabel('time [years]' , fontsize=16)\n",
    "ax.set_ylabel('AMO index [K]', fontsize=16)\n",
    "plt.tight_layout()\n",
    "plt.savefig(f'{path_results}/SST/AMO_index_ctrl_rcp')"
   ]
  },
  {
   "cell_type": "code",
   "execution_count": null,
   "metadata": {},
   "outputs": [],
   "source": [
    "# filtered and detrended AMO indices\n",
    "AMO_filt_detr_ctrl = chebychev(AMO_ctrl, 13)-xr_lintrend(chebychev(AMO_ctrl,13))\n",
    "AMO_filt_detr_rcp  = chebychev(AMO_rcp , 13)-xr_lintrend(chebychev(AMO_rcp ,13))\n",
    "AMO_filt_detr_lpd  = chebychev(AMO_lpd , 13)-xr_lintrend(chebychev(AMO_lpd ,13))\n",
    "AMO_filt_detr_lpi  = chebychev(AMO_lpi , 13)-xr_lintrend(chebychev(AMO_lpi ,13))\n",
    "AMO_filt_detr_ctrl.to_netcdf(f'{path_results}/SST/AMO_filt_detr_ctrl.nc')\n",
    "AMO_filt_detr_rcp .to_netcdf(f'{path_results}/SST/AMO_filt_detr_rcp.nc' )\n",
    "AMO_filt_detr_lpd .to_netcdf(f'{path_results}/SST/AMO_filt_detr_lpd.nc' )\n",
    "AMO_filt_detr_lpi .to_netcdf(f'{path_results}/SST/AMO_filt_detr_lpi.nc' )"
   ]
  },
  {
   "cell_type": "code",
   "execution_count": null,
   "metadata": {},
   "outputs": [],
   "source": [
    "f, ax = plt.subplots(1,1,figsize=(12,5))\n",
    "ax.tick_params(labelsize=14)\n",
    "ax.axhline(0,c='k', lw=.5)\n",
    "ax.plot([2050]*2, [-.15,.13], c='g', lw=.5)\n",
    "ax.plot([2200]*2, [-.15,.13], c='g', lw=.5)\n",
    "\n",
    "L1, = ax.plot(AMO_ctrl.time/365+1850, AMO_filt_detr_ctrl, c='C0', ls='--', lw=1, label='chebychev 13 yr')\n",
    "ax.plot(AMO_rcp .time/365+ 200,       AMO_filt_detr_rcp , c='C1', ls='--', lw=1)\n",
    "ax.plot(AMO_lpd .time/365+1350,       AMO_filt_detr_lpd , c='C2', ls='--', lw=1)\n",
    "ax.plot(AMO_lpi .time/365-1600,       AMO_filt_detr_lpi , c='C3', ls='--', lw=1)\n",
    "\n",
    "L2, = ax.plot(AMO_ctrl.time/365+1850, lowpass(AMO_ctrl.values, 40)-xr_lintrend(chebychev(AMO_ctrl,13)), c='C0', ls='-' , lw=1.5, label='low pass 40 yr')\n",
    "ax.plot(AMO_rcp .time/365+ 200,       lowpass(AMO_rcp .values, 40)-xr_lintrend(chebychev(AMO_rcp ,13)), c='C1', ls='-' , lw=1.5)\n",
    "ax.plot(AMO_lpd .time/365+1350,       lowpass(AMO_lpd .values, 40)-xr_lintrend(chebychev(AMO_lpd ,13)), c='C2', ls='-' , lw=1.5)\n",
    "ax.plot(AMO_lpi .time/365-1600,       lowpass(AMO_lpi .values, 40)-xr_lintrend(chebychev(AMO_lpi ,13)), c='C3', ls='-' , lw=1.5)\n",
    "\n",
    "ax.text(1950, .15, 'CTRL'         , fontsize=16, color='C0')\n",
    "ax.text(2200, .15, 'RCP'          , fontsize=16, color='C1')\n",
    "ax.text(1500, .15, 'pres. day low', fontsize=16, color='C2')\n",
    "ax.text(   0, .15, 'pre-ind. low' , fontsize=16, color='C3')\n",
    "\n",
    "ax.legend(handles=[L1, L2], loc=8, ncol=3, fontsize=14, frameon=False)\n",
    "ax.set_xlabel('time[years]', fontsize=16)\n",
    "ax.set_ylabel('detrended AMO index [$^\\circ$C]'  , fontsize=16)\n",
    "ax.set_ylim((-.17,.18))\n",
    "ax.set_xticks(np.arange(0,2400,200))\n",
    "f.tight_layout()\n",
    "plt.savefig(f'{path_results}/SST/AMO_detrended_overview')"
   ]
  },
  {
   "cell_type": "markdown",
   "metadata": {},
   "source": [
    "- comparable period to observations (approx 70 years; Trenberth & Shea)\n",
    "- much smaller amplitude though (0.05K vs. 0.2K)"
   ]
  },
  {
   "cell_type": "code",
   "execution_count": null,
   "metadata": {},
   "outputs": [],
   "source": [
    "# periodogram\n",
    "AMOs = [AMO_ctrl, AMO_rcp, AMO_lpd, AMO_lpi]\n",
    "\n",
    "f, ax = plt.subplots(1, 1, figsize=(8,5), sharey=True)\n",
    "ax.set_ylabel('spectral power', fontsize=16)\n",
    "\n",
    "for i in range (4):\n",
    "    label= ['CTRL', 'RCP', 'LPD', 'LPI'][i]\n",
    "    f, Pxx = sp.signal.welch(AMOs[i]-xr_lintrend(AMOs[i]), fs=1)\n",
    "    ax.loglog(1/f, np.sqrt(Pxx), label=label)\n",
    "\n",
    "ax.tick_params(labelsize=14)\n",
    "ax.set_xlabel('period [yr]', fontsize=16)\n",
    "ax.legend(fontsize=14, frameon=False)\n",
    "    \n",
    "plt.tight_layout()\n",
    "# plt.savefig(f'{path_results}/SST/ENSO_spectrum')"
   ]
  },
  {
   "cell_type": "code",
   "execution_count": null,
   "metadata": {},
   "outputs": [],
   "source": [
    "SST_yrly_detr_ctrl = xr.open_dataarray(f'{path_samoc}/SST/SST_yrly_detr_ctrl.nc', decode_times=False)"
   ]
  },
  {
   "cell_type": "code",
   "execution_count": null,
   "metadata": {},
   "outputs": [],
   "source": [
    "SST_yrly_detr_ctrl[:,2000,1000].plot()\n",
    "(10*AMO_filt_detr_ctrl).plot()"
   ]
  },
  {
   "cell_type": "code",
   "execution_count": null,
   "metadata": {},
   "outputs": [],
   "source": []
  }
 ],
 "metadata": {
  "kernelspec": {
   "display_name": "Python 3",
   "language": "python",
   "name": "python3"
  },
  "language_info": {
   "codemirror_mode": {
    "name": "ipython",
    "version": 3
   },
   "file_extension": ".py",
   "mimetype": "text/x-python",
   "name": "python",
   "nbconvert_exporter": "python",
   "pygments_lexer": "ipython3",
   "version": "3.6.6"
  }
 },
 "nbformat": 4,
 "nbformat_minor": 2
}
