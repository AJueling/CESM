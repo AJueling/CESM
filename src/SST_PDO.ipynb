{
 "cells": [
  {
   "cell_type": "markdown",
   "metadata": {},
   "source": [
    "# Pacific Decadal Oscillation - PDO index\n",
    "\n",
    "Mantua et al. (1997)\n",
    "\n",
    "> The leading EOF of monthlySST anomalies over the North Pacific (after removing the global mean SST anomaly) and its associated PC time series are termed the Pacific Decadal Oscillation (PDO)\n",
    "\n",
    "1. compute monthly global mean SST, deseasonalize it\n",
    "\n",
    "2. North Pacific monthly output fields\n",
    "\n",
    "    2.1. create monthly field, determine extend of grid, limit all coordinates appropriately, save as single file\n",
    "        \n",
    "        a) North of 0 deg N\n",
    "        \n",
    "        b) North of 20 deg N\n",
    "    \n",
    "    2.2. deseasonalize and remove global mean, deseasonalized SST, remove mean\n",
    "\n",
    "3. EOF analysis\n",
    "\n",
    "maybe use ocn rect for it"
   ]
  },
  {
   "cell_type": "code",
   "execution_count": null,
   "metadata": {},
   "outputs": [],
   "source": [
    "import os\n",
    "import sys\n",
    "sys.path.append(\"..\")\n",
    "import scipy as sp\n",
    "import numpy as np\n",
    "import xarray as xr\n",
    "import seaborn as sns\n",
    "import cmocean\n",
    "import cartopy\n",
    "import cartopy.crs as ccrs\n",
    "import matplotlib as mpl\n",
    "import matplotlib.pyplot as plt\n",
    "import matplotlib.patches as mpatches"
   ]
  },
  {
   "cell_type": "code",
   "execution_count": null,
   "metadata": {},
   "outputs": [],
   "source": [
    "%matplotlib inline\n",
    "%config InlineBackend.print_figure_kwargs={'bbox_inches':None}\n",
    "%load_ext autoreload\n",
    "%autoreload 2\n",
    "%aimport - numpy - scipy - matplotlib.pyplot"
   ]
  },
  {
   "cell_type": "code",
   "execution_count": null,
   "metadata": {},
   "outputs": [],
   "source": [
    "from OHC import t2da, t2ds\n",
    "from SST import SST_index, EOF_SST_analysis\n",
    "from maps import map_robinson, map_eq_earth, rect_polygon, regr_map\n",
    "from grid import find_array_idx\n",
    "from paths import path_results, path_samoc, file_ex_ocn_ctrl, file_ex_ocn_rect, file_ex_ocn_lpi, file_HadISST\n",
    "from regions import boolean_mask, SOM_area, global_ocean, gl_ocean_rect, gl_ocean_low, mask_box_in_region\n",
    "from plotting import shifted_color_map, discrete_cmap\n",
    "from timeseries import IterateOutputCESM, lowpass, chebychev, notch, deseasonalize\n",
    "from xr_DataArrays import xr_AREA\n",
    "from xr_regression import xr_lintrend, xr_linear_trends_2D, xr_linear_trend, ocn_field_regression, lag_linregress_3D, xr_quadtrend"
   ]
  },
  {
   "cell_type": "markdown",
   "metadata": {},
   "source": [
    "### 1. global mean SST temperature series"
   ]
  },
  {
   "cell_type": "markdown",
   "metadata": {},
   "source": [
    "HadISST 60S-60N time series is generated in SST_obs.ipynb"
   ]
  },
  {
   "cell_type": "code",
   "execution_count": null,
   "metadata": {},
   "outputs": [],
   "source": [
    "# SST_gm_ctrl      = xr.open_dataarray(f'{path_results}/SST_global_mean_monthly_ctrl.nc'     , decode_times=False)\n",
    "# SST_gm_rcp       = xr.open_dataarray(f'{path_results}/SST_global_mean_monthly_rcp.nc'      , decode_times=False)\n",
    "SST_gm_ctrl = xr.open_dataarray(f'{path_results}/SST_global_mean_monthly_rect_ctrl.nc', decode_times=False)\n",
    "SST_gm_rcp  = xr.open_dataarray(f'{path_results}/SST_global_mean_monthly_rect_rcp.nc' , decode_times=False)\n",
    "SST_gm_lpd  = xr.open_dataarray(f'{path_results}/SST_global_mean_monthly_lpd.nc'      , decode_times=False)\n",
    "SST_gm_lpi  = xr.open_dataarray(f'{path_results}/SST_global_mean_monthly_lpi.nc'      , decode_times=False)\n",
    "\n",
    "SST_xm_ctrl = xr.open_dataarray(f'{path_results}/SST_60S_60N_mean_monthly_rect_ctrl.nc', decode_times=False)\n",
    "SST_xm_rcp  = xr.open_dataarray(f'{path_results}/SST_60S_60N_mean_monthly_rect_rcp.nc' , decode_times=False)\n",
    "SST_xm_lpd  = xr.open_dataarray(f'{path_results}/SST_60S_60N_mean_monthly_lpd.nc'      , decode_times=False)\n",
    "SST_xm_lpi  = xr.open_dataarray(f'{path_results}/SST_60S_60N_mean_monthly_lpi.nc'      , decode_times=False)\n",
    "SST_xm_had  = xr.open_dataarray(f'{path_results}/SST_60S_60N_mean_monthly_had.nc'      , decode_times=False)"
   ]
  },
  {
   "cell_type": "code",
   "execution_count": null,
   "metadata": {},
   "outputs": [],
   "source": [
    "# deseasonalize\n",
    "SST_gm_ds_ctrl = deseasonalize(SST_gm_ctrl)\n",
    "SST_gm_ds_rcp  = deseasonalize(SST_gm_rcp )\n",
    "SST_gm_ds_lpd  = deseasonalize(SST_gm_lpd )\n",
    "SST_gm_ds_lpi  = deseasonalize(SST_gm_lpi )\n",
    "SST_xm_ds_ctrl = deseasonalize(SST_xm_ctrl)\n",
    "SST_xm_ds_rcp  = deseasonalize(SST_xm_rcp )\n",
    "SST_xm_ds_lpd  = deseasonalize(SST_xm_lpd )\n",
    "SST_xm_ds_lpi  = deseasonalize(SST_xm_lpi )\n",
    "SST_xm_ds_had  = deseasonalize(SST_xm_had )"
   ]
  },
  {
   "cell_type": "code",
   "execution_count": null,
   "metadata": {},
   "outputs": [],
   "source": [
    "plt.figure(figsize=(8,5))\n",
    "plt.tick_params(labelsize=14)\n",
    "plt.plot([-1.5,2], [-1  ,2.5], c='k', lw=.5)\n",
    "plt.plot([-1.5,2], [-1.5,2  ], c='k', lw=.5)\n",
    "plt.plot([-1.5,2], [-0.5,3  ], c='k', lw=.5)\n",
    "plt.plot([-1.5,2], [-2  ,1.5], c='k', lw=.5)\n",
    "plt.xlim((-1,1.5))\n",
    "plt.ylim((-1,1.5))\n",
    "plt.scatter(SST_xm_ds_ctrl-SST_xm_ds_ctrl.mean(dim='time'), SST_gm_ds_ctrl-SST_gm_ds_ctrl.mean(dim='time')+.5, alpha=.1)\n",
    "plt.scatter(SST_xm_ds_rcp -SST_xm_ds_rcp .mean(dim='time'), SST_gm_ds_rcp -SST_gm_ds_rcp .mean(dim='time')   , alpha=.1)\n",
    "plt.scatter(SST_xm_ds_lpd -SST_xm_ds_lpd .mean(dim='time'), SST_gm_ds_lpd -SST_gm_ds_lpd .mean(dim='time')+1 , alpha=.1)\n",
    "plt.scatter(SST_xm_ds_lpi -SST_xm_ds_lpi .mean(dim='time'), SST_gm_ds_lpi -SST_gm_ds_lpi .mean(dim='time')-.5, alpha=.1)\n",
    "plt.scatter(SST_xm_ds_had -SST_xm_ds_had .mean(dim='time'), [-.9]*len(SST_xm_ds_had), alpha=.1)\n",
    "plt.ylabel('global mean SST' , fontsize=14)\n",
    "plt.xlabel('60S-60N mean SST', fontsize=14)\n",
    "plt.tight_layout()"
   ]
  },
  {
   "cell_type": "code",
   "execution_count": null,
   "metadata": {},
   "outputs": [],
   "source": [
    "plt.figure(figsize=(8,5))\n",
    "plt.tick_params(labelsize=14)\n",
    "plt.plot([-1.5,2], [-1  ,2.5], c='k', lw=.5)\n",
    "plt.plot([-1.5,2], [-1.5,2  ], c='k', lw=.5)\n",
    "plt.plot([-1.5,2], [-0.5,3  ], c='k', lw=.5)\n",
    "plt.plot([-1.5,2], [-2  ,1.5], c='k', lw=.5)\n",
    "plt.xlim((-.3,.3))\n",
    "plt.ylim((-1.3,1.4))\n",
    "plt.scatter(SST_xm_ds_ctrl-xr_quadtrend(SST_xm_ds_ctrl), SST_gm_ds_ctrl-xr_quadtrend(SST_gm_ds_ctrl)+.5, alpha=.1)\n",
    "plt.scatter(SST_xm_ds_rcp -xr_quadtrend(SST_xm_ds_rcp ), SST_gm_ds_rcp -xr_quadtrend(SST_gm_ds_rcp )   , alpha=.1)\n",
    "plt.scatter(SST_xm_ds_lpd -xr_quadtrend(SST_xm_ds_lpd ), SST_gm_ds_lpd -xr_quadtrend(SST_gm_ds_lpd )+1 , alpha=.1)\n",
    "plt.scatter(SST_xm_ds_lpi -xr_quadtrend(SST_xm_ds_lpi ), SST_gm_ds_lpi -xr_quadtrend(SST_gm_ds_lpi )-.5, alpha=.1)\n",
    "plt.scatter(SST_xm_ds_had -xr_quadtrend(SST_xm_ds_had ), [-1]*len(SST_xm_ds_had), alpha=.1)\n",
    "\n",
    "plt.scatter(SST_xm_ds_lpd[-200*12:] -xr_quadtrend(SST_xm_ds_lpd[-200*12:] ),\n",
    "            SST_gm_ds_lpd[-200*12:] -xr_quadtrend(SST_gm_ds_lpd[-200*12:] )+1.1 , alpha=.1)\n",
    "plt.scatter(SST_xm_ds_lpi[-200*12:] -xr_quadtrend(SST_xm_ds_lpi[-200*12:] ),\n",
    "            SST_gm_ds_lpi[-200*12:] -xr_quadtrend(SST_gm_ds_lpi[-200*12:] )-.6, alpha=.1)\n",
    "plt.scatter(SST_xm_ds_had[-100*12:] -xr_quadtrend(SST_xm_ds_had[-100*12:] ),\n",
    "            [-1.1]*(100*12), alpha=.1)\n",
    "plt.ylabel('global mean SST' , fontsize=14)\n",
    "plt.xlabel('60S-60N mean SST', fontsize=14)\n",
    "plt.tight_layout()"
   ]
  },
  {
   "cell_type": "code",
   "execution_count": null,
   "metadata": {},
   "outputs": [],
   "source": []
  },
  {
   "cell_type": "code",
   "execution_count": null,
   "metadata": {},
   "outputs": [],
   "source": [
    "len(SST_xm_ds_had[-200*12:] )"
   ]
  },
  {
   "cell_type": "code",
   "execution_count": null,
   "metadata": {},
   "outputs": [],
   "source": [
    "# lowpass deseasonalizing\n",
    "f, ax = plt.subplots(1, 2, figsize=(12,5))\n",
    "for i in range(2):\n",
    "    ax[i].tick_params(labelsize=14)\n",
    "\n",
    "ax[0].plot(SST_xm_ctrl.time[:120]/12   , SST_xm_ctrl   [:120])\n",
    "ax[0].plot(SST_xm_ctrl.time[:120]/12   , SST_xm_ds_ctrl[:120])\n",
    "ax[0].plot(SST_xm_rcp .time[:120]/12+11, SST_xm_rcp    [:120])\n",
    "ax[0].plot(SST_xm_rcp .time[:120]/12+11, SST_xm_ds_rcp [:120])\n",
    "ax[0].plot(SST_xm_rcp .time[:120]/12+11, SST_xm_ds_rcp [:120])\n",
    "\n",
    "ax[1].plot(SST_xm_ctrl.time/12    , SST_xm_ctrl   )\n",
    "ax[1].plot(SST_xm_ctrl.time/12    , SST_xm_ds_ctrl)\n",
    "ax[1].plot(SST_xm_rcp .time/12+220, SST_xm_rcp    )\n",
    "ax[1].plot(SST_xm_rcp .time/12+220, SST_xm_ds_rcp )\n",
    "ax[1].plot(SST_xm_had .time/365   , SST_xm_had    )\n",
    "ax[1].plot(SST_xm_had .time/365   , SST_xm_ds_had )\n",
    "plt.tight_layout()\n",
    "plt.savefig(f'{path_results}/SST/SST_deseasonalizing_global_mean')"
   ]
  },
  {
   "cell_type": "code",
   "execution_count": null,
   "metadata": {},
   "outputs": [],
   "source": [
    "plt.figure(figsize=(12,5))\n",
    "plt.tick_params(labelsize=14)\n",
    "\n",
    "plt.plot(SST_gm_ctrl.time/12 +1950, SST_gm_ctrl   , c='C0', lw=.3, alpha=.5)\n",
    "plt.plot(SST_gm_rcp .time/12 +2200, SST_gm_rcp    , c='C1', lw=.3, alpha=.5)\n",
    "plt.plot(SST_gm_lpd .time/365+1350, SST_gm_lpd    , c='C2', lw=.3, alpha=.5)\n",
    "plt.plot(SST_gm_lpi .time/365-1600, SST_gm_lpi    , c='C3', lw=.3, alpha=.5)\n",
    "plt.plot(SST_gm_ctrl.time/12 +1950, SST_gm_ds_ctrl, c='C0')\n",
    "plt.plot(SST_gm_rcp .time/12 +2200, SST_gm_ds_rcp , c='C1')\n",
    "plt.plot(SST_gm_lpd .time/365+1350, SST_gm_ds_lpd , c='C2')\n",
    "plt.plot(SST_gm_lpi .time/365-1600, SST_gm_ds_lpi , c='C3')\n",
    "\n",
    "plt.plot(SST_xm_ctrl.time/12 +1950, SST_xm_ctrl   , c='C0', lw=.3, alpha=.5)\n",
    "plt.plot(SST_xm_rcp .time/12 +2200, SST_xm_rcp    , c='C1', lw=.3, alpha=.5)\n",
    "plt.plot(SST_xm_lpd .time/365+1350, SST_xm_lpd    , c='C2', lw=.3, alpha=.5)\n",
    "plt.plot(SST_xm_lpi .time/365-1600, SST_xm_lpi    , c='C3', lw=.3, alpha=.5)\n",
    "plt.plot(SST_xm_had .time/365+2350, SST_xm_had    , c='C4', lw=.3, alpha=.5)\n",
    "plt.plot(SST_xm_ctrl.time/12 +1950, SST_xm_ds_ctrl, c='C0')\n",
    "plt.plot(SST_xm_rcp .time/12 +2200, SST_xm_ds_rcp , c='C1')\n",
    "plt.plot(SST_xm_lpd .time/365+1350, SST_xm_ds_lpd , c='C2')\n",
    "plt.plot(SST_xm_lpi .time/365-1600, SST_xm_ds_lpi , c='C3')\n",
    "plt.plot(SST_xm_had .time/365+2350, SST_xm_ds_had , c='C4')\n",
    "\n",
    "plt.ylabel('global / 60S-60N mean SST [$^\\circ$C]', fontsize=16)\n",
    "plt.xlabel('time [years]', fontsize=16)\n",
    "\n",
    "plt.tight_layout()"
   ]
  },
  {
   "cell_type": "markdown",
   "metadata": {},
   "source": [
    "### 2.1. creating file with monthly SST fields in North Pacific"
   ]
  },
  {
   "cell_type": "code",
   "execution_count": null,
   "metadata": {},
   "outputs": [],
   "source": [
    "f, ax = plt.subplots(3,3, figsize=(12,10))\n",
    "for i, r in enumerate(['Pac_40S', 'Pac_Eq', 'Pac_20N']):\n",
    "    latS = [-38, 0, 20][i]\n",
    "    lonE = [300, 285, 255][i]\n",
    "    Pac_MASK = mask_box_in_region(domain='ocn_rect', mask_nr=2, bounding_lats=(latS,68), bounding_lons=(110,lonE))\n",
    "    Pac_MASK = Pac_MASK.where(Pac_MASK.t_lon+1/.6*Pac_MASK.t_lat<333,0)\n",
    "    Pac_MASK.plot(ax=ax[0,i])\n",
    "    Pac_MASK = mask_box_in_region(domain='ocn_low', mask_nr=2, bounding_lats=(latS,68), bounding_lons=(110,lonE))\n",
    "    Pac_MASK.plot(ax=ax[1,i])\n",
    "    Pac_MASK = mask_box_in_region(domain='ocn_had', mask_nr=2, bounding_lats=(latS,68), bounding_lons=(110,lonE))\n",
    "    Pac_MASK.plot(ax=ax[2,i])\n",
    "plt.tight_layout()"
   ]
  },
  {
   "cell_type": "code",
   "execution_count": null,
   "metadata": {},
   "outputs": [],
   "source": [
    "SST_Pac_38S_ctrl = xr.open_dataarray(f'{path_samoc}/SST/SST_monthly_Pac_38S_rect_ctrl.nc', decode_times=False)\n",
    "SST_Pac_38S_rcp  = xr.open_dataarray(f'{path_samoc}/SST/SST_monthly_Pac_38S_rect_rcp.nc' , decode_times=False)\n",
    "SST_Pac_38S_had  = xr.open_dataarray(f'{path_samoc}/SST/SST_monthly_Pac_38S_had.nc'      , decode_times=False)\n",
    "\n",
    "SST_Pac_Eq_ctrl  = xr.open_dataarray(f'{path_samoc}/SST/SST_monthly_Pac_Eq_rect_ctrl.nc' , decode_times=False)\n",
    "SST_Pac_Eq_rcp   = xr.open_dataarray(f'{path_samoc}/SST/SST_monthly_Pac_Eq_rect_rcp.nc'  , decode_times=False)\n",
    "SST_Pac_Eq_had   = xr.open_dataarray(f'{path_samoc}/SST/SST_monthly_Pac_Eq_had.nc'       , decode_times=False)\n",
    "\n",
    "SST_Pac_20N_ctrl = xr.open_dataarray(f'{path_samoc}/SST/SST_monthly_Pac_20N_rect_ctrl.nc', decode_times=False)\n",
    "SST_Pac_20N_rcp  = xr.open_dataarray(f'{path_samoc}/SST/SST_monthly_Pac_20N_rect_rcp.nc' , decode_times=False)\n",
    "SST_Pac_20N_had  = xr.open_dataarray(f'{path_samoc}/SST/SST_monthly_Pac_20N_had.nc'      , decode_times=False)"
   ]
  },
  {
   "cell_type": "markdown",
   "metadata": {},
   "source": [
    "### 2.2.1. deseasonalize monthly SST field"
   ]
  },
  {
   "cell_type": "code",
   "execution_count": null,
   "metadata": {},
   "outputs": [],
   "source": [
    "%%time\n",
    "# 6 min\n",
    "SST_Pac_38S_ds_ctrl = deseasonalize(SST_Pac_38S_ctrl)\n",
    "SST_Pac_38S_ds_rcp  = deseasonalize(SST_Pac_38S_rcp )\n",
    "SST_Pac_38S_ds_had  = deseasonalize(SST_Pac_38S_had )\n",
    "SST_Pac_Eq_ds_ctrl  = deseasonalize(SST_Pac_Eq_ctrl )\n",
    "SST_Pac_Eq_ds_rcp   = deseasonalize(SST_Pac_Eq_rcp  )\n",
    "SST_Pac_Eq_ds_had   = deseasonalize(SST_Pac_Eq_had  )\n",
    "SST_Pac_20N_ds_ctrl = deseasonalize(SST_Pac_20N_ctrl)\n",
    "SST_Pac_20N_ds_rcp  = deseasonalize(SST_Pac_20N_rcp )\n",
    "SST_Pac_20N_ds_had  = deseasonalize(SST_Pac_20N_had )"
   ]
  },
  {
   "cell_type": "code",
   "execution_count": null,
   "metadata": {},
   "outputs": [],
   "source": [
    "SST_Pac_Eq_ctrl[:120,100,100].plot()\n",
    "SST_Pac_Eq_ds_ctrl[:120,100,100].plot()"
   ]
  },
  {
   "cell_type": "markdown",
   "metadata": {},
   "source": [
    "the initial bias due to the arbitrary beginning month is the reason we cut off two years of the data on either side"
   ]
  },
  {
   "cell_type": "markdown",
   "metadata": {},
   "source": [
    "### 2.2.2. detrend with 60S-60N mean, des. SST"
   ]
  },
  {
   "cell_type": "code",
   "execution_count": null,
   "metadata": {},
   "outputs": [],
   "source": [
    "# in the gm timeseries are some months of the last incomplete year \n",
    "\n",
    "SST_Pac_38S_ds_dt_ctrl = SST_Pac_38S_ds_ctrl - SST_xm_ds_ctrl[:-7]\n",
    "SST_Pac_38S_ds_dt_rcp  = SST_Pac_38S_ds_rcp  - SST_xm_ds_rcp[:-1]\n",
    "SST_Pac_38S_ds_dt_had  = SST_Pac_38S_ds_had  - SST_xm_ds_had\n",
    "\n",
    "SST_Pac_Eq_ds_dt_ctrl  = SST_Pac_Eq_ds_ctrl  - SST_xm_ds_ctrl[:-7]\n",
    "SST_Pac_Eq_ds_dt_rcp   = SST_Pac_Eq_ds_rcp   - SST_xm_ds_rcp[:-1]\n",
    "SST_Pac_Eq_ds_dt_had   = SST_Pac_Eq_ds_had   - SST_xm_ds_had\n",
    "\n",
    "SST_Pac_20N_ds_dt_ctrl = SST_Pac_20N_ds_ctrl - SST_xm_ds_ctrl[:-7]\n",
    "SST_Pac_20N_ds_dt_rcp  = SST_Pac_20N_ds_rcp  - SST_xm_ds_rcp[:-1]\n",
    "SST_Pac_20N_ds_dt_had  = SST_Pac_20N_ds_had  - SST_xm_ds_had\n"
   ]
  },
  {
   "cell_type": "markdown",
   "metadata": {},
   "source": [
    "### 2.2.3. remove remaining mean\n",
    "this is probably not necessary"
   ]
  },
  {
   "cell_type": "code",
   "execution_count": null,
   "metadata": {},
   "outputs": [],
   "source": [
    "SST_Pac_20N_ds_dt_ctrl[0,:,:].plot()"
   ]
  },
  {
   "cell_type": "code",
   "execution_count": null,
   "metadata": {},
   "outputs": [],
   "source": [
    "SST_Pac_38S_ds_dt_dm_ctrl = SST_Pac_38S_ds_dt_ctrl - SST_Pac_38S_ds_dt_ctrl.mean('time')\n",
    "SST_Pac_38S_ds_dt_dm_rcp  = SST_Pac_38S_ds_dt_rcp  - SST_Pac_38S_ds_dt_rcp .mean('time')\n",
    "SST_Pac_38S_ds_dt_dm_had  = SST_Pac_38S_ds_dt_had  - SST_Pac_38S_ds_dt_had .mean('time')\n",
    "\n",
    "SST_Pac_Eq_ds_dt_dm_ctrl  = SST_Pac_Eq_ds_dt_ctrl  - SST_Pac_Eq_ds_dt_ctrl .mean('time')\n",
    "SST_Pac_Eq_ds_dt_dm_rcp   = SST_Pac_Eq_ds_dt_rcp   - SST_Pac_Eq_ds_dt_rcp  .mean('time')\n",
    "SST_Pac_Eq_ds_dt_dm_had   = SST_Pac_Eq_ds_dt_had   - SST_Pac_Eq_ds_dt_had  .mean('time')\n",
    "\n",
    "SST_Pac_20N_ds_dt_dm_ctrl = SST_Pac_20N_ds_dt_ctrl - SST_Pac_20N_ds_dt_ctrl.mean('time')\n",
    "SST_Pac_20N_ds_dt_dm_rcp  = SST_Pac_20N_ds_dt_rcp  - SST_Pac_20N_ds_dt_rcp .mean('time')\n",
    "SST_Pac_20N_ds_dt_dm_had  = SST_Pac_20N_ds_dt_had  - SST_Pac_20N_ds_dt_had .mean('time')\n"
   ]
  },
  {
   "cell_type": "code",
   "execution_count": null,
   "metadata": {},
   "outputs": [],
   "source": [
    "SST_Pac_20N_ds_dt_dm_ctrl[0,:,:].plot()"
   ]
  },
  {
   "cell_type": "markdown",
   "metadata": {},
   "source": [
    "### 3. EOF analysis"
   ]
  },
  {
   "cell_type": "code",
   "execution_count": null,
   "metadata": {},
   "outputs": [],
   "source": [
    "SST_Pac_38S_ds_dt_dm_ctrl"
   ]
  },
  {
   "cell_type": "code",
   "execution_count": null,
   "metadata": {},
   "outputs": [],
   "source": []
  },
  {
   "cell_type": "code",
   "execution_count": null,
   "metadata": {},
   "outputs": [],
   "source": [
    "%%time\n",
    "# 12 mins for all\n",
    "# cut off 2 year on either end due to problems with the erroneous trend introduced by the filtering\n",
    "for j, run in enumerate(['ctrl', 'rcp', 'had']):\n",
    "    object_list = [[SST_Pac_38S_ds_dt_dm_ctrl, SST_Pac_Eq_ds_dt_dm_ctrl, SST_Pac_20N_ds_dt_dm_ctrl],\n",
    "                   [SST_Pac_38S_ds_dt_dm_rcp , SST_Pac_Eq_ds_dt_dm_rcp , SST_Pac_20N_ds_dt_dm_rcp ],\n",
    "                   [SST_Pac_38S_ds_dt_dm_had , SST_Pac_Eq_ds_dt_dm_had , SST_Pac_20N_ds_dt_dm_had ]\n",
    "                  ][j]\n",
    "    domain = ['ocn_rect', 'ocn_rect', 'ocn_had'][j]\n",
    "    if j<2:\n",
    "        continue\n",
    "        domain = 'ocn_rect'\n",
    "        lonE_list = [285, 285, 285]\n",
    "    elif j==2:\n",
    "        domain =  'ocn_had'\n",
    "        lonE_list = lonE = [300, 285, 255]\n",
    "    for i, r in enumerate(['Pac_38S', 'Pac_Eq', 'Pac_20N']):\n",
    "        print(i)\n",
    "        SST_object = object_list[i]\n",
    "        fn = f'{path_results}/SST/SST_PDO_EOF_{r}_{run}.nc'\n",
    "        latS = [-38,0,20][i]\n",
    "        lonE = lonE_list[i]\n",
    "        print(SST_object)\n",
    "        Pac_MASK = mask_box_in_region(domain=domain, mask_nr=2, bounding_lats=(latS,68), bounding_lons=(110,lonE))\n",
    "        print(xr_AREA(domain).where(Pac_MASK, drop=True))\n",
    "        if j<2:\n",
    "            Pac_area = xr_AREA(domain).where(Pac_MASK, drop=True)\n",
    "        elif j==2:\n",
    "            Pac_area = xr_AREA(domain)#.where(Pac_MASK, drop=True)\n",
    "        eof, pc  = EOF_SST_analysis(xa=SST_object[24:-24], weights=Pac_area, fn=fn)"
   ]
  },
  {
   "cell_type": "code",
   "execution_count": null,
   "metadata": {},
   "outputs": [],
   "source": [
    "Pac_38S_ctrl = xr.open_dataset(f'{path_results}/SST/SST_PDO_EOF_Pac_38S_ctrl.nc', decode_times=False)\n",
    "Pac_38S_rcp  = xr.open_dataset(f'{path_results}/SST/SST_PDO_EOF_Pac_38S_rcp.nc' , decode_times=False)\n",
    "Pac_38S_had  = xr.open_dataset(f'{path_results}/SST/SST_PDO_EOF_Pac_38S_had.nc' , decode_times=False)\n",
    "\n",
    "Pac_Eq_ctrl  = xr.open_dataset(f'{path_results}/SST/SST_PDO_EOF_Pac_Eq_ctrl.nc' , decode_times=False)\n",
    "Pac_Eq_rcp   = xr.open_dataset(f'{path_results}/SST/SST_PDO_EOF_Pac_Eq_rcp.nc'  , decode_times=False)\n",
    "Pac_Eq_had   = xr.open_dataset(f'{path_results}/SST/SST_PDO_EOF_Pac_Eq_had.nc'  , decode_times=False)\n",
    "\n",
    "Pac_20N_ctrl = xr.open_dataset(f'{path_results}/SST/SST_PDO_EOF_Pac_20N_ctrl.nc', decode_times=False)\n",
    "Pac_20N_rcp  = xr.open_dataset(f'{path_results}/SST/SST_PDO_EOF_Pac_20N_rcp.nc' , decode_times=False)\n",
    "Pac_20N_had  = xr.open_dataset(f'{path_results}/SST/SST_PDO_EOF_Pac_20N_had.nc' , decode_times=False)\n"
   ]
  },
  {
   "cell_type": "code",
   "execution_count": null,
   "metadata": {},
   "outputs": [],
   "source": [
    "TPI_ctrl = xr.open_dataarray(f'{path_results}/SST/TPI_ctrl.nc', decode_times=False)\n",
    "TPI_rcp  = xr.open_dataarray(f'{path_results}/SST/TPI_rcp.nc' , decode_times=False)"
   ]
  },
  {
   "cell_type": "code",
   "execution_count": null,
   "metadata": {},
   "outputs": [],
   "source": [
    "plt.figure(figsize=(12,5))\n",
    "plt.tick_params(labelsize=14)\n",
    "plt.axhline(0, c='k', lw=.5)\n",
    "L1, = plt.plot(Pac_38S_ctrl.time/12+100, chebychev(Pac_38S_ctrl.pcs, 13*12), c='C0', lw=1, ls='--', label='PC 38S')\n",
    "L2, = plt.plot(Pac_38S_rcp .time/12+300, chebychev(Pac_38S_rcp .pcs, 13*12), c='C1', lw=1, ls='--' )\n",
    "L3, = plt.plot(Pac_Eq_ctrl .time/12+100, chebychev(Pac_Eq_ctrl .pcs, 13*12), c='C0', lw=1, ls=':' , label='PC Eq.')\n",
    "L4, = plt.plot(Pac_Eq_rcp  .time/12+300, chebychev(Pac_Eq_rcp  .pcs, 13*12), c='C1', lw=1, ls=':'  )\n",
    "L5, = plt.plot(Pac_20N_ctrl.time/12+100, chebychev(Pac_20N_ctrl.pcs, 13*12), c='C0', lw=3, ls='-' , label='PC 20N')\n",
    "L6, = plt.plot(Pac_20N_rcp .time/12+300, -chebychev(Pac_20N_rcp .pcs, 13*12), c='C1', lw=3, ls='-'  )\n",
    "\n",
    "L7, = plt.plot(TPI_ctrl.time/365     , 5*chebychev(TPI_ctrl, 13), c='C0', lw=2, ls='-.', label='TPI')\n",
    "L8, = plt.plot(TPI_rcp .time/365-1700, 5*chebychev(TPI_rcp , 13), c='C1', lw=2, ls='-.')\n",
    "\n",
    "plt.xlabel('time [years]'             , fontsize=16)\n",
    "plt.ylabel('PDO/IPO/TPI indices', fontsize=16)\n",
    "plt.legend(handles=[L1, L3, L5, L7],ncol=4, fontsize=16)\n",
    "plt.tight_layout()\n",
    "plt.savefig(f'{path_results}/SST/SST_PMV_ctrl_rcp')"
   ]
  },
  {
   "cell_type": "markdown",
   "metadata": {},
   "source": [
    "## correlation plots"
   ]
  },
  {
   "cell_type": "code",
   "execution_count": null,
   "metadata": {},
   "outputs": [],
   "source": [
    "# %%time\n",
    "# SST_rect_ctrl = xr.open_dataarray(f'{path_samoc}/SST/SST_monthly_rect_ctrl.nc', decode_times=False)\n",
    "# SST_rect_rcp  = xr.open_dataarray(f'{path_samoc}/SST/SST_monthly_rect_rcp.nc' , decode_times=False)\n",
    "# SST_rect_ds_dt_ctrl = lowpass(lowpass(notch(SST_rect_ctrl, 12), 12), 12) - SST_gm_rect_ds_ctrl[:-7]\n",
    "# SST_rect_ds_dt_rcp  = lowpass(lowpass(notch(SST_rect_rcp , 12), 12), 12) - SST_gm_rect_ds_rcp[:-1]\n",
    "# SST_rect_ds_dt_ctrl.to_netcdf(f'{path_samoc}/SST/SST_monthly_rect_ds_dt_ctrl.nc')\n",
    "# SST_rect_ds_dt_rcp .to_netcdf(f'{path_samoc}/SST/SST_monthly_rect_ds_dt_rcp.nc' )"
   ]
  },
  {
   "cell_type": "code",
   "execution_count": null,
   "metadata": {},
   "outputs": [],
   "source": [
    "SST_rect_ds_dt_ctrl = xr.open_dataarray(f'{path_samoc}/SST/SST_monthly_rect_ds_dt_ctrl.nc', decode_times=False)\n",
    "SST_rect_ds_dt_rcp  = xr.open_dataarray(f'{path_samoc}/SST/SST_monthly_rect_ds_dt_rcp.nc' , decode_times=False)"
   ]
  },
  {
   "cell_type": "code",
   "execution_count": null,
   "metadata": {},
   "outputs": [],
   "source": [
    "%%time\n",
    "# 2:25 min\n",
    "# ds_20N_ctrl = lag_linregress_3D(Pac_20N_ctrl.pcs[:-7,0], SST_rect_ds_dt_ctrl[24:-(24+7)], dof_corr=1./(12*13))\n",
    "ds_38S_ctrl = lag_linregress_3D(Pac_38S_ctrl.pcs[:-7,0], SST_rect_ds_dt_ctrl[24:-(24+7)], dof_corr=1./(12*13))\n",
    "# ds_20N_rcp  = lag_linregress_3D(-Pac_20N_rcp.pcs[:-7,0], SST_rect_ds_dt_rcp [24:-(24+7)], dof_corr=1./(12*13))\n",
    "ds_38S_rcp  = lag_linregress_3D(Pac_38S_rcp .pcs[:-7,0], SST_rect_ds_dt_rcp [24:-(24+7)], dof_corr=1./(12*13))\n"
   ]
  },
  {
   "cell_type": "code",
   "execution_count": null,
   "metadata": {},
   "outputs": [],
   "source": [
    "for ds in [ds_20N_ctrl, ds_38S_ctrl]:\n",
    "    ds.attrs['first_year'] = 102\n",
    "    ds.attrs['last_year']  = 297\n",
    "for ds in [ds_20N_rcp, ds_38S_rcp]:\n",
    "    ds.attrs['first_year'] = 2002\n",
    "    ds.attrs['last_year']  = 2097"
   ]
  },
  {
   "cell_type": "code",
   "execution_count": null,
   "metadata": {},
   "outputs": [],
   "source": [
    "ds_20N_ctrl"
   ]
  },
  {
   "cell_type": "code",
   "execution_count": null,
   "metadata": {},
   "outputs": [],
   "source": [
    "regr_map(ds=ds_20N_ctrl, index='PDO', run='ctrl', fn=None)"
   ]
  },
  {
   "cell_type": "code",
   "execution_count": null,
   "metadata": {},
   "outputs": [],
   "source": [
    "regr_map(ds=ds_38S_ctrl, index='IPO', run='ctrl', fn=None)"
   ]
  },
  {
   "cell_type": "code",
   "execution_count": null,
   "metadata": {},
   "outputs": [],
   "source": [
    "regr_map(ds=ds_20N_rcp, index='PDO', run='rcp', fn=None)"
   ]
  },
  {
   "cell_type": "code",
   "execution_count": null,
   "metadata": {},
   "outputs": [],
   "source": [
    "regr_map(ds=ds_38S_rcp, index='IPO', run='rcp', fn=None)"
   ]
  },
  {
   "cell_type": "code",
   "execution_count": null,
   "metadata": {},
   "outputs": [],
   "source": [
    "cartopy.__version__"
   ]
  },
  {
   "cell_type": "code",
   "execution_count": null,
   "metadata": {},
   "outputs": [],
   "source": []
  }
 ],
 "metadata": {
  "kernelspec": {
   "display_name": "Python 3",
   "language": "python",
   "name": "python3"
  },
  "language_info": {
   "codemirror_mode": {
    "name": "ipython",
    "version": 3
   },
   "file_extension": ".py",
   "mimetype": "text/x-python",
   "name": "python",
   "nbconvert_exporter": "python",
   "pygments_lexer": "ipython3",
   "version": "3.6.6"
  }
 },
 "nbformat": 4,
 "nbformat_minor": 2
}
