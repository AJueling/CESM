{
 "cells": [
  {
   "cell_type": "markdown",
   "metadata": {},
   "source": [
    "# Pacific Decadal Oscillation - PDO index\n",
    "\n",
    "Mantua et al. (1997)\n",
    "\n",
    "> The leading EOF of monthlySST anomalies over the North Pacific (after removing the global mean SST anomaly) and its associated PC time series are termed the Pacific Decadal Oscillation (PDO)\n",
    "\n",
    "1. compute monthly global mean SST, deseasonalize it\n",
    "\n",
    "2. North Pacific monthly output fields\n",
    "\n",
    "    2.1. create monthly field, determine extend of grid, limit all coordinates appropriately, save as single file\n",
    "        \n",
    "        a) North of 0 deg N\n",
    "        \n",
    "        b) North of 20 deg N\n",
    "    \n",
    "    2.2. deseasonalize and remove global mean, deseasonalized SST, remove mean\n",
    "\n",
    "3. EOF analysis\n",
    "\n",
    "maybe use ocn rect for it"
   ]
  },
  {
   "cell_type": "code",
   "execution_count": null,
   "metadata": {},
   "outputs": [],
   "source": [
    "import os\n",
    "import sys\n",
    "sys.path.append(\"..\")\n",
    "import scipy as sp\n",
    "import numpy as np\n",
    "import xarray as xr\n",
    "import seaborn as sns\n",
    "import cmocean\n",
    "import cartopy\n",
    "import cartopy.crs as ccrs\n",
    "import matplotlib as mpl\n",
    "import matplotlib.pyplot as plt\n",
    "import matplotlib.patches as mpatches"
   ]
  },
  {
   "cell_type": "code",
   "execution_count": null,
   "metadata": {},
   "outputs": [],
   "source": [
    "%matplotlib inline\n",
    "%config InlineBackend.print_figure_kwargs={'bbox_inches':None}\n",
    "%load_ext autoreload\n",
    "%autoreload 2\n",
    "%aimport - numpy - scipy - matplotlib.pyplot"
   ]
  },
  {
   "cell_type": "code",
   "execution_count": null,
   "metadata": {},
   "outputs": [],
   "source": [
    "from OHC import t2da, t2ds\n",
    "from SST import SST_index, EOF_SST_analysis\n",
    "from maps import map_robinson, map_eq_earth, rect_polygon\n",
    "from grid import find_array_idx\n",
    "from paths import path_results, path_samoc, file_ex_ocn_ctrl, file_ex_ocn_rect\n",
    "from regions import boolean_mask, SOM_area, global_ocean, gl_ocean_rect, mask_box_in_region\n",
    "from plotting import shifted_color_map, discrete_cmap\n",
    "from timeseries import IterateOutputCESM, lowpass, chebychev, notch\n",
    "from xr_DataArrays import xr_AREA\n",
    "from xr_regression import xr_lintrend, xr_linear_trends_2D, xr_linear_trend, ocn_field_regression, lag_linregress_3D"
   ]
  },
  {
   "cell_type": "markdown",
   "metadata": {},
   "source": [
    "### 1. global mean SST temperature series"
   ]
  },
  {
   "cell_type": "code",
   "execution_count": null,
   "metadata": {},
   "outputs": [],
   "source": [
    "# %%time\n",
    "# # 29 min\n",
    "# TAREA = xr_AREA('ocn')\n",
    "# MASK_ocn = boolean_mask('ocn', 0)\n",
    "# global_area = TAREA.where(MASK_ocn).sum()\n",
    "# for run in ['ctrl', 'rcp']:\n",
    "#     for i, (y,m,s) in enumerate(IterateOutputCESM(domain='ocn', run=run, tavg='monthly')):\n",
    "#         SST = xr.open_dataset(s, decode_times=False).TEMP[0,0,:,:]\n",
    "#         SST_gm = SST_index(xa_SST=SST, AREA=TAREA, index_loc=global_ocean, AREA_index=global_area, MASK=MASK_ocn, dims=('nlat', 'nlon'))\n",
    "#         if m==1: print(y, SST_gm.item()) \n",
    "#         if i==0:  SST_new = SST_gm\n",
    "#         else:     SST_new = xr.concat([SST_new, SST_gm], dim='time')\n",
    "#     SST_new.to_netcdf(f'{path_results}/SST_global_mean_monthly_{run}.nc')"
   ]
  },
  {
   "cell_type": "code",
   "execution_count": null,
   "metadata": {},
   "outputs": [],
   "source": [
    "# %%time\n",
    "# # # 7 min for both\n",
    "# AREA_rect = xr_AREA('ocn_rect')\n",
    "# MASK_rect = boolean_mask('ocn_rect', 0)\n",
    "# global_area2 = AREA_rect.where(MASK_rect).sum()\n",
    "# for run in ['ctrl', 'rcp']:\n",
    "#     for i, (y,m,s) in enumerate(IterateOutputCESM(domain='ocn_rect', run=run, tavg='monthly')):\n",
    "#         SST = xr.open_dataset(s, decode_times=False).TEMP[0,:,:]\n",
    "#         SST_gm = SST_index(xa_SST=SST, AREA=AREA_rect, index_loc=gl_ocean_rect, AREA_index=global_area2, MASK=MASK_rect, dims=('t_lat', 't_lon'))\n",
    "#         if m==1: print(y, SST_gm.item()) \n",
    "#         if i==0:  SST_new = SST_gm\n",
    "#         else:     SST_new = xr.concat([SST_new, SST_gm], dim='time')\n",
    "#     SST_new.to_netcdf(f'{path_results}/SST_global_mean_monthly_rect_{run}.nc')"
   ]
  },
  {
   "cell_type": "code",
   "execution_count": null,
   "metadata": {},
   "outputs": [],
   "source": [
    "# SST_gm_ctrl      = xr.open_dataarray(f'{path_results}/SST_global_mean_monthly_ctrl.nc'     , decode_times=False)\n",
    "# SST_gm_rcp       = xr.open_dataarray(f'{path_results}/SST_global_mean_monthly_rcp.nc'      , decode_times=False)\n",
    "SST_gm_rect_ctrl = xr.open_dataarray(f'{path_results}/SST_global_mean_monthly_rect_ctrl.nc', decode_times=False)\n",
    "SST_gm_rect_rcp  = xr.open_dataarray(f'{path_results}/SST_global_mean_monthly_rect_rcp.nc' , decode_times=False)"
   ]
  },
  {
   "cell_type": "code",
   "execution_count": null,
   "metadata": {},
   "outputs": [],
   "source": [
    "# deseasonalize\n",
    "SST_gm_rect_ds_ctrl = lowpass(lowpass(notch(SST_gm_rect_ctrl, 12), 12),12)\n",
    "SST_gm_rect_ds_rcp  = lowpass(lowpass(notch(SST_gm_rect_rcp , 12), 12),12)"
   ]
  },
  {
   "cell_type": "code",
   "execution_count": null,
   "metadata": {},
   "outputs": [],
   "source": [
    "# lowpass deseasonalizing\n",
    "plt.figure(figsize=(8,5))\n",
    "plt.tick_params(labelsize=14)\n",
    "# plt.axhline(0, c='k', lw=.5)\n",
    "\n",
    "plt.plot(SST_gm_rect_ctrl.time[:120]/12   , SST_gm_rect_ctrl   [:120])\n",
    "plt.plot(SST_gm_rect_ctrl.time[:120]/12   , SST_gm_rect_ds_ctrl[:120])\n",
    "plt.plot(SST_gm_rect_rcp .time[:120]/12+11, SST_gm_rect_rcp    [:120])\n",
    "plt.plot(SST_gm_rect_rcp .time[:120]/12+11, SST_gm_rect_ds_rcp [:120])\n",
    "plt.tight_layout()"
   ]
  },
  {
   "cell_type": "code",
   "execution_count": null,
   "metadata": {},
   "outputs": [],
   "source": [
    "# lowpass deseasonalizing\n",
    "plt.figure(figsize=(8,5))\n",
    "plt.tick_params(labelsize=14)\n",
    "# plt.axhline(0, c='k', lw=.5)\n",
    "\n",
    "plt.plot(SST_gm_rect_ctrl.time/12    , SST_gm_rect_ctrl   )\n",
    "plt.plot(SST_gm_rect_ctrl.time/12    , SST_gm_rect_ds_ctrl)\n",
    "plt.plot(SST_gm_rect_rcp .time/12+220, SST_gm_rect_rcp    )\n",
    "plt.plot(SST_gm_rect_rcp .time/12+220, SST_gm_rect_ds_rcp )\n",
    "plt.tight_layout()"
   ]
  },
  {
   "cell_type": "markdown",
   "metadata": {},
   "source": [
    "### 2.1. creating file with monthly SST fields in North Pacific"
   ]
  },
  {
   "cell_type": "code",
   "execution_count": null,
   "metadata": {},
   "outputs": [],
   "source": [
    "f, ax = plt.subplots(1,3, figsize=(12,4), sharey=True)\n",
    "for i, r in enumerate(['Pac_40S', 'Pac_Eq', 'Pac_20N']):\n",
    "    latS = [-38,0,20][i]\n",
    "    Pac_MASK = mask_box_in_region(domain='ocn_rect', mask_nr=2, bounding_lats=(latS,70), bounding_lons=(110,285))\n",
    "    Pac_MASK.plot(ax=ax[i])\n",
    "plt.tight_layout()"
   ]
  },
  {
   "cell_type": "code",
   "execution_count": null,
   "metadata": {},
   "outputs": [],
   "source": [
    "# %%time\n",
    "# # 8 mins for 200 years of ctrl\n",
    "# n=1\n",
    "\n",
    "# for j, run in enumerate(['ctrl', 'rcp']):\n",
    "#     for y,m,s in IterateOutputCESM(domain='ocn_rect', tavg='monthly', run=run):\n",
    "#         xa = xr.open_dataset(s, decode_times=False).TEMP[0,:,:]\n",
    "#         if m==1:\n",
    "#             print(y)\n",
    "#             xa_out = xa.copy()    \n",
    "#         else:\n",
    "#             xa_out = xr.concat([xa_out, xa], dim='time')\n",
    "\n",
    "#         if m==12:\n",
    "#             xa_out.to_netcdf(f'{path_samoc}/SST/SST_monthly_rect_{run}_{y}.nc')\n",
    "# run='ctrl'\n",
    "# combined = xr.open_mfdataset(f'{path_samoc}/SST/SST_monthly_rect_{run}_*.nc', concat_dim='time', decode_times=False)\n",
    "# combined.to_netcdf(f'{path_samoc}/SST/SST_monthly_rect_{run}.nc')\n",
    "# combined.close()\n",
    "# remove yearly files"
   ]
  },
  {
   "cell_type": "code",
   "execution_count": null,
   "metadata": {},
   "outputs": [],
   "source": [
    "# %%time\n",
    "# # 6 mins for 200 years of ctrl\n",
    "# n=1\n",
    "# for i, r in enumerate(['Pac_38S', 'Pac_Eq', 'Pac_20N']):\n",
    "#     latS = [-38,0,20][i]\n",
    "#     Pac_MASK = mask_box_in_region(domain='ocn_rect', mask_nr=2, bounding_lats=(latS,68), bounding_lons=(110,285))\n",
    "#     NPac_area = xr_AREA('ocn_rect').where(Pac_MASK, drop=True)\n",
    "#     for j, run in enumerate(['ctrl', 'rcp']):\n",
    "#         for y,m,s in IterateOutputCESM(domain='ocn_rect', tavg='monthly', run=run):\n",
    "#             xa = xr.open_dataset(s, decode_times=False).TEMP[0,:,:].where(Pac_MASK, drop=True)\n",
    "#             if m==1:\n",
    "#                 print(y)\n",
    "#                 xa_out = xa.copy()    \n",
    "#             else:\n",
    "#                 xa_out = xr.concat([xa_out, xa], dim='time')\n",
    "\n",
    "#             if m==12:\n",
    "#                 xa_out.to_netcdf(f'{path_samoc}/SST/SST_monthly_{r}_rect_{run}_{y}.nc')\n",
    "\n",
    "#     combined = xr.open_mfdataset(f'{path_samoc}/SST/SST_monthly_{r}_rect_{run}_*.nc', concat_dim='time', decode_times=False)\n",
    "#     combined.to_netcdf(f'{path_samoc}/SST/SST_monthly_{r}_rect_{run}.nc')\n",
    "#     combined.close()\n",
    "# # remove yearly files"
   ]
  },
  {
   "cell_type": "code",
   "execution_count": null,
   "metadata": {},
   "outputs": [],
   "source": [
    "SST_Pac_38S_ctrl = xr.open_dataarray(f'{path_samoc}/SST/SST_monthly_Pac_38S_rect_ctrl.nc', decode_times=False)\n",
    "SST_Pac_38S_rcp  = xr.open_dataarray(f'{path_samoc}/SST/SST_monthly_Pac_38S_rect_rcp.nc' , decode_times=False)\n",
    "\n",
    "SST_Pac_Eq_ctrl  = xr.open_dataarray(f'{path_samoc}/SST/SST_monthly_Pac_Eq_rect_ctrl.nc' , decode_times=False)\n",
    "SST_Pac_Eq_rcp   = xr.open_dataarray(f'{path_samoc}/SST/SST_monthly_Pac_Eq_rect_rcp.nc'  , decode_times=False)\n",
    "\n",
    "SST_Pac_20N_ctrl = xr.open_dataarray(f'{path_samoc}/SST/SST_monthly_Pac_20N_rect_ctrl.nc', decode_times=False)\n",
    "SST_Pac_20N_rcp  = xr.open_dataarray(f'{path_samoc}/SST/SST_monthly_Pac_20N_rect_rcp.nc' , decode_times=False)"
   ]
  },
  {
   "cell_type": "markdown",
   "metadata": {},
   "source": [
    "### 2.2.1. deseasonalize monthly SST field"
   ]
  },
  {
   "cell_type": "code",
   "execution_count": null,
   "metadata": {},
   "outputs": [],
   "source": [
    "%%time\n",
    "# 37 sec\n",
    "SST_Pac_38S_ds_ctrl = lowpass(lowpass(notch(SST_Pac_38S_ctrl, 12), 12), 12)\n",
    "SST_Pac_38S_ds_rcp  = lowpass(lowpass(notch(SST_Pac_38S_rcp , 12), 12), 12)\n",
    "\n",
    "SST_Pac_Eq_ds_ctrl  = lowpass(lowpass(notch(SST_Pac_Eq_ctrl , 12), 12), 12)\n",
    "SST_Pac_Eq_ds_rcp   = lowpass(lowpass(notch(SST_Pac_Eq_rcp  , 12), 12), 12)\n",
    "\n",
    "SST_Pac_20N_ds_ctrl = lowpass(lowpass(notch(SST_Pac_20N_ctrl, 12), 12), 12)\n",
    "SST_Pac_20N_ds_rcp  = lowpass(lowpass(notch(SST_Pac_20N_rcp , 12), 12), 12)"
   ]
  },
  {
   "cell_type": "code",
   "execution_count": null,
   "metadata": {},
   "outputs": [],
   "source": [
    "SST_Pac_38S_ds_ctrl[100,:,:].plot()"
   ]
  },
  {
   "cell_type": "code",
   "execution_count": null,
   "metadata": {},
   "outputs": [],
   "source": [
    "SST_Pac_Eq_ctrl[:120,100,100].plot()\n",
    "SST_Pac_Eq_ds_ctrl[:120,100,100].plot()"
   ]
  },
  {
   "cell_type": "markdown",
   "metadata": {},
   "source": [
    "### 2.2.2. detrend with global mean, des. SST"
   ]
  },
  {
   "cell_type": "code",
   "execution_count": null,
   "metadata": {},
   "outputs": [],
   "source": [
    "len(SST_Pac_38S_ds_rcp)\n",
    "# len(SST_gm_rect_rcp)"
   ]
  },
  {
   "cell_type": "code",
   "execution_count": null,
   "metadata": {},
   "outputs": [],
   "source": [
    "# in the gm timeseries are some months of the last incomplete year \n",
    "SST_Pac_38S_ds_dt_ctrl = SST_Pac_38S_ds_ctrl - SST_gm_rect_ds_ctrl[:-7]\n",
    "SST_Pac_38S_ds_dt_rcp  = SST_Pac_38S_ds_rcp  - SST_gm_rect_ds_rcp[:-1]\n",
    "\n",
    "SST_Pac_Eq_ds_dt_ctrl  = SST_Pac_Eq_ds_ctrl  - SST_gm_rect_ds_ctrl[:-7]\n",
    "SST_Pac_Eq_ds_dt_rcp   = SST_Pac_Eq_ds_rcp   - SST_gm_rect_ds_rcp[:-1]\n",
    "\n",
    "SST_Pac_20N_ds_dt_ctrl = SST_Pac_20N_ds_ctrl - SST_gm_rect_ds_ctrl[:-7]\n",
    "SST_Pac_20N_ds_dt_rcp  = SST_Pac_20N_ds_rcp  - SST_gm_rect_ds_rcp[:-1]"
   ]
  },
  {
   "cell_type": "markdown",
   "metadata": {},
   "source": [
    "### 2.2.3. remove remaining mean"
   ]
  },
  {
   "cell_type": "code",
   "execution_count": null,
   "metadata": {},
   "outputs": [],
   "source": [
    "SST_Pac_20N_ds_dt_ctrl[0,:,:].plot()"
   ]
  },
  {
   "cell_type": "code",
   "execution_count": null,
   "metadata": {},
   "outputs": [],
   "source": [
    "SST_Pac_38S_ds_dt_dm_ctrl = SST_Pac_38S_ds_dt_ctrl - SST_Pac_38S_ds_dt_ctrl.mean('time')\n",
    "SST_Pac_38S_ds_dt_dm_rcp  = SST_Pac_38S_ds_dt_rcp  - SST_Pac_38S_ds_dt_rcp .mean('time')\n",
    "SST_Pac_Eq_ds_dt_dm_ctrl  = SST_Pac_Eq_ds_dt_ctrl  - SST_Pac_Eq_ds_dt_ctrl .mean('time')\n",
    "SST_Pac_Eq_ds_dt_dm_rcp   = SST_Pac_Eq_ds_dt_rcp   - SST_Pac_Eq_ds_dt_rcp  .mean('time')\n",
    "SST_Pac_20N_ds_dt_dm_ctrl = SST_Pac_20N_ds_dt_ctrl - SST_Pac_20N_ds_dt_ctrl.mean('time')\n",
    "SST_Pac_20N_ds_dt_dm_rcp  = SST_Pac_20N_ds_dt_rcp  - SST_Pac_20N_ds_dt_rcp .mean('time')"
   ]
  },
  {
   "cell_type": "code",
   "execution_count": null,
   "metadata": {},
   "outputs": [],
   "source": [
    "SST_Pac_20N_ds_dt_dm_ctrl[0,:,:].plot()"
   ]
  },
  {
   "cell_type": "markdown",
   "metadata": {},
   "source": [
    "### 3. EOF analysis"
   ]
  },
  {
   "cell_type": "code",
   "execution_count": null,
   "metadata": {},
   "outputs": [],
   "source": [
    "%%time\n",
    "# 12 mins for all\n",
    "# cut off 2 year on either end due to problems with the erroneous trend introduced by the filtering\n",
    "for j, run in enumerate(['ctrl', 'rcp']):\n",
    "    object_list = [[SST_Pac_38S_ds_dt_dm_ctrl, SST_Pac_Eq_ds_dt_dm_ctrl, SST_Pac_20N_ds_dt_dm_ctrl],\n",
    "                   [SST_Pac_38S_ds_dt_dm_rcp , SST_Pac_Eq_ds_dt_dm_rcp , SST_Pac_20N_ds_dt_dm_rcp ]\n",
    "                  ][j]\n",
    "    for i, r in enumerate(['Pac_38S', 'Pac_Eq', 'Pac_20N']):\n",
    "        print(i)\n",
    "        SST_object = object_list[i]\n",
    "        fn = f'{path_results}/SST/SST_PDO_EOF_{r}_{run}.nc'\n",
    "        latS = [-38,0,20][i]\n",
    "        Pac_MASK = mask_box_in_region(domain='ocn_rect', mask_nr=2, bounding_lats=(latS,68), bounding_lons=(110,285))\n",
    "        Pac_area = xr_AREA('ocn_rect').where(Pac_MASK, drop=True)\n",
    "        eof_ctrl, pc_ctrl = EOF_SST_analysis(xa=SST_object[24:-24], weights=Pac_area, fn=fn)\n",
    "# fn = f'{path_results}/SST/NPac_ctrl.nc'\n",
    "# eof_ctrl, pc_ctrl = EOF_SST_analysis(xa=SST_NPac_rect_ds_dt_ctrl[24:-24], weights=NPac_area, fn=fn)\n",
    "# fn = f'{path_results}/SST/NPac_rcp.nc'\n",
    "# eof_rcp , pc_rcp  = EOF_SST_analysis(xa=SST_NPac_rect_ds_dt_rcp [24:-24], weights=NPac_area, fn=fn)"
   ]
  },
  {
   "cell_type": "code",
   "execution_count": null,
   "metadata": {},
   "outputs": [],
   "source": [
    "Pac_38S_ctrl = xr.open_dataset(f'{path_results}/SST/SST_PDO_EOF_Pac_38S_ctrl.nc', decode_times=False)\n",
    "Pac_38S_rcp  = xr.open_dataset(f'{path_results}/SST/SST_PDO_EOF_Pac_38S_rcp.nc' , decode_times=False)\n",
    "\n",
    "Pac_Eq_ctrl  = xr.open_dataset(f'{path_results}/SST/SST_PDO_EOF_Pac_Eq_ctrl.nc' , decode_times=False)\n",
    "Pac_Eq_rcp   = xr.open_dataset(f'{path_results}/SST/SST_PDO_EOF_Pac_Eq_rcp.nc'  , decode_times=False)\n",
    "\n",
    "Pac_20N_ctrl = xr.open_dataset(f'{path_results}/SST/SST_PDO_EOF_Pac_20N_ctrl.nc', decode_times=False)\n",
    "Pac_20N_rcp  = xr.open_dataset(f'{path_results}/SST/SST_PDO_EOF_Pac_20N_rcp.nc' , decode_times=False)"
   ]
  },
  {
   "cell_type": "code",
   "execution_count": null,
   "metadata": {},
   "outputs": [],
   "source": [
    "TPI_ctrl = xr.open_dataarray(f'{path_results}/SST/TPI_ctrl.nc', decode_times=False)\n",
    "TPI_rcp  = xr.open_dataarray(f'{path_results}/SST/TPI_rcp.nc' , decode_times=False)"
   ]
  },
  {
   "cell_type": "code",
   "execution_count": null,
   "metadata": {},
   "outputs": [],
   "source": [
    "TPI_ctrl.plot()"
   ]
  },
  {
   "cell_type": "code",
   "execution_count": null,
   "metadata": {},
   "outputs": [],
   "source": [
    "plt.figure(figsize=(12,5))\n",
    "plt.tick_params(labelsize=14)\n",
    "plt.axhline(0, c='k', lw=.5)\n",
    "L1, = plt.plot(Pac_38S_ctrl.time/12+100, chebychev(Pac_38S_ctrl.pcs, 13*12), c='C0', lw=1, ls='--', label='PC 38S')\n",
    "L2, = plt.plot(Pac_38S_rcp .time/12+300, chebychev(Pac_38S_rcp .pcs, 13*12), c='C1', lw=1, ls='--' )\n",
    "L3, = plt.plot(Pac_Eq_ctrl .time/12+100, chebychev(Pac_Eq_ctrl .pcs, 13*12), c='C0', lw=1, ls=':' , label='PC Eq.')\n",
    "L4, = plt.plot(Pac_Eq_rcp  .time/12+300, chebychev(Pac_Eq_rcp  .pcs, 13*12), c='C1', lw=1, ls=':'  )\n",
    "L5, = plt.plot(Pac_20N_ctrl.time/12+100, chebychev(Pac_20N_ctrl.pcs, 13*12), c='C0', lw=3, ls='-' , label='PC 20N')\n",
    "L6, = plt.plot(Pac_20N_rcp .time/12+300, -chebychev(Pac_20N_rcp .pcs, 13*12), c='C1', lw=3, ls='-'  )\n",
    "\n",
    "L7, = plt.plot(TPI_ctrl.time/365     , 5*chebychev(TPI_ctrl, 13), c='C0', lw=2, ls='-.', label='TPI')\n",
    "L8, = plt.plot(TPI_rcp .time/365-1700, 5*chebychev(TPI_rcp , 13), c='C1', lw=2, ls='-.')\n",
    "\n",
    "plt.xlabel('time [years]'             , fontsize=16)\n",
    "plt.ylabel('PDO/IPO/TPI indices', fontsize=16)\n",
    "plt.legend(handles=[L1, L3, L5, L7],ncol=4, fontsize=16)\n",
    "plt.tight_layout()"
   ]
  },
  {
   "cell_type": "code",
   "execution_count": null,
   "metadata": {},
   "outputs": [],
   "source": [
    "SST_rect_ctrl = xr.open_dataarray(f'{path_samoc}/SST/SST_monthly_rect_ctrl.nc', decode_times=False)\n",
    "SST_rect_rcp  = xr.open_dataarray(f'{path_samoc}/SST/SST_monthly_rect_rcp.nc' , decode_times=False)"
   ]
  },
  {
   "cell_type": "code",
   "execution_count": null,
   "metadata": {},
   "outputs": [],
   "source": [
    "SST_rect_ds_dt_ctrl = lowpass(lowpass(notch(SST_rect_ctrl, 12), 12), 12) - SST_gm_rect_ds_ctrl[:-7]\n",
    "SST_rect_ds_dt_rcp  = lowpass(lowpass(notch(SST_rect_rcp , 12), 12), 12) - SST_gm_rect_ds_rcp[:-1]"
   ]
  },
  {
   "cell_type": "code",
   "execution_count": null,
   "metadata": {},
   "outputs": [],
   "source": [
    "SST_rect_ds_dt_ctrl.to_netcdf(f'{path_samoc}/SST/SST_monthly_rect_ds_dt_ctrl.nc')\n",
    "SST_rect_ds_dt_rcp .to_netcdf(f'{path_samoc}/SST/SST_monthly_rect_ds_dt_rcp.nc' )"
   ]
  },
  {
   "cell_type": "markdown",
   "metadata": {},
   "source": [
    "## correlation plots"
   ]
  },
  {
   "cell_type": "code",
   "execution_count": null,
   "metadata": {},
   "outputs": [],
   "source": [
    "xa = Pac_20N_ctrl.eofs[0]\n",
    "cmap = discrete_cmap(14,  shifted_color_map(cmocean.cm.balance, start=0, midpoint=0.5, stop=1., name='shrunk'))\n",
    "f = plt.figure(figsize=(8,5))\n",
    "ax = plt.axes(projection=ccrs.PlateCarree(central_longitude=190))\n",
    "# ax.set_extent([.02,.98,.12,.86])\n",
    "im1 = ax.pcolormesh(xa.t_lon, xa.t_lat, xa.values,\n",
    "                    cmap=cmap, vmin=-1, vmax=1,\n",
    "                    transform=ccrs.PlateCarree() )\n",
    "ax.add_feature(cartopy.feature.LAND, facecolor='grey', edgecolor='k', alpha=0.5)\n",
    "cb = plt.colorbar(im1, orientation='horizontal')\n",
    "cb.set_label('correlation coefficient', fontsize=12)\n",
    "ax.set_title('EOF1 expressed as correlation', fontsize=16)\n",
    "# plt.savefig(f'{path_results}/SST/PDO_EOF', bbox_inches='tight')\n",
    "# plt.tight_layout()\n",
    "# (NPac_rcp.eofs-NPac_ctrl.eofs).plot()"
   ]
  },
  {
   "cell_type": "code",
   "execution_count": null,
   "metadata": {},
   "outputs": [],
   "source": [
    "from xr_regression import lag_linregress_3D"
   ]
  },
  {
   "cell_type": "code",
   "execution_count": null,
   "metadata": {},
   "outputs": [],
   "source": [
    "ds_ctrl = lag_linregress_3D(Pac_20N_ctrl.pcs[:-7,0], SST_rect_ds_dt_ctrl[24:-(24+7)])"
   ]
  },
  {
   "cell_type": "code",
   "execution_count": null,
   "metadata": {},
   "outputs": [],
   "source": [
    "len(Pac_20N_ctrl.pcs[:-7,0])"
   ]
  },
  {
   "cell_type": "code",
   "execution_count": null,
   "metadata": {},
   "outputs": [],
   "source": [
    "len(SST_rect_ds_dt_ctrl)-24-24-7"
   ]
  },
  {
   "cell_type": "code",
   "execution_count": null,
   "metadata": {},
   "outputs": [],
   "source": [
    "Pac_20N_ctrl.pcs[:,0].plot()"
   ]
  },
  {
   "cell_type": "code",
   "execution_count": null,
   "metadata": {},
   "outputs": [],
   "source": []
  }
 ],
 "metadata": {
  "kernelspec": {
   "display_name": "Python 3",
   "language": "python",
   "name": "python3"
  },
  "language_info": {
   "codemirror_mode": {
    "name": "ipython",
    "version": 3
   },
   "file_extension": ".py",
   "mimetype": "text/x-python",
   "name": "python",
   "nbconvert_exporter": "python",
   "pygments_lexer": "ipython3",
   "version": "3.6.6"
  }
 },
 "nbformat": 4,
 "nbformat_minor": 2
}
