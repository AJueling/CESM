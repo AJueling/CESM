{
 "cells": [
  {
   "cell_type": "markdown",
   "metadata": {},
   "source": [
    "# SST: IPO & PDO"
   ]
  },
  {
   "cell_type": "code",
   "execution_count": null,
   "metadata": {},
   "outputs": [],
   "source": [
    "import sys\n",
    "sys.path.append(\"..\")\n",
    "import scipy as sp\n",
    "import numpy as np\n",
    "import xarray as xr\n",
    "import seaborn as sns\n",
    "import cmocean\n",
    "import cartopy\n",
    "import cartopy.crs as ccrs\n",
    "import matplotlib as mpl\n",
    "import matplotlib.pyplot as plt\n",
    "import matplotlib.patches as mpatches"
   ]
  },
  {
   "cell_type": "code",
   "execution_count": null,
   "metadata": {},
   "outputs": [],
   "source": [
    "%matplotlib inline\n",
    "%config InlineBackend.print_figure_kwargs={'bbox_inches':None}\n",
    "%load_ext autoreload\n",
    "%autoreload 2\n",
    "%aimport - numpy - scipy - matplotlib.pyplot"
   ]
  },
  {
   "cell_type": "code",
   "execution_count": null,
   "metadata": {},
   "outputs": [],
   "source": [
    "from OHC import t2da, t2ds\n",
    "from SST import SST_index, EOF_SST_analysis\n",
    "from maps import map_robinson, map_eq_earth\n",
    "from grid import find_array_idx\n",
    "from paths import path_results, path_samoc, file_ex_ocn_ctrl, file_ex_ocn_rect\n",
    "from regions import boolean_mask, SOM_area, global_ocean, gl_ocean_rect, NPacific_mask_rect, TPI_masks\n",
    "from plotting import shifted_color_map, discrete_cmap\n",
    "from timeseries import IterateOutputCESM, lowpass\n",
    "from xr_DataArrays import xr_AREA\n",
    "from xr_regression import xr_linear_trends_2D, xr_linear_trend, ocn_field_regression"
   ]
  },
  {
   "cell_type": "markdown",
   "metadata": {},
   "source": [
    "# global yearly avg. SST map and trends"
   ]
  },
  {
   "cell_type": "code",
   "execution_count": null,
   "metadata": {},
   "outputs": [],
   "source": [
    "MASK = xr.open_dataset(file_ex_ocn_ctrl, decode_times=False).REGION_MASK"
   ]
  },
  {
   "cell_type": "code",
   "execution_count": null,
   "metadata": {},
   "outputs": [],
   "source": [
    "# %%time\n",
    "# # ca. 4:30 min for ctrl/rcp, 1:25 for lpi\n",
    "# # stacking files into one xr Dataset object\n",
    "# for run in ['lpi']:  #['ctrl', 'rcp', 'lpd']:\n",
    "#     for i, (y,m,s) in enumerate(IterateOutputCESM('ocn', run, 'yrly', name='TEMP_PD')):\n",
    "#         print(y)\n",
    "#         da = xr.open_dataset(s, decode_times=False).TEMP[0,:,:]\n",
    "#         da = da.drop(['z_t', 'ULONG', 'ULAT'])\n",
    "#         da['TLAT' ] = da['TLAT' ].round(decimals=2)\n",
    "#         da['TLONG'] = da['TLONG'].round(decimals=2)\n",
    "#         del da.encoding[\"contiguous\"]\n",
    "#         ds = t2ds(da=da, name='SST', t=int(round(da.time.item())))\n",
    "#         ds.to_netcdf(path=f'{path_samoc}/SST/SST_yrly_{run}_{y}.nc', mode='w')\n",
    "     \n",
    "#     combined = xr.open_mfdataset(f'{path_samoc}/SST/SST_yrly_{run}_*.nc',\n",
    "#                                  concat_dim='time',\n",
    "#                                  autoclose=True,\n",
    "#                                  coords='minimal')\n",
    "#     combined.to_netcdf(f'{path_samoc}/SST/SST_yrly_{run}.nc')\n",
    "#     # remove extra netCDF files"
   ]
  },
  {
   "cell_type": "markdown",
   "metadata": {},
   "source": [
    "CPU times: user 1min 25s, sys: 3min 16s, total: 4min 41s\n",
    "Wall time: 11min 18s"
   ]
  },
  {
   "cell_type": "code",
   "execution_count": null,
   "metadata": {},
   "outputs": [],
   "source": [
    "SST_yrly_ctrl = xr.open_dataarray(f'{path_samoc}/SST/SST_yrly_ctrl.nc')\n",
    "SST_yrly_rcp  = xr.open_dataarray(f'{path_samoc}/SST/SST_yrly_rcp.nc' )\n",
    "SST_yrly_lpd  = xr.open_dataarray(f'{path_samoc}/SST/SST_yrly_lpd.nc' )\n",
    "SST_yrly_lpi  = xr.open_dataarray(f'{path_samoc}/SST/SST_yrly_lpi.nc' )"
   ]
  },
  {
   "cell_type": "code",
   "execution_count": null,
   "metadata": {},
   "outputs": [],
   "source": [
    "from paths import path_ocn_ctrl, path_ocn_lpd"
   ]
  },
  {
   "cell_type": "code",
   "execution_count": null,
   "metadata": {},
   "outputs": [],
   "source": [
    "ds = xr.open_dataset(file_ex_ocn_ctrl, decode_times=False).TEMP"
   ]
  },
  {
   "cell_type": "code",
   "execution_count": null,
   "metadata": {},
   "outputs": [],
   "source": [
    "ds"
   ]
  },
  {
   "cell_type": "markdown",
   "metadata": {},
   "source": [
    "# SST indices"
   ]
  },
  {
   "cell_type": "code",
   "execution_count": null,
   "metadata": {},
   "outputs": [],
   "source": [
    "MASK_ocn  = boolean_mask('ocn'     , 0)\n",
    "MASK_low  = boolean_mask('ocn_low' , 0)\n",
    "MASK_rect = boolean_mask('ocn_rect', 0)"
   ]
  },
  {
   "cell_type": "code",
   "execution_count": null,
   "metadata": {},
   "outputs": [],
   "source": [
    "TAREA       = xr_AREA('ocn')\n",
    "AREA_low    = xr_AREA('ocn_low')\n",
    "AREA_rect   = xr_AREA('ocn_rect')"
   ]
  },
  {
   "cell_type": "code",
   "execution_count": null,
   "metadata": {},
   "outputs": [],
   "source": [
    "AREA_low.plot()"
   ]
  },
  {
   "cell_type": "code",
   "execution_count": null,
   "metadata": {},
   "outputs": [],
   "source": [
    "global_area = TAREA.where(MASK_ocn).sel(global_ocean).sum()\n",
    "print(f'{global_area.item():e}')\n",
    "global_area2 = AREA_rect.where(MASK_rect).sel(gl_ocean_rect).sum()\n",
    "print(f'{global_area2.item():e}')"
   ]
  },
  {
   "cell_type": "code",
   "execution_count": null,
   "metadata": {},
   "outputs": [],
   "source": [
    "from SST import SST_index_from_monthly"
   ]
  },
  {
   "cell_type": "code",
   "execution_count": null,
   "metadata": {},
   "outputs": [],
   "source": [
    "%%time\n",
    "TPI3_lpd = SST_index_from_monthly(run='lpd', index_loc=None, MASK=TPI_masks('ocn_low', 3))"
   ]
  },
  {
   "cell_type": "markdown",
   "metadata": {},
   "source": [
    "# Interdecadal Pacific Oscillation\n",
    "\n",
    "Henley at al. (2015): _A Tripole Index for the Interdecadal Pacific Oscillation_"
   ]
  },
  {
   "cell_type": "code",
   "execution_count": null,
   "metadata": {},
   "outputs": [],
   "source": [
    "TPI1_area     = TAREA   .where(TPI_masks('ocn'    , 1)).sum()\n",
    "TPI1_area_low = AREA_low.where(TPI_masks('ocn_low', 1)).sum()\n",
    "TPI2_area     = TAREA   .where(TPI_masks('ocn'    , 2)).sum()\n",
    "TPI2_area_low = AREA_low.where(TPI_masks('ocn_low', 2)).sum()\n",
    "TPI3_area     = TAREA   .where(TPI_masks('ocn'    , 3)).sum()\n",
    "TPI3_area_low = AREA_low.where(TPI_masks('ocn_low', 3)).sum()\n",
    "print(TPI1_area, TPI1_area_low, TPI2_area, TPI2_area_low, TPI3_area, TPI3_area_low)"
   ]
  },
  {
   "cell_type": "code",
   "execution_count": null,
   "metadata": {},
   "outputs": [],
   "source": [
    "%%time\n",
    "# 3:15 min\n",
    "dims = ('nlat', 'nlon')\n",
    "TPI1_ctrl = SST_index(xa_SST=SST_yrly_ctrl, AREA=TAREA   , index_loc=None, AREA_index=TPI1_area    , MASK=TPI_masks('ocn'    , 1), dims=dims)\n",
    "TPI1_rcp  = SST_index(xa_SST=SST_yrly_rcp , AREA=TAREA   , index_loc=None, AREA_index=TPI1_area    , MASK=TPI_masks('ocn'    , 1), dims=dims)\n",
    "TPI1_lpd  = SST_index(xa_SST=SST_yrly_lpd , AREA=AREA_low, index_loc=None, AREA_index=TPI1_area_low, MASK=TPI_masks('ocn_low', 1), dims=dims)\n",
    "TPI1_lpi  = SST_index(xa_SST=SST_yrly_lpi , AREA=AREA_low, index_loc=None, AREA_index=TPI1_area_low, MASK=TPI_masks('ocn_low', 1), dims=dims)\n",
    "\n",
    "TPI2_ctrl = SST_index(xa_SST=SST_yrly_ctrl, AREA=TAREA   , index_loc=None, AREA_index=TPI2_area    , MASK=TPI_masks('ocn'    , 2), dims=dims)\n",
    "TPI2_rcp  = SST_index(xa_SST=SST_yrly_rcp , AREA=TAREA   , index_loc=None, AREA_index=TPI2_area    , MASK=TPI_masks('ocn'    , 2), dims=dims)\n",
    "TPI2_lpd  = SST_index(xa_SST=SST_yrly_lpd , AREA=AREA_low, index_loc=None, AREA_index=TPI2_area_low, MASK=TPI_masks('ocn_low', 2), dims=dims)\n",
    "TPI2_lpi  = SST_index(xa_SST=SST_yrly_lpi , AREA=AREA_low, index_loc=None, AREA_index=TPI2_area_low, MASK=TPI_masks('ocn_low', 2), dims=dims)\n",
    "\n",
    "TPI3_ctrl = SST_index(xa_SST=SST_yrly_ctrl, AREA=TAREA   , index_loc=None, AREA_index=TPI3_area    , MASK=TPI_masks('ocn'    , 3), dims=dims)\n",
    "TPI3_rcp  = SST_index(xa_SST=SST_yrly_rcp , AREA=TAREA   , index_loc=None, AREA_index=TPI3_area    , MASK=TPI_masks('ocn'    , 3), dims=dims)\n",
    "TPI3_lpd  = SST_index(xa_SST=SST_yrly_lpd , AREA=AREA_low, index_loc=None, AREA_index=TPI3_area_low, MASK=TPI_masks('ocn_low', 3), dims=dims)\n",
    "TPI3_lpi  = SST_index(xa_SST=SST_yrly_lpi , AREA=AREA_low, index_loc=None, AREA_index=TPI3_area_low, MASK=TPI_masks('ocn_low', 3), dims=dims)"
   ]
  },
  {
   "cell_type": "code",
   "execution_count": null,
   "metadata": {},
   "outputs": [],
   "source": [
    "TPI1_ctrl = TPI2_ctrl - (TPI1_ctrl+TPI3_ctrl)/2\n",
    "TPI1_rcp  = TPI2_rcp  - (TPI1_rcp +TPI3_rcp )/2\n",
    "TPI1_lpd  = TPI2_lpd  - (TPI1_lpd +TPI3_lpd )/2\n",
    "TPI1_lpi  = TPI2_lpi  - (TPI1_lpi +TPI3_lpi )/2"
   ]
  },
  {
   "cell_type": "code",
   "execution_count": null,
   "metadata": {},
   "outputs": [],
   "source": [
    "TPI1_ctrl.to_netcdf(f'{path_results}/SST/TPI_ctrl.nc')\n",
    "TPI1_rcp .to_netcdf(f'{path_results}/SST/TPI_rcp.nc')\n",
    "TPI1_lpd .to_netcdf(f'{path_results}/SST/TPI_lpd.nc')\n",
    "TPI1_lpi .to_netcdf(f'{path_results}/SST/TPI_lpi.nc')"
   ]
  },
  {
   "cell_type": "code",
   "execution_count": null,
   "metadata": {},
   "outputs": [],
   "source": [
    "TPI1_ctrl = xr.open_dataarray(f'{path_results}/SST/TPI_ctrl.nc')\n",
    "TPI1_rcp  = xr.open_dataarray(f'{path_results}/SST/TPI_rcp.nc' )\n",
    "TPI1_lpd  = xr.open_dataarray(f'{path_results}/SST/TPI_lpd.nc' )\n",
    "TPI1_lpi  = xr.open_dataarray(f'{path_results}/SST/TPI_lpi.nc' )"
   ]
  },
  {
   "cell_type": "code",
   "execution_count": null,
   "metadata": {},
   "outputs": [],
   "source": [
    "plt.plot(lowpass(TPI1_ctrl, 13))\n",
    "plt.plot(lowpass(TPI1_rcp , 13))\n",
    "plt.plot(lowpass(TPI1_lpd , 13))\n",
    "plt.plot(lowpass(TPI1_lpi , 13))"
   ]
  },
  {
   "cell_type": "markdown",
   "metadata": {},
   "source": [
    "# Pacific Decadal Oscillation\n",
    "\n",
    "Mantua et al. (1997)\n",
    "\n",
    "> The leading EOF of monthlySST anomalies over the North Pacific (after removing the global mean SST anomaly) and its associated PC time series are termed the Pacific Decadal Oscillation (PDO)\n",
    "\n",
    "1. compute monthly global mean SST\n",
    "\n",
    "2. create North Pacific monthly output fields\n",
    "    2.1. determine extend of grid\n",
    "    2.2. reduce all coordinates appropriately\n",
    "    2.3. loop through all months and save as single netcdf\n",
    "\n",
    "3. EOF analysis\n",
    "\n",
    "maybe use ocn rect for it"
   ]
  },
  {
   "cell_type": "code",
   "execution_count": null,
   "metadata": {},
   "outputs": [],
   "source": [
    "# %%time\n",
    "# # 29 min\n",
    "# for run in ['ctrl', 'rcp']:\n",
    "#     for i, (y,m,s) in enumerate(IterateOutputCESM(domain='ocn', run=run, tavg='monthly')):\n",
    "#         SST = xr.open_dataset(s, decode_times=False).TEMP[0,0,:,:]\n",
    "#         SST_gm = SST_index(xa_SST=SST, AREA=TAREA, index_loc=global_ocean, AREA_index=global_area, MASK=MASK_ocn, dims=('nlat', 'nlon'))\n",
    "#         if m==1: print(y, SST_gm.item()) \n",
    "#         if i==0:  SST_new = SST_gm\n",
    "#         else:     SST_new = xr.concat([SST_new, SST_gm], dim='time')\n",
    "#     SST_new.to_netcdf(f'{path_results}/SST_global_mean_monthly_{run}.nc')"
   ]
  },
  {
   "cell_type": "code",
   "execution_count": null,
   "metadata": {},
   "outputs": [],
   "source": [
    "# %%time\n",
    "# # 11 min\n",
    "# for run in ['ctrl', 'rcp']:\n",
    "#     for i, (y,m,s) in enumerate(IterateOutputCESM(domain='ocn_rect', run=run, tavg='monthly')):\n",
    "#         SST = xr.open_dataset(s, decode_times=False).TEMP[0,:,:]\n",
    "#         SST_gm = SST_index(xa_SST=SST, AREA=AREA_rect, index_loc=gl_ocean_rect, AREA_index=global_area2, MASK=MASK_rect, dims=('t_lat', 't_lon'))\n",
    "#         if m==1: print(y, SST_gm.item()) \n",
    "#         if i==0:  SST_new = SST_gm\n",
    "#         else:     SST_new = xr.concat([SST_new, SST_gm], dim='time')\n",
    "#     SST_new.to_netcdf(f'{path_results}/SST_global_mean_monthly_rect_{run}.nc')"
   ]
  },
  {
   "cell_type": "code",
   "execution_count": null,
   "metadata": {},
   "outputs": [],
   "source": [
    "SST_gm_ctrl      = xr.open_dataarray(f'{path_results}/SST_global_mean_monthly_ctrl.nc'     , decode_times=False)\n",
    "SST_gm_rcp       = xr.open_dataarray(f'{path_results}/SST_global_mean_monthly_rcp.nc'      , decode_times=False)\n",
    "SST_gm_rect_ctrl = xr.open_dataarray(f'{path_results}/SST_global_mean_monthly_rect_ctrl.nc', decode_times=False)\n",
    "SST_gm_rect_rcp  = xr.open_dataarray(f'{path_results}/SST_global_mean_monthly_rect_rcp.nc' , decode_times=False)"
   ]
  },
  {
   "cell_type": "code",
   "execution_count": null,
   "metadata": {},
   "outputs": [],
   "source": [
    "plt.plot(SST_gm_ctrl)\n",
    "plt.plot(SST_gm_rcp )\n",
    "plt.plot(SST_gm_rect_ctrl)\n",
    "plt.plot(SST_gm_rect_rcp )"
   ]
  },
  {
   "cell_type": "code",
   "execution_count": null,
   "metadata": {},
   "outputs": [],
   "source": [
    "plt.axhline(0, c='k', lw=.5)\n",
    "plt.plot(SST_gm_rect_ctrl.time/12+100, SST_gm_rect_ctrl-SST_gm_ctrl[:len(SST_gm_rect_ctrl)])\n",
    "plt.plot(SST_gm_rect_rcp .time/12+300, SST_gm_rect_rcp -SST_gm_rcp [:len(SST_gm_rect_rcp )])"
   ]
  },
  {
   "cell_type": "markdown",
   "metadata": {},
   "source": [
    "somehow there is an almost constant low bias in the global mean SST when calculatd in the rect files"
   ]
  },
  {
   "cell_type": "code",
   "execution_count": null,
   "metadata": {},
   "outputs": [],
   "source": [
    "NPac_MASK = NPacific_mask_rect()\n",
    "NPac_area = xr_AREA('ocn_rect').where(NPac_MASK, drop=True)"
   ]
  },
  {
   "cell_type": "code",
   "execution_count": null,
   "metadata": {},
   "outputs": [],
   "source": [
    "# %%time\n",
    "# # 51 mins for 162 years of ctrl\n",
    "# # 9 min for 67 years of rcp\n",
    "# \n",
    "# for j, run in enumerate(['ctrl', 'rcp']):\n",
    "#     SST_gm_rect = [SST_gm_rect_ctrl, SST_gm_rect_rcp][j]\n",
    "#     for i, (y,m,s) in enumerate(IterateOutputCESM(domain='ocn_rect', tavg='monthly', run=run)):\n",
    "#         if m==1:\n",
    "#             print(y)\n",
    "#         xa = xr.open_dataset(s, decode_times=False).TEMP[0,:,:].where(NPac_MASK, drop=True) - SST_gm_rect[i]\n",
    "#         if i==0:\n",
    "#             xa_out = xa.copy()\n",
    "#         else:\n",
    "#             xa_out = xr.concat([xa_out, xa], dim='time')\n",
    "#         xa_out.to_netcdf(f'{path_samoc}/SST/NPacific_anomaly_monthly_rect_{run}.nc')"
   ]
  },
  {
   "cell_type": "code",
   "execution_count": null,
   "metadata": {},
   "outputs": [],
   "source": [
    "SST_NPac_rect_ctrl = xr.open_dataarray(f'{path_samoc}/SST/NPacific_anomaly_monthly_rect_ctrl.nc', decode_times=False)\n",
    "SST_NPac_rect_rcp  = xr.open_dataarray(f'{path_samoc}/SST/NPacific_anomaly_monthly_rect_rcp.nc' , decode_times=False)"
   ]
  },
  {
   "cell_type": "code",
   "execution_count": null,
   "metadata": {},
   "outputs": [],
   "source": [
    "# %%time\n",
    "# # 30 sec for rcp\n",
    "# # 2 mins for ctrl\n",
    "# fn = f'{path_results}/SST/NPac_ctrl.nc'\n",
    "# eof_ctrl, pc_ctrl = EOF_SST_analysis(xa=SST_NPac_rect_ctrl, weights=NPac_area, fn=fn)\n",
    "# fn = f'{path_results}/SST/NPac_rcp.nc'\n",
    "# eof_rcp , pc_rcp  = EOF_SST_analysis(xa=SST_NPac_rect_rcp , weights=NPac_area, fn=fn)"
   ]
  },
  {
   "cell_type": "code",
   "execution_count": null,
   "metadata": {},
   "outputs": [],
   "source": [
    "NPac_ctrl = xr.open_dataset(f'{path_results}/SST/NPac_ctrl.nc', decode_times=False)\n",
    "NPac_rcp  = xr.open_dataset(f'{path_results}/SST/NPac_rcp.nc' , decode_times=False)"
   ]
  },
  {
   "cell_type": "code",
   "execution_count": null,
   "metadata": {},
   "outputs": [],
   "source": [
    "plt.figure(figsize=(8,5))\n",
    "plt.tick_params(labelsize=14)\n",
    "plt.axhline(0, c='k', lw=.5)\n",
    "plt.plot(NPac_ctrl.time/12+100, NPac_ctrl.pcs.rolling(time= 1, center=True).mean(), c='C0', lw=1)\n",
    "plt.plot(NPac_rcp .time/12+200, NPac_rcp .pcs.rolling(time= 1, center=True).mean(), c='C1', lw=1)\n",
    "plt.plot(NPac_ctrl.time/12+100, NPac_ctrl.pcs.rolling(time=12, center=True).mean(), c='C0', lw=3)\n",
    "plt.plot(NPac_rcp .time/12+200, NPac_rcp .pcs.rolling(time=12, center=True).mean(), c='C1', lw=3)\n",
    "plt.xlabel('time [years]'             , fontsize=16)\n",
    "plt.ylabel('first principal component', fontsize=16)"
   ]
  },
  {
   "cell_type": "code",
   "execution_count": null,
   "metadata": {},
   "outputs": [],
   "source": [
    "f, ax = plt.subplots(1,1,figsize=(8,5))\n",
    "ax.tick_params(labelsize=14)\n",
    "ax.axhline(0, c='k', lw=.5)\n",
    "ax.plot(NPac_ctrl.time/12+100, NPac_ctrl.pcs.rolling(time= 12, center=True).mean(), c='C0', lw=1)\n",
    "ax.plot(NPac_rcp .time/12+200, NPac_rcp .pcs.rolling(time= 12, center=True).mean(), c='C1', lw=1)\n",
    "ax.plot(NPac_ctrl.time/12+100, NPac_ctrl.pcs.rolling(time=120, center=True).mean(), c='C0', lw=3)\n",
    "ax.plot(NPac_rcp .time/12+200, NPac_rcp .pcs.rolling(time=120, center=True).mean(), c='C1', lw=3)\n",
    "ax.set_xlabel('time [years]'             , fontsize=16)\n",
    "ax.set_ylabel('PDO', fontsize=16)\n",
    "ax.text(.02, .02, '10 year running mean', transform=ax.transAxes, fontsize=14, color='grey')\n",
    "plt.tight_layout()\n",
    "plt.savefig(f'{path_results}/SST/PDO_index')"
   ]
  },
  {
   "cell_type": "code",
   "execution_count": null,
   "metadata": {},
   "outputs": [],
   "source": [
    "xa = NPac_ctrl.eofs[0]\n",
    "cmap = discrete_cmap(14,  shifted_color_map(cmocean.cm.balance, start=.5-1./12, midpoint=0.5, stop=1., name='shrunk'))\n",
    "f = plt.figure(figsize=(8,5))\n",
    "ax = plt.axes(projection=ccrs.PlateCarree(central_longitude=190))\n",
    "# ax.set_extent([.02,.98,.12,.86])\n",
    "im1 = ax.pcolormesh(xa.t_lon, xa.t_lat, xa.values,\n",
    "              cmap=cmap, vmin=-1, vmax=6,\n",
    "                           transform=ccrs.PlateCarree() )\n",
    "ax.add_feature(cartopy.feature.LAND, facecolor='grey', edgecolor='k', alpha=0.5)\n",
    "cb = plt.colorbar(im1, orientation='horizontal')\n",
    "cb.set_label('correlation coefficient', fontsize=12)\n",
    "ax.set_title('EOF1 expressed as correlation', fontsize=16)\n",
    "plt.savefig(f'{path_results}/SST/PDO_EOF', bbox_inches='tight')\n",
    "# plt.tight_layout()\n",
    "# (NPac_rcp.eofs-NPac_ctrl.eofs).plot()"
   ]
  }
 ],
 "metadata": {
  "kernelspec": {
   "display_name": "Python 3",
   "language": "python",
   "name": "python3"
  },
  "language_info": {
   "codemirror_mode": {
    "name": "ipython",
    "version": 3
   },
   "file_extension": ".py",
   "mimetype": "text/x-python",
   "name": "python",
   "nbconvert_exporter": "python",
   "pygments_lexer": "ipython3",
   "version": "3.6.6"
  }
 },
 "nbformat": 4,
 "nbformat_minor": 2
}
