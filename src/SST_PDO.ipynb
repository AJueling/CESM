{
 "cells": [
  {
   "cell_type": "markdown",
   "metadata": {},
   "source": [
    "# SST: Interdecadal Pacific Oscillation / Interdecadal Pacific Oscillation\n",
    "\n",
    "## IPO\n",
    "Henley at al. (2015): _A Tripole Index for the Interdecadal Pacific Oscillation_:\n",
    ">The following method is used to compute the Tripole Index, based on monthly global SST data:\n",
    "> 1. Subtract the monthly climatology from each SST grid cell to remove the seasonal cycle and compute the monthly mean SST anomalies (SSTAi) in each of the three TPI regions using a chosen base period (1971– 2000 used here).\n",
    "> 2. Compute the unfiltered TPI as:\n",
    "> $ TPI = TPI2 - (TPI1+TPI3)/2$\n",
    "> 3. Apply a 13-year Chebyshev low-pass filter to obtain the filtered version of the index (filtered TPI)."
   ]
  },
  {
   "cell_type": "code",
   "execution_count": null,
   "metadata": {},
   "outputs": [],
   "source": [
    "import sys\n",
    "sys.path.append(\"..\")\n",
    "import scipy as sp\n",
    "import numpy as np\n",
    "import xarray as xr\n",
    "import seaborn as sns\n",
    "import cmocean\n",
    "import cartopy\n",
    "import cartopy.crs as ccrs\n",
    "import matplotlib as mpl\n",
    "import matplotlib.pyplot as plt\n",
    "import matplotlib.patches as mpatches"
   ]
  },
  {
   "cell_type": "code",
   "execution_count": null,
   "metadata": {},
   "outputs": [],
   "source": [
    "%matplotlib inline\n",
    "%config InlineBackend.print_figure_kwargs={'bbox_inches':None}\n",
    "%load_ext autoreload\n",
    "%autoreload 2\n",
    "%aimport - numpy - scipy - matplotlib.pyplot"
   ]
  },
  {
   "cell_type": "code",
   "execution_count": null,
   "metadata": {},
   "outputs": [],
   "source": [
    "from OHC import t2da, t2ds\n",
    "from SST import SST_index, EOF_SST_analysis\n",
    "from maps import map_robinson, map_eq_earth, rect_polygon\n",
    "from grid import find_array_idx\n",
    "from paths import path_results, path_samoc, file_ex_ocn_ctrl, file_ex_ocn_rect\n",
    "from regions import boolean_mask, SOM_area, global_ocean, gl_ocean_rect, NPacific_mask_rect, TPI_masks\n",
    "from plotting import shifted_color_map, discrete_cmap\n",
    "from timeseries import IterateOutputCESM, lowpass, chebychev\n",
    "from xr_DataArrays import xr_AREA\n",
    "from xr_regression import xr_lintrend, xr_linear_trends_2D, xr_linear_trend, ocn_field_regression, lag_linregress_3D"
   ]
  },
  {
   "cell_type": "markdown",
   "metadata": {},
   "source": [
    "### raw SST indices of TPI1-3\n",
    "running the `IPO_TPI` function of `SST.py`  via the terminal or\n",
    "\n",
    "`%run ../SST.py IPO {run}`\n",
    "\n",
    "results in raw monthly timeseries of the three TPI SST indices (takes 30 minutes for rcp run)"
   ]
  },
  {
   "cell_type": "code",
   "execution_count": null,
   "metadata": {},
   "outputs": [],
   "source": [
    "runs = ['ctrl', 'rcp', 'lpd', 'lpi']"
   ]
  },
  {
   "cell_type": "code",
   "execution_count": null,
   "metadata": {},
   "outputs": [],
   "source": [
    "TPI1_ctrl = xr.open_dataarray(f'{path_samoc}/SST/TPI1_ctrl.nc', decode_times=False)\n",
    "TPI1_rcp  = xr.open_dataarray(f'{path_samoc}/SST/TPI1_rcp.nc' , decode_times=False)\n",
    "TPI1_lpd  = xr.open_dataarray(f'{path_samoc}/SST/TPI1_lpd.nc' , decode_times=False)\n",
    "TPI1_lpi  = xr.open_dataarray(f'{path_samoc}/SST/TPI1_lpi.nc' , decode_times=False)\n",
    "TPI2_ctrl = xr.open_dataarray(f'{path_samoc}/SST/TPI2_ctrl.nc', decode_times=False)\n",
    "TPI2_rcp  = xr.open_dataarray(f'{path_samoc}/SST/TPI2_rcp.nc' , decode_times=False)\n",
    "TPI2_lpd  = xr.open_dataarray(f'{path_samoc}/SST/TPI2_lpd.nc' , decode_times=False)\n",
    "TPI2_lpi  = xr.open_dataarray(f'{path_samoc}/SST/TPI2_lpi.nc' , decode_times=False)\n",
    "TPI3_ctrl = xr.open_dataarray(f'{path_samoc}/SST/TPI3_ctrl.nc', decode_times=False)\n",
    "TPI3_rcp  = xr.open_dataarray(f'{path_samoc}/SST/TPI3_rcp.nc' , decode_times=False)\n",
    "TPI3_lpd  = xr.open_dataarray(f'{path_samoc}/SST/TPI3_lpd.nc' , decode_times=False)\n",
    "TPI3_lpi  = xr.open_dataarray(f'{path_samoc}/SST/TPI3_lpi.nc' , decode_times=False)"
   ]
  },
  {
   "cell_type": "code",
   "execution_count": null,
   "metadata": {},
   "outputs": [],
   "source": [
    "TPI_list_ctrl = [TPI1_ctrl, TPI2_ctrl, TPI3_ctrl]\n",
    "TPI_list_rcp  = [TPI1_rcp , TPI2_rcp , TPI3_rcp ]\n",
    "TPI_list_lpd  = [TPI1_lpd , TPI2_lpd , TPI3_lpd ]\n",
    "TPI_list_lpi  = [TPI1_lpi , TPI2_lpi , TPI3_lpi ]\n",
    "TPIs = [TPI_list_ctrl, TPI_list_rcp, TPI_list_lpd, TPI_list_lpi]"
   ]
  },
  {
   "cell_type": "markdown",
   "metadata": {},
   "source": [
    "### detrending"
   ]
  },
  {
   "cell_type": "code",
   "execution_count": null,
   "metadata": {},
   "outputs": [],
   "source": [
    "def plot_fits(ts, ax, color, label):\n",
    "    lf = np.polyfit(ts.time, ts.values, 1)\n",
    "    qf = np.polyfit(ts.time, ts.values, 2)\n",
    "    ax[0].plot(ts.time/365, lf[0]*ts.time                    -  lf[0]*ts.time[0]                       , c=color, label=label)\n",
    "    ax[1].plot(ts.time/365, qf[0]*ts.time**2 + qf[1]*ts.time - (qf[0]*ts.time[0]**2 + qf[1]*ts.time[0]), c=color, label=label)\n",
    "    plt.tight_layout()"
   ]
  },
  {
   "cell_type": "code",
   "execution_count": null,
   "metadata": {},
   "outputs": [],
   "source": [
    "f,ax = plt.subplots(2,4, figsize=(12,5), sharex='col')\n",
    "for k, TPI_list in enumerate(TPIs):\n",
    "    for i, TPI in enumerate(TPI_list):\n",
    "        plot_fits(TPI, ax[:,k], f'C{i}', ['TPI1', 'TPI2', 'TPI3'][i])\n",
    "    ax[0,k].set_title(runs[k])\n",
    "    ax[1,k].set_xlabel('time [years]')\n",
    "ax[0,0].legend()\n",
    "ax[0,0].set_ylabel('linear fit')\n",
    "ax[1,0].set_ylabel('quad. fit')\n",
    "f.align_labels()\n",
    "plt.tight_layout()"
   ]
  },
  {
   "cell_type": "markdown",
   "metadata": {},
   "source": [
    "I will take the average linear trend to subtract from all three TPI timeseries, to stay physically consistent. Luckily, TPI1 and TPI3 trends are enclose TPI2, so that the error due to this approximation should reduce."
   ]
  },
  {
   "cell_type": "code",
   "execution_count": null,
   "metadata": {},
   "outputs": [],
   "source": [
    "def detrend_TPI_lists(TPI_list):\n",
    "    lf = np.zeros((3,2))\n",
    "    TPI_dts = []\n",
    "    for i, TPI in enumerate(TPI_list):\n",
    "        lf[i,:] = np.polyfit(TPI.time, TPI.values, 1)\n",
    "#         plt.plot(TPI.time/365 - TPI.time[0]/365, lf[i,0]*TPI.time - lf[i,0]*TPI.time[0])\n",
    "        if i==2:\n",
    "            lf_avg = lf[:,0].mean()\n",
    "#             plt.plot(TPI.time/365 - TPI.time[0]/365, lf_avg*TPI.time - lf_avg*TPI.time[0])\n",
    "    for i, TPI in enumerate(TPI_list):\n",
    "        TPI_dt = TPI - TPI.time*lf_avg\n",
    "        TPI_dts.append(TPI_dt - TPI_dt.mean())\n",
    "    return TPI_dts"
   ]
  },
  {
   "cell_type": "markdown",
   "metadata": {},
   "source": [
    "### deseasonalize "
   ]
  },
  {
   "cell_type": "code",
   "execution_count": null,
   "metadata": {},
   "outputs": [],
   "source": [
    "def deseasonalize_TPI_dts(TPI_dts):\n",
    "    seasons = np.zeros((3,12))\n",
    "    TPI_dtdss = []\n",
    "    for i, TPI in enumerate(TPI_dts):\n",
    "        TPI_dtds = TPI.copy()\n",
    "        for j in range(12):\n",
    "            TPI_dtds[j::12] -= TPI[j::12].mean()\n",
    "        TPI_dtdss.append(TPI_dtds)\n",
    "    return TPI_dtdss"
   ]
  },
  {
   "cell_type": "markdown",
   "metadata": {},
   "source": [
    "### calculate final tripole IPO index \n",
    "$$ TPI = TPI2 - \\frac{TPI1+TPI3}{2}$$"
   ]
  },
  {
   "cell_type": "code",
   "execution_count": null,
   "metadata": {},
   "outputs": [],
   "source": [
    "\n",
    "plt.axhline(0, c='k', lw=.5)\n",
    "for i, TPI_list in enumerate(TPIs):\n",
    "    TPI_dts   = detrend_TPI_lists(TPI_list)\n",
    "    TPI_dtdss = deseasonalize_TPI_dts(TPI_dts)\n",
    "    for j in range(3):\n",
    "#         plt.plot(TPI_dts[i]  .time/365 - TPI_dts[i]  .time[0]/365, TPI_dts[i]  , alpha=.1)\n",
    "        plt.plot(TPI_dtdss[j].time/365 - TPI_dtdss[j].time[0]/365, TPI_dtdss[j], alpha=.1)\n",
    "    TPI_dtds = TPI_dtdss[1] - (TPI_dtdss[0] + TPI_dtdss[2])/2\n",
    "    TPI_dtds.to_netcdf(f'{path_results}/SST/TPI_monthly_{runs[i]}.nc')"
   ]
  },
  {
   "cell_type": "markdown",
   "metadata": {},
   "source": [
    "### create yearly TPI index"
   ]
  },
  {
   "cell_type": "code",
   "execution_count": null,
   "metadata": {},
   "outputs": [],
   "source": [
    "TPI_monthly_ctrl = xr.open_dataarray(f'{path_results}/SST/TPI_monthly_ctrl.nc', decode_times=False)\n",
    "TPI_monthly_rcp  = xr.open_dataarray(f'{path_results}/SST/TPI_monthly_rcp.nc' , decode_times=False)\n",
    "TPI_monthly_lpd  = xr.open_dataarray(f'{path_results}/SST/TPI_monthly_lpd.nc' , decode_times=False)\n",
    "TPI_monthly_lpi  = xr.open_dataarray(f'{path_results}/SST/TPI_monthly_lpi.nc' , decode_times=False)"
   ]
  },
  {
   "cell_type": "code",
   "execution_count": null,
   "metadata": {},
   "outputs": [],
   "source": [
    "def yearly_signal(TPI):\n",
    "    times, values = [], []\n",
    "    for k,g in TPI.groupby_bins('time', xr.concat([TPI.time[::12], TPI.time[-1]], dim='time')):\n",
    "        times.append(k.left)\n",
    "        values.append(float(g.mean()))\n",
    "    da = xr.DataArray(data=values, coords={'time': times}, dims=('time'))\n",
    "    return da"
   ]
  },
  {
   "cell_type": "code",
   "execution_count": null,
   "metadata": {},
   "outputs": [],
   "source": [
    "yearly_signal(TPI_monthly_ctrl).to_netcdf(f'{path_results}/SST/TPI_ctrl.nc')\n",
    "yearly_signal(TPI_monthly_rcp ).to_netcdf(f'{path_results}/SST/TPI_rcp.nc')\n",
    "yearly_signal(TPI_monthly_lpd ).to_netcdf(f'{path_results}/SST/TPI_lpd.nc')\n",
    "yearly_signal(TPI_monthly_lpi ).to_netcdf(f'{path_results}/SST/TPI_lpi.nc')"
   ]
  },
  {
   "cell_type": "markdown",
   "metadata": {},
   "source": [
    "## Analysis of TPI "
   ]
  },
  {
   "cell_type": "code",
   "execution_count": null,
   "metadata": {},
   "outputs": [],
   "source": [
    "TPI_ctrl = xr.open_dataarray(f'{path_results}/SST/TPI_ctrl.nc', decode_times=False)\n",
    "TPI_rcp  = xr.open_dataarray(f'{path_results}/SST/TPI_rcp.nc' , decode_times=False)\n",
    "TPI_lpd  = xr.open_dataarray(f'{path_results}/SST/TPI_lpd.nc' , decode_times=False)\n",
    "TPI_lpi  = xr.open_dataarray(f'{path_results}/SST/TPI_lpi.nc' , decode_times=False)"
   ]
  },
  {
   "cell_type": "code",
   "execution_count": null,
   "metadata": {},
   "outputs": [],
   "source": [
    "b, a = sp.signal.cheby1(4, 1, 100, 'low', analog=True)\n",
    "w, h = sp.signal.freqs(b, a)\n",
    "plt.plot(w, 20 * np.log10(abs(h)), label='chebychev')\n",
    "plt.xscale('log')\n",
    "plt.title(' frequency response (rp=5)')\n",
    "plt.xlabel('Frequency [radians / second]')\n",
    "plt.ylabel('Amplitude [dB]')\n",
    "plt.margins(0, 0.1)\n",
    "plt.grid(which='both', axis='both')\n",
    "plt.axhline(0, c='k', lw=.5) # rp\n",
    "\n",
    "b, a = sp.signal.butter(4, 100, 'low', analog=True)\n",
    "w, h = sp.signal.freqs(b, a)\n",
    "plt.plot(w, 20 * np.log10(abs(h)), label='butterworth')\n",
    "plt.xscale('log')\n",
    "plt.title('Butterworth/Chebychev filter frequency response')\n",
    "plt.xlabel('Frequency [radians / second]')\n",
    "plt.ylabel('Amplitude [dB]')\n",
    "plt.margins(0, 0.1)\n",
    "plt.grid(which='both', axis='both')\n",
    "plt.axvline(100, color='green', label='cutoff frequency')\n",
    "\n",
    "plt.legend()\n",
    "plt.tight_layout()"
   ]
  },
  {
   "cell_type": "code",
   "execution_count": null,
   "metadata": {},
   "outputs": [],
   "source": [
    "plt.figure(figsize=(8,5))\n",
    "plt.axhline(0, c='k', lw=.5)\n",
    "# plt.plot(TPI_dtds.time/365, TPI_dtds.rolling(time=12, center=True).mean(), alpha=.2)\n",
    "plt.plot(TPI_ctrl.time/365, TPI_ctrl.rolling(time=100, center=True).mean(), label='100 year running mean')\n",
    "plt.plot(TPI_ctrl.time/365, TPI_ctrl.rolling(time=13 , center=True).mean(), label='13 year running mean', alpha=.5)\n",
    "plt.plot(TPI_ctrl.time/365, lowpass(TPI_ctrl    , 13)                     , label='13 year lowpass')\n",
    "plt.plot(TPI_ctrl.time/365, chebychev(TPI_ctrl  , 13)                     , label='13 year chebychev')\n",
    "# plt.plot(TPI_dtds.time/365, chebychev(TPI_dtds, 130*12), label='130 year chebychev')\n",
    "plt.legend()\n",
    "plt.tight_layout()"
   ]
  },
  {
   "cell_type": "markdown",
   "metadata": {},
   "source": [
    "- the period of 13 years was given by Henley et al. (2015)\n",
    "- the 'rp' value was set to 1 to minimize damping and ripple effects\n",
    "- there are edge effects of parameter choices:\n",
    "    * chose 'constant' padtype\n",
    "    * of padlen N-1=5, there is a difference whether one uses monthly or yearly data (because he timeseries is either extended by 5 months or years, respectively)\n",
    "    "
   ]
  },
  {
   "cell_type": "code",
   "execution_count": null,
   "metadata": {},
   "outputs": [],
   "source": [
    "f, ax = plt.subplots(1,1,figsize=(12,5))\n",
    "ax.tick_params(labelsize=14)\n",
    "ax.axhline(0, c='k', lw=.5)\n",
    "\n",
    "# ax.plot(TPI_ctrl.time/365+1850,           TPI_ctrl     , c='C0', ls='--', lw=.5)\n",
    "# ax.plot(TPI_rcp .time/365+ 200,           TPI_rcp      , c='C1', ls='--', lw=.5)\n",
    "# ax.plot(TPI_lpd .time/365+1350,           TPI_lpd      , c='C2', ls='--', lw=.5)\n",
    "# ax.plot(TPI_lpi .time/365-1600,           TPI_lpi      , c='C3', ls='--', lw=.5)\n",
    "\n",
    "L1, = ax.plot(TPI_ctrl.time/365+1850, chebychev(TPI_ctrl, 13), c='C0', ls='--', lw=1, label='chebychev 13 yr')\n",
    "ax.plot(TPI_rcp .time/365+ 200, chebychev(TPI_rcp , 13), c='C1', ls='--', lw=1)\n",
    "ax.plot(TPI_lpd .time/365+1350, chebychev(TPI_lpd , 13), c='C2', ls='--', lw=1)\n",
    "ax.plot(TPI_lpi .time/365-1600, chebychev(TPI_lpi , 13), c='C3', ls='--', lw=1)\n",
    "\n",
    "L2, = ax.plot(TPI_ctrl.time/365+1850, chebychev(TPI_ctrl, 40), c='C0', ls='-' , lw=2, label='lowpass 40 yr')\n",
    "ax.plot(TPI_rcp .time/365+ 200, chebychev(TPI_rcp , 40), c='C1', ls='-' , lw=2)\n",
    "ax.plot(TPI_lpd .time/365+1350, chebychev(TPI_lpd , 40), c='C2', ls='-' , lw=2)\n",
    "ax.plot(TPI_lpi .time/365-1600, chebychev(TPI_lpi , 40), c='C3', ls='-' , lw=2)\n",
    "\n",
    "L3, = ax.plot(TPI_ctrl.time/365+1850, xr_lintrend(TPI_ctrl), c='C0', ls='-.', lw=1.5, label='linear trend')\n",
    "ax.plot(TPI_rcp .time/365+ 200, xr_lintrend(TPI_rcp ), c='C1', ls='-.', lw=1.5)\n",
    "ax.plot(TPI_lpd .time/365+1350, xr_lintrend(TPI_lpd ), c='C2', ls='-.', lw=1.5)\n",
    "ax.plot(TPI_lpi .time/365-1600, xr_lintrend(TPI_lpi ), c='C3', ls='-.', lw=1.5)\n",
    "\n",
    "ax.plot([2050]*2, [-.15,.1], c='g', lw=.5)\n",
    "ax.plot([2200]*2, [-.15,.1], c='g', lw=.5)\n",
    "\n",
    "ax.text(1950, .12, 'CTRL'         , fontsize=16, color='C0')\n",
    "ax.text(2200, .12, 'RCP'          , fontsize=16, color='C1')\n",
    "ax.text(1500, .12, 'pres. day low', fontsize=16, color='C2')\n",
    "ax.text(   0, .12, 'pre-ind. low' , fontsize=16, color='C3')\n",
    "\n",
    "ax.legend(handles=[L1,L2,L3], loc=8, ncol=3, fontsize=14, frameon=False)\n",
    "\n",
    "ax.set_ylabel('PDO index [K]', fontsize=16)\n",
    "ax.set_xlabel('time [years]', fontsize=16)\n",
    "ax.set_xticks(np.arange(0,2400,200))\n",
    "f.tight_layout()"
   ]
  },
  {
   "cell_type": "markdown",
   "metadata": {},
   "source": [
    "## spectrogram"
   ]
  },
  {
   "cell_type": "code",
   "execution_count": null,
   "metadata": {},
   "outputs": [],
   "source": [
    "TPIs = [TPI_ctrl, TPI_rcp, TPI_lpd, TPI_lpi]\n",
    "\n",
    "f, ax = plt.subplots(1, 1, figsize=(8,5), sharey=True)\n",
    "ax.set_ylabel('spectral power', fontsize=16)\n",
    "\n",
    "for i in range (4):\n",
    "    label= ['CTRL', 'RCP', 'LPD', 'LPI'][i]\n",
    "    f, Pxx = sp.signal.welch(TPIs[i]-xr_lintrend(TPIs[i]), fs=1)\n",
    "    ax.loglog(1/f, np.sqrt(Pxx), label=label)\n",
    "\n",
    "ax.tick_params(labelsize=14)\n",
    "ax.set_xlabel('period [yr]', fontsize=16)\n",
    "ax.legend(fontsize=14, frameon=False)\n",
    "    \n",
    "plt.tight_layout()"
   ]
  },
  {
   "cell_type": "markdown",
   "metadata": {},
   "source": [
    "## regression map"
   ]
  },
  {
   "cell_type": "code",
   "execution_count": null,
   "metadata": {},
   "outputs": [],
   "source": [
    "SST_yrly_ctrl = xr.open_dataarray(f'{path_samoc}/SST/SST_yrly_ctrl.nc')\n",
    "SST_yrly_rcp  = xr.open_dataarray(f'{path_samoc}/SST/SST_yrly_rcp.nc' )\n",
    "SST_yrly_lpd  = xr.open_dataarray(f'{path_samoc}/SST/SST_yrly_lpd.nc' )\n",
    "SST_yrly_lpi  = xr.open_dataarray(f'{path_samoc}/SST/SST_yrly_lpi.nc' )"
   ]
  },
  {
   "cell_type": "code",
   "execution_count": null,
   "metadata": {},
   "outputs": [],
   "source": [
    "SST_yrly_detr_ctrl = xr.open_dataarray(f'{path_samoc}/SST/SST_yrly_detr_ctrl.nc', decode_times=False)\n",
    "SST_yrly_detr_rcp  = xr.open_dataarray(f'{path_samoc}/SST/SST_yrly_detr_rcp.nc' , decode_times=False)\n",
    "SST_yrly_detr_lpd  = xr.open_dataarray(f'{path_samoc}/SST/SST_yrly_detr_lpd.nc' , decode_times=False)\n",
    "SST_yrly_detr_lpi  = xr.open_dataarray(f'{path_samoc}/SST/SST_yrly_detr_lpi.nc' , decode_times=False)"
   ]
  },
  {
   "cell_type": "code",
   "execution_count": null,
   "metadata": {},
   "outputs": [],
   "source": [
    "ds_ctrl = lag_linregress_3D(TPI_ctrl, SST_yrly_ctrl)"
   ]
  },
  {
   "cell_type": "code",
   "execution_count": null,
   "metadata": {},
   "outputs": [],
   "source": [
    "ds_ctrl.cor.plot()"
   ]
  },
  {
   "cell_type": "code",
   "execution_count": null,
   "metadata": {},
   "outputs": [],
   "source": [
    "ds_ctrl.slope.plot()"
   ]
  },
  {
   "cell_type": "code",
   "execution_count": null,
   "metadata": {},
   "outputs": [],
   "source": [
    "ds_ctrl.pval.plot()"
   ]
  },
  {
   "cell_type": "code",
   "execution_count": null,
   "metadata": {},
   "outputs": [],
   "source": [
    "plt.plot(SST_yrly_rcp[:,1500,3000]-SST_yrly_ctrl[:,1500,3000].mean(dim='time'))  # central North Pacific\n",
    "plt.plot(SST_yrly_rcp[:,1800, 800]-SST_yrly_ctrl[:,1800, 800].mean(dim='time'))  # central North Atlantic\n",
    "plt.plot(SST_yrly_rcp[:, 500,1300]-SST_yrly_ctrl[:, 500,1300].mean(dim='time'))  # Southern Ocean Sotuh of Africa\n"
   ]
  },
  {
   "cell_type": "markdown",
   "metadata": {},
   "source": [
    "# Pacific Decadal Oscillation\n",
    "\n",
    "Mantua et al. (1997)\n",
    "\n",
    "> The leading EOF of monthlySST anomalies over the North Pacific (after removing the global mean SST anomaly) and its associated PC time series are termed the Pacific Decadal Oscillation (PDO)\n",
    "\n",
    "1. compute monthly global mean SST\n",
    "\n",
    "2. create North Pacific monthly output fields\n",
    "    2.1. determine extend of grid\n",
    "    2.2. reduce all coordinates appropriately\n",
    "    2.3. loop through all months and save as single netcdf\n",
    "\n",
    "3. EOF analysis\n",
    "\n",
    "maybe use ocn rect for it"
   ]
  },
  {
   "cell_type": "code",
   "execution_count": null,
   "metadata": {},
   "outputs": [],
   "source": [
    "# %%time\n",
    "# # 29 min\n",
    "# for run in ['ctrl', 'rcp']:\n",
    "#     for i, (y,m,s) in enumerate(IterateOutputCESM(domain='ocn', run=run, tavg='monthly')):\n",
    "#         SST = xr.open_dataset(s, decode_times=False).TEMP[0,0,:,:]\n",
    "#         SST_gm = SST_index(xa_SST=SST, AREA=TAREA, index_loc=global_ocean, AREA_index=global_area, MASK=MASK_ocn, dims=('nlat', 'nlon'))\n",
    "#         if m==1: print(y, SST_gm.item()) \n",
    "#         if i==0:  SST_new = SST_gm\n",
    "#         else:     SST_new = xr.concat([SST_new, SST_gm], dim='time')\n",
    "#     SST_new.to_netcdf(f'{path_results}/SST_global_mean_monthly_{run}.nc')"
   ]
  },
  {
   "cell_type": "code",
   "execution_count": null,
   "metadata": {},
   "outputs": [],
   "source": [
    "# %%time\n",
    "# # 11 min\n",
    "# for run in ['ctrl', 'rcp']:\n",
    "#     for i, (y,m,s) in enumerate(IterateOutputCESM(domain='ocn_rect', run=run, tavg='monthly')):\n",
    "#         SST = xr.open_dataset(s, decode_times=False).TEMP[0,:,:]\n",
    "#         SST_gm = SST_index(xa_SST=SST, AREA=AREA_rect, index_loc=gl_ocean_rect, AREA_index=global_area2, MASK=MASK_rect, dims=('t_lat', 't_lon'))\n",
    "#         if m==1: print(y, SST_gm.item()) \n",
    "#         if i==0:  SST_new = SST_gm\n",
    "#         else:     SST_new = xr.concat([SST_new, SST_gm], dim='time')\n",
    "#     SST_new.to_netcdf(f'{path_results}/SST_global_mean_monthly_rect_{run}.nc')"
   ]
  },
  {
   "cell_type": "code",
   "execution_count": null,
   "metadata": {},
   "outputs": [],
   "source": [
    "SST_gm_ctrl      = xr.open_dataarray(f'{path_results}/SST_global_mean_monthly_ctrl.nc'     , decode_times=False)\n",
    "SST_gm_rcp       = xr.open_dataarray(f'{path_results}/SST_global_mean_monthly_rcp.nc'      , decode_times=False)\n",
    "SST_gm_rect_ctrl = xr.open_dataarray(f'{path_results}/SST_global_mean_monthly_rect_ctrl.nc', decode_times=False)\n",
    "SST_gm_rect_rcp  = xr.open_dataarray(f'{path_results}/SST_global_mean_monthly_rect_rcp.nc' , decode_times=False)"
   ]
  },
  {
   "cell_type": "code",
   "execution_count": null,
   "metadata": {},
   "outputs": [],
   "source": [
    "plt.plot(SST_gm_ctrl)\n",
    "plt.plot(SST_gm_rcp )\n",
    "plt.plot(SST_gm_rect_ctrl)\n",
    "plt.plot(SST_gm_rect_rcp )"
   ]
  },
  {
   "cell_type": "code",
   "execution_count": null,
   "metadata": {},
   "outputs": [],
   "source": [
    "plt.axhline(0, c='k', lw=.5)\n",
    "plt.plot(SST_gm_rect_ctrl.time/12+100, SST_gm_rect_ctrl-SST_gm_ctrl[:len(SST_gm_rect_ctrl)])\n",
    "plt.plot(SST_gm_rect_rcp .time/12+300, SST_gm_rect_rcp -SST_gm_rcp [:len(SST_gm_rect_rcp )])"
   ]
  },
  {
   "cell_type": "markdown",
   "metadata": {},
   "source": [
    "somehow there is an almost constant low bias in the global mean SST when calculatd in the rect files"
   ]
  },
  {
   "cell_type": "code",
   "execution_count": null,
   "metadata": {},
   "outputs": [],
   "source": [
    "NPac_MASK = NPacific_mask_rect()\n",
    "NPac_area = xr_AREA('ocn_rect').where(NPac_MASK, drop=True)"
   ]
  },
  {
   "cell_type": "code",
   "execution_count": null,
   "metadata": {},
   "outputs": [],
   "source": [
    "# %%time\n",
    "# # 51 mins for 162 years of ctrl\n",
    "# # 9 min for 67 years of rcp\n",
    "# \n",
    "# for j, run in enumerate(['ctrl', 'rcp']):\n",
    "#     SST_gm_rect = [SST_gm_rect_ctrl, SST_gm_rect_rcp][j]\n",
    "#     for i, (y,m,s) in enumerate(IterateOutputCESM(domain='ocn_rect', tavg='monthly', run=run)):\n",
    "#         if m==1:\n",
    "#             print(y)\n",
    "#         xa = xr.open_dataset(s, decode_times=False).TEMP[0,:,:].where(NPac_MASK, drop=True) - SST_gm_rect[i]\n",
    "#         if i==0:\n",
    "#             xa_out = xa.copy()\n",
    "#         else:\n",
    "#             xa_out = xr.concat([xa_out, xa], dim='time')\n",
    "#         xa_out.to_netcdf(f'{path_samoc}/SST/NPacific_anomaly_monthly_rect_{run}.nc')"
   ]
  },
  {
   "cell_type": "code",
   "execution_count": null,
   "metadata": {},
   "outputs": [],
   "source": [
    "SST_NPac_rect_ctrl = xr.open_dataarray(f'{path_samoc}/SST/NPacific_anomaly_monthly_rect_ctrl.nc', decode_times=False)\n",
    "SST_NPac_rect_rcp  = xr.open_dataarray(f'{path_samoc}/SST/NPacific_anomaly_monthly_rect_rcp.nc' , decode_times=False)"
   ]
  },
  {
   "cell_type": "code",
   "execution_count": null,
   "metadata": {},
   "outputs": [],
   "source": [
    "# %%time\n",
    "# # 30 sec for rcp\n",
    "# # 2 mins for ctrl\n",
    "# fn = f'{path_results}/SST/NPac_ctrl.nc'\n",
    "# eof_ctrl, pc_ctrl = EOF_SST_analysis(xa=SST_NPac_rect_ctrl, weights=NPac_area, fn=fn)\n",
    "# fn = f'{path_results}/SST/NPac_rcp.nc'\n",
    "# eof_rcp , pc_rcp  = EOF_SST_analysis(xa=SST_NPac_rect_rcp , weights=NPac_area, fn=fn)"
   ]
  },
  {
   "cell_type": "code",
   "execution_count": null,
   "metadata": {},
   "outputs": [],
   "source": [
    "NPac_ctrl = xr.open_dataset(f'{path_results}/SST/NPac_ctrl.nc', decode_times=False)\n",
    "NPac_rcp  = xr.open_dataset(f'{path_results}/SST/NPac_rcp.nc' , decode_times=False)"
   ]
  },
  {
   "cell_type": "code",
   "execution_count": null,
   "metadata": {},
   "outputs": [],
   "source": [
    "plt.figure(figsize=(8,5))\n",
    "plt.tick_params(labelsize=14)\n",
    "plt.axhline(0, c='k', lw=.5)\n",
    "plt.plot(NPac_ctrl.time/12+100, NPac_ctrl.pcs.rolling(time= 1, center=True).mean(), c='C0', lw=1)\n",
    "plt.plot(NPac_rcp .time/12+200, NPac_rcp .pcs.rolling(time= 1, center=True).mean(), c='C1', lw=1)\n",
    "plt.plot(NPac_ctrl.time/12+100, NPac_ctrl.pcs.rolling(time=12, center=True).mean(), c='C0', lw=3)\n",
    "plt.plot(NPac_rcp .time/12+200, NPac_rcp .pcs.rolling(time=12, center=True).mean(), c='C1', lw=3)\n",
    "plt.xlabel('time [years]'             , fontsize=16)\n",
    "plt.ylabel('first principal component', fontsize=16)"
   ]
  },
  {
   "cell_type": "code",
   "execution_count": null,
   "metadata": {},
   "outputs": [],
   "source": [
    "f, ax = plt.subplots(1,1,figsize=(8,5))\n",
    "ax.tick_params(labelsize=14)\n",
    "ax.axhline(0, c='k', lw=.5)\n",
    "ax.plot(NPac_ctrl.time/12+100, NPac_ctrl.pcs.rolling(time= 12, center=True).mean(), c='C0', lw=1)\n",
    "ax.plot(NPac_rcp .time/12+200, NPac_rcp .pcs.rolling(time= 12, center=True).mean(), c='C1', lw=1)\n",
    "ax.plot(NPac_ctrl.time/12+100, NPac_ctrl.pcs.rolling(time=120, center=True).mean(), c='C0', lw=3)\n",
    "ax.plot(NPac_rcp .time/12+200, NPac_rcp .pcs.rolling(time=120, center=True).mean(), c='C1', lw=3)\n",
    "ax.set_xlabel('time [years]'             , fontsize=16)\n",
    "ax.set_ylabel('PDO', fontsize=16)\n",
    "ax.text(.02, .02, '10 year running mean', transform=ax.transAxes, fontsize=14, color='grey')\n",
    "plt.tight_layout()\n",
    "plt.savefig(f'{path_results}/SST/PDO_index')"
   ]
  },
  {
   "cell_type": "code",
   "execution_count": null,
   "metadata": {},
   "outputs": [],
   "source": [
    "xa = NPac_ctrl.eofs[0]\n",
    "cmap = discrete_cmap(14,  shifted_color_map(cmocean.cm.balance, start=.5-1./12, midpoint=0.5, stop=1., name='shrunk'))\n",
    "f = plt.figure(figsize=(8,5))\n",
    "ax = plt.axes(projection=ccrs.PlateCarree(central_longitude=190))\n",
    "# ax.set_extent([.02,.98,.12,.86])\n",
    "im1 = ax.pcolormesh(xa.t_lon, xa.t_lat, xa.values,\n",
    "              cmap=cmap, vmin=-1, vmax=6,\n",
    "                           transform=ccrs.PlateCarree() )\n",
    "ax.add_feature(cartopy.feature.LAND, facecolor='grey', edgecolor='k', alpha=0.5)\n",
    "cb = plt.colorbar(im1, orientation='horizontal')\n",
    "cb.set_label('correlation coefficient', fontsize=12)\n",
    "ax.set_title('EOF1 expressed as correlation', fontsize=16)\n",
    "plt.savefig(f'{path_results}/SST/PDO_EOF', bbox_inches='tight')\n",
    "# plt.tight_layout()\n",
    "# (NPac_rcp.eofs-NPac_ctrl.eofs).plot()"
   ]
  }
 ],
 "metadata": {
  "kernelspec": {
   "display_name": "Python 3",
   "language": "python",
   "name": "python3"
  },
  "language_info": {
   "codemirror_mode": {
    "name": "ipython",
    "version": 3
   },
   "file_extension": ".py",
   "mimetype": "text/x-python",
   "name": "python",
   "nbconvert_exporter": "python",
   "pygments_lexer": "ipython3",
   "version": "3.6.6"
  }
 },
 "nbformat": 4,
 "nbformat_minor": 2
}
