{
 "cells": [
  {
   "cell_type": "code",
   "execution_count": 9,
   "metadata": {},
   "outputs": [
    {
     "name": "stdout",
     "output_type": "stream",
     "text": [
      "Submitted batch job 7144943\n"
     ]
    }
   ],
   "source": [
    "# LFCA scripts\n",
    "with open('run.sh','w') as file:\n",
    "    file.write('#!/bin/bash\\n')\n",
    "    file.write('#SBATCH -t 30:03:00\\n')\n",
    "    file.write('#SBATCH -n 12\\n') \n",
    "    file.write('#SBATCH -p fat\\n')\n",
    "    file.write('cd /home/dijkbio/andre/CESM/src/run\\n')\n",
    "    file.write('module load pre2019\\n')\n",
    "    file.write('module load eb\\n')\n",
    "    file.write('module load Miniconda3\\n')\n",
    "    file.write('source activate CESM\\n')\n",
    "    for run in ['had', 'ctrl', 'lpd']:\n",
    "        for basin in ['North_Pacific', 'full_Pacific', 'Southern_Ocean', 'North_Atlantic']:\n",
    "            file.write('(\\n')\n",
    "            file.write(f'python run_LFCA.py {run} {basin} ds\\n\\\n",
    "                         python run_LFCA.py {run} {basin} ds_dt\\n')\n",
    "            file.write(')&\\n')\n",
    "    file.write('wait')\n",
    "    file.close()\n",
    "! sbatch run.sh"
   ]
  },
  {
   "cell_type": "code",
   "execution_count": 1,
   "metadata": {
    "collapsed": true,
    "jupyter": {
     "outputs_hidden": true
    }
   },
   "outputs": [
    {
     "name": "stdout",
     "output_type": "stream",
     "text": [
      "Submitted batch job 5334212\n",
      "Submitted batch job 5334213\n",
      "Submitted batch job 5334214\n",
      "Submitted batch job 5334215\n",
      "Submitted batch job 5334216\n",
      "Submitted batch job 5334217\n",
      "Submitted batch job 5334218\n",
      "Submitted batch job 5334219\n",
      "Submitted batch job 5334220\n",
      "Submitted batch job 5334221\n",
      "Submitted batch job 5334222\n",
      "Submitted batch job 5334223\n",
      "Submitted batch job 5334224\n",
      "Submitted batch job 5334225\n",
      "Submitted batch job 5334226\n",
      "Submitted batch job 5334227\n",
      "Submitted batch job 5334228\n",
      "Submitted batch job 5334229\n",
      "Submitted batch job 5334230\n",
      "Submitted batch job 5334231\n",
      "Submitted batch job 5334232\n",
      "Submitted batch job 5334233\n",
      "Submitted batch job 5334234\n",
      "Submitted batch job 5334235\n",
      "Submitted batch job 5334236\n",
      "Submitted batch job 5334237\n"
     ]
    }
   ],
   "source": [
    "# OHC scripts\n",
    "for run in ['ctrl', 'rcp']:\n",
    "    for region in range(13):\n",
    "        with open('run.sh','w') as file:\n",
    "            file.write('#!/bin/bash\\n')\n",
    "            if run=='ctrl':\n",
    "                file.write('#SBATCH -t 15:00:00\\n')\n",
    "            elif run=='rcp':\n",
    "                file.write('#SBATCH -t 9:00:00\\n')\n",
    "            file.write('#SBATCH -N 1 --ntasks-per-node=1\\n') \n",
    "            file.write('#SBATCH -p normal\\n')\n",
    "            file.write('cd /home/dijkbio/andre/CESM/src\\n')\n",
    "            file.write('module load eb\\n')\n",
    "            file.write('module load Miniconda3\\n')\n",
    "            file.write('source activate CESM\\n')\n",
    "            file.write(f'python OHC.py {run} {region}\\n')\n",
    "            file.close()\n",
    "        ! sbatch run.sh"
   ]
  },
  {
   "cell_type": "markdown",
   "metadata": {},
   "source": [
    "jobs that were killed \n",
    "\n",
    "Submitted batch job 5001895\n",
    "Submitted batch job 5001896\n",
    "Submitted batch job 5001897\n",
    "Submitted batch job 5001898\n",
    "Submitted batch job 5001899\n",
    "Submitted batch job 5001900\n",
    "Submitted batch job 5001901\n",
    "Submitted batch job 5001902\n",
    "Submitted batch job 5001903\n",
    "Submitted batch job 5001904\n",
    "Submitted batch job 5001905\n",
    "Submitted batch job 5001906\n",
    "Submitted batch job 5001907\n",
    "Submitted batch job 5001908\n",
    "Submitted batch job 5001909\n",
    "Submitted batch job 5001910\n",
    "Submitted batch job 5001911\n",
    "Submitted batch job 5001912\n",
    "Submitted batch job 5001913\n",
    "Submitted batch job 5001914\n",
    "Submitted batch job 5001915\n",
    "Submitted batch job 5001916\n",
    "Submitted batch job 5001917\n",
    "Submitted batch job 5001918\n",
    "Submitted batch job 5001919\n",
    "Submitted batch job 5001920\n",
    "\n",
    "job-statistics -j 5001920\n",
    "----------------------------------------------\n",
    "               JobID :  5001920\n",
    "             JobName :  run.sh\n",
    "              Submit :  2018-11-19T14:30:41\n",
    "               Start :  2018-11-20T09:22:25\n",
    "                 End :  2018-11-20T09:22:25\n",
    "              AveCPU :\n",
    "              NTasks :\n",
    "               NCPUS :  24\n",
    "           AllocCPUS :  24\n",
    "             Elapsed :  00:00:00\n",
    "               State :  CANCELLED by 200\n",
    "            ExitCode :  0:0\n",
    "            NodeList :  tcn154\n",
    "              Layout :\n",
    "              AveRSS :\n",
    "              MaxRSS :\n",
    "          MaxRSSTask :\n",
    "          MaxRSSNode :\n",
    "         AveDiskRead :\n",
    "        AveDiskWrite :\n",
    "         MaxDiskRead :\n",
    "        MaxDiskWrite :\n",
    "          AveCPUFreq :\n",
    "      ConsumedEnergy :\n",
    "----------------------------------------------\n",
    "\n",
    "when run for two years and then combined:\n",
    "\n",
    "job-statistics -j 5000095\n",
    "----------------------------------------------\n",
    "               JobID :  5000095\n",
    "             JobName :  run.sh\n",
    "              Submit :  2018-11-19T12:29:58\n",
    "               Start :  2018-11-19T13:29:53\n",
    "                 End :  2018-11-19T13:52:50\n",
    "              AveCPU :\n",
    "              NTasks :\n",
    "               NCPUS :  24\n",
    "           AllocCPUS :  24\n",
    "             Elapsed :  00:22:57\n",
    "               State :  COMPLETED\n",
    "            ExitCode :  0:0\n",
    "            NodeList :  tcn187\n",
    "              Layout :\n",
    "              AveRSS :\n",
    "              MaxRSS :\n",
    "          MaxRSSTask :\n",
    "          MaxRSSNode :\n",
    "         AveDiskRead :\n",
    "        AveDiskWrite :\n",
    "         MaxDiskRead :\n",
    "        MaxDiskWrite :\n",
    "          AveCPUFreq :\n",
    "      ConsumedEnergy :\n",
    "----------------------------------------------\n",
    "               JobID :  5000095.batch\n",
    "             JobName :  batch\n",
    "              Submit :  2018-11-19T13:29:53\n",
    "               Start :  2018-11-19T13:29:53\n",
    "                 End :  2018-11-19T13:52:50\n",
    "              AveCPU :  00:21:58\n",
    "              NTasks :  1\n",
    "               NCPUS :  24\n",
    "           AllocCPUS :  24\n",
    "             Elapsed :  00:22:57\n",
    "               State :  COMPLETED\n",
    "            ExitCode :  0:0\n",
    "            NodeList :  tcn187\n",
    "              Layout :  Unknown\n",
    "              AveRSS :  12093689K\n",
    "              MaxRSS :  12957319K\n",
    "          MaxRSSTask :  0\n",
    "          MaxRSSNode :  tcn187\n",
    "         AveDiskRead :  9820M\n",
    "        AveDiskWrite :  462M\n",
    "         MaxDiskRead :  9820M\n",
    "        MaxDiskWrite :  462M\n",
    "          AveCPUFreq :  1.73G\n",
    "      ConsumedEnergy :  194.62K\n",
    "----------------------------------------------\n",
    "\n",
    "for three years:\n",
    "\n",
    "job-statistics -j 5005654\n",
    "----------------------------------------------\n",
    "               JobID :  5005654\n",
    "             JobName :  run.sh\n",
    "              Submit :  2018-11-20T12:55:13\n",
    "               Start :  2018-11-20T20:05:16\n",
    "                 End :  2018-11-20T20:35:50\n",
    "              AveCPU :\n",
    "              NTasks :\n",
    "               NCPUS :  24\n",
    "           AllocCPUS :  24\n",
    "             Elapsed :  00:30:34\n",
    "               State :  COMPLETED\n",
    "            ExitCode :  0:0\n",
    "            NodeList :  tcn325\n",
    "              Layout :\n",
    "              AveRSS :\n",
    "              MaxRSS :\n",
    "          MaxRSSTask :\n",
    "          MaxRSSNode :\n",
    "         AveDiskRead :\n",
    "        AveDiskWrite :\n",
    "         MaxDiskRead :\n",
    "        MaxDiskWrite :\n",
    "          AveCPUFreq :\n",
    "      ConsumedEnergy :\n",
    "----------------------------------------------\n",
    "               JobID :  5005654.batch\n",
    "             JobName :  batch\n",
    "              Submit :  2018-11-20T20:05:16\n",
    "               Start :  2018-11-20T20:05:16\n",
    "                 End :  2018-11-20T20:35:50\n",
    "              AveCPU :  00:00:00\n",
    "              NTasks :  1\n",
    "               NCPUS :  24\n",
    "           AllocCPUS :  24\n",
    "             Elapsed :  00:30:34\n",
    "               State :  COMPLETED\n",
    "            ExitCode :  0:0\n",
    "            NodeList :  tcn325\n",
    "              Layout :  Unknown\n",
    "              AveRSS :  835K\n",
    "              MaxRSS :  14958743K\n",
    "          MaxRSSTask :  0\n",
    "          MaxRSSNode :  tcn325\n",
    "         AveDiskRead :  18M\n",
    "        AveDiskWrite :  0.40M\n",
    "         MaxDiskRead :  12984M\n",
    "        MaxDiskWrite :  923M\n",
    "          AveCPUFreq :  2.80G\n",
    "      ConsumedEnergy :  281.27K\n",
    "----------------------------------------------\n"
   ]
  },
  {
   "cell_type": "code",
   "execution_count": 3,
   "metadata": {},
   "outputs": [
    {
     "name": "stdout",
     "output_type": "stream",
     "text": [
      "Submitted batch job 4951809\n"
     ]
    }
   ],
   "source": [
    "# yrly tavg scripts\n",
    "n = 3  # change number here\n",
    "with open('run.sh','w') as file:\n",
    "    file.write('#!/bin/bash\\n')\n",
    "    file.write('#SBATCH -t 4:00:00\\n')\n",
    "    file.write('#SBATCH -N 1 --ntasks-per-node=1\\n') \n",
    "    file.write('#SBATCH -p normal\\n')\n",
    "    file.write('cd /home/dijkbio/andre/CESM/src/run\\n')\n",
    "    file.write('module load eb\\n')\n",
    "    file.write('module load Miniconda3\\n')\n",
    "    file.write('source activate CESM\\n')\n",
    "    file.write(f'python run_yrly_avg.py {n}\\n')\n",
    "    file.close()\n",
    "! sbatch run.sh"
   ]
  },
  {
   "cell_type": "code",
   "execution_count": 1,
   "metadata": {},
   "outputs": [
    {
     "name": "stdout",
     "output_type": "stream",
     "text": [
      "Submitted batch job 4999393\n",
      "Submitted batch job 4999394\n"
     ]
    }
   ],
   "source": [
    "# OHC_vert_diff_mean_rm\n",
    "for run in['ctrl','rcp']:\n",
    "    with open('run.sh','w') as file:\n",
    "        file.write('#!/bin/bash\\n')\n",
    "        file.write('#SBATCH -t 4:00:00\\n')\n",
    "        file.write('#SBATCH -N 1 --ntasks-per-node=1\\n') \n",
    "        file.write('#SBATCH -p normal\\n')\n",
    "        file.write('cd /home/dijkbio/andre/CESM/src/run\\n')\n",
    "        file.write('module load eb\\n')\n",
    "        file.write('module load Miniconda3\\n')\n",
    "        file.write('source activate CESM\\n')\n",
    "        file.write(f'python run_OHC_vert_diff_mean_rm.py {run}\\n')\n",
    "        file.close()\n",
    "    ! sbatch run.sh"
   ]
  },
  {
   "cell_type": "code",
   "execution_count": 1,
   "metadata": {},
   "outputs": [
    {
     "name": "stdout",
     "output_type": "stream",
     "text": [
      "Submitted batch job 5036380\n"
     ]
    }
   ],
   "source": [
    "# CICE_XMXL\n",
    "\n",
    "with open('run.sh','w') as file:\n",
    "    file.write('#!/bin/bash\\n')\n",
    "    file.write('#SBATCH -t 20:00:00\\n')\n",
    "    file.write('#SBATCH -N 1 --ntasks-per-node=2\\n') \n",
    "    file.write('#SBATCH -p normal\\n')\n",
    "    file.write('cd /home/dijkbio/andre/CESM/src/run\\n')\n",
    "    file.write('module load eb\\n')\n",
    "    file.write('module load Miniconda3\\n')\n",
    "    file.write('source activate CESM\\n')\n",
    "    file.write(f'(python run_CICE_XMXL_video.py ctrl) &\\n')\n",
    "    file.write(f'(python run_CICE_XMXL_video.py rcp ) &\\n')\n",
    "    file.write('wait')\n",
    "    file.close()\n",
    "! sbatch run.sh"
   ]
  },
  {
   "cell_type": "code",
   "execution_count": 1,
   "metadata": {},
   "outputs": [
    {
     "name": "stdout",
     "output_type": "stream",
     "text": [
      "Submitted batch job 5033815\n"
     ]
    }
   ],
   "source": [
    "# OHC_video\n",
    "\n",
    "with open('run.sh','w') as file:\n",
    "    file.write('#!/bin/bash\\n')\n",
    "    file.write('#SBATCH -t 16:00:00\\n')\n",
    "    file.write('#SBATCH -N 1 --ntasks-per-node=2\\n') \n",
    "    file.write('#SBATCH -p normal\\n')\n",
    "    file.write('cd /home/dijkbio/andre/CESM/src/run\\n')\n",
    "    file.write('module load eb\\n')\n",
    "    file.write('module load Miniconda3\\n')\n",
    "    file.write('source activate CESM\\n')\n",
    "    file.write(f'(python run_OHC_video.py ctrl) &\\n')\n",
    "    file.write(f'(python run_OHC_video.py rcp ) &\\n')\n",
    "    file.write('wait')\n",
    "    file.close()\n",
    "! sbatch run.sh"
   ]
  },
  {
   "cell_type": "markdown",
   "metadata": {},
   "source": [
    "to run scripts in parallel:\n",
    "\n",
    ">(python run_OHC_integrals.py rcp 11) &\n",
    ">\n",
    ">(python run_OHC_integrals.py rcp 12) &\n",
    ">\n",
    ">wait\n"
   ]
  },
  {
   "cell_type": "code",
   "execution_count": 1,
   "metadata": {},
   "outputs": [],
   "source": [
    "import os"
   ]
  },
  {
   "cell_type": "code",
   "execution_count": 2,
   "metadata": {},
   "outputs": [
    {
     "data": {
      "text/plain": [
       "True"
      ]
     },
     "execution_count": 2,
     "metadata": {},
     "output_type": "execute_result"
    }
   ],
   "source": [
    "os.path.exists('/projects/0/samoc/andre/CESM/BSF/BSF_ctrl.nc')"
   ]
  },
  {
   "cell_type": "code",
   "execution_count": 4,
   "metadata": {},
   "outputs": [
    {
     "name": "stdout",
     "output_type": "stream",
     "text": [
      "0\n",
      "1\n",
      "3\n",
      "4\n"
     ]
    }
   ],
   "source": [
    "for i in range(5):\n",
    "    if i==2:\n",
    "        continue\n",
    "    print(i)"
   ]
  },
  {
   "cell_type": "markdown",
   "metadata": {},
   "source": [
    "# remove OHC yearly files"
   ]
  },
  {
   "cell_type": "code",
   "execution_count": 8,
   "metadata": {},
   "outputs": [],
   "source": [
    "import os\n",
    "import sys\n",
    "import glob\n",
    "sys.path.append(\"..\")\n",
    "from regions import regions_dict\n",
    "from paths import path_samoc"
   ]
  },
  {
   "cell_type": "code",
   "execution_count": 4,
   "metadata": {},
   "outputs": [
    {
     "data": {
      "text/plain": [
       "{-14: 'Caspian_Sea',\n",
       " -13: 'Black_Sea',\n",
       " 0: 'Global_Ocean',\n",
       " 1: 'Southern_Ocean',\n",
       " 2: 'Pacific_Ocean',\n",
       " 3: 'Indian_Ocean',\n",
       " 4: 'Persian_Gulf',\n",
       " 5: 'Red_Sea',\n",
       " 6: 'Atlantic_Ocean',\n",
       " 7: 'Mediterranean',\n",
       " 8: 'Labrador_Sea',\n",
       " 9: 'Greenland_Sea',\n",
       " 10: 'Arctic_Ocean',\n",
       " 11: 'Hudson_Bay',\n",
       " 12: 'Baltic_Sea'}"
      ]
     },
     "execution_count": 4,
     "metadata": {},
     "output_type": "execute_result"
    }
   ],
   "source": [
    "regions_dict"
   ]
  },
  {
   "cell_type": "code",
   "execution_count": 9,
   "metadata": {},
   "outputs": [],
   "source": [
    "for i in range(13):\n",
    "    for run in ['ctrl', 'rcp', 'lpd', 'lpi']:\n",
    "        for fl in glob.glob(f'{path_samoc}/OHC/OHC_integrals_{regions_dict[i]}_{run}_*.nc'):\n",
    "            os.remove(fl)\n"
   ]
  },
  {
   "cell_type": "code",
   "execution_count": null,
   "metadata": {},
   "outputs": [],
   "source": []
  }
 ],
 "metadata": {
  "kernelspec": {
   "display_name": "Python 3",
   "language": "python",
   "name": "python3"
  },
  "language_info": {
   "codemirror_mode": {
    "name": "ipython",
    "version": 3
   },
   "file_extension": ".py",
   "mimetype": "text/x-python",
   "name": "python",
   "nbconvert_exporter": "python",
   "pygments_lexer": "ipython3",
   "version": "3.6.7"
  }
 },
 "nbformat": 4,
 "nbformat_minor": 4
}
