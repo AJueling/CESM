{
 "cells": [
  {
   "cell_type": "code",
   "execution_count": 13,
   "metadata": {},
   "outputs": [
    {
     "name": "stdout",
     "output_type": "stream",
     "text": [
      "Submitted batch job 4937318\n",
      "Submitted batch job 4937319\n",
      "Submitted batch job 4937321\n",
      "Submitted batch job 4937322\n",
      "Submitted batch job 4937323\n",
      "Submitted batch job 4937324\n",
      "Submitted batch job 4937326\n",
      "Submitted batch job 4937327\n",
      "Submitted batch job 4937328\n",
      "Submitted batch job 4937329\n",
      "Submitted batch job 4937330\n",
      "Submitted batch job 4937331\n",
      "Submitted batch job 4937332\n",
      "Submitted batch job 4937333\n",
      "Submitted batch job 4937335\n",
      "Submitted batch job 4937336\n",
      "Submitted batch job 4937337\n",
      "Submitted batch job 4937338\n",
      "Submitted batch job 4937339\n",
      "Submitted batch job 4937340\n",
      "Submitted batch job 4937341\n",
      "Submitted batch job 4937342\n",
      "Submitted batch job 4937343\n",
      "Submitted batch job 4937344\n",
      "Submitted batch job 4937345\n",
      "Submitted batch job 4937346\n"
     ]
    }
   ],
   "source": [
    "# OHC scripts\n",
    "for run in ['ctrl', 'rcp']:\n",
    "    for region in range(13):\n",
    "        with open('run_OHC.sh','w') as file:\n",
    "\n",
    "            file.write('#!/bin/bash\\n')\n",
    "            if run=='ctrl':\n",
    "                file.write('#SBATCH -t 10:00:00\\n')\n",
    "            elif run=='rcp':\n",
    "                file.write('#SBATCH -t 6:00:00\\n')\n",
    "            file.write('#SBATCH -N 1 --ntasks-per-node=1\\n') \n",
    "            file.write('#SBATCH -p normal\\n')\n",
    "            file.write('cd /home/dijkbio/andre/CESM/src/run\\n')\n",
    "            file.write('module load eb\\n')\n",
    "            file.write('module load Miniconda3\\n')\n",
    "            file.write('source activate CESM\\n')\n",
    "            file.write(f'python run_OHC_integrals.py {run} {region}\\n')\n",
    "\n",
    "            file.close()\n",
    "        ! sbatch run_OHC.sh"
   ]
  }
 ],
 "metadata": {
  "kernelspec": {
   "display_name": "Python 3",
   "language": "python",
   "name": "python3"
  },
  "language_info": {
   "codemirror_mode": {
    "name": "ipython",
    "version": 3
   },
   "file_extension": ".py",
   "mimetype": "text/x-python",
   "name": "python",
   "nbconvert_exporter": "python",
   "pygments_lexer": "ipython3",
   "version": "3.6.6"
  }
 },
 "nbformat": 4,
 "nbformat_minor": 2
}
