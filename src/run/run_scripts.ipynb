{
 "cells": [
  {
   "cell_type": "code",
   "execution_count": 3,
   "metadata": {},
   "outputs": [
    {
     "name": "stdout",
     "output_type": "stream",
     "text": [
      "Submitted batch job 4967381\n",
      "Submitted batch job 4967382\n",
      "Submitted batch job 4967383\n",
      "Submitted batch job 4967384\n",
      "Submitted batch job 4967385\n",
      "Submitted batch job 4967386\n",
      "Submitted batch job 4967387\n",
      "Submitted batch job 4967388\n",
      "Submitted batch job 4967389\n",
      "Submitted batch job 4967390\n",
      "Submitted batch job 4967391\n",
      "Submitted batch job 4967392\n",
      "Submitted batch job 4967393\n",
      "Submitted batch job 4967394\n",
      "Submitted batch job 4967395\n",
      "Submitted batch job 4967396\n",
      "Submitted batch job 4967398\n",
      "Submitted batch job 4967399\n",
      "Submitted batch job 4967400\n",
      "Submitted batch job 4967401\n",
      "Submitted batch job 4967402\n",
      "Submitted batch job 4967403\n",
      "Submitted batch job 4967404\n",
      "Submitted batch job 4967405\n",
      "Submitted batch job 4967406\n",
      "Submitted batch job 4967407\n"
     ]
    }
   ],
   "source": [
    "# OHC scripts\n",
    "for run in ['ctrl', 'rcp']:\n",
    "    for region in range(13):\n",
    "        with open('run.sh','w') as file:\n",
    "            file.write('#!/bin/bash\\n')\n",
    "            if run=='ctrl':\n",
    "                file.write('#SBATCH -t 15:00:00\\n')\n",
    "            elif run=='rcp':\n",
    "                file.write('#SBATCH -t 9:00:00\\n')\n",
    "            file.write('#SBATCH -N 1 --ntasks-per-node=1\\n') \n",
    "            file.write('#SBATCH -p normal\\n')\n",
    "            file.write('cd /home/dijkbio/andre/CESM/src/run\\n')\n",
    "            file.write('module load eb\\n')\n",
    "            file.write('module load Miniconda3\\n')\n",
    "            file.write('source activate CESM\\n')\n",
    "            file.write(f'python run_OHC_integrals.py {run} {region}\\n')\n",
    "            file.close()\n",
    "        ! sbatch run.sh"
   ]
  },
  {
   "cell_type": "code",
   "execution_count": 3,
   "metadata": {},
   "outputs": [
    {
     "name": "stdout",
     "output_type": "stream",
     "text": [
      "Submitted batch job 4951809\n"
     ]
    }
   ],
   "source": [
    "# yrly tavg scripts\n",
    "with open('run.sh','w') as file:\n",
    "    file.write('#!/bin/bash\\n')\n",
    "    file.write('#SBATCH -t 4:00:00\\n')\n",
    "    file.write('#SBATCH -N 1 --ntasks-per-node=1\\n') \n",
    "    file.write('#SBATCH -p normal\\n')\n",
    "    file.write('cd /home/dijkbio/andre/CESM/src/run\\n')\n",
    "    file.write('module load eb\\n')\n",
    "    file.write('module load Miniconda3\\n')\n",
    "    file.write('source activate CESM\\n')\n",
    "    file.write(f'python run_yrly_avg.py 3\\n')  # change number here\n",
    "    file.close()\n",
    "! sbatch run.sh"
   ]
  },
  {
   "cell_type": "code",
   "execution_count": 4,
   "metadata": {},
   "outputs": [],
   "source": [
    "# OHC_vert_diff_mean_rm\n",
    "for run in['ctrl','rcp']:\n",
    "    with open('run.sh','w') as file:\n",
    "        file.write('#!/bin/bash\\n')\n",
    "        file.write('#SBATCH -t 4:00:00\\n')\n",
    "        file.write('#SBATCH -N 1 --ntasks-per-node=1\\n') \n",
    "        file.write('#SBATCH -p normal\\n')\n",
    "        file.write('cd /home/dijkbio/andre/CESM/src/run\\n')\n",
    "        file.write('module load eb\\n')\n",
    "        file.write('module load Miniconda3\\n')\n",
    "        file.write('source activate CESM\\n')\n",
    "        file.write(f'python run_OHC_vert_diff_mean_rm.py {run}\\n')\n",
    "        file.close()\n",
    "    ! sbatch run.sh"
   ]
  },
  {
   "cell_type": "code",
   "execution_count": null,
   "metadata": {},
   "outputs": [],
   "source": []
  }
 ],
 "metadata": {
  "kernelspec": {
   "display_name": "Python 3",
   "language": "python",
   "name": "python3"
  },
  "language_info": {
   "codemirror_mode": {
    "name": "ipython",
    "version": 3
   },
   "file_extension": ".py",
   "mimetype": "text/x-python",
   "name": "python",
   "nbconvert_exporter": "python",
   "pygments_lexer": "ipython3",
   "version": "3.6.6"
  }
 },
 "nbformat": 4,
 "nbformat_minor": 2
}
