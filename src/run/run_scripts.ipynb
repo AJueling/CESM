{
 "cells": [
  {
   "cell_type": "code",
   "execution_count": 1,
   "metadata": {},
   "outputs": [
    {
     "name": "stdout",
     "output_type": "stream",
     "text": [
      "Submitted batch job 5023452\n",
      "Submitted batch job 5023453\n",
      "Submitted batch job 5023454\n",
      "Submitted batch job 5023455\n",
      "Submitted batch job 5023456\n",
      "Submitted batch job 5023457\n",
      "Submitted batch job 5023458\n",
      "Submitted batch job 5023459\n",
      "Submitted batch job 5023460\n",
      "Submitted batch job 5023461\n",
      "Submitted batch job 5023462\n",
      "Submitted batch job 5023463\n",
      "Submitted batch job 5023464\n",
      "Submitted batch job 5023465\n",
      "Submitted batch job 5023466\n",
      "Submitted batch job 5023467\n",
      "Submitted batch job 5023468\n",
      "Submitted batch job 5023469\n",
      "Submitted batch job 5023470\n",
      "Submitted batch job 5023471\n",
      "Submitted batch job 5023472\n",
      "Submitted batch job 5023473\n",
      "Submitted batch job 5023474\n",
      "Submitted batch job 5023475\n",
      "Submitted batch job 5023476\n",
      "Submitted batch job 5023477\n"
     ]
    }
   ],
   "source": [
    "# OHC scripts\n",
    "for run in ['ctrl', 'rcp']:\n",
    "    for region in range(13):\n",
    "        with open('run.sh','w') as file:\n",
    "            file.write('#!/bin/bash\\n')\n",
    "            if run=='ctrl':\n",
    "                file.write('#SBATCH -t 15:00:00\\n')\n",
    "            elif run=='rcp':\n",
    "                file.write('#SBATCH -t 9:00:00\\n')\n",
    "            file.write('#SBATCH -N 1 --ntasks-per-node=1\\n') \n",
    "            file.write('#SBATCH -p normal\\n')\n",
    "            file.write('cd /home/dijkbio/andre/CESM/src/run\\n')\n",
    "            file.write('module load eb\\n')\n",
    "            file.write('module load Miniconda3\\n')\n",
    "            file.write('source activate CESM\\n')\n",
    "            file.write(f'python run_OHC_integrals.py {run} {region}\\n')\n",
    "            file.close()\n",
    "        ! sbatch run.sh"
   ]
  },
  {
   "cell_type": "markdown",
   "metadata": {},
   "source": [
    "jobs that were killed \n",
    "\n",
    "Submitted batch job 5001895\n",
    "Submitted batch job 5001896\n",
    "Submitted batch job 5001897\n",
    "Submitted batch job 5001898\n",
    "Submitted batch job 5001899\n",
    "Submitted batch job 5001900\n",
    "Submitted batch job 5001901\n",
    "Submitted batch job 5001902\n",
    "Submitted batch job 5001903\n",
    "Submitted batch job 5001904\n",
    "Submitted batch job 5001905\n",
    "Submitted batch job 5001906\n",
    "Submitted batch job 5001907\n",
    "Submitted batch job 5001908\n",
    "Submitted batch job 5001909\n",
    "Submitted batch job 5001910\n",
    "Submitted batch job 5001911\n",
    "Submitted batch job 5001912\n",
    "Submitted batch job 5001913\n",
    "Submitted batch job 5001914\n",
    "Submitted batch job 5001915\n",
    "Submitted batch job 5001916\n",
    "Submitted batch job 5001917\n",
    "Submitted batch job 5001918\n",
    "Submitted batch job 5001919\n",
    "Submitted batch job 5001920\n",
    "\n",
    "job-statistics -j 5001920\n",
    "----------------------------------------------\n",
    "               JobID :  5001920\n",
    "             JobName :  run.sh\n",
    "              Submit :  2018-11-19T14:30:41\n",
    "               Start :  2018-11-20T09:22:25\n",
    "                 End :  2018-11-20T09:22:25\n",
    "              AveCPU :\n",
    "              NTasks :\n",
    "               NCPUS :  24\n",
    "           AllocCPUS :  24\n",
    "             Elapsed :  00:00:00\n",
    "               State :  CANCELLED by 200\n",
    "            ExitCode :  0:0\n",
    "            NodeList :  tcn154\n",
    "              Layout :\n",
    "              AveRSS :\n",
    "              MaxRSS :\n",
    "          MaxRSSTask :\n",
    "          MaxRSSNode :\n",
    "         AveDiskRead :\n",
    "        AveDiskWrite :\n",
    "         MaxDiskRead :\n",
    "        MaxDiskWrite :\n",
    "          AveCPUFreq :\n",
    "      ConsumedEnergy :\n",
    "----------------------------------------------\n",
    "\n",
    "when run for two years and then combined:\n",
    "\n",
    "job-statistics -j 5000095\n",
    "----------------------------------------------\n",
    "               JobID :  5000095\n",
    "             JobName :  run.sh\n",
    "              Submit :  2018-11-19T12:29:58\n",
    "               Start :  2018-11-19T13:29:53\n",
    "                 End :  2018-11-19T13:52:50\n",
    "              AveCPU :\n",
    "              NTasks :\n",
    "               NCPUS :  24\n",
    "           AllocCPUS :  24\n",
    "             Elapsed :  00:22:57\n",
    "               State :  COMPLETED\n",
    "            ExitCode :  0:0\n",
    "            NodeList :  tcn187\n",
    "              Layout :\n",
    "              AveRSS :\n",
    "              MaxRSS :\n",
    "          MaxRSSTask :\n",
    "          MaxRSSNode :\n",
    "         AveDiskRead :\n",
    "        AveDiskWrite :\n",
    "         MaxDiskRead :\n",
    "        MaxDiskWrite :\n",
    "          AveCPUFreq :\n",
    "      ConsumedEnergy :\n",
    "----------------------------------------------\n",
    "               JobID :  5000095.batch\n",
    "             JobName :  batch\n",
    "              Submit :  2018-11-19T13:29:53\n",
    "               Start :  2018-11-19T13:29:53\n",
    "                 End :  2018-11-19T13:52:50\n",
    "              AveCPU :  00:21:58\n",
    "              NTasks :  1\n",
    "               NCPUS :  24\n",
    "           AllocCPUS :  24\n",
    "             Elapsed :  00:22:57\n",
    "               State :  COMPLETED\n",
    "            ExitCode :  0:0\n",
    "            NodeList :  tcn187\n",
    "              Layout :  Unknown\n",
    "              AveRSS :  12093689K\n",
    "              MaxRSS :  12957319K\n",
    "          MaxRSSTask :  0\n",
    "          MaxRSSNode :  tcn187\n",
    "         AveDiskRead :  9820M\n",
    "        AveDiskWrite :  462M\n",
    "         MaxDiskRead :  9820M\n",
    "        MaxDiskWrite :  462M\n",
    "          AveCPUFreq :  1.73G\n",
    "      ConsumedEnergy :  194.62K\n",
    "----------------------------------------------\n",
    "\n",
    "for three years:\n",
    "\n",
    "job-statistics -j 5005654\n",
    "----------------------------------------------\n",
    "               JobID :  5005654\n",
    "             JobName :  run.sh\n",
    "              Submit :  2018-11-20T12:55:13\n",
    "               Start :  2018-11-20T20:05:16\n",
    "                 End :  2018-11-20T20:35:50\n",
    "              AveCPU :\n",
    "              NTasks :\n",
    "               NCPUS :  24\n",
    "           AllocCPUS :  24\n",
    "             Elapsed :  00:30:34\n",
    "               State :  COMPLETED\n",
    "            ExitCode :  0:0\n",
    "            NodeList :  tcn325\n",
    "              Layout :\n",
    "              AveRSS :\n",
    "              MaxRSS :\n",
    "          MaxRSSTask :\n",
    "          MaxRSSNode :\n",
    "         AveDiskRead :\n",
    "        AveDiskWrite :\n",
    "         MaxDiskRead :\n",
    "        MaxDiskWrite :\n",
    "          AveCPUFreq :\n",
    "      ConsumedEnergy :\n",
    "----------------------------------------------\n",
    "               JobID :  5005654.batch\n",
    "             JobName :  batch\n",
    "              Submit :  2018-11-20T20:05:16\n",
    "               Start :  2018-11-20T20:05:16\n",
    "                 End :  2018-11-20T20:35:50\n",
    "              AveCPU :  00:00:00\n",
    "              NTasks :  1\n",
    "               NCPUS :  24\n",
    "           AllocCPUS :  24\n",
    "             Elapsed :  00:30:34\n",
    "               State :  COMPLETED\n",
    "            ExitCode :  0:0\n",
    "            NodeList :  tcn325\n",
    "              Layout :  Unknown\n",
    "              AveRSS :  835K\n",
    "              MaxRSS :  14958743K\n",
    "          MaxRSSTask :  0\n",
    "          MaxRSSNode :  tcn325\n",
    "         AveDiskRead :  18M\n",
    "        AveDiskWrite :  0.40M\n",
    "         MaxDiskRead :  12984M\n",
    "        MaxDiskWrite :  923M\n",
    "          AveCPUFreq :  2.80G\n",
    "      ConsumedEnergy :  281.27K\n",
    "----------------------------------------------\n"
   ]
  },
  {
   "cell_type": "code",
   "execution_count": 3,
   "metadata": {},
   "outputs": [
    {
     "name": "stdout",
     "output_type": "stream",
     "text": [
      "Submitted batch job 4951809\n"
     ]
    }
   ],
   "source": [
    "# yrly tavg scripts\n",
    "n = 3  # change number here\n",
    "with open('run.sh','w') as file:\n",
    "    file.write('#!/bin/bash\\n')\n",
    "    file.write('#SBATCH -t 4:00:00\\n')\n",
    "    file.write('#SBATCH -N 1 --ntasks-per-node=1\\n') \n",
    "    file.write('#SBATCH -p normal\\n')\n",
    "    file.write('cd /home/dijkbio/andre/CESM/src/run\\n')\n",
    "    file.write('module load eb\\n')\n",
    "    file.write('module load Miniconda3\\n')\n",
    "    file.write('source activate CESM\\n')\n",
    "    file.write(f'python run_yrly_avg.py {n}\\n')\n",
    "    file.close()\n",
    "! sbatch run.sh"
   ]
  },
  {
   "cell_type": "code",
   "execution_count": 1,
   "metadata": {},
   "outputs": [
    {
     "name": "stdout",
     "output_type": "stream",
     "text": [
      "Submitted batch job 4999393\n",
      "Submitted batch job 4999394\n"
     ]
    }
   ],
   "source": [
    "# OHC_vert_diff_mean_rm\n",
    "for run in['ctrl','rcp']:\n",
    "    with open('run.sh','w') as file:\n",
    "        file.write('#!/bin/bash\\n')\n",
    "        file.write('#SBATCH -t 4:00:00\\n')\n",
    "        file.write('#SBATCH -N 1 --ntasks-per-node=1\\n') \n",
    "        file.write('#SBATCH -p normal\\n')\n",
    "        file.write('cd /home/dijkbio/andre/CESM/src/run\\n')\n",
    "        file.write('module load eb\\n')\n",
    "        file.write('module load Miniconda3\\n')\n",
    "        file.write('source activate CESM\\n')\n",
    "        file.write(f'python run_OHC_vert_diff_mean_rm.py {run}\\n')\n",
    "        file.close()\n",
    "    ! sbatch run.sh"
   ]
  },
  {
   "cell_type": "code",
   "execution_count": 18,
   "metadata": {},
   "outputs": [
    {
     "name": "stdout",
     "output_type": "stream",
     "text": [
      "Submitted batch job 5013546\n"
     ]
    }
   ],
   "source": [
    "# CICE_XMXL\n",
    "\n",
    "with open('run.sh','w') as file:\n",
    "    file.write('#!/bin/bash\\n')\n",
    "    file.write('#SBATCH -t 20:00:00\\n')\n",
    "    file.write('#SBATCH -N 1 --ntasks-per-node=2\\n') \n",
    "    file.write('#SBATCH -p normal\\n')\n",
    "    file.write('cd /home/dijkbio/andre/CESM/src/run\\n')\n",
    "    file.write('module load eb\\n')\n",
    "    file.write('module load Miniconda3\\n')\n",
    "    file.write('source activate CESM\\n')\n",
    "    file.write(f'(python run_CICE_XMXL_video.py ctrl) &\\n')\n",
    "    file.write(f'(python run_CICE_XMXL_video.py rcp ) &\\n')\n",
    "    file.write('wait')\n",
    "    file.close()\n",
    "! sbatch run.sh"
   ]
  },
  {
   "cell_type": "markdown",
   "metadata": {},
   "source": [
    "to run scripts in parallel:\n",
    "\n",
    ">(python run_OHC_integrals.py rcp 11) &\n",
    ">\n",
    ">(python run_OHC_integrals.py rcp 12) &\n",
    ">\n",
    ">wait\n"
   ]
  },
  {
   "cell_type": "code",
   "execution_count": 1,
   "metadata": {},
   "outputs": [],
   "source": [
    "import os"
   ]
  },
  {
   "cell_type": "code",
   "execution_count": 2,
   "metadata": {},
   "outputs": [
    {
     "data": {
      "text/plain": [
       "True"
      ]
     },
     "execution_count": 2,
     "metadata": {},
     "output_type": "execute_result"
    }
   ],
   "source": [
    "os.path.exists('/projects/0/samoc/andre/CESM/BSF/BSF_ctrl.nc')"
   ]
  },
  {
   "cell_type": "code",
   "execution_count": 4,
   "metadata": {},
   "outputs": [
    {
     "name": "stdout",
     "output_type": "stream",
     "text": [
      "0\n",
      "1\n",
      "3\n",
      "4\n"
     ]
    }
   ],
   "source": [
    "for i in range(5):\n",
    "    if i==2:\n",
    "        continue\n",
    "    print(i)"
   ]
  },
  {
   "cell_type": "code",
   "execution_count": null,
   "metadata": {},
   "outputs": [],
   "source": []
  }
 ],
 "metadata": {
  "kernelspec": {
   "display_name": "Python 3",
   "language": "python",
   "name": "python3"
  },
  "language_info": {
   "codemirror_mode": {
    "name": "ipython",
    "version": 3
   },
   "file_extension": ".py",
   "mimetype": "text/x-python",
   "name": "python",
   "nbconvert_exporter": "python",
   "pygments_lexer": "ipython3",
   "version": "3.6.6"
  }
 },
 "nbformat": 4,
 "nbformat_minor": 2
}
