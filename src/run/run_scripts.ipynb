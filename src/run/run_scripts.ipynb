{
 "cells": [
  {
   "cell_type": "code",
   "execution_count": 2,
   "metadata": {},
   "outputs": [
    {
     "name": "stdout",
     "output_type": "stream",
     "text": [
      "Submitted batch job 5000095\n",
      "Submitted batch job 5000096\n",
      "Submitted batch job 5000097\n",
      "Submitted batch job 5000098\n",
      "Submitted batch job 5000099\n",
      "Submitted batch job 5000100\n",
      "Submitted batch job 5000101\n",
      "Submitted batch job 5000102\n",
      "Submitted batch job 5000103\n",
      "Submitted batch job 5000104\n",
      "Submitted batch job 5000105\n",
      "Submitted batch job 5000106\n",
      "Submitted batch job 5000107\n",
      "Submitted batch job 5000108\n",
      "Submitted batch job 5000109\n",
      "Submitted batch job 5000110\n",
      "Submitted batch job 5000111\n",
      "Submitted batch job 5000112\n",
      "Submitted batch job 5000113\n",
      "Submitted batch job 5000114\n",
      "Submitted batch job 5000115\n",
      "Submitted batch job 5000116\n",
      "Submitted batch job 5000117\n",
      "Submitted batch job 5000118\n",
      "Submitted batch job 5000119\n",
      "Submitted batch job 5000120\n"
     ]
    }
   ],
   "source": [
    "# OHC scripts\n",
    "for run in ['ctrl', 'rcp']:\n",
    "    for region in range(13):\n",
    "        with open('run.sh','w') as file:\n",
    "            file.write('#!/bin/bash\\n')\n",
    "            if run=='ctrl':\n",
    "                file.write('#SBATCH -t 15:00:00\\n')\n",
    "            elif run=='rcp':\n",
    "                file.write('#SBATCH -t 9:00:00\\n')\n",
    "            file.write('#SBATCH -N 1 --ntasks-per-node=1\\n') \n",
    "            file.write('#SBATCH -p normal\\n')\n",
    "            file.write('cd /home/dijkbio/andre/CESM/src/run\\n')\n",
    "            file.write('module load eb\\n')\n",
    "            file.write('module load Miniconda3\\n')\n",
    "            file.write('source activate CESM\\n')\n",
    "            file.write(f'python run_OHC_integrals.py {run} {region}\\n')\n",
    "            file.close()\n",
    "        ! sbatch run.sh"
   ]
  },
  {
   "cell_type": "code",
   "execution_count": 3,
   "metadata": {},
   "outputs": [
    {
     "name": "stdout",
     "output_type": "stream",
     "text": [
      "Submitted batch job 4951809\n"
     ]
    }
   ],
   "source": [
    "# yrly tavg scripts\n",
    "with open('run.sh','w') as file:\n",
    "    file.write('#!/bin/bash\\n')\n",
    "    file.write('#SBATCH -t 4:00:00\\n')\n",
    "    file.write('#SBATCH -N 1 --ntasks-per-node=1\\n') \n",
    "    file.write('#SBATCH -p normal\\n')\n",
    "    file.write('cd /home/dijkbio/andre/CESM/src/run\\n')\n",
    "    file.write('module load eb\\n')\n",
    "    file.write('module load Miniconda3\\n')\n",
    "    file.write('source activate CESM\\n')\n",
    "    file.write(f'python run_yrly_avg.py 3\\n')  # change number here\n",
    "    file.close()\n",
    "! sbatch run.sh"
   ]
  },
  {
   "cell_type": "code",
   "execution_count": 1,
   "metadata": {},
   "outputs": [
    {
     "name": "stdout",
     "output_type": "stream",
     "text": [
      "Submitted batch job 4999393\n",
      "Submitted batch job 4999394\n"
     ]
    }
   ],
   "source": [
    "# OHC_vert_diff_mean_rm\n",
    "for run in['ctrl','rcp']:\n",
    "    with open('run.sh','w') as file:\n",
    "        file.write('#!/bin/bash\\n')\n",
    "        file.write('#SBATCH -t 4:00:00\\n')\n",
    "        file.write('#SBATCH -N 1 --ntasks-per-node=1\\n') \n",
    "        file.write('#SBATCH -p normal\\n')\n",
    "        file.write('cd /home/dijkbio/andre/CESM/src/run\\n')\n",
    "        file.write('module load eb\\n')\n",
    "        file.write('module load Miniconda3\\n')\n",
    "        file.write('source activate CESM\\n')\n",
    "        file.write(f'python run_OHC_vert_diff_mean_rm.py {run}\\n')\n",
    "        file.close()\n",
    "    ! sbatch run.sh"
   ]
  },
  {
   "cell_type": "code",
   "execution_count": null,
   "metadata": {},
   "outputs": [],
   "source": []
  }
 ],
 "metadata": {
  "kernelspec": {
   "display_name": "Python 3",
   "language": "python",
   "name": "python3"
  },
  "language_info": {
   "codemirror_mode": {
    "name": "ipython",
    "version": 3
   },
   "file_extension": ".py",
   "mimetype": "text/x-python",
   "name": "python",
   "nbconvert_exporter": "python",
   "pygments_lexer": "ipython3",
   "version": "3.6.6"
  }
 },
 "nbformat": 4,
 "nbformat_minor": 2
}
