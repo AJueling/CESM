{
 "cells": [
  {
   "cell_type": "markdown",
   "metadata": {},
   "source": [
    "# Hiatuses"
   ]
  },
  {
   "cell_type": "code",
   "execution_count": null,
   "metadata": {},
   "outputs": [],
   "source": [
    "import os\n",
    "import sys\n",
    "sys.path.append(\"..\")\n",
    "import numpy as np\n",
    "import xarray as xr\n",
    "import matplotlib.pyplot as plt"
   ]
  },
  {
   "cell_type": "code",
   "execution_count": null,
   "metadata": {},
   "outputs": [],
   "source": [
    "%matplotlib inline\n",
    "%config InlineBackend.print_figure_kwargs={'bbox_inches':None}\n",
    "%load_ext autoreload\n",
    "%autoreload 2\n",
    "%aimport - numpy - matplotlib.pyplot"
   ]
  },
  {
   "cell_type": "code",
   "execution_count": null,
   "metadata": {},
   "outputs": [],
   "source": [
    "from paths import path_results, CESM_filename\n",
    "from timeseries import IterateOutputCESM"
   ]
  },
  {
   "cell_type": "code",
   "execution_count": null,
   "metadata": {},
   "outputs": [],
   "source": [
    "gmst_ctrl = xr.open_dataset(f'{path_results}/GMST/GMST_ctrl.nc')\n",
    "gmst_rcp  = xr.open_dataset(f'{path_results}/GMST/GMST_rcp.nc' )"
   ]
  },
  {
   "cell_type": "code",
   "execution_count": null,
   "metadata": {},
   "outputs": [],
   "source": [
    "lfit_ctrl = gmst_ctrl.lin_fit .attrs['lin_fit_params']\n",
    "qfit_ctrl = gmst_ctrl.quad_fit.attrs['quad_fit_params']\n",
    "lfit_rcp  = gmst_rcp .lin_fit .attrs['lin_fit_params']\n",
    "qfit_rcp  = gmst_rcp .quad_fit.attrs['quad_fit_params']"
   ]
  },
  {
   "cell_type": "code",
   "execution_count": null,
   "metadata": {},
   "outputs": [],
   "source": [
    "lfit_ctrl_trend = np.empty((len(gmst_ctrl.year)))\n",
    "qfit_ctrl_trend = np.empty((len(gmst_ctrl.year)))\n",
    "for i, t in enumerate(gmst_ctrl.year.values):  \n",
    "    lfit_ctrl_trend[i] = lfit_ctrl[0]    \n",
    "    qfit_ctrl_trend[i] = 2*qfit_ctrl[0]*t + qfit_ctrl[1]\n",
    "    \n",
    "lfit_rcp_trend  = np.empty((len(gmst_rcp.year)))\n",
    "qfit_rcp_trend  = np.empty((len(gmst_rcp.year)))\n",
    "for i, t in enumerate(gmst_rcp.year.values):  \n",
    "    lfit_rcp_trend[i] = lfit_rcp[0]    \n",
    "    qfit_rcp_trend[i] = 2*qfit_rcp[0]*i + qfit_rcp[1]"
   ]
  },
  {
   "cell_type": "code",
   "execution_count": null,
   "metadata": {},
   "outputs": [],
   "source": [
    "f, ax = plt.subplots(2,2, figsize=(16,8), sharex='col')\n",
    "\n",
    "for i in range(2):\n",
    "    ax[1,i].axhline(0, c='k', lw=.5)\n",
    "    ax[1,i].set_xlabel('time [years]', fontsize=16)\n",
    "    for j in range(2):\n",
    "        ax[i,j].tick_params(labelsize=14)\n",
    "    ax[0,i].set_ylabel('GMST [$^\\circ$C]', fontsize=16)\n",
    "    ax[1,i].set_ylabel('trend [$^\\circ$C/decade]', fontsize=16)\n",
    "\n",
    "ax[0,0].plot(gmst_ctrl.year, gmst_ctrl.lin_fit , c='grey', ls='-' , label='lin. fit')\n",
    "ax[0,0].plot(gmst_ctrl.year, gmst_ctrl.quad_fit, c='grey', ls='--', label='quad. fit')\n",
    "ax[0,0].plot(gmst_ctrl.year, gmst_ctrl.GMST, lw=2, c='C0', label='')\n",
    "ax[0,0].text(0.02, 0.9, 'CTRL', transform=ax[0,0].transAxes, fontsize=16)\n",
    "ax[0,0].legend(loc=4, fontsize=14)\n",
    "\n",
    "\n",
    "ax[1,0].plot(gmst_ctrl.year, lfit_ctrl_trend*10, c='grey', ls='-' )\n",
    "ax[1,0].plot(gmst_ctrl.year, lfit_ctrl_trend*10-.04, c='g', ls='-' )\n",
    "ax[1,0].plot(gmst_ctrl.year, lfit_ctrl_trend*10-.07, c='g', ls='-' )\n",
    "ax[1,0].plot(gmst_ctrl.year, lfit_ctrl_trend*10-.17, c='g', ls='-' )\n",
    "# ax[1,0].plot(gmst_ctrl.year, qfit_ctrl_trend*10, c='grey', ls='--')\n",
    "# ax[1,0].plot(gmst_ctrl.year, qfit_ctrl_trend*10-.17, c='g', ls='--')\n",
    "ax[1,0].plot(gmst_ctrl.year, gmst_ctrl.trend_10*10, lw=1, c='C0', ls=':' , label='10 years')\n",
    "ax[1,0].plot(gmst_ctrl.year, gmst_ctrl.trend_15*10, lw=2, c='C0', ls='-' , label='15 years')\n",
    "ax[1,0].plot(gmst_ctrl.year, gmst_ctrl.trend_30*10, lw=1, c='C0', ls='--', label='30 years')\n",
    "ax[1,0].legend(fontsize=14, title='window size')\n",
    "\n",
    "ax[0,1].plot(gmst_rcp.year, gmst_rcp.lin_fit , c='grey', ls='-' )\n",
    "ax[0,1].plot(gmst_rcp.year, gmst_rcp.quad_fit, c='grey', ls='--')\n",
    "ax[0,1].plot(gmst_rcp.year, gmst_rcp.GMST, lw=2, c='C1')\n",
    "ax[0,1].text(0.02, 0.9, 'RCP', transform=ax[0,1].transAxes, fontsize=16)\n",
    "\n",
    "ax[1,1].plot(gmst_rcp.year, lfit_rcp_trend*10, c='grey', ls='-' )\n",
    "ax[1,1].plot(gmst_rcp.year, qfit_rcp_trend*10, c='grey', ls='--')\n",
    "ax[1,1].plot(gmst_rcp.year, qfit_rcp_trend*10-.04, c='g', ls='--')\n",
    "ax[1,1].plot(gmst_rcp.year, qfit_rcp_trend*10-.07, c='g', ls='--')\n",
    "ax[1,1].plot(gmst_rcp.year, qfit_rcp_trend*10-.17, c='g', ls='--')\n",
    "ax[1,1].plot(gmst_rcp.year, gmst_rcp.trend_10 *10, lw=1, c='C1', ls=':' , label='10 years')\n",
    "ax[1,1].plot(gmst_rcp.year, gmst_rcp.trend_15 *10, lw=2, c='C1', ls='-' , label='15 years')\n",
    "ax[1,1].plot(gmst_rcp.year, gmst_rcp.trend_30 *10, lw=1, c='C1', ls='--', label='30 years')\n",
    "ax[1,1].legend(fontsize=14, title='window size')\n",
    "\n",
    "f.tight_layout()\n",
    "f.align_ylabels()\n"
   ]
  },
  {
   "cell_type": "markdown",
   "metadata": {},
   "source": [
    "which thresholds to choose (from Hedemann 2016)?\n",
    "- 0.17: mismatch between CMIP5 ensemble mean\n",
    "- 0.04-0.07: deviation from long term trend"
   ]
  },
  {
   "cell_type": "code",
   "execution_count": null,
   "metadata": {},
   "outputs": [],
   "source": []
  }
 ],
 "metadata": {
  "kernelspec": {
   "display_name": "Python 3",
   "language": "python",
   "name": "python3"
  },
  "language_info": {
   "codemirror_mode": {
    "name": "ipython",
    "version": 3
   },
   "file_extension": ".py",
   "mimetype": "text/x-python",
   "name": "python",
   "nbconvert_exporter": "python",
   "pygments_lexer": "ipython3",
   "version": "3.6.6"
  }
 },
 "nbformat": 4,
 "nbformat_minor": 2
}
