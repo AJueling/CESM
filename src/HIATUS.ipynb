{
 "cells": [
  {
   "cell_type": "markdown",
   "metadata": {},
   "source": [
    "# Hiatuses"
   ]
  },
  {
   "cell_type": "code",
   "execution_count": null,
   "metadata": {},
   "outputs": [],
   "source": [
    "import sys\n",
    "sys.path.append(\"..\")\n",
    "import numpy as np\n",
    "import xarray as xr\n",
    "import matplotlib.pyplot as plt"
   ]
  },
  {
   "cell_type": "code",
   "execution_count": null,
   "metadata": {},
   "outputs": [],
   "source": [
    "%matplotlib inline\n",
    "%config InlineBackend.print_figure_kwargs={'bbox_inches':None}\n",
    "%load_ext autoreload\n",
    "%autoreload 2\n",
    "%aimport - numpy - matplotlib.pyplot"
   ]
  },
  {
   "cell_type": "code",
   "execution_count": null,
   "metadata": {},
   "outputs": [],
   "source": [
    "from paths import path_results"
   ]
  },
  {
   "cell_type": "code",
   "execution_count": null,
   "metadata": {},
   "outputs": [],
   "source": [
    "gmst_ctrl = xr.open_dataset(f'{path_results}/GMST/GMST_ctrl.nc')\n",
    "gmst_rcp  = xr.open_dataset(f'{path_results}/GMST/GMST_rcp.nc' )"
   ]
  },
  {
   "cell_type": "code",
   "execution_count": null,
   "metadata": {},
   "outputs": [],
   "source": [
    "gmst_rcp"
   ]
  },
  {
   "cell_type": "code",
   "execution_count": null,
   "metadata": {},
   "outputs": [],
   "source": [
    "\n",
    "\n",
    "f, ax = plt.subplots(2,2, figsize=(16,8), sharex='col')\n",
    "\n",
    "for i in range(2):\n",
    "    ax[1,i].axhline(0, c='k', lw=.5)\n",
    "    ax[1,i].set_xlabel('time [years]', fontsize=16)\n",
    "    for j in range(2):\n",
    "        ax[i,j].tick_params(labelsize=14)\n",
    "    ax[0,i].set_ylabel('GMST [$^\\circ$C]', fontsize=16)\n",
    "    ax[1,i].set_ylabel('trend [$^\\circ$C/decade]', fontsize=16)\n",
    "\n",
    "ax[0,0].plot(gmst_ctrl.GMST, lw=2, c='C0')\n",
    "ax[0,1].text(0.02, 0.9, 'CTRL', transform=ax[0,0].transAxes, fontsize=16)\n",
    "\n",
    "ax[1,0].plot(gmst_ctrl.trend_10*10, c='C0', ls='-' , label=' 5 years')\n",
    "ax[1,0].plot(gmst_ctrl.trend_15*10, c='C0', ls='--', label='10 years')\n",
    "ax[1,0].plot(gmst_ctrl.trend_30*10, c='C0', ls=':' , label='15 years')\n",
    "ax[1,0].legend(fontsize=14, title='window size')\n",
    "\n",
    "ax[0,1].plot(gmst_rcp.GMST, lw=2, c='C1')\n",
    "ax[0,1].text(0.02, 0.9, 'RCP', transform=ax[0,1].transAxes, fontsize=16)\n",
    "\n",
    "ax[1,1].plot(gmst_rcp.trend_10 *10, c='C1', ls='-' , label=' 5 years')\n",
    "ax[1,1].plot(gmst_rcp.trend_15 *10, c='C1', ls='--', label='10 years')\n",
    "ax[1,1].plot(gmst_rcp.trend_30 *10, c='C1', ls=':' , label='15 years')\n",
    "ax[1,1].legend(fontsize=14, title='window size')\n",
    "\n",
    "f.tight_layout()\n",
    "f.align_ylabels()\n"
   ]
  },
  {
   "cell_type": "code",
   "execution_count": null,
   "metadata": {},
   "outputs": [],
   "source": [
    "lin_fit  = np.polyfit(np.arange(ny), gmst_ctrl.GMST, 1)\n",
    "quad_fit = np.polyfit(np.arange(ny), gmst_ctrl.GMST, 2)\n",
    "for t in range(N):\n",
    "    "
   ]
  }
 ],
 "metadata": {
  "kernelspec": {
   "display_name": "Python 3",
   "language": "python",
   "name": "python3"
  },
  "language_info": {
   "codemirror_mode": {
    "name": "ipython",
    "version": 3
   },
   "file_extension": ".py",
   "mimetype": "text/x-python",
   "name": "python",
   "nbconvert_exporter": "python",
   "pygments_lexer": "ipython3",
   "version": "3.6.6"
  }
 },
 "nbformat": 4,
 "nbformat_minor": 2
}
