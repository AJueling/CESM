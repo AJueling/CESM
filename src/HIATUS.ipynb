{
 "cells": [
  {
   "cell_type": "markdown",
   "metadata": {},
   "source": [
    "# Hiatuses"
   ]
  },
  {
   "cell_type": "code",
   "execution_count": null,
   "metadata": {},
   "outputs": [],
   "source": [
    "import os\n",
    "import sys\n",
    "sys.path.append(\"..\")\n",
    "import numpy as np\n",
    "import scipy as sp\n",
    "import xarray as xr\n",
    "import matplotlib.pyplot as plt"
   ]
  },
  {
   "cell_type": "code",
   "execution_count": null,
   "metadata": {},
   "outputs": [],
   "source": [
    "%matplotlib inline\n",
    "%config InlineBackend.print_figure_kwargs={'bbox_inches':None}\n",
    "%load_ext autoreload\n",
    "%autoreload 2\n",
    "%aimport - numpy - matplotlib.pyplot"
   ]
  },
  {
   "cell_type": "code",
   "execution_count": null,
   "metadata": {},
   "outputs": [],
   "source": [
    "from GMST import Hiatuses, GMST_GISTEMP\n",
    "from paths import path_results, CESM_filename\n",
    "from timeseries import IterateOutputCESM"
   ]
  },
  {
   "cell_type": "markdown",
   "metadata": {},
   "source": [
    "# Trends in observations"
   ]
  },
  {
   "cell_type": "code",
   "execution_count": null,
   "metadata": {},
   "outputs": [],
   "source": [
    "GISTEMP = GMST_GISTEMP()"
   ]
  },
  {
   "cell_type": "code",
   "execution_count": null,
   "metadata": {},
   "outputs": [],
   "source": [
    "period = {'time':slice(1960,2017)}\n",
    "lf = np.polyfit(GISTEMP.time.sel(period), GISTEMP.GMST.sel(period), 1)\n",
    "GISTEMP_lin_trend = [lf[0]*10]*len(GISTEMP.time.sel(period))"
   ]
  },
  {
   "cell_type": "code",
   "execution_count": null,
   "metadata": {},
   "outputs": [],
   "source": [
    "f, ax = plt.subplots(1,1, figsize=(8,5), sharex=True)\n",
    "ax.tick_params(labelsize=14)\n",
    "ax.axhline(0, c='k', lw=.5)\n",
    "ax.plot(GISTEMP.time.sel(period), lf[1] + lf[0]*GISTEMP.time.sel(period), c='grey', ls='--', label='lin. fit 1960-2017')\n",
    "ax.plot(GISTEMP.time, GISTEMP.GMST, label='GISTEMP')\n",
    "ax.set_xlabel('time [year]', fontsize=16)\n",
    "ax.set_ylabel('GMST anomaly [K]', fontsize=16)\n",
    "ax.legend(fontsize=14)\n",
    "f.tight_layout()\n",
    "f.savefig(f'{path_results}/HIATUS/GISTEMP_anomaly')\n",
    "\n",
    "f, ax = plt.subplots(1,1, figsize=(8,5), sharex=True)\n",
    "ax.tick_params(labelsize=14)\n",
    "ax.axhline(0, c='k', lw=.5)\n",
    "ax.plot(GISTEMP.time.sel(period), GISTEMP_lin_trend, c='grey', ls='--', label='lin. fit 1960-2017')\n",
    "ax.plot(GISTEMP.time, GISTEMP.trend_10*10, c='C1', ls=':' , label='10 yr lin. trend')\n",
    "ax.plot(GISTEMP.time, GISTEMP.trend_15*10, c='C2', ls='--', label='15 yr lin. trend')\n",
    "ax.plot(GISTEMP.time, GISTEMP.trend_30*10, c='C3', ls='-.', label='30 yr lin. trend')\n",
    "ax.set_xlabel('time [year]', fontsize=16)\n",
    "ax.set_ylabel('trend [K/decade]', fontsize=16)\n",
    "ax.legend(fontsize=14)\n",
    "f.tight_layout()\n",
    "f.savefig(f'{path_results}/HIATUS/GISTEMP_trends')\n",
    "\n",
    "f, ax = plt.subplots(1,1, figsize=(8,5), sharex=True)\n",
    "ax.tick_params(labelsize=14)\n",
    "ax.axhline(0, c='k', lw=.5)\n",
    "ax.plot(GISTEMP.time.sel(period), GISTEMP.GMST - lf[1] - lf[0]*GISTEMP.time.sel(period), c='C0', ls='-', label='GISTEMP - lin. fit 1960-2017')\n",
    "ax.set_xlabel('time [year]', fontsize=16)\n",
    "ax.set_ylabel('corrected GMST anomaly [K]', fontsize=16)\n",
    "ax.legend(fontsize=14)\n",
    "f.tight_layout()\n",
    "f.savefig(f'{path_results}/HIATUS/GISTEMP_anomaly')\n",
    "\n",
    "f, ax = plt.subplots(1,1, figsize=(8,5), sharex=True)\n",
    "ax.tick_params(labelsize=14)\n",
    "ax.axhline(0, c='k', lw=.5)\n",
    "ax.axhline(-.07, c='k', lw=.5, ls='--')\n",
    "ax.axhline(-.17, c='k', lw=.5, ls='--')\n",
    "ax.plot(GISTEMP.time.sel(period), GISTEMP.trend_10.sel(period)*10-GISTEMP_lin_trend, c='C1', ls=':' , label='10 yr lin. trend')\n",
    "ax.plot(GISTEMP.time.sel(period), GISTEMP.trend_15.sel(period)*10-GISTEMP_lin_trend, c='C2', ls='--', label='15 yr lin. trend')\n",
    "ax.plot(GISTEMP.time.sel(period), GISTEMP.trend_30.sel(period)*10-GISTEMP_lin_trend, c='C3', ls='-.', label='30 yr lin. trend')\n",
    "ax.set_xlabel('time [year]', fontsize=16)\n",
    "ax.set_ylabel('corrected trend [K/decade]', fontsize=16)\n",
    "ax.legend(fontsize=14)\n",
    "f.tight_layout()\n",
    "# f.savefig(f'{path_results}/HIATUS/GISTEMP_trends')\n",
    "\n",
    "# for i in range(2):\n",
    "#     ax[i].spines['right'].set_visible(False)\n",
    "#     ax[i].spines['top'].set_visible(False)\n",
    "\n",
    "# f.align_ylabels()\n"
   ]
  },
  {
   "cell_type": "markdown",
   "metadata": {},
   "source": [
    "# Identifying hiatuses in CESM"
   ]
  },
  {
   "cell_type": "code",
   "execution_count": null,
   "metadata": {},
   "outputs": [],
   "source": [
    "gmst_ctrl = xr.open_dataset(f'{path_results}/GMST/GMST_ctrl.nc')\n",
    "gmst_rcp  = xr.open_dataset(f'{path_results}/GMST/GMST_rcp.nc' )\n",
    "gmst_lpd  = xr.open_dataset(f'{path_results}/GMST/GMST_lpd.nc' )\n",
    "gmst_lpi  = xr.open_dataset(f'{path_results}/GMST/GMST_lpi.nc' )"
   ]
  },
  {
   "cell_type": "code",
   "execution_count": null,
   "metadata": {},
   "outputs": [],
   "source": [
    "lfit_ctrl = gmst_ctrl.lin_fit .attrs['lin_fit_params']\n",
    "qfit_ctrl = gmst_ctrl.quad_fit.attrs['quad_fit_params']\n",
    "lfit_rcp  = gmst_rcp .lin_fit .attrs['lin_fit_params']\n",
    "qfit_rcp  = gmst_rcp .quad_fit.attrs['quad_fit_params']\n",
    "lfit_lpd  = gmst_lpd .lin_fit .attrs['lin_fit_params']\n",
    "qfit_lpd  = gmst_lpd .quad_fit.attrs['quad_fit_params']\n",
    "lfit_lpi  = gmst_lpi .lin_fit .attrs['lin_fit_params']\n",
    "qfit_lpi  = gmst_lpi .quad_fit.attrs['quad_fit_params']"
   ]
  },
  {
   "cell_type": "code",
   "execution_count": null,
   "metadata": {},
   "outputs": [],
   "source": [
    "lfit_ctrl_trend = np.empty((len(gmst_ctrl.time)))\n",
    "qfit_ctrl_trend = np.empty((len(gmst_ctrl.time)))\n",
    "for i, t in enumerate(gmst_ctrl.time.values):  \n",
    "    lfit_ctrl_trend[i] = lfit_ctrl[0]    \n",
    "    qfit_ctrl_trend[i] = 2*qfit_ctrl[0]*i + qfit_ctrl[1]\n",
    "    \n",
    "lfit_rcp_trend  = np.empty((len(gmst_rcp.time)))\n",
    "qfit_rcp_trend  = np.empty((len(gmst_rcp.time)))\n",
    "for i, t in enumerate(gmst_rcp.time.values):  \n",
    "    lfit_rcp_trend[i] = lfit_rcp[0]    \n",
    "    qfit_rcp_trend[i] = 2*qfit_rcp[0]*i + qfit_rcp[1]"
   ]
  },
  {
   "cell_type": "code",
   "execution_count": null,
   "metadata": {},
   "outputs": [],
   "source": [
    "f, ax = plt.subplots(2,2, figsize=(12,7.5), sharex='col')\n",
    "\n",
    "for i in range(2):\n",
    "    ax[1,i].axhline(0, c='k', lw=.5)\n",
    "    ax[1,i].set_xlabel('time [years]', fontsize=16)\n",
    "    for j in range(2):\n",
    "        ax[i,j].tick_params(labelsize=14)\n",
    "        ax[i,j].spines['right'].set_visible(False)\n",
    "        ax[i,j].spines['top'].set_visible(False)\n",
    "    ax[0,i].set_ylabel('GMST [$^\\circ$C]', fontsize=16)\n",
    "    ax[1,i].set_ylabel('lin. trend [$^\\circ$C/dec]', fontsize=16)\n",
    "\n",
    "ax[0,0].plot(gmst_ctrl.time/365, gmst_ctrl.lin_fit , c='grey', ls='-' , label='lin. fit')\n",
    "ax[0,0].plot(gmst_ctrl.time/365, gmst_ctrl.quad_fit, c='grey', ls='--', label='quad. fit')\n",
    "ax[0,0].plot(gmst_ctrl.time/365, gmst_ctrl.GMST, lw=2, c='C0', label='')\n",
    "ax[0,0].text(0.02, 0.9, 'CTRL', transform=ax[0,0].transAxes, fontsize=16)\n",
    "ax[0,0].legend(loc=4, fontsize=14)\n",
    "\n",
    "ax[1,0].plot(gmst_ctrl.time/365, lfit_ctrl_trend*10, c='grey', ls='-' )\n",
    "ax[1,0].plot(gmst_ctrl.time/365, qfit_ctrl_trend*10, c='grey', ls='--')\n",
    "ax[1,0].plot(gmst_ctrl.time/365, qfit_ctrl_trend*10-.07, c='g', ls='--')\n",
    "ax[1,0].plot(gmst_ctrl.time/365, qfit_ctrl_trend*10-.17, c='g', ls='--')\n",
    "ax[1,0].plot(gmst_ctrl.time/365, gmst_ctrl.trend_10*10, lw=1, c='C0', ls='--' , label='10 yrs')\n",
    "ax[1,0].plot(gmst_ctrl.time/365, gmst_ctrl.trend_15*10, lw=2, c='C0', ls='-' , label='15 yrs')\n",
    "ax[1,0].plot(gmst_ctrl.time/365, gmst_ctrl.trend_30*10, lw=1, c='C0', ls=':', label='30 yrs')\n",
    "ax[1,0].legend(fontsize=14, ncol=3, frameon=False)\n",
    "\n",
    "ax[0,1].plot(gmst_rcp.time/365, gmst_rcp.lin_fit , c='grey', ls='-' )\n",
    "ax[0,1].plot(gmst_rcp.time/365, gmst_rcp.quad_fit, c='grey', ls='--')\n",
    "ax[0,1].plot(gmst_rcp.time/365, gmst_rcp.GMST, lw=2, c='C1')\n",
    "ax[0,1].text(0.02, 0.9, 'RCP', transform=ax[0,1].transAxes, fontsize=16)\n",
    "\n",
    "ax[1,1].plot(gmst_rcp.time/365, lfit_rcp_trend*10, c='grey', ls='-' )\n",
    "ax[1,1].plot(gmst_rcp.time/365, qfit_rcp_trend*10, c='grey', ls='--')\n",
    "ax[1,1].plot(gmst_rcp.time/365, qfit_rcp_trend*10-.07, c='g', ls='--')\n",
    "ax[1,1].plot(gmst_rcp.time/365, qfit_rcp_trend*10-.17, c='g', ls='--')\n",
    "ax[1,1].plot(gmst_rcp.time/365, gmst_rcp.trend_10 *10, lw=1, c='C1', ls='--' , label='10 yrs')\n",
    "ax[1,1].plot(gmst_rcp.time/365, gmst_rcp.trend_15 *10, lw=2, c='C1', ls='-' , label='15 yrs')\n",
    "ax[1,1].plot(gmst_rcp.time/365, gmst_rcp.trend_30 *10, lw=1, c='C1', ls=':', label='30 yrs')\n",
    "ax[1,1].legend(fontsize=14, ncol=3, frameon=False)\n",
    "\n",
    "f.tight_layout()\n",
    "f.align_ylabels()\n",
    "f.savefig(f'{path_results}/HIATUS/HIATUS_GMST_rolling_trends')"
   ]
  },
  {
   "cell_type": "code",
   "execution_count": null,
   "metadata": {},
   "outputs": [],
   "source": []
  },
  {
   "cell_type": "code",
   "execution_count": null,
   "metadata": {},
   "outputs": [],
   "source": [
    "f, ax = plt.subplots(2,1, figsize=(12,7.5), sharex='col')\n",
    "\n",
    "for i in range(2):\n",
    "    ax[i].axhline(0, c='k', lw=.5)\n",
    "    ax[i].tick_params(labelsize=14)\n",
    "    ax[i].spines['right'].set_visible(False)\n",
    "    ax[i].spines['top'].set_visible(False)\n",
    "    ax[i].axvline(200, c='g', lw=.5)\n",
    "    ax[i].axvline(300, c='g', lw=.5)\n",
    "ax[0].set_ylabel('GMST anom. [$^\\circ$C]', fontsize=16)\n",
    "ax[1].set_xlabel('time [years]', fontsize=16)\n",
    "ax[1].set_ylabel('lin. trend anom. [$^\\circ$C/dec]', fontsize=16)\n",
    "ax[1].set_xlim((95,390))\n",
    "ax[1].set_xticks(np.arange(100,400,20))\n",
    "\n",
    "\n",
    "ax[0].plot(gmst_ctrl.time/365    , gmst_ctrl.GMST-gmst_ctrl.quad_fit, lw=1, c='C0')\n",
    "ax[0].plot(gmst_rcp.time/365-1700, gmst_rcp .GMST-gmst_rcp .quad_fit, lw=1, c='C1', label='yearly data')\n",
    "ax[0].plot(gmst_ctrl.time/365    , (gmst_ctrl.GMST-gmst_ctrl.quad_fit).rolling(time=10, center=True).mean(), lw=2, c='C0')\n",
    "ax[0].plot(gmst_rcp.time/365-1700, (gmst_rcp .GMST-gmst_rcp .quad_fit).rolling(time=10, center=True).mean(), lw=2, c='C1', label='10 year running mean')\n",
    "ax[0].text(305, 0.2, 'RCP',  fontsize=16)\n",
    "ax[0].text(105, 0.2, 'CTRL', fontsize=16)\n",
    "ax[0].legend(fontsize=14 ,ncol=2, frameon=False)\n",
    "\n",
    "ax[1].axhline(-.07, c='k', lw=.5, ls=':')\n",
    "ax[1].axhline(-.17, c='k', lw=.5, ls=':')\n",
    "ax[1].plot(gmst_ctrl.time/365, (gmst_ctrl.trend_10-qfit_ctrl_trend)*10, lw=1, c='C0', ls='--')\n",
    "ax[1].plot(gmst_ctrl.time/365, (gmst_ctrl.trend_15-qfit_ctrl_trend)*10, lw=1, c='C0', ls='-' )\n",
    "L1, = ax[1].plot(gmst_rcp.time/365-1700, (gmst_rcp.trend_10-qfit_rcp_trend) *10, lw=1, c='C1', ls='--', label='10 yrs')\n",
    "L2, = ax[1].plot(gmst_rcp.time/365-1700, (gmst_rcp.trend_15-qfit_rcp_trend) *10, lw=1, c='C1', ls='-' , label='15 yrs')\n",
    "ax[1].legend(handles=[L1,L2], fontsize=14, ncol=6, frameon=False, loc=4)\n",
    "\n",
    "hiatuses = [item for sublist in [Hiatuses('ctrl'), Hiatuses('rcp',-1700)] for item in sublist]\n",
    "for i in range(2):\n",
    "    for hiat in hiatuses:\n",
    "        ax[i].axvspan(hiat[0],hiat[1], alpha=.2)\n",
    "    \n",
    "f.tight_layout()\n",
    "f.align_ylabels()\n",
    "f.savefig(f'{path_results}/HIATUS/HIATUS_GMST_rolling_trends_anom')"
   ]
  },
  {
   "cell_type": "code",
   "execution_count": null,
   "metadata": {},
   "outputs": [],
   "source": [
    "# low res pd run\n",
    "f, ax = plt.subplots(2,1, figsize=(12,8), sharex=True)\n",
    "for i in range(2):\n",
    "    ax[i].tick_params(labelsize=14)\n",
    "    ax[i].spines['right'].set_visible(False)\n",
    "    ax[i].spines['top'].set_visible(False)\n",
    "\n",
    "ax[0].set_ylabel('GMST [$^\\circ$C]', fontsize=16)\n",
    "ax[0].plot(gmst_lpd.time/365, gmst_lpd.GMST)\n",
    "ax[0].plot(gmst_lpd.time/365, gmst_lpd.GMST.rolling(time=30, center=True).mean())\n",
    "ax[0].plot(gmst_lpd.time/365, gmst_lpd.lin_fit, c='grey')\n",
    "ax[0].text(.98,.02, f'linear trend +{lfit_lpd[0]*1e2:4.2f} K/century', \n",
    "           ha='right', transform=ax[0].transAxes, fontsize=14, color='grey')\n",
    "\n",
    "ax[1].set_ylabel('lin. trends [$^\\circ$C/decade]', fontsize=16)\n",
    "ax[1].axhline(0, c='k', lw=.5)\n",
    "ax[1].axhline(-.07, c='g', lw=.5)\n",
    "ax[1].axhline(-.17, c='g', lw=.5)\n",
    "ax[1].plot(gmst_lpd.time/365, (gmst_lpd.trend_10-lfit_lpd[0])*10, label='10 yrs')\n",
    "ax[1].plot(gmst_lpd.time/365, (gmst_lpd.trend_15-lfit_lpd[0])*10, label='15 yrs')\n",
    "ax[1].plot(gmst_lpd.time/365, (gmst_lpd.trend_30-lfit_lpd[0])*10, label='30 yrs')\n",
    "ax[1].legend(fontsize=14, frameon=False)\n",
    "\n",
    "ax[1].set_xlabel('time [years]', fontsize=16)\n",
    "f.align_ylabels()\n",
    "plt.tight_layout()\n",
    "f.savefig(f'{path_results}/HIATUS/HIATUS_lpd')"
   ]
  },
  {
   "cell_type": "code",
   "execution_count": null,
   "metadata": {},
   "outputs": [],
   "source": [
    "# low res pd run\n",
    "f, ax = plt.subplots(2,1, figsize=(12,8), sharex=True)\n",
    "for i in range(2):\n",
    "    ax[i].tick_params(labelsize=14)\n",
    "\n",
    "ax[0].set_ylabel('GMST [$^\\circ$C]', fontsize=16)\n",
    "ax[0].plot(gmst_lpi.time/365, gmst_lpi.GMST)\n",
    "ax[0].plot(gmst_lpi.time/365, gmst_lpi.GMST.rolling(time=30, center=True).mean())\n",
    "ax[0].plot(gmst_lpi.time/365, gmst_lpi.lin_fit, c='grey')\n",
    "ax[0].text(.98,.02, f'linear trend +{lfit_lpi[0]*1e2:4.2f} K/century', \n",
    "           ha='right', transform=ax[0].transAxes, fontsize=14, color='grey')\n",
    "\n",
    "ax[1].set_ylabel('lin. trends [$^\\circ$C/decade]', fontsize=16)\n",
    "ax[1].axhline(0, c='k', lw=.5)\n",
    "ax[1].axhline(-.07, c='g', lw=.5)\n",
    "ax[1].axhline(-.17, c='g', lw=.5)\n",
    "ax[1].plot(gmst_lpi.time/365, (gmst_lpi.trend_10-lfit_lpd[0])*10, label='10 yrs')\n",
    "ax[1].plot(gmst_lpi.time/365, (gmst_lpi.trend_15-lfit_lpd[0])*10, label='15 yrs')\n",
    "ax[1].plot(gmst_lpi.time/365, (gmst_lpi.trend_30-lfit_lpd[0])*10, label='30 yrs')\n",
    "ax[1].legend(fontsize=14, frameon=False)\n",
    "\n",
    "ax[1].set_xlabel('time [years]', fontsize=16)\n",
    "f.align_ylabels()\n",
    "plt.tight_layout()\n",
    "f.savefig(f'{path_results}/HIATUS/HIATUS_lpi')"
   ]
  },
  {
   "cell_type": "code",
   "execution_count": null,
   "metadata": {},
   "outputs": [],
   "source": [
    "gmst_ctrl"
   ]
  },
  {
   "cell_type": "code",
   "execution_count": null,
   "metadata": {},
   "outputs": [],
   "source": [
    "from GMST import rolling_lin_trends"
   ]
  },
  {
   "cell_type": "code",
   "execution_count": null,
   "metadata": {},
   "outputs": [],
   "source": [
    "# distribution of trends\n",
    "gmsts  = [gmst_ctrl, gmst_rcp, gmst_lpd, gmst_lpi]\n",
    "labels = ['CTRL', 'RCP', 'LPD', 'LPI']\n",
    "x = np.arange(-.55,.55,0.001)\n",
    "\n",
    "f, ax = plt.subplots(2, 2, figsize=(12,8), sharey='row', sharex='col')\n",
    "for i in range (4):\n",
    "    label= labels[i]\n",
    "    gmst = gmsts[i].copy()\n",
    "    density = sp.stats.gaussian_kde(gmst.trend_10.dropna(dim='time')*10-gmst.trend_10.dropna(dim='time').mean()*10)\n",
    "    ax[0,0].plot(x, density(x), label=label)\n",
    "    density = sp.stats.gaussian_kde(gmst.trend_15.dropna(dim='time')*10-gmst.trend_15.dropna(dim='time').mean()*10)\n",
    "    ax[0,1].plot(x, density(x), label=label)\n",
    "#     if i==1: ax[0,2].plot((gmst.GMST-gmst.lin_fit)*10)\n",
    "    \n",
    "    gmst['GMST'] = gmst.GMST-gmst.quad_fit\n",
    "    gmst = rolling_lin_trends(gmst,len(gmst.GMST), gmst.time)\n",
    "    \n",
    "    density = sp.stats.gaussian_kde(gmst.trend_10.dropna(dim='time')*10-gmst.trend_10.dropna(dim='time').mean()*10)\n",
    "    ax[1,0].plot(x, density(x), label=label)\n",
    "    density = sp.stats.gaussian_kde(gmst.trend_15.dropna(dim='time')*10-gmst.trend_15.dropna(dim='time').mean()*10)\n",
    "    ax[1,1].plot(x, density(x), label=label)\n",
    "#     if i==1: ax[1,2].plot((gmst.GMST)*10)\n",
    "    \n",
    "ax[1,0].set_xlabel('10 year trends [K/decade]', fontsize=16)\n",
    "ax[1,1].set_xlabel('15 year trends [K/decade]', fontsize=16)\n",
    "\n",
    "for i in range(2):\n",
    "    ax[i,0].set_ylabel('density', fontsize=16)\n",
    "    ax[i,0].axvline(-.17, c='k', lw=.5, ls='--')\n",
    "    ax[i,1].axvline(-.07, c='k', lw=.5, ls='--')\n",
    "    ax[0,i].text(.05, .85, 'linearly\\ndetrended'     , fontsize=14, transform=ax[0,i].transAxes, color='grey')\n",
    "    ax[1,i].text(.05, .85, 'quadratically\\ndetrended', fontsize=14, transform=ax[1,i].transAxes, color='grey')\n",
    "    for j in range(2):\n",
    "        ax[i,j].axvline(0, c='k', lw=.5)\n",
    "        ax[i,j].tick_params(labelsize=14)\n",
    "        ax[i,j].axhline(0, c='k', lw=.5)\n",
    "        ax[i,j].legend(fontsize=14, frameon=False)\n",
    "f.align_ylabels()\n",
    "plt.tight_layout()\n",
    "plt.savefig(f'{path_results}/HIATUS/HIATUS_symmetry')"
   ]
  },
  {
   "cell_type": "code",
   "execution_count": null,
   "metadata": {},
   "outputs": [],
   "source": [
    "gmst.GMST.plot()"
   ]
  },
  {
   "cell_type": "code",
   "execution_count": null,
   "metadata": {},
   "outputs": [],
   "source": []
  },
  {
   "cell_type": "code",
   "execution_count": null,
   "metadata": {},
   "outputs": [],
   "source": [
    "Hiatuses('rcp')-1700"
   ]
  },
  {
   "cell_type": "code",
   "execution_count": null,
   "metadata": {},
   "outputs": [],
   "source": [
    "hiat = [item for sublist in [Hiatuses('ctrl'), Hiatuses('rcp',-1700)] for item in sublist]"
   ]
  },
  {
   "cell_type": "code",
   "execution_count": null,
   "metadata": {},
   "outputs": [],
   "source": [
    "hiat"
   ]
  },
  {
   "cell_type": "code",
   "execution_count": null,
   "metadata": {},
   "outputs": [],
   "source": [
    "gmst_trend_anom_ctrl = xr.merge([gmst_ctrl.trend_10-qfit_ctrl_trend,\n",
    "                                 gmst_ctrl.trend_15-qfit_ctrl_trend])\n",
    "gmst_trend_anom_rcp  = xr.merge([gmst_rcp .trend_10-qfit_rcp_trend,\n",
    "                                 gmst_rcp .trend_15-qfit_rcp_trend])\n",
    "gmst_trend_anom_ctrl.to_netcdf(f'{path_results}/GMST/GMST_trend_anom_ctrl.nc')\n",
    "gmst_trend_anom_rcp .to_netcdf(f'{path_results}/GMST/GMST_trend_anom_rcp.nc' )"
   ]
  },
  {
   "cell_type": "code",
   "execution_count": null,
   "metadata": {},
   "outputs": [],
   "source": [
    "# plt.avhline(0, c='k')\n",
    "f,ax = plt.subplots(1,2, figsize=(12,5))\n",
    "for i in range(2):\n",
    "    ax[i].tick_params(labelsize=14)\n",
    "ax[0].hist(gmst_trend_anom_ctrl.trend_10, bins=np.arange(-.035,.04,.005), color='C0', alpha=.4, label='CTRL 10 yr')\n",
    "ax[0].hist(gmst_trend_anom_ctrl.trend_15, bins=np.arange(-.035,.04,.005), color='C1', alpha=.4, label='CTRL 15 yr')\n",
    "ax[1].hist(gmst_trend_anom_rcp .trend_10, bins=np.arange(-.035,.04,.005), color='C0', alpha=.4, label='RCP 10 yr')\n",
    "ax[1].hist(gmst_trend_anom_rcp .trend_15, bins=np.arange(-.035,.04,.005), color='C1', alpha=.4, label='RCP 15 yr')\n",
    "for i in range(2):\n",
    "    ax[i].legend()\n",
    "    plt.tight_layout()\n"
   ]
  },
  {
   "cell_type": "markdown",
   "metadata": {},
   "source": [
    "which thresholds to choose (from Hedemann 2016)?\n",
    "- 0.17: mismatch between CMIP5 ensemble mean\n",
    "- 0.04-0.07: deviation from long term trend"
   ]
  },
  {
   "cell_type": "code",
   "execution_count": null,
   "metadata": {},
   "outputs": [],
   "source": [
    "gmst_trend_anom_ctrl"
   ]
  },
  {
   "cell_type": "code",
   "execution_count": null,
   "metadata": {},
   "outputs": [],
   "source": []
  }
 ],
 "metadata": {
  "kernelspec": {
   "display_name": "Python 3",
   "language": "python",
   "name": "python3"
  },
  "language_info": {
   "codemirror_mode": {
    "name": "ipython",
    "version": 3
   },
   "file_extension": ".py",
   "mimetype": "text/x-python",
   "name": "python",
   "nbconvert_exporter": "python",
   "pygments_lexer": "ipython3",
   "version": "3.6.6"
  }
 },
 "nbformat": 4,
 "nbformat_minor": 2
}
