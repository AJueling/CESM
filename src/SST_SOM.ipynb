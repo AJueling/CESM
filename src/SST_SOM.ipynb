{
 "cells": [
  {
   "cell_type": "markdown",
   "metadata": {},
   "source": [
    "# Sea Surface Temperature"
   ]
  },
  {
   "cell_type": "code",
   "execution_count": null,
   "metadata": {},
   "outputs": [],
   "source": [
    "import sys\n",
    "sys.path.append(\"..\")\n",
    "import scipy as sp\n",
    "import numpy as np\n",
    "import xarray as xr\n",
    "import seaborn as sns\n",
    "import cmocean\n",
    "import cartopy\n",
    "import cartopy.crs as ccrs\n",
    "import matplotlib as mpl\n",
    "import matplotlib.pyplot as plt\n",
    "import matplotlib.patches as mpatches"
   ]
  },
  {
   "cell_type": "code",
   "execution_count": null,
   "metadata": {},
   "outputs": [],
   "source": [
    "%matplotlib inline\n",
    "%config InlineBackend.print_figure_kwargs={'bbox_inches':None}\n",
    "%load_ext autoreload\n",
    "%autoreload 2\n",
    "%aimport - numpy - scipy - matplotlib.pyplot"
   ]
  },
  {
   "cell_type": "code",
   "execution_count": null,
   "metadata": {},
   "outputs": [],
   "source": [
    "from OHC import t2da, t2ds\n",
    "from SST import SST_index, EOF_SST_analysis\n",
    "from maps import map_robinson, map_eq_earth, rect_polygon\n",
    "from grid import find_array_idx\n",
    "from paths import path_results, path_samoc, file_ex_ocn_ctrl, file_ex_ocn_rect, file_ex_ocn_lpd\n",
    "from regions import boolean_mask, SOM_area, global_ocean, SOM_mask\n",
    "from plotting import shifted_color_map, discrete_cmap\n",
    "from timeseries import IterateOutputCESM, lowpass, chebychev\n",
    "from xr_DataArrays import xr_AREA\n",
    "from xr_regression import xr_lintrend, xr_linear_trends_2D, xr_linear_trend, ocn_field_regression, lag_linregress_3D"
   ]
  },
  {
   "cell_type": "markdown",
   "metadata": {},
   "source": [
    "# global yearly avg. SST map and trends"
   ]
  },
  {
   "cell_type": "code",
   "execution_count": null,
   "metadata": {},
   "outputs": [],
   "source": [
    "SST_yrly_ctrl = xr.open_dataarray(f'{path_samoc}/SST/SST_yrly_ctrl.nc')\n",
    "SST_yrly_rcp  = xr.open_dataarray(f'{path_samoc}/SST/SST_yrly_rcp.nc' )\n",
    "SST_yrly_lpd  = xr.open_dataarray(f'{path_samoc}/SST/SST_yrly_lpd.nc' )\n",
    "SST_yrly_lpi  = xr.open_dataarray(f'{path_samoc}/SST/SST_yrly_lpi.nc' )"
   ]
  },
  {
   "cell_type": "markdown",
   "metadata": {},
   "source": [
    "# SST indices"
   ]
  },
  {
   "cell_type": "code",
   "execution_count": null,
   "metadata": {},
   "outputs": [],
   "source": [
    "MASK_ocn  = boolean_mask('ocn'     , 0)\n",
    "MASK_low  = boolean_mask('ocn_low' , 0)\n",
    "MASK_rect = boolean_mask('ocn_rect', 0)"
   ]
  },
  {
   "cell_type": "code",
   "execution_count": null,
   "metadata": {},
   "outputs": [],
   "source": [
    "TAREA       = xr_AREA('ocn')\n",
    "AREA_low    = xr_AREA('ocn_low')\n",
    "AREA_rect   = xr_AREA('ocn_rect')"
   ]
  },
  {
   "cell_type": "markdown",
   "metadata": {},
   "source": [
    "# Southern Ocean"
   ]
  },
  {
   "cell_type": "markdown",
   "metadata": {},
   "source": [
    "## Southern Ocean Mode index\n",
    "annual SST anomaly (50S-35S, 0E-50W), here detrended"
   ]
  },
  {
   "cell_type": "code",
   "execution_count": null,
   "metadata": {},
   "outputs": [],
   "source": [
    "SOMi_area     = TAREA.where(SOM_mask('ocn')    ).sum()\n",
    "SOMi_area_low = AREA_low.where(SOM_mask('ocn_low')).sum()\n",
    "print(SOMi_area, SOMi_area_low)"
   ]
  },
  {
   "cell_type": "code",
   "execution_count": null,
   "metadata": {},
   "outputs": [],
   "source": [
    "%%time\n",
    "# 30 sec\n",
    "dims = ('nlat', 'nlon')\n",
    "SOMi_ctrl = SST_index(xa_SST=SST_yrly_ctrl, AREA=TAREA, index_loc=None, AREA_index=SOMi_area, MASK=SOM_mask('ocn'), dims=dims)\n",
    "SOMi_rcp  = SST_index(xa_SST=SST_yrly_rcp , AREA=TAREA, index_loc=None, AREA_index=SOMi_area, MASK=SOM_mask('ocn'), dims=dims)\n",
    "SOMi_lpd  = SST_index(xa_SST=SST_yrly_lpd , AREA=AREA_low, index_loc=None, AREA_index=SOMi_area_low, MASK=SOM_mask('ocn_low'), dims=dims)\n",
    "SOMi_lpi  = SST_index(xa_SST=SST_yrly_lpi , AREA=AREA_low, index_loc=None, AREA_index=SOMi_area_low, MASK=SOM_mask('ocn_low'), dims=dims)"
   ]
  },
  {
   "cell_type": "code",
   "execution_count": null,
   "metadata": {},
   "outputs": [],
   "source": [
    "f,ax = plt.subplots(1,1,figsize=(12,5), sharex=True)\n",
    "\n",
    "ax.tick_params(labelsize=14)\n",
    "ax.set_xlabel('time [years]', fontsize=16)\n",
    "    \n",
    "ax.set_ylabel('SOM area temperature [$^\\circ$C]', fontsize=16)\n",
    "L1, = ax.plot(SOMi_ctrl.time/365+1850, SOMi_ctrl, lw=.5, ls=':', c='C0', label='yearly data')\n",
    "ax.plot(SOMi_rcp .time/365+ 200, SOMi_rcp , lw=.5, ls=':', c='C1')\n",
    "ax.plot(SOMi_lpd .time/365+1350, SOMi_lpd , lw=.5, ls=':', c='C2')\n",
    "ax.plot(SOMi_lpi .time/365-1600, SOMi_lpi , lw=.5, ls=':', c='C3')\n",
    "\n",
    "L2, = ax.plot(SOMi_ctrl.time/365+1850, lowpass(SOMi_ctrl, 13), c='C0', label='lowpass 13 yr')\n",
    "ax.plot(SOMi_rcp .time/365+ 200, lowpass(SOMi_rcp , 13), c='C1')\n",
    "ax.plot(SOMi_lpd .time/365+1350, lowpass(SOMi_lpd , 13), c='C2')\n",
    "ax.plot(SOMi_lpi .time/365-1600, lowpass(SOMi_lpi , 13), c='C3')\n",
    "\n",
    "L3, = ax.plot(SOMi_ctrl.time/365+1850, xr_lintrend(SOMi_ctrl), c='C0', ls='-.', lw=1.5, label='linear trend')\n",
    "ax.plot(SOMi_rcp .time/365+ 200, xr_lintrend(SOMi_rcp ), c='C1', ls='-.', lw=1.5)\n",
    "ax.plot(SOMi_lpd .time/365+1350, xr_lintrend(SOMi_lpd ), c='C2', ls='-.', lw=1.5)\n",
    "ax.plot(SOMi_lpi .time/365-1600, xr_lintrend(SOMi_lpi ), c='C3', ls='-.', lw=1.5)\n",
    "\n",
    "ax.legend(handles=[L1,L2,L3], fontsize=14, ncol=3, frameon=False)\n",
    "\n",
    "ax.text(1950, 12.3, 'CTRL'         , fontsize=16, color='C0')\n",
    "ax.text(2200, 12.3, 'RCP'          , fontsize=16, color='C1')\n",
    "ax.text(1500, 12.3, 'pres. day low', fontsize=16, color='C2')\n",
    "ax.text(   0, 12.3, 'pre-ind. low' , fontsize=16, color='C3')\n",
    "\n",
    "plt.tight_layout()\n",
    "plt.savefig(f'{path_results}/SST/SOM_overview_raw')"
   ]
  },
  {
   "cell_type": "markdown",
   "metadata": {},
   "source": [
    "detrended"
   ]
  },
  {
   "cell_type": "code",
   "execution_count": null,
   "metadata": {},
   "outputs": [],
   "source": [
    "SOMi_detr_ctrl = xr_lintrend(SOMi_ctrl)\n",
    "SOMi_detr_rcp  = xr_lintrend(SOMi_rcp )\n",
    "SOMi_detr_lpd  = xr_lintrend(SOMi_lpd )\n",
    "SOMi_detr_lpi  = xr_lintrend(SOMi_lpi )\n",
    "\n",
    "SOMi_detr_ctrl.to_netcdf(f'{path_results}/SST/SOM_index_ctrl.nc')\n",
    "SOMi_detr_rcp .to_netcdf(f'{path_results}/SST/SOM_index_rcp.nc' )\n",
    "SOMi_detr_lpd .to_netcdf(f'{path_results}/SST/SOM_index_lpd.nc' )\n",
    "SOMi_detr_lpi .to_netcdf(f'{path_results}/SST/SOM_index_lpi.nc' )"
   ]
  },
  {
   "cell_type": "code",
   "execution_count": null,
   "metadata": {},
   "outputs": [],
   "source": [
    "SOMi_detr_ctrl = xr.open_dataarray(f'{path_results}/SST/SOM_index_ctrl.nc', decode_times=False)\n",
    "SOMi_detr_rcp  = xr.open_dataarray(f'{path_results}/SST/SOM_index_rcp.nc' , decode_times=False)\n",
    "SOMi_detr_lpd  = xr.open_dataarray(f'{path_results}/SST/SOM_index_lpd.nc' , decode_times=False)\n",
    "SOMi_detr_lpi  = xr.open_dataarray(f'{path_results}/SST/SOM_index_lpi.nc' , decode_times=False)"
   ]
  },
  {
   "cell_type": "code",
   "execution_count": null,
   "metadata": {},
   "outputs": [],
   "source": [
    "f,ax = plt.subplots(1,1,figsize=(12,5), sharex=True)\n",
    "\n",
    "ax.tick_params(labelsize=14)\n",
    "ax.set_xlabel('time [years]', fontsize=16)\n",
    "\n",
    "ax.text(1950, .3, 'CTRL'         , fontsize=16, color='C0')\n",
    "ax.text(2200, .3, 'RCP'          , fontsize=16, color='C1')\n",
    "ax.text(1500, .3, 'pres. day low', fontsize=16, color='C2')\n",
    "ax.text(   0, .3, 'pre-ind. low' , fontsize=16, color='C3')\n",
    "\n",
    "\n",
    "ax.set_ylabel('detrended SOM index [$^\\circ$C]', fontsize=16)\n",
    "ax.axhline(0, c='k', lw=.5)\n",
    "ax.plot(SOMi_ctrl.time/365+1850, chebychev(SOMi_detr_ctrl.values, 13), c='C0', ls='--', label='chebychev 13 yr')\n",
    "ax.plot(SOMi_rcp .time/365+ 200, chebychev(SOMi_detr_rcp .values, 13), c='C1', ls='--')\n",
    "ax.plot(SOMi_lpd .time/365+1350, chebychev(SOMi_detr_lpd .values, 13), c='C2', ls='--')\n",
    "ax.plot(SOMi_lpi .time/365-1600, chebychev(SOMi_detr_lpi .values, 13), c='C3', ls='--')\n",
    "\n",
    "ax.plot(SOMi_ctrl.time/365+1850, lowpass(SOMi_detr_ctrl.values, 40), c='C0', lw=2, label='lowpass 40 yr')\n",
    "ax.plot(SOMi_rcp .time/365+ 200, lowpass(SOMi_detr_rcp .values, 40), c='C1', lw=2)\n",
    "ax.plot(SOMi_lpd .time/365+1350, lowpass(SOMi_detr_lpd .values, 40), c='C2', lw=2)\n",
    "ax.plot(SOMi_lpi .time/365-1600, lowpass(SOMi_detr_lpi .values, 40), c='C3', lw=2)\n",
    "\n",
    "ax.legend(fontsize=14, ncol=2, frameon=False, loc=4)\n",
    "ax.set_xticks(np.arange(0,2400,200))\n",
    "\n",
    "plt.tight_layout()\n",
    "plt.savefig(f'{path_results}/SST/SOM_overview')"
   ]
  },
  {
   "cell_type": "code",
   "execution_count": null,
   "metadata": {},
   "outputs": [],
   "source": [
    "SOMi_detr_ctrl = xr.open_dataarray(f'{path_results}/SST/SOM_index_ctrl.nc', decode_times=False)\n",
    "SOMi_detr_rcp  = xr.open_dataarray(f'{path_results}/SST/SOM_index_rcp.nc' , decode_times=False)\n"
   ]
  },
  {
   "cell_type": "code",
   "execution_count": null,
   "metadata": {},
   "outputs": [],
   "source": [
    "f = plt.figure(figsize=(8,5))\n",
    "ax = f.add_axes([0.13,0.13,.85,.85])\n",
    "plt.tick_params(labelsize=14)\n",
    "\n",
    "# plt.axhline(0,c='k', lw=.5)\n",
    "plt.plot(SOMi_ctrl.time/365     , SOMi_ctrl, c='C0', lw=.5)\n",
    "plt.plot(SOMi_rcp .time/365-1800, SOMi_rcp , c='C1', lw=.5)\n",
    "\n",
    "plt.plot(SOMi_ctrl.time/365     , SOMi_trend_ctrl[1] + SOMi_trend_ctrl[0]*SOMi_ctrl.time, ls='--')\n",
    "plt.plot(SOMi_rcp .time/365-1800, SOMi_trend_rcp [1] + SOMi_trend_rcp [0]*SOMi_rcp.time , ls='--')\n",
    "\n",
    "L1, = plt.plot(SOMi_ctrl.time/365     , SOMi_ctrl.rolling({'time':5}, center=True).mean(), c='C0', lw=2, label='CTRL')\n",
    "L2, = plt.plot(SOMi_rcp .time/365-1800, SOMi_rcp .rolling({'time':5}, center=True).mean(), c='C1', lw=2, label='RCP')\n",
    "\n",
    "plt.text(.02,.95, r'[35,50$^\\circ$S]$\\times$[-50,0$^\\circ$E]', ha='left',transform=ax.transAxes, fontsize=16)\n",
    "plt.xlabel('time [years]', fontsize=16)\n",
    "plt.ylabel('raw SOM index [K]', fontsize=16)\n",
    "plt.legend(fontsize=16, ncol=2, loc=4, handles=[L1, L2])\n",
    "# plt.savefig(f'{path_results}/SST/SOM_raw')"
   ]
  },
  {
   "cell_type": "code",
   "execution_count": null,
   "metadata": {},
   "outputs": [],
   "source": [
    "f = plt.figure(figsize=(8,5))\n",
    "ax = f.add_axes([0.13,0.13,.85,.85])\n",
    "plt.tick_params(labelsize=14)\n",
    "\n",
    "plt.axhline(0,c='k', lw=.5)\n",
    "plt.plot(SOMi_ctrl.time/365     , SOMi_detr_ctrl, c='C0', lw=.5)\n",
    "plt.plot(SOMi_rcp .time/365-1800, SOMi_detr_rcp , c='C1', lw=.5)\n",
    "plt.plot(SOMi_ctrl.time/365     , SOMi_detr_ctrl.rolling({'time':5}, center=True).mean(), c='C0', lw=2, label='CTRL')\n",
    "plt.plot(SOMi_rcp .time/365-1800, SOMi_detr_rcp .rolling({'time':5}, center=True).mean(), c='C1', lw=2, label='RCP')\n",
    "\n",
    "plt.text(.02,.95, r'[35,50$^\\circ$S]$\\times$[-50,0$^\\circ$E]', ha='left',transform=ax.transAxes, fontsize=16)\n",
    "plt.xlabel('time [years]', fontsize=16)\n",
    "plt.ylabel('SOM index [K]', fontsize=16)\n",
    "plt.legend(fontsize=16, ncol=2)\n",
    "# plt.savefig(f'{path_results}/SST/SOM_index')"
   ]
  },
  {
   "cell_type": "code",
   "execution_count": null,
   "metadata": {},
   "outputs": [],
   "source": [
    "SOMi_detr_ctrl.plot()\n",
    "(SOMi_ctrl - xr_lintrend(SOMi_ctrl)).plot()"
   ]
  },
  {
   "cell_type": "markdown",
   "metadata": {},
   "source": [
    "## spectra"
   ]
  },
  {
   "cell_type": "code",
   "execution_count": null,
   "metadata": {},
   "outputs": [],
   "source": [
    "SOMis = [SOMi_ctrl, SOMi_rcp, SOMi_lpd, SOMi_lpi]\n",
    "\n",
    "f, ax = plt.subplots(1, 1, figsize=(8,5), sharey=True)\n",
    "ax.set_ylabel('spectral power', fontsize=16)\n",
    "\n",
    "for i in range (4):\n",
    "    label= ['CTRL', 'RCP', 'LPD', 'LPI'][i]\n",
    "    f, Pxx = sp.signal.welch(SOMis[i]-xr_lintrend(SOMis[i]), fs=1)\n",
    "    ax.loglog(1/f, np.sqrt(Pxx), label=label)\n",
    "\n",
    "ax.tick_params(labelsize=14)\n",
    "ax.set_xlabel('period [yr]', fontsize=16)\n",
    "ax.legend(fontsize=14, frameon=False)\n",
    "    \n",
    "plt.tight_layout()"
   ]
  },
  {
   "cell_type": "markdown",
   "metadata": {},
   "source": [
    "## regression maps"
   ]
  },
  {
   "cell_type": "code",
   "execution_count": null,
   "metadata": {},
   "outputs": [],
   "source": [
    "SST_yrly_detr_ctrl = xr.open_dataarray(f'{path_samoc}/SST/SST_yrly_detr_ctrl.nc', decode_times=False)\n",
    "SST_yrly_detr_rcp  = xr.open_dataarray(f'{path_samoc}/SST/SST_yrly_detr_rcp.nc' , decode_times=False)\n",
    "SST_yrly_detr_lpd  = xr.open_dataarray(f'{path_samoc}/SST/SST_yrly_detr_lpd.nc' , decode_times=False)\n",
    "SST_yrly_detr_lpi  = xr.open_dataarray(f'{path_samoc}/SST/SST_yrly_detr_lpi.nc' , decode_times=False)"
   ]
  },
  {
   "cell_type": "code",
   "execution_count": null,
   "metadata": {},
   "outputs": [],
   "source": [
    "linregr_ctrl = lag_linregress_3D(chebychev(SOMi_detr_ctrl, 13), SST_yrly_detr_ctrl)"
   ]
  },
  {
   "cell_type": "code",
   "execution_count": null,
   "metadata": {},
   "outputs": [],
   "source": [
    "def cor_map(SSTi_detr, SST_yrly_detr, run, index_name):\n",
    "    \"\"\"\"\"\"\n",
    "    assert run in ['ctrl', 'rcp', 'lpi', 'lpd']\n",
    "    \n",
    "    if index_name=='AMO':\n",
    "        cntrl_lon = 0\n",
    "        mask = \n",
    "    elif index_name=='SOM':\n",
    "        cntrl_lon = -30\n",
    "    elif index_name=='IPO':\n",
    "        cntrl_lon = 200\n",
    "        \n",
    "    # calculate regression maps\n",
    "    ds = lag_linregress_3D(SSTi_detr, SST_yrly_detr, lagx=0, lagy=0)\n",
    "\n",
    "    # correlation & statistical significance\n",
    "    fig = plt.figure(figsize=(8,5))\n",
    "    ax  = fig.add_subplot(1, 1, 1, projection=ccrs.EqualEarth(central_longitude=cntrl_lon))\n",
    "    ax.set_position([.02,.05,.96,.93])\n",
    "    cax, kw = mpl.colorbar.make_axes(ax,location='bottom',pad=0.03,shrink=0.8)\n",
    "    im = ax.pcolormesh(ds.TLONG,\n",
    "                       ds.TLAT,\n",
    "                       ds.cor.values,\n",
    "                       cmap=discrete_cmap(12, cmocean.cm.balance),\n",
    "                       vmin=-1, vmax=1,\n",
    "                       transform=ccrs.PlateCarree() )\n",
    "    ax.add_feature(cartopy.feature.LAND, zorder=2, edgecolor='black', facecolor='w')\n",
    "    \n",
    "    if name in ['AMO', 'SOM']:\n",
    "        ax.add_patch(mpatches.Polygon(xy=rect_polygon(SST_index_bounds(name)),\n",
    "                                      facecolor='none',\n",
    "                                      edgecolor='k',\n",
    "                                      linewidth=2,\n",
    "                                      transform=ccrs.PlateCarree()))\n",
    "    elif name=='IPO':\n",
    "        for region in ['TPI1', 'TPI2', 'TPI3']:\n",
    "            ax.add_patch(mpatches.Polygon(xy=rect_polygon(SST_index_bounds(region)),\n",
    "                                      facecolor='none',\n",
    "                                      edgecolor='k',\n",
    "                                      linewidth=2,\n",
    "                                      transform=ccrs.PlateCarree()))\n",
    "\n",
    "    ax.text(0, 1, run, ha='left' , va='top', transform=ax.transAxes, fontsize=16)\n",
    "  \n",
    "    gl = ax.gridlines(crs=ccrs.PlateCarree(), draw_labels=False)\n",
    "    gl.ylocator = mticker.FixedLocator([-90, -60, -30, 0, 30, 60, 90])\n",
    "    gl.xlocator = mticker.FixedLocator([-180, -120, -60, 0, 60, 120, 180])\n",
    "    \n",
    "    cbar = fig.colorbar(im, cax=cax, extend='both', **kw)\n",
    "    cbar.ax.tick_params(labelsize=14)\n",
    "    label = cbar.set_label('correlation', size=16)\n",
    "    if filename!=None:  plt.savefig(filename, dpi=100)\n",
    "        \n",
    "    return\n",
    "\n"
   ]
  },
  {
   "cell_type": "code",
   "execution_count": null,
   "metadata": {},
   "outputs": [],
   "source": [
    "cor_map(SSTi_detr, SST_yrly_detr, run='lpd', index_name='AMO')"
   ]
  },
  {
   "cell_type": "code",
   "execution_count": null,
   "metadata": {},
   "outputs": [],
   "source": []
  }
 ],
 "metadata": {
  "kernelspec": {
   "display_name": "Python 3",
   "language": "python",
   "name": "python3"
  },
  "language_info": {
   "codemirror_mode": {
    "name": "ipython",
    "version": 3
   },
   "file_extension": ".py",
   "mimetype": "text/x-python",
   "name": "python",
   "nbconvert_exporter": "python",
   "pygments_lexer": "ipython3",
   "version": "3.6.6"
  }
 },
 "nbformat": 4,
 "nbformat_minor": 2
}
