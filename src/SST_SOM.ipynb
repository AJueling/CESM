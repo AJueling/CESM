{
 "cells": [
  {
   "cell_type": "markdown",
   "metadata": {},
   "source": [
    "# Sea Surface Temperature"
   ]
  },
  {
   "cell_type": "code",
   "execution_count": null,
   "metadata": {},
   "outputs": [],
   "source": [
    "import sys\n",
    "sys.path.append(\"..\")\n",
    "import scipy as sp\n",
    "import numpy as np\n",
    "import xarray as xr\n",
    "import seaborn as sns\n",
    "import cmocean\n",
    "import cartopy\n",
    "import cartopy.crs as ccrs\n",
    "import matplotlib as mpl\n",
    "import matplotlib.pyplot as plt\n",
    "import matplotlib.patches as mpatches"
   ]
  },
  {
   "cell_type": "code",
   "execution_count": null,
   "metadata": {},
   "outputs": [],
   "source": [
    "%matplotlib inline\n",
    "%config InlineBackend.print_figure_kwargs={'bbox_inches':None}\n",
    "%load_ext autoreload\n",
    "%autoreload 2\n",
    "%aimport - numpy - scipy - matplotlib.pyplot"
   ]
  },
  {
   "cell_type": "code",
   "execution_count": null,
   "metadata": {},
   "outputs": [],
   "source": [
    "from OHC import t2da, t2ds\n",
    "from SST import SST_index, EOF_SST_analysis\n",
    "from maps import map_robinson, map_eq_earth\n",
    "from grid import find_array_idx\n",
    "from paths import path_results, path_samoc, file_ex_ocn_ctrl, file_ex_ocn_rect, file_ex_ocn_lpd\n",
    "from regions import boolean_mask, SOM_area, global_ocean, SOM_mask\n",
    "from plotting import shifted_color_map, discrete_cmap\n",
    "from timeseries import IterateOutputCESM, lowpass\n",
    "from xr_DataArrays import xr_AREA\n",
    "from xr_regression import xr_linear_trends_2D, xr_linear_trend, ocn_field_regression"
   ]
  },
  {
   "cell_type": "markdown",
   "metadata": {},
   "source": [
    "# global yearly avg. SST map and trends"
   ]
  },
  {
   "cell_type": "code",
   "execution_count": null,
   "metadata": {},
   "outputs": [],
   "source": [
    "SST_yrly_ctrl = xr.open_dataarray(f'{path_samoc}/SST/SST_yrly_ctrl.nc')\n",
    "SST_yrly_rcp  = xr.open_dataarray(f'{path_samoc}/SST/SST_yrly_rcp.nc' )\n",
    "SST_yrly_lpd  = xr.open_dataarray(f'{path_samoc}/SST/SST_yrly_lpd.nc' )\n",
    "SST_yrly_lpi  = xr.open_dataarray(f'{path_samoc}/SST/SST_yrly_lpi.nc' )"
   ]
  },
  {
   "cell_type": "markdown",
   "metadata": {},
   "source": [
    "# SST indices"
   ]
  },
  {
   "cell_type": "code",
   "execution_count": null,
   "metadata": {},
   "outputs": [],
   "source": [
    "MASK_ocn  = boolean_mask('ocn'     , 0)\n",
    "MASK_low  = boolean_mask('ocn_low' , 0)\n",
    "MASK_rect = boolean_mask('ocn_rect', 0)"
   ]
  },
  {
   "cell_type": "code",
   "execution_count": null,
   "metadata": {},
   "outputs": [],
   "source": [
    "TAREA       = xr_AREA('ocn')\n",
    "AREA_low    = xr_AREA('ocn_low')\n",
    "AREA_rect   = xr_AREA('ocn_rect')"
   ]
  },
  {
   "cell_type": "markdown",
   "metadata": {},
   "source": [
    "# Southern Ocean"
   ]
  },
  {
   "cell_type": "markdown",
   "metadata": {},
   "source": [
    "## Southern Ocean Mode index\n",
    "annual SST anomaly (50S-35S, 0E-50W), here detrended"
   ]
  },
  {
   "cell_type": "code",
   "execution_count": null,
   "metadata": {},
   "outputs": [],
   "source": [
    "SOMi_area     = TAREA.where(SOM_mask('ocn')    ).sum()\n",
    "SOMi_area_low = AREA_low.where(SOM_mask('ocn_low')).sum()\n",
    "print(SOMi_area, SOMi_area_low)"
   ]
  },
  {
   "cell_type": "code",
   "execution_count": null,
   "metadata": {},
   "outputs": [],
   "source": [
    "%%time\n",
    "# 30 sec\n",
    "dims = ('nlat', 'nlon')\n",
    "SOMi_ctrl = SST_index(xa_SST=SST_yrly_ctrl, AREA=TAREA, index_loc=None, AREA_index=SOMi_area, MASK=SOM_mask('ocn'), dims=dims)\n",
    "SOMi_rcp  = SST_index(xa_SST=SST_yrly_rcp , AREA=TAREA, index_loc=None, AREA_index=SOMi_area, MASK=SOM_mask('ocn'), dims=dims)\n",
    "SOMi_lpd  = SST_index(xa_SST=SST_yrly_lpd , AREA=AREA_low, index_loc=None, AREA_index=SOMi_area_low, MASK=SOM_mask('ocn_low'), dims=dims)\n",
    "SOMi_lpi  = SST_index(xa_SST=SST_yrly_lpi , AREA=AREA_low, index_loc=None, AREA_index=SOMi_area_low, MASK=SOM_mask('ocn_low'), dims=dims)"
   ]
  },
  {
   "cell_type": "code",
   "execution_count": null,
   "metadata": {},
   "outputs": [],
   "source": [
    "def lin_detrend(ts):\n",
    "    lp = np.polyfit(ts.time, ts, 1)\n",
    "    detr = ts - (lp[1] + lp[0]*ts.time)\n",
    "    return detr"
   ]
  },
  {
   "cell_type": "code",
   "execution_count": null,
   "metadata": {},
   "outputs": [],
   "source": [
    "SOMi_detr_ctrl = lin_detrend(SOMi_ctrl)\n",
    "SOMi_detr_rcp  = lin_detrend(SOMi_rcp )\n",
    "SOMi_detr_lpd  = lin_detrend(SOMi_lpd )\n",
    "SOMi_detr_lpi  = lin_detrend(SOMi_lpi )\n",
    "\n",
    "SOMi_detr_ctrl.to_netcdf(f'{path_results}/SST/SOM_index_ctrl.nc')\n",
    "SOMi_detr_rcp .to_netcdf(f'{path_results}/SST/SOM_index_rcp.nc' )\n",
    "SOMi_detr_lpd .to_netcdf(f'{path_results}/SST/SOM_index_lpd.nc' )\n",
    "SOMi_detr_lpi .to_netcdf(f'{path_results}/SST/SOM_index_lpi.nc' )"
   ]
  },
  {
   "cell_type": "code",
   "execution_count": null,
   "metadata": {},
   "outputs": [],
   "source": [
    "f,ax = plt.subplots(2,1,figsize=(12,8), sharex=True)\n",
    "\n",
    "for i in range(2):\n",
    "    ax[i].tick_params(labelsize=14)\n",
    "    ax[1].set_xlabel('time [years]', fontsize=16)\n",
    "    \n",
    "ax[0].set_ylabel('SOM area temperature [$^\\circ$C]', fontsize=16)\n",
    "ax[0].plot(SOMi_ctrl.time/365+1900, SOMi_ctrl, lw=.5, ls=':', c='C0', label='yearly data')\n",
    "ax[0].plot(SOMi_rcp .time/365+ 200, SOMi_rcp , lw=.5, ls=':', c='C1')\n",
    "ax[0].plot(SOMi_lpd .time/365+1400, SOMi_lpd , lw=.5, ls=':', c='C2')\n",
    "ax[0].plot(SOMi_lpi .time/365-1600, SOMi_lpi , lw=.5, ls=':', c='C3')\n",
    "\n",
    "ax[0].plot(SOMi_ctrl.time/365+1900, lowpass(SOMi_ctrl.values, 15), c='C0', label='15 year lowpass filter')\n",
    "ax[0].plot(SOMi_rcp .time/365+ 200, lowpass(SOMi_rcp .values, 15), c='C1')\n",
    "ax[0].plot(SOMi_lpd .time/365+1400, lowpass(SOMi_lpd .values, 15), c='C2')\n",
    "ax[0].plot(SOMi_lpi .time/365-1600, lowpass(SOMi_lpi .values, 15), c='C3')\n",
    "\n",
    "ax[0].legend(fontsize=14, ncol=2, frameon=False)\n",
    "\n",
    "ax[1].set_ylabel('SOM index [$^\\circ$C]', fontsize=16)\n",
    "ax[1].axhline(0, c='k', lw=.5)\n",
    "ax[1].plot(SOMi_ctrl.time/365+1900, lowpass(SOMi_detr_ctrl.values,15), c='C0', label='detrended, 15 year lowpass filter')\n",
    "ax[1].plot(SOMi_rcp .time/365+ 200, lowpass(SOMi_detr_rcp .values,15), c='C1')\n",
    "ax[1].plot(SOMi_lpd .time/365+1400, lowpass(SOMi_detr_lpd .values,15), c='C2')\n",
    "ax[1].plot(SOMi_lpi .time/365-1600, lowpass(SOMi_detr_lpi .values,15), c='C3')\n",
    "\n",
    "ax[1].legend(fontsize=14, frameon=False)\n",
    "\n",
    "ax[0].text(   0, 12.5, 'pre-ind. low' , fontsize=16, color='C3')\n",
    "ax[0].text(1550, 12.5, 'pres. day low', fontsize=16, color='C2')\n",
    "ax[0].text(2000, 12.5, 'CTRL'         , fontsize=16, color='C0')\n",
    "ax[0].text(2200, 12.5, 'RCP'          , fontsize=16, color='C1')\n",
    "\n",
    "\n",
    "plt.tight_layout()\n",
    "plt.savefig(f'{path_results}/SST/SOM_overview')"
   ]
  },
  {
   "cell_type": "code",
   "execution_count": null,
   "metadata": {},
   "outputs": [],
   "source": [
    "SOMi_detr_ctrl = xr.open_dataarray(f'{path_results}/SST/SOM_index_ctrl.nc', decode_times=False)\n",
    "SOMi_detr_rcp  = xr.open_dataarray(f'{path_results}/SST/SOM_index_rcp.nc' , decode_times=False)\n"
   ]
  },
  {
   "cell_type": "code",
   "execution_count": null,
   "metadata": {},
   "outputs": [],
   "source": [
    "f = plt.figure(figsize=(8,5))\n",
    "ax = f.add_axes([0.13,0.13,.85,.85])\n",
    "plt.tick_params(labelsize=14)\n",
    "\n",
    "# plt.axhline(0,c='k', lw=.5)\n",
    "plt.plot(SOMi_ctrl.time/365     , SOMi_ctrl, c='C0', lw=.5)\n",
    "plt.plot(SOMi_rcp .time/365-1800, SOMi_rcp , c='C1', lw=.5)\n",
    "\n",
    "plt.plot(SOMi_ctrl.time/365     , SOMi_trend_ctrl[1] + SOMi_trend_ctrl[0]*SOMi_ctrl.time, ls='--')\n",
    "plt.plot(SOMi_rcp .time/365-1800, SOMi_trend_rcp [1] + SOMi_trend_rcp [0]*SOMi_rcp.time , ls='--')\n",
    "\n",
    "L1, = plt.plot(SOMi_ctrl.time/365     , SOMi_ctrl.rolling({'time':5}, center=True).mean(), c='C0', lw=2, label='CTRL')\n",
    "L2, = plt.plot(SOMi_rcp .time/365-1800, SOMi_rcp .rolling({'time':5}, center=True).mean(), c='C1', lw=2, label='RCP')\n",
    "\n",
    "plt.text(.02,.95, r'[35,50$^\\circ$S]$\\times$[-50,0$^\\circ$E]', ha='left',transform=ax.transAxes, fontsize=16)\n",
    "plt.xlabel('time [years]', fontsize=16)\n",
    "plt.ylabel('raw SOM index [K]', fontsize=16)\n",
    "plt.legend(fontsize=16, ncol=2, loc=4, handles=[L1, L2])\n",
    "# plt.savefig(f'{path_results}/SST/SOM_raw')"
   ]
  },
  {
   "cell_type": "code",
   "execution_count": null,
   "metadata": {},
   "outputs": [],
   "source": [
    "f = plt.figure(figsize=(8,5))\n",
    "ax = f.add_axes([0.13,0.13,.85,.85])\n",
    "plt.tick_params(labelsize=14)\n",
    "\n",
    "plt.axhline(0,c='k', lw=.5)\n",
    "plt.plot(SOMi_ctrl.time/365     , SOMi_detr_ctrl, c='C0', lw=.5)\n",
    "plt.plot(SOMi_rcp .time/365-1800, SOMi_detr_rcp , c='C1', lw=.5)\n",
    "plt.plot(SOMi_ctrl.time/365     , SOMi_detr_ctrl.rolling({'time':5}, center=True).mean(), c='C0', lw=2, label='CTRL')\n",
    "plt.plot(SOMi_rcp .time/365-1800, SOMi_detr_rcp .rolling({'time':5}, center=True).mean(), c='C1', lw=2, label='RCP')\n",
    "\n",
    "plt.text(.02,.95, r'[35,50$^\\circ$S]$\\times$[-50,0$^\\circ$E]', ha='left',transform=ax.transAxes, fontsize=16)\n",
    "plt.xlabel('time [years]', fontsize=16)\n",
    "plt.ylabel('SOM index [K]', fontsize=16)\n",
    "plt.legend(fontsize=16, ncol=2)\n",
    "# plt.savefig(f'{path_results}/SST/SOM_index')"
   ]
  }
 ],
 "metadata": {
  "kernelspec": {
   "display_name": "Python 3",
   "language": "python",
   "name": "python3"
  },
  "language_info": {
   "codemirror_mode": {
    "name": "ipython",
    "version": 3
   },
   "file_extension": ".py",
   "mimetype": "text/x-python",
   "name": "python",
   "nbconvert_exporter": "python",
   "pygments_lexer": "ipython3",
   "version": "3.6.6"
  }
 },
 "nbformat": 4,
 "nbformat_minor": 2
}
