{
 "cells": [
  {
   "cell_type": "markdown",
   "metadata": {},
   "source": [
    "# Sea Surface Temperature"
   ]
  },
  {
   "cell_type": "code",
   "execution_count": null,
   "metadata": {},
   "outputs": [],
   "source": [
    "import sys\n",
    "sys.path.append(\"..\")\n",
    "import scipy as sp\n",
    "import numpy as np\n",
    "import xarray as xr\n",
    "import seaborn as sns\n",
    "import cmocean\n",
    "import cartopy\n",
    "import cartopy.crs as ccrs\n",
    "import matplotlib as mpl\n",
    "import matplotlib.pyplot as plt\n",
    "import matplotlib.patches as mpatches"
   ]
  },
  {
   "cell_type": "code",
   "execution_count": null,
   "metadata": {},
   "outputs": [],
   "source": [
    "%matplotlib inline\n",
    "%config InlineBackend.print_figure_kwargs={'bbox_inches':None}\n",
    "%load_ext autoreload\n",
    "%autoreload 2\n",
    "%aimport - numpy - scipy - matplotlib.pyplot"
   ]
  },
  {
   "cell_type": "code",
   "execution_count": null,
   "metadata": {},
   "outputs": [],
   "source": [
    "from OHC import t2da, t2ds\n",
    "from SST import SST_index, EOF_SST_analysis\n",
    "from maps import map_robinson, map_eq_earth, rect_polygon\n",
    "from grid import find_array_idx\n",
    "from paths import path_results, path_samoc, file_ex_ocn_ctrl, file_ex_ocn_rect, file_ex_ocn_lpd\n",
    "from regions import boolean_mask, SOM_area, global_ocean, SOM_mask\n",
    "from plotting import shifted_color_map, discrete_cmap\n",
    "from timeseries import IterateOutputCESM, lowpass, chebychev\n",
    "from xr_DataArrays import xr_AREA\n",
    "from xr_regression import xr_lintrend, xr_linear_trends_2D, xr_linear_trend, ocn_field_regression, lag_linregress_3D"
   ]
  },
  {
   "cell_type": "code",
   "execution_count": null,
   "metadata": {},
   "outputs": [],
   "source": [
    "from regions import SOM_ocn, SOM_rect, SOM_low, SOM_had"
   ]
  },
  {
   "cell_type": "markdown",
   "metadata": {},
   "source": [
    "# global yearly avg. SST map and trends"
   ]
  },
  {
   "cell_type": "code",
   "execution_count": null,
   "metadata": {},
   "outputs": [],
   "source": [
    "SST_yrly_ctrl = xr.open_dataarray(f'{path_samoc}/SST/SST_yrly_ctrl.nc')\n",
    "SST_yrly_rcp  = xr.open_dataarray(f'{path_samoc}/SST/SST_yrly_rcp.nc' )\n",
    "SST_yrly_lpd  = xr.open_dataarray(f'{path_samoc}/SST/SST_yrly_lpd.nc' )\n",
    "SST_yrly_lpi  = xr.open_dataarray(f'{path_samoc}/SST/SST_yrly_lpi.nc' )\n",
    "SST_yrly_had  = xr.open_dataarray(f'{path_samoc}/SST/SST_yrly_had.nc' )"
   ]
  },
  {
   "cell_type": "markdown",
   "metadata": {},
   "source": [
    "# SST indices"
   ]
  },
  {
   "cell_type": "code",
   "execution_count": null,
   "metadata": {},
   "outputs": [],
   "source": [
    "MASK_ocn  = boolean_mask('ocn'     , 0)\n",
    "MASK_low  = boolean_mask('ocn_low' , 0)\n",
    "MASK_rect = boolean_mask('ocn_rect', 0)\n",
    "MASK_had  = boolean_mask('ocn_had' , 0)"
   ]
  },
  {
   "cell_type": "code",
   "execution_count": null,
   "metadata": {},
   "outputs": [],
   "source": [
    "AREA_ocn  = xr_AREA('ocn'     )\n",
    "AREA_low  = xr_AREA('ocn_low' )\n",
    "AREA_rect = xr_AREA('ocn_rect')\n",
    "AREA_had  = xr_AREA('ocn_had' )"
   ]
  },
  {
   "cell_type": "markdown",
   "metadata": {},
   "source": [
    "# Southern Ocean"
   ]
  },
  {
   "cell_type": "markdown",
   "metadata": {},
   "source": [
    "## Southern Ocean Mode index\n",
    "annual SST anomaly (50S-35S, 0E-50W), here detrended"
   ]
  },
  {
   "cell_type": "code",
   "execution_count": null,
   "metadata": {},
   "outputs": [],
   "source": [
    "[ np.arange(0,35), ]"
   ]
  },
  {
   "cell_type": "code",
   "execution_count": null,
   "metadata": {},
   "outputs": [],
   "source": [
    "MASK_low.sel({'nlon':[-2,6,8,9]})"
   ]
  },
  {
   "cell_type": "code",
   "execution_count": null,
   "metadata": {},
   "outputs": [],
   "source": [
    "for i in range(100):\n",
    "    print(i,MASK_low.TLAT[i,0].values)"
   ]
  },
  {
   "cell_type": "code",
   "execution_count": null,
   "metadata": {},
   "outputs": [],
   "source": [
    "AREA_low.nlat"
   ]
  },
  {
   "cell_type": "code",
   "execution_count": null,
   "metadata": {},
   "outputs": [],
   "source": [
    "SOM_area      = AREA_ocn .sel(SOM_ocn ).sum()\n",
    "SOM_area_low  = AREA_low .sel(SOM_low ).sum()\n",
    "SOM_area_rect = AREA_rect.sel(SOM_rect).sum()\n",
    "SOM_area_had  = AREA_had .sel(SOM_had ).sum()\n",
    "print(SOM_area, SOM_area_low, SOM_area_rect, SOM_area_had)"
   ]
  },
  {
   "cell_type": "code",
   "execution_count": null,
   "metadata": {},
   "outputs": [],
   "source": [
    "SOM_MASK      = MASK_ocn .where(SOM_ocn )\n",
    "SOM_MASK_low  = MASK_low .where(SOM_low )\n",
    "SOM_MASK_rect = MASK_rect.where(SOM_rect)\n",
    "SOM_MASK_had  = MASK_had .where(SOM_had )"
   ]
  },
  {
   "cell_type": "code",
   "execution_count": null,
   "metadata": {},
   "outputs": [],
   "source": [
    "SOM_MASK_low"
   ]
  },
  {
   "cell_type": "code",
   "execution_count": null,
   "metadata": {},
   "outputs": [],
   "source": [
    "%%time\n",
    "# 30 sec\n",
    "dims = ('nlat', 'nlon')\n",
    "SOM_ctrl = SST_index(xa_SST=SST_yrly_ctrl, AREA=TAREA   , index_loc=None, AREA_index=SOM_area    , MASK=SOM_mask    , dims=dims)\n",
    "SOM_rcp  = SST_index(xa_SST=SST_yrly_rcp , AREA=TAREA   , index_loc=None, AREA_index=SOM_area    , MASK=SOM_mask    , dims=dims)\n",
    "SOM_lpd  = SST_index(xa_SST=SST_yrly_lpd , AREA=AREA_low, index_loc=None, AREA_index=SOM_area_low, MASK=SOM_mask_low, dims=dims)\n",
    "SOM_lpi  = SST_index(xa_SST=SST_yrly_lpi , AREA=AREA_low, index_loc=None, AREA_index=SOM_area_low, MASK=SOM_mask_low, dims=dims)\n",
    "dims = ('latitude', 'longitude')\n",
    "SOM_had  = SST_index(xa_SST=SST_yrly_had , AREA=AREA_had, index_loc=None, AREA_index=SOM_area_had, MASK=SOM_mask_had, dims=dims)"
   ]
  },
  {
   "cell_type": "code",
   "execution_count": null,
   "metadata": {},
   "outputs": [],
   "source": [
    "f = plt.figure(figsize=(8,5))\n",
    "ax = f.add_axes([0.13,0.13,.85,.85])\n",
    "plt.tick_params(labelsize=14)\n",
    "\n",
    "# plt.axhline(0,c='k', lw=.5)\n",
    "plt.plot(SOM_ctrl.time/365     , SOMi_ctrl, c='C0')\n",
    "plt.plot(SOM_rcp .time/365-1800, SOMi_rcp , c='C1')\n",
    "\n",
    "plt.text(.02,.95, r'[35,50$^\\circ$S]$\\times$[-50,0$^\\circ$E]', ha='left',transform=ax.transAxes, fontsize=16)\n",
    "plt.xlabel('time [years]', fontsize=16)\n",
    "plt.ylabel('raw SOM index [K]', fontsize=16)\n",
    "plt.legend(fontsize=16, ncol=2, loc=4, handles=[L1, L2])\n",
    "# plt.savefig(f'{path_results}/SST/SOM_raw')"
   ]
  },
  {
   "cell_type": "code",
   "execution_count": null,
   "metadata": {},
   "outputs": [],
   "source": [
    "f,ax = plt.subplots(1,1,figsize=(12,5), sharex=True)\n",
    "\n",
    "ax.tick_params(labelsize=14)\n",
    "ax.set_xlabel('time [years]', fontsize=16)\n",
    "    \n",
    "ax.set_ylabel('SOM area temperature [$^\\circ$C]', fontsize=16)\n",
    "L1, = ax.plot(SOM_ctrl.time/365+1850, SOM_ctrl, lw=.5, ls=':', c='C0', label='yearly data')\n",
    "ax.plot(      SOM_rcp .time/365+ 200, SOM_rcp , lw=.5, ls=':', c='C1')\n",
    "ax.plot(      SOM_lpd .time/365+1350, SOM_lpd , lw=.5, ls=':', c='C2')\n",
    "ax.plot(      SOM_lpi .time/365-1600, SOM_lpi , lw=.5, ls=':', c='C3')\n",
    "\n",
    "L2, = ax.plot(SOM_ctrl.time/365+1850, lowpass(SOM_ctrl, 13), c='C0', label='lowpass 13 yr')\n",
    "ax.plot(      SOM_rcp .time/365+ 200, lowpass(SOM_rcp , 13), c='C1')\n",
    "ax.plot(      SOM_lpd .time/365+1350, lowpass(SOM_lpd , 13), c='C2')\n",
    "ax.plot(      SOM_lpi .time/365-1600, lowpass(SOM_lpi , 13), c='C3')\n",
    "\n",
    "L3, = ax.plot(SOM_ctrl.time/365+1850, xr_lintrend(SOM_ctrl)+1, c='C0', ls='-.', lw=1.5, label='linear trend (1 K offset)')\n",
    "ax.plot(      SOM_rcp .time/365+ 200, xr_lintrend(SOM_rcp )+1, c='C1', ls='-.', lw=1.5)\n",
    "ax.plot(      SOM_lpd .time/365+1350, xr_lintrend(SOM_lpd )+1, c='C2', ls='-.', lw=1.5)\n",
    "ax.plot(      SOM_lpi .time/365-1600, xr_lintrend(SOM_lpi )+1, c='C3', ls='-.', lw=1.5)\n",
    "\n",
    "ax.legend(handles=[L1,L2,L3], fontsize=14, ncol=3, frameon=False)\n",
    "\n",
    "ax.text(1950, 12.3, 'CTRL'         , fontsize=16, color='C0')\n",
    "ax.text(2200, 12.3, 'RCP'          , fontsize=16, color='C1')\n",
    "ax.text(1500, 12.3, 'pres. day low', fontsize=16, color='C2')\n",
    "ax.text(   0, 12.3, 'pre-ind. low' , fontsize=16, color='C3')\n",
    "\n",
    "plt.tight_layout()\n",
    "plt.savefig(f'{path_results}/SST/SOM_overview_raw')"
   ]
  },
  {
   "cell_type": "markdown",
   "metadata": {},
   "source": [
    "detrended"
   ]
  },
  {
   "cell_type": "code",
   "execution_count": null,
   "metadata": {},
   "outputs": [],
   "source": [
    "%%time\n",
    "SOM_detr_ctrl = SOM_ctrl - xr_lintrend(SOM_ctrl)\n",
    "SOM_detr_rcp  = SOM_rcp  - xr_lintrend(SOM_rcp )\n",
    "SOM_detr_lpd  = SOM_lpd  - xr_lintrend(SOM_lpd )\n",
    "SOM_detr_lpi  = SOM_lpi  - xr_lintrend(SOM_lpi )\n",
    "\n",
    "SOM_detr_ctrl.to_netcdf(f'{path_results}/SST/SOM_index_ctrl.nc')\n",
    "SOM_detr_rcp .to_netcdf(f'{path_results}/SST/SOM_index_rcp.nc' )\n",
    "SOM_detr_lpd .to_netcdf(f'{path_results}/SST/SOM_index_lpd.nc' )\n",
    "SOM_detr_lpi .to_netcdf(f'{path_results}/SST/SOM_index_lpi.nc' )"
   ]
  },
  {
   "cell_type": "code",
   "execution_count": null,
   "metadata": {},
   "outputs": [],
   "source": [
    "SOM_detr_ctrl = xr.open_dataarray(f'{path_results}/SST/SOM_index_ctrl.nc', decode_times=False)\n",
    "SOM_detr_rcp  = xr.open_dataarray(f'{path_results}/SST/SOM_index_rcp.nc' , decode_times=False)\n",
    "SOM_detr_lpd  = xr.open_dataarray(f'{path_results}/SST/SOM_index_lpd.nc' , decode_times=False)\n",
    "SOM_detr_lpi  = xr.open_dataarray(f'{path_results}/SST/SOM_index_lpi.nc' , decode_times=False)"
   ]
  },
  {
   "cell_type": "code",
   "execution_count": null,
   "metadata": {},
   "outputs": [],
   "source": [
    "%%time\n",
    "SOM_cheb13_dt_ctrl = chebychev(SOM_ctrl,13) - xr_lintrend(chebychev(SOM_ctrl,13))\n",
    "SOM_cheb13_dt_rcp  = chebychev(SOM_rcp ,13) - xr_lintrend(chebychev(SOM_rcp ,13))\n",
    "SOM_cheb13_dt_lpd  = chebychev(SOM_lpd ,13) - xr_lintrend(chebychev(SOM_lpd ,13))\n",
    "SOM_cheb13_dt_lpi  = chebychev(SOM_lpi ,13) - xr_lintrend(chebychev(SOM_lpi ,13))\n",
    "\n",
    "SOM_cheb13_dt_ctrl.to_netcdf(f'{path_results}/SST/SOM_cheb13_index_ctrl.nc')\n",
    "SOM_cheb13_dt_rcp .to_netcdf(f'{path_results}/SST/SOM_cheb13_index_rcp.nc' )\n",
    "SOM_cheb13_dt_lpd .to_netcdf(f'{path_results}/SST/SOM_cheb13_index_lpd.nc' )\n",
    "SOM_cheb13_dt_lpi .to_netcdf(f'{path_results}/SST/SOM_cheb13_index_lpi.nc' )"
   ]
  },
  {
   "cell_type": "code",
   "execution_count": null,
   "metadata": {},
   "outputs": [],
   "source": [
    "SOM_cheb13_dt_ctrl = xr.open_dataarray(f'{path_results}/SST/SOM_cheb13_index_ctrl.nc', decode_times=False)\n",
    "SOM_cheb13_dt_rcp  = xr.open_dataarray(f'{path_results}/SST/SOM_cheb13_index_rcp.nc' , decode_times=False)\n",
    "SOM_cheb13_dt_lpd  = xr.open_dataarray(f'{path_results}/SST/SOM_cheb13_index_lpd.nc' , decode_times=False)\n",
    "SOM_cheb13_dt_lpi  = xr.open_dataarray(f'{path_results}/SST/SOM_cheb13_index_lpi.nc' , decode_times=False)"
   ]
  },
  {
   "cell_type": "code",
   "execution_count": null,
   "metadata": {},
   "outputs": [],
   "source": [
    "SOM_dt_ctrl.plot()\n",
    "SOM_cheb13_dt_ctrl.plot()"
   ]
  },
  {
   "cell_type": "code",
   "execution_count": null,
   "metadata": {},
   "outputs": [],
   "source": [
    "f,ax = plt.subplots(1,1,figsize=(12,5), sharex=True)\n",
    "\n",
    "ax.tick_params(labelsize=14)\n",
    "ax.set_xlabel('time [years]', fontsize=16)\n",
    "\n",
    "ax.text(1950, .3, 'CTRL'         , fontsize=16, color='C0')\n",
    "ax.text(2200, .3, 'RCP'          , fontsize=16, color='C1')\n",
    "ax.text(1500, .3, 'pres. day low', fontsize=16, color='C2')\n",
    "ax.text(   0, .3, 'pre-ind. low' , fontsize=16, color='C3')\n",
    "\n",
    "\n",
    "ax.set_ylabel('lin. detr. SOM index [$^\\circ$C]', fontsize=16)\n",
    "ax.axhline(0, c='k', lw=.5)\n",
    "ax.plot(SOM_ctrl.time/365+1850, SOMi_cheb13_dt_ctrl.values, c='C0', ls='-', label='chebychev 13 yr')\n",
    "ax.plot(SOM_rcp .time/365+ 200, SOMi_cheb13_dt_rcp .values, c='C1', ls='-')\n",
    "ax.plot(SOM_lpd .time/365+1350, SOMi_cheb13_dt_lpd .values, c='C2', ls='-')\n",
    "ax.plot(SOM_lpi .time/365-1600, SOMi_cheb13_dt_lpi .values, c='C3', ls='-')\n",
    "\n",
    "# ax.plot(SOMi_ctrl.time/365+1850, lowpass(SOMi_cheb13_detr_ctrl.values, 40), c='C0', lw=2, label='lowpass 40 yr')\n",
    "# ax.plot(SOMi_rcp .time/365+ 200, lowpass(SOMi_cheb13_detr_rcp .values, 40), c='C1', lw=2)\n",
    "# ax.plot(SOMi_lpd .time/365+1350, lowpass(SOMi_cheb13_detr_lpd .values, 40), c='C2', lw=2)\n",
    "# ax.plot(SOMi_lpi .time/365-1600, lowpass(SOMi_cheb13_detr_lpi .values, 40), c='C3', lw=2)\n",
    "\n",
    "ax.legend(fontsize=14, ncol=2, frameon=False, loc=4)\n",
    "ax.set_xticks(np.arange(0,2400,200))\n",
    "\n",
    "plt.tight_layout()\n",
    "plt.savefig(f'{path_results}/SST/SOM_overview')"
   ]
  },
  {
   "cell_type": "markdown",
   "metadata": {},
   "source": [
    "## spectra"
   ]
  },
  {
   "cell_type": "code",
   "execution_count": null,
   "metadata": {},
   "outputs": [],
   "source": [
    "SOMs = [SOM_ctrl, SOM_rcp, SOM_lpd, SOM_lpi]\n",
    "\n",
    "f, ax = plt.subplots(1, 1, figsize=(8,5), sharey=True)\n",
    "ax.set_ylabel('spectral power', fontsize=16)\n",
    "\n",
    "for i in range (4):\n",
    "    label= ['CTRL', 'RCP', 'LPD', 'LPI'][i]\n",
    "    f, Pxx = sp.signal.welch(SOMs[i]-xr_lintrend(SOMs[i]), fs=1)\n",
    "    ax.loglog(1/f, np.sqrt(Pxx), label=label)\n",
    "\n",
    "ax.tick_params(labelsize=14)\n",
    "ax.set_xlabel('period [yr]', fontsize=16)\n",
    "ax.legend(fontsize=14, frameon=False)\n",
    "    \n",
    "plt.tight_layout()"
   ]
  },
  {
   "cell_type": "code",
   "execution_count": null,
   "metadata": {},
   "outputs": [],
   "source": []
  }
 ],
 "metadata": {
  "kernelspec": {
   "display_name": "Python 3",
   "language": "python",
   "name": "python3"
  },
  "language_info": {
   "codemirror_mode": {
    "name": "ipython",
    "version": 3
   },
   "file_extension": ".py",
   "mimetype": "text/x-python",
   "name": "python",
   "nbconvert_exporter": "python",
   "pygments_lexer": "ipython3",
   "version": "3.6.6"
  }
 },
 "nbformat": 4,
 "nbformat_minor": 2
}
