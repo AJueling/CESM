{
 "cells": [
  {
   "cell_type": "markdown",
   "metadata": {},
   "source": [
    "# Southern Ocean Mode index\n",
    "annual SST anomaly (50S-35S, 0E-50W), here detrended"
   ]
  },
  {
   "cell_type": "code",
   "execution_count": null,
   "metadata": {},
   "outputs": [],
   "source": [
    "import sys\n",
    "sys.path.append(\"..\")\n",
    "import scipy as sp\n",
    "import numpy as np\n",
    "import xarray as xr\n",
    "import seaborn as sns\n",
    "import cmocean\n",
    "import cartopy\n",
    "import cartopy.crs as ccrs\n",
    "import matplotlib as mpl\n",
    "import matplotlib.pyplot as plt\n",
    "import matplotlib.patches as mpatches"
   ]
  },
  {
   "cell_type": "code",
   "execution_count": null,
   "metadata": {},
   "outputs": [],
   "source": [
    "%matplotlib inline\n",
    "%config InlineBackend.print_figure_kwargs={'bbox_inches':None}\n",
    "%load_ext autoreload\n",
    "%autoreload 2\n",
    "%aimport - numpy - scipy - matplotlib.pyplot"
   ]
  },
  {
   "cell_type": "code",
   "execution_count": null,
   "metadata": {},
   "outputs": [],
   "source": [
    "from OHC import t2da, t2ds\n",
    "from SST import SST_index, EOF_SST_analysis\n",
    "from maps import map_robinson, map_eq_earth, rect_polygon\n",
    "from grid import find_array_idx\n",
    "from paths import path_results, path_samoc, file_ex_ocn_ctrl, file_ex_ocn_rect, file_ex_ocn_lpd\n",
    "from regions import bll_SOM\n",
    "from plotting import shifted_color_map, discrete_cmap\n",
    "from timeseries import IterateOutputCESM, lowpass, chebychev\n",
    "from xr_regression import xr_lintrend, xr_linear_trends_2D, xr_linear_trend, ocn_field_regression, lag_linregress_3D"
   ]
  },
  {
   "cell_type": "code",
   "execution_count": null,
   "metadata": {},
   "outputs": [],
   "source": [
    "from SST_indices import SOM_index"
   ]
  },
  {
   "cell_type": "code",
   "execution_count": null,
   "metadata": {},
   "outputs": [],
   "source": [
    "(blats, blons) = bll_SOM"
   ]
  },
  {
   "cell_type": "code",
   "execution_count": null,
   "metadata": {},
   "outputs": [],
   "source": [
    "%%time\n",
    "SOM_ctrl = SOM_index('ctrl')\n",
    "SOM_rcp  = SOM_index('rcp')\n",
    "SOM_lpi  = SOM_index('lpi')\n",
    "SOM_lpd  = SOM_index('lpd')\n",
    "SOM_had  = SOM_index('had')"
   ]
  },
  {
   "cell_type": "code",
   "execution_count": null,
   "metadata": {},
   "outputs": [],
   "source": [
    "f = plt.figure(figsize=(8,5))\n",
    "ax = f.add_axes([0.13,0.13,.85,.85])\n",
    "plt.tick_params(labelsize=14)\n",
    "\n",
    "# plt.axhline(0,c='k', lw=.5)\n",
    "plt.plot(SOM_ctrl.time/365     , SOM_ctrl, c='C0')\n",
    "plt.plot(SOM_rcp .time/365-1800, SOM_rcp , c='C1')\n",
    "\n",
    "plt.text(.02,.95, r'[35,50$^\\circ$S]$\\times$[-50,0$^\\circ$E]', ha='left',transform=ax.transAxes, fontsize=16)\n",
    "plt.xlabel('time [years]', fontsize=16)\n",
    "plt.ylabel('raw SOM index [K]', fontsize=16)\n",
    "plt.legend(fontsize=16, ncol=2, loc=4, handles=[L1, L2])\n",
    "# plt.savefig(f'{path_results}/SST/SOM_raw')"
   ]
  },
  {
   "cell_type": "code",
   "execution_count": null,
   "metadata": {},
   "outputs": [],
   "source": [
    "f,ax = plt.subplots(1,1,figsize=(12,5), sharex=True)\n",
    "\n",
    "ax.tick_params(labelsize=14)\n",
    "ax.set_xlabel('time [years]', fontsize=16)\n",
    "    \n",
    "ax.set_ylabel('SOM area temperature [$^\\circ$C]', fontsize=16)\n",
    "L1, = ax.plot(SOM_ctrl.time/365+1850, SOM_ctrl, lw=.5, ls=':', c='C0', label='yearly data')\n",
    "ax.plot(      SOM_rcp .time/365+ 200, SOM_rcp , lw=.5, ls=':', c='C1')\n",
    "ax.plot(      SOM_lpd .time/365+1350, SOM_lpd , lw=.5, ls=':', c='C2')\n",
    "ax.plot(      SOM_lpi .time/365-1600, SOM_lpi , lw=.5, ls=':', c='C3')\n",
    "ax.plot(      SOM_had .time/365+2350, SOM_had , lw=.5, ls=':', c='C4')\n",
    "\n",
    "L2, = ax.plot(SOM_ctrl.time/365+1850, lowpass(SOM_ctrl, 13), c='C0', label='lowpass 13 yr')\n",
    "ax.plot(      SOM_rcp .time/365+ 200, lowpass(SOM_rcp , 13), c='C1')\n",
    "ax.plot(      SOM_lpd .time/365+1350, lowpass(SOM_lpd , 13), c='C2')\n",
    "ax.plot(      SOM_lpi .time/365-1600, lowpass(SOM_lpi , 13), c='C3')\n",
    "ax.plot(      SOM_had .time/365+2350, lowpass(SOM_had , 13), c='C4')\n",
    "\n",
    "L3, = ax.plot(SOM_ctrl.time/365+1850, xr_lintrend(SOM_ctrl)+1, c='C0', ls='-.', lw=1.5, label='linear trend (1 K offset)')\n",
    "ax.plot(      SOM_rcp .time/365+ 200, xr_lintrend(SOM_rcp )+1, c='C1', ls='-.', lw=1.5)\n",
    "ax.plot(      SOM_lpd .time/365+1350, xr_lintrend(SOM_lpd )+1, c='C2', ls='-.', lw=1.5)\n",
    "ax.plot(      SOM_lpi .time/365-1600, xr_lintrend(SOM_lpi )+1, c='C3', ls='-.', lw=1.5)\n",
    "ax.plot(      SOM_had .time/365+2350, xr_lintrend(SOM_had )+1, c='C4', ls='-.', lw=1.5)\n",
    "\n",
    "ax.legend(handles=[L1,L2,L3], fontsize=14, ncol=3, frameon=False)\n",
    "\n",
    "ax.text(1950, 12.3, 'CTRL'         , fontsize=16, color='C0')\n",
    "ax.text(2200, 12.3, 'RCP'          , fontsize=16, color='C1')\n",
    "ax.text(1500, 12.3, 'pres. day low', fontsize=16, color='C2')\n",
    "ax.text(   0, 12.3, 'pre-ind. low' , fontsize=16, color='C3')\n",
    "ax.text(2350, 14, 'HadISST'      , fontsize=16, color='C4')\n",
    "\n",
    "plt.tight_layout()\n",
    "plt.savefig(f'{path_results}/SST/SOM_overview_raw')"
   ]
  },
  {
   "cell_type": "markdown",
   "metadata": {},
   "source": [
    "detrended"
   ]
  },
  {
   "cell_type": "code",
   "execution_count": null,
   "metadata": {},
   "outputs": [],
   "source": [
    "%%time\n",
    "SOM_cheb13_dt_ctrl = chebychev(SOM_ctrl,13) - xr_lintrend(chebychev(SOM_ctrl,13))\n",
    "SOM_cheb13_dt_rcp  = chebychev(SOM_rcp ,13) - xr_lintrend(chebychev(SOM_rcp ,13))\n",
    "SOM_cheb13_dt_lpd  = chebychev(SOM_lpd ,13) - xr_lintrend(chebychev(SOM_lpd ,13))\n",
    "SOM_cheb13_dt_lpi  = chebychev(SOM_lpi ,13) - xr_lintrend(chebychev(SOM_lpi ,13))\n",
    "SOM_cheb13_dt_had  = chebychev(SOM_had ,13) - xr_lintrend(chebychev(SOM_had ,13))\n",
    "\n",
    "SOM_cheb13_dt_ctrl.to_netcdf(f'{path_samoc}/SST/SOM_cheb13_index_ctrl.nc')\n",
    "SOM_cheb13_dt_rcp .to_netcdf(f'{path_samoc}/SST/SOM_cheb13_index_rcp.nc' )\n",
    "SOM_cheb13_dt_lpd .to_netcdf(f'{path_samoc}/SST/SOM_cheb13_index_lpd.nc' )\n",
    "SOM_cheb13_dt_lpi .to_netcdf(f'{path_samoc}/SST/SOM_cheb13_index_lpi.nc' )\n",
    "SOM_cheb13_dt_had .to_netcdf(f'{path_samoc}/SST/SOM_cheb13_index_had.nc' )\n"
   ]
  },
  {
   "cell_type": "code",
   "execution_count": null,
   "metadata": {},
   "outputs": [],
   "source": [
    "SOM_cheb13_dt_ctrl = xr.open_dataarray(f'{path_samoc}/SST/SOM_cheb13_index_ctrl.nc', decode_times=False)\n",
    "SOM_cheb13_dt_rcp  = xr.open_dataarray(f'{path_samoc}/SST/SOM_cheb13_index_rcp.nc' , decode_times=False)\n",
    "SOM_cheb13_dt_lpd  = xr.open_dataarray(f'{path_samoc}/SST/SOM_cheb13_index_lpd.nc' , decode_times=False)\n",
    "SOM_cheb13_dt_lpi  = xr.open_dataarray(f'{path_samoc}/SST/SOM_cheb13_index_lpi.nc' , decode_times=False)\n",
    "SOM_cheb13_dt_had  = xr.open_dataarray(f'{path_samoc}/SST/SOM_cheb13_index_had.nc' , decode_times=False)\n"
   ]
  },
  {
   "cell_type": "code",
   "execution_count": null,
   "metadata": {},
   "outputs": [],
   "source": [
    "SOM_cheb13_dt_ctrl"
   ]
  },
  {
   "cell_type": "code",
   "execution_count": null,
   "metadata": {},
   "outputs": [],
   "source": [
    "# SOM_ctrl.plot()\n",
    "# chebychev(SOM_ctrl,13).plot()\n",
    "SOM_cheb13_dt_ctrl.plot()\n",
    "# xr_lintrend(chebychev(SOM_ctrl,13)).plot()\n",
    "# (chebychev(SOM_ctrl,13) - xr_lintrend(chebychev(SOM_ctrl,13))).plot()"
   ]
  },
  {
   "cell_type": "code",
   "execution_count": null,
   "metadata": {},
   "outputs": [],
   "source": [
    "f,ax = plt.subplots(1,1,figsize=(12,5), sharex=True)\n",
    "\n",
    "ax.tick_params(labelsize=14)\n",
    "ax.set_xlabel('time [years]', fontsize=16)\n",
    "\n",
    "ax.text(1950, .3, 'CTRL'         , fontsize=16, color='C0')\n",
    "ax.text(2200, .3, 'RCP'          , fontsize=16, color='C1')\n",
    "ax.text(1500, .3, 'pres. day low', fontsize=16, color='C2')\n",
    "ax.text(   0, .3, 'pre-ind. low' , fontsize=16, color='C3')\n",
    "\n",
    "\n",
    "ax.set_ylabel('lin. detr. SOM index [$^\\circ$C]', fontsize=16)\n",
    "ax.axhline(0, c='k', lw=.5)\n",
    "ax.plot(SOM_ctrl.time/365+1850, SOM_cheb13_dt_ctrl.values, c='C0', ls='-', label='chebychev 13 yr')\n",
    "ax.plot(SOM_rcp .time/365+ 200, SOM_cheb13_dt_rcp .values, c='C1', ls='-')\n",
    "ax.plot(SOM_lpd .time/365+1350, SOM_cheb13_dt_lpd .values, c='C2', ls='-')\n",
    "ax.plot(SOM_lpi .time/365-1600, SOM_cheb13_dt_lpi .values, c='C3', ls='-')\n",
    "ax.plot(SOM_had .time/365+2350, SOM_cheb13_dt_had .values, c='C4', ls='-')\n",
    "\n",
    "ax.legend(fontsize=14, ncol=2, frameon=False, loc=4)\n",
    "ax.set_xticks(np.arange(0,2400,200))\n",
    "\n",
    "plt.tight_layout()\n",
    "plt.savefig(f'{path_results}/SST/SOM_overview')"
   ]
  },
  {
   "cell_type": "markdown",
   "metadata": {},
   "source": [
    "## spectra"
   ]
  },
  {
   "cell_type": "code",
   "execution_count": null,
   "metadata": {},
   "outputs": [],
   "source": [
    "SOMs = [SOM_ctrl, SOM_rcp, SOM_lpd, SOM_lpi, SOM_had]\n",
    "\n",
    "f, ax = plt.subplots(1, 1, figsize=(8,5), sharey=True)\n",
    "ax.set_ylabel('spectral power', fontsize=16)\n",
    "\n",
    "for i in range (5):\n",
    "    label= ['CTRL', 'RCP', 'LPD', 'LPI', 'Had'][i]\n",
    "    f, Pxx = sp.signal.welch(SOMs[i]-xr_lintrend(SOMs[i]), fs=1)\n",
    "    ax.loglog(1/f, np.sqrt(Pxx), label=label)\n",
    "\n",
    "ax.tick_params(labelsize=14)\n",
    "ax.set_xlabel('period [yr]', fontsize=16)\n",
    "ax.legend(fontsize=14, frameon=False)\n",
    "    \n",
    "plt.tight_layout()"
   ]
  },
  {
   "cell_type": "code",
   "execution_count": null,
   "metadata": {},
   "outputs": [],
   "source": []
  }
 ],
 "metadata": {
  "kernelspec": {
   "display_name": "Python 3",
   "language": "python",
   "name": "python3"
  },
  "language_info": {
   "codemirror_mode": {
    "name": "ipython",
    "version": 3
   },
   "file_extension": ".py",
   "mimetype": "text/x-python",
   "name": "python",
   "nbconvert_exporter": "python",
   "pygments_lexer": "ipython3",
   "version": "3.6.6"
  }
 },
 "nbformat": 4,
 "nbformat_minor": 2
}
