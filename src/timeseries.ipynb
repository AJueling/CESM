{
 "cells": [
  {
   "cell_type": "code",
   "execution_count": null,
   "metadata": {},
   "outputs": [],
   "source": [
    "# import pickle\n",
    "import os\n",
    "import sys\n",
    "sys.path.append(\"..\")\n",
    "import scipy as sp\n",
    "import numpy as np\n",
    "import xarray as xr\n",
    "import seaborn as sns\n",
    "import cartopy\n",
    "import cartopy.crs as ccrs\n",
    "import scipy.signal as signal\n",
    "import matplotlib.pyplot as plt\n",
    "import matplotlib.patches as mpatches"
   ]
  },
  {
   "cell_type": "code",
   "execution_count": null,
   "metadata": {},
   "outputs": [],
   "source": [
    "%matplotlib inline\n",
    "%config InlineBackend.print_figure_kwargs={'bbox_inches':None}\n",
    "%load_ext autoreload\n",
    "%autoreload 2\n",
    "%aimport - numpy - scipy - matplotlib.pyplot"
   ]
  },
  {
   "cell_type": "code",
   "execution_count": null,
   "metadata": {},
   "outputs": [],
   "source": [
    "from paths import path_samoc, path_results, path_CESM\n",
    "from paths import path_ocn_ctrl, path_ocn_ctrl_rect\n",
    "from paths import path_ocn_rcp,  path_ocn_rcp_rect\n",
    "from paths import CESM_filename, file_ex_ocn_rect\n",
    "from timeseries import IterateOutputCESM, yrly_avg_nc, lowpass, chebychev"
   ]
  },
  {
   "cell_type": "markdown",
   "metadata": {},
   "source": [
    "# filtering"
   ]
  },
  {
   "cell_type": "code",
   "execution_count": null,
   "metadata": {},
   "outputs": [],
   "source": [
    "b, a = sp.signal.cheby1(4, 1, 100, 'low', analog=True)\n",
    "w, h = sp.signal.freqs(b, a)\n",
    "plt.plot(w, 20 * np.log10(abs(h)), label='chebychev')\n",
    "plt.xscale('log')\n",
    "plt.title(' frequency response (rp=5)')\n",
    "plt.xlabel('Frequency [radians / second]')\n",
    "plt.ylabel('Amplitude [dB]')\n",
    "plt.margins(0, 0.1)\n",
    "plt.grid(which='both', axis='both')\n",
    "plt.axhline(0, c='k', lw=.5) # rp\n",
    "\n",
    "b, a = sp.signal.butter(4, 100, 'low', analog=True)\n",
    "w, h = sp.signal.freqs(b, a)\n",
    "plt.plot(w, 20 * np.log10(abs(h)), label='butterworth')\n",
    "plt.xscale('log')\n",
    "plt.title('Butterworth/Chebychev filter frequency response')\n",
    "plt.xlabel('Frequency [radians / second]')\n",
    "plt.ylabel('Amplitude [dB]')\n",
    "plt.margins(0, 0.1)\n",
    "plt.grid(which='both', axis='both')\n",
    "plt.axvline(100, color='green', label='cutoff frequency')\n",
    "\n",
    "plt.legend()\n",
    "plt.tight_layout()"
   ]
  },
  {
   "cell_type": "markdown",
   "metadata": {},
   "source": [
    "### notch filter"
   ]
  },
  {
   "cell_type": "code",
   "execution_count": null,
   "metadata": {},
   "outputs": [],
   "source": [
    "from timeseries import "
   ]
  },
  {
   "cell_type": "code",
   "execution_count": null,
   "metadata": {},
   "outputs": [],
   "source": [
    "test = [np.sin(i*np.pi/12) for i in range(240)]\n",
    "noise = .5*np.random.rand((len(test)))\n",
    "trend = np.arange(0,1,1/len(test))\n",
    "test2 = test+noise\n",
    "test3 = test+noise+trend"
   ]
  },
  {
   "cell_type": "code",
   "execution_count": null,
   "metadata": {},
   "outputs": [],
   "source": [
    "plt.figure(figsize=(8,5))\n",
    "plt.axhline(0, c='k', lw=.5)\n",
    "plt.plot(test, label='sin(t)')\n",
    "plt.plot(trend, label='trend')\n",
    "plt.plot(noise, label='noise')\n",
    "plt.plot(noise+trend, label='noise+trend')\n",
    "plt.plot(test2, label='sin(t)+noise')\n",
    "plt.plot(test3, label='sin(t)+noise+trend')\n",
    "# plt.plot(notch(test,12))\n",
    "plt.plot(notch(test2,12), label='notch(sin+noise)')\n",
    "plt.plot(notch(test3,12), label='notch(sin+noise+trend)')\n",
    "plt.legend()"
   ]
  },
  {
   "cell_type": "markdown",
   "metadata": {},
   "source": [
    "deseasonalizing example: see SST_PDO.ipynb"
   ]
  },
  {
   "cell_type": "markdown",
   "metadata": {},
   "source": [
    "# averaging timeseries and creating new netCDF files"
   ]
  },
  {
   "cell_type": "code",
   "execution_count": null,
   "metadata": {},
   "outputs": [],
   "source": [
    "# len(IterateOutputCESM(domain='atm', run='lpi', tavg='monthly', name=None))"
   ]
  },
  {
   "cell_type": "code",
   "execution_count": null,
   "metadata": {},
   "outputs": [],
   "source": [
    "# for y, m, s in IterateOutputCESM(domain='atm', run='lpi', tavg='monthly'):\n",
    "#     if m==1: print(y)"
   ]
  },
  {
   "cell_type": "code",
   "execution_count": null,
   "metadata": {},
   "outputs": [],
   "source": [
    "%%time\n",
    "yrly_avg_nc('ocn', 'ctrl', ['UVEL', 'VVEL'], test=False)\n",
    "yrly_avg_nc('ocn', 'rcp' , ['UVEL', 'VVEL'], test=False)"
   ]
  },
  {
   "cell_type": "code",
   "execution_count": null,
   "metadata": {},
   "outputs": [],
   "source": [
    "# %%time\n",
    "# yrly_avg_nc('ocn', 'ctrl', ['TEMP', 'PD'], test=False)\n",
    "# yrly_avg_nc('ocn', 'rcp' , ['TEMP', 'PD'], test=False)"
   ]
  },
  {
   "cell_type": "code",
   "execution_count": null,
   "metadata": {},
   "outputs": [],
   "source": [
    "# %%time\n",
    "# yrly_avg_nc('ocn', 'ctrl', ['SHF'], test=False)\n",
    "# yrly_avg_nc('ocn', 'rcp', ['SHF'], test=False)"
   ]
  },
  {
   "cell_type": "code",
   "execution_count": null,
   "metadata": {},
   "outputs": [],
   "source": [
    "# %%time\n",
    "# yrly_avg_nc('atm', 'lpi', ['T', 'T850', 'U', 'V'], test=False)\n",
    "# yrly_avg_nc('atm', 'rcp' , ['T', 'T850', 'U', 'V'], test=False)"
   ]
  },
  {
   "cell_type": "code",
   "execution_count": null,
   "metadata": {},
   "outputs": [],
   "source": [
    "# # %%time\n",
    "# yrly_avg_nc('atm', 'ctrl', ['FSNT', 'FLNT'], test=False)\n",
    "# yrly_avg_nc('atm', 'rcp', ['FSNT', 'FLNT'], test=False)"
   ]
  },
  {
   "cell_type": "markdown",
   "metadata": {},
   "source": [
    "# Statistical testing"
   ]
  },
  {
   "cell_type": "code",
   "execution_count": null,
   "metadata": {},
   "outputs": [],
   "source": [
    "SST_yrly_detr_ctrl = xr.open_dataarray(f'{path_samoc}/SST/SST_yrly_detr_ctrl.nc', decode_times=False)\n",
    "AMO_ctrl = xr.open_dataarray(f'{path_results}/SST/AMO_yrly_ctrl.nc', decode_times=False)"
   ]
  },
  {
   "cell_type": "code",
   "execution_count": null,
   "metadata": {},
   "outputs": [],
   "source": [
    "X1 = SST_yrly_detr_ctrl[:, 1000,1000]\n",
    "X2 = SST_yrly_detr_ctrl[:, 2000,1000]\n",
    "X3 = SST_yrly_detr_ctrl[:, 1000,2000]"
   ]
  },
  {
   "cell_type": "code",
   "execution_count": null,
   "metadata": {},
   "outputs": [],
   "source": [
    "X1.plot()\n",
    "X2.plot()\n",
    "X3.plot()"
   ]
  },
  {
   "cell_type": "code",
   "execution_count": null,
   "metadata": {},
   "outputs": [],
   "source": [
    "def batch_act(X, m):\n",
    "    \"\"\"estimating autocorrelation time from batch method \n",
    "    X .. time series\n",
    "    m .. number of batches\n",
    "    \"\"\"\n",
    "    n = int(np.floor(len(X)/m))\n",
    "    tau = 0\n",
    "    for i in range(m):\n",
    "        sm   = np.var(X[i*n:(i+1)*n]) \n",
    "        s    = np.var(X)\n",
    "        tau += sm**2/s**2\n",
    "#         print(tau)\n",
    "    return tau"
   ]
  },
  {
   "cell_type": "code",
   "execution_count": null,
   "metadata": {},
   "outputs": [],
   "source": [
    "for i in np.arange(1, 20):\n",
    "    print(f'{i:2d}: {batch_act(X1.values, i):5.2f}, {batch_act(X2.values, i):5.2f}, {batch_act(X3.values, i):5.2f}')\n",
    "\n"
   ]
  },
  {
   "cell_type": "code",
   "execution_count": null,
   "metadata": {},
   "outputs": [],
   "source": [
    "AMO_ctrl.plot()\n",
    "chebychev(AMO_ctrl, 13).plot()\n"
   ]
  },
  {
   "cell_type": "code",
   "execution_count": null,
   "metadata": {},
   "outputs": [],
   "source": []
  },
  {
   "cell_type": "code",
   "execution_count": null,
   "metadata": {},
   "outputs": [],
   "source": [
    "def auto_correlate(X):\n",
    "#     X_ac = np.correlate(X, X, mode='full')[len(X):]\n",
    "#     print(np.var(X))\n",
    "#     X_ac = (np.correlate(X, X, mode='full')/(np.var(X)))[len(X):]\n",
    "    X_ac = np.zeros((len(X)-1))\n",
    "    for t in np.arange(1,len(X)-1):\n",
    "        X_shifted = np.zeros((len(X)))\n",
    "        X_shifted[t:] = X[:-t]\n",
    "        X_ac[t-1] = np.corrcoef(X, X_shifted)[0,1]\n",
    "    tau_X = 1 + 2*np.sum(X_ac)\n",
    "    return X_ac, tau_X\n",
    "\n",
    "def running_mean(x, N):\n",
    "    cumsum = np.cumsum(np.insert(x, 0, 0)) \n",
    "    return (cumsum[N:] - cumsum[:-N]) / float(N)"
   ]
  },
  {
   "cell_type": "code",
   "execution_count": null,
   "metadata": {},
   "outputs": [],
   "source": [
    "plt.plot(auto_correlate(X)[0])"
   ]
  },
  {
   "cell_type": "markdown",
   "metadata": {},
   "source": [
    "## effective sample size"
   ]
  },
  {
   "cell_type": "code",
   "execution_count": null,
   "metadata": {},
   "outputs": [],
   "source": [
    "n = 1000\n",
    "for i in range(20):\n",
    "    # np.random.seed(seed=42)\n",
    "    X = np.random.normal(size=(n))\n",
    "    X = X-X.mean()\n",
    "    X10 = running_mean(X, 100)\n",
    "    # X10 = X10-X10.mean()\n",
    "#     plt.plot(X)\n",
    "    # plt.plot(lowpass(X, 100)[49:-50])\n",
    "#     plt.plot(np.arange(49,n-50), X10)\n",
    "\n",
    "    X_ac, tau_X = auto_correlate(X)\n",
    "    X10_ac, tau_X10 = auto_correlate(X10)\n",
    "    print(i, n, int(n/tau_X), int(n/tau_X10))"
   ]
  },
  {
   "cell_type": "code",
   "execution_count": null,
   "metadata": {},
   "outputs": [],
   "source": [
    "plt.hist(X)"
   ]
  },
  {
   "cell_type": "code",
   "execution_count": null,
   "metadata": {},
   "outputs": [],
   "source": [
    "X_ac, tau_X = auto_correlate(X)\n",
    "X10_ac, tau_X10 = auto_correlate(X10)"
   ]
  },
  {
   "cell_type": "code",
   "execution_count": null,
   "metadata": {},
   "outputs": [],
   "source": [
    "print(X_ac.sum(),X10_ac.sum())"
   ]
  },
  {
   "cell_type": "code",
   "execution_count": null,
   "metadata": {},
   "outputs": [],
   "source": [
    "plt.axhline(0)\n",
    "plt.plot(X_ac[49:-50])\n",
    "# plt.plot(X10_ac)"
   ]
  },
  {
   "cell_type": "code",
   "execution_count": null,
   "metadata": {},
   "outputs": [],
   "source": [
    "print(n, n/tau_X, n/tau_X10)"
   ]
  },
  {
   "cell_type": "code",
   "execution_count": null,
   "metadata": {},
   "outputs": [],
   "source": [
    "plt.scatter(X[49:-50], X10)\n",
    "np.corrcoef(X[49:-50], X10)"
   ]
  },
  {
   "cell_type": "code",
   "execution_count": null,
   "metadata": {},
   "outputs": [],
   "source": []
  },
  {
   "cell_type": "code",
   "execution_count": null,
   "metadata": {},
   "outputs": [],
   "source": []
  }
 ],
 "metadata": {
  "kernelspec": {
   "display_name": "Python 3",
   "language": "python",
   "name": "python3"
  },
  "language_info": {
   "codemirror_mode": {
    "name": "ipython",
    "version": 3
   },
   "file_extension": ".py",
   "mimetype": "text/x-python",
   "name": "python",
   "nbconvert_exporter": "python",
   "pygments_lexer": "ipython3",
   "version": "3.6.6"
  }
 },
 "nbformat": 4,
 "nbformat_minor": 2
}
