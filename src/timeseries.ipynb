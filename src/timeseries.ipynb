{
 "cells": [
  {
   "cell_type": "code",
   "execution_count": null,
   "metadata": {},
   "outputs": [],
   "source": [
    "# import pickle\n",
    "import os\n",
    "import sys\n",
    "sys.path.append(\"..\")\n",
    "import scipy as sp\n",
    "import numpy as np\n",
    "import xarray as xr\n",
    "import seaborn as sns\n",
    "import cartopy\n",
    "import cartopy.crs as ccrs\n",
    "import matplotlib.pyplot as plt\n",
    "import matplotlib.patches as mpatches"
   ]
  },
  {
   "cell_type": "code",
   "execution_count": null,
   "metadata": {},
   "outputs": [],
   "source": [
    "%matplotlib inline\n",
    "%config InlineBackend.print_figure_kwargs={'bbox_inches':None}\n",
    "%load_ext autoreload\n",
    "%autoreload 2\n",
    "%aimport - numpy - scipy - matplotlib.pyplot"
   ]
  },
  {
   "cell_type": "code",
   "execution_count": null,
   "metadata": {},
   "outputs": [],
   "source": [
    "from paths import path_CESM\n",
    "from paths import path_ocn_ctrl, path_ocn_ctrl_rect\n",
    "from paths import path_ocn_rcp,  path_ocn_rcp_rect\n",
    "from paths import CESM_filename, file_ex_ocn_rect\n",
    "from timeseries import IterateOutputCESM, yrly_avg_nc"
   ]
  },
  {
   "cell_type": "code",
   "execution_count": null,
   "metadata": {},
   "outputs": [],
   "source": [
    "%%time\n",
    "len(IterateOutputCESM(domain='atm', run='lpi', tavg='monthly', name=None))\n",
    "#     print(y)"
   ]
  },
  {
   "cell_type": "code",
   "execution_count": null,
   "metadata": {},
   "outputs": [],
   "source": [
    "for y, m, s in IterateOutputCESM(domain='atm', run='lpi', tavg='monthly'):\n",
    "    if m==1: print(y)"
   ]
  },
  {
   "cell_type": "code",
   "execution_count": null,
   "metadata": {},
   "outputs": [],
   "source": [
    "%%time\n",
    "yrly_avg_nc('ocn', 'ctrl', ['UVEL', 'VVEL'], test=False)\n",
    "yrly_avg_nc('ocn', 'rcp' , ['UVEL', 'VVEL'], test=False)"
   ]
  },
  {
   "cell_type": "code",
   "execution_count": null,
   "metadata": {},
   "outputs": [],
   "source": [
    "# %%time\n",
    "# yrly_avg_nc('ocn', 'ctrl', ['TEMP', 'PD'], test=False)\n",
    "# yrly_avg_nc('ocn', 'rcp' , ['TEMP', 'PD'], test=False)"
   ]
  },
  {
   "cell_type": "code",
   "execution_count": null,
   "metadata": {},
   "outputs": [],
   "source": [
    "# %%time\n",
    "# yrly_avg_nc('ocn', 'ctrl', ['SHF'], test=False)\n",
    "# yrly_avg_nc('ocn', 'rcp', ['SHF'], test=False)"
   ]
  },
  {
   "cell_type": "code",
   "execution_count": null,
   "metadata": {},
   "outputs": [],
   "source": [
    "%%time\n",
    "yrly_avg_nc('atm', 'lpi', ['T', 'T850', 'U', 'V'], test=False)\n",
    "# yrly_avg_nc('atm', 'rcp' , ['T', 'T850', 'U', 'V'], test=False)"
   ]
  },
  {
   "cell_type": "code",
   "execution_count": null,
   "metadata": {},
   "outputs": [],
   "source": [
    "# %%time\n",
    "yrly_avg_nc('atm', 'ctrl', ['FSNT', 'FLNT'], test=False)\n",
    "yrly_avg_nc('atm', 'rcp', ['FSNT', 'FLNT'], test=False)"
   ]
  },
  {
   "cell_type": "code",
   "execution_count": null,
   "metadata": {},
   "outputs": [],
   "source": []
  }
 ],
 "metadata": {
  "kernelspec": {
   "display_name": "Python 3",
   "language": "python",
   "name": "python3"
  },
  "language_info": {
   "codemirror_mode": {
    "name": "ipython",
    "version": 3
   },
   "file_extension": ".py",
   "mimetype": "text/x-python",
   "name": "python",
   "nbconvert_exporter": "python",
   "pygments_lexer": "ipython3",
   "version": "3.6.6"
  }
 },
 "nbformat": 4,
 "nbformat_minor": 2
}
