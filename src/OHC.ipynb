{
 "cells": [
  {
   "cell_type": "markdown",
   "metadata": {},
   "source": [
    "# Ocean Heat Contant"
   ]
  },
  {
   "cell_type": "markdown",
   "metadata": {},
   "source": [
    "$OHC = \\Delta T \\times c_p \\times \\rho \\times V$\n",
    "\n",
    "unit conversion to SI\n",
    "- $c_p$: erg/g/K = 1e-7J / 1e-3kg / K = 1e-4 J/kg/K $\\rightarrow$ 3996 J/kg/K\n",
    "- $\\rho$: g/cm^3 = 1e3 kg/m^3"
   ]
  },
  {
   "cell_type": "code",
   "execution_count": null,
   "metadata": {},
   "outputs": [],
   "source": [
    "# import pickle\n",
    "import sys\n",
    "sys.path.append(\"..\")\n",
    "import scipy as sp\n",
    "import numpy as np\n",
    "import xarray as xr\n",
    "import seaborn as sns\n",
    "import cartopy\n",
    "import cartopy.crs as ccrs\n",
    "import matplotlib.pyplot as plt\n",
    "import matplotlib.patches as mpatches"
   ]
  },
  {
   "cell_type": "code",
   "execution_count": null,
   "metadata": {},
   "outputs": [],
   "source": [
    "%matplotlib inline\n",
    "%config InlineBackend.print_figure_kwargs={'bbox_inches':None}\n",
    "%load_ext autoreload\n",
    "%autoreload 2\n",
    "%aimport - numpy - scipy - matplotlib.pyplot"
   ]
  },
  {
   "cell_type": "code",
   "execution_count": null,
   "metadata": {},
   "outputs": [],
   "source": [
    "# plt.style.use('dark_background')\n",
    "sns.set()\n",
    "sns.set_palette(\"tab10\")\n",
    "sns.set_context(\"notebook\", font_scale=1)"
   ]
  },
  {
   "cell_type": "code",
   "execution_count": null,
   "metadata": {},
   "outputs": [],
   "source": [
    "from paths import file_ex_ohc_hires, file_ex_ocn_ctrl, file_ex_ocn_rcp"
   ]
  },
  {
   "cell_type": "code",
   "execution_count": null,
   "metadata": {},
   "outputs": [],
   "source": [
    "xa0 = xr.open_dataset(file_ex_ohc_hires, decode_times=False)\n",
    "xa1 = xr.open_dataset(file_ex_ocn_ctrl, decode_times=False)\n",
    "xa2 = xr.open_dataset(file_ex_ocn_rcp, decode_times=False)"
   ]
  },
  {
   "cell_type": "code",
   "execution_count": null,
   "metadata": {},
   "outputs": [],
   "source": [
    "xa0"
   ]
  },
  {
   "cell_type": "code",
   "execution_count": null,
   "metadata": {},
   "outputs": [],
   "source": [
    "print(f'ohc file: {len(xa0.variables):3}\\n{list(xa0.variables)}')\n",
    "print(f'ctrl file: {len(xa1.variables):3}\\n{list(xa1.variables)}')\n",
    "print(f'rcp file: {len(xa2.variables):3}\\n{list(xa2.variables)}')"
   ]
  },
  {
   "cell_type": "code",
   "execution_count": null,
   "metadata": {},
   "outputs": [],
   "source": [
    "xa1.cp_sw"
   ]
  },
  {
   "cell_type": "code",
   "execution_count": null,
   "metadata": {},
   "outputs": [],
   "source": [
    "xa1.PD"
   ]
  },
  {
   "cell_type": "code",
   "execution_count": null,
   "metadata": {},
   "outputs": [],
   "source": [
    "from paths import CESM_filename\n",
    "from constants import cp_sw\n",
    "from timeseries import IterateOutputCESM\n",
    "from xr_DataArrays import create_xr_DataArray, generate_xr_DZ, generate_xr_AREA\n",
    "from xr_integrate import  xr_vol_int"
   ]
  },
  {
   "cell_type": "code",
   "execution_count": null,
   "metadata": {},
   "outputs": [],
   "source": [
    "len(IterateOutputCESM('ocn', 'ctrl', 'yrly'))"
   ]
  },
  {
   "cell_type": "code",
   "execution_count": null,
   "metadata": {},
   "outputs": [],
   "source": [
    "def OHC_timeseries(run):\n",
    "    \"\"\" creates timeseries of OHC fields\n",
    "    \n",
    "    \"\"\"\n",
    "    assert run=='rcp' or run=='ctrl'\n",
    "    \n",
    "    DZT = generate_xr_DZ('ocn_hires_fbc')\n",
    "    # find number of years\n",
    "    \n",
    "    \n",
    "    return\n",
    "\n",
    "def OHC(run, y, DZT, TAREA):\n",
    "    \"\"\" calculates OHC fields \n",
    "    \n",
    "    input:\n",
    "    run                   .. (str) ctrl or rcp\n",
    "    y                     .. year\n",
    "    \n",
    "    output:\n",
    "    OHC_global            ..\n",
    "    OHC_levels            ..\n",
    "    OHC_levels_zonal_int  ..\n",
    "    OHC_levels_zonal_mean ..\n",
    "    \"\"\"\n",
    "    \n",
    "    assert run=='rcp' or run=='ctrl'\n",
    "    file = CESM_filename(domain='ocn', run=run, y=y, m=0, name='TEMP_PD')\n",
    "    ds = xr.open_dataset(file, decode_times=False)\n",
    "    \n",
    "    # create netCDF file\n",
    "    \n",
    "    \n",
    "#     OHC = ds.TEMP[:,:,:] * ds.PD[:,:,:] * cp_sw  # [J/m^3]\n",
    "    \n",
    "    OHC_global, OHC_levels, OHC_levels_zonal_int, OHC_levels_zonal_mean =\\\n",
    "    xr_vol_int(ds.TEMP[:,:,:].where(DZT!=0), TAREA, DZT, levels=True, zonal=True)\n",
    "#     xr_vol_int(OHC, TAREA, DZT, levels=True, zonal=True)\n",
    "\n",
    "    return OHC_global, OHC_levels, OHC_levels_zonal_int, OHC_levels_zonal_mean"
   ]
  },
  {
   "cell_type": "code",
   "execution_count": null,
   "metadata": {},
   "outputs": [],
   "source": [
    "DZT   = generate_xr_DZ('ocn_hires_fbc')\n",
    "TAREA = generate_xr_AREA('ocn_hires')"
   ]
  },
  {
   "cell_type": "code",
   "execution_count": null,
   "metadata": {},
   "outputs": [],
   "source": [
    "%%time\n",
    "OHC_global, OHC_levels, OHC_levels_zonal_int, OHC_levels_zonal_mean = \\\n",
    "OHC('ctrl', 200, DZT, TAREA)"
   ]
  },
  {
   "cell_type": "code",
   "execution_count": null,
   "metadata": {},
   "outputs": [],
   "source": [
    "plt.imshow(OHC_levels_zonal_mean)"
   ]
  },
  {
   "cell_type": "code",
   "execution_count": null,
   "metadata": {},
   "outputs": [],
   "source": [
    "print(OHC_global)\n",
    "f, ax = plt.subplots(1, 3, figsize=(12,6), sharey=True)\n",
    "ax[0].plot(OHC_levels, np.arange(42))\n",
    "ax[1].imshow(OHC_levels_zonal_int, aspect='auto')\n",
    "ax[2].imshow(OHC_levels_zonal_mean, aspect='auto')"
   ]
  },
  {
   "cell_type": "code",
   "execution_count": null,
   "metadata": {},
   "outputs": [],
   "source": [
    "xs = xr.open_dataset(file_ex_ocn_ctrl, decode_times=False)\n",
    "OHC = xs.TEMP[0,:,:,:] * xs.PD[0,:,:,:]/1e3 * xs.cp_sw/1e4"
   ]
  },
  {
   "cell_type": "code",
   "execution_count": null,
   "metadata": {},
   "outputs": [],
   "source": [
    "OHC"
   ]
  },
  {
   "cell_type": "code",
   "execution_count": null,
   "metadata": {},
   "outputs": [],
   "source": [
    "plt.imshow(OHC[0,:,:])"
   ]
  },
  {
   "cell_type": "code",
   "execution_count": null,
   "metadata": {},
   "outputs": [],
   "source": [
    "\n",
    "plt.imshow(OHC[:,:,3000], aspect='auto')\n",
    "plt.colorbar()"
   ]
  },
  {
   "cell_type": "code",
   "execution_count": null,
   "metadata": {},
   "outputs": [],
   "source": [
    " = xr_zonal_int(xa[k,:,:]*DZ[k,:,:], AREA, dx, lat_name)"
   ]
  },
  {
   "cell_type": "code",
   "execution_count": null,
   "metadata": {},
   "outputs": [],
   "source": [
    "np.shape(OHC_levels_zonal_int)"
   ]
  },
  {
   "cell_type": "code",
   "execution_count": null,
   "metadata": {},
   "outputs": [],
   "source": [
    "print(OHC_global)\n",
    "plt.figure()\n",
    "plt.plot(OHC_levels)\n",
    "\n",
    "plt.figure()\n",
    "plt.imshow(OHC_levels_zonal_int, aspect='auto')\n",
    "plt.colorbar()\n",
    "\n",
    "plt.figure()\n",
    "plt.imshow(OHC_levels_zonal_mean, aspect='auto')\n",
    "plt.colorbar()"
   ]
  },
  {
   "cell_type": "code",
   "execution_count": null,
   "metadata": {},
   "outputs": [],
   "source": [
    "DZT = generate_xr_DZ()\n",
    "ONES, C, imt, jmt, km = create_xr_DataArray(file=file_ex_ocn_hires, n=3, fill=1)"
   ]
  },
  {
   "cell_type": "code",
   "execution_count": null,
   "metadata": {},
   "outputs": [],
   "source": [
    "OHC_global, OHC_levels = xr_vol_int(xa1.TEMP[0,:,:,:]*xa1.cp_sw/1e4*xa1.RHO[0,:,:,:]/1e3, xa1.TAREA, DZT)"
   ]
  },
  {
   "cell_type": "code",
   "execution_count": null,
   "metadata": {},
   "outputs": [],
   "source": [
    "plt.plot(OHC_levels)\n",
    "print(OHC_global)"
   ]
  },
  {
   "cell_type": "code",
   "execution_count": null,
   "metadata": {},
   "outputs": [],
   "source": [
    "OHC_global_rene, OHC_levels_rene = xr_vol_int(xa0.OHC[0,:,:,:], ONES[0,:,:], ONES.where(xa0.OHC[0,:,:,:]<1))"
   ]
  },
  {
   "cell_type": "code",
   "execution_count": null,
   "metadata": {},
   "outputs": [],
   "source": [
    "plt.imshow(xa0.OHC[0,0,:,:], vmax=1)\n",
    "plt.colorbar()"
   ]
  },
  {
   "cell_type": "code",
   "execution_count": null,
   "metadata": {},
   "outputs": [],
   "source": [
    "plt.plot(OHC_levels_rene)"
   ]
  },
  {
   "cell_type": "code",
   "execution_count": null,
   "metadata": {},
   "outputs": [],
   "source": []
  }
 ],
 "metadata": {
  "kernelspec": {
   "display_name": "Python 3",
   "language": "python",
   "name": "python3"
  },
  "language_info": {
   "codemirror_mode": {
    "name": "ipython",
    "version": 3
   },
   "file_extension": ".py",
   "mimetype": "text/x-python",
   "name": "python",
   "nbconvert_exporter": "python",
   "pygments_lexer": "ipython3",
   "version": "3.6.6"
  }
 },
 "nbformat": 4,
 "nbformat_minor": 2
}
