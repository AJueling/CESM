{
 "cells": [
  {
   "cell_type": "markdown",
   "metadata": {},
   "source": [
    "# Ocean Heat Contant"
   ]
  },
  {
   "cell_type": "markdown",
   "metadata": {},
   "source": [
    "$OHC = \\Delta T \\times c_p \\times \\rho \\times V$\n",
    "\n",
    "unit conversion to SI\n",
    "- $c_p$: erg/g/K = 1e-7J / 1e-3kg / K = 1e-4 J/kg/K $\\rightarrow$ 3996 J/kg/K\n",
    "- $\\rho$: g/cm^3 = 1e3 kg/m^3"
   ]
  },
  {
   "cell_type": "code",
   "execution_count": null,
   "metadata": {},
   "outputs": [],
   "source": [
    "# import pickle\n",
    "import sys\n",
    "sys.path.append(\"..\")\n",
    "import scipy as sp\n",
    "import numpy as np\n",
    "import xarray as xr\n",
    "import seaborn as sns\n",
    "import cartopy\n",
    "import cartopy.crs as ccrs\n",
    "import matplotlib.pyplot as plt\n",
    "import matplotlib.patches as mpatches"
   ]
  },
  {
   "cell_type": "code",
   "execution_count": null,
   "metadata": {},
   "outputs": [],
   "source": [
    "%matplotlib inline\n",
    "%config InlineBackend.print_figure_kwargs={'bbox_inches':None}\n",
    "%load_ext autoreload\n",
    "%autoreload 2\n",
    "%aimport - numpy - scipy - matplotlib.pyplot"
   ]
  },
  {
   "cell_type": "code",
   "execution_count": null,
   "metadata": {},
   "outputs": [],
   "source": [
    "# plt.style.use('dark_background')\n",
    "# sns.set()\n",
    "# sns.set_palette(\"tab10\")\n",
    "# sns.set_context(\"notebook\", font_scale=1)"
   ]
  },
  {
   "cell_type": "code",
   "execution_count": null,
   "metadata": {},
   "outputs": [],
   "source": [
    "from paths import file_ex_ohc_hires, file_ex_ocn_ctrl, file_ex_ocn_rcp"
   ]
  },
  {
   "cell_type": "code",
   "execution_count": null,
   "metadata": {},
   "outputs": [],
   "source": [
    "from OHC import OHC_integrals\n",
    "from paths import CESM_filename, path_samoc\n",
    "from constants import cp_sw\n",
    "from timeseries import IterateOutputCESM\n",
    "from xr_DataArrays import create_xr_DataArray, xr_DZ,xr_AREA, xr_HTN, xr_LATS\n",
    "from xr_integrate import  xr_vol_int"
   ]
  },
  {
   "cell_type": "code",
   "execution_count": null,
   "metadata": {},
   "outputs": [],
   "source": [
    "from regions import boolean_mask"
   ]
  },
  {
   "cell_type": "code",
   "execution_count": null,
   "metadata": {},
   "outputs": [],
   "source": [
    "from xr_integrate import xr_int_zonal, xr_int_zonal_level"
   ]
  },
  {
   "cell_type": "markdown",
   "metadata": {},
   "source": [
    "# calculating OHC arrays"
   ]
  },
  {
   "cell_type": "code",
   "execution_count": null,
   "metadata": {},
   "outputs": [],
   "source": [
    "%%time\n",
    "# 1:03-1:20 for 1 year\n",
    "OHC = OHC_integrals(domain='ocn', run='ctrl', mask_nr=0)\n",
    "OHC"
   ]
  },
  {
   "cell_type": "code",
   "execution_count": null,
   "metadata": {},
   "outputs": [],
   "source": [
    "%%time\n",
    "# 1:03-1:20 for 1 year\n",
    "OHC = OHC_integrals(domain='ocn', run='ctrl', mask_nr=0)\n",
    "OHC"
   ]
  },
  {
   "cell_type": "code",
   "execution_count": null,
   "metadata": {},
   "outputs": [],
   "source": [
    "OHC.OHC_zonal.sum()#*111000"
   ]
  },
  {
   "cell_type": "markdown",
   "metadata": {},
   "source": [
    "# Analysis"
   ]
  },
  {
   "cell_type": "code",
   "execution_count": null,
   "metadata": {},
   "outputs": [],
   "source": [
    "OHC_ctrl = xr.open_dataset(f'{path_samoc}/OHC/OHC_integrals_ctrl.nc', decode_times=False)\n",
    "OHC_rcp  = xr.open_dataset(f'{path_samoc}/OHC/OHC_integrals_rcp.nc' , decode_times=False)"
   ]
  },
  {
   "cell_type": "code",
   "execution_count": null,
   "metadata": {},
   "outputs": [],
   "source": [
    "# global integrals\n",
    "plt.plot(OHC_ctrl.OHC_global/1e21, label='CTRL')\n",
    "plt.plot(OHC_rcp.OHC_global /1e21, label='RCP')\n",
    "plt.legend()\n",
    "plt.ylim((2.49e2, 2.53e2))"
   ]
  },
  {
   "cell_type": "code",
   "execution_count": null,
   "metadata": {},
   "outputs": [],
   "source": [
    "# zonal integrals\n",
    "plt.figure()\n",
    "OHC_ctrl.OHC_global_levels.T.plot(vmax=2e22)\n",
    "\n",
    "plt.figure()\n",
    "OHC_rcp.OHC_global_levels.T.plot()"
   ]
  },
  {
   "cell_type": "code",
   "execution_count": null,
   "metadata": {},
   "outputs": [],
   "source": [
    "# lat-depth section\n",
    "plt.figure()\n",
    "OHC_ctrl.OHC_zonal_levels[0,:,:].T.plot()\n",
    "# plt.colorbar()\n",
    "\n",
    "plt.figure()\n",
    "OHC_rcp.OHC_zonal_levels[0,:,:].T.plot()\n",
    "# plt.colorbar()\n"
   ]
  },
  {
   "cell_type": "code",
   "execution_count": null,
   "metadata": {},
   "outputs": [],
   "source": [
    "from xr_regression import xr_linear_trends_2D"
   ]
  },
  {
   "cell_type": "code",
   "execution_count": null,
   "metadata": {},
   "outputs": [],
   "source": [
    "# trends\n",
    "OHC_zonal_levels_trend_ctrl = xr_linear_trends_2D(OHC_ctrl.OHC_zonal_levels, ('lat', 'depth_t'))\n",
    "OHC_zonal_levels_trend_rcp  = xr_linear_trends_2D(OHC_rcp.OHC_zonal_levels , ('lat', 'depth_t'))"
   ]
  },
  {
   "cell_type": "code",
   "execution_count": null,
   "metadata": {},
   "outputs": [],
   "source": [
    "OHC_zonal_levels_trend_ctrl"
   ]
  },
  {
   "cell_type": "code",
   "execution_count": null,
   "metadata": {},
   "outputs": [],
   "source": [
    "np.shape(X)"
   ]
  },
  {
   "cell_type": "code",
   "execution_count": null,
   "metadata": {},
   "outputs": [],
   "source": [
    "plt.figure(figsize=(8,5))\n",
    "X, Y = np.meshgrid(OHC_zonal_levels_trend_ctrl.lat, OHC_zonal_levels_trend_ctrl.depth_t)\n",
    "plt.pcolormesh(X,Y,  OHC_zonal_levels_trend_ctrl.values)\n",
    "# OHC_zonal_levels_trend_ctrl.plot()\n",
    "# plt.figure()\n",
    "# OHC_zonal_levels_trend_rcp.plot()"
   ]
  },
  {
   "cell_type": "code",
   "execution_count": null,
   "metadata": {},
   "outputs": [],
   "source": [
    "OHC_rcp_vert_trend = xr_linear_trends_2D(OHC_rcp.OHC_vertical, ('lat', 'lon'))"
   ]
  },
  {
   "cell_type": "code",
   "execution_count": null,
   "metadata": {},
   "outputs": [],
   "source": [
    "OHC_rcp_vert_trend.plot()"
   ]
  },
  {
   "cell_type": "code",
   "execution_count": null,
   "metadata": {},
   "outputs": [],
   "source": []
  }
 ],
 "metadata": {
  "kernelspec": {
   "display_name": "Python 3",
   "language": "python",
   "name": "python3"
  },
  "language_info": {
   "codemirror_mode": {
    "name": "ipython",
    "version": 3
   },
   "file_extension": ".py",
   "mimetype": "text/x-python",
   "name": "python",
   "nbconvert_exporter": "python",
   "pygments_lexer": "ipython3",
   "version": "3.6.6"
  }
 },
 "nbformat": 4,
 "nbformat_minor": 2
}
