{
 "cells": [
  {
   "cell_type": "markdown",
   "metadata": {},
   "source": [
    "# Ocean Heat Contant"
   ]
  },
  {
   "cell_type": "markdown",
   "metadata": {},
   "source": [
    "$OHC = \\Delta T \\times c_p \\times \\rho \\times V$\n",
    "\n",
    "unit conversion to SI\n",
    "- $c_p$: erg/g/K = 1e-7J / 1e-3kg / K = 1e-4 J/kg/K $\\rightarrow$ 3996 J/kg/K\n",
    "- $\\rho$: g/cm^3 = 1e3 kg/m^3"
   ]
  },
  {
   "cell_type": "code",
   "execution_count": null,
   "metadata": {},
   "outputs": [],
   "source": [
    "# import pickle\n",
    "import sys\n",
    "sys.path.append(\"..\")\n",
    "import scipy as sp\n",
    "import numpy as np\n",
    "import xarray as xr\n",
    "import seaborn as sns\n",
    "import cartopy\n",
    "import cartopy.crs as ccrs\n",
    "import matplotlib.pyplot as plt\n",
    "import matplotlib.patches as mpatches"
   ]
  },
  {
   "cell_type": "code",
   "execution_count": null,
   "metadata": {},
   "outputs": [],
   "source": [
    "%matplotlib inline\n",
    "%config InlineBackend.print_figure_kwargs={'bbox_inches':None}\n",
    "%load_ext autoreload\n",
    "%autoreload 2\n",
    "%aimport - numpy - scipy - matplotlib.pyplot"
   ]
  },
  {
   "cell_type": "code",
   "execution_count": null,
   "metadata": {},
   "outputs": [],
   "source": [
    "from OHC import OHC_integrals\n",
    "from maps import map_ocn_robinson\n",
    "from paths import CESM_filename, path_samoc, file_ex_ocn_ctrl, file_ex_ocn_rcp, path_results\n",
    "from regions import boolean_mask, regions_dict\n",
    "from constants import cp_sw\n",
    "from timeseries import IterateOutputCESM\n",
    "from xr_integrate import  xr_vol_int\n",
    "from xr_regression import xr_linear_trend, xr_linear_trends_2D\n",
    "from xr_DataArrays import create_xr_DataArray, xr_DZ, xr_AREA, xr_HTN, xr_LATS"
   ]
  },
  {
   "cell_type": "code",
   "execution_count": null,
   "metadata": {},
   "outputs": [],
   "source": [
    "ds = xr.open_dataset(file_ex_ocn_ctrl, decode_times=False)\n",
    "MASK = ds.REGION_MASK"
   ]
  },
  {
   "cell_type": "code",
   "execution_count": null,
   "metadata": {},
   "outputs": [],
   "source": [
    "km = 42"
   ]
  },
  {
   "cell_type": "code",
   "execution_count": null,
   "metadata": {},
   "outputs": [],
   "source": [
    "ctrl = xr.open_dataset(f'{path_samoc}/OHC_integrals_ctrl_Global_Ocean.nc', decode_times=False)\n",
    "rcp  = xr.open_dataset(f'{path_samoc}/OHC_integrals_rcp_Global_Ocean.nc' , decode_times=False)"
   ]
  },
  {
   "cell_type": "code",
   "execution_count": null,
   "metadata": {},
   "outputs": [],
   "source": [
    "ctrl_t = np.array(ctrl.time.values/365, dtype=int)\n",
    "rcp_t  = np.array(rcp.time.values/365 , dtype=int)\n",
    "n_ctrl, n_rcp = len(ctrl_t), len(rcp_t)"
   ]
  },
  {
   "cell_type": "code",
   "execution_count": null,
   "metadata": {},
   "outputs": [],
   "source": [
    "DZT = xr_DZ('ocn')"
   ]
  },
  {
   "cell_type": "code",
   "execution_count": null,
   "metadata": {},
   "outputs": [],
   "source": [
    "dz_mean = DZT.where(DZT>0).mean(dim=('nlat', 'nlon'))"
   ]
  },
  {
   "cell_type": "code",
   "execution_count": null,
   "metadata": {},
   "outputs": [],
   "source": [
    "dz_mean.plot()"
   ]
  },
  {
   "cell_type": "code",
   "execution_count": null,
   "metadata": {},
   "outputs": [],
   "source": [
    "tdepth = ctrl.z_t/100"
   ]
  },
  {
   "cell_type": "markdown",
   "metadata": {},
   "source": [
    "### remaining issues\n",
    "- ctrl year 205: too large global value"
   ]
  },
  {
   "cell_type": "code",
   "execution_count": null,
   "metadata": {},
   "outputs": [],
   "source": [
    "ctrl.OHC_global[5]        = (ctrl.OHC_global[4]+ctrl.OHC_global[6])/2\n",
    "ctrl.OHC_global_levels[5] = (ctrl.OHC_global_levels[4]+ctrl.OHC_global_levels[6])/2\n",
    "ctrl.OHC_zonal[5]         = (ctrl.OHC_zonal[4]+ctrl.OHC_zonal[6])/2\n",
    "ctrl.OHC_zonal_levels[5]  = (ctrl.OHC_zonal_levels[4]+ctrl.OHC_zonal_levels[6])/2"
   ]
  },
  {
   "cell_type": "code",
   "execution_count": null,
   "metadata": {},
   "outputs": [],
   "source": [
    "OHC_global_init = ctrl.OHC_global[0].item()"
   ]
  },
  {
   "cell_type": "code",
   "execution_count": null,
   "metadata": {},
   "outputs": [],
   "source": [
    "ctrl.OHC_global.time.values"
   ]
  },
  {
   "cell_type": "code",
   "execution_count": null,
   "metadata": {},
   "outputs": [],
   "source": [
    "ctrl_times = np.arange(0,len(ctrl_t),1)\n",
    "rcp_times  = np.arange(0,len(rcp_t),1)\n",
    "lin_fit  = np.polyfit(ctrl_times, ctrl.OHC_global, 1)\n",
    "quad_fit = np.polyfit(rcp_times , rcp.OHC_global , 2)\n",
    "ctrl_global_lin_detr = ctrl.OHC_global-(lin_fit[1] + lin_fit[0]*ctrl_times)\n",
    "rcp_global_lin_detr  = rcp.OHC_global -(lin_fit[1] + lin_fit[0]*rcp_times)\n",
    "rcp_global_quad_detr = rcp.OHC_global -(quad_fit[2]+quad_fit[1]*rcp_times+quad_fit[0]*rcp_times**2)"
   ]
  },
  {
   "cell_type": "markdown",
   "metadata": {},
   "source": [
    "## global integral"
   ]
  },
  {
   "cell_type": "code",
   "execution_count": null,
   "metadata": {},
   "outputs": [],
   "source": [
    "f = plt.figure(figsize=(8,5))\n",
    "plt.tick_params(labelsize=14)\n",
    "plt.axhline(0, c='k', lw=.5)\n",
    "plt.plot((ctrl.OHC_global.values-OHC_global_init)/1e21, lw=3, c=f'C{0}', label='CTRL')\n",
    "plt.plot((rcp.OHC_global.values -OHC_global_init)/1e21, lw=3, c=f'C{1}', label='RCP' )\n",
    "plt.plot(ctrl_global_lin_detr/1e21,        ls='--', lw=3, c=f'C{0}', label='CTRL lin. detrended')\n",
    "plt.plot(rcp_global_lin_detr /1e21,        ls='--', lw=3, c=f'C{1}', label='RCP detrended \\nw/ lin. CTRL trend')\n",
    "plt.xlabel('time [years]', fontsize=16)\n",
    "plt.ylabel('Ocean Heat Content [ZJ]', fontsize=16)\n",
    "plt.legend(fontsize=16)\n",
    "plt.tight_layout()\n",
    "plt.savefig(f'{path_results}/OHC/OHC_global_timeseries')"
   ]
  },
  {
   "cell_type": "code",
   "execution_count": null,
   "metadata": {},
   "outputs": [],
   "source": [
    "f = plt.figure(figsize=(8,5))\n",
    "plt.tick_params(labelsize=14)\n",
    "plt.axhline(0, c='k', lw=.5)\n",
    "plt.plot(ctrl_global_lin_detr/1e21, lw=3, label='CTRL lin. detrended')\n",
    "plt.plot(rcp_global_quad_detr/1e21, lw=3, label='RCP quad. detrended')\n",
    "plt.plot(ctrl_times[1:], (ctrl.OHC_global.values[1:]-ctrl.OHC_global.values[:-1])/1e21, ls=':', lw=2, c=f'C{0}', label='$\\Delta$OHC CTRL')\n",
    "plt.plot(rcp_times[1:] , (rcp.OHC_global.values[1:] -rcp.OHC_global.values[:-1] )/1e21, ls=':', lw=2, c=f'C{1}', label='$\\Delta$OHC RCP')\n",
    "plt.ylim((-15,25))\n",
    "plt.xlabel('time [years]', fontsize=16)\n",
    "plt.ylabel('detrended OHC, OHC change [ZJ]', fontsize=16)\n",
    "plt.legend(loc=2, fontsize=16, frameon=False)\n",
    "plt.tight_layout()\n",
    "plt.savefig(f'{path_results}/OHC/OHC_global_timeseries_detrended')"
   ]
  },
  {
   "cell_type": "markdown",
   "metadata": {},
   "source": [
    "## Levels"
   ]
  },
  {
   "cell_type": "code",
   "execution_count": null,
   "metadata": {},
   "outputs": [],
   "source": [
    "# trends in J/m/year\n",
    "ctrl_global_levels_trend = xr_linear_trend(ctrl.OHC_global_levels/dz_mean)*365\n",
    "rcp_global_levels_trend  = xr_linear_trend(rcp.OHC_global_levels /dz_mean)*365"
   ]
  },
  {
   "cell_type": "code",
   "execution_count": null,
   "metadata": {},
   "outputs": [],
   "source": [
    "f = plt.figure(figsize=(8,5))\n",
    "plt.tick_params(labelsize=14)\n",
    "plt.axvline(0, c='k', lw=.5)\n",
    "plt.plot(ctrl_global_levels_trend, -tdepth/1e3, lw=3, label='CTRL')\n",
    "plt.plot(rcp_global_levels_trend , -tdepth/1e3, lw=3, label='RCP')\n",
    "plt.xlabel('OHC trend [J/m/yr]', fontsize=16)\n",
    "plt.ylabel('depth [km]', fontsize=16)\n",
    "plt.legend(fontsize=16)\n",
    "plt.tight_layout()\n",
    "plt.savefig(f'{path_results}/OHC/OHC_trend_depth')"
   ]
  },
  {
   "cell_type": "code",
   "execution_count": null,
   "metadata": {},
   "outputs": [],
   "source": [
    "ctrl_global_level_lin_fit = np.zeros((2, km))\n",
    "rcp_global_level_lin_fit  = np.zeros((2, km))\n",
    "rcp_global_level_quad_fit = np.zeros((3, km))\n",
    "for k in range(km):\n",
    "    ctrl_global_level_lin_fit[:,k] = np.polyfit(ctrl_times, ctrl.OHC_global_levels[:,k]/dz_mean[k], 1)\n",
    "    rcp_global_level_lin_fit[:,k]  = np.polyfit(rcp_times , rcp.OHC_global_levels[:,k] /dz_mean[k], 1)\n",
    "    rcp_global_level_quad_fit[:,k] = np.polyfit(rcp_times , rcp.OHC_global_levels[:,k] /dz_mean[k], 2)\n",
    "f,ax = plt.subplots(1,2)\n",
    "ax[0].plot(ctrl_global_level_lin_fit[0,:])\n",
    "ax[0].plot(rcp_global_level_lin_fit[0,:])\n",
    "ax[0].set_xlabel('slope')\n",
    "ax[1].plot(ctrl_global_level_lin_fit[1,:])\n",
    "ax[1].plot(rcp_global_level_lin_fit[1,:])\n",
    "ax[1].set_xlabel('offset')"
   ]
  },
  {
   "cell_type": "code",
   "execution_count": null,
   "metadata": {},
   "outputs": [],
   "source": [
    "ctrl_global_levels_lin = np.zeros((n_ctrl, km))\n",
    "rcp_global_levels_lin  = np.zeros((n_rcp, km))\n",
    "rcp_global_levels_quad = np.zeros((n_rcp, km))\n",
    "for t in range(n_ctrl):\n",
    "    ctrl_global_levels_lin[t,:] = ctrl_global_level_lin_fit[0,:]*t + ctrl_global_level_lin_fit[1,:]\n",
    "    if t<n_rcp:\n",
    "        rcp_global_levels_lin[t,:] = rcp_global_level_lin_fit[0,:]*t + rcp_global_level_lin_fit[1,:]\n",
    "        rcp_global_levels_quad[t,:] = rcp_global_level_quad_fit[0,:]*t**2 + rcp_global_level_quad_fit[1,:]*t + rcp_global_level_quad_fit[2,:]\n",
    "        "
   ]
  },
  {
   "cell_type": "code",
   "execution_count": null,
   "metadata": {},
   "outputs": [],
   "source": [
    "X_ctrl       , Y_ctrl         = np.meshgrid(ctrl_times, -tdepth/1e3)\n",
    "X_ctrl_detail, Y_ctrl_detail  = np.meshgrid(ctrl_times, -tdepth[:20]/1e3)\n",
    "# ctrl_change_vs_mean_ctrl = ((ctrl.OHC_global_levels[:,:]- ctrl.OHC_global_levels.mean(dim='time'))/dz_mean)\n",
    "ctrl_change_detr = ((ctrl.OHC_global_levels[:,:]/dz_mean- ctrl_global_levels_lin))\n",
    "\n",
    "f,ax = plt.subplots(2,1, figsize=(8,5), sharex=True)\n",
    "ax[0].pcolormesh(X_ctrl_detail, Y_ctrl_detail, ctrl_change_detr[:,:20].T/1e21, cmap='RdBu_r', vmin=-.2, vmax=.2)\n",
    "ax[1].pcolormesh(X_ctrl       , Y_ctrl       , ctrl_change_detr.T/1e21       , cmap='RdBu_r', vmin=-.2, vmax=.2)\n",
    "ax[1].set_xlabel('time [years]', fontsize=16)\n",
    "for i in range(2):\n",
    "    ax[i].set_ylabel('depth [km]', fontsize=16)\n",
    "plt.tight_layout()\n",
    "f.align_labels()"
   ]
  },
  {
   "cell_type": "code",
   "execution_count": null,
   "metadata": {},
   "outputs": [],
   "source": [
    "X_rcp       , Y_rcp         = np.meshgrid(rcp_times, -tdepth/1e3)\n",
    "X_rcp_detail, Y_rcp_detail  = np.meshgrid(rcp_times, -tdepth[:20]/1e3)\n",
    "# rcp_change_vs_mean_ctrl = ((rcp.OHC_global_levels[:,:]- ctrl.OHC_global_levels.mean(dim='time'))/dz_mean)\n",
    "rcp_change_vs_mean_ctrl = ((rcp.OHC_global_levels[:,:]/dz_mean - rcp_global_levels_lin))\n",
    "# rcp_change_detr = ((rcp.OHC_global_levels[:,:]/dz_mean - rcp_global_levels_quad))\n",
    "\n",
    "\n",
    "f,ax = plt.subplots(2,1, figsize=(8,5), sharex=True)\n",
    "ax[0].pcolormesh(X_rcp_detail, Y_rcp_detail, rcp_change_detr[:,:20].T/1e21, cmap='RdBu_r', vmin=-.2, vmax=.2)\n",
    "ax[1].pcolormesh(X_rcp       , Y_rcp       , rcp_change_detr.T/1e21       , cmap='RdBu_r', vmin=-.2, vmax=.2)\n",
    "ax[1].set_xlabel('time [years]', fontsize=16)\n",
    "for i in range(2):\n",
    "    ax[i].set_ylabel('depth [km]', fontsize=16)\n",
    "plt.tight_layout()\n",
    "f.align_labels()"
   ]
  },
  {
   "cell_type": "markdown",
   "metadata": {},
   "source": [
    "# Spatial trends"
   ]
  },
  {
   "cell_type": "code",
   "execution_count": null,
   "metadata": {},
   "outputs": [],
   "source": [
    "%%time\n",
    "ctrl_vert_trend = xr_linear_trends_2D(da=ctrl.OHC_vertical, dim_names=('nlat', 'nlon'))"
   ]
  },
  {
   "cell_type": "code",
   "execution_count": null,
   "metadata": {},
   "outputs": [],
   "source": [
    "ctrl_vert_diff = (ctrl.OHC_vertical[40:50,:,:].mean(dim='time') - ctrl.OHC_vertical[:10,:,:].mean(dim='time')).where(MASK>0)\n",
    "rcp_vert_diff  = (rcp.OHC_vertical[40:50,:,:].mean(dim='time')  - rcp.OHC_vertical[:10,:,:].mean(dim='time') ).where(MASK>0)"
   ]
  },
  {
   "cell_type": "code",
   "execution_count": null,
   "metadata": {},
   "outputs": [],
   "source": [
    "label='$\\Delta$OHC [J/m$^2$]'; maxv = 7e9"
   ]
  },
  {
   "cell_type": "code",
   "execution_count": null,
   "metadata": {},
   "outputs": [],
   "source": [
    "ctrl_vert_diff"
   ]
  },
  {
   "cell_type": "code",
   "execution_count": null,
   "metadata": {},
   "outputs": [],
   "source": [
    "fn = f'{path_results}/OHC/OHC_trend_vert_int_map_ctrl'\n",
    "f = map_ocn_robinson(ctrl_vert_diff, 'RdBu_r', minv=-maxv, maxv=maxv, label=label, filename=fn, grid='U')"
   ]
  },
  {
   "cell_type": "code",
   "execution_count": null,
   "metadata": {},
   "outputs": [],
   "source": [
    "fn = f'{path_results}/OHC/OHC_trend_vert_int_map_rcp'\n",
    "f = map_ocn_robinson(rcp_vert_diff , 'RdBu_r', minv=-maxv, maxv=maxv, label=label, filename=fn, grid='U')"
   ]
  },
  {
   "cell_type": "markdown",
   "metadata": {},
   "source": [
    "### hiatus spatial pattern\n",
    "change between year 20 and 28"
   ]
  },
  {
   "cell_type": "code",
   "execution_count": null,
   "metadata": {},
   "outputs": [],
   "source": [
    "rcp_vert_hiatus = (ctrl.OHC_vertical[28,:,:] - ctrl.OHC_vertical[18,:,:]).where(MASK>0)"
   ]
  },
  {
   "cell_type": "code",
   "execution_count": null,
   "metadata": {},
   "outputs": [],
   "source": [
    "f = map_ocn_robinson(rcp_vert_hiatus , 'RdBu_r', minv=-maxv, maxv=maxv, label=label, filename=None, grid='U')"
   ]
  },
  {
   "cell_type": "markdown",
   "metadata": {},
   "source": [
    "## latitude"
   ]
  },
  {
   "cell_type": "code",
   "execution_count": null,
   "metadata": {},
   "outputs": [],
   "source": [
    "ctrl_zonal_fit = np.polyfit(ctrl_times, ctrl.OHC_zonal[:,11:], 1)  # avoiding NaNs in Southernmost lat bins\n",
    "rcp_zonal_fit  = np.polyfit(rcp_times , rcp.OHC_zonal[:,11:] , 1)"
   ]
  },
  {
   "cell_type": "code",
   "execution_count": null,
   "metadata": {},
   "outputs": [],
   "source": [
    "f = plt.figure(figsize=(8,5))\n",
    "plt.tick_params(labelsize=14)\n",
    "plt.axhline(0, c='k', lw=.5)\n",
    "plt.plot(ctrl.TLAT_bins, ctrl.OHC_zonal.mean(dim='time').values, lw=3, label='CTRL mean')\n",
    "plt.xticks(np.arange(-90,91,30))\n",
    "plt.xlim((-92,92))\n",
    "plt.xlabel('latitude', fontsize=16)\n",
    "plt.ylabel('zonal OHC integral [J/m]', fontsize=16)\n",
    "plt.legend(fontsize=16)\n",
    "plt.tight_layout()\n",
    "plt.savefig(f'{path_results}/OHC/OHC_zonal_mean')"
   ]
  },
  {
   "cell_type": "code",
   "execution_count": null,
   "metadata": {},
   "outputs": [],
   "source": [
    "f = plt.figure(figsize=(8,5))\n",
    "plt.tick_params(labelsize=14)\n",
    "plt.axhline(0, c='k', lw=.5)\n",
    "plt.plot(ctrl.TLAT_bins[11:], ctrl_zonal_fit[0,:]*365, lw=3, label='CTRL')\n",
    "plt.plot(ctrl.TLAT_bins[11:], rcp_zonal_fit[0,:] *365, lw=3, label='RCP')\n",
    "plt.xticks(np.arange(-90,91,30))\n",
    "plt.xlim((-92,92))\n",
    "plt.xlabel('latitude', fontsize=16)\n",
    "plt.ylabel('zonal OHC linear trend [J/m/yr]', fontsize=16)\n",
    "plt.legend(fontsize=16)\n",
    "plt.tight_layout()\n",
    "plt.savefig(f'{path_results}/OHC/OHC_zonal_trend')"
   ]
  },
  {
   "cell_type": "markdown",
   "metadata": {},
   "source": [
    "## latitude - depth"
   ]
  },
  {
   "cell_type": "code",
   "execution_count": null,
   "metadata": {},
   "outputs": [],
   "source": [
    "ctrl_zonal_levels_trend = xr_linear_trends_2D(ctrl.OHC_zonal_levels[:,:,11:], dim_names=('TLAT_bins', 'z_t'))*365  # [day^-1] to [yr^-1]\n",
    "rcp_zonal_levels_trend  = xr_linear_trends_2D(rcp.OHC_zonal_levels[:,:,11:],  dim_names=('TLAT_bins', 'z_t'))*365"
   ]
  },
  {
   "cell_type": "code",
   "execution_count": null,
   "metadata": {},
   "outputs": [],
   "source": [
    "f = plt.figure(figsize=(8,5))\n",
    "plt.tick_params(labelsize=14)\n",
    "X_ctrl, Y_ctrl = np.meshgrid(ctrl.TLAT_bins[11:], -tdepth/1e3)\n",
    "maxv = 5e11\n",
    "plt.pcolormesh(X_ctrl, Y_ctrl, ctrl_zonal_levels_trend.T, cmap='RdBu_r', vmin=-maxv, vmax=maxv)\n",
    "plt.xticks(np.arange(-90,91,30))\n",
    "plt.xlim((-92,92))\n",
    "plt.xlabel('latitude', fontsize=16)\n",
    "plt.ylabel('depth [km]', fontsize=16)\n",
    "plt.colorbar()\n",
    "plt.tight_layout()\n",
    "plt.savefig(f'{path_results}/OHC/OHC_zonal_levels_trend_ctrl')"
   ]
  },
  {
   "cell_type": "code",
   "execution_count": null,
   "metadata": {},
   "outputs": [],
   "source": [
    "f = plt.figure(figsize=(8,5))\n",
    "plt.tick_params(labelsize=14)\n",
    "X_rcp, Y_rcp = np.meshgrid(rcp.TLAT_bins[11:], -tdepth/1e3)\n",
    "maxv = 5e11\n",
    "plt.pcolormesh(X_rcp, Y_rcp, rcp_zonal_levels_trend.T, cmap='RdBu_r', vmin=-maxv, vmax=maxv)\n",
    "plt.xticks(np.arange(-90,91,30))\n",
    "plt.xlim((-92,92))\n",
    "plt.xlabel('latitude', fontsize=16)\n",
    "plt.ylabel('depth [km]', fontsize=16)\n",
    "plt.colorbar()\n",
    "plt.tight_layout()\n",
    "plt.savefig(f'{path_results}/OHC/OHC_zonal_levels_trend_rcp')"
   ]
  },
  {
   "cell_type": "code",
   "execution_count": null,
   "metadata": {},
   "outputs": [],
   "source": [
    "f = plt.figure(figsize=(8,5))\n",
    "plt.tick_params(labelsize=14)\n",
    "X_rcp, Y_rcp = np.meshgrid(rcp.TLAT_bins[11:], -tdepth/1e3)\n",
    "maxv = 10e11\n",
    "plt.pcolormesh(X_rcp, Y_rcp, (rcp_zonal_levels_trend-ctrl_zonal_levels_trend).T, cmap='RdBu_r', vmin=-maxv, vmax=maxv)\n",
    "plt.xticks(np.arange(-90,91,30))\n",
    "plt.xlim((-92,92))\n",
    "plt.xlabel('latitude', fontsize=16)\n",
    "plt.ylabel('depth [km]', fontsize=16)\n",
    "plt.colorbar()\n",
    "plt.tight_layout()\n",
    "plt.savefig(f'{path_results}/OHC/OHC_zonal_levels_trend_rcp-ctrl')"
   ]
  },
  {
   "cell_type": "code",
   "execution_count": null,
   "metadata": {},
   "outputs": [],
   "source": [
    "# hiatus\n",
    "X_rcp, Y_rcp = np.meshgrid(rcp.TLAT_bins, -tdepth[:20]/1e3)\n",
    "maxv=8e13\n",
    "plt.pcolormesh(X_rcp, Y_rcp, (rcp.OHC_zonal_levels[28,:20,:]-rcp.OHC_zonal_levels[20,:20,:]), cmap='RdBu_r', vmin=-maxv, vmax=maxv)\n",
    "plt.colorbar()\n",
    "plt.tight_layout()"
   ]
  },
  {
   "cell_type": "code",
   "execution_count": null,
   "metadata": {},
   "outputs": [],
   "source": []
  }
 ],
 "metadata": {
  "kernelspec": {
   "display_name": "Python 3",
   "language": "python",
   "name": "python3"
  },
  "language_info": {
   "codemirror_mode": {
    "name": "ipython",
    "version": 3
   },
   "file_extension": ".py",
   "mimetype": "text/x-python",
   "name": "python",
   "nbconvert_exporter": "python",
   "pygments_lexer": "ipython3",
   "version": "3.6.6"
  }
 },
 "nbformat": 4,
 "nbformat_minor": 2
}
