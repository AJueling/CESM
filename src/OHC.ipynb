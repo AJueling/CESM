{
 "cells": [
  {
   "cell_type": "markdown",
   "metadata": {},
   "source": [
    "# Ocean Heat Content"
   ]
  },
  {
   "cell_type": "markdown",
   "metadata": {},
   "source": [
    "$OHC = \\Delta T \\times c_p \\times \\rho \\times V$\n",
    "\n",
    "unit conversion to SI\n",
    "- $c_p$: erg/g/K = 1e-7J / 1e-3kg / K = 1e-4 J/kg/K $\\rightarrow$ 3996 J/kg/K\n",
    "- $\\rho$: g/cm^3 = 1e3 kg/m^3"
   ]
  },
  {
   "cell_type": "code",
   "execution_count": null,
   "metadata": {},
   "outputs": [],
   "source": [
    "import sys\n",
    "sys.path.append(\"..\")\n",
    "import scipy as sp\n",
    "import numpy as np\n",
    "import xarray as xr\n",
    "import seaborn as sns\n",
    "import cmocean\n",
    "import cartopy\n",
    "import cartopy.crs as ccrs\n",
    "import matplotlib.pyplot as plt\n",
    "import matplotlib.patches as mpatches"
   ]
  },
  {
   "cell_type": "code",
   "execution_count": null,
   "metadata": {},
   "outputs": [],
   "source": [
    "%matplotlib inline\n",
    "%config InlineBackend.print_figure_kwargs={'bbox_inches':None}\n",
    "%load_ext autoreload\n",
    "%autoreload 2\n",
    "%aimport - numpy - scipy - matplotlib.pyplot"
   ]
  },
  {
   "cell_type": "code",
   "execution_count": null,
   "metadata": {},
   "outputs": [],
   "source": [
    "from OHC import OHC_integrals, trend_global_levels\n",
    "from maps import map_robinson\n",
    "from grid import create_dz_mean, create_tdepth\n",
    "from paths import CESM_filename, path_samoc, file_ex_ocn_ctrl, file_ex_ocn_rcp, path_results\n",
    "from regions import boolean_mask, regions_dict\n",
    "from constants import cp_sw, spy\n",
    "from OHC_plots import plot_global_integrals, plot_global_integrals_detr, plot_global_integrals_diff, plot_levels_trend\n",
    "from OHC_plots import Hovmoeller_global_depth, Hovmoeller_basins_depth\n",
    "from timeseries import IterateOutputCESM\n",
    "from xr_integrate import  xr_vol_int\n",
    "from xr_DataArrays import create_xr_DataArray, xr_DZ, xr_AREA, xr_HTN, xr_LATS\n",
    "from xr_regression import xr_linear_trend, xr_linear_trends_2D, zonal_trend, zonal_levels_trend, ocn_field_regression"
   ]
  },
  {
   "cell_type": "code",
   "execution_count": null,
   "metadata": {},
   "outputs": [],
   "source": [
    "ds = xr.open_dataset(file_ex_ocn_ctrl, decode_times=False)\n",
    "MASK = ds.REGION_MASK"
   ]
  },
  {
   "cell_type": "code",
   "execution_count": null,
   "metadata": {},
   "outputs": [],
   "source": [
    "MASK.plot()"
   ]
  },
  {
   "cell_type": "code",
   "execution_count": null,
   "metadata": {},
   "outputs": [],
   "source": [
    "km = 42"
   ]
  },
  {
   "cell_type": "code",
   "execution_count": null,
   "metadata": {},
   "outputs": [],
   "source": [
    "ctrl   = xr.open_dataset(f'{path_samoc}/OHC/OHC_integrals_ctrl_Global_Ocean.nc'  , decode_times=False)\n",
    "ctrl_A = xr.open_dataset(f'{path_samoc}/OHC/OHC_integrals_ctrl_Atlantic_Ocean.nc', decode_times=False)\n",
    "ctrl_P = xr.open_dataset(f'{path_samoc}/OHC/OHC_integrals_ctrl_Pacific_Ocean.nc' , decode_times=False)\n",
    "ctrl_I = xr.open_dataset(f'{path_samoc}/OHC/OHC_integrals_ctrl_Indian_Ocean.nc'  , decode_times=False)\n",
    "ctrl_M = xr.open_dataset(f'{path_samoc}/OHC/OHC_integrals_ctrl_Mediterranean.nc' , decode_times=False)\n",
    "ctrl_S = xr.open_dataset(f'{path_samoc}/OHC/OHC_integrals_ctrl_Southern_Ocean.nc', decode_times=False)\n",
    "ctrl_N = xr.open_dataset(f'{path_samoc}/OHC/OHC_integrals_ctrl_Arctic_Ocean.nc', decode_times=False)\n",
    "\n",
    "rcp    = xr.open_dataset(f'{path_samoc}/OHC/OHC_integrals_rcp_Global_Ocean.nc'   , decode_times=False)\n",
    "rcp_A  = xr.open_dataset(f'{path_samoc}/OHC/OHC_integrals_rcp_Atlantic_Ocean.nc' , decode_times=False)\n",
    "rcp_P  = xr.open_dataset(f'{path_samoc}/OHC/OHC_integrals_rcp_Pacific_Ocean.nc'  , decode_times=False)\n",
    "rcp_I  = xr.open_dataset(f'{path_samoc}/OHC/OHC_integrals_rcp_Indian_Ocean.nc'   , decode_times=False)\n",
    "rcp_M  = xr.open_dataset(f'{path_samoc}/OHC/OHC_integrals_rcp_Mediterranean.nc'  , decode_times=False)\n",
    "rcp_S  = xr.open_dataset(f'{path_samoc}/OHC/OHC_integrals_rcp_Southern_Ocean.nc' , decode_times=False)\n",
    "rcp_N  = xr.open_dataset(f'{path_samoc}/OHC/OHC_integrals_rcp_Arctic_Ocean.nc' , decode_times=False)\n"
   ]
  },
  {
   "cell_type": "code",
   "execution_count": null,
   "metadata": {},
   "outputs": [],
   "source": [
    "# something is still wrong in CTRL year 205\n",
    "for ds in [ctrl, ctrl_A, ctrl_P, ctrl_I, ctrl_S, ctrl_M, ctrl_N]:\n",
    "    for field in ['OHC_global', 'OHC_global_levels', 'OHC_zonal', 'OHC_zonal_levels']:\n",
    "        ds[field][105] = (ds[field].sel({'time':204*365}) +\n",
    "                                           ds[field].sel({'time':206*365}) )/2"
   ]
  },
  {
   "cell_type": "code",
   "execution_count": null,
   "metadata": {},
   "outputs": [],
   "source": [
    "ctrl_t = np.array(ctrl.time.values/365, dtype=int)\n",
    "rcp_t  = np.array(rcp.time.values/365 , dtype=int)\n",
    "n_ctrl, n_rcp = len(ctrl_t), len(rcp_t)\n",
    "print(n_ctrl, n_rcp)"
   ]
  },
  {
   "cell_type": "code",
   "execution_count": null,
   "metadata": {},
   "outputs": [],
   "source": [
    "dz_mean = create_dz_mean(domain='ocn')\n",
    "tdepth = create_tdepth('ocn')"
   ]
  },
  {
   "cell_type": "markdown",
   "metadata": {},
   "source": [
    "## global integral"
   ]
  },
  {
   "cell_type": "code",
   "execution_count": null,
   "metadata": {},
   "outputs": [],
   "source": [
    "OHC_global_init = ctrl.OHC_global[100].item()"
   ]
  },
  {
   "cell_type": "code",
   "execution_count": null,
   "metadata": {},
   "outputs": [],
   "source": [
    "ctrl_times = ctrl.time/365\n",
    "rcp_times  = rcp.time/365-1800\n",
    "lfit_ctrl  = np.polyfit(ctrl_times, ctrl.OHC_global, 1)\n",
    "lfit_rcp   = np.polyfit(rcp_times , rcp.OHC_global , 1)\n",
    "qfit_ctrl  = np.polyfit(ctrl_times, ctrl.OHC_global, 2)\n",
    "qfit_rcp   = np.polyfit(rcp_times , rcp.OHC_global , 2)\n",
    "OHC_global_lfit_ctrl = lfit_ctrl[1] + lfit_ctrl[0]*ctrl_times\n",
    "OHC_global_qfit_ctrl = qfit_ctrl[2] + qfit_ctrl[1]*ctrl_times + qfit_ctrl[0]*ctrl_times**2\n",
    "OHC_global_lfit_rcp  = lfit_rcp [1] + lfit_rcp [0]*rcp_times\n",
    "OHC_global_qfit_rcp  = qfit_rcp [2] + qfit_rcp [1]*rcp_times  + qfit_rcp[0]*rcp_times**2\n",
    "OHC_global_ldetr_ctrl = ctrl.OHC_global - OHC_global_lfit_ctrl\n",
    "OHC_global_qdetr_ctrl = ctrl.OHC_global - OHC_global_qfit_ctrl\n",
    "OHC_global_ldetr_rcp  = rcp.OHC_global  - OHC_global_lfit_rcp\n",
    "OHC_global_qdetr_rcp  = rcp.OHC_global  - OHC_global_qfit_rcp"
   ]
  },
  {
   "cell_type": "code",
   "execution_count": null,
   "metadata": {},
   "outputs": [],
   "source": [
    "f = plt.figure(figsize=(8,5))\n",
    "ax = f.add_axes([0.13,0.13,.85,.85])\n",
    "plt.tick_params(labelsize=14)\n",
    "plt.axhline(0, c='k', lw=.5)\n",
    "L1, = plt.plot(ctrl_times, (OHC_global_qfit_ctrl-OHC_global_init)/1e21, c='k', label='quad. fits')\n",
    "L2, = plt.plot(rcp_times , (OHC_global_qfit_rcp -OHC_global_init)/1e21, c='k', label='quad. fit')\n",
    "L3, = plt.plot(ctrl_times, (ctrl.OHC_global.values-OHC_global_init)/1e21, lw=2, c=f'C{0}', label='CTRL')\n",
    "L4, = plt.plot(rcp_times , (rcp.OHC_global.values -OHC_global_init)/1e21, lw=2, c=f'C{1}', label='RCP' )\n",
    "L5, = plt.plot(ctrl_times, OHC_global_qdetr_ctrl/1e21, ls='--', lw=2, c=f'C{0}', label='CTRL quad. detrended')\n",
    "L6, = plt.plot(rcp_times , OHC_global_qdetr_rcp /1e21, ls='--', lw=2, c=f'C{1}', label='RCP  quad. detrended')\n",
    "plt.xlabel('time [years]', fontsize=16)\n",
    "plt.ylabel('Ocean Heat Content [ZJ]', fontsize=16)\n",
    "plt.legend(handles=[L1, L3, L4, L5, L6], fontsize=16)\n",
    "plt.tight_layout()\n",
    "plt.savefig(f'{path_results}/OHC/OHC_global_timeseries')"
   ]
  },
  {
   "cell_type": "code",
   "execution_count": null,
   "metadata": {},
   "outputs": [],
   "source": [
    "f = plt.figure(figsize=(8,5))\n",
    "ax = f.add_axes([0.13,0.13,.85,.85])\n",
    "plt.tick_params(labelsize=14)\n",
    "plt.axhline(0, c='k', lw=.5)\n",
    "plt.plot(ctrl_times,OHC_global_qdetr_ctrl/1e21, lw=3, label='CTRL quad. detrended')\n",
    "plt.plot(rcp_times ,OHC_global_qdetr_rcp /1e21, lw=3, label='RCP quad. detrended')\n",
    "plt.plot(ctrl_times, (ctrl.OHC_global-ctrl.OHC_global.shift(time=1))/1e21, ls=':', lw=2, c=f'C{0}', label='$\\Delta$OHC CTRL')\n",
    "plt.plot(rcp_times , (rcp.OHC_global -rcp.OHC_global.shift( time=1))/1e21, ls=':', lw=2, c=f'C{1}', label='$\\Delta$OHC RCP')\n",
    "plt.ylim((-25,25))\n",
    "plt.xlabel('time [years]', fontsize=14)\n",
    "plt.ylabel('detrended OHC, OHC change [ZJ]', fontsize=16)\n",
    "plt.legend(loc=4, fontsize=16, frameon=False)\n",
    "plt.tight_layout()\n",
    "plt.savefig(f'{path_results}/OHC/OHC_global_timeseries_detrended')"
   ]
  },
  {
   "cell_type": "code",
   "execution_count": null,
   "metadata": {},
   "outputs": [],
   "source": [
    "# detrended rcp timeseries to find location of hiatus\n",
    "dss = [ctrl, ctrl_A, ctrl_P, ctrl_I, ctrl_S, ctrl_M]\n",
    "plot_global_integrals(dss, 'ctrl')\n",
    "plot_global_integrals_diff(dss, 'ctrl')\n",
    "plot_global_integrals_detr(dss, 'ctrl')\n",
    "\n",
    "dss = [rcp, rcp_A, rcp_P, rcp_I, rcp_S, rcp_M]\n",
    "plot_global_integrals(dss, 'rcp')\n",
    "plot_global_integrals_diff(dss, 'rcp')\n",
    "plot_global_integrals_detr(dss, 'rcp')"
   ]
  },
  {
   "cell_type": "markdown",
   "metadata": {},
   "source": [
    "## Levels"
   ]
  },
  {
   "cell_type": "code",
   "execution_count": null,
   "metadata": {},
   "outputs": [],
   "source": [
    "ctrl_levels_trend_G = trend_global_levels(ctrl)\n",
    "ctrl_levels_trend_A = trend_global_levels(ctrl_A)\n",
    "ctrl_levels_trend_P = trend_global_levels(ctrl_P)\n",
    "ctrl_levels_trend_I = trend_global_levels(ctrl_I)\n",
    "ctrl_levels_trend_S = trend_global_levels(ctrl_S)\n",
    "ctrl_levels_trend_M = trend_global_levels(ctrl_M)\n",
    "\n",
    "rcp_levels_trend_G = trend_global_levels(rcp)\n",
    "rcp_levels_trend_A = trend_global_levels(rcp_A)\n",
    "rcp_levels_trend_P = trend_global_levels(rcp_P)\n",
    "rcp_levels_trend_I = trend_global_levels(rcp_I)\n",
    "rcp_levels_trend_S = trend_global_levels(rcp_S)\n",
    "rcp_levels_trend_M = trend_global_levels(rcp_M)"
   ]
  },
  {
   "cell_type": "code",
   "execution_count": null,
   "metadata": {},
   "outputs": [],
   "source": [
    "f = plt.figure(figsize=(8,5))\n",
    "ax = f.add_axes([0.10,0.13,.88,.85])\n",
    "plt.tick_params(labelsize=14)\n",
    "plt.axvline(0, c='k', lw=.5)\n",
    "plt.plot(ctrl_levels_trend_G, -tdepth/1e3, lw=3, label='CTRL')\n",
    "plt.plot(rcp_levels_trend_G , -tdepth/1e3, lw=3, label='RCP')\n",
    "plt.xlabel('OHC trend [J/m/yr]', fontsize=16)\n",
    "plt.ylabel('depth [km]', fontsize=16)\n",
    "plt.legend(fontsize=16)\n",
    "plt.tight_layout()\n",
    "plt.savefig(f'{path_results}/OHC/OHC_trend_depth')"
   ]
  },
  {
   "cell_type": "code",
   "execution_count": null,
   "metadata": {},
   "outputs": [],
   "source": [
    "das = [ctrl_levels_trend_G,\n",
    "       ctrl_levels_trend_A,\n",
    "       ctrl_levels_trend_P,\n",
    "       ctrl_levels_trend_I,\n",
    "       ctrl_levels_trend_S,\n",
    "       ctrl_levels_trend_M,\n",
    "      ]\n",
    "plot_levels_trend(das=das, run='ctrl')\n",
    "\n",
    "das = [rcp_levels_trend_G,\n",
    "       rcp_levels_trend_A,\n",
    "       rcp_levels_trend_P,\n",
    "       rcp_levels_trend_I,\n",
    "       rcp_levels_trend_S,\n",
    "       rcp_levels_trend_M,\n",
    "      ]\n",
    "plot_levels_trend(das=das, run='rcp')\n",
    "\n",
    "das = [rcp_levels_trend_G-ctrl_levels_trend_G,\n",
    "       rcp_levels_trend_A-ctrl_levels_trend_A,\n",
    "       rcp_levels_trend_P-ctrl_levels_trend_P,\n",
    "       rcp_levels_trend_I-ctrl_levels_trend_I,\n",
    "       rcp_levels_trend_S-ctrl_levels_trend_S,\n",
    "       rcp_levels_trend_M-ctrl_levels_trend_M,\n",
    "      ]\n",
    "plot_levels_trend(das=das, run='rcp-ctrl')"
   ]
  },
  {
   "cell_type": "code",
   "execution_count": null,
   "metadata": {},
   "outputs": [],
   "source": []
  },
  {
   "cell_type": "code",
   "execution_count": null,
   "metadata": {},
   "outputs": [],
   "source": [
    "ctrl_global_level_lin_fit = np.zeros((2, km))\n",
    "rcp_global_level_lin_fit  = np.zeros((2, km))\n",
    "rcp_global_level_quad_fit = np.zeros((3, km))\n",
    "for k in range(km):\n",
    "    ctrl_global_level_lin_fit[:,k] = np.polyfit(ctrl_times, ctrl.OHC_global_levels[:,k]/dz_mean[k], 1)\n",
    "    rcp_global_level_lin_fit[:,k]  = np.polyfit(rcp_times , rcp.OHC_global_levels[:,k] /dz_mean[k], 1)\n",
    "    rcp_global_level_quad_fit[:,k] = np.polyfit(rcp_times , rcp.OHC_global_levels[:,k] /dz_mean[k], 2)\n",
    "\n",
    "# plot fitting parameters per depth    \n",
    "f,ax = plt.subplots(1,2)\n",
    "ax[0].plot(ctrl_global_level_lin_fit[0,:])\n",
    "ax[0].plot(rcp_global_level_lin_fit[0,:])\n",
    "ax[0].set_xlabel('slope')\n",
    "ax[1].plot(ctrl_global_level_lin_fit[1,:])\n",
    "ax[1].plot(rcp_global_level_lin_fit[1,:])\n",
    "ax[1].set_xlabel('offset')"
   ]
  },
  {
   "cell_type": "code",
   "execution_count": null,
   "metadata": {},
   "outputs": [],
   "source": [
    "ctrl_global_levels_lin = np.zeros((n_ctrl, km))\n",
    "rcp_global_levels_lin  = np.zeros((n_rcp, km))\n",
    "rcp_global_levels_quad = np.zeros((n_rcp, km))\n",
    "for t in range(n_ctrl):\n",
    "    ctrl_global_levels_lin[t,:] = ctrl_global_level_lin_fit[0,:]*t + ctrl_global_level_lin_fit[1,:]\n",
    "    if t<n_rcp:\n",
    "        rcp_global_levels_lin[t,:] = rcp_global_level_lin_fit[0,:]*t + rcp_global_level_lin_fit[1,:]\n",
    "        rcp_global_levels_quad[t,:] = rcp_global_level_quad_fit[0,:]*t**2 + rcp_global_level_quad_fit[1,:]*t + rcp_global_level_quad_fit[2,:]    "
   ]
  },
  {
   "cell_type": "code",
   "execution_count": null,
   "metadata": {},
   "outputs": [],
   "source": [
    "ctrl.OHC_global_levels"
   ]
  },
  {
   "cell_type": "code",
   "execution_count": null,
   "metadata": {},
   "outputs": [],
   "source": [
    "Hovmoeller_global_depth(ctrl, detrend='lin' , fn=f'{path_results}/OHC/OHC_Hovmoeller_depth_global_ctrl')\n",
    "Hovmoeller_global_depth(rcp , detrend='lin' , fn=None)\n",
    "Hovmoeller_global_depth(rcp , detrend='quad', fn=f'{path_results}/OHC/OHC_Hovmoeller_depth_global_rcp')"
   ]
  },
  {
   "cell_type": "code",
   "execution_count": null,
   "metadata": {},
   "outputs": [],
   "source": [
    "dss_ctrl = [ctrl_S, ctrl_A, ctrl_P, ctrl_I]\n",
    "dss_rcp  = [rcp_S, rcp_A, rcp_P, rcp_I]\n",
    "Hovmoeller_basins_depth(dss_ctrl, detrend='lin' , fn=f'{path_results}/OHC/OHC_Hovmoeller_depth_basins_ctrl')\n",
    "Hovmoeller_basins_depth(dss_rcp , detrend='lin' , fn=None) \n",
    "Hovmoeller_basins_depth(dss_rcp , detrend='quad', fn=f'{path_results}/OHC/OHC_Hovmoeller_depth_basins_rcp' )"
   ]
  },
  {
   "cell_type": "markdown",
   "metadata": {},
   "source": [
    "## spatial trends of vertically integrated OHC"
   ]
  },
  {
   "cell_type": "code",
   "execution_count": null,
   "metadata": {},
   "outputs": [],
   "source": [
    "%%time\n",
    "    OHC_vert_trend_ctrl = ocn_field_regression(ctrl.OHC_vertical)/spy  # [J/m^2/year] to [W/m^2]\n",
    "    OHC_vert_trend_rcp  = ocn_field_regression(rcp.OHC_vertical )/spy"
   ]
  },
  {
   "cell_type": "code",
   "execution_count": null,
   "metadata": {},
   "outputs": [],
   "source": [
    "label  = r'OHC trend [W/m$^2$]'\n",
    "domain = 'ocn_T'\n",
    "maxv   = 6\n",
    "cmap   = cmocean.cm.balance\n",
    "\n",
    "fn = f'{path_results}/OHC/OHC_trend_vert_int_map_ctrl'\n",
    "xa = OHC_vert_trend_ctrl\n",
    "f, ax = map_robinson(xa=xa, domain=domain, cmap=cmap, minv=-maxv, maxv=maxv, label=label, filename=fn)\n",
    "\n",
    "fn = f'{path_results}/OHC/OHC_trend_vert_int_map_rcp'\n",
    "xa = OHC_vert_trend_rcp\n",
    "f, ax = map_robinson(xa=xa, domain=domain, cmap=cmap, minv=-maxv, maxv=maxv, label=label, filename=fn)"
   ]
  },
  {
   "cell_type": "markdown",
   "metadata": {},
   "source": [
    "## zonal integrals"
   ]
  },
  {
   "cell_type": "code",
   "execution_count": null,
   "metadata": {},
   "outputs": [],
   "source": [
    "lats = ctrl.TLAT_bins\n",
    "\n",
    "f = plt.figure(figsize=(8,5))\n",
    "ax = f.add_axes([0.13,0.13,.84,.82])\n",
    "plt.tick_params(labelsize=14)\n",
    "plt.axhline(0, c='k', lw=.5)\n",
    "\n",
    "y1 = ctrl_S.OHC_zonal.mean(dim='time').values\n",
    "y2 = 0\n",
    "S  = plt.fill_between(lats, y1, y2, color='C3', alpha=.5, label='Southern')\n",
    "\n",
    "y1 = (np.nan_to_num(ctrl_S.OHC_zonal)+ctrl_A.OHC_zonal).mean(dim='time').values\n",
    "y2 = np.nan_to_num(ctrl_S.OHC_zonal.mean(dim='time').values)\n",
    "A  = plt.fill_between(lats, y1, y2, color='C0', alpha=.5, label='Atlantic')\n",
    "\n",
    "y1 = (np.nan_to_num(ctrl_S.OHC_zonal)+ctrl_A.OHC_zonal+ctrl_P.OHC_zonal).mean(dim='time').values\n",
    "y2 = (np.nan_to_num(ctrl_S.OHC_zonal)+ctrl_A.OHC_zonal                 ).mean(dim='time').values\n",
    "P  = plt.fill_between(lats, y1, y2, color='C1', alpha=.5, label='Pacific')\n",
    "\n",
    "y1 = (np.nan_to_num(ctrl_S.OHC_zonal)+ctrl_A.OHC_zonal+ctrl_P.OHC_zonal+ctrl_I.OHC_zonal).mean(dim='time').values\n",
    "y2 = (np.nan_to_num(ctrl_S.OHC_zonal)+ctrl_A.OHC_zonal+ctrl_P.OHC_zonal                 ).mean(dim='time').values\n",
    "I  = plt.fill_between(lats, y1, y2, color='C2', alpha=.5, label='Indian')\n",
    "\n",
    "y1 = (ctrl_A.OHC_zonal+ctrl_P.OHC_zonal+ctrl_M.OHC_zonal).mean(dim='time').values\n",
    "y2 = (ctrl_A.OHC_zonal+ctrl_P.OHC_zonal                 ).mean(dim='time').values\n",
    "M  = plt.fill_between(lats, y1, y2, color='C4', alpha=.5, label='Mediterranean')\n",
    "\n",
    "G, = plt.plot(lats , ctrl.OHC_zonal.mean(dim='time').values, c='k', lw=3, label='global integral')\n",
    "\n",
    "plt.text(.98,.9, f'CTRL mean', ha='right', transform=ax.transAxes, fontsize=16)\n",
    "\n",
    "\n",
    "\n",
    "plt.xticks(np.arange(-90,91,30))\n",
    "plt.xlim((-92,92))\n",
    "plt.ylim((0,2.6e18))\n",
    "plt.xlabel('latitude', fontsize=16)\n",
    "plt.ylabel('zonal OHC integral [J/m]', fontsize=16)\n",
    "plt.legend(handles=[G, M, S, A, P, I], fontsize=16, loc=2, frameon=False)\n",
    "plt.tight_layout()\n",
    "plt.savefig(f'{path_results}/OHC/OHC_zonal_mean')"
   ]
  },
  {
   "cell_type": "code",
   "execution_count": null,
   "metadata": {},
   "outputs": [],
   "source": [
    "ctrl_zonal_trend_G = zonal_trend(ctrl)\n",
    "ctrl_zonal_trend_A = zonal_trend(ctrl_A)\n",
    "ctrl_zonal_trend_P = zonal_trend(ctrl_P)\n",
    "ctrl_zonal_trend_I = zonal_trend(ctrl_I)\n",
    "ctrl_zonal_trend_M = zonal_trend(ctrl_M)\n",
    "ctrl_zonal_trend_S = zonal_trend(ctrl_S)\n",
    "\n",
    "rcp_zonal_trend_G  = zonal_trend(rcp)\n",
    "rcp_zonal_trend_A  = zonal_trend(rcp_A)\n",
    "rcp_zonal_trend_P  = zonal_trend(rcp_P)\n",
    "rcp_zonal_trend_I  = zonal_trend(rcp_I)\n",
    "rcp_zonal_trend_M  = zonal_trend(rcp_M)\n",
    "rcp_zonal_trend_S  = zonal_trend(rcp_S)"
   ]
  },
  {
   "cell_type": "code",
   "execution_count": null,
   "metadata": {},
   "outputs": [],
   "source": [
    "f = plt.figure(figsize=(8,5))\n",
    "plt.tick_params(labelsize=14)\n",
    "plt.axhline(0, c='k', lw=.5)\n",
    "plt.plot(ctrl_zonal_trend_G.TLAT_bins, ctrl_zonal_trend_G, c='k' , lw=3  , ls='--', label='CTRL global')\n",
    "plt.plot(ctrl_zonal_trend_A.TLAT_bins, ctrl_zonal_trend_A, c='C0', lw=1.5, ls='--', label='CTRL Atlantic')\n",
    "plt.plot(ctrl_zonal_trend_P.TLAT_bins, ctrl_zonal_trend_P, c='C1', lw=1.5, ls='--', label='CTRL Pacific')\n",
    "plt.plot(ctrl_zonal_trend_I.TLAT_bins, ctrl_zonal_trend_I, c='C2', lw=1.5, ls='--', label='CTRL Indian')\n",
    "plt.plot(ctrl_zonal_trend_S.TLAT_bins, ctrl_zonal_trend_S, c='C3', lw=1.5, ls='--', label='CTRL Southern')\n",
    "plt.plot(ctrl_zonal_trend_M.TLAT_bins, ctrl_zonal_trend_M, c='C4', lw=1.5, ls='--', label='CTRL Mediterr.')\n",
    "\n",
    "plt.plot(rcp_zonal_trend_G.TLAT_bins , rcp_zonal_trend_G , c='k' , lw=3  , ls='-' , label='RCP global')\n",
    "plt.plot(rcp_zonal_trend_A.TLAT_bins , rcp_zonal_trend_A , c='C0', lw=1.5, ls='-' , label='RCP Atlantic')\n",
    "plt.plot(rcp_zonal_trend_P.TLAT_bins , rcp_zonal_trend_P , c='C1', lw=1.5, ls='-' , label='RCP Pacific')\n",
    "plt.plot(rcp_zonal_trend_I.TLAT_bins , rcp_zonal_trend_I , c='C2', lw=1.5, ls='-' , label='RCP Indian')\n",
    "plt.plot(rcp_zonal_trend_S.TLAT_bins , rcp_zonal_trend_S , c='C3', lw=1.5, ls='-' , label='RCP Southern')\n",
    "plt.plot(rcp_zonal_trend_M.TLAT_bins , rcp_zonal_trend_M , c='C4', lw=1.5, ls='-' , label='RCP Mediterr.')\n",
    "plt.xticks(np.arange(-90,91,30))\n",
    "plt.xlim((-92,92))\n",
    "plt.xlabel('latitude', fontsize=16)\n",
    "plt.ylabel('zonal OHC linear trend [J/m/yr]', fontsize=16)\n",
    "plt.legend(fontsize=12, ncol=2, frameon=False)\n",
    "plt.tight_layout()\n",
    "plt.savefig(f'{path_results}/OHC/OHC_zonal_trend')"
   ]
  },
  {
   "cell_type": "markdown",
   "metadata": {},
   "source": [
    "## latitude - depth"
   ]
  },
  {
   "cell_type": "code",
   "execution_count": null,
   "metadata": {},
   "outputs": [],
   "source": [
    "ctrl_zonal_levels_trend_G = zonal_levels_trend(ctrl)\n",
    "ctrl_zonal_levels_trend_A = zonal_levels_trend(ctrl_A)\n",
    "ctrl_zonal_levels_trend_P = zonal_levels_trend(ctrl_P)\n",
    "ctrl_zonal_levels_trend_I = zonal_levels_trend(ctrl_I)\n",
    "ctrl_zonal_levels_trend_M = zonal_levels_trend(ctrl_M)\n",
    "ctrl_zonal_levels_trend_S = zonal_levels_trend(ctrl_S)\n",
    "\n",
    "rcp_zonal_levels_trend_G  = zonal_levels_trend(rcp)\n",
    "rcp_zonal_levels_trend_A  = zonal_levels_trend(rcp_A)\n",
    "rcp_zonal_levels_trend_P  = zonal_levels_trend(rcp_P)\n",
    "rcp_zonal_levels_trend_I  = zonal_levels_trend(rcp_I)\n",
    "rcp_zonal_levels_trend_M  = zonal_levels_trend(rcp_M)\n",
    "rcp_zonal_levels_trend_S  = zonal_levels_trend(rcp_S)"
   ]
  },
  {
   "cell_type": "code",
   "execution_count": null,
   "metadata": {},
   "outputs": [],
   "source": [
    "rcp_zonal_levels_trend_I.plot()"
   ]
  },
  {
   "cell_type": "code",
   "execution_count": null,
   "metadata": {},
   "outputs": [],
   "source": [
    "f = plt.figure(figsize=(8,5))\n",
    "plt.tick_params(labelsize=14)\n",
    "X_ctrl, Y_ctrl = np.meshgrid(ctrl.TLAT_bins[11:], -tdepth/1e3)\n",
    "maxv = 7e11\n",
    "plt.pcolormesh(X_ctrl, Y_ctrl, ctrl_zonal_levels_trend_G.T, cmap=cmocean.cm.balance, vmin=-maxv, vmax=maxv)\n",
    "plt.xticks(np.arange(-90,91,30))\n",
    "plt.xlim((-92,92))\n",
    "plt.xlabel('latitude', fontsize=16)\n",
    "plt.ylabel('depth [km]', fontsize=16)\n",
    "plt.colorbar()\n",
    "plt.tight_layout()\n",
    "plt.savefig(f'{path_results}/OHC/OHC_zonal_levels_trend_ctrl')"
   ]
  },
  {
   "cell_type": "code",
   "execution_count": null,
   "metadata": {},
   "outputs": [],
   "source": [
    "f = plt.figure(figsize=(8,5))\n",
    "plt.tick_params(labelsize=14)\n",
    "X_rcp, Y_rcp = np.meshgrid(rcp.TLAT_bins[11:], -tdepth/1e3)\n",
    "maxv = 7e11\n",
    "plt.pcolormesh(X_rcp, Y_rcp, rcp_zonal_levels_trend_G.T, cmap=cmocean.cm.balance, vmin=-maxv, vmax=maxv)\n",
    "plt.xticks(np.arange(-90,91,30))\n",
    "plt.xlim((-92,92))\n",
    "plt.xlabel('latitude', fontsize=16)\n",
    "plt.ylabel('depth [km]', fontsize=16)\n",
    "plt.colorbar(extend='max')\n",
    "plt.tight_layout()\n",
    "plt.savefig(f'{path_results}/OHC/OHC_zonal_levels_trend_rcp')"
   ]
  },
  {
   "cell_type": "code",
   "execution_count": null,
   "metadata": {},
   "outputs": [],
   "source": [
    "f = plt.figure(figsize=(8,5))\n",
    "plt.tick_params(labelsize=14)\n",
    "X_rcp, Y_rcp = np.meshgrid(rcp.TLAT_bins[11:], -tdepth/1e3)\n",
    "maxv = 10e11\n",
    "plt.pcolormesh(X_rcp, Y_rcp, (rcp_zonal_levels_trend_G-ctrl_zonal_levels_trend_G).T, cmap=cmocean.cm.balance, vmin=-maxv, vmax=maxv)\n",
    "plt.xticks(np.arange(-90,91,30))\n",
    "plt.xlim((-92,92))\n",
    "plt.xlabel('latitude', fontsize=16)\n",
    "plt.ylabel('depth [km]', fontsize=16)\n",
    "plt.colorbar(extend='max')\n",
    "plt.tight_layout()\n",
    "plt.savefig(f'{path_results}/OHC/OHC_zonal_levels_trend_rcp-ctrl')"
   ]
  },
  {
   "cell_type": "code",
   "execution_count": null,
   "metadata": {},
   "outputs": [],
   "source": []
  },
  {
   "cell_type": "code",
   "execution_count": null,
   "metadata": {},
   "outputs": [],
   "source": [
    "rcp_P.OHC_zonal_levels.mean(dim='time').plot()"
   ]
  },
  {
   "cell_type": "code",
   "execution_count": null,
   "metadata": {},
   "outputs": [],
   "source": [
    "P_lat_0_100   = rcp_P.OHC_zonal_levels.sel({'z_t':slice(0,1e5)}).sum(dim='z_t')\n",
    "P_lat_100_300 = rcp_P.OHC_zonal_levels.sel({'z_t':slice(1e5,3e5)}).sum(dim='z_t')"
   ]
  },
  {
   "cell_type": "code",
   "execution_count": null,
   "metadata": {},
   "outputs": [],
   "source": [
    "rcp_times"
   ]
  },
  {
   "cell_type": "code",
   "execution_count": null,
   "metadata": {},
   "outputs": [],
   "source": [
    "plt.plot(np.polyfit(rcp_times, P_lat_0_100, 1)[0])\n",
    "plt.plot(np.polyfit(rcp_times, P_lat_100_300, 1)[0])"
   ]
  },
  {
   "cell_type": "code",
   "execution_count": null,
   "metadata": {},
   "outputs": [],
   "source": [
    "P_lat_0_100_mean_trend   = np.polyfit(rcp_times, P_lat_0_100, 1)[0]\n",
    "P_lat_100_300_mean_trend = np.polyfit(rcp_times, P_lat_100_300, 1)[0]\n",
    "P_lat_0_100_mean_trend   = np.mean(P_lat_0_100_mean_trend[np.nonzero(P_lat_0_100_mean_trend)])\n",
    "P_lat_100_300_mean_trend = np.mean(P_lat_100_300_mean_trend[np.nonzero(P_lat_100_300_mean_trend)])\n",
    "print(f'{P_lat_0_100_mean_trend:.2e}, {P_lat_100_300_mean_trend:.2e}')"
   ]
  },
  {
   "cell_type": "code",
   "execution_count": null,
   "metadata": {},
   "outputs": [],
   "source": [
    "P_lat_0_100_detr   = (P_lat_0_100   - P_lat_0_100.sel(  {'time':slice(730000,735000)}).mean(dim='time')).where(P_lat_0_100!=0)\n",
    "P_lat_100_300_detr = (P_lat_100_300 - P_lat_100_300.sel({'time':slice(730000,735000)}).mean(dim='time')).where(P_lat_100_300!=0)\n",
    "for t in range(len(rcp_times)):\n",
    "    P_lat_0_100_detr[t,:]   =  P_lat_0_100_detr[t,:]   - P_lat_0_100_mean_trend*t\n",
    "    P_lat_100_300_detr[t,:] =  P_lat_100_300_detr[t,:] - P_lat_100_300_mean_trend*t"
   ]
  },
  {
   "cell_type": "code",
   "execution_count": null,
   "metadata": {},
   "outputs": [],
   "source": [
    "X, Y = np.meshgrid(rcp_times, P_lat_100_300_detr.TLAT_bins)\n",
    "\n",
    "f, ax = plt.subplots(2,1,figsize=(8,8), sharex=True)\n",
    "\n",
    "ax[0].pcolormesh(X, Y, P_lat_0_100_detr.T  , cmap=cmocean.cm.balance)\n",
    "ax[1].pcolormesh(X, Y, P_lat_100_300_detr.T, cmap=cmocean.cm.balance)\n",
    "\n",
    "ax[1].set_xlabel('time [years]', fontsize=16)\n",
    "ax[0].text(.02, .9, '0-100 m'  , transform=ax[0].transAxes, fontsize=16)\n",
    "ax[1].text(.02, .9, '100-300 m', transform=ax[1].transAxes, fontsize=16)\n",
    "for i in range(2):\n",
    "    ax[i].tick_params(labelsize=14)\n",
    "    ax[i].set_ylim((-40,70))\n",
    "    ax[i].set_ylabel('latitude', fontsize=16)\n",
    "plt.tight_layout()\n",
    "plt.savefig(f'{path_results}/OHC/OHC_Hovmoeller_lat_Pacific_rcp')"
   ]
  },
  {
   "cell_type": "code",
   "execution_count": null,
   "metadata": {},
   "outputs": [],
   "source": [
    "P_lat_0_100.sel({'TLAT_bins':-5}, method='nearest').plot()\n"
   ]
  },
  {
   "cell_type": "code",
   "execution_count": null,
   "metadata": {},
   "outputs": [],
   "source": [
    "P_lat_100_300.sel({'TLAT_bins':-5}, method='nearest').plot()"
   ]
  },
  {
   "cell_type": "code",
   "execution_count": null,
   "metadata": {},
   "outputs": [],
   "source": [
    "P_lat_100_300.z_t"
   ]
  },
  {
   "cell_type": "code",
   "execution_count": null,
   "metadata": {},
   "outputs": [],
   "source": []
  },
  {
   "cell_type": "code",
   "execution_count": null,
   "metadata": {},
   "outputs": [],
   "source": []
  },
  {
   "cell_type": "code",
   "execution_count": null,
   "metadata": {},
   "outputs": [],
   "source": []
  },
  {
   "cell_type": "code",
   "execution_count": null,
   "metadata": {},
   "outputs": [],
   "source": []
  },
  {
   "cell_type": "code",
   "execution_count": null,
   "metadata": {},
   "outputs": [],
   "source": []
  },
  {
   "cell_type": "code",
   "execution_count": null,
   "metadata": {},
   "outputs": [],
   "source": []
  },
  {
   "cell_type": "code",
   "execution_count": null,
   "metadata": {},
   "outputs": [],
   "source": []
  },
  {
   "cell_type": "code",
   "execution_count": null,
   "metadata": {},
   "outputs": [],
   "source": []
  },
  {
   "cell_type": "code",
   "execution_count": null,
   "metadata": {},
   "outputs": [],
   "source": [
    "# hiatus\n",
    "X_rcp, Y_rcp = np.meshgrid(rcp.TLAT_bins, -tdepth[:20]/1e3)\n",
    "maxv=8e13\n",
    "plt.pcolormesh(X_rcp, Y_rcp, (rcp.OHC_zonal_levels[28,:20,:]-rcp.OHC_zonal_levels[20,:20,:]), cmap='RdBu_r', vmin=-maxv, vmax=maxv)\n",
    "plt.colorbar()\n",
    "plt.tight_layout()"
   ]
  },
  {
   "cell_type": "code",
   "execution_count": null,
   "metadata": {},
   "outputs": [],
   "source": []
  }
 ],
 "metadata": {
  "kernelspec": {
   "display_name": "Python 3",
   "language": "python",
   "name": "python3"
  },
  "language_info": {
   "codemirror_mode": {
    "name": "ipython",
    "version": 3
   },
   "file_extension": ".py",
   "mimetype": "text/x-python",
   "name": "python",
   "nbconvert_exporter": "python",
   "pygments_lexer": "ipython3",
   "version": "3.6.6"
  }
 },
 "nbformat": 4,
 "nbformat_minor": 2
}
