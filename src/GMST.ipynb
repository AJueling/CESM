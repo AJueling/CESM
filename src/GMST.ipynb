{
 "cells": [
  {
   "cell_type": "code",
   "execution_count": null,
   "metadata": {},
   "outputs": [],
   "source": [
    "import os\n",
    "import sys\n",
    "sys.path.append(\"..\")\n",
    "import numpy as np\n",
    "import xarray as xr\n",
    "import seaborn as sns\n",
    "import cartopy\n",
    "import cartopy.crs as ccrs\n",
    "import datetime\n",
    "import matplotlib as mpl\n",
    "import matplotlib.pyplot as plt"
   ]
  },
  {
   "cell_type": "code",
   "execution_count": null,
   "metadata": {},
   "outputs": [],
   "source": [
    "%matplotlib inline\n",
    "%config InlineBackend.print_figure_kwargs={'bbox_inches':None}\n",
    "%load_ext autoreload\n",
    "%autoreload 2"
   ]
  },
  {
   "cell_type": "code",
   "execution_count": null,
   "metadata": {},
   "outputs": [],
   "source": [
    "from maps import map_robinson, map_eq_earth\n",
    "from GMST import GMST_timeseries, GMST_regression, atm_heat_content, GMST_GISTEMP\n",
    "from paths import path_results, path_samoc, file_ex_atm_T_T850_U_V_yrly, file_ex_atm_ctrl, CESM_filename, file_ex_atm_lpd\n",
    "from plotting import shifted_color_map, discrete_cmap\n",
    "from constants import abs_zero, cp_air\n",
    "from timeseries import IterateOutputCESM\n",
    "from xr_integrate import xr_surf_mean, xr_zonal_mean\n",
    "from xr_DataArrays import xr_AREA"
   ]
  },
  {
   "cell_type": "code",
   "execution_count": null,
   "metadata": {},
   "outputs": [],
   "source": [
    "AREA     = xr_AREA('atm')\n",
    "AREA_low = xr_AREA('atm_f19')"
   ]
  },
  {
   "cell_type": "code",
   "execution_count": null,
   "metadata": {},
   "outputs": [],
   "source": [
    "ds = xr.open_dataset(file_ex_atm_T_T850_U_V_yrly, decode_times=False)\n",
    "print(f'The GMST is {xr_surf_mean(ds[\"T\"][-1,:,:], AREA=AREA)+abs_zero:5.2f} deg C.')"
   ]
  },
  {
   "cell_type": "markdown",
   "metadata": {},
   "source": [
    "# Observations\n",
    "HadCRUT4\n",
    "GISTEMP\n",
    "BEST\n"
   ]
  },
  {
   "cell_type": "code",
   "execution_count": null,
   "metadata": {},
   "outputs": [],
   "source": [
    "GISTEMP = GMST_GISTEMP()"
   ]
  },
  {
   "cell_type": "code",
   "execution_count": null,
   "metadata": {},
   "outputs": [],
   "source": [
    "plt.axhline(0, c='k', lw=.5)\n",
    "GISTEMP.GMST.plot()\n",
    "GISTEMP.GMST.rolling(time=10, center=True).mean().plot()"
   ]
  },
  {
   "cell_type": "markdown",
   "metadata": {},
   "source": [
    "# CESM runs"
   ]
  },
  {
   "cell_type": "code",
   "execution_count": null,
   "metadata": {},
   "outputs": [],
   "source": [
    "# %%time\n",
    "# # ca. 30 sec per run\n",
    "# gmst_ctrl = GMST_timeseries('ctrl')\n",
    "# gmst_rcp  = GMST_timeseries('rcp')\n",
    "# gmst_lpd  = GMST_timeseries('lpd')\n",
    "# gmst_lpd  = GMST_timeseries('lpi')"
   ]
  },
  {
   "cell_type": "code",
   "execution_count": null,
   "metadata": {},
   "outputs": [],
   "source": [
    "gmst_ctrl = xr.open_dataset(f'{path_results}/GMST/GMST_ctrl.nc')\n",
    "gmst_rcp  = xr.open_dataset(f'{path_results}/GMST/GMST_rcp.nc' )\n",
    "gmst_lpd  = xr.open_dataset(f'{path_results}/GMST/GMST_lpd.nc' )\n",
    "gmst_lpi  = xr.open_dataset(f'{path_results}/GMST/GMST_lpi.nc' )"
   ]
  },
  {
   "cell_type": "code",
   "execution_count": null,
   "metadata": {},
   "outputs": [],
   "source": [
    "fig = plt.figure(figsize=(8,5))\n",
    "plt.tick_params(labelsize=14)\n",
    "plt.plot(gmst_ctrl.time/365    , gmst_ctrl.GMST.values, lw=2, label='CTRL')\n",
    "plt.plot(gmst_rcp.time/365-1800, gmst_rcp.GMST.values,  lw=2, label='RCP')\n",
    "plt.xlabel('time [years]', fontsize=16)\n",
    "plt.ylabel('GMST [$^\\circ$C]', fontsize=16)\n",
    "plt.legend(fontsize=16)\n",
    "plt.tight_layout()\n",
    "plt.savefig(f'{path_results}/GMST/GMST_rcp_ctrl')"
   ]
  },
  {
   "cell_type": "code",
   "execution_count": null,
   "metadata": {},
   "outputs": [],
   "source": [
    "N_ctrl = len(gmst_ctrl.coords['time'])\n",
    "N_rcp  = len(gmst_rcp.coords['time'])\n",
    "print(N_ctrl, N_rcp)\n",
    "\n",
    "fig = plt.figure(figsize=(8,5))\n",
    "plt.tick_params(labelsize=14)\n",
    "for i in range(N_rcp):\n",
    "    plt.plot(gmst_rcp.coords['lat'], \n",
    "             gmst_rcp.T_zonal[i,:]-gmst_ctrl.T_zonal[:,:].mean(dim='time'), \n",
    "             color=plt.cm.rainbow(i/N_rcp), alpha=.4, lw=.5,\n",
    "             label='')\n",
    "for i in range(N_rcp):\n",
    "    if (i-5)%10==0:\n",
    "        plt.plot(gmst_rcp.coords['lat'], \n",
    "                 gmst_rcp.T_zonal[i-5:i+5,:].mean(dim='time')-gmst_ctrl.T_zonal[:,:].mean(dim='time'), \n",
    "                 color=plt.cm.rainbow(i/N_rcp), alpha=1, lw=2.5, ls='--',\n",
    "                 label=f'decade {int((i-5)/10)+1}')\n",
    "plt.axhline(0, c='k', lw=.5)\n",
    "plt.legend(ncol=3, frameon=False, fontsize=16)\n",
    "plt.ylabel('zonally averaged temp. RCP - CTRL [K]', fontsize=16)\n",
    "plt.xlabel('Latitude', fontsize=16)\n",
    "plt.xticks(np.arange(-90,91,30))\n",
    "plt.tight_layout()\n",
    "plt.savefig(f'{path_results}/GMST/T_zonal_rcp-ctrl')"
   ]
  },
  {
   "cell_type": "markdown",
   "metadata": {},
   "source": [
    "## low resolution runs"
   ]
  },
  {
   "cell_type": "code",
   "execution_count": null,
   "metadata": {},
   "outputs": [],
   "source": [
    "plt.plot(gmst_ctrl.time/365+1900, gmst_ctrl.GMST)\n",
    "plt.plot(gmst_rcp.time/365+ 200 , gmst_rcp.GMST)\n",
    "plt.plot(gmst_lpd.time/365+1400 , gmst_lpd.GMST)\n",
    "plt.plot(gmst_lpi.time/365-1600 , gmst_lpi.GMST)"
   ]
  },
  {
   "cell_type": "markdown",
   "metadata": {},
   "source": [
    "# linear trend maps"
   ]
  },
  {
   "cell_type": "code",
   "execution_count": null,
   "metadata": {},
   "outputs": [],
   "source": [
    "# %%time\n",
    "# # ca 10:30 min\n",
    "# trends_ctrl = GMST_regression('ctrl')\n",
    "# trends_ctrl.to_netcdf(path=f'{path_results}/GMST/trend_ctrl.nc' , mode='w')\n",
    "# trends_rcp  = GMST_regression('rcp')\n",
    "# trends_rcp.to_netcdf(path=f'{path_results}/GMST/trend_rcp.nc' , mode='w')"
   ]
  },
  {
   "cell_type": "code",
   "execution_count": null,
   "metadata": {},
   "outputs": [],
   "source": [
    "trends_ctrl = xr.open_dataarray(f'{path_results}/GMST/trend_ctrl.nc')\n",
    "trends_rcp  = xr.open_dataarray(f'{path_results}/GMST/trend_rcp.nc' )"
   ]
  },
  {
   "cell_type": "code",
   "execution_count": null,
   "metadata": {},
   "outputs": [],
   "source": [
    "times = ['100-299', '2000-2099']\n",
    "for i, trends in enumerate([trends_ctrl, trends_rcp]):\n",
    "    run = ['ctrl', 'rcp'][i]\n",
    "    label = f'{times[i]} air surface temperature trend [K/century]'\n",
    "    minv, maxv = -2, 6\n",
    "    cmap = shifted_color_map(mpl.cm.RdBu_r, start=.33, midpoint=0.5, stop=1., name='shrunk')\n",
    "    cmap = discrete_cmap(16, cmap)\n",
    "    filename = f'{path_results}/GMST/T_trend_map_{run}'\n",
    "    map_eq_earth(xa=trends, domain='atm', cmap=cmap, minv=minv, maxv=maxv, label=label, filename=filename)"
   ]
  },
  {
   "cell_type": "markdown",
   "metadata": {},
   "source": [
    "# Atmospheric Heat Content (AHC)\n",
    "$$ \\mathrm{AHC} = \\frac{1}{g} \\int \\int \\int_{0}^{1000hPa} T(p, x, y) dp dx dy$$"
   ]
  },
  {
   "cell_type": "code",
   "execution_count": null,
   "metadata": {},
   "outputs": [],
   "source": [
    "ds = xr.open_dataset(file_ex_atm_ctrl)\n",
    "dp = (ds.ilev-ds.ilev.shift(ilev=1)).dropna(dim='ilev')\n",
    "dp = dp.drop(['ilev'])\n",
    "dp = dp.rename({'ilev':'lev'})\n",
    "dp = dp.assign_coords(lev=ds.lev)"
   ]
  },
  {
   "cell_type": "code",
   "execution_count": null,
   "metadata": {},
   "outputs": [],
   "source": [
    "%%time\n",
    "# 100 sec\n",
    "for run in ['ctrl', 'rcp']:\n",
    "    print(run)\n",
    "    for i, (y,m,s) in enumerate(IterateOutputCESM(domain='atm', run=run, tavg='yrly', name='T_T850_U_V')):\n",
    "        ds = xr.open_dataset(s, decode_times=False)\n",
    "        da = atm_heat_content(ds, dp, AREA)    \n",
    "        if i==0:\n",
    "            da_new = da\n",
    "        else: \n",
    "            da_new = xr.concat([da_new, da], dim='time')\n",
    "    da_new.to_netcdf(f'{path_results}/GMST/AHC_yrly_{run}.nc')"
   ]
  },
  {
   "cell_type": "code",
   "execution_count": null,
   "metadata": {},
   "outputs": [],
   "source": [
    "AHC_ctrl  = xr.open_dataarray(f'{path_results}/GMST/AHC_yrly_ctrl.nc', decode_times=False)\n",
    "AHC_rcp   = xr.open_dataarray(f'{path_results}/GMST/AHC_yrly_rcp.nc' , decode_times=False)\n",
    "dAHC_ctrl = (AHC_ctrl - AHC_ctrl.shift(time=1)).dropna(dim='time')\n",
    "dAHC_rcp  = (AHC_rcp  - AHC_rcp .shift(time=1)).dropna(dim='time')"
   ]
  },
  {
   "cell_type": "code",
   "execution_count": null,
   "metadata": {},
   "outputs": [],
   "source": [
    "AHC_ctrl[101].time/365"
   ]
  },
  {
   "cell_type": "code",
   "execution_count": null,
   "metadata": {},
   "outputs": [],
   "source": [
    "AHC_0 = AHC_ctrl[101]\n",
    "\n",
    "f = plt.figure(figsize=(8,5))\n",
    "plt.tick_params(labelsize=14)\n",
    "\n",
    "plt.axhline(0, c='k', lw=.5)\n",
    "plt.axvline(200, c='g', lw=.5)\n",
    "plt.plot(AHC_ctrl.time/365    , (AHC_ctrl-AHC_0)/1e21)\n",
    "plt.plot(AHC_rcp .time/365+200, (AHC_rcp -AHC_0)/1e21)\n",
    "plt.ylabel('AHC anomaly [ZJ]', fontsize=16)\n",
    "plt.xlabel('time [years]', fontsize=16)\n",
    "plt.tight_layout()\n",
    "\n",
    "f = plt.figure(figsize=(8,5))\n",
    "plt.tick_params(labelsize=14)\n",
    "\n",
    "plt.axhline(0, c='k', lw=.5)\n",
    "plt.axvline(200, c='g', lw=.5)\n",
    "plt.plot(dAHC_ctrl.time/365    , dAHC_ctrl/1e21)\n",
    "plt.plot(dAHC_rcp .time/365+300, dAHC_rcp /1e21)\n",
    "plt.ylabel('$\\Delta$AHC [ZJ/yr]', fontsize=16)\n",
    "plt.xlabel('time [years]', fontsize=16)\n",
    "plt.tight_layout()\n",
    "plt.savefig(f'{path_results}/GMST/dAHC')"
   ]
  },
  {
   "cell_type": "code",
   "execution_count": null,
   "metadata": {},
   "outputs": [],
   "source": [
    "dGMST_ctrl = (gmst_ctrl.GMST - gmst_ctrl.GMST.shift(time=1)).dropna(dim='time')\n",
    "dGMST_rcp  = (gmst_rcp .GMST - gmst_rcp .GMST.shift(time=1)).dropna(dim='time')"
   ]
  },
  {
   "cell_type": "code",
   "execution_count": null,
   "metadata": {},
   "outputs": [],
   "source": [
    "plt.axhline(0, c='k', lw=.5)\n",
    "plt.axvline(0, c='k', lw=.5)\n",
    "plt.scatter(dGMST_ctrl-dGMST_ctrl.mean(), dAHC_ctrl-dAHC_ctrl.mean())\n",
    "plt.scatter(dGMST_rcp -dGMST_rcp .mean(), dAHC_rcp -dAHC_rcp .mean())"
   ]
  },
  {
   "cell_type": "markdown",
   "metadata": {},
   "source": [
    "as expected, positive correlation between $\\Delta$AHC and $\\Delta$GMST"
   ]
  },
  {
   "cell_type": "code",
   "execution_count": null,
   "metadata": {},
   "outputs": [],
   "source": []
  }
 ],
 "metadata": {
  "kernelspec": {
   "display_name": "Python 3",
   "language": "python",
   "name": "python3"
  },
  "language_info": {
   "codemirror_mode": {
    "name": "ipython",
    "version": 3
   },
   "file_extension": ".py",
   "mimetype": "text/x-python",
   "name": "python",
   "nbconvert_exporter": "python",
   "pygments_lexer": "ipython3",
   "version": "3.6.6"
  }
 },
 "nbformat": 4,
 "nbformat_minor": 2
}
