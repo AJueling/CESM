{
 "cells": [
  {
   "cell_type": "code",
   "execution_count": null,
   "metadata": {},
   "outputs": [],
   "source": [
    "import sys\n",
    "sys.path.append(\"..\")"
   ]
  },
  {
   "cell_type": "code",
   "execution_count": null,
   "metadata": {},
   "outputs": [],
   "source": [
    "import numpy as np\n",
    "import xarray as xr\n",
    "import seaborn as sns\n",
    "import cartopy\n",
    "import cartopy.crs as ccrs\n",
    "import matplotlib as mpl\n",
    "import matplotlib.pyplot as plt"
   ]
  },
  {
   "cell_type": "code",
   "execution_count": null,
   "metadata": {},
   "outputs": [],
   "source": [
    "%matplotlib inline\n",
    "%config InlineBackend.print_figure_kwargs={'bbox_inches':None}\n",
    "%load_ext autoreload\n",
    "%autoreload 2"
   ]
  },
  {
   "cell_type": "code",
   "execution_count": null,
   "metadata": {},
   "outputs": [],
   "source": [
    "from maps import map_robinson\n",
    "from GMST import GMST_timeseries, GMST_regression\n",
    "from paths import file_ex_atm_T_T850_U_V_yrly, path_results, path_samoc\n",
    "from plotting import shifted_color_map\n",
    "from constants import abs_zero\n",
    "from timeseries import IterateOutputCESM\n",
    "from xr_integrate import xr_surf_mean, xr_zonal_mean\n",
    "from xr_DataArrays import xr_AREA"
   ]
  },
  {
   "cell_type": "code",
   "execution_count": null,
   "metadata": {},
   "outputs": [],
   "source": [
    "AREA = xr_AREA('atm')"
   ]
  },
  {
   "cell_type": "code",
   "execution_count": null,
   "metadata": {},
   "outputs": [],
   "source": [
    "ds = xr.open_dataset(file_ex_atm_T_T850_U_V_yrly, decode_times=False)\n",
    "print(f'The GMST is {xr_surf_mean(ds[\"T\"][-1,:,:], AREA=AREA)+abs_zero:5.2f} deg C.')"
   ]
  },
  {
   "cell_type": "markdown",
   "metadata": {},
   "source": [
    "# GMST overview"
   ]
  },
  {
   "cell_type": "code",
   "execution_count": null,
   "metadata": {},
   "outputs": [],
   "source": [
    "%%time\n",
    "gmst_ctrl = GMST_timeseries('ctrl')\n",
    "gmst_rcp  = GMST_timeseries('rcp')"
   ]
  },
  {
   "cell_type": "code",
   "execution_count": null,
   "metadata": {},
   "outputs": [],
   "source": [
    "gmst_ctrl = xr.open_dataset(f'{path_results}/GMST/GMST_ctrl.nc')\n",
    "gmst_rcp  = xr.open_dataset(f'{path_results}/GMST/GMST_rcp.nc' )"
   ]
  },
  {
   "cell_type": "code",
   "execution_count": null,
   "metadata": {},
   "outputs": [],
   "source": [
    "gmst_rcp"
   ]
  },
  {
   "cell_type": "code",
   "execution_count": null,
   "metadata": {},
   "outputs": [],
   "source": [
    "fig = plt.figure(figsize=(8,5))\n",
    "plt.tick_params(labelsize=14)\n",
    "plt.plot(gmst_ctrl.year    , gmst_ctrl.GMST.values, lw=3, label='ctrl')\n",
    "plt.plot(gmst_rcp.year-1800, gmst_rcp.GMST.values,  lw=3, label='RCP')\n",
    "plt.xlabel('time [years]', fontsize=16)\n",
    "plt.ylabel('GMST [$^\\circ$C]', fontsize=16)\n",
    "plt.legend(fontsize=16)\n",
    "plt.tight_layout()\n",
    "plt.savefig(f'{path_results}/GMST/GMST_rcp_ctrl')"
   ]
  },
  {
   "cell_type": "code",
   "execution_count": null,
   "metadata": {},
   "outputs": [],
   "source": [
    "N_ctrl = len(gmst_ctrl.coords['year'])\n",
    "N_rcp  = len(gmst_rcp.coords['year'])\n",
    "print(N_ctrl, N_rcp)\n",
    "\n",
    "fig = plt.figure(figsize=(8,5))\n",
    "plt.tick_params(labelsize=14)\n",
    "for i in range(N_rcp):\n",
    "    plt.plot(gmst_rcp.coords['lat'], \n",
    "             gmst_rcp.T_zonal[i,:]-gmst_ctrl.T_zonal[:,:].mean(dim='year'), \n",
    "             color=plt.cm.rainbow(i/N_rcp), alpha=.4, lw=.5,\n",
    "             label='')\n",
    "for i in range(N_rcp):\n",
    "    if (i-5)%10==0:\n",
    "        plt.plot(gmst_rcp.coords['lat'], \n",
    "                 gmst_rcp.T_zonal[i-5:i+5,:].mean(dim='year')-gmst_ctrl.T_zonal[:,:].mean(dim='year'), \n",
    "                 color=plt.cm.rainbow(i/N_rcp), alpha=1, lw=2.5, ls='--',\n",
    "                 label=f'decade {int((i-5)/10)+1}')\n",
    "plt.axhline(0, c='k', lw=.5)\n",
    "plt.legend(ncol=3, frameon=False, fontsize=16)\n",
    "plt.ylabel('zonally averaged temp. RCP - CTRL [K]', fontsize=16)\n",
    "plt.xlabel('Latitude', fontsize=16)\n",
    "plt.xticks(np.arange(-90,91,30))\n",
    "plt.tight_layout()\n",
    "plt.savefig(f'{path_results}/GMST/T_zonal_rcp-ctrl')"
   ]
  },
  {
   "cell_type": "markdown",
   "metadata": {},
   "source": [
    "# Trends"
   ]
  },
  {
   "cell_type": "code",
   "execution_count": null,
   "metadata": {},
   "outputs": [],
   "source": [
    "%%time\n",
    "trends_ctrl = GMST_regression('ctrl')\n",
    "trends_ctrl.to_netcdf(path=f'{path_results}/GMST/trend_ctrl.nc' , mode='w')\n",
    "trends_rcp  = GMST_regression('rcp')\n",
    "trends_rcp.to_netcdf(path=f'{path_results}/GMST/trend_rcp.nc' , mode='w')"
   ]
  },
  {
   "cell_type": "code",
   "execution_count": null,
   "metadata": {},
   "outputs": [],
   "source": [
    "trends_ctrl = xr.open_dataarray(f'{path_results}/GMST/trend_ctrl.nc')\n",
    "trends_rcp  = xr.open_dataarray(f'{path_results}/GMST/trend_rcp.nc' )"
   ]
  },
  {
   "cell_type": "code",
   "execution_count": null,
   "metadata": {},
   "outputs": [],
   "source": [
    "for i, trends in enumerate([trends_ctrl, trends_rcp]):\n",
    "    run = ['ctrl', 'rcp'][i]\n",
    "    label = 'Surface temperature trend [K/century]'\n",
    "    minv, maxv = -2, 6\n",
    "    cmap = shifted_color_map(mpl.cm.RdBu_r, start=.33, midpoint=0.5, stop=1., name='shrunk')\n",
    "    filename = f'{path_results}/GMST/T_trend_map_{run}'\n",
    "    \n",
    "    map_robinson(xa=trends, domain='atm', cmap=cmap, minv=minv, maxv=maxv, label=label, filename=filename)\n",
    "    "
   ]
  },
  {
   "cell_type": "code",
   "execution_count": null,
   "metadata": {},
   "outputs": [],
   "source": []
  }
 ],
 "metadata": {
  "kernelspec": {
   "display_name": "Python 3",
   "language": "python",
   "name": "python3"
  },
  "language_info": {
   "codemirror_mode": {
    "name": "ipython",
    "version": 3
   },
   "file_extension": ".py",
   "mimetype": "text/x-python",
   "name": "python",
   "nbconvert_exporter": "python",
   "pygments_lexer": "ipython3",
   "version": "3.6.6"
  }
 },
 "nbformat": 4,
 "nbformat_minor": 2
}
