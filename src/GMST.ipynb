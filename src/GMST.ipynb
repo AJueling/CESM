{
 "cells": [
  {
   "cell_type": "code",
   "execution_count": null,
   "metadata": {},
   "outputs": [],
   "source": [
    "import sys\n",
    "sys.path.append(\"..\")"
   ]
  },
  {
   "cell_type": "code",
   "execution_count": null,
   "metadata": {},
   "outputs": [],
   "source": [
    "import numpy as np\n",
    "import xarray as xr\n",
    "import seaborn as sns\n",
    "import matplotlib.pyplot as plt"
   ]
  },
  {
   "cell_type": "code",
   "execution_count": null,
   "metadata": {},
   "outputs": [],
   "source": [
    "%matplotlib inline\n",
    "%config InlineBackend.print_figure_kwargs={'bbox_inches':None}\n",
    "%load_ext autoreload\n",
    "%autoreload 2"
   ]
  },
  {
   "cell_type": "code",
   "execution_count": null,
   "metadata": {},
   "outputs": [],
   "source": [
    "from paths import file_ex_atm_T_T850_yrly, path_results, path_samoc\n",
    "from constants import abs_zero\n",
    "from timeseries import GMST_timeseries\n",
    "from timeseries import IterateOutputCESM\n",
    "from xr_integrate import xr_surf_mean, xr_zonal_mean\n",
    "from xr_DataArrays import generate_xr_AREA"
   ]
  },
  {
   "cell_type": "code",
   "execution_count": null,
   "metadata": {},
   "outputs": [],
   "source": [
    "ds = xr.open_dataset(file_ex_atm_T_T850_yrly, decode_times=False)\n",
    "AREA = generate_xr_AREA('atm')"
   ]
  },
  {
   "cell_type": "code",
   "execution_count": null,
   "metadata": {},
   "outputs": [],
   "source": [
    "xr_surf_mean(ds['T'][-1,:,:], AREA=AREA)-273.15"
   ]
  },
  {
   "cell_type": "code",
   "execution_count": null,
   "metadata": {},
   "outputs": [],
   "source": [
    "ds.coords"
   ]
  },
  {
   "cell_type": "code",
   "execution_count": null,
   "metadata": {},
   "outputs": [],
   "source": [
    "zm = xr_zonal_mean(ds['T'][-1,:,:], AREA=AREA, dx=1, lat_name='lat')"
   ]
  },
  {
   "cell_type": "code",
   "execution_count": null,
   "metadata": {},
   "outputs": [],
   "source": [
    "plt.plot(zm.lat_bins, zm + abs_zero) "
   ]
  },
  {
   "cell_type": "code",
   "execution_count": null,
   "metadata": {},
   "outputs": [],
   "source": [
    "(ds['T'][-1,:,:]-273.15).plot()"
   ]
  },
  {
   "cell_type": "code",
   "execution_count": null,
   "metadata": {},
   "outputs": [],
   "source": [
    "%%time\n",
    "gmst_ctrl = GMST_timeseries('ctrl')\n",
    "gmst_rcp  = GMST_timeseries('rcp')"
   ]
  },
  {
   "cell_type": "code",
   "execution_count": null,
   "metadata": {},
   "outputs": [],
   "source": [
    "plt.plot(gmst_ctrl.GMST.values, label='ctrl')\n",
    "plt.plot(gmst_rcp.GMST.values,  label='RCP85')\n",
    "plt.xlabel('time [years]')\n",
    "plt.ylabel('GMST [$^\\circ$C]')\n",
    "plt.legend()\n",
    "plt.tight_layout()\n",
    "plt.savefig(f'{path_results}/GMST/GMST_rcp_ctrl')"
   ]
  },
  {
   "cell_type": "code",
   "execution_count": null,
   "metadata": {},
   "outputs": [],
   "source": [
    "gmst_rcp.T_zonal.mean(dim='year').plot()"
   ]
  },
  {
   "cell_type": "code",
   "execution_count": null,
   "metadata": {},
   "outputs": [],
   "source": [
    "N_ctrl = len(gmst_ctrl.coords['year'])\n",
    "N_rcp  = len(gmst_rcp.coords['year'])\n",
    "print(N_ctrl, N_rcp)\n",
    "N = min(N_ctrl, N_rcp)\n",
    "\n",
    "for i in range(N):\n",
    "    plt.plot(gmst_rcp.coords['lat_bins'], \n",
    "             gmst_rcp.T_zonal[i,:]-gmst_ctrl.T_zonal[i,:], \n",
    "             color=plt.cm.rainbow(i/N), alpha=.4, lw=.5,\n",
    "             label='')\n",
    "for i in range(N):\n",
    "    if (i-5)%10==0:\n",
    "        plt.plot(gmst_rcp.coords['lat_bins'], \n",
    "                 gmst_rcp.T_zonal[i-5:i+5,:].mean(dim='year')-gmst_ctrl.T_zonal[i-5:i+5,:].mean(dim='year'), \n",
    "                 color=plt.cm.rainbow(i/N), alpha=1, lw=2, ls='--',\n",
    "                 label=f'decade {int((i-5)/10)}')\n",
    "plt.axhline(0, c='k', lw=.5)\n",
    "plt.legend(ncol=4, frameon=False)\n",
    "plt.ylabel('zonally averaged temp. RCP8.5 - CTRL [K]')\n",
    "plt.xlabel('Latitude')\n",
    "plt.xticks(np.arange(-90,91,30))\n",
    "plt.tight_layout()\n",
    "plt.savefig(f'{path_results}/GMST/T_zonal_rcp-ctrl')"
   ]
  },
  {
   "cell_type": "code",
   "execution_count": null,
   "metadata": {},
   "outputs": [],
   "source": [
    "# trends\n",
    "from xr_regression import xr_linear_trends_2D\n",
    "# create an example dataset\n",
    "da = xr.DataArray(np.random.rand(10,30,40), dims=['time', 'lat', 'lon'])\n",
    "da_trend = xr_linear_trends_2D(da, ('lat', 'lon'))"
   ]
  },
  {
   "cell_type": "code",
   "execution_count": null,
   "metadata": {},
   "outputs": [],
   "source": [
    "da_trend.plot()"
   ]
  },
  {
   "cell_type": "code",
   "execution_count": null,
   "metadata": {},
   "outputs": [],
   "source": [
    "from xr_regression import atm_field_regression\n",
    "trends_ctrl = atm_field_regression('ctrl')\n",
    "trends_ctrl.to_netcdf(path=f'{path_results}/GMST/trend_ctrl.nc' , mode='w')\n",
    "\n",
    "trends_rcp  = atm_field_regression('rcp')\n",
    "trends_rcp.to_netcdf(path=f'{path_results}/GMST/trend_rcp.nc' , mode='w')"
   ]
  },
  {
   "cell_type": "code",
   "execution_count": null,
   "metadata": {},
   "outputs": [],
   "source": [
    "trends_ctrl.plot()"
   ]
  },
  {
   "cell_type": "code",
   "execution_count": null,
   "metadata": {},
   "outputs": [],
   "source": [
    "trends_rcp.plot()"
   ]
  },
  {
   "cell_type": "code",
   "execution_count": null,
   "metadata": {},
   "outputs": [],
   "source": [
    "trends_ctrl"
   ]
  },
  {
   "cell_type": "code",
   "execution_count": null,
   "metadata": {},
   "outputs": [],
   "source": [
    "(trends_rcp/abs(trends_ctrl)).plot(vmin=-8,vmax=10, cmap='RdBu_r')"
   ]
  },
  {
   "cell_type": "code",
   "execution_count": null,
   "metadata": {},
   "outputs": [],
   "source": [
    "%%time\n",
    "da_trend = xr_linear_trends_2D(da, ('lat', 'lon'))"
   ]
  },
  {
   "cell_type": "code",
   "execution_count": null,
   "metadata": {},
   "outputs": [],
   "source": [
    "trend.plot()"
   ]
  },
  {
   "cell_type": "code",
   "execution_count": null,
   "metadata": {},
   "outputs": [],
   "source": [
    "# difference between \n",
    "ds_last_ctrl = xr.open_dataset(f'{path_samoc}/ctrl/atm_yrly_T_T850_0266.nc', decode_times=False)\n",
    "ds_last_rcp = xr.open_dataset(f'{path_samoc}/rcp/atm_yrly_T_T850_2066.nc', decode_times=False)\n",
    "TEMP_diff = ds_last_rcp['T'][-1,:,:]-ds_last_ctrl['T'][-1,:,:]\n",
    "im = TEMP_diff.plot()\n",
    "plt.colorbar(im=im)"
   ]
  },
  {
   "cell_type": "code",
   "execution_count": null,
   "metadata": {},
   "outputs": [],
   "source": []
  },
  {
   "cell_type": "code",
   "execution_count": null,
   "metadata": {},
   "outputs": [],
   "source": [
    "z = np.array([0,1])\n",
    "y = np.array([0,1,2])\n",
    "x = np.array([0,1,2,3])\n",
    "A = xr.DataArray(data=np.ones((2,3,4)),\n",
    "                      coords={'z': z, 'y': y, 'x': x},\n",
    "                      dims=('z', 'y', 'x') )\n",
    "B = xr.DataArray(data=np.ones((3,4)),\n",
    "                      coords={'y': y, 'x': x},\n",
    "                      dims=('y', 'x') )"
   ]
  },
  {
   "cell_type": "code",
   "execution_count": null,
   "metadata": {},
   "outputs": [],
   "source": [
    "C = xr.Dataset()"
   ]
  },
  {
   "cell_type": "code",
   "execution_count": null,
   "metadata": {},
   "outputs": [],
   "source": [
    "C['B'] = B\n",
    "C['A'] = A\n"
   ]
  },
  {
   "cell_type": "code",
   "execution_count": null,
   "metadata": {},
   "outputs": [],
   "source": [
    "C"
   ]
  },
  {
   "cell_type": "code",
   "execution_count": null,
   "metadata": {},
   "outputs": [],
   "source": []
  }
 ],
 "metadata": {
  "kernelspec": {
   "display_name": "Python 3",
   "language": "python",
   "name": "python3"
  },
  "language_info": {
   "codemirror_mode": {
    "name": "ipython",
    "version": 3
   },
   "file_extension": ".py",
   "mimetype": "text/x-python",
   "name": "python",
   "nbconvert_exporter": "python",
   "pygments_lexer": "ipython3",
   "version": "3.6.6"
  }
 },
 "nbformat": 4,
 "nbformat_minor": 2
}
