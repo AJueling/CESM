{
 "cells": [
  {
   "cell_type": "markdown",
   "metadata": {},
   "source": [
    "# Barotropic Stream Function\n",
    "\n",
    "- BSF minimum in the gyre region [64.9S,337.8E]"
   ]
  },
  {
   "cell_type": "code",
   "execution_count": null,
   "metadata": {},
   "outputs": [],
   "source": [
    "import sys\n",
    "sys.path.append(\"..\")\n",
    "import numpy as np\n",
    "import xarray as xr\n",
    "import matplotlib.pyplot as plt"
   ]
  },
  {
   "cell_type": "code",
   "execution_count": null,
   "metadata": {},
   "outputs": [],
   "source": [
    "%matplotlib inline\n",
    "%config InlineBackend.print_figure_kwargs={'bbox_inches':None}\n",
    "%load_ext autoreload\n",
    "%autoreload 2\n",
    "%aimport - numpy - matplotlib.pyplot"
   ]
  },
  {
   "cell_type": "code",
   "execution_count": null,
   "metadata": {},
   "outputs": [],
   "source": [
    "from BSF import calculate_BSF, DP_transport, WG_transport\n",
    "from grid import find_array_idx\n",
    "from paths import file_ex_ocn_ctrl, path_results, path_samoc\n",
    "from regions import Drake_Passage, DP_North\n",
    "from timeseries import IterateOutputCESM\n",
    "from xr_DataArrays import xr_DZ, xr_DYU"
   ]
  },
  {
   "cell_type": "code",
   "execution_count": null,
   "metadata": {},
   "outputs": [],
   "source": [
    "%%time\n",
    "# 20 sec per file\n",
    "# run = 'ctrl'\n",
    "run = 'rcp'\n",
    "for i, (y,m,s) in enumerate(IterateOutputCESM(domain='ocn', run=run, tavg='yrly', name='UVEL_VVEL')):\n",
    "    # ca. 30 s per year\n",
    "    print(i, y, s)\n",
    "    ds = xr.open_dataset(s, decode_times=False)\n",
    "    \n",
    "    BSF = calculate_BSF(ds)\n",
    "    ds.close()\n",
    "#     del BSF.encoding[\"contiguous\"]\n",
    "#     if i==0:\n",
    "#         BSF_out = BSF.copy()\n",
    "#         BSF_out = xr.concat([BSF_out, BSF], dim='time')\n",
    "#     if y==201: break\n",
    "    BSF.to_netcdf(f'{path_samoc}/BSF/BSF_{run}_{y}.nc')\n",
    "    BSF.close()\n",
    "#     if y==101: break\n",
    "combined = xr.open_mfdataset(f'{path_samoc}/BSF/BSF_{run}_*.nc',\n",
    "                             concat_dim='time',\n",
    "                             autoclose=True,\n",
    "                             coords='minimal')\n",
    "combined.to_netcdf(f'{path_samoc}/BSF/BSF_{run}.nc')"
   ]
  },
  {
   "cell_type": "code",
   "execution_count": null,
   "metadata": {},
   "outputs": [],
   "source": [
    "BSF"
   ]
  },
  {
   "cell_type": "code",
   "execution_count": null,
   "metadata": {},
   "outputs": [],
   "source": [
    "BSF_ctrl = xr.open_dataset(f'{path_samoc}/BSF/BSF_{run}.nc', decode_times=False)"
   ]
  },
  {
   "cell_type": "code",
   "execution_count": null,
   "metadata": {},
   "outputs": [],
   "source": [
    "BSF_ctrl"
   ]
  },
  {
   "cell_type": "code",
   "execution_count": null,
   "metadata": {},
   "outputs": [],
   "source": [
    "run = 'ctrl'\n",
    "xr.set_options(file_cache_maxsize=8)\n",
    "combined = xr.open_mfdataset(f'{path_samoc}/BSF/BSF_{run}_*.nc',\n",
    "                             concat_dim='time',\n",
    "                             autoclose=True,\n",
    "                             coords='minimal')\n",
    "combined.to_netcdf(f'{path_samoc}/BSF/BSF_{run}.nc')"
   ]
  },
  {
   "cell_type": "code",
   "execution_count": null,
   "metadata": {},
   "outputs": [],
   "source": [
    "BSF_ctrl = xr.open_dataarray(f'{path_samoc}/BSF/BSF_ctrl.nc', decode_times=False)\n",
    "BSF_rcp  = xr.open_dataarray(f'{path_samoc}/BSF/BSF_rcp.nc' , decode_times=False)"
   ]
  },
  {
   "cell_type": "code",
   "execution_count": null,
   "metadata": {},
   "outputs": [],
   "source": [
    "print(len(BSF_ctrl))\n",
    "print(len(BSF_rcp))\n"
   ]
  },
  {
   "cell_type": "code",
   "execution_count": null,
   "metadata": {},
   "outputs": [],
   "source": [
    "BSF_rcp"
   ]
  },
  {
   "cell_type": "code",
   "execution_count": null,
   "metadata": {},
   "outputs": [],
   "source": [
    "f = plt.figure(figsize=(8,5))\n",
    "plt.tick_params(labelsize=14)\n",
    "\n",
    "plt.plot(DP_transport(BSF_ctrl).values/1e6, lw=2, label='CTRL')\n",
    "plt.plot(DP_transport(BSF_rcp ).values /1e6, lw=2, label='RCP')\n",
    "\n",
    "plt.xlabel('time [years]', fontsize=16)\n",
    "plt.ylabel('Drake Passage transport [Sv]', fontsize=16)\n",
    "plt.legend(fontsize=16, frameon=False)\n",
    "plt.tight_layout()\n",
    "plt.savefig(f'{path_results}/BSF/BSF_DP_timeseries')"
   ]
  },
  {
   "cell_type": "code",
   "execution_count": null,
   "metadata": {},
   "outputs": [],
   "source": [
    "f = plt.figure(figsize=(8,5))\n",
    "plt.tick_params(labelsize=14)\n",
    "\n",
    "plt.plot(WG_transport(BSF_ctrl).values/1e6, lw=2, label='CTRL')\n",
    "plt.plot(WG_transport(BSF_rcp ).values /1e6, lw=2, label='RCP')\n",
    "\n",
    "plt.xlabel('time [years]', fontsize=16)\n",
    "plt.ylabel('Weddell Gyre transport [Sv]', fontsize=16)\n",
    "plt.legend(fontsize=16, frameon=False)\n",
    "plt.tight_layout()\n",
    "plt.savefig(f'{path_results}/BSF/BSF_WG_timeseries')"
   ]
  },
  {
   "cell_type": "code",
   "execution_count": null,
   "metadata": {},
   "outputs": [],
   "source": []
  }
 ],
 "metadata": {
  "kernelspec": {
   "display_name": "Python 3",
   "language": "python",
   "name": "python3"
  },
  "language_info": {
   "codemirror_mode": {
    "name": "ipython",
    "version": 3
   },
   "file_extension": ".py",
   "mimetype": "text/x-python",
   "name": "python",
   "nbconvert_exporter": "python",
   "pygments_lexer": "ipython3",
   "version": "3.6.6"
  }
 },
 "nbformat": 4,
 "nbformat_minor": 2
}
