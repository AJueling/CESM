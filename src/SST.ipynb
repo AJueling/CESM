{
 "cells": [
  {
   "cell_type": "markdown",
   "metadata": {},
   "source": [
    "# Sea Surface Temperature"
   ]
  },
  {
   "cell_type": "code",
   "execution_count": null,
   "metadata": {},
   "outputs": [],
   "source": [
    "# import pickle\n",
    "import sys\n",
    "sys.path.append(\"..\")\n",
    "import scipy as sp\n",
    "import numpy as np\n",
    "import xarray as xr\n",
    "import seaborn as sns\n",
    "import cmocean\n",
    "import cartopy\n",
    "import cartopy.crs as ccrs\n",
    "import matplotlib as mpl\n",
    "import matplotlib.pyplot as plt\n",
    "import matplotlib.patches as mpatches"
   ]
  },
  {
   "cell_type": "code",
   "execution_count": null,
   "metadata": {},
   "outputs": [],
   "source": [
    "%matplotlib inline\n",
    "%config InlineBackend.print_figure_kwargs={'bbox_inches':None}\n",
    "%load_ext autoreload\n",
    "%autoreload 2\n",
    "%aimport - numpy - scipy - matplotlib.pyplot"
   ]
  },
  {
   "cell_type": "code",
   "execution_count": null,
   "metadata": {},
   "outputs": [],
   "source": [
    "from maps import map_robinson\n",
    "from paths import path_results, path_samoc, file_ex_ocn_ctrl\n",
    "from plotting import shifted_color_map\n",
    "from timeseries import IterateOutputCESM\n",
    "from xr_DataArrays import xr_AREA\n",
    "from xr_regression import xr_linear_trends_2D, xr_linear_trend, ocn_field_regression"
   ]
  },
  {
   "cell_type": "markdown",
   "metadata": {},
   "source": [
    "# global SST map and trends"
   ]
  },
  {
   "cell_type": "code",
   "execution_count": null,
   "metadata": {},
   "outputs": [],
   "source": [
    "MASK = xr.open_dataset(file_ex_ocn_ctrl, decode_times=False).REGION_MASK"
   ]
  },
  {
   "cell_type": "code",
   "execution_count": null,
   "metadata": {},
   "outputs": [],
   "source": [
    "%%time\n",
    "# stacking files into one xr Dataset object\n",
    "for run in ['ctrl', 'rcp']:\n",
    "    for i, (y,m,s) in enumerate(IterateOutputCESM('ocn', run, 'yrly', name='TEMP_PD')):\n",
    "        print(y)\n",
    "        da = xr.open_dataset(s, decode_times=False).TEMP[0,:,:]\n",
    "        if i==0:\n",
    "            da_new = da.copy()\n",
    "            print\n",
    "        else:\n",
    "            da_new = xr.concat([da_new, da], dim='time')\n",
    "    da_new.to_netcdf(f'{path_samoc}/SST/SST_yrly_{run}.nc')"
   ]
  },
  {
   "cell_type": "code",
   "execution_count": null,
   "metadata": {},
   "outputs": [],
   "source": [
    "SST_yrly_ctrl = xr.open_dataarray(f'{path_samoc}/SST/SST_yrly_ctrl.nc')\n",
    "SST_yrly_rcp  = xr.open_dataarray(f'{path_samoc}/SST/SST_yrly_rcp.nc' )"
   ]
  },
  {
   "cell_type": "code",
   "execution_count": null,
   "metadata": {},
   "outputs": [],
   "source": [
    "%%time\n",
    "SST_trend_ctrl = ocn_field_regression(SST_yrly_ctrl)\n",
    "SST_trend_rcp  = ocn_field_regression(SST_yrly_rcp )"
   ]
  },
  {
   "cell_type": "code",
   "execution_count": null,
   "metadata": {},
   "outputs": [],
   "source": [
    "fn = f'{path_results}/SST/SST_ctrl_mean'\n",
    "xa = SST_yrly_ctrl.mean(dim='time').where(MASK>0)\n",
    "f, ax = map_robinson(xa=xa, domain='ocn_T', cmap=cmocean.cm.thermal, minv=-2, maxv=30, label='SST [$^\\circ$C]', filename=fn)"
   ]
  },
  {
   "cell_type": "code",
   "execution_count": null,
   "metadata": {},
   "outputs": [],
   "source": [
    "cmap = shifted_color_map(cmocean.cm.balance, start=.25, midpoint=0.5, stop=1., name='shrunk')\n",
    "label = 'SST trend [K/century]'\n",
    "\n",
    "xa = SST_trend_ctrl*100\n",
    "fn = f'{path_results}/SST/SST_trend_ctrl'\n",
    "f, ax = map_robinson(xa=xa, domain='ocn_T', cmap=cmap, minv=-2, maxv=4, label=label, filename=fn)\n",
    "\n",
    "xa = SST_trend_rcp*100\n",
    "fn = f'{path_results}/SST/SST_trend_rcp'\n",
    "f, ax = map_robinson(xa=xa, domain='ocn_T', cmap=cmap, minv=-2, maxv=4, label=label, filename=fn)"
   ]
  },
  {
   "cell_type": "markdown",
   "metadata": {},
   "source": [
    "### hiatus trend"
   ]
  },
  {
   "cell_type": "code",
   "execution_count": null,
   "metadata": {},
   "outputs": [],
   "source": [
    "SST_yrly_rcp[20:29,:,:]"
   ]
  },
  {
   "cell_type": "code",
   "execution_count": null,
   "metadata": {},
   "outputs": [],
   "source": [
    "SST_trend_rcp_hiatus  = ocn_field_regression(SST_yrly_rcp[20:29,:,:])"
   ]
  },
  {
   "cell_type": "code",
   "execution_count": null,
   "metadata": {},
   "outputs": [],
   "source": [
    "fn = f'{path_results}/SST/SST_trend_rcp_hiatus'\n",
    "cmap = shifted_color_map(cmocean.cm.balance, start=.25, midpoint=0.5, stop=1., name='shrunk')\n",
    "label = 'SST trend [K/century]'\n",
    "xa = SST_trend_rcp_hiatus*100\n",
    "f, ax = map_robinson(xa=xa, domain='ocn_T', cmap=cmap, minv=-4, maxv=8, label=label, filename=fn)"
   ]
  },
  {
   "cell_type": "markdown",
   "metadata": {},
   "source": [
    "# Southern Ocean\n",
    "## Southern Ocean Mode index"
   ]
  },
  {
   "cell_type": "code",
   "execution_count": null,
   "metadata": {},
   "outputs": [],
   "source": [
    "AREA_rect = xr_AREA('ocn_rect')\n",
    "AREA_rect = AREA_rect.rename({'t_lon':'lon', 't_lat':'lat'})"
   ]
  },
  {
   "cell_type": "code",
   "execution_count": null,
   "metadata": {},
   "outputs": [],
   "source": [
    "from regions import SOM_area_rect\n",
    "SOM_index_area = AREA_rect.sel(SOM_area_rect).sum()"
   ]
  },
  {
   "cell_type": "code",
   "execution_count": null,
   "metadata": {},
   "outputs": [],
   "source": [
    "SOM_index_ctrl = (AREA_rect*SST_yrly_ctrl).sel(SOM_area_rect).sum(dim=('lat', 'lon'))/SOM_index_area\n",
    "SOM_index_rcp  = (AREA_rect*SST_yrly_rcp ).sel(SOM_area_rect).sum(dim=('lat', 'lon'))/SOM_index_area"
   ]
  },
  {
   "cell_type": "code",
   "execution_count": null,
   "metadata": {},
   "outputs": [],
   "source": [
    "SOM_index_ctrl_trend = xr_linear_trend(SOM_index_ctrl)\n",
    "SOM_index_rcp_trend  = xr_linear_trend(SOM_index_rcp )\n",
    "\n",
    "times_ctrl = np.arange(len(SOM_index_ctrl))\n",
    "times_rcp  = np.arange(len(SOM_index_rcp ))\n",
    "\n",
    "SOM_index_ctrl_detr = SOM_index_ctrl - times_ctrl*SOM_index_ctrl_trend.item()\n",
    "SOM_index_rcp_detr  = SOM_index_rcp  - times_rcp *SOM_index_rcp_trend.item()\n",
    "\n",
    "SOM_index_ctrl = SOM_index_ctrl_detr - SOM_index_ctrl_detr.mean()\n",
    "SOM_index_rcp  = SOM_index_rcp_detr  - SOM_index_rcp_detr.mean() "
   ]
  },
  {
   "cell_type": "code",
   "execution_count": null,
   "metadata": {},
   "outputs": [],
   "source": [
    "f = plt.figure(figsize=(8,5))\n",
    "ax = f.add_axes([0.13,0.13,.85,.85])\n",
    "plt.tick_params(labelsize=14)\n",
    "\n",
    "plt.axhline(0,c='k', lw=.5)\n",
    "plt.plot(SOM_index_ctrl, c='C0', lw=.5)\n",
    "plt.plot(SOM_index_rcp , c='C1', lw=.5)\n",
    "plt.plot(SOM_index_ctrl.rolling({'time':5}, center=True).mean(), c='C0', lw=2, label='SOM index CTRL')\n",
    "plt.plot(SOM_index_rcp.rolling( {'time':5}, center=True).mean(), c='C1', lw=2, label='SOM index RCP')\n",
    "\n",
    "plt.text(.02,.95, r'[35,50$^\\circ$S]$\\times$[-50,0$^\\circ$E]', ha='left',transform=ax.transAxes, fontsize=16)\n",
    "plt.xlabel('time [years]', fontsize=16)\n",
    "plt.ylabel('SOM index [K]', fontsize=16)\n",
    "plt.legend(fontsize=16, ncol=2)\n",
    "plt.savefig(f'{path_results}/SST/SOM_index')"
   ]
  },
  {
   "cell_type": "markdown",
   "metadata": {},
   "source": [
    "# Pacific Ocean\n",
    "\n",
    "## Interdecadal Pacific Oscillation\n",
    "\n",
    "## Pacific decadal oscillation\n",
    "\"The leading EOF of monthlySST anomalies over the North Pacific (after removing the global mean SST anomaly) and its associated PC time series are termed the Pacific Decadal Oscillation (PDO)\""
   ]
  },
  {
   "cell_type": "markdown",
   "metadata": {},
   "source": [
    "# Atlantic Ocean\n",
    "## Atlantic Multidecadal Oscillation"
   ]
  },
  {
   "cell_type": "code",
   "execution_count": null,
   "metadata": {},
   "outputs": [],
   "source": []
  }
 ],
 "metadata": {
  "kernelspec": {
   "display_name": "Python 3",
   "language": "python",
   "name": "python3"
  },
  "language_info": {
   "codemirror_mode": {
    "name": "ipython",
    "version": 3
   },
   "file_extension": ".py",
   "mimetype": "text/x-python",
   "name": "python",
   "nbconvert_exporter": "python",
   "pygments_lexer": "ipython3",
   "version": "3.6.6"
  }
 },
 "nbformat": 4,
 "nbformat_minor": 2
}
