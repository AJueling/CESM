{
 "cells": [
  {
   "cell_type": "markdown",
   "metadata": {},
   "source": [
    "# Sea Surface Temperature"
   ]
  },
  {
   "cell_type": "code",
   "execution_count": null,
   "metadata": {},
   "outputs": [],
   "source": [
    "# import pickle\n",
    "import sys\n",
    "sys.path.append(\"..\")\n",
    "import scipy as sp\n",
    "import numpy as np\n",
    "import xarray as xr\n",
    "import seaborn as sns\n",
    "import cmocean\n",
    "import cartopy\n",
    "import cartopy.crs as ccrs\n",
    "import matplotlib as mpl\n",
    "import matplotlib.pyplot as plt\n",
    "import matplotlib.patches as mpatches"
   ]
  },
  {
   "cell_type": "code",
   "execution_count": null,
   "metadata": {},
   "outputs": [],
   "source": [
    "%matplotlib inline\n",
    "%config InlineBackend.print_figure_kwargs={'bbox_inches':None}\n",
    "%load_ext autoreload\n",
    "%autoreload 2\n",
    "%aimport - numpy - scipy - matplotlib.pyplot"
   ]
  },
  {
   "cell_type": "code",
   "execution_count": null,
   "metadata": {},
   "outputs": [],
   "source": [
    "from OHC import t2da, t2ds\n",
    "from SST import SST_index, EOF_SST_analysis\n",
    "from maps import map_robinson, map_eq_earth\n",
    "from grid import find_array_idx\n",
    "from paths import path_results, path_samoc, file_ex_ocn_ctrl, file_ex_ocn_rect\n",
    "from regions import boolean_mask, SOM_area, Nino12, Nino34, global_ocean,\\\n",
    "                    AMO_area, T_exT_area, gl_ocean_rect, NPacific_mask_rect\n",
    "from plotting import shifted_color_map, discrete_cmap\n",
    "from timeseries import IterateOutputCESM\n",
    "from xr_DataArrays import xr_AREA\n",
    "from xr_regression import xr_linear_trends_2D, xr_linear_trend, ocn_field_regression"
   ]
  },
  {
   "cell_type": "markdown",
   "metadata": {},
   "source": [
    "# global yearly avg. SST map and trends"
   ]
  },
  {
   "cell_type": "code",
   "execution_count": null,
   "metadata": {},
   "outputs": [],
   "source": [
    "MASK = xr.open_dataset(file_ex_ocn_ctrl, decode_times=False).REGION_MASK"
   ]
  },
  {
   "cell_type": "code",
   "execution_count": null,
   "metadata": {},
   "outputs": [],
   "source": [
    "# %%time\n",
    "# # ca. 4:30 min\n",
    "# # stacking files into one xr Dataset object\n",
    "# for run in ['ctrl', 'rcp']:\n",
    "#     for i, (y,m,s) in enumerate(IterateOutputCESM('ocn', run, 'yrly', name='TEMP_PD')):\n",
    "#         print(y)\n",
    "#         da = xr.open_dataset(s, decode_times=False).TEMP[0,:,:]\n",
    "#         da = da.drop(['z_t', 'ULONG', 'ULAT'])\n",
    "#         da['TLAT' ] = da['TLAT' ].round(decimals=2)\n",
    "#         da['TLONG'] = da['TLONG'].round(decimals=2)\n",
    "#         del da.encoding[\"contiguous\"]\n",
    "#         ds = t2ds(da=da, name='SST', t=int(round(da.time.item())))\n",
    "#         ds.to_netcdf(path=f'{path_samoc}/SST/SST_yrly_{run}_{y}.nc', mode='w')\n",
    "     \n",
    "#     combined = xr.open_mfdataset(f'{path_samoc}/SST/SST_yrly_{run}_*.nc',\n",
    "#                                  concat_dim='time',\n",
    "#                                  autoclose=True,\n",
    "#                                  coords='minimal')\n",
    "#     combined.to_netcdf(f'{path_samoc}/SST/SST_yrly_{run}.nc')\n",
    "#     # remove extra netCDF files"
   ]
  },
  {
   "cell_type": "markdown",
   "metadata": {},
   "source": [
    "CPU times: user 1min 25s, sys: 3min 16s, total: 4min 41s\n",
    "Wall time: 11min 18s"
   ]
  },
  {
   "cell_type": "code",
   "execution_count": null,
   "metadata": {},
   "outputs": [],
   "source": [
    "SST_yrly_ctrl = xr.open_dataarray(f'{path_samoc}/SST/SST_yrly_ctrl.nc')\n",
    "SST_yrly_rcp  = xr.open_dataarray(f'{path_samoc}/SST/SST_yrly_rcp.nc' )"
   ]
  },
  {
   "cell_type": "code",
   "execution_count": null,
   "metadata": {},
   "outputs": [],
   "source": [
    "xa = SST_yrly_ctrl.mean(dim='time').where(MASK>0)"
   ]
  },
  {
   "cell_type": "code",
   "execution_count": null,
   "metadata": {},
   "outputs": [],
   "source": [
    "fn    = f'{path_results}/SST/SST_ctrl_mean'\n",
    "cm    = discrete_cmap(17, cmocean.cm.thermal)\n",
    "f, ax = map_robinson(xa=xa, domain='ocn_U', cmap=cm, minv=-2, maxv=32, label='SST [$^\\circ$C]', filename=fn)"
   ]
  },
  {
   "cell_type": "code",
   "execution_count": null,
   "metadata": {},
   "outputs": [],
   "source": [
    "%%time\n",
    "SST_trend_ctrl = ocn_field_regression(SST_yrly_ctrl)\n",
    "SST_trend_rcp  = ocn_field_regression(SST_yrly_rcp )"
   ]
  },
  {
   "cell_type": "code",
   "execution_count": null,
   "metadata": {},
   "outputs": [],
   "source": [
    "cmap  = discrete_cmap(12, shifted_color_map(cmocean.cm.balance, start=.25, midpoint=0.5, stop=1., name='shrunk'))\n",
    "label = 'SST trend [K/century]'\n",
    "\n",
    "xa = SST_trend_ctrl*100\n",
    "fn = f'{path_results}/SST/SST_trend_ctrl'\n",
    "f, ax = map_robinson(xa=xa, domain='ocn_T', cmap=cmap, minv=-2, maxv=4, label=label, filename=fn)\n",
    "\n",
    "xa = SST_trend_rcp*100\n",
    "fn = f'{path_results}/SST/SST_trend_rcp'\n",
    "f, ax = map_robinson(xa=xa, domain='ocn_T', cmap=cmap, minv=-2, maxv=4, label=label, filename=fn)"
   ]
  },
  {
   "cell_type": "markdown",
   "metadata": {},
   "source": [
    "### hiatus trend"
   ]
  },
  {
   "cell_type": "code",
   "execution_count": null,
   "metadata": {},
   "outputs": [],
   "source": [
    "SST_yrly_rcp[20:29,:,:]"
   ]
  },
  {
   "cell_type": "code",
   "execution_count": null,
   "metadata": {},
   "outputs": [],
   "source": [
    "SST_trend_rcp_hiatus  = ocn_field_regression(SST_yrly_rcp[20:29,:,:])"
   ]
  },
  {
   "cell_type": "code",
   "execution_count": null,
   "metadata": {},
   "outputs": [],
   "source": [
    "fn = f'{path_results}/SST/SST_trend_rcp_hiatus'\n",
    "cmap = shifted_color_map(cmocean.cm.balance, start=.25, midpoint=0.5, stop=1., name='shrunk')\n",
    "label = 'SST trend [K/century]'\n",
    "xa = SST_trend_rcp_hiatus*100\n",
    "f, ax = map_robinson(xa=xa, domain='ocn_T', cmap=cmap, minv=-4, maxv=8, label=label, filename=fn)"
   ]
  },
  {
   "cell_type": "markdown",
   "metadata": {},
   "source": [
    "# SST indices"
   ]
  },
  {
   "cell_type": "code",
   "execution_count": null,
   "metadata": {},
   "outputs": [],
   "source": []
  },
  {
   "cell_type": "code",
   "execution_count": null,
   "metadata": {},
   "outputs": [],
   "source": [
    "MASK_ocn  = boolean_mask('ocn'     , 0)\n",
    "MASK_rect = boolean_mask('ocn_rect', 0)"
   ]
  },
  {
   "cell_type": "code",
   "execution_count": null,
   "metadata": {},
   "outputs": [],
   "source": [
    "TAREA       = xr_AREA('ocn')\n",
    "AREA_rect   = xr_AREA('ocn_rect')"
   ]
  },
  {
   "cell_type": "code",
   "execution_count": null,
   "metadata": {},
   "outputs": [],
   "source": [
    "global_area = TAREA.where(MASK_ocn).sel(global_ocean).sum()\n",
    "print(f'{global_area.item():e}')\n",
    "global_area2 = AREA_rect.where(MASK_rect).sel(gl_ocean_rect).sum()\n",
    "print(f'{global_area2.item():e}')"
   ]
  },
  {
   "cell_type": "markdown",
   "metadata": {},
   "source": [
    "# Southern Ocean"
   ]
  },
  {
   "cell_type": "markdown",
   "metadata": {},
   "source": [
    "## Southern Ocean Mode index\n",
    "annual SST anomaly (50S-35S, 0E-50W), here detrended"
   ]
  },
  {
   "cell_type": "code",
   "execution_count": null,
   "metadata": {},
   "outputs": [],
   "source": [
    "# %%time\n",
    "# # 30 sec\n",
    "# SOMi_area = TAREA.sel(SOM_area).sum()\n",
    "# SOMi_ctrl = SST_index(xa_SST=SST_yrly_ctrl, AREA=TAREA, index_loc=SOM_area, AREA_index=SOMi_area, MASK=MASK_ocn, dims=('nlat', 'nlon'))\n",
    "# SOMi_rcp  = SST_index(xa_SST=SST_yrly_rcp , AREA=TAREA, index_loc=SOM_area, AREA_index=SOMi_area, MASK=MASK_ocn, dims=('nlat', 'nlon'))"
   ]
  },
  {
   "cell_type": "code",
   "execution_count": null,
   "metadata": {},
   "outputs": [],
   "source": [
    "# SOMi_trend_ctrl = np.polyfit(SOMi_ctrl.time, SOMi_ctrl, 1)\n",
    "# SOMi_trend_rcp  = np.polyfit(SOMi_rcp .time, SOMi_rcp , 1)\n",
    "\n",
    "# SOMi_detr_ctrl = SOMi_ctrl - (SOMi_trend_ctrl[1] + SOMi_trend_ctrl[0]*SOMi_ctrl.time)\n",
    "# SOMi_detr_rcp  = SOMi_rcp  - (SOMi_trend_rcp[1]  + SOMi_trend_rcp[0] *SOMi_rcp .time)\n",
    "\n",
    "# SOMi_detr_ctrl.to_netcdf(f'{path_results}/SST/SOM_index_ctrl.nc')\n",
    "# SOMi_detr_rcp .to_netcdf(f'{path_results}/SST/SOM_index_rcp.nc' )"
   ]
  },
  {
   "cell_type": "code",
   "execution_count": null,
   "metadata": {},
   "outputs": [],
   "source": [
    "SOMi_detr_ctrl = xr.open_dataarray(f'{path_results}/SST/SOM_index_ctrl.nc', decode_times=False)\n",
    "SOMi_detr_rcp  = xr.open_dataarray(f'{path_results}/SST/SOM_index_rcp.nc' , decode_times=False)"
   ]
  },
  {
   "cell_type": "code",
   "execution_count": null,
   "metadata": {},
   "outputs": [],
   "source": [
    "f = plt.figure(figsize=(8,5))\n",
    "ax = f.add_axes([0.13,0.13,.85,.85])\n",
    "plt.tick_params(labelsize=14)\n",
    "\n",
    "# plt.axhline(0,c='k', lw=.5)\n",
    "plt.plot(SOMi_ctrl.time/365     , SOMi_ctrl, c='C0', lw=.5)\n",
    "plt.plot(SOMi_rcp .time/365-1800, SOMi_rcp , c='C1', lw=.5)\n",
    "\n",
    "plt.plot(SOMi_ctrl.time/365     , SOMi_trend_ctrl[1] + SOMi_trend_ctrl[0]*SOMi_ctrl.time, ls='--')\n",
    "plt.plot(SOMi_rcp .time/365-1800, SOMi_trend_rcp [1] + SOMi_trend_rcp [0]*SOMi_rcp.time , ls='--')\n",
    "\n",
    "L1, = plt.plot(SOMi_ctrl.time/365     , SOMi_ctrl.rolling({'time':5}, center=True).mean(), c='C0', lw=2, label='CTRL')\n",
    "L2, = plt.plot(SOMi_rcp .time/365-1800, SOMi_rcp .rolling({'time':5}, center=True).mean(), c='C1', lw=2, label='RCP')\n",
    "\n",
    "plt.text(.02,.95, r'[35,50$^\\circ$S]$\\times$[-50,0$^\\circ$E]', ha='left',transform=ax.transAxes, fontsize=16)\n",
    "plt.xlabel('time [years]', fontsize=16)\n",
    "plt.ylabel('raw SOM index [K]', fontsize=16)\n",
    "plt.legend(fontsize=16, ncol=2, loc=4, handles=[L1, L2])\n",
    "plt.savefig(f'{path_results}/SST/SOM_raw')"
   ]
  },
  {
   "cell_type": "code",
   "execution_count": null,
   "metadata": {},
   "outputs": [],
   "source": [
    "f = plt.figure(figsize=(8,5))\n",
    "ax = f.add_axes([0.13,0.13,.85,.85])\n",
    "plt.tick_params(labelsize=14)\n",
    "\n",
    "plt.axhline(0,c='k', lw=.5)\n",
    "plt.plot(SOMi_ctrl.time/365     , SOMi_detr_ctrl, c='C0', lw=.5)\n",
    "plt.plot(SOMi_rcp .time/365-1800, SOMi_detr_rcp , c='C1', lw=.5)\n",
    "plt.plot(SOMi_ctrl.time/365     , SOMi_detr_ctrl.rolling({'time':5}, center=True).mean(), c='C0', lw=2, label='CTRL')\n",
    "plt.plot(SOMi_rcp .time/365-1800, SOMi_detr_rcp .rolling({'time':5}, center=True).mean(), c='C1', lw=2, label='RCP')\n",
    "\n",
    "plt.text(.02,.95, r'[35,50$^\\circ$S]$\\times$[-50,0$^\\circ$E]', ha='left',transform=ax.transAxes, fontsize=16)\n",
    "plt.xlabel('time [years]', fontsize=16)\n",
    "plt.ylabel('SOM index [K]', fontsize=16)\n",
    "plt.legend(fontsize=16, ncol=2)\n",
    "plt.savefig(f'{path_results}/SST/SOM_index')"
   ]
  },
  {
   "cell_type": "markdown",
   "metadata": {},
   "source": [
    "# Pacific Ocean\n",
    "\n",
    "## Interdecadal Pacific Oscillation\n",
    "Karl et al\n",
    "\n",
    "## Pacific Decadal Oscillation\n",
    "> The leading EOF of monthlySST anomalies over the North Pacific (after removing the global mean SST anomaly) and its associated PC time series are termed the Pacific Decadal Oscillation (PDO)\n",
    "\n",
    "1. compute monthly global mean SST\n",
    "\n",
    "2. create North Pacific monthly output fields\n",
    "    2.1. determine extend of grid\n",
    "    2.2. reduce all coordinates appropriately\n",
    "    2.3. loop through all months and save as single netcdf\n",
    "\n",
    "3. EOF analysis\n",
    "\n",
    "maybe use ocn rect for it"
   ]
  },
  {
   "cell_type": "code",
   "execution_count": null,
   "metadata": {},
   "outputs": [],
   "source": [
    "# %%time\n",
    "# # 29 min\n",
    "# for run in ['ctrl', 'rcp']:\n",
    "#     for i, (y,m,s) in enumerate(IterateOutputCESM(domain='ocn', run=run, tavg='monthly')):\n",
    "#         SST = xr.open_dataset(s, decode_times=False).TEMP[0,0,:,:]\n",
    "#         SST_gm = SST_index(xa_SST=SST, AREA=TAREA, index_loc=global_ocean, AREA_index=global_area, MASK=MASK_ocn, dims=('nlat', 'nlon'))\n",
    "#         if m==1: print(y, SST_gm.item()) \n",
    "#         if i==0:  SST_new = SST_gm\n",
    "#         else:     SST_new = xr.concat([SST_new, SST_gm], dim='time')\n",
    "#     SST_new.to_netcdf(f'{path_results}/SST_global_mean_monthly_{run}.nc')"
   ]
  },
  {
   "cell_type": "code",
   "execution_count": null,
   "metadata": {},
   "outputs": [],
   "source": [
    "# %%time\n",
    "# # 11 min\n",
    "# for run in ['ctrl', 'rcp']:\n",
    "#     for i, (y,m,s) in enumerate(IterateOutputCESM(domain='ocn_rect', run=run, tavg='monthly')):\n",
    "#         SST = xr.open_dataset(s, decode_times=False).TEMP[0,:,:]\n",
    "#         SST_gm = SST_index(xa_SST=SST, AREA=AREA_rect, index_loc=gl_ocean_rect, AREA_index=global_area2, MASK=MASK_rect, dims=('t_lat', 't_lon'))\n",
    "#         if m==1: print(y, SST_gm.item()) \n",
    "#         if i==0:  SST_new = SST_gm\n",
    "#         else:     SST_new = xr.concat([SST_new, SST_gm], dim='time')\n",
    "#     SST_new.to_netcdf(f'{path_results}/SST_global_mean_monthly_rect_{run}.nc')"
   ]
  },
  {
   "cell_type": "code",
   "execution_count": null,
   "metadata": {},
   "outputs": [],
   "source": [
    "SST_gm_ctrl      = xr.open_dataarray(f'{path_results}/SST_global_mean_monthly_ctrl.nc'     , decode_times=False)\n",
    "SST_gm_rcp       = xr.open_dataarray(f'{path_results}/SST_global_mean_monthly_rcp.nc'      , decode_times=False)\n",
    "SST_gm_rect_ctrl = xr.open_dataarray(f'{path_results}/SST_global_mean_monthly_rect_ctrl.nc', decode_times=False)\n",
    "SST_gm_rect_rcp  = xr.open_dataarray(f'{path_results}/SST_global_mean_monthly_rect_rcp.nc' , decode_times=False)"
   ]
  },
  {
   "cell_type": "code",
   "execution_count": null,
   "metadata": {},
   "outputs": [],
   "source": [
    "plt.plot(SST_gm_ctrl)\n",
    "plt.plot(SST_gm_rcp )\n",
    "plt.plot(SST_gm_rect_ctrl)\n",
    "plt.plot(SST_gm_rect_rcp )"
   ]
  },
  {
   "cell_type": "code",
   "execution_count": null,
   "metadata": {},
   "outputs": [],
   "source": [
    "plt.axhline(0, c='k', lw=.5)\n",
    "plt.plot(SST_gm_rect_ctrl.time/12+100, SST_gm_rect_ctrl-SST_gm_ctrl[:len(SST_gm_rect_ctrl)])\n",
    "plt.plot(SST_gm_rect_rcp .time/12+300, SST_gm_rect_rcp -SST_gm_rcp [:len(SST_gm_rect_rcp )])"
   ]
  },
  {
   "cell_type": "markdown",
   "metadata": {},
   "source": [
    "somehow there is an almost constant low bias in the global mean SST when calculatd in the rect files"
   ]
  },
  {
   "cell_type": "code",
   "execution_count": null,
   "metadata": {},
   "outputs": [],
   "source": [
    "NPac_MASK = NPacific_mask_rect()\n",
    "NPac_area = xr_AREA('ocn_rect').where(NPac_MASK, drop=True)"
   ]
  },
  {
   "cell_type": "code",
   "execution_count": null,
   "metadata": {},
   "outputs": [],
   "source": [
    "# %%time\n",
    "# # 51 mins for 162 years of ctrl\n",
    "# # 9 min for 67 years of rcp\n",
    "# \n",
    "# for j, run in enumerate(['ctrl', 'rcp']):\n",
    "#     SST_gm_rect = [SST_gm_rect_ctrl, SST_gm_rect_rcp][j]\n",
    "#     for i, (y,m,s) in enumerate(IterateOutputCESM(domain='ocn_rect', tavg='monthly', run=run)):\n",
    "#         if m==1:\n",
    "#             print(y)\n",
    "#         xa = xr.open_dataset(s, decode_times=False).TEMP[0,:,:].where(NPac_MASK, drop=True) - SST_gm_rect[i]\n",
    "#         if i==0:\n",
    "#             xa_out = xa.copy()\n",
    "#         else:\n",
    "#             xa_out = xr.concat([xa_out, xa], dim='time')\n",
    "#         xa_out.to_netcdf(f'{path_samoc}/SST/NPacific_anomaly_monthly_rect_{run}.nc')"
   ]
  },
  {
   "cell_type": "code",
   "execution_count": null,
   "metadata": {},
   "outputs": [],
   "source": [
    "SST_NPac_rect_ctrl = xr.open_dataarray(f'{path_samoc}/SST/NPacific_anomaly_monthly_rect_ctrl.nc', decode_times=False)\n",
    "SST_NPac_rect_rcp  = xr.open_dataarray(f'{path_samoc}/SST/NPacific_anomaly_monthly_rect_rcp.nc' , decode_times=False)"
   ]
  },
  {
   "cell_type": "code",
   "execution_count": null,
   "metadata": {},
   "outputs": [],
   "source": [
    "# %%time\n",
    "# # 30 sec for rcp\n",
    "# # 2 mins for ctrl\n",
    "# fn = f'{path_results}/SST/NPac_ctrl.nc'\n",
    "# eof_ctrl, pc_ctrl = EOF_SST_analysis(xa=SST_NPac_rect_ctrl, weights=NPac_area, fn=fn)\n",
    "# fn = f'{path_results}/SST/NPac_rcp.nc'\n",
    "# eof_rcp , pc_rcp  = EOF_SST_analysis(xa=SST_NPac_rect_rcp , weights=NPac_area, fn=fn)"
   ]
  },
  {
   "cell_type": "code",
   "execution_count": null,
   "metadata": {},
   "outputs": [],
   "source": [
    "NPac_ctrl = xr.open_dataset(f'{path_results}/SST/NPac_ctrl.nc', decode_times=False)\n",
    "NPac_rcp  = xr.open_dataset(f'{path_results}/SST/NPac_rcp.nc' , decode_times=False)"
   ]
  },
  {
   "cell_type": "code",
   "execution_count": null,
   "metadata": {},
   "outputs": [],
   "source": [
    "plt.figure(figsize=(8,5))\n",
    "plt.tick_params(labelsize=14)\n",
    "plt.axhline(0, c='k', lw=.5)\n",
    "plt.plot(NPac_ctrl.time/12+100, NPac_ctrl.pcs.rolling(time= 1, center=True).mean(), c='C0', lw=1)\n",
    "plt.plot(NPac_rcp .time/12+200, NPac_rcp .pcs.rolling(time= 1, center=True).mean(), c='C1', lw=1)\n",
    "plt.plot(NPac_ctrl.time/12+100, NPac_ctrl.pcs.rolling(time=12, center=True).mean(), c='C0', lw=3)\n",
    "plt.plot(NPac_rcp .time/12+200, NPac_rcp .pcs.rolling(time=12, center=True).mean(), c='C1', lw=3)\n",
    "plt.xlabel('time [years]'             , fontsize=16)\n",
    "plt.ylabel('first principal component', fontsize=16)"
   ]
  },
  {
   "cell_type": "code",
   "execution_count": null,
   "metadata": {},
   "outputs": [],
   "source": [
    "f, ax = plt.subplots(1,1,figsize=(8,5))\n",
    "ax.tick_params(labelsize=14)\n",
    "ax.axhline(0, c='k', lw=.5)\n",
    "ax.plot(NPac_ctrl.time/12+100, NPac_ctrl.pcs.rolling(time= 12, center=True).mean(), c='C0', lw=1)\n",
    "ax.plot(NPac_rcp .time/12+200, NPac_rcp .pcs.rolling(time= 12, center=True).mean(), c='C1', lw=1)\n",
    "ax.plot(NPac_ctrl.time/12+100, NPac_ctrl.pcs.rolling(time=120, center=True).mean(), c='C0', lw=3)\n",
    "ax.plot(NPac_rcp .time/12+200, NPac_rcp .pcs.rolling(time=120, center=True).mean(), c='C1', lw=3)\n",
    "ax.set_xlabel('time [years]'             , fontsize=16)\n",
    "ax.set_ylabel('PDO', fontsize=16)\n",
    "ax.text(.02, .02, '10 year running mean', transform=ax.transAxes, fontsize=14, color='grey')\n",
    "plt.tight_layout()\n",
    "plt.savefig(f'{path_results}/SST/PDO_index')"
   ]
  },
  {
   "cell_type": "code",
   "execution_count": null,
   "metadata": {},
   "outputs": [],
   "source": [
    "xa = NPac_ctrl.eofs[0]\n",
    "cmap = discrete_cmap(14,  shifted_color_map(cmocean.cm.balance, start=.5-1./12, midpoint=0.5, stop=1., name='shrunk'))\n",
    "f = plt.figure(figsize=(8,5))\n",
    "ax = plt.axes(projection=ccrs.PlateCarree(central_longitude=190))\n",
    "# ax.set_extent([.02,.98,.12,.86])\n",
    "im1 = ax.pcolormesh(xa.t_lon, xa.t_lat, xa.values,\n",
    "              cmap=cmap, vmin=-1, vmax=6,\n",
    "                           transform=ccrs.PlateCarree() )\n",
    "ax.add_feature(cartopy.feature.LAND, facecolor='grey', edgecolor='k', alpha=0.5)\n",
    "cb = plt.colorbar(im1, orientation='horizontal')\n",
    "cb.set_label('correlation coefficient', fontsize=12)\n",
    "ax.set_title('EOF1 expressed as correlation', fontsize=16)\n",
    "plt.savefig(f'{path_results}/SST/PDO_EOF', bbox_inches='tight')\n",
    "# plt.tight_layout()\n",
    "# (NPac_rcp.eofs-NPac_ctrl.eofs).plot()"
   ]
  },
  {
   "cell_type": "markdown",
   "metadata": {},
   "source": [
    "## ENSO"
   ]
  },
  {
   "cell_type": "code",
   "execution_count": null,
   "metadata": {},
   "outputs": [],
   "source": [
    "# %%time\n",
    "# #5-10 sec per year\n",
    "# Nino12_AREA = TAREA.sel(Nino12).sum(dim=('nlat','nlon'))\n",
    "# Nino34_AREA = TAREA.sel(Nino34).sum(dim=('nlat','nlon'))\n",
    "# for run in ['ctrl', 'rcp']:\n",
    "#     for i, (y,m,s) in enumerate(IterateOutputCESM(domain='ocn', run=run, tavg='monthly')):\n",
    "#         if m==1: print(y)\n",
    "#         SST = xr.open_dataset(s, decode_times=False).TEMP[0,0,:,:]\n",
    "#         N12 = SST_index(xa_SST=SST, AREA=TAREA, index_loc=Nino12, AREA_index=Nino12_AREA, MASK=MASK_ocn, dims=('nlat', 'nlon'))\n",
    "#         N34 = SST_index(xa_SST=SST, AREA=TAREA, index_loc=Nino34, AREA_index=Nino34_AREA, MASK=MASK_ocn, dims=('nlat', 'nlon'))\n",
    "#         if i==0:\n",
    "#             N12_new = N12\n",
    "#             N34_new = N34\n",
    "#         else:\n",
    "#             N12_new = xr.concat([N12_new, N12], dim='time')\n",
    "#             N34_new = xr.concat([N34_new, N34], dim='time')\n",
    "#     N12_new.to_netcdf(path=f'{path_samoc}/SST/Nino12_{run}.nc')\n",
    "#     N34_new.to_netcdf(path=f'{path_samoc}/SST/Nino34_{run}.nc')"
   ]
  },
  {
   "cell_type": "code",
   "execution_count": null,
   "metadata": {},
   "outputs": [],
   "source": [
    "N12_ctrl = xr.open_dataarray(f'{path_samoc}/SST/Nino12_ctrl.nc', decode_times=False)\n",
    "N34_ctrl = xr.open_dataarray(f'{path_samoc}/SST/Nino34_ctrl.nc', decode_times=False)\n",
    "N12_rcp  = xr.open_dataarray(f'{path_samoc}/SST/Nino12_rcp.nc' , decode_times=False)\n",
    "N34_rcp  = xr.open_dataarray(f'{path_samoc}/SST/Nino34_rcp.nc' , decode_times=False)"
   ]
  },
  {
   "cell_type": "code",
   "execution_count": null,
   "metadata": {},
   "outputs": [],
   "source": [
    "# linear trend\n",
    "N12_ctrl_lp = np.polyfit(N12_ctrl.time, N12_ctrl.values, 1)\n",
    "N12_lf_ctrl = N12_ctrl_lp[0]*N12_ctrl.time + N12_ctrl_lp[1]\n",
    "N34_ctrl_lp = np.polyfit(N34_ctrl.time, N34_ctrl.values, 1)\n",
    "N34_lf_ctrl = N34_ctrl_lp[0]*N34_ctrl.time + N34_ctrl_lp[1]\n",
    "N12_rcp_lp  = np.polyfit(N12_rcp.time, N12_rcp.values, 1)\n",
    "N12_lf_rcp  = N12_rcp_lp[0]*N12_rcp.time + N12_rcp_lp[1]\n",
    "N34_rcp_lp  = np.polyfit(N34_rcp.time, N34_rcp.values, 1)\n",
    "N34_lf_rcp  = N34_rcp_lp[0]*N34_rcp.time + N34_rcp_lp[1]\n",
    "# seasonal cycle"
   ]
  },
  {
   "cell_type": "code",
   "execution_count": null,
   "metadata": {},
   "outputs": [],
   "source": [
    "plt.figure(figsize=(8,5))\n",
    "plt.tick_params(labelsize=14)\n",
    "\n",
    "L1, = plt.plot(N12_ctrl.time/365, N12_ctrl, c='C0', ls='-' ,  alpha=.5, label='CTRL Nino12')\n",
    "plt.plot(N12_ctrl.time/365, N12_lf_ctrl   , c='C0', ls='--', lw=2 )\n",
    "L2, = plt.plot(N34_ctrl.time/365, N34_ctrl, c='C2', ls='-' ,  alpha=.5, label='CTRL Nino34')\n",
    "plt.plot(N12_ctrl.time/365, N34_lf_ctrl   , c='C2', ls='--', lw=2 )\n",
    "plt.axvline(200, c='g', lw=.5)\n",
    "L3, = plt.plot(N12_rcp.time/365-1700, N12_rcp, c='C1', ls='-' , alpha=.5, label='RCP Nino12')\n",
    "plt.plot(N12_rcp.time/365-1700, N12_lf_rcp   , c='C1', ls='--', lw=2 )\n",
    "L4, = plt.plot(N34_rcp.time/365-1700, N34_rcp, c='C3', ls='-' , alpha=.5, label='RCP Nino34')\n",
    "plt.plot(N34_rcp.time/365-1700, N34_lf_rcp   , c='C3', ls='--', lw=2 )\n",
    "plt.ylabel('monthly temperature [$^\\circ$C]', fontsize=16)\n",
    "plt.xlabel('time [years]', fontsize=16)\n",
    "plt.tight_layout()\n",
    "plt.legend(handles=[L2, L1, L4, L3], ncol=2, fontsize=14, loc=9, frameon=False)\n",
    "plt.savefig(f'{path_results}/SST/ENSO_raw')"
   ]
  },
  {
   "cell_type": "code",
   "execution_count": null,
   "metadata": {},
   "outputs": [],
   "source": [
    "plt.figure(figsize=(8,5))\n",
    "plt.tick_params(labelsize=14)\n",
    "\n",
    "\n",
    "N12_mean_ctrl = np.empty((12))\n",
    "N34_mean_ctrl = np.empty((12))\n",
    "N12_mean_rcp  = np.empty((12))\n",
    "N34_mean_rcp = np.empty((12))\n",
    "\n",
    "plt.axhline(0, c='k', lw=.5)\n",
    "\n",
    "for i in range(12):\n",
    "    N12_mean_ctrl[i] = (N12_ctrl-N12_lf_ctrl)[i::12].mean()\n",
    "    N12_mean_rcp [i] = (N12_rcp -N12_lf_rcp )[i::12].mean()\n",
    "    N12_std_ctrl     = (N12_ctrl-N12_lf_ctrl)[i::12].std()\n",
    "    N12_std_rcp      = (N12_rcp -N12_lf_rcp )[i::12].std()\n",
    "    \n",
    "    N34_mean_ctrl[i] = (N34_ctrl-N34_lf_ctrl)[i::12].mean()\n",
    "    N34_mean_rcp [i] = (N34_rcp -N34_lf_rcp )[i::12].mean()\n",
    "    N34_std_ctrl     = (N34_ctrl-N34_lf_ctrl)[i::12].std()\n",
    "    N34_std_rcp      = (N34_rcp -N34_lf_rcp )[i::12].std()    \n",
    "    \n",
    "    S1 = plt.scatter([i+0.7], N12_mean_ctrl[i], c='C0', label='N12 CTRL')\n",
    "    plt.plot(2* [i+0.7], [N12_mean_ctrl[i]-N12_std_ctrl, N12_mean_ctrl[i]+N12_std_ctrl], c='C0')\n",
    "    S2 = plt.scatter([i+0.9], N12_mean_rcp [i], c='C1', label='N12 RCP')\n",
    "    plt.plot(2* [i+0.9], [N12_mean_rcp [i]-N12_std_rcp , N12_mean_rcp[i] +N12_std_rcp], c='C1')\n",
    "    \n",
    "    S3 = plt.scatter([i+1.1], N34_mean_ctrl[i], c='C0', marker='D', label='N34 CTRL')\n",
    "    plt.plot(2* [i+1.1], [N34_mean_ctrl[i]-N34_std_ctrl, N34_mean_ctrl[i]+N34_std_ctrl], c='C0', ls=':')\n",
    "    S4 = plt.scatter([i+1.3], N34_mean_rcp [i], c='C1', marker='D', label='N34 RCP')\n",
    "    plt.plot(2* [i+1.3], [N34_mean_rcp [i]-N34_std_rcp , N34_mean_rcp[i] +N34_std_rcp ], c='C1', ls=':')\n",
    "\n",
    "plt.ylabel('temperature anomaly [K]', fontsize=16)\n",
    "plt.xlabel('month', fontsize=16)\n",
    "plt.xticks(np.arange(1,13), fontsize=14)\n",
    "plt.legend(handles=[S1, S2, S3, S4], ncol=2)\n",
    "plt.tight_layout()\n",
    "plt.savefig(f'{path_results}/SST/ENSO_seasonal_cycle')"
   ]
  },
  {
   "cell_type": "markdown",
   "metadata": {},
   "source": [
    "Claudia suggested to remove the seasonal signal (averages of all the Januaries, Februaries, ...). First I will remove a linear trend from both the CTRL and RCP indices."
   ]
  },
  {
   "cell_type": "code",
   "execution_count": null,
   "metadata": {},
   "outputs": [],
   "source": [
    "N12_detr_des_ctrl = (N12_ctrl-N12_lf_ctrl).copy()\n",
    "N34_detr_des_ctrl = (N34_ctrl-N34_lf_ctrl).copy()\n",
    "N12_detr_des_rcp  = (N12_rcp -N12_lf_rcp ).copy()\n",
    "N34_detr_des_rcp  = (N34_rcp -N34_lf_rcp ).copy()\n",
    "for i in range(12):\n",
    "    N12_detr_des_ctrl[i::12] = N12_detr_des_ctrl[i::12]-N12_mean_ctrl[i]\n",
    "    N34_detr_des_ctrl[i::12] = N34_detr_des_ctrl[i::12]-N34_mean_ctrl[i]\n",
    "    N12_detr_des_rcp [i::12] = N12_detr_des_rcp [i::12]-N12_mean_rcp [i]\n",
    "    N34_detr_des_rcp [i::12] = N34_detr_des_rcp [i::12]-N34_mean_rcp [i]"
   ]
  },
  {
   "cell_type": "code",
   "execution_count": null,
   "metadata": {},
   "outputs": [],
   "source": [
    "f, ax = plt.subplots(2, 1, figsize=(12,8), sharex=True)\n",
    "for i in range(2):\n",
    "    ax[i].tick_params(labelsize=14)\n",
    "\n",
    "ax[0].axhline(0, c='k', lw=.5)\n",
    "ax[0].axvline(200, c='g', lw=.5)\n",
    "ax[0].plot(N12_detr_des_ctrl.time/365    , N12_detr_des_ctrl.rolling({'time':1}, center=True).mean() )\n",
    "ax[0].plot(N12_detr_des_rcp.time/365-1700, N12_detr_des_rcp .rolling({'time':1}, center=True).mean() )\n",
    "\n",
    "ax[1].axhline(0, c='k', lw=.5)\n",
    "ax[1].axvline(200, c='g', lw=.5)\n",
    "ax[1].plot(N34_detr_des_ctrl.time/365    , N34_detr_des_ctrl.rolling({'time':1}, center=True).mean() )\n",
    "ax[1].plot(N34_detr_des_rcp.time/365-1700, N34_detr_des_rcp .rolling({'time':1}, center=True).mean() )\n",
    "ax[1].set_xticks(np.arange(100,400,20))\n",
    "\n",
    "ax[1].set_xlabel('time [years]'     , fontsize=16)\n",
    "ax[0].set_ylabel('Nino1+2 index [K]', fontsize=16)\n",
    "ax[1].set_ylabel('Nino3.4 index [K]', fontsize=16)\n",
    "plt.tight_layout()\n",
    "plt.savefig(f'{path_results}/SST/ENSO_indices')"
   ]
  },
  {
   "cell_type": "code",
   "execution_count": null,
   "metadata": {},
   "outputs": [],
   "source": [
    "# correlation between indices\n",
    "plt.figure()\n",
    "plt.axhline(0, c='k', lw=.5)\n",
    "plt.axvline(0, c='k', lw=.5)\n",
    "plt.scatter(N12_detr_des_ctrl, N34_detr_des_ctrl)\n",
    "plt.scatter(N12_detr_des_rcp , N34_detr_des_rcp )\n",
    "\n",
    "# lagges correlation\n",
    "plt.figure()\n",
    "plt.axhline(0, c='k', lw=.5)\n",
    "plt.axvline(0, c='k', lw=.5)\n",
    "for l in np.arange(-15,16,1):\n",
    "    if l<0:\n",
    "        plt.scatter(l, np.corrcoef(N12_detr_des_ctrl[:l], N34_detr_des_ctrl.shift(time=l).dropna(dim='time'))[0,1], c='C0')\n",
    "        plt.scatter(l, np.corrcoef(N12_detr_des_rcp [:l], N34_detr_des_rcp .shift(time=l).dropna(dim='time'))[0,1], c='C1', marker='D')\n",
    "    else:\n",
    "        plt.scatter(l, np.corrcoef(N12_detr_des_ctrl[l:], N34_detr_des_ctrl.shift(time=l).dropna(dim='time'))[0,1], c='C0')\n",
    "        plt.scatter(l, np.corrcoef(N12_detr_des_rcp [l:], N34_detr_des_rcp .shift(time=l).dropna(dim='time'))[0,1], c='C1', marker='D')"
   ]
  },
  {
   "cell_type": "markdown",
   "metadata": {},
   "source": [
    "# Atlantic Ocean"
   ]
  },
  {
   "cell_type": "markdown",
   "metadata": {},
   "source": [
    "## Atlantic Multidecadal Oscillation\n",
    "from Wikipedia:\n",
    "> Several methods have been proposed to remove the global trend and El Niño-Southern Oscillation (ENSO) influence over the North Atlantic SST. Trenberth and Shea, assuming that the effect of global forcing over the North Atlantic is similar to the global ocean, subtracted the global (60°N-60°S) mean SST from the North Atlantic SST to derive a revised AMO index.[6]\n",
    ">\n",
    "> Ting et al. however argue that the forced SST pattern is not globally uniform; they separated the forced and internally generated variability using signal to noise maximizing EOF analysis.[2]\n",
    ">\n",
    "> Van Oldenborgh et al. derived an AMO index as the SST averaged over the extra-tropical North Atlantic (to remove the influence of ENSO that is greater at tropical latitude) minus the regression on global mean temperature.[7]\n",
    ">\n",
    "> Guan and Nigam removed the non stationary global trend and Pacific natural variability before applying an EOF analysis to the residual North Atlantic SST.[8]\n",
    ">\n",
    "> The linearly detrended index suggests that the North Atlantic SST anomaly at the end of the twentieth century is equally divided between the externally forced component and internally generated variability, and that the current peak is similar to middle twentieth century; by contrast the others methodology suggest that a large portion of the North Atlantic anomaly at the end of the twentieth century is externally forced.[2]\n",
    "\n",
    "We use the method of Trenberth here: averaged SST [0-60 N]x[0-80W] - avg. SST [60S-60N], then ."
   ]
  },
  {
   "cell_type": "code",
   "execution_count": null,
   "metadata": {},
   "outputs": [],
   "source": [
    "# %%time\n",
    "# # 30 sec\n",
    "# TAREA_AMO   = TAREA.sel(AMO_area).sum()\n",
    "# TAREA_T_exT = TAREA.sel(T_exT_area).sum()\n",
    "# NA_ctrl     = SST_index(xa_SST=SST_yrly_ctrl, AREA=TAREA, index_loc=AMO_area  , AREA_index=TAREA_AMO  , MASK=MASK_ocn, dims=('nlat', 'nlon'))\n",
    "# T_exT_ctrl  = SST_index(xa_SST=SST_yrly_ctrl, AREA=TAREA, index_loc=T_exT_area, AREA_index=TAREA_T_exT, MASK=MASK_ocn, dims=('nlat', 'nlon'))\n",
    "# NA_rcp      = SST_index(xa_SST=SST_yrly_rcp , AREA=TAREA, index_loc=AMO_area  , AREA_index=TAREA_AMO  , MASK=MASK_ocn, dims=('nlat', 'nlon'))\n",
    "# T_exT_rcp   = SST_index(xa_SST=SST_yrly_rcp , AREA=TAREA, index_loc=T_exT_area, AREA_index=TAREA_T_exT, MASK=MASK_ocn, dims=('nlat', 'nlon'))\n",
    "# AMO_ctrl    = (NA_ctrl - T_exT_ctrl) - (NA_ctrl - T_exT_ctrl).mean()\n",
    "# AMO_rcp     = (NA_rcp  - T_exT_rcp ) - (NA_rcp  - T_exT_rcp ).mean()\n",
    "# AMO_ctrl.to_netcdf(f'{path_results}/SST/AMO_yrly_ctrl.nc')\n",
    "# AMO_rcp .to_netcdf(f'{path_results}/SST/AMO_yrly_rcp.nc' )"
   ]
  },
  {
   "cell_type": "code",
   "execution_count": null,
   "metadata": {},
   "outputs": [],
   "source": [
    "AMO_ctrl = xr.open_dataarray(f'{path_results}/SST/AMO_yrly_ctrl.nc', decode_times=False)\n",
    "AMO_rcp  = xr.open_dataarray(f'{path_results}/SST/AMO_yrly_rcp.nc' , decode_times=False)"
   ]
  },
  {
   "cell_type": "code",
   "execution_count": null,
   "metadata": {},
   "outputs": [],
   "source": [
    "f, ax = plt.subplots(1,1,figsize=(8,5))\n",
    "ax.tick_params(labelsize=14)\n",
    "ax.axhline(0,c='k', lw=.5)\n",
    "ax.axvline(200,c='g', lw=.5)\n",
    "ax.plot(AMO_ctrl.time/365     , AMO_ctrl, c='C0', lw=.5)\n",
    "ax.plot(AMO_rcp .time/365-1800, AMO_rcp , c='C1', lw=.5)\n",
    "L1 = ax.plot(AMO_ctrl.time/365     , AMO_ctrl.rolling(time=15, center=True).mean(), c='C0', lw=2, label='CTRL')\n",
    "L2 = ax.plot(AMO_rcp .time/365-1800, AMO_rcp .rolling(time=15, center=True).mean(), c='C1', lw=2, label='RCP' )\n",
    "ax.text(.02, .02, '15 year running mean', transform=ax.transAxes, fontsize=14, color='grey')\n",
    "ax.legend(loc=2, ncol=2, fontsize=14)\n",
    "ax.set_xlabel('time [years]' , fontsize=16)\n",
    "ax.set_ylabel('AMO index [K]', fontsize=16)\n",
    "f.tight_layout()\n",
    "plt.savefig(f'{path_results}/SST/AMO_index')"
   ]
  },
  {
   "cell_type": "markdown",
   "metadata": {},
   "source": [
    "- comparable period to observations (approx 70 years; Trenberth & Shea)\n",
    "- much smaller amplitude though (0.05K vs. 0.2K)"
   ]
  },
  {
   "cell_type": "code",
   "execution_count": null,
   "metadata": {},
   "outputs": [],
   "source": []
  }
 ],
 "metadata": {
  "kernelspec": {
   "display_name": "Python 3",
   "language": "python",
   "name": "python3"
  },
  "language_info": {
   "codemirror_mode": {
    "name": "ipython",
    "version": 3
   },
   "file_extension": ".py",
   "mimetype": "text/x-python",
   "name": "python",
   "nbconvert_exporter": "python",
   "pygments_lexer": "ipython3",
   "version": "3.6.6"
  }
 },
 "nbformat": 4,
 "nbformat_minor": 2
}
