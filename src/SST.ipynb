{
 "cells": [
  {
   "cell_type": "markdown",
   "metadata": {},
   "source": [
    "# Sea Surface Temperature"
   ]
  },
  {
   "cell_type": "code",
   "execution_count": null,
   "metadata": {},
   "outputs": [],
   "source": [
    "# import pickle\n",
    "import sys\n",
    "sys.path.append(\"..\")\n",
    "import scipy as sp\n",
    "import numpy as np\n",
    "import xarray as xr\n",
    "import seaborn as sns\n",
    "import cmocean\n",
    "import cartopy\n",
    "import cartopy.crs as ccrs\n",
    "import matplotlib as mpl\n",
    "import matplotlib.pyplot as plt\n",
    "import matplotlib.patches as mpatches"
   ]
  },
  {
   "cell_type": "code",
   "execution_count": null,
   "metadata": {},
   "outputs": [],
   "source": [
    "%matplotlib inline\n",
    "%config InlineBackend.print_figure_kwargs={'bbox_inches':None}\n",
    "%load_ext autoreload\n",
    "%autoreload 2\n",
    "%aimport - numpy - scipy - matplotlib.pyplot"
   ]
  },
  {
   "cell_type": "code",
   "execution_count": null,
   "metadata": {},
   "outputs": [],
   "source": [
    "from OHC import t2da, t2ds\n",
    "from maps import map_robinson\n",
    "from grid import find_array_idx\n",
    "from paths import path_results, path_samoc, file_ex_ocn_ctrl\n",
    "from regions import SOM_area, Nino12, Nino34\n",
    "from plotting import shifted_color_map\n",
    "from timeseries import IterateOutputCESM\n",
    "from xr_DataArrays import xr_AREA\n",
    "from xr_regression import xr_linear_trends_2D, xr_linear_trend, ocn_field_regression"
   ]
  },
  {
   "cell_type": "markdown",
   "metadata": {},
   "source": [
    "# global SST map and trends"
   ]
  },
  {
   "cell_type": "code",
   "execution_count": null,
   "metadata": {},
   "outputs": [],
   "source": [
    "MASK = xr.open_dataset(file_ex_ocn_ctrl, decode_times=False).REGION_MASK"
   ]
  },
  {
   "cell_type": "code",
   "execution_count": null,
   "metadata": {},
   "outputs": [],
   "source": [
    "# %%time\n",
    "# # stacking files into one xr Dataset object\n",
    "# for run in ['ctrl', 'rcp']:\n",
    "#     for i, (y,m,s) in enumerate(IterateOutputCESM('ocn', run, 'yrly', name='TEMP_PD')):\n",
    "#         print(y)\n",
    "#         da = xr.open_dataset(s, decode_times=False).TEMP[0,:,:]\n",
    "#         da = da.drop(['z_t', 'ULONG', 'ULAT'])\n",
    "#         da['TLAT' ] = da['TLAT' ].round(decimals=2)\n",
    "#         da['TLONG'] = da['TLONG'].round(decimals=2)\n",
    "#         del da.encoding[\"contiguous\"]\n",
    "#         ds = t2ds(da=da, name='SST', t=int(round(da.time.item())))\n",
    "#         ds.to_netcdf(path=f'{path_samoc}/SST/SST_yrly_{run}_{y}.nc', mode='w')\n",
    "     \n",
    "#     combined = xr.open_mfdataset(f'{path_samoc}/SST/SST_yrly_{run}_*.nc',\n",
    "#                                  concat_dim='time',\n",
    "#                                  autoclose=True,\n",
    "#                                  coords='minimal')\n",
    "#     combined.to_netcdf(f'{path_samoc}/SST/SST_yrly_{run}.nc')\n",
    "#     # remove extra netCDF files"
   ]
  },
  {
   "cell_type": "markdown",
   "metadata": {},
   "source": [
    "CPU times: user 1min 25s, sys: 3min 16s, total: 4min 41s\n",
    "Wall time: 11min 18s"
   ]
  },
  {
   "cell_type": "code",
   "execution_count": null,
   "metadata": {},
   "outputs": [],
   "source": [
    "SST_yrly_ctrl = xr.open_dataarray(f'{path_samoc}/SST/SST_yrly_ctrl.nc')\n",
    "SST_yrly_rcp  = xr.open_dataarray(f'{path_samoc}/SST/SST_yrly_rcp.nc' )"
   ]
  },
  {
   "cell_type": "code",
   "execution_count": null,
   "metadata": {},
   "outputs": [],
   "source": [
    "%%time\n",
    "SST_trend_ctrl = ocn_field_regression(SST_yrly_ctrl)\n",
    "SST_trend_rcp  = ocn_field_regression(SST_yrly_rcp )"
   ]
  },
  {
   "cell_type": "code",
   "execution_count": null,
   "metadata": {},
   "outputs": [],
   "source": [
    "fn = f'{path_results}/SST/SST_ctrl_mean'\n",
    "xa = SST_yrly_ctrl.mean(dim='time').where(MASK>0)\n",
    "f, ax = map_robinson(xa=xa, domain='ocn_T', cmap=cmocean.cm.thermal, minv=-2, maxv=30, label='SST [$^\\circ$C]', filename=fn)"
   ]
  },
  {
   "cell_type": "code",
   "execution_count": null,
   "metadata": {},
   "outputs": [],
   "source": [
    "cmap = shifted_color_map(cmocean.cm.balance, start=.25, midpoint=0.5, stop=1., name='shrunk')\n",
    "label = 'SST trend [K/century]'\n",
    "\n",
    "xa = SST_trend_ctrl*100\n",
    "fn = f'{path_results}/SST/SST_trend_ctrl'\n",
    "f, ax = map_robinson(xa=xa, domain='ocn_T', cmap=cmap, minv=-2, maxv=4, label=label, filename=fn)\n",
    "\n",
    "xa = SST_trend_rcp*100\n",
    "fn = f'{path_results}/SST/SST_trend_rcp'\n",
    "f, ax = map_robinson(xa=xa, domain='ocn_T', cmap=cmap, minv=-2, maxv=4, label=label, filename=fn)"
   ]
  },
  {
   "cell_type": "markdown",
   "metadata": {},
   "source": [
    "### hiatus trend"
   ]
  },
  {
   "cell_type": "code",
   "execution_count": null,
   "metadata": {},
   "outputs": [],
   "source": [
    "SST_yrly_rcp[20:29,:,:]"
   ]
  },
  {
   "cell_type": "code",
   "execution_count": null,
   "metadata": {},
   "outputs": [],
   "source": [
    "SST_trend_rcp_hiatus  = ocn_field_regression(SST_yrly_rcp[20:29,:,:])"
   ]
  },
  {
   "cell_type": "code",
   "execution_count": null,
   "metadata": {},
   "outputs": [],
   "source": [
    "fn = f'{path_results}/SST/SST_trend_rcp_hiatus'\n",
    "cmap = shifted_color_map(cmocean.cm.balance, start=.25, midpoint=0.5, stop=1., name='shrunk')\n",
    "label = 'SST trend [K/century]'\n",
    "xa = SST_trend_rcp_hiatus*100\n",
    "f, ax = map_robinson(xa=xa, domain='ocn_T', cmap=cmap, minv=-4, maxv=8, label=label, filename=fn)"
   ]
  },
  {
   "cell_type": "code",
   "execution_count": null,
   "metadata": {},
   "outputs": [],
   "source": []
  },
  {
   "cell_type": "markdown",
   "metadata": {},
   "source": [
    "# SST indices"
   ]
  },
  {
   "cell_type": "code",
   "execution_count": null,
   "metadata": {},
   "outputs": [],
   "source": [
    "TAREA     = xr_AREA('ocn')\n",
    "AREA_rect = xr_AREA('ocn_rect')\n",
    "AREA_rect = AREA_rect.rename({'t_lon':'lon', 't_lat':'lat'})"
   ]
  },
  {
   "cell_type": "code",
   "execution_count": null,
   "metadata": {},
   "outputs": [],
   "source": [
    "def SST_index(xa_SST, AREA, index_loc, AREA_index):\n",
    "    \"\"\" calculates the average SST over an area, possibly as a time series \"\"\"\n",
    "    assert type(xa_SST)==xr.core.dataarray.DataArray\n",
    "    assert type(AREA)==xr.core.dataarray.DataArray\n",
    "    assert type(index_loc)==dict\n",
    "#     for dim in ['nlat', 'nlon']:\n",
    "#         for xa in [xa_SST, AREA]:\n",
    "#             print(dim,xa)\n",
    "#             assert dim in xa\n",
    "\n",
    "    index = (xa_SST*AREA).sel(index_loc).sum(dim=('nlat', 'nlon'))/AREA_index\n",
    "    return index"
   ]
  },
  {
   "cell_type": "markdown",
   "metadata": {},
   "source": [
    "# Southern Ocean\n",
    "## Southern Ocean Mode index"
   ]
  },
  {
   "cell_type": "code",
   "execution_count": null,
   "metadata": {},
   "outputs": [],
   "source": [
    "SOMi_area"
   ]
  },
  {
   "cell_type": "code",
   "execution_count": null,
   "metadata": {},
   "outputs": [],
   "source": [
    "%%time\n",
    "SOMi_area = TAREA.sel(SOM_area).sum()\n",
    "SOMi_ctrl = SST_index(xa_SST=SST_yrly_ctrl, AREA=TAREA, index_loc=SOM_area, AREA_index=SOMi_area)\n",
    "SOMi_rcp  = SST_index(xa_SST=SST_yrly_rcp , AREA=TAREA, index_loc=SOM_area, AREA_index=SOMi_area)"
   ]
  },
  {
   "cell_type": "code",
   "execution_count": null,
   "metadata": {},
   "outputs": [],
   "source": [
    "SOMi_trend_ctrl = np.polyfit(SOMi_ctrl.time, SOMi_ctrl, 1)\n",
    "SOMi_trend_rcp  = np.polyfit(SOMi_rcp .time, SOMi_rcp , 1)\n",
    "\n",
    "SOMi_detr_ctrl = SOMi_ctrl - (SOMi_trend_ctrl[1] + SOMi_trend_ctrl[0]*SOMi_ctrl.time)\n",
    "SOMi_detr_rcp  = SOMi_rcp  - (SOMi_trend_rcp[1]  + SOMi_trend_rcp[0] *SOMi_rcp .time)"
   ]
  },
  {
   "cell_type": "code",
   "execution_count": null,
   "metadata": {},
   "outputs": [],
   "source": [
    "f = plt.figure(figsize=(8,5))\n",
    "ax = f.add_axes([0.13,0.13,.85,.85])\n",
    "plt.tick_params(labelsize=14)\n",
    "\n",
    "# plt.axhline(0,c='k', lw=.5)\n",
    "plt.plot(SOMi_ctrl.time/365     , SOMi_ctrl, c='C0', lw=.5)\n",
    "plt.plot(SOMi_rcp .time/365-1800, SOMi_rcp , c='C1', lw=.5)\n",
    "\n",
    "plt.plot(SOMi_ctrl.time/365     , SOMi_trend_ctrl[1] + SOMi_trend_ctrl[0]*SOMi_ctrl.time, ls='--')\n",
    "plt.plot(SOMi_rcp .time/365-1800, SOMi_trend_rcp [1] + SOMi_trend_rcp [0]*SOMi_rcp.time , ls='--')\n",
    "\n",
    "L1, = plt.plot(SOMi_ctrl.time/365     , SOMi_ctrl.rolling({'time':5}, center=True).mean(), c='C0', lw=2, label='CTRL')\n",
    "L2, = plt.plot(SOMi_rcp .time/365-1800, SOMi_rcp .rolling({'time':5}, center=True).mean(), c='C1', lw=2, label='RCP')\n",
    "\n",
    "plt.text(.02,.95, r'[35,50$^\\circ$S]$\\times$[-50,0$^\\circ$E]', ha='left',transform=ax.transAxes, fontsize=16)\n",
    "plt.xlabel('time [years]', fontsize=16)\n",
    "plt.ylabel('SOM index [K]', fontsize=16)\n",
    "plt.legend(fontsize=16, ncol=2, loc=4, handles=[L1, L2])\n",
    "plt.savefig(f'{path_results}/SST/SOM_raw')"
   ]
  },
  {
   "cell_type": "code",
   "execution_count": null,
   "metadata": {},
   "outputs": [],
   "source": [
    "f = plt.figure(figsize=(8,5))\n",
    "ax = f.add_axes([0.13,0.13,.85,.85])\n",
    "plt.tick_params(labelsize=14)\n",
    "\n",
    "plt.axhline(0,c='k', lw=.5)\n",
    "plt.plot(SOMi_ctrl.time/365     , SOMi_detr_ctrl, c='C0', lw=.5)\n",
    "plt.plot(SOMi_rcp .time/365-1800, SOMi_detr_rcp , c='C1', lw=.5)\n",
    "plt.plot(SOMi_ctrl.time/365     , SOMi_detr_ctrl.rolling({'time':5}, center=True).mean(), c='C0', lw=2, label='CTRL')\n",
    "plt.plot(SOMi_rcp .time/365-1800, SOMi_detr_rcp .rolling({'time':5}, center=True).mean(), c='C1', lw=2, label='RCP')\n",
    "\n",
    "plt.text(.02,.95, r'[35,50$^\\circ$S]$\\times$[-50,0$^\\circ$E]', ha='left',transform=ax.transAxes, fontsize=16)\n",
    "plt.xlabel('time [years]', fontsize=16)\n",
    "plt.ylabel('SOM index [K]', fontsize=16)\n",
    "plt.legend(fontsize=16, ncol=2)\n",
    "plt.savefig(f'{path_results}/SST/SOM_index')"
   ]
  },
  {
   "cell_type": "markdown",
   "metadata": {},
   "source": [
    "# Pacific Ocean\n",
    "\n",
    "## Interdecadal Pacific Oscillation\n",
    "\n",
    "## Pacific decadal oscillation\n",
    "\"The leading EOF of monthlySST anomalies over the North Pacific (after removing the global mean SST anomaly) and its associated PC time series are termed the Pacific Decadal Oscillation (PDO)\""
   ]
  },
  {
   "cell_type": "markdown",
   "metadata": {},
   "source": [
    "## ENSO"
   ]
  },
  {
   "cell_type": "code",
   "execution_count": null,
   "metadata": {},
   "outputs": [],
   "source": [
    "N12_ctrl = ((SST_yrly_ctrl*TAREA).sel(Nino12).sum(dim=('nlat','nlon'))/TAREA.sel(Nino12).sum(dim=('nlat','nlon')))\n",
    "N34_ctrl = ((SST_yrly_ctrl*TAREA).sel(Nino34).sum(dim=('nlat','nlon'))/TAREA.sel(Nino34).sum(dim=('nlat','nlon')))\n",
    "N12_rcp  = ((SST_yrly_rcp *TAREA).sel(Nino12).sum(dim=('nlat','nlon'))/TAREA.sel(Nino12).sum(dim=('nlat','nlon')))\n",
    "N34_rcp  = ((SST_yrly_rcp *TAREA).sel(Nino34).sum(dim=('nlat','nlon'))/TAREA.sel(Nino34).sum(dim=('nlat','nlon')))"
   ]
  },
  {
   "cell_type": "code",
   "execution_count": null,
   "metadata": {},
   "outputs": [],
   "source": [
    "ds = xr.open_dataset(file_ex_ocn_ctrl, decode_times=False)"
   ]
  },
  {
   "cell_type": "code",
   "execution_count": null,
   "metadata": {},
   "outputs": [],
   "source": [
    "ds.TEMP"
   ]
  },
  {
   "cell_type": "code",
   "execution_count": null,
   "metadata": {},
   "outputs": [],
   "source": [
    "# %%time\n",
    "# #5-10 sec per year\n",
    "# Nino12_AREA = TAREA.sel(Nino12).sum(dim=('nlat','nlon'))\n",
    "# Nino34_AREA = TAREA.sel(Nino34).sum(dim=('nlat','nlon'))\n",
    "# for run in ['ctrl', 'rcp']:\n",
    "#     for i, (y,m,s) in enumerate(IterateOutputCESM(domain='ocn', run=run, tavg='monthly')):\n",
    "#         if m==1: print(y)\n",
    "#         SST = xr.open_dataset(s, decode_times=False).TEMP[0,0,:,:]\n",
    "#         N12 = SST_index(xa_SST=SST, AREA=TAREA, index_loc=Nino12, AREA_index=Nino12_AREA)\n",
    "#         N34 = SST_index(xa_SST=SST, AREA=TAREA, index_loc=Nino34, AREA_index=Nino34_AREA)\n",
    "#         if i==0:\n",
    "#             N12_new = N12\n",
    "#             N34_new = N34\n",
    "#         else:\n",
    "#             N12_new = xr.concat([N12_new, N12], dim='time')\n",
    "#             N34_new = xr.concat([N34_new, N34], dim='time')\n",
    "#     N12_new.to_netcdf(path=f'{path_samoc}/SST/Nino12_{run}.nc')\n",
    "#     N34_new.to_netcdf(path=f'{path_samoc}/SST/Nino34_{run}.nc')"
   ]
  },
  {
   "cell_type": "code",
   "execution_count": null,
   "metadata": {},
   "outputs": [],
   "source": [
    "N12_ctrl = xr.open_dataarray(f'{path_samoc}/SST/Nino12_ctrl.nc', decode_times=False)\n",
    "N34_ctrl = xr.open_dataarray(f'{path_samoc}/SST/Nino34_ctrl.nc', decode_times=False)\n",
    "N12_rcp  = xr.open_dataarray(f'{path_samoc}/SST/Nino12_rcp.nc' , decode_times=False)\n",
    "N34_rcp  = xr.open_dataarray(f'{path_samoc}/SST/Nino34_rcp.nc' , decode_times=False)"
   ]
  },
  {
   "cell_type": "code",
   "execution_count": null,
   "metadata": {},
   "outputs": [],
   "source": [
    "N12_rcp"
   ]
  },
  {
   "cell_type": "code",
   "execution_count": null,
   "metadata": {},
   "outputs": [],
   "source": [
    "N12_ctrl"
   ]
  },
  {
   "cell_type": "code",
   "execution_count": null,
   "metadata": {},
   "outputs": [],
   "source": [
    "plt.figure(figsize=(12,5))\n",
    "plt.plot(N12_ctrl.time/365    , N12_ctrl.rolling({'time':12}, center=True).mean())\n",
    "plt.plot(N34_ctrl.time/365    , N34_ctrl.rolling({'time':12}, center=True).mean())\n",
    "plt.plot(N12_rcp.time/365-1800, N12_rcp .rolling({'time':12}, center=True).mean())\n",
    "plt.plot(N34_rcp.time/365-1800, N34_rcp .rolling({'time':12}, center=True).mean())\n",
    "plt.tight_layout()"
   ]
  },
  {
   "cell_type": "markdown",
   "metadata": {},
   "source": [
    "# Atlantic Ocean\n",
    "## Atlantic Multidecadal Oscillation"
   ]
  },
  {
   "cell_type": "code",
   "execution_count": null,
   "metadata": {},
   "outputs": [],
   "source": []
  }
 ],
 "metadata": {
  "kernelspec": {
   "display_name": "Python 3",
   "language": "python",
   "name": "python3"
  },
  "language_info": {
   "codemirror_mode": {
    "name": "ipython",
    "version": 3
   },
   "file_extension": ".py",
   "mimetype": "text/x-python",
   "name": "python",
   "nbconvert_exporter": "python",
   "pygments_lexer": "ipython3",
   "version": "3.6.6"
  }
 },
 "nbformat": 4,
 "nbformat_minor": 2
}
