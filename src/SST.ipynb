{
 "cells": [
  {
   "cell_type": "markdown",
   "metadata": {},
   "source": [
    "# Sea Surface Temperature"
   ]
  },
  {
   "cell_type": "code",
   "execution_count": null,
   "metadata": {},
   "outputs": [],
   "source": [
    "import sys\n",
    "sys.path.append(\"..\")\n",
    "import scipy as sp\n",
    "import numpy as np\n",
    "import xarray as xr\n",
    "import seaborn as sns\n",
    "import cmocean\n",
    "import cartopy\n",
    "import cartopy.crs as ccrs\n",
    "import matplotlib as mpl\n",
    "import matplotlib.pyplot as plt\n",
    "import matplotlib.patches as mpatches"
   ]
  },
  {
   "cell_type": "code",
   "execution_count": null,
   "metadata": {},
   "outputs": [],
   "source": [
    "%matplotlib inline\n",
    "%config InlineBackend.figure_format = 'retina'\n",
    "%config InlineBackend.print_figure_kwargs={'bbox_inches':None}\n",
    "%load_ext autoreload\n",
    "%autoreload 2\n",
    "%aimport - numpy - scipy - matplotlib.pyplot"
   ]
  },
  {
   "cell_type": "code",
   "execution_count": null,
   "metadata": {},
   "outputs": [],
   "source": [
    "from OHC import t2da, t2ds\n",
    "from SST import SST_index, EOF_SST_analysis\n",
    "from maps import map_robinson, map_eq_earth\n",
    "from grid import find_array_idx\n",
    "from paths import path_results, path_samoc, file_ex_ocn_ctrl, file_ex_ocn_rect\n",
    "from regions import boolean_mask, global_ocean, gl_ocean_rect\n",
    "from plotting import shifted_color_map, discrete_cmap\n",
    "from timeseries import IterateOutputCESM\n",
    "from xr_DataArrays import xr_AREA\n",
    "from xr_regression import xr_linear_trends_2D, xr_linear_trend, ocn_field_regression"
   ]
  },
  {
   "cell_type": "markdown",
   "metadata": {},
   "source": [
    "# global yearly avg. SST map and trends"
   ]
  },
  {
   "cell_type": "code",
   "execution_count": null,
   "metadata": {},
   "outputs": [],
   "source": [
    "MASK = xr.open_dataset(file_ex_ocn_ctrl, decode_times=False).REGION_MASK"
   ]
  },
  {
   "cell_type": "code",
   "execution_count": null,
   "metadata": {},
   "outputs": [],
   "source": [
    "# %%time\n",
    "# # ca. 4:30 min for ctrl/rcp, 1:25 for lpi\n",
    "# # stacking files into one xr Dataset object\n",
    "# for run in ['ctrl', 'rcp']:  # ['lpi', 'lpd']:\n",
    "#     for i, (y,m,s) in enumerate(IterateOutputCESM('ocn', run, 'yrly', name='TEMP_PD')):\n",
    "#         print(y)\n",
    "#         da = xr.open_dataset(s, decode_times=False).TEMP[0,:,:]\n",
    "#         da = da.drop(['z_t', 'ULONG', 'ULAT'])\n",
    "#         da['TLAT' ] = da['TLAT' ].round(decimals=2)\n",
    "#         da['TLONG'] = da['TLONG'].round(decimals=2)\n",
    "#         del da.encoding[\"contiguous\"]\n",
    "#         ds = t2ds(da=da, name='SST', t=int(round(da.time.item())))\n",
    "#         ds.to_netcdf(path=f'{path_samoc}/SST/SST_yrly_{run}_{y}.nc', mode='w')\n",
    "     \n",
    "#     combined = xr.open_mfdataset(f'{path_samoc}/SST/SST_yrly_{run}_*.nc',\n",
    "#                                  concat_dim='time',\n",
    "#                                  autoclose=True,\n",
    "#                                  coords='minimal')\n",
    "#     combined.to_netcdf(f'{path_samoc}/SST/SST_yrly_{run}.nc')\n",
    "#     # remove extra netCDF files"
   ]
  },
  {
   "cell_type": "code",
   "execution_count": null,
   "metadata": {},
   "outputs": [],
   "source": [
    "SST_yrly_ctrl = xr.open_dataarray(f'{path_samoc}/SST/SST_yrly_ctrl.nc')\n",
    "SST_yrly_rcp  = xr.open_dataarray(f'{path_samoc}/SST/SST_yrly_rcp.nc' )\n",
    "SST_yrly_lpd  = xr.open_dataarray(f'{path_samoc}/SST/SST_yrly_lpd.nc' )\n",
    "SST_yrly_lpi  = xr.open_dataarray(f'{path_samoc}/SST/SST_yrly_lpi.nc' )"
   ]
  },
  {
   "cell_type": "code",
   "execution_count": null,
   "metadata": {},
   "outputs": [],
   "source": [
    "# mean CTRL SST\n",
    "xa    = SST_yrly_ctrl.mean(dim='time').where(MASK>0)\n",
    "fn    = f'{path_results}/SST/SST_ctrl_mean'\n",
    "cm    = discrete_cmap(17, cmocean.cm.thermal)\n",
    "f, ax = map_robinson(xa=xa, domain='ocn_U', cmap=cm, minv=-2, maxv=32, label='SST [$^\\circ$C]', filename=fn)"
   ]
  },
  {
   "cell_type": "code",
   "execution_count": null,
   "metadata": {},
   "outputs": [],
   "source": [
    "%%time\n",
    "# 1:23 min\n",
    "SST_trend_ctrl = ocn_field_regression(SST_yrly_ctrl)\n",
    "SST_trend_rcp  = ocn_field_regression(SST_yrly_rcp )"
   ]
  },
  {
   "cell_type": "code",
   "execution_count": null,
   "metadata": {},
   "outputs": [],
   "source": [
    "cmap  = discrete_cmap(12, shifted_color_map(cmocean.cm.balance, start=.25, midpoint=0.5, stop=1., name='shrunk'))\n",
    "\n",
    "xa    = SST_trend_ctrl*100\n",
    "fn    = f'{path_results}/SST/SST_trend_ctrl'\n",
    "label = '100-299 SST trend [K/century]'\n",
    "f, ax = map_robinson(xa=xa, domain='ocn_T', cmap=cmap, minv=-2, maxv=4, label=label, filename=fn)\n",
    "\n",
    "xa    = SST_trend_rcp*100\n",
    "fn    = f'{path_results}/SST/SST_trend_rcp'\n",
    "label = '2000-2099 SST trend [K/century]'\n",
    "f, ax = map_robinson(xa=xa, domain='ocn_T', cmap=cmap, minv=-2, maxv=4, label=label, filename=fn)"
   ]
  },
  {
   "cell_type": "markdown",
   "metadata": {},
   "source": [
    "### hiatus trend"
   ]
  },
  {
   "cell_type": "code",
   "execution_count": null,
   "metadata": {},
   "outputs": [],
   "source": [
    "SST_yrly_rcp[20:29,:,:]"
   ]
  },
  {
   "cell_type": "code",
   "execution_count": null,
   "metadata": {},
   "outputs": [],
   "source": [
    "SST_trend_rcp_hiatus  = ocn_field_regression(SST_yrly_rcp[20:29,:,:])"
   ]
  },
  {
   "cell_type": "code",
   "execution_count": null,
   "metadata": {},
   "outputs": [],
   "source": [
    "fn = f'{path_results}/SST/SST_trend_rcp_hiatus'\n",
    "cmap = shifted_color_map(cmocean.cm.balance, start=.25, midpoint=0.5, stop=1., name='shrunk')\n",
    "label = 'SST trend [K/century]'\n",
    "xa = SST_trend_rcp_hiatus*100\n",
    "f, ax = map_robinson(xa=xa, domain='ocn_T', cmap=cmap, minv=-4, maxv=8, label=label, filename=fn)"
   ]
  },
  {
   "cell_type": "markdown",
   "metadata": {},
   "source": [
    "# low resolution runs"
   ]
  },
  {
   "cell_type": "code",
   "execution_count": null,
   "metadata": {},
   "outputs": [],
   "source": [
    "from paths import file_ex_ocn_lpd, file_ex_ocn_lpi"
   ]
  },
  {
   "cell_type": "code",
   "execution_count": null,
   "metadata": {},
   "outputs": [],
   "source": [
    "REGION_MASK = xr.open_dataset(file_ex_ocn_lpd, decode_times=False).REGION_MASK"
   ]
  },
  {
   "cell_type": "code",
   "execution_count": null,
   "metadata": {},
   "outputs": [],
   "source": [
    "ds = xr.open_dataset(file_ex_ocn_lpd, decode_times=False)"
   ]
  },
  {
   "cell_type": "code",
   "execution_count": null,
   "metadata": {},
   "outputs": [],
   "source": [
    "ds.TAREA.plot()"
   ]
  },
  {
   "cell_type": "code",
   "execution_count": null,
   "metadata": {},
   "outputs": [],
   "source": []
  },
  {
   "cell_type": "code",
   "execution_count": null,
   "metadata": {},
   "outputs": [],
   "source": []
  },
  {
   "cell_type": "code",
   "execution_count": null,
   "metadata": {},
   "outputs": [],
   "source": [
    "SST_pd = xr.open_dataset(file_ex_ocn_lpd, decode_times=False).TEMP[0,0,:,:]\n",
    "SST_pi = xr.open_dataset(file_ex_ocn_lpi, decode_times=False).TEMP[0,0,:,:]"
   ]
  },
  {
   "cell_type": "code",
   "execution_count": null,
   "metadata": {},
   "outputs": [],
   "source": [
    "REGION_MASK.plot()"
   ]
  },
  {
   "cell_type": "code",
   "execution_count": null,
   "metadata": {},
   "outputs": [],
   "source": [
    "map_eq_earth(domain='ocn_T', xa=SST_pd.where(SST_pd.TLAT>0).where(SST_pd.TLAT<60).where(SST_pd.TLONG>280), cmap=cmocean.cm.thermal, maxv=30, minv=5, label='')"
   ]
  },
  {
   "cell_type": "code",
   "execution_count": null,
   "metadata": {},
   "outputs": [],
   "source": [
    "SST_pd.TLAT.where(REGION_MASK==6).where(SST_pd.TLAT>0).plot()"
   ]
  },
  {
   "cell_type": "code",
   "execution_count": null,
   "metadata": {},
   "outputs": [],
   "source": [
    "(SST_pd-SST_pi).plot()"
   ]
  },
  {
   "cell_type": "code",
   "execution_count": null,
   "metadata": {},
   "outputs": [],
   "source": [
    "SST_pi.TLONG.plot()"
   ]
  },
  {
   "cell_type": "code",
   "execution_count": null,
   "metadata": {},
   "outputs": [],
   "source": [
    "SST_new = xr.concat([SST_pd, SST_pi], dim='time')"
   ]
  },
  {
   "cell_type": "code",
   "execution_count": null,
   "metadata": {},
   "outputs": [],
   "source": [
    "map_eq_earth(domain='ocn_T', xa=SST_pd, cmap=cmocean.cm.thermal, maxv=30, minv=-2, label='')"
   ]
  },
  {
   "cell_type": "code",
   "execution_count": null,
   "metadata": {},
   "outputs": [],
   "source": [
    "# SST_pd.to_netcdf('SST1.nc')\n",
    "# SST_new.to_netcdf('SST2.nc')\n",
    "# # 500kB extra for an extra 2D ocn field"
   ]
  }
 ],
 "metadata": {
  "kernelspec": {
   "display_name": "Python 3",
   "language": "python",
   "name": "python3"
  },
  "language_info": {
   "codemirror_mode": {
    "name": "ipython",
    "version": 3
   },
   "file_extension": ".py",
   "mimetype": "text/x-python",
   "name": "python",
   "nbconvert_exporter": "python",
   "pygments_lexer": "ipython3",
   "version": "3.6.6"
  }
 },
 "nbformat": 4,
 "nbformat_minor": 2
}
