{
 "cells": [
  {
   "cell_type": "markdown",
   "metadata": {},
   "source": [
    "# Sea Surface Temperature"
   ]
  },
  {
   "cell_type": "code",
   "execution_count": null,
   "metadata": {},
   "outputs": [],
   "source": [
    "import sys\n",
    "sys.path.append(\"..\")\n",
    "import scipy as sp\n",
    "import numpy as np\n",
    "import xarray as xr\n",
    "import seaborn as sns\n",
    "import cmocean\n",
    "import cartopy\n",
    "import cartopy.crs as ccrs\n",
    "import matplotlib as mpl\n",
    "import matplotlib.pyplot as plt\n",
    "import matplotlib.patches as mpatches"
   ]
  },
  {
   "cell_type": "code",
   "execution_count": null,
   "metadata": {},
   "outputs": [],
   "source": [
    "%matplotlib inline\n",
    "%config InlineBackend.figure_format = 'retina'\n",
    "%config InlineBackend.print_figure_kwargs={'bbox_inches':None}\n",
    "%load_ext autoreload\n",
    "%autoreload 2\n",
    "%aimport - numpy - scipy - matplotlib.pyplot"
   ]
  },
  {
   "cell_type": "code",
   "execution_count": null,
   "metadata": {},
   "outputs": [],
   "source": [
    "from OHC import t2da, t2ds\n",
    "from SST import SST_index, EOF_SST_analysis, SST_remove_forced_signal\n",
    "from maps import map_robinson, map_eq_earth, rect_polygon\n",
    "from grid import find_array_idx\n",
    "from paths import path_results, path_samoc, file_ex_ocn_ctrl, file_ex_ocn_rect, file_ex_ocn_lpd\n",
    "from regions import boolean_mask, global_ocean, gl_ocean_rect, SST_index_bounds, boolean_mask\n",
    "from plotting import shifted_color_map, discrete_cmap\n",
    "from timeseries import IterateOutputCESM\n",
    "from xr_DataArrays import xr_AREA, dll_dims_names\n",
    "from xr_regression import xr_linear_trends_2D, xr_linear_trend, ocn_field_regression, xr_lintrend, xr_quadtrend"
   ]
  },
  {
   "cell_type": "markdown",
   "metadata": {},
   "source": [
    "# global yearly avg. SST map and trends"
   ]
  },
  {
   "cell_type": "code",
   "execution_count": null,
   "metadata": {},
   "outputs": [],
   "source": [
    "SST_yrly_ctrl = xr.open_dataarray(f'{path_samoc}/SST/SST_yrly_ctrl.nc', decode_times=False)\n",
    "SST_yrly_rcp  = xr.open_dataarray(f'{path_samoc}/SST/SST_yrly_rcp.nc' , decode_times=False)\n",
    "SST_yrly_lpd  = xr.open_dataarray(f'{path_samoc}/SST/SST_yrly_lpd.nc' , decode_times=False)\n",
    "SST_yrly_lpi  = xr.open_dataarray(f'{path_samoc}/SST/SST_yrly_lpi.nc' , decode_times=False)\n",
    "SST_yrly_had  = xr.open_dataarray(f'{path_samoc}/SST/SST_yrly_had.nc' , decode_times=False)"
   ]
  },
  {
   "cell_type": "markdown",
   "metadata": {},
   "source": [
    "### mean CTRL SST"
   ]
  },
  {
   "cell_type": "code",
   "execution_count": null,
   "metadata": {},
   "outputs": [],
   "source": [
    "MASK  = boolean_mask(domain='ocn', mask_nr=0, rounded=True)\n",
    "xa    = SST_yrly_ctrl.mean(dim='time').where(MASK)\n",
    "fn    = f'{path_results}/SST/SST_ctrl_mean'\n",
    "cm    = discrete_cmap(17, cmocean.cm.thermal)\n",
    "f, ax = map_robinson(xa=xa, domain='ocn_T', cmap=cm, minv=-2, maxv=32, label='SST [$^\\circ$C]', filename=fn)"
   ]
  },
  {
   "cell_type": "code",
   "execution_count": null,
   "metadata": {},
   "outputs": [],
   "source": [
    "%%time\n",
    "# 2 min\n",
    "SST_trend_ctrl, SST_trend_interc_ctrl = ocn_field_regression(SST_yrly_ctrl, run='ctrl')\n",
    "SST_trend_rcp , SST_trend_interc_rcp  = ocn_field_regression(SST_yrly_rcp , run='rcp' )\n",
    "SST_trend_lpd , SST_trend_interc_lpd  = ocn_field_regression(SST_yrly_lpd , run='lpd' )\n",
    "SST_trend_lpi , SST_trend_interc_lpi  = ocn_field_regression(SST_yrly_lpi , run='lpi' )"
   ]
  },
  {
   "cell_type": "code",
   "execution_count": null,
   "metadata": {},
   "outputs": [],
   "source": [
    "SST_yrly_lpd[:,100,100].plot()\n",
    "(SST_trend_lpd[100,100]*SST_yrly_lpd.time + SST_trend_interc_lpd[100,100]).plot()"
   ]
  },
  {
   "cell_type": "code",
   "execution_count": null,
   "metadata": {},
   "outputs": [],
   "source": [
    "cmap  = discrete_cmap(12, shifted_color_map(cmocean.cm.balance, start=.25, midpoint=0.5, stop=1., name='shrunk'))\n",
    "\n",
    "xa    = SST_trend_ctrl*100\n",
    "fn    = f'{path_results}/SST/SST_trend_ctrl'\n",
    "label = '100-299 SST trend [K/century]'\n",
    "f, ax = map_robinson(xa=xa, domain='ocn_T', cmap=cmap, minv=-2, maxv=4, label=label, filename=fn)\n",
    "\n",
    "xa    = SST_trend_rcp*100\n",
    "fn    = f'{path_results}/SST/SST_trend_rcp'\n",
    "label = '2000-2099 SST trend [K/century]'\n",
    "f, ax = map_robinson(xa=xa, domain='ocn_T', cmap=cmap, minv=-2, maxv=4, label=label, filename=fn)"
   ]
  },
  {
   "cell_type": "markdown",
   "metadata": {},
   "source": [
    "### GMST"
   ]
  },
  {
   "cell_type": "code",
   "execution_count": null,
   "metadata": {},
   "outputs": [],
   "source": [
    "ds = xr.open_dataarray(f'{path_samoc}/SST/SST_GMST_dt_yrly_ctrl.nc')"
   ]
  },
  {
   "cell_type": "code",
   "execution_count": null,
   "metadata": {},
   "outputs": [],
   "source": [
    "ds[:,2000,1000].plot()"
   ]
  },
  {
   "cell_type": "code",
   "execution_count": null,
   "metadata": {},
   "outputs": [],
   "source": [
    "SST_new[:,2000,1000].plot()"
   ]
  },
  {
   "cell_type": "code",
   "execution_count": null,
   "metadata": {},
   "outputs": [],
   "source": [
    "# %%time\n",
    "# # GMST: 5 sec for lpd/lpi, 1:37 rcp, <1 sec for had, 5 min for all\n",
    "# for run in ['lpd', 'lpi', 'had', 'ctrl', 'rcp']:\n",
    "#     SST_new, beta = SST_remove_forced_signal(run=run)\n",
    "# for dts in ['AMO', 'SOM', 'TPI1', 'TPI2', 'TPI3']:\n",
    "#     SST_new, beta = SST_remove_forced_signal(run='had', tres='yrly', detrend_signal=dts)"
   ]
  },
  {
   "cell_type": "code",
   "execution_count": null,
   "metadata": {},
   "outputs": [],
   "source": [
    "beta_ctrl = xr.open_dataset(f'{path_samoc}/SST/SST_beta_GMST_yrly_ctrl.nc', decode_times=False)\n",
    "beta_rcp  = xr.open_dataset(f'{path_samoc}/SST/SST_beta_GMST_yrly_rcp.nc' , decode_times=False)\n",
    "beta_lpi  = xr.open_dataset(f'{path_samoc}/SST/SST_beta_GMST_yrly_lpi.nc' , decode_times=False)\n",
    "beta_lpd  = xr.open_dataset(f'{path_samoc}/SST/SST_beta_GMST_yrly_lpd.nc' , decode_times=False)\n",
    "beta_had  = xr.open_dataset(f'{path_samoc}/SST/SST_beta_GMST_yrly_had.nc' , decode_times=False)"
   ]
  },
  {
   "cell_type": "code",
   "execution_count": null,
   "metadata": {},
   "outputs": [],
   "source": [
    "SST_yrly_ctrl = xr.open_dataarray(f'{path_samoc}/SST/SST_GMST_dt_yrly_ctrl.nc', decode_times=False)\n",
    "SST_yrly_rcp  = xr.open_dataarray(f'{path_samoc}/SST/SST_GMST_dt_yrly_rcp.nc' , decode_times=False)\n",
    "SST_yrly_lpd  = xr.open_dataarray(f'{path_samoc}/SST/SST_yrly_lpd.nc' , decode_times=False)\n",
    "SST_yrly_lpi  = xr.open_dataarray(f'{path_samoc}/SST/SST_yrly_lpi.nc' , decode_times=False)\n",
    "SST_yrly_had  = xr.open_dataarray(f'{path_samoc}/SST/SST_yrly_had.nc' , decode_times=False)"
   ]
  },
  {
   "cell_type": "code",
   "execution_count": null,
   "metadata": {},
   "outputs": [],
   "source": [
    "SST_dt_yrly_ctrl = xr.open_dataarray(f'{path_samoc}/SST/SST_GMST_dt_yrly_ctrl.nc', decode_times=False)\n",
    "SST_dt_yrly_rcp  = xr.open_dataarray(f'{path_samoc}/SST/SST_GMST_dt_yrly_rcp.nc' , decode_times=False)\n",
    "SST_dt_yrly_lpd  = xr.open_dataarray(f'{path_samoc}/SST/SST_GMST_dt_yrly_lpd.nc' , decode_times=False)\n",
    "SST_dt_yrly_lpi  = xr.open_dataarray(f'{path_samoc}/SST/SST_GMST_dt_yrly_lpi.nc' , decode_times=False)\n",
    "SST_dt_yrly_had  = xr.open_dataarray(f'{path_samoc}/SST/SST_GMST_dt_yrly_had.nc' , decode_times=False)"
   ]
  },
  {
   "cell_type": "code",
   "execution_count": null,
   "metadata": {},
   "outputs": [],
   "source": [
    "betas = [beta_ctrl, beta_rcp, beta_lpi, beta_lpd, beta_had]\n",
    "for i in range(5):\n",
    "    f, ax = plt.subplots(1, 2, figsize=(8,3))\n",
    "    betas[i].slope.plot(vmax=2, ax=ax[0])\n",
    "    betas[i].forcing.plot(ax=ax[1])\n",
    "    plt.tight_layout()"
   ]
  },
  {
   "cell_type": "code",
   "execution_count": null,
   "metadata": {},
   "outputs": [],
   "source": [
    "beta_ctrl"
   ]
  },
  {
   "cell_type": "code",
   "execution_count": null,
   "metadata": {},
   "outputs": [],
   "source": [
    "beta_ctrl.slope"
   ]
  },
  {
   "cell_type": "code",
   "execution_count": null,
   "metadata": {},
   "outputs": [],
   "source": [
    "SST_dt_yrly_ctrl"
   ]
  },
  {
   "cell_type": "code",
   "execution_count": null,
   "metadata": {},
   "outputs": [],
   "source": [
    "lat, lon = 20, 100\n",
    "print(beta.slope[lat,lon].values)\n",
    "beta.forcing.plot()\n",
    "(SST_new[:,lat,lon]-SST_new[:,lat,lon].mean()).plot()\n",
    "SST_new[:,lat,lon].plot(ls='--')\n",
    "(beta.slope[lat,lon]*beta.forcing).plot(lw=5)\n"
   ]
  },
  {
   "cell_type": "code",
   "execution_count": null,
   "metadata": {},
   "outputs": [],
   "source": [
    "xr_lintrend(SST_dt_yrly_lpd[:,lat,lon]).plot(ls='-')"
   ]
  },
  {
   "cell_type": "code",
   "execution_count": null,
   "metadata": {},
   "outputs": [],
   "source": [
    "plt.scatter(beta_rcp.GMST, SST_ts)"
   ]
  },
  {
   "cell_type": "code",
   "execution_count": null,
   "metadata": {},
   "outputs": [],
   "source": [
    "betas = [beta_ctrl, beta_rcp, beta_lpi, beta_lpd, beta_had]\n",
    "domains = ['ocn', 'ocn', 'ocn_low', 'ocn_low', 'ocn_had']\n",
    "for i in range(5):\n",
    "    (depth, lat, lon) = dll_dims_names(domain=domains[i])\n",
    "    print(depth, lat, lon)\n",
    "    \n",
    "    f, ax = plt.subplots(1, 2, figsize=(8,3))\n",
    "#     betas[i].slope.plot(vmax=2, ax=ax[0])\n",
    "    if i<4: betas[i].GMST.plot(ax=ax[0])\n",
    "    if i==4: betas[i].tas.plot(ax=ax[0])\n",
    "    plt.tight_layout()"
   ]
  },
  {
   "cell_type": "code",
   "execution_count": null,
   "metadata": {},
   "outputs": [],
   "source": []
  },
  {
   "cell_type": "code",
   "execution_count": null,
   "metadata": {},
   "outputs": [],
   "source": []
  },
  {
   "cell_type": "code",
   "execution_count": null,
   "metadata": {},
   "outputs": [],
   "source": []
  },
  {
   "cell_type": "code",
   "execution_count": null,
   "metadata": {},
   "outputs": [],
   "source": []
  },
  {
   "cell_type": "code",
   "execution_count": null,
   "metadata": {},
   "outputs": [],
   "source": []
  },
  {
   "cell_type": "code",
   "execution_count": null,
   "metadata": {},
   "outputs": [],
   "source": []
  },
  {
   "cell_type": "code",
   "execution_count": null,
   "metadata": {},
   "outputs": [],
   "source": []
  },
  {
   "cell_type": "markdown",
   "metadata": {},
   "source": [
    "### hiatus trend"
   ]
  },
  {
   "cell_type": "code",
   "execution_count": null,
   "metadata": {},
   "outputs": [],
   "source": [
    "SST_trend_rcp_hiatus  = ocn_field_regression(SST_yrly_rcp[20:29,:,:])"
   ]
  },
  {
   "cell_type": "code",
   "execution_count": null,
   "metadata": {},
   "outputs": [],
   "source": [
    "fn = f'{path_results}/SST/SST_trend_rcp_hiatus'\n",
    "cmap = shifted_color_map(cmocean.cm.balance, start=.25, midpoint=0.5, stop=1., name='shrunk')\n",
    "label = 'SST trend [K/century]'\n",
    "xa = SST_trend_rcp_hiatus*100\n",
    "f, ax = map_robinson(xa=xa, domain='ocn_T', cmap=cmap, minv=-4, maxv=8, label=label, filename=fn)"
   ]
  },
  {
   "cell_type": "code",
   "execution_count": null,
   "metadata": {},
   "outputs": [],
   "source": []
  },
  {
   "cell_type": "markdown",
   "metadata": {},
   "source": [
    "# Ocean basins and SST index regions"
   ]
  },
  {
   "cell_type": "code",
   "execution_count": null,
   "metadata": {},
   "outputs": [],
   "source": [
    "for file in [file_ex_ocn_ctrl, file_ex_ocn_lpd]:\n",
    "    REGION_MASK = xr.open_dataset(file, decode_times=False).REGION_MASK\n",
    "    fig = plt.figure(figsize=(8,5))\n",
    "    cmap = discrete_cmap(12, 'hsv')\n",
    "    ax  = fig.add_subplot(1, 1, 1, projection=ccrs.EqualEarth(central_longitude=200))\n",
    "    ax.set_position([.02,.05,.96,.93])\n",
    "    cax, kw = mpl.colorbar.make_axes(ax, location='bottom', pad=0.03, shrink=0.8)\n",
    "\n",
    "    im = ax.pcolormesh(REGION_MASK.TLONG,\n",
    "                       REGION_MASK.TLAT,\n",
    "                       REGION_MASK.where(REGION_MASK>0),\n",
    "                       cmap=cmap,\n",
    "                       vmin=.5, vmax=12.5,\n",
    "                       transform=ccrs.PlateCarree() )\n",
    "\n",
    "    gl = ax.gridlines(crs=ccrs.PlateCarree(), draw_labels=False)\n",
    "    gl.ylocator = mpl.ticker.FixedLocator([-90, -60, -30, 0, 30, 60, 90])\n",
    "    gl.xlocator = mpl.ticker.FixedLocator([-180, -120, -60, 0, 60, 120, 180])\n",
    "    \n",
    "    for mask in ['TPI1', 'TPI2', 'TPI3', 'SOM', 'AMO']:\n",
    "        ax.add_patch(mpatches.Polygon(xy=rect_polygon(SST_index_bounds(mask)),\n",
    "                                      facecolor='none',\n",
    "                                      edgecolor='k',\n",
    "                                      linewidth=2,\n",
    "                                      zorder=2,\n",
    "                                      transform=ccrs.PlateCarree()))\n",
    "\n",
    "    ax.add_feature(cartopy.feature.LAND, zorder=3, edgecolor='black', facecolor='w')\n",
    "\n",
    "    cbar = fig.colorbar(im, cax=cax, extend='min', **kw)\n",
    "    cbar.set_ticks(np.arange(1,13))\n",
    "    cbar.ax.tick_params(labelsize=14)\n",
    "    label = cbar.set_label('region number', size=16)"
   ]
  },
  {
   "cell_type": "markdown",
   "metadata": {},
   "source": [
    "## Global mean vs. 60S-60N time series"
   ]
  },
  {
   "cell_type": "code",
   "execution_count": null,
   "metadata": {},
   "outputs": [],
   "source": [
    "# SST_gm_ctrl      = xr.open_dataarray(f'{path_results}/SST_global_mean_monthly_ctrl.nc'     , decode_times=False)\n",
    "# SST_gm_rcp       = xr.open_dataarray(f'{path_results}/SST_global_mean_monthly_rcp.nc'      , decode_times=False)\n",
    "SST_gm_ctrl = xr.open_dataarray(f'{path_results}/SST_global_mean_monthly_rect_ctrl.nc' , decode_times=False)\n",
    "SST_gm_rcp  = xr.open_dataarray(f'{path_results}/SST_global_mean_monthly_rect_rcp.nc'  , decode_times=False)\n",
    "SST_gm_lpd  = xr.open_dataarray(f'{path_results}/SST_global_mean_monthly_lpd.nc'       , decode_times=False)\n",
    "SST_gm_lpi  = xr.open_dataarray(f'{path_results}/SST_global_mean_monthly_lpi.nc'       , decode_times=False)\n",
    "\n",
    "SST_xm_ctrl = xr.open_dataarray(f'{path_results}/SST_60S_60N_mean_monthly_rect_ctrl.nc', decode_times=False)\n",
    "SST_xm_rcp  = xr.open_dataarray(f'{path_results}/SST_60S_60N_mean_monthly_rect_rcp.nc' , decode_times=False)\n",
    "SST_xm_lpd  = xr.open_dataarray(f'{path_results}/SST_60S_60N_mean_monthly_lpd.nc'      , decode_times=False)\n",
    "SST_xm_lpi  = xr.open_dataarray(f'{path_results}/SST_60S_60N_mean_monthly_lpi.nc'      , decode_times=False)\n",
    "SST_xm_had  = xr.open_dataarray(f'{path_results}/SST_60S_60N_mean_monthly_had.nc'      , decode_times=False)"
   ]
  },
  {
   "cell_type": "code",
   "execution_count": null,
   "metadata": {},
   "outputs": [],
   "source": [
    "# deseasonalize\n",
    "SST_gm_ds_ctrl = deseasonalize(SST_gm_ctrl)\n",
    "SST_gm_ds_rcp  = deseasonalize(SST_gm_rcp )\n",
    "SST_gm_ds_lpd  = deseasonalize(SST_gm_lpd )\n",
    "SST_gm_ds_lpi  = deseasonalize(SST_gm_lpi )\n",
    "SST_xm_ds_ctrl = deseasonalize(SST_xm_ctrl)\n",
    "SST_xm_ds_rcp  = deseasonalize(SST_xm_rcp )\n",
    "SST_xm_ds_lpd  = deseasonalize(SST_xm_lpd )\n",
    "SST_xm_ds_lpi  = deseasonalize(SST_xm_lpi )\n",
    "SST_xm_ds_had  = deseasonalize(SST_xm_had )"
   ]
  },
  {
   "cell_type": "code",
   "execution_count": null,
   "metadata": {},
   "outputs": [],
   "source": [
    "plt.figure(figsize=(8,5))\n",
    "plt.tick_params(labelsize=14)\n",
    "plt.plot([-1.5,2], [-1  ,2.5], c='k', lw=.5)\n",
    "plt.plot([-1.5,2], [-1.5,2  ], c='k', lw=.5)\n",
    "plt.plot([-1.5,2], [-0.5,3  ], c='k', lw=.5)\n",
    "plt.plot([-1.5,2], [-2  ,1.5], c='k', lw=.5)\n",
    "plt.xlim((-1,1.5))\n",
    "plt.ylim((-1,1.5))\n",
    "plt.scatter(SST_xm_ds_ctrl-SST_xm_ds_ctrl.mean(dim='time'), SST_gm_ds_ctrl-SST_gm_ds_ctrl.mean(dim='time')+.5, alpha=.1)\n",
    "plt.scatter(SST_xm_ds_rcp -SST_xm_ds_rcp .mean(dim='time'), SST_gm_ds_rcp -SST_gm_ds_rcp .mean(dim='time')   , alpha=.1)\n",
    "plt.scatter(SST_xm_ds_lpd -SST_xm_ds_lpd .mean(dim='time'), SST_gm_ds_lpd -SST_gm_ds_lpd .mean(dim='time')+1 , alpha=.1)\n",
    "plt.scatter(SST_xm_ds_lpi -SST_xm_ds_lpi .mean(dim='time'), SST_gm_ds_lpi -SST_gm_ds_lpi .mean(dim='time')-.5, alpha=.1)\n",
    "plt.scatter(SST_xm_ds_had -SST_xm_ds_had .mean(dim='time'), [-.9]*len(SST_xm_ds_had), alpha=.1)\n",
    "plt.ylabel('global mean SST' , fontsize=14)\n",
    "plt.xlabel('60S-60N mean SST', fontsize=14)\n",
    "plt.tight_layout()"
   ]
  },
  {
   "cell_type": "code",
   "execution_count": null,
   "metadata": {},
   "outputs": [],
   "source": [
    "plt.figure(figsize=(8,5))\n",
    "plt.tick_params(labelsize=14)\n",
    "plt.plot([-1.5,2], [-1  ,2.5], c='k', lw=.5)\n",
    "plt.plot([-1.5,2], [-1.5,2  ], c='k', lw=.5)\n",
    "plt.plot([-1.5,2], [-0.5,3  ], c='k', lw=.5)\n",
    "plt.plot([-1.5,2], [-2  ,1.5], c='k', lw=.5)\n",
    "plt.xlim((-.3,.3))\n",
    "plt.ylim((-1.3,1.4))\n",
    "plt.scatter(SST_xm_ds_ctrl-xr_quadtrend(SST_xm_ds_ctrl), SST_gm_ds_ctrl-xr_quadtrend(SST_gm_ds_ctrl)+.5, alpha=.1)\n",
    "plt.scatter(SST_xm_ds_rcp -xr_quadtrend(SST_xm_ds_rcp ), SST_gm_ds_rcp -xr_quadtrend(SST_gm_ds_rcp )   , alpha=.1)\n",
    "plt.scatter(SST_xm_ds_lpd -xr_quadtrend(SST_xm_ds_lpd ), SST_gm_ds_lpd -xr_quadtrend(SST_gm_ds_lpd )+1 , alpha=.1)\n",
    "plt.scatter(SST_xm_ds_lpi -xr_quadtrend(SST_xm_ds_lpi ), SST_gm_ds_lpi -xr_quadtrend(SST_gm_ds_lpi )-.5, alpha=.1)\n",
    "plt.scatter(SST_xm_ds_had -xr_quadtrend(SST_xm_ds_had ), [-1]*len(SST_xm_ds_had), alpha=.1)\n",
    "\n",
    "plt.scatter(SST_xm_ds_lpd[-200*12:] -xr_quadtrend(SST_xm_ds_lpd[-200*12:] ),\n",
    "            SST_gm_ds_lpd[-200*12:] -xr_quadtrend(SST_gm_ds_lpd[-200*12:] )+1.1 , alpha=.1)\n",
    "plt.scatter(SST_xm_ds_lpi[-200*12:] -xr_quadtrend(SST_xm_ds_lpi[-200*12:] ),\n",
    "            SST_gm_ds_lpi[-200*12:] -xr_quadtrend(SST_gm_ds_lpi[-200*12:] )-.6, alpha=.1)\n",
    "plt.scatter(SST_xm_ds_had[-100*12:] -xr_quadtrend(SST_xm_ds_had[-100*12:] ),\n",
    "            [-1.1]*(100*12), alpha=.1)\n",
    "plt.ylabel('global mean SST' , fontsize=14)\n",
    "plt.xlabel('60S-60N mean SST', fontsize=14)\n",
    "plt.tight_layout()"
   ]
  },
  {
   "cell_type": "code",
   "execution_count": null,
   "metadata": {},
   "outputs": [],
   "source": [
    "# lowpass deseasonalizing\n",
    "f, ax = plt.subplots(1, 2, figsize=(12,5))\n",
    "for i in range(2):\n",
    "    ax[i].tick_params(labelsize=14)\n",
    "\n",
    "ax[0].plot(SST_xm_ctrl.time[:120]/12   , SST_xm_ctrl   [:120])\n",
    "ax[0].plot(SST_xm_ctrl.time[:120]/12   , SST_xm_ds_ctrl[:120])\n",
    "ax[0].plot(SST_xm_rcp .time[:120]/12+11, SST_xm_rcp    [:120])\n",
    "ax[0].plot(SST_xm_rcp .time[:120]/12+11, SST_xm_ds_rcp [:120])\n",
    "ax[0].plot(SST_xm_rcp .time[:120]/12+11, SST_xm_ds_rcp [:120])\n",
    "\n",
    "ax[1].plot(SST_xm_ctrl.time/12    , SST_xm_ctrl   )\n",
    "ax[1].plot(SST_xm_ctrl.time/12    , SST_xm_ds_ctrl)\n",
    "ax[1].plot(SST_xm_rcp .time/12+220, SST_xm_rcp    )\n",
    "ax[1].plot(SST_xm_rcp .time/12+220, SST_xm_ds_rcp )\n",
    "ax[1].plot(SST_xm_had .time/365   , SST_xm_had    )\n",
    "ax[1].plot(SST_xm_had .time/365   , SST_xm_ds_had )\n",
    "plt.tight_layout()\n",
    "plt.savefig(f'{path_results}/SST/SST_deseasonalizing_global_mean')"
   ]
  },
  {
   "cell_type": "code",
   "execution_count": null,
   "metadata": {},
   "outputs": [],
   "source": [
    "plt.figure(figsize=(12,5))\n",
    "plt.tick_params(labelsize=14)\n",
    "\n",
    "plt.plot(SST_gm_ctrl.time/12 +1950, SST_gm_ctrl   , c='C0', lw=.3, alpha=.5)\n",
    "plt.plot(SST_gm_rcp .time/12 +2200, SST_gm_rcp    , c='C1', lw=.3, alpha=.5)\n",
    "plt.plot(SST_gm_lpd .time/365+1350, SST_gm_lpd    , c='C2', lw=.3, alpha=.5)\n",
    "plt.plot(SST_gm_lpi .time/365-1600, SST_gm_lpi    , c='C3', lw=.3, alpha=.5)\n",
    "plt.plot(SST_gm_ctrl.time/12 +1950, SST_gm_ds_ctrl, c='C0')\n",
    "plt.plot(SST_gm_rcp .time/12 +2200, SST_gm_ds_rcp , c='C1')\n",
    "plt.plot(SST_gm_lpd .time/365+1350, SST_gm_ds_lpd , c='C2')\n",
    "plt.plot(SST_gm_lpi .time/365-1600, SST_gm_ds_lpi , c='C3')\n",
    "\n",
    "plt.plot(SST_xm_ctrl.time/12 +1950, SST_xm_ctrl   , c='C0', lw=.3, alpha=.5)\n",
    "plt.plot(SST_xm_rcp .time/12 +2200, SST_xm_rcp    , c='C1', lw=.3, alpha=.5)\n",
    "plt.plot(SST_xm_lpd .time/365+1350, SST_xm_lpd    , c='C2', lw=.3, alpha=.5)\n",
    "plt.plot(SST_xm_lpi .time/365-1600, SST_xm_lpi    , c='C3', lw=.3, alpha=.5)\n",
    "plt.plot(SST_xm_had .time/365+2350, SST_xm_had    , c='C4', lw=.3, alpha=.5)\n",
    "plt.plot(SST_xm_ctrl.time/12 +1950, SST_xm_ds_ctrl, c='C0')\n",
    "plt.plot(SST_xm_rcp .time/12 +2200, SST_xm_ds_rcp , c='C1')\n",
    "plt.plot(SST_xm_lpd .time/365+1350, SST_xm_ds_lpd , c='C2')\n",
    "plt.plot(SST_xm_lpi .time/365-1600, SST_xm_ds_lpi , c='C3')\n",
    "plt.plot(SST_xm_had .time/365+2350, SST_xm_ds_had , c='C4')\n",
    "\n",
    "plt.ylabel('global / 60S-60N mean SST [$^\\circ$C]', fontsize=16)\n",
    "plt.xlabel('time [years]', fontsize=16)\n",
    "\n",
    "plt.tight_layout()"
   ]
  },
  {
   "cell_type": "code",
   "execution_count": null,
   "metadata": {},
   "outputs": [],
   "source": []
  }
 ],
 "metadata": {
  "kernelspec": {
   "display_name": "Python 3",
   "language": "python",
   "name": "python3"
  },
  "language_info": {
   "codemirror_mode": {
    "name": "ipython",
    "version": 3
   },
   "file_extension": ".py",
   "mimetype": "text/x-python",
   "name": "python",
   "nbconvert_exporter": "python",
   "pygments_lexer": "ipython3",
   "version": "3.6.6"
  }
 },
 "nbformat": 4,
 "nbformat_minor": 2
}
