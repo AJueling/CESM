{
 "cells": [
  {
   "cell_type": "markdown",
   "metadata": {},
   "source": [
    "# Sea Surface Temperature"
   ]
  },
  {
   "cell_type": "code",
   "execution_count": null,
   "metadata": {},
   "outputs": [],
   "source": [
    "# import pickle\n",
    "import sys\n",
    "sys.path.append(\"..\")\n",
    "import scipy as sp\n",
    "import numpy as np\n",
    "import xarray as xr\n",
    "import seaborn as sns\n",
    "import cartopy\n",
    "import cartopy.crs as ccrs\n",
    "import matplotlib as mpl\n",
    "import matplotlib.pyplot as plt\n",
    "import matplotlib.patches as mpatches"
   ]
  },
  {
   "cell_type": "code",
   "execution_count": null,
   "metadata": {},
   "outputs": [],
   "source": [
    "%matplotlib inline\n",
    "%config InlineBackend.print_figure_kwargs={'bbox_inches':None}\n",
    "%load_ext autoreload\n",
    "%autoreload 2\n",
    "%aimport - numpy - scipy - matplotlib.pyplot"
   ]
  },
  {
   "cell_type": "code",
   "execution_count": null,
   "metadata": {},
   "outputs": [],
   "source": [
    "from maps import map_robinson\n",
    "from paths import path_results\n",
    "from plotting import shifted_color_map\n",
    "from timeseries import IterateOutputCESM\n",
    "from xr_regression import xr_linear_trends_2D"
   ]
  },
  {
   "cell_type": "code",
   "execution_count": null,
   "metadata": {},
   "outputs": [],
   "source": [
    "# stacking files into one xr Dataset object\n",
    "for run in ['ctrl', 'rcp']:\n",
    "    for i, (y,m,s) in enumerate(IterateOutputCESM('ocn_rect', run, 'yrly', name='TEMP_PD')):\n",
    "        da = xr.open_dataset(s, decode_times=False).TEMP[0,:,:]\n",
    "        if i==0:\n",
    "            da_new = da.copy()\n",
    "        else:\n",
    "            da_new = xr.concat([da_new, da], dim='time')\n",
    "    da_new.to_netcdf(f'{path_results}/SST/SST_yrly_{run}.nc')"
   ]
  },
  {
   "cell_type": "code",
   "execution_count": null,
   "metadata": {},
   "outputs": [],
   "source": [
    "SST_yrly_ctrl = xr.open_dataarray(f'{path_results}/SST/SST_yrly_ctrl.nc')\n",
    "SST_yrly_rcp  = xr.open_dataarray(f'{path_results}/SST/SST_yrly_rcp.nc' )"
   ]
  },
  {
   "cell_type": "code",
   "execution_count": null,
   "metadata": {},
   "outputs": [],
   "source": [
    "SST_yrly_ctrl"
   ]
  },
  {
   "cell_type": "code",
   "execution_count": null,
   "metadata": {},
   "outputs": [],
   "source": [
    "SST_trend_ctrl = xr_linear_trends_2D(SST_yrly_ctrl, dim_names=('lat', 'lon'))\n",
    "SST_trend_rcp  = xr_linear_trends_2D(SST_yrly_rcp , dim_names=('lat', 'lon'))"
   ]
  },
  {
   "cell_type": "code",
   "execution_count": null,
   "metadata": {},
   "outputs": [],
   "source": [
    "SST_ctrl_mean = SST_yrly_ctrl.mean(dim='time')\n",
    "fn = f'{path_results}/SST/SST_ctrl_mean'\n",
    "\n",
    "f = map_robinson(xr_DataArray=SST_ctrl_mean, cmap='rainbow', minv=-2, maxv=30, label='SST [$^\\circ$C]', filename=fn)"
   ]
  },
  {
   "cell_type": "code",
   "execution_count": null,
   "metadata": {},
   "outputs": [],
   "source": [
    "SST_rcp_ctrl = (SST_yrly_rcp[-10:,:,:].mean(dim='time') - SST_yrly_ctrl.mean(dim='time'))\n",
    "fn = f'{path_results}/SST/SST_last_rcp_decade_minus_ctrl_avg'\n",
    "cmap = shifted_color_map(mpl.cm.RdBu_r, start=.25, midpoint=0.5, stop=1., name='shrunk')\n",
    "\n",
    "f = map_robinson(xr_DataArray=SST_rcp_ctrl, cmap=cmap,minv=-2,maxv=4, label='$\\Delta$SST [K]', filename=fn)"
   ]
  },
  {
   "cell_type": "code",
   "execution_count": null,
   "metadata": {},
   "outputs": [],
   "source": []
  }
 ],
 "metadata": {
  "kernelspec": {
   "display_name": "Python 3",
   "language": "python",
   "name": "python3"
  },
  "language_info": {
   "codemirror_mode": {
    "name": "ipython",
    "version": 3
   },
   "file_extension": ".py",
   "mimetype": "text/x-python",
   "name": "python",
   "nbconvert_exporter": "python",
   "pygments_lexer": "ipython3",
   "version": "3.6.6"
  }
 },
 "nbformat": 4,
 "nbformat_minor": 2
}
