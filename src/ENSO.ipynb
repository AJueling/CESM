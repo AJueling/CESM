{
 "cells": [
  {
   "cell_type": "markdown",
   "metadata": {},
   "source": [
    "# Sea Surface Temperature"
   ]
  },
  {
   "cell_type": "code",
   "execution_count": null,
   "metadata": {},
   "outputs": [],
   "source": [
    "# import pickle\n",
    "import sys\n",
    "sys.path.append(\"..\")\n",
    "import scipy as sp\n",
    "import numpy as np\n",
    "import xarray as xr\n",
    "import seaborn as sns\n",
    "import cmocean\n",
    "import cartopy\n",
    "import cartopy.crs as ccrs\n",
    "import matplotlib as mpl\n",
    "import matplotlib.pyplot as plt\n",
    "import matplotlib.patches as mpatches"
   ]
  },
  {
   "cell_type": "code",
   "execution_count": null,
   "metadata": {},
   "outputs": [],
   "source": [
    "%matplotlib inline\n",
    "%config InlineBackend.print_figure_kwargs={'bbox_inches':None}\n",
    "%load_ext autoreload\n",
    "%autoreload 2\n",
    "%aimport - numpy - scipy - matplotlib.pyplot"
   ]
  },
  {
   "cell_type": "code",
   "execution_count": null,
   "metadata": {},
   "outputs": [],
   "source": [
    "from maps import map_robinson\n",
    "from grid import find_array_idx\n",
    "from paths import path_results, path_samoc, file_ex_ocn_ctrl\n",
    "from regions import Nino12, Nino34\n",
    "from plotting import shifted_color_map\n",
    "from timeseries import IterateOutputCESM\n",
    "from xr_DataArrays import xr_AREA\n",
    "from xr_regression import xr_linear_trends_2D, xr_linear_trend, ocn_field_regression"
   ]
  },
  {
   "cell_type": "markdown",
   "metadata": {},
   "source": [
    "# global SST map and trends"
   ]
  },
  {
   "cell_type": "code",
   "execution_count": null,
   "metadata": {},
   "outputs": [],
   "source": [
    "MASK = xr.open_dataset(file_ex_ocn_ctrl, decode_times=False).REGION_MASK\n",
    "TAREA = xr_AREA('ocn')"
   ]
  },
  {
   "cell_type": "code",
   "execution_count": null,
   "metadata": {},
   "outputs": [],
   "source": [
    "# files produced in SST.ipynb\n",
    "SST_yrly_ctrl = xr.open_dataarray(f'{path_samoc}/SST/SST_yrly_ctrl.nc')\n",
    "SST_yrly_rcp  = xr.open_dataarray(f'{path_samoc}/SST/SST_yrly_rcp.nc' )"
   ]
  },
  {
   "cell_type": "code",
   "execution_count": null,
   "metadata": {},
   "outputs": [],
   "source": [
    "# Niño 3.4 (5N-5S, 170W-120W)\n",
    "print(find_array_idx(SST_yrly_ctrl.TLAT[:,0], -5).item())\n",
    "print(find_array_idx(SST_yrly_ctrl.TLAT[:,0], +5).item())\n",
    "print(find_array_idx(SST_yrly_ctrl.TLONG[500,:], 360-170).item())\n",
    "print(find_array_idx(SST_yrly_ctrl.TLONG[500,:], 360-120).item())\n",
    "\n",
    "# Niño 1+2 (0-10S, 90W-80W)\n",
    "print(find_array_idx(SST_yrly_ctrl.TLAT[:,0], -10).item())\n",
    "print(find_array_idx(SST_yrly_ctrl.TLAT[:,0], 0  ).item())\n",
    "print(find_array_idx(SST_yrly_ctrl.TLONG[500,:], 360-90).item())\n",
    "print(find_array_idx(SST_yrly_ctrl.TLONG[500,:], 360-80).item())"
   ]
  },
  {
   "cell_type": "code",
   "execution_count": null,
   "metadata": {},
   "outputs": [],
   "source": [
    "N12_ctrl = ((SST_yrly_ctrl*TAREA).sel(Nino12).sum(dim=('nlat','nlon'))/TAREA.sel(Nino12).sum(dim=('nlat','nlon')))\n",
    "N34_ctrl = ((SST_yrly_ctrl*TAREA).sel(Nino34).sum(dim=('nlat','nlon'))/TAREA.sel(Nino34).sum(dim=('nlat','nlon')))\n",
    "N12_rcp  = ((SST_yrly_rcp *TAREA).sel(Nino12).sum(dim=('nlat','nlon'))/TAREA.sel(Nino12).sum(dim=('nlat','nlon')))\n",
    "N34_rcp  = ((SST_yrly_rcp *TAREA).sel(Nino34).sum(dim=('nlat','nlon'))/TAREA.sel(Nino34).sum(dim=('nlat','nlon')))"
   ]
  },
  {
   "cell_type": "code",
   "execution_count": null,
   "metadata": {},
   "outputs": [],
   "source": [
    "f = plt.figure(figsize=(8,5))\n",
    "ax = f.add_axes([0.13,0.13,.85,.85])\n",
    "plt.tick_params(labelsize=14)\n",
    "\n",
    "plt.plot(N12_ctrl.values, c='C0', lw=2, ls='-' , label='CTRL $Ni\\~no$ 1+2')\n",
    "plt.plot(N34_ctrl.values, c='C0', lw=2, ls='--', label='CTRL $Ni\\~no$ 3.4')\n",
    "plt.plot(N12_rcp.values , c='C1', lw=2, ls='-' , label='RCP $Ni\\~no$ 1+2')\n",
    "plt.plot(N34_rcp.values , c='C1', lw=2, ls='--', label='RCP $Ni\\~no$ 3.4')\n",
    "\n",
    "plt.xlabel('time [years]', fontsize=16)\n",
    "plt.ylabel('raw ENSO indices [$^\\circ$C]', fontsize=16)\n",
    "plt.legend(fontsize=16, ncol=2)\n",
    "plt.savefig(f'{path_results}/SST/ENSO_indices')"
   ]
  },
  {
   "cell_type": "code",
   "execution_count": null,
   "metadata": {},
   "outputs": [],
   "source": []
  }
 ],
 "metadata": {
  "kernelspec": {
   "display_name": "Python 3",
   "language": "python",
   "name": "python3"
  },
  "language_info": {
   "codemirror_mode": {
    "name": "ipython",
    "version": 3
   },
   "file_extension": ".py",
   "mimetype": "text/x-python",
   "name": "python",
   "nbconvert_exporter": "python",
   "pygments_lexer": "ipython3",
   "version": "3.6.6"
  }
 },
 "nbformat": 4,
 "nbformat_minor": 2
}
