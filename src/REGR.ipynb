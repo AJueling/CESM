{
 "cells": [
  {
   "cell_type": "code",
   "execution_count": null,
   "metadata": {},
   "outputs": [],
   "source": [
    "import sys\n",
    "sys.path.append(\"..\")\n",
    "import numpy as np\n",
    "import xarray as xr\n",
    "import matplotlib.pyplot as plt"
   ]
  },
  {
   "cell_type": "code",
   "execution_count": null,
   "metadata": {},
   "outputs": [],
   "source": [
    "%matplotlib inline\n",
    "%config InlineBackend.print_figure_kwargs={'bbox_inches':None}\n",
    "%load_ext autoreload\n",
    "%autoreload 2\n",
    "%aimport - numpy - matplotlib.pyplot"
   ]
  },
  {
   "cell_type": "code",
   "execution_count": null,
   "metadata": {},
   "outputs": [],
   "source": [
    "from GMST import Hiatuses\n",
    "from paths import path_results, path_samoc\n",
    "from constants import spy"
   ]
  },
  {
   "cell_type": "code",
   "execution_count": null,
   "metadata": {},
   "outputs": [],
   "source": [
    "def lin_detr_ts(da):\n",
    "    fit_par = np.polyfit(da.time, da.values, 1)\n",
    "    detr = da - fit_par[0]*da.time - fit_par[1]\n",
    "    return detr"
   ]
  },
  {
   "cell_type": "markdown",
   "metadata": {},
   "source": [
    "# Data"
   ]
  },
  {
   "cell_type": "code",
   "execution_count": null,
   "metadata": {},
   "outputs": [],
   "source": [
    "gmst_trend_anom_ctrl = xr.open_dataset(f'{path_results}/GMST/GMST_trend_anom_ctrl.nc', decode_times=False)\n",
    "gmst_trend_anom_rcp  = xr.open_dataset(f'{path_results}/GMST/GMST_trend_anom_rcp.nc' , decode_times=False)\n",
    "\n",
    "toa_ctrl  = xr.open_dataarray(f'{path_results}/TOA/TOM_ctrl.nc')\n",
    "toa_rcp   = xr.open_dataarray(f'{path_results}/TOA/TOM_rcp.nc' )\n",
    "toa_detr_ctrl = lin_detr_ts(toa_ctrl)\n",
    "toa_detr_rcp  = lin_detr_ts(toa_rcp )"
   ]
  },
  {
   "cell_type": "code",
   "execution_count": null,
   "metadata": {},
   "outputs": [],
   "source": [
    "# SST indices\n",
    "\n",
    "AMO_ctrl = xr.open_dataarray(f'{path_results}/SST/AMO_yrly_ctrl.nc', decode_times=False)\n",
    "AMO_rcp  = xr.open_dataarray(f'{path_results}/SST/AMO_yrly_rcp.nc' , decode_times=False)\n",
    "\n",
    "N12_ctrl = xr.open_dataarray(f'{path_results}/SST/Nino12_ctrl.nc', decode_times=False)\n",
    "N34_ctrl = xr.open_dataarray(f'{path_results}/SST/Nino34_ctrl.nc', decode_times=False)\n",
    "N12_rcp  = xr.open_dataarray(f'{path_results}/SST/Nino12_rcp.nc' , decode_times=False)\n",
    "N34_rcp  = xr.open_dataarray(f'{path_results}/SST/Nino34_rcp.nc' , decode_times=False)\n",
    "\n",
    "PDO_ctrl = xr.open_dataset(f'{path_results}/SST/NPac_ctrl.nc', decode_times=False)\n",
    "PDO_rcp  = xr.open_dataset(f'{path_results}/SST/NPac_rcp.nc' , decode_times=False)\n",
    "\n",
    "SOM_ctrl = xr.open_dataarray(f'{path_results}/SST/SOM_index_ctrl.nc', decode_times=False)\n",
    "SOM_rcp  = xr.open_dataarray(f'{path_results}/SST/SOM_index_rcp.nc' , decode_times=False)"
   ]
  },
  {
   "cell_type": "code",
   "execution_count": null,
   "metadata": {},
   "outputs": [],
   "source": [
    "ctrl   = xr.open_dataset(f'{path_samoc}/OHC/OHC_integrals_Global_Ocean_ctrl.nc'  , decode_times=False)\n",
    "ctrl_A = xr.open_dataset(f'{path_samoc}/OHC/OHC_integrals_Atlantic_Ocean_ctrl.nc', decode_times=False)\n",
    "ctrl_P = xr.open_dataset(f'{path_samoc}/OHC/OHC_integrals_Pacific_Ocean_ctrl.nc' , decode_times=False)\n",
    "ctrl_I = xr.open_dataset(f'{path_samoc}/OHC/OHC_integrals_Indian_Ocean_ctrl.nc'  , decode_times=False)\n",
    "ctrl_M = xr.open_dataset(f'{path_samoc}/OHC/OHC_integrals_Mediterranean_ctrl.nc' , decode_times=False)\n",
    "ctrl_S = xr.open_dataset(f'{path_samoc}/OHC/OHC_integrals_Southern_Ocean_ctrl.nc', decode_times=False)\n",
    "ctrl_N = xr.open_dataset(f'{path_samoc}/OHC/OHC_integrals_Arctic_Ocean_ctrl.nc'  , decode_times=False)\n",
    "\n",
    "# something is still wrong in CTRL year 205\n",
    "for ds in [ctrl, ctrl_A, ctrl_P, ctrl_I, ctrl_S, ctrl_M, ctrl_N]:\n",
    "    for field in ['OHC_global', 'OHC_global_levels', 'OHC_zonal', 'OHC_zonal_levels']:\n",
    "        ds[field][105] = (ds[field].sel({'time':204*365}) +\n",
    "                                           ds[field].sel({'time':206*365}) )/2\n",
    "\n",
    "rcp    = xr.open_dataset(f'{path_samoc}/OHC/OHC_integrals_Global_Ocean_rcp.nc'   , decode_times=False)\n",
    "rcp_A  = xr.open_dataset(f'{path_samoc}/OHC/OHC_integrals_Atlantic_Ocean_rcp.nc' , decode_times=False)\n",
    "rcp_P  = xr.open_dataset(f'{path_samoc}/OHC/OHC_integrals_Pacific_Ocean_rcp.nc'  , decode_times=False)\n",
    "rcp_I  = xr.open_dataset(f'{path_samoc}/OHC/OHC_integrals_Indian_Ocean_rcp.nc'   , decode_times=False)\n",
    "rcp_M  = xr.open_dataset(f'{path_samoc}/OHC/OHC_integrals_Mediterranean_rcp.nc'  , decode_times=False)\n",
    "rcp_S  = xr.open_dataset(f'{path_samoc}/OHC/OHC_integrals_Southern_Ocean_rcp.nc' , decode_times=False)\n",
    "rcp_N  = xr.open_dataset(f'{path_samoc}/OHC/OHC_integrals_Arctic_Ocean_rcp.nc'   , decode_times=False)"
   ]
  },
  {
   "cell_type": "code",
   "execution_count": null,
   "metadata": {},
   "outputs": [],
   "source": [
    "nT, nTOA, nOHC, nAMO, nENSO, nPDO, nSOM = 0,1,2,3,4,5,6\n",
    "n = 7\n",
    "\n",
    "f, ax = plt.subplots(n, 1, figsize=(12,15), sharex=True)\n",
    "hiatuses = [item for sublist in [Hiatuses('ctrl'), Hiatuses('rcp',-1700)] for item in sublist]\n",
    "for i in range(n):\n",
    "    ax[i].set_position([.09, 1-(i+1)*.95/n, .89, (1/n)*.95-.01])\n",
    "    ax[i].tick_params(labelsize=14)\n",
    "    ax[i].spines['right'].set_visible(False)\n",
    "    ax[i].spines['top'].set_visible(False)\n",
    "    ax[i].axhline(0, c='k', lw=.5)\n",
    "    ax[i].axvline(200, c='g', lw=.5)\n",
    "    ax[i].axvline(300, c='g', lw=.5)\n",
    "    for hiat in hiatuses:\n",
    "        ax[i].axvspan(hiat[0],hiat[1], alpha=.2)\n",
    "    \n",
    "    if i in [nAMO, nPDO, nSOM, nOHC, nTOA]:\n",
    "        ax[i].text(.01,0.04,'10 year running mean', transform=ax[i].transAxes, color='grey')\n",
    "\n",
    "ax[0].text(305, 0.25, 'RCP',  fontsize=16)\n",
    "ax[0].text(105, 0.25, 'CTRL', fontsize=16)\n",
    "        \n",
    "ax[nT].set_ylabel('trend anom. [K/dec]', fontsize=16)\n",
    "ax[nT].axhline(-.07, c='k', lw=.5, ls=':')\n",
    "ax[nT].axhline(-.17, c='k', lw=.5, ls=':')\n",
    "ax[nT].plot(gmst_trend_anom_ctrl.time/365     , gmst_trend_anom_ctrl.trend_10*10, c='C0', ls='--')\n",
    "ax[nT].plot(gmst_trend_anom_ctrl.time/365     , gmst_trend_anom_ctrl.trend_15*10, c='C0', ls='-' )\n",
    "ax[nT].plot(gmst_trend_anom_rcp .time/365-1700, gmst_trend_anom_rcp .trend_10*10, c='C1', ls='--')\n",
    "ax[nT].plot(gmst_trend_anom_rcp .time/365-1700, gmst_trend_anom_rcp .trend_15*10, c='C1', ls='-' )\n",
    "        \n",
    "ax[nAMO].set_ylabel('AMO index [K]', fontsize=16)\n",
    "ax[nAMO].plot(AMO_ctrl.time/365     , AMO_ctrl.rolling(time=10, center=True).mean())\n",
    "ax[nAMO].plot(AMO_rcp .time/365-1700, AMO_rcp .rolling(time=10, center=True).mean())\n",
    "\n",
    "ax[nENSO].set_ylabel('Nino3.4 index [K]', fontsize=16)\n",
    "ax[nENSO].plot(N34_ctrl.time/365     , N34_ctrl, lw=.9)\n",
    "ax[nENSO].plot(N34_rcp .time/365-1700, N34_rcp , lw=.9)\n",
    "\n",
    "ax[nPDO].set_ylabel('PDO index', fontsize=16)\n",
    "ax[nPDO].plot(PDO_ctrl.time/12+100, PDO_ctrl.pcs.rolling(time=120, center=True).mean())\n",
    "ax[nPDO].plot(PDO_rcp .time/12+300, PDO_rcp .pcs.rolling(time=120, center=True).mean())\n",
    "\n",
    "ax[nSOM].set_ylabel('SOM index [K]', fontsize=16)\n",
    "ax[nSOM].plot(SOM_ctrl.time/365     , SOM_ctrl.rolling(time=10, center=True).mean())\n",
    "ax[nSOM].plot(SOM_rcp .time/365-1700, SOM_rcp .rolling(time=10, center=True).mean())\n",
    "\n",
    "ax[nOHC].set_ylabel('OHC anomaly', fontsize=16)\n",
    "dss = [ctrl, ctrl_A, ctrl_P, ctrl_I, ctrl_S, ctrl_M]\n",
    "for i, ds in enumerate(dss):\n",
    "        qf = np.polyfit(ds.time , ds.OHC_global, 2)\n",
    "        detr = ds.OHC_global - (qf[0]*ds.time**2 + qf[1]*ds.time + qf[2])\n",
    "        ax[nOHC].plot(ds.time/365,\n",
    "                  (detr.rolling({'time':10}, center=True).mean())/1e21,\n",
    "                  c=colors[i], label=f'{labels[i]}', lw=lws[i])\n",
    "ax[nOHC].legend(ncol=6)\n",
    "dss = [rcp, rcp_A, rcp_P, rcp_I, rcp_S, rcp_M]\n",
    "for i, ds in enumerate(dss):\n",
    "        qf = np.polyfit(ds.time , ds.OHC_global, 2)\n",
    "        detr = ds.OHC_global - (qf[0]*ds.time**2 + qf[1]*ds.time + qf[2])\n",
    "        ax[nOHC].plot(ds.time/365-1700,\n",
    "                  (detr.rolling({'time':10}, center=True).mean())/1e21,\n",
    "                  c=colors[i], label=f'{labels[i]}', lw=lws[i])\n",
    "        \n",
    "ax[nTOA].set_ylabel('TOA [ZJ/yr]', fontsize=16)\n",
    "ax[nTOA].plot(toa_ctrl.time+100, toa_detr_ctrl.rolling(time=10, center=True).mean()*spy/1e21)\n",
    "ax[nTOA].plot(toa_rcp .time+300, toa_detr_rcp .rolling(time=10, center=True).mean()*spy/1e21)\n",
    "\n",
    "ax[-1].set_xlabel('time [years]', fontsize=16)\n",
    "ax[-1].set_xticks(np.arange(100,400,20))\n",
    "ax[-1].set_xlim((95,390))\n",
    "f.align_ylabels()\n",
    "# plt.tight_layout()\n",
    "plt.savefig(f'{path_results}/REGR/trend_anom_indices')"
   ]
  }
 ],
 "metadata": {
  "kernelspec": {
   "display_name": "Python 3",
   "language": "python",
   "name": "python3"
  },
  "language_info": {
   "codemirror_mode": {
    "name": "ipython",
    "version": 3
   },
   "file_extension": ".py",
   "mimetype": "text/x-python",
   "name": "python",
   "nbconvert_exporter": "python",
   "pygments_lexer": "ipython3",
   "version": "3.6.6"
  }
 },
 "nbformat": 4,
 "nbformat_minor": 2
}
